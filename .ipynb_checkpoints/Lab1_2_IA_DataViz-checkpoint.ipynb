{
 "cells": [
  {
   "cell_type": "markdown",
   "metadata": {},
   "source": [
    "# Travaux Pratiques Intelligence Artificielle: Lab1.2\n",
    "\n",
    "Python 4 Data Science: Introduction à la data visualisation avec Bokeh 🤖 🙌.\n",
    "\n",
    "## Objectifs du TP:\n",
    "\n",
    "> **Comprendre les concepts de base de la data visualisation avec Bokeh**\n",
    "\n",
    "> **Se familiariser avec les commandes les plus utilisées pour la visualisation des données en utilisant la libraire Bokeh et Pandas**\n",
    "\n",
    "> **Visualiser graphiquement les données du TP précédent.** \n",
    "\n",
    "> **Créer une application de visualisation de données (en Bonus)** \n",
    "\n",
    "\n",
    "\n",
    "<br> A la fin du TP vous devez **rendre ce notebook dans \"Assignment\" de Teams**. Le TP doit être travaillé en préférence en binôme.\n",
    "\n",
    "_Besoin d'aide? Laisser moi un Commentaire sur Teams_\n",
    "\n",
    "![green-divider](https://user-images.githubusercontent.com/7065401/52071924-c003ad80-2562-11e9-8297-1c6595f8a7ff.png)"
   ]
  },
  {
   "cell_type": "markdown",
   "metadata": {},
   "source": [
    "## A. Concepts de base"
   ]
  },
  {
   "cell_type": "markdown",
   "metadata": {},
   "source": [
    "L'objectif de cette section est de se familiariser avec les principes de base de data visualisation avec Python, Bokeh précisément. Bokeh est une librairie de visualisation destinée aux navigateur web modernes. Elle permet la construction de graphes élégants, concis, variés, et interactifs.\n",
    "\n",
    "Bokeh est basé sur l'idée qu'un graphe est construit une couche à la fois. Pour créer un graphe, on a besoin de créer en premier lieu la figure, puis ajouter les différents éléments (glyphs). Les glyphs sont des composants représentant les figures géométriques comme les lignes, cercles, rectanges etc. qui composent un plot Bokeh.\n",
    "\n",
    "Il y a deux méthodes pour la présentation d'un plot Bokeh:\n",
    "- output_file: où l'output est un fichier html\n",
    "- output_notebook: où l'output se fait au niveau du Jupyter notebook en cours d'utilisation.\n"
   ]
  },
  {
   "cell_type": "markdown",
   "metadata": {},
   "source": [
    "<br> Commençons par un simple exemple où on visualisera un line plot avec les Glyphs."
   ]
  },
  {
   "cell_type": "code",
   "execution_count": 99,
   "metadata": {},
   "outputs": [],
   "source": [
    "from bokeh.plotting import figure\n",
    "from bokeh.io import output_notebook, show"
   ]
  },
  {
   "cell_type": "code",
   "execution_count": 100,
   "metadata": {},
   "outputs": [
    {
     "data": {
      "text/html": [
       "\n",
       "    <div class=\"bk-root\">\n",
       "        <a href=\"https://bokeh.org\" target=\"_blank\" class=\"bk-logo bk-logo-small bk-logo-notebook\"></a>\n",
       "        <span id=\"4554\">Loading BokehJS ...</span>\n",
       "    </div>"
      ]
     },
     "metadata": {},
     "output_type": "display_data"
    },
    {
     "data": {
      "application/javascript": [
       "\n",
       "(function(root) {\n",
       "  function now() {\n",
       "    return new Date();\n",
       "  }\n",
       "\n",
       "  var force = true;\n",
       "\n",
       "  if (typeof root._bokeh_onload_callbacks === \"undefined\" || force === true) {\n",
       "    root._bokeh_onload_callbacks = [];\n",
       "    root._bokeh_is_loading = undefined;\n",
       "  }\n",
       "\n",
       "  var JS_MIME_TYPE = 'application/javascript';\n",
       "  var HTML_MIME_TYPE = 'text/html';\n",
       "  var EXEC_MIME_TYPE = 'application/vnd.bokehjs_exec.v0+json';\n",
       "  var CLASS_NAME = 'output_bokeh rendered_html';\n",
       "\n",
       "  /**\n",
       "   * Render data to the DOM node\n",
       "   */\n",
       "  function render(props, node) {\n",
       "    var script = document.createElement(\"script\");\n",
       "    node.appendChild(script);\n",
       "  }\n",
       "\n",
       "  /**\n",
       "   * Handle when an output is cleared or removed\n",
       "   */\n",
       "  function handleClearOutput(event, handle) {\n",
       "    var cell = handle.cell;\n",
       "\n",
       "    var id = cell.output_area._bokeh_element_id;\n",
       "    var server_id = cell.output_area._bokeh_server_id;\n",
       "    // Clean up Bokeh references\n",
       "    if (id != null && id in Bokeh.index) {\n",
       "      Bokeh.index[id].model.document.clear();\n",
       "      delete Bokeh.index[id];\n",
       "    }\n",
       "\n",
       "    if (server_id !== undefined) {\n",
       "      // Clean up Bokeh references\n",
       "      var cmd = \"from bokeh.io.state import curstate; print(curstate().uuid_to_server['\" + server_id + \"'].get_sessions()[0].document.roots[0]._id)\";\n",
       "      cell.notebook.kernel.execute(cmd, {\n",
       "        iopub: {\n",
       "          output: function(msg) {\n",
       "            var id = msg.content.text.trim();\n",
       "            if (id in Bokeh.index) {\n",
       "              Bokeh.index[id].model.document.clear();\n",
       "              delete Bokeh.index[id];\n",
       "            }\n",
       "          }\n",
       "        }\n",
       "      });\n",
       "      // Destroy server and session\n",
       "      var cmd = \"import bokeh.io.notebook as ion; ion.destroy_server('\" + server_id + \"')\";\n",
       "      cell.notebook.kernel.execute(cmd);\n",
       "    }\n",
       "  }\n",
       "\n",
       "  /**\n",
       "   * Handle when a new output is added\n",
       "   */\n",
       "  function handleAddOutput(event, handle) {\n",
       "    var output_area = handle.output_area;\n",
       "    var output = handle.output;\n",
       "\n",
       "    // limit handleAddOutput to display_data with EXEC_MIME_TYPE content only\n",
       "    if ((output.output_type != \"display_data\") || (!output.data.hasOwnProperty(EXEC_MIME_TYPE))) {\n",
       "      return\n",
       "    }\n",
       "\n",
       "    var toinsert = output_area.element.find(\".\" + CLASS_NAME.split(' ')[0]);\n",
       "\n",
       "    if (output.metadata[EXEC_MIME_TYPE][\"id\"] !== undefined) {\n",
       "      toinsert[toinsert.length - 1].firstChild.textContent = output.data[JS_MIME_TYPE];\n",
       "      // store reference to embed id on output_area\n",
       "      output_area._bokeh_element_id = output.metadata[EXEC_MIME_TYPE][\"id\"];\n",
       "    }\n",
       "    if (output.metadata[EXEC_MIME_TYPE][\"server_id\"] !== undefined) {\n",
       "      var bk_div = document.createElement(\"div\");\n",
       "      bk_div.innerHTML = output.data[HTML_MIME_TYPE];\n",
       "      var script_attrs = bk_div.children[0].attributes;\n",
       "      for (var i = 0; i < script_attrs.length; i++) {\n",
       "        toinsert[toinsert.length - 1].firstChild.setAttribute(script_attrs[i].name, script_attrs[i].value);\n",
       "        toinsert[toinsert.length - 1].firstChild.textContent = bk_div.children[0].textContent\n",
       "      }\n",
       "      // store reference to server id on output_area\n",
       "      output_area._bokeh_server_id = output.metadata[EXEC_MIME_TYPE][\"server_id\"];\n",
       "    }\n",
       "  }\n",
       "\n",
       "  function register_renderer(events, OutputArea) {\n",
       "\n",
       "    function append_mime(data, metadata, element) {\n",
       "      // create a DOM node to render to\n",
       "      var toinsert = this.create_output_subarea(\n",
       "        metadata,\n",
       "        CLASS_NAME,\n",
       "        EXEC_MIME_TYPE\n",
       "      );\n",
       "      this.keyboard_manager.register_events(toinsert);\n",
       "      // Render to node\n",
       "      var props = {data: data, metadata: metadata[EXEC_MIME_TYPE]};\n",
       "      render(props, toinsert[toinsert.length - 1]);\n",
       "      element.append(toinsert);\n",
       "      return toinsert\n",
       "    }\n",
       "\n",
       "    /* Handle when an output is cleared or removed */\n",
       "    events.on('clear_output.CodeCell', handleClearOutput);\n",
       "    events.on('delete.Cell', handleClearOutput);\n",
       "\n",
       "    /* Handle when a new output is added */\n",
       "    events.on('output_added.OutputArea', handleAddOutput);\n",
       "\n",
       "    /**\n",
       "     * Register the mime type and append_mime function with output_area\n",
       "     */\n",
       "    OutputArea.prototype.register_mime_type(EXEC_MIME_TYPE, append_mime, {\n",
       "      /* Is output safe? */\n",
       "      safe: true,\n",
       "      /* Index of renderer in `output_area.display_order` */\n",
       "      index: 0\n",
       "    });\n",
       "  }\n",
       "\n",
       "  // register the mime type if in Jupyter Notebook environment and previously unregistered\n",
       "  if (root.Jupyter !== undefined) {\n",
       "    var events = require('base/js/events');\n",
       "    var OutputArea = require('notebook/js/outputarea').OutputArea;\n",
       "\n",
       "    if (OutputArea.prototype.mime_types().indexOf(EXEC_MIME_TYPE) == -1) {\n",
       "      register_renderer(events, OutputArea);\n",
       "    }\n",
       "  }\n",
       "\n",
       "  \n",
       "  if (typeof (root._bokeh_timeout) === \"undefined\" || force === true) {\n",
       "    root._bokeh_timeout = Date.now() + 5000;\n",
       "    root._bokeh_failed_load = false;\n",
       "  }\n",
       "\n",
       "  var NB_LOAD_WARNING = {'data': {'text/html':\n",
       "     \"<div style='background-color: #fdd'>\\n\"+\n",
       "     \"<p>\\n\"+\n",
       "     \"BokehJS does not appear to have successfully loaded. If loading BokehJS from CDN, this \\n\"+\n",
       "     \"may be due to a slow or bad network connection. Possible fixes:\\n\"+\n",
       "     \"</p>\\n\"+\n",
       "     \"<ul>\\n\"+\n",
       "     \"<li>re-rerun `output_notebook()` to attempt to load from CDN again, or</li>\\n\"+\n",
       "     \"<li>use INLINE resources instead, as so:</li>\\n\"+\n",
       "     \"</ul>\\n\"+\n",
       "     \"<code>\\n\"+\n",
       "     \"from bokeh.resources import INLINE\\n\"+\n",
       "     \"output_notebook(resources=INLINE)\\n\"+\n",
       "     \"</code>\\n\"+\n",
       "     \"</div>\"}};\n",
       "\n",
       "  function display_loaded() {\n",
       "    var el = document.getElementById(\"4554\");\n",
       "    if (el != null) {\n",
       "      el.textContent = \"BokehJS is loading...\";\n",
       "    }\n",
       "    if (root.Bokeh !== undefined) {\n",
       "      if (el != null) {\n",
       "        el.textContent = \"BokehJS \" + root.Bokeh.version + \" successfully loaded.\";\n",
       "      }\n",
       "    } else if (Date.now() < root._bokeh_timeout) {\n",
       "      setTimeout(display_loaded, 100)\n",
       "    }\n",
       "  }\n",
       "\n",
       "\n",
       "  function run_callbacks() {\n",
       "    try {\n",
       "      root._bokeh_onload_callbacks.forEach(function(callback) {\n",
       "        if (callback != null)\n",
       "          callback();\n",
       "      });\n",
       "    } finally {\n",
       "      delete root._bokeh_onload_callbacks\n",
       "    }\n",
       "    console.debug(\"Bokeh: all callbacks have finished\");\n",
       "  }\n",
       "\n",
       "  function load_libs(css_urls, js_urls, callback) {\n",
       "    if (css_urls == null) css_urls = [];\n",
       "    if (js_urls == null) js_urls = [];\n",
       "\n",
       "    root._bokeh_onload_callbacks.push(callback);\n",
       "    if (root._bokeh_is_loading > 0) {\n",
       "      console.debug(\"Bokeh: BokehJS is being loaded, scheduling callback at\", now());\n",
       "      return null;\n",
       "    }\n",
       "    if (js_urls == null || js_urls.length === 0) {\n",
       "      run_callbacks();\n",
       "      return null;\n",
       "    }\n",
       "    console.debug(\"Bokeh: BokehJS not loaded, scheduling load and callback at\", now());\n",
       "    root._bokeh_is_loading = css_urls.length + js_urls.length;\n",
       "\n",
       "    function on_load() {\n",
       "      root._bokeh_is_loading--;\n",
       "      if (root._bokeh_is_loading === 0) {\n",
       "        console.debug(\"Bokeh: all BokehJS libraries/stylesheets loaded\");\n",
       "        run_callbacks()\n",
       "      }\n",
       "    }\n",
       "\n",
       "    function on_error() {\n",
       "      console.error(\"failed to load \" + url);\n",
       "    }\n",
       "\n",
       "    for (var i = 0; i < css_urls.length; i++) {\n",
       "      var url = css_urls[i];\n",
       "      const element = document.createElement(\"link\");\n",
       "      element.onload = on_load;\n",
       "      element.onerror = on_error;\n",
       "      element.rel = \"stylesheet\";\n",
       "      element.type = \"text/css\";\n",
       "      element.href = url;\n",
       "      console.debug(\"Bokeh: injecting link tag for BokehJS stylesheet: \", url);\n",
       "      document.body.appendChild(element);\n",
       "    }\n",
       "\n",
       "    const hashes = {\"https://cdn.bokeh.org/bokeh/release/bokeh-2.2.3.min.js\": \"T2yuo9Oe71Cz/I4X9Ac5+gpEa5a8PpJCDlqKYO0CfAuEszu1JrXLl8YugMqYe3sM\", \"https://cdn.bokeh.org/bokeh/release/bokeh-widgets-2.2.3.min.js\": \"98GDGJ0kOMCUMUePhksaQ/GYgB3+NH9h996V88sh3aOiUNX3N+fLXAtry6xctSZ6\", \"https://cdn.bokeh.org/bokeh/release/bokeh-tables-2.2.3.min.js\": \"89bArO+nlbP3sgakeHjCo1JYxYR5wufVgA3IbUvDY+K7w4zyxJqssu7wVnfeKCq8\"};\n",
       "\n",
       "    for (var i = 0; i < js_urls.length; i++) {\n",
       "      var url = js_urls[i];\n",
       "      var element = document.createElement('script');\n",
       "      element.onload = on_load;\n",
       "      element.onerror = on_error;\n",
       "      element.async = false;\n",
       "      element.src = url;\n",
       "      if (url in hashes) {\n",
       "        element.crossOrigin = \"anonymous\";\n",
       "        element.integrity = \"sha384-\" + hashes[url];\n",
       "      }\n",
       "      console.debug(\"Bokeh: injecting script tag for BokehJS library: \", url);\n",
       "      document.head.appendChild(element);\n",
       "    }\n",
       "  };\n",
       "\n",
       "  function inject_raw_css(css) {\n",
       "    const element = document.createElement(\"style\");\n",
       "    element.appendChild(document.createTextNode(css));\n",
       "    document.body.appendChild(element);\n",
       "  }\n",
       "\n",
       "  \n",
       "  var js_urls = [\"https://cdn.bokeh.org/bokeh/release/bokeh-2.2.3.min.js\", \"https://cdn.bokeh.org/bokeh/release/bokeh-widgets-2.2.3.min.js\", \"https://cdn.bokeh.org/bokeh/release/bokeh-tables-2.2.3.min.js\"];\n",
       "  var css_urls = [];\n",
       "  \n",
       "\n",
       "  var inline_js = [\n",
       "    function(Bokeh) {\n",
       "      Bokeh.set_log_level(\"info\");\n",
       "    },\n",
       "    function(Bokeh) {\n",
       "    \n",
       "    \n",
       "    }\n",
       "  ];\n",
       "\n",
       "  function run_inline_js() {\n",
       "    \n",
       "    if (root.Bokeh !== undefined || force === true) {\n",
       "      \n",
       "    for (var i = 0; i < inline_js.length; i++) {\n",
       "      inline_js[i].call(root, root.Bokeh);\n",
       "    }\n",
       "    if (force === true) {\n",
       "        display_loaded();\n",
       "      }} else if (Date.now() < root._bokeh_timeout) {\n",
       "      setTimeout(run_inline_js, 100);\n",
       "    } else if (!root._bokeh_failed_load) {\n",
       "      console.log(\"Bokeh: BokehJS failed to load within specified timeout.\");\n",
       "      root._bokeh_failed_load = true;\n",
       "    } else if (force !== true) {\n",
       "      var cell = $(document.getElementById(\"4554\")).parents('.cell').data().cell;\n",
       "      cell.output_area.append_execute_result(NB_LOAD_WARNING)\n",
       "    }\n",
       "\n",
       "  }\n",
       "\n",
       "  if (root._bokeh_is_loading === 0) {\n",
       "    console.debug(\"Bokeh: BokehJS loaded, going straight to plotting\");\n",
       "    run_inline_js();\n",
       "  } else {\n",
       "    load_libs(css_urls, js_urls, function() {\n",
       "      console.debug(\"Bokeh: BokehJS plotting callback run at\", now());\n",
       "      run_inline_js();\n",
       "    });\n",
       "  }\n",
       "}(window));"
      ],
      "application/vnd.bokehjs_load.v0+json": "\n(function(root) {\n  function now() {\n    return new Date();\n  }\n\n  var force = true;\n\n  if (typeof root._bokeh_onload_callbacks === \"undefined\" || force === true) {\n    root._bokeh_onload_callbacks = [];\n    root._bokeh_is_loading = undefined;\n  }\n\n  \n\n  \n  if (typeof (root._bokeh_timeout) === \"undefined\" || force === true) {\n    root._bokeh_timeout = Date.now() + 5000;\n    root._bokeh_failed_load = false;\n  }\n\n  var NB_LOAD_WARNING = {'data': {'text/html':\n     \"<div style='background-color: #fdd'>\\n\"+\n     \"<p>\\n\"+\n     \"BokehJS does not appear to have successfully loaded. If loading BokehJS from CDN, this \\n\"+\n     \"may be due to a slow or bad network connection. Possible fixes:\\n\"+\n     \"</p>\\n\"+\n     \"<ul>\\n\"+\n     \"<li>re-rerun `output_notebook()` to attempt to load from CDN again, or</li>\\n\"+\n     \"<li>use INLINE resources instead, as so:</li>\\n\"+\n     \"</ul>\\n\"+\n     \"<code>\\n\"+\n     \"from bokeh.resources import INLINE\\n\"+\n     \"output_notebook(resources=INLINE)\\n\"+\n     \"</code>\\n\"+\n     \"</div>\"}};\n\n  function display_loaded() {\n    var el = document.getElementById(\"4554\");\n    if (el != null) {\n      el.textContent = \"BokehJS is loading...\";\n    }\n    if (root.Bokeh !== undefined) {\n      if (el != null) {\n        el.textContent = \"BokehJS \" + root.Bokeh.version + \" successfully loaded.\";\n      }\n    } else if (Date.now() < root._bokeh_timeout) {\n      setTimeout(display_loaded, 100)\n    }\n  }\n\n\n  function run_callbacks() {\n    try {\n      root._bokeh_onload_callbacks.forEach(function(callback) {\n        if (callback != null)\n          callback();\n      });\n    } finally {\n      delete root._bokeh_onload_callbacks\n    }\n    console.debug(\"Bokeh: all callbacks have finished\");\n  }\n\n  function load_libs(css_urls, js_urls, callback) {\n    if (css_urls == null) css_urls = [];\n    if (js_urls == null) js_urls = [];\n\n    root._bokeh_onload_callbacks.push(callback);\n    if (root._bokeh_is_loading > 0) {\n      console.debug(\"Bokeh: BokehJS is being loaded, scheduling callback at\", now());\n      return null;\n    }\n    if (js_urls == null || js_urls.length === 0) {\n      run_callbacks();\n      return null;\n    }\n    console.debug(\"Bokeh: BokehJS not loaded, scheduling load and callback at\", now());\n    root._bokeh_is_loading = css_urls.length + js_urls.length;\n\n    function on_load() {\n      root._bokeh_is_loading--;\n      if (root._bokeh_is_loading === 0) {\n        console.debug(\"Bokeh: all BokehJS libraries/stylesheets loaded\");\n        run_callbacks()\n      }\n    }\n\n    function on_error() {\n      console.error(\"failed to load \" + url);\n    }\n\n    for (var i = 0; i < css_urls.length; i++) {\n      var url = css_urls[i];\n      const element = document.createElement(\"link\");\n      element.onload = on_load;\n      element.onerror = on_error;\n      element.rel = \"stylesheet\";\n      element.type = \"text/css\";\n      element.href = url;\n      console.debug(\"Bokeh: injecting link tag for BokehJS stylesheet: \", url);\n      document.body.appendChild(element);\n    }\n\n    const hashes = {\"https://cdn.bokeh.org/bokeh/release/bokeh-2.2.3.min.js\": \"T2yuo9Oe71Cz/I4X9Ac5+gpEa5a8PpJCDlqKYO0CfAuEszu1JrXLl8YugMqYe3sM\", \"https://cdn.bokeh.org/bokeh/release/bokeh-widgets-2.2.3.min.js\": \"98GDGJ0kOMCUMUePhksaQ/GYgB3+NH9h996V88sh3aOiUNX3N+fLXAtry6xctSZ6\", \"https://cdn.bokeh.org/bokeh/release/bokeh-tables-2.2.3.min.js\": \"89bArO+nlbP3sgakeHjCo1JYxYR5wufVgA3IbUvDY+K7w4zyxJqssu7wVnfeKCq8\"};\n\n    for (var i = 0; i < js_urls.length; i++) {\n      var url = js_urls[i];\n      var element = document.createElement('script');\n      element.onload = on_load;\n      element.onerror = on_error;\n      element.async = false;\n      element.src = url;\n      if (url in hashes) {\n        element.crossOrigin = \"anonymous\";\n        element.integrity = \"sha384-\" + hashes[url];\n      }\n      console.debug(\"Bokeh: injecting script tag for BokehJS library: \", url);\n      document.head.appendChild(element);\n    }\n  };\n\n  function inject_raw_css(css) {\n    const element = document.createElement(\"style\");\n    element.appendChild(document.createTextNode(css));\n    document.body.appendChild(element);\n  }\n\n  \n  var js_urls = [\"https://cdn.bokeh.org/bokeh/release/bokeh-2.2.3.min.js\", \"https://cdn.bokeh.org/bokeh/release/bokeh-widgets-2.2.3.min.js\", \"https://cdn.bokeh.org/bokeh/release/bokeh-tables-2.2.3.min.js\"];\n  var css_urls = [];\n  \n\n  var inline_js = [\n    function(Bokeh) {\n      Bokeh.set_log_level(\"info\");\n    },\n    function(Bokeh) {\n    \n    \n    }\n  ];\n\n  function run_inline_js() {\n    \n    if (root.Bokeh !== undefined || force === true) {\n      \n    for (var i = 0; i < inline_js.length; i++) {\n      inline_js[i].call(root, root.Bokeh);\n    }\n    if (force === true) {\n        display_loaded();\n      }} else if (Date.now() < root._bokeh_timeout) {\n      setTimeout(run_inline_js, 100);\n    } else if (!root._bokeh_failed_load) {\n      console.log(\"Bokeh: BokehJS failed to load within specified timeout.\");\n      root._bokeh_failed_load = true;\n    } else if (force !== true) {\n      var cell = $(document.getElementById(\"4554\")).parents('.cell').data().cell;\n      cell.output_area.append_execute_result(NB_LOAD_WARNING)\n    }\n\n  }\n\n  if (root._bokeh_is_loading === 0) {\n    console.debug(\"Bokeh: BokehJS loaded, going straight to plotting\");\n    run_inline_js();\n  } else {\n    load_libs(css_urls, js_urls, function() {\n      console.debug(\"Bokeh: BokehJS plotting callback run at\", now());\n      run_inline_js();\n    });\n  }\n}(window));"
     },
     "metadata": {},
     "output_type": "display_data"
    }
   ],
   "source": [
    "output_notebook()"
   ]
  },
  {
   "cell_type": "code",
   "execution_count": 101,
   "metadata": {},
   "outputs": [],
   "source": [
    "# Let's create a data arrays used for plotting the line plot\n",
    "x = [5,6,7,8,9,10]\n",
    "y = [1,2,3,4,5,6]"
   ]
  },
  {
   "cell_type": "markdown",
   "metadata": {},
   "source": [
    "Faire appel à la fonction Figure donne à Bokeh l'instruction de construire un graphe. On peut alors y ajouter les couches de glyphs."
   ]
  },
  {
   "cell_type": "code",
   "execution_count": 102,
   "metadata": {},
   "outputs": [],
   "source": [
    "# Faire appel à figure() pour créer la figure du plot\n",
    "p = figure(plot_width=400, plot_height=400)"
   ]
  },
  {
   "cell_type": "code",
   "execution_count": 103,
   "metadata": {},
   "outputs": [
    {
     "data": {
      "text/html": [
       "<div style=\"display: table;\"><div style=\"display: table-row;\"><div style=\"display: table-cell;\"><b title=\"bokeh.models.renderers.GlyphRenderer\">GlyphRenderer</b>(</div><div style=\"display: table-cell;\">id&nbsp;=&nbsp;'4589', <span id=\"4592\" style=\"cursor: pointer;\">&hellip;)</span></div></div><div class=\"4591\" style=\"display: none;\"><div style=\"display: table-cell;\"></div><div style=\"display: table-cell;\">data_source&nbsp;=&nbsp;ColumnDataSource(id='4586', ...),</div></div><div class=\"4591\" style=\"display: none;\"><div style=\"display: table-cell;\"></div><div style=\"display: table-cell;\">glyph&nbsp;=&nbsp;Line(id='4587', ...),</div></div><div class=\"4591\" style=\"display: none;\"><div style=\"display: table-cell;\"></div><div style=\"display: table-cell;\">hover_glyph&nbsp;=&nbsp;None,</div></div><div class=\"4591\" style=\"display: none;\"><div style=\"display: table-cell;\"></div><div style=\"display: table-cell;\">js_event_callbacks&nbsp;=&nbsp;{},</div></div><div class=\"4591\" style=\"display: none;\"><div style=\"display: table-cell;\"></div><div style=\"display: table-cell;\">js_property_callbacks&nbsp;=&nbsp;{},</div></div><div class=\"4591\" style=\"display: none;\"><div style=\"display: table-cell;\"></div><div style=\"display: table-cell;\">level&nbsp;=&nbsp;'glyph',</div></div><div class=\"4591\" style=\"display: none;\"><div style=\"display: table-cell;\"></div><div style=\"display: table-cell;\">muted&nbsp;=&nbsp;False,</div></div><div class=\"4591\" style=\"display: none;\"><div style=\"display: table-cell;\"></div><div style=\"display: table-cell;\">muted_glyph&nbsp;=&nbsp;None,</div></div><div class=\"4591\" style=\"display: none;\"><div style=\"display: table-cell;\"></div><div style=\"display: table-cell;\">name&nbsp;=&nbsp;None,</div></div><div class=\"4591\" style=\"display: none;\"><div style=\"display: table-cell;\"></div><div style=\"display: table-cell;\">nonselection_glyph&nbsp;=&nbsp;Line(id='4588', ...),</div></div><div class=\"4591\" style=\"display: none;\"><div style=\"display: table-cell;\"></div><div style=\"display: table-cell;\">selection_glyph&nbsp;=&nbsp;None,</div></div><div class=\"4591\" style=\"display: none;\"><div style=\"display: table-cell;\"></div><div style=\"display: table-cell;\">subscribed_events&nbsp;=&nbsp;[],</div></div><div class=\"4591\" style=\"display: none;\"><div style=\"display: table-cell;\"></div><div style=\"display: table-cell;\">tags&nbsp;=&nbsp;[],</div></div><div class=\"4591\" style=\"display: none;\"><div style=\"display: table-cell;\"></div><div style=\"display: table-cell;\">view&nbsp;=&nbsp;CDSView(id='4590', ...),</div></div><div class=\"4591\" style=\"display: none;\"><div style=\"display: table-cell;\"></div><div style=\"display: table-cell;\">visible&nbsp;=&nbsp;True,</div></div><div class=\"4591\" style=\"display: none;\"><div style=\"display: table-cell;\"></div><div style=\"display: table-cell;\">x_range_name&nbsp;=&nbsp;'default',</div></div><div class=\"4591\" style=\"display: none;\"><div style=\"display: table-cell;\"></div><div style=\"display: table-cell;\">y_range_name&nbsp;=&nbsp;'default')</div></div></div>\n",
       "<script>\n",
       "(function() {\n",
       "  var expanded = false;\n",
       "  var ellipsis = document.getElementById(\"4592\");\n",
       "  ellipsis.addEventListener(\"click\", function() {\n",
       "    var rows = document.getElementsByClassName(\"4591\");\n",
       "    for (var i = 0; i < rows.length; i++) {\n",
       "      var el = rows[i];\n",
       "      el.style.display = expanded ? \"none\" : \"table-row\";\n",
       "    }\n",
       "    ellipsis.innerHTML = expanded ? \"&hellip;)\" : \"&lsaquo;&lsaquo;&lsaquo;\";\n",
       "    expanded = !expanded;\n",
       "  });\n",
       "})();\n",
       "</script>\n"
      ],
      "text/plain": [
       "GlyphRenderer(id='4589', ...)"
      ]
     },
     "execution_count": 103,
     "metadata": {},
     "output_type": "execute_result"
    }
   ],
   "source": [
    "# Créer un line plot en utilisant la fonction line()\n",
    "p.line(x, y, line_width=2, color=\"orange\", alpha=0.5)"
   ]
  },
  {
   "cell_type": "code",
   "execution_count": 104,
   "metadata": {},
   "outputs": [
    {
     "data": {
      "text/html": [
       "<div style=\"display: table;\"><div style=\"display: table-row;\"><div style=\"display: table-cell;\"><b title=\"bokeh.models.renderers.GlyphRenderer\">GlyphRenderer</b>(</div><div style=\"display: table-cell;\">id&nbsp;=&nbsp;'4596', <span id=\"4599\" style=\"cursor: pointer;\">&hellip;)</span></div></div><div class=\"4598\" style=\"display: none;\"><div style=\"display: table-cell;\"></div><div style=\"display: table-cell;\">data_source&nbsp;=&nbsp;ColumnDataSource(id='4593', ...),</div></div><div class=\"4598\" style=\"display: none;\"><div style=\"display: table-cell;\"></div><div style=\"display: table-cell;\">glyph&nbsp;=&nbsp;Cross(id='4594', ...),</div></div><div class=\"4598\" style=\"display: none;\"><div style=\"display: table-cell;\"></div><div style=\"display: table-cell;\">hover_glyph&nbsp;=&nbsp;None,</div></div><div class=\"4598\" style=\"display: none;\"><div style=\"display: table-cell;\"></div><div style=\"display: table-cell;\">js_event_callbacks&nbsp;=&nbsp;{},</div></div><div class=\"4598\" style=\"display: none;\"><div style=\"display: table-cell;\"></div><div style=\"display: table-cell;\">js_property_callbacks&nbsp;=&nbsp;{},</div></div><div class=\"4598\" style=\"display: none;\"><div style=\"display: table-cell;\"></div><div style=\"display: table-cell;\">level&nbsp;=&nbsp;'glyph',</div></div><div class=\"4598\" style=\"display: none;\"><div style=\"display: table-cell;\"></div><div style=\"display: table-cell;\">muted&nbsp;=&nbsp;False,</div></div><div class=\"4598\" style=\"display: none;\"><div style=\"display: table-cell;\"></div><div style=\"display: table-cell;\">muted_glyph&nbsp;=&nbsp;None,</div></div><div class=\"4598\" style=\"display: none;\"><div style=\"display: table-cell;\"></div><div style=\"display: table-cell;\">name&nbsp;=&nbsp;None,</div></div><div class=\"4598\" style=\"display: none;\"><div style=\"display: table-cell;\"></div><div style=\"display: table-cell;\">nonselection_glyph&nbsp;=&nbsp;Cross(id='4595', ...),</div></div><div class=\"4598\" style=\"display: none;\"><div style=\"display: table-cell;\"></div><div style=\"display: table-cell;\">selection_glyph&nbsp;=&nbsp;None,</div></div><div class=\"4598\" style=\"display: none;\"><div style=\"display: table-cell;\"></div><div style=\"display: table-cell;\">subscribed_events&nbsp;=&nbsp;[],</div></div><div class=\"4598\" style=\"display: none;\"><div style=\"display: table-cell;\"></div><div style=\"display: table-cell;\">tags&nbsp;=&nbsp;[],</div></div><div class=\"4598\" style=\"display: none;\"><div style=\"display: table-cell;\"></div><div style=\"display: table-cell;\">view&nbsp;=&nbsp;CDSView(id='4597', ...),</div></div><div class=\"4598\" style=\"display: none;\"><div style=\"display: table-cell;\"></div><div style=\"display: table-cell;\">visible&nbsp;=&nbsp;True,</div></div><div class=\"4598\" style=\"display: none;\"><div style=\"display: table-cell;\"></div><div style=\"display: table-cell;\">x_range_name&nbsp;=&nbsp;'default',</div></div><div class=\"4598\" style=\"display: none;\"><div style=\"display: table-cell;\"></div><div style=\"display: table-cell;\">y_range_name&nbsp;=&nbsp;'default')</div></div></div>\n",
       "<script>\n",
       "(function() {\n",
       "  var expanded = false;\n",
       "  var ellipsis = document.getElementById(\"4599\");\n",
       "  ellipsis.addEventListener(\"click\", function() {\n",
       "    var rows = document.getElementsByClassName(\"4598\");\n",
       "    for (var i = 0; i < rows.length; i++) {\n",
       "      var el = rows[i];\n",
       "      el.style.display = expanded ? \"none\" : \"table-row\";\n",
       "    }\n",
       "    ellipsis.innerHTML = expanded ? \"&hellip;)\" : \"&lsaquo;&lsaquo;&lsaquo;\";\n",
       "    expanded = !expanded;\n",
       "  });\n",
       "})();\n",
       "</script>\n"
      ],
      "text/plain": [
       "GlyphRenderer(id='4596', ...)"
      ]
     },
     "execution_count": 104,
     "metadata": {},
     "output_type": "execute_result"
    }
   ],
   "source": [
    "# Créer des markers sur le line plot au niveau de l'intersection entre x et y\n",
    "p.cross(x, y, size=10, fill_color=\"blue\", fill_alpha=0.5)"
   ]
  },
  {
   "cell_type": "code",
   "execution_count": 105,
   "metadata": {},
   "outputs": [
    {
     "data": {
      "text/html": [
       "\n",
       "\n",
       "\n",
       "\n",
       "\n",
       "\n",
       "  <div class=\"bk-root\" id=\"fbf5081a-bb20-4daf-91c6-c5d5ffc7b123\" data-root-id=\"4555\"></div>\n"
      ]
     },
     "metadata": {},
     "output_type": "display_data"
    },
    {
     "data": {
      "application/javascript": [
       "(function(root) {\n",
       "  function embed_document(root) {\n",
       "    \n",
       "  var docs_json = {\"25451534-380d-4c94-b7f8-3677bb3d4e6c\":{\"roots\":{\"references\":[{\"attributes\":{\"below\":[{\"id\":\"4564\"}],\"center\":[{\"id\":\"4567\"},{\"id\":\"4571\"}],\"left\":[{\"id\":\"4568\"}],\"plot_height\":400,\"plot_width\":400,\"renderers\":[{\"id\":\"4589\"},{\"id\":\"4596\"}],\"title\":{\"id\":\"4740\"},\"toolbar\":{\"id\":\"4579\"},\"x_range\":{\"id\":\"4556\"},\"x_scale\":{\"id\":\"4560\"},\"y_range\":{\"id\":\"4558\"},\"y_scale\":{\"id\":\"4562\"}},\"id\":\"4555\",\"subtype\":\"Figure\",\"type\":\"Plot\"},{\"attributes\":{\"source\":{\"id\":\"4586\"}},\"id\":\"4590\",\"type\":\"CDSView\"},{\"attributes\":{},\"id\":\"4575\",\"type\":\"SaveTool\"},{\"attributes\":{},\"id\":\"4572\",\"type\":\"PanTool\"},{\"attributes\":{\"data\":{\"x\":[5,6,7,8,9,10],\"y\":[1,2,3,4,5,6]},\"selected\":{\"id\":\"4747\"},\"selection_policy\":{\"id\":\"4748\"}},\"id\":\"4593\",\"type\":\"ColumnDataSource\"},{\"attributes\":{\"overlay\":{\"id\":\"4578\"}},\"id\":\"4574\",\"type\":\"BoxZoomTool\"},{\"attributes\":{\"fill_alpha\":{\"value\":0.5},\"fill_color\":{\"value\":\"blue\"},\"line_color\":{\"value\":\"#1f77b4\"},\"size\":{\"units\":\"screen\",\"value\":10},\"x\":{\"field\":\"x\"},\"y\":{\"field\":\"y\"}},\"id\":\"4594\",\"type\":\"Cross\"},{\"attributes\":{\"formatter\":{\"id\":\"4743\"},\"ticker\":{\"id\":\"4569\"}},\"id\":\"4568\",\"type\":\"LinearAxis\"},{\"attributes\":{},\"id\":\"4569\",\"type\":\"BasicTicker\"},{\"attributes\":{},\"id\":\"4576\",\"type\":\"ResetTool\"},{\"attributes\":{\"axis\":{\"id\":\"4568\"},\"dimension\":1,\"ticker\":null},\"id\":\"4571\",\"type\":\"Grid\"},{\"attributes\":{\"active_drag\":\"auto\",\"active_inspect\":\"auto\",\"active_multi\":null,\"active_scroll\":\"auto\",\"active_tap\":\"auto\",\"tools\":[{\"id\":\"4572\"},{\"id\":\"4573\"},{\"id\":\"4574\"},{\"id\":\"4575\"},{\"id\":\"4576\"},{\"id\":\"4577\"}]},\"id\":\"4579\",\"type\":\"Toolbar\"},{\"attributes\":{\"line_alpha\":0.5,\"line_color\":\"orange\",\"line_width\":2,\"x\":{\"field\":\"x\"},\"y\":{\"field\":\"y\"}},\"id\":\"4587\",\"type\":\"Line\"},{\"attributes\":{},\"id\":\"4746\",\"type\":\"UnionRenderers\"},{\"attributes\":{},\"id\":\"4558\",\"type\":\"DataRange1d\"},{\"attributes\":{\"fill_alpha\":{\"value\":0.1},\"fill_color\":{\"value\":\"blue\"},\"line_alpha\":{\"value\":0.1},\"line_color\":{\"value\":\"#1f77b4\"},\"size\":{\"units\":\"screen\",\"value\":10},\"x\":{\"field\":\"x\"},\"y\":{\"field\":\"y\"}},\"id\":\"4595\",\"type\":\"Cross\"},{\"attributes\":{},\"id\":\"4577\",\"type\":\"HelpTool\"},{\"attributes\":{\"data_source\":{\"id\":\"4593\"},\"glyph\":{\"id\":\"4594\"},\"hover_glyph\":null,\"muted_glyph\":null,\"nonselection_glyph\":{\"id\":\"4595\"},\"selection_glyph\":null,\"view\":{\"id\":\"4597\"}},\"id\":\"4596\",\"type\":\"GlyphRenderer\"},{\"attributes\":{\"data_source\":{\"id\":\"4586\"},\"glyph\":{\"id\":\"4587\"},\"hover_glyph\":null,\"muted_glyph\":null,\"nonselection_glyph\":{\"id\":\"4588\"},\"selection_glyph\":null,\"view\":{\"id\":\"4590\"}},\"id\":\"4589\",\"type\":\"GlyphRenderer\"},{\"attributes\":{\"axis\":{\"id\":\"4564\"},\"ticker\":null},\"id\":\"4567\",\"type\":\"Grid\"},{\"attributes\":{},\"id\":\"4556\",\"type\":\"DataRange1d\"},{\"attributes\":{},\"id\":\"4573\",\"type\":\"WheelZoomTool\"},{\"attributes\":{\"formatter\":{\"id\":\"4741\"},\"ticker\":{\"id\":\"4565\"}},\"id\":\"4564\",\"type\":\"LinearAxis\"},{\"attributes\":{\"source\":{\"id\":\"4593\"}},\"id\":\"4597\",\"type\":\"CDSView\"},{\"attributes\":{},\"id\":\"4562\",\"type\":\"LinearScale\"},{\"attributes\":{\"bottom_units\":\"screen\",\"fill_alpha\":0.5,\"fill_color\":\"lightgrey\",\"left_units\":\"screen\",\"level\":\"overlay\",\"line_alpha\":1.0,\"line_color\":\"black\",\"line_dash\":[4,4],\"line_width\":2,\"right_units\":\"screen\",\"top_units\":\"screen\"},\"id\":\"4578\",\"type\":\"BoxAnnotation\"},{\"attributes\":{\"data\":{\"x\":[5,6,7,8,9,10],\"y\":[1,2,3,4,5,6]},\"selected\":{\"id\":\"4745\"},\"selection_policy\":{\"id\":\"4746\"}},\"id\":\"4586\",\"type\":\"ColumnDataSource\"},{\"attributes\":{},\"id\":\"4565\",\"type\":\"BasicTicker\"},{\"attributes\":{},\"id\":\"4560\",\"type\":\"LinearScale\"},{\"attributes\":{},\"id\":\"4741\",\"type\":\"BasicTickFormatter\"},{\"attributes\":{\"line_alpha\":0.1,\"line_color\":\"orange\",\"line_width\":2,\"x\":{\"field\":\"x\"},\"y\":{\"field\":\"y\"}},\"id\":\"4588\",\"type\":\"Line\"},{\"attributes\":{},\"id\":\"4748\",\"type\":\"UnionRenderers\"},{\"attributes\":{\"text\":\"\"},\"id\":\"4740\",\"type\":\"Title\"},{\"attributes\":{},\"id\":\"4743\",\"type\":\"BasicTickFormatter\"},{\"attributes\":{},\"id\":\"4747\",\"type\":\"Selection\"},{\"attributes\":{},\"id\":\"4745\",\"type\":\"Selection\"}],\"root_ids\":[\"4555\"]},\"title\":\"Bokeh Application\",\"version\":\"2.2.3\"}};\n",
       "  var render_items = [{\"docid\":\"25451534-380d-4c94-b7f8-3677bb3d4e6c\",\"root_ids\":[\"4555\"],\"roots\":{\"4555\":\"fbf5081a-bb20-4daf-91c6-c5d5ffc7b123\"}}];\n",
       "  root.Bokeh.embed.embed_items_notebook(docs_json, render_items);\n",
       "\n",
       "  }\n",
       "  if (root.Bokeh !== undefined) {\n",
       "    embed_document(root);\n",
       "  } else {\n",
       "    var attempts = 0;\n",
       "    var timer = setInterval(function(root) {\n",
       "      if (root.Bokeh !== undefined) {\n",
       "        clearInterval(timer);\n",
       "        embed_document(root);\n",
       "      } else {\n",
       "        attempts++;\n",
       "        if (attempts > 100) {\n",
       "          clearInterval(timer);\n",
       "          console.log(\"Bokeh: ERROR: Unable to run BokehJS code because BokehJS library is missing\");\n",
       "        }\n",
       "      }\n",
       "    }, 10, root)\n",
       "  }\n",
       "})(window);"
      ],
      "application/vnd.bokehjs_exec.v0+json": ""
     },
     "metadata": {
      "application/vnd.bokehjs_exec.v0+json": {
       "id": "4555"
      }
     },
     "output_type": "display_data"
    }
   ],
   "source": [
    "# Afficher le graphe au niveau de ce notebook\n",
    "show(p)"
   ]
  },
  {
   "cell_type": "markdown",
   "metadata": {},
   "source": [
    "On peut créer un scatter plot en utilisant x et y"
   ]
  },
  {
   "cell_type": "code",
   "execution_count": 106,
   "metadata": {},
   "outputs": [],
   "source": [
    "# Créer une nouvelle figure\n",
    "p2 = figure(plot_width=400, plot_height=400)"
   ]
  },
  {
   "cell_type": "code",
   "execution_count": 107,
   "metadata": {},
   "outputs": [
    {
     "data": {
      "text/html": [
       "<div style=\"display: table;\"><div style=\"display: table-row;\"><div style=\"display: table-cell;\"><b title=\"bokeh.models.renderers.GlyphRenderer\">GlyphRenderer</b>(</div><div style=\"display: table-cell;\">id&nbsp;=&nbsp;'4839', <span id=\"4842\" style=\"cursor: pointer;\">&hellip;)</span></div></div><div class=\"4841\" style=\"display: none;\"><div style=\"display: table-cell;\"></div><div style=\"display: table-cell;\">data_source&nbsp;=&nbsp;ColumnDataSource(id='4836', ...),</div></div><div class=\"4841\" style=\"display: none;\"><div style=\"display: table-cell;\"></div><div style=\"display: table-cell;\">glyph&nbsp;=&nbsp;CircleCross(id='4837', ...),</div></div><div class=\"4841\" style=\"display: none;\"><div style=\"display: table-cell;\"></div><div style=\"display: table-cell;\">hover_glyph&nbsp;=&nbsp;None,</div></div><div class=\"4841\" style=\"display: none;\"><div style=\"display: table-cell;\"></div><div style=\"display: table-cell;\">js_event_callbacks&nbsp;=&nbsp;{},</div></div><div class=\"4841\" style=\"display: none;\"><div style=\"display: table-cell;\"></div><div style=\"display: table-cell;\">js_property_callbacks&nbsp;=&nbsp;{},</div></div><div class=\"4841\" style=\"display: none;\"><div style=\"display: table-cell;\"></div><div style=\"display: table-cell;\">level&nbsp;=&nbsp;'glyph',</div></div><div class=\"4841\" style=\"display: none;\"><div style=\"display: table-cell;\"></div><div style=\"display: table-cell;\">muted&nbsp;=&nbsp;False,</div></div><div class=\"4841\" style=\"display: none;\"><div style=\"display: table-cell;\"></div><div style=\"display: table-cell;\">muted_glyph&nbsp;=&nbsp;None,</div></div><div class=\"4841\" style=\"display: none;\"><div style=\"display: table-cell;\"></div><div style=\"display: table-cell;\">name&nbsp;=&nbsp;None,</div></div><div class=\"4841\" style=\"display: none;\"><div style=\"display: table-cell;\"></div><div style=\"display: table-cell;\">nonselection_glyph&nbsp;=&nbsp;CircleCross(id='4838', ...),</div></div><div class=\"4841\" style=\"display: none;\"><div style=\"display: table-cell;\"></div><div style=\"display: table-cell;\">selection_glyph&nbsp;=&nbsp;None,</div></div><div class=\"4841\" style=\"display: none;\"><div style=\"display: table-cell;\"></div><div style=\"display: table-cell;\">subscribed_events&nbsp;=&nbsp;[],</div></div><div class=\"4841\" style=\"display: none;\"><div style=\"display: table-cell;\"></div><div style=\"display: table-cell;\">tags&nbsp;=&nbsp;[],</div></div><div class=\"4841\" style=\"display: none;\"><div style=\"display: table-cell;\"></div><div style=\"display: table-cell;\">view&nbsp;=&nbsp;CDSView(id='4840', ...),</div></div><div class=\"4841\" style=\"display: none;\"><div style=\"display: table-cell;\"></div><div style=\"display: table-cell;\">visible&nbsp;=&nbsp;True,</div></div><div class=\"4841\" style=\"display: none;\"><div style=\"display: table-cell;\"></div><div style=\"display: table-cell;\">x_range_name&nbsp;=&nbsp;'default',</div></div><div class=\"4841\" style=\"display: none;\"><div style=\"display: table-cell;\"></div><div style=\"display: table-cell;\">y_range_name&nbsp;=&nbsp;'default')</div></div></div>\n",
       "<script>\n",
       "(function() {\n",
       "  var expanded = false;\n",
       "  var ellipsis = document.getElementById(\"4842\");\n",
       "  ellipsis.addEventListener(\"click\", function() {\n",
       "    var rows = document.getElementsByClassName(\"4841\");\n",
       "    for (var i = 0; i < rows.length; i++) {\n",
       "      var el = rows[i];\n",
       "      el.style.display = expanded ? \"none\" : \"table-row\";\n",
       "    }\n",
       "    ellipsis.innerHTML = expanded ? \"&hellip;)\" : \"&lsaquo;&lsaquo;&lsaquo;\";\n",
       "    expanded = !expanded;\n",
       "  });\n",
       "})();\n",
       "</script>\n"
      ],
      "text/plain": [
       "GlyphRenderer(id='4839', ...)"
      ]
     },
     "execution_count": 107,
     "metadata": {},
     "output_type": "execute_result"
    }
   ],
   "source": [
    "# Afficher les points en utilisant un cirle marker\n",
    "p2.circle_cross(x, y, size=15, color=\"firebrick\", alpha=0.5 )"
   ]
  },
  {
   "cell_type": "code",
   "execution_count": 108,
   "metadata": {},
   "outputs": [
    {
     "data": {
      "text/html": [
       "\n",
       "\n",
       "\n",
       "\n",
       "\n",
       "\n",
       "  <div class=\"bk-root\" id=\"9dfa67f1-bac1-4898-b325-6a80dd174679\" data-root-id=\"4805\"></div>\n"
      ]
     },
     "metadata": {},
     "output_type": "display_data"
    },
    {
     "data": {
      "application/javascript": [
       "(function(root) {\n",
       "  function embed_document(root) {\n",
       "    \n",
       "  var docs_json = {\"ebe3ec5c-81e0-47ec-8c91-0348f356d5f6\":{\"roots\":{\"references\":[{\"attributes\":{\"below\":[{\"id\":\"4814\"}],\"center\":[{\"id\":\"4817\"},{\"id\":\"4821\"}],\"left\":[{\"id\":\"4818\"}],\"plot_height\":400,\"plot_width\":400,\"renderers\":[{\"id\":\"4839\"}],\"title\":{\"id\":\"4994\"},\"toolbar\":{\"id\":\"4829\"},\"x_range\":{\"id\":\"4806\"},\"x_scale\":{\"id\":\"4810\"},\"y_range\":{\"id\":\"4808\"},\"y_scale\":{\"id\":\"4812\"}},\"id\":\"4805\",\"subtype\":\"Figure\",\"type\":\"Plot\"},{\"attributes\":{},\"id\":\"4827\",\"type\":\"HelpTool\"},{\"attributes\":{},\"id\":\"4806\",\"type\":\"DataRange1d\"},{\"attributes\":{\"overlay\":{\"id\":\"4828\"}},\"id\":\"4824\",\"type\":\"BoxZoomTool\"},{\"attributes\":{},\"id\":\"5000\",\"type\":\"UnionRenderers\"},{\"attributes\":{},\"id\":\"4823\",\"type\":\"WheelZoomTool\"},{\"attributes\":{\"formatter\":{\"id\":\"4997\"},\"ticker\":{\"id\":\"4819\"}},\"id\":\"4818\",\"type\":\"LinearAxis\"},{\"attributes\":{},\"id\":\"4999\",\"type\":\"Selection\"},{\"attributes\":{\"fill_alpha\":{\"value\":0.5},\"fill_color\":{\"value\":\"firebrick\"},\"line_alpha\":{\"value\":0.5},\"line_color\":{\"value\":\"firebrick\"},\"size\":{\"units\":\"screen\",\"value\":15},\"x\":{\"field\":\"x\"},\"y\":{\"field\":\"y\"}},\"id\":\"4837\",\"type\":\"CircleCross\"},{\"attributes\":{\"data\":{\"x\":[5,6,7,8,9,10],\"y\":[1,2,3,4,5,6]},\"selected\":{\"id\":\"4999\"},\"selection_policy\":{\"id\":\"5000\"}},\"id\":\"4836\",\"type\":\"ColumnDataSource\"},{\"attributes\":{},\"id\":\"4810\",\"type\":\"LinearScale\"},{\"attributes\":{\"bottom_units\":\"screen\",\"fill_alpha\":0.5,\"fill_color\":\"lightgrey\",\"left_units\":\"screen\",\"level\":\"overlay\",\"line_alpha\":1.0,\"line_color\":\"black\",\"line_dash\":[4,4],\"line_width\":2,\"right_units\":\"screen\",\"top_units\":\"screen\"},\"id\":\"4828\",\"type\":\"BoxAnnotation\"},{\"attributes\":{\"fill_alpha\":{\"value\":0.1},\"fill_color\":{\"value\":\"firebrick\"},\"line_alpha\":{\"value\":0.1},\"line_color\":{\"value\":\"firebrick\"},\"size\":{\"units\":\"screen\",\"value\":15},\"x\":{\"field\":\"x\"},\"y\":{\"field\":\"y\"}},\"id\":\"4838\",\"type\":\"CircleCross\"},{\"attributes\":{\"data_source\":{\"id\":\"4836\"},\"glyph\":{\"id\":\"4837\"},\"hover_glyph\":null,\"muted_glyph\":null,\"nonselection_glyph\":{\"id\":\"4838\"},\"selection_glyph\":null,\"view\":{\"id\":\"4840\"}},\"id\":\"4839\",\"type\":\"GlyphRenderer\"},{\"attributes\":{\"formatter\":{\"id\":\"4995\"},\"ticker\":{\"id\":\"4815\"}},\"id\":\"4814\",\"type\":\"LinearAxis\"},{\"attributes\":{\"source\":{\"id\":\"4836\"}},\"id\":\"4840\",\"type\":\"CDSView\"},{\"attributes\":{},\"id\":\"4819\",\"type\":\"BasicTicker\"},{\"attributes\":{},\"id\":\"4995\",\"type\":\"BasicTickFormatter\"},{\"attributes\":{},\"id\":\"4826\",\"type\":\"ResetTool\"},{\"attributes\":{},\"id\":\"4822\",\"type\":\"PanTool\"},{\"attributes\":{},\"id\":\"4815\",\"type\":\"BasicTicker\"},{\"attributes\":{\"axis\":{\"id\":\"4814\"},\"ticker\":null},\"id\":\"4817\",\"type\":\"Grid\"},{\"attributes\":{},\"id\":\"4812\",\"type\":\"LinearScale\"},{\"attributes\":{\"text\":\"\"},\"id\":\"4994\",\"type\":\"Title\"},{\"attributes\":{},\"id\":\"4825\",\"type\":\"SaveTool\"},{\"attributes\":{},\"id\":\"4997\",\"type\":\"BasicTickFormatter\"},{\"attributes\":{},\"id\":\"4808\",\"type\":\"DataRange1d\"},{\"attributes\":{\"active_drag\":\"auto\",\"active_inspect\":\"auto\",\"active_multi\":null,\"active_scroll\":\"auto\",\"active_tap\":\"auto\",\"tools\":[{\"id\":\"4822\"},{\"id\":\"4823\"},{\"id\":\"4824\"},{\"id\":\"4825\"},{\"id\":\"4826\"},{\"id\":\"4827\"}]},\"id\":\"4829\",\"type\":\"Toolbar\"},{\"attributes\":{\"axis\":{\"id\":\"4818\"},\"dimension\":1,\"ticker\":null},\"id\":\"4821\",\"type\":\"Grid\"}],\"root_ids\":[\"4805\"]},\"title\":\"Bokeh Application\",\"version\":\"2.2.3\"}};\n",
       "  var render_items = [{\"docid\":\"ebe3ec5c-81e0-47ec-8c91-0348f356d5f6\",\"root_ids\":[\"4805\"],\"roots\":{\"4805\":\"9dfa67f1-bac1-4898-b325-6a80dd174679\"}}];\n",
       "  root.Bokeh.embed.embed_items_notebook(docs_json, render_items);\n",
       "\n",
       "  }\n",
       "  if (root.Bokeh !== undefined) {\n",
       "    embed_document(root);\n",
       "  } else {\n",
       "    var attempts = 0;\n",
       "    var timer = setInterval(function(root) {\n",
       "      if (root.Bokeh !== undefined) {\n",
       "        clearInterval(timer);\n",
       "        embed_document(root);\n",
       "      } else {\n",
       "        attempts++;\n",
       "        if (attempts > 100) {\n",
       "          clearInterval(timer);\n",
       "          console.log(\"Bokeh: ERROR: Unable to run BokehJS code because BokehJS library is missing\");\n",
       "        }\n",
       "      }\n",
       "    }, 10, root)\n",
       "  }\n",
       "})(window);"
      ],
      "application/vnd.bokehjs_exec.v0+json": ""
     },
     "metadata": {
      "application/vnd.bokehjs_exec.v0+json": {
       "id": "4805"
      }
     },
     "output_type": "display_data"
    }
   ],
   "source": [
    "# Afficher le graphe\n",
    "show(p2)"
   ]
  },
  {
   "cell_type": "markdown",
   "metadata": {},
   "source": [
    "Lors de la création d'un scatter plot, on peut choisir parmi les markers disponible sur Bokeh: \n",
    "- cross()\n",
    "- x()\n",
    "- diamond()\n",
    "- diamond_cross()\n",
    "- circle_x()\n",
    "- circle_cross()\n",
    "- triangle()\n",
    "- inverted_triangle()\n",
    "- square()\n",
    "- square_x()\n",
    "- square_cross()\n",
    "- asterisk()"
   ]
  },
  {
   "cell_type": "code",
   "execution_count": 109,
   "metadata": {},
   "outputs": [
    {
     "data": {
      "text/html": [
       "\n",
       "\n",
       "\n",
       "\n",
       "\n",
       "\n",
       "  <div class=\"bk-root\" id=\"5ba2f367-90a9-414b-888a-fcc1b363b0fa\" data-root-id=\"5047\"></div>\n"
      ]
     },
     "metadata": {},
     "output_type": "display_data"
    },
    {
     "data": {
      "application/javascript": [
       "(function(root) {\n",
       "  function embed_document(root) {\n",
       "    \n",
       "  var docs_json = {\"bb4ab4c9-539c-4e09-8816-c6a40299d3b5\":{\"roots\":{\"references\":[{\"attributes\":{\"below\":[{\"id\":\"5056\"}],\"center\":[{\"id\":\"5059\"},{\"id\":\"5063\"}],\"left\":[{\"id\":\"5060\"}],\"plot_height\":400,\"plot_width\":400,\"renderers\":[{\"id\":\"5081\"}],\"title\":{\"id\":\"5243\"},\"toolbar\":{\"id\":\"5071\"},\"x_range\":{\"id\":\"5048\"},\"x_scale\":{\"id\":\"5052\"},\"y_range\":{\"id\":\"5050\"},\"y_scale\":{\"id\":\"5054\"}},\"id\":\"5047\",\"subtype\":\"Figure\",\"type\":\"Plot\"},{\"attributes\":{},\"id\":\"5067\",\"type\":\"SaveTool\"},{\"attributes\":{\"data\":{\"x\":[5,6,7,8,9,10],\"y\":[1,2,3,4,5,6]},\"selected\":{\"id\":\"5248\"},\"selection_policy\":{\"id\":\"5249\"}},\"id\":\"5078\",\"type\":\"ColumnDataSource\"},{\"attributes\":{\"bottom_units\":\"screen\",\"fill_alpha\":0.5,\"fill_color\":\"lightgrey\",\"left_units\":\"screen\",\"level\":\"overlay\",\"line_alpha\":1.0,\"line_color\":\"black\",\"line_dash\":[4,4],\"line_width\":2,\"right_units\":\"screen\",\"top_units\":\"screen\"},\"id\":\"5070\",\"type\":\"BoxAnnotation\"},{\"attributes\":{},\"id\":\"5244\",\"type\":\"BasicTickFormatter\"},{\"attributes\":{},\"id\":\"5246\",\"type\":\"BasicTickFormatter\"},{\"attributes\":{},\"id\":\"5052\",\"type\":\"LinearScale\"},{\"attributes\":{},\"id\":\"5068\",\"type\":\"ResetTool\"},{\"attributes\":{\"text\":\"\"},\"id\":\"5243\",\"type\":\"Title\"},{\"attributes\":{},\"id\":\"5248\",\"type\":\"Selection\"},{\"attributes\":{\"fill_alpha\":{\"value\":0.5},\"fill_color\":{\"value\":\"orange\"},\"line_alpha\":{\"value\":0.5},\"line_color\":{\"value\":\"orange\"},\"size\":{\"units\":\"screen\",\"value\":20},\"x\":{\"field\":\"x\"},\"y\":{\"field\":\"y\"}},\"id\":\"5079\",\"type\":\"Diamond\"},{\"attributes\":{},\"id\":\"5048\",\"type\":\"DataRange1d\"},{\"attributes\":{},\"id\":\"5065\",\"type\":\"WheelZoomTool\"},{\"attributes\":{\"formatter\":{\"id\":\"5244\"},\"ticker\":{\"id\":\"5057\"}},\"id\":\"5056\",\"type\":\"LinearAxis\"},{\"attributes\":{\"formatter\":{\"id\":\"5246\"},\"ticker\":{\"id\":\"5061\"}},\"id\":\"5060\",\"type\":\"LinearAxis\"},{\"attributes\":{},\"id\":\"5050\",\"type\":\"DataRange1d\"},{\"attributes\":{},\"id\":\"5054\",\"type\":\"LinearScale\"},{\"attributes\":{},\"id\":\"5069\",\"type\":\"HelpTool\"},{\"attributes\":{},\"id\":\"5057\",\"type\":\"BasicTicker\"},{\"attributes\":{\"axis\":{\"id\":\"5056\"},\"ticker\":null},\"id\":\"5059\",\"type\":\"Grid\"},{\"attributes\":{\"axis\":{\"id\":\"5060\"},\"dimension\":1,\"ticker\":null},\"id\":\"5063\",\"type\":\"Grid\"},{\"attributes\":{},\"id\":\"5061\",\"type\":\"BasicTicker\"},{\"attributes\":{},\"id\":\"5249\",\"type\":\"UnionRenderers\"},{\"attributes\":{\"active_drag\":\"auto\",\"active_inspect\":\"auto\",\"active_multi\":null,\"active_scroll\":\"auto\",\"active_tap\":\"auto\",\"tools\":[{\"id\":\"5064\"},{\"id\":\"5065\"},{\"id\":\"5066\"},{\"id\":\"5067\"},{\"id\":\"5068\"},{\"id\":\"5069\"}]},\"id\":\"5071\",\"type\":\"Toolbar\"},{\"attributes\":{\"data_source\":{\"id\":\"5078\"},\"glyph\":{\"id\":\"5079\"},\"hover_glyph\":null,\"muted_glyph\":null,\"nonselection_glyph\":{\"id\":\"5080\"},\"selection_glyph\":null,\"view\":{\"id\":\"5082\"}},\"id\":\"5081\",\"type\":\"GlyphRenderer\"},{\"attributes\":{\"fill_alpha\":{\"value\":0.1},\"fill_color\":{\"value\":\"orange\"},\"line_alpha\":{\"value\":0.1},\"line_color\":{\"value\":\"orange\"},\"size\":{\"units\":\"screen\",\"value\":20},\"x\":{\"field\":\"x\"},\"y\":{\"field\":\"y\"}},\"id\":\"5080\",\"type\":\"Diamond\"},{\"attributes\":{},\"id\":\"5064\",\"type\":\"PanTool\"},{\"attributes\":{\"source\":{\"id\":\"5078\"}},\"id\":\"5082\",\"type\":\"CDSView\"},{\"attributes\":{\"overlay\":{\"id\":\"5070\"}},\"id\":\"5066\",\"type\":\"BoxZoomTool\"}],\"root_ids\":[\"5047\"]},\"title\":\"Bokeh Application\",\"version\":\"2.2.3\"}};\n",
       "  var render_items = [{\"docid\":\"bb4ab4c9-539c-4e09-8816-c6a40299d3b5\",\"root_ids\":[\"5047\"],\"roots\":{\"5047\":\"5ba2f367-90a9-414b-888a-fcc1b363b0fa\"}}];\n",
       "  root.Bokeh.embed.embed_items_notebook(docs_json, render_items);\n",
       "\n",
       "  }\n",
       "  if (root.Bokeh !== undefined) {\n",
       "    embed_document(root);\n",
       "  } else {\n",
       "    var attempts = 0;\n",
       "    var timer = setInterval(function(root) {\n",
       "      if (root.Bokeh !== undefined) {\n",
       "        clearInterval(timer);\n",
       "        embed_document(root);\n",
       "      } else {\n",
       "        attempts++;\n",
       "        if (attempts > 100) {\n",
       "          clearInterval(timer);\n",
       "          console.log(\"Bokeh: ERROR: Unable to run BokehJS code because BokehJS library is missing\");\n",
       "        }\n",
       "      }\n",
       "    }, 10, root)\n",
       "  }\n",
       "})(window);"
      ],
      "application/vnd.bokehjs_exec.v0+json": ""
     },
     "metadata": {
      "application/vnd.bokehjs_exec.v0+json": {
       "id": "5047"
      }
     },
     "output_type": "display_data"
    }
   ],
   "source": [
    "# Tester d'autre markers pour votre scatterplot\n",
    "p3 = figure(plot_width=400, plot_height=400)\n",
    "p3.diamond(x, y, size=20, color=\"orange\", alpha=0.5 )\n",
    "show(p3)"
   ]
  },
  {
   "cell_type": "markdown",
   "metadata": {},
   "source": [
    "<br> On peut également ajouter des libélés aux axes x et y en assignant les libélés dans la fonction figure."
   ]
  },
  {
   "cell_type": "code",
   "execution_count": 110,
   "metadata": {},
   "outputs": [
    {
     "data": {
      "text/html": [
       "\n",
       "\n",
       "\n",
       "\n",
       "\n",
       "\n",
       "  <div class=\"bk-root\" id=\"43c39bf1-8fdb-45da-91c4-1e841c43b862\" data-root-id=\"4555\"></div>\n"
      ]
     },
     "metadata": {},
     "output_type": "display_data"
    },
    {
     "data": {
      "application/javascript": [
       "(function(root) {\n",
       "  function embed_document(root) {\n",
       "    \n",
       "  var docs_json = {\"5c667d2c-10ca-45b2-8aeb-7a03d5d5bfd6\":{\"roots\":{\"references\":[{\"attributes\":{\"below\":[{\"id\":\"4564\"}],\"center\":[{\"id\":\"4567\"},{\"id\":\"4571\"}],\"left\":[{\"id\":\"4568\"}],\"plot_height\":400,\"plot_width\":400,\"renderers\":[{\"id\":\"4589\"},{\"id\":\"4596\"}],\"title\":{\"id\":\"4740\"},\"toolbar\":{\"id\":\"4579\"},\"x_range\":{\"id\":\"4556\"},\"x_scale\":{\"id\":\"4560\"},\"y_range\":{\"id\":\"4558\"},\"y_scale\":{\"id\":\"4562\"}},\"id\":\"4555\",\"subtype\":\"Figure\",\"type\":\"Plot\"},{\"attributes\":{\"source\":{\"id\":\"4586\"}},\"id\":\"4590\",\"type\":\"CDSView\"},{\"attributes\":{},\"id\":\"4575\",\"type\":\"SaveTool\"},{\"attributes\":{},\"id\":\"4572\",\"type\":\"PanTool\"},{\"attributes\":{\"data\":{\"x\":[5,6,7,8,9,10],\"y\":[1,2,3,4,5,6]},\"selected\":{\"id\":\"4747\"},\"selection_policy\":{\"id\":\"4748\"}},\"id\":\"4593\",\"type\":\"ColumnDataSource\"},{\"attributes\":{\"overlay\":{\"id\":\"4578\"}},\"id\":\"4574\",\"type\":\"BoxZoomTool\"},{\"attributes\":{\"fill_alpha\":{\"value\":0.5},\"fill_color\":{\"value\":\"blue\"},\"line_color\":{\"value\":\"#1f77b4\"},\"size\":{\"units\":\"screen\",\"value\":10},\"x\":{\"field\":\"x\"},\"y\":{\"field\":\"y\"}},\"id\":\"4594\",\"type\":\"Cross\"},{\"attributes\":{\"axis_label\":\"y\",\"formatter\":{\"id\":\"4743\"},\"ticker\":{\"id\":\"4569\"}},\"id\":\"4568\",\"type\":\"LinearAxis\"},{\"attributes\":{},\"id\":\"4569\",\"type\":\"BasicTicker\"},{\"attributes\":{},\"id\":\"4576\",\"type\":\"ResetTool\"},{\"attributes\":{\"axis\":{\"id\":\"4568\"},\"dimension\":1,\"ticker\":null},\"id\":\"4571\",\"type\":\"Grid\"},{\"attributes\":{\"active_drag\":\"auto\",\"active_inspect\":\"auto\",\"active_multi\":null,\"active_scroll\":\"auto\",\"active_tap\":\"auto\",\"tools\":[{\"id\":\"4572\"},{\"id\":\"4573\"},{\"id\":\"4574\"},{\"id\":\"4575\"},{\"id\":\"4576\"},{\"id\":\"4577\"}]},\"id\":\"4579\",\"type\":\"Toolbar\"},{\"attributes\":{\"line_alpha\":0.5,\"line_color\":\"orange\",\"line_width\":2,\"x\":{\"field\":\"x\"},\"y\":{\"field\":\"y\"}},\"id\":\"4587\",\"type\":\"Line\"},{\"attributes\":{},\"id\":\"4746\",\"type\":\"UnionRenderers\"},{\"attributes\":{},\"id\":\"4558\",\"type\":\"DataRange1d\"},{\"attributes\":{\"fill_alpha\":{\"value\":0.1},\"fill_color\":{\"value\":\"blue\"},\"line_alpha\":{\"value\":0.1},\"line_color\":{\"value\":\"#1f77b4\"},\"size\":{\"units\":\"screen\",\"value\":10},\"x\":{\"field\":\"x\"},\"y\":{\"field\":\"y\"}},\"id\":\"4595\",\"type\":\"Cross\"},{\"attributes\":{},\"id\":\"4577\",\"type\":\"HelpTool\"},{\"attributes\":{\"data_source\":{\"id\":\"4593\"},\"glyph\":{\"id\":\"4594\"},\"hover_glyph\":null,\"muted_glyph\":null,\"nonselection_glyph\":{\"id\":\"4595\"},\"selection_glyph\":null,\"view\":{\"id\":\"4597\"}},\"id\":\"4596\",\"type\":\"GlyphRenderer\"},{\"attributes\":{\"data_source\":{\"id\":\"4586\"},\"glyph\":{\"id\":\"4587\"},\"hover_glyph\":null,\"muted_glyph\":null,\"nonselection_glyph\":{\"id\":\"4588\"},\"selection_glyph\":null,\"view\":{\"id\":\"4590\"}},\"id\":\"4589\",\"type\":\"GlyphRenderer\"},{\"attributes\":{\"axis\":{\"id\":\"4564\"},\"ticker\":null},\"id\":\"4567\",\"type\":\"Grid\"},{\"attributes\":{},\"id\":\"4556\",\"type\":\"DataRange1d\"},{\"attributes\":{},\"id\":\"4573\",\"type\":\"WheelZoomTool\"},{\"attributes\":{\"axis_label\":\"x\",\"formatter\":{\"id\":\"4741\"},\"ticker\":{\"id\":\"4565\"}},\"id\":\"4564\",\"type\":\"LinearAxis\"},{\"attributes\":{\"source\":{\"id\":\"4593\"}},\"id\":\"4597\",\"type\":\"CDSView\"},{\"attributes\":{},\"id\":\"4562\",\"type\":\"LinearScale\"},{\"attributes\":{\"bottom_units\":\"screen\",\"fill_alpha\":0.5,\"fill_color\":\"lightgrey\",\"left_units\":\"screen\",\"level\":\"overlay\",\"line_alpha\":1.0,\"line_color\":\"black\",\"line_dash\":[4,4],\"line_width\":2,\"right_units\":\"screen\",\"top_units\":\"screen\"},\"id\":\"4578\",\"type\":\"BoxAnnotation\"},{\"attributes\":{\"data\":{\"x\":[5,6,7,8,9,10],\"y\":[1,2,3,4,5,6]},\"selected\":{\"id\":\"4745\"},\"selection_policy\":{\"id\":\"4746\"}},\"id\":\"4586\",\"type\":\"ColumnDataSource\"},{\"attributes\":{},\"id\":\"4565\",\"type\":\"BasicTicker\"},{\"attributes\":{},\"id\":\"4560\",\"type\":\"LinearScale\"},{\"attributes\":{},\"id\":\"4741\",\"type\":\"BasicTickFormatter\"},{\"attributes\":{\"line_alpha\":0.1,\"line_color\":\"orange\",\"line_width\":2,\"x\":{\"field\":\"x\"},\"y\":{\"field\":\"y\"}},\"id\":\"4588\",\"type\":\"Line\"},{\"attributes\":{},\"id\":\"4748\",\"type\":\"UnionRenderers\"},{\"attributes\":{\"text\":\"\"},\"id\":\"4740\",\"type\":\"Title\"},{\"attributes\":{},\"id\":\"4743\",\"type\":\"BasicTickFormatter\"},{\"attributes\":{},\"id\":\"4747\",\"type\":\"Selection\"},{\"attributes\":{},\"id\":\"4745\",\"type\":\"Selection\"}],\"root_ids\":[\"4555\"]},\"title\":\"Bokeh Application\",\"version\":\"2.2.3\"}};\n",
       "  var render_items = [{\"docid\":\"5c667d2c-10ca-45b2-8aeb-7a03d5d5bfd6\",\"root_ids\":[\"4555\"],\"roots\":{\"4555\":\"43c39bf1-8fdb-45da-91c4-1e841c43b862\"}}];\n",
       "  root.Bokeh.embed.embed_items_notebook(docs_json, render_items);\n",
       "\n",
       "  }\n",
       "  if (root.Bokeh !== undefined) {\n",
       "    embed_document(root);\n",
       "  } else {\n",
       "    var attempts = 0;\n",
       "    var timer = setInterval(function(root) {\n",
       "      if (root.Bokeh !== undefined) {\n",
       "        clearInterval(timer);\n",
       "        embed_document(root);\n",
       "      } else {\n",
       "        attempts++;\n",
       "        if (attempts > 100) {\n",
       "          clearInterval(timer);\n",
       "          console.log(\"Bokeh: ERROR: Unable to run BokehJS code because BokehJS library is missing\");\n",
       "        }\n",
       "      }\n",
       "    }, 10, root)\n",
       "  }\n",
       "})(window);"
      ],
      "application/vnd.bokehjs_exec.v0+json": ""
     },
     "metadata": {
      "application/vnd.bokehjs_exec.v0+json": {
       "id": "4555"
      }
     },
     "output_type": "display_data"
    }
   ],
   "source": [
    "# Ajouter les libélés aux axes x et y\n",
    "p.xaxis.axis_label = 'x'\n",
    "p.yaxis.axis_label = 'y'\n",
    "show(p)"
   ]
  },
  {
   "cell_type": "markdown",
   "metadata": {},
   "source": [
    "<br>Il est possible de changer la transparence d'une figure en utilisant l'attribut alpha dans la fonction circle. Ceci est utile quand nos points de données sont susceptibles de se croiser. L'argument alpha prend des valuers de 0 (complètement transparent) et 1 (complètement opaque). \n",
    "\n",
    "<br> Sur les visualisations Bokeh, on est fournit par défaut, dans la partie droite du graphe, avec des fonctionnalités de panning, zooming, selection, et sauvegarde. Ces outils sont configurables et très utiles pour l'exploration des données. \n",
    "<br><br> Vous pouvez tester d'autres visualisations à partir de la Bokeh Gallery: https://docs.bokeh.org/en/latest/docs/gallery.html#gallery"
   ]
  },
  {
   "cell_type": "markdown",
   "metadata": {},
   "source": [
    "<br> </br>\n",
    "## B. Visualisations à base des Dataframes Pandas"
   ]
  },
  {
   "cell_type": "markdown",
   "metadata": {},
   "source": [
    "Les dataframe Pandas sont fréquemment utilisées dans les projets data science. Même si Pandas offre quelques possibilités de visualisation des données (e.g. hist qu'on a vu dans TP1, boxplot...), les librairies spécialisées en Data visualisation sont plus adeptes aux challenges de construire des data viz conviviales, complexes et interactives. Bokeh supporte nativement les Pandas dataframe et offre des fonctionnalités qui aident à contruire des graphes interactifs en se basant sur leurs données.\n",
    "<br><br> Au niveau du TP1, on a créé des Heatmaps pour mieux visualiser les corrélations entre les différentes. On va reprendre les données des pistes musicales du TP1 et créer davantage de visualisations. "
   ]
  },
  {
   "cell_type": "code",
   "execution_count": 111,
   "metadata": {},
   "outputs": [],
   "source": [
    "import pandas as pd"
   ]
  },
  {
   "cell_type": "code",
   "execution_count": 112,
   "metadata": {},
   "outputs": [
    {
     "data": {
      "text/html": [
       "<div>\n",
       "<style scoped>\n",
       "    .dataframe tbody tr th:only-of-type {\n",
       "        vertical-align: middle;\n",
       "    }\n",
       "\n",
       "    .dataframe tbody tr th {\n",
       "        vertical-align: top;\n",
       "    }\n",
       "\n",
       "    .dataframe thead th {\n",
       "        text-align: right;\n",
       "    }\n",
       "</style>\n",
       "<table border=\"1\" class=\"dataframe\">\n",
       "  <thead>\n",
       "    <tr style=\"text-align: right;\">\n",
       "      <th></th>\n",
       "      <th>acousticness</th>\n",
       "      <th>artists</th>\n",
       "      <th>danceability</th>\n",
       "      <th>duration_ms</th>\n",
       "      <th>energy</th>\n",
       "      <th>explicit</th>\n",
       "      <th>id</th>\n",
       "      <th>instrumentalness</th>\n",
       "      <th>key</th>\n",
       "      <th>liveness</th>\n",
       "      <th>loudness</th>\n",
       "      <th>mode</th>\n",
       "      <th>name</th>\n",
       "      <th>popularity</th>\n",
       "      <th>release_date</th>\n",
       "      <th>speechiness</th>\n",
       "      <th>tempo</th>\n",
       "      <th>valence</th>\n",
       "      <th>year</th>\n",
       "    </tr>\n",
       "  </thead>\n",
       "  <tbody>\n",
       "    <tr>\n",
       "      <th>0</th>\n",
       "      <td>0.995</td>\n",
       "      <td>['Carl Woitschach']</td>\n",
       "      <td>0.708</td>\n",
       "      <td>158648</td>\n",
       "      <td>0.1950</td>\n",
       "      <td>0</td>\n",
       "      <td>6KbQ3uYMLKb5jDxLF7wYDD</td>\n",
       "      <td>0.563</td>\n",
       "      <td>10</td>\n",
       "      <td>0.1510</td>\n",
       "      <td>-12.428</td>\n",
       "      <td>1</td>\n",
       "      <td>Singende Bataillone 1. Teil</td>\n",
       "      <td>0</td>\n",
       "      <td>1928</td>\n",
       "      <td>0.0506</td>\n",
       "      <td>118.469</td>\n",
       "      <td>0.7790</td>\n",
       "      <td>1928</td>\n",
       "    </tr>\n",
       "    <tr>\n",
       "      <th>1</th>\n",
       "      <td>0.994</td>\n",
       "      <td>['Robert Schumann', 'Vladimir Horowitz']</td>\n",
       "      <td>0.379</td>\n",
       "      <td>282133</td>\n",
       "      <td>0.0135</td>\n",
       "      <td>0</td>\n",
       "      <td>6KuQTIu1KoTTkLXKrwlLPV</td>\n",
       "      <td>0.901</td>\n",
       "      <td>8</td>\n",
       "      <td>0.0763</td>\n",
       "      <td>-28.454</td>\n",
       "      <td>1</td>\n",
       "      <td>Fantasiestücke, Op. 111: Più tosto lento</td>\n",
       "      <td>0</td>\n",
       "      <td>1928</td>\n",
       "      <td>0.0462</td>\n",
       "      <td>83.972</td>\n",
       "      <td>0.0767</td>\n",
       "      <td>1928</td>\n",
       "    </tr>\n",
       "    <tr>\n",
       "      <th>2</th>\n",
       "      <td>0.604</td>\n",
       "      <td>['Seweryn Goszczyński']</td>\n",
       "      <td>0.749</td>\n",
       "      <td>104300</td>\n",
       "      <td>0.2200</td>\n",
       "      <td>0</td>\n",
       "      <td>6L63VW0PibdM1HDSBoqnoM</td>\n",
       "      <td>0.000</td>\n",
       "      <td>5</td>\n",
       "      <td>0.1190</td>\n",
       "      <td>-19.924</td>\n",
       "      <td>0</td>\n",
       "      <td>Chapter 1.18 - Zamek kaniowski</td>\n",
       "      <td>0</td>\n",
       "      <td>1928</td>\n",
       "      <td>0.9290</td>\n",
       "      <td>107.177</td>\n",
       "      <td>0.8800</td>\n",
       "      <td>1928</td>\n",
       "    </tr>\n",
       "    <tr>\n",
       "      <th>3</th>\n",
       "      <td>0.995</td>\n",
       "      <td>['Francisco Canaro']</td>\n",
       "      <td>0.781</td>\n",
       "      <td>180760</td>\n",
       "      <td>0.1300</td>\n",
       "      <td>0</td>\n",
       "      <td>6M94FkXd15sOAOQYRnWPN8</td>\n",
       "      <td>0.887</td>\n",
       "      <td>1</td>\n",
       "      <td>0.1110</td>\n",
       "      <td>-14.734</td>\n",
       "      <td>0</td>\n",
       "      <td>Bebamos Juntos - Instrumental (Remasterizado)</td>\n",
       "      <td>0</td>\n",
       "      <td>1928-09-25</td>\n",
       "      <td>0.0926</td>\n",
       "      <td>108.003</td>\n",
       "      <td>0.7200</td>\n",
       "      <td>1928</td>\n",
       "    </tr>\n",
       "    <tr>\n",
       "      <th>4</th>\n",
       "      <td>0.990</td>\n",
       "      <td>['Frédéric Chopin', 'Vladimir Horowitz']</td>\n",
       "      <td>0.210</td>\n",
       "      <td>687733</td>\n",
       "      <td>0.2040</td>\n",
       "      <td>0</td>\n",
       "      <td>6N6tiFZ9vLTSOIxkj8qKrd</td>\n",
       "      <td>0.908</td>\n",
       "      <td>11</td>\n",
       "      <td>0.0980</td>\n",
       "      <td>-16.829</td>\n",
       "      <td>1</td>\n",
       "      <td>Polonaise-Fantaisie in A-Flat Major, Op. 61</td>\n",
       "      <td>1</td>\n",
       "      <td>1928</td>\n",
       "      <td>0.0424</td>\n",
       "      <td>62.149</td>\n",
       "      <td>0.0693</td>\n",
       "      <td>1928</td>\n",
       "    </tr>\n",
       "  </tbody>\n",
       "</table>\n",
       "</div>"
      ],
      "text/plain": [
       "   acousticness                                   artists  danceability  \\\n",
       "0         0.995                       ['Carl Woitschach']         0.708   \n",
       "1         0.994  ['Robert Schumann', 'Vladimir Horowitz']         0.379   \n",
       "2         0.604                   ['Seweryn Goszczyński']         0.749   \n",
       "3         0.995                      ['Francisco Canaro']         0.781   \n",
       "4         0.990  ['Frédéric Chopin', 'Vladimir Horowitz']         0.210   \n",
       "\n",
       "   duration_ms  energy  explicit                      id  instrumentalness  \\\n",
       "0       158648  0.1950         0  6KbQ3uYMLKb5jDxLF7wYDD             0.563   \n",
       "1       282133  0.0135         0  6KuQTIu1KoTTkLXKrwlLPV             0.901   \n",
       "2       104300  0.2200         0  6L63VW0PibdM1HDSBoqnoM             0.000   \n",
       "3       180760  0.1300         0  6M94FkXd15sOAOQYRnWPN8             0.887   \n",
       "4       687733  0.2040         0  6N6tiFZ9vLTSOIxkj8qKrd             0.908   \n",
       "\n",
       "   key  liveness  loudness  mode  \\\n",
       "0   10    0.1510   -12.428     1   \n",
       "1    8    0.0763   -28.454     1   \n",
       "2    5    0.1190   -19.924     0   \n",
       "3    1    0.1110   -14.734     0   \n",
       "4   11    0.0980   -16.829     1   \n",
       "\n",
       "                                            name  popularity release_date  \\\n",
       "0                    Singende Bataillone 1. Teil           0         1928   \n",
       "1       Fantasiestücke, Op. 111: Più tosto lento           0         1928   \n",
       "2                 Chapter 1.18 - Zamek kaniowski           0         1928   \n",
       "3  Bebamos Juntos - Instrumental (Remasterizado)           0   1928-09-25   \n",
       "4    Polonaise-Fantaisie in A-Flat Major, Op. 61           1         1928   \n",
       "\n",
       "   speechiness    tempo  valence  year  \n",
       "0       0.0506  118.469   0.7790  1928  \n",
       "1       0.0462   83.972   0.0767  1928  \n",
       "2       0.9290  107.177   0.8800  1928  \n",
       "3       0.0926  108.003   0.7200  1928  \n",
       "4       0.0424   62.149   0.0693  1928  "
      ]
     },
     "execution_count": 112,
     "metadata": {},
     "output_type": "execute_result"
    }
   ],
   "source": [
    "# Lire le fichier data dans une dataframe\n",
    "df = pd.read_csv(\"music_dataset/data.csv\")\n",
    "df.head(5)"
   ]
  },
  {
   "cell_type": "markdown",
   "metadata": {},
   "source": [
    "Créer une nouvelle dataframe en filtrant sur un artiste de votre choix (de préférence un artiste avec plusieurs pistes sur plusieurs années)"
   ]
  },
  {
   "cell_type": "code",
   "execution_count": 113,
   "metadata": {},
   "outputs": [
    {
     "data": {
      "text/html": [
       "<div>\n",
       "<style scoped>\n",
       "    .dataframe tbody tr th:only-of-type {\n",
       "        vertical-align: middle;\n",
       "    }\n",
       "\n",
       "    .dataframe tbody tr th {\n",
       "        vertical-align: top;\n",
       "    }\n",
       "\n",
       "    .dataframe thead th {\n",
       "        text-align: right;\n",
       "    }\n",
       "</style>\n",
       "<table border=\"1\" class=\"dataframe\">\n",
       "  <thead>\n",
       "    <tr style=\"text-align: right;\">\n",
       "      <th></th>\n",
       "      <th>acousticness</th>\n",
       "      <th>artists</th>\n",
       "      <th>danceability</th>\n",
       "      <th>duration_ms</th>\n",
       "      <th>energy</th>\n",
       "      <th>explicit</th>\n",
       "      <th>id</th>\n",
       "      <th>instrumentalness</th>\n",
       "      <th>key</th>\n",
       "      <th>liveness</th>\n",
       "      <th>loudness</th>\n",
       "      <th>mode</th>\n",
       "      <th>name</th>\n",
       "      <th>popularity</th>\n",
       "      <th>release_date</th>\n",
       "      <th>speechiness</th>\n",
       "      <th>tempo</th>\n",
       "      <th>valence</th>\n",
       "      <th>year</th>\n",
       "    </tr>\n",
       "  </thead>\n",
       "  <tbody>\n",
       "    <tr>\n",
       "      <th>6178</th>\n",
       "      <td>0.3990</td>\n",
       "      <td>['JAY-Z', 'Eminem']</td>\n",
       "      <td>0.561</td>\n",
       "      <td>337760</td>\n",
       "      <td>0.774</td>\n",
       "      <td>1</td>\n",
       "      <td>1eAZcqDmiUE57YdeElYbMd</td>\n",
       "      <td>0.000002</td>\n",
       "      <td>1</td>\n",
       "      <td>0.1890</td>\n",
       "      <td>-3.144</td>\n",
       "      <td>0</td>\n",
       "      <td>Renegade</td>\n",
       "      <td>41</td>\n",
       "      <td>2001-09-11</td>\n",
       "      <td>0.4470</td>\n",
       "      <td>77.621</td>\n",
       "      <td>0.820</td>\n",
       "      <td>2001</td>\n",
       "    </tr>\n",
       "    <tr>\n",
       "      <th>6281</th>\n",
       "      <td>0.0920</td>\n",
       "      <td>['Obie Trice', '50 Cent', 'Eminem']</td>\n",
       "      <td>0.713</td>\n",
       "      <td>270747</td>\n",
       "      <td>0.517</td>\n",
       "      <td>1</td>\n",
       "      <td>0jRj0owDUMxxbmz2qkgtSC</td>\n",
       "      <td>0.000006</td>\n",
       "      <td>7</td>\n",
       "      <td>0.1340</td>\n",
       "      <td>-5.403</td>\n",
       "      <td>1</td>\n",
       "      <td>Love Me</td>\n",
       "      <td>42</td>\n",
       "      <td>2002-10-29</td>\n",
       "      <td>0.2370</td>\n",
       "      <td>80.986</td>\n",
       "      <td>0.267</td>\n",
       "      <td>2002</td>\n",
       "    </tr>\n",
       "    <tr>\n",
       "      <th>6576</th>\n",
       "      <td>0.0507</td>\n",
       "      <td>['Eminem', 'Nate Dogg']</td>\n",
       "      <td>0.963</td>\n",
       "      <td>274440</td>\n",
       "      <td>0.643</td>\n",
       "      <td>1</td>\n",
       "      <td>64649mwn5MP4gz1eIOAerx</td>\n",
       "      <td>0.000049</td>\n",
       "      <td>1</td>\n",
       "      <td>0.1570</td>\n",
       "      <td>-5.785</td>\n",
       "      <td>0</td>\n",
       "      <td>Shake That</td>\n",
       "      <td>48</td>\n",
       "      <td>2005-12-06</td>\n",
       "      <td>0.1170</td>\n",
       "      <td>107.005</td>\n",
       "      <td>0.534</td>\n",
       "      <td>2005</td>\n",
       "    </tr>\n",
       "    <tr>\n",
       "      <th>6581</th>\n",
       "      <td>0.0337</td>\n",
       "      <td>['Eminem']</td>\n",
       "      <td>0.950</td>\n",
       "      <td>284800</td>\n",
       "      <td>0.651</td>\n",
       "      <td>1</td>\n",
       "      <td>7Bi0aRtNAdchLnVBPjDrcx</td>\n",
       "      <td>0.000000</td>\n",
       "      <td>5</td>\n",
       "      <td>0.0424</td>\n",
       "      <td>-4.226</td>\n",
       "      <td>0</td>\n",
       "      <td>The Real Slim Shady</td>\n",
       "      <td>48</td>\n",
       "      <td>2005-12-06</td>\n",
       "      <td>0.0547</td>\n",
       "      <td>104.495</td>\n",
       "      <td>0.777</td>\n",
       "      <td>2005</td>\n",
       "    </tr>\n",
       "    <tr>\n",
       "      <th>6648</th>\n",
       "      <td>0.0537</td>\n",
       "      <td>['Eminem']</td>\n",
       "      <td>0.619</td>\n",
       "      <td>281133</td>\n",
       "      <td>0.746</td>\n",
       "      <td>1</td>\n",
       "      <td>18TtVZgD09HpU7lUXR0kPI</td>\n",
       "      <td>0.000000</td>\n",
       "      <td>10</td>\n",
       "      <td>0.2950</td>\n",
       "      <td>-5.479</td>\n",
       "      <td>0</td>\n",
       "      <td>When I'm Gone</td>\n",
       "      <td>48</td>\n",
       "      <td>2005-12-06</td>\n",
       "      <td>0.3600</td>\n",
       "      <td>149.944</td>\n",
       "      <td>0.757</td>\n",
       "      <td>2005</td>\n",
       "    </tr>\n",
       "  </tbody>\n",
       "</table>\n",
       "</div>"
      ],
      "text/plain": [
       "      acousticness                              artists  danceability  \\\n",
       "6178        0.3990                  ['JAY-Z', 'Eminem']         0.561   \n",
       "6281        0.0920  ['Obie Trice', '50 Cent', 'Eminem']         0.713   \n",
       "6576        0.0507              ['Eminem', 'Nate Dogg']         0.963   \n",
       "6581        0.0337                           ['Eminem']         0.950   \n",
       "6648        0.0537                           ['Eminem']         0.619   \n",
       "\n",
       "      duration_ms  energy  explicit                      id  instrumentalness  \\\n",
       "6178       337760   0.774         1  1eAZcqDmiUE57YdeElYbMd          0.000002   \n",
       "6281       270747   0.517         1  0jRj0owDUMxxbmz2qkgtSC          0.000006   \n",
       "6576       274440   0.643         1  64649mwn5MP4gz1eIOAerx          0.000049   \n",
       "6581       284800   0.651         1  7Bi0aRtNAdchLnVBPjDrcx          0.000000   \n",
       "6648       281133   0.746         1  18TtVZgD09HpU7lUXR0kPI          0.000000   \n",
       "\n",
       "      key  liveness  loudness  mode                 name  popularity  \\\n",
       "6178    1    0.1890    -3.144     0             Renegade          41   \n",
       "6281    7    0.1340    -5.403     1              Love Me          42   \n",
       "6576    1    0.1570    -5.785     0           Shake That          48   \n",
       "6581    5    0.0424    -4.226     0  The Real Slim Shady          48   \n",
       "6648   10    0.2950    -5.479     0        When I'm Gone          48   \n",
       "\n",
       "     release_date  speechiness    tempo  valence  year  \n",
       "6178   2001-09-11       0.4470   77.621    0.820  2001  \n",
       "6281   2002-10-29       0.2370   80.986    0.267  2002  \n",
       "6576   2005-12-06       0.1170  107.005    0.534  2005  \n",
       "6581   2005-12-06       0.0547  104.495    0.777  2005  \n",
       "6648   2005-12-06       0.3600  149.944    0.757  2005  "
      ]
     },
     "execution_count": 113,
     "metadata": {},
     "output_type": "execute_result"
    }
   ],
   "source": [
    "df_eminem = df[df[\"artists\"].str.contains(\"Eminem\")]\n",
    "df_eminem.head()"
   ]
  },
  {
   "cell_type": "markdown",
   "metadata": {},
   "source": [
    "Il est possible de créer une série chronologique basée sur une Pandas dataframe. Une série chronologique est un ensemble de données dont les valeurs sont mesurées à différents moments. Avec Pandas, on peut facilement organiser, transformer, analyser et visualiser les données de séries chronologiques à n'importe quel niveau de granularité - en examinant les détails pendant des périodes d'intérêt spécifiques et en effectuant un zoom arrière pour explorer les variations à différentes échelles de temps, telles que des agrégations mensuelles ou annuelles, modèles récurrents et tendances à long terme.\n"
   ]
  },
  {
   "cell_type": "code",
   "execution_count": 114,
   "metadata": {},
   "outputs": [
    {
     "name": "stderr",
     "output_type": "stream",
     "text": [
      "<ipython-input-114-b04e85a87e38>:2: SettingWithCopyWarning: \n",
      "A value is trying to be set on a copy of a slice from a DataFrame.\n",
      "Try using .loc[row_indexer,col_indexer] = value instead\n",
      "\n",
      "See the caveats in the documentation: https://pandas.pydata.org/pandas-docs/stable/user_guide/indexing.html#returning-a-view-versus-a-copy\n",
      "  df_eminem[\"release_date\"] = pd.to_datetime(df_eminem[\"release_date\"])\n"
     ]
    },
    {
     "data": {
      "text/plain": [
       "acousticness               float64\n",
       "artists                     object\n",
       "danceability               float64\n",
       "duration_ms                  int64\n",
       "energy                     float64\n",
       "explicit                     int64\n",
       "id                          object\n",
       "instrumentalness           float64\n",
       "key                          int64\n",
       "liveness                   float64\n",
       "loudness                   float64\n",
       "mode                         int64\n",
       "name                        object\n",
       "popularity                   int64\n",
       "release_date        datetime64[ns]\n",
       "speechiness                float64\n",
       "tempo                      float64\n",
       "valence                    float64\n",
       "year                         int64\n",
       "dtype: object"
      ]
     },
     "execution_count": 114,
     "metadata": {},
     "output_type": "execute_result"
    }
   ],
   "source": [
    "# convertir la colonne release_date en une date\n",
    "df_eminem[\"release_date\"] = pd.to_datetime(df_eminem[\"release_date\"])\n",
    "df_eminem.dtypes"
   ]
  },
  {
   "cell_type": "code",
   "execution_count": 115,
   "metadata": {
    "scrolled": true
   },
   "outputs": [
    {
     "data": {
      "text/html": [
       "<div>\n",
       "<style scoped>\n",
       "    .dataframe tbody tr th:only-of-type {\n",
       "        vertical-align: middle;\n",
       "    }\n",
       "\n",
       "    .dataframe tbody tr th {\n",
       "        vertical-align: top;\n",
       "    }\n",
       "\n",
       "    .dataframe thead th {\n",
       "        text-align: right;\n",
       "    }\n",
       "</style>\n",
       "<table border=\"1\" class=\"dataframe\">\n",
       "  <thead>\n",
       "    <tr style=\"text-align: right;\">\n",
       "      <th></th>\n",
       "      <th>acousticness</th>\n",
       "      <th>danceability</th>\n",
       "      <th>duration_ms</th>\n",
       "      <th>energy</th>\n",
       "      <th>explicit</th>\n",
       "      <th>instrumentalness</th>\n",
       "      <th>key</th>\n",
       "      <th>liveness</th>\n",
       "      <th>loudness</th>\n",
       "      <th>mode</th>\n",
       "      <th>popularity</th>\n",
       "      <th>speechiness</th>\n",
       "      <th>tempo</th>\n",
       "      <th>valence</th>\n",
       "      <th>year</th>\n",
       "    </tr>\n",
       "    <tr>\n",
       "      <th>release_date</th>\n",
       "      <th></th>\n",
       "      <th></th>\n",
       "      <th></th>\n",
       "      <th></th>\n",
       "      <th></th>\n",
       "      <th></th>\n",
       "      <th></th>\n",
       "      <th></th>\n",
       "      <th></th>\n",
       "      <th></th>\n",
       "      <th></th>\n",
       "      <th></th>\n",
       "      <th></th>\n",
       "      <th></th>\n",
       "      <th></th>\n",
       "    </tr>\n",
       "  </thead>\n",
       "  <tbody>\n",
       "    <tr>\n",
       "      <th>2020-03-27</th>\n",
       "      <td>0.354000</td>\n",
       "      <td>0.585000</td>\n",
       "      <td>261773.000000</td>\n",
       "      <td>0.594000</td>\n",
       "      <td>1.0</td>\n",
       "      <td>0.000054</td>\n",
       "      <td>9.000000</td>\n",
       "      <td>0.092100</td>\n",
       "      <td>-5.342000</td>\n",
       "      <td>1.000000</td>\n",
       "      <td>72.000000</td>\n",
       "      <td>0.332000</td>\n",
       "      <td>184.013000</td>\n",
       "      <td>0.138000</td>\n",
       "      <td>2020.0</td>\n",
       "    </tr>\n",
       "    <tr>\n",
       "      <th>2020-01-17</th>\n",
       "      <td>0.055621</td>\n",
       "      <td>0.752118</td>\n",
       "      <td>222890.176471</td>\n",
       "      <td>0.729529</td>\n",
       "      <td>1.0</td>\n",
       "      <td>0.000408</td>\n",
       "      <td>4.647059</td>\n",
       "      <td>0.317624</td>\n",
       "      <td>-5.084588</td>\n",
       "      <td>0.470588</td>\n",
       "      <td>71.588235</td>\n",
       "      <td>0.215747</td>\n",
       "      <td>128.641353</td>\n",
       "      <td>0.415012</td>\n",
       "      <td>2020.0</td>\n",
       "    </tr>\n",
       "    <tr>\n",
       "      <th>2019-07-12</th>\n",
       "      <td>0.135000</td>\n",
       "      <td>0.852000</td>\n",
       "      <td>207760.000000</td>\n",
       "      <td>0.666000</td>\n",
       "      <td>1.0</td>\n",
       "      <td>0.000000</td>\n",
       "      <td>11.000000</td>\n",
       "      <td>0.798000</td>\n",
       "      <td>-6.923000</td>\n",
       "      <td>0.000000</td>\n",
       "      <td>73.000000</td>\n",
       "      <td>0.184000</td>\n",
       "      <td>91.046000</td>\n",
       "      <td>0.726000</td>\n",
       "      <td>2019.0</td>\n",
       "    </tr>\n",
       "    <tr>\n",
       "      <th>2019-05-10</th>\n",
       "      <td>0.137000</td>\n",
       "      <td>0.694000</td>\n",
       "      <td>245387.000000</td>\n",
       "      <td>0.759000</td>\n",
       "      <td>1.0</td>\n",
       "      <td>0.000000</td>\n",
       "      <td>10.000000</td>\n",
       "      <td>0.167000</td>\n",
       "      <td>-5.667000</td>\n",
       "      <td>0.000000</td>\n",
       "      <td>75.000000</td>\n",
       "      <td>0.398000</td>\n",
       "      <td>140.055000</td>\n",
       "      <td>0.770000</td>\n",
       "      <td>2019.0</td>\n",
       "    </tr>\n",
       "    <tr>\n",
       "      <th>2019-05-03</th>\n",
       "      <td>0.145000</td>\n",
       "      <td>0.722000</td>\n",
       "      <td>245413.000000</td>\n",
       "      <td>0.764000</td>\n",
       "      <td>1.0</td>\n",
       "      <td>0.000000</td>\n",
       "      <td>10.000000</td>\n",
       "      <td>0.171000</td>\n",
       "      <td>-5.656000</td>\n",
       "      <td>0.000000</td>\n",
       "      <td>71.000000</td>\n",
       "      <td>0.398000</td>\n",
       "      <td>139.831000</td>\n",
       "      <td>0.796000</td>\n",
       "      <td>2019.0</td>\n",
       "    </tr>\n",
       "    <tr>\n",
       "      <th>2018-09-19</th>\n",
       "      <td>0.098900</td>\n",
       "      <td>0.892000</td>\n",
       "      <td>253580.000000</td>\n",
       "      <td>0.651000</td>\n",
       "      <td>1.0</td>\n",
       "      <td>0.000000</td>\n",
       "      <td>0.000000</td>\n",
       "      <td>0.371000</td>\n",
       "      <td>-8.645000</td>\n",
       "      <td>0.000000</td>\n",
       "      <td>74.000000</td>\n",
       "      <td>0.378000</td>\n",
       "      <td>105.814000</td>\n",
       "      <td>0.599000</td>\n",
       "      <td>2018.0</td>\n",
       "    </tr>\n",
       "    <tr>\n",
       "      <th>2018-08-31</th>\n",
       "      <td>0.108645</td>\n",
       "      <td>0.796000</td>\n",
       "      <td>242802.818182</td>\n",
       "      <td>0.688636</td>\n",
       "      <td>1.0</td>\n",
       "      <td>0.000000</td>\n",
       "      <td>5.000000</td>\n",
       "      <td>0.273591</td>\n",
       "      <td>-5.850000</td>\n",
       "      <td>0.818182</td>\n",
       "      <td>69.090909</td>\n",
       "      <td>0.297455</td>\n",
       "      <td>129.114636</td>\n",
       "      <td>0.522455</td>\n",
       "      <td>2018.0</td>\n",
       "    </tr>\n",
       "    <tr>\n",
       "      <th>2017-12-15</th>\n",
       "      <td>0.151000</td>\n",
       "      <td>0.816000</td>\n",
       "      <td>268180.000000</td>\n",
       "      <td>0.620500</td>\n",
       "      <td>1.0</td>\n",
       "      <td>0.000000</td>\n",
       "      <td>4.500000</td>\n",
       "      <td>0.215150</td>\n",
       "      <td>-5.629500</td>\n",
       "      <td>0.000000</td>\n",
       "      <td>69.000000</td>\n",
       "      <td>0.314000</td>\n",
       "      <td>110.081000</td>\n",
       "      <td>0.384500</td>\n",
       "      <td>2017.0</td>\n",
       "    </tr>\n",
       "    <tr>\n",
       "      <th>2017-02-03</th>\n",
       "      <td>0.629000</td>\n",
       "      <td>0.482000</td>\n",
       "      <td>325840.000000</td>\n",
       "      <td>0.781000</td>\n",
       "      <td>1.0</td>\n",
       "      <td>0.000003</td>\n",
       "      <td>11.000000</td>\n",
       "      <td>0.413000</td>\n",
       "      <td>-5.334000</td>\n",
       "      <td>1.000000</td>\n",
       "      <td>60.000000</td>\n",
       "      <td>0.411000</td>\n",
       "      <td>57.967000</td>\n",
       "      <td>0.336000</td>\n",
       "      <td>2017.0</td>\n",
       "    </tr>\n",
       "    <tr>\n",
       "      <th>2015-10-11</th>\n",
       "      <td>0.067300</td>\n",
       "      <td>0.460000</td>\n",
       "      <td>263693.000000</td>\n",
       "      <td>0.628000</td>\n",
       "      <td>1.0</td>\n",
       "      <td>0.000000</td>\n",
       "      <td>0.000000</td>\n",
       "      <td>0.093400</td>\n",
       "      <td>-6.665000</td>\n",
       "      <td>0.000000</td>\n",
       "      <td>59.000000</td>\n",
       "      <td>0.225000</td>\n",
       "      <td>111.156000</td>\n",
       "      <td>0.354000</td>\n",
       "      <td>2015.0</td>\n",
       "    </tr>\n",
       "  </tbody>\n",
       "</table>\n",
       "</div>"
      ],
      "text/plain": [
       "              acousticness  danceability    duration_ms    energy  explicit  \\\n",
       "release_date                                                                  \n",
       "2020-03-27        0.354000      0.585000  261773.000000  0.594000       1.0   \n",
       "2020-01-17        0.055621      0.752118  222890.176471  0.729529       1.0   \n",
       "2019-07-12        0.135000      0.852000  207760.000000  0.666000       1.0   \n",
       "2019-05-10        0.137000      0.694000  245387.000000  0.759000       1.0   \n",
       "2019-05-03        0.145000      0.722000  245413.000000  0.764000       1.0   \n",
       "2018-09-19        0.098900      0.892000  253580.000000  0.651000       1.0   \n",
       "2018-08-31        0.108645      0.796000  242802.818182  0.688636       1.0   \n",
       "2017-12-15        0.151000      0.816000  268180.000000  0.620500       1.0   \n",
       "2017-02-03        0.629000      0.482000  325840.000000  0.781000       1.0   \n",
       "2015-10-11        0.067300      0.460000  263693.000000  0.628000       1.0   \n",
       "\n",
       "              instrumentalness        key  liveness  loudness      mode  \\\n",
       "release_date                                                              \n",
       "2020-03-27            0.000054   9.000000  0.092100 -5.342000  1.000000   \n",
       "2020-01-17            0.000408   4.647059  0.317624 -5.084588  0.470588   \n",
       "2019-07-12            0.000000  11.000000  0.798000 -6.923000  0.000000   \n",
       "2019-05-10            0.000000  10.000000  0.167000 -5.667000  0.000000   \n",
       "2019-05-03            0.000000  10.000000  0.171000 -5.656000  0.000000   \n",
       "2018-09-19            0.000000   0.000000  0.371000 -8.645000  0.000000   \n",
       "2018-08-31            0.000000   5.000000  0.273591 -5.850000  0.818182   \n",
       "2017-12-15            0.000000   4.500000  0.215150 -5.629500  0.000000   \n",
       "2017-02-03            0.000003  11.000000  0.413000 -5.334000  1.000000   \n",
       "2015-10-11            0.000000   0.000000  0.093400 -6.665000  0.000000   \n",
       "\n",
       "              popularity  speechiness       tempo   valence    year  \n",
       "release_date                                                         \n",
       "2020-03-27     72.000000     0.332000  184.013000  0.138000  2020.0  \n",
       "2020-01-17     71.588235     0.215747  128.641353  0.415012  2020.0  \n",
       "2019-07-12     73.000000     0.184000   91.046000  0.726000  2019.0  \n",
       "2019-05-10     75.000000     0.398000  140.055000  0.770000  2019.0  \n",
       "2019-05-03     71.000000     0.398000  139.831000  0.796000  2019.0  \n",
       "2018-09-19     74.000000     0.378000  105.814000  0.599000  2018.0  \n",
       "2018-08-31     69.090909     0.297455  129.114636  0.522455  2018.0  \n",
       "2017-12-15     69.000000     0.314000  110.081000  0.384500  2017.0  \n",
       "2017-02-03     60.000000     0.411000   57.967000  0.336000  2017.0  \n",
       "2015-10-11     59.000000     0.225000  111.156000  0.354000  2015.0  "
      ]
     },
     "execution_count": 115,
     "metadata": {},
     "output_type": "execute_result"
    }
   ],
   "source": [
    "# Créer une nouvelle dataframe calculant la moyenne des variables de l'artiste selon release_date et ordonner les par dates\n",
    "df_agg_eminem = df_eminem.groupby([\"release_date\"]).mean().sort_values(by='release_date', ascending=False)\n",
    "df_agg_eminem.head(10)"
   ]
  },
  {
   "cell_type": "code",
   "execution_count": 116,
   "metadata": {},
   "outputs": [],
   "source": [
    "# Créer votre graphe en précisant que le type de l'axe x est une date  \n",
    "p = figure(x_axis_type=\"datetime\", title=\"la moyenne de popularité des artistes selon release_date\", plot_height=800, plot_width=800)\n",
    "p.xgrid.grid_line_color=None\n",
    "p.ygrid.grid_line_alpha=0.5\n",
    "p.xaxis.axis_label = 'release_date'\n",
    "p.yaxis.axis_label = 'popularity'"
   ]
  },
  {
   "cell_type": "code",
   "execution_count": 117,
   "metadata": {},
   "outputs": [
    {
     "data": {
      "text/html": [
       "<div style=\"display: table;\"><div style=\"display: table-row;\"><div style=\"display: table-cell;\"><b title=\"bokeh.models.renderers.GlyphRenderer\">GlyphRenderer</b>(</div><div style=\"display: table-cell;\">id&nbsp;=&nbsp;'5387', <span id=\"5390\" style=\"cursor: pointer;\">&hellip;)</span></div></div><div class=\"5389\" style=\"display: none;\"><div style=\"display: table-cell;\"></div><div style=\"display: table-cell;\">data_source&nbsp;=&nbsp;ColumnDataSource(id='5384', ...),</div></div><div class=\"5389\" style=\"display: none;\"><div style=\"display: table-cell;\"></div><div style=\"display: table-cell;\">glyph&nbsp;=&nbsp;Line(id='5385', ...),</div></div><div class=\"5389\" style=\"display: none;\"><div style=\"display: table-cell;\"></div><div style=\"display: table-cell;\">hover_glyph&nbsp;=&nbsp;None,</div></div><div class=\"5389\" style=\"display: none;\"><div style=\"display: table-cell;\"></div><div style=\"display: table-cell;\">js_event_callbacks&nbsp;=&nbsp;{},</div></div><div class=\"5389\" style=\"display: none;\"><div style=\"display: table-cell;\"></div><div style=\"display: table-cell;\">js_property_callbacks&nbsp;=&nbsp;{},</div></div><div class=\"5389\" style=\"display: none;\"><div style=\"display: table-cell;\"></div><div style=\"display: table-cell;\">level&nbsp;=&nbsp;'glyph',</div></div><div class=\"5389\" style=\"display: none;\"><div style=\"display: table-cell;\"></div><div style=\"display: table-cell;\">muted&nbsp;=&nbsp;False,</div></div><div class=\"5389\" style=\"display: none;\"><div style=\"display: table-cell;\"></div><div style=\"display: table-cell;\">muted_glyph&nbsp;=&nbsp;None,</div></div><div class=\"5389\" style=\"display: none;\"><div style=\"display: table-cell;\"></div><div style=\"display: table-cell;\">name&nbsp;=&nbsp;None,</div></div><div class=\"5389\" style=\"display: none;\"><div style=\"display: table-cell;\"></div><div style=\"display: table-cell;\">nonselection_glyph&nbsp;=&nbsp;Line(id='5386', ...),</div></div><div class=\"5389\" style=\"display: none;\"><div style=\"display: table-cell;\"></div><div style=\"display: table-cell;\">selection_glyph&nbsp;=&nbsp;None,</div></div><div class=\"5389\" style=\"display: none;\"><div style=\"display: table-cell;\"></div><div style=\"display: table-cell;\">subscribed_events&nbsp;=&nbsp;[],</div></div><div class=\"5389\" style=\"display: none;\"><div style=\"display: table-cell;\"></div><div style=\"display: table-cell;\">tags&nbsp;=&nbsp;[],</div></div><div class=\"5389\" style=\"display: none;\"><div style=\"display: table-cell;\"></div><div style=\"display: table-cell;\">view&nbsp;=&nbsp;CDSView(id='5388', ...),</div></div><div class=\"5389\" style=\"display: none;\"><div style=\"display: table-cell;\"></div><div style=\"display: table-cell;\">visible&nbsp;=&nbsp;True,</div></div><div class=\"5389\" style=\"display: none;\"><div style=\"display: table-cell;\"></div><div style=\"display: table-cell;\">x_range_name&nbsp;=&nbsp;'default',</div></div><div class=\"5389\" style=\"display: none;\"><div style=\"display: table-cell;\"></div><div style=\"display: table-cell;\">y_range_name&nbsp;=&nbsp;'default')</div></div></div>\n",
       "<script>\n",
       "(function() {\n",
       "  var expanded = false;\n",
       "  var ellipsis = document.getElementById(\"5390\");\n",
       "  ellipsis.addEventListener(\"click\", function() {\n",
       "    var rows = document.getElementsByClassName(\"5389\");\n",
       "    for (var i = 0; i < rows.length; i++) {\n",
       "      var el = rows[i];\n",
       "      el.style.display = expanded ? \"none\" : \"table-row\";\n",
       "    }\n",
       "    ellipsis.innerHTML = expanded ? \"&hellip;)\" : \"&lsaquo;&lsaquo;&lsaquo;\";\n",
       "    expanded = !expanded;\n",
       "  });\n",
       "})();\n",
       "</script>\n"
      ],
      "text/plain": [
       "GlyphRenderer(id='5387', ...)"
      ]
     },
     "execution_count": 117,
     "metadata": {},
     "output_type": "execute_result"
    }
   ],
   "source": [
    "# Créer un graphe Line avec les données ordonnées de popularité par release_date\n",
    "p.line(df_agg_eminem.index, df_agg_eminem.popularity )"
   ]
  },
  {
   "cell_type": "code",
   "execution_count": 118,
   "metadata": {},
   "outputs": [
    {
     "data": {
      "text/html": [
       "<div style=\"display: table;\"><div style=\"display: table-row;\"><div style=\"display: table-cell;\"><b title=\"bokeh.models.renderers.GlyphRenderer\">GlyphRenderer</b>(</div><div style=\"display: table-cell;\">id&nbsp;=&nbsp;'5394', <span id=\"5397\" style=\"cursor: pointer;\">&hellip;)</span></div></div><div class=\"5396\" style=\"display: none;\"><div style=\"display: table-cell;\"></div><div style=\"display: table-cell;\">data_source&nbsp;=&nbsp;ColumnDataSource(id='5391', ...),</div></div><div class=\"5396\" style=\"display: none;\"><div style=\"display: table-cell;\"></div><div style=\"display: table-cell;\">glyph&nbsp;=&nbsp;Circle(id='5392', ...),</div></div><div class=\"5396\" style=\"display: none;\"><div style=\"display: table-cell;\"></div><div style=\"display: table-cell;\">hover_glyph&nbsp;=&nbsp;None,</div></div><div class=\"5396\" style=\"display: none;\"><div style=\"display: table-cell;\"></div><div style=\"display: table-cell;\">js_event_callbacks&nbsp;=&nbsp;{},</div></div><div class=\"5396\" style=\"display: none;\"><div style=\"display: table-cell;\"></div><div style=\"display: table-cell;\">js_property_callbacks&nbsp;=&nbsp;{},</div></div><div class=\"5396\" style=\"display: none;\"><div style=\"display: table-cell;\"></div><div style=\"display: table-cell;\">level&nbsp;=&nbsp;'glyph',</div></div><div class=\"5396\" style=\"display: none;\"><div style=\"display: table-cell;\"></div><div style=\"display: table-cell;\">muted&nbsp;=&nbsp;False,</div></div><div class=\"5396\" style=\"display: none;\"><div style=\"display: table-cell;\"></div><div style=\"display: table-cell;\">muted_glyph&nbsp;=&nbsp;None,</div></div><div class=\"5396\" style=\"display: none;\"><div style=\"display: table-cell;\"></div><div style=\"display: table-cell;\">name&nbsp;=&nbsp;None,</div></div><div class=\"5396\" style=\"display: none;\"><div style=\"display: table-cell;\"></div><div style=\"display: table-cell;\">nonselection_glyph&nbsp;=&nbsp;Circle(id='5393', ...),</div></div><div class=\"5396\" style=\"display: none;\"><div style=\"display: table-cell;\"></div><div style=\"display: table-cell;\">selection_glyph&nbsp;=&nbsp;None,</div></div><div class=\"5396\" style=\"display: none;\"><div style=\"display: table-cell;\"></div><div style=\"display: table-cell;\">subscribed_events&nbsp;=&nbsp;[],</div></div><div class=\"5396\" style=\"display: none;\"><div style=\"display: table-cell;\"></div><div style=\"display: table-cell;\">tags&nbsp;=&nbsp;[],</div></div><div class=\"5396\" style=\"display: none;\"><div style=\"display: table-cell;\"></div><div style=\"display: table-cell;\">view&nbsp;=&nbsp;CDSView(id='5395', ...),</div></div><div class=\"5396\" style=\"display: none;\"><div style=\"display: table-cell;\"></div><div style=\"display: table-cell;\">visible&nbsp;=&nbsp;True,</div></div><div class=\"5396\" style=\"display: none;\"><div style=\"display: table-cell;\"></div><div style=\"display: table-cell;\">x_range_name&nbsp;=&nbsp;'default',</div></div><div class=\"5396\" style=\"display: none;\"><div style=\"display: table-cell;\"></div><div style=\"display: table-cell;\">y_range_name&nbsp;=&nbsp;'default')</div></div></div>\n",
       "<script>\n",
       "(function() {\n",
       "  var expanded = false;\n",
       "  var ellipsis = document.getElementById(\"5397\");\n",
       "  ellipsis.addEventListener(\"click\", function() {\n",
       "    var rows = document.getElementsByClassName(\"5396\");\n",
       "    for (var i = 0; i < rows.length; i++) {\n",
       "      var el = rows[i];\n",
       "      el.style.display = expanded ? \"none\" : \"table-row\";\n",
       "    }\n",
       "    ellipsis.innerHTML = expanded ? \"&hellip;)\" : \"&lsaquo;&lsaquo;&lsaquo;\";\n",
       "    expanded = !expanded;\n",
       "  });\n",
       "})();\n",
       "</script>\n"
      ],
      "text/plain": [
       "GlyphRenderer(id='5394', ...)"
      ]
     },
     "execution_count": 118,
     "metadata": {},
     "output_type": "execute_result"
    }
   ],
   "source": [
    "# Ajouter un glyph circle permettant de mieux visualiser les datapoints sur le graphe Line\n",
    "p.circle(df_agg_eminem.index, df_agg_eminem.popularity, size=10, fill_color=\"orange\", fill_alpha=0.5)"
   ]
  },
  {
   "cell_type": "code",
   "execution_count": 119,
   "metadata": {},
   "outputs": [
    {
     "data": {
      "text/html": [
       "\n",
       "\n",
       "\n",
       "\n",
       "\n",
       "\n",
       "  <div class=\"bk-root\" id=\"5fd65a8e-14df-4ab7-8c0b-a4145fb25052\" data-root-id=\"5351\"></div>\n"
      ]
     },
     "metadata": {},
     "output_type": "display_data"
    },
    {
     "data": {
      "application/javascript": [
       "(function(root) {\n",
       "  function embed_document(root) {\n",
       "    \n",
       "  var docs_json = {\"db32b3f9-bd1d-4fe9-aabf-53c7be745516\":{\"roots\":{\"references\":[{\"attributes\":{\"below\":[{\"id\":\"5362\"}],\"center\":[{\"id\":\"5365\"},{\"id\":\"5369\"}],\"left\":[{\"id\":\"5366\"}],\"plot_height\":800,\"plot_width\":800,\"renderers\":[{\"id\":\"5387\"},{\"id\":\"5394\"}],\"title\":{\"id\":\"5352\"},\"toolbar\":{\"id\":\"5377\"},\"x_range\":{\"id\":\"5354\"},\"x_scale\":{\"id\":\"5358\"},\"y_range\":{\"id\":\"5356\"},\"y_scale\":{\"id\":\"5360\"}},\"id\":\"5351\",\"subtype\":\"Figure\",\"type\":\"Plot\"},{\"attributes\":{\"fill_alpha\":{\"value\":0.5},\"fill_color\":{\"value\":\"orange\"},\"line_color\":{\"value\":\"#1f77b4\"},\"size\":{\"units\":\"screen\",\"value\":10},\"x\":{\"field\":\"x\"},\"y\":{\"field\":\"y\"}},\"id\":\"5392\",\"type\":\"Circle\"},{\"attributes\":{\"source\":{\"id\":\"5384\"}},\"id\":\"5388\",\"type\":\"CDSView\"},{\"attributes\":{},\"id\":\"5573\",\"type\":\"Selection\"},{\"attributes\":{\"data\":{\"x\":{\"__ndarray__\":\"AAAAnZQRd0IAAIDKDPt2QgAAwKs3vnZCAACAofCpdkIAAEDZr6d2QgAAwAXyXnZCAACAeNRYdkIAAECHdwV2QgAAAFQUoHVCAABAJkMFdUIAAADA1et0QgAAQI7D0XRCAACAY5TNdEIAAICQ8Z10QgAAQGWngHRCAACA8FgidEIAAICFNr9zQgAAAA1pSXNCAACATOjdckIAAED67dNyQgAAwKSPy3JCAABAFA7HckIAAMCxH8VyQgAAgK2FlHJCAACAAsmDckIAAIDncl5yQgAAQBcZFHJCAADA1PfocUIAAACt0zFxQgAAwFP2EXFCAACAKKz0cEIAAMA2NIhwQgAAQOHVf3BCAAAAU4JHcEIAAMBiWyZwQgAAACS5EnBCAACARKECcEIAAABX1zlvQgAAgM8NZm5CAACAMeFObkIAAIBRriVuQgAAgA+oE25CAACAT0LBbUIAAAAM62NtQgAAAATSG21CAAAAomfpa0IAAIAXk8hrQgAAgGS9b2tCAACA8YHEakIAAADQY6JqQgAAgKptt2lCAAAAxkesaEI=\",\"dtype\":\"float64\",\"order\":\"little\",\"shape\":[52]},\"y\":{\"__ndarray__\":\"AAAAAAAAUkCmpaWlpeVRQAAAAAAAQFJAAAAAAADAUkAAAAAAAMBRQAAAAAAAgFJARhdddNFFUUAAAAAAAEBRQAAAAAAAAE5AAAAAAACATUAAAAAAAABPQAAAAAAAgE1AAAAAAACAT0AAAAAAAABMQAAAAAAAgEpAHMdxHMexTUAAAAAAAMBQQAAAAAAAAEtAAAAAAADAUUAAAAAAAIBGQAAAAAAAAFFAAAAAAAAARkAAAAAAAIBNQPHw8PDwcE9AAAAAAACATkAAAAAAAABKQI2w3NMIy0pAAAAAAADgSkAAAAAAAIBGQAAAAAAAgEhAVVVVVVXVSUAAAAAAAIBNQOsGU+Sz7klAAAAAAACAT0AAAAAAAABJQAAAAAAAgElAAAAAAACASkAAAAAAAEBIQAAAAAAAQElAAAAAAACAS0AAAAAAAEBHQAAAAAAAgElAMzMzMzOTTkAAAAAAAABHQAAAAAAAgEhAx3Ecx3EcTUAAAAAAAABJQAAAAAAAgE5AuYKYXEHMSEAAAAAAAABJQAAAAAAAgEBAAAAAAAAATEA=\",\"dtype\":\"float64\",\"order\":\"little\",\"shape\":[52]}},\"selected\":{\"id\":\"5573\"},\"selection_policy\":{\"id\":\"5574\"}},\"id\":\"5391\",\"type\":\"ColumnDataSource\"},{\"attributes\":{},\"id\":\"5574\",\"type\":\"UnionRenderers\"},{\"attributes\":{\"fill_alpha\":{\"value\":0.1},\"fill_color\":{\"value\":\"orange\"},\"line_alpha\":{\"value\":0.1},\"line_color\":{\"value\":\"#1f77b4\"},\"size\":{\"units\":\"screen\",\"value\":10},\"x\":{\"field\":\"x\"},\"y\":{\"field\":\"y\"}},\"id\":\"5393\",\"type\":\"Circle\"},{\"attributes\":{},\"id\":\"5567\",\"type\":\"DatetimeTickFormatter\"},{\"attributes\":{\"axis_label\":\"release_date\",\"formatter\":{\"id\":\"5567\"},\"ticker\":{\"id\":\"5363\"}},\"id\":\"5362\",\"type\":\"DatetimeAxis\"},{\"attributes\":{\"axis\":{\"id\":\"5362\"},\"grid_line_color\":null,\"ticker\":null},\"id\":\"5365\",\"type\":\"Grid\"},{\"attributes\":{\"source\":{\"id\":\"5391\"}},\"id\":\"5395\",\"type\":\"CDSView\"},{\"attributes\":{},\"id\":\"5371\",\"type\":\"WheelZoomTool\"},{\"attributes\":{\"data_source\":{\"id\":\"5391\"},\"glyph\":{\"id\":\"5392\"},\"hover_glyph\":null,\"muted_glyph\":null,\"nonselection_glyph\":{\"id\":\"5393\"},\"selection_glyph\":null,\"view\":{\"id\":\"5395\"}},\"id\":\"5394\",\"type\":\"GlyphRenderer\"},{\"attributes\":{\"mantissas\":[1,2,5],\"max_interval\":500.0,\"num_minor_ticks\":0},\"id\":\"5575\",\"type\":\"AdaptiveTicker\"},{\"attributes\":{\"text\":\"la moyenne de popularit\\u00e9 des artistes selon release_date\"},\"id\":\"5352\",\"type\":\"Title\"},{\"attributes\":{\"overlay\":{\"id\":\"5376\"}},\"id\":\"5372\",\"type\":\"BoxZoomTool\"},{\"attributes\":{\"base\":60,\"mantissas\":[1,2,5,10,15,20,30],\"max_interval\":1800000.0,\"min_interval\":1000.0,\"num_minor_ticks\":0},\"id\":\"5576\",\"type\":\"AdaptiveTicker\"},{\"attributes\":{\"days\":[1,2,3,4,5,6,7,8,9,10,11,12,13,14,15,16,17,18,19,20,21,22,23,24,25,26,27,28,29,30,31]},\"id\":\"5578\",\"type\":\"DaysTicker\"},{\"attributes\":{\"num_minor_ticks\":5,\"tickers\":[{\"id\":\"5575\"},{\"id\":\"5576\"},{\"id\":\"5577\"},{\"id\":\"5578\"},{\"id\":\"5579\"},{\"id\":\"5580\"},{\"id\":\"5581\"},{\"id\":\"5582\"},{\"id\":\"5583\"},{\"id\":\"5584\"},{\"id\":\"5585\"},{\"id\":\"5586\"}]},\"id\":\"5363\",\"type\":\"DatetimeTicker\"},{\"attributes\":{\"line_alpha\":0.1,\"line_color\":\"#1f77b4\",\"x\":{\"field\":\"x\"},\"y\":{\"field\":\"y\"}},\"id\":\"5386\",\"type\":\"Line\"},{\"attributes\":{},\"id\":\"5375\",\"type\":\"HelpTool\"},{\"attributes\":{\"base\":24,\"mantissas\":[1,2,4,6,8,12],\"max_interval\":43200000.0,\"min_interval\":3600000.0,\"num_minor_ticks\":0},\"id\":\"5577\",\"type\":\"AdaptiveTicker\"},{\"attributes\":{},\"id\":\"5354\",\"type\":\"DataRange1d\"},{\"attributes\":{\"active_drag\":\"auto\",\"active_inspect\":\"auto\",\"active_multi\":null,\"active_scroll\":\"auto\",\"active_tap\":\"auto\",\"tools\":[{\"id\":\"5370\"},{\"id\":\"5371\"},{\"id\":\"5372\"},{\"id\":\"5373\"},{\"id\":\"5374\"},{\"id\":\"5375\"}]},\"id\":\"5377\",\"type\":\"Toolbar\"},{\"attributes\":{\"months\":[0,1,2,3,4,5,6,7,8,9,10,11]},\"id\":\"5582\",\"type\":\"MonthsTicker\"},{\"attributes\":{\"months\":[0,2,4,6,8,10]},\"id\":\"5583\",\"type\":\"MonthsTicker\"},{\"attributes\":{},\"id\":\"5360\",\"type\":\"LinearScale\"},{\"attributes\":{\"days\":[1,4,7,10,13,16,19,22,25,28]},\"id\":\"5579\",\"type\":\"DaysTicker\"},{\"attributes\":{\"days\":[1,15]},\"id\":\"5581\",\"type\":\"DaysTicker\"},{\"attributes\":{},\"id\":\"5356\",\"type\":\"DataRange1d\"},{\"attributes\":{\"months\":[0,6]},\"id\":\"5585\",\"type\":\"MonthsTicker\"},{\"attributes\":{\"days\":[1,8,15,22]},\"id\":\"5580\",\"type\":\"DaysTicker\"},{\"attributes\":{},\"id\":\"5358\",\"type\":\"LinearScale\"},{\"attributes\":{\"line_color\":\"#1f77b4\",\"x\":{\"field\":\"x\"},\"y\":{\"field\":\"y\"}},\"id\":\"5385\",\"type\":\"Line\"},{\"attributes\":{},\"id\":\"5586\",\"type\":\"YearsTicker\"},{\"attributes\":{},\"id\":\"5373\",\"type\":\"SaveTool\"},{\"attributes\":{\"months\":[0,4,8]},\"id\":\"5584\",\"type\":\"MonthsTicker\"},{\"attributes\":{\"data\":{\"x\":{\"__ndarray__\":\"AAAAnZQRd0IAAIDKDPt2QgAAwKs3vnZCAACAofCpdkIAAEDZr6d2QgAAwAXyXnZCAACAeNRYdkIAAECHdwV2QgAAAFQUoHVCAABAJkMFdUIAAADA1et0QgAAQI7D0XRCAACAY5TNdEIAAICQ8Z10QgAAQGWngHRCAACA8FgidEIAAICFNr9zQgAAAA1pSXNCAACATOjdckIAAED67dNyQgAAwKSPy3JCAABAFA7HckIAAMCxH8VyQgAAgK2FlHJCAACAAsmDckIAAIDncl5yQgAAQBcZFHJCAADA1PfocUIAAACt0zFxQgAAwFP2EXFCAACAKKz0cEIAAMA2NIhwQgAAQOHVf3BCAAAAU4JHcEIAAMBiWyZwQgAAACS5EnBCAACARKECcEIAAABX1zlvQgAAgM8NZm5CAACAMeFObkIAAIBRriVuQgAAgA+oE25CAACAT0LBbUIAAAAM62NtQgAAAATSG21CAAAAomfpa0IAAIAXk8hrQgAAgGS9b2tCAACA8YHEakIAAADQY6JqQgAAgKptt2lCAAAAxkesaEI=\",\"dtype\":\"float64\",\"order\":\"little\",\"shape\":[52]},\"y\":{\"__ndarray__\":\"AAAAAAAAUkCmpaWlpeVRQAAAAAAAQFJAAAAAAADAUkAAAAAAAMBRQAAAAAAAgFJARhdddNFFUUAAAAAAAEBRQAAAAAAAAE5AAAAAAACATUAAAAAAAABPQAAAAAAAgE1AAAAAAACAT0AAAAAAAABMQAAAAAAAgEpAHMdxHMexTUAAAAAAAMBQQAAAAAAAAEtAAAAAAADAUUAAAAAAAIBGQAAAAAAAAFFAAAAAAAAARkAAAAAAAIBNQPHw8PDwcE9AAAAAAACATkAAAAAAAABKQI2w3NMIy0pAAAAAAADgSkAAAAAAAIBGQAAAAAAAgEhAVVVVVVXVSUAAAAAAAIBNQOsGU+Sz7klAAAAAAACAT0AAAAAAAABJQAAAAAAAgElAAAAAAACASkAAAAAAAEBIQAAAAAAAQElAAAAAAACAS0AAAAAAAEBHQAAAAAAAgElAMzMzMzOTTkAAAAAAAABHQAAAAAAAgEhAx3Ecx3EcTUAAAAAAAABJQAAAAAAAgE5AuYKYXEHMSEAAAAAAAABJQAAAAAAAgEBAAAAAAAAATEA=\",\"dtype\":\"float64\",\"order\":\"little\",\"shape\":[52]}},\"selected\":{\"id\":\"5571\"},\"selection_policy\":{\"id\":\"5572\"}},\"id\":\"5384\",\"type\":\"ColumnDataSource\"},{\"attributes\":{\"data_source\":{\"id\":\"5384\"},\"glyph\":{\"id\":\"5385\"},\"hover_glyph\":null,\"muted_glyph\":null,\"nonselection_glyph\":{\"id\":\"5386\"},\"selection_glyph\":null,\"view\":{\"id\":\"5388\"}},\"id\":\"5387\",\"type\":\"GlyphRenderer\"},{\"attributes\":{},\"id\":\"5569\",\"type\":\"BasicTickFormatter\"},{\"attributes\":{},\"id\":\"5374\",\"type\":\"ResetTool\"},{\"attributes\":{},\"id\":\"5367\",\"type\":\"BasicTicker\"},{\"attributes\":{},\"id\":\"5571\",\"type\":\"Selection\"},{\"attributes\":{},\"id\":\"5572\",\"type\":\"UnionRenderers\"},{\"attributes\":{},\"id\":\"5370\",\"type\":\"PanTool\"},{\"attributes\":{\"bottom_units\":\"screen\",\"fill_alpha\":0.5,\"fill_color\":\"lightgrey\",\"left_units\":\"screen\",\"level\":\"overlay\",\"line_alpha\":1.0,\"line_color\":\"black\",\"line_dash\":[4,4],\"line_width\":2,\"right_units\":\"screen\",\"top_units\":\"screen\"},\"id\":\"5376\",\"type\":\"BoxAnnotation\"},{\"attributes\":{\"axis_label\":\"popularity\",\"formatter\":{\"id\":\"5569\"},\"ticker\":{\"id\":\"5367\"}},\"id\":\"5366\",\"type\":\"LinearAxis\"},{\"attributes\":{\"axis\":{\"id\":\"5366\"},\"dimension\":1,\"grid_line_alpha\":0.5,\"ticker\":null},\"id\":\"5369\",\"type\":\"Grid\"}],\"root_ids\":[\"5351\"]},\"title\":\"Bokeh Application\",\"version\":\"2.2.3\"}};\n",
       "  var render_items = [{\"docid\":\"db32b3f9-bd1d-4fe9-aabf-53c7be745516\",\"root_ids\":[\"5351\"],\"roots\":{\"5351\":\"5fd65a8e-14df-4ab7-8c0b-a4145fb25052\"}}];\n",
       "  root.Bokeh.embed.embed_items_notebook(docs_json, render_items);\n",
       "\n",
       "  }\n",
       "  if (root.Bokeh !== undefined) {\n",
       "    embed_document(root);\n",
       "  } else {\n",
       "    var attempts = 0;\n",
       "    var timer = setInterval(function(root) {\n",
       "      if (root.Bokeh !== undefined) {\n",
       "        clearInterval(timer);\n",
       "        embed_document(root);\n",
       "      } else {\n",
       "        attempts++;\n",
       "        if (attempts > 100) {\n",
       "          clearInterval(timer);\n",
       "          console.log(\"Bokeh: ERROR: Unable to run BokehJS code because BokehJS library is missing\");\n",
       "        }\n",
       "      }\n",
       "    }, 10, root)\n",
       "  }\n",
       "})(window);"
      ],
      "application/vnd.bokehjs_exec.v0+json": ""
     },
     "metadata": {
      "application/vnd.bokehjs_exec.v0+json": {
       "id": "5351"
      }
     },
     "output_type": "display_data"
    }
   ],
   "source": [
    "# Afficher le graphe\n",
    "show(p)"
   ]
  },
  {
   "cell_type": "markdown",
   "metadata": {},
   "source": [
    "<br> Pour des graphes plus complexes, transmettre les données d'un Dataframe aux glyphs devient compliqué. Bokeh procure un objet \"ColumnDataSource\" pour lier la dataframe au glyph et mapper les noms des colonnes aux données, facilitant ainsi la référence des éléments de données lors de la construction de la visualisation. Une fois créée, une ColumnDataSource peut être transmise aux méthodes glyph via le paramètre \"source\".\n",
    "\n",
    "Revenons à notre graph Line. On voudrait afficher la popularité d'un autre artiste sur le même graphe. On utilisera la fonction add_glyph de Bokeh, ainsi qu'une ColumnDataSource.  \n"
   ]
  },
  {
   "cell_type": "code",
   "execution_count": 120,
   "metadata": {},
   "outputs": [],
   "source": [
    "from bokeh.models import ColumnDataSource"
   ]
  },
  {
   "cell_type": "code",
   "execution_count": 121,
   "metadata": {},
   "outputs": [
    {
     "name": "stderr",
     "output_type": "stream",
     "text": [
      "<ipython-input-121-41e823802e0d>:3: SettingWithCopyWarning: \n",
      "A value is trying to be set on a copy of a slice from a DataFrame.\n",
      "Try using .loc[row_indexer,col_indexer] = value instead\n",
      "\n",
      "See the caveats in the documentation: https://pandas.pydata.org/pandas-docs/stable/user_guide/indexing.html#returning-a-view-versus-a-copy\n",
      "  df_rihanna[\"release_date\"] = pd.to_datetime(df_rihanna[\"release_date\"])\n"
     ]
    }
   ],
   "source": [
    "# Créer une ColumnDataSource qui filtre votre dataset sur un artiste comparable à celui déjà choisi (release_date des pistes dans des périodes similaires)\n",
    "df_rihanna = df[df[\"artists\"].str.contains(\"Rihanna\")]\n",
    "df_rihanna[\"release_date\"] = pd.to_datetime(df_rihanna[\"release_date\"])\n",
    "df_agg_rihanna = df_rihanna.groupby([\"release_date\"]).mean().sort_values(by='release_date', ascending=False)\n",
    "cds = ColumnDataSource(df_agg_rihanna)"
   ]
  },
  {
   "cell_type": "code",
   "execution_count": 122,
   "metadata": {},
   "outputs": [],
   "source": [
    "from bokeh.models.glyphs import Line"
   ]
  },
  {
   "cell_type": "code",
   "execution_count": 123,
   "metadata": {},
   "outputs": [],
   "source": [
    "# Créer un graphe Line qui prend release_date dans x_axis et popularité dans y_axis. Choisir une couleur pour la ligne.\n",
    "line = Line(x='release_date',y='popularity', line_color='green')"
   ]
  },
  {
   "cell_type": "code",
   "execution_count": 124,
   "metadata": {},
   "outputs": [
    {
     "data": {
      "text/html": [
       "<div style=\"display: table;\"><div style=\"display: table-row;\"><div style=\"display: table-cell;\"><b title=\"bokeh.models.renderers.GlyphRenderer\">GlyphRenderer</b>(</div><div style=\"display: table-cell;\">id&nbsp;=&nbsp;'5700', <span id=\"5895\" style=\"cursor: pointer;\">&hellip;)</span></div></div><div class=\"5894\" style=\"display: none;\"><div style=\"display: table-cell;\"></div><div style=\"display: table-cell;\">data_source&nbsp;=&nbsp;ColumnDataSource(id='5698', ...),</div></div><div class=\"5894\" style=\"display: none;\"><div style=\"display: table-cell;\"></div><div style=\"display: table-cell;\">glyph&nbsp;=&nbsp;Line(id='5699', ...),</div></div><div class=\"5894\" style=\"display: none;\"><div style=\"display: table-cell;\"></div><div style=\"display: table-cell;\">hover_glyph&nbsp;=&nbsp;None,</div></div><div class=\"5894\" style=\"display: none;\"><div style=\"display: table-cell;\"></div><div style=\"display: table-cell;\">js_event_callbacks&nbsp;=&nbsp;{},</div></div><div class=\"5894\" style=\"display: none;\"><div style=\"display: table-cell;\"></div><div style=\"display: table-cell;\">js_property_callbacks&nbsp;=&nbsp;{},</div></div><div class=\"5894\" style=\"display: none;\"><div style=\"display: table-cell;\"></div><div style=\"display: table-cell;\">level&nbsp;=&nbsp;'glyph',</div></div><div class=\"5894\" style=\"display: none;\"><div style=\"display: table-cell;\"></div><div style=\"display: table-cell;\">muted&nbsp;=&nbsp;False,</div></div><div class=\"5894\" style=\"display: none;\"><div style=\"display: table-cell;\"></div><div style=\"display: table-cell;\">muted_glyph&nbsp;=&nbsp;None,</div></div><div class=\"5894\" style=\"display: none;\"><div style=\"display: table-cell;\"></div><div style=\"display: table-cell;\">name&nbsp;=&nbsp;None,</div></div><div class=\"5894\" style=\"display: none;\"><div style=\"display: table-cell;\"></div><div style=\"display: table-cell;\">nonselection_glyph&nbsp;=&nbsp;'auto',</div></div><div class=\"5894\" style=\"display: none;\"><div style=\"display: table-cell;\"></div><div style=\"display: table-cell;\">selection_glyph&nbsp;=&nbsp;'auto',</div></div><div class=\"5894\" style=\"display: none;\"><div style=\"display: table-cell;\"></div><div style=\"display: table-cell;\">subscribed_events&nbsp;=&nbsp;[],</div></div><div class=\"5894\" style=\"display: none;\"><div style=\"display: table-cell;\"></div><div style=\"display: table-cell;\">tags&nbsp;=&nbsp;[],</div></div><div class=\"5894\" style=\"display: none;\"><div style=\"display: table-cell;\"></div><div style=\"display: table-cell;\">view&nbsp;=&nbsp;CDSView(id='5701', ...),</div></div><div class=\"5894\" style=\"display: none;\"><div style=\"display: table-cell;\"></div><div style=\"display: table-cell;\">visible&nbsp;=&nbsp;True,</div></div><div class=\"5894\" style=\"display: none;\"><div style=\"display: table-cell;\"></div><div style=\"display: table-cell;\">x_range_name&nbsp;=&nbsp;'default',</div></div><div class=\"5894\" style=\"display: none;\"><div style=\"display: table-cell;\"></div><div style=\"display: table-cell;\">y_range_name&nbsp;=&nbsp;'default')</div></div></div>\n",
       "<script>\n",
       "(function() {\n",
       "  var expanded = false;\n",
       "  var ellipsis = document.getElementById(\"5895\");\n",
       "  ellipsis.addEventListener(\"click\", function() {\n",
       "    var rows = document.getElementsByClassName(\"5894\");\n",
       "    for (var i = 0; i < rows.length; i++) {\n",
       "      var el = rows[i];\n",
       "      el.style.display = expanded ? \"none\" : \"table-row\";\n",
       "    }\n",
       "    ellipsis.innerHTML = expanded ? \"&hellip;)\" : \"&lsaquo;&lsaquo;&lsaquo;\";\n",
       "    expanded = !expanded;\n",
       "  });\n",
       "})();\n",
       "</script>\n"
      ],
      "text/plain": [
       "GlyphRenderer(id='5700', ...)"
      ]
     },
     "execution_count": 124,
     "metadata": {},
     "output_type": "execute_result"
    }
   ],
   "source": [
    "# En utilisant add_glyph, ajouter une nouvelle ligne au plot précédent en spécifiant l'objet ColumnDataSource créé comme source et le Line glyph comme argument.\n",
    "p.add_glyph(cds, line)"
   ]
  },
  {
   "cell_type": "code",
   "execution_count": 125,
   "metadata": {},
   "outputs": [
    {
     "data": {
      "text/html": [
       "\n",
       "\n",
       "\n",
       "\n",
       "\n",
       "\n",
       "  <div class=\"bk-root\" id=\"d86740f7-486f-4e48-90dc-e76ef3219e68\" data-root-id=\"5351\"></div>\n"
      ]
     },
     "metadata": {},
     "output_type": "display_data"
    },
    {
     "data": {
      "application/javascript": [
       "(function(root) {\n",
       "  function embed_document(root) {\n",
       "    \n",
       "  var docs_json = {\"a55f9963-4373-4ff9-a027-c4b6b77107f6\":{\"roots\":{\"references\":[{\"attributes\":{\"below\":[{\"id\":\"5362\"}],\"center\":[{\"id\":\"5365\"},{\"id\":\"5369\"}],\"left\":[{\"id\":\"5366\"}],\"plot_height\":800,\"plot_width\":800,\"renderers\":[{\"id\":\"5387\"},{\"id\":\"5394\"},{\"id\":\"5700\"}],\"title\":{\"id\":\"5352\"},\"toolbar\":{\"id\":\"5377\"},\"x_range\":{\"id\":\"5354\"},\"x_scale\":{\"id\":\"5358\"},\"y_range\":{\"id\":\"5356\"},\"y_scale\":{\"id\":\"5360\"}},\"id\":\"5351\",\"subtype\":\"Figure\",\"type\":\"Plot\"},{\"attributes\":{\"fill_alpha\":{\"value\":0.5},\"fill_color\":{\"value\":\"orange\"},\"line_color\":{\"value\":\"#1f77b4\"},\"size\":{\"units\":\"screen\",\"value\":10},\"x\":{\"field\":\"x\"},\"y\":{\"field\":\"y\"}},\"id\":\"5392\",\"type\":\"Circle\"},{\"attributes\":{\"source\":{\"id\":\"5384\"}},\"id\":\"5388\",\"type\":\"CDSView\"},{\"attributes\":{},\"id\":\"5573\",\"type\":\"Selection\"},{\"attributes\":{\"data\":{\"x\":{\"__ndarray__\":\"AAAAnZQRd0IAAIDKDPt2QgAAwKs3vnZCAACAofCpdkIAAEDZr6d2QgAAwAXyXnZCAACAeNRYdkIAAECHdwV2QgAAAFQUoHVCAABAJkMFdUIAAADA1et0QgAAQI7D0XRCAACAY5TNdEIAAICQ8Z10QgAAQGWngHRCAACA8FgidEIAAICFNr9zQgAAAA1pSXNCAACATOjdckIAAED67dNyQgAAwKSPy3JCAABAFA7HckIAAMCxH8VyQgAAgK2FlHJCAACAAsmDckIAAIDncl5yQgAAQBcZFHJCAADA1PfocUIAAACt0zFxQgAAwFP2EXFCAACAKKz0cEIAAMA2NIhwQgAAQOHVf3BCAAAAU4JHcEIAAMBiWyZwQgAAACS5EnBCAACARKECcEIAAABX1zlvQgAAgM8NZm5CAACAMeFObkIAAIBRriVuQgAAgA+oE25CAACAT0LBbUIAAAAM62NtQgAAAATSG21CAAAAomfpa0IAAIAXk8hrQgAAgGS9b2tCAACA8YHEakIAAADQY6JqQgAAgKptt2lCAAAAxkesaEI=\",\"dtype\":\"float64\",\"order\":\"little\",\"shape\":[52]},\"y\":{\"__ndarray__\":\"AAAAAAAAUkCmpaWlpeVRQAAAAAAAQFJAAAAAAADAUkAAAAAAAMBRQAAAAAAAgFJARhdddNFFUUAAAAAAAEBRQAAAAAAAAE5AAAAAAACATUAAAAAAAABPQAAAAAAAgE1AAAAAAACAT0AAAAAAAABMQAAAAAAAgEpAHMdxHMexTUAAAAAAAMBQQAAAAAAAAEtAAAAAAADAUUAAAAAAAIBGQAAAAAAAAFFAAAAAAAAARkAAAAAAAIBNQPHw8PDwcE9AAAAAAACATkAAAAAAAABKQI2w3NMIy0pAAAAAAADgSkAAAAAAAIBGQAAAAAAAgEhAVVVVVVXVSUAAAAAAAIBNQOsGU+Sz7klAAAAAAACAT0AAAAAAAABJQAAAAAAAgElAAAAAAACASkAAAAAAAEBIQAAAAAAAQElAAAAAAACAS0AAAAAAAEBHQAAAAAAAgElAMzMzMzOTTkAAAAAAAABHQAAAAAAAgEhAx3Ecx3EcTUAAAAAAAABJQAAAAAAAgE5AuYKYXEHMSEAAAAAAAABJQAAAAAAAgEBAAAAAAAAATEA=\",\"dtype\":\"float64\",\"order\":\"little\",\"shape\":[52]}},\"selected\":{\"id\":\"5573\"},\"selection_policy\":{\"id\":\"5574\"}},\"id\":\"5391\",\"type\":\"ColumnDataSource\"},{\"attributes\":{},\"id\":\"5574\",\"type\":\"UnionRenderers\"},{\"attributes\":{\"fill_alpha\":{\"value\":0.1},\"fill_color\":{\"value\":\"orange\"},\"line_alpha\":{\"value\":0.1},\"line_color\":{\"value\":\"#1f77b4\"},\"size\":{\"units\":\"screen\",\"value\":10},\"x\":{\"field\":\"x\"},\"y\":{\"field\":\"y\"}},\"id\":\"5393\",\"type\":\"Circle\"},{\"attributes\":{\"data\":{\"acousticness\":{\"__ndarray__\":\"LGUZ4lgXtz9oO6buyi5IP7kZbsDnh2E/QwsJGF3eTD+Cc0aU9gafP0+vlGWIY50/iUFg5dAimz+u2F92Tx6GP4C3QILix6g/gLdAguLHqD9FtvP91HjJPzY8vVKWIdQ/Ne84RUdyqT/ImLuWkA+qP/mgZ7Pqc70/AAAAAAAA7D8IrBxaZDu/P+F6FK5H4ao/2c73U+Ol0z89CtejcD3uP9NqSNxj6cc/R+F6FK5H3j8hvc5zMfPCPzLO34RCBFw/JRYLVq811D+3bfJuP/PCP0frqGqCqIs/EHo2qz5Xmz/SAN4CCYpvPymzQSYZOZs/eOkmMQis1D8HGuTMOpS/P2gAb4EExcE/DQIrhxbZzj9Kk1LQ7SW9P1nyiyW/WMI/lkOLbOf70T+TGARWDi2yP6Ydo+E5ALM/yp9vC5bqsj9yGw3gLZDLP3cv98lRgKA/\",\"dtype\":\"float64\",\"order\":\"little\",\"shape\":[42]},\"danceability\":{\"__ndarray__\":\"hetRuB6F2z93vp8aL93oPxxaZDvfT+0/w/UoXI/C6T+PwvUoXI/aPwRWDi2yneM/dJMYBFYO5T+F61G4HoXnP8ZLN4lBYOk/xks3iUFg6T8pXI/C9SjkP+58PzVeuuE/oBov3SQG2T/KoUW28/3oP0w3iUFg5eA/OrTIdr6f4j9pke18PzXmP8qhRbbz/eg/bef7qfHS6T+sHFpkO9/jP2wJ+aBns+Q/9ihcj8L14j+7SQwCK4fmP+58PzVeutk/80T9G6GM4j+IiIiIiIjmP3Roke18P+c/VOOlm8Qg5D8zMzMzMzPbP166SQwCK+c/tvP91Hjp4j8V1Cwfq9DjPy2yne+nxuU/LIcW2c735z9nRGlv8IXlP4ekKRVnH94/001iEFg55D8AAAAAAADYP65p3nGKjuY/EjY8vVKW5T+mm8QgsHLkP4XrUbgehec/\",\"dtype\":\"float64\",\"order\":\"little\",\"shape\":[42]},\"duration_ms\":{\"__ndarray__\":\"AAAAAJhdBkEAAAAA2JkLQQAAAADY0QpBAAAAANjuAUEAAAAA+LAOQQAAAADA+whBAAAAAADBC0EAAAAAANgEQQAAAAA0ExBBAAAAADQTEEEAAAAAgB4LQUmSJElOpAhBAAAAAISKE0EAAAAAUMUKQQAAAAA0Sw5BAAAAAHD6BkEAAAAAmEAJQQAAAABoig5BAAAAAFgnDUEAAAAAGGINQZqZmZl1jQpBAAAAAPhuDEFVVVVV2dwGQQAAAAA4jwpBq6qqqnoeDEFVVVVV2dwGQQAAAADM8gtBAAAAACzuEEEAAAAAgDMNQQAAAABgpQhBAAAAALRbEEE5juM4dtYPQQAAAABEVA5BAAAAADQTEEGamZmZaXYNQQAAAACA5gtBAAAAAABUEEEAAAAAlK4UQQAAAADgrAxBMzMzM6v7DkEAAAAA1PMLQQAAAABAvAxB\",\"dtype\":\"float64\",\"order\":\"little\",\"shape\":[42]},\"energy\":{\"__ndarray__\":\"ZmZmZmZm5j+gGi/dJAblP90kBoGVQ+c/uB6F61G45j8EVg4tsp3XP5duEoPAyuU/H4XrUbge4T8EVg4tsp3fP0w3iUFg5eQ/TDeJQWDl5D8YBFYOLbLtP39edzh9/N8/16NwPQrX5z+yne+nxkvnP6AaL90kBuc/nMQgsHJo0T/sUbgehevpP7Kd76fGS+s/EVg5tMh25j/Xo3A9CtfTP6W9wRcmU+M/UrgehetR4D+7SQwCK4foP2ZmZmZmZuY/a7x0kxgE4j/sCpB7zYXoPwIrhxbZzuk/exSuR+F64D8UrkfhehTmP57vp8ZLN+k/Rbbz/dR47T9swRZswRboP3WTGARWDuY/mpmZmZmZ7T+u+lxtxf7mP5huEoPAyuU/xSCwcmiR7T8v3SQGgZXrP8Dsnjws1OY/k6mCUUmd6D8nMQisHFrkP79Y8oslv+Q/\",\"dtype\":\"float64\",\"order\":\"little\",\"shape\":[42]},\"explicit\":{\"__ndarray__\":\"AAAAAAAA8D8AAAAAAADwPwAAAAAAAPA/AAAAAAAA8D8AAAAAAADwPwAAAAAAAPA/AAAAAAAA8D8AAAAAAADwPwAAAAAAAPA/AAAAAAAA8D8AAAAAAAAAALdt27Zt2+Y/AAAAAAAAAAAAAAAAAADwPwAAAAAAAAAAAAAAAAAAAAAAAAAAAAAAAAAAAAAAAPA/AAAAAAAA8D8AAAAAAAAAAGZmZmZmZuY/AAAAAAAAAAAAAAAAAADgPwAAAAAAAAAAAAAAAAAAAAAAAAAAAADgPwAAAAAAAAAAAAAAAAAA8D8AAAAAAAAAAAAAAAAAAOA/AAAAAAAA8D9VVVVVVVXVPwAAAAAAAAAAAAAAAAAA8D+amZmZmZnJP6uqqqqqquo/AAAAAAAA8D8AAAAAAADwPwAAAAAAAAAAAAAAAAAAAAAAAAAAAAAAAAAAAAAAAAAA\",\"dtype\":\"float64\",\"order\":\"little\",\"shape\":[42]},\"instrumentalness\":{\"__ndarray__\":\"AAAAAAAAAAD0VhtrmATMPhoXDoRkASM/w5SSL7Ku+z6fOMKasQXgPgAAAAAAAAAAAAAAAAAAAAAH04s1t52xPhjyYycXvgk/GPJjJxe+CT9YObTIdr6/P/OgjgdnSkA/AAAAAAAAAABEymhHHkbAPgAAAAAAAAAAAAAAAAAAAAAAAAAAAAAAAAAAAAAAAAAAAAAAAAAAAADCxHr+DwsQP56YLw6yVUc/wsR6/g8LAD9Z2RrtlOpuP+C04EVfQXo/rVtOUxVk9T7fqzIvY+ZuP1rY0w5/TYY/Edd7O9OV6T7SAN4CCYqPPwAAAAAAAAAAAAAAAAAAAAACW6anEBD0PqpB4mjYOQc/AAAAAAAAAAAW6AOXAUYLP9iITVEbwv4+AAAAAAAAAAAAAAAAAAAAAMXlMTAWeYo/u90/1IVxmj+S1zm81pTqPpPLf0i/fU0/\",\"dtype\":\"float64\",\"order\":\"little\",\"shape\":[42]},\"key\":{\"__ndarray__\":\"AAAAAAAAGEAAAAAAAADwPwAAAAAAAPA/AAAAAAAA8D8AAAAAAAAgQAAAAAAAACBAAAAAAAAAIkAAAAAAAAAgQAAAAAAAABxAAAAAAAAAHEAAAAAAAAAiQNu2bdu2bRdAAAAAAAAAAEAAAAAAAADwPwAAAAAAAARAAAAAAAAAAEAAAAAAAAAmQAAAAAAAAPA/AAAAAAAAGEAAAAAAAAAiQM3MzMzMzBRAAAAAAAAAJEBVVVVVVVUJQAAAAAAAACJAq6qqqqqqJEBVVVVVVVUJQAAAAAAAAOA/AAAAAAAAAAAAAAAAAAAAAAAAAAAAAAxAAAAAAAAA8D/kOI7jOI4XQAAAAAAAABVAAAAAAAAAJEDNzMzMzMwYQAAAAAAAABRAAAAAAAAA8D8AAAAAAAAmQDMzMzMzMxVAZmZmZmZmBkAAAAAAAAAWQKuqqqqqqhpA\",\"dtype\":\"float64\",\"order\":\"little\",\"shape\":[42]},\"liveness\":{\"__ndarray__\":\"2873U+Olyz8kufyH9Nu3P2mR7Xw/Nb4/tvP91Hjp1j9PjZduEoPYP1TjpZvEIMA/mpmZmZmZyT/azvdT46W7P5qZmZmZmbk/mpmZmZmZuT+MbOf7qfHCP3/Ebh3fncI/dJMYBFYO1T+mm8QgsHLQPw4tsp3vp74/pHA9CtejwD8/NV66SQzCP7gehetRuL4/0SLb+X5qvD/AyqFFtvO9P8gHPZtVn8M/ILByaJHtvD+4rNUxwYPJP6abxCCwcsg/Q9KUirMPvz+3rNUxwYPJP3WTGARWDsU/QYLix5i7tj+R7Xw/NV7SP+f7qfHSTcY/hxbZzvdT0z/c/iBDZYfBP7bz/dR46bY/pHA9Ctej4D+qZWt9kdC2P/0boYzeltE/okW28/3U0D82XrpJDALLP7kUV5V9V8A/otEdxM4Uwj9ns+pztRXQP0CC4seYu7Y/\",\"dtype\":\"float64\",\"order\":\"little\",\"shape\":[42]},\"loudness\":{\"__ndarray__\":\"ZmZmZmZmFcAj2/l+arwZwNNNYhBYORrAxSCwcmiRGsBKDAIrhxYkwIPAyqFFtgjAnO+nxkv3IcAhsHJokW0ewEBg5dAiWx/AQGDl0CJbH8Cyne+nxksGwJrcqiifIBrAyXa+nxovGcAGgZVDi+wTwK0cWmQ7nxPA2s73U+OlFsCmm8QgsHIMwHE9CtejcA3Axks3iUFgGsCHFtnO91MkwIqO5PIf0hrAXrpJDAIrHsDYo3A9CpcWwHbpJjEIrBfAq6qqqqoqHMCLsw+fYZcWwGZmZmZmphXAne+nxku3JMD8qfHSTeIYwDEIrBxa5BDAZDvfT42X/L+bC0lTKs4RwPLSTWIQOBDAiUFg5dAiFMAooImw4ekQwBVnHz7D7hLAoUW28/3U/L+BlUOLbOcKwMwQx7q4DRXAg+LHmLsWFcDRItv5fkoYwEOLbOf7KR3A\",\"dtype\":\"float64\",\"order\":\"little\",\"shape\":[42]},\"mode\":{\"__ndarray__\":\"AAAAAAAA8D8AAAAAAADwPwAAAAAAAPA/AAAAAAAA8D8AAAAAAADwPwAAAAAAAPA/AAAAAAAAAAAAAAAAAAAAAAAAAAAAAPA/AAAAAAAA8D8AAAAAAAAAAJIkSZIkSeI/AAAAAAAA8D8AAAAAAADwPwAAAAAAAOA/AAAAAAAA8D8AAAAAAAAAAAAAAAAAAAAAAAAAAAAAAAAAAAAAAAAAADMzMzMzM9M/AAAAAAAAAABVVVVVVVXlPwAAAAAAAAAAAAAAAAAAAABVVVVVVVXlPwAAAAAAAOA/AAAAAAAAAAAAAAAAAADwPwAAAAAAAOA/AAAAAAAA8D9VVVVVVVXlPwAAAAAAAOg/AAAAAAAA8D+amZmZmZnpPwAAAAAAAOA/AAAAAAAA8D8AAAAAAAAAAAAAAAAAAOA/MzMzMzMz4z8AAAAAAADQP1VVVVVVVeU/\",\"dtype\":\"float64\",\"order\":\"little\",\"shape\":[42]},\"popularity\":{\"__ndarray__\":\"AAAAAACAVUAAAAAAAABQQAAAAAAAQFBAAAAAAAAATUAAAAAAAABQQAAAAAAAgFBAAAAAAABAUkAAAAAAAABPQAAAAAAAAE1AAAAAAABAUkAAAAAAAMBTQLdt27Ztm1BAAAAAAAAATkAAAAAAAMBSQAAAAAAAwEtAAAAAAADAU0AAAAAAAABQQAAAAAAAgFBAAAAAAAAAT0AAAAAAAABIQM3MzMzMTEtAAAAAAABATkBVVVVVVdVKQAAAAAAAAE1Aq6qqqqqqT0AAAAAAAMBOQAAAAAAAoFFAAAAAAAAAUkAAAAAAAEBQQAAAAAAAwElAAAAAAAAASkBVVVVVVdVKQAAAAAAAAE9AAAAAAABAVEBmZmZmZuZNQAAAAAAAQE1AAAAAAACAUUAAAAAAAMBSQGZmZmZmZlBAzczMzMzMTEAAAAAAAEBPQKuqqqqqKk5A\",\"dtype\":\"float64\",\"order\":\"little\",\"shape\":[42]},\"release_date\":{\"__ndarray__\":\"AAAAnZQRd0IAAAB+ZiN2QgAAQId3BXZCAACA85ECdkIAAIB8Fdh1QgAAQJPRzHVCAACAJpy2dUIAAMDN2a91QgAAgJp2SnVCAABA0jVIdUIAAAAK9UV1QgAAAHlYKHVCAABAm1PLdEIAAAAONsV0QgAAwNw+xHRCAABAz5OxdEIAAEA23kt0QgAAgPBYInRCAADAE4r3c0IAAICFNr9zQgAAwCx0uHNCAAAAxyG4c0IAAEAldolzQgAAAHdVenNCAAAADWlJc0IAAMD1kTtzQgAAAJA/O3NCAADAXkg6c0IAAECgMzNzQgAAQPrt03JCAABAFA7HckIAAMCxH8VyQgAAAEzNxHJCAACArYWUckIAAIDncl5yQgAAADbuUHJCAABAMm85ckIAAIAf9MNxQgAAACxppHFCAACASa/9cEIAAACQEahwQgAAAIj4X3BC\",\"dtype\":\"float64\",\"order\":\"little\",\"shape\":[42]},\"speechiness\":{\"__ndarray__\":\"TDeJQWDl0D+8dJMYBFbOP3uDL0ymCrY/LbKd76fG0z+cM6K0N/iyPwn5oGez6rM/LSEf9GxWrT9xPQrXo3C9P5LtfD81Xro/ku18PzVeuj9txf6ye/KgP7BnDLS9GrE//mX35GGhtj96xyk6ksuvPzjWxW00gKc/uycPC7WmqT9d/kP67euwP+f7qfHSTbI/EqW9wRcmsz9CPujZrPqcP1z+Q/rt67A/zojS3uALoz/Q/a9NPeWrP11txf6ye6I/K4cW2c73oz+RXP5D+u2rPxwN4C2QoLA/9ihcj8L10D8N4C2QoPihP+C+DpwzosA/1XjpJjEI1D+6JOFV6QG2P/kP6bevA6c/dJMYBFYOzT8CK4cW2c6nP33Qs1n1ubo/j8L1KFyP0j9SuB6F61HQPyMf9GxWfa4/2xZlNsgksz8nMQisHFrCP0PSlIqzD78/\",\"dtype\":\"float64\",\"order\":\"little\",\"shape\":[42]},\"tempo\":{\"__ndarray__\":\"Di2yne/LY0A6tMh2vr9nQCyHFtnOv1dAxSCwcmjBZ0A6tMh2vu9XQDq0yHa+Z1hAsp3vp8arW0AMAiuHFuVgQGQ730+Nf11AZDvfT41/XUASg8DKof1eQLew7EVzvl1AhetRuB6NU0CPwvUoXL9ZQClcj8L10mFAT42XbhK7aUDl0CLb+T5hQEFg5dAig1tA30+Nl26CXED91HjpJvlbQANWDi2yoV9ASOF6FK57WUBlrY4JHgBcQJqZmZmZQVVAUf9GKKOnWEDotIFOGwBcQO58PzVe/l9ArkfhehR2XkCPwvUoXD9VQMUgsHJoX2FAv8qhRbazVUAklNHbsm5fQJLtfD81XmBAnO+nxku/VUCQMXctIRdgQOm0gU4b2GNAvHSTGAS2VUD0/dR46fpjQFJJnYAmalxArbZif9ktXkDgT42XbtxeQBXZzvdTM1dA\",\"dtype\":\"float64\",\"order\":\"little\",\"shape\":[42]},\"valence\":{\"__ndarray__\":\"MQisHFpk5z9cj8L1KFzPP+58PzVeusk/N4lBYOXQwj/l8h/Sb1+3PwIrhxbZzuM/N4lBYOXQ2j/o+6nx0k3CP/P91HjpJtk/8/3UeOkm2T/D9Shcj8LdPzGOzjplcts/tvP91Hjp3j9I4XoUrkfZP2ZmZmZmZuA/Di2yne+n1j+S7Xw/NV7qPyuHFtnO9+M/z/dT46Wb3D8AAAAAAADAP8oyxLEubtc/+n5qvHST0D9o2BUg95rfP39qvHSTGNQ/S8XZh8+w0z/ZzvdT46XfP05iEFg5tOA/iUFg5dAi0z9t5/up8dLNPycxCKwcWuI/MQisHFpk2z9MyntgeMPhPyLb+X5qvOI/T42XbhKD5D+vlGWIY13gP22g0wY6beA/001iEFg53D9kO99PjZfeP1qoNc07TuU/eHqlLEMc4z/FILByaJHjPwAAAAAAAOQ/\",\"dtype\":\"float64\",\"order\":\"little\",\"shape\":[42]},\"year\":{\"__ndarray__\":\"AAAAAACQn0AAAAAAAIifQAAAAAAAhJ9AAAAAAACEn0AAAAAAAISfQAAAAAAAhJ9AAAAAAACEn0AAAAAAAISfQAAAAAAAgJ9AAAAAAACAn0AAAAAAAICfQAAAAAAAgJ9AAAAAAAB8n0AAAAAAAHyfQAAAAAAAfJ9AAAAAAAB8n0AAAAAAAHifQAAAAAAAdJ9AAAAAAAB0n0AAAAAAAHSfQAAAAAAAcJ9AAAAAAABwn0AAAAAAAHCfQAAAAAAAcJ9AAAAAAABwn0AAAAAAAGyfQAAAAAAAbJ9AAAAAAABsn0AAAAAAAGyfQAAAAAAAbJ9AAAAAAABon0AAAAAAAGifQAAAAAAAaJ9AAAAAAABon0AAAAAAAGifQAAAAAAAZJ9AAAAAAABkn0AAAAAAAGCfQAAAAAAAYJ9AAAAAAABcn0AAAAAAAFifQAAAAAAAVJ9A\",\"dtype\":\"float64\",\"order\":\"little\",\"shape\":[42]}},\"selected\":{\"id\":\"5879\"},\"selection_policy\":{\"id\":\"5880\"}},\"id\":\"5698\",\"type\":\"ColumnDataSource\"},{\"attributes\":{},\"id\":\"5567\",\"type\":\"DatetimeTickFormatter\"},{\"attributes\":{\"axis_label\":\"release_date\",\"formatter\":{\"id\":\"5567\"},\"ticker\":{\"id\":\"5363\"}},\"id\":\"5362\",\"type\":\"DatetimeAxis\"},{\"attributes\":{\"axis\":{\"id\":\"5362\"},\"grid_line_color\":null,\"ticker\":null},\"id\":\"5365\",\"type\":\"Grid\"},{\"attributes\":{\"data_source\":{\"id\":\"5698\"},\"glyph\":{\"id\":\"5699\"},\"hover_glyph\":null,\"muted_glyph\":null,\"view\":{\"id\":\"5701\"}},\"id\":\"5700\",\"type\":\"GlyphRenderer\"},{\"attributes\":{\"source\":{\"id\":\"5391\"}},\"id\":\"5395\",\"type\":\"CDSView\"},{\"attributes\":{},\"id\":\"5371\",\"type\":\"WheelZoomTool\"},{\"attributes\":{\"data_source\":{\"id\":\"5391\"},\"glyph\":{\"id\":\"5392\"},\"hover_glyph\":null,\"muted_glyph\":null,\"nonselection_glyph\":{\"id\":\"5393\"},\"selection_glyph\":null,\"view\":{\"id\":\"5395\"}},\"id\":\"5394\",\"type\":\"GlyphRenderer\"},{\"attributes\":{\"line_color\":\"green\",\"x\":{\"field\":\"release_date\"},\"y\":{\"field\":\"popularity\"}},\"id\":\"5699\",\"type\":\"Line\"},{\"attributes\":{\"mantissas\":[1,2,5],\"max_interval\":500.0,\"num_minor_ticks\":0},\"id\":\"5575\",\"type\":\"AdaptiveTicker\"},{\"attributes\":{\"text\":\"la moyenne de popularit\\u00e9 des artistes selon release_date\"},\"id\":\"5352\",\"type\":\"Title\"},{\"attributes\":{\"overlay\":{\"id\":\"5376\"}},\"id\":\"5372\",\"type\":\"BoxZoomTool\"},{\"attributes\":{\"base\":60,\"mantissas\":[1,2,5,10,15,20,30],\"max_interval\":1800000.0,\"min_interval\":1000.0,\"num_minor_ticks\":0},\"id\":\"5576\",\"type\":\"AdaptiveTicker\"},{\"attributes\":{\"days\":[1,2,3,4,5,6,7,8,9,10,11,12,13,14,15,16,17,18,19,20,21,22,23,24,25,26,27,28,29,30,31]},\"id\":\"5578\",\"type\":\"DaysTicker\"},{\"attributes\":{\"num_minor_ticks\":5,\"tickers\":[{\"id\":\"5575\"},{\"id\":\"5576\"},{\"id\":\"5577\"},{\"id\":\"5578\"},{\"id\":\"5579\"},{\"id\":\"5580\"},{\"id\":\"5581\"},{\"id\":\"5582\"},{\"id\":\"5583\"},{\"id\":\"5584\"},{\"id\":\"5585\"},{\"id\":\"5586\"}]},\"id\":\"5363\",\"type\":\"DatetimeTicker\"},{\"attributes\":{\"line_alpha\":0.1,\"line_color\":\"#1f77b4\",\"x\":{\"field\":\"x\"},\"y\":{\"field\":\"y\"}},\"id\":\"5386\",\"type\":\"Line\"},{\"attributes\":{},\"id\":\"5375\",\"type\":\"HelpTool\"},{\"attributes\":{\"base\":24,\"mantissas\":[1,2,4,6,8,12],\"max_interval\":43200000.0,\"min_interval\":3600000.0,\"num_minor_ticks\":0},\"id\":\"5577\",\"type\":\"AdaptiveTicker\"},{\"attributes\":{},\"id\":\"5354\",\"type\":\"DataRange1d\"},{\"attributes\":{\"active_drag\":\"auto\",\"active_inspect\":\"auto\",\"active_multi\":null,\"active_scroll\":\"auto\",\"active_tap\":\"auto\",\"tools\":[{\"id\":\"5370\"},{\"id\":\"5371\"},{\"id\":\"5372\"},{\"id\":\"5373\"},{\"id\":\"5374\"},{\"id\":\"5375\"}]},\"id\":\"5377\",\"type\":\"Toolbar\"},{\"attributes\":{\"months\":[0,1,2,3,4,5,6,7,8,9,10,11]},\"id\":\"5582\",\"type\":\"MonthsTicker\"},{\"attributes\":{\"months\":[0,2,4,6,8,10]},\"id\":\"5583\",\"type\":\"MonthsTicker\"},{\"attributes\":{},\"id\":\"5360\",\"type\":\"LinearScale\"},{\"attributes\":{\"days\":[1,4,7,10,13,16,19,22,25,28]},\"id\":\"5579\",\"type\":\"DaysTicker\"},{\"attributes\":{\"days\":[1,15]},\"id\":\"5581\",\"type\":\"DaysTicker\"},{\"attributes\":{},\"id\":\"5356\",\"type\":\"DataRange1d\"},{\"attributes\":{\"months\":[0,6]},\"id\":\"5585\",\"type\":\"MonthsTicker\"},{\"attributes\":{\"days\":[1,8,15,22]},\"id\":\"5580\",\"type\":\"DaysTicker\"},{\"attributes\":{},\"id\":\"5358\",\"type\":\"LinearScale\"},{\"attributes\":{\"line_color\":\"#1f77b4\",\"x\":{\"field\":\"x\"},\"y\":{\"field\":\"y\"}},\"id\":\"5385\",\"type\":\"Line\"},{\"attributes\":{\"source\":{\"id\":\"5698\"}},\"id\":\"5701\",\"type\":\"CDSView\"},{\"attributes\":{},\"id\":\"5586\",\"type\":\"YearsTicker\"},{\"attributes\":{},\"id\":\"5373\",\"type\":\"SaveTool\"},{\"attributes\":{\"months\":[0,4,8]},\"id\":\"5584\",\"type\":\"MonthsTicker\"},{\"attributes\":{\"data\":{\"x\":{\"__ndarray__\":\"AAAAnZQRd0IAAIDKDPt2QgAAwKs3vnZCAACAofCpdkIAAEDZr6d2QgAAwAXyXnZCAACAeNRYdkIAAECHdwV2QgAAAFQUoHVCAABAJkMFdUIAAADA1et0QgAAQI7D0XRCAACAY5TNdEIAAICQ8Z10QgAAQGWngHRCAACA8FgidEIAAICFNr9zQgAAAA1pSXNCAACATOjdckIAAED67dNyQgAAwKSPy3JCAABAFA7HckIAAMCxH8VyQgAAgK2FlHJCAACAAsmDckIAAIDncl5yQgAAQBcZFHJCAADA1PfocUIAAACt0zFxQgAAwFP2EXFCAACAKKz0cEIAAMA2NIhwQgAAQOHVf3BCAAAAU4JHcEIAAMBiWyZwQgAAACS5EnBCAACARKECcEIAAABX1zlvQgAAgM8NZm5CAACAMeFObkIAAIBRriVuQgAAgA+oE25CAACAT0LBbUIAAAAM62NtQgAAAATSG21CAAAAomfpa0IAAIAXk8hrQgAAgGS9b2tCAACA8YHEakIAAADQY6JqQgAAgKptt2lCAAAAxkesaEI=\",\"dtype\":\"float64\",\"order\":\"little\",\"shape\":[52]},\"y\":{\"__ndarray__\":\"AAAAAAAAUkCmpaWlpeVRQAAAAAAAQFJAAAAAAADAUkAAAAAAAMBRQAAAAAAAgFJARhdddNFFUUAAAAAAAEBRQAAAAAAAAE5AAAAAAACATUAAAAAAAABPQAAAAAAAgE1AAAAAAACAT0AAAAAAAABMQAAAAAAAgEpAHMdxHMexTUAAAAAAAMBQQAAAAAAAAEtAAAAAAADAUUAAAAAAAIBGQAAAAAAAAFFAAAAAAAAARkAAAAAAAIBNQPHw8PDwcE9AAAAAAACATkAAAAAAAABKQI2w3NMIy0pAAAAAAADgSkAAAAAAAIBGQAAAAAAAgEhAVVVVVVXVSUAAAAAAAIBNQOsGU+Sz7klAAAAAAACAT0AAAAAAAABJQAAAAAAAgElAAAAAAACASkAAAAAAAEBIQAAAAAAAQElAAAAAAACAS0AAAAAAAEBHQAAAAAAAgElAMzMzMzOTTkAAAAAAAABHQAAAAAAAgEhAx3Ecx3EcTUAAAAAAAABJQAAAAAAAgE5AuYKYXEHMSEAAAAAAAABJQAAAAAAAgEBAAAAAAAAATEA=\",\"dtype\":\"float64\",\"order\":\"little\",\"shape\":[52]}},\"selected\":{\"id\":\"5571\"},\"selection_policy\":{\"id\":\"5572\"}},\"id\":\"5384\",\"type\":\"ColumnDataSource\"},{\"attributes\":{\"data_source\":{\"id\":\"5384\"},\"glyph\":{\"id\":\"5385\"},\"hover_glyph\":null,\"muted_glyph\":null,\"nonselection_glyph\":{\"id\":\"5386\"},\"selection_glyph\":null,\"view\":{\"id\":\"5388\"}},\"id\":\"5387\",\"type\":\"GlyphRenderer\"},{\"attributes\":{},\"id\":\"5569\",\"type\":\"BasicTickFormatter\"},{\"attributes\":{},\"id\":\"5374\",\"type\":\"ResetTool\"},{\"attributes\":{},\"id\":\"5367\",\"type\":\"BasicTicker\"},{\"attributes\":{},\"id\":\"5571\",\"type\":\"Selection\"},{\"attributes\":{},\"id\":\"5879\",\"type\":\"Selection\"},{\"attributes\":{},\"id\":\"5572\",\"type\":\"UnionRenderers\"},{\"attributes\":{},\"id\":\"5880\",\"type\":\"UnionRenderers\"},{\"attributes\":{},\"id\":\"5370\",\"type\":\"PanTool\"},{\"attributes\":{\"bottom_units\":\"screen\",\"fill_alpha\":0.5,\"fill_color\":\"lightgrey\",\"left_units\":\"screen\",\"level\":\"overlay\",\"line_alpha\":1.0,\"line_color\":\"black\",\"line_dash\":[4,4],\"line_width\":2,\"right_units\":\"screen\",\"top_units\":\"screen\"},\"id\":\"5376\",\"type\":\"BoxAnnotation\"},{\"attributes\":{\"axis_label\":\"popularity\",\"formatter\":{\"id\":\"5569\"},\"ticker\":{\"id\":\"5367\"}},\"id\":\"5366\",\"type\":\"LinearAxis\"},{\"attributes\":{\"axis\":{\"id\":\"5366\"},\"dimension\":1,\"grid_line_alpha\":0.5,\"ticker\":null},\"id\":\"5369\",\"type\":\"Grid\"}],\"root_ids\":[\"5351\"]},\"title\":\"Bokeh Application\",\"version\":\"2.2.3\"}};\n",
       "  var render_items = [{\"docid\":\"a55f9963-4373-4ff9-a027-c4b6b77107f6\",\"root_ids\":[\"5351\"],\"roots\":{\"5351\":\"d86740f7-486f-4e48-90dc-e76ef3219e68\"}}];\n",
       "  root.Bokeh.embed.embed_items_notebook(docs_json, render_items);\n",
       "\n",
       "  }\n",
       "  if (root.Bokeh !== undefined) {\n",
       "    embed_document(root);\n",
       "  } else {\n",
       "    var attempts = 0;\n",
       "    var timer = setInterval(function(root) {\n",
       "      if (root.Bokeh !== undefined) {\n",
       "        clearInterval(timer);\n",
       "        embed_document(root);\n",
       "      } else {\n",
       "        attempts++;\n",
       "        if (attempts > 100) {\n",
       "          clearInterval(timer);\n",
       "          console.log(\"Bokeh: ERROR: Unable to run BokehJS code because BokehJS library is missing\");\n",
       "        }\n",
       "      }\n",
       "    }, 10, root)\n",
       "  }\n",
       "})(window);"
      ],
      "application/vnd.bokehjs_exec.v0+json": ""
     },
     "metadata": {
      "application/vnd.bokehjs_exec.v0+json": {
       "id": "5351"
      }
     },
     "output_type": "display_data"
    }
   ],
   "source": [
    "# Afficher le graphe\n",
    "show(p)\n"
   ]
  },
  {
   "cell_type": "markdown",
   "metadata": {},
   "source": [
    "<br> En explorant la propriété renderers de votre plot, vous pouvez voir les propriétés et les glyphs le composant. Ceci est utile pour garder trace des composants du graphe, ainsi qur pour lier les composants avec de nouveaux objets comme les items légende par exemple. \n"
   ]
  },
  {
   "cell_type": "code",
   "execution_count": 126,
   "metadata": {},
   "outputs": [
    {
     "data": {
      "text/plain": [
       "[GlyphRenderer(id='5387', ...),\n",
       " GlyphRenderer(id='5394', ...),\n",
       " GlyphRenderer(id='5700', ...)]"
      ]
     },
     "execution_count": 126,
     "metadata": {},
     "output_type": "execute_result"
    }
   ],
   "source": [
    "# Afficher la liste des renderers de votre graphe, quelles sont les propriétés sauvegardées?\n",
    "p.renderers"
   ]
  },
  {
   "cell_type": "markdown",
   "metadata": {},
   "source": [
    "<br> Comme le graphe a deux ligne, on voudrait ajouter une légende pour les différencier. On créera alors Legend items, puis ajoutera la légende à notre graphe."
   ]
  },
  {
   "cell_type": "code",
   "execution_count": 127,
   "metadata": {},
   "outputs": [],
   "source": [
    "from bokeh.models import Legend, LegendItem"
   ]
  },
  {
   "cell_type": "code",
   "execution_count": 128,
   "metadata": {},
   "outputs": [],
   "source": [
    "# Créer deux legend items et leur donner des labels significatifs. Utiliser les renderers pour les pointer sur le bon glyph\n",
    "li1 = LegendItem(label='Eminem', renderers=[p.renderers[0]])\n",
    "li2 = LegendItem(label='Rihanna', renderers=[p.renderers[2]])"
   ]
  },
  {
   "cell_type": "code",
   "execution_count": 129,
   "metadata": {},
   "outputs": [],
   "source": [
    "# Créer l'objet Legend qui inclue les deux legend items. Il est possible de spécifier l'emplacement de la légende\n",
    "legend = Legend(items=[li1, li2], location='top_left')"
   ]
  },
  {
   "cell_type": "code",
   "execution_count": 130,
   "metadata": {},
   "outputs": [],
   "source": [
    "# Ajouter Legend au graphe en utilisant la fonction add_layout\n",
    "p.add_layout(legend)"
   ]
  },
  {
   "cell_type": "code",
   "execution_count": 131,
   "metadata": {},
   "outputs": [
    {
     "data": {
      "text/html": [
       "\n",
       "\n",
       "\n",
       "\n",
       "\n",
       "\n",
       "  <div class=\"bk-root\" id=\"8f90491a-d73c-42bc-9457-455206c1cc04\" data-root-id=\"5351\"></div>\n"
      ]
     },
     "metadata": {},
     "output_type": "display_data"
    },
    {
     "data": {
      "application/javascript": [
       "(function(root) {\n",
       "  function embed_document(root) {\n",
       "    \n",
       "  var docs_json = {\"2c9d5488-8c9a-48bb-aa41-b48b964a69a9\":{\"roots\":{\"references\":[{\"attributes\":{\"below\":[{\"id\":\"5362\"}],\"center\":[{\"id\":\"5365\"},{\"id\":\"5369\"},{\"id\":\"6018\"}],\"left\":[{\"id\":\"5366\"}],\"plot_height\":800,\"plot_width\":800,\"renderers\":[{\"id\":\"5387\"},{\"id\":\"5394\"},{\"id\":\"5700\"}],\"title\":{\"id\":\"5352\"},\"toolbar\":{\"id\":\"5377\"},\"x_range\":{\"id\":\"5354\"},\"x_scale\":{\"id\":\"5358\"},\"y_range\":{\"id\":\"5356\"},\"y_scale\":{\"id\":\"5360\"}},\"id\":\"5351\",\"subtype\":\"Figure\",\"type\":\"Plot\"},{\"attributes\":{\"fill_alpha\":{\"value\":0.5},\"fill_color\":{\"value\":\"orange\"},\"line_color\":{\"value\":\"#1f77b4\"},\"size\":{\"units\":\"screen\",\"value\":10},\"x\":{\"field\":\"x\"},\"y\":{\"field\":\"y\"}},\"id\":\"5392\",\"type\":\"Circle\"},{\"attributes\":{\"source\":{\"id\":\"5384\"}},\"id\":\"5388\",\"type\":\"CDSView\"},{\"attributes\":{},\"id\":\"5573\",\"type\":\"Selection\"},{\"attributes\":{\"data\":{\"x\":{\"__ndarray__\":\"AAAAnZQRd0IAAIDKDPt2QgAAwKs3vnZCAACAofCpdkIAAEDZr6d2QgAAwAXyXnZCAACAeNRYdkIAAECHdwV2QgAAAFQUoHVCAABAJkMFdUIAAADA1et0QgAAQI7D0XRCAACAY5TNdEIAAICQ8Z10QgAAQGWngHRCAACA8FgidEIAAICFNr9zQgAAAA1pSXNCAACATOjdckIAAED67dNyQgAAwKSPy3JCAABAFA7HckIAAMCxH8VyQgAAgK2FlHJCAACAAsmDckIAAIDncl5yQgAAQBcZFHJCAADA1PfocUIAAACt0zFxQgAAwFP2EXFCAACAKKz0cEIAAMA2NIhwQgAAQOHVf3BCAAAAU4JHcEIAAMBiWyZwQgAAACS5EnBCAACARKECcEIAAABX1zlvQgAAgM8NZm5CAACAMeFObkIAAIBRriVuQgAAgA+oE25CAACAT0LBbUIAAAAM62NtQgAAAATSG21CAAAAomfpa0IAAIAXk8hrQgAAgGS9b2tCAACA8YHEakIAAADQY6JqQgAAgKptt2lCAAAAxkesaEI=\",\"dtype\":\"float64\",\"order\":\"little\",\"shape\":[52]},\"y\":{\"__ndarray__\":\"AAAAAAAAUkCmpaWlpeVRQAAAAAAAQFJAAAAAAADAUkAAAAAAAMBRQAAAAAAAgFJARhdddNFFUUAAAAAAAEBRQAAAAAAAAE5AAAAAAACATUAAAAAAAABPQAAAAAAAgE1AAAAAAACAT0AAAAAAAABMQAAAAAAAgEpAHMdxHMexTUAAAAAAAMBQQAAAAAAAAEtAAAAAAADAUUAAAAAAAIBGQAAAAAAAAFFAAAAAAAAARkAAAAAAAIBNQPHw8PDwcE9AAAAAAACATkAAAAAAAABKQI2w3NMIy0pAAAAAAADgSkAAAAAAAIBGQAAAAAAAgEhAVVVVVVXVSUAAAAAAAIBNQOsGU+Sz7klAAAAAAACAT0AAAAAAAABJQAAAAAAAgElAAAAAAACASkAAAAAAAEBIQAAAAAAAQElAAAAAAACAS0AAAAAAAEBHQAAAAAAAgElAMzMzMzOTTkAAAAAAAABHQAAAAAAAgEhAx3Ecx3EcTUAAAAAAAABJQAAAAAAAgE5AuYKYXEHMSEAAAAAAAABJQAAAAAAAgEBAAAAAAAAATEA=\",\"dtype\":\"float64\",\"order\":\"little\",\"shape\":[52]}},\"selected\":{\"id\":\"5573\"},\"selection_policy\":{\"id\":\"5574\"}},\"id\":\"5391\",\"type\":\"ColumnDataSource\"},{\"attributes\":{},\"id\":\"5574\",\"type\":\"UnionRenderers\"},{\"attributes\":{\"fill_alpha\":{\"value\":0.1},\"fill_color\":{\"value\":\"orange\"},\"line_alpha\":{\"value\":0.1},\"line_color\":{\"value\":\"#1f77b4\"},\"size\":{\"units\":\"screen\",\"value\":10},\"x\":{\"field\":\"x\"},\"y\":{\"field\":\"y\"}},\"id\":\"5393\",\"type\":\"Circle\"},{\"attributes\":{\"data\":{\"acousticness\":{\"__ndarray__\":\"LGUZ4lgXtz9oO6buyi5IP7kZbsDnh2E/QwsJGF3eTD+Cc0aU9gafP0+vlGWIY50/iUFg5dAimz+u2F92Tx6GP4C3QILix6g/gLdAguLHqD9FtvP91HjJPzY8vVKWIdQ/Ne84RUdyqT/ImLuWkA+qP/mgZ7Pqc70/AAAAAAAA7D8IrBxaZDu/P+F6FK5H4ao/2c73U+Ol0z89CtejcD3uP9NqSNxj6cc/R+F6FK5H3j8hvc5zMfPCPzLO34RCBFw/JRYLVq811D+3bfJuP/PCP0frqGqCqIs/EHo2qz5Xmz/SAN4CCYpvPymzQSYZOZs/eOkmMQis1D8HGuTMOpS/P2gAb4EExcE/DQIrhxbZzj9Kk1LQ7SW9P1nyiyW/WMI/lkOLbOf70T+TGARWDi2yP6Ydo+E5ALM/yp9vC5bqsj9yGw3gLZDLP3cv98lRgKA/\",\"dtype\":\"float64\",\"order\":\"little\",\"shape\":[42]},\"danceability\":{\"__ndarray__\":\"hetRuB6F2z93vp8aL93oPxxaZDvfT+0/w/UoXI/C6T+PwvUoXI/aPwRWDi2yneM/dJMYBFYO5T+F61G4HoXnP8ZLN4lBYOk/xks3iUFg6T8pXI/C9SjkP+58PzVeuuE/oBov3SQG2T/KoUW28/3oP0w3iUFg5eA/OrTIdr6f4j9pke18PzXmP8qhRbbz/eg/bef7qfHS6T+sHFpkO9/jP2wJ+aBns+Q/9ihcj8L14j+7SQwCK4fmP+58PzVeutk/80T9G6GM4j+IiIiIiIjmP3Roke18P+c/VOOlm8Qg5D8zMzMzMzPbP166SQwCK+c/tvP91Hjp4j8V1Cwfq9DjPy2yne+nxuU/LIcW2c735z9nRGlv8IXlP4ekKRVnH94/001iEFg55D8AAAAAAADYP65p3nGKjuY/EjY8vVKW5T+mm8QgsHLkP4XrUbgehec/\",\"dtype\":\"float64\",\"order\":\"little\",\"shape\":[42]},\"duration_ms\":{\"__ndarray__\":\"AAAAAJhdBkEAAAAA2JkLQQAAAADY0QpBAAAAANjuAUEAAAAA+LAOQQAAAADA+whBAAAAAADBC0EAAAAAANgEQQAAAAA0ExBBAAAAADQTEEEAAAAAgB4LQUmSJElOpAhBAAAAAISKE0EAAAAAUMUKQQAAAAA0Sw5BAAAAAHD6BkEAAAAAmEAJQQAAAABoig5BAAAAAFgnDUEAAAAAGGINQZqZmZl1jQpBAAAAAPhuDEFVVVVV2dwGQQAAAAA4jwpBq6qqqnoeDEFVVVVV2dwGQQAAAADM8gtBAAAAACzuEEEAAAAAgDMNQQAAAABgpQhBAAAAALRbEEE5juM4dtYPQQAAAABEVA5BAAAAADQTEEGamZmZaXYNQQAAAACA5gtBAAAAAABUEEEAAAAAlK4UQQAAAADgrAxBMzMzM6v7DkEAAAAA1PMLQQAAAABAvAxB\",\"dtype\":\"float64\",\"order\":\"little\",\"shape\":[42]},\"energy\":{\"__ndarray__\":\"ZmZmZmZm5j+gGi/dJAblP90kBoGVQ+c/uB6F61G45j8EVg4tsp3XP5duEoPAyuU/H4XrUbge4T8EVg4tsp3fP0w3iUFg5eQ/TDeJQWDl5D8YBFYOLbLtP39edzh9/N8/16NwPQrX5z+yne+nxkvnP6AaL90kBuc/nMQgsHJo0T/sUbgehevpP7Kd76fGS+s/EVg5tMh25j/Xo3A9CtfTP6W9wRcmU+M/UrgehetR4D+7SQwCK4foP2ZmZmZmZuY/a7x0kxgE4j/sCpB7zYXoPwIrhxbZzuk/exSuR+F64D8UrkfhehTmP57vp8ZLN+k/Rbbz/dR47T9swRZswRboP3WTGARWDuY/mpmZmZmZ7T+u+lxtxf7mP5huEoPAyuU/xSCwcmiR7T8v3SQGgZXrP8Dsnjws1OY/k6mCUUmd6D8nMQisHFrkP79Y8oslv+Q/\",\"dtype\":\"float64\",\"order\":\"little\",\"shape\":[42]},\"explicit\":{\"__ndarray__\":\"AAAAAAAA8D8AAAAAAADwPwAAAAAAAPA/AAAAAAAA8D8AAAAAAADwPwAAAAAAAPA/AAAAAAAA8D8AAAAAAADwPwAAAAAAAPA/AAAAAAAA8D8AAAAAAAAAALdt27Zt2+Y/AAAAAAAAAAAAAAAAAADwPwAAAAAAAAAAAAAAAAAAAAAAAAAAAAAAAAAAAAAAAPA/AAAAAAAA8D8AAAAAAAAAAGZmZmZmZuY/AAAAAAAAAAAAAAAAAADgPwAAAAAAAAAAAAAAAAAAAAAAAAAAAADgPwAAAAAAAAAAAAAAAAAA8D8AAAAAAAAAAAAAAAAAAOA/AAAAAAAA8D9VVVVVVVXVPwAAAAAAAAAAAAAAAAAA8D+amZmZmZnJP6uqqqqqquo/AAAAAAAA8D8AAAAAAADwPwAAAAAAAAAAAAAAAAAAAAAAAAAAAAAAAAAAAAAAAAAA\",\"dtype\":\"float64\",\"order\":\"little\",\"shape\":[42]},\"instrumentalness\":{\"__ndarray__\":\"AAAAAAAAAAD0VhtrmATMPhoXDoRkASM/w5SSL7Ku+z6fOMKasQXgPgAAAAAAAAAAAAAAAAAAAAAH04s1t52xPhjyYycXvgk/GPJjJxe+CT9YObTIdr6/P/OgjgdnSkA/AAAAAAAAAABEymhHHkbAPgAAAAAAAAAAAAAAAAAAAAAAAAAAAAAAAAAAAAAAAAAAAAAAAAAAAADCxHr+DwsQP56YLw6yVUc/wsR6/g8LAD9Z2RrtlOpuP+C04EVfQXo/rVtOUxVk9T7fqzIvY+ZuP1rY0w5/TYY/Edd7O9OV6T7SAN4CCYqPPwAAAAAAAAAAAAAAAAAAAAACW6anEBD0PqpB4mjYOQc/AAAAAAAAAAAW6AOXAUYLP9iITVEbwv4+AAAAAAAAAAAAAAAAAAAAAMXlMTAWeYo/u90/1IVxmj+S1zm81pTqPpPLf0i/fU0/\",\"dtype\":\"float64\",\"order\":\"little\",\"shape\":[42]},\"key\":{\"__ndarray__\":\"AAAAAAAAGEAAAAAAAADwPwAAAAAAAPA/AAAAAAAA8D8AAAAAAAAgQAAAAAAAACBAAAAAAAAAIkAAAAAAAAAgQAAAAAAAABxAAAAAAAAAHEAAAAAAAAAiQNu2bdu2bRdAAAAAAAAAAEAAAAAAAADwPwAAAAAAAARAAAAAAAAAAEAAAAAAAAAmQAAAAAAAAPA/AAAAAAAAGEAAAAAAAAAiQM3MzMzMzBRAAAAAAAAAJEBVVVVVVVUJQAAAAAAAACJAq6qqqqqqJEBVVVVVVVUJQAAAAAAAAOA/AAAAAAAAAAAAAAAAAAAAAAAAAAAAAAxAAAAAAAAA8D/kOI7jOI4XQAAAAAAAABVAAAAAAAAAJEDNzMzMzMwYQAAAAAAAABRAAAAAAAAA8D8AAAAAAAAmQDMzMzMzMxVAZmZmZmZmBkAAAAAAAAAWQKuqqqqqqhpA\",\"dtype\":\"float64\",\"order\":\"little\",\"shape\":[42]},\"liveness\":{\"__ndarray__\":\"2873U+Olyz8kufyH9Nu3P2mR7Xw/Nb4/tvP91Hjp1j9PjZduEoPYP1TjpZvEIMA/mpmZmZmZyT/azvdT46W7P5qZmZmZmbk/mpmZmZmZuT+MbOf7qfHCP3/Ebh3fncI/dJMYBFYO1T+mm8QgsHLQPw4tsp3vp74/pHA9CtejwD8/NV66SQzCP7gehetRuL4/0SLb+X5qvD/AyqFFtvO9P8gHPZtVn8M/ILByaJHtvD+4rNUxwYPJP6abxCCwcsg/Q9KUirMPvz+3rNUxwYPJP3WTGARWDsU/QYLix5i7tj+R7Xw/NV7SP+f7qfHSTcY/hxbZzvdT0z/c/iBDZYfBP7bz/dR46bY/pHA9Ctej4D+qZWt9kdC2P/0boYzeltE/okW28/3U0D82XrpJDALLP7kUV5V9V8A/otEdxM4Uwj9ns+pztRXQP0CC4seYu7Y/\",\"dtype\":\"float64\",\"order\":\"little\",\"shape\":[42]},\"loudness\":{\"__ndarray__\":\"ZmZmZmZmFcAj2/l+arwZwNNNYhBYORrAxSCwcmiRGsBKDAIrhxYkwIPAyqFFtgjAnO+nxkv3IcAhsHJokW0ewEBg5dAiWx/AQGDl0CJbH8Cyne+nxksGwJrcqiifIBrAyXa+nxovGcAGgZVDi+wTwK0cWmQ7nxPA2s73U+OlFsCmm8QgsHIMwHE9CtejcA3Axks3iUFgGsCHFtnO91MkwIqO5PIf0hrAXrpJDAIrHsDYo3A9CpcWwHbpJjEIrBfAq6qqqqoqHMCLsw+fYZcWwGZmZmZmphXAne+nxku3JMD8qfHSTeIYwDEIrBxa5BDAZDvfT42X/L+bC0lTKs4RwPLSTWIQOBDAiUFg5dAiFMAooImw4ekQwBVnHz7D7hLAoUW28/3U/L+BlUOLbOcKwMwQx7q4DRXAg+LHmLsWFcDRItv5fkoYwEOLbOf7KR3A\",\"dtype\":\"float64\",\"order\":\"little\",\"shape\":[42]},\"mode\":{\"__ndarray__\":\"AAAAAAAA8D8AAAAAAADwPwAAAAAAAPA/AAAAAAAA8D8AAAAAAADwPwAAAAAAAPA/AAAAAAAAAAAAAAAAAAAAAAAAAAAAAPA/AAAAAAAA8D8AAAAAAAAAAJIkSZIkSeI/AAAAAAAA8D8AAAAAAADwPwAAAAAAAOA/AAAAAAAA8D8AAAAAAAAAAAAAAAAAAAAAAAAAAAAAAAAAAAAAAAAAADMzMzMzM9M/AAAAAAAAAABVVVVVVVXlPwAAAAAAAAAAAAAAAAAAAABVVVVVVVXlPwAAAAAAAOA/AAAAAAAAAAAAAAAAAADwPwAAAAAAAOA/AAAAAAAA8D9VVVVVVVXlPwAAAAAAAOg/AAAAAAAA8D+amZmZmZnpPwAAAAAAAOA/AAAAAAAA8D8AAAAAAAAAAAAAAAAAAOA/MzMzMzMz4z8AAAAAAADQP1VVVVVVVeU/\",\"dtype\":\"float64\",\"order\":\"little\",\"shape\":[42]},\"popularity\":{\"__ndarray__\":\"AAAAAACAVUAAAAAAAABQQAAAAAAAQFBAAAAAAAAATUAAAAAAAABQQAAAAAAAgFBAAAAAAABAUkAAAAAAAABPQAAAAAAAAE1AAAAAAABAUkAAAAAAAMBTQLdt27Ztm1BAAAAAAAAATkAAAAAAAMBSQAAAAAAAwEtAAAAAAADAU0AAAAAAAABQQAAAAAAAgFBAAAAAAAAAT0AAAAAAAABIQM3MzMzMTEtAAAAAAABATkBVVVVVVdVKQAAAAAAAAE1Aq6qqqqqqT0AAAAAAAMBOQAAAAAAAoFFAAAAAAAAAUkAAAAAAAEBQQAAAAAAAwElAAAAAAAAASkBVVVVVVdVKQAAAAAAAAE9AAAAAAABAVEBmZmZmZuZNQAAAAAAAQE1AAAAAAACAUUAAAAAAAMBSQGZmZmZmZlBAzczMzMzMTEAAAAAAAEBPQKuqqqqqKk5A\",\"dtype\":\"float64\",\"order\":\"little\",\"shape\":[42]},\"release_date\":{\"__ndarray__\":\"AAAAnZQRd0IAAAB+ZiN2QgAAQId3BXZCAACA85ECdkIAAIB8Fdh1QgAAQJPRzHVCAACAJpy2dUIAAMDN2a91QgAAgJp2SnVCAABA0jVIdUIAAAAK9UV1QgAAAHlYKHVCAABAm1PLdEIAAAAONsV0QgAAwNw+xHRCAABAz5OxdEIAAEA23kt0QgAAgPBYInRCAADAE4r3c0IAAICFNr9zQgAAwCx0uHNCAAAAxyG4c0IAAEAldolzQgAAAHdVenNCAAAADWlJc0IAAMD1kTtzQgAAAJA/O3NCAADAXkg6c0IAAECgMzNzQgAAQPrt03JCAABAFA7HckIAAMCxH8VyQgAAAEzNxHJCAACArYWUckIAAIDncl5yQgAAADbuUHJCAABAMm85ckIAAIAf9MNxQgAAACxppHFCAACASa/9cEIAAACQEahwQgAAAIj4X3BC\",\"dtype\":\"float64\",\"order\":\"little\",\"shape\":[42]},\"speechiness\":{\"__ndarray__\":\"TDeJQWDl0D+8dJMYBFbOP3uDL0ymCrY/LbKd76fG0z+cM6K0N/iyPwn5oGez6rM/LSEf9GxWrT9xPQrXo3C9P5LtfD81Xro/ku18PzVeuj9txf6ye/KgP7BnDLS9GrE//mX35GGhtj96xyk6ksuvPzjWxW00gKc/uycPC7WmqT9d/kP67euwP+f7qfHSTbI/EqW9wRcmsz9CPujZrPqcP1z+Q/rt67A/zojS3uALoz/Q/a9NPeWrP11txf6ye6I/K4cW2c73oz+RXP5D+u2rPxwN4C2QoLA/9ihcj8L10D8N4C2QoPihP+C+DpwzosA/1XjpJjEI1D+6JOFV6QG2P/kP6bevA6c/dJMYBFYOzT8CK4cW2c6nP33Qs1n1ubo/j8L1KFyP0j9SuB6F61HQPyMf9GxWfa4/2xZlNsgksz8nMQisHFrCP0PSlIqzD78/\",\"dtype\":\"float64\",\"order\":\"little\",\"shape\":[42]},\"tempo\":{\"__ndarray__\":\"Di2yne/LY0A6tMh2vr9nQCyHFtnOv1dAxSCwcmjBZ0A6tMh2vu9XQDq0yHa+Z1hAsp3vp8arW0AMAiuHFuVgQGQ730+Nf11AZDvfT41/XUASg8DKof1eQLew7EVzvl1AhetRuB6NU0CPwvUoXL9ZQClcj8L10mFAT42XbhK7aUDl0CLb+T5hQEFg5dAig1tA30+Nl26CXED91HjpJvlbQANWDi2yoV9ASOF6FK57WUBlrY4JHgBcQJqZmZmZQVVAUf9GKKOnWEDotIFOGwBcQO58PzVe/l9ArkfhehR2XkCPwvUoXD9VQMUgsHJoX2FAv8qhRbazVUAklNHbsm5fQJLtfD81XmBAnO+nxku/VUCQMXctIRdgQOm0gU4b2GNAvHSTGAS2VUD0/dR46fpjQFJJnYAmalxArbZif9ktXkDgT42XbtxeQBXZzvdTM1dA\",\"dtype\":\"float64\",\"order\":\"little\",\"shape\":[42]},\"valence\":{\"__ndarray__\":\"MQisHFpk5z9cj8L1KFzPP+58PzVeusk/N4lBYOXQwj/l8h/Sb1+3PwIrhxbZzuM/N4lBYOXQ2j/o+6nx0k3CP/P91HjpJtk/8/3UeOkm2T/D9Shcj8LdPzGOzjplcts/tvP91Hjp3j9I4XoUrkfZP2ZmZmZmZuA/Di2yne+n1j+S7Xw/NV7qPyuHFtnO9+M/z/dT46Wb3D8AAAAAAADAP8oyxLEubtc/+n5qvHST0D9o2BUg95rfP39qvHSTGNQ/S8XZh8+w0z/ZzvdT46XfP05iEFg5tOA/iUFg5dAi0z9t5/up8dLNPycxCKwcWuI/MQisHFpk2z9MyntgeMPhPyLb+X5qvOI/T42XbhKD5D+vlGWIY13gP22g0wY6beA/001iEFg53D9kO99PjZfeP1qoNc07TuU/eHqlLEMc4z/FILByaJHjPwAAAAAAAOQ/\",\"dtype\":\"float64\",\"order\":\"little\",\"shape\":[42]},\"year\":{\"__ndarray__\":\"AAAAAACQn0AAAAAAAIifQAAAAAAAhJ9AAAAAAACEn0AAAAAAAISfQAAAAAAAhJ9AAAAAAACEn0AAAAAAAISfQAAAAAAAgJ9AAAAAAACAn0AAAAAAAICfQAAAAAAAgJ9AAAAAAAB8n0AAAAAAAHyfQAAAAAAAfJ9AAAAAAAB8n0AAAAAAAHifQAAAAAAAdJ9AAAAAAAB0n0AAAAAAAHSfQAAAAAAAcJ9AAAAAAABwn0AAAAAAAHCfQAAAAAAAcJ9AAAAAAABwn0AAAAAAAGyfQAAAAAAAbJ9AAAAAAABsn0AAAAAAAGyfQAAAAAAAbJ9AAAAAAABon0AAAAAAAGifQAAAAAAAaJ9AAAAAAABon0AAAAAAAGifQAAAAAAAZJ9AAAAAAABkn0AAAAAAAGCfQAAAAAAAYJ9AAAAAAABcn0AAAAAAAFifQAAAAAAAVJ9A\",\"dtype\":\"float64\",\"order\":\"little\",\"shape\":[42]}},\"selected\":{\"id\":\"5879\"},\"selection_policy\":{\"id\":\"5880\"}},\"id\":\"5698\",\"type\":\"ColumnDataSource\"},{\"attributes\":{},\"id\":\"5567\",\"type\":\"DatetimeTickFormatter\"},{\"attributes\":{\"axis_label\":\"release_date\",\"formatter\":{\"id\":\"5567\"},\"ticker\":{\"id\":\"5363\"}},\"id\":\"5362\",\"type\":\"DatetimeAxis\"},{\"attributes\":{\"axis\":{\"id\":\"5362\"},\"grid_line_color\":null,\"ticker\":null},\"id\":\"5365\",\"type\":\"Grid\"},{\"attributes\":{\"data_source\":{\"id\":\"5698\"},\"glyph\":{\"id\":\"5699\"},\"hover_glyph\":null,\"muted_glyph\":null,\"view\":{\"id\":\"5701\"}},\"id\":\"5700\",\"type\":\"GlyphRenderer\"},{\"attributes\":{\"source\":{\"id\":\"5391\"}},\"id\":\"5395\",\"type\":\"CDSView\"},{\"attributes\":{},\"id\":\"5371\",\"type\":\"WheelZoomTool\"},{\"attributes\":{\"data_source\":{\"id\":\"5391\"},\"glyph\":{\"id\":\"5392\"},\"hover_glyph\":null,\"muted_glyph\":null,\"nonselection_glyph\":{\"id\":\"5393\"},\"selection_glyph\":null,\"view\":{\"id\":\"5395\"}},\"id\":\"5394\",\"type\":\"GlyphRenderer\"},{\"attributes\":{\"line_color\":\"green\",\"x\":{\"field\":\"release_date\"},\"y\":{\"field\":\"popularity\"}},\"id\":\"5699\",\"type\":\"Line\"},{\"attributes\":{\"mantissas\":[1,2,5],\"max_interval\":500.0,\"num_minor_ticks\":0},\"id\":\"5575\",\"type\":\"AdaptiveTicker\"},{\"attributes\":{\"text\":\"la moyenne de popularit\\u00e9 des artistes selon release_date\"},\"id\":\"5352\",\"type\":\"Title\"},{\"attributes\":{\"overlay\":{\"id\":\"5376\"}},\"id\":\"5372\",\"type\":\"BoxZoomTool\"},{\"attributes\":{\"base\":60,\"mantissas\":[1,2,5,10,15,20,30],\"max_interval\":1800000.0,\"min_interval\":1000.0,\"num_minor_ticks\":0},\"id\":\"5576\",\"type\":\"AdaptiveTicker\"},{\"attributes\":{\"days\":[1,2,3,4,5,6,7,8,9,10,11,12,13,14,15,16,17,18,19,20,21,22,23,24,25,26,27,28,29,30,31]},\"id\":\"5578\",\"type\":\"DaysTicker\"},{\"attributes\":{\"num_minor_ticks\":5,\"tickers\":[{\"id\":\"5575\"},{\"id\":\"5576\"},{\"id\":\"5577\"},{\"id\":\"5578\"},{\"id\":\"5579\"},{\"id\":\"5580\"},{\"id\":\"5581\"},{\"id\":\"5582\"},{\"id\":\"5583\"},{\"id\":\"5584\"},{\"id\":\"5585\"},{\"id\":\"5586\"}]},\"id\":\"5363\",\"type\":\"DatetimeTicker\"},{\"attributes\":{\"line_alpha\":0.1,\"line_color\":\"#1f77b4\",\"x\":{\"field\":\"x\"},\"y\":{\"field\":\"y\"}},\"id\":\"5386\",\"type\":\"Line\"},{\"attributes\":{},\"id\":\"5375\",\"type\":\"HelpTool\"},{\"attributes\":{\"base\":24,\"mantissas\":[1,2,4,6,8,12],\"max_interval\":43200000.0,\"min_interval\":3600000.0,\"num_minor_ticks\":0},\"id\":\"5577\",\"type\":\"AdaptiveTicker\"},{\"attributes\":{},\"id\":\"5354\",\"type\":\"DataRange1d\"},{\"attributes\":{\"active_drag\":\"auto\",\"active_inspect\":\"auto\",\"active_multi\":null,\"active_scroll\":\"auto\",\"active_tap\":\"auto\",\"tools\":[{\"id\":\"5370\"},{\"id\":\"5371\"},{\"id\":\"5372\"},{\"id\":\"5373\"},{\"id\":\"5374\"},{\"id\":\"5375\"}]},\"id\":\"5377\",\"type\":\"Toolbar\"},{\"attributes\":{\"months\":[0,1,2,3,4,5,6,7,8,9,10,11]},\"id\":\"5582\",\"type\":\"MonthsTicker\"},{\"attributes\":{\"months\":[0,2,4,6,8,10]},\"id\":\"5583\",\"type\":\"MonthsTicker\"},{\"attributes\":{},\"id\":\"5360\",\"type\":\"LinearScale\"},{\"attributes\":{\"days\":[1,4,7,10,13,16,19,22,25,28]},\"id\":\"5579\",\"type\":\"DaysTicker\"},{\"attributes\":{\"days\":[1,15]},\"id\":\"5581\",\"type\":\"DaysTicker\"},{\"attributes\":{},\"id\":\"5356\",\"type\":\"DataRange1d\"},{\"attributes\":{\"months\":[0,6]},\"id\":\"5585\",\"type\":\"MonthsTicker\"},{\"attributes\":{\"days\":[1,8,15,22]},\"id\":\"5580\",\"type\":\"DaysTicker\"},{\"attributes\":{},\"id\":\"5358\",\"type\":\"LinearScale\"},{\"attributes\":{\"line_color\":\"#1f77b4\",\"x\":{\"field\":\"x\"},\"y\":{\"field\":\"y\"}},\"id\":\"5385\",\"type\":\"Line\"},{\"attributes\":{\"source\":{\"id\":\"5698\"}},\"id\":\"5701\",\"type\":\"CDSView\"},{\"attributes\":{},\"id\":\"5586\",\"type\":\"YearsTicker\"},{\"attributes\":{\"label\":{\"value\":\"Eminem\"},\"renderers\":[{\"id\":\"5387\"}]},\"id\":\"6016\",\"type\":\"LegendItem\"},{\"attributes\":{\"axis\":{\"id\":\"5366\"},\"dimension\":1,\"grid_line_alpha\":0.5,\"ticker\":null},\"id\":\"5369\",\"type\":\"Grid\"},{\"attributes\":{},\"id\":\"5373\",\"type\":\"SaveTool\"},{\"attributes\":{\"months\":[0,4,8]},\"id\":\"5584\",\"type\":\"MonthsTicker\"},{\"attributes\":{\"data\":{\"x\":{\"__ndarray__\":\"AAAAnZQRd0IAAIDKDPt2QgAAwKs3vnZCAACAofCpdkIAAEDZr6d2QgAAwAXyXnZCAACAeNRYdkIAAECHdwV2QgAAAFQUoHVCAABAJkMFdUIAAADA1et0QgAAQI7D0XRCAACAY5TNdEIAAICQ8Z10QgAAQGWngHRCAACA8FgidEIAAICFNr9zQgAAAA1pSXNCAACATOjdckIAAED67dNyQgAAwKSPy3JCAABAFA7HckIAAMCxH8VyQgAAgK2FlHJCAACAAsmDckIAAIDncl5yQgAAQBcZFHJCAADA1PfocUIAAACt0zFxQgAAwFP2EXFCAACAKKz0cEIAAMA2NIhwQgAAQOHVf3BCAAAAU4JHcEIAAMBiWyZwQgAAACS5EnBCAACARKECcEIAAABX1zlvQgAAgM8NZm5CAACAMeFObkIAAIBRriVuQgAAgA+oE25CAACAT0LBbUIAAAAM62NtQgAAAATSG21CAAAAomfpa0IAAIAXk8hrQgAAgGS9b2tCAACA8YHEakIAAADQY6JqQgAAgKptt2lCAAAAxkesaEI=\",\"dtype\":\"float64\",\"order\":\"little\",\"shape\":[52]},\"y\":{\"__ndarray__\":\"AAAAAAAAUkCmpaWlpeVRQAAAAAAAQFJAAAAAAADAUkAAAAAAAMBRQAAAAAAAgFJARhdddNFFUUAAAAAAAEBRQAAAAAAAAE5AAAAAAACATUAAAAAAAABPQAAAAAAAgE1AAAAAAACAT0AAAAAAAABMQAAAAAAAgEpAHMdxHMexTUAAAAAAAMBQQAAAAAAAAEtAAAAAAADAUUAAAAAAAIBGQAAAAAAAAFFAAAAAAAAARkAAAAAAAIBNQPHw8PDwcE9AAAAAAACATkAAAAAAAABKQI2w3NMIy0pAAAAAAADgSkAAAAAAAIBGQAAAAAAAgEhAVVVVVVXVSUAAAAAAAIBNQOsGU+Sz7klAAAAAAACAT0AAAAAAAABJQAAAAAAAgElAAAAAAACASkAAAAAAAEBIQAAAAAAAQElAAAAAAACAS0AAAAAAAEBHQAAAAAAAgElAMzMzMzOTTkAAAAAAAABHQAAAAAAAgEhAx3Ecx3EcTUAAAAAAAABJQAAAAAAAgE5AuYKYXEHMSEAAAAAAAABJQAAAAAAAgEBAAAAAAAAATEA=\",\"dtype\":\"float64\",\"order\":\"little\",\"shape\":[52]}},\"selected\":{\"id\":\"5571\"},\"selection_policy\":{\"id\":\"5572\"}},\"id\":\"5384\",\"type\":\"ColumnDataSource\"},{\"attributes\":{\"data_source\":{\"id\":\"5384\"},\"glyph\":{\"id\":\"5385\"},\"hover_glyph\":null,\"muted_glyph\":null,\"nonselection_glyph\":{\"id\":\"5386\"},\"selection_glyph\":null,\"view\":{\"id\":\"5388\"}},\"id\":\"5387\",\"type\":\"GlyphRenderer\"},{\"attributes\":{},\"id\":\"5569\",\"type\":\"BasicTickFormatter\"},{\"attributes\":{},\"id\":\"5374\",\"type\":\"ResetTool\"},{\"attributes\":{},\"id\":\"5367\",\"type\":\"BasicTicker\"},{\"attributes\":{\"label\":{\"value\":\"Rihanna\"},\"renderers\":[{\"id\":\"5700\"}]},\"id\":\"6017\",\"type\":\"LegendItem\"},{\"attributes\":{},\"id\":\"5571\",\"type\":\"Selection\"},{\"attributes\":{},\"id\":\"5879\",\"type\":\"Selection\"},{\"attributes\":{},\"id\":\"5572\",\"type\":\"UnionRenderers\"},{\"attributes\":{},\"id\":\"5880\",\"type\":\"UnionRenderers\"},{\"attributes\":{},\"id\":\"5370\",\"type\":\"PanTool\"},{\"attributes\":{\"bottom_units\":\"screen\",\"fill_alpha\":0.5,\"fill_color\":\"lightgrey\",\"left_units\":\"screen\",\"level\":\"overlay\",\"line_alpha\":1.0,\"line_color\":\"black\",\"line_dash\":[4,4],\"line_width\":2,\"right_units\":\"screen\",\"top_units\":\"screen\"},\"id\":\"5376\",\"type\":\"BoxAnnotation\"},{\"attributes\":{\"axis_label\":\"popularity\",\"formatter\":{\"id\":\"5569\"},\"ticker\":{\"id\":\"5367\"}},\"id\":\"5366\",\"type\":\"LinearAxis\"},{\"attributes\":{\"items\":[{\"id\":\"6016\"},{\"id\":\"6017\"}],\"location\":\"top_left\"},\"id\":\"6018\",\"type\":\"Legend\"}],\"root_ids\":[\"5351\"]},\"title\":\"Bokeh Application\",\"version\":\"2.2.3\"}};\n",
       "  var render_items = [{\"docid\":\"2c9d5488-8c9a-48bb-aa41-b48b964a69a9\",\"root_ids\":[\"5351\"],\"roots\":{\"5351\":\"8f90491a-d73c-42bc-9457-455206c1cc04\"}}];\n",
       "  root.Bokeh.embed.embed_items_notebook(docs_json, render_items);\n",
       "\n",
       "  }\n",
       "  if (root.Bokeh !== undefined) {\n",
       "    embed_document(root);\n",
       "  } else {\n",
       "    var attempts = 0;\n",
       "    var timer = setInterval(function(root) {\n",
       "      if (root.Bokeh !== undefined) {\n",
       "        clearInterval(timer);\n",
       "        embed_document(root);\n",
       "      } else {\n",
       "        attempts++;\n",
       "        if (attempts > 100) {\n",
       "          clearInterval(timer);\n",
       "          console.log(\"Bokeh: ERROR: Unable to run BokehJS code because BokehJS library is missing\");\n",
       "        }\n",
       "      }\n",
       "    }, 10, root)\n",
       "  }\n",
       "})(window);"
      ],
      "application/vnd.bokehjs_exec.v0+json": ""
     },
     "metadata": {
      "application/vnd.bokehjs_exec.v0+json": {
       "id": "5351"
      }
     },
     "output_type": "display_data"
    }
   ],
   "source": [
    "# Afficher votre graphe à nouveau\n",
    "\n",
    "show(p)"
   ]
  },
  {
   "cell_type": "code",
   "execution_count": 132,
   "metadata": {},
   "outputs": [
    {
     "data": {
      "text/plain": [
       "[GlyphRenderer(id='5387', ...),\n",
       " GlyphRenderer(id='5394', ...),\n",
       " GlyphRenderer(id='5700', ...)]"
      ]
     },
     "execution_count": 132,
     "metadata": {},
     "output_type": "execute_result"
    }
   ],
   "source": [
    "# Afficher la liste des renderers. Arrivez-vous à voir les nouveaux composants?\n",
    "p.renderers #non, why?"
   ]
  },
  {
   "cell_type": "markdown",
   "metadata": {},
   "source": [
    "<br></br> \n",
    "\n",
    "### Graphes supplémentaires (données catégoriques, whiskers, propriétés visuelles...):\n",
    "\n",
    "Pour visualiser les données catégoriques, on a tendance à utiliser des graphes à barres. En se basant sur votre fichier (TP1) contenant le nombre des pistes duos par artiste (collaborateur) et la moyenne des variables du même artiste, créer Un graphe à bar + Ligne. Voir https://docs.bokeh.org/en/latest/docs/user_guide/categorical.html. \n",
    "\n",
    "Vous pouvez également explorer le nombre de pistes selon les clés et leur popularité respective en utilisant les whiskers par exemple https://docs.bokeh.org/en/latest/docs/user_guide/annotations.html#whiskers.\n",
    "\n",
    "Penser à donner des titres, des labels... à vos graphes, axes etc. Pour plus de détails sur les propriétés visuelles, voir: https://docs.bokeh.org/en/latest/docs/user_guide/styling.html"
   ]
  },
  {
   "cell_type": "markdown",
   "metadata": {},
   "source": [
    "##### Exemple de gestion des données catégoriques dans un graphe Bokeh: "
   ]
  },
  {
   "cell_type": "code",
   "execution_count": 161,
   "metadata": {},
   "outputs": [
    {
     "data": {
      "text/plain": [
       "Index(['artists', 'number of artists', 'danceability', 'duration_ms', 'energy',\n",
       "       'explicit', 'id', 'instrumentalness', 'key', 'liveness', 'loudness',\n",
       "       'mode', 'name', 'popularity', 'release_date', 'speechiness', 'tempo',\n",
       "       'valence', 'year', 'first_artist', 'second_artist'],\n",
       "      dtype='object')"
      ]
     },
     "execution_count": 161,
     "metadata": {},
     "output_type": "execute_result"
    }
   ],
   "source": [
    "# Lire le fichiers des duos sauvegardé du TP1 dans une dataframe \n",
    "df = pd.read_csv(\"music_dataset/data_duo.csv\", index_col = 0)\n",
    "df.columns"
   ]
  },
  {
   "cell_type": "code",
   "execution_count": 162,
   "metadata": {},
   "outputs": [
    {
     "data": {
      "text/html": [
       "<div>\n",
       "<style scoped>\n",
       "    .dataframe tbody tr th:only-of-type {\n",
       "        vertical-align: middle;\n",
       "    }\n",
       "\n",
       "    .dataframe tbody tr th {\n",
       "        vertical-align: top;\n",
       "    }\n",
       "\n",
       "    .dataframe thead th {\n",
       "        text-align: right;\n",
       "    }\n",
       "</style>\n",
       "<table border=\"1\" class=\"dataframe\">\n",
       "  <thead>\n",
       "    <tr style=\"text-align: right;\">\n",
       "      <th></th>\n",
       "      <th></th>\n",
       "      <th>number of artists</th>\n",
       "      <th>danceability</th>\n",
       "      <th>duration_ms</th>\n",
       "      <th>energy</th>\n",
       "      <th>explicit</th>\n",
       "      <th>instrumentalness</th>\n",
       "      <th>key</th>\n",
       "      <th>liveness</th>\n",
       "      <th>loudness</th>\n",
       "      <th>mode</th>\n",
       "      <th>popularity</th>\n",
       "      <th>speechiness</th>\n",
       "      <th>tempo</th>\n",
       "      <th>valence</th>\n",
       "      <th>year</th>\n",
       "    </tr>\n",
       "    <tr>\n",
       "      <th>first_artist</th>\n",
       "      <th>second_artist</th>\n",
       "      <th></th>\n",
       "      <th></th>\n",
       "      <th></th>\n",
       "      <th></th>\n",
       "      <th></th>\n",
       "      <th></th>\n",
       "      <th></th>\n",
       "      <th></th>\n",
       "      <th></th>\n",
       "      <th></th>\n",
       "      <th></th>\n",
       "      <th></th>\n",
       "      <th></th>\n",
       "      <th></th>\n",
       "      <th></th>\n",
       "    </tr>\n",
       "  </thead>\n",
       "  <tbody>\n",
       "    <tr>\n",
       "      <th>Powfu</th>\n",
       "      <th>beabadoobee</th>\n",
       "      <td>2.0</td>\n",
       "      <td>0.7260</td>\n",
       "      <td>173333.0</td>\n",
       "      <td>0.4310</td>\n",
       "      <td>0.0</td>\n",
       "      <td>0.000000</td>\n",
       "      <td>8.0</td>\n",
       "      <td>0.6960</td>\n",
       "      <td>-8.7650</td>\n",
       "      <td>0.0</td>\n",
       "      <td>97.0</td>\n",
       "      <td>0.13500</td>\n",
       "      <td>144.026</td>\n",
       "      <td>0.348</td>\n",
       "      <td>2020.0</td>\n",
       "    </tr>\n",
       "    <tr>\n",
       "      <th>Surf Mesa</th>\n",
       "      <th>Emilee</th>\n",
       "      <td>2.0</td>\n",
       "      <td>0.6740</td>\n",
       "      <td>176547.0</td>\n",
       "      <td>0.7740</td>\n",
       "      <td>0.0</td>\n",
       "      <td>0.001880</td>\n",
       "      <td>11.0</td>\n",
       "      <td>0.3930</td>\n",
       "      <td>-7.5670</td>\n",
       "      <td>0.0</td>\n",
       "      <td>95.0</td>\n",
       "      <td>0.08920</td>\n",
       "      <td>112.050</td>\n",
       "      <td>0.330</td>\n",
       "      <td>2019.0</td>\n",
       "    </tr>\n",
       "    <tr>\n",
       "      <th>BENEE</th>\n",
       "      <th>Gus Dapperton</th>\n",
       "      <td>2.0</td>\n",
       "      <td>0.8630</td>\n",
       "      <td>223480.0</td>\n",
       "      <td>0.6310</td>\n",
       "      <td>1.0</td>\n",
       "      <td>0.000030</td>\n",
       "      <td>7.0</td>\n",
       "      <td>0.1230</td>\n",
       "      <td>-4.6890</td>\n",
       "      <td>1.0</td>\n",
       "      <td>95.0</td>\n",
       "      <td>0.05340</td>\n",
       "      <td>128.977</td>\n",
       "      <td>0.817</td>\n",
       "      <td>2019.0</td>\n",
       "    </tr>\n",
       "    <tr>\n",
       "      <th>Ariana Grande</th>\n",
       "      <th>Justin Bieber</th>\n",
       "      <td>2.0</td>\n",
       "      <td>0.5970</td>\n",
       "      <td>228482.0</td>\n",
       "      <td>0.4500</td>\n",
       "      <td>0.0</td>\n",
       "      <td>0.000000</td>\n",
       "      <td>8.0</td>\n",
       "      <td>0.3820</td>\n",
       "      <td>-6.6580</td>\n",
       "      <td>1.0</td>\n",
       "      <td>94.0</td>\n",
       "      <td>0.04180</td>\n",
       "      <td>178.765</td>\n",
       "      <td>0.537</td>\n",
       "      <td>2020.0</td>\n",
       "    </tr>\n",
       "    <tr>\n",
       "      <th>KAROL G</th>\n",
       "      <th>Nicki Minaj</th>\n",
       "      <td>2.0</td>\n",
       "      <td>0.8030</td>\n",
       "      <td>200960.0</td>\n",
       "      <td>0.7150</td>\n",
       "      <td>0.0</td>\n",
       "      <td>0.000134</td>\n",
       "      <td>2.0</td>\n",
       "      <td>0.0574</td>\n",
       "      <td>-3.2800</td>\n",
       "      <td>1.0</td>\n",
       "      <td>92.0</td>\n",
       "      <td>0.29800</td>\n",
       "      <td>101.085</td>\n",
       "      <td>0.574</td>\n",
       "      <td>2019.0</td>\n",
       "    </tr>\n",
       "    <tr>\n",
       "      <th>Topic</th>\n",
       "      <th>A7S</th>\n",
       "      <td>2.0</td>\n",
       "      <td>0.7890</td>\n",
       "      <td>166794.0</td>\n",
       "      <td>0.7200</td>\n",
       "      <td>0.0</td>\n",
       "      <td>0.000000</td>\n",
       "      <td>8.0</td>\n",
       "      <td>0.1290</td>\n",
       "      <td>-5.6520</td>\n",
       "      <td>0.0</td>\n",
       "      <td>92.0</td>\n",
       "      <td>0.21800</td>\n",
       "      <td>122.031</td>\n",
       "      <td>0.664</td>\n",
       "      <td>2019.0</td>\n",
       "    </tr>\n",
       "    <tr>\n",
       "      <th>Marshmello</th>\n",
       "      <th>Halsey</th>\n",
       "      <td>2.0</td>\n",
       "      <td>0.6300</td>\n",
       "      <td>172762.0</td>\n",
       "      <td>0.6330</td>\n",
       "      <td>0.0</td>\n",
       "      <td>0.000000</td>\n",
       "      <td>4.0</td>\n",
       "      <td>0.0541</td>\n",
       "      <td>-7.0880</td>\n",
       "      <td>1.0</td>\n",
       "      <td>91.0</td>\n",
       "      <td>0.04570</td>\n",
       "      <td>93.995</td>\n",
       "      <td>0.452</td>\n",
       "      <td>2020.0</td>\n",
       "    </tr>\n",
       "    <tr>\n",
       "      <th>Lady Gaga</th>\n",
       "      <th>Ariana Grande</th>\n",
       "      <td>2.0</td>\n",
       "      <td>0.6720</td>\n",
       "      <td>182200.0</td>\n",
       "      <td>0.8550</td>\n",
       "      <td>0.0</td>\n",
       "      <td>0.000000</td>\n",
       "      <td>9.0</td>\n",
       "      <td>0.3230</td>\n",
       "      <td>-3.7640</td>\n",
       "      <td>1.0</td>\n",
       "      <td>90.5</td>\n",
       "      <td>0.03970</td>\n",
       "      <td>123.056</td>\n",
       "      <td>0.646</td>\n",
       "      <td>2020.0</td>\n",
       "    </tr>\n",
       "    <tr>\n",
       "      <th>ROSALÍA</th>\n",
       "      <th>Travis Scott</th>\n",
       "      <td>2.0</td>\n",
       "      <td>0.7760</td>\n",
       "      <td>129371.0</td>\n",
       "      <td>0.5090</td>\n",
       "      <td>0.0</td>\n",
       "      <td>0.000001</td>\n",
       "      <td>0.0</td>\n",
       "      <td>0.1150</td>\n",
       "      <td>-6.2660</td>\n",
       "      <td>0.0</td>\n",
       "      <td>90.0</td>\n",
       "      <td>0.46700</td>\n",
       "      <td>94.634</td>\n",
       "      <td>0.485</td>\n",
       "      <td>2020.0</td>\n",
       "    </tr>\n",
       "    <tr>\n",
       "      <th>Justin Bieber</th>\n",
       "      <th>Quavo</th>\n",
       "      <td>2.0</td>\n",
       "      <td>0.8085</td>\n",
       "      <td>212868.0</td>\n",
       "      <td>0.5495</td>\n",
       "      <td>0.0</td>\n",
       "      <td>0.000000</td>\n",
       "      <td>9.0</td>\n",
       "      <td>0.1035</td>\n",
       "      <td>-6.6405</td>\n",
       "      <td>1.0</td>\n",
       "      <td>89.0</td>\n",
       "      <td>0.05635</td>\n",
       "      <td>148.000</td>\n",
       "      <td>0.867</td>\n",
       "      <td>2020.0</td>\n",
       "    </tr>\n",
       "  </tbody>\n",
       "</table>\n",
       "</div>"
      ],
      "text/plain": [
       "                                  number of artists  danceability  \\\n",
       "first_artist    second_artist                                       \n",
       " Powfu            beabadoobee                   2.0        0.7260   \n",
       " Surf Mesa        Emilee                        2.0        0.6740   \n",
       " BENEE            Gus Dapperton                 2.0        0.8630   \n",
       " Ariana Grande    Justin Bieber                 2.0        0.5970   \n",
       " KAROL G          Nicki Minaj                   2.0        0.8030   \n",
       " Topic            A7S                           2.0        0.7890   \n",
       " Marshmello       Halsey                        2.0        0.6300   \n",
       " Lady Gaga        Ariana Grande                 2.0        0.6720   \n",
       " ROSALÍA          Travis Scott                  2.0        0.7760   \n",
       " Justin Bieber    Quavo                         2.0        0.8085   \n",
       "\n",
       "                                  duration_ms  energy  explicit  \\\n",
       "first_artist    second_artist                                     \n",
       " Powfu            beabadoobee        173333.0  0.4310       0.0   \n",
       " Surf Mesa        Emilee             176547.0  0.7740       0.0   \n",
       " BENEE            Gus Dapperton      223480.0  0.6310       1.0   \n",
       " Ariana Grande    Justin Bieber      228482.0  0.4500       0.0   \n",
       " KAROL G          Nicki Minaj        200960.0  0.7150       0.0   \n",
       " Topic            A7S                166794.0  0.7200       0.0   \n",
       " Marshmello       Halsey             172762.0  0.6330       0.0   \n",
       " Lady Gaga        Ariana Grande      182200.0  0.8550       0.0   \n",
       " ROSALÍA          Travis Scott       129371.0  0.5090       0.0   \n",
       " Justin Bieber    Quavo              212868.0  0.5495       0.0   \n",
       "\n",
       "                                  instrumentalness   key  liveness  loudness  \\\n",
       "first_artist    second_artist                                                  \n",
       " Powfu            beabadoobee             0.000000   8.0    0.6960   -8.7650   \n",
       " Surf Mesa        Emilee                  0.001880  11.0    0.3930   -7.5670   \n",
       " BENEE            Gus Dapperton           0.000030   7.0    0.1230   -4.6890   \n",
       " Ariana Grande    Justin Bieber           0.000000   8.0    0.3820   -6.6580   \n",
       " KAROL G          Nicki Minaj             0.000134   2.0    0.0574   -3.2800   \n",
       " Topic            A7S                     0.000000   8.0    0.1290   -5.6520   \n",
       " Marshmello       Halsey                  0.000000   4.0    0.0541   -7.0880   \n",
       " Lady Gaga        Ariana Grande           0.000000   9.0    0.3230   -3.7640   \n",
       " ROSALÍA          Travis Scott            0.000001   0.0    0.1150   -6.2660   \n",
       " Justin Bieber    Quavo                   0.000000   9.0    0.1035   -6.6405   \n",
       "\n",
       "                                  mode  popularity  speechiness    tempo  \\\n",
       "first_artist    second_artist                                              \n",
       " Powfu            beabadoobee      0.0        97.0      0.13500  144.026   \n",
       " Surf Mesa        Emilee           0.0        95.0      0.08920  112.050   \n",
       " BENEE            Gus Dapperton    1.0        95.0      0.05340  128.977   \n",
       " Ariana Grande    Justin Bieber    1.0        94.0      0.04180  178.765   \n",
       " KAROL G          Nicki Minaj      1.0        92.0      0.29800  101.085   \n",
       " Topic            A7S              0.0        92.0      0.21800  122.031   \n",
       " Marshmello       Halsey           1.0        91.0      0.04570   93.995   \n",
       " Lady Gaga        Ariana Grande    1.0        90.5      0.03970  123.056   \n",
       " ROSALÍA          Travis Scott     0.0        90.0      0.46700   94.634   \n",
       " Justin Bieber    Quavo            1.0        89.0      0.05635  148.000   \n",
       "\n",
       "                                  valence    year  \n",
       "first_artist    second_artist                      \n",
       " Powfu            beabadoobee       0.348  2020.0  \n",
       " Surf Mesa        Emilee            0.330  2019.0  \n",
       " BENEE            Gus Dapperton     0.817  2019.0  \n",
       " Ariana Grande    Justin Bieber     0.537  2020.0  \n",
       " KAROL G          Nicki Minaj       0.574  2019.0  \n",
       " Topic            A7S               0.664  2019.0  \n",
       " Marshmello       Halsey            0.452  2020.0  \n",
       " Lady Gaga        Ariana Grande     0.646  2020.0  \n",
       " ROSALÍA          Travis Scott      0.485  2020.0  \n",
       " Justin Bieber    Quavo             0.867  2020.0  "
      ]
     },
     "execution_count": 162,
     "metadata": {},
     "output_type": "execute_result"
    }
   ],
   "source": [
    "# Créer une nouvelle dataframe qui calcule les moyennes des variables d'une paire d'artistes et les ordonnes par leur popularité ascendante \n",
    "# pour n'en prendre que les 10 premiers\n",
    "df_agg = df.groupby(['first_artist', 'second_artist']).mean()\n",
    "df_agg.sort_values(by='popularity', ascending=False).head(10)"
   ]
  },
  {
   "cell_type": "code",
   "execution_count": 163,
   "metadata": {},
   "outputs": [],
   "source": [
    "from bokeh.palettes import Magma10\n",
    "from bokeh.transform import factor_cmap"
   ]
  },
  {
   "cell_type": "code",
   "execution_count": 166,
   "metadata": {},
   "outputs": [],
   "source": [
    "# Créer une ColumnDataSource avec la nouvelle dataframe\n",
    "cds = ColumnDataSource(df)"
   ]
  },
  {
   "cell_type": "code",
   "execution_count": 198,
   "metadata": {},
   "outputs": [],
   "source": [
    "# Créer une liste contenant la liste des premiers artistes des duos\n",
    "list = df[\"first_artist\"].unique()"
   ]
  },
  {
   "cell_type": "code",
   "execution_count": 202,
   "metadata": {},
   "outputs": [],
   "source": [
    "# Créer une figure en indiquant que l'axe x aura une liste de valeur qui est la liste des artistes créée, penser à utiliser l'argument x_range\n",
    "p = figure(plot_width=1400, plot_height=1400, x_range=list, y_range=(0, 10))"
   ]
  },
  {
   "cell_type": "code",
   "execution_count": 212,
   "metadata": {},
   "outputs": [
    {
     "name": "stderr",
     "output_type": "stream",
     "text": [
      "BokehUserWarning: ColumnDataSource's columns must be of the same length. Current lengths: ('top', 6), ('x', 4563)\n"
     ]
    },
    {
     "data": {
      "text/html": [
       "<div style=\"display: table;\"><div style=\"display: table-row;\"><div style=\"display: table-cell;\"><b title=\"bokeh.models.renderers.GlyphRenderer\">GlyphRenderer</b>(</div><div style=\"display: table-cell;\">id&nbsp;=&nbsp;'9678', <span id=\"9944\" style=\"cursor: pointer;\">&hellip;)</span></div></div><div class=\"9943\" style=\"display: none;\"><div style=\"display: table-cell;\"></div><div style=\"display: table-cell;\">data_source&nbsp;=&nbsp;ColumnDataSource(id='9675', ...),</div></div><div class=\"9943\" style=\"display: none;\"><div style=\"display: table-cell;\"></div><div style=\"display: table-cell;\">glyph&nbsp;=&nbsp;VBar(id='9676', ...),</div></div><div class=\"9943\" style=\"display: none;\"><div style=\"display: table-cell;\"></div><div style=\"display: table-cell;\">hover_glyph&nbsp;=&nbsp;None,</div></div><div class=\"9943\" style=\"display: none;\"><div style=\"display: table-cell;\"></div><div style=\"display: table-cell;\">js_event_callbacks&nbsp;=&nbsp;{},</div></div><div class=\"9943\" style=\"display: none;\"><div style=\"display: table-cell;\"></div><div style=\"display: table-cell;\">js_property_callbacks&nbsp;=&nbsp;{},</div></div><div class=\"9943\" style=\"display: none;\"><div style=\"display: table-cell;\"></div><div style=\"display: table-cell;\">level&nbsp;=&nbsp;'glyph',</div></div><div class=\"9943\" style=\"display: none;\"><div style=\"display: table-cell;\"></div><div style=\"display: table-cell;\">muted&nbsp;=&nbsp;False,</div></div><div class=\"9943\" style=\"display: none;\"><div style=\"display: table-cell;\"></div><div style=\"display: table-cell;\">muted_glyph&nbsp;=&nbsp;None,</div></div><div class=\"9943\" style=\"display: none;\"><div style=\"display: table-cell;\"></div><div style=\"display: table-cell;\">name&nbsp;=&nbsp;None,</div></div><div class=\"9943\" style=\"display: none;\"><div style=\"display: table-cell;\"></div><div style=\"display: table-cell;\">nonselection_glyph&nbsp;=&nbsp;VBar(id='9677', ...),</div></div><div class=\"9943\" style=\"display: none;\"><div style=\"display: table-cell;\"></div><div style=\"display: table-cell;\">selection_glyph&nbsp;=&nbsp;None,</div></div><div class=\"9943\" style=\"display: none;\"><div style=\"display: table-cell;\"></div><div style=\"display: table-cell;\">subscribed_events&nbsp;=&nbsp;[],</div></div><div class=\"9943\" style=\"display: none;\"><div style=\"display: table-cell;\"></div><div style=\"display: table-cell;\">tags&nbsp;=&nbsp;[],</div></div><div class=\"9943\" style=\"display: none;\"><div style=\"display: table-cell;\"></div><div style=\"display: table-cell;\">view&nbsp;=&nbsp;CDSView(id='9679', ...),</div></div><div class=\"9943\" style=\"display: none;\"><div style=\"display: table-cell;\"></div><div style=\"display: table-cell;\">visible&nbsp;=&nbsp;True,</div></div><div class=\"9943\" style=\"display: none;\"><div style=\"display: table-cell;\"></div><div style=\"display: table-cell;\">x_range_name&nbsp;=&nbsp;'default',</div></div><div class=\"9943\" style=\"display: none;\"><div style=\"display: table-cell;\"></div><div style=\"display: table-cell;\">y_range_name&nbsp;=&nbsp;'default')</div></div></div>\n",
       "<script>\n",
       "(function() {\n",
       "  var expanded = false;\n",
       "  var ellipsis = document.getElementById(\"9944\");\n",
       "  ellipsis.addEventListener(\"click\", function() {\n",
       "    var rows = document.getElementsByClassName(\"9943\");\n",
       "    for (var i = 0; i < rows.length; i++) {\n",
       "      var el = rows[i];\n",
       "      el.style.display = expanded ? \"none\" : \"table-row\";\n",
       "    }\n",
       "    ellipsis.innerHTML = expanded ? \"&hellip;)\" : \"&lsaquo;&lsaquo;&lsaquo;\";\n",
       "    expanded = !expanded;\n",
       "  });\n",
       "})();\n",
       "</script>\n"
      ],
      "text/plain": [
       "GlyphRenderer(id='9678', ...)"
      ]
     },
     "execution_count": 212,
     "metadata": {},
     "output_type": "execute_result"
    }
   ],
   "source": [
    "# Créer un graphe à barres verticales avec les premiers artistes dans l'axe x et popularity comme valeur, \n",
    "# changer les couleurs des barres en fonction des valeurs catégoriques en utilisant l'argument fill_color et la fonction factor_map\n",
    "p.vbar(x=list, top=[5, 3, 4, 2, 4, 6], width=100)"
   ]
  },
  {
   "cell_type": "code",
   "execution_count": 213,
   "metadata": {},
   "outputs": [
    {
     "data": {
      "text/html": [
       "\n",
       "\n",
       "\n",
       "\n",
       "\n",
       "\n",
       "  <div class=\"bk-root\" id=\"4b46c63d-8670-4479-9bcc-c6fa45b4f788\" data-root-id=\"8968\"></div>\n"
      ]
     },
     "metadata": {},
     "output_type": "display_data"
    },
    {
     "data": {
      "application/javascript": [
       "(function(root) {\n",
       "  function embed_document(root) {\n",
       "    \n",
       "  var docs_json = {\"63d80025-b82b-4ccf-a6d2-40e840b79e08\":{\"roots\":{\"references\":[{\"attributes\":{\"below\":[{\"id\":\"8977\"}],\"center\":[{\"id\":\"8979\"},{\"id\":\"8983\"}],\"left\":[{\"id\":\"8980\"}],\"plot_height\":1400,\"plot_width\":1400,\"renderers\":[{\"id\":\"9365\"},{\"id\":\"9678\"}],\"title\":{\"id\":\"9251\"},\"toolbar\":{\"id\":\"8991\"},\"x_range\":{\"id\":\"8969\"},\"x_scale\":{\"id\":\"8973\"},\"y_range\":{\"id\":\"8971\"},\"y_scale\":{\"id\":\"8975\"}},\"id\":\"8968\",\"subtype\":\"Figure\",\"type\":\"Plot\"},{\"attributes\":{},\"id\":\"9941\",\"type\":\"UnionRenderers\"},{\"attributes\":{},\"id\":\"9626\",\"type\":\"UnionRenderers\"},{\"attributes\":{\"data_source\":{\"id\":\"9675\"},\"glyph\":{\"id\":\"9676\"},\"hover_glyph\":null,\"muted_glyph\":null,\"nonselection_glyph\":{\"id\":\"9677\"},\"selection_glyph\":null,\"view\":{\"id\":\"9679\"}},\"id\":\"9678\",\"type\":\"GlyphRenderer\"},{\"attributes\":{\"fill_color\":{\"value\":\"#1f77b4\"},\"line_color\":{\"value\":\"#1f77b4\"},\"top\":{\"field\":\"top\"},\"width\":{\"value\":0.9},\"x\":{\"field\":\"x\"}},\"id\":\"9363\",\"type\":\"VBar\"},{\"attributes\":{},\"id\":\"9625\",\"type\":\"Selection\"},{\"attributes\":{},\"id\":\"9254\",\"type\":\"BasicTickFormatter\"},{\"attributes\":{\"bottom_units\":\"screen\",\"fill_alpha\":0.5,\"fill_color\":\"lightgrey\",\"left_units\":\"screen\",\"level\":\"overlay\",\"line_alpha\":1.0,\"line_color\":\"black\",\"line_dash\":[4,4],\"line_width\":2,\"right_units\":\"screen\",\"top_units\":\"screen\"},\"id\":\"8990\",\"type\":\"BoxAnnotation\"},{\"attributes\":{\"fill_alpha\":{\"value\":0.1},\"fill_color\":{\"value\":\"#1f77b4\"},\"line_alpha\":{\"value\":0.1},\"line_color\":{\"value\":\"#1f77b4\"},\"top\":{\"field\":\"top\"},\"width\":{\"value\":0.9},\"x\":{\"field\":\"x\"}},\"id\":\"9364\",\"type\":\"VBar\"},{\"attributes\":{},\"id\":\"8989\",\"type\":\"HelpTool\"},{\"attributes\":{\"source\":{\"id\":\"9362\"}},\"id\":\"9366\",\"type\":\"CDSView\"},{\"attributes\":{\"data\":{\"top\":[5,3,4,2,4,6],\"x\":[\" Robert Schumann \",\" Fr\\u00e9d\\u00e9ric Chopin \",\" Felix Mendelssohn \",\" Franz Liszt \",\" Francisco Canaro \",\" Sergei Rachmaninoff \",\" Samuel Barber \",\" George Butterworth \",\" Alexander Scriabin \",\" Thomas Arne \",\" Moritz Moszkowski \",\" Roger Quilter \",\" Muzio Clementi \",\" Dmitry Kabalevsky \",\" Petros Epitropakis \",\" Banda del Regimiento P\\u00e9rez 3 de Infanter\\u00eda \",\" Gene Sedric \",\" Giorgos Papasideris \",\" Shorty Bralik \",\" Manuel Ponce \",\" Giorgos Mpekas \",\" Renos Talmas \",\" Dimitris Gkogkos \",\" O\\u03c1\\u03c7\\u03ae\\u03c3\\u03c4\\u03c1\\u03b1 \\u0392 Reibold \",\" Danai Stratigopoulou \",\" Giota Lidia \",\" Sinclair Lewis \",\" Franz Joseph Haydn \",\" Margarita Cueto \",\" Stratos Pagioumtzis \",\" Jeanette Mcdonald \",\" Jeanette MacDonald \",\" Robe \",\" Allan Jones \",\" Roza Eskenazi \",\" Georgia Mitaki \",\" Nilla Pizzi \",\" Rita Ampatzi \",\" Stellakis Perpiniadis \",\" Victor Arden \",\" Surendra \",\" John Philip Sousa \",\" Asha Bhosle \",\" Johann Sebastian Bach \",\" Jean Sibelius \",\" Maurice Ravel \",\" George Gershwin \",\" Pasupuleti Kannamba \",\" Charles Koechlin \",\" Claude Debussy \",\" Parul Ghosh \",\" N  Vanaja \",\" Ludwig van Beethoven \",\" Johannes Brahms \",\" Nalini Jaywant \",\" Modest Mussorgsky \",\" Lata Mangeshkar \",\" Darius Milhaud \",\" Wolfgang Amadeus Mozart \",\" Abram Chasins \",\" Igor Stravinsky \",\" Traditional \",\" Joseph Hector Fiocco \",\" Franz Schubert \",\" Kalyani \",\" Pt  Amarnath \",\" Giuseppe Verdi \",\" Jacques Ibert \",\" Gustav Mahler \",\" Nikolai Rimsky Korsakov \",\" Giacomo Puccini \",\" Anupam Ghatak \",\" Zohrabai Ambalawali \",\" Tani \",\" Georges Auric \",\" Udit Narayan \",\" Aram Khachaturian \",\" Anima Ghosh \",\" Hameeda Bano \",\" \\u0391\\u03c0\\u03cc\\u03c3\\u03c4\\u03bf\\u03bb\\u03bf\\u03c2 \\u03a7\\u03b1\\u03c4\\u03b6\\u03b7\\u03c7\\u03c1\\u03ae\\u03c3\\u03c4\\u03bf\\u03c2 \",\" Avinash \",\" Andr\\u00e9s Segovia \",\" A  R  Oza \",\" Rajkumari \",\" Pablo de Sarasate \",\" Doris Day \",\" S  Varalakshmi \",\" Ghantasala \",\" Manik Dadarkar \",\" Debabrata Biswas \",\" Shankar Dasgupta \",\" Shamshad Begum \",\" Edvard Grieg \",\" Ernest Bloch \",\" Leela Mehta \",\" Suraiya \",\" Andr\\u00e9 Gide \",\" Pietro Mascagni \",\" Aaron Copland \",\" Joaqu\\u00edn Rodrigo \",\" N  S  Krishnan \",\" Lalita Phadke \",\" Sergei Prokofiev \",\" Shanti Sharma \",\" Bing Crosby \",\" A  P  Komala \",\" Fernando Sor \",\" Sholom Secunda \",\" Female Sundanese singer\",\" Leonard Bernstein \",\" Female N Goundi soloist\",\" Female Okandi chorus\",\" Heitor dos Prazeres \",\" Fotis Polimeris \",\" Gayatri Bose \",\" \\u039d \\u03a6\\u03c1\\u03b1\\u03b3\\u03b3\\u03b9\\u03ac \",\" \\u039d\\u03af\\u03ba\\u03bf\\u03c2 \\u03a4\\u03b6\\u03bf\\u03c5\\u03b3\\u03ac\\u03bd\\u03bf\\u03c2 \",\" \\u039d\\u03c4\\u03bf\\u03cd\\u03bf \\u03a3\\u03c4\\u03b1\\u03bc\\u03c0\\u03bf\\u03cd\\u03bb \",\" Andreas Spagadoros \",\" \\u039d \\u03a4\\u03c3\\u03ac\\u03bc\\u03b7\\u03c2 \",\" Georges Bizet \",\" Khemchand Prakash \",\" John Cage \",\" Male Hebrew vocalist\",\" Marika Rossa \",\" Jean Cocteau \",\" \\u039frquesta Maestro Torroba \",\" MGM Studio Orchestra \",\" G  M  Durrani \",\" Neeta Den \",\" Fran\\u00e7ois Mauriac \",\" \\u00c9mile Waldteufel \",\" Pithapuram Nageswara Rao \",\" Moti Bai \",\" Carl Maria von Weber \",\" Max Reger \",\" Krishna Chatterjee \",\" Margaret Whiting \",\" Alfred Newman \",\" \\u0394\\u03b7\\u03bc\\u03ae\\u03c4\\u03c1\\u03b7\\u03c2 \\u039c\\u03c0\\u03b1\\u03b3\\u03b9\\u03b1\\u03bd\\u03c4\\u03ad\\u03c1\\u03b1\\u03c2 \",\" Mohammed Rafi \",\" Sotiria Bellou \",\" Orlando Silva \",\" Giorgos Mitsakis \",\" Jairam Shiledar \",\" Anne Lloyd \",\" Hector Berlioz \",\" Richard Wagner \",\" Richard Strauss \",\" Odetta \",\" Oscar Peterson \",\" Josef Strauss \",\" Dinah Washington \",\" Vic Damone \",\" Irving Berlin \",\" Dick Beavers \",\" Dave Brubeck Trio \",\" Frances Archer \",\" Buddy Rich \",\" Shirl Conway \",\" Louis Armstrong \",\" La Sonora Matancera \",\" The Clancy Brothers \",\" Hank Thompson \",\" Stubby Kaye \",\" Paul Chambers \",\" Carmen Delia Dipini \",\" Buddy Bregman \",\" J J  Johnson \",\" Ant\\u00f4nio Carlos Jobim \",\" Charles Mingus \",\" Anita O Day \",\" Ella Fitzgerald \",\" Fred Astaire \",\" Lee Konitz \",\" Billie Holiday \",\" Jutta Hipp \",\" Art Blakey   The Jazz Messengers \",\" Thelonious Monk Quartet \",\" Duke Ellington \",\" The Dave Brubeck Quartet \",\" Johnny Mathis \",\" Sister Rosetta Tharpe \",\" Sylvia Rexach \",\" The Stanley Brothers \",\" Miles Davis \",\" Jorma Ik\\u00e4valko \",\" Irving Burgie \",\" The Highway Q C  s \",\" Mukesh \",\" Bhupinder Singh \",\" Jimmy Bryant \",\" Mel Torm\\u00e9 \",\" M  S  Subbulakshmi \",\" Cannonball Adderley \",\" Milt Jackson \",\" Les Chats Sauvages \",\" Annette Funicello \",\" Elvis Presley \",\" James Cleveland \",\" Stan Getz \",\" Frank Sinatra \",\" Martin Denny \",\" Cliff Richard \",\" Spoken Word \",\" Pete Drake \",\" Les Brown\",\" Bobby  Boris  Pickett \",\" Peter\",\" J B  Lenoir \",\" Lalo Schifrin \",\" Ben Webster \",\" Cal Tjader \",\" George Jones \",\" Patsy Cline \",\" Kenny Burrell \",\" Gloria Lynne \",\" Eydie Gorm\\u00e9 \",\" The Dubliners \",\" Wilfrid Hyde White \",\" Vince Guaraldi \",\" Them \",\" Bert Jansch \",\" Rosemary Clooney \",\" John Mayall   The Bluesbreakers \",\" Hariharan \",\" Frank Zappa \",\" Big Mama Thornton \",\" Marvin Gaye \",\" Gene Clark \",\" The Velvet Underground \",\" Nancy Sinatra \",\" Los Corraleros De Majagual \",\" Big Brother   The Holding Company \",\" Blood\",\" Twice As Much \",\" Johnny Winter \",\" Crosby\",\" Quincy Jones \",\" Louis Hardin \",\" John Williams \",\" Chet Atkins \",\" Django Reinhardt \",\" Riz Ortolani \",\" Paul McCartney \",\" Mahavishnu Orchestra \",\" Leslie Bricusse \",\" Harold Melvin   The Blue Notes \",\" The J  Geils Band \",\" Irwin Kostal \",\" Chuck Mangione \",\" James Brown \",\" Earth\",\" Carl Anderson \",\" The Dells \",\" Kris Kristofferson \",\" Geraldo Pino \",\" Ash Soul\",\" Tico Alegre All Stars \",\" Fruko Y Sus Tesos \",\" Neil Young \",\" Hui Ohana \",\" Robert Fripp \",\" Rufus \",\" Barbra Streisand \",\" Larry Gatlin \",\" Bernard Herrmann \",\" Lil Greenwood \",\" Waylon Jennings \",\" Norman Connors \",\" Eric Burdon \",\" Cluster \",\" Shakti \",\" Chaka Khan \",\" Jim Morrison \",\" The Blues Brothers \",\" Jerry Garcia Band \",\" Twennynine \",\" Galt MacDermot \",\" The Who \",\" Jorge Ben Jor \",\" Hank Williams\",\" Kanchan \",\" Grover Washington\",\" Def Leppard \",\" St  Louis Jesuits \",\" Pat Metheny \",\" Jagjit Singh \",\" Shadowfax \",\" Yellowman \",\" Gwen Guthrie \",\" Andrew Lloyd Webber \",\" Harold Budd \",\" Erik Satie \",\" Bernadette Peters \",\" Paul Speer \",\" Dave Grusin \",\" Archie Shepp \",\" Linda Ronstadt \",\" Jesse Johnson \",\" Jerry Vale \",\" Skeeter Davis \",\" Betty Wright \",\" 10\",\" Nat King Cole \",\" Roc\\u00edo D\\u00farcal \",\" Conway Twitty \",\" Terence Trent D Arby \",\" Joanna Gleason \",\" Eazy E \",\" Jim Reeves \",\" Marc Almond \",\" Dionne Warwick \",\" Roberta Flack \",\" Ice Cube \",\" Dave Stewart \",\" Yo Yo \",\" Flaco Jimenez \",\" Beastie Boys \",\" R  Kelly \",\" David Lee Garza \",\" Dr  Dre \",\" Newsies Ensemble \",\" Helmet \",\" Brigitte Bardot \",\" Aaliyah \",\" James Horner \",\" Shaggy \",\" GZA \",\" Misfits \",\" Jos\\u00e9 Carreras \",\" Kausion \",\" Stephanie Mills \",\" Valeria Szerv\\u00e1nszky \",\" Jeff Lorber \",\" OutKast \",\" Mindy McCready \",\" Coolio \",\" Boss \",\" Steve Earle \",\" Ana Gabriel \",\" J  Pat O Malley \",\" Oliver Wallace \",\" Kilo Ali \",\" Andr\\u00e9 Rieu \",\" The Notorious B I G  \",\" Hank Williams \",\" Fred Hammond \",\" Big Pun \",\" Goodie Mob \",\" 2Pac \",\" Keith Washington \",\" Total \",\" The Ink Spots \",\" Journey \",\" Brooks   Dunn \",\" John Prine \",\" Mos Def \",\" Dave Matthews \",\" Filter \",\" Willie Rosario \",\" Cypress Hill \",\" Phil Collins \",\" Prodigy \",\" Eric Clapton \",\" Denez Prigent \",\" Billy Bragg \",\" Cliff Edwards \",\" Luis Aguilar \",\" JAY Z \",\" The Mouseketeers \",\" Joe Strummer \",\" The Cure \",\" Long Beach Dub Allstars \",\" Diddy \",\" INDIA \",\" Ja Rule \",\" Macy Gray \",\" Tha Eastsidaz \",\" P nk \",\" Nappy Roots \",\" Linkin Park \",\" The Band \",\" Edgar Joel \",\" Nas \",\" 50 Cent \",\" Black Eyed Peas \",\" Lou Monte \",\" Medeski\",\" Phillips\",\" Shania Twain \",\" Masta Ace \",\" LL Cool J \",\" Madvillain \",\" Jedi Mind Tricks \",\" Cassidy \",\" Piccallo \",\" WWE \",\" Mr  Lil One \",\" Ilene Woods \",\" The Game \",\" England Dan \",\" Tiffany Evans \",\" Desmond Dekker \",\" Eminem \",\" Brandon Rhyder \",\" Nelly \",\" Robin Thicke \",\" MC Magic \",\" Lionel Richie \",\" Young Buck \",\" The Cheetah Girls \",\" Jurassic 5 \",\" Beyonc\\u00e9 \",\" The Pussycat Dolls \",\" Jibbs \",\" Mr  Capone E \",\" Ali Tabatabaee \",\" Robert Plant \",\" Dave Sereny \",\" A B  Quintanilla III Y Los Kumbia Kings \",\" Blest \",\" Kenny Chesney \",\" JJ Grey   Mofro \",\" R K M   Ken Y \",\" Collie Buddz \",\" Hurricane Chris \",\" Hans Zimmer \",\" Colt Ford \",\" Shwayze \",\" Jamie Foxx \",\" Kevin Rudolf \",\" Akon \",\" James Fortune \",\" Plies \",\" Busta Rhymes \",\" Renee Olstead \",\" Usher \",\" Grizzly Bear \",\" Pitbull \",\" Kid Cudi \",\" J\\u00f3nsi \",\" Thomas Bergersen \",\" David Guetta \",\" Gorillaz \",\" Protoje \",\" Enrique Iglesias \",\" DEV \",\" Bunbury \",\" Nicki Minaj \",\" Yolanda Be Cool \",\" AJ Rafael \",\" Andrae Crouch \",\" Lupe Fiasco \",\" Kendrick Lamar \",\" Jason Segel \",\" Ricky Martin \",\" Ledisi \",\" Ace Hood \",\" Jamie Grace \",\" Kaskade \",\" Above   Beyond \",\" Conjunto Atardecer \",\" Mindless Behavior \",\" deadmau5 \",\" Ben Harper \",\" Jonn Hart \",\" Jack Johnson \",\" Palomo \",\" Anthony Hamilton \",\" Gerardo Ortiz \",\" Silence Wang \",\" Nipsey Hussle \",\" Hiatus Kaiyote \",\" BANKS \",\" Ariana Grande \",\" Jhen\\u00e9 Aiko \",\" Fall Out Boy \",\" Fiji \",\" Janelle Mon\\u00e1e \",\" CRUCIFIX \",\" Kristin Chenoweth \",\" Kevin Gates \",\" Kid Rock \",\" Daft Punk \",\" Penny and Sparrow \",\" 3LAU \",\" T I  \",\" Big   Rich \",\" Flight Facilities \",\" Run The Jewels \",\" Carlos Vives \",\" Jeff Williams \",\" ScHoolboy Q \",\" The Neighbourhood \",\" Cartel De Santa \",\" Cher Lloyd \",\" Rich Homie Quan \",\" Years   Years \",\" Charles Gounod \",\" Janji \",\" Mura Masa \",\" Lil Dicky \",\" Drake \",\" Selena Gomez \",\" Miel San Marcos \",\" Tory Lanez \",\" Tom Misch \",\" Wale \",\" Travis Scott \",\" Troye Sivan \",\" Aaron Y Su Grupo Ilusion \",\" Galimatias \",\" nothing\",\" Masego \",\" Pusha T \",\" Novo Amor \",\" Sinead Harnett \",\" Karen Aoki \",\" Rebelution \",\" MadeinTYO \",\" Kygo \",\" JoJo \",\" Flo Rida \",\" DJ Khaled \",\" Jordan Rakei \",\" Mac Miller \",\" James Blake \",\" Los Cadetes De Linares \",\" Big Wild \",\" Zay Hilfigerrr \",\" Granger Smith \",\" Camila Cabello \",\" In Love With a Ghost \",\" XXXTENTACION \",\" Louis The Child \",\" Halsey \",\" Marc E  Bassy \",\" Bad Bunny \",\" Skrillex \",\" Lil Yachty \",\" $uicideBoy$ \",\" Lil Boom \",\" Playboi Carti \",\" Steve Aoki \",\" Forrest  \",\" Justin Timberlake \",\" Night Lovell \",\" DaniLeigh \",\" KAROL G \",\" Morgan Evans \",\" Paris Shadows \",\" A$AP Rocky \",\" Goody Grace \",\" Clean Bandit \",\" Billie Eilish \",\" Future \",\" Ski Mask The Slump God \",\" The Chainsmokers \",\" TK Kravitz \",\" Anderson  Paak \",\" mysticphonk \",\" RL Grime \",\" No Rome \",\" Calum Scott \",\" Cosculluela \",\" BTS \",\" J Balvin \",\" KINGMOSTWANTED \",\" Chance the Rapper \",\" YBN Cordae \",\" Young Dolph \",\" Lil Peep \",\" Tyler\",\" Drax Project \",\" Lost Kings \",\" Bhad Bhabie \",\" NOTD \",\" Cheat Codes \",\" Bastille \",\" Gesaffelstein \",\" I Prevail \",\" Trey Songz \",\" Lizzo \",\" Dan   Shay \",\" Melanie Martinez \",\" Rich The Kid \",\" Sam Feldt \",\" Josh Richards \",\" Freddie Gibbs \",\" Alina Baraz \",\" Delacey \",\" Anuel AA \",\" Morat \",\" A Boogie Wit da Hoodie \",\" Trippie Redd \",\" Cali Y El Dandee \",\" YoungBoy Never Broke Again \",\" The Kid LAROI \",\" Olivia Rodrigo \",\" Ne Yo \",\" Ellie Goulding \",\" Wisin   Yandel \",\" Machine Gun Kelly \",\" Lil Baby \",\" Sleepy Hallow \",\" Petit Biscuit \",\" Doe Boy \",\" Justin Bieber \",\" Juan Arvizu \",\" Alberto Ruiz Lavadenz \",\" Conjunto 31 de Octubre \",\" Felipe V  Rivera \",\" Robert de Vis\\u00e9e \",\" Georgia Mittaki \",\" Korina Thessalonikia \",\" Guillermo Gomez \",\" Nikos Gounaris \",\" Kakkia Mendri \",\" Cristian Vasile \",\" Sylvia de Grasse \",\" \\u0393\\u03b9\\u03ac\\u03bd\\u03bd\\u03b7\\u03c2 \\u039a\\u03b1\\u03bc\\u03b2\\u03cd\\u03c3\\u03b7\\u03c2 \",\" Magia Melagia \",\" Markos Vamvakaris \",\" Mixalis Kalergis \",\" St  Kerom\\u00edtis \",\" P  Susheela \",\" K  C  Varma \",\" Dmitri Shostakovich \",\" Pran \",\" Ottorino Respighi \",\" Sreeradha Banerjee \",\" \\u0393\\u03b9\\u03ac\\u03bd\\u03bd\\u03b7\\u03c2 \\u0399\\u03c9\\u03b1\\u03bd\\u03bd\\u03af\\u03b4\\u03b7\\u03c2 \",\" Manuel de Falla \",\" Soolamangalam Rajalakshmi \",\" Carroll Gibbons \",\" Albeli \",\" Vincent d Indy \",\" Chittoor V  Nagaiah \",\" Ferde Grof\\u00e9 \",\" Amirbai Karnataki \",\" Benedito Lacerda \",\" Astor Piazzolla \",\" Meena Kapoor \",\" Kumar Sanu \",\" Manna Dey \",\" Noor Jehan \",\" Kalyanam Raghuramaiah \",\" Nathan Lane \",\" M  N  Ramachandra \",\" Mark Dawson \",\" Indrabadan Bhatt \",\" Joe E  Brown \",\" Raymond Scott \",\" Hemant Kumar \",\" Karen Khachaturian \",\" Colette \",\" Geeta Dutt \",\" M  L  Vasanthakumari \",\" Asit Baran \",\" Luigi Boccherini \",\" Surinder Kaur \",\" T Kanakam \",\" Heitor Villa Lobos \",\" C\\u00e9sar Franck \",\" Isaac Alb\\u00e9niz \",\" \\u0395\\u03c5\\u03b1\\u03b3\\u03b3\\u03b5\\u03bb\\u03af\\u03b1 \\u039c\\u03b1\\u03c1\\u03ba\\u03bf\\u03c0\\u03bf\\u03cd\\u03bb\\u03bf\\u03c5 \",\" Noel Rosa \",\" Andr\\u00e9 Breton \",\" Charles Aznavour \",\" Ntoua Xarma \",\" Mubarak Begum \",\" Rundfunk Sinfonieorchester Leipzig \",\" Mix  Thomakos \",\" Stella Xaskil \",\" Los Provincianos \",\" P  Leela \",\" Iqbal Bano \",\" Pendyala Nageswara Rao \",\" Otakar Parik \",\" Edward M  Read \",\" Jimmy Carroll \",\" Mary Norton \",\" Alban Berg \",\" Ambroise Thomas \",\" Fred Anderson \",\" Maurice Greene \",\" Charlie DeForest \",\" Zolt\\u00e1n Kod\\u00e1ly \",\" The Carillons \",\" Jack Cassidy \",\" Luigi Cherubini \",\" David Tudor \",\" Johann Pachelbel \",\" Jean Giono \",\" Johann Strauss II \",\" Gioachino Rossini \",\" The Bellecats \",\" Los Peregrinos \",\" Absis \",\" Jean Fran\\u00e7aix \",\" Dizzy Gillespie \",\" George Shearing Quintet \",\" Edith Adams \",\" Elmer Bernstein \",\" Kishore Kumar \",\" Chet Baker \",\" Kenny Dorham \",\" Gerry Mulligan \",\" Tadd Dameron \",\" Josephine Premice \",\" Dean Martin \",\" Maurice Chevalier \",\" Bienvenido Granda \",\" June Christy \",\" Ricky Nelson \",\" Lena Horne \",\" Debbie Reynolds \",\" MAY H  BRAE \",\" The Sound Of Music Orchestra \",\" Peggy Lee \",\" Coleman Hawkins \",\" Dave Brubeck \",\" Johnny Hodges \",\" \\u00d1ico Estrada y Su Sonora \",\" Glen Campbell \",\" Bill Evans \",\" Peggy Seeger \",\" Les Paul \",\" Alvin   The Chipmunks \",\" Laurindo Almeida \",\" The Carter Family \",\" T  M  Soundararajan \",\" George Morgan \",\" Monica Zetterlund \",\" The Dreamletts \",\" The Yardbirds \",\" Rod   Kevin \",\" Sam Cooke \",\" Hema Sardesai \",\" Gal Costa \",\" Paul Simon \",\" Frances Nero \",\" Johnny Cash \",\" Johnny Pacheco \",\" Mike Bloomfield \",\" Grant Green \",\" Thad Jones \",\" William Byrd \",\" Porter Wagoner \",\" Carole King \",\" Domenico Scarlatti \",\" John Lee Hooker \",\" Astrud Gilberto \",\" Alan Parker \",\" Ismael Rivera \",\" America \",\" Edgar Winter \",\" Andy Williams \",\" Nitty Gritty Dirt Band \",\" The Dawn \",\" Bob Bingham \",\" Ted Neeley \",\" John Holt \",\" Elis Regina \",\" David Allan Coe \",\" Blue Magic \",\" Rufus   Chaka Khan \",\" Jess Uke \",\" Paul Desmond \",\" Ambrosia \",\" Peter Frampton \",\" Herbie Mann \",\" Frank Stallone \",\" Harve Presnell \",\" Oleg Anofriyev \",\" Earl King \",\" Emerson\",\" Maze \",\" Foghat \",\" Willie Col\\u00f3n \",\" Djavan \",\" YELLOW MAGIC ORCHESTRA \",\" Jo\\u00e3o Bosco \",\" Anoushirvan Rohani \",\" Stanley Clarke \",\" Brian Eno \",\" Dolly Parton \",\" Merle Haggard \",\" Adalberto Santiago \",\" Jim Ed Brown \",\" Rick James \",\" George Lam \",\" Julie Sue \",\" Ilaiyaraaja \",\" Peabo Bryson \",\" Julio Iglesias \",\" Jermaine Jackson \",\" Mandy Patinkin \",\" Walpataca \",\" \\u30aa\\u30e1\\u30ac\\u30c8\\u30e9\\u30a4\\u30d6 \",\" Romualdo Brito \",\" Whitney Houston \",\" Billy Idol \",\" Jean Jacques Goldman \",\" Lisa Lisa   Cult Jam \",\" Bruce Hornsby \",\" Selda Ba\\u011fcan \",\" Cocteau Twins \",\" Celia Cruz \",\" Talking Heads \",\" The Andrews Sisters \",\" S\\u00e9rgio Mendes \",\" Robert Billig \",\" David Benoit \",\" Rev  Milton Brunson \",\" Jody Watley \",\" Joe Liggins \",\" The New Life Community Choir \",\" Anuradha Paudwal \",\" Kool G Rap \",\" Stuttgart Piano Trio \",\" Zydecajun \",\" Leopold Stokowski \",\" Prince \",\" \\u5f6d\\u5bb6\\u9e97 \",\" Babyface \",\" C\\u00e9cile Chaminade \",\" Mariah Carey \",\" Ella Mae Morse \",\" Chalino Sanchez \",\" Rodney O \",\" Biohazard \",\" Guru \",\" Bobby Brown \",\" Bob Wills \",\" World Class Wreckin  Cru \",\" Method Man \",\" John Field \",\" Spice 1 \",\" MC Eiht \",\" The Red Army Choir \",\" Kirk Franklin \",\" Fourplay \",\" Jon Secada \",\" Nightcrawlers \",\" The Isley Brothers \",\" Kenny G \",\" Foxy Brown \",\" Ghostface Killah \",\" Wu Bai \",\" Karen Dotrice \",\" Master P \",\" Banda Machos \",\" Kathryn Beaumont \",\" Nu Flavor \",\" Bobby Driscoll \",\" The Temptations \",\" Suga Free \",\" Michael Berresse \",\" Jacky Cheung \",\" Onyx \",\" Sheryl Crow \",\" Charles Strouse \",\" Jennifer Lopez \",\" Gang Starr \",\" Naughty By Nature \",\" Guru s Jazzmatazz \",\" Bone Thugs N Harmony \",\" Dan Hill \",\" Josh Groban \",\" Barenaked Ladies \",\" DMX \",\" Phil Harris \",\" Salt N Pepa \",\" Angie Stone \",\" Redman \",\" Counting Crows \",\" B2K \",\" Jorge Celed\\u00f3n \",\" Howard Shore \",\" Groundation \",\" My Chemical Romance \",\" Zero 7 \",\" Shyne \",\" Kings of Convenience \",\" Dan Balan \",\" DJ Nelson \",\" David Crosby \",\" Lil  Flip \",\" Beanie Sigel \",\" James Newton Howard \",\" Darrell Scott \",\" Hector   Tito \",\" Tommy Dorsey \",\" Mase \",\" Alicia Keys \",\" Damian Marley \",\" Motorcycle \",\" Merl Saunders \",\" Reba McEntire \",\" Lyfe Jennings \",\" Don Omar \",\" Mickey Mouse \",\" Thal\\u00eda \",\" Lil Scrappy \",\" Wisin \",\" Three 6 Mafia \",\" Baby Boy \",\" Johann Nepomuk Hummel \",\" Joe Anderson \",\" Kat Deluna \",\" Carol Woods \",\" Laura Bell Bundy \",\" Dean Evenson \",\" Jason Mraz \",\" Fatman Scoop \",\" Daniel Breaker \",\" Santigold \",\" E 40 \",\" Maroon 5 \",\" Mystery Jets \",\" H\\u00e9ctor Acosta  El Torito  \",\" Hot Stylz \",\" Ciara \",\" Jonas Brothers \",\" Flex \",\" Birdman \",\" El Compa Sacra\",\" Ying Yang Twins \",\" Rick Ross \",\" MF DOOM \",\" Christopher Tin \",\" Rihanna \",\" Snoop Dogg \",\" Yo Gotti \",\" 8Ball \",\" Lil Wayne \",\" Webbie \",\" Nadia Ali \",\" Lenny Cooper \",\" Margarita la diosa de la cumbia \",\" Demi Lovato \",\" Swedish House Mafia \",\" Los Pericos \",\" LoveRance \",\" Dizzee Rascal \",\" Rusko \",\" Amy Winehouse \",\" Chester See\",\" Alejandro Sanz \",\" Martin Solveig \",\" Matt Nathanson \",\" G Eazy \",\" Chief Keef \",\" Jake Owen \",\" Christoph Willibald Gluck \",\" Pleasure P \",\" Far East Movement \",\" Tercer Cielo \",\" David Glen Eisley \",\" Meek Mill \",\" Jeremy Jordan \",\" Victorious Cast \",\" Natalia Lafourcade \",\" Tyga \",\" Sunny Ledfurd \",\" Adventure Club \",\" Florida Georgia Line \",\" Paramore \",\" Klangkarussell \",\" Sammy Johnson \",\" Donny Osmond \",\" Sammy Adams \",\" Waka Flocka Flame \",\" Gene Kelly \",\" Porter Robinson \",\" The Vamps \",\" The Knocks \",\" Dirty Heads \",\" Barrett Wilbert Weed \",\" Bebe Rexha \",\" Glass Animals \",\" Calvin Harris \",\" Different Heaven \",\" Robin Schulz \",\" Oscar Isaac \",\" Moonshine Bandits \",\" Man\\u00e1 \",\" Ludacris \",\" Cartoon \",\" Joywave \",\" La Sonora Dinamita \",\" Missy Elliott \",\" Juicy J \",\" Vicetone \",\" Skizzy Mars \",\" Jeremih \",\" Earl Sweatshirt \",\" Miguel \",\" ZAYN \",\" BADBADNOTGOOD \",\" Matt Maeson \",\" Solange \",\" Jeezy \",\" Yuna \",\" Nick Jonas \",\" Struggle Jennings \",\" R\\u00dcF\\u00dcS DU SOL \",\" Domo Genesis \",\" Isaiah Rashad \",\" Phil Wickham \",\" Sia \",\" Wifisfuneral \",\" SLANDER \",\" Bryce Vine \",\" Anitta \",\" Jory Boy \",\" Jason Derulo \",\" Gucci Mane \",\" Amin\\u00e9 \",\" Logic \",\" Keala Settle \",\" Arcangel \",\" El Fantasma \",\" Lil Skies \",\" Matoma \",\" Cash Cash \",\" Lenin Ram\\u00edrez \",\" YNW Melly \",\" Jonas Blue \",\" Chris Lake \",\" GoldLink \",\" Monty Datta \",\" Cardi B \",\" Migos \",\" Kodak Black \",\" James Arthur \",\" Fukkit \",\" Lord Huron \",\" JayDaYoungan \",\" Mark Ronson \",\" Shordie Shordie \",\" Arin Ray \",\" ilyTOMMY \",\" Sean Paul \",\" Liam Payne \",\" Daddy Yankee \",\" Taylor Swift \",\" Yella Beezy \",\" GASHI \",\" Nicky Jam \",\" Cuco \",\" YSN Flow \",\" Quinn XCII \",\" Jaden \",\" Moneybagg Yo \",\" Luh Kel \",\" Lil Tjay \",\" Gente De Zona \",\" Chris Brown \",\" Pop Smoke \",\" Lil Durk \",\" Joyner Lucas \",\" Jawsh 685 \",\" Natanael Cano \",\" Arijit Singh \",\" Junior H \",\" George Mutoo and His Demerara Orchestra \",\" Sofia Karivali \",\" The Duke Of Iron \",\" D\\u00fao Las Kantutas \",\" Harry James \",\" \\u0399 \\u03a1\\u03ac\\u03c0\\u03c4\\u03b7\\u03c2 \",\" \\u0393\\u03b9\\u03ce\\u03c1\\u03b3\\u03bf\\u03c2 \\u039a\\u03b1\\u03bc\\u03b2\\u03cd\\u03c3\\u03b7\\u03c2 \",\" \\u03a0\\u03ad\\u03c4\\u03c1\\u03bf\\u03c2 \\u039a\\u03c5\\u03c1\\u03b9\\u03b1\\u03ba\\u03cc\\u03c2 \",\" Fred Bird Rythmicans \",\" Mitaki \",\" The Royal Victoria Hotel Calypsos \",\" Anestos Delias \",\" Giorgos Papasideris\",\" Kontopoylos \",\" Sheela \",\" Sujan Majhi \",\" Anil Biswas \",\" W  Herbert Brewster \",\" Francisco Ernani Braga \",\" L Luttazzi \",\" Dalva De Oliveira \",\" Henry Mancini \",\" Canhoto \",\" Jean Philippe Rameau \",\" Rehana \",\" C  Ramchandra \",\" Sriharshia \",\" Ella Logan \",\" Khursheed Bano \",\" Rampyari \",\" Bourvil \",\" Galipenchala Narashima Rao \",\" Bhiku \",\" Federico Moreno Torroba \",\" Salim Raza \",\" Nasim Begum \",\" B\\u00e9la Bart\\u00f3k \",\" Lalita Dewoolkar \",\" Luigi Denza \",\" Mary Martin \",\" Meena Khadikar \",\" Chuji Kinoshita \",\" St\\u00e9lios Kazantz\\u00eddis \",\" Jascha Heifetz \",\" Ti Yogan \",\" Barbara Cook \",\" Tcherawata player from Gura Valley\",\" Leopold Mozart \",\" Lola Flores \",\" Tito Rodriguez \",\" James Lord Pierpont \",\" S  D  Batish \",\" The Brigadiers \",\" Kokila Joshi \",\" Edward Elgar \",\" Carl Leopold Sj\\u00f6berg \",\" K  Rani \",\" Kaye Ballard \",\" Church of God Congregation  Nassau\",\" Gaetano Donizetti \",\" Pierre Dac \",\" Pyotr Ilyich Tchaikovsky \",\" Jacqueline Harpet \",\" Antonio Diaz Mena \",\" Pepe Blanco \",\" Harry  Sweets  Edison \",\" Ewan MacColl \",\" Clifford Brown \",\" The Channels \",\" D  Brubeck \",\" Peter Palmer \",\" Percy Faith \",\" The Chico Hamilton Quintet \",\" Frankie Laine \",\" Johnny Mercer \",\" Thelonious Monk \",\" Junior Wells \",\" Gil Evans \",\" Lupita P x82rez \",\" Los Panchos \",\" Tommy Dorsey   His Clambake Seven \",\" Louis Prima \",\" Virginia Lopez \",\" Jeff Alexander \",\" Joe Williams \",\" Art Pepper \",\" Danny Kaye \",\" Bob Brookmeyer \",\" Lambert\",\" The Latin Jazz Quintet \",\" Oscar Peterson Trio \",\" Alberto Beltran \",\" Richard Rodgers \",\" Gene Ammons \",\" Sonny Stitt \",\" Steve Lacy \",\" Ray Conniff \",\" Red Garland Quintet \",\" Bobby Darin \",\" Bob Dylan \",\" Muddy Waters \",\" Jimmy Smith \",\" The New Lost City Ramblers \",\" Gerry Woo \",\" H\\u00e9ctor Lavoe \",\" Wes Montgomery \",\" Paco de Luc\\u00eda \",\" Steppenwolf \",\" Billo s Caracas Boys \",\" Bob James \",\" Les Baxter \",\" Fania All Stars \",\" Luis Bacalov \",\" Laura Nyro \",\" Milton Nascimento \",\" Ronnie Aldrich and his 2 pianos \",\" Vincenzo Capirola \",\" The Juicy Fruits \",\" Al Hurricane \",\" Joe Henderson \",\" B B  King \",\" King Tubby \",\" Adolfo Echeverria \",\" The Whispers \",\" Bob Marley   The Wailers \",\" Paul Williams \",\" George Thorogood \",\" Ozone \",\" Los Vecinos \",\" La Gran Banda Cale\\u00f1a \",\" Donna Summer \",\" Jenny Tseng \",\" Roman Tam \",\" R  D  Burman \",\" Sonic Youth \",\" Alfredo Linares \",\" Stevie Wonder \",\" Tom Petty and the Heartbreakers \",\" Gloria Estefan \",\" Patti LaBelle \",\" Don Moen \",\" F\\u00e1bio Jr  \",\" Meredith Monk \",\" Dwight Yoakam \",\" Paragon Ragtime Orchestra\",\" Jennifer Butt \",\" Eric B    Rakim \",\" Heavy D   The Boyz \",\" Chip Zien \",\" Tom Aldredge \",\" The Rippingtons \",\" Sam Brown \",\" The Beatles \",\" Labi Siffre \",\" Claude Michel Sch\\u00f6nberg \",\" Robert Westenberg \",\" Angelo DeBarre \",\" Angela Winbush \",\" Jimmy Buffett \",\" Jason Donovan \",\" John P  Kee \",\" Henry Purcell \",\" Sandi Patty \",\" Nusrat Fateh Ali Khan \",\" Donnie McClurkin \",\" Rod Stewart \",\" Billy J  Kramer \",\" The Chieftains \",\" Peter Gallagher \",\" Junior Vasquez \",\" Medicine \",\" Nancy Wilson \",\" Thug Life \",\" Ill Al Skratch \",\" Capleton \",\" Annie Lennox \",\" Mobb Deep \",\" Chorus   Pocahontas \",\" The Roots \",\" Joan Sebastian \",\" Huey Dunbar \",\" Paul Kandel \",\" Keith Sweat \",\" Color Me Badd \",\" Mack 10 \",\" Lester Young \",\" Capone N Noreaga \",\" Delerium \",\" Adriana Caselotti \",\" Allure \",\" The Del Vikings \",\" Paul Anka \",\" Shaun Davey \",\" Deborah Cox \",\" Sukhwinder Singh \",\" DJ Quik \",\" Amy Hanaiali i \",\" Mousse T  \",\" The LOX \",\" Fat Pat \",\" Sly\",\" The East Flatbush Project \",\" Faith Evans \",\" Ibrahim Ferrer \",\" Boney James \",\" Jessica Simpson \",\" Ginuwine \",\" Albert King \",\" Pearl Django \",\" Bow Wow \",\" Widespread Panic \",\" Jackie McLean \",\" Jamiroquai \",\" Philip Bailey \",\" Immortal Technique \",\" John Barry \",\" Secret Garden \",\" Nicole Kidman \",\" Chick Corea \",\" Soulive \",\" Negami \",\" John Tartaglia \",\" Bertha Tilman \",\" Michael McDonald \",\" Mystikal \",\" Guerilla Black \",\" Baby Bash \",\" Fort Minor \",\" Leo Kottke \",\" Mary J  Blige \",\" Boosie Badazz \",\" Hezekiah Walker \",\" Bob Sinclar \",\" F Minus \",\" Josh Turner \",\" Fabolous \",\" Johnny Depp \",\" Chamillionaire \",\" Jarabe De Palo \",\" Timbaland \",\" Miranda  \",\" Swishahouse \",\" Kenny Rogers \",\" B  D Addario as Flounder \",\" Lecrae \",\" Mike Posner \",\" The Dream \",\" Martin O Donnell \",\" Big Time Rush \",\" Chayanne \",\" Shakira \",\" Katharine McPhee \",\" Sutton Foster \",\" Bethel Music \",\" Jesse   Joy \",\" Joey Bada$$ \",\" Goodnight\",\" Calibre 50 \",\" Benjy Wertheimer \",\" Josh WaWa White \",\" Big Sean \",\" Cam Meekins \",\" Tom Odell \",\" Mat Zo \",\" PARTYNEXTDOOR \",\" MIKA \",\" Sleeping With Sirens \",\" Tim McGraw \",\" Trip Lee \",\" SMO \",\" ODESZA \",\" Slow Magic \",\" Carrie Underwood \",\" Charlie Farley \",\" Kurt Hugo Schneider \",\" SAYGRACE \",\" Kool John \",\" o k h o \",\" Tori Kelly \",\" Juan Gabriel \",\" Major Lazer \",\" Kanye West \",\" KALEO \",\" Rhiannon Giddens \",\" TobyMac \",\" AlunaGeorge \",\" Bassnectar \",\" Galactic \",\" DEAN \",\" Dom Dolla \",\" Zac Brown Band \",\" 21 Savage \",\" M\\u00f8me \",\" Lucidious \",\" Galantis \",\" Jorja Smith \",\" Made in M \",\" Charles Bradley \",\" Lost Frequencies \",\" Kid Trunks \",\" Luis Fonsi \",\" ILLENIUM \",\" atlas \",\" Imagine Dragons \",\" Imaginary Future \",\" Yandel \",\" Little Mix \",\" In This Moment \",\" Laura Dreyfuss \",\" T3R Elemento \",\" Lil Uzi Vert \",\" Gigolo Y La Exce \",\" 6ix9ine \",\" Noah Cyrus \",\" Johnny Orlando \",\" Floreyyyy \",\" Young Thug \",\" Julia Michaels \",\" Adam Calhoun \",\" Tee Grizzley \",\" 88rising \",\" pxzvc \",\" Bas \",\" MAX \",\" Rodney Atkins \",\" MC Virgins \",\" Los Hijos De Garcia \",\" Kehlani \",\" Doja Cat \",\" Tm88 \",\" Roddy Ricch \",\" Gunna \",\" Reik \",\" j hope \",\" R3HAB \",\" Arizona Zervas \",\" Loud Luxury \",\" Childish Gambino \",\" Alessia Cara \",\" Dreamville \",\" Camilo \",\" Lil Pump \",\" Milky Chance \",\" $NOT \",\" Gabby Barrett \",\" Carin Leon \",\" KSI \",\" YG \",\" VIZE \",\" Francisco T\\u00e1rrega \",\" Panos Visvardis \",\" Gerald Clark and his Caribbean Serenaders \",\" Heinz Sandauer \",\" Carlota Jaramillo \",\" Menka Bai \",\" Mo  Guzzo \",\" Ernesto Lecuona \",\" Anton Rubinstein \",\" \\u0398\\u03af\\u03b1\\u03c3\\u03bf\\u03c2 \\u0392\\u03c1\\u03c5\\u03c3\\u03b7\\u03af\\u03b4\\u03b1\\u03c2 \\u03a0\\u03b1\\u03bd\\u03c4\\u03bf\\u03c0\\u03bf\\u03cd\\u03bb\\u03bf\\u03c5 \",\" Kesari \",\" B Jayamma \",\" Emilio Serrano \",\" Renuka Devi \",\" Clement Krauss \",\" Don Cherry \",\" Chhamiya \",\" George Frideric Handel \",\" Shamim Akhtar \",\" Sunder Singh \",\" Mohantara Talpade \",\" Nanette Fabray \",\" Jyotsna Bhole \",\" Naseem Bano \",\" Meena Kumari \",\" V Sarala Rao \",\" Sunetra \",\" Howard Ferguson \",\" Radha Ravi \",\" Ram Kamlani \",\" Mahmure Suat \",\" Giuseppe Tartini \",\" Enrique Granados \",\" Renan Garcia \",\" Soula Karagiorgi \",\" Giota Xalkia \",\" Giannis Papaioannou \",\" Io\\u00e1nnis Tziv\\u00e1nis \",\" Male singer\",\" Three male Ibo drummers\",\" Francis Poulenc \",\" Paro Devi \",\" Prodromos Tsaousakis \",\" Balbir \",\" \\u03a1\\u03ad\\u03bd\\u03bf\\u03c2 \\u03a4\\u03ac\\u03bb\\u03bc\\u03b1\\u03c2 \",\" \\u0393\\u03b5\\u03c9\\u03c1\\u03b3\\u03af\\u03b1 \\u039c\\u03c0\\u03bb\\u03ac\\u03bd\\u03b1 \",\" Enoch Light \",\" Bob Haymes \",\" DUOBAIANO \",\" Larry Carr \",\" Roger Sessions \",\" A  M  Rajah \",\" Johnnie Ray \",\" Ravi \",\" Victor P  Young \",\" The Ames Brothers \",\" Leo Marini \",\" James McIntyre \",\" Big Bill Broonzy \",\" Oliver Nelson \",\" Max Roach \",\" Ray Bolger \",\" Topol \",\" Eric Dolphy \",\" Glenn Gould \",\" Shirley Collins \",\" Clark Terry \",\" Eddie Palmieri \",\" Judy Garland \",\" Musikkorps der 1  Gebirgsdivision Garmisch Partenkirchen   der Chor des Gebirgsfernmeldebataillons 8\",\" Brenda \",\" The Latin Blues Band \",\" Steve Stills \",\" Gilberto Gil \",\" Jerry Garcia \",\" Lyn Collins \",\" Robin Lamont \",\" Alan Hawkshaw \",\" Return To Forever \",\" Loretta Lynn \",\" Charly McClain \",\" Graham Nash \",\" Dennis Wilson \",\" Culture \",\" Dan Fogelberg \",\" Robert Gordon \",\" Patti LuPone \",\" John Denver \",\" Albertina Walker \",\" Ray Parker Jr  \",\" Alabama \",\" John Carpenter \",\" Bob   Doug McKenzie \",\" Sezen Aksu \",\" L T D  \",\" Carol Hall \",\" Afrika Bambaataa \",\" Earl Klugh \",\" Malcolm McLaren \",\" Ennio Morricone \",\" People Like Us \",\" Mason Williams \",\" The Lettermen \",\" Michael Jackson \",\" Artie Shaw \",\" Fishbone \",\" Yngwie Malmsteen \",\" Jonathan Richman \",\" Van Morrison \",\" Azumi Inoue \",\" Johnny Clegg \",\" Harry Connick\",\" Ra\\u00fal Esparza \",\" Niccol\\u00f2 Paganini \",\" George Clinton \",\" Boyz II Men \",\" El General \",\" Charly Garc\\u00eda \",\" Faith No More \",\" C\\u00e9line Dion \",\" Bob Gallarza \",\" Johnny Maestro \",\" Mac Dre \",\" Jello Biafra \",\" Warren G \",\" Alison Krauss \",\" Joey Dee \",\" N Trance \",\" Montell Jordan \",\" Philip Shadid \",\" Nick Cave   The Bad Seeds \",\" MC Hammer \",\" Too $hort \",\" Janet Jackson \",\" The Jud Conlon Chorus \",\" David Tomlinson \",\" Jason Raize \",\" Disney Studio Chorus \",\" Brian McKnight \",\" Black Star \",\" Lee Ann Womack \",\" Silkk The Shocker \",\" Pete Rock \",\" Ernest Tubb \",\" Anders Miolin \",\" Sisqo \",\" N O R E  \",\" Akinyele \",\" Mychael Danna \",\" Will Smith \",\" Dave Koz \",\" Binary Star \",\" Camille Saint Sa\\u00ebns \",\" Lil Jon \",\" Jodi Benson \",\" Dungeon Family \",\" Ogie Alcasid \",\" Archie Eversole \",\" Santana \",\" Panjabi MC \",\" Ronnie James Dio \",\" Room 5 \",\" Stephen Malkmus \",\" Jadakiss \",\" Lil Jon   The East Side Boyz \",\" Gwen Stefani \",\" Handsome Boy Modeling School \",\" 112 \",\" Cowboy Troy \",\" Beenie Man \",\" Joaquin Phoenix \",\" Adam Pascal \",\" Nujabes \",\" Alexis y Fido \",\" Rosario Dawson \",\" Blue October \",\" Shaan \",\" Vanessa Da Mata \",\" Pharrell Williams \",\" Chris LeDoux \",\" Nightmare \",\" Akwid \",\" Nikki Blonsky \",\" La Factoria \",\" Slightly Stoopid \",\" K Paz De La Sierra \",\" Within Temptation \",\" Olga Merediz \",\" New Kids On The Block \",\" KK \",\" Al Green \",\" John Legend \",\" Andre Nickatina \",\" Erre XI \",\" Bishop Paul S  Morton\",\" Mike Jones \",\" Estelle \",\" Juelz Santana \",\" Tego Calderon \",\" Young Money \",\" Tinie Tempah \",\" Soothing White Noise for Infant Sleeping and Massage\",\" Jim Brickman \",\" Roscoe Dash \",\" Krysta Rodriguez \",\" J Alvarez \",\" Glee Cast \",\" The Submarines \",\" Wiz Khalifa \",\" Casey Veggies \",\" Los Tigres Del Norte \",\" Macklemore   Ryan Lewis \",\" Anthony Brown   group therAPy \",\" Zedd \",\" Pierce The Veil \",\" Motionless In White \",\" Anton\\u00edn Dvo\\u0159\\u00e1k \",\" Flume \",\" Lana Del Rey \",\" Krizz Kaliko \",\" A Great Big World \",\" Nashville Cast \",\" Vance Joy \",\" Teyana Taylor \",\" Rowdy Rebel \",\" Christina Perri \",\" Iggy Azalea \",\" Yellow Claw \",\" Mykki Blanco \",\" Thomas Rhett \",\" Rudimental \",\" Scott Bradlee s Postmodern Jukebox \",\" ABSRDST \",\" Olly Murs \",\" Josh Abbott Band \",\" The Weeknd \",\" Sonora Carruseles \",\" Hillsong Worship \",\" Birdy \",\" Eric Church \",\" Los Angeles Azules \",\" Britney Spears \",\" Panda Eyes \",\" Two Steps from Hell \",\" Charlie Puth \",\" B o B \",\" Duckwrth \",\" GRiZ \",\" Charly Black \",\" Upchurch \",\" Ingrid Michaelson \",\" Ryan Gosling \",\" Farruko \",\" Agust D \",\" Marshmello \",\" Klasico \",\" EDEN \",\" Ravyn Lenae \",\" Ozuna \",\" Josh A \",\" Riton \",\" Rachel Bay Jones \",\" Gary Clark Jr  \",\" Switchfoot \",\" Sigala \",\" Francis and the Lights \",\" PRETTYMUCH \",\" Ouse \",\" Leon Bridges \",\" Lewis Capaldi \",\" Kudasaibeats \",\" Comethazine \",\" Shallou \",\" San Holo \",\" Witt Lowry \",\" Ella Mai \",\" Jub\\u00ebl \",\" Normani \",\" Rod Wave \",\" Demun Jones \",\" Killumantii \",\" Freddie Dredd \",\" Saba \",\" Blueface \",\" Hoodie Allen \",\" KAYTRANADA \",\" Kesha \",\" Manuel Turizo \",\" Global Dan \",\" Zack Fox \",\" Fuerza Regida \",\" Valerie Broussard \",\" bbno$ \",\" lil ricefield \",\" Diplo \",\" Shoreline Mafia \",\" Rezz \",\" Young T   Bugsey \",\" SiR \",\" John K \",\" Jai Wolf \",\" REASON \",\" JPEGMAFIA \",\" Russ \",\" Rich Brian \",\" Alejandro Fern\\u00e1ndez \",\" Mario Castelnuovo Tedesco \",\" \\u03a3\\u03c0\\u03cd\\u03c1\\u03bf\\u03c2 \\u03a3\\u03c4\\u03ac\\u03bc\\u03bf\\u03c2 \",\" Thomanerchor Leipzig \",\" \\u0393\\u03b9\\u03ce\\u03c1\\u03b3\\u03bf\\u03c2 \\u03a7\\u03b1\\u03c4\\u03b6\\u03b5\\u03bb\\u03ad\\u03c2 \",\" Carlos Lafuente \",\" Petre Alexandru \",\" Avelino Mu\\u00f1oz \",\" Uma Devi \",\" O  Goga \",\" Dim  Gkogkos \",\" Dimitris Perdikopoulos \",\" Dimitris Arapakis \",\" Shyam Sunder \",\" Burt Bacharach \",\" V Savona \",\" John Stafford Smith \",\" Jean Marie Leclair \",\" Dileep \",\" Wilhelm Friedemann Bach \",\" Alfredo Casella \",\" Emmanuel Chabrier \",\" Alberto Rabagliati \",\" Sabitri Ghosh \",\" Akkineni Nageswara Rao \",\" Ninu Majumdar \",\" Frederick Delius \",\" Robin Majumdar \",\" Paul Hindemith \",\" Anton Webern \",\" Ottokar Novacek \",\" Grigoras Dinicu \",\" Male Sioux singer with gourd rattle\",\" Gene Autry \",\" Jo Moutet \",\" \\u03a7\\u03ac\\u03c1\\u03b7\\u03c2 \\u039a\\u03bf\\u03c5\\u03c6\\u03b9\\u03b4\\u03ac\\u03ba\\u03b7\\u03c2 \",\" Giasemi \",\" Staatskapelle Dresden \",\" Giuseppe Torelli \",\" Johnny Cooper \",\" \\u0393\\u03b9\\u03ce\\u03c1\\u03b3\\u03bf\\u03c2 \\u039b\\u03b1\\u03cd\\u03ba\\u03b1\\u03c2 \",\" Thanasis Eugenikos \",\" Itinerant Sudanese workers in Gura Valley\",\" Snehal Bhatkar \",\" Talat Mahmood \",\" Phil Silvers \",\" Alfred Henderson \",\" Josef Vencl\\u016f se sv\\u00fdm orchestrem \",\" Navnit Adhikari \",\" Sulochana Kadam \",\" Ruggero Leoncavallo \",\" Anonymous \",\" Eddie Fisher \",\" Kukla\",\" Thiruchi Loganathan \",\" Barry Frank \",\" Benjamin Britten \",\" Gordon Jenkins \",\" Morgana King \",\" Jimmy Raney \",\" C B  And Ten Others With Axes \",\" Sammy Davis Jr  \",\" Dirch Passer \",\" Johnny   The Hurricanes \",\" A  L  Lloyd \",\" Owen Silveras \",\" Stranger Cole \",\" Lester Flatt \",\" Lee Remick \",\" \\u9ec3\\u570b\\u9686 \",\" Tony Bennett \",\" Lee Hazlewood \",\" Gary McFarland \",\" Nicole Croisille \",\" Stone Poneys \",\" La Lupe \",\" Luke Wade \",\" Paulinho Da Viola \",\" John Lennon \",\" Al Kooper \",\" London Symphony Orchestra \",\" Gary Burton \",\" Harry Belafonte \",\" Joel Grey \",\" Barry Dennen \",\" Yvonne Elliman \",\" Victor Jara \",\" Ramsey Lewis \",\" Justin Hayward \",\" Maddox Brothers \",\" Sonora Ponce\\u00f1a \",\" Emmylou Harris \",\" Bill Justis \",\" Burt Reynolds \",\" Herb Alpert \",\" Mot\\u00f6rhead \",\" Ashford   Simpson \",\" Vladimir Cosma \",\" Willie Nelson \",\" Grateful Dead \",\" Johnny Osbourne \",\" Bowling Green John Cephas \",\" Patrick Cowley \",\" Klara Rumyanova \",\" Bananarama \",\" Depeche Mode \",\" Milly Quezada \",\" Willie Neal Johnson \",\" Dazz Band \",\" Billy Joel \",\" Pete Sanchez \",\" David Chesky \",\" The Pogues \",\" Kim Crosby \",\" Adam Gussow \",\" Ural Cossacks Choir \",\" VIP Mass Choir \",\" Luther Barnes \",\" Yvonne Fair \",\" Jose Mari Chan \",\" D O A  \",\" Shabba Ranks \",\" Walter Bobbie \",\" Raul Di Blasio \",\" Count Basie \",\" Ottmar Liebert \",\" Ice Mc \",\" Side A \",\" DJ Screw \",\" Kris Kross \",\" Jerry Orbach \",\" Armand Van Helden \",\" Cecilia \",\" Eternal \",\" Chico DeBarge \",\" The Mellomen \",\" Samuel Hern\\u00e1ndez \",\" Wu Tang Clan \",\" Michael Lington \",\" Olivia Newton John \",\" Alanis Morissette \",\" Monica \",\" DAVE RODGERS \",\" Rayvon \",\" Alan Cumming \",\" Jermaine Dupri \",\" Diomedes Diaz \",\" Idina Menzel \",\" Eric Ben\\u00e9t \",\" Melanie C \",\" Marco Barrientos \",\" Apocalyptica \",\" Trick Daddy \",\" Jaheim \",\" Tony Jay \",\" Landy Wen \",\" DJ Encore \",\" Lorrie Morgan \",\" Buju Banton \",\" Catherine Zeta Jones \",\" Ry Cooder \",\" Wanda Jackson \",\" Alan Jackson \",\" Joe Budden \",\" Diego Torres \",\" Del The Funky Homosapien \",\" Nightmares On Wax \",\" Olga Ta\\u00f1\\u00f3n \",\" Chingy \",\" Tech N9ne \",\" Donald Duck \",\" Aventura \",\" Christian Borle \",\" Alex Ubago \",\" T Pain \",\" Ercola \",\" Bob Sinclair \",\" Sara Bareilles \",\" Lin Manuel Miranda \",\" Lloyd \",\" Yung Joc \",\" K NAAN \",\" Pesado \",\" Jesus Culture \",\" The Lacs \",\" Blake Shelton \",\" Jay Sean \",\" Los Invasores De Nuevo Le\\u00f3n \",\" Grupo Bryndis \",\" Charice \",\" Phaeleh \",\" Curtis Stigers \",\" The White Buffalo \",\" Phil Woods \",\" Tribal Seeds \",\" We As Human \",\" Joe Bonamassa \",\" Jill Scott \",\" Silverstein \",\" La Quinta Estacion \",\" Lindsay Mendez \",\" Minnesota \",\" Rags Cast \",\" Avril Lavigne \",\" Tochi Raina \",\" Carole Shelley \",\" Quasimoto \",\" Susie Suh \",\" Miranda Lambert \",\" Eric Prydz \",\" Slash \",\" SZA \",\" Cozz \",\" Mystery Skulls \",\" RAC \",\" Afrojack \",\" Dove Cameron \",\" La Ley De Michoacan \",\" Futuristic \",\" John Mark McMillan \",\" Taylor Bennett \",\" Grimes \",\" Maluma \",\" Feint \",\" Post Malone \",\" SIAMES \",\" X Ambassadors \",\" A$AP Ferg \",\" Zara Larsson \",\" Unknown Brain \",\" Snakehips \",\" Carnage \",\" Big Smo \",\" StayLoose \",\" OneRepublic \",\" Baaba Maal \",\" DeJ Loaf \",\" Steven Universe \",\" Jordan Maxwell \",\" NAV \",\" Daniel Caesar \",\" Vince Staples \",\" Francesca Battistelli \",\" Smokepurpp \",\" Only The Family \",\" KIDS SEE GHOSTS \",\" Six \",\" SadBoyProlific \",\" KYLE \",\" IDK \",\" SG Lewis \",\" El Profesor \",\" Prince Royce \",\" Bryant Myers \",\" Hayley Kiyoko \",\" J  Cole \",\" Grupo Firme \",\" YK Osiris \",\" Koffee \",\" Landon Cube \",\" Summer Walker \",\" French Montana \",\" Jax Jones \",\" Avicii \",\" Hopsin \",\" Darell \",\" Yung Gravy \",\" Powfu \",\" Joedi\",\" Elevation Worship \",\" Meghan Trainor \",\" K CAMP \",\" Andy Grammer \",\" Lennon Stella \",\" Denzel Curry \",\" dvsn \",\" Pepa Cardona \",\" Los Cebollitas \",\" \\u03a4\\u03b6\\u03c9\\u03bd \\u0393\\u03b9\\u03ac\\u03bd\\u03bd\\u03b1\\u03c1\\u03bf\\u03c2 \",\" Carmen Miranda \",\" Olivier Messiaen \",\" Louis Vierne \",\" Gustav Holst \",\" Malathi \",\" Ritza Ampatzi \",\" Roykoynas \",\" Kalergis \",\" Chester Gormley \",\" Saikat Mitra \",\" Frances Langford \",\" Chrorus \",\" James Cagney \",\" Chapuseaux y Damir\\u00f3n \",\" M Panzeri \",\" Armando Trovajoli \",\" Robert Palmer \",\" Girin Chakraborty \",\" Tan Dun \",\" Dilip Kumar \",\" Johnny Green \",\" Chitalkar \",\" Sumitra Roy \",\" Madhusudan Acharya \",\" Gaetano Pugnani \",\" Jay Blackton \",\" Litsa Xarmanta \",\" Thekla Lazaridou \",\" Alex Guesta \",\" Female Kouyou chorus with bell\",\" Male Mestizo singers\",\" \\u039d\\u03b9\\u03ba\\u03bf\\u03bb\\u03ad\\u03c4\\u03b1 \\u039a\\u03b1\\u03c0\\u03c1\\u03ae \",\" Elsa Lampo \",\" Lord Melody \",\" Ioanna Georgakopoulou \",\" Triganuca Nemciu \",\" Mbilta players from Gura Valley\",\" T  R  Mahalingam \",\" C  R  Subburaman \",\" Louis James Alfred Lef\\u00e9bure W\\u00e9ly \",\" Bohumil Kul\\u00ednsk\\u00fd \",\" Indrani \",\" Franz Leh\\u00e1r \",\" Giovanni Gabrieli \",\" Roberto Luna \",\" Monica Moore Smith \",\" Billy May \",\" Judy Holliday \",\" Joe Maphis \",\" Kurt Weill \",\" Kurt Kasznar \",\" Leslie Parrish \",\" George Shearing \",\" Charles Ives \",\" Eddie  Lockjaw  Davis \",\" Peter Warlock \",\" Ann Corio \",\" Bobby Vee \",\" Carol Burnett \",\" Gilberto Monroig \",\" Lucho Macedo Y Su Sonora \",\" Johnny Burnette \",\" Lou Rawls \",\" \\u5f35\\u742a \",\" Charlie Daniels \",\" Le Seigneur Rochereau \",\" Diana Ross   The Supremes \",\" Arik Einstein \",\" Elton John \",\" Stanley Turrentine \",\" Mel Brooks \",\" Luther Vandross \",\" Del McCoury \",\" Sonny Terry \",\" The Undead \",\" King Curtis \",\" Cortijo Y Su Combo \",\" Rose Royce \",\" Queen \",\" Doug Kershaw \",\" Dexter Wansel \",\" Bill Conti \",\" Joyce \",\" Fela Kuti \",\" Rub\\u00e9n Blades \",\" Don Williams \",\" Ricardo  Richie  Ray \",\" Mercedes Sosa \",\" Papo Lucca \",\" Mike Reno \",\" Teddy Pendergrass Duet with Whitney Houston \",\" Danny Chan \",\" Colonel Abrams \",\" Narada Michael Walden \",\" Stepan Rak \",\" Conjunto Cl\\u00e1sico \",\" U2 \",\" Al Bano \",\" Madonna \",\" Joseph Garlington \",\" Silvius Leopold Weiss \",\" Kotch \",\" Sharon\",\" Ray Barretto \",\" Technotronic \",\" Andre Kostelanetz \",\" Freddie Jackson \",\" C   C Music Factory \",\" DJ Magic Mike \",\" Adolphe Adam \",\" Alphaville \",\" Maxi Priest \",\" Wave \",\" Today \",\" Daytona \",\" Ricky Skaggs \",\" Michael Martin Murphey \",\" John Scofield \",\" Bob Wills   His Texas Playboys \",\" Marco Antonio Sol\\u00eds \",\" Chorus   Lester s Possum Park \",\" Horace Silver \",\" Baby Rasta \",\" One Way \",\" Lil  Louis \",\" The Browns \",\" The Faction \",\" Liz Callaway \",\" Donell Jones \",\" The Prodigy \",\" Victor Calderone \",\" Eros Ramazzotti \",\" Air \",\" Konrad Carelli \",\" MAKO \",\" Rell \",\" Joe Hisaishi \",\" Brian Stokes Mitchell \",\" Mark Mancina \",\" Destiny s Child \",\" Westlife \",\" Lucky Ali \",\" Clint Mansell \",\" Musiq Soulchild \",\" Women of the Palace \",\" Xzibit \",\" Parliament \",\" The Supermen Lovers \",\" Rui Da Silva \",\" Nate Dogg \",\" Wyclef Jean \",\" Craig David \",\" Richard Gere \",\" N E R D \",\" Helen Reddy \",\" John Foxx \",\" People Under The Stairs \",\" Bob Seger \",\" Youngbloodz \",\" Yolanda P\\u00e9rez \",\" Loon \",\" The Diplomats \",\" Adam Hood \",\" A Perfect Circle \",\" El G\\u00fcero y Su Banda Centenario \",\" N Klabe \",\" Jim Jones \",\" Natalie \",\" Fat Joe \",\" J J  Cale \",\" Cuete \",\" Vineyard Worship \",\" AZ \",\" Jenny Lewis \",\" Stephen Marley \",\" Tab Benoit \",\" Ivy Queen \",\" Calo \",\" Consequence \",\" Jim James \",\" Toby Keith \",\" Kelis \",\" JJ Lin \",\" Zion \",\" Q Tip \",\" The Lonely Island \",\" Vistoso Bosses \",\" Isobel Campbell \",\" Ana\\u00efs Mitchell \",\" Ali Farka Tour\\u00e9 \",\" Big Boi \",\" Dan Black \",\" Meaghan Martin \",\" Cody Simpson \",\" Jowell   Randy \",\" Pendulum \",\" Vicente Garcia \",\" Passion \",\" Jason Aldean \",\" Mika Singh \",\" Bruno Mars \",\" MellowHype \",\" Kelly Rowland \",\" Newsies Original Broadway Cast \",\" Zebra Katz \",\" Coldplay \",\" Hardwell \",\" The Stixxx \",\" Curren$y \",\" Neeraj Shridhar \",\" Odd Future \",\" Alesso \",\" Marion Band$ \",\" Nina Simone \",\" Danny Brown \",\" Royal Tailor \",\" Ramin Djawadi \",\" Alice Lee \",\" Home Free \",\" Beatslingers \",\" William Onyeabor \",\" KB \",\" Austin Mahone \",\" Apashe \",\" Jez Dior \",\" Disclosure \",\" NF \",\" Camila \",\" Gabriel Faur\\u00e9 \",\" Owl City \",\" Flux Pavilion \",\" Vigiland \",\" TeddyLoid \",\" Kid Ink \",\" Rapsody \",\" Ty Dolla $ign \",\" Langhorne Slim \",\" Ramirez \",\" Kiiara \",\" Nick Kroll \",\" Bomba Est\\u00e9reo \",\" Rae Sremmurd \",\" Jessie Mueller \",\" The Living Tombstone \",\" Big L \",\" Dreezy \",\" Volbeat \",\" Elohim \",\" Will Reagan \",\" Ck9c \",\" Chris Webby \",\" Jakob Ogawa \",\" Terror Reid \",\" PnB Rock \",\" Portugal  The Man \",\" Kenneth Whalum \",\" GAWVI \",\" Lady Gaga \",\" Boyinaband \",\" Milo Manheim \",\" Jay Rock \",\" ayokay \",\" Brantley Gilbert \",\" Hayden James \",\" Sebastian Yatra \",\" Kane Brown \",\" Jasiel Ayon \",\" Gryffin \",\" Mike Bah\\u00eda \",\" NLE Choppa \",\" Dalex \",\" Leven Kali \",\" Megan Thee Stallion \",\" DaBaby \",\" Omarion \",\" Niall Horan \",\" 24kGoldn \",\" GRACEY \",\" Calboy \",\" Cab Calloway   His Orchestra \",\" Adri\\u00e1n Pati\\u00f1o \",\" ANTONIS NTALGKAS \",\" Lord Kitchener \",\" Guillermo Butikofer \",\" Various Artists \",\" Radharani \",\" Susan Hayward \",\" Alexander Borodin \",\" Vera Zorina \",\" Usha \",\" Sarah Vaughan \",\" Victor Babin \",\" \\u0391\\u03bd\\u03b4\\u03c1\\u03ad\\u03b1\\u03c2 \\u0394\\u03bf\\u03c5\\u03ba\\u03bb\\u03b9\\u03ac\\u03c2 \",\" Marlene \",\" Georges Garvarentz \",\" M  S  Rama Rao \",\" Bhanumathi Ramakrishna \",\" Kanan Devi \",\" Enrico Toselli \",\" Litsa Xarma \",\" Takis Mpinis \",\" \\u0391\\u03bb\\u03ad\\u03ba\\u03bf\\u03c2 \\u039a\\u03b1\\u03c1\\u03b1\\u03b2\\u03af\\u03c4\\u03b7\\u03c2 \",\" T R Ramachandran \",\" Mixed singers\",\" Kousar Parveen \",\" Jeroen van Veen \",\" Male Hebrew Yemenite singers\",\" Tennessee Ernie Ford \",\" \\u03a0\\u03ac\\u03bd\\u03bf\\u03c2 \\u03a3\\u03ac\\u03bc\\u03b7\\u03c2 \",\" Six men from Oaxaca\",\" Stefan Wolpe \",\" Elizeth Cardoso \",\" Sammy Lewis \",\" L\\u00e9o Delibes \",\" Nelson Riddle \",\" Art Farmer \",\" Alec Wilder \",\" B B And Six Others \",\" Jimpson And Men With Axes \",\" Orquestra Afro Brasileira \",\" Edward Plumb \",\" Bud Shank \",\" Billy Eckstine \",\" Annie Ross \",\" Diana Dors \",\" Harper Lee \",\" P  B  Sreenivas \",\" Tito Puente \",\" Nino Oliviero \",\" Oscar Brown\",\" Bill Henderson \",\" Big John Patton \",\" Cookie   The Cupcakes \",\" Al Hirt \",\" Ronnie Aldrich \",\" The New Stan Getz Quartet \",\" The New Christy Minstrels \",\" Herb Ellis \",\" Paul Revere   The Raiders \",\" Bonnie Owens \",\" Otis Redding \",\" Manny Lopez \",\" \\u5305\\u5a1c\\u5a1c \",\" Connie Smith \",\" Belton Richard \",\" Leon Russell \",\" The Rolling Stones \",\" U Roy \",\" Carlos Santana \",\" Dawn \",\" The Miracles \",\" Bert   Ernie \",\" Jerry Herman \",\" The BeachBums \",\" Moe Bandy \",\" Beto Guedes \",\" Bobby Womack \",\" The Doobie Brothers \",\" Gram Parsons \",\" Pat Thomas \",\" Candeia \",\" New Grass Revival \",\" Patrick Swayze \",\" Michael Gore \",\" Lucho Cuadros \",\" Jensy \",\" Bryan Adams \",\" Bappi Lahiri \",\" Oscar D Le\\u00f3n \",\" Bryan Ferry \",\" INXS \",\" Tony Rice \",\" Aretha Franklin \",\" Stephen Sondheim \",\" Vivian Chow \",\" Camaron De La Isla \",\" Bob Fitts \",\" Wayne Toups \",\" David Lui \",\" Red Foley \",\" Josie de Guzman \",\" Bluejean \",\" Organized Konfusion \",\" Aaron Kwok \",\" Sublime \",\" Da Brat \",\" Poncho Sanchez \",\" Marty Robbins \",\" Roger   Zapp \",\" Sarah Brightman \",\" Teri DeSario \",\" Karen Clark Sheard \",\" Ensemble   The Lion King \",\" \\u00c9ric Serra \",\" Big Head Todd and The Monsters \",\" Karen Mok \",\" MJG \",\" Juvenile \",\" Jos\\u00e9 Alfredo Jimenez \",\" Pete Rock\",\" Everlast \",\" Sharon Shannon \",\" Jerry Bryant \",\" Si and Am \",\" La Dinastia Tuzantla \",\" Westside Connection \",\" Gloc 9 \",\" Brandy \",\" Trebol Clan \",\" Moodymann \",\" Scott Joplin \",\" Rayzd \",\"  NSYNC \",\" Christine Fan \",\" P$C \",\" Defiance\",\" John Mayer \",\"  Legally Blonde  Ensemble \",\" Common \",\" Calle 13 \",\" Eddie Dee \",\" Soulja Boy \",\" Slim \",\" Trina \",\" Deepak Chopra \",\" Basshunter \",\" Cherish \",\" 88 Keys \",\" The Jacka \",\" Lightning\",\" Guru Josh Project \",\" Vinnie Paz \",\" The Heavy \",\" Zion   Lennox \",\" El Canto Del Loco \",\" AWOLNATION \",\" DJ Shadow \",\" Coco Jones \",\" Miguel Bos\\u00e9 \",\" Andrew Keenan Bolger \",\" \\u00d1ejo \",\" Sultan   Shepard \",\" Robert Glasper Experiment \",\" Dimitri Vegas   Like Mike \",\" Vishal Dadlani \",\" Canserbero \",\" Claptone \",\" GAMPER   DADONI \",\" Breathe Carolina \",\" Travis Porter \",\" Justine Skye \",\" Sons Of Zion \",\" Anthony Crivello \",\" London Grammar \",\" Gorgon City \",\" Madeon \",\" Maribou State \",\" Parks\",\" Hillsong Young   Free \",\" June Marieezy \",\" Jacquees \",\" Jay Park \",\" Mr hotspot \",\" Warriyo \",\" Mustard \",\" Monte Booker \",\" \\u00d3lafur Arnalds \",\" Excision \",\" Mike WiLL Made It \",\" Young Nudy \",\" Majid Jordan \",\" Bronco \",\" Charlie Burg \",\" blackbear \",\" Yung Bans \",\" Oliver Tree \",\" Unclenathannn \",\" Seeb \",\" Harris Cole \",\" CNCO \",\" NCT \",\" Sylvan Esso \",\" Fatboibari \",\" Vic Mensa \",\" Wet \",\" Chelsea Cutler \",\" Shotgun Willy \",\" FKJ \",\" Zach Williams \",\" Ed Sheeran \",\" Kiana Led\\u00e9 \",\" Becky G \",\" Khalid \",\" Michael W  Smith \",\" Danielle Bradbery \",\" Ti\\u00ebsto \",\" Imanbek \",\" Brytiago \",\" Sofi Tukker \",\" Goyard Oz \",\" Ant Saunders \",\" Moguai \",\" rum gold \",\" Lenny Tav\\u00e1rez \",\" Lil Keed \",\" Younha \",\" Trevor Daniel \",\" \\u039c  \\u03a6\\u03b9\\u03bb\\u03b9\\u03c0\\u03c0\\u03af\\u03b4\\u03b7\\u03c2 \",\" Raul Shaw Moreno \",\" \\u0391\\u03b8\\u03b7\\u03bd\\u03b1\\u03ca\\u03ba\\u03ae \\u03b5\\u03c3\\u03c4\\u03bf\\u03c5\\u03b4\\u03b9\\u03b1\\u03bd\\u03c4\\u03af\\u03bd\\u03b1 \",\" Lord Beginner \",\" Ioanna Georgokopoulou \",\" Perdikopoylos \",\" Woody Herman And His Woodchoppers \",\" Ajit Merchant \",\" Carl Philipp Emanuel Bach \",\" George Enescu \",\" South Pacific  The New Broadway Cast  \",\" Tarun Banerjee \",\" \\u039c\\u03c0\\u03ad\\u03bc\\u03c0\\u03b1 \\u03a6\\u03c1\\u03b5\\u03b9\\u03b4\\u03b5\\u03c1\\u03af\\u03ba\\u03b1 \",\" Panos Samis \",\" Munawar Sultana \",\" Lindy Doherty \",\" Anna Russell \",\" Sam and Modesto Garcia \",\" Bartholomeo Campagnoli \",\" Charles Stanley \",\" Lehman Engel \",\" Sacha Guitry \",\" Karel Vlach \",\" Girolamo Frescobaldi \",\" Girolamo Cavazzoni \",\" C  S  Radhadevi \",\" Jean Marc Turine \",\" Alexandre Tansman \",\" Joe Marine \",\" Jean Malaurie \",\" Musicians from Siatista\",\" Ramon Garcia \",\" Tex Stewart \",\" Luis Quintero \",\" Th\\u00e9r\\u00e8se de Saint Phalle \",\" Chandrasekhar \",\" Jim Brown \",\" Marcel Dupr\\u00e9 \",\" Eddie Lawrence \",\" Candide Orchestra \",\" Camarata Chorus and Orchestra \",\" George Bruns \",\" Fred Waring \",\" Brian Davies \",\" Jimmy Yancey \",\" John Coltrane \",\" John Ondrasik \",\" Miriam Makeba \",\" Ann Jilliann \",\" Harry Bluff \",\" The Green River Boys \",\" Art Van Damme Quintet \",\" Bruno Nicolai \",\" Richard Harris \",\" The TMG s \",\" Grigoris Bithikotsis \",\" Jeff Beck \",\" Serge Gainsbourg \",\" CELLADORE \",\" Dee Dee Warwick \",\" Johnny Jenkins \",\" Tammy Wynette \",\" Blue Swede \",\" Claudius Alzner \",\" Chita Rivera \",\" Cherrelle \",\" Tommy Olivencia y Su Orquesta \",\" Tolis Voskopoulos \",\" Charo \",\" Pete Townshend \",\" Dickey Betts \",\" NRBQ \",\" Haruomi Hosono \",\" Philip Glass \",\" McGuinn\",\" Donny Hathaway \",\" The Tallis Scholars \",\" Roy Rogers \",\" Yoel Lerner \",\" Johnny Paycheck \",\" Dexys Midnight Runners \",\" Cheryl Lynn \",\" Calixto Ochoa y Su Conjunto \",\" Peter Tosh \",\" Kiyotaka Sugiyama \",\" Dennis Edwards \",\" Mel McDaniel \",\" Lowell Lo \",\" George Benson \",\" Agnetha F\\u00e4ltskog \",\" Dave Wong \",\" Gregg Edelman \",\" Michael Bolton \",\" Crash Test Dummies \",\" Mary Chapin Carpenter \",\" Faith Prince \",\" Souls Of Mischief \",\" William Grant Still \",\" Shaquille O Neal \",\" Kent Henry \",\" Jam   Spoon \",\" The Four Aces \",\" Ronny Jordan \",\" Thomas Newman \",\" Ozzy Osbourne \",\" Russ Freeman \",\" Raekwon \",\" Luniz \",\" Scarface \",\" TOTO \",\" Alabina \",\" Daniel Santos \",\" Karol Szymanowski \",\" Alka Yagnik \",\" Danny Rivera \",\" Hazel Dickens \",\" Nuyorican Soul \",\" Michael Hopp\\u00e9 \",\" SWV \",\" Livin  Joy \",\" Peter Maxwell Davies \",\" Binary Finary \",\" Elvis Costello \",\" Natasha Richardson \",\" Antonio Aguilar Con Mariachi \",\" Tina Arena \",\" Jump\",\" Joe Sample \",\" The Flaming Lips \",\" Project Pat \",\" Ruff Ryders \",\" System Of A Down \",\" A Touch Of Class \",\" 3LW \",\" Drag On \",\" Eve \",\" Gordon Macrae \",\" Ray J \",\" A B  Quintanilla III \",\" Rob Zombie \",\" Benny Benassi \",\" Grupo Marrano \",\" Luis Mateus \",\" Charizma \",\" Petey Pablo \",\" Twista \",\" Jan A P  Kaczmarek \",\" Sonu Nigam \",\" Franck Keller \",\" Il Divo \",\" Beres Hammond \",\" Paul Wall \",\" A R  Rahman \",\" Chris Botti \",\" La Secta AllStar \",\" Daisy Duck \",\" G  Love   Special Sauce \",\" Minnie Mouse \",\" Michael R  Hicks \",\" clammbon \",\" \\u00d1ejo   Dalmata \",\" Monty Sharma \",\" G Unit \",\" The Bloody Beetroots \",\" Fatboy Slim \",\" Atlas Sound \",\" will i am \",\" Bobby Brackins \",\" Keri Hilson \",\" TAEYANG \",\" Kottonmouth Kings \",\" Blake Aaron \",\" Miami Horror \",\" Edward Maya \",\" Giorgio Moroder \",\" Simple Plan \",\" Marcos Brunet \",\" Stevie Nicks \",\" SBTRKT \",\" The Muppets \",\" Kierra Sheard \",\" Nicole Scherzinger \",\" Ozzie Kotani \",\" Clarence Clemons \",\" Kem \",\" 3 Doors Down \",\" 2 Chainz \",\" fun  \",\" Tom Hangs \",\" Seven Lions \",\" Jason Chen \",\" The Brothers Comatose \",\" Brandon Mychal Smith \",\" Britt Nicole \",\" Snoop Lion \",\" G DRAGON \",\" Treyarch \",\" Duke Dumont \",\" Pegboard Nerds \",\" Juan Luis Guerra 4 40 \",\" Natalie Cole \",\" Sage The Gemini \",\" Hozier \",\" L Imp\\u00e9ratrice \",\" Tamar Braxton \",\" Chris Pine \",\" Big Gigantic \",\" Fetty Wap \",\" PSY \",\" Deorro \",\" Hollyn \",\" Cashmere Cat \",\" Stick Figure \",\" for KING   COUNTRY \",\" League of Legends \",\" Rita Ora \",\" Burak Yeter \",\" Adam Friedman \",\" Party Favor \",\" Jelly Roll \",\" Elephante \",\" Anna Kendrick \",\" Alan Walker \",\" HONNE \",\" MK \",\" Dierks Bentley \",\" Drew Gehling \",\" love sadKID \",\" MariKuroso \",\" Mellow Fellow \",\" Sam Smith \",\" Royce Rizzy \",\" guardin \",\" moow \",\" Connor Spiotto \",\" Don Diablo \",\" Tourist \",\" Kali Uchis \",\" La Arrolladora Banda El Lim\\u00f3n De Rene Camacho \",\" Twin Shadow \",\" Raymix \",\" Jessie Reyez \",\" 6LACK \",\" Mike Williams \",\" Justin Stone \",\" mike  \",\" Seth Ennis \",\" Bad Wolves \",\" A L E X \",\" Said the Sky \",\" Rufi O \",\" Foster The People \",\" Phora \",\" Jack Harlow \",\" Rauw Alejandro \",\" Berner \",\" Kash Doll \",\" Iamjakehill \",\" Loote \",\" Vampire Weekend \",\" SHAED \",\" Flovry \",\" Natti Natasha \",\" Vicente Gomez \",\" Vasilis Tsitsanis \",\" Antonio Vivaldi \",\" Vanmala \",\" Pearl Bailey \",\" Usha Khanna \",\" Freny Shroff \",\" Supriti Ghosh \",\" Tonis Maroudas \",\" Smt  Vishnilal \",\" Attila the Hun \",\" Gewandhausorchester Leipzig \",\" Francesco Durante \",\" Bamberger Sinfoniker \",\" Masonquo player from Gura Valley\",\" David Velasquez \",\" The Delta \",\" T  S  Bhagavathi \",\" Pittapuram \",\" Leonard Stanton Jefferies \",\" Helen Forrest \",\" Liberace \",\" Jikki \",\" Art Farmer Quintet \",\" Andr\\u00e9 Previn \",\" Sydney Chaplin \",\" The Count Basie Sextet \",\" Sonny Rollins Quartet \",\" Leslie Caron \",\" Patricia Neway \",\" Diahann Carroll \",\" Zoot Sims \",\" Goiano \",\" Marilyn Monroe \",\" Henry Carey \",\" Louise B\\u00e9gu\\u00e9 \",\" Columbia Studio Orchestra \",\" Sonia Lopez \",\" Armando Sciascia Orchestra \",\" Gunild Keetman \",\" Charles Lloyd \",\" Los Hispanos \",\" Kaleidoscope \",\" Boris Gardiner \",\" Derek   The Dominos \",\" Erasmo Carlos \",\" The Montclairs \",\" Leo\\u0161 Jan\\u00e1\\u010dek \",\" Roger Glover \",\" Delaney   Bonnie \",\" Big Bird \",\" Jon Anderson \",\" Jerry Reed \",\" Efraim Shamir \",\" Pharoah Sanders \",\" Daniel Balavoine \",\" Toninho Horta \",\" Conjunto Clasico   Tito Nieves \",\" Jimmy Riley \",\" Leo Jaime \",\" Bob Hurd \",\" Roger Miller \",\" Megadeth \",\" Willie Hutch \",\" David Grant \",\" Sandy Lam \",\" Racer X \",\" Eddie Rabbitt \",\" Charlie Parker \",\" Gizelle D Cole \",\" Dick Hyman \",\" Rodney Crowell \",\" Felicia Sanders \",\" Johann Strauss I \",\" The Blow Monkeys \",\" Classics IV \",\" Alessandro Marcello \",\" Mietta \",\" David Bowie \",\" Anton Arensky \",\" Public Enemy \",\" Natural Selection \",\" Ron Kenoly \",\" \\u6e6f\\u5bf6\\u5982 \",\" Burke Moses \",\" 3T \",\" Travis Tritt \",\" Rev  Clay Evans \",\" Mano \",\" UGK \",\" B Legit \",\" Johnny Gill \",\" Barrington Levy \",\" Talk Talk \",\" Christina Aguilera \",\" Z Ro \",\" Jatin Lalit \",\" Kankick \",\" Rasheeda \",\" No Doubt \",\" Johnny Ace \",\" V  Duke \",\" Phyllis Dillon \",\" Youssou N Dour \",\" Matthew Hall \",\" Bohagon \",\" DJ Casper \",\" Cast   The Nightmare Before Christmas \",\" Fergie \",\" Bonobo \",\" Jai Uttal \",\" Dyablo \",\" Groove Armada \",\" Daughtry \",\" Yuridia \",\" Pickin  On Series \",\" Enur \",\" Otis Taylor \",\" Brad Paisley \",\" South Park Mexican \",\" Mandy Gonzalez \",\" Clipse \",\" Na auao\",\" SEGA SOUND TEAM \",\" Quantic \",\" Diddy   Dirty Money \",\" Stromae \",\" Keith Jarrett \",\" Weezer \",\" Hot Chelle Rae \",\" Josef  J7  Lord \",\" LMFAO \",\" Taio Cruz \",\" Goodwill \",\" Liberaci\\u00f3n \",\" Breaking Benjamin \",\" Jenni Rivera \",\" Jamie Berry \",\" Asaf Avidan   the Mojos \",\" MOD SUN \",\" New Years Day \",\" Sevyn Streeter \",\" Edith M\\u00e1rquez \",\" Tech N9ne Collabos \",\" CAZZETTE \",\" Aleks Syntek \",\" Rittz \",\" Manic Focus \",\" King Lil G \",\" Hermitude \",\" Just A Gent \",\" Jerrod Niemann \",\" Boyce Avenue \",\" Jos\\u00e9 Maria Napole\\u00f3n \",\" Sublime With Rome \",\" Kill The Noise \",\" 4B \",\" Audien \",\" Z \",\" Dzeko   Torres \",\" Ship Wrek \",\" Mndsgn \",\" FM 84 \",\" JT Music \",\" AronChupa \",\" Kamiyada  \",\" Hamilton Leithauser \",\" Jacob Tillberg \",\" Michael Bubl\\u00e9 \",\" DJ Snake \",\" Rex Orange County \",\" Maxo Kream \",\" Crowder \",\" Offset \",\" Shiki TMNS \",\" Katy Perry \",\" Electric Guest \",\" Fifth Harmony \",\" Yung Bleu \",\" NoCap \",\" The Gregory Brothers \",\" Sabrina Claudio vs  \",\" Noah Kahan \",\" Quando Rondo \",\" Zach Callison \",\" Ashnikko \",\" YBN Nahmir \",\" Myke Towers \",\" Eladio Carrion \",\" Saweetie \",\" Martin Garrix \",\" Mereba \",\" Bring Me The Horizon \",\" Casey Donahew \",\" 5 Seconds of Summer \",\" Juanes \",\" Ro James \",\" The Killers \",\" Maes \",\" Lucky Daye \",\" \\u0391\\u03bd\\u03c4\\u03ce\\u03bd\\u03b7\\u03c2 \\u039d\\u03c4\\u03b1\\u03bb\\u03b3\\u03ba\\u03ac\\u03c2 \",\" Hlias Litos Klarino \",\" Leela Chitnis \",\" Kakia Mendri \",\" Mo  Tortora \",\" Ferdinand Ries \",\" Silvia De Grasse \",\" Jes\\u00fas De Monasterio \",\" G  N  Balasubramaniam \",\" Ken Watanabe \",\" K C Dey \",\" Louis Spohr \",\" Satya Chowdhury \",\" Premlata Naik \",\" Ma\\u00edri Zan\\u00e9t \",\" Athanasios Eugenikos \",\" Blaise Cendrars \",\" Chicago Symphony Orchestra \",\" Veneise Macelise \",\" \\u0394\\u03b7\\u03bc\\u03ae\\u03c4\\u03c1\\u03b7\\u03c2 \\u03a1\\u03bf\\u03c5\\u03bc\\u03b5\\u03bb\\u03b9\\u03ce\\u03c4\\u03b7\\u03c2 \",\" Moti \",\" Josef Toman \",\" Laurel Shelby \",\" H\\u00fcnkar \",\" Robert Emmett \",\" Joan Roberts \",\" Padu del Caribe\",\" Dionys Mascolo \",\" Arrigo Boito \",\" Andrea Gabrieli \",\" Bela Mukherjee \",\" Bhupen Hazarika \",\" Francisco  Charro  Avitia \",\" Javier Sol\\u00eds \",\" Taylor Holmes \",\" Donald Byrd \",\" Aunt Molly Jackson \",\" Perry Como \",\" Julio Sagreras \",\" Heeresmusikkorps 9 \",\" Hank Locklin \",\" Juilliard String Quartet \",\" Alanalda \",\" Victor Garber \",\" Diana Ross \",\" Ismael Miranda \",\" Katie Hanley \",\" \\u0411\\u043e\\u043b\\u044c\\u0448\\u043e\\u0439 \\u0434\\u0435\\u0442\\u0441\\u043a\\u0438\\u0439 \\u0445\\u043e\\u0440 \\u0426\\u0435\\u043d\\u0442\\u0440\\u0430\\u043b\\u044c\\u043d\\u043e\\u0433\\u043e \\u0442\\u0435\\u043b\\u0435\\u0432\\u0438\\u0434\\u0435\\u043d\\u0438\\u044f \\u0438 \\u0412\\u0441\\u0435\\u0441\\u043e\\u044e\\u0437\\u043d\\u043e\\u0433\\u043e \\u0440\\u0430\\u0434\\u0438\\u043e \",\" Crazy Cavan \",\" Larry Clinton \",\" Agust\\u00edn Barrios Mangor\\u00e9 \",\" Cheech And Chong with Alice Bowie \",\" Fritz Kreisler \",\" Ernie \",\" Tita Merello \",\" Teddy Pendergrass \",\" Georg Philipp Telemann \",\" Janice Kapp Perry \",\" Noel Hill \",\" Run D M C  \",\" Larry Carlton \",\" Chyi Yu \",\" Sally Yeh \",\" Jeff Hamlin \",\" Thomas Tallis \",\" Willy Chirino \",\" Melvin Williams \",\" Vince Gill \",\" Johnny Otis \",\" Zucchero \",\" Steve Reich \",\" Charles Valentin Alkan \",\" Cyril Ritchard \",\" Mort Garson \",\" Trem Da Alegria \",\" Doug Williams \",\" Lennie Niehaus \",\" Ricardo Arjona \",\" Lidell Townsell \",\" Gangsta Pat \",\" George Thorogood   The Destroyers \",\" Mad CJ Mac \",\" The Pharcyde \",\" Eddie Van Halen \",\" Lionel Hampton \",\" Richie Rich \",\" Frank Churchill \",\" Kenny Wayne Shepherd \",\" Steve Wariner \",\" C Murder \",\" George Michael \",\" A Tribe Called Quest \",\" Aim \",\" Blaque \",\" Daphne Rubin Vega \",\" Doc Watson \",\" UB40 \",\" Ren\\u00e9e Zellweger \",\" Zutty Singleton \",\" Jonathan Butler \",\" Fernando Ortega \",\" Chuck Willis \",\" The Last Mr  Bigg \",\" Basement Jaxx \",\" Finley Quaye \",\" H\\u00e9ctor  El Father  \",\" Lita Ford \",\" Todd Rundgren \",\" Talib Kweli \",\" Nino Brown \",\" Danger Doom \",\" DHT \",\" Andrea Bocelli \",\" Federico Mompou \",\" Yung Berg \",\" Grupo Exterminador \",\" Jim Sturgess \",\" Amy Beach \",\" Franco  El Gorilla  \",\" Bobby V  \",\" Leessang \",\" Charlie Wilson \",\" Claudio Moran \",\" Shankar Mahadevan \",\" Alex\",\" Robin Guthrie \",\" Marcelo D2 \",\" The Green \",\" Nova y Jory \",\" Yelawolf \",\" The Airborne Toxic Event \",\" Diggy \",\" Gareth Emery \",\" J Capri \",\" Lil Reese \",\" Kimie  \",\" Jason Isbell \",\" Cage The Elephant \",\" Bobby Shmurda \",\" Mandingo \",\" Jake Miller \",\" Jidenna \",\" Defqwop \",\" NEIKED \",\" Chipmusic Heroes \",\" Sabrina Carpenter \",\" Mag Lo \",\" Kid Quill \",\" Phosphorescent \",\" Yung Bae \",\" Jon Bellion \",\" C  Tangana \",\" BAYNK \",\" Tim Legend \",\" Ivan B \",\" A R I Z O N A \",\" Kendall Miles \",\" Ms Nina \",\" cucu \",\" Tay K \",\" Tinlicker \",\" Thundercat \",\" Hosier \",\" AzChike \",\" Charli XCX \",\" Ben Platt \",\" Boombox Cartel \",\" NoMBe \",\" Keith Urban \",\" Shawn Mendes \",\" Jillian Jacqueline \",\" Buddy \",\" Molina \",\" iann dior \",\" Ann Marie \",\" Mau y Ricky \",\" Snoh Aalegra \",\" Sophia Anne Caruso \",\" Romeo Santos \",\" Residente \",\" DVBBS \",\" Reykon \",\" Alec Benjamin \",\" Quin Nfn \",\" Sn\\u00f8w \",\" SHY Martin \",\" G Herbo \",\" Sheff G \",\" Don Toliver \",\" Oliver Heldens \",\" Sech \",\" John McCormack \",\" Ermanno Wolf Ferrari \",\" Ildebrando Pizzetti \",\" Bessie Smith \",\" Bertha  Chippie  Hill \",\" Hociel Thomas \",\" Paul Whiteman   His Orchestra \",\" Jean Goldkette and his Orchestra \",\" Bix Beiderbecke \",\" Hoagy Carmichael   His Orchestra \",\" Bix Beiderbecke And His Orchestra \",\" Paul Whiteman   His Concert Orchestra \",\" The Chenille Sisters \",\" Jelly Roll Morton \",\" Louis Armstrong   His Hot Seven \",\" Fats Waller\",\" Jimmie Rodgers \",\" Frankie Trumbauer   His Orchestra \",\" Benny Meroff   His Orchestra \",\" Bill  Bojangles  Robinson \",\" Baron Lee \",\" Orchestre Piero Coppola \",\" Benny Goodman \",\" Benny Goodman Sextet \",\" John Raitt \",\" Roaring Lion \",\" George Symonette \",\" Jack Teagarden \",\" Francisco Alves \",\" Jack Payne \",\" Henry Hall \",\" Frankie Carle \",\" Isham Jones   His Orchestra \",\" Teddy Wilson \",\" Richard Himber and his Orchestra \",\" Ernst H  Gombrich \",\" Glenn Miller \",\" Jack Haley \",\" Ken Darby \",\" Dick Haymes \",\" Billie Burke \",\" The Debutantes \",\" Lead Belly \",\" Adolph Green \",\" Rise Stevens \",\" Johannes Heesters \",\" Sumati Trilokekar \",\" Alfred Drake \",\" Celeste Holm \",\" Joseph Buloff \",\" Leela Pawar \",\" Mickey Rooney \",\" Buddy Clark \",\" Dinah Shore \",\" Arthur Freed \",\" The MGM Studio Orchestra   The MGM Studio Chorus \",\" Unknown \",\" Ethel Merman \",\" Robert Lenn \",\" Ray Middleton \",\" Neilson Taylor \",\" Dr  Samuel J  Hoffman \",\" Andrea McArdle \",\" William Warfield \",\" Richard Beavers \",\" Ouija Macc \",\" Zsa Zsa Padilla \",\" Fats Navarro \",\" Kathryn Grayson \",\" Stan Kenton   His Orchestra \",\" Sonny Rollins \",\" Richard Kiley \",\" Robert Preston \",\" Bill Lee \",\" Charmian Carr \",\" Thin Lizzy \",\" Carly Simon \",\" John Travolta \",\" David Frizzell \",\" Tears For Fears \",\" Heart \",\" Dan Seals \",\" Bill Medley \",\" Cher \",\" Roxette \",\" Marky Mark And The Funky Bunch \",\" Lea Salonga \",\" Los Yonic s \",\" Carmen Twillie \",\" Big Mountain \",\" Pretenders \",\" Ini Kamoze \",\" Soul For Real \",\" Tony  Toni  Ton\\u00e9  \",\" Pancho Barraza \",\" Ms  Lauryn Hill \",\" Case \",\" The Soggy Bottom Boys \",\" Sammie \",\" Jagged Edge \",\" Mark Keali i Ho omalu \",\" Grits \",\" Gary Jules \",\" Seether \",\" Nina Sky \",\" Crime Mob \",\" Tamia \",\" Nelly Furtado \",\" Jordin Sparks \",\" The Cinematic Orchestra \",\" Michael Franti   Spearhead \",\" Bon Iver \",\" Cobra Starship \",\" Jenifer Lewis \",\" Sounds Of Nature   Thunderstorm\",\" Travie McCoy \",\" Mandy Moore \",\" My Darkest Days \",\" Gotye \",\" Gym Class Heroes \",\" The Script \",\" Frank Ocean \",\" Kristen Bell \",\" We The Kings \",\" Roy Woods \",\" Wes Walker \",\" gnash \",\" DRAM \",\" Peachy  \",\" H E R  \",\" Social House \",\" Kina \",\" Juice WRLD \",\" Metro Boomin \",\" Morgan Wallen \",\" SAINt JHN \",\" BENEE \",\" Surf Mesa \",\" JP Saxe \",\" Polo G \",\" Wallows \",\" Topic \",\" Y2K \",\" Lil Mosey \",\" Luke Combs \",\" benny blanco \",\" Lil Nas X \",\" Lil Tecca \",\" ROSAL\\u00cdA \",\" Carly Pearce \",\" Jules Massenet \",\" Qatar Concert Choir \",\" Eug\\u00e9nie Buffet \",\" Jones Smith\",\" Jelly Roll Morton   His Red Hot Peppers \",\" Why Not \",\" Paul Bridgwater \",\" Fay De Witt \",\" Joaqu\\u00edn Turina \",\" Andr\\u00e9 Filho \",\" Conjunto Gilberto Rojas \",\" Pills \",\" Bunny Berigan \",\" Daniel Roberts \",\" \\u0392\\u03b1\\u03c3\\u03af\\u03bb\\u03b7\\u03c2 \\u039c\\u03b5\\u03c3\\u03bf\\u03bb\\u03bf\\u03b3\\u03b3\\u03af\\u03c4\\u03b7\\u03c2 \",\" Ruth Gaylor \",\" Mark Gamble \",\" Jimmy Rushing \",\" Padmadevi \",\" Jose Prats Sirera \",\" Dwijen Mukherjee \",\" Ishwarlal \",\" Jean Moscopol \",\" R  A  Dvorsk\\u00fd \",\" Sierra Nelson \",\" Buddy Ebsen \",\" Harold Arlen \",\" Johnny Hodges   His Orchestra \",\" Francois Campion \",\" Snehprabha Pradhan \",\" Ibrahim \\u00d6zg\\u00fcr \",\" Miss Kamala \",\" Vasanti \",\" Satish \",\" Munir Alam \",\" Ramola \",\" Arun Kumar \",\" Sitara \",\" Veena \",\" Mehtab \",\" Kaushalya \",\" M V  Rajamma \",\" Motilal \",\" Arnold Bax \",\" Carolina Cardoso de Menezes \",\" Malti \",\" Manorama \",\" Pahari Sanyal \",\" Vijay \",\" Rewa Shankar \",\" T Giacobetti \",\" Vicente Celestino \",\" Earl Grant \",\" S  D  Burman \",\" Finian s Rainbow Orchestra \",\" Lon Hoyt \",\" Donald Richards \",\" David Brooks \",\" Prakash \",\" Cesare Andrea Bixio \",\" Mitch Miller \",\" Stan Kenton \",\" Dock Reed \",\" Chubby Jackson Big Band \",\" The Carter Sisters \",\" Mother Maybelle \",\" Ann Miller \",\" James Whitmore \",\" Frantz Casseus \",\" Ben Wright \",\" Roy Eldridge \",\" Adolph Deutsch \",\" The Song Swappers \",\" Pete Seeger \",\" Iggie Wolfington \",\" The Buffalo Bills \",\" Eddie Hodges \",\" Etta James \",\" Jim   Jesse \",\" Julie Andrews \",\" Thurl Ravenscroft \",\" Hamilton\",\" Steve Harley \",\" Max Romeo \",\" Samantha Sang \",\" Kenny Loggins \",\" Neil Diamond \",\" Fozzie \",\" Patti Austin \",\" James Taylor \",\" James Ingram \",\" Scandal \",\" Peter Cetera \",\" The Communards \",\" Ready For The World \",\" Rick Astley \",\" Rush \",\" Mily Balakirev \",\" Suzanne Vega \",\" MC Breed \",\" Shai \",\" Chaka Demus   Pliers \",\" White Zombie \",\" Tevin Campbell \",\" Lil  Kim \",\" Lil Keke \",\" Glenn Close \",\" Joe Cocker \",\" Slick Rick \",\" Limp Bizkit \",\" Gillian Welch \",\" Los Originales De San Juan \",\" Erykah Badu \",\" Lupillo Rivera \",\" Tweet \",\" DJ Sammy \",\" David Banner \",\" Frankie Lymon \",\" Rehab \",\" Big Boy \",\" Young Dro \",\" Keyshia Cole \",\" Monchy   Alexandra \",\" Sharpay Evans \",\" CHAD \",\" Kardinal Offishall \",\" Tony Dize \",\" Dominic Cooper \",\" Savage \",\" Carlos Baute \",\" Maino \",\" Miley Cyrus \",\" Boys Like Girls \",\" Yeah Yeah Yeahs \",\" 3OH 3 \",\" Bad Meets Evil \",\" Eiffel 65 \",\" Jessie J \",\" Panic  At The Disco \",\" Icona Pop \",\" Set It Off \",\" August Alsina \",\" What So Not \",\" Cast   Sofia the First \",\" Mr  Probz \",\" Tove Lo \",\" Tinashe \",\" Timmy Trumpet \",\" Chase Rice \",\" Ren\\u00e9e Elise Goldsberry \",\" Jonathan Groff \",\" Kamaiyah \",\" Whethan \",\" Eric Bellinger \",\" Swell \",\" Taylor Ray Holbrook \",\" Kungs \",\" A$AP Mob \",\" Starley \",\" Opetaia Foa i \",\" Tyler Childers \",\" AJR \",\" BlocBoy JB \",\" Bazzi \",\" Joji \",\" Parmalee \",\" Maren Morris \",\" Bankrol Hayden \",\" Mitchell Tenpenny \",\" Lauv \",\" Jhay Cortez \",\" Tyla Yaweh \",\" Hans Pfitzner \",\" Ruby Smith \",\" Dj Phuta \",\" Amy Woodforde Finden \",\" Dj Shungi \",\" Las Kantutas \",\" Rita Abatzi \",\" Los Indios \",\" Westcoast Miners \",\" The Boswell Sisters \",\" Mad Dog \",\" Evaristo Fl\\u00f3rez \",\" Maya Banerjee \",\" F  Ferrandiere \",\" Paraguassu \",\" White Star \",\" The Four Lads \",\" Kantilal \",\" Apostolos Xatzixristos \",\" P\\u00e1nfilo de Narv\\u00e1ez \",\" \\u0393\\u03b9\\u03b1\\u03bd\\u03bd\\u03ac\\u03ba\\u03b7\\u03c2 \\u0399\\u03c9\\u03b1\\u03bd\\u03bd\\u03af\\u03b4\\u03b7\\u03c2 \",\" Mumtaz \",\" V  Ramakrishna \",\" Sadhana Sargam \",\" Brijmala \",\" Gyan Dutt \",\" Bijaya Das \",\" Leela Sawant \",\" Bhola \",\" John Dowland \",\" Zohrabai Ambalewali \",\" Yaksh \",\" Suman Kalyanpur \",\" Binapani Mukherjee \",\" Joseph Kosma \",\" Shabnam \",\" Sushil Sahu \",\" Y K Muddukrishna \",\" DJ Fil \",\" Lasse Bohlin \",\" Georges Van Parys \",\" \\u0394\\u03b7\\u03bc\\u03ae\\u03c4\\u03c1\\u03b7\\u03c2 \\u039c\\u03c0\\u03b5\\u03bd\\u03ad\\u03c4\\u03bf\\u03c2 \",\" Shyamal Mitra \",\" Pankaj Mullick \",\" P\\u00e9rez Prado \",\" Beny Mor\\u00e9 \",\" Stuart Hamblen \",\" Lani Misalucha \",\" Oscar Levant \",\" Carl Smith \",\" Howard Keel \",\" Hal Hackett \",\" Lilo \",\" Kismet Ensemble \",\" Gwen Verdon \",\" Stanley Holloway \",\" My Fair Lady Orchestra \",\" Mary Costa \",\" New York Philharmonic \",\" William Walton \",\" K  S  Chithra \",\" Harish Raghavendra \",\" Dick Van Dyke \",\" Dan Truhitte \",\" Jo\\u00e3o Gilberto \",\" Steve Lawrence \",\" G\\u00e1bor Szab\\u00f3 \",\" Tommy Boyce \",\" Dexter Gordon \",\" Donovan \",\" Alice Coltrane \",\" Eric Weissberg \",\" MFSB \",\" Susan Sarandon \",\" Lynyrd Skynyrd \",\" Little Feat \",\" Marilyn McCoo \",\" Slave \",\" Mi\\u00facha \",\" Camilo Sesto \",\" Vaughan Mason \",\" Pimpinela \",\" The Latin Brothers \",\" Pet Shop Boys \",\" World Party \",\" Toquinho \",\" Branford Marsalis Quartet \",\" Mykola Dmytrovych Leontovych \",\" Patty Smyth \",\" Fugees \",\" Soul II Soul \",\" Jesse Powell \",\" Dru Hill \",\" Garth Brooks \",\" Ofra Haza \",\" Ralph Fiennes \",\" M\\u00fda \",\" Avant \",\" Jo Dee Messina \",\" Barbara Mandrell \",\" Clint Black \",\" Blu Cantrell \",\" T\\u00e9l\\u00e9popmusik \",\" KeKe Wyatt \",\" Citizen Cope \",\" Frankie J \",\" Chad Kroeger \",\" NB Ridaz \",\" Franco De Vita \",\" Jes\\u00fas Adri\\u00e1n Romero \",\" Shooter Jennings \",\" Bon Jovi \",\" Baby Boy Da Prince \",\" Paula DeAnda \",\" Field Mob \",\" Troy \",\" Zac Efron \",\" Glen Hansard \",\" Rich Boy \",\" Blue Foundation \",\" Jesse McCartney \",\" Natasha Bedingfield \",\" Colby O Donis \",\" Christopher Wilde \",\" Lloyd Banks \",\" Breakbot \",\" Lykke Li \",\" Lil Wyte \",\" Big Data \",\" Maia Wilson \",\" ILOVEMAKONNEN \",\" Naughty Boy \",\" Phillipa Soo \",\" Chris Young \",\" Leslie Odom Jr  \",\" NEEDTOBREATHE \",\" Action Bronson \",\" Belly \",\" Toni Romiti \",\" FRENSHIP \",\" Cole Swindell \",\" Macklemore \",\" Jeremy Zucker \",\" Famous Dex \",\" Charlie Heat \",\" Hugh Jackman \",\" Chris Lane \",\" Clairo \",\" Madison Beer \",\" Pedro Cap\\u00f3 \",\" Jordan Davis \",\" Flipp Dinero \",\" AJ Mitchell \",\" Otto Reutter \",\" Georgi Mittaki \",\" Luis Zamudio \",\" Silvana Foresi \",\" \\u0399 \\u039a\\u03c9\\u03bd\\u03c3\\u03c4\\u03b1\\u03bd\\u03c4\\u03b9\\u03bd\\u03af\\u03b4\\u03b7\\u03c2 \",\" Jean Sablon \",\" Rena Stamou \",\" \\u03a3\\u03c4\\u03ad\\u03bb\\u03b9\\u03bf\\u03c2 \\u039a\\u03b5\\u03c1\\u03bf\\u03bc\\u03cd\\u03c4\\u03b7\\u03c2 \",\" Rena Dallia \",\" Antonio Morel \",\" Lee Wiley \",\" Mumtaz Ali \",\" Tex Beneke \",\" Erskine Hawkins   His Orchestra \",\" Gaspar Sanz \",\" Meenakshi \",\" Surendranath \",\" Roy Webb \",\" Khursheed \",\" Jyoti \",\" Iqbal Bibi \",\" Lakshmi Bai \",\" Devika Rani \",\" Juan Parga \",\" Domenico Cimarosa \",\" Veena Kumari \",\" Ernani Braga \",\" Zeenat Begum \",\" Miguel Llobet Sol\\u00e9s \",\" Public Domain \",\" Avinash Vyas \",\" Virgil Thomson \",\" Shankar \",\" Jan Ladislav Dussek \",\" Binota Roy \",\" Jacques Offenbach \",\" Usha Ganesh \",\" Shamshed Begum \",\" Paro \",\" Antonio Caldara \",\" Georges Gu\\u00e9tary \",\" Marge Champion \",\" Kay Starr \",\" Charlie Chaplin \",\" June Carter Cash \",\" Gerry Mulligan Quartet \",\" Blackbirds of 1928 Ensemble  1953  \",\" Henry Calvin \",\" Rae Allen \",\" Shannon Bolin \",\" Raul Garces \",\" Lefty Frizzell \",\" Hoagy Carmichael \",\" Lula Queiroga \",\" Pinchas Zukerman \",\" Charles Zimmerman \",\" Abhishek Bachchan \",\" Bobby Rydell \",\" Count Lasher \",\" Tom Scott \",\" Chuck Berry \",\" Michael Nesmith \",\" David Cassidy \",\" Kiki Dee \",\" M \",\" Andy Gibb \",\" Ebo Taylor \",\" Meat Loaf \",\" Yo Yo Ma \",\" Blancmange \",\" Stevie Ray Vaughan \",\" a ha \",\" Chorus   Beauty And the Beast \",\" Gerald Levert \",\" Anthrax \",\" Jesse Corti \",\" Karla Bonoff \",\" Randy Newman \",\" Aaron Lohr \",\" Heidi Mollenhauer \",\" Sidney Bechet \",\" Kashif \",\" Michelle Pfeiffer \",\" Faith Hill \",\" Unlike Pluto \",\" Harold Faltermeyer \",\" The Offspring \",\" Mary Mary \",\" George Strait \",\" PJ Harvey \",\" Spongebob Squarepants \",\" Erick Sermon \",\" Billy Crystal \",\" Jimmy Eat World \",\" Ewan McGregor \",\" Pastor Troy \",\" Lil  Mo \",\" Obie Trice \",\" Murphy Lee \",\" Fantasia \",\" D12 \",\" Memphis Bleek \",\" ALO \",\" Ryan \",\" Chadwick Stokes \",\" Playa Circle \",\" Julie Walters \",\" Christine Baranski \",\" High School Musical Cast \",\" Pierce Brosnan \",\" New Boyz \",\" Ester Dean \",\" Trillville \",\" SOJA \",\" Rascal Flatts \",\" Garrett Hedlund \",\" Elizabeth Mitchell \",\" J Boog \",\" Tyler James Williams \",\" Mayday Parade \",\" Five Finger Death Punch \",\" Flame \",\" Tristam \",\" Labrinth \",\" Lilly Wood and The Prick \",\" Natalie La Rose \",\" Seekae \",\" WILLOW \",\" R  City \",\" The Internet \",\" Troy Ave \",\" Rachel House \",\" NGHTMRE \",\" Christian French \",\" Sam Tinnesz \",\" YFN Lucci \",\" prxz \",\" Teqkoi \",\" Adriel Favela \",\" Quavo \",\" BLIND SEE \",\" JACKBOYS \",\" Feid \",\" 03 Greedo \",\" Mahalia \",\" IU \",\" Stunna 4 Vegas \",\" Curtis Waters \",\" Young Lil Sunscreen \",\" Jack Dabdoub \",\" Show Boat Orchestra  1962  \",\" Rutland Boughton \",\" Enrique Enrique Granados \",\" Lira Incaica \",\" Gerald Clark and The Calypso Orchestra \",\" Paradosiako \",\" Giorgos Nakos \",\" Arturo Sobenes \",\" Red Norvo   His Orchestra \",\" Charpini \",\" Gilles \",\" \\u039c\\u03b1\\u03c1\\u03af\\u03b1 \\u0391\\u03bd\\u03b4\\u03c1\\u03bf\\u03bd\\u03af\\u03ba\\u03bf\\u03c5 \",\" Manole Stroici \",\" Husn Banu \",\" Howard Shelly \",\" Lallubhai Naik \",\" Umashashi \",\" Vladimir Bobri \",\" Tripuramba \",\" Rathindra Ghosh \",\" Jack Teagarden   His Band \",\" William Kroll \",\" Joseph Koziel \",\" Rahmat Bano \",\" Shobhana Samarth \",\" \\u0391\\u03bd\\u03b4\\u03c1\\u03b9\\u03ba\\u03ae \\u03a7\\u03bf\\u03c1\\u03c9\\u03b4\\u03af\\u03b1 \\u03c4\\u03bf\\u03c5 \\u0398\\u03b9\\u03ac\\u03c3\\u03bf\\u03c5 \\u03a0\\u03b1\\u03bd\\u03c4\\u03bf\\u03c0\\u03bf\\u03cd\\u03bb\\u03bf\\u03c5 \",\" Kantina 27 \",\" Kusum Joshi \",\" Jack McCauley \",\" Naina \",\" M  N  Ghosh \",\" Krishnaveni \",\" Pierre Perrin \",\" Malati Pande \",\" Jean Marion \",\" Jack Carson \",\" Morton Gould \",\" Amir Khan \",\" Moises Vivanco \",\" Billy Butterfield \",\" Robert Shafer \",\" Lad Richards Orchestra \",\" Geraldo Pereira \",\" Silvio Caldas \",\" Unnikrishnan \",\" Lee  Scratch  Perry \",\" Creedence Clearwater Revival \",\" Bobby Cruz \",\" Cindy Bullens \",\" The Spinners \",\" Orchestra Baobab \",\" Stacy Lattisaw \",\" Keith Whitley \",\" Stanley Myers \",\" Prefab Sprout \",\" The Style Council \",\" New Order \",\" Dead Or Alive \",\" Cindy Benson \",\" Jennifer Warnes \",\" Frankie Knuckles \",\" The Crusaders \",\" Earl Thomas Conley \",\" The Replacements \",\" Al Bowlly \",\" The Commitments \",\" Cheo Feliciano \",\" Smokey Robinson \",\" John Mellencamp \",\" Massive Attack \",\" Vico C \",\" Everything But The Girl \",\" Selena \",\" David Ogden Stiers \",\" Jon B  \",\" Garbage \",\" H Town \",\" Roz Ryan \",\" Five \",\" Amick Byram \",\" The Corrs \",\" Arvo P\\u00e4rt \",\" Suzi Quatro \",\" Daniel Bedingfield \",\" Phil Oakey \",\" Kent Blazy \",\" Julieta Venegas \",\" Ramon Ayala \",\" Miranda Cosgrove \",\" Meryl Streep \",\"  In The Heights  Original Broadway Company \",\" The Chordettes \",\" Jim Cummings \",\" Sean Kingston \",\" Anna Margaret \",\" Verse Simmonds \",\" David Nail \",\" Hunter Hayes \",\" Tonight Alive \",\" Tito Y Su Torbellino \",\" Richard Armitage \",\" Train \",\" Dillon Francis \",\" TOKiMONSTA \",\" Mila J \",\" Ocean Sounds \",\" O T  Genasis \",\" Tyler Farr \",\" Mike Perry \",\" Hailee Steinfeld \",\" Fat Nick \",\" mansionz \",\" Sabrina Claudio \",\" Anthony Gonzalez \",\" Pouya \",\" Blackway \",\" City Girls \",\" David Lee Murphy \",\" Still Woozy \",\" Dynoro \",\" Dominic Fike \",\" MEDUZA \",\" Martin Jensen \",\" Piso 21 \",\" MASN \",\" Dr  Sus \",\" Surfaces \",\" Dua Lipa \",\" Saadettin Kaynak \",\" \\u0396\\u03b1\\u03c7\\u03b1\\u03c1\\u03af\\u03b1\\u03c2 \\u039a\\u03b1\\u03c3\\u03b9\\u03bc\\u03ac\\u03c4\\u03b7\\u03c2 \",\" Johann Jakob Froberger \",\" Los Yumbos \",\" \\u039a\\u03ce\\u03c3\\u03c4\\u03b1\\u03c2 \\u03a0\\u03bf\\u03bb\\u03af\\u03c4\\u03b7\\u03c2 \",\" \\u0394\\u03b7\\u03bc\\u03ae\\u03c4\\u03c1\\u03b7\\u03c2 \\u03a0\\u03b5\\u03c1\\u03b4\\u03b9\\u03ba\\u03cc\\u03c0\\u03bf\\u03c5\\u03bb\\u03bf\\u03c2 \",\" Oliver Hardy \",\" Felix Knight \",\" Stan Laurel \",\" Frank Fox Tanzorchester \",\" Eugen Mirea \",\" Abbasuddin Ahmed \",\" Shanta Apte \",\" Mauro Giuliani \",\" Madeleine Carroll \",\" Alice Faye \",\" Dick Powell \",\" Mikl\\u00f3s R\\u00f3zsa \",\" Madhuri Mukherjee \",\" Max Steiner \",\" \\u03a3\\u03c4\\u03ad\\u03bb\\u03bb\\u03b1 \\u03a7\\u03b1\\u03c3\\u03ba\\u03ae\\u03bb \",\" John Reardon \",\" Dionisio Aguado \",\" Tanguturi Suryakumari \",\" C S R Anjaneyulu \",\" Rooprekha Chatterjee \",\" \\u039d\\u03af\\u03ba\\u03bf\\u03c2 \\u03a7\\u03b1\\u03bc\\u03c0\\u03ac\\u03c2 \\u03bc\\u03b5 \\u03c4\\u03b7 \\u03bc\\u03b1\\u03bd\\u03c4\\u03bf\\u03bb\\u03b9\\u03bd\\u03ac\\u03c4\\u03b1 \\u0399\\u03b5\\u03c1\\u03cc\\u03b8\\u03b5\\u03bf\\u03c5 \\u03a3\\u03c7\\u03af\\u03b6\\u03b1 \",\" Norman Span \",\" Valery Zhelobinsky \",\" Mumtaz Shanti \",\" M  K  Thyagaraja Bhagavathar \",\" Aarti Mukherji \",\" Jamuna \",\" Dennis Morgan \",\" Spike Jones Orchestra \",\" Spike Jones \",\" Eddie Cantor \",\" Adriana Chamorro \",\" Douglas Gamley \",\" Sridhar Parsekar \",\" Kusum Mantri \",\" E Y  Harburg \",\" Chunilal Pardesi \",\" Ramu \",\" Purnima Chatterjee \",\" \\u0393\\u03b9\\u03ac\\u03bd\\u03bd\\u03b7\\u03c2 \\u039c\\u03c0\\u03bf\\u03c5\\u03bb\\u03cc\\u03c4\\u03b1\\u03c2 \",\" Nargis \",\" Glynis Johns \",\" Mangala Narwekar \",\" Koula Nikolaidou \",\" Stella Haskil \",\" Wynton Kelly \",\" Vera Hall \",\" Ernest Chausson \",\" Stephen Douglass \",\" Cult priest with bell\",\" A  Merangulian \",\" Engelbert Humperdinck \",\" Matthias Kadar \",\" Premlata \",\" Lou Donaldson \",\" Art Blakey Quintet \",\" Johnny Mercer   The Pied Pipers \",\" Polly Bergen \",\" Maurice Evans \",\" Jean Shepard \",\" Amalia Mendoza \",\" Julie London \",\" Orquesta Harlow \",\" Keith Mansfield \",\" Julie Dawn Cole \",\" Jack Albertson \",\" Piero Piccioni \",\" Ana Bel\\u00e9n \",\" Gary Myrick   The Figures \",\" Blondie \",\" Dottie West \",\" The Paul Butterfield Blues Band \",\" Kalyanji Anandji \",\" Klymaxx \",\" The Jacksons \",\" Gloria Estefan And Miami Sound Machine \",\" Clannad \",\" Gary Moore \",\" Levi Stubbs \",\" Public Image Ltd  \",\" Terrence Mann \",\" Amy Irving \",\" Gipsy Kings \",\" Lou Reed \",\" Randy Travis \",\" Refugee Camp All Stars \",\" Chant\\u00e9 Moore \",\" Roy Orbison \",\" Luis Bonfa \",\" Take That \",\" Maurice Williams \",\" Blessid Union Of Souls \",\" Linda Hunt \",\" Az Yet \",\" UNKLE \",\" 98\\u00ba \",\" Bee Gees \",\" Hot Boys \",\" Paul Dukas \",\" City High \",\" La Ley \",\" Celso Pi\\u00f1a \",\" Busdriver \",\" Baby \",\" King Geedorah \",\" Joe \",\" Adina Howard \",\" De La Soul \",\" The Strokes \",\" Justice \",\" Tito  El Bambino  \",\" Easy Star All Stars \",\" Alex Gaudino \",\" Blu \",\" James Morrison \",\" Amanda Seyfried \",\" Diplomats of Solid Sound \",\" Gorilla Zoe \",\" Hannah Montana \",\" Zion I \",\" Dave Rawlings Machine \",\" Ben Cocks \",\" Tim Berg \",\" Crystal Castles \",\" Iyaz \",\" Thurston Harris \",\" Plan B \",\" Problem \",\" Smoke DZA \",\" Flying Lotus \",\" Adrian Marcel \",\" Azealia Banks \",\" Ryan Stevenson \",\" Luke Bryan \",\" Colter Wall \",\" Griffinilla \",\" Call Me Karizma \",\" PLVTINUM \",\" Dennis Kruissen \",\" Stwo \",\" itssvd \",\" Mounika  \",\" Alex Rose \",\" Skip Marley \",\" TOKYO\\u2019S REVENGE \",\" S1mba \",\" Kelsea Ballerini \",\" FLETCHER \",\" Dranem \",\" Buddy Moss \",\" Psycoprata \",\" Don Redman and His Orchestra \",\" Los Cambas \",\" Lionel Belasco And His Orchestra \",\" \\u039a\\u03ce\\u03c3\\u03c4\\u03b1\\u03c2 \\u039a\\u03b1\\u03c0\\u03bb\\u03ac\\u03bd\\u03b7\\u03c2 \",\" \\u0394 \\u039b\\u03af\\u03bd\\u03c4\\u03b1 \",\" Miss Angurbala \",\" Vishnupant Pagnis \",\" Henryk Wieniawski \",\" Gobinda Gopal Mukherjee \",\" Shankar Rao Vyas \",\" Ashok Kumar \",\" Albert Hammond \",\" Georg Hann \",\" \\u039c\\u03ac\\u03ba\\u03b7\\u03c2 \\u039a\\u03b1\\u03c1\\u03bd\\u03ad\\u03c1\\u03b7\\u03c2 \",\" Ernest Moret \",\" Shanta Hublikar \",\" Errol Flynn \",\" Bette Davis \",\" John Garfield \",\" Bharat Vyas \",\" Gulshan Sufi \",\" Luis de Milan \",\" Rani \",\" Masood Parvez \",\" Saleem Raza \",\" Male singers\",\" \\u03a3\\u03c4\\u03b1\\u03cd\\u03c1\\u03bf\\u03c2 \\u03a0\\u03bb\\u03ad\\u03c3\\u03c3\\u03b1\\u03c2 \",\" Marilyn Ross \",\" Hazel Flagg Orchestra \",\" Alexander Rybak \",\" Geraldo Azevedo \",\" Candido das Neves  Indio  \",\" Don Gardner \",\" Kai Winding \",\" Bill Shirley \",\" Burl Ives \",\" Carmela Y Rafael \",\" Bobbie Gentry \",\" Harold Melvin \",\" Steven Halpern \",\" Kermit \",\" \\u7b20\\u4e95 \\u7d00\\u7f8e\\u5b50 \",\" Berlin \",\" Silvio Rodr\\u00edguez \",\" Elaine Paige \",\" Trevor Jones \",\" Colm Wilkinson \",\" Ian Dury \",\" Teddy Riley \",\" Marty Stuart \",\" The Mavericks \",\" Bill Farmer \",\" Nana Mouskouri \",\" MC Lyte \",\" Antonio Aguilar \",\" Richard M  Sherman \",\" Steve Martin \",\" Harry Gregson Williams \",\" Mulgrew Miller \",\" Raphael Saadiq \",\" Slum Village \",\" Shankar Ehsaan Loy \",\" Celldweller \",\" Young Gunz \",\" Sleepy Brown \",\" Los Dinamiteros de Colombia \",\" The Noise \",\" Abel Zavala \",\" English Chamber Orchestra \",\" Vicente Fern\\u00e1ndez \",\" Aaron Lewis \",\" Kalimba \",\" Amy Adams \",\" Billy Ray Cyrus \",\" Koop \",\" MGMT \",\" Bombay Bicycle Club \",\" Ben Folds \",\" Candace \",\" Blackmill \",\" Korn \",\" Tamela Mann \",\" Maejor \",\" Fear\",\" Ed Helms \",\" Lifehouse \",\" Shane Smith   the Saints \",\" Ross Lynch \",\" Tegan and Sara \",\" Route 94 \",\" ZHU \",\" Ryan McCartan \",\" Vedo \",\" Shovels   Rope \",\" TheFatRat \",\" Ark Patrol \",\" TSUKI \",\" CHANYEOL \",\" EARTHGANG \",\" quickly\",\" Herencia de Patrones \",\" JID \",\" Sugarland \",\" Casting Crowns \",\" BROCKHAMPTON \",\" D Smoke \",\" All Time Low \",\" George Munro \",\" Tampa Red \",\" Blanche Calloway   Her Joy Boys \",\" Orquesta Tipica Boliviana \",\" Doll Dauber \",\" Jules Rubin \",\" Wahidan Bai \",\" Joan Ellison \",\" A  Likiardopoulou \",\" \\u041e\\u0422\\u0412\\u0410\\u041b \\u0411\\u0410WKN \",\" H Khan Mastana \",\" Ramdulari \",\" Jimmy Dorsey   His Orchestra \",\" Betty Grable \",\" Bando Da Luna \",\" Carole Landis \",\" M Cozzoli \",\" Michelangelo Rossi \",\" De Leone \",\" Nicholas \",\" H  Faruqi \",\" Dilshad Begum \",\" \\u00c9tienne Lorin \",\" Sailesh \",\" P  A  Periyanayaki \",\" Dost Mohommed \",\" Chandrakala \",\" Jose Padilla \",\" Vassilis Saleas \",\" Takis Binis \",\" Sakal \",\" Paco Aguilera \",\" Sulochana \",\" Shambukaw player from Gura Valley\",\" Hugo Wolf \",\" Tony Russo \",\" Sy Melano \",\" Nilo S\\u00e9rgio \",\" Avon Long \",\" Harrington Joseph Stafford\",\" Billy Butterfield And His Orchestra \",\" Thelonious Monk Septet \",\" Timmy \",\" The Gary McFarland Orchestra \",\" Lupe Mendoza \",\" The Upsetters \",\" Maddy Prior \",\" James Last \",\" Nazia Hassan \",\" The Oak Ridge Boys \",\" Al Johnson \",\" The Tubes \",\" Fun Boy Three \",\" Ray Lynch \",\" Mojo Nixon \",\" Shakatak \",\" Jos\\u00e9 Luis Perales \",\" Eric Tingstad \",\" Philip Glasser \",\" Michael Jones \",\" Sam Hui \",\" Levert \",\" Queen Latifah \",\" Black Box \",\" Rachelle Ferrell \",\" Jerry Butler \",\" Jossie Esteban \",\" Teenage Fanclub \",\" Reel 2 Real \",\" Patra \",\" Baduria\",\" Anita Baker \",\" Ray\",\" Charlton Heston \",\" Gina G \",\" Lil Sko \",\" Devin The Dude \",\" Lo Fidelity Allstars \",\" Candy Lo \",\" Sparkle \",\" Lootpack \",\" Clay Walker \",\" Reflection Eternal \",\" Xavier \",\" Pepe Tovar Y Los Chacales \",\" Olle Adolphson \",\" Robbie Williams \",\" Brotha Lynch Hung \",\" Pepe Tovar \",\" FC Kahuna \",\" Viktor Vaughn \",\" Hikaru Utada \",\" Freeway \",\" Norah Jones \",\" Chorus   Mulan \",\" Butterfly Boucher \",\" Antonio Banderas \",\" Trick Trick \",\" Jay Chou \",\" Wilson Jermaine Heredia \",\" Huey Lewis \",\" OJ Da Juiceman \",\" Endres Quartet \",\" YACHT \",\" Havana Brown \",\" Jeff Bernat \",\" Mandisa \",\" You Me At Six \",\" Chiddy Bang \",\" WZRD \",\" Florence   The Machine \",\" Clyde Carson \",\" Pablo Albor\\u00e1n \",\" Ricardo Montaner \",\" Julia Sheer \",\" Smallpools \",\" Armin van Buuren \",\" Aaron Krause \",\" Kavinsky \",\" Ryan Montbleau \",\" Pentatonix \",\" Kyla La Grange \",\" Zeds Dead \",\" OMI \",\" Pham \",\" Omar LinX \",\" Jacksepticeye \",\" Flatland Cavalry \",\" Getter \",\" V \",\" Verzache \",\" Koe Wetzel \",\" The Belonging Co \",\" Brett Young \",\" Pardison Fontaine \",\" Why Don t We \",\" James Bay \",\" Khruangbin \",\" Jasiah \",\" Jameson Rodgers \",\" Nea \",\" Ioannou Georgakopoulou \",\" \\u039d\\u03b1\\u03bd\\u03ac \\u0393\\u03ba\\u03c1\\u03ad\\u03ba\\u03b1 \",\" Sardar Akhtar \",\" Miss Bibbo \",\" Carl Engel \",\" Gauhar Sultana \",\" M\\u00fczeyyen Senar \",\" R  Nagendra Rao \",\" Vatsala Kumthekar \",\" Gerardo Matos Rodriguez \",\" \\u00c9douard Lalo \",\" Cyril Scott \",\" Frank Skinner \",\" Afzal \",\" Nadira \",\" Saraswati Rane \",\" Rekharani \",\" Paul Misraki \",\" Raj\\u00e9 Shwari \",\" Vivienne Segal \",\" Guri Prahlad \",\" Stelios Kazantzidis\",\" Mixed Bokharian singers\",\" Shiloh Primitive Baptist Church  Bogue Chito\",\" Anatoly Lyadov \",\" D  Gonzalez \",\" Kristine Akselsen \",\" Franz Xaver Gruber \",\" The Hollywood Arist O Kats \",\" Sid King   The Five Strings \",\" Ary Barroso \",\" Audrey Hepburn \",\" Jeri Southern \",\" Arnold Schoenberg \",\" Mahalia Jackson \",\" Red Garland Quintets \",\" Walter Brennan \",\" Zero Mostel\",\" Marni Nixon \",\" Billie Richards \",\" James Brown   The Famous Flames \",\" The George Benson Quartet \",\" Alonso Mudarra \",\" The Paragons \",\" Jean Jacques Perrey \",\" Derrick Harriott \",\" Sister Sledge \",\" Jerry Jeff Walker \",\" The Charlie Daniels Band \",\" Ronnie Milsap \",\" Maurice Joshua \",\" Conjunto Chaney \",\" William Bell \",\" Dr  John \",\" Monie Love \",\" Al Martino \",\" Boston Pops Orchestra \",\" Bonnie Raitt \",\" Louie Ramirez \",\" Super Cat \",\" Donald Harrison \",\" Newsies Additional Singing Cast \",\" Buddy Castle \",\" Moby \",\" Richard Smallwood \",\" X Raided \",\" Samuel E  Wright \",\" John Michael Talbot \",\" Lord Tariq \",\" Quindon Tarver \",\" Eric Timmons \",\" Hawk \",\" blink 182 \",\" Nick Cannon \",\" Tom Jones \",\" The RH Factor \",\" Ton\\u00e9x \",\" Robyn \",\" Tracie Thoms \",\" Ed Ivory \",\" Selah \",\" Los Telez \",\" Snow Patrol \",\" Jack White \",\" Christopher Jackson \",\" Cali Life Style \",\" La Roux \",\" Phineas \",\" He Is We \",\" Bryan J \",\" Eddie Vedder \",\" Charlie Parr \",\" Tedashii \",\" Mykko Montana \",\" Ab Soul \",\" Kany Garcia \",\" Bahamas \",\" Bingo Players \",\" Gustavo Santaolalla \",\" The Worship Initiative \",\" Dom Kennedy \",\" Rowan Blanchard \",\" Electric Youth \",\" Timeflies \",\" Pia Mia \",\" Joe Arroyo \",\" Jeff Lewis \",\" Ra Ra Riot \",\" Chino   Nacho \",\" Jordan Fisher \",\" Omar Ruiz \",\" Drugdealer \",\" Dre es \",\" North Point Worship \",\" beabadoobee \",\" Shiloh Dynasty \",\" Andy Mineo \",\" Jess Glynne \",\" Skye \",\" Ari Lennox \",\" Rotimi \",\" Sista Prod \",\" Swae Lee \",\" Bea Miller \",\" Gabrielle Aplin \",\" Young Bombs \",\" Casper Magico \",\" Sub Urban \",\" Marca MP \",\" Jan Clayton \",\" Liza Lehmann \",\" Joaqu\\u00edn Malats \",\" Toscha Seildel \",\" Lille Connie\",\" Durgesh Kumar \",\" Kostas Roukounas \",\" Cynthia Arana \",\" Kamala Bai \",\" Antonio Francisco Braga \",\" Tara \",\" Gustav Saenger \",\" Woody Herman   His Orchestra  Igor Stravinsky\",\" Nirmala Devi \",\" Binita Roy \",\" Jaganmoy Mitra \",\" Ramesh \",\" \\u0393\\u03b5\\u03c1\\u03ac\\u03c3\\u03b9\\u03bc\\u03bf\\u03c2 \\u03a3\\u03ac\\u03b3\\u03b9\\u03b1\\u03c2 \",\" K  V  Janaki \",\" Santha Kumari \",\" Mikhail Glinka \",\" Lallubhai \",\" Zanin \",\" Gilbert B\\u00e9caud \",\" Helene Tronsmo \",\" Don Charles \",\" William Croft \",\" Jimmy Dean \",\" Dee Dee Sharp \",\" Paul Winter \",\" Andre Francis \",\" Baden Powell \",\" Eliseo Herrera \",\" Minnie Riperton \",\" Alfredo Guti\\u00e9rrez y sus Acordeones Dorados \",\" Castelnuevo Tedesco \",\" Maria Beth\\u00e2nia \",\" Black Uhuru \",\" Heaven 17 \",\" Nikolaus Harnoncourt \",\" Sparks \",\" Joe Jackson \",\" Gregory Isaacs \",\" The Dickey Betts Band \",\" Carl Nielsen \",\" Gene Vincent \",\" Adamski \",\" The B 52 s \",\" D  Pritzker \",\" Vicious \",\" 20 Fingers \",\" Funkadelic \",\" Bj\\u00f6rk \",\" William Boyce \",\" Zoel \",\" Sash  \",\" Dalida \",\" Michael Kamen \",\" Mr  Scruff \",\" Keller Williams \",\" Henri Salvador \",\" Billy Preston \",\" London Metropolitan Orchestra \",\" Paul Oakenfold \",\" Tigger \",\" Styles P \",\" Shep \",\" South Border \",\" Klaus \",\" Remy Ma \",\" Neil Patrick Harris \",\" CeeLo Green \",\" Jordan Francis \",\" Greg Street \",\" Passenger \",\" Daniel Merriweather \",\" Ted Poley \",\" New Life Worship \",\" Aqualung \",\" YC Worldwide \",\" Josh Gad \",\" I4NI \",\" Parra for Cuva \",\" M83 \",\" Karen Harding \",\" Chris Renzema \",\" Syn Cole \",\" Alexandre Desplat \",\" Noel Torres \",\" Jetta \",\" Tove Styrke \",\" Abhi The Nomad \",\" Iron   Wine \",\" Artists Of Then\",\" Nathan Sykes \",\" Blai$y \",\" Jazmine Sullivan \",\" Kasbo \",\" Valee \",\" Lil Xan \",\" Matt Ox \",\" pewdiepie \",\" Doobie \",\" Jessie James Decker \",\" Yung Pinch \",\" Boy In Space \",\" KRYPTO9095 \",\" El Alfa \",\" Tito Torbellino Jr \",\" Ir Sais \",\" Dustin Lynch \",\" BRELAND \",\" LEGADO 7 \",\" DripReport \"]},\"selected\":{\"id\":\"9625\"},\"selection_policy\":{\"id\":\"9626\"}},\"id\":\"9362\",\"type\":\"ColumnDataSource\"},{\"attributes\":{},\"id\":\"8981\",\"type\":\"BasicTicker\"},{\"attributes\":{},\"id\":\"8973\",\"type\":\"CategoricalScale\"},{\"attributes\":{\"axis\":{\"id\":\"8980\"},\"dimension\":1,\"ticker\":null},\"id\":\"8983\",\"type\":\"Grid\"},{\"attributes\":{\"active_drag\":\"auto\",\"active_inspect\":\"auto\",\"active_multi\":null,\"active_scroll\":\"auto\",\"active_tap\":\"auto\",\"tools\":[{\"id\":\"8984\"},{\"id\":\"8985\"},{\"id\":\"8986\"},{\"id\":\"8987\"},{\"id\":\"8988\"},{\"id\":\"8989\"}]},\"id\":\"8991\",\"type\":\"Toolbar\"},{\"attributes\":{\"factors\":[\" Robert Schumann \",\" Fr\\u00e9d\\u00e9ric Chopin \",\" Felix Mendelssohn \",\" Franz Liszt \",\" Francisco Canaro \",\" Sergei Rachmaninoff \",\" Samuel Barber \",\" George Butterworth \",\" Alexander Scriabin \",\" Thomas Arne \",\" Moritz Moszkowski \",\" Roger Quilter \",\" Muzio Clementi \",\" Dmitry Kabalevsky \",\" Petros Epitropakis \",\" Banda del Regimiento P\\u00e9rez 3 de Infanter\\u00eda \",\" Gene Sedric \",\" Giorgos Papasideris \",\" Shorty Bralik \",\" Manuel Ponce \",\" Giorgos Mpekas \",\" Renos Talmas \",\" Dimitris Gkogkos \",\" O\\u03c1\\u03c7\\u03ae\\u03c3\\u03c4\\u03c1\\u03b1 \\u0392 Reibold \",\" Danai Stratigopoulou \",\" Giota Lidia \",\" Sinclair Lewis \",\" Franz Joseph Haydn \",\" Margarita Cueto \",\" Stratos Pagioumtzis \",\" Jeanette Mcdonald \",\" Jeanette MacDonald \",\" Robe \",\" Allan Jones \",\" Roza Eskenazi \",\" Georgia Mitaki \",\" Nilla Pizzi \",\" Rita Ampatzi \",\" Stellakis Perpiniadis \",\" Victor Arden \",\" Surendra \",\" John Philip Sousa \",\" Asha Bhosle \",\" Johann Sebastian Bach \",\" Jean Sibelius \",\" Maurice Ravel \",\" George Gershwin \",\" Pasupuleti Kannamba \",\" Charles Koechlin \",\" Claude Debussy \",\" Parul Ghosh \",\" N  Vanaja \",\" Ludwig van Beethoven \",\" Johannes Brahms \",\" Nalini Jaywant \",\" Modest Mussorgsky \",\" Lata Mangeshkar \",\" Darius Milhaud \",\" Wolfgang Amadeus Mozart \",\" Abram Chasins \",\" Igor Stravinsky \",\" Traditional \",\" Joseph Hector Fiocco \",\" Franz Schubert \",\" Kalyani \",\" Pt  Amarnath \",\" Giuseppe Verdi \",\" Jacques Ibert \",\" Gustav Mahler \",\" Nikolai Rimsky Korsakov \",\" Giacomo Puccini \",\" Anupam Ghatak \",\" Zohrabai Ambalawali \",\" Tani \",\" Georges Auric \",\" Udit Narayan \",\" Aram Khachaturian \",\" Anima Ghosh \",\" Hameeda Bano \",\" \\u0391\\u03c0\\u03cc\\u03c3\\u03c4\\u03bf\\u03bb\\u03bf\\u03c2 \\u03a7\\u03b1\\u03c4\\u03b6\\u03b7\\u03c7\\u03c1\\u03ae\\u03c3\\u03c4\\u03bf\\u03c2 \",\" Avinash \",\" Andr\\u00e9s Segovia \",\" A  R  Oza \",\" Rajkumari \",\" Pablo de Sarasate \",\" Doris Day \",\" S  Varalakshmi \",\" Ghantasala \",\" Manik Dadarkar \",\" Debabrata Biswas \",\" Shankar Dasgupta \",\" Shamshad Begum \",\" Edvard Grieg \",\" Ernest Bloch \",\" Leela Mehta \",\" Suraiya \",\" Andr\\u00e9 Gide \",\" Pietro Mascagni \",\" Aaron Copland \",\" Joaqu\\u00edn Rodrigo \",\" N  S  Krishnan \",\" Lalita Phadke \",\" Sergei Prokofiev \",\" Shanti Sharma \",\" Bing Crosby \",\" A  P  Komala \",\" Fernando Sor \",\" Sholom Secunda \",\" Female Sundanese singer\",\" Leonard Bernstein \",\" Female N Goundi soloist\",\" Female Okandi chorus\",\" Heitor dos Prazeres \",\" Fotis Polimeris \",\" Gayatri Bose \",\" \\u039d \\u03a6\\u03c1\\u03b1\\u03b3\\u03b3\\u03b9\\u03ac \",\" \\u039d\\u03af\\u03ba\\u03bf\\u03c2 \\u03a4\\u03b6\\u03bf\\u03c5\\u03b3\\u03ac\\u03bd\\u03bf\\u03c2 \",\" \\u039d\\u03c4\\u03bf\\u03cd\\u03bf \\u03a3\\u03c4\\u03b1\\u03bc\\u03c0\\u03bf\\u03cd\\u03bb \",\" Andreas Spagadoros \",\" \\u039d \\u03a4\\u03c3\\u03ac\\u03bc\\u03b7\\u03c2 \",\" Georges Bizet \",\" Khemchand Prakash \",\" John Cage \",\" Male Hebrew vocalist\",\" Marika Rossa \",\" Jean Cocteau \",\" \\u039frquesta Maestro Torroba \",\" MGM Studio Orchestra \",\" G  M  Durrani \",\" Neeta Den \",\" Fran\\u00e7ois Mauriac \",\" \\u00c9mile Waldteufel \",\" Pithapuram Nageswara Rao \",\" Moti Bai \",\" Carl Maria von Weber \",\" Max Reger \",\" Krishna Chatterjee \",\" Margaret Whiting \",\" Alfred Newman \",\" \\u0394\\u03b7\\u03bc\\u03ae\\u03c4\\u03c1\\u03b7\\u03c2 \\u039c\\u03c0\\u03b1\\u03b3\\u03b9\\u03b1\\u03bd\\u03c4\\u03ad\\u03c1\\u03b1\\u03c2 \",\" Mohammed Rafi \",\" Sotiria Bellou \",\" Orlando Silva \",\" Giorgos Mitsakis \",\" Jairam Shiledar \",\" Anne Lloyd \",\" Hector Berlioz \",\" Richard Wagner \",\" Richard Strauss \",\" Odetta \",\" Oscar Peterson \",\" Josef Strauss \",\" Dinah Washington \",\" Vic Damone \",\" Irving Berlin \",\" Dick Beavers \",\" Dave Brubeck Trio \",\" Frances Archer \",\" Buddy Rich \",\" Shirl Conway \",\" Louis Armstrong \",\" La Sonora Matancera \",\" The Clancy Brothers \",\" Hank Thompson \",\" Stubby Kaye \",\" Paul Chambers \",\" Carmen Delia Dipini \",\" Buddy Bregman \",\" J J  Johnson \",\" Ant\\u00f4nio Carlos Jobim \",\" Charles Mingus \",\" Anita O Day \",\" Ella Fitzgerald \",\" Fred Astaire \",\" Lee Konitz \",\" Billie Holiday \",\" Jutta Hipp \",\" Art Blakey   The Jazz Messengers \",\" Thelonious Monk Quartet \",\" Duke Ellington \",\" The Dave Brubeck Quartet \",\" Johnny Mathis \",\" Sister Rosetta Tharpe \",\" Sylvia Rexach \",\" The Stanley Brothers \",\" Miles Davis \",\" Jorma Ik\\u00e4valko \",\" Irving Burgie \",\" The Highway Q C  s \",\" Mukesh \",\" Bhupinder Singh \",\" Jimmy Bryant \",\" Mel Torm\\u00e9 \",\" M  S  Subbulakshmi \",\" Cannonball Adderley \",\" Milt Jackson \",\" Les Chats Sauvages \",\" Annette Funicello \",\" Elvis Presley \",\" James Cleveland \",\" Stan Getz \",\" Frank Sinatra \",\" Martin Denny \",\" Cliff Richard \",\" Spoken Word \",\" Pete Drake \",\" Les Brown\",\" Bobby  Boris  Pickett \",\" Peter\",\" J B  Lenoir \",\" Lalo Schifrin \",\" Ben Webster \",\" Cal Tjader \",\" George Jones \",\" Patsy Cline \",\" Kenny Burrell \",\" Gloria Lynne \",\" Eydie Gorm\\u00e9 \",\" The Dubliners \",\" Wilfrid Hyde White \",\" Vince Guaraldi \",\" Them \",\" Bert Jansch \",\" Rosemary Clooney \",\" John Mayall   The Bluesbreakers \",\" Hariharan \",\" Frank Zappa \",\" Big Mama Thornton \",\" Marvin Gaye \",\" Gene Clark \",\" The Velvet Underground \",\" Nancy Sinatra \",\" Los Corraleros De Majagual \",\" Big Brother   The Holding Company \",\" Blood\",\" Twice As Much \",\" Johnny Winter \",\" Crosby\",\" Quincy Jones \",\" Louis Hardin \",\" John Williams \",\" Chet Atkins \",\" Django Reinhardt \",\" Riz Ortolani \",\" Paul McCartney \",\" Mahavishnu Orchestra \",\" Leslie Bricusse \",\" Harold Melvin   The Blue Notes \",\" The J  Geils Band \",\" Irwin Kostal \",\" Chuck Mangione \",\" James Brown \",\" Earth\",\" Carl Anderson \",\" The Dells \",\" Kris Kristofferson \",\" Geraldo Pino \",\" Ash Soul\",\" Tico Alegre All Stars \",\" Fruko Y Sus Tesos \",\" Neil Young \",\" Hui Ohana \",\" Robert Fripp \",\" Rufus \",\" Barbra Streisand \",\" Larry Gatlin \",\" Bernard Herrmann \",\" Lil Greenwood \",\" Waylon Jennings \",\" Norman Connors \",\" Eric Burdon \",\" Cluster \",\" Shakti \",\" Chaka Khan \",\" Jim Morrison \",\" The Blues Brothers \",\" Jerry Garcia Band \",\" Twennynine \",\" Galt MacDermot \",\" The Who \",\" Jorge Ben Jor \",\" Hank Williams\",\" Kanchan \",\" Grover Washington\",\" Def Leppard \",\" St  Louis Jesuits \",\" Pat Metheny \",\" Jagjit Singh \",\" Shadowfax \",\" Yellowman \",\" Gwen Guthrie \",\" Andrew Lloyd Webber \",\" Harold Budd \",\" Erik Satie \",\" Bernadette Peters \",\" Paul Speer \",\" Dave Grusin \",\" Archie Shepp \",\" Linda Ronstadt \",\" Jesse Johnson \",\" Jerry Vale \",\" Skeeter Davis \",\" Betty Wright \",\" 10\",\" Nat King Cole \",\" Roc\\u00edo D\\u00farcal \",\" Conway Twitty \",\" Terence Trent D Arby \",\" Joanna Gleason \",\" Eazy E \",\" Jim Reeves \",\" Marc Almond \",\" Dionne Warwick \",\" Roberta Flack \",\" Ice Cube \",\" Dave Stewart \",\" Yo Yo \",\" Flaco Jimenez \",\" Beastie Boys \",\" R  Kelly \",\" David Lee Garza \",\" Dr  Dre \",\" Newsies Ensemble \",\" Helmet \",\" Brigitte Bardot \",\" Aaliyah \",\" James Horner \",\" Shaggy \",\" GZA \",\" Misfits \",\" Jos\\u00e9 Carreras \",\" Kausion \",\" Stephanie Mills \",\" Valeria Szerv\\u00e1nszky \",\" Jeff Lorber \",\" OutKast \",\" Mindy McCready \",\" Coolio \",\" Boss \",\" Steve Earle \",\" Ana Gabriel \",\" J  Pat O Malley \",\" Oliver Wallace \",\" Kilo Ali \",\" Andr\\u00e9 Rieu \",\" The Notorious B I G  \",\" Hank Williams \",\" Fred Hammond \",\" Big Pun \",\" Goodie Mob \",\" 2Pac \",\" Keith Washington \",\" Total \",\" The Ink Spots \",\" Journey \",\" Brooks   Dunn \",\" John Prine \",\" Mos Def \",\" Dave Matthews \",\" Filter \",\" Willie Rosario \",\" Cypress Hill \",\" Phil Collins \",\" Prodigy \",\" Eric Clapton \",\" Denez Prigent \",\" Billy Bragg \",\" Cliff Edwards \",\" Luis Aguilar \",\" JAY Z \",\" The Mouseketeers \",\" Joe Strummer \",\" The Cure \",\" Long Beach Dub Allstars \",\" Diddy \",\" INDIA \",\" Ja Rule \",\" Macy Gray \",\" Tha Eastsidaz \",\" P nk \",\" Nappy Roots \",\" Linkin Park \",\" The Band \",\" Edgar Joel \",\" Nas \",\" 50 Cent \",\" Black Eyed Peas \",\" Lou Monte \",\" Medeski\",\" Phillips\",\" Shania Twain \",\" Masta Ace \",\" LL Cool J \",\" Madvillain \",\" Jedi Mind Tricks \",\" Cassidy \",\" Piccallo \",\" WWE \",\" Mr  Lil One \",\" Ilene Woods \",\" The Game \",\" England Dan \",\" Tiffany Evans \",\" Desmond Dekker \",\" Eminem \",\" Brandon Rhyder \",\" Nelly \",\" Robin Thicke \",\" MC Magic \",\" Lionel Richie \",\" Young Buck \",\" The Cheetah Girls \",\" Jurassic 5 \",\" Beyonc\\u00e9 \",\" The Pussycat Dolls \",\" Jibbs \",\" Mr  Capone E \",\" Ali Tabatabaee \",\" Robert Plant \",\" Dave Sereny \",\" A B  Quintanilla III Y Los Kumbia Kings \",\" Blest \",\" Kenny Chesney \",\" JJ Grey   Mofro \",\" R K M   Ken Y \",\" Collie Buddz \",\" Hurricane Chris \",\" Hans Zimmer \",\" Colt Ford \",\" Shwayze \",\" Jamie Foxx \",\" Kevin Rudolf \",\" Akon \",\" James Fortune \",\" Plies \",\" Busta Rhymes \",\" Renee Olstead \",\" Usher \",\" Grizzly Bear \",\" Pitbull \",\" Kid Cudi \",\" J\\u00f3nsi \",\" Thomas Bergersen \",\" David Guetta \",\" Gorillaz \",\" Protoje \",\" Enrique Iglesias \",\" DEV \",\" Bunbury \",\" Nicki Minaj \",\" Yolanda Be Cool \",\" AJ Rafael \",\" Andrae Crouch \",\" Lupe Fiasco \",\" Kendrick Lamar \",\" Jason Segel \",\" Ricky Martin \",\" Ledisi \",\" Ace Hood \",\" Jamie Grace \",\" Kaskade \",\" Above   Beyond \",\" Conjunto Atardecer \",\" Mindless Behavior \",\" deadmau5 \",\" Ben Harper \",\" Jonn Hart \",\" Jack Johnson \",\" Palomo \",\" Anthony Hamilton \",\" Gerardo Ortiz \",\" Silence Wang \",\" Nipsey Hussle \",\" Hiatus Kaiyote \",\" BANKS \",\" Ariana Grande \",\" Jhen\\u00e9 Aiko \",\" Fall Out Boy \",\" Fiji \",\" Janelle Mon\\u00e1e \",\" CRUCIFIX \",\" Kristin Chenoweth \",\" Kevin Gates \",\" Kid Rock \",\" Daft Punk \",\" Penny and Sparrow \",\" 3LAU \",\" T I  \",\" Big   Rich \",\" Flight Facilities \",\" Run The Jewels \",\" Carlos Vives \",\" Jeff Williams \",\" ScHoolboy Q \",\" The Neighbourhood \",\" Cartel De Santa \",\" Cher Lloyd \",\" Rich Homie Quan \",\" Years   Years \",\" Charles Gounod \",\" Janji \",\" Mura Masa \",\" Lil Dicky \",\" Drake \",\" Selena Gomez \",\" Miel San Marcos \",\" Tory Lanez \",\" Tom Misch \",\" Wale \",\" Travis Scott \",\" Troye Sivan \",\" Aaron Y Su Grupo Ilusion \",\" Galimatias \",\" nothing\",\" Masego \",\" Pusha T \",\" Novo Amor \",\" Sinead Harnett \",\" Karen Aoki \",\" Rebelution \",\" MadeinTYO \",\" Kygo \",\" JoJo \",\" Flo Rida \",\" DJ Khaled \",\" Jordan Rakei \",\" Mac Miller \",\" James Blake \",\" Los Cadetes De Linares \",\" Big Wild \",\" Zay Hilfigerrr \",\" Granger Smith \",\" Camila Cabello \",\" In Love With a Ghost \",\" XXXTENTACION \",\" Louis The Child \",\" Halsey \",\" Marc E  Bassy \",\" Bad Bunny \",\" Skrillex \",\" Lil Yachty \",\" $uicideBoy$ \",\" Lil Boom \",\" Playboi Carti \",\" Steve Aoki \",\" Forrest  \",\" Justin Timberlake \",\" Night Lovell \",\" DaniLeigh \",\" KAROL G \",\" Morgan Evans \",\" Paris Shadows \",\" A$AP Rocky \",\" Goody Grace \",\" Clean Bandit \",\" Billie Eilish \",\" Future \",\" Ski Mask The Slump God \",\" The Chainsmokers \",\" TK Kravitz \",\" Anderson  Paak \",\" mysticphonk \",\" RL Grime \",\" No Rome \",\" Calum Scott \",\" Cosculluela \",\" BTS \",\" J Balvin \",\" KINGMOSTWANTED \",\" Chance the Rapper \",\" YBN Cordae \",\" Young Dolph \",\" Lil Peep \",\" Tyler\",\" Drax Project \",\" Lost Kings \",\" Bhad Bhabie \",\" NOTD \",\" Cheat Codes \",\" Bastille \",\" Gesaffelstein \",\" I Prevail \",\" Trey Songz \",\" Lizzo \",\" Dan   Shay \",\" Melanie Martinez \",\" Rich The Kid \",\" Sam Feldt \",\" Josh Richards \",\" Freddie Gibbs \",\" Alina Baraz \",\" Delacey \",\" Anuel AA \",\" Morat \",\" A Boogie Wit da Hoodie \",\" Trippie Redd \",\" Cali Y El Dandee \",\" YoungBoy Never Broke Again \",\" The Kid LAROI \",\" Olivia Rodrigo \",\" Ne Yo \",\" Ellie Goulding \",\" Wisin   Yandel \",\" Machine Gun Kelly \",\" Lil Baby \",\" Sleepy Hallow \",\" Petit Biscuit \",\" Doe Boy \",\" Justin Bieber \",\" Juan Arvizu \",\" Alberto Ruiz Lavadenz \",\" Conjunto 31 de Octubre \",\" Felipe V  Rivera \",\" Robert de Vis\\u00e9e \",\" Georgia Mittaki \",\" Korina Thessalonikia \",\" Guillermo Gomez \",\" Nikos Gounaris \",\" Kakkia Mendri \",\" Cristian Vasile \",\" Sylvia de Grasse \",\" \\u0393\\u03b9\\u03ac\\u03bd\\u03bd\\u03b7\\u03c2 \\u039a\\u03b1\\u03bc\\u03b2\\u03cd\\u03c3\\u03b7\\u03c2 \",\" Magia Melagia \",\" Markos Vamvakaris \",\" Mixalis Kalergis \",\" St  Kerom\\u00edtis \",\" P  Susheela \",\" K  C  Varma \",\" Dmitri Shostakovich \",\" Pran \",\" Ottorino Respighi \",\" Sreeradha Banerjee \",\" \\u0393\\u03b9\\u03ac\\u03bd\\u03bd\\u03b7\\u03c2 \\u0399\\u03c9\\u03b1\\u03bd\\u03bd\\u03af\\u03b4\\u03b7\\u03c2 \",\" Manuel de Falla \",\" Soolamangalam Rajalakshmi \",\" Carroll Gibbons \",\" Albeli \",\" Vincent d Indy \",\" Chittoor V  Nagaiah \",\" Ferde Grof\\u00e9 \",\" Amirbai Karnataki \",\" Benedito Lacerda \",\" Astor Piazzolla \",\" Meena Kapoor \",\" Kumar Sanu \",\" Manna Dey \",\" Noor Jehan \",\" Kalyanam Raghuramaiah \",\" Nathan Lane \",\" M  N  Ramachandra \",\" Mark Dawson \",\" Indrabadan Bhatt \",\" Joe E  Brown \",\" Raymond Scott \",\" Hemant Kumar \",\" Karen Khachaturian \",\" Colette \",\" Geeta Dutt \",\" M  L  Vasanthakumari \",\" Asit Baran \",\" Luigi Boccherini \",\" Surinder Kaur \",\" T Kanakam \",\" Heitor Villa Lobos \",\" C\\u00e9sar Franck \",\" Isaac Alb\\u00e9niz \",\" \\u0395\\u03c5\\u03b1\\u03b3\\u03b3\\u03b5\\u03bb\\u03af\\u03b1 \\u039c\\u03b1\\u03c1\\u03ba\\u03bf\\u03c0\\u03bf\\u03cd\\u03bb\\u03bf\\u03c5 \",\" Noel Rosa \",\" Andr\\u00e9 Breton \",\" Charles Aznavour \",\" Ntoua Xarma \",\" Mubarak Begum \",\" Rundfunk Sinfonieorchester Leipzig \",\" Mix  Thomakos \",\" Stella Xaskil \",\" Los Provincianos \",\" P  Leela \",\" Iqbal Bano \",\" Pendyala Nageswara Rao \",\" Otakar Parik \",\" Edward M  Read \",\" Jimmy Carroll \",\" Mary Norton \",\" Alban Berg \",\" Ambroise Thomas \",\" Fred Anderson \",\" Maurice Greene \",\" Charlie DeForest \",\" Zolt\\u00e1n Kod\\u00e1ly \",\" The Carillons \",\" Jack Cassidy \",\" Luigi Cherubini \",\" David Tudor \",\" Johann Pachelbel \",\" Jean Giono \",\" Johann Strauss II \",\" Gioachino Rossini \",\" The Bellecats \",\" Los Peregrinos \",\" Absis \",\" Jean Fran\\u00e7aix \",\" Dizzy Gillespie \",\" George Shearing Quintet \",\" Edith Adams \",\" Elmer Bernstein \",\" Kishore Kumar \",\" Chet Baker \",\" Kenny Dorham \",\" Gerry Mulligan \",\" Tadd Dameron \",\" Josephine Premice \",\" Dean Martin \",\" Maurice Chevalier \",\" Bienvenido Granda \",\" June Christy \",\" Ricky Nelson \",\" Lena Horne \",\" Debbie Reynolds \",\" MAY H  BRAE \",\" The Sound Of Music Orchestra \",\" Peggy Lee \",\" Coleman Hawkins \",\" Dave Brubeck \",\" Johnny Hodges \",\" \\u00d1ico Estrada y Su Sonora \",\" Glen Campbell \",\" Bill Evans \",\" Peggy Seeger \",\" Les Paul \",\" Alvin   The Chipmunks \",\" Laurindo Almeida \",\" The Carter Family \",\" T  M  Soundararajan \",\" George Morgan \",\" Monica Zetterlund \",\" The Dreamletts \",\" The Yardbirds \",\" Rod   Kevin \",\" Sam Cooke \",\" Hema Sardesai \",\" Gal Costa \",\" Paul Simon \",\" Frances Nero \",\" Johnny Cash \",\" Johnny Pacheco \",\" Mike Bloomfield \",\" Grant Green \",\" Thad Jones \",\" William Byrd \",\" Porter Wagoner \",\" Carole King \",\" Domenico Scarlatti \",\" John Lee Hooker \",\" Astrud Gilberto \",\" Alan Parker \",\" Ismael Rivera \",\" America \",\" Edgar Winter \",\" Andy Williams \",\" Nitty Gritty Dirt Band \",\" The Dawn \",\" Bob Bingham \",\" Ted Neeley \",\" John Holt \",\" Elis Regina \",\" David Allan Coe \",\" Blue Magic \",\" Rufus   Chaka Khan \",\" Jess Uke \",\" Paul Desmond \",\" Ambrosia \",\" Peter Frampton \",\" Herbie Mann \",\" Frank Stallone \",\" Harve Presnell \",\" Oleg Anofriyev \",\" Earl King \",\" Emerson\",\" Maze \",\" Foghat \",\" Willie Col\\u00f3n \",\" Djavan \",\" YELLOW MAGIC ORCHESTRA \",\" Jo\\u00e3o Bosco \",\" Anoushirvan Rohani \",\" Stanley Clarke \",\" Brian Eno \",\" Dolly Parton \",\" Merle Haggard \",\" Adalberto Santiago \",\" Jim Ed Brown \",\" Rick James \",\" George Lam \",\" Julie Sue \",\" Ilaiyaraaja \",\" Peabo Bryson \",\" Julio Iglesias \",\" Jermaine Jackson \",\" Mandy Patinkin \",\" Walpataca \",\" \\u30aa\\u30e1\\u30ac\\u30c8\\u30e9\\u30a4\\u30d6 \",\" Romualdo Brito \",\" Whitney Houston \",\" Billy Idol \",\" Jean Jacques Goldman \",\" Lisa Lisa   Cult Jam \",\" Bruce Hornsby \",\" Selda Ba\\u011fcan \",\" Cocteau Twins \",\" Celia Cruz \",\" Talking Heads \",\" The Andrews Sisters \",\" S\\u00e9rgio Mendes \",\" Robert Billig \",\" David Benoit \",\" Rev  Milton Brunson \",\" Jody Watley \",\" Joe Liggins \",\" The New Life Community Choir \",\" Anuradha Paudwal \",\" Kool G Rap \",\" Stuttgart Piano Trio \",\" Zydecajun \",\" Leopold Stokowski \",\" Prince \",\" \\u5f6d\\u5bb6\\u9e97 \",\" Babyface \",\" C\\u00e9cile Chaminade \",\" Mariah Carey \",\" Ella Mae Morse \",\" Chalino Sanchez \",\" Rodney O \",\" Biohazard \",\" Guru \",\" Bobby Brown \",\" Bob Wills \",\" World Class Wreckin  Cru \",\" Method Man \",\" John Field \",\" Spice 1 \",\" MC Eiht \",\" The Red Army Choir \",\" Kirk Franklin \",\" Fourplay \",\" Jon Secada \",\" Nightcrawlers \",\" The Isley Brothers \",\" Kenny G \",\" Foxy Brown \",\" Ghostface Killah \",\" Wu Bai \",\" Karen Dotrice \",\" Master P \",\" Banda Machos \",\" Kathryn Beaumont \",\" Nu Flavor \",\" Bobby Driscoll \",\" The Temptations \",\" Suga Free \",\" Michael Berresse \",\" Jacky Cheung \",\" Onyx \",\" Sheryl Crow \",\" Charles Strouse \",\" Jennifer Lopez \",\" Gang Starr \",\" Naughty By Nature \",\" Guru s Jazzmatazz \",\" Bone Thugs N Harmony \",\" Dan Hill \",\" Josh Groban \",\" Barenaked Ladies \",\" DMX \",\" Phil Harris \",\" Salt N Pepa \",\" Angie Stone \",\" Redman \",\" Counting Crows \",\" B2K \",\" Jorge Celed\\u00f3n \",\" Howard Shore \",\" Groundation \",\" My Chemical Romance \",\" Zero 7 \",\" Shyne \",\" Kings of Convenience \",\" Dan Balan \",\" DJ Nelson \",\" David Crosby \",\" Lil  Flip \",\" Beanie Sigel \",\" James Newton Howard \",\" Darrell Scott \",\" Hector   Tito \",\" Tommy Dorsey \",\" Mase \",\" Alicia Keys \",\" Damian Marley \",\" Motorcycle \",\" Merl Saunders \",\" Reba McEntire \",\" Lyfe Jennings \",\" Don Omar \",\" Mickey Mouse \",\" Thal\\u00eda \",\" Lil Scrappy \",\" Wisin \",\" Three 6 Mafia \",\" Baby Boy \",\" Johann Nepomuk Hummel \",\" Joe Anderson \",\" Kat Deluna \",\" Carol Woods \",\" Laura Bell Bundy \",\" Dean Evenson \",\" Jason Mraz \",\" Fatman Scoop \",\" Daniel Breaker \",\" Santigold \",\" E 40 \",\" Maroon 5 \",\" Mystery Jets \",\" H\\u00e9ctor Acosta  El Torito  \",\" Hot Stylz \",\" Ciara \",\" Jonas Brothers \",\" Flex \",\" Birdman \",\" El Compa Sacra\",\" Ying Yang Twins \",\" Rick Ross \",\" MF DOOM \",\" Christopher Tin \",\" Rihanna \",\" Snoop Dogg \",\" Yo Gotti \",\" 8Ball \",\" Lil Wayne \",\" Webbie \",\" Nadia Ali \",\" Lenny Cooper \",\" Margarita la diosa de la cumbia \",\" Demi Lovato \",\" Swedish House Mafia \",\" Los Pericos \",\" LoveRance \",\" Dizzee Rascal \",\" Rusko \",\" Amy Winehouse \",\" Chester See\",\" Alejandro Sanz \",\" Martin Solveig \",\" Matt Nathanson \",\" G Eazy \",\" Chief Keef \",\" Jake Owen \",\" Christoph Willibald Gluck \",\" Pleasure P \",\" Far East Movement \",\" Tercer Cielo \",\" David Glen Eisley \",\" Meek Mill \",\" Jeremy Jordan \",\" Victorious Cast \",\" Natalia Lafourcade \",\" Tyga \",\" Sunny Ledfurd \",\" Adventure Club \",\" Florida Georgia Line \",\" Paramore \",\" Klangkarussell \",\" Sammy Johnson \",\" Donny Osmond \",\" Sammy Adams \",\" Waka Flocka Flame \",\" Gene Kelly \",\" Porter Robinson \",\" The Vamps \",\" The Knocks \",\" Dirty Heads \",\" Barrett Wilbert Weed \",\" Bebe Rexha \",\" Glass Animals \",\" Calvin Harris \",\" Different Heaven \",\" Robin Schulz \",\" Oscar Isaac \",\" Moonshine Bandits \",\" Man\\u00e1 \",\" Ludacris \",\" Cartoon \",\" Joywave \",\" La Sonora Dinamita \",\" Missy Elliott \",\" Juicy J \",\" Vicetone \",\" Skizzy Mars \",\" Jeremih \",\" Earl Sweatshirt \",\" Miguel \",\" ZAYN \",\" BADBADNOTGOOD \",\" Matt Maeson \",\" Solange \",\" Jeezy \",\" Yuna \",\" Nick Jonas \",\" Struggle Jennings \",\" R\\u00dcF\\u00dcS DU SOL \",\" Domo Genesis \",\" Isaiah Rashad \",\" Phil Wickham \",\" Sia \",\" Wifisfuneral \",\" SLANDER \",\" Bryce Vine \",\" Anitta \",\" Jory Boy \",\" Jason Derulo \",\" Gucci Mane \",\" Amin\\u00e9 \",\" Logic \",\" Keala Settle \",\" Arcangel \",\" El Fantasma \",\" Lil Skies \",\" Matoma \",\" Cash Cash \",\" Lenin Ram\\u00edrez \",\" YNW Melly \",\" Jonas Blue \",\" Chris Lake \",\" GoldLink \",\" Monty Datta \",\" Cardi B \",\" Migos \",\" Kodak Black \",\" James Arthur \",\" Fukkit \",\" Lord Huron \",\" JayDaYoungan \",\" Mark Ronson \",\" Shordie Shordie \",\" Arin Ray \",\" ilyTOMMY \",\" Sean Paul \",\" Liam Payne \",\" Daddy Yankee \",\" Taylor Swift \",\" Yella Beezy \",\" GASHI \",\" Nicky Jam \",\" Cuco \",\" YSN Flow \",\" Quinn XCII \",\" Jaden \",\" Moneybagg Yo \",\" Luh Kel \",\" Lil Tjay \",\" Gente De Zona \",\" Chris Brown \",\" Pop Smoke \",\" Lil Durk \",\" Joyner Lucas \",\" Jawsh 685 \",\" Natanael Cano \",\" Arijit Singh \",\" Junior H \",\" George Mutoo and His Demerara Orchestra \",\" Sofia Karivali \",\" The Duke Of Iron \",\" D\\u00fao Las Kantutas \",\" Harry James \",\" \\u0399 \\u03a1\\u03ac\\u03c0\\u03c4\\u03b7\\u03c2 \",\" \\u0393\\u03b9\\u03ce\\u03c1\\u03b3\\u03bf\\u03c2 \\u039a\\u03b1\\u03bc\\u03b2\\u03cd\\u03c3\\u03b7\\u03c2 \",\" \\u03a0\\u03ad\\u03c4\\u03c1\\u03bf\\u03c2 \\u039a\\u03c5\\u03c1\\u03b9\\u03b1\\u03ba\\u03cc\\u03c2 \",\" Fred Bird Rythmicans \",\" Mitaki \",\" The Royal Victoria Hotel Calypsos \",\" Anestos Delias \",\" Giorgos Papasideris\",\" Kontopoylos \",\" Sheela \",\" Sujan Majhi \",\" Anil Biswas \",\" W  Herbert Brewster \",\" Francisco Ernani Braga \",\" L Luttazzi \",\" Dalva De Oliveira \",\" Henry Mancini \",\" Canhoto \",\" Jean Philippe Rameau \",\" Rehana \",\" C  Ramchandra \",\" Sriharshia \",\" Ella Logan \",\" Khursheed Bano \",\" Rampyari \",\" Bourvil \",\" Galipenchala Narashima Rao \",\" Bhiku \",\" Federico Moreno Torroba \",\" Salim Raza \",\" Nasim Begum \",\" B\\u00e9la Bart\\u00f3k \",\" Lalita Dewoolkar \",\" Luigi Denza \",\" Mary Martin \",\" Meena Khadikar \",\" Chuji Kinoshita \",\" St\\u00e9lios Kazantz\\u00eddis \",\" Jascha Heifetz \",\" Ti Yogan \",\" Barbara Cook \",\" Tcherawata player from Gura Valley\",\" Leopold Mozart \",\" Lola Flores \",\" Tito Rodriguez \",\" James Lord Pierpont \",\" S  D  Batish \",\" The Brigadiers \",\" Kokila Joshi \",\" Edward Elgar \",\" Carl Leopold Sj\\u00f6berg \",\" K  Rani \",\" Kaye Ballard \",\" Church of God Congregation  Nassau\",\" Gaetano Donizetti \",\" Pierre Dac \",\" Pyotr Ilyich Tchaikovsky \",\" Jacqueline Harpet \",\" Antonio Diaz Mena \",\" Pepe Blanco \",\" Harry  Sweets  Edison \",\" Ewan MacColl \",\" Clifford Brown \",\" The Channels \",\" D  Brubeck \",\" Peter Palmer \",\" Percy Faith \",\" The Chico Hamilton Quintet \",\" Frankie Laine \",\" Johnny Mercer \",\" Thelonious Monk \",\" Junior Wells \",\" Gil Evans \",\" Lupita P x82rez \",\" Los Panchos \",\" Tommy Dorsey   His Clambake Seven \",\" Louis Prima \",\" Virginia Lopez \",\" Jeff Alexander \",\" Joe Williams \",\" Art Pepper \",\" Danny Kaye \",\" Bob Brookmeyer \",\" Lambert\",\" The Latin Jazz Quintet \",\" Oscar Peterson Trio \",\" Alberto Beltran \",\" Richard Rodgers \",\" Gene Ammons \",\" Sonny Stitt \",\" Steve Lacy \",\" Ray Conniff \",\" Red Garland Quintet \",\" Bobby Darin \",\" Bob Dylan \",\" Muddy Waters \",\" Jimmy Smith \",\" The New Lost City Ramblers \",\" Gerry Woo \",\" H\\u00e9ctor Lavoe \",\" Wes Montgomery \",\" Paco de Luc\\u00eda \",\" Steppenwolf \",\" Billo s Caracas Boys \",\" Bob James \",\" Les Baxter \",\" Fania All Stars \",\" Luis Bacalov \",\" Laura Nyro \",\" Milton Nascimento \",\" Ronnie Aldrich and his 2 pianos \",\" Vincenzo Capirola \",\" The Juicy Fruits \",\" Al Hurricane \",\" Joe Henderson \",\" B B  King \",\" King Tubby \",\" Adolfo Echeverria \",\" The Whispers \",\" Bob Marley   The Wailers \",\" Paul Williams \",\" George Thorogood \",\" Ozone \",\" Los Vecinos \",\" La Gran Banda Cale\\u00f1a \",\" Donna Summer \",\" Jenny Tseng \",\" Roman Tam \",\" R  D  Burman \",\" Sonic Youth \",\" Alfredo Linares \",\" Stevie Wonder \",\" Tom Petty and the Heartbreakers \",\" Gloria Estefan \",\" Patti LaBelle \",\" Don Moen \",\" F\\u00e1bio Jr  \",\" Meredith Monk \",\" Dwight Yoakam \",\" Paragon Ragtime Orchestra\",\" Jennifer Butt \",\" Eric B    Rakim \",\" Heavy D   The Boyz \",\" Chip Zien \",\" Tom Aldredge \",\" The Rippingtons \",\" Sam Brown \",\" The Beatles \",\" Labi Siffre \",\" Claude Michel Sch\\u00f6nberg \",\" Robert Westenberg \",\" Angelo DeBarre \",\" Angela Winbush \",\" Jimmy Buffett \",\" Jason Donovan \",\" John P  Kee \",\" Henry Purcell \",\" Sandi Patty \",\" Nusrat Fateh Ali Khan \",\" Donnie McClurkin \",\" Rod Stewart \",\" Billy J  Kramer \",\" The Chieftains \",\" Peter Gallagher \",\" Junior Vasquez \",\" Medicine \",\" Nancy Wilson \",\" Thug Life \",\" Ill Al Skratch \",\" Capleton \",\" Annie Lennox \",\" Mobb Deep \",\" Chorus   Pocahontas \",\" The Roots \",\" Joan Sebastian \",\" Huey Dunbar \",\" Paul Kandel \",\" Keith Sweat \",\" Color Me Badd \",\" Mack 10 \",\" Lester Young \",\" Capone N Noreaga \",\" Delerium \",\" Adriana Caselotti \",\" Allure \",\" The Del Vikings \",\" Paul Anka \",\" Shaun Davey \",\" Deborah Cox \",\" Sukhwinder Singh \",\" DJ Quik \",\" Amy Hanaiali i \",\" Mousse T  \",\" The LOX \",\" Fat Pat \",\" Sly\",\" The East Flatbush Project \",\" Faith Evans \",\" Ibrahim Ferrer \",\" Boney James \",\" Jessica Simpson \",\" Ginuwine \",\" Albert King \",\" Pearl Django \",\" Bow Wow \",\" Widespread Panic \",\" Jackie McLean \",\" Jamiroquai \",\" Philip Bailey \",\" Immortal Technique \",\" John Barry \",\" Secret Garden \",\" Nicole Kidman \",\" Chick Corea \",\" Soulive \",\" Negami \",\" John Tartaglia \",\" Bertha Tilman \",\" Michael McDonald \",\" Mystikal \",\" Guerilla Black \",\" Baby Bash \",\" Fort Minor \",\" Leo Kottke \",\" Mary J  Blige \",\" Boosie Badazz \",\" Hezekiah Walker \",\" Bob Sinclar \",\" F Minus \",\" Josh Turner \",\" Fabolous \",\" Johnny Depp \",\" Chamillionaire \",\" Jarabe De Palo \",\" Timbaland \",\" Miranda  \",\" Swishahouse \",\" Kenny Rogers \",\" B  D Addario as Flounder \",\" Lecrae \",\" Mike Posner \",\" The Dream \",\" Martin O Donnell \",\" Big Time Rush \",\" Chayanne \",\" Shakira \",\" Katharine McPhee \",\" Sutton Foster \",\" Bethel Music \",\" Jesse   Joy \",\" Joey Bada$$ \",\" Goodnight\",\" Calibre 50 \",\" Benjy Wertheimer \",\" Josh WaWa White \",\" Big Sean \",\" Cam Meekins \",\" Tom Odell \",\" Mat Zo \",\" PARTYNEXTDOOR \",\" MIKA \",\" Sleeping With Sirens \",\" Tim McGraw \",\" Trip Lee \",\" SMO \",\" ODESZA \",\" Slow Magic \",\" Carrie Underwood \",\" Charlie Farley \",\" Kurt Hugo Schneider \",\" SAYGRACE \",\" Kool John \",\" o k h o \",\" Tori Kelly \",\" Juan Gabriel \",\" Major Lazer \",\" Kanye West \",\" KALEO \",\" Rhiannon Giddens \",\" TobyMac \",\" AlunaGeorge \",\" Bassnectar \",\" Galactic \",\" DEAN \",\" Dom Dolla \",\" Zac Brown Band \",\" 21 Savage \",\" M\\u00f8me \",\" Lucidious \",\" Galantis \",\" Jorja Smith \",\" Made in M \",\" Charles Bradley \",\" Lost Frequencies \",\" Kid Trunks \",\" Luis Fonsi \",\" ILLENIUM \",\" atlas \",\" Imagine Dragons \",\" Imaginary Future \",\" Yandel \",\" Little Mix \",\" In This Moment \",\" Laura Dreyfuss \",\" T3R Elemento \",\" Lil Uzi Vert \",\" Gigolo Y La Exce \",\" 6ix9ine \",\" Noah Cyrus \",\" Johnny Orlando \",\" Floreyyyy \",\" Young Thug \",\" Julia Michaels \",\" Adam Calhoun \",\" Tee Grizzley \",\" 88rising \",\" pxzvc \",\" Bas \",\" MAX \",\" Rodney Atkins \",\" MC Virgins \",\" Los Hijos De Garcia \",\" Kehlani \",\" Doja Cat \",\" Tm88 \",\" Roddy Ricch \",\" Gunna \",\" Reik \",\" j hope \",\" R3HAB \",\" Arizona Zervas \",\" Loud Luxury \",\" Childish Gambino \",\" Alessia Cara \",\" Dreamville \",\" Camilo \",\" Lil Pump \",\" Milky Chance \",\" $NOT \",\" Gabby Barrett \",\" Carin Leon \",\" KSI \",\" YG \",\" VIZE \",\" Francisco T\\u00e1rrega \",\" Panos Visvardis \",\" Gerald Clark and his Caribbean Serenaders \",\" Heinz Sandauer \",\" Carlota Jaramillo \",\" Menka Bai \",\" Mo  Guzzo \",\" Ernesto Lecuona \",\" Anton Rubinstein \",\" \\u0398\\u03af\\u03b1\\u03c3\\u03bf\\u03c2 \\u0392\\u03c1\\u03c5\\u03c3\\u03b7\\u03af\\u03b4\\u03b1\\u03c2 \\u03a0\\u03b1\\u03bd\\u03c4\\u03bf\\u03c0\\u03bf\\u03cd\\u03bb\\u03bf\\u03c5 \",\" Kesari \",\" B Jayamma \",\" Emilio Serrano \",\" Renuka Devi \",\" Clement Krauss \",\" Don Cherry \",\" Chhamiya \",\" George Frideric Handel \",\" Shamim Akhtar \",\" Sunder Singh \",\" Mohantara Talpade \",\" Nanette Fabray \",\" Jyotsna Bhole \",\" Naseem Bano \",\" Meena Kumari \",\" V Sarala Rao \",\" Sunetra \",\" Howard Ferguson \",\" Radha Ravi \",\" Ram Kamlani \",\" Mahmure Suat \",\" Giuseppe Tartini \",\" Enrique Granados \",\" Renan Garcia \",\" Soula Karagiorgi \",\" Giota Xalkia \",\" Giannis Papaioannou \",\" Io\\u00e1nnis Tziv\\u00e1nis \",\" Male singer\",\" Three male Ibo drummers\",\" Francis Poulenc \",\" Paro Devi \",\" Prodromos Tsaousakis \",\" Balbir \",\" \\u03a1\\u03ad\\u03bd\\u03bf\\u03c2 \\u03a4\\u03ac\\u03bb\\u03bc\\u03b1\\u03c2 \",\" \\u0393\\u03b5\\u03c9\\u03c1\\u03b3\\u03af\\u03b1 \\u039c\\u03c0\\u03bb\\u03ac\\u03bd\\u03b1 \",\" Enoch Light \",\" Bob Haymes \",\" DUOBAIANO \",\" Larry Carr \",\" Roger Sessions \",\" A  M  Rajah \",\" Johnnie Ray \",\" Ravi \",\" Victor P  Young \",\" The Ames Brothers \",\" Leo Marini \",\" James McIntyre \",\" Big Bill Broonzy \",\" Oliver Nelson \",\" Max Roach \",\" Ray Bolger \",\" Topol \",\" Eric Dolphy \",\" Glenn Gould \",\" Shirley Collins \",\" Clark Terry \",\" Eddie Palmieri \",\" Judy Garland \",\" Musikkorps der 1  Gebirgsdivision Garmisch Partenkirchen   der Chor des Gebirgsfernmeldebataillons 8\",\" Brenda \",\" The Latin Blues Band \",\" Steve Stills \",\" Gilberto Gil \",\" Jerry Garcia \",\" Lyn Collins \",\" Robin Lamont \",\" Alan Hawkshaw \",\" Return To Forever \",\" Loretta Lynn \",\" Charly McClain \",\" Graham Nash \",\" Dennis Wilson \",\" Culture \",\" Dan Fogelberg \",\" Robert Gordon \",\" Patti LuPone \",\" John Denver \",\" Albertina Walker \",\" Ray Parker Jr  \",\" Alabama \",\" John Carpenter \",\" Bob   Doug McKenzie \",\" Sezen Aksu \",\" L T D  \",\" Carol Hall \",\" Afrika Bambaataa \",\" Earl Klugh \",\" Malcolm McLaren \",\" Ennio Morricone \",\" People Like Us \",\" Mason Williams \",\" The Lettermen \",\" Michael Jackson \",\" Artie Shaw \",\" Fishbone \",\" Yngwie Malmsteen \",\" Jonathan Richman \",\" Van Morrison \",\" Azumi Inoue \",\" Johnny Clegg \",\" Harry Connick\",\" Ra\\u00fal Esparza \",\" Niccol\\u00f2 Paganini \",\" George Clinton \",\" Boyz II Men \",\" El General \",\" Charly Garc\\u00eda \",\" Faith No More \",\" C\\u00e9line Dion \",\" Bob Gallarza \",\" Johnny Maestro \",\" Mac Dre \",\" Jello Biafra \",\" Warren G \",\" Alison Krauss \",\" Joey Dee \",\" N Trance \",\" Montell Jordan \",\" Philip Shadid \",\" Nick Cave   The Bad Seeds \",\" MC Hammer \",\" Too $hort \",\" Janet Jackson \",\" The Jud Conlon Chorus \",\" David Tomlinson \",\" Jason Raize \",\" Disney Studio Chorus \",\" Brian McKnight \",\" Black Star \",\" Lee Ann Womack \",\" Silkk The Shocker \",\" Pete Rock \",\" Ernest Tubb \",\" Anders Miolin \",\" Sisqo \",\" N O R E  \",\" Akinyele \",\" Mychael Danna \",\" Will Smith \",\" Dave Koz \",\" Binary Star \",\" Camille Saint Sa\\u00ebns \",\" Lil Jon \",\" Jodi Benson \",\" Dungeon Family \",\" Ogie Alcasid \",\" Archie Eversole \",\" Santana \",\" Panjabi MC \",\" Ronnie James Dio \",\" Room 5 \",\" Stephen Malkmus \",\" Jadakiss \",\" Lil Jon   The East Side Boyz \",\" Gwen Stefani \",\" Handsome Boy Modeling School \",\" 112 \",\" Cowboy Troy \",\" Beenie Man \",\" Joaquin Phoenix \",\" Adam Pascal \",\" Nujabes \",\" Alexis y Fido \",\" Rosario Dawson \",\" Blue October \",\" Shaan \",\" Vanessa Da Mata \",\" Pharrell Williams \",\" Chris LeDoux \",\" Nightmare \",\" Akwid \",\" Nikki Blonsky \",\" La Factoria \",\" Slightly Stoopid \",\" K Paz De La Sierra \",\" Within Temptation \",\" Olga Merediz \",\" New Kids On The Block \",\" KK \",\" Al Green \",\" John Legend \",\" Andre Nickatina \",\" Erre XI \",\" Bishop Paul S  Morton\",\" Mike Jones \",\" Estelle \",\" Juelz Santana \",\" Tego Calderon \",\" Young Money \",\" Tinie Tempah \",\" Soothing White Noise for Infant Sleeping and Massage\",\" Jim Brickman \",\" Roscoe Dash \",\" Krysta Rodriguez \",\" J Alvarez \",\" Glee Cast \",\" The Submarines \",\" Wiz Khalifa \",\" Casey Veggies \",\" Los Tigres Del Norte \",\" Macklemore   Ryan Lewis \",\" Anthony Brown   group therAPy \",\" Zedd \",\" Pierce The Veil \",\" Motionless In White \",\" Anton\\u00edn Dvo\\u0159\\u00e1k \",\" Flume \",\" Lana Del Rey \",\" Krizz Kaliko \",\" A Great Big World \",\" Nashville Cast \",\" Vance Joy \",\" Teyana Taylor \",\" Rowdy Rebel \",\" Christina Perri \",\" Iggy Azalea \",\" Yellow Claw \",\" Mykki Blanco \",\" Thomas Rhett \",\" Rudimental \",\" Scott Bradlee s Postmodern Jukebox \",\" ABSRDST \",\" Olly Murs \",\" Josh Abbott Band \",\" The Weeknd \",\" Sonora Carruseles \",\" Hillsong Worship \",\" Birdy \",\" Eric Church \",\" Los Angeles Azules \",\" Britney Spears \",\" Panda Eyes \",\" Two Steps from Hell \",\" Charlie Puth \",\" B o B \",\" Duckwrth \",\" GRiZ \",\" Charly Black \",\" Upchurch \",\" Ingrid Michaelson \",\" Ryan Gosling \",\" Farruko \",\" Agust D \",\" Marshmello \",\" Klasico \",\" EDEN \",\" Ravyn Lenae \",\" Ozuna \",\" Josh A \",\" Riton \",\" Rachel Bay Jones \",\" Gary Clark Jr  \",\" Switchfoot \",\" Sigala \",\" Francis and the Lights \",\" PRETTYMUCH \",\" Ouse \",\" Leon Bridges \",\" Lewis Capaldi \",\" Kudasaibeats \",\" Comethazine \",\" Shallou \",\" San Holo \",\" Witt Lowry \",\" Ella Mai \",\" Jub\\u00ebl \",\" Normani \",\" Rod Wave \",\" Demun Jones \",\" Killumantii \",\" Freddie Dredd \",\" Saba \",\" Blueface \",\" Hoodie Allen \",\" KAYTRANADA \",\" Kesha \",\" Manuel Turizo \",\" Global Dan \",\" Zack Fox \",\" Fuerza Regida \",\" Valerie Broussard \",\" bbno$ \",\" lil ricefield \",\" Diplo \",\" Shoreline Mafia \",\" Rezz \",\" Young T   Bugsey \",\" SiR \",\" John K \",\" Jai Wolf \",\" REASON \",\" JPEGMAFIA \",\" Russ \",\" Rich Brian \",\" Alejandro Fern\\u00e1ndez \",\" Mario Castelnuovo Tedesco \",\" \\u03a3\\u03c0\\u03cd\\u03c1\\u03bf\\u03c2 \\u03a3\\u03c4\\u03ac\\u03bc\\u03bf\\u03c2 \",\" Thomanerchor Leipzig \",\" \\u0393\\u03b9\\u03ce\\u03c1\\u03b3\\u03bf\\u03c2 \\u03a7\\u03b1\\u03c4\\u03b6\\u03b5\\u03bb\\u03ad\\u03c2 \",\" Carlos Lafuente \",\" Petre Alexandru \",\" Avelino Mu\\u00f1oz \",\" Uma Devi \",\" O  Goga \",\" Dim  Gkogkos \",\" Dimitris Perdikopoulos \",\" Dimitris Arapakis \",\" Shyam Sunder \",\" Burt Bacharach \",\" V Savona \",\" John Stafford Smith \",\" Jean Marie Leclair \",\" Dileep \",\" Wilhelm Friedemann Bach \",\" Alfredo Casella \",\" Emmanuel Chabrier \",\" Alberto Rabagliati \",\" Sabitri Ghosh \",\" Akkineni Nageswara Rao \",\" Ninu Majumdar \",\" Frederick Delius \",\" Robin Majumdar \",\" Paul Hindemith \",\" Anton Webern \",\" Ottokar Novacek \",\" Grigoras Dinicu \",\" Male Sioux singer with gourd rattle\",\" Gene Autry \",\" Jo Moutet \",\" \\u03a7\\u03ac\\u03c1\\u03b7\\u03c2 \\u039a\\u03bf\\u03c5\\u03c6\\u03b9\\u03b4\\u03ac\\u03ba\\u03b7\\u03c2 \",\" Giasemi \",\" Staatskapelle Dresden \",\" Giuseppe Torelli \",\" Johnny Cooper \",\" \\u0393\\u03b9\\u03ce\\u03c1\\u03b3\\u03bf\\u03c2 \\u039b\\u03b1\\u03cd\\u03ba\\u03b1\\u03c2 \",\" Thanasis Eugenikos \",\" Itinerant Sudanese workers in Gura Valley\",\" Snehal Bhatkar \",\" Talat Mahmood \",\" Phil Silvers \",\" Alfred Henderson \",\" Josef Vencl\\u016f se sv\\u00fdm orchestrem \",\" Navnit Adhikari \",\" Sulochana Kadam \",\" Ruggero Leoncavallo \",\" Anonymous \",\" Eddie Fisher \",\" Kukla\",\" Thiruchi Loganathan \",\" Barry Frank \",\" Benjamin Britten \",\" Gordon Jenkins \",\" Morgana King \",\" Jimmy Raney \",\" C B  And Ten Others With Axes \",\" Sammy Davis Jr  \",\" Dirch Passer \",\" Johnny   The Hurricanes \",\" A  L  Lloyd \",\" Owen Silveras \",\" Stranger Cole \",\" Lester Flatt \",\" Lee Remick \",\" \\u9ec3\\u570b\\u9686 \",\" Tony Bennett \",\" Lee Hazlewood \",\" Gary McFarland \",\" Nicole Croisille \",\" Stone Poneys \",\" La Lupe \",\" Luke Wade \",\" Paulinho Da Viola \",\" John Lennon \",\" Al Kooper \",\" London Symphony Orchestra \",\" Gary Burton \",\" Harry Belafonte \",\" Joel Grey \",\" Barry Dennen \",\" Yvonne Elliman \",\" Victor Jara \",\" Ramsey Lewis \",\" Justin Hayward \",\" Maddox Brothers \",\" Sonora Ponce\\u00f1a \",\" Emmylou Harris \",\" Bill Justis \",\" Burt Reynolds \",\" Herb Alpert \",\" Mot\\u00f6rhead \",\" Ashford   Simpson \",\" Vladimir Cosma \",\" Willie Nelson \",\" Grateful Dead \",\" Johnny Osbourne \",\" Bowling Green John Cephas \",\" Patrick Cowley \",\" Klara Rumyanova \",\" Bananarama \",\" Depeche Mode \",\" Milly Quezada \",\" Willie Neal Johnson \",\" Dazz Band \",\" Billy Joel \",\" Pete Sanchez \",\" David Chesky \",\" The Pogues \",\" Kim Crosby \",\" Adam Gussow \",\" Ural Cossacks Choir \",\" VIP Mass Choir \",\" Luther Barnes \",\" Yvonne Fair \",\" Jose Mari Chan \",\" D O A  \",\" Shabba Ranks \",\" Walter Bobbie \",\" Raul Di Blasio \",\" Count Basie \",\" Ottmar Liebert \",\" Ice Mc \",\" Side A \",\" DJ Screw \",\" Kris Kross \",\" Jerry Orbach \",\" Armand Van Helden \",\" Cecilia \",\" Eternal \",\" Chico DeBarge \",\" The Mellomen \",\" Samuel Hern\\u00e1ndez \",\" Wu Tang Clan \",\" Michael Lington \",\" Olivia Newton John \",\" Alanis Morissette \",\" Monica \",\" DAVE RODGERS \",\" Rayvon \",\" Alan Cumming \",\" Jermaine Dupri \",\" Diomedes Diaz \",\" Idina Menzel \",\" Eric Ben\\u00e9t \",\" Melanie C \",\" Marco Barrientos \",\" Apocalyptica \",\" Trick Daddy \",\" Jaheim \",\" Tony Jay \",\" Landy Wen \",\" DJ Encore \",\" Lorrie Morgan \",\" Buju Banton \",\" Catherine Zeta Jones \",\" Ry Cooder \",\" Wanda Jackson \",\" Alan Jackson \",\" Joe Budden \",\" Diego Torres \",\" Del The Funky Homosapien \",\" Nightmares On Wax \",\" Olga Ta\\u00f1\\u00f3n \",\" Chingy \",\" Tech N9ne \",\" Donald Duck \",\" Aventura \",\" Christian Borle \",\" Alex Ubago \",\" T Pain \",\" Ercola \",\" Bob Sinclair \",\" Sara Bareilles \",\" Lin Manuel Miranda \",\" Lloyd \",\" Yung Joc \",\" K NAAN \",\" Pesado \",\" Jesus Culture \",\" The Lacs \",\" Blake Shelton \",\" Jay Sean \",\" Los Invasores De Nuevo Le\\u00f3n \",\" Grupo Bryndis \",\" Charice \",\" Phaeleh \",\" Curtis Stigers \",\" The White Buffalo \",\" Phil Woods \",\" Tribal Seeds \",\" We As Human \",\" Joe Bonamassa \",\" Jill Scott \",\" Silverstein \",\" La Quinta Estacion \",\" Lindsay Mendez \",\" Minnesota \",\" Rags Cast \",\" Avril Lavigne \",\" Tochi Raina \",\" Carole Shelley \",\" Quasimoto \",\" Susie Suh \",\" Miranda Lambert \",\" Eric Prydz \",\" Slash \",\" SZA \",\" Cozz \",\" Mystery Skulls \",\" RAC \",\" Afrojack \",\" Dove Cameron \",\" La Ley De Michoacan \",\" Futuristic \",\" John Mark McMillan \",\" Taylor Bennett \",\" Grimes \",\" Maluma \",\" Feint \",\" Post Malone \",\" SIAMES \",\" X Ambassadors \",\" A$AP Ferg \",\" Zara Larsson \",\" Unknown Brain \",\" Snakehips \",\" Carnage \",\" Big Smo \",\" StayLoose \",\" OneRepublic \",\" Baaba Maal \",\" DeJ Loaf \",\" Steven Universe \",\" Jordan Maxwell \",\" NAV \",\" Daniel Caesar \",\" Vince Staples \",\" Francesca Battistelli \",\" Smokepurpp \",\" Only The Family \",\" KIDS SEE GHOSTS \",\" Six \",\" SadBoyProlific \",\" KYLE \",\" IDK \",\" SG Lewis \",\" El Profesor \",\" Prince Royce \",\" Bryant Myers \",\" Hayley Kiyoko \",\" J  Cole \",\" Grupo Firme \",\" YK Osiris \",\" Koffee \",\" Landon Cube \",\" Summer Walker \",\" French Montana \",\" Jax Jones \",\" Avicii \",\" Hopsin \",\" Darell \",\" Yung Gravy \",\" Powfu \",\" Joedi\",\" Elevation Worship \",\" Meghan Trainor \",\" K CAMP \",\" Andy Grammer \",\" Lennon Stella \",\" Denzel Curry \",\" dvsn \",\" Pepa Cardona \",\" Los Cebollitas \",\" \\u03a4\\u03b6\\u03c9\\u03bd \\u0393\\u03b9\\u03ac\\u03bd\\u03bd\\u03b1\\u03c1\\u03bf\\u03c2 \",\" Carmen Miranda \",\" Olivier Messiaen \",\" Louis Vierne \",\" Gustav Holst \",\" Malathi \",\" Ritza Ampatzi \",\" Roykoynas \",\" Kalergis \",\" Chester Gormley \",\" Saikat Mitra \",\" Frances Langford \",\" Chrorus \",\" James Cagney \",\" Chapuseaux y Damir\\u00f3n \",\" M Panzeri \",\" Armando Trovajoli \",\" Robert Palmer \",\" Girin Chakraborty \",\" Tan Dun \",\" Dilip Kumar \",\" Johnny Green \",\" Chitalkar \",\" Sumitra Roy \",\" Madhusudan Acharya \",\" Gaetano Pugnani \",\" Jay Blackton \",\" Litsa Xarmanta \",\" Thekla Lazaridou \",\" Alex Guesta \",\" Female Kouyou chorus with bell\",\" Male Mestizo singers\",\" \\u039d\\u03b9\\u03ba\\u03bf\\u03bb\\u03ad\\u03c4\\u03b1 \\u039a\\u03b1\\u03c0\\u03c1\\u03ae \",\" Elsa Lampo \",\" Lord Melody \",\" Ioanna Georgakopoulou \",\" Triganuca Nemciu \",\" Mbilta players from Gura Valley\",\" T  R  Mahalingam \",\" C  R  Subburaman \",\" Louis James Alfred Lef\\u00e9bure W\\u00e9ly \",\" Bohumil Kul\\u00ednsk\\u00fd \",\" Indrani \",\" Franz Leh\\u00e1r \",\" Giovanni Gabrieli \",\" Roberto Luna \",\" Monica Moore Smith \",\" Billy May \",\" Judy Holliday \",\" Joe Maphis \",\" Kurt Weill \",\" Kurt Kasznar \",\" Leslie Parrish \",\" George Shearing \",\" Charles Ives \",\" Eddie  Lockjaw  Davis \",\" Peter Warlock \",\" Ann Corio \",\" Bobby Vee \",\" Carol Burnett \",\" Gilberto Monroig \",\" Lucho Macedo Y Su Sonora \",\" Johnny Burnette \",\" Lou Rawls \",\" \\u5f35\\u742a \",\" Charlie Daniels \",\" Le Seigneur Rochereau \",\" Diana Ross   The Supremes \",\" Arik Einstein \",\" Elton John \",\" Stanley Turrentine \",\" Mel Brooks \",\" Luther Vandross \",\" Del McCoury \",\" Sonny Terry \",\" The Undead \",\" King Curtis \",\" Cortijo Y Su Combo \",\" Rose Royce \",\" Queen \",\" Doug Kershaw \",\" Dexter Wansel \",\" Bill Conti \",\" Joyce \",\" Fela Kuti \",\" Rub\\u00e9n Blades \",\" Don Williams \",\" Ricardo  Richie  Ray \",\" Mercedes Sosa \",\" Papo Lucca \",\" Mike Reno \",\" Teddy Pendergrass Duet with Whitney Houston \",\" Danny Chan \",\" Colonel Abrams \",\" Narada Michael Walden \",\" Stepan Rak \",\" Conjunto Cl\\u00e1sico \",\" U2 \",\" Al Bano \",\" Madonna \",\" Joseph Garlington \",\" Silvius Leopold Weiss \",\" Kotch \",\" Sharon\",\" Ray Barretto \",\" Technotronic \",\" Andre Kostelanetz \",\" Freddie Jackson \",\" C   C Music Factory \",\" DJ Magic Mike \",\" Adolphe Adam \",\" Alphaville \",\" Maxi Priest \",\" Wave \",\" Today \",\" Daytona \",\" Ricky Skaggs \",\" Michael Martin Murphey \",\" John Scofield \",\" Bob Wills   His Texas Playboys \",\" Marco Antonio Sol\\u00eds \",\" Chorus   Lester s Possum Park \",\" Horace Silver \",\" Baby Rasta \",\" One Way \",\" Lil  Louis \",\" The Browns \",\" The Faction \",\" Liz Callaway \",\" Donell Jones \",\" The Prodigy \",\" Victor Calderone \",\" Eros Ramazzotti \",\" Air \",\" Konrad Carelli \",\" MAKO \",\" Rell \",\" Joe Hisaishi \",\" Brian Stokes Mitchell \",\" Mark Mancina \",\" Destiny s Child \",\" Westlife \",\" Lucky Ali \",\" Clint Mansell \",\" Musiq Soulchild \",\" Women of the Palace \",\" Xzibit \",\" Parliament \",\" The Supermen Lovers \",\" Rui Da Silva \",\" Nate Dogg \",\" Wyclef Jean \",\" Craig David \",\" Richard Gere \",\" N E R D \",\" Helen Reddy \",\" John Foxx \",\" People Under The Stairs \",\" Bob Seger \",\" Youngbloodz \",\" Yolanda P\\u00e9rez \",\" Loon \",\" The Diplomats \",\" Adam Hood \",\" A Perfect Circle \",\" El G\\u00fcero y Su Banda Centenario \",\" N Klabe \",\" Jim Jones \",\" Natalie \",\" Fat Joe \",\" J J  Cale \",\" Cuete \",\" Vineyard Worship \",\" AZ \",\" Jenny Lewis \",\" Stephen Marley \",\" Tab Benoit \",\" Ivy Queen \",\" Calo \",\" Consequence \",\" Jim James \",\" Toby Keith \",\" Kelis \",\" JJ Lin \",\" Zion \",\" Q Tip \",\" The Lonely Island \",\" Vistoso Bosses \",\" Isobel Campbell \",\" Ana\\u00efs Mitchell \",\" Ali Farka Tour\\u00e9 \",\" Big Boi \",\" Dan Black \",\" Meaghan Martin \",\" Cody Simpson \",\" Jowell   Randy \",\" Pendulum \",\" Vicente Garcia \",\" Passion \",\" Jason Aldean \",\" Mika Singh \",\" Bruno Mars \",\" MellowHype \",\" Kelly Rowland \",\" Newsies Original Broadway Cast \",\" Zebra Katz \",\" Coldplay \",\" Hardwell \",\" The Stixxx \",\" Curren$y \",\" Neeraj Shridhar \",\" Odd Future \",\" Alesso \",\" Marion Band$ \",\" Nina Simone \",\" Danny Brown \",\" Royal Tailor \",\" Ramin Djawadi \",\" Alice Lee \",\" Home Free \",\" Beatslingers \",\" William Onyeabor \",\" KB \",\" Austin Mahone \",\" Apashe \",\" Jez Dior \",\" Disclosure \",\" NF \",\" Camila \",\" Gabriel Faur\\u00e9 \",\" Owl City \",\" Flux Pavilion \",\" Vigiland \",\" TeddyLoid \",\" Kid Ink \",\" Rapsody \",\" Ty Dolla $ign \",\" Langhorne Slim \",\" Ramirez \",\" Kiiara \",\" Nick Kroll \",\" Bomba Est\\u00e9reo \",\" Rae Sremmurd \",\" Jessie Mueller \",\" The Living Tombstone \",\" Big L \",\" Dreezy \",\" Volbeat \",\" Elohim \",\" Will Reagan \",\" Ck9c \",\" Chris Webby \",\" Jakob Ogawa \",\" Terror Reid \",\" PnB Rock \",\" Portugal  The Man \",\" Kenneth Whalum \",\" GAWVI \",\" Lady Gaga \",\" Boyinaband \",\" Milo Manheim \",\" Jay Rock \",\" ayokay \",\" Brantley Gilbert \",\" Hayden James \",\" Sebastian Yatra \",\" Kane Brown \",\" Jasiel Ayon \",\" Gryffin \",\" Mike Bah\\u00eda \",\" NLE Choppa \",\" Dalex \",\" Leven Kali \",\" Megan Thee Stallion \",\" DaBaby \",\" Omarion \",\" Niall Horan \",\" 24kGoldn \",\" GRACEY \",\" Calboy \",\" Cab Calloway   His Orchestra \",\" Adri\\u00e1n Pati\\u00f1o \",\" ANTONIS NTALGKAS \",\" Lord Kitchener \",\" Guillermo Butikofer \",\" Various Artists \",\" Radharani \",\" Susan Hayward \",\" Alexander Borodin \",\" Vera Zorina \",\" Usha \",\" Sarah Vaughan \",\" Victor Babin \",\" \\u0391\\u03bd\\u03b4\\u03c1\\u03ad\\u03b1\\u03c2 \\u0394\\u03bf\\u03c5\\u03ba\\u03bb\\u03b9\\u03ac\\u03c2 \",\" Marlene \",\" Georges Garvarentz \",\" M  S  Rama Rao \",\" Bhanumathi Ramakrishna \",\" Kanan Devi \",\" Enrico Toselli \",\" Litsa Xarma \",\" Takis Mpinis \",\" \\u0391\\u03bb\\u03ad\\u03ba\\u03bf\\u03c2 \\u039a\\u03b1\\u03c1\\u03b1\\u03b2\\u03af\\u03c4\\u03b7\\u03c2 \",\" T R Ramachandran \",\" Mixed singers\",\" Kousar Parveen \",\" Jeroen van Veen \",\" Male Hebrew Yemenite singers\",\" Tennessee Ernie Ford \",\" \\u03a0\\u03ac\\u03bd\\u03bf\\u03c2 \\u03a3\\u03ac\\u03bc\\u03b7\\u03c2 \",\" Six men from Oaxaca\",\" Stefan Wolpe \",\" Elizeth Cardoso \",\" Sammy Lewis \",\" L\\u00e9o Delibes \",\" Nelson Riddle \",\" Art Farmer \",\" Alec Wilder \",\" B B And Six Others \",\" Jimpson And Men With Axes \",\" Orquestra Afro Brasileira \",\" Edward Plumb \",\" Bud Shank \",\" Billy Eckstine \",\" Annie Ross \",\" Diana Dors \",\" Harper Lee \",\" P  B  Sreenivas \",\" Tito Puente \",\" Nino Oliviero \",\" Oscar Brown\",\" Bill Henderson \",\" Big John Patton \",\" Cookie   The Cupcakes \",\" Al Hirt \",\" Ronnie Aldrich \",\" The New Stan Getz Quartet \",\" The New Christy Minstrels \",\" Herb Ellis \",\" Paul Revere   The Raiders \",\" Bonnie Owens \",\" Otis Redding \",\" Manny Lopez \",\" \\u5305\\u5a1c\\u5a1c \",\" Connie Smith \",\" Belton Richard \",\" Leon Russell \",\" The Rolling Stones \",\" U Roy \",\" Carlos Santana \",\" Dawn \",\" The Miracles \",\" Bert   Ernie \",\" Jerry Herman \",\" The BeachBums \",\" Moe Bandy \",\" Beto Guedes \",\" Bobby Womack \",\" The Doobie Brothers \",\" Gram Parsons \",\" Pat Thomas \",\" Candeia \",\" New Grass Revival \",\" Patrick Swayze \",\" Michael Gore \",\" Lucho Cuadros \",\" Jensy \",\" Bryan Adams \",\" Bappi Lahiri \",\" Oscar D Le\\u00f3n \",\" Bryan Ferry \",\" INXS \",\" Tony Rice \",\" Aretha Franklin \",\" Stephen Sondheim \",\" Vivian Chow \",\" Camaron De La Isla \",\" Bob Fitts \",\" Wayne Toups \",\" David Lui \",\" Red Foley \",\" Josie de Guzman \",\" Bluejean \",\" Organized Konfusion \",\" Aaron Kwok \",\" Sublime \",\" Da Brat \",\" Poncho Sanchez \",\" Marty Robbins \",\" Roger   Zapp \",\" Sarah Brightman \",\" Teri DeSario \",\" Karen Clark Sheard \",\" Ensemble   The Lion King \",\" \\u00c9ric Serra \",\" Big Head Todd and The Monsters \",\" Karen Mok \",\" MJG \",\" Juvenile \",\" Jos\\u00e9 Alfredo Jimenez \",\" Pete Rock\",\" Everlast \",\" Sharon Shannon \",\" Jerry Bryant \",\" Si and Am \",\" La Dinastia Tuzantla \",\" Westside Connection \",\" Gloc 9 \",\" Brandy \",\" Trebol Clan \",\" Moodymann \",\" Scott Joplin \",\" Rayzd \",\"  NSYNC \",\" Christine Fan \",\" P$C \",\" Defiance\",\" John Mayer \",\"  Legally Blonde  Ensemble \",\" Common \",\" Calle 13 \",\" Eddie Dee \",\" Soulja Boy \",\" Slim \",\" Trina \",\" Deepak Chopra \",\" Basshunter \",\" Cherish \",\" 88 Keys \",\" The Jacka \",\" Lightning\",\" Guru Josh Project \",\" Vinnie Paz \",\" The Heavy \",\" Zion   Lennox \",\" El Canto Del Loco \",\" AWOLNATION \",\" DJ Shadow \",\" Coco Jones \",\" Miguel Bos\\u00e9 \",\" Andrew Keenan Bolger \",\" \\u00d1ejo \",\" Sultan   Shepard \",\" Robert Glasper Experiment \",\" Dimitri Vegas   Like Mike \",\" Vishal Dadlani \",\" Canserbero \",\" Claptone \",\" GAMPER   DADONI \",\" Breathe Carolina \",\" Travis Porter \",\" Justine Skye \",\" Sons Of Zion \",\" Anthony Crivello \",\" London Grammar \",\" Gorgon City \",\" Madeon \",\" Maribou State \",\" Parks\",\" Hillsong Young   Free \",\" June Marieezy \",\" Jacquees \",\" Jay Park \",\" Mr hotspot \",\" Warriyo \",\" Mustard \",\" Monte Booker \",\" \\u00d3lafur Arnalds \",\" Excision \",\" Mike WiLL Made It \",\" Young Nudy \",\" Majid Jordan \",\" Bronco \",\" Charlie Burg \",\" blackbear \",\" Yung Bans \",\" Oliver Tree \",\" Unclenathannn \",\" Seeb \",\" Harris Cole \",\" CNCO \",\" NCT \",\" Sylvan Esso \",\" Fatboibari \",\" Vic Mensa \",\" Wet \",\" Chelsea Cutler \",\" Shotgun Willy \",\" FKJ \",\" Zach Williams \",\" Ed Sheeran \",\" Kiana Led\\u00e9 \",\" Becky G \",\" Khalid \",\" Michael W  Smith \",\" Danielle Bradbery \",\" Ti\\u00ebsto \",\" Imanbek \",\" Brytiago \",\" Sofi Tukker \",\" Goyard Oz \",\" Ant Saunders \",\" Moguai \",\" rum gold \",\" Lenny Tav\\u00e1rez \",\" Lil Keed \",\" Younha \",\" Trevor Daniel \",\" \\u039c  \\u03a6\\u03b9\\u03bb\\u03b9\\u03c0\\u03c0\\u03af\\u03b4\\u03b7\\u03c2 \",\" Raul Shaw Moreno \",\" \\u0391\\u03b8\\u03b7\\u03bd\\u03b1\\u03ca\\u03ba\\u03ae \\u03b5\\u03c3\\u03c4\\u03bf\\u03c5\\u03b4\\u03b9\\u03b1\\u03bd\\u03c4\\u03af\\u03bd\\u03b1 \",\" Lord Beginner \",\" Ioanna Georgokopoulou \",\" Perdikopoylos \",\" Woody Herman And His Woodchoppers \",\" Ajit Merchant \",\" Carl Philipp Emanuel Bach \",\" George Enescu \",\" South Pacific  The New Broadway Cast  \",\" Tarun Banerjee \",\" \\u039c\\u03c0\\u03ad\\u03bc\\u03c0\\u03b1 \\u03a6\\u03c1\\u03b5\\u03b9\\u03b4\\u03b5\\u03c1\\u03af\\u03ba\\u03b1 \",\" Panos Samis \",\" Munawar Sultana \",\" Lindy Doherty \",\" Anna Russell \",\" Sam and Modesto Garcia \",\" Bartholomeo Campagnoli \",\" Charles Stanley \",\" Lehman Engel \",\" Sacha Guitry \",\" Karel Vlach \",\" Girolamo Frescobaldi \",\" Girolamo Cavazzoni \",\" C  S  Radhadevi \",\" Jean Marc Turine \",\" Alexandre Tansman \",\" Joe Marine \",\" Jean Malaurie \",\" Musicians from Siatista\",\" Ramon Garcia \",\" Tex Stewart \",\" Luis Quintero \",\" Th\\u00e9r\\u00e8se de Saint Phalle \",\" Chandrasekhar \",\" Jim Brown \",\" Marcel Dupr\\u00e9 \",\" Eddie Lawrence \",\" Candide Orchestra \",\" Camarata Chorus and Orchestra \",\" George Bruns \",\" Fred Waring \",\" Brian Davies \",\" Jimmy Yancey \",\" John Coltrane \",\" John Ondrasik \",\" Miriam Makeba \",\" Ann Jilliann \",\" Harry Bluff \",\" The Green River Boys \",\" Art Van Damme Quintet \",\" Bruno Nicolai \",\" Richard Harris \",\" The TMG s \",\" Grigoris Bithikotsis \",\" Jeff Beck \",\" Serge Gainsbourg \",\" CELLADORE \",\" Dee Dee Warwick \",\" Johnny Jenkins \",\" Tammy Wynette \",\" Blue Swede \",\" Claudius Alzner \",\" Chita Rivera \",\" Cherrelle \",\" Tommy Olivencia y Su Orquesta \",\" Tolis Voskopoulos \",\" Charo \",\" Pete Townshend \",\" Dickey Betts \",\" NRBQ \",\" Haruomi Hosono \",\" Philip Glass \",\" McGuinn\",\" Donny Hathaway \",\" The Tallis Scholars \",\" Roy Rogers \",\" Yoel Lerner \",\" Johnny Paycheck \",\" Dexys Midnight Runners \",\" Cheryl Lynn \",\" Calixto Ochoa y Su Conjunto \",\" Peter Tosh \",\" Kiyotaka Sugiyama \",\" Dennis Edwards \",\" Mel McDaniel \",\" Lowell Lo \",\" George Benson \",\" Agnetha F\\u00e4ltskog \",\" Dave Wong \",\" Gregg Edelman \",\" Michael Bolton \",\" Crash Test Dummies \",\" Mary Chapin Carpenter \",\" Faith Prince \",\" Souls Of Mischief \",\" William Grant Still \",\" Shaquille O Neal \",\" Kent Henry \",\" Jam   Spoon \",\" The Four Aces \",\" Ronny Jordan \",\" Thomas Newman \",\" Ozzy Osbourne \",\" Russ Freeman \",\" Raekwon \",\" Luniz \",\" Scarface \",\" TOTO \",\" Alabina \",\" Daniel Santos \",\" Karol Szymanowski \",\" Alka Yagnik \",\" Danny Rivera \",\" Hazel Dickens \",\" Nuyorican Soul \",\" Michael Hopp\\u00e9 \",\" SWV \",\" Livin  Joy \",\" Peter Maxwell Davies \",\" Binary Finary \",\" Elvis Costello \",\" Natasha Richardson \",\" Antonio Aguilar Con Mariachi \",\" Tina Arena \",\" Jump\",\" Joe Sample \",\" The Flaming Lips \",\" Project Pat \",\" Ruff Ryders \",\" System Of A Down \",\" A Touch Of Class \",\" 3LW \",\" Drag On \",\" Eve \",\" Gordon Macrae \",\" Ray J \",\" A B  Quintanilla III \",\" Rob Zombie \",\" Benny Benassi \",\" Grupo Marrano \",\" Luis Mateus \",\" Charizma \",\" Petey Pablo \",\" Twista \",\" Jan A P  Kaczmarek \",\" Sonu Nigam \",\" Franck Keller \",\" Il Divo \",\" Beres Hammond \",\" Paul Wall \",\" A R  Rahman \",\" Chris Botti \",\" La Secta AllStar \",\" Daisy Duck \",\" G  Love   Special Sauce \",\" Minnie Mouse \",\" Michael R  Hicks \",\" clammbon \",\" \\u00d1ejo   Dalmata \",\" Monty Sharma \",\" G Unit \",\" The Bloody Beetroots \",\" Fatboy Slim \",\" Atlas Sound \",\" will i am \",\" Bobby Brackins \",\" Keri Hilson \",\" TAEYANG \",\" Kottonmouth Kings \",\" Blake Aaron \",\" Miami Horror \",\" Edward Maya \",\" Giorgio Moroder \",\" Simple Plan \",\" Marcos Brunet \",\" Stevie Nicks \",\" SBTRKT \",\" The Muppets \",\" Kierra Sheard \",\" Nicole Scherzinger \",\" Ozzie Kotani \",\" Clarence Clemons \",\" Kem \",\" 3 Doors Down \",\" 2 Chainz \",\" fun  \",\" Tom Hangs \",\" Seven Lions \",\" Jason Chen \",\" The Brothers Comatose \",\" Brandon Mychal Smith \",\" Britt Nicole \",\" Snoop Lion \",\" G DRAGON \",\" Treyarch \",\" Duke Dumont \",\" Pegboard Nerds \",\" Juan Luis Guerra 4 40 \",\" Natalie Cole \",\" Sage The Gemini \",\" Hozier \",\" L Imp\\u00e9ratrice \",\" Tamar Braxton \",\" Chris Pine \",\" Big Gigantic \",\" Fetty Wap \",\" PSY \",\" Deorro \",\" Hollyn \",\" Cashmere Cat \",\" Stick Figure \",\" for KING   COUNTRY \",\" League of Legends \",\" Rita Ora \",\" Burak Yeter \",\" Adam Friedman \",\" Party Favor \",\" Jelly Roll \",\" Elephante \",\" Anna Kendrick \",\" Alan Walker \",\" HONNE \",\" MK \",\" Dierks Bentley \",\" Drew Gehling \",\" love sadKID \",\" MariKuroso \",\" Mellow Fellow \",\" Sam Smith \",\" Royce Rizzy \",\" guardin \",\" moow \",\" Connor Spiotto \",\" Don Diablo \",\" Tourist \",\" Kali Uchis \",\" La Arrolladora Banda El Lim\\u00f3n De Rene Camacho \",\" Twin Shadow \",\" Raymix \",\" Jessie Reyez \",\" 6LACK \",\" Mike Williams \",\" Justin Stone \",\" mike  \",\" Seth Ennis \",\" Bad Wolves \",\" A L E X \",\" Said the Sky \",\" Rufi O \",\" Foster The People \",\" Phora \",\" Jack Harlow \",\" Rauw Alejandro \",\" Berner \",\" Kash Doll \",\" Iamjakehill \",\" Loote \",\" Vampire Weekend \",\" SHAED \",\" Flovry \",\" Natti Natasha \",\" Vicente Gomez \",\" Vasilis Tsitsanis \",\" Antonio Vivaldi \",\" Vanmala \",\" Pearl Bailey \",\" Usha Khanna \",\" Freny Shroff \",\" Supriti Ghosh \",\" Tonis Maroudas \",\" Smt  Vishnilal \",\" Attila the Hun \",\" Gewandhausorchester Leipzig \",\" Francesco Durante \",\" Bamberger Sinfoniker \",\" Masonquo player from Gura Valley\",\" David Velasquez \",\" The Delta \",\" T  S  Bhagavathi \",\" Pittapuram \",\" Leonard Stanton Jefferies \",\" Helen Forrest \",\" Liberace \",\" Jikki \",\" Art Farmer Quintet \",\" Andr\\u00e9 Previn \",\" Sydney Chaplin \",\" The Count Basie Sextet \",\" Sonny Rollins Quartet \",\" Leslie Caron \",\" Patricia Neway \",\" Diahann Carroll \",\" Zoot Sims \",\" Goiano \",\" Marilyn Monroe \",\" Henry Carey \",\" Louise B\\u00e9gu\\u00e9 \",\" Columbia Studio Orchestra \",\" Sonia Lopez \",\" Armando Sciascia Orchestra \",\" Gunild Keetman \",\" Charles Lloyd \",\" Los Hispanos \",\" Kaleidoscope \",\" Boris Gardiner \",\" Derek   The Dominos \",\" Erasmo Carlos \",\" The Montclairs \",\" Leo\\u0161 Jan\\u00e1\\u010dek \",\" Roger Glover \",\" Delaney   Bonnie \",\" Big Bird \",\" Jon Anderson \",\" Jerry Reed \",\" Efraim Shamir \",\" Pharoah Sanders \",\" Daniel Balavoine \",\" Toninho Horta \",\" Conjunto Clasico   Tito Nieves \",\" Jimmy Riley \",\" Leo Jaime \",\" Bob Hurd \",\" Roger Miller \",\" Megadeth \",\" Willie Hutch \",\" David Grant \",\" Sandy Lam \",\" Racer X \",\" Eddie Rabbitt \",\" Charlie Parker \",\" Gizelle D Cole \",\" Dick Hyman \",\" Rodney Crowell \",\" Felicia Sanders \",\" Johann Strauss I \",\" The Blow Monkeys \",\" Classics IV \",\" Alessandro Marcello \",\" Mietta \",\" David Bowie \",\" Anton Arensky \",\" Public Enemy \",\" Natural Selection \",\" Ron Kenoly \",\" \\u6e6f\\u5bf6\\u5982 \",\" Burke Moses \",\" 3T \",\" Travis Tritt \",\" Rev  Clay Evans \",\" Mano \",\" UGK \",\" B Legit \",\" Johnny Gill \",\" Barrington Levy \",\" Talk Talk \",\" Christina Aguilera \",\" Z Ro \",\" Jatin Lalit \",\" Kankick \",\" Rasheeda \",\" No Doubt \",\" Johnny Ace \",\" V  Duke \",\" Phyllis Dillon \",\" Youssou N Dour \",\" Matthew Hall \",\" Bohagon \",\" DJ Casper \",\" Cast   The Nightmare Before Christmas \",\" Fergie \",\" Bonobo \",\" Jai Uttal \",\" Dyablo \",\" Groove Armada \",\" Daughtry \",\" Yuridia \",\" Pickin  On Series \",\" Enur \",\" Otis Taylor \",\" Brad Paisley \",\" South Park Mexican \",\" Mandy Gonzalez \",\" Clipse \",\" Na auao\",\" SEGA SOUND TEAM \",\" Quantic \",\" Diddy   Dirty Money \",\" Stromae \",\" Keith Jarrett \",\" Weezer \",\" Hot Chelle Rae \",\" Josef  J7  Lord \",\" LMFAO \",\" Taio Cruz \",\" Goodwill \",\" Liberaci\\u00f3n \",\" Breaking Benjamin \",\" Jenni Rivera \",\" Jamie Berry \",\" Asaf Avidan   the Mojos \",\" MOD SUN \",\" New Years Day \",\" Sevyn Streeter \",\" Edith M\\u00e1rquez \",\" Tech N9ne Collabos \",\" CAZZETTE \",\" Aleks Syntek \",\" Rittz \",\" Manic Focus \",\" King Lil G \",\" Hermitude \",\" Just A Gent \",\" Jerrod Niemann \",\" Boyce Avenue \",\" Jos\\u00e9 Maria Napole\\u00f3n \",\" Sublime With Rome \",\" Kill The Noise \",\" 4B \",\" Audien \",\" Z \",\" Dzeko   Torres \",\" Ship Wrek \",\" Mndsgn \",\" FM 84 \",\" JT Music \",\" AronChupa \",\" Kamiyada  \",\" Hamilton Leithauser \",\" Jacob Tillberg \",\" Michael Bubl\\u00e9 \",\" DJ Snake \",\" Rex Orange County \",\" Maxo Kream \",\" Crowder \",\" Offset \",\" Shiki TMNS \",\" Katy Perry \",\" Electric Guest \",\" Fifth Harmony \",\" Yung Bleu \",\" NoCap \",\" The Gregory Brothers \",\" Sabrina Claudio vs  \",\" Noah Kahan \",\" Quando Rondo \",\" Zach Callison \",\" Ashnikko \",\" YBN Nahmir \",\" Myke Towers \",\" Eladio Carrion \",\" Saweetie \",\" Martin Garrix \",\" Mereba \",\" Bring Me The Horizon \",\" Casey Donahew \",\" 5 Seconds of Summer \",\" Juanes \",\" Ro James \",\" The Killers \",\" Maes \",\" Lucky Daye \",\" \\u0391\\u03bd\\u03c4\\u03ce\\u03bd\\u03b7\\u03c2 \\u039d\\u03c4\\u03b1\\u03bb\\u03b3\\u03ba\\u03ac\\u03c2 \",\" Hlias Litos Klarino \",\" Leela Chitnis \",\" Kakia Mendri \",\" Mo  Tortora \",\" Ferdinand Ries \",\" Silvia De Grasse \",\" Jes\\u00fas De Monasterio \",\" G  N  Balasubramaniam \",\" Ken Watanabe \",\" K C Dey \",\" Louis Spohr \",\" Satya Chowdhury \",\" Premlata Naik \",\" Ma\\u00edri Zan\\u00e9t \",\" Athanasios Eugenikos \",\" Blaise Cendrars \",\" Chicago Symphony Orchestra \",\" Veneise Macelise \",\" \\u0394\\u03b7\\u03bc\\u03ae\\u03c4\\u03c1\\u03b7\\u03c2 \\u03a1\\u03bf\\u03c5\\u03bc\\u03b5\\u03bb\\u03b9\\u03ce\\u03c4\\u03b7\\u03c2 \",\" Moti \",\" Josef Toman \",\" Laurel Shelby \",\" H\\u00fcnkar \",\" Robert Emmett \",\" Joan Roberts \",\" Padu del Caribe\",\" Dionys Mascolo \",\" Arrigo Boito \",\" Andrea Gabrieli \",\" Bela Mukherjee \",\" Bhupen Hazarika \",\" Francisco  Charro  Avitia \",\" Javier Sol\\u00eds \",\" Taylor Holmes \",\" Donald Byrd \",\" Aunt Molly Jackson \",\" Perry Como \",\" Julio Sagreras \",\" Heeresmusikkorps 9 \",\" Hank Locklin \",\" Juilliard String Quartet \",\" Alanalda \",\" Victor Garber \",\" Diana Ross \",\" Ismael Miranda \",\" Katie Hanley \",\" \\u0411\\u043e\\u043b\\u044c\\u0448\\u043e\\u0439 \\u0434\\u0435\\u0442\\u0441\\u043a\\u0438\\u0439 \\u0445\\u043e\\u0440 \\u0426\\u0435\\u043d\\u0442\\u0440\\u0430\\u043b\\u044c\\u043d\\u043e\\u0433\\u043e \\u0442\\u0435\\u043b\\u0435\\u0432\\u0438\\u0434\\u0435\\u043d\\u0438\\u044f \\u0438 \\u0412\\u0441\\u0435\\u0441\\u043e\\u044e\\u0437\\u043d\\u043e\\u0433\\u043e \\u0440\\u0430\\u0434\\u0438\\u043e \",\" Crazy Cavan \",\" Larry Clinton \",\" Agust\\u00edn Barrios Mangor\\u00e9 \",\" Cheech And Chong with Alice Bowie \",\" Fritz Kreisler \",\" Ernie \",\" Tita Merello \",\" Teddy Pendergrass \",\" Georg Philipp Telemann \",\" Janice Kapp Perry \",\" Noel Hill \",\" Run D M C  \",\" Larry Carlton \",\" Chyi Yu \",\" Sally Yeh \",\" Jeff Hamlin \",\" Thomas Tallis \",\" Willy Chirino \",\" Melvin Williams \",\" Vince Gill \",\" Johnny Otis \",\" Zucchero \",\" Steve Reich \",\" Charles Valentin Alkan \",\" Cyril Ritchard \",\" Mort Garson \",\" Trem Da Alegria \",\" Doug Williams \",\" Lennie Niehaus \",\" Ricardo Arjona \",\" Lidell Townsell \",\" Gangsta Pat \",\" George Thorogood   The Destroyers \",\" Mad CJ Mac \",\" The Pharcyde \",\" Eddie Van Halen \",\" Lionel Hampton \",\" Richie Rich \",\" Frank Churchill \",\" Kenny Wayne Shepherd \",\" Steve Wariner \",\" C Murder \",\" George Michael \",\" A Tribe Called Quest \",\" Aim \",\" Blaque \",\" Daphne Rubin Vega \",\" Doc Watson \",\" UB40 \",\" Ren\\u00e9e Zellweger \",\" Zutty Singleton \",\" Jonathan Butler \",\" Fernando Ortega \",\" Chuck Willis \",\" The Last Mr  Bigg \",\" Basement Jaxx \",\" Finley Quaye \",\" H\\u00e9ctor  El Father  \",\" Lita Ford \",\" Todd Rundgren \",\" Talib Kweli \",\" Nino Brown \",\" Danger Doom \",\" DHT \",\" Andrea Bocelli \",\" Federico Mompou \",\" Yung Berg \",\" Grupo Exterminador \",\" Jim Sturgess \",\" Amy Beach \",\" Franco  El Gorilla  \",\" Bobby V  \",\" Leessang \",\" Charlie Wilson \",\" Claudio Moran \",\" Shankar Mahadevan \",\" Alex\",\" Robin Guthrie \",\" Marcelo D2 \",\" The Green \",\" Nova y Jory \",\" Yelawolf \",\" The Airborne Toxic Event \",\" Diggy \",\" Gareth Emery \",\" J Capri \",\" Lil Reese \",\" Kimie  \",\" Jason Isbell \",\" Cage The Elephant \",\" Bobby Shmurda \",\" Mandingo \",\" Jake Miller \",\" Jidenna \",\" Defqwop \",\" NEIKED \",\" Chipmusic Heroes \",\" Sabrina Carpenter \",\" Mag Lo \",\" Kid Quill \",\" Phosphorescent \",\" Yung Bae \",\" Jon Bellion \",\" C  Tangana \",\" BAYNK \",\" Tim Legend \",\" Ivan B \",\" A R I Z O N A \",\" Kendall Miles \",\" Ms Nina \",\" cucu \",\" Tay K \",\" Tinlicker \",\" Thundercat \",\" Hosier \",\" AzChike \",\" Charli XCX \",\" Ben Platt \",\" Boombox Cartel \",\" NoMBe \",\" Keith Urban \",\" Shawn Mendes \",\" Jillian Jacqueline \",\" Buddy \",\" Molina \",\" iann dior \",\" Ann Marie \",\" Mau y Ricky \",\" Snoh Aalegra \",\" Sophia Anne Caruso \",\" Romeo Santos \",\" Residente \",\" DVBBS \",\" Reykon \",\" Alec Benjamin \",\" Quin Nfn \",\" Sn\\u00f8w \",\" SHY Martin \",\" G Herbo \",\" Sheff G \",\" Don Toliver \",\" Oliver Heldens \",\" Sech \",\" John McCormack \",\" Ermanno Wolf Ferrari \",\" Ildebrando Pizzetti \",\" Bessie Smith \",\" Bertha  Chippie  Hill \",\" Hociel Thomas \",\" Paul Whiteman   His Orchestra \",\" Jean Goldkette and his Orchestra \",\" Bix Beiderbecke \",\" Hoagy Carmichael   His Orchestra \",\" Bix Beiderbecke And His Orchestra \",\" Paul Whiteman   His Concert Orchestra \",\" The Chenille Sisters \",\" Jelly Roll Morton \",\" Louis Armstrong   His Hot Seven \",\" Fats Waller\",\" Jimmie Rodgers \",\" Frankie Trumbauer   His Orchestra \",\" Benny Meroff   His Orchestra \",\" Bill  Bojangles  Robinson \",\" Baron Lee \",\" Orchestre Piero Coppola \",\" Benny Goodman \",\" Benny Goodman Sextet \",\" John Raitt \",\" Roaring Lion \",\" George Symonette \",\" Jack Teagarden \",\" Francisco Alves \",\" Jack Payne \",\" Henry Hall \",\" Frankie Carle \",\" Isham Jones   His Orchestra \",\" Teddy Wilson \",\" Richard Himber and his Orchestra \",\" Ernst H  Gombrich \",\" Glenn Miller \",\" Jack Haley \",\" Ken Darby \",\" Dick Haymes \",\" Billie Burke \",\" The Debutantes \",\" Lead Belly \",\" Adolph Green \",\" Rise Stevens \",\" Johannes Heesters \",\" Sumati Trilokekar \",\" Alfred Drake \",\" Celeste Holm \",\" Joseph Buloff \",\" Leela Pawar \",\" Mickey Rooney \",\" Buddy Clark \",\" Dinah Shore \",\" Arthur Freed \",\" The MGM Studio Orchestra   The MGM Studio Chorus \",\" Unknown \",\" Ethel Merman \",\" Robert Lenn \",\" Ray Middleton \",\" Neilson Taylor \",\" Dr  Samuel J  Hoffman \",\" Andrea McArdle \",\" William Warfield \",\" Richard Beavers \",\" Ouija Macc \",\" Zsa Zsa Padilla \",\" Fats Navarro \",\" Kathryn Grayson \",\" Stan Kenton   His Orchestra \",\" Sonny Rollins \",\" Richard Kiley \",\" Robert Preston \",\" Bill Lee \",\" Charmian Carr \",\" Thin Lizzy \",\" Carly Simon \",\" John Travolta \",\" David Frizzell \",\" Tears For Fears \",\" Heart \",\" Dan Seals \",\" Bill Medley \",\" Cher \",\" Roxette \",\" Marky Mark And The Funky Bunch \",\" Lea Salonga \",\" Los Yonic s \",\" Carmen Twillie \",\" Big Mountain \",\" Pretenders \",\" Ini Kamoze \",\" Soul For Real \",\" Tony  Toni  Ton\\u00e9  \",\" Pancho Barraza \",\" Ms  Lauryn Hill \",\" Case \",\" The Soggy Bottom Boys \",\" Sammie \",\" Jagged Edge \",\" Mark Keali i Ho omalu \",\" Grits \",\" Gary Jules \",\" Seether \",\" Nina Sky \",\" Crime Mob \",\" Tamia \",\" Nelly Furtado \",\" Jordin Sparks \",\" The Cinematic Orchestra \",\" Michael Franti   Spearhead \",\" Bon Iver \",\" Cobra Starship \",\" Jenifer Lewis \",\" Sounds Of Nature   Thunderstorm\",\" Travie McCoy \",\" Mandy Moore \",\" My Darkest Days \",\" Gotye \",\" Gym Class Heroes \",\" The Script \",\" Frank Ocean \",\" Kristen Bell \",\" We The Kings \",\" Roy Woods \",\" Wes Walker \",\" gnash \",\" DRAM \",\" Peachy  \",\" H E R  \",\" Social House \",\" Kina \",\" Juice WRLD \",\" Metro Boomin \",\" Morgan Wallen \",\" SAINt JHN \",\" BENEE \",\" Surf Mesa \",\" JP Saxe \",\" Polo G \",\" Wallows \",\" Topic \",\" Y2K \",\" Lil Mosey \",\" Luke Combs \",\" benny blanco \",\" Lil Nas X \",\" Lil Tecca \",\" ROSAL\\u00cdA \",\" Carly Pearce \",\" Jules Massenet \",\" Qatar Concert Choir \",\" Eug\\u00e9nie Buffet \",\" Jones Smith\",\" Jelly Roll Morton   His Red Hot Peppers \",\" Why Not \",\" Paul Bridgwater \",\" Fay De Witt \",\" Joaqu\\u00edn Turina \",\" Andr\\u00e9 Filho \",\" Conjunto Gilberto Rojas \",\" Pills \",\" Bunny Berigan \",\" Daniel Roberts \",\" \\u0392\\u03b1\\u03c3\\u03af\\u03bb\\u03b7\\u03c2 \\u039c\\u03b5\\u03c3\\u03bf\\u03bb\\u03bf\\u03b3\\u03b3\\u03af\\u03c4\\u03b7\\u03c2 \",\" Ruth Gaylor \",\" Mark Gamble \",\" Jimmy Rushing \",\" Padmadevi \",\" Jose Prats Sirera \",\" Dwijen Mukherjee \",\" Ishwarlal \",\" Jean Moscopol \",\" R  A  Dvorsk\\u00fd \",\" Sierra Nelson \",\" Buddy Ebsen \",\" Harold Arlen \",\" Johnny Hodges   His Orchestra \",\" Francois Campion \",\" Snehprabha Pradhan \",\" Ibrahim \\u00d6zg\\u00fcr \",\" Miss Kamala \",\" Vasanti \",\" Satish \",\" Munir Alam \",\" Ramola \",\" Arun Kumar \",\" Sitara \",\" Veena \",\" Mehtab \",\" Kaushalya \",\" M V  Rajamma \",\" Motilal \",\" Arnold Bax \",\" Carolina Cardoso de Menezes \",\" Malti \",\" Manorama \",\" Pahari Sanyal \",\" Vijay \",\" Rewa Shankar \",\" T Giacobetti \",\" Vicente Celestino \",\" Earl Grant \",\" S  D  Burman \",\" Finian s Rainbow Orchestra \",\" Lon Hoyt \",\" Donald Richards \",\" David Brooks \",\" Prakash \",\" Cesare Andrea Bixio \",\" Mitch Miller \",\" Stan Kenton \",\" Dock Reed \",\" Chubby Jackson Big Band \",\" The Carter Sisters \",\" Mother Maybelle \",\" Ann Miller \",\" James Whitmore \",\" Frantz Casseus \",\" Ben Wright \",\" Roy Eldridge \",\" Adolph Deutsch \",\" The Song Swappers \",\" Pete Seeger \",\" Iggie Wolfington \",\" The Buffalo Bills \",\" Eddie Hodges \",\" Etta James \",\" Jim   Jesse \",\" Julie Andrews \",\" Thurl Ravenscroft \",\" Hamilton\",\" Steve Harley \",\" Max Romeo \",\" Samantha Sang \",\" Kenny Loggins \",\" Neil Diamond \",\" Fozzie \",\" Patti Austin \",\" James Taylor \",\" James Ingram \",\" Scandal \",\" Peter Cetera \",\" The Communards \",\" Ready For The World \",\" Rick Astley \",\" Rush \",\" Mily Balakirev \",\" Suzanne Vega \",\" MC Breed \",\" Shai \",\" Chaka Demus   Pliers \",\" White Zombie \",\" Tevin Campbell \",\" Lil  Kim \",\" Lil Keke \",\" Glenn Close \",\" Joe Cocker \",\" Slick Rick \",\" Limp Bizkit \",\" Gillian Welch \",\" Los Originales De San Juan \",\" Erykah Badu \",\" Lupillo Rivera \",\" Tweet \",\" DJ Sammy \",\" David Banner \",\" Frankie Lymon \",\" Rehab \",\" Big Boy \",\" Young Dro \",\" Keyshia Cole \",\" Monchy   Alexandra \",\" Sharpay Evans \",\" CHAD \",\" Kardinal Offishall \",\" Tony Dize \",\" Dominic Cooper \",\" Savage \",\" Carlos Baute \",\" Maino \",\" Miley Cyrus \",\" Boys Like Girls \",\" Yeah Yeah Yeahs \",\" 3OH 3 \",\" Bad Meets Evil \",\" Eiffel 65 \",\" Jessie J \",\" Panic  At The Disco \",\" Icona Pop \",\" Set It Off \",\" August Alsina \",\" What So Not \",\" Cast   Sofia the First \",\" Mr  Probz \",\" Tove Lo \",\" Tinashe \",\" Timmy Trumpet \",\" Chase Rice \",\" Ren\\u00e9e Elise Goldsberry \",\" Jonathan Groff \",\" Kamaiyah \",\" Whethan \",\" Eric Bellinger \",\" Swell \",\" Taylor Ray Holbrook \",\" Kungs \",\" A$AP Mob \",\" Starley \",\" Opetaia Foa i \",\" Tyler Childers \",\" AJR \",\" BlocBoy JB \",\" Bazzi \",\" Joji \",\" Parmalee \",\" Maren Morris \",\" Bankrol Hayden \",\" Mitchell Tenpenny \",\" Lauv \",\" Jhay Cortez \",\" Tyla Yaweh \",\" Hans Pfitzner \",\" Ruby Smith \",\" Dj Phuta \",\" Amy Woodforde Finden \",\" Dj Shungi \",\" Las Kantutas \",\" Rita Abatzi \",\" Los Indios \",\" Westcoast Miners \",\" The Boswell Sisters \",\" Mad Dog \",\" Evaristo Fl\\u00f3rez \",\" Maya Banerjee \",\" F  Ferrandiere \",\" Paraguassu \",\" White Star \",\" The Four Lads \",\" Kantilal \",\" Apostolos Xatzixristos \",\" P\\u00e1nfilo de Narv\\u00e1ez \",\" \\u0393\\u03b9\\u03b1\\u03bd\\u03bd\\u03ac\\u03ba\\u03b7\\u03c2 \\u0399\\u03c9\\u03b1\\u03bd\\u03bd\\u03af\\u03b4\\u03b7\\u03c2 \",\" Mumtaz \",\" V  Ramakrishna \",\" Sadhana Sargam \",\" Brijmala \",\" Gyan Dutt \",\" Bijaya Das \",\" Leela Sawant \",\" Bhola \",\" John Dowland \",\" Zohrabai Ambalewali \",\" Yaksh \",\" Suman Kalyanpur \",\" Binapani Mukherjee \",\" Joseph Kosma \",\" Shabnam \",\" Sushil Sahu \",\" Y K Muddukrishna \",\" DJ Fil \",\" Lasse Bohlin \",\" Georges Van Parys \",\" \\u0394\\u03b7\\u03bc\\u03ae\\u03c4\\u03c1\\u03b7\\u03c2 \\u039c\\u03c0\\u03b5\\u03bd\\u03ad\\u03c4\\u03bf\\u03c2 \",\" Shyamal Mitra \",\" Pankaj Mullick \",\" P\\u00e9rez Prado \",\" Beny Mor\\u00e9 \",\" Stuart Hamblen \",\" Lani Misalucha \",\" Oscar Levant \",\" Carl Smith \",\" Howard Keel \",\" Hal Hackett \",\" Lilo \",\" Kismet Ensemble \",\" Gwen Verdon \",\" Stanley Holloway \",\" My Fair Lady Orchestra \",\" Mary Costa \",\" New York Philharmonic \",\" William Walton \",\" K  S  Chithra \",\" Harish Raghavendra \",\" Dick Van Dyke \",\" Dan Truhitte \",\" Jo\\u00e3o Gilberto \",\" Steve Lawrence \",\" G\\u00e1bor Szab\\u00f3 \",\" Tommy Boyce \",\" Dexter Gordon \",\" Donovan \",\" Alice Coltrane \",\" Eric Weissberg \",\" MFSB \",\" Susan Sarandon \",\" Lynyrd Skynyrd \",\" Little Feat \",\" Marilyn McCoo \",\" Slave \",\" Mi\\u00facha \",\" Camilo Sesto \",\" Vaughan Mason \",\" Pimpinela \",\" The Latin Brothers \",\" Pet Shop Boys \",\" World Party \",\" Toquinho \",\" Branford Marsalis Quartet \",\" Mykola Dmytrovych Leontovych \",\" Patty Smyth \",\" Fugees \",\" Soul II Soul \",\" Jesse Powell \",\" Dru Hill \",\" Garth Brooks \",\" Ofra Haza \",\" Ralph Fiennes \",\" M\\u00fda \",\" Avant \",\" Jo Dee Messina \",\" Barbara Mandrell \",\" Clint Black \",\" Blu Cantrell \",\" T\\u00e9l\\u00e9popmusik \",\" KeKe Wyatt \",\" Citizen Cope \",\" Frankie J \",\" Chad Kroeger \",\" NB Ridaz \",\" Franco De Vita \",\" Jes\\u00fas Adri\\u00e1n Romero \",\" Shooter Jennings \",\" Bon Jovi \",\" Baby Boy Da Prince \",\" Paula DeAnda \",\" Field Mob \",\" Troy \",\" Zac Efron \",\" Glen Hansard \",\" Rich Boy \",\" Blue Foundation \",\" Jesse McCartney \",\" Natasha Bedingfield \",\" Colby O Donis \",\" Christopher Wilde \",\" Lloyd Banks \",\" Breakbot \",\" Lykke Li \",\" Lil Wyte \",\" Big Data \",\" Maia Wilson \",\" ILOVEMAKONNEN \",\" Naughty Boy \",\" Phillipa Soo \",\" Chris Young \",\" Leslie Odom Jr  \",\" NEEDTOBREATHE \",\" Action Bronson \",\" Belly \",\" Toni Romiti \",\" FRENSHIP \",\" Cole Swindell \",\" Macklemore \",\" Jeremy Zucker \",\" Famous Dex \",\" Charlie Heat \",\" Hugh Jackman \",\" Chris Lane \",\" Clairo \",\" Madison Beer \",\" Pedro Cap\\u00f3 \",\" Jordan Davis \",\" Flipp Dinero \",\" AJ Mitchell \",\" Otto Reutter \",\" Georgi Mittaki \",\" Luis Zamudio \",\" Silvana Foresi \",\" \\u0399 \\u039a\\u03c9\\u03bd\\u03c3\\u03c4\\u03b1\\u03bd\\u03c4\\u03b9\\u03bd\\u03af\\u03b4\\u03b7\\u03c2 \",\" Jean Sablon \",\" Rena Stamou \",\" \\u03a3\\u03c4\\u03ad\\u03bb\\u03b9\\u03bf\\u03c2 \\u039a\\u03b5\\u03c1\\u03bf\\u03bc\\u03cd\\u03c4\\u03b7\\u03c2 \",\" Rena Dallia \",\" Antonio Morel \",\" Lee Wiley \",\" Mumtaz Ali \",\" Tex Beneke \",\" Erskine Hawkins   His Orchestra \",\" Gaspar Sanz \",\" Meenakshi \",\" Surendranath \",\" Roy Webb \",\" Khursheed \",\" Jyoti \",\" Iqbal Bibi \",\" Lakshmi Bai \",\" Devika Rani \",\" Juan Parga \",\" Domenico Cimarosa \",\" Veena Kumari \",\" Ernani Braga \",\" Zeenat Begum \",\" Miguel Llobet Sol\\u00e9s \",\" Public Domain \",\" Avinash Vyas \",\" Virgil Thomson \",\" Shankar \",\" Jan Ladislav Dussek \",\" Binota Roy \",\" Jacques Offenbach \",\" Usha Ganesh \",\" Shamshed Begum \",\" Paro \",\" Antonio Caldara \",\" Georges Gu\\u00e9tary \",\" Marge Champion \",\" Kay Starr \",\" Charlie Chaplin \",\" June Carter Cash \",\" Gerry Mulligan Quartet \",\" Blackbirds of 1928 Ensemble  1953  \",\" Henry Calvin \",\" Rae Allen \",\" Shannon Bolin \",\" Raul Garces \",\" Lefty Frizzell \",\" Hoagy Carmichael \",\" Lula Queiroga \",\" Pinchas Zukerman \",\" Charles Zimmerman \",\" Abhishek Bachchan \",\" Bobby Rydell \",\" Count Lasher \",\" Tom Scott \",\" Chuck Berry \",\" Michael Nesmith \",\" David Cassidy \",\" Kiki Dee \",\" M \",\" Andy Gibb \",\" Ebo Taylor \",\" Meat Loaf \",\" Yo Yo Ma \",\" Blancmange \",\" Stevie Ray Vaughan \",\" a ha \",\" Chorus   Beauty And the Beast \",\" Gerald Levert \",\" Anthrax \",\" Jesse Corti \",\" Karla Bonoff \",\" Randy Newman \",\" Aaron Lohr \",\" Heidi Mollenhauer \",\" Sidney Bechet \",\" Kashif \",\" Michelle Pfeiffer \",\" Faith Hill \",\" Unlike Pluto \",\" Harold Faltermeyer \",\" The Offspring \",\" Mary Mary \",\" George Strait \",\" PJ Harvey \",\" Spongebob Squarepants \",\" Erick Sermon \",\" Billy Crystal \",\" Jimmy Eat World \",\" Ewan McGregor \",\" Pastor Troy \",\" Lil  Mo \",\" Obie Trice \",\" Murphy Lee \",\" Fantasia \",\" D12 \",\" Memphis Bleek \",\" ALO \",\" Ryan \",\" Chadwick Stokes \",\" Playa Circle \",\" Julie Walters \",\" Christine Baranski \",\" High School Musical Cast \",\" Pierce Brosnan \",\" New Boyz \",\" Ester Dean \",\" Trillville \",\" SOJA \",\" Rascal Flatts \",\" Garrett Hedlund \",\" Elizabeth Mitchell \",\" J Boog \",\" Tyler James Williams \",\" Mayday Parade \",\" Five Finger Death Punch \",\" Flame \",\" Tristam \",\" Labrinth \",\" Lilly Wood and The Prick \",\" Natalie La Rose \",\" Seekae \",\" WILLOW \",\" R  City \",\" The Internet \",\" Troy Ave \",\" Rachel House \",\" NGHTMRE \",\" Christian French \",\" Sam Tinnesz \",\" YFN Lucci \",\" prxz \",\" Teqkoi \",\" Adriel Favela \",\" Quavo \",\" BLIND SEE \",\" JACKBOYS \",\" Feid \",\" 03 Greedo \",\" Mahalia \",\" IU \",\" Stunna 4 Vegas \",\" Curtis Waters \",\" Young Lil Sunscreen \",\" Jack Dabdoub \",\" Show Boat Orchestra  1962  \",\" Rutland Boughton \",\" Enrique Enrique Granados \",\" Lira Incaica \",\" Gerald Clark and The Calypso Orchestra \",\" Paradosiako \",\" Giorgos Nakos \",\" Arturo Sobenes \",\" Red Norvo   His Orchestra \",\" Charpini \",\" Gilles \",\" \\u039c\\u03b1\\u03c1\\u03af\\u03b1 \\u0391\\u03bd\\u03b4\\u03c1\\u03bf\\u03bd\\u03af\\u03ba\\u03bf\\u03c5 \",\" Manole Stroici \",\" Husn Banu \",\" Howard Shelly \",\" Lallubhai Naik \",\" Umashashi \",\" Vladimir Bobri \",\" Tripuramba \",\" Rathindra Ghosh \",\" Jack Teagarden   His Band \",\" William Kroll \",\" Joseph Koziel \",\" Rahmat Bano \",\" Shobhana Samarth \",\" \\u0391\\u03bd\\u03b4\\u03c1\\u03b9\\u03ba\\u03ae \\u03a7\\u03bf\\u03c1\\u03c9\\u03b4\\u03af\\u03b1 \\u03c4\\u03bf\\u03c5 \\u0398\\u03b9\\u03ac\\u03c3\\u03bf\\u03c5 \\u03a0\\u03b1\\u03bd\\u03c4\\u03bf\\u03c0\\u03bf\\u03cd\\u03bb\\u03bf\\u03c5 \",\" Kantina 27 \",\" Kusum Joshi \",\" Jack McCauley \",\" Naina \",\" M  N  Ghosh \",\" Krishnaveni \",\" Pierre Perrin \",\" Malati Pande \",\" Jean Marion \",\" Jack Carson \",\" Morton Gould \",\" Amir Khan \",\" Moises Vivanco \",\" Billy Butterfield \",\" Robert Shafer \",\" Lad Richards Orchestra \",\" Geraldo Pereira \",\" Silvio Caldas \",\" Unnikrishnan \",\" Lee  Scratch  Perry \",\" Creedence Clearwater Revival \",\" Bobby Cruz \",\" Cindy Bullens \",\" The Spinners \",\" Orchestra Baobab \",\" Stacy Lattisaw \",\" Keith Whitley \",\" Stanley Myers \",\" Prefab Sprout \",\" The Style Council \",\" New Order \",\" Dead Or Alive \",\" Cindy Benson \",\" Jennifer Warnes \",\" Frankie Knuckles \",\" The Crusaders \",\" Earl Thomas Conley \",\" The Replacements \",\" Al Bowlly \",\" The Commitments \",\" Cheo Feliciano \",\" Smokey Robinson \",\" John Mellencamp \",\" Massive Attack \",\" Vico C \",\" Everything But The Girl \",\" Selena \",\" David Ogden Stiers \",\" Jon B  \",\" Garbage \",\" H Town \",\" Roz Ryan \",\" Five \",\" Amick Byram \",\" The Corrs \",\" Arvo P\\u00e4rt \",\" Suzi Quatro \",\" Daniel Bedingfield \",\" Phil Oakey \",\" Kent Blazy \",\" Julieta Venegas \",\" Ramon Ayala \",\" Miranda Cosgrove \",\" Meryl Streep \",\"  In The Heights  Original Broadway Company \",\" The Chordettes \",\" Jim Cummings \",\" Sean Kingston \",\" Anna Margaret \",\" Verse Simmonds \",\" David Nail \",\" Hunter Hayes \",\" Tonight Alive \",\" Tito Y Su Torbellino \",\" Richard Armitage \",\" Train \",\" Dillon Francis \",\" TOKiMONSTA \",\" Mila J \",\" Ocean Sounds \",\" O T  Genasis \",\" Tyler Farr \",\" Mike Perry \",\" Hailee Steinfeld \",\" Fat Nick \",\" mansionz \",\" Sabrina Claudio \",\" Anthony Gonzalez \",\" Pouya \",\" Blackway \",\" City Girls \",\" David Lee Murphy \",\" Still Woozy \",\" Dynoro \",\" Dominic Fike \",\" MEDUZA \",\" Martin Jensen \",\" Piso 21 \",\" MASN \",\" Dr  Sus \",\" Surfaces \",\" Dua Lipa \",\" Saadettin Kaynak \",\" \\u0396\\u03b1\\u03c7\\u03b1\\u03c1\\u03af\\u03b1\\u03c2 \\u039a\\u03b1\\u03c3\\u03b9\\u03bc\\u03ac\\u03c4\\u03b7\\u03c2 \",\" Johann Jakob Froberger \",\" Los Yumbos \",\" \\u039a\\u03ce\\u03c3\\u03c4\\u03b1\\u03c2 \\u03a0\\u03bf\\u03bb\\u03af\\u03c4\\u03b7\\u03c2 \",\" \\u0394\\u03b7\\u03bc\\u03ae\\u03c4\\u03c1\\u03b7\\u03c2 \\u03a0\\u03b5\\u03c1\\u03b4\\u03b9\\u03ba\\u03cc\\u03c0\\u03bf\\u03c5\\u03bb\\u03bf\\u03c2 \",\" Oliver Hardy \",\" Felix Knight \",\" Stan Laurel \",\" Frank Fox Tanzorchester \",\" Eugen Mirea \",\" Abbasuddin Ahmed \",\" Shanta Apte \",\" Mauro Giuliani \",\" Madeleine Carroll \",\" Alice Faye \",\" Dick Powell \",\" Mikl\\u00f3s R\\u00f3zsa \",\" Madhuri Mukherjee \",\" Max Steiner \",\" \\u03a3\\u03c4\\u03ad\\u03bb\\u03bb\\u03b1 \\u03a7\\u03b1\\u03c3\\u03ba\\u03ae\\u03bb \",\" John Reardon \",\" Dionisio Aguado \",\" Tanguturi Suryakumari \",\" C S R Anjaneyulu \",\" Rooprekha Chatterjee \",\" \\u039d\\u03af\\u03ba\\u03bf\\u03c2 \\u03a7\\u03b1\\u03bc\\u03c0\\u03ac\\u03c2 \\u03bc\\u03b5 \\u03c4\\u03b7 \\u03bc\\u03b1\\u03bd\\u03c4\\u03bf\\u03bb\\u03b9\\u03bd\\u03ac\\u03c4\\u03b1 \\u0399\\u03b5\\u03c1\\u03cc\\u03b8\\u03b5\\u03bf\\u03c5 \\u03a3\\u03c7\\u03af\\u03b6\\u03b1 \",\" Norman Span \",\" Valery Zhelobinsky \",\" Mumtaz Shanti \",\" M  K  Thyagaraja Bhagavathar \",\" Aarti Mukherji \",\" Jamuna \",\" Dennis Morgan \",\" Spike Jones Orchestra \",\" Spike Jones \",\" Eddie Cantor \",\" Adriana Chamorro \",\" Douglas Gamley \",\" Sridhar Parsekar \",\" Kusum Mantri \",\" E Y  Harburg \",\" Chunilal Pardesi \",\" Ramu \",\" Purnima Chatterjee \",\" \\u0393\\u03b9\\u03ac\\u03bd\\u03bd\\u03b7\\u03c2 \\u039c\\u03c0\\u03bf\\u03c5\\u03bb\\u03cc\\u03c4\\u03b1\\u03c2 \",\" Nargis \",\" Glynis Johns \",\" Mangala Narwekar \",\" Koula Nikolaidou \",\" Stella Haskil \",\" Wynton Kelly \",\" Vera Hall \",\" Ernest Chausson \",\" Stephen Douglass \",\" Cult priest with bell\",\" A  Merangulian \",\" Engelbert Humperdinck \",\" Matthias Kadar \",\" Premlata \",\" Lou Donaldson \",\" Art Blakey Quintet \",\" Johnny Mercer   The Pied Pipers \",\" Polly Bergen \",\" Maurice Evans \",\" Jean Shepard \",\" Amalia Mendoza \",\" Julie London \",\" Orquesta Harlow \",\" Keith Mansfield \",\" Julie Dawn Cole \",\" Jack Albertson \",\" Piero Piccioni \",\" Ana Bel\\u00e9n \",\" Gary Myrick   The Figures \",\" Blondie \",\" Dottie West \",\" The Paul Butterfield Blues Band \",\" Kalyanji Anandji \",\" Klymaxx \",\" The Jacksons \",\" Gloria Estefan And Miami Sound Machine \",\" Clannad \",\" Gary Moore \",\" Levi Stubbs \",\" Public Image Ltd  \",\" Terrence Mann \",\" Amy Irving \",\" Gipsy Kings \",\" Lou Reed \",\" Randy Travis \",\" Refugee Camp All Stars \",\" Chant\\u00e9 Moore \",\" Roy Orbison \",\" Luis Bonfa \",\" Take That \",\" Maurice Williams \",\" Blessid Union Of Souls \",\" Linda Hunt \",\" Az Yet \",\" UNKLE \",\" 98\\u00ba \",\" Bee Gees \",\" Hot Boys \",\" Paul Dukas \",\" City High \",\" La Ley \",\" Celso Pi\\u00f1a \",\" Busdriver \",\" Baby \",\" King Geedorah \",\" Joe \",\" Adina Howard \",\" De La Soul \",\" The Strokes \",\" Justice \",\" Tito  El Bambino  \",\" Easy Star All Stars \",\" Alex Gaudino \",\" Blu \",\" James Morrison \",\" Amanda Seyfried \",\" Diplomats of Solid Sound \",\" Gorilla Zoe \",\" Hannah Montana \",\" Zion I \",\" Dave Rawlings Machine \",\" Ben Cocks \",\" Tim Berg \",\" Crystal Castles \",\" Iyaz \",\" Thurston Harris \",\" Plan B \",\" Problem \",\" Smoke DZA \",\" Flying Lotus \",\" Adrian Marcel \",\" Azealia Banks \",\" Ryan Stevenson \",\" Luke Bryan \",\" Colter Wall \",\" Griffinilla \",\" Call Me Karizma \",\" PLVTINUM \",\" Dennis Kruissen \",\" Stwo \",\" itssvd \",\" Mounika  \",\" Alex Rose \",\" Skip Marley \",\" TOKYO\\u2019S REVENGE \",\" S1mba \",\" Kelsea Ballerini \",\" FLETCHER \",\" Dranem \",\" Buddy Moss \",\" Psycoprata \",\" Don Redman and His Orchestra \",\" Los Cambas \",\" Lionel Belasco And His Orchestra \",\" \\u039a\\u03ce\\u03c3\\u03c4\\u03b1\\u03c2 \\u039a\\u03b1\\u03c0\\u03bb\\u03ac\\u03bd\\u03b7\\u03c2 \",\" \\u0394 \\u039b\\u03af\\u03bd\\u03c4\\u03b1 \",\" Miss Angurbala \",\" Vishnupant Pagnis \",\" Henryk Wieniawski \",\" Gobinda Gopal Mukherjee \",\" Shankar Rao Vyas \",\" Ashok Kumar \",\" Albert Hammond \",\" Georg Hann \",\" \\u039c\\u03ac\\u03ba\\u03b7\\u03c2 \\u039a\\u03b1\\u03c1\\u03bd\\u03ad\\u03c1\\u03b7\\u03c2 \",\" Ernest Moret \",\" Shanta Hublikar \",\" Errol Flynn \",\" Bette Davis \",\" John Garfield \",\" Bharat Vyas \",\" Gulshan Sufi \",\" Luis de Milan \",\" Rani \",\" Masood Parvez \",\" Saleem Raza \",\" Male singers\",\" \\u03a3\\u03c4\\u03b1\\u03cd\\u03c1\\u03bf\\u03c2 \\u03a0\\u03bb\\u03ad\\u03c3\\u03c3\\u03b1\\u03c2 \",\" Marilyn Ross \",\" Hazel Flagg Orchestra \",\" Alexander Rybak \",\" Geraldo Azevedo \",\" Candido das Neves  Indio  \",\" Don Gardner \",\" Kai Winding \",\" Bill Shirley \",\" Burl Ives \",\" Carmela Y Rafael \",\" Bobbie Gentry \",\" Harold Melvin \",\" Steven Halpern \",\" Kermit \",\" \\u7b20\\u4e95 \\u7d00\\u7f8e\\u5b50 \",\" Berlin \",\" Silvio Rodr\\u00edguez \",\" Elaine Paige \",\" Trevor Jones \",\" Colm Wilkinson \",\" Ian Dury \",\" Teddy Riley \",\" Marty Stuart \",\" The Mavericks \",\" Bill Farmer \",\" Nana Mouskouri \",\" MC Lyte \",\" Antonio Aguilar \",\" Richard M  Sherman \",\" Steve Martin \",\" Harry Gregson Williams \",\" Mulgrew Miller \",\" Raphael Saadiq \",\" Slum Village \",\" Shankar Ehsaan Loy \",\" Celldweller \",\" Young Gunz \",\" Sleepy Brown \",\" Los Dinamiteros de Colombia \",\" The Noise \",\" Abel Zavala \",\" English Chamber Orchestra \",\" Vicente Fern\\u00e1ndez \",\" Aaron Lewis \",\" Kalimba \",\" Amy Adams \",\" Billy Ray Cyrus \",\" Koop \",\" MGMT \",\" Bombay Bicycle Club \",\" Ben Folds \",\" Candace \",\" Blackmill \",\" Korn \",\" Tamela Mann \",\" Maejor \",\" Fear\",\" Ed Helms \",\" Lifehouse \",\" Shane Smith   the Saints \",\" Ross Lynch \",\" Tegan and Sara \",\" Route 94 \",\" ZHU \",\" Ryan McCartan \",\" Vedo \",\" Shovels   Rope \",\" TheFatRat \",\" Ark Patrol \",\" TSUKI \",\" CHANYEOL \",\" EARTHGANG \",\" quickly\",\" Herencia de Patrones \",\" JID \",\" Sugarland \",\" Casting Crowns \",\" BROCKHAMPTON \",\" D Smoke \",\" All Time Low \",\" George Munro \",\" Tampa Red \",\" Blanche Calloway   Her Joy Boys \",\" Orquesta Tipica Boliviana \",\" Doll Dauber \",\" Jules Rubin \",\" Wahidan Bai \",\" Joan Ellison \",\" A  Likiardopoulou \",\" \\u041e\\u0422\\u0412\\u0410\\u041b \\u0411\\u0410WKN \",\" H Khan Mastana \",\" Ramdulari \",\" Jimmy Dorsey   His Orchestra \",\" Betty Grable \",\" Bando Da Luna \",\" Carole Landis \",\" M Cozzoli \",\" Michelangelo Rossi \",\" De Leone \",\" Nicholas \",\" H  Faruqi \",\" Dilshad Begum \",\" \\u00c9tienne Lorin \",\" Sailesh \",\" P  A  Periyanayaki \",\" Dost Mohommed \",\" Chandrakala \",\" Jose Padilla \",\" Vassilis Saleas \",\" Takis Binis \",\" Sakal \",\" Paco Aguilera \",\" Sulochana \",\" Shambukaw player from Gura Valley\",\" Hugo Wolf \",\" Tony Russo \",\" Sy Melano \",\" Nilo S\\u00e9rgio \",\" Avon Long \",\" Harrington Joseph Stafford\",\" Billy Butterfield And His Orchestra \",\" Thelonious Monk Septet \",\" Timmy \",\" The Gary McFarland Orchestra \",\" Lupe Mendoza \",\" The Upsetters \",\" Maddy Prior \",\" James Last \",\" Nazia Hassan \",\" The Oak Ridge Boys \",\" Al Johnson \",\" The Tubes \",\" Fun Boy Three \",\" Ray Lynch \",\" Mojo Nixon \",\" Shakatak \",\" Jos\\u00e9 Luis Perales \",\" Eric Tingstad \",\" Philip Glasser \",\" Michael Jones \",\" Sam Hui \",\" Levert \",\" Queen Latifah \",\" Black Box \",\" Rachelle Ferrell \",\" Jerry Butler \",\" Jossie Esteban \",\" Teenage Fanclub \",\" Reel 2 Real \",\" Patra \",\" Baduria\",\" Anita Baker \",\" Ray\",\" Charlton Heston \",\" Gina G \",\" Lil Sko \",\" Devin The Dude \",\" Lo Fidelity Allstars \",\" Candy Lo \",\" Sparkle \",\" Lootpack \",\" Clay Walker \",\" Reflection Eternal \",\" Xavier \",\" Pepe Tovar Y Los Chacales \",\" Olle Adolphson \",\" Robbie Williams \",\" Brotha Lynch Hung \",\" Pepe Tovar \",\" FC Kahuna \",\" Viktor Vaughn \",\" Hikaru Utada \",\" Freeway \",\" Norah Jones \",\" Chorus   Mulan \",\" Butterfly Boucher \",\" Antonio Banderas \",\" Trick Trick \",\" Jay Chou \",\" Wilson Jermaine Heredia \",\" Huey Lewis \",\" OJ Da Juiceman \",\" Endres Quartet \",\" YACHT \",\" Havana Brown \",\" Jeff Bernat \",\" Mandisa \",\" You Me At Six \",\" Chiddy Bang \",\" WZRD \",\" Florence   The Machine \",\" Clyde Carson \",\" Pablo Albor\\u00e1n \",\" Ricardo Montaner \",\" Julia Sheer \",\" Smallpools \",\" Armin van Buuren \",\" Aaron Krause \",\" Kavinsky \",\" Ryan Montbleau \",\" Pentatonix \",\" Kyla La Grange \",\" Zeds Dead \",\" OMI \",\" Pham \",\" Omar LinX \",\" Jacksepticeye \",\" Flatland Cavalry \",\" Getter \",\" V \",\" Verzache \",\" Koe Wetzel \",\" The Belonging Co \",\" Brett Young \",\" Pardison Fontaine \",\" Why Don t We \",\" James Bay \",\" Khruangbin \",\" Jasiah \",\" Jameson Rodgers \",\" Nea \",\" Ioannou Georgakopoulou \",\" \\u039d\\u03b1\\u03bd\\u03ac \\u0393\\u03ba\\u03c1\\u03ad\\u03ba\\u03b1 \",\" Sardar Akhtar \",\" Miss Bibbo \",\" Carl Engel \",\" Gauhar Sultana \",\" M\\u00fczeyyen Senar \",\" R  Nagendra Rao \",\" Vatsala Kumthekar \",\" Gerardo Matos Rodriguez \",\" \\u00c9douard Lalo \",\" Cyril Scott \",\" Frank Skinner \",\" Afzal \",\" Nadira \",\" Saraswati Rane \",\" Rekharani \",\" Paul Misraki \",\" Raj\\u00e9 Shwari \",\" Vivienne Segal \",\" Guri Prahlad \",\" Stelios Kazantzidis\",\" Mixed Bokharian singers\",\" Shiloh Primitive Baptist Church  Bogue Chito\",\" Anatoly Lyadov \",\" D  Gonzalez \",\" Kristine Akselsen \",\" Franz Xaver Gruber \",\" The Hollywood Arist O Kats \",\" Sid King   The Five Strings \",\" Ary Barroso \",\" Audrey Hepburn \",\" Jeri Southern \",\" Arnold Schoenberg \",\" Mahalia Jackson \",\" Red Garland Quintets \",\" Walter Brennan \",\" Zero Mostel\",\" Marni Nixon \",\" Billie Richards \",\" James Brown   The Famous Flames \",\" The George Benson Quartet \",\" Alonso Mudarra \",\" The Paragons \",\" Jean Jacques Perrey \",\" Derrick Harriott \",\" Sister Sledge \",\" Jerry Jeff Walker \",\" The Charlie Daniels Band \",\" Ronnie Milsap \",\" Maurice Joshua \",\" Conjunto Chaney \",\" William Bell \",\" Dr  John \",\" Monie Love \",\" Al Martino \",\" Boston Pops Orchestra \",\" Bonnie Raitt \",\" Louie Ramirez \",\" Super Cat \",\" Donald Harrison \",\" Newsies Additional Singing Cast \",\" Buddy Castle \",\" Moby \",\" Richard Smallwood \",\" X Raided \",\" Samuel E  Wright \",\" John Michael Talbot \",\" Lord Tariq \",\" Quindon Tarver \",\" Eric Timmons \",\" Hawk \",\" blink 182 \",\" Nick Cannon \",\" Tom Jones \",\" The RH Factor \",\" Ton\\u00e9x \",\" Robyn \",\" Tracie Thoms \",\" Ed Ivory \",\" Selah \",\" Los Telez \",\" Snow Patrol \",\" Jack White \",\" Christopher Jackson \",\" Cali Life Style \",\" La Roux \",\" Phineas \",\" He Is We \",\" Bryan J \",\" Eddie Vedder \",\" Charlie Parr \",\" Tedashii \",\" Mykko Montana \",\" Ab Soul \",\" Kany Garcia \",\" Bahamas \",\" Bingo Players \",\" Gustavo Santaolalla \",\" The Worship Initiative \",\" Dom Kennedy \",\" Rowan Blanchard \",\" Electric Youth \",\" Timeflies \",\" Pia Mia \",\" Joe Arroyo \",\" Jeff Lewis \",\" Ra Ra Riot \",\" Chino   Nacho \",\" Jordan Fisher \",\" Omar Ruiz \",\" Drugdealer \",\" Dre es \",\" North Point Worship \",\" beabadoobee \",\" Shiloh Dynasty \",\" Andy Mineo \",\" Jess Glynne \",\" Skye \",\" Ari Lennox \",\" Rotimi \",\" Sista Prod \",\" Swae Lee \",\" Bea Miller \",\" Gabrielle Aplin \",\" Young Bombs \",\" Casper Magico \",\" Sub Urban \",\" Marca MP \",\" Jan Clayton \",\" Liza Lehmann \",\" Joaqu\\u00edn Malats \",\" Toscha Seildel \",\" Lille Connie\",\" Durgesh Kumar \",\" Kostas Roukounas \",\" Cynthia Arana \",\" Kamala Bai \",\" Antonio Francisco Braga \",\" Tara \",\" Gustav Saenger \",\" Woody Herman   His Orchestra  Igor Stravinsky\",\" Nirmala Devi \",\" Binita Roy \",\" Jaganmoy Mitra \",\" Ramesh \",\" \\u0393\\u03b5\\u03c1\\u03ac\\u03c3\\u03b9\\u03bc\\u03bf\\u03c2 \\u03a3\\u03ac\\u03b3\\u03b9\\u03b1\\u03c2 \",\" K  V  Janaki \",\" Santha Kumari \",\" Mikhail Glinka \",\" Lallubhai \",\" Zanin \",\" Gilbert B\\u00e9caud \",\" Helene Tronsmo \",\" Don Charles \",\" William Croft \",\" Jimmy Dean \",\" Dee Dee Sharp \",\" Paul Winter \",\" Andre Francis \",\" Baden Powell \",\" Eliseo Herrera \",\" Minnie Riperton \",\" Alfredo Guti\\u00e9rrez y sus Acordeones Dorados \",\" Castelnuevo Tedesco \",\" Maria Beth\\u00e2nia \",\" Black Uhuru \",\" Heaven 17 \",\" Nikolaus Harnoncourt \",\" Sparks \",\" Joe Jackson \",\" Gregory Isaacs \",\" The Dickey Betts Band \",\" Carl Nielsen \",\" Gene Vincent \",\" Adamski \",\" The B 52 s \",\" D  Pritzker \",\" Vicious \",\" 20 Fingers \",\" Funkadelic \",\" Bj\\u00f6rk \",\" William Boyce \",\" Zoel \",\" Sash  \",\" Dalida \",\" Michael Kamen \",\" Mr  Scruff \",\" Keller Williams \",\" Henri Salvador \",\" Billy Preston \",\" London Metropolitan Orchestra \",\" Paul Oakenfold \",\" Tigger \",\" Styles P \",\" Shep \",\" South Border \",\" Klaus \",\" Remy Ma \",\" Neil Patrick Harris \",\" CeeLo Green \",\" Jordan Francis \",\" Greg Street \",\" Passenger \",\" Daniel Merriweather \",\" Ted Poley \",\" New Life Worship \",\" Aqualung \",\" YC Worldwide \",\" Josh Gad \",\" I4NI \",\" Parra for Cuva \",\" M83 \",\" Karen Harding \",\" Chris Renzema \",\" Syn Cole \",\" Alexandre Desplat \",\" Noel Torres \",\" Jetta \",\" Tove Styrke \",\" Abhi The Nomad \",\" Iron   Wine \",\" Artists Of Then\",\" Nathan Sykes \",\" Blai$y \",\" Jazmine Sullivan \",\" Kasbo \",\" Valee \",\" Lil Xan \",\" Matt Ox \",\" pewdiepie \",\" Doobie \",\" Jessie James Decker \",\" Yung Pinch \",\" Boy In Space \",\" KRYPTO9095 \",\" El Alfa \",\" Tito Torbellino Jr \",\" Ir Sais \",\" Dustin Lynch \",\" BRELAND \",\" LEGADO 7 \",\" DripReport \"]},\"id\":\"8969\",\"type\":\"FactorRange\"},{\"attributes\":{\"formatter\":{\"id\":\"9252\"},\"ticker\":{\"id\":\"8978\"}},\"id\":\"8977\",\"type\":\"CategoricalAxis\"},{\"attributes\":{},\"id\":\"8984\",\"type\":\"PanTool\"},{\"attributes\":{},\"id\":\"8975\",\"type\":\"LinearScale\"},{\"attributes\":{\"fill_color\":{\"value\":\"#1f77b4\"},\"line_color\":{\"value\":\"#1f77b4\"},\"top\":{\"field\":\"top\"},\"width\":{\"value\":100},\"x\":{\"field\":\"x\"}},\"id\":\"9676\",\"type\":\"VBar\"},{\"attributes\":{},\"id\":\"8985\",\"type\":\"WheelZoomTool\"},{\"attributes\":{\"data\":{\"top\":[5,3,4,2,4,6],\"x\":[\" Robert Schumann \",\" Fr\\u00e9d\\u00e9ric Chopin \",\" Felix Mendelssohn \",\" Franz Liszt \",\" Francisco Canaro \",\" Sergei Rachmaninoff \",\" Samuel Barber \",\" George Butterworth \",\" Alexander Scriabin \",\" Thomas Arne \",\" Moritz Moszkowski \",\" Roger Quilter \",\" Muzio Clementi \",\" Dmitry Kabalevsky \",\" Petros Epitropakis \",\" Banda del Regimiento P\\u00e9rez 3 de Infanter\\u00eda \",\" Gene Sedric \",\" Giorgos Papasideris \",\" Shorty Bralik \",\" Manuel Ponce \",\" Giorgos Mpekas \",\" Renos Talmas \",\" Dimitris Gkogkos \",\" O\\u03c1\\u03c7\\u03ae\\u03c3\\u03c4\\u03c1\\u03b1 \\u0392 Reibold \",\" Danai Stratigopoulou \",\" Giota Lidia \",\" Sinclair Lewis \",\" Franz Joseph Haydn \",\" Margarita Cueto \",\" Stratos Pagioumtzis \",\" Jeanette Mcdonald \",\" Jeanette MacDonald \",\" Robe \",\" Allan Jones \",\" Roza Eskenazi \",\" Georgia Mitaki \",\" Nilla Pizzi \",\" Rita Ampatzi \",\" Stellakis Perpiniadis \",\" Victor Arden \",\" Surendra \",\" John Philip Sousa \",\" Asha Bhosle \",\" Johann Sebastian Bach \",\" Jean Sibelius \",\" Maurice Ravel \",\" George Gershwin \",\" Pasupuleti Kannamba \",\" Charles Koechlin \",\" Claude Debussy \",\" Parul Ghosh \",\" N  Vanaja \",\" Ludwig van Beethoven \",\" Johannes Brahms \",\" Nalini Jaywant \",\" Modest Mussorgsky \",\" Lata Mangeshkar \",\" Darius Milhaud \",\" Wolfgang Amadeus Mozart \",\" Abram Chasins \",\" Igor Stravinsky \",\" Traditional \",\" Joseph Hector Fiocco \",\" Franz Schubert \",\" Kalyani \",\" Pt  Amarnath \",\" Giuseppe Verdi \",\" Jacques Ibert \",\" Gustav Mahler \",\" Nikolai Rimsky Korsakov \",\" Giacomo Puccini \",\" Anupam Ghatak \",\" Zohrabai Ambalawali \",\" Tani \",\" Georges Auric \",\" Udit Narayan \",\" Aram Khachaturian \",\" Anima Ghosh \",\" Hameeda Bano \",\" \\u0391\\u03c0\\u03cc\\u03c3\\u03c4\\u03bf\\u03bb\\u03bf\\u03c2 \\u03a7\\u03b1\\u03c4\\u03b6\\u03b7\\u03c7\\u03c1\\u03ae\\u03c3\\u03c4\\u03bf\\u03c2 \",\" Avinash \",\" Andr\\u00e9s Segovia \",\" A  R  Oza \",\" Rajkumari \",\" Pablo de Sarasate \",\" Doris Day \",\" S  Varalakshmi \",\" Ghantasala \",\" Manik Dadarkar \",\" Debabrata Biswas \",\" Shankar Dasgupta \",\" Shamshad Begum \",\" Edvard Grieg \",\" Ernest Bloch \",\" Leela Mehta \",\" Suraiya \",\" Andr\\u00e9 Gide \",\" Pietro Mascagni \",\" Aaron Copland \",\" Joaqu\\u00edn Rodrigo \",\" N  S  Krishnan \",\" Lalita Phadke \",\" Sergei Prokofiev \",\" Shanti Sharma \",\" Bing Crosby \",\" A  P  Komala \",\" Fernando Sor \",\" Sholom Secunda \",\" Female Sundanese singer\",\" Leonard Bernstein \",\" Female N Goundi soloist\",\" Female Okandi chorus\",\" Heitor dos Prazeres \",\" Fotis Polimeris \",\" Gayatri Bose \",\" \\u039d \\u03a6\\u03c1\\u03b1\\u03b3\\u03b3\\u03b9\\u03ac \",\" \\u039d\\u03af\\u03ba\\u03bf\\u03c2 \\u03a4\\u03b6\\u03bf\\u03c5\\u03b3\\u03ac\\u03bd\\u03bf\\u03c2 \",\" \\u039d\\u03c4\\u03bf\\u03cd\\u03bf \\u03a3\\u03c4\\u03b1\\u03bc\\u03c0\\u03bf\\u03cd\\u03bb \",\" Andreas Spagadoros \",\" \\u039d \\u03a4\\u03c3\\u03ac\\u03bc\\u03b7\\u03c2 \",\" Georges Bizet \",\" Khemchand Prakash \",\" John Cage \",\" Male Hebrew vocalist\",\" Marika Rossa \",\" Jean Cocteau \",\" \\u039frquesta Maestro Torroba \",\" MGM Studio Orchestra \",\" G  M  Durrani \",\" Neeta Den \",\" Fran\\u00e7ois Mauriac \",\" \\u00c9mile Waldteufel \",\" Pithapuram Nageswara Rao \",\" Moti Bai \",\" Carl Maria von Weber \",\" Max Reger \",\" Krishna Chatterjee \",\" Margaret Whiting \",\" Alfred Newman \",\" \\u0394\\u03b7\\u03bc\\u03ae\\u03c4\\u03c1\\u03b7\\u03c2 \\u039c\\u03c0\\u03b1\\u03b3\\u03b9\\u03b1\\u03bd\\u03c4\\u03ad\\u03c1\\u03b1\\u03c2 \",\" Mohammed Rafi \",\" Sotiria Bellou \",\" Orlando Silva \",\" Giorgos Mitsakis \",\" Jairam Shiledar \",\" Anne Lloyd \",\" Hector Berlioz \",\" Richard Wagner \",\" Richard Strauss \",\" Odetta \",\" Oscar Peterson \",\" Josef Strauss \",\" Dinah Washington \",\" Vic Damone \",\" Irving Berlin \",\" Dick Beavers \",\" Dave Brubeck Trio \",\" Frances Archer \",\" Buddy Rich \",\" Shirl Conway \",\" Louis Armstrong \",\" La Sonora Matancera \",\" The Clancy Brothers \",\" Hank Thompson \",\" Stubby Kaye \",\" Paul Chambers \",\" Carmen Delia Dipini \",\" Buddy Bregman \",\" J J  Johnson \",\" Ant\\u00f4nio Carlos Jobim \",\" Charles Mingus \",\" Anita O Day \",\" Ella Fitzgerald \",\" Fred Astaire \",\" Lee Konitz \",\" Billie Holiday \",\" Jutta Hipp \",\" Art Blakey   The Jazz Messengers \",\" Thelonious Monk Quartet \",\" Duke Ellington \",\" The Dave Brubeck Quartet \",\" Johnny Mathis \",\" Sister Rosetta Tharpe \",\" Sylvia Rexach \",\" The Stanley Brothers \",\" Miles Davis \",\" Jorma Ik\\u00e4valko \",\" Irving Burgie \",\" The Highway Q C  s \",\" Mukesh \",\" Bhupinder Singh \",\" Jimmy Bryant \",\" Mel Torm\\u00e9 \",\" M  S  Subbulakshmi \",\" Cannonball Adderley \",\" Milt Jackson \",\" Les Chats Sauvages \",\" Annette Funicello \",\" Elvis Presley \",\" James Cleveland \",\" Stan Getz \",\" Frank Sinatra \",\" Martin Denny \",\" Cliff Richard \",\" Spoken Word \",\" Pete Drake \",\" Les Brown\",\" Bobby  Boris  Pickett \",\" Peter\",\" J B  Lenoir \",\" Lalo Schifrin \",\" Ben Webster \",\" Cal Tjader \",\" George Jones \",\" Patsy Cline \",\" Kenny Burrell \",\" Gloria Lynne \",\" Eydie Gorm\\u00e9 \",\" The Dubliners \",\" Wilfrid Hyde White \",\" Vince Guaraldi \",\" Them \",\" Bert Jansch \",\" Rosemary Clooney \",\" John Mayall   The Bluesbreakers \",\" Hariharan \",\" Frank Zappa \",\" Big Mama Thornton \",\" Marvin Gaye \",\" Gene Clark \",\" The Velvet Underground \",\" Nancy Sinatra \",\" Los Corraleros De Majagual \",\" Big Brother   The Holding Company \",\" Blood\",\" Twice As Much \",\" Johnny Winter \",\" Crosby\",\" Quincy Jones \",\" Louis Hardin \",\" John Williams \",\" Chet Atkins \",\" Django Reinhardt \",\" Riz Ortolani \",\" Paul McCartney \",\" Mahavishnu Orchestra \",\" Leslie Bricusse \",\" Harold Melvin   The Blue Notes \",\" The J  Geils Band \",\" Irwin Kostal \",\" Chuck Mangione \",\" James Brown \",\" Earth\",\" Carl Anderson \",\" The Dells \",\" Kris Kristofferson \",\" Geraldo Pino \",\" Ash Soul\",\" Tico Alegre All Stars \",\" Fruko Y Sus Tesos \",\" Neil Young \",\" Hui Ohana \",\" Robert Fripp \",\" Rufus \",\" Barbra Streisand \",\" Larry Gatlin \",\" Bernard Herrmann \",\" Lil Greenwood \",\" Waylon Jennings \",\" Norman Connors \",\" Eric Burdon \",\" Cluster \",\" Shakti \",\" Chaka Khan \",\" Jim Morrison \",\" The Blues Brothers \",\" Jerry Garcia Band \",\" Twennynine \",\" Galt MacDermot \",\" The Who \",\" Jorge Ben Jor \",\" Hank Williams\",\" Kanchan \",\" Grover Washington\",\" Def Leppard \",\" St  Louis Jesuits \",\" Pat Metheny \",\" Jagjit Singh \",\" Shadowfax \",\" Yellowman \",\" Gwen Guthrie \",\" Andrew Lloyd Webber \",\" Harold Budd \",\" Erik Satie \",\" Bernadette Peters \",\" Paul Speer \",\" Dave Grusin \",\" Archie Shepp \",\" Linda Ronstadt \",\" Jesse Johnson \",\" Jerry Vale \",\" Skeeter Davis \",\" Betty Wright \",\" 10\",\" Nat King Cole \",\" Roc\\u00edo D\\u00farcal \",\" Conway Twitty \",\" Terence Trent D Arby \",\" Joanna Gleason \",\" Eazy E \",\" Jim Reeves \",\" Marc Almond \",\" Dionne Warwick \",\" Roberta Flack \",\" Ice Cube \",\" Dave Stewart \",\" Yo Yo \",\" Flaco Jimenez \",\" Beastie Boys \",\" R  Kelly \",\" David Lee Garza \",\" Dr  Dre \",\" Newsies Ensemble \",\" Helmet \",\" Brigitte Bardot \",\" Aaliyah \",\" James Horner \",\" Shaggy \",\" GZA \",\" Misfits \",\" Jos\\u00e9 Carreras \",\" Kausion \",\" Stephanie Mills \",\" Valeria Szerv\\u00e1nszky \",\" Jeff Lorber \",\" OutKast \",\" Mindy McCready \",\" Coolio \",\" Boss \",\" Steve Earle \",\" Ana Gabriel \",\" J  Pat O Malley \",\" Oliver Wallace \",\" Kilo Ali \",\" Andr\\u00e9 Rieu \",\" The Notorious B I G  \",\" Hank Williams \",\" Fred Hammond \",\" Big Pun \",\" Goodie Mob \",\" 2Pac \",\" Keith Washington \",\" Total \",\" The Ink Spots \",\" Journey \",\" Brooks   Dunn \",\" John Prine \",\" Mos Def \",\" Dave Matthews \",\" Filter \",\" Willie Rosario \",\" Cypress Hill \",\" Phil Collins \",\" Prodigy \",\" Eric Clapton \",\" Denez Prigent \",\" Billy Bragg \",\" Cliff Edwards \",\" Luis Aguilar \",\" JAY Z \",\" The Mouseketeers \",\" Joe Strummer \",\" The Cure \",\" Long Beach Dub Allstars \",\" Diddy \",\" INDIA \",\" Ja Rule \",\" Macy Gray \",\" Tha Eastsidaz \",\" P nk \",\" Nappy Roots \",\" Linkin Park \",\" The Band \",\" Edgar Joel \",\" Nas \",\" 50 Cent \",\" Black Eyed Peas \",\" Lou Monte \",\" Medeski\",\" Phillips\",\" Shania Twain \",\" Masta Ace \",\" LL Cool J \",\" Madvillain \",\" Jedi Mind Tricks \",\" Cassidy \",\" Piccallo \",\" WWE \",\" Mr  Lil One \",\" Ilene Woods \",\" The Game \",\" England Dan \",\" Tiffany Evans \",\" Desmond Dekker \",\" Eminem \",\" Brandon Rhyder \",\" Nelly \",\" Robin Thicke \",\" MC Magic \",\" Lionel Richie \",\" Young Buck \",\" The Cheetah Girls \",\" Jurassic 5 \",\" Beyonc\\u00e9 \",\" The Pussycat Dolls \",\" Jibbs \",\" Mr  Capone E \",\" Ali Tabatabaee \",\" Robert Plant \",\" Dave Sereny \",\" A B  Quintanilla III Y Los Kumbia Kings \",\" Blest \",\" Kenny Chesney \",\" JJ Grey   Mofro \",\" R K M   Ken Y \",\" Collie Buddz \",\" Hurricane Chris \",\" Hans Zimmer \",\" Colt Ford \",\" Shwayze \",\" Jamie Foxx \",\" Kevin Rudolf \",\" Akon \",\" James Fortune \",\" Plies \",\" Busta Rhymes \",\" Renee Olstead \",\" Usher \",\" Grizzly Bear \",\" Pitbull \",\" Kid Cudi \",\" J\\u00f3nsi \",\" Thomas Bergersen \",\" David Guetta \",\" Gorillaz \",\" Protoje \",\" Enrique Iglesias \",\" DEV \",\" Bunbury \",\" Nicki Minaj \",\" Yolanda Be Cool \",\" AJ Rafael \",\" Andrae Crouch \",\" Lupe Fiasco \",\" Kendrick Lamar \",\" Jason Segel \",\" Ricky Martin \",\" Ledisi \",\" Ace Hood \",\" Jamie Grace \",\" Kaskade \",\" Above   Beyond \",\" Conjunto Atardecer \",\" Mindless Behavior \",\" deadmau5 \",\" Ben Harper \",\" Jonn Hart \",\" Jack Johnson \",\" Palomo \",\" Anthony Hamilton \",\" Gerardo Ortiz \",\" Silence Wang \",\" Nipsey Hussle \",\" Hiatus Kaiyote \",\" BANKS \",\" Ariana Grande \",\" Jhen\\u00e9 Aiko \",\" Fall Out Boy \",\" Fiji \",\" Janelle Mon\\u00e1e \",\" CRUCIFIX \",\" Kristin Chenoweth \",\" Kevin Gates \",\" Kid Rock \",\" Daft Punk \",\" Penny and Sparrow \",\" 3LAU \",\" T I  \",\" Big   Rich \",\" Flight Facilities \",\" Run The Jewels \",\" Carlos Vives \",\" Jeff Williams \",\" ScHoolboy Q \",\" The Neighbourhood \",\" Cartel De Santa \",\" Cher Lloyd \",\" Rich Homie Quan \",\" Years   Years \",\" Charles Gounod \",\" Janji \",\" Mura Masa \",\" Lil Dicky \",\" Drake \",\" Selena Gomez \",\" Miel San Marcos \",\" Tory Lanez \",\" Tom Misch \",\" Wale \",\" Travis Scott \",\" Troye Sivan \",\" Aaron Y Su Grupo Ilusion \",\" Galimatias \",\" nothing\",\" Masego \",\" Pusha T \",\" Novo Amor \",\" Sinead Harnett \",\" Karen Aoki \",\" Rebelution \",\" MadeinTYO \",\" Kygo \",\" JoJo \",\" Flo Rida \",\" DJ Khaled \",\" Jordan Rakei \",\" Mac Miller \",\" James Blake \",\" Los Cadetes De Linares \",\" Big Wild \",\" Zay Hilfigerrr \",\" Granger Smith \",\" Camila Cabello \",\" In Love With a Ghost \",\" XXXTENTACION \",\" Louis The Child \",\" Halsey \",\" Marc E  Bassy \",\" Bad Bunny \",\" Skrillex \",\" Lil Yachty \",\" $uicideBoy$ \",\" Lil Boom \",\" Playboi Carti \",\" Steve Aoki \",\" Forrest  \",\" Justin Timberlake \",\" Night Lovell \",\" DaniLeigh \",\" KAROL G \",\" Morgan Evans \",\" Paris Shadows \",\" A$AP Rocky \",\" Goody Grace \",\" Clean Bandit \",\" Billie Eilish \",\" Future \",\" Ski Mask The Slump God \",\" The Chainsmokers \",\" TK Kravitz \",\" Anderson  Paak \",\" mysticphonk \",\" RL Grime \",\" No Rome \",\" Calum Scott \",\" Cosculluela \",\" BTS \",\" J Balvin \",\" KINGMOSTWANTED \",\" Chance the Rapper \",\" YBN Cordae \",\" Young Dolph \",\" Lil Peep \",\" Tyler\",\" Drax Project \",\" Lost Kings \",\" Bhad Bhabie \",\" NOTD \",\" Cheat Codes \",\" Bastille \",\" Gesaffelstein \",\" I Prevail \",\" Trey Songz \",\" Lizzo \",\" Dan   Shay \",\" Melanie Martinez \",\" Rich The Kid \",\" Sam Feldt \",\" Josh Richards \",\" Freddie Gibbs \",\" Alina Baraz \",\" Delacey \",\" Anuel AA \",\" Morat \",\" A Boogie Wit da Hoodie \",\" Trippie Redd \",\" Cali Y El Dandee \",\" YoungBoy Never Broke Again \",\" The Kid LAROI \",\" Olivia Rodrigo \",\" Ne Yo \",\" Ellie Goulding \",\" Wisin   Yandel \",\" Machine Gun Kelly \",\" Lil Baby \",\" Sleepy Hallow \",\" Petit Biscuit \",\" Doe Boy \",\" Justin Bieber \",\" Juan Arvizu \",\" Alberto Ruiz Lavadenz \",\" Conjunto 31 de Octubre \",\" Felipe V  Rivera \",\" Robert de Vis\\u00e9e \",\" Georgia Mittaki \",\" Korina Thessalonikia \",\" Guillermo Gomez \",\" Nikos Gounaris \",\" Kakkia Mendri \",\" Cristian Vasile \",\" Sylvia de Grasse \",\" \\u0393\\u03b9\\u03ac\\u03bd\\u03bd\\u03b7\\u03c2 \\u039a\\u03b1\\u03bc\\u03b2\\u03cd\\u03c3\\u03b7\\u03c2 \",\" Magia Melagia \",\" Markos Vamvakaris \",\" Mixalis Kalergis \",\" St  Kerom\\u00edtis \",\" P  Susheela \",\" K  C  Varma \",\" Dmitri Shostakovich \",\" Pran \",\" Ottorino Respighi \",\" Sreeradha Banerjee \",\" \\u0393\\u03b9\\u03ac\\u03bd\\u03bd\\u03b7\\u03c2 \\u0399\\u03c9\\u03b1\\u03bd\\u03bd\\u03af\\u03b4\\u03b7\\u03c2 \",\" Manuel de Falla \",\" Soolamangalam Rajalakshmi \",\" Carroll Gibbons \",\" Albeli \",\" Vincent d Indy \",\" Chittoor V  Nagaiah \",\" Ferde Grof\\u00e9 \",\" Amirbai Karnataki \",\" Benedito Lacerda \",\" Astor Piazzolla \",\" Meena Kapoor \",\" Kumar Sanu \",\" Manna Dey \",\" Noor Jehan \",\" Kalyanam Raghuramaiah \",\" Nathan Lane \",\" M  N  Ramachandra \",\" Mark Dawson \",\" Indrabadan Bhatt \",\" Joe E  Brown \",\" Raymond Scott \",\" Hemant Kumar \",\" Karen Khachaturian \",\" Colette \",\" Geeta Dutt \",\" M  L  Vasanthakumari \",\" Asit Baran \",\" Luigi Boccherini \",\" Surinder Kaur \",\" T Kanakam \",\" Heitor Villa Lobos \",\" C\\u00e9sar Franck \",\" Isaac Alb\\u00e9niz \",\" \\u0395\\u03c5\\u03b1\\u03b3\\u03b3\\u03b5\\u03bb\\u03af\\u03b1 \\u039c\\u03b1\\u03c1\\u03ba\\u03bf\\u03c0\\u03bf\\u03cd\\u03bb\\u03bf\\u03c5 \",\" Noel Rosa \",\" Andr\\u00e9 Breton \",\" Charles Aznavour \",\" Ntoua Xarma \",\" Mubarak Begum \",\" Rundfunk Sinfonieorchester Leipzig \",\" Mix  Thomakos \",\" Stella Xaskil \",\" Los Provincianos \",\" P  Leela \",\" Iqbal Bano \",\" Pendyala Nageswara Rao \",\" Otakar Parik \",\" Edward M  Read \",\" Jimmy Carroll \",\" Mary Norton \",\" Alban Berg \",\" Ambroise Thomas \",\" Fred Anderson \",\" Maurice Greene \",\" Charlie DeForest \",\" Zolt\\u00e1n Kod\\u00e1ly \",\" The Carillons \",\" Jack Cassidy \",\" Luigi Cherubini \",\" David Tudor \",\" Johann Pachelbel \",\" Jean Giono \",\" Johann Strauss II \",\" Gioachino Rossini \",\" The Bellecats \",\" Los Peregrinos \",\" Absis \",\" Jean Fran\\u00e7aix \",\" Dizzy Gillespie \",\" George Shearing Quintet \",\" Edith Adams \",\" Elmer Bernstein \",\" Kishore Kumar \",\" Chet Baker \",\" Kenny Dorham \",\" Gerry Mulligan \",\" Tadd Dameron \",\" Josephine Premice \",\" Dean Martin \",\" Maurice Chevalier \",\" Bienvenido Granda \",\" June Christy \",\" Ricky Nelson \",\" Lena Horne \",\" Debbie Reynolds \",\" MAY H  BRAE \",\" The Sound Of Music Orchestra \",\" Peggy Lee \",\" Coleman Hawkins \",\" Dave Brubeck \",\" Johnny Hodges \",\" \\u00d1ico Estrada y Su Sonora \",\" Glen Campbell \",\" Bill Evans \",\" Peggy Seeger \",\" Les Paul \",\" Alvin   The Chipmunks \",\" Laurindo Almeida \",\" The Carter Family \",\" T  M  Soundararajan \",\" George Morgan \",\" Monica Zetterlund \",\" The Dreamletts \",\" The Yardbirds \",\" Rod   Kevin \",\" Sam Cooke \",\" Hema Sardesai \",\" Gal Costa \",\" Paul Simon \",\" Frances Nero \",\" Johnny Cash \",\" Johnny Pacheco \",\" Mike Bloomfield \",\" Grant Green \",\" Thad Jones \",\" William Byrd \",\" Porter Wagoner \",\" Carole King \",\" Domenico Scarlatti \",\" John Lee Hooker \",\" Astrud Gilberto \",\" Alan Parker \",\" Ismael Rivera \",\" America \",\" Edgar Winter \",\" Andy Williams \",\" Nitty Gritty Dirt Band \",\" The Dawn \",\" Bob Bingham \",\" Ted Neeley \",\" John Holt \",\" Elis Regina \",\" David Allan Coe \",\" Blue Magic \",\" Rufus   Chaka Khan \",\" Jess Uke \",\" Paul Desmond \",\" Ambrosia \",\" Peter Frampton \",\" Herbie Mann \",\" Frank Stallone \",\" Harve Presnell \",\" Oleg Anofriyev \",\" Earl King \",\" Emerson\",\" Maze \",\" Foghat \",\" Willie Col\\u00f3n \",\" Djavan \",\" YELLOW MAGIC ORCHESTRA \",\" Jo\\u00e3o Bosco \",\" Anoushirvan Rohani \",\" Stanley Clarke \",\" Brian Eno \",\" Dolly Parton \",\" Merle Haggard \",\" Adalberto Santiago \",\" Jim Ed Brown \",\" Rick James \",\" George Lam \",\" Julie Sue \",\" Ilaiyaraaja \",\" Peabo Bryson \",\" Julio Iglesias \",\" Jermaine Jackson \",\" Mandy Patinkin \",\" Walpataca \",\" \\u30aa\\u30e1\\u30ac\\u30c8\\u30e9\\u30a4\\u30d6 \",\" Romualdo Brito \",\" Whitney Houston \",\" Billy Idol \",\" Jean Jacques Goldman \",\" Lisa Lisa   Cult Jam \",\" Bruce Hornsby \",\" Selda Ba\\u011fcan \",\" Cocteau Twins \",\" Celia Cruz \",\" Talking Heads \",\" The Andrews Sisters \",\" S\\u00e9rgio Mendes \",\" Robert Billig \",\" David Benoit \",\" Rev  Milton Brunson \",\" Jody Watley \",\" Joe Liggins \",\" The New Life Community Choir \",\" Anuradha Paudwal \",\" Kool G Rap \",\" Stuttgart Piano Trio \",\" Zydecajun \",\" Leopold Stokowski \",\" Prince \",\" \\u5f6d\\u5bb6\\u9e97 \",\" Babyface \",\" C\\u00e9cile Chaminade \",\" Mariah Carey \",\" Ella Mae Morse \",\" Chalino Sanchez \",\" Rodney O \",\" Biohazard \",\" Guru \",\" Bobby Brown \",\" Bob Wills \",\" World Class Wreckin  Cru \",\" Method Man \",\" John Field \",\" Spice 1 \",\" MC Eiht \",\" The Red Army Choir \",\" Kirk Franklin \",\" Fourplay \",\" Jon Secada \",\" Nightcrawlers \",\" The Isley Brothers \",\" Kenny G \",\" Foxy Brown \",\" Ghostface Killah \",\" Wu Bai \",\" Karen Dotrice \",\" Master P \",\" Banda Machos \",\" Kathryn Beaumont \",\" Nu Flavor \",\" Bobby Driscoll \",\" The Temptations \",\" Suga Free \",\" Michael Berresse \",\" Jacky Cheung \",\" Onyx \",\" Sheryl Crow \",\" Charles Strouse \",\" Jennifer Lopez \",\" Gang Starr \",\" Naughty By Nature \",\" Guru s Jazzmatazz \",\" Bone Thugs N Harmony \",\" Dan Hill \",\" Josh Groban \",\" Barenaked Ladies \",\" DMX \",\" Phil Harris \",\" Salt N Pepa \",\" Angie Stone \",\" Redman \",\" Counting Crows \",\" B2K \",\" Jorge Celed\\u00f3n \",\" Howard Shore \",\" Groundation \",\" My Chemical Romance \",\" Zero 7 \",\" Shyne \",\" Kings of Convenience \",\" Dan Balan \",\" DJ Nelson \",\" David Crosby \",\" Lil  Flip \",\" Beanie Sigel \",\" James Newton Howard \",\" Darrell Scott \",\" Hector   Tito \",\" Tommy Dorsey \",\" Mase \",\" Alicia Keys \",\" Damian Marley \",\" Motorcycle \",\" Merl Saunders \",\" Reba McEntire \",\" Lyfe Jennings \",\" Don Omar \",\" Mickey Mouse \",\" Thal\\u00eda \",\" Lil Scrappy \",\" Wisin \",\" Three 6 Mafia \",\" Baby Boy \",\" Johann Nepomuk Hummel \",\" Joe Anderson \",\" Kat Deluna \",\" Carol Woods \",\" Laura Bell Bundy \",\" Dean Evenson \",\" Jason Mraz \",\" Fatman Scoop \",\" Daniel Breaker \",\" Santigold \",\" E 40 \",\" Maroon 5 \",\" Mystery Jets \",\" H\\u00e9ctor Acosta  El Torito  \",\" Hot Stylz \",\" Ciara \",\" Jonas Brothers \",\" Flex \",\" Birdman \",\" El Compa Sacra\",\" Ying Yang Twins \",\" Rick Ross \",\" MF DOOM \",\" Christopher Tin \",\" Rihanna \",\" Snoop Dogg \",\" Yo Gotti \",\" 8Ball \",\" Lil Wayne \",\" Webbie \",\" Nadia Ali \",\" Lenny Cooper \",\" Margarita la diosa de la cumbia \",\" Demi Lovato \",\" Swedish House Mafia \",\" Los Pericos \",\" LoveRance \",\" Dizzee Rascal \",\" Rusko \",\" Amy Winehouse \",\" Chester See\",\" Alejandro Sanz \",\" Martin Solveig \",\" Matt Nathanson \",\" G Eazy \",\" Chief Keef \",\" Jake Owen \",\" Christoph Willibald Gluck \",\" Pleasure P \",\" Far East Movement \",\" Tercer Cielo \",\" David Glen Eisley \",\" Meek Mill \",\" Jeremy Jordan \",\" Victorious Cast \",\" Natalia Lafourcade \",\" Tyga \",\" Sunny Ledfurd \",\" Adventure Club \",\" Florida Georgia Line \",\" Paramore \",\" Klangkarussell \",\" Sammy Johnson \",\" Donny Osmond \",\" Sammy Adams \",\" Waka Flocka Flame \",\" Gene Kelly \",\" Porter Robinson \",\" The Vamps \",\" The Knocks \",\" Dirty Heads \",\" Barrett Wilbert Weed \",\" Bebe Rexha \",\" Glass Animals \",\" Calvin Harris \",\" Different Heaven \",\" Robin Schulz \",\" Oscar Isaac \",\" Moonshine Bandits \",\" Man\\u00e1 \",\" Ludacris \",\" Cartoon \",\" Joywave \",\" La Sonora Dinamita \",\" Missy Elliott \",\" Juicy J \",\" Vicetone \",\" Skizzy Mars \",\" Jeremih \",\" Earl Sweatshirt \",\" Miguel \",\" ZAYN \",\" BADBADNOTGOOD \",\" Matt Maeson \",\" Solange \",\" Jeezy \",\" Yuna \",\" Nick Jonas \",\" Struggle Jennings \",\" R\\u00dcF\\u00dcS DU SOL \",\" Domo Genesis \",\" Isaiah Rashad \",\" Phil Wickham \",\" Sia \",\" Wifisfuneral \",\" SLANDER \",\" Bryce Vine \",\" Anitta \",\" Jory Boy \",\" Jason Derulo \",\" Gucci Mane \",\" Amin\\u00e9 \",\" Logic \",\" Keala Settle \",\" Arcangel \",\" El Fantasma \",\" Lil Skies \",\" Matoma \",\" Cash Cash \",\" Lenin Ram\\u00edrez \",\" YNW Melly \",\" Jonas Blue \",\" Chris Lake \",\" GoldLink \",\" Monty Datta \",\" Cardi B \",\" Migos \",\" Kodak Black \",\" James Arthur \",\" Fukkit \",\" Lord Huron \",\" JayDaYoungan \",\" Mark Ronson \",\" Shordie Shordie \",\" Arin Ray \",\" ilyTOMMY \",\" Sean Paul \",\" Liam Payne \",\" Daddy Yankee \",\" Taylor Swift \",\" Yella Beezy \",\" GASHI \",\" Nicky Jam \",\" Cuco \",\" YSN Flow \",\" Quinn XCII \",\" Jaden \",\" Moneybagg Yo \",\" Luh Kel \",\" Lil Tjay \",\" Gente De Zona \",\" Chris Brown \",\" Pop Smoke \",\" Lil Durk \",\" Joyner Lucas \",\" Jawsh 685 \",\" Natanael Cano \",\" Arijit Singh \",\" Junior H \",\" George Mutoo and His Demerara Orchestra \",\" Sofia Karivali \",\" The Duke Of Iron \",\" D\\u00fao Las Kantutas \",\" Harry James \",\" \\u0399 \\u03a1\\u03ac\\u03c0\\u03c4\\u03b7\\u03c2 \",\" \\u0393\\u03b9\\u03ce\\u03c1\\u03b3\\u03bf\\u03c2 \\u039a\\u03b1\\u03bc\\u03b2\\u03cd\\u03c3\\u03b7\\u03c2 \",\" \\u03a0\\u03ad\\u03c4\\u03c1\\u03bf\\u03c2 \\u039a\\u03c5\\u03c1\\u03b9\\u03b1\\u03ba\\u03cc\\u03c2 \",\" Fred Bird Rythmicans \",\" Mitaki \",\" The Royal Victoria Hotel Calypsos \",\" Anestos Delias \",\" Giorgos Papasideris\",\" Kontopoylos \",\" Sheela \",\" Sujan Majhi \",\" Anil Biswas \",\" W  Herbert Brewster \",\" Francisco Ernani Braga \",\" L Luttazzi \",\" Dalva De Oliveira \",\" Henry Mancini \",\" Canhoto \",\" Jean Philippe Rameau \",\" Rehana \",\" C  Ramchandra \",\" Sriharshia \",\" Ella Logan \",\" Khursheed Bano \",\" Rampyari \",\" Bourvil \",\" Galipenchala Narashima Rao \",\" Bhiku \",\" Federico Moreno Torroba \",\" Salim Raza \",\" Nasim Begum \",\" B\\u00e9la Bart\\u00f3k \",\" Lalita Dewoolkar \",\" Luigi Denza \",\" Mary Martin \",\" Meena Khadikar \",\" Chuji Kinoshita \",\" St\\u00e9lios Kazantz\\u00eddis \",\" Jascha Heifetz \",\" Ti Yogan \",\" Barbara Cook \",\" Tcherawata player from Gura Valley\",\" Leopold Mozart \",\" Lola Flores \",\" Tito Rodriguez \",\" James Lord Pierpont \",\" S  D  Batish \",\" The Brigadiers \",\" Kokila Joshi \",\" Edward Elgar \",\" Carl Leopold Sj\\u00f6berg \",\" K  Rani \",\" Kaye Ballard \",\" Church of God Congregation  Nassau\",\" Gaetano Donizetti \",\" Pierre Dac \",\" Pyotr Ilyich Tchaikovsky \",\" Jacqueline Harpet \",\" Antonio Diaz Mena \",\" Pepe Blanco \",\" Harry  Sweets  Edison \",\" Ewan MacColl \",\" Clifford Brown \",\" The Channels \",\" D  Brubeck \",\" Peter Palmer \",\" Percy Faith \",\" The Chico Hamilton Quintet \",\" Frankie Laine \",\" Johnny Mercer \",\" Thelonious Monk \",\" Junior Wells \",\" Gil Evans \",\" Lupita P x82rez \",\" Los Panchos \",\" Tommy Dorsey   His Clambake Seven \",\" Louis Prima \",\" Virginia Lopez \",\" Jeff Alexander \",\" Joe Williams \",\" Art Pepper \",\" Danny Kaye \",\" Bob Brookmeyer \",\" Lambert\",\" The Latin Jazz Quintet \",\" Oscar Peterson Trio \",\" Alberto Beltran \",\" Richard Rodgers \",\" Gene Ammons \",\" Sonny Stitt \",\" Steve Lacy \",\" Ray Conniff \",\" Red Garland Quintet \",\" Bobby Darin \",\" Bob Dylan \",\" Muddy Waters \",\" Jimmy Smith \",\" The New Lost City Ramblers \",\" Gerry Woo \",\" H\\u00e9ctor Lavoe \",\" Wes Montgomery \",\" Paco de Luc\\u00eda \",\" Steppenwolf \",\" Billo s Caracas Boys \",\" Bob James \",\" Les Baxter \",\" Fania All Stars \",\" Luis Bacalov \",\" Laura Nyro \",\" Milton Nascimento \",\" Ronnie Aldrich and his 2 pianos \",\" Vincenzo Capirola \",\" The Juicy Fruits \",\" Al Hurricane \",\" Joe Henderson \",\" B B  King \",\" King Tubby \",\" Adolfo Echeverria \",\" The Whispers \",\" Bob Marley   The Wailers \",\" Paul Williams \",\" George Thorogood \",\" Ozone \",\" Los Vecinos \",\" La Gran Banda Cale\\u00f1a \",\" Donna Summer \",\" Jenny Tseng \",\" Roman Tam \",\" R  D  Burman \",\" Sonic Youth \",\" Alfredo Linares \",\" Stevie Wonder \",\" Tom Petty and the Heartbreakers \",\" Gloria Estefan \",\" Patti LaBelle \",\" Don Moen \",\" F\\u00e1bio Jr  \",\" Meredith Monk \",\" Dwight Yoakam \",\" Paragon Ragtime Orchestra\",\" Jennifer Butt \",\" Eric B    Rakim \",\" Heavy D   The Boyz \",\" Chip Zien \",\" Tom Aldredge \",\" The Rippingtons \",\" Sam Brown \",\" The Beatles \",\" Labi Siffre \",\" Claude Michel Sch\\u00f6nberg \",\" Robert Westenberg \",\" Angelo DeBarre \",\" Angela Winbush \",\" Jimmy Buffett \",\" Jason Donovan \",\" John P  Kee \",\" Henry Purcell \",\" Sandi Patty \",\" Nusrat Fateh Ali Khan \",\" Donnie McClurkin \",\" Rod Stewart \",\" Billy J  Kramer \",\" The Chieftains \",\" Peter Gallagher \",\" Junior Vasquez \",\" Medicine \",\" Nancy Wilson \",\" Thug Life \",\" Ill Al Skratch \",\" Capleton \",\" Annie Lennox \",\" Mobb Deep \",\" Chorus   Pocahontas \",\" The Roots \",\" Joan Sebastian \",\" Huey Dunbar \",\" Paul Kandel \",\" Keith Sweat \",\" Color Me Badd \",\" Mack 10 \",\" Lester Young \",\" Capone N Noreaga \",\" Delerium \",\" Adriana Caselotti \",\" Allure \",\" The Del Vikings \",\" Paul Anka \",\" Shaun Davey \",\" Deborah Cox \",\" Sukhwinder Singh \",\" DJ Quik \",\" Amy Hanaiali i \",\" Mousse T  \",\" The LOX \",\" Fat Pat \",\" Sly\",\" The East Flatbush Project \",\" Faith Evans \",\" Ibrahim Ferrer \",\" Boney James \",\" Jessica Simpson \",\" Ginuwine \",\" Albert King \",\" Pearl Django \",\" Bow Wow \",\" Widespread Panic \",\" Jackie McLean \",\" Jamiroquai \",\" Philip Bailey \",\" Immortal Technique \",\" John Barry \",\" Secret Garden \",\" Nicole Kidman \",\" Chick Corea \",\" Soulive \",\" Negami \",\" John Tartaglia \",\" Bertha Tilman \",\" Michael McDonald \",\" Mystikal \",\" Guerilla Black \",\" Baby Bash \",\" Fort Minor \",\" Leo Kottke \",\" Mary J  Blige \",\" Boosie Badazz \",\" Hezekiah Walker \",\" Bob Sinclar \",\" F Minus \",\" Josh Turner \",\" Fabolous \",\" Johnny Depp \",\" Chamillionaire \",\" Jarabe De Palo \",\" Timbaland \",\" Miranda  \",\" Swishahouse \",\" Kenny Rogers \",\" B  D Addario as Flounder \",\" Lecrae \",\" Mike Posner \",\" The Dream \",\" Martin O Donnell \",\" Big Time Rush \",\" Chayanne \",\" Shakira \",\" Katharine McPhee \",\" Sutton Foster \",\" Bethel Music \",\" Jesse   Joy \",\" Joey Bada$$ \",\" Goodnight\",\" Calibre 50 \",\" Benjy Wertheimer \",\" Josh WaWa White \",\" Big Sean \",\" Cam Meekins \",\" Tom Odell \",\" Mat Zo \",\" PARTYNEXTDOOR \",\" MIKA \",\" Sleeping With Sirens \",\" Tim McGraw \",\" Trip Lee \",\" SMO \",\" ODESZA \",\" Slow Magic \",\" Carrie Underwood \",\" Charlie Farley \",\" Kurt Hugo Schneider \",\" SAYGRACE \",\" Kool John \",\" o k h o \",\" Tori Kelly \",\" Juan Gabriel \",\" Major Lazer \",\" Kanye West \",\" KALEO \",\" Rhiannon Giddens \",\" TobyMac \",\" AlunaGeorge \",\" Bassnectar \",\" Galactic \",\" DEAN \",\" Dom Dolla \",\" Zac Brown Band \",\" 21 Savage \",\" M\\u00f8me \",\" Lucidious \",\" Galantis \",\" Jorja Smith \",\" Made in M \",\" Charles Bradley \",\" Lost Frequencies \",\" Kid Trunks \",\" Luis Fonsi \",\" ILLENIUM \",\" atlas \",\" Imagine Dragons \",\" Imaginary Future \",\" Yandel \",\" Little Mix \",\" In This Moment \",\" Laura Dreyfuss \",\" T3R Elemento \",\" Lil Uzi Vert \",\" Gigolo Y La Exce \",\" 6ix9ine \",\" Noah Cyrus \",\" Johnny Orlando \",\" Floreyyyy \",\" Young Thug \",\" Julia Michaels \",\" Adam Calhoun \",\" Tee Grizzley \",\" 88rising \",\" pxzvc \",\" Bas \",\" MAX \",\" Rodney Atkins \",\" MC Virgins \",\" Los Hijos De Garcia \",\" Kehlani \",\" Doja Cat \",\" Tm88 \",\" Roddy Ricch \",\" Gunna \",\" Reik \",\" j hope \",\" R3HAB \",\" Arizona Zervas \",\" Loud Luxury \",\" Childish Gambino \",\" Alessia Cara \",\" Dreamville \",\" Camilo \",\" Lil Pump \",\" Milky Chance \",\" $NOT \",\" Gabby Barrett \",\" Carin Leon \",\" KSI \",\" YG \",\" VIZE \",\" Francisco T\\u00e1rrega \",\" Panos Visvardis \",\" Gerald Clark and his Caribbean Serenaders \",\" Heinz Sandauer \",\" Carlota Jaramillo \",\" Menka Bai \",\" Mo  Guzzo \",\" Ernesto Lecuona \",\" Anton Rubinstein \",\" \\u0398\\u03af\\u03b1\\u03c3\\u03bf\\u03c2 \\u0392\\u03c1\\u03c5\\u03c3\\u03b7\\u03af\\u03b4\\u03b1\\u03c2 \\u03a0\\u03b1\\u03bd\\u03c4\\u03bf\\u03c0\\u03bf\\u03cd\\u03bb\\u03bf\\u03c5 \",\" Kesari \",\" B Jayamma \",\" Emilio Serrano \",\" Renuka Devi \",\" Clement Krauss \",\" Don Cherry \",\" Chhamiya \",\" George Frideric Handel \",\" Shamim Akhtar \",\" Sunder Singh \",\" Mohantara Talpade \",\" Nanette Fabray \",\" Jyotsna Bhole \",\" Naseem Bano \",\" Meena Kumari \",\" V Sarala Rao \",\" Sunetra \",\" Howard Ferguson \",\" Radha Ravi \",\" Ram Kamlani \",\" Mahmure Suat \",\" Giuseppe Tartini \",\" Enrique Granados \",\" Renan Garcia \",\" Soula Karagiorgi \",\" Giota Xalkia \",\" Giannis Papaioannou \",\" Io\\u00e1nnis Tziv\\u00e1nis \",\" Male singer\",\" Three male Ibo drummers\",\" Francis Poulenc \",\" Paro Devi \",\" Prodromos Tsaousakis \",\" Balbir \",\" \\u03a1\\u03ad\\u03bd\\u03bf\\u03c2 \\u03a4\\u03ac\\u03bb\\u03bc\\u03b1\\u03c2 \",\" \\u0393\\u03b5\\u03c9\\u03c1\\u03b3\\u03af\\u03b1 \\u039c\\u03c0\\u03bb\\u03ac\\u03bd\\u03b1 \",\" Enoch Light \",\" Bob Haymes \",\" DUOBAIANO \",\" Larry Carr \",\" Roger Sessions \",\" A  M  Rajah \",\" Johnnie Ray \",\" Ravi \",\" Victor P  Young \",\" The Ames Brothers \",\" Leo Marini \",\" James McIntyre \",\" Big Bill Broonzy \",\" Oliver Nelson \",\" Max Roach \",\" Ray Bolger \",\" Topol \",\" Eric Dolphy \",\" Glenn Gould \",\" Shirley Collins \",\" Clark Terry \",\" Eddie Palmieri \",\" Judy Garland \",\" Musikkorps der 1  Gebirgsdivision Garmisch Partenkirchen   der Chor des Gebirgsfernmeldebataillons 8\",\" Brenda \",\" The Latin Blues Band \",\" Steve Stills \",\" Gilberto Gil \",\" Jerry Garcia \",\" Lyn Collins \",\" Robin Lamont \",\" Alan Hawkshaw \",\" Return To Forever \",\" Loretta Lynn \",\" Charly McClain \",\" Graham Nash \",\" Dennis Wilson \",\" Culture \",\" Dan Fogelberg \",\" Robert Gordon \",\" Patti LuPone \",\" John Denver \",\" Albertina Walker \",\" Ray Parker Jr  \",\" Alabama \",\" John Carpenter \",\" Bob   Doug McKenzie \",\" Sezen Aksu \",\" L T D  \",\" Carol Hall \",\" Afrika Bambaataa \",\" Earl Klugh \",\" Malcolm McLaren \",\" Ennio Morricone \",\" People Like Us \",\" Mason Williams \",\" The Lettermen \",\" Michael Jackson \",\" Artie Shaw \",\" Fishbone \",\" Yngwie Malmsteen \",\" Jonathan Richman \",\" Van Morrison \",\" Azumi Inoue \",\" Johnny Clegg \",\" Harry Connick\",\" Ra\\u00fal Esparza \",\" Niccol\\u00f2 Paganini \",\" George Clinton \",\" Boyz II Men \",\" El General \",\" Charly Garc\\u00eda \",\" Faith No More \",\" C\\u00e9line Dion \",\" Bob Gallarza \",\" Johnny Maestro \",\" Mac Dre \",\" Jello Biafra \",\" Warren G \",\" Alison Krauss \",\" Joey Dee \",\" N Trance \",\" Montell Jordan \",\" Philip Shadid \",\" Nick Cave   The Bad Seeds \",\" MC Hammer \",\" Too $hort \",\" Janet Jackson \",\" The Jud Conlon Chorus \",\" David Tomlinson \",\" Jason Raize \",\" Disney Studio Chorus \",\" Brian McKnight \",\" Black Star \",\" Lee Ann Womack \",\" Silkk The Shocker \",\" Pete Rock \",\" Ernest Tubb \",\" Anders Miolin \",\" Sisqo \",\" N O R E  \",\" Akinyele \",\" Mychael Danna \",\" Will Smith \",\" Dave Koz \",\" Binary Star \",\" Camille Saint Sa\\u00ebns \",\" Lil Jon \",\" Jodi Benson \",\" Dungeon Family \",\" Ogie Alcasid \",\" Archie Eversole \",\" Santana \",\" Panjabi MC \",\" Ronnie James Dio \",\" Room 5 \",\" Stephen Malkmus \",\" Jadakiss \",\" Lil Jon   The East Side Boyz \",\" Gwen Stefani \",\" Handsome Boy Modeling School \",\" 112 \",\" Cowboy Troy \",\" Beenie Man \",\" Joaquin Phoenix \",\" Adam Pascal \",\" Nujabes \",\" Alexis y Fido \",\" Rosario Dawson \",\" Blue October \",\" Shaan \",\" Vanessa Da Mata \",\" Pharrell Williams \",\" Chris LeDoux \",\" Nightmare \",\" Akwid \",\" Nikki Blonsky \",\" La Factoria \",\" Slightly Stoopid \",\" K Paz De La Sierra \",\" Within Temptation \",\" Olga Merediz \",\" New Kids On The Block \",\" KK \",\" Al Green \",\" John Legend \",\" Andre Nickatina \",\" Erre XI \",\" Bishop Paul S  Morton\",\" Mike Jones \",\" Estelle \",\" Juelz Santana \",\" Tego Calderon \",\" Young Money \",\" Tinie Tempah \",\" Soothing White Noise for Infant Sleeping and Massage\",\" Jim Brickman \",\" Roscoe Dash \",\" Krysta Rodriguez \",\" J Alvarez \",\" Glee Cast \",\" The Submarines \",\" Wiz Khalifa \",\" Casey Veggies \",\" Los Tigres Del Norte \",\" Macklemore   Ryan Lewis \",\" Anthony Brown   group therAPy \",\" Zedd \",\" Pierce The Veil \",\" Motionless In White \",\" Anton\\u00edn Dvo\\u0159\\u00e1k \",\" Flume \",\" Lana Del Rey \",\" Krizz Kaliko \",\" A Great Big World \",\" Nashville Cast \",\" Vance Joy \",\" Teyana Taylor \",\" Rowdy Rebel \",\" Christina Perri \",\" Iggy Azalea \",\" Yellow Claw \",\" Mykki Blanco \",\" Thomas Rhett \",\" Rudimental \",\" Scott Bradlee s Postmodern Jukebox \",\" ABSRDST \",\" Olly Murs \",\" Josh Abbott Band \",\" The Weeknd \",\" Sonora Carruseles \",\" Hillsong Worship \",\" Birdy \",\" Eric Church \",\" Los Angeles Azules \",\" Britney Spears \",\" Panda Eyes \",\" Two Steps from Hell \",\" Charlie Puth \",\" B o B \",\" Duckwrth \",\" GRiZ \",\" Charly Black \",\" Upchurch \",\" Ingrid Michaelson \",\" Ryan Gosling \",\" Farruko \",\" Agust D \",\" Marshmello \",\" Klasico \",\" EDEN \",\" Ravyn Lenae \",\" Ozuna \",\" Josh A \",\" Riton \",\" Rachel Bay Jones \",\" Gary Clark Jr  \",\" Switchfoot \",\" Sigala \",\" Francis and the Lights \",\" PRETTYMUCH \",\" Ouse \",\" Leon Bridges \",\" Lewis Capaldi \",\" Kudasaibeats \",\" Comethazine \",\" Shallou \",\" San Holo \",\" Witt Lowry \",\" Ella Mai \",\" Jub\\u00ebl \",\" Normani \",\" Rod Wave \",\" Demun Jones \",\" Killumantii \",\" Freddie Dredd \",\" Saba \",\" Blueface \",\" Hoodie Allen \",\" KAYTRANADA \",\" Kesha \",\" Manuel Turizo \",\" Global Dan \",\" Zack Fox \",\" Fuerza Regida \",\" Valerie Broussard \",\" bbno$ \",\" lil ricefield \",\" Diplo \",\" Shoreline Mafia \",\" Rezz \",\" Young T   Bugsey \",\" SiR \",\" John K \",\" Jai Wolf \",\" REASON \",\" JPEGMAFIA \",\" Russ \",\" Rich Brian \",\" Alejandro Fern\\u00e1ndez \",\" Mario Castelnuovo Tedesco \",\" \\u03a3\\u03c0\\u03cd\\u03c1\\u03bf\\u03c2 \\u03a3\\u03c4\\u03ac\\u03bc\\u03bf\\u03c2 \",\" Thomanerchor Leipzig \",\" \\u0393\\u03b9\\u03ce\\u03c1\\u03b3\\u03bf\\u03c2 \\u03a7\\u03b1\\u03c4\\u03b6\\u03b5\\u03bb\\u03ad\\u03c2 \",\" Carlos Lafuente \",\" Petre Alexandru \",\" Avelino Mu\\u00f1oz \",\" Uma Devi \",\" O  Goga \",\" Dim  Gkogkos \",\" Dimitris Perdikopoulos \",\" Dimitris Arapakis \",\" Shyam Sunder \",\" Burt Bacharach \",\" V Savona \",\" John Stafford Smith \",\" Jean Marie Leclair \",\" Dileep \",\" Wilhelm Friedemann Bach \",\" Alfredo Casella \",\" Emmanuel Chabrier \",\" Alberto Rabagliati \",\" Sabitri Ghosh \",\" Akkineni Nageswara Rao \",\" Ninu Majumdar \",\" Frederick Delius \",\" Robin Majumdar \",\" Paul Hindemith \",\" Anton Webern \",\" Ottokar Novacek \",\" Grigoras Dinicu \",\" Male Sioux singer with gourd rattle\",\" Gene Autry \",\" Jo Moutet \",\" \\u03a7\\u03ac\\u03c1\\u03b7\\u03c2 \\u039a\\u03bf\\u03c5\\u03c6\\u03b9\\u03b4\\u03ac\\u03ba\\u03b7\\u03c2 \",\" Giasemi \",\" Staatskapelle Dresden \",\" Giuseppe Torelli \",\" Johnny Cooper \",\" \\u0393\\u03b9\\u03ce\\u03c1\\u03b3\\u03bf\\u03c2 \\u039b\\u03b1\\u03cd\\u03ba\\u03b1\\u03c2 \",\" Thanasis Eugenikos \",\" Itinerant Sudanese workers in Gura Valley\",\" Snehal Bhatkar \",\" Talat Mahmood \",\" Phil Silvers \",\" Alfred Henderson \",\" Josef Vencl\\u016f se sv\\u00fdm orchestrem \",\" Navnit Adhikari \",\" Sulochana Kadam \",\" Ruggero Leoncavallo \",\" Anonymous \",\" Eddie Fisher \",\" Kukla\",\" Thiruchi Loganathan \",\" Barry Frank \",\" Benjamin Britten \",\" Gordon Jenkins \",\" Morgana King \",\" Jimmy Raney \",\" C B  And Ten Others With Axes \",\" Sammy Davis Jr  \",\" Dirch Passer \",\" Johnny   The Hurricanes \",\" A  L  Lloyd \",\" Owen Silveras \",\" Stranger Cole \",\" Lester Flatt \",\" Lee Remick \",\" \\u9ec3\\u570b\\u9686 \",\" Tony Bennett \",\" Lee Hazlewood \",\" Gary McFarland \",\" Nicole Croisille \",\" Stone Poneys \",\" La Lupe \",\" Luke Wade \",\" Paulinho Da Viola \",\" John Lennon \",\" Al Kooper \",\" London Symphony Orchestra \",\" Gary Burton \",\" Harry Belafonte \",\" Joel Grey \",\" Barry Dennen \",\" Yvonne Elliman \",\" Victor Jara \",\" Ramsey Lewis \",\" Justin Hayward \",\" Maddox Brothers \",\" Sonora Ponce\\u00f1a \",\" Emmylou Harris \",\" Bill Justis \",\" Burt Reynolds \",\" Herb Alpert \",\" Mot\\u00f6rhead \",\" Ashford   Simpson \",\" Vladimir Cosma \",\" Willie Nelson \",\" Grateful Dead \",\" Johnny Osbourne \",\" Bowling Green John Cephas \",\" Patrick Cowley \",\" Klara Rumyanova \",\" Bananarama \",\" Depeche Mode \",\" Milly Quezada \",\" Willie Neal Johnson \",\" Dazz Band \",\" Billy Joel \",\" Pete Sanchez \",\" David Chesky \",\" The Pogues \",\" Kim Crosby \",\" Adam Gussow \",\" Ural Cossacks Choir \",\" VIP Mass Choir \",\" Luther Barnes \",\" Yvonne Fair \",\" Jose Mari Chan \",\" D O A  \",\" Shabba Ranks \",\" Walter Bobbie \",\" Raul Di Blasio \",\" Count Basie \",\" Ottmar Liebert \",\" Ice Mc \",\" Side A \",\" DJ Screw \",\" Kris Kross \",\" Jerry Orbach \",\" Armand Van Helden \",\" Cecilia \",\" Eternal \",\" Chico DeBarge \",\" The Mellomen \",\" Samuel Hern\\u00e1ndez \",\" Wu Tang Clan \",\" Michael Lington \",\" Olivia Newton John \",\" Alanis Morissette \",\" Monica \",\" DAVE RODGERS \",\" Rayvon \",\" Alan Cumming \",\" Jermaine Dupri \",\" Diomedes Diaz \",\" Idina Menzel \",\" Eric Ben\\u00e9t \",\" Melanie C \",\" Marco Barrientos \",\" Apocalyptica \",\" Trick Daddy \",\" Jaheim \",\" Tony Jay \",\" Landy Wen \",\" DJ Encore \",\" Lorrie Morgan \",\" Buju Banton \",\" Catherine Zeta Jones \",\" Ry Cooder \",\" Wanda Jackson \",\" Alan Jackson \",\" Joe Budden \",\" Diego Torres \",\" Del The Funky Homosapien \",\" Nightmares On Wax \",\" Olga Ta\\u00f1\\u00f3n \",\" Chingy \",\" Tech N9ne \",\" Donald Duck \",\" Aventura \",\" Christian Borle \",\" Alex Ubago \",\" T Pain \",\" Ercola \",\" Bob Sinclair \",\" Sara Bareilles \",\" Lin Manuel Miranda \",\" Lloyd \",\" Yung Joc \",\" K NAAN \",\" Pesado \",\" Jesus Culture \",\" The Lacs \",\" Blake Shelton \",\" Jay Sean \",\" Los Invasores De Nuevo Le\\u00f3n \",\" Grupo Bryndis \",\" Charice \",\" Phaeleh \",\" Curtis Stigers \",\" The White Buffalo \",\" Phil Woods \",\" Tribal Seeds \",\" We As Human \",\" Joe Bonamassa \",\" Jill Scott \",\" Silverstein \",\" La Quinta Estacion \",\" Lindsay Mendez \",\" Minnesota \",\" Rags Cast \",\" Avril Lavigne \",\" Tochi Raina \",\" Carole Shelley \",\" Quasimoto \",\" Susie Suh \",\" Miranda Lambert \",\" Eric Prydz \",\" Slash \",\" SZA \",\" Cozz \",\" Mystery Skulls \",\" RAC \",\" Afrojack \",\" Dove Cameron \",\" La Ley De Michoacan \",\" Futuristic \",\" John Mark McMillan \",\" Taylor Bennett \",\" Grimes \",\" Maluma \",\" Feint \",\" Post Malone \",\" SIAMES \",\" X Ambassadors \",\" A$AP Ferg \",\" Zara Larsson \",\" Unknown Brain \",\" Snakehips \",\" Carnage \",\" Big Smo \",\" StayLoose \",\" OneRepublic \",\" Baaba Maal \",\" DeJ Loaf \",\" Steven Universe \",\" Jordan Maxwell \",\" NAV \",\" Daniel Caesar \",\" Vince Staples \",\" Francesca Battistelli \",\" Smokepurpp \",\" Only The Family \",\" KIDS SEE GHOSTS \",\" Six \",\" SadBoyProlific \",\" KYLE \",\" IDK \",\" SG Lewis \",\" El Profesor \",\" Prince Royce \",\" Bryant Myers \",\" Hayley Kiyoko \",\" J  Cole \",\" Grupo Firme \",\" YK Osiris \",\" Koffee \",\" Landon Cube \",\" Summer Walker \",\" French Montana \",\" Jax Jones \",\" Avicii \",\" Hopsin \",\" Darell \",\" Yung Gravy \",\" Powfu \",\" Joedi\",\" Elevation Worship \",\" Meghan Trainor \",\" K CAMP \",\" Andy Grammer \",\" Lennon Stella \",\" Denzel Curry \",\" dvsn \",\" Pepa Cardona \",\" Los Cebollitas \",\" \\u03a4\\u03b6\\u03c9\\u03bd \\u0393\\u03b9\\u03ac\\u03bd\\u03bd\\u03b1\\u03c1\\u03bf\\u03c2 \",\" Carmen Miranda \",\" Olivier Messiaen \",\" Louis Vierne \",\" Gustav Holst \",\" Malathi \",\" Ritza Ampatzi \",\" Roykoynas \",\" Kalergis \",\" Chester Gormley \",\" Saikat Mitra \",\" Frances Langford \",\" Chrorus \",\" James Cagney \",\" Chapuseaux y Damir\\u00f3n \",\" M Panzeri \",\" Armando Trovajoli \",\" Robert Palmer \",\" Girin Chakraborty \",\" Tan Dun \",\" Dilip Kumar \",\" Johnny Green \",\" Chitalkar \",\" Sumitra Roy \",\" Madhusudan Acharya \",\" Gaetano Pugnani \",\" Jay Blackton \",\" Litsa Xarmanta \",\" Thekla Lazaridou \",\" Alex Guesta \",\" Female Kouyou chorus with bell\",\" Male Mestizo singers\",\" \\u039d\\u03b9\\u03ba\\u03bf\\u03bb\\u03ad\\u03c4\\u03b1 \\u039a\\u03b1\\u03c0\\u03c1\\u03ae \",\" Elsa Lampo \",\" Lord Melody \",\" Ioanna Georgakopoulou \",\" Triganuca Nemciu \",\" Mbilta players from Gura Valley\",\" T  R  Mahalingam \",\" C  R  Subburaman \",\" Louis James Alfred Lef\\u00e9bure W\\u00e9ly \",\" Bohumil Kul\\u00ednsk\\u00fd \",\" Indrani \",\" Franz Leh\\u00e1r \",\" Giovanni Gabrieli \",\" Roberto Luna \",\" Monica Moore Smith \",\" Billy May \",\" Judy Holliday \",\" Joe Maphis \",\" Kurt Weill \",\" Kurt Kasznar \",\" Leslie Parrish \",\" George Shearing \",\" Charles Ives \",\" Eddie  Lockjaw  Davis \",\" Peter Warlock \",\" Ann Corio \",\" Bobby Vee \",\" Carol Burnett \",\" Gilberto Monroig \",\" Lucho Macedo Y Su Sonora \",\" Johnny Burnette \",\" Lou Rawls \",\" \\u5f35\\u742a \",\" Charlie Daniels \",\" Le Seigneur Rochereau \",\" Diana Ross   The Supremes \",\" Arik Einstein \",\" Elton John \",\" Stanley Turrentine \",\" Mel Brooks \",\" Luther Vandross \",\" Del McCoury \",\" Sonny Terry \",\" The Undead \",\" King Curtis \",\" Cortijo Y Su Combo \",\" Rose Royce \",\" Queen \",\" Doug Kershaw \",\" Dexter Wansel \",\" Bill Conti \",\" Joyce \",\" Fela Kuti \",\" Rub\\u00e9n Blades \",\" Don Williams \",\" Ricardo  Richie  Ray \",\" Mercedes Sosa \",\" Papo Lucca \",\" Mike Reno \",\" Teddy Pendergrass Duet with Whitney Houston \",\" Danny Chan \",\" Colonel Abrams \",\" Narada Michael Walden \",\" Stepan Rak \",\" Conjunto Cl\\u00e1sico \",\" U2 \",\" Al Bano \",\" Madonna \",\" Joseph Garlington \",\" Silvius Leopold Weiss \",\" Kotch \",\" Sharon\",\" Ray Barretto \",\" Technotronic \",\" Andre Kostelanetz \",\" Freddie Jackson \",\" C   C Music Factory \",\" DJ Magic Mike \",\" Adolphe Adam \",\" Alphaville \",\" Maxi Priest \",\" Wave \",\" Today \",\" Daytona \",\" Ricky Skaggs \",\" Michael Martin Murphey \",\" John Scofield \",\" Bob Wills   His Texas Playboys \",\" Marco Antonio Sol\\u00eds \",\" Chorus   Lester s Possum Park \",\" Horace Silver \",\" Baby Rasta \",\" One Way \",\" Lil  Louis \",\" The Browns \",\" The Faction \",\" Liz Callaway \",\" Donell Jones \",\" The Prodigy \",\" Victor Calderone \",\" Eros Ramazzotti \",\" Air \",\" Konrad Carelli \",\" MAKO \",\" Rell \",\" Joe Hisaishi \",\" Brian Stokes Mitchell \",\" Mark Mancina \",\" Destiny s Child \",\" Westlife \",\" Lucky Ali \",\" Clint Mansell \",\" Musiq Soulchild \",\" Women of the Palace \",\" Xzibit \",\" Parliament \",\" The Supermen Lovers \",\" Rui Da Silva \",\" Nate Dogg \",\" Wyclef Jean \",\" Craig David \",\" Richard Gere \",\" N E R D \",\" Helen Reddy \",\" John Foxx \",\" People Under The Stairs \",\" Bob Seger \",\" Youngbloodz \",\" Yolanda P\\u00e9rez \",\" Loon \",\" The Diplomats \",\" Adam Hood \",\" A Perfect Circle \",\" El G\\u00fcero y Su Banda Centenario \",\" N Klabe \",\" Jim Jones \",\" Natalie \",\" Fat Joe \",\" J J  Cale \",\" Cuete \",\" Vineyard Worship \",\" AZ \",\" Jenny Lewis \",\" Stephen Marley \",\" Tab Benoit \",\" Ivy Queen \",\" Calo \",\" Consequence \",\" Jim James \",\" Toby Keith \",\" Kelis \",\" JJ Lin \",\" Zion \",\" Q Tip \",\" The Lonely Island \",\" Vistoso Bosses \",\" Isobel Campbell \",\" Ana\\u00efs Mitchell \",\" Ali Farka Tour\\u00e9 \",\" Big Boi \",\" Dan Black \",\" Meaghan Martin \",\" Cody Simpson \",\" Jowell   Randy \",\" Pendulum \",\" Vicente Garcia \",\" Passion \",\" Jason Aldean \",\" Mika Singh \",\" Bruno Mars \",\" MellowHype \",\" Kelly Rowland \",\" Newsies Original Broadway Cast \",\" Zebra Katz \",\" Coldplay \",\" Hardwell \",\" The Stixxx \",\" Curren$y \",\" Neeraj Shridhar \",\" Odd Future \",\" Alesso \",\" Marion Band$ \",\" Nina Simone \",\" Danny Brown \",\" Royal Tailor \",\" Ramin Djawadi \",\" Alice Lee \",\" Home Free \",\" Beatslingers \",\" William Onyeabor \",\" KB \",\" Austin Mahone \",\" Apashe \",\" Jez Dior \",\" Disclosure \",\" NF \",\" Camila \",\" Gabriel Faur\\u00e9 \",\" Owl City \",\" Flux Pavilion \",\" Vigiland \",\" TeddyLoid \",\" Kid Ink \",\" Rapsody \",\" Ty Dolla $ign \",\" Langhorne Slim \",\" Ramirez \",\" Kiiara \",\" Nick Kroll \",\" Bomba Est\\u00e9reo \",\" Rae Sremmurd \",\" Jessie Mueller \",\" The Living Tombstone \",\" Big L \",\" Dreezy \",\" Volbeat \",\" Elohim \",\" Will Reagan \",\" Ck9c \",\" Chris Webby \",\" Jakob Ogawa \",\" Terror Reid \",\" PnB Rock \",\" Portugal  The Man \",\" Kenneth Whalum \",\" GAWVI \",\" Lady Gaga \",\" Boyinaband \",\" Milo Manheim \",\" Jay Rock \",\" ayokay \",\" Brantley Gilbert \",\" Hayden James \",\" Sebastian Yatra \",\" Kane Brown \",\" Jasiel Ayon \",\" Gryffin \",\" Mike Bah\\u00eda \",\" NLE Choppa \",\" Dalex \",\" Leven Kali \",\" Megan Thee Stallion \",\" DaBaby \",\" Omarion \",\" Niall Horan \",\" 24kGoldn \",\" GRACEY \",\" Calboy \",\" Cab Calloway   His Orchestra \",\" Adri\\u00e1n Pati\\u00f1o \",\" ANTONIS NTALGKAS \",\" Lord Kitchener \",\" Guillermo Butikofer \",\" Various Artists \",\" Radharani \",\" Susan Hayward \",\" Alexander Borodin \",\" Vera Zorina \",\" Usha \",\" Sarah Vaughan \",\" Victor Babin \",\" \\u0391\\u03bd\\u03b4\\u03c1\\u03ad\\u03b1\\u03c2 \\u0394\\u03bf\\u03c5\\u03ba\\u03bb\\u03b9\\u03ac\\u03c2 \",\" Marlene \",\" Georges Garvarentz \",\" M  S  Rama Rao \",\" Bhanumathi Ramakrishna \",\" Kanan Devi \",\" Enrico Toselli \",\" Litsa Xarma \",\" Takis Mpinis \",\" \\u0391\\u03bb\\u03ad\\u03ba\\u03bf\\u03c2 \\u039a\\u03b1\\u03c1\\u03b1\\u03b2\\u03af\\u03c4\\u03b7\\u03c2 \",\" T R Ramachandran \",\" Mixed singers\",\" Kousar Parveen \",\" Jeroen van Veen \",\" Male Hebrew Yemenite singers\",\" Tennessee Ernie Ford \",\" \\u03a0\\u03ac\\u03bd\\u03bf\\u03c2 \\u03a3\\u03ac\\u03bc\\u03b7\\u03c2 \",\" Six men from Oaxaca\",\" Stefan Wolpe \",\" Elizeth Cardoso \",\" Sammy Lewis \",\" L\\u00e9o Delibes \",\" Nelson Riddle \",\" Art Farmer \",\" Alec Wilder \",\" B B And Six Others \",\" Jimpson And Men With Axes \",\" Orquestra Afro Brasileira \",\" Edward Plumb \",\" Bud Shank \",\" Billy Eckstine \",\" Annie Ross \",\" Diana Dors \",\" Harper Lee \",\" P  B  Sreenivas \",\" Tito Puente \",\" Nino Oliviero \",\" Oscar Brown\",\" Bill Henderson \",\" Big John Patton \",\" Cookie   The Cupcakes \",\" Al Hirt \",\" Ronnie Aldrich \",\" The New Stan Getz Quartet \",\" The New Christy Minstrels \",\" Herb Ellis \",\" Paul Revere   The Raiders \",\" Bonnie Owens \",\" Otis Redding \",\" Manny Lopez \",\" \\u5305\\u5a1c\\u5a1c \",\" Connie Smith \",\" Belton Richard \",\" Leon Russell \",\" The Rolling Stones \",\" U Roy \",\" Carlos Santana \",\" Dawn \",\" The Miracles \",\" Bert   Ernie \",\" Jerry Herman \",\" The BeachBums \",\" Moe Bandy \",\" Beto Guedes \",\" Bobby Womack \",\" The Doobie Brothers \",\" Gram Parsons \",\" Pat Thomas \",\" Candeia \",\" New Grass Revival \",\" Patrick Swayze \",\" Michael Gore \",\" Lucho Cuadros \",\" Jensy \",\" Bryan Adams \",\" Bappi Lahiri \",\" Oscar D Le\\u00f3n \",\" Bryan Ferry \",\" INXS \",\" Tony Rice \",\" Aretha Franklin \",\" Stephen Sondheim \",\" Vivian Chow \",\" Camaron De La Isla \",\" Bob Fitts \",\" Wayne Toups \",\" David Lui \",\" Red Foley \",\" Josie de Guzman \",\" Bluejean \",\" Organized Konfusion \",\" Aaron Kwok \",\" Sublime \",\" Da Brat \",\" Poncho Sanchez \",\" Marty Robbins \",\" Roger   Zapp \",\" Sarah Brightman \",\" Teri DeSario \",\" Karen Clark Sheard \",\" Ensemble   The Lion King \",\" \\u00c9ric Serra \",\" Big Head Todd and The Monsters \",\" Karen Mok \",\" MJG \",\" Juvenile \",\" Jos\\u00e9 Alfredo Jimenez \",\" Pete Rock\",\" Everlast \",\" Sharon Shannon \",\" Jerry Bryant \",\" Si and Am \",\" La Dinastia Tuzantla \",\" Westside Connection \",\" Gloc 9 \",\" Brandy \",\" Trebol Clan \",\" Moodymann \",\" Scott Joplin \",\" Rayzd \",\"  NSYNC \",\" Christine Fan \",\" P$C \",\" Defiance\",\" John Mayer \",\"  Legally Blonde  Ensemble \",\" Common \",\" Calle 13 \",\" Eddie Dee \",\" Soulja Boy \",\" Slim \",\" Trina \",\" Deepak Chopra \",\" Basshunter \",\" Cherish \",\" 88 Keys \",\" The Jacka \",\" Lightning\",\" Guru Josh Project \",\" Vinnie Paz \",\" The Heavy \",\" Zion   Lennox \",\" El Canto Del Loco \",\" AWOLNATION \",\" DJ Shadow \",\" Coco Jones \",\" Miguel Bos\\u00e9 \",\" Andrew Keenan Bolger \",\" \\u00d1ejo \",\" Sultan   Shepard \",\" Robert Glasper Experiment \",\" Dimitri Vegas   Like Mike \",\" Vishal Dadlani \",\" Canserbero \",\" Claptone \",\" GAMPER   DADONI \",\" Breathe Carolina \",\" Travis Porter \",\" Justine Skye \",\" Sons Of Zion \",\" Anthony Crivello \",\" London Grammar \",\" Gorgon City \",\" Madeon \",\" Maribou State \",\" Parks\",\" Hillsong Young   Free \",\" June Marieezy \",\" Jacquees \",\" Jay Park \",\" Mr hotspot \",\" Warriyo \",\" Mustard \",\" Monte Booker \",\" \\u00d3lafur Arnalds \",\" Excision \",\" Mike WiLL Made It \",\" Young Nudy \",\" Majid Jordan \",\" Bronco \",\" Charlie Burg \",\" blackbear \",\" Yung Bans \",\" Oliver Tree \",\" Unclenathannn \",\" Seeb \",\" Harris Cole \",\" CNCO \",\" NCT \",\" Sylvan Esso \",\" Fatboibari \",\" Vic Mensa \",\" Wet \",\" Chelsea Cutler \",\" Shotgun Willy \",\" FKJ \",\" Zach Williams \",\" Ed Sheeran \",\" Kiana Led\\u00e9 \",\" Becky G \",\" Khalid \",\" Michael W  Smith \",\" Danielle Bradbery \",\" Ti\\u00ebsto \",\" Imanbek \",\" Brytiago \",\" Sofi Tukker \",\" Goyard Oz \",\" Ant Saunders \",\" Moguai \",\" rum gold \",\" Lenny Tav\\u00e1rez \",\" Lil Keed \",\" Younha \",\" Trevor Daniel \",\" \\u039c  \\u03a6\\u03b9\\u03bb\\u03b9\\u03c0\\u03c0\\u03af\\u03b4\\u03b7\\u03c2 \",\" Raul Shaw Moreno \",\" \\u0391\\u03b8\\u03b7\\u03bd\\u03b1\\u03ca\\u03ba\\u03ae \\u03b5\\u03c3\\u03c4\\u03bf\\u03c5\\u03b4\\u03b9\\u03b1\\u03bd\\u03c4\\u03af\\u03bd\\u03b1 \",\" Lord Beginner \",\" Ioanna Georgokopoulou \",\" Perdikopoylos \",\" Woody Herman And His Woodchoppers \",\" Ajit Merchant \",\" Carl Philipp Emanuel Bach \",\" George Enescu \",\" South Pacific  The New Broadway Cast  \",\" Tarun Banerjee \",\" \\u039c\\u03c0\\u03ad\\u03bc\\u03c0\\u03b1 \\u03a6\\u03c1\\u03b5\\u03b9\\u03b4\\u03b5\\u03c1\\u03af\\u03ba\\u03b1 \",\" Panos Samis \",\" Munawar Sultana \",\" Lindy Doherty \",\" Anna Russell \",\" Sam and Modesto Garcia \",\" Bartholomeo Campagnoli \",\" Charles Stanley \",\" Lehman Engel \",\" Sacha Guitry \",\" Karel Vlach \",\" Girolamo Frescobaldi \",\" Girolamo Cavazzoni \",\" C  S  Radhadevi \",\" Jean Marc Turine \",\" Alexandre Tansman \",\" Joe Marine \",\" Jean Malaurie \",\" Musicians from Siatista\",\" Ramon Garcia \",\" Tex Stewart \",\" Luis Quintero \",\" Th\\u00e9r\\u00e8se de Saint Phalle \",\" Chandrasekhar \",\" Jim Brown \",\" Marcel Dupr\\u00e9 \",\" Eddie Lawrence \",\" Candide Orchestra \",\" Camarata Chorus and Orchestra \",\" George Bruns \",\" Fred Waring \",\" Brian Davies \",\" Jimmy Yancey \",\" John Coltrane \",\" John Ondrasik \",\" Miriam Makeba \",\" Ann Jilliann \",\" Harry Bluff \",\" The Green River Boys \",\" Art Van Damme Quintet \",\" Bruno Nicolai \",\" Richard Harris \",\" The TMG s \",\" Grigoris Bithikotsis \",\" Jeff Beck \",\" Serge Gainsbourg \",\" CELLADORE \",\" Dee Dee Warwick \",\" Johnny Jenkins \",\" Tammy Wynette \",\" Blue Swede \",\" Claudius Alzner \",\" Chita Rivera \",\" Cherrelle \",\" Tommy Olivencia y Su Orquesta \",\" Tolis Voskopoulos \",\" Charo \",\" Pete Townshend \",\" Dickey Betts \",\" NRBQ \",\" Haruomi Hosono \",\" Philip Glass \",\" McGuinn\",\" Donny Hathaway \",\" The Tallis Scholars \",\" Roy Rogers \",\" Yoel Lerner \",\" Johnny Paycheck \",\" Dexys Midnight Runners \",\" Cheryl Lynn \",\" Calixto Ochoa y Su Conjunto \",\" Peter Tosh \",\" Kiyotaka Sugiyama \",\" Dennis Edwards \",\" Mel McDaniel \",\" Lowell Lo \",\" George Benson \",\" Agnetha F\\u00e4ltskog \",\" Dave Wong \",\" Gregg Edelman \",\" Michael Bolton \",\" Crash Test Dummies \",\" Mary Chapin Carpenter \",\" Faith Prince \",\" Souls Of Mischief \",\" William Grant Still \",\" Shaquille O Neal \",\" Kent Henry \",\" Jam   Spoon \",\" The Four Aces \",\" Ronny Jordan \",\" Thomas Newman \",\" Ozzy Osbourne \",\" Russ Freeman \",\" Raekwon \",\" Luniz \",\" Scarface \",\" TOTO \",\" Alabina \",\" Daniel Santos \",\" Karol Szymanowski \",\" Alka Yagnik \",\" Danny Rivera \",\" Hazel Dickens \",\" Nuyorican Soul \",\" Michael Hopp\\u00e9 \",\" SWV \",\" Livin  Joy \",\" Peter Maxwell Davies \",\" Binary Finary \",\" Elvis Costello \",\" Natasha Richardson \",\" Antonio Aguilar Con Mariachi \",\" Tina Arena \",\" Jump\",\" Joe Sample \",\" The Flaming Lips \",\" Project Pat \",\" Ruff Ryders \",\" System Of A Down \",\" A Touch Of Class \",\" 3LW \",\" Drag On \",\" Eve \",\" Gordon Macrae \",\" Ray J \",\" A B  Quintanilla III \",\" Rob Zombie \",\" Benny Benassi \",\" Grupo Marrano \",\" Luis Mateus \",\" Charizma \",\" Petey Pablo \",\" Twista \",\" Jan A P  Kaczmarek \",\" Sonu Nigam \",\" Franck Keller \",\" Il Divo \",\" Beres Hammond \",\" Paul Wall \",\" A R  Rahman \",\" Chris Botti \",\" La Secta AllStar \",\" Daisy Duck \",\" G  Love   Special Sauce \",\" Minnie Mouse \",\" Michael R  Hicks \",\" clammbon \",\" \\u00d1ejo   Dalmata \",\" Monty Sharma \",\" G Unit \",\" The Bloody Beetroots \",\" Fatboy Slim \",\" Atlas Sound \",\" will i am \",\" Bobby Brackins \",\" Keri Hilson \",\" TAEYANG \",\" Kottonmouth Kings \",\" Blake Aaron \",\" Miami Horror \",\" Edward Maya \",\" Giorgio Moroder \",\" Simple Plan \",\" Marcos Brunet \",\" Stevie Nicks \",\" SBTRKT \",\" The Muppets \",\" Kierra Sheard \",\" Nicole Scherzinger \",\" Ozzie Kotani \",\" Clarence Clemons \",\" Kem \",\" 3 Doors Down \",\" 2 Chainz \",\" fun  \",\" Tom Hangs \",\" Seven Lions \",\" Jason Chen \",\" The Brothers Comatose \",\" Brandon Mychal Smith \",\" Britt Nicole \",\" Snoop Lion \",\" G DRAGON \",\" Treyarch \",\" Duke Dumont \",\" Pegboard Nerds \",\" Juan Luis Guerra 4 40 \",\" Natalie Cole \",\" Sage The Gemini \",\" Hozier \",\" L Imp\\u00e9ratrice \",\" Tamar Braxton \",\" Chris Pine \",\" Big Gigantic \",\" Fetty Wap \",\" PSY \",\" Deorro \",\" Hollyn \",\" Cashmere Cat \",\" Stick Figure \",\" for KING   COUNTRY \",\" League of Legends \",\" Rita Ora \",\" Burak Yeter \",\" Adam Friedman \",\" Party Favor \",\" Jelly Roll \",\" Elephante \",\" Anna Kendrick \",\" Alan Walker \",\" HONNE \",\" MK \",\" Dierks Bentley \",\" Drew Gehling \",\" love sadKID \",\" MariKuroso \",\" Mellow Fellow \",\" Sam Smith \",\" Royce Rizzy \",\" guardin \",\" moow \",\" Connor Spiotto \",\" Don Diablo \",\" Tourist \",\" Kali Uchis \",\" La Arrolladora Banda El Lim\\u00f3n De Rene Camacho \",\" Twin Shadow \",\" Raymix \",\" Jessie Reyez \",\" 6LACK \",\" Mike Williams \",\" Justin Stone \",\" mike  \",\" Seth Ennis \",\" Bad Wolves \",\" A L E X \",\" Said the Sky \",\" Rufi O \",\" Foster The People \",\" Phora \",\" Jack Harlow \",\" Rauw Alejandro \",\" Berner \",\" Kash Doll \",\" Iamjakehill \",\" Loote \",\" Vampire Weekend \",\" SHAED \",\" Flovry \",\" Natti Natasha \",\" Vicente Gomez \",\" Vasilis Tsitsanis \",\" Antonio Vivaldi \",\" Vanmala \",\" Pearl Bailey \",\" Usha Khanna \",\" Freny Shroff \",\" Supriti Ghosh \",\" Tonis Maroudas \",\" Smt  Vishnilal \",\" Attila the Hun \",\" Gewandhausorchester Leipzig \",\" Francesco Durante \",\" Bamberger Sinfoniker \",\" Masonquo player from Gura Valley\",\" David Velasquez \",\" The Delta \",\" T  S  Bhagavathi \",\" Pittapuram \",\" Leonard Stanton Jefferies \",\" Helen Forrest \",\" Liberace \",\" Jikki \",\" Art Farmer Quintet \",\" Andr\\u00e9 Previn \",\" Sydney Chaplin \",\" The Count Basie Sextet \",\" Sonny Rollins Quartet \",\" Leslie Caron \",\" Patricia Neway \",\" Diahann Carroll \",\" Zoot Sims \",\" Goiano \",\" Marilyn Monroe \",\" Henry Carey \",\" Louise B\\u00e9gu\\u00e9 \",\" Columbia Studio Orchestra \",\" Sonia Lopez \",\" Armando Sciascia Orchestra \",\" Gunild Keetman \",\" Charles Lloyd \",\" Los Hispanos \",\" Kaleidoscope \",\" Boris Gardiner \",\" Derek   The Dominos \",\" Erasmo Carlos \",\" The Montclairs \",\" Leo\\u0161 Jan\\u00e1\\u010dek \",\" Roger Glover \",\" Delaney   Bonnie \",\" Big Bird \",\" Jon Anderson \",\" Jerry Reed \",\" Efraim Shamir \",\" Pharoah Sanders \",\" Daniel Balavoine \",\" Toninho Horta \",\" Conjunto Clasico   Tito Nieves \",\" Jimmy Riley \",\" Leo Jaime \",\" Bob Hurd \",\" Roger Miller \",\" Megadeth \",\" Willie Hutch \",\" David Grant \",\" Sandy Lam \",\" Racer X \",\" Eddie Rabbitt \",\" Charlie Parker \",\" Gizelle D Cole \",\" Dick Hyman \",\" Rodney Crowell \",\" Felicia Sanders \",\" Johann Strauss I \",\" The Blow Monkeys \",\" Classics IV \",\" Alessandro Marcello \",\" Mietta \",\" David Bowie \",\" Anton Arensky \",\" Public Enemy \",\" Natural Selection \",\" Ron Kenoly \",\" \\u6e6f\\u5bf6\\u5982 \",\" Burke Moses \",\" 3T \",\" Travis Tritt \",\" Rev  Clay Evans \",\" Mano \",\" UGK \",\" B Legit \",\" Johnny Gill \",\" Barrington Levy \",\" Talk Talk \",\" Christina Aguilera \",\" Z Ro \",\" Jatin Lalit \",\" Kankick \",\" Rasheeda \",\" No Doubt \",\" Johnny Ace \",\" V  Duke \",\" Phyllis Dillon \",\" Youssou N Dour \",\" Matthew Hall \",\" Bohagon \",\" DJ Casper \",\" Cast   The Nightmare Before Christmas \",\" Fergie \",\" Bonobo \",\" Jai Uttal \",\" Dyablo \",\" Groove Armada \",\" Daughtry \",\" Yuridia \",\" Pickin  On Series \",\" Enur \",\" Otis Taylor \",\" Brad Paisley \",\" South Park Mexican \",\" Mandy Gonzalez \",\" Clipse \",\" Na auao\",\" SEGA SOUND TEAM \",\" Quantic \",\" Diddy   Dirty Money \",\" Stromae \",\" Keith Jarrett \",\" Weezer \",\" Hot Chelle Rae \",\" Josef  J7  Lord \",\" LMFAO \",\" Taio Cruz \",\" Goodwill \",\" Liberaci\\u00f3n \",\" Breaking Benjamin \",\" Jenni Rivera \",\" Jamie Berry \",\" Asaf Avidan   the Mojos \",\" MOD SUN \",\" New Years Day \",\" Sevyn Streeter \",\" Edith M\\u00e1rquez \",\" Tech N9ne Collabos \",\" CAZZETTE \",\" Aleks Syntek \",\" Rittz \",\" Manic Focus \",\" King Lil G \",\" Hermitude \",\" Just A Gent \",\" Jerrod Niemann \",\" Boyce Avenue \",\" Jos\\u00e9 Maria Napole\\u00f3n \",\" Sublime With Rome \",\" Kill The Noise \",\" 4B \",\" Audien \",\" Z \",\" Dzeko   Torres \",\" Ship Wrek \",\" Mndsgn \",\" FM 84 \",\" JT Music \",\" AronChupa \",\" Kamiyada  \",\" Hamilton Leithauser \",\" Jacob Tillberg \",\" Michael Bubl\\u00e9 \",\" DJ Snake \",\" Rex Orange County \",\" Maxo Kream \",\" Crowder \",\" Offset \",\" Shiki TMNS \",\" Katy Perry \",\" Electric Guest \",\" Fifth Harmony \",\" Yung Bleu \",\" NoCap \",\" The Gregory Brothers \",\" Sabrina Claudio vs  \",\" Noah Kahan \",\" Quando Rondo \",\" Zach Callison \",\" Ashnikko \",\" YBN Nahmir \",\" Myke Towers \",\" Eladio Carrion \",\" Saweetie \",\" Martin Garrix \",\" Mereba \",\" Bring Me The Horizon \",\" Casey Donahew \",\" 5 Seconds of Summer \",\" Juanes \",\" Ro James \",\" The Killers \",\" Maes \",\" Lucky Daye \",\" \\u0391\\u03bd\\u03c4\\u03ce\\u03bd\\u03b7\\u03c2 \\u039d\\u03c4\\u03b1\\u03bb\\u03b3\\u03ba\\u03ac\\u03c2 \",\" Hlias Litos Klarino \",\" Leela Chitnis \",\" Kakia Mendri \",\" Mo  Tortora \",\" Ferdinand Ries \",\" Silvia De Grasse \",\" Jes\\u00fas De Monasterio \",\" G  N  Balasubramaniam \",\" Ken Watanabe \",\" K C Dey \",\" Louis Spohr \",\" Satya Chowdhury \",\" Premlata Naik \",\" Ma\\u00edri Zan\\u00e9t \",\" Athanasios Eugenikos \",\" Blaise Cendrars \",\" Chicago Symphony Orchestra \",\" Veneise Macelise \",\" \\u0394\\u03b7\\u03bc\\u03ae\\u03c4\\u03c1\\u03b7\\u03c2 \\u03a1\\u03bf\\u03c5\\u03bc\\u03b5\\u03bb\\u03b9\\u03ce\\u03c4\\u03b7\\u03c2 \",\" Moti \",\" Josef Toman \",\" Laurel Shelby \",\" H\\u00fcnkar \",\" Robert Emmett \",\" Joan Roberts \",\" Padu del Caribe\",\" Dionys Mascolo \",\" Arrigo Boito \",\" Andrea Gabrieli \",\" Bela Mukherjee \",\" Bhupen Hazarika \",\" Francisco  Charro  Avitia \",\" Javier Sol\\u00eds \",\" Taylor Holmes \",\" Donald Byrd \",\" Aunt Molly Jackson \",\" Perry Como \",\" Julio Sagreras \",\" Heeresmusikkorps 9 \",\" Hank Locklin \",\" Juilliard String Quartet \",\" Alanalda \",\" Victor Garber \",\" Diana Ross \",\" Ismael Miranda \",\" Katie Hanley \",\" \\u0411\\u043e\\u043b\\u044c\\u0448\\u043e\\u0439 \\u0434\\u0435\\u0442\\u0441\\u043a\\u0438\\u0439 \\u0445\\u043e\\u0440 \\u0426\\u0435\\u043d\\u0442\\u0440\\u0430\\u043b\\u044c\\u043d\\u043e\\u0433\\u043e \\u0442\\u0435\\u043b\\u0435\\u0432\\u0438\\u0434\\u0435\\u043d\\u0438\\u044f \\u0438 \\u0412\\u0441\\u0435\\u0441\\u043e\\u044e\\u0437\\u043d\\u043e\\u0433\\u043e \\u0440\\u0430\\u0434\\u0438\\u043e \",\" Crazy Cavan \",\" Larry Clinton \",\" Agust\\u00edn Barrios Mangor\\u00e9 \",\" Cheech And Chong with Alice Bowie \",\" Fritz Kreisler \",\" Ernie \",\" Tita Merello \",\" Teddy Pendergrass \",\" Georg Philipp Telemann \",\" Janice Kapp Perry \",\" Noel Hill \",\" Run D M C  \",\" Larry Carlton \",\" Chyi Yu \",\" Sally Yeh \",\" Jeff Hamlin \",\" Thomas Tallis \",\" Willy Chirino \",\" Melvin Williams \",\" Vince Gill \",\" Johnny Otis \",\" Zucchero \",\" Steve Reich \",\" Charles Valentin Alkan \",\" Cyril Ritchard \",\" Mort Garson \",\" Trem Da Alegria \",\" Doug Williams \",\" Lennie Niehaus \",\" Ricardo Arjona \",\" Lidell Townsell \",\" Gangsta Pat \",\" George Thorogood   The Destroyers \",\" Mad CJ Mac \",\" The Pharcyde \",\" Eddie Van Halen \",\" Lionel Hampton \",\" Richie Rich \",\" Frank Churchill \",\" Kenny Wayne Shepherd \",\" Steve Wariner \",\" C Murder \",\" George Michael \",\" A Tribe Called Quest \",\" Aim \",\" Blaque \",\" Daphne Rubin Vega \",\" Doc Watson \",\" UB40 \",\" Ren\\u00e9e Zellweger \",\" Zutty Singleton \",\" Jonathan Butler \",\" Fernando Ortega \",\" Chuck Willis \",\" The Last Mr  Bigg \",\" Basement Jaxx \",\" Finley Quaye \",\" H\\u00e9ctor  El Father  \",\" Lita Ford \",\" Todd Rundgren \",\" Talib Kweli \",\" Nino Brown \",\" Danger Doom \",\" DHT \",\" Andrea Bocelli \",\" Federico Mompou \",\" Yung Berg \",\" Grupo Exterminador \",\" Jim Sturgess \",\" Amy Beach \",\" Franco  El Gorilla  \",\" Bobby V  \",\" Leessang \",\" Charlie Wilson \",\" Claudio Moran \",\" Shankar Mahadevan \",\" Alex\",\" Robin Guthrie \",\" Marcelo D2 \",\" The Green \",\" Nova y Jory \",\" Yelawolf \",\" The Airborne Toxic Event \",\" Diggy \",\" Gareth Emery \",\" J Capri \",\" Lil Reese \",\" Kimie  \",\" Jason Isbell \",\" Cage The Elephant \",\" Bobby Shmurda \",\" Mandingo \",\" Jake Miller \",\" Jidenna \",\" Defqwop \",\" NEIKED \",\" Chipmusic Heroes \",\" Sabrina Carpenter \",\" Mag Lo \",\" Kid Quill \",\" Phosphorescent \",\" Yung Bae \",\" Jon Bellion \",\" C  Tangana \",\" BAYNK \",\" Tim Legend \",\" Ivan B \",\" A R I Z O N A \",\" Kendall Miles \",\" Ms Nina \",\" cucu \",\" Tay K \",\" Tinlicker \",\" Thundercat \",\" Hosier \",\" AzChike \",\" Charli XCX \",\" Ben Platt \",\" Boombox Cartel \",\" NoMBe \",\" Keith Urban \",\" Shawn Mendes \",\" Jillian Jacqueline \",\" Buddy \",\" Molina \",\" iann dior \",\" Ann Marie \",\" Mau y Ricky \",\" Snoh Aalegra \",\" Sophia Anne Caruso \",\" Romeo Santos \",\" Residente \",\" DVBBS \",\" Reykon \",\" Alec Benjamin \",\" Quin Nfn \",\" Sn\\u00f8w \",\" SHY Martin \",\" G Herbo \",\" Sheff G \",\" Don Toliver \",\" Oliver Heldens \",\" Sech \",\" John McCormack \",\" Ermanno Wolf Ferrari \",\" Ildebrando Pizzetti \",\" Bessie Smith \",\" Bertha  Chippie  Hill \",\" Hociel Thomas \",\" Paul Whiteman   His Orchestra \",\" Jean Goldkette and his Orchestra \",\" Bix Beiderbecke \",\" Hoagy Carmichael   His Orchestra \",\" Bix Beiderbecke And His Orchestra \",\" Paul Whiteman   His Concert Orchestra \",\" The Chenille Sisters \",\" Jelly Roll Morton \",\" Louis Armstrong   His Hot Seven \",\" Fats Waller\",\" Jimmie Rodgers \",\" Frankie Trumbauer   His Orchestra \",\" Benny Meroff   His Orchestra \",\" Bill  Bojangles  Robinson \",\" Baron Lee \",\" Orchestre Piero Coppola \",\" Benny Goodman \",\" Benny Goodman Sextet \",\" John Raitt \",\" Roaring Lion \",\" George Symonette \",\" Jack Teagarden \",\" Francisco Alves \",\" Jack Payne \",\" Henry Hall \",\" Frankie Carle \",\" Isham Jones   His Orchestra \",\" Teddy Wilson \",\" Richard Himber and his Orchestra \",\" Ernst H  Gombrich \",\" Glenn Miller \",\" Jack Haley \",\" Ken Darby \",\" Dick Haymes \",\" Billie Burke \",\" The Debutantes \",\" Lead Belly \",\" Adolph Green \",\" Rise Stevens \",\" Johannes Heesters \",\" Sumati Trilokekar \",\" Alfred Drake \",\" Celeste Holm \",\" Joseph Buloff \",\" Leela Pawar \",\" Mickey Rooney \",\" Buddy Clark \",\" Dinah Shore \",\" Arthur Freed \",\" The MGM Studio Orchestra   The MGM Studio Chorus \",\" Unknown \",\" Ethel Merman \",\" Robert Lenn \",\" Ray Middleton \",\" Neilson Taylor \",\" Dr  Samuel J  Hoffman \",\" Andrea McArdle \",\" William Warfield \",\" Richard Beavers \",\" Ouija Macc \",\" Zsa Zsa Padilla \",\" Fats Navarro \",\" Kathryn Grayson \",\" Stan Kenton   His Orchestra \",\" Sonny Rollins \",\" Richard Kiley \",\" Robert Preston \",\" Bill Lee \",\" Charmian Carr \",\" Thin Lizzy \",\" Carly Simon \",\" John Travolta \",\" David Frizzell \",\" Tears For Fears \",\" Heart \",\" Dan Seals \",\" Bill Medley \",\" Cher \",\" Roxette \",\" Marky Mark And The Funky Bunch \",\" Lea Salonga \",\" Los Yonic s \",\" Carmen Twillie \",\" Big Mountain \",\" Pretenders \",\" Ini Kamoze \",\" Soul For Real \",\" Tony  Toni  Ton\\u00e9  \",\" Pancho Barraza \",\" Ms  Lauryn Hill \",\" Case \",\" The Soggy Bottom Boys \",\" Sammie \",\" Jagged Edge \",\" Mark Keali i Ho omalu \",\" Grits \",\" Gary Jules \",\" Seether \",\" Nina Sky \",\" Crime Mob \",\" Tamia \",\" Nelly Furtado \",\" Jordin Sparks \",\" The Cinematic Orchestra \",\" Michael Franti   Spearhead \",\" Bon Iver \",\" Cobra Starship \",\" Jenifer Lewis \",\" Sounds Of Nature   Thunderstorm\",\" Travie McCoy \",\" Mandy Moore \",\" My Darkest Days \",\" Gotye \",\" Gym Class Heroes \",\" The Script \",\" Frank Ocean \",\" Kristen Bell \",\" We The Kings \",\" Roy Woods \",\" Wes Walker \",\" gnash \",\" DRAM \",\" Peachy  \",\" H E R  \",\" Social House \",\" Kina \",\" Juice WRLD \",\" Metro Boomin \",\" Morgan Wallen \",\" SAINt JHN \",\" BENEE \",\" Surf Mesa \",\" JP Saxe \",\" Polo G \",\" Wallows \",\" Topic \",\" Y2K \",\" Lil Mosey \",\" Luke Combs \",\" benny blanco \",\" Lil Nas X \",\" Lil Tecca \",\" ROSAL\\u00cdA \",\" Carly Pearce \",\" Jules Massenet \",\" Qatar Concert Choir \",\" Eug\\u00e9nie Buffet \",\" Jones Smith\",\" Jelly Roll Morton   His Red Hot Peppers \",\" Why Not \",\" Paul Bridgwater \",\" Fay De Witt \",\" Joaqu\\u00edn Turina \",\" Andr\\u00e9 Filho \",\" Conjunto Gilberto Rojas \",\" Pills \",\" Bunny Berigan \",\" Daniel Roberts \",\" \\u0392\\u03b1\\u03c3\\u03af\\u03bb\\u03b7\\u03c2 \\u039c\\u03b5\\u03c3\\u03bf\\u03bb\\u03bf\\u03b3\\u03b3\\u03af\\u03c4\\u03b7\\u03c2 \",\" Ruth Gaylor \",\" Mark Gamble \",\" Jimmy Rushing \",\" Padmadevi \",\" Jose Prats Sirera \",\" Dwijen Mukherjee \",\" Ishwarlal \",\" Jean Moscopol \",\" R  A  Dvorsk\\u00fd \",\" Sierra Nelson \",\" Buddy Ebsen \",\" Harold Arlen \",\" Johnny Hodges   His Orchestra \",\" Francois Campion \",\" Snehprabha Pradhan \",\" Ibrahim \\u00d6zg\\u00fcr \",\" Miss Kamala \",\" Vasanti \",\" Satish \",\" Munir Alam \",\" Ramola \",\" Arun Kumar \",\" Sitara \",\" Veena \",\" Mehtab \",\" Kaushalya \",\" M V  Rajamma \",\" Motilal \",\" Arnold Bax \",\" Carolina Cardoso de Menezes \",\" Malti \",\" Manorama \",\" Pahari Sanyal \",\" Vijay \",\" Rewa Shankar \",\" T Giacobetti \",\" Vicente Celestino \",\" Earl Grant \",\" S  D  Burman \",\" Finian s Rainbow Orchestra \",\" Lon Hoyt \",\" Donald Richards \",\" David Brooks \",\" Prakash \",\" Cesare Andrea Bixio \",\" Mitch Miller \",\" Stan Kenton \",\" Dock Reed \",\" Chubby Jackson Big Band \",\" The Carter Sisters \",\" Mother Maybelle \",\" Ann Miller \",\" James Whitmore \",\" Frantz Casseus \",\" Ben Wright \",\" Roy Eldridge \",\" Adolph Deutsch \",\" The Song Swappers \",\" Pete Seeger \",\" Iggie Wolfington \",\" The Buffalo Bills \",\" Eddie Hodges \",\" Etta James \",\" Jim   Jesse \",\" Julie Andrews \",\" Thurl Ravenscroft \",\" Hamilton\",\" Steve Harley \",\" Max Romeo \",\" Samantha Sang \",\" Kenny Loggins \",\" Neil Diamond \",\" Fozzie \",\" Patti Austin \",\" James Taylor \",\" James Ingram \",\" Scandal \",\" Peter Cetera \",\" The Communards \",\" Ready For The World \",\" Rick Astley \",\" Rush \",\" Mily Balakirev \",\" Suzanne Vega \",\" MC Breed \",\" Shai \",\" Chaka Demus   Pliers \",\" White Zombie \",\" Tevin Campbell \",\" Lil  Kim \",\" Lil Keke \",\" Glenn Close \",\" Joe Cocker \",\" Slick Rick \",\" Limp Bizkit \",\" Gillian Welch \",\" Los Originales De San Juan \",\" Erykah Badu \",\" Lupillo Rivera \",\" Tweet \",\" DJ Sammy \",\" David Banner \",\" Frankie Lymon \",\" Rehab \",\" Big Boy \",\" Young Dro \",\" Keyshia Cole \",\" Monchy   Alexandra \",\" Sharpay Evans \",\" CHAD \",\" Kardinal Offishall \",\" Tony Dize \",\" Dominic Cooper \",\" Savage \",\" Carlos Baute \",\" Maino \",\" Miley Cyrus \",\" Boys Like Girls \",\" Yeah Yeah Yeahs \",\" 3OH 3 \",\" Bad Meets Evil \",\" Eiffel 65 \",\" Jessie J \",\" Panic  At The Disco \",\" Icona Pop \",\" Set It Off \",\" August Alsina \",\" What So Not \",\" Cast   Sofia the First \",\" Mr  Probz \",\" Tove Lo \",\" Tinashe \",\" Timmy Trumpet \",\" Chase Rice \",\" Ren\\u00e9e Elise Goldsberry \",\" Jonathan Groff \",\" Kamaiyah \",\" Whethan \",\" Eric Bellinger \",\" Swell \",\" Taylor Ray Holbrook \",\" Kungs \",\" A$AP Mob \",\" Starley \",\" Opetaia Foa i \",\" Tyler Childers \",\" AJR \",\" BlocBoy JB \",\" Bazzi \",\" Joji \",\" Parmalee \",\" Maren Morris \",\" Bankrol Hayden \",\" Mitchell Tenpenny \",\" Lauv \",\" Jhay Cortez \",\" Tyla Yaweh \",\" Hans Pfitzner \",\" Ruby Smith \",\" Dj Phuta \",\" Amy Woodforde Finden \",\" Dj Shungi \",\" Las Kantutas \",\" Rita Abatzi \",\" Los Indios \",\" Westcoast Miners \",\" The Boswell Sisters \",\" Mad Dog \",\" Evaristo Fl\\u00f3rez \",\" Maya Banerjee \",\" F  Ferrandiere \",\" Paraguassu \",\" White Star \",\" The Four Lads \",\" Kantilal \",\" Apostolos Xatzixristos \",\" P\\u00e1nfilo de Narv\\u00e1ez \",\" \\u0393\\u03b9\\u03b1\\u03bd\\u03bd\\u03ac\\u03ba\\u03b7\\u03c2 \\u0399\\u03c9\\u03b1\\u03bd\\u03bd\\u03af\\u03b4\\u03b7\\u03c2 \",\" Mumtaz \",\" V  Ramakrishna \",\" Sadhana Sargam \",\" Brijmala \",\" Gyan Dutt \",\" Bijaya Das \",\" Leela Sawant \",\" Bhola \",\" John Dowland \",\" Zohrabai Ambalewali \",\" Yaksh \",\" Suman Kalyanpur \",\" Binapani Mukherjee \",\" Joseph Kosma \",\" Shabnam \",\" Sushil Sahu \",\" Y K Muddukrishna \",\" DJ Fil \",\" Lasse Bohlin \",\" Georges Van Parys \",\" \\u0394\\u03b7\\u03bc\\u03ae\\u03c4\\u03c1\\u03b7\\u03c2 \\u039c\\u03c0\\u03b5\\u03bd\\u03ad\\u03c4\\u03bf\\u03c2 \",\" Shyamal Mitra \",\" Pankaj Mullick \",\" P\\u00e9rez Prado \",\" Beny Mor\\u00e9 \",\" Stuart Hamblen \",\" Lani Misalucha \",\" Oscar Levant \",\" Carl Smith \",\" Howard Keel \",\" Hal Hackett \",\" Lilo \",\" Kismet Ensemble \",\" Gwen Verdon \",\" Stanley Holloway \",\" My Fair Lady Orchestra \",\" Mary Costa \",\" New York Philharmonic \",\" William Walton \",\" K  S  Chithra \",\" Harish Raghavendra \",\" Dick Van Dyke \",\" Dan Truhitte \",\" Jo\\u00e3o Gilberto \",\" Steve Lawrence \",\" G\\u00e1bor Szab\\u00f3 \",\" Tommy Boyce \",\" Dexter Gordon \",\" Donovan \",\" Alice Coltrane \",\" Eric Weissberg \",\" MFSB \",\" Susan Sarandon \",\" Lynyrd Skynyrd \",\" Little Feat \",\" Marilyn McCoo \",\" Slave \",\" Mi\\u00facha \",\" Camilo Sesto \",\" Vaughan Mason \",\" Pimpinela \",\" The Latin Brothers \",\" Pet Shop Boys \",\" World Party \",\" Toquinho \",\" Branford Marsalis Quartet \",\" Mykola Dmytrovych Leontovych \",\" Patty Smyth \",\" Fugees \",\" Soul II Soul \",\" Jesse Powell \",\" Dru Hill \",\" Garth Brooks \",\" Ofra Haza \",\" Ralph Fiennes \",\" M\\u00fda \",\" Avant \",\" Jo Dee Messina \",\" Barbara Mandrell \",\" Clint Black \",\" Blu Cantrell \",\" T\\u00e9l\\u00e9popmusik \",\" KeKe Wyatt \",\" Citizen Cope \",\" Frankie J \",\" Chad Kroeger \",\" NB Ridaz \",\" Franco De Vita \",\" Jes\\u00fas Adri\\u00e1n Romero \",\" Shooter Jennings \",\" Bon Jovi \",\" Baby Boy Da Prince \",\" Paula DeAnda \",\" Field Mob \",\" Troy \",\" Zac Efron \",\" Glen Hansard \",\" Rich Boy \",\" Blue Foundation \",\" Jesse McCartney \",\" Natasha Bedingfield \",\" Colby O Donis \",\" Christopher Wilde \",\" Lloyd Banks \",\" Breakbot \",\" Lykke Li \",\" Lil Wyte \",\" Big Data \",\" Maia Wilson \",\" ILOVEMAKONNEN \",\" Naughty Boy \",\" Phillipa Soo \",\" Chris Young \",\" Leslie Odom Jr  \",\" NEEDTOBREATHE \",\" Action Bronson \",\" Belly \",\" Toni Romiti \",\" FRENSHIP \",\" Cole Swindell \",\" Macklemore \",\" Jeremy Zucker \",\" Famous Dex \",\" Charlie Heat \",\" Hugh Jackman \",\" Chris Lane \",\" Clairo \",\" Madison Beer \",\" Pedro Cap\\u00f3 \",\" Jordan Davis \",\" Flipp Dinero \",\" AJ Mitchell \",\" Otto Reutter \",\" Georgi Mittaki \",\" Luis Zamudio \",\" Silvana Foresi \",\" \\u0399 \\u039a\\u03c9\\u03bd\\u03c3\\u03c4\\u03b1\\u03bd\\u03c4\\u03b9\\u03bd\\u03af\\u03b4\\u03b7\\u03c2 \",\" Jean Sablon \",\" Rena Stamou \",\" \\u03a3\\u03c4\\u03ad\\u03bb\\u03b9\\u03bf\\u03c2 \\u039a\\u03b5\\u03c1\\u03bf\\u03bc\\u03cd\\u03c4\\u03b7\\u03c2 \",\" Rena Dallia \",\" Antonio Morel \",\" Lee Wiley \",\" Mumtaz Ali \",\" Tex Beneke \",\" Erskine Hawkins   His Orchestra \",\" Gaspar Sanz \",\" Meenakshi \",\" Surendranath \",\" Roy Webb \",\" Khursheed \",\" Jyoti \",\" Iqbal Bibi \",\" Lakshmi Bai \",\" Devika Rani \",\" Juan Parga \",\" Domenico Cimarosa \",\" Veena Kumari \",\" Ernani Braga \",\" Zeenat Begum \",\" Miguel Llobet Sol\\u00e9s \",\" Public Domain \",\" Avinash Vyas \",\" Virgil Thomson \",\" Shankar \",\" Jan Ladislav Dussek \",\" Binota Roy \",\" Jacques Offenbach \",\" Usha Ganesh \",\" Shamshed Begum \",\" Paro \",\" Antonio Caldara \",\" Georges Gu\\u00e9tary \",\" Marge Champion \",\" Kay Starr \",\" Charlie Chaplin \",\" June Carter Cash \",\" Gerry Mulligan Quartet \",\" Blackbirds of 1928 Ensemble  1953  \",\" Henry Calvin \",\" Rae Allen \",\" Shannon Bolin \",\" Raul Garces \",\" Lefty Frizzell \",\" Hoagy Carmichael \",\" Lula Queiroga \",\" Pinchas Zukerman \",\" Charles Zimmerman \",\" Abhishek Bachchan \",\" Bobby Rydell \",\" Count Lasher \",\" Tom Scott \",\" Chuck Berry \",\" Michael Nesmith \",\" David Cassidy \",\" Kiki Dee \",\" M \",\" Andy Gibb \",\" Ebo Taylor \",\" Meat Loaf \",\" Yo Yo Ma \",\" Blancmange \",\" Stevie Ray Vaughan \",\" a ha \",\" Chorus   Beauty And the Beast \",\" Gerald Levert \",\" Anthrax \",\" Jesse Corti \",\" Karla Bonoff \",\" Randy Newman \",\" Aaron Lohr \",\" Heidi Mollenhauer \",\" Sidney Bechet \",\" Kashif \",\" Michelle Pfeiffer \",\" Faith Hill \",\" Unlike Pluto \",\" Harold Faltermeyer \",\" The Offspring \",\" Mary Mary \",\" George Strait \",\" PJ Harvey \",\" Spongebob Squarepants \",\" Erick Sermon \",\" Billy Crystal \",\" Jimmy Eat World \",\" Ewan McGregor \",\" Pastor Troy \",\" Lil  Mo \",\" Obie Trice \",\" Murphy Lee \",\" Fantasia \",\" D12 \",\" Memphis Bleek \",\" ALO \",\" Ryan \",\" Chadwick Stokes \",\" Playa Circle \",\" Julie Walters \",\" Christine Baranski \",\" High School Musical Cast \",\" Pierce Brosnan \",\" New Boyz \",\" Ester Dean \",\" Trillville \",\" SOJA \",\" Rascal Flatts \",\" Garrett Hedlund \",\" Elizabeth Mitchell \",\" J Boog \",\" Tyler James Williams \",\" Mayday Parade \",\" Five Finger Death Punch \",\" Flame \",\" Tristam \",\" Labrinth \",\" Lilly Wood and The Prick \",\" Natalie La Rose \",\" Seekae \",\" WILLOW \",\" R  City \",\" The Internet \",\" Troy Ave \",\" Rachel House \",\" NGHTMRE \",\" Christian French \",\" Sam Tinnesz \",\" YFN Lucci \",\" prxz \",\" Teqkoi \",\" Adriel Favela \",\" Quavo \",\" BLIND SEE \",\" JACKBOYS \",\" Feid \",\" 03 Greedo \",\" Mahalia \",\" IU \",\" Stunna 4 Vegas \",\" Curtis Waters \",\" Young Lil Sunscreen \",\" Jack Dabdoub \",\" Show Boat Orchestra  1962  \",\" Rutland Boughton \",\" Enrique Enrique Granados \",\" Lira Incaica \",\" Gerald Clark and The Calypso Orchestra \",\" Paradosiako \",\" Giorgos Nakos \",\" Arturo Sobenes \",\" Red Norvo   His Orchestra \",\" Charpini \",\" Gilles \",\" \\u039c\\u03b1\\u03c1\\u03af\\u03b1 \\u0391\\u03bd\\u03b4\\u03c1\\u03bf\\u03bd\\u03af\\u03ba\\u03bf\\u03c5 \",\" Manole Stroici \",\" Husn Banu \",\" Howard Shelly \",\" Lallubhai Naik \",\" Umashashi \",\" Vladimir Bobri \",\" Tripuramba \",\" Rathindra Ghosh \",\" Jack Teagarden   His Band \",\" William Kroll \",\" Joseph Koziel \",\" Rahmat Bano \",\" Shobhana Samarth \",\" \\u0391\\u03bd\\u03b4\\u03c1\\u03b9\\u03ba\\u03ae \\u03a7\\u03bf\\u03c1\\u03c9\\u03b4\\u03af\\u03b1 \\u03c4\\u03bf\\u03c5 \\u0398\\u03b9\\u03ac\\u03c3\\u03bf\\u03c5 \\u03a0\\u03b1\\u03bd\\u03c4\\u03bf\\u03c0\\u03bf\\u03cd\\u03bb\\u03bf\\u03c5 \",\" Kantina 27 \",\" Kusum Joshi \",\" Jack McCauley \",\" Naina \",\" M  N  Ghosh \",\" Krishnaveni \",\" Pierre Perrin \",\" Malati Pande \",\" Jean Marion \",\" Jack Carson \",\" Morton Gould \",\" Amir Khan \",\" Moises Vivanco \",\" Billy Butterfield \",\" Robert Shafer \",\" Lad Richards Orchestra \",\" Geraldo Pereira \",\" Silvio Caldas \",\" Unnikrishnan \",\" Lee  Scratch  Perry \",\" Creedence Clearwater Revival \",\" Bobby Cruz \",\" Cindy Bullens \",\" The Spinners \",\" Orchestra Baobab \",\" Stacy Lattisaw \",\" Keith Whitley \",\" Stanley Myers \",\" Prefab Sprout \",\" The Style Council \",\" New Order \",\" Dead Or Alive \",\" Cindy Benson \",\" Jennifer Warnes \",\" Frankie Knuckles \",\" The Crusaders \",\" Earl Thomas Conley \",\" The Replacements \",\" Al Bowlly \",\" The Commitments \",\" Cheo Feliciano \",\" Smokey Robinson \",\" John Mellencamp \",\" Massive Attack \",\" Vico C \",\" Everything But The Girl \",\" Selena \",\" David Ogden Stiers \",\" Jon B  \",\" Garbage \",\" H Town \",\" Roz Ryan \",\" Five \",\" Amick Byram \",\" The Corrs \",\" Arvo P\\u00e4rt \",\" Suzi Quatro \",\" Daniel Bedingfield \",\" Phil Oakey \",\" Kent Blazy \",\" Julieta Venegas \",\" Ramon Ayala \",\" Miranda Cosgrove \",\" Meryl Streep \",\"  In The Heights  Original Broadway Company \",\" The Chordettes \",\" Jim Cummings \",\" Sean Kingston \",\" Anna Margaret \",\" Verse Simmonds \",\" David Nail \",\" Hunter Hayes \",\" Tonight Alive \",\" Tito Y Su Torbellino \",\" Richard Armitage \",\" Train \",\" Dillon Francis \",\" TOKiMONSTA \",\" Mila J \",\" Ocean Sounds \",\" O T  Genasis \",\" Tyler Farr \",\" Mike Perry \",\" Hailee Steinfeld \",\" Fat Nick \",\" mansionz \",\" Sabrina Claudio \",\" Anthony Gonzalez \",\" Pouya \",\" Blackway \",\" City Girls \",\" David Lee Murphy \",\" Still Woozy \",\" Dynoro \",\" Dominic Fike \",\" MEDUZA \",\" Martin Jensen \",\" Piso 21 \",\" MASN \",\" Dr  Sus \",\" Surfaces \",\" Dua Lipa \",\" Saadettin Kaynak \",\" \\u0396\\u03b1\\u03c7\\u03b1\\u03c1\\u03af\\u03b1\\u03c2 \\u039a\\u03b1\\u03c3\\u03b9\\u03bc\\u03ac\\u03c4\\u03b7\\u03c2 \",\" Johann Jakob Froberger \",\" Los Yumbos \",\" \\u039a\\u03ce\\u03c3\\u03c4\\u03b1\\u03c2 \\u03a0\\u03bf\\u03bb\\u03af\\u03c4\\u03b7\\u03c2 \",\" \\u0394\\u03b7\\u03bc\\u03ae\\u03c4\\u03c1\\u03b7\\u03c2 \\u03a0\\u03b5\\u03c1\\u03b4\\u03b9\\u03ba\\u03cc\\u03c0\\u03bf\\u03c5\\u03bb\\u03bf\\u03c2 \",\" Oliver Hardy \",\" Felix Knight \",\" Stan Laurel \",\" Frank Fox Tanzorchester \",\" Eugen Mirea \",\" Abbasuddin Ahmed \",\" Shanta Apte \",\" Mauro Giuliani \",\" Madeleine Carroll \",\" Alice Faye \",\" Dick Powell \",\" Mikl\\u00f3s R\\u00f3zsa \",\" Madhuri Mukherjee \",\" Max Steiner \",\" \\u03a3\\u03c4\\u03ad\\u03bb\\u03bb\\u03b1 \\u03a7\\u03b1\\u03c3\\u03ba\\u03ae\\u03bb \",\" John Reardon \",\" Dionisio Aguado \",\" Tanguturi Suryakumari \",\" C S R Anjaneyulu \",\" Rooprekha Chatterjee \",\" \\u039d\\u03af\\u03ba\\u03bf\\u03c2 \\u03a7\\u03b1\\u03bc\\u03c0\\u03ac\\u03c2 \\u03bc\\u03b5 \\u03c4\\u03b7 \\u03bc\\u03b1\\u03bd\\u03c4\\u03bf\\u03bb\\u03b9\\u03bd\\u03ac\\u03c4\\u03b1 \\u0399\\u03b5\\u03c1\\u03cc\\u03b8\\u03b5\\u03bf\\u03c5 \\u03a3\\u03c7\\u03af\\u03b6\\u03b1 \",\" Norman Span \",\" Valery Zhelobinsky \",\" Mumtaz Shanti \",\" M  K  Thyagaraja Bhagavathar \",\" Aarti Mukherji \",\" Jamuna \",\" Dennis Morgan \",\" Spike Jones Orchestra \",\" Spike Jones \",\" Eddie Cantor \",\" Adriana Chamorro \",\" Douglas Gamley \",\" Sridhar Parsekar \",\" Kusum Mantri \",\" E Y  Harburg \",\" Chunilal Pardesi \",\" Ramu \",\" Purnima Chatterjee \",\" \\u0393\\u03b9\\u03ac\\u03bd\\u03bd\\u03b7\\u03c2 \\u039c\\u03c0\\u03bf\\u03c5\\u03bb\\u03cc\\u03c4\\u03b1\\u03c2 \",\" Nargis \",\" Glynis Johns \",\" Mangala Narwekar \",\" Koula Nikolaidou \",\" Stella Haskil \",\" Wynton Kelly \",\" Vera Hall \",\" Ernest Chausson \",\" Stephen Douglass \",\" Cult priest with bell\",\" A  Merangulian \",\" Engelbert Humperdinck \",\" Matthias Kadar \",\" Premlata \",\" Lou Donaldson \",\" Art Blakey Quintet \",\" Johnny Mercer   The Pied Pipers \",\" Polly Bergen \",\" Maurice Evans \",\" Jean Shepard \",\" Amalia Mendoza \",\" Julie London \",\" Orquesta Harlow \",\" Keith Mansfield \",\" Julie Dawn Cole \",\" Jack Albertson \",\" Piero Piccioni \",\" Ana Bel\\u00e9n \",\" Gary Myrick   The Figures \",\" Blondie \",\" Dottie West \",\" The Paul Butterfield Blues Band \",\" Kalyanji Anandji \",\" Klymaxx \",\" The Jacksons \",\" Gloria Estefan And Miami Sound Machine \",\" Clannad \",\" Gary Moore \",\" Levi Stubbs \",\" Public Image Ltd  \",\" Terrence Mann \",\" Amy Irving \",\" Gipsy Kings \",\" Lou Reed \",\" Randy Travis \",\" Refugee Camp All Stars \",\" Chant\\u00e9 Moore \",\" Roy Orbison \",\" Luis Bonfa \",\" Take That \",\" Maurice Williams \",\" Blessid Union Of Souls \",\" Linda Hunt \",\" Az Yet \",\" UNKLE \",\" 98\\u00ba \",\" Bee Gees \",\" Hot Boys \",\" Paul Dukas \",\" City High \",\" La Ley \",\" Celso Pi\\u00f1a \",\" Busdriver \",\" Baby \",\" King Geedorah \",\" Joe \",\" Adina Howard \",\" De La Soul \",\" The Strokes \",\" Justice \",\" Tito  El Bambino  \",\" Easy Star All Stars \",\" Alex Gaudino \",\" Blu \",\" James Morrison \",\" Amanda Seyfried \",\" Diplomats of Solid Sound \",\" Gorilla Zoe \",\" Hannah Montana \",\" Zion I \",\" Dave Rawlings Machine \",\" Ben Cocks \",\" Tim Berg \",\" Crystal Castles \",\" Iyaz \",\" Thurston Harris \",\" Plan B \",\" Problem \",\" Smoke DZA \",\" Flying Lotus \",\" Adrian Marcel \",\" Azealia Banks \",\" Ryan Stevenson \",\" Luke Bryan \",\" Colter Wall \",\" Griffinilla \",\" Call Me Karizma \",\" PLVTINUM \",\" Dennis Kruissen \",\" Stwo \",\" itssvd \",\" Mounika  \",\" Alex Rose \",\" Skip Marley \",\" TOKYO\\u2019S REVENGE \",\" S1mba \",\" Kelsea Ballerini \",\" FLETCHER \",\" Dranem \",\" Buddy Moss \",\" Psycoprata \",\" Don Redman and His Orchestra \",\" Los Cambas \",\" Lionel Belasco And His Orchestra \",\" \\u039a\\u03ce\\u03c3\\u03c4\\u03b1\\u03c2 \\u039a\\u03b1\\u03c0\\u03bb\\u03ac\\u03bd\\u03b7\\u03c2 \",\" \\u0394 \\u039b\\u03af\\u03bd\\u03c4\\u03b1 \",\" Miss Angurbala \",\" Vishnupant Pagnis \",\" Henryk Wieniawski \",\" Gobinda Gopal Mukherjee \",\" Shankar Rao Vyas \",\" Ashok Kumar \",\" Albert Hammond \",\" Georg Hann \",\" \\u039c\\u03ac\\u03ba\\u03b7\\u03c2 \\u039a\\u03b1\\u03c1\\u03bd\\u03ad\\u03c1\\u03b7\\u03c2 \",\" Ernest Moret \",\" Shanta Hublikar \",\" Errol Flynn \",\" Bette Davis \",\" John Garfield \",\" Bharat Vyas \",\" Gulshan Sufi \",\" Luis de Milan \",\" Rani \",\" Masood Parvez \",\" Saleem Raza \",\" Male singers\",\" \\u03a3\\u03c4\\u03b1\\u03cd\\u03c1\\u03bf\\u03c2 \\u03a0\\u03bb\\u03ad\\u03c3\\u03c3\\u03b1\\u03c2 \",\" Marilyn Ross \",\" Hazel Flagg Orchestra \",\" Alexander Rybak \",\" Geraldo Azevedo \",\" Candido das Neves  Indio  \",\" Don Gardner \",\" Kai Winding \",\" Bill Shirley \",\" Burl Ives \",\" Carmela Y Rafael \",\" Bobbie Gentry \",\" Harold Melvin \",\" Steven Halpern \",\" Kermit \",\" \\u7b20\\u4e95 \\u7d00\\u7f8e\\u5b50 \",\" Berlin \",\" Silvio Rodr\\u00edguez \",\" Elaine Paige \",\" Trevor Jones \",\" Colm Wilkinson \",\" Ian Dury \",\" Teddy Riley \",\" Marty Stuart \",\" The Mavericks \",\" Bill Farmer \",\" Nana Mouskouri \",\" MC Lyte \",\" Antonio Aguilar \",\" Richard M  Sherman \",\" Steve Martin \",\" Harry Gregson Williams \",\" Mulgrew Miller \",\" Raphael Saadiq \",\" Slum Village \",\" Shankar Ehsaan Loy \",\" Celldweller \",\" Young Gunz \",\" Sleepy Brown \",\" Los Dinamiteros de Colombia \",\" The Noise \",\" Abel Zavala \",\" English Chamber Orchestra \",\" Vicente Fern\\u00e1ndez \",\" Aaron Lewis \",\" Kalimba \",\" Amy Adams \",\" Billy Ray Cyrus \",\" Koop \",\" MGMT \",\" Bombay Bicycle Club \",\" Ben Folds \",\" Candace \",\" Blackmill \",\" Korn \",\" Tamela Mann \",\" Maejor \",\" Fear\",\" Ed Helms \",\" Lifehouse \",\" Shane Smith   the Saints \",\" Ross Lynch \",\" Tegan and Sara \",\" Route 94 \",\" ZHU \",\" Ryan McCartan \",\" Vedo \",\" Shovels   Rope \",\" TheFatRat \",\" Ark Patrol \",\" TSUKI \",\" CHANYEOL \",\" EARTHGANG \",\" quickly\",\" Herencia de Patrones \",\" JID \",\" Sugarland \",\" Casting Crowns \",\" BROCKHAMPTON \",\" D Smoke \",\" All Time Low \",\" George Munro \",\" Tampa Red \",\" Blanche Calloway   Her Joy Boys \",\" Orquesta Tipica Boliviana \",\" Doll Dauber \",\" Jules Rubin \",\" Wahidan Bai \",\" Joan Ellison \",\" A  Likiardopoulou \",\" \\u041e\\u0422\\u0412\\u0410\\u041b \\u0411\\u0410WKN \",\" H Khan Mastana \",\" Ramdulari \",\" Jimmy Dorsey   His Orchestra \",\" Betty Grable \",\" Bando Da Luna \",\" Carole Landis \",\" M Cozzoli \",\" Michelangelo Rossi \",\" De Leone \",\" Nicholas \",\" H  Faruqi \",\" Dilshad Begum \",\" \\u00c9tienne Lorin \",\" Sailesh \",\" P  A  Periyanayaki \",\" Dost Mohommed \",\" Chandrakala \",\" Jose Padilla \",\" Vassilis Saleas \",\" Takis Binis \",\" Sakal \",\" Paco Aguilera \",\" Sulochana \",\" Shambukaw player from Gura Valley\",\" Hugo Wolf \",\" Tony Russo \",\" Sy Melano \",\" Nilo S\\u00e9rgio \",\" Avon Long \",\" Harrington Joseph Stafford\",\" Billy Butterfield And His Orchestra \",\" Thelonious Monk Septet \",\" Timmy \",\" The Gary McFarland Orchestra \",\" Lupe Mendoza \",\" The Upsetters \",\" Maddy Prior \",\" James Last \",\" Nazia Hassan \",\" The Oak Ridge Boys \",\" Al Johnson \",\" The Tubes \",\" Fun Boy Three \",\" Ray Lynch \",\" Mojo Nixon \",\" Shakatak \",\" Jos\\u00e9 Luis Perales \",\" Eric Tingstad \",\" Philip Glasser \",\" Michael Jones \",\" Sam Hui \",\" Levert \",\" Queen Latifah \",\" Black Box \",\" Rachelle Ferrell \",\" Jerry Butler \",\" Jossie Esteban \",\" Teenage Fanclub \",\" Reel 2 Real \",\" Patra \",\" Baduria\",\" Anita Baker \",\" Ray\",\" Charlton Heston \",\" Gina G \",\" Lil Sko \",\" Devin The Dude \",\" Lo Fidelity Allstars \",\" Candy Lo \",\" Sparkle \",\" Lootpack \",\" Clay Walker \",\" Reflection Eternal \",\" Xavier \",\" Pepe Tovar Y Los Chacales \",\" Olle Adolphson \",\" Robbie Williams \",\" Brotha Lynch Hung \",\" Pepe Tovar \",\" FC Kahuna \",\" Viktor Vaughn \",\" Hikaru Utada \",\" Freeway \",\" Norah Jones \",\" Chorus   Mulan \",\" Butterfly Boucher \",\" Antonio Banderas \",\" Trick Trick \",\" Jay Chou \",\" Wilson Jermaine Heredia \",\" Huey Lewis \",\" OJ Da Juiceman \",\" Endres Quartet \",\" YACHT \",\" Havana Brown \",\" Jeff Bernat \",\" Mandisa \",\" You Me At Six \",\" Chiddy Bang \",\" WZRD \",\" Florence   The Machine \",\" Clyde Carson \",\" Pablo Albor\\u00e1n \",\" Ricardo Montaner \",\" Julia Sheer \",\" Smallpools \",\" Armin van Buuren \",\" Aaron Krause \",\" Kavinsky \",\" Ryan Montbleau \",\" Pentatonix \",\" Kyla La Grange \",\" Zeds Dead \",\" OMI \",\" Pham \",\" Omar LinX \",\" Jacksepticeye \",\" Flatland Cavalry \",\" Getter \",\" V \",\" Verzache \",\" Koe Wetzel \",\" The Belonging Co \",\" Brett Young \",\" Pardison Fontaine \",\" Why Don t We \",\" James Bay \",\" Khruangbin \",\" Jasiah \",\" Jameson Rodgers \",\" Nea \",\" Ioannou Georgakopoulou \",\" \\u039d\\u03b1\\u03bd\\u03ac \\u0393\\u03ba\\u03c1\\u03ad\\u03ba\\u03b1 \",\" Sardar Akhtar \",\" Miss Bibbo \",\" Carl Engel \",\" Gauhar Sultana \",\" M\\u00fczeyyen Senar \",\" R  Nagendra Rao \",\" Vatsala Kumthekar \",\" Gerardo Matos Rodriguez \",\" \\u00c9douard Lalo \",\" Cyril Scott \",\" Frank Skinner \",\" Afzal \",\" Nadira \",\" Saraswati Rane \",\" Rekharani \",\" Paul Misraki \",\" Raj\\u00e9 Shwari \",\" Vivienne Segal \",\" Guri Prahlad \",\" Stelios Kazantzidis\",\" Mixed Bokharian singers\",\" Shiloh Primitive Baptist Church  Bogue Chito\",\" Anatoly Lyadov \",\" D  Gonzalez \",\" Kristine Akselsen \",\" Franz Xaver Gruber \",\" The Hollywood Arist O Kats \",\" Sid King   The Five Strings \",\" Ary Barroso \",\" Audrey Hepburn \",\" Jeri Southern \",\" Arnold Schoenberg \",\" Mahalia Jackson \",\" Red Garland Quintets \",\" Walter Brennan \",\" Zero Mostel\",\" Marni Nixon \",\" Billie Richards \",\" James Brown   The Famous Flames \",\" The George Benson Quartet \",\" Alonso Mudarra \",\" The Paragons \",\" Jean Jacques Perrey \",\" Derrick Harriott \",\" Sister Sledge \",\" Jerry Jeff Walker \",\" The Charlie Daniels Band \",\" Ronnie Milsap \",\" Maurice Joshua \",\" Conjunto Chaney \",\" William Bell \",\" Dr  John \",\" Monie Love \",\" Al Martino \",\" Boston Pops Orchestra \",\" Bonnie Raitt \",\" Louie Ramirez \",\" Super Cat \",\" Donald Harrison \",\" Newsies Additional Singing Cast \",\" Buddy Castle \",\" Moby \",\" Richard Smallwood \",\" X Raided \",\" Samuel E  Wright \",\" John Michael Talbot \",\" Lord Tariq \",\" Quindon Tarver \",\" Eric Timmons \",\" Hawk \",\" blink 182 \",\" Nick Cannon \",\" Tom Jones \",\" The RH Factor \",\" Ton\\u00e9x \",\" Robyn \",\" Tracie Thoms \",\" Ed Ivory \",\" Selah \",\" Los Telez \",\" Snow Patrol \",\" Jack White \",\" Christopher Jackson \",\" Cali Life Style \",\" La Roux \",\" Phineas \",\" He Is We \",\" Bryan J \",\" Eddie Vedder \",\" Charlie Parr \",\" Tedashii \",\" Mykko Montana \",\" Ab Soul \",\" Kany Garcia \",\" Bahamas \",\" Bingo Players \",\" Gustavo Santaolalla \",\" The Worship Initiative \",\" Dom Kennedy \",\" Rowan Blanchard \",\" Electric Youth \",\" Timeflies \",\" Pia Mia \",\" Joe Arroyo \",\" Jeff Lewis \",\" Ra Ra Riot \",\" Chino   Nacho \",\" Jordan Fisher \",\" Omar Ruiz \",\" Drugdealer \",\" Dre es \",\" North Point Worship \",\" beabadoobee \",\" Shiloh Dynasty \",\" Andy Mineo \",\" Jess Glynne \",\" Skye \",\" Ari Lennox \",\" Rotimi \",\" Sista Prod \",\" Swae Lee \",\" Bea Miller \",\" Gabrielle Aplin \",\" Young Bombs \",\" Casper Magico \",\" Sub Urban \",\" Marca MP \",\" Jan Clayton \",\" Liza Lehmann \",\" Joaqu\\u00edn Malats \",\" Toscha Seildel \",\" Lille Connie\",\" Durgesh Kumar \",\" Kostas Roukounas \",\" Cynthia Arana \",\" Kamala Bai \",\" Antonio Francisco Braga \",\" Tara \",\" Gustav Saenger \",\" Woody Herman   His Orchestra  Igor Stravinsky\",\" Nirmala Devi \",\" Binita Roy \",\" Jaganmoy Mitra \",\" Ramesh \",\" \\u0393\\u03b5\\u03c1\\u03ac\\u03c3\\u03b9\\u03bc\\u03bf\\u03c2 \\u03a3\\u03ac\\u03b3\\u03b9\\u03b1\\u03c2 \",\" K  V  Janaki \",\" Santha Kumari \",\" Mikhail Glinka \",\" Lallubhai \",\" Zanin \",\" Gilbert B\\u00e9caud \",\" Helene Tronsmo \",\" Don Charles \",\" William Croft \",\" Jimmy Dean \",\" Dee Dee Sharp \",\" Paul Winter \",\" Andre Francis \",\" Baden Powell \",\" Eliseo Herrera \",\" Minnie Riperton \",\" Alfredo Guti\\u00e9rrez y sus Acordeones Dorados \",\" Castelnuevo Tedesco \",\" Maria Beth\\u00e2nia \",\" Black Uhuru \",\" Heaven 17 \",\" Nikolaus Harnoncourt \",\" Sparks \",\" Joe Jackson \",\" Gregory Isaacs \",\" The Dickey Betts Band \",\" Carl Nielsen \",\" Gene Vincent \",\" Adamski \",\" The B 52 s \",\" D  Pritzker \",\" Vicious \",\" 20 Fingers \",\" Funkadelic \",\" Bj\\u00f6rk \",\" William Boyce \",\" Zoel \",\" Sash  \",\" Dalida \",\" Michael Kamen \",\" Mr  Scruff \",\" Keller Williams \",\" Henri Salvador \",\" Billy Preston \",\" London Metropolitan Orchestra \",\" Paul Oakenfold \",\" Tigger \",\" Styles P \",\" Shep \",\" South Border \",\" Klaus \",\" Remy Ma \",\" Neil Patrick Harris \",\" CeeLo Green \",\" Jordan Francis \",\" Greg Street \",\" Passenger \",\" Daniel Merriweather \",\" Ted Poley \",\" New Life Worship \",\" Aqualung \",\" YC Worldwide \",\" Josh Gad \",\" I4NI \",\" Parra for Cuva \",\" M83 \",\" Karen Harding \",\" Chris Renzema \",\" Syn Cole \",\" Alexandre Desplat \",\" Noel Torres \",\" Jetta \",\" Tove Styrke \",\" Abhi The Nomad \",\" Iron   Wine \",\" Artists Of Then\",\" Nathan Sykes \",\" Blai$y \",\" Jazmine Sullivan \",\" Kasbo \",\" Valee \",\" Lil Xan \",\" Matt Ox \",\" pewdiepie \",\" Doobie \",\" Jessie James Decker \",\" Yung Pinch \",\" Boy In Space \",\" KRYPTO9095 \",\" El Alfa \",\" Tito Torbellino Jr \",\" Ir Sais \",\" Dustin Lynch \",\" BRELAND \",\" LEGADO 7 \",\" DripReport \"]},\"selected\":{\"id\":\"9940\"},\"selection_policy\":{\"id\":\"9941\"}},\"id\":\"9675\",\"type\":\"ColumnDataSource\"},{\"attributes\":{},\"id\":\"8987\",\"type\":\"SaveTool\"},{\"attributes\":{\"data_source\":{\"id\":\"9362\"},\"glyph\":{\"id\":\"9363\"},\"hover_glyph\":null,\"muted_glyph\":null,\"nonselection_glyph\":{\"id\":\"9364\"},\"selection_glyph\":null,\"view\":{\"id\":\"9366\"}},\"id\":\"9365\",\"type\":\"GlyphRenderer\"},{\"attributes\":{\"fill_alpha\":{\"value\":0.1},\"fill_color\":{\"value\":\"#1f77b4\"},\"line_alpha\":{\"value\":0.1},\"line_color\":{\"value\":\"#1f77b4\"},\"top\":{\"field\":\"top\"},\"width\":{\"value\":100},\"x\":{\"field\":\"x\"}},\"id\":\"9677\",\"type\":\"VBar\"},{\"attributes\":{\"end\":10},\"id\":\"8971\",\"type\":\"Range1d\"},{\"attributes\":{},\"id\":\"8978\",\"type\":\"CategoricalTicker\"},{\"attributes\":{\"overlay\":{\"id\":\"8990\"}},\"id\":\"8986\",\"type\":\"BoxZoomTool\"},{\"attributes\":{\"text\":\"\"},\"id\":\"9251\",\"type\":\"Title\"},{\"attributes\":{\"formatter\":{\"id\":\"9254\"},\"ticker\":{\"id\":\"8981\"}},\"id\":\"8980\",\"type\":\"LinearAxis\"},{\"attributes\":{},\"id\":\"9940\",\"type\":\"Selection\"},{\"attributes\":{},\"id\":\"8988\",\"type\":\"ResetTool\"},{\"attributes\":{\"axis\":{\"id\":\"8977\"},\"ticker\":null},\"id\":\"8979\",\"type\":\"Grid\"},{\"attributes\":{\"source\":{\"id\":\"9675\"}},\"id\":\"9679\",\"type\":\"CDSView\"},{\"attributes\":{},\"id\":\"9252\",\"type\":\"CategoricalTickFormatter\"}],\"root_ids\":[\"8968\"]},\"title\":\"Bokeh Application\",\"version\":\"2.2.3\"}};\n",
       "  var render_items = [{\"docid\":\"63d80025-b82b-4ccf-a6d2-40e840b79e08\",\"root_ids\":[\"8968\"],\"roots\":{\"8968\":\"4b46c63d-8670-4479-9bcc-c6fa45b4f788\"}}];\n",
       "  root.Bokeh.embed.embed_items_notebook(docs_json, render_items);\n",
       "\n",
       "  }\n",
       "  if (root.Bokeh !== undefined) {\n",
       "    embed_document(root);\n",
       "  } else {\n",
       "    var attempts = 0;\n",
       "    var timer = setInterval(function(root) {\n",
       "      if (root.Bokeh !== undefined) {\n",
       "        clearInterval(timer);\n",
       "        embed_document(root);\n",
       "      } else {\n",
       "        attempts++;\n",
       "        if (attempts > 100) {\n",
       "          clearInterval(timer);\n",
       "          console.log(\"Bokeh: ERROR: Unable to run BokehJS code because BokehJS library is missing\");\n",
       "        }\n",
       "      }\n",
       "    }, 10, root)\n",
       "  }\n",
       "})(window);"
      ],
      "application/vnd.bokehjs_exec.v0+json": ""
     },
     "metadata": {
      "application/vnd.bokehjs_exec.v0+json": {
       "id": "8968"
      }
     },
     "output_type": "display_data"
    }
   ],
   "source": [
    "show(p)"
   ]
  },
  {
   "cell_type": "markdown",
   "metadata": {},
   "source": [
    "<br> Vous pouvez faire de même pour les données catégoriques clé (Key) pour voir la popularité des pistes selon ces clé."
   ]
  },
  {
   "cell_type": "code",
   "execution_count": null,
   "metadata": {},
   "outputs": [],
   "source": []
  },
  {
   "cell_type": "code",
   "execution_count": null,
   "metadata": {},
   "outputs": [],
   "source": []
  },
  {
   "cell_type": "code",
   "execution_count": null,
   "metadata": {},
   "outputs": [],
   "source": []
  },
  {
   "cell_type": "code",
   "execution_count": null,
   "metadata": {},
   "outputs": [],
   "source": []
  },
  {
   "cell_type": "code",
   "execution_count": null,
   "metadata": {},
   "outputs": [],
   "source": []
  },
  {
   "cell_type": "markdown",
   "metadata": {},
   "source": [
    "<br></br>\n",
    "## C. Création de multiples visualisations"
   ]
  },
  {
   "cell_type": "markdown",
   "metadata": {},
   "source": [
    "Lors de la création des data visualisations, nous avons tendance à afficher de multiple graphes sur le même ecran. Ceci peut être fait en organisant les graphes avec les layouts. L'utilisateion des layouts, tabs, et les grids peut nous permettre de lier entre multiple graphes en utilisant les mêmes axes. Ce qui rend a comparaison entre les différents graphes plus facile et précis."
   ]
  },
  {
   "cell_type": "markdown",
   "metadata": {},
   "source": [
    "#### 1. Création de multiple graphes selon la même ligne "
   ]
  },
  {
   "cell_type": "markdown",
   "metadata": {},
   "source": [
    "Afin d'organiser nos graphes selon la même ligne, on crée en premier lieu 3 graphes pour trois artistes de votre choix."
   ]
  },
  {
   "cell_type": "code",
   "execution_count": 141,
   "metadata": {},
   "outputs": [],
   "source": [
    "# Créer trois graphes Line affichant respectivement loudness de trois artistes \n"
   ]
  },
  {
   "cell_type": "code",
   "execution_count": 142,
   "metadata": {},
   "outputs": [],
   "source": [
    "from bokeh.layouts import row"
   ]
  },
  {
   "cell_type": "code",
   "execution_count": 143,
   "metadata": {},
   "outputs": [],
   "source": [
    "# Créer un objet row object avec les trois graphes\n",
    "\n"
   ]
  },
  {
   "cell_type": "code",
   "execution_count": 144,
   "metadata": {},
   "outputs": [],
   "source": [
    "# Visualiser les trois graphes selon le layout\n",
    "\n"
   ]
  },
  {
   "cell_type": "markdown",
   "metadata": {},
   "source": [
    "#### 2. Creation de multiple graphes selon des lignes et colonnes "
   ]
  },
  {
   "cell_type": "markdown",
   "metadata": {},
   "source": [
    "On pourrait prévoir de voir par exemple des graphes relatifs à un artiste sur une ligne, ceux d'un autre artiste sur une autre. Pour ce faire, on devra créer un nested Layout, qui est un layout permettant de simplfier l'organisation des graphes selon les lignes et les colonnes."
   ]
  },
  {
   "cell_type": "code",
   "execution_count": 145,
   "metadata": {},
   "outputs": [],
   "source": [
    "from bokeh.layouts import column"
   ]
  },
  {
   "cell_type": "code",
   "execution_count": 146,
   "metadata": {},
   "outputs": [],
   "source": [
    "# créer 3 graphes des mêmes artistes, dépictant cette fois la popularité\n",
    "\n"
   ]
  },
  {
   "cell_type": "code",
   "execution_count": 147,
   "metadata": {},
   "outputs": [],
   "source": [
    "# Créer un object nested_layout qui organisera vos graphes où chaque ligne sera consacré à un artiste, chaque colonne à visualiser une mesure\n",
    "\n"
   ]
  },
  {
   "cell_type": "code",
   "execution_count": 148,
   "metadata": {},
   "outputs": [],
   "source": [
    "# Afficher les graphes selon le nouveau layout\n",
    "\n"
   ]
  },
  {
   "cell_type": "markdown",
   "metadata": {},
   "source": [
    "Ceci revient à créer un grid layout avec 3 lignes et 2 colonnes. Bokeh procure une fonction \"gridplot\" qui permet la création de layouts robustes grâce à la  diversité des combinaisons possibles dans l'empilage des graphes au niveau du même ecran."
   ]
  },
  {
   "cell_type": "code",
   "execution_count": 149,
   "metadata": {},
   "outputs": [],
   "source": [
    "from bokeh.layouts import gridplot"
   ]
  },
  {
   "cell_type": "code",
   "execution_count": 150,
   "metadata": {},
   "outputs": [],
   "source": [
    "# Créer un objet grid_layout qui organise les graphes de la même manière que le nested layout\n"
   ]
  },
  {
   "cell_type": "code",
   "execution_count": 151,
   "metadata": {},
   "outputs": [],
   "source": [
    "# Afficher le grid_layout\n"
   ]
  },
  {
   "cell_type": "markdown",
   "metadata": {},
   "source": [
    "<br></br>\n",
    "#### 3. Creation des onglets"
   ]
  },
  {
   "cell_type": "markdown",
   "metadata": {},
   "source": [
    "Il est très utile de pouvoir créer des layouts multiples dans différents onglets. Bokeh procure les objets tabbed Layout, auxquels les graphes peuvent être ajoutés. On va créer deux onglets, l'un pour artiste 1, l'autre pour le deuxième artiste. "
   ]
  },
  {
   "cell_type": "code",
   "execution_count": 152,
   "metadata": {},
   "outputs": [
    {
     "ename": "ModuleNotFoundError",
     "evalue": "No module named 'bokeh.models.widgest'",
     "output_type": "error",
     "traceback": [
      "\u001b[0;31m---------------------------------------------------------------------------\u001b[0m",
      "\u001b[0;31mModuleNotFoundError\u001b[0m                       Traceback (most recent call last)",
      "\u001b[0;32m<ipython-input-152-e8edc4fd4357>\u001b[0m in \u001b[0;36m<module>\u001b[0;34m\u001b[0m\n\u001b[0;32m----> 1\u001b[0;31m \u001b[0;32mfrom\u001b[0m \u001b[0mbokeh\u001b[0m\u001b[0;34m.\u001b[0m\u001b[0mmodels\u001b[0m\u001b[0;34m.\u001b[0m\u001b[0mwidgest\u001b[0m \u001b[0;32mimport\u001b[0m \u001b[0mTabs\u001b[0m\u001b[0;34m,\u001b[0m \u001b[0mPanel\u001b[0m\u001b[0;34m\u001b[0m\u001b[0;34m\u001b[0m\u001b[0m\n\u001b[0m",
      "\u001b[0;31mModuleNotFoundError\u001b[0m: No module named 'bokeh.models.widgest'"
     ]
    }
   ],
   "source": [
    "from bokeh.models.widgest import Tabs, Panel"
   ]
  },
  {
   "cell_type": "markdown",
   "metadata": {},
   "source": [
    "Pour créer un tabbed layout, on aura besoin de créer en premier lieu deux panels en utilisant la fonction Panel. Chaque Panel se composera de ses propres graphes spécifiés à l'aide de l'argument \"child\" dans la fonction Panel. "
   ]
  },
  {
   "cell_type": "code",
   "execution_count": null,
   "metadata": {},
   "outputs": [],
   "source": [
    "# Créer deux objets Panel pour chacun des artistes. \n",
    "# Vous pouvez attribuer un titre aux Panels (qui seront affichés en haut de l'onglet).\n",
    "\n"
   ]
  },
  {
   "cell_type": "code",
   "execution_count": null,
   "metadata": {},
   "outputs": [],
   "source": [
    "# Donner les Panels aux objets Tabs\n",
    "\n",
    "\n"
   ]
  },
  {
   "cell_type": "code",
   "execution_count": null,
   "metadata": {},
   "outputs": [],
   "source": [
    "# Afficher les objets tabs\n",
    "\n"
   ]
  },
  {
   "cell_type": "markdown",
   "metadata": {},
   "source": [
    "<br></br>\n",
    "#### 4. Liaison entre deux graphes"
   ]
  },
  {
   "cell_type": "markdown",
   "metadata": {},
   "source": [
    "Comparer deux graphes sur le même ecran devient plus facile quand ces derniers sont liés. Dans cette partie, on créera multiple graphes sur le même axe x. Pour ce faire, on va créer deux scatter plots basé sur les données du premier artiste mais on leur donnera le même axe x. "
   ]
  },
  {
   "cell_type": "code",
   "execution_count": null,
   "metadata": {},
   "outputs": [],
   "source": [
    "#  Créer une ColumnDataSource avec les colonnes 'release_date', 'danceability', 'acousticness', 'energy', 'loudness'\n",
    "\n"
   ]
  },
  {
   "cell_type": "code",
   "execution_count": null,
   "metadata": {},
   "outputs": [],
   "source": [
    "# Créer deux scatterplots: Le premier pour voir la relation entre 'danceability' et 'acousticness', le deuxième 'energy' et 'loudness'\n",
    "\n"
   ]
  },
  {
   "cell_type": "code",
   "execution_count": null,
   "metadata": {},
   "outputs": [],
   "source": [
    "# x_range fait référence à l'axe x des deux graphes. S'assurer que les deux graphes ont le même axe x.\n",
    "\n"
   ]
  },
  {
   "cell_type": "code",
   "execution_count": null,
   "metadata": {},
   "outputs": [],
   "source": [
    "# Organiser les deux graphes dans un layout (vous pouvez utiliser la fonction row)\n",
    "\n"
   ]
  },
  {
   "cell_type": "code",
   "execution_count": null,
   "metadata": {},
   "outputs": [],
   "source": [
    "# Afficher le Layout\n",
    "\n"
   ]
  },
  {
   "cell_type": "markdown",
   "metadata": {},
   "source": [
    "Remarquez que les deux graphes ont le même axe x. Si vous zoomer sur le premier, le deuxième suivra."
   ]
  },
  {
   "cell_type": "markdown",
   "metadata": {},
   "source": [
    "<br></br>\n",
    "### D. Ajout de l'Interactivité aux visualisations"
   ]
  },
  {
   "cell_type": "markdown",
   "metadata": {},
   "source": [
    "Bokeh permet la création de visualisations interactives en procurant des attributs visuels comme Hover, Slider ou Selection etc.\n",
    "\n",
    "Les Hover par exemple sont très utiles pour ajouter une dimension supplémentaire au graphe. Ils permettent de visualiser un point de données quand l'utilisareur le survole avec la souris. Pour créer un graphe avec un Hover tool, on va créer un graphe qui combine les données de deux artistes, et utiliser le Hover tool pour différencier entre les deux."
   ]
  },
  {
   "cell_type": "code",
   "execution_count": null,
   "metadata": {},
   "outputs": [],
   "source": [
    "from bokeh.models import HoverTool"
   ]
  },
  {
   "cell_type": "code",
   "execution_count": null,
   "metadata": {},
   "outputs": [],
   "source": [
    "# Créer une ColumnDataSource basé sur un dataframe ou l'artiste est soit 1 ou 2\n",
    "\n"
   ]
  },
  {
   "cell_type": "code",
   "execution_count": null,
   "metadata": {},
   "outputs": [],
   "source": [
    "# Créer un hover tool en utilisant la fonction HoverTool où les tooltips pointent sur le tuples d'information à afficher qu'on l'utilisateur survole la donnée,\n",
    "# à savoir nom de l'artiste, nom de la piste popularité, loudness, name.\n",
    "# Ainsi, chaque tuple du tooltip devra contenir un label et une référence au champs contenant l'information\n",
    "\n"
   ]
  },
  {
   "cell_type": "code",
   "execution_count": null,
   "metadata": {},
   "outputs": [],
   "source": [
    "# Donner l'objet hover tool comme argument à votre figure \n",
    "\n"
   ]
  },
  {
   "cell_type": "code",
   "execution_count": null,
   "metadata": {},
   "outputs": [],
   "source": [
    "# Créer un scaterplot avec par exemple les variables acousticness et energy de la ColumnDataSource \n",
    "\n"
   ]
  },
  {
   "cell_type": "code",
   "execution_count": null,
   "metadata": {},
   "outputs": [],
   "source": [
    "# Afficher le graphe. Survoler avec la souris quelques datapoint pour s'assurer du bon affichage des informations.\n",
    "\n"
   ]
  },
  {
   "cell_type": "markdown",
   "metadata": {},
   "source": [
    "<br> L'outil de sélection permet de mettre en exergue un sous-ensemble de données sur le graphe. Pour ajouter un selection tool à votre graphe, il faut ajouter 'box_select' à la liste des outils de la figure. Il est possible de définir une selection_color, nonselection_fill_color, et un nonselection_fill_alpha en leur assignant des valeurs dans les arguments de la fonction de création du graphe."
   ]
  },
  {
   "cell_type": "code",
   "execution_count": null,
   "metadata": {},
   "outputs": [],
   "source": [
    "# Passer l'objet hover tool et un 'box_select' comme arguments de tools\n",
    "\n"
   ]
  },
  {
   "cell_type": "code",
   "execution_count": null,
   "metadata": {},
   "outputs": [],
   "source": [
    "# Recréer le scatter plot en spécifiant les arguments de selection\n",
    "\n"
   ]
  },
  {
   "cell_type": "code",
   "execution_count": null,
   "metadata": {},
   "outputs": [],
   "source": [
    "# Afficher le graphe\n",
    "\n"
   ]
  },
  {
   "cell_type": "markdown",
   "metadata": {},
   "source": [
    " "
   ]
  },
  {
   "cell_type": "markdown",
   "metadata": {},
   "source": [
    "Pour explorer d'autres outils dans le tool box : https://docs.bokeh.org/en/latest/docs/user_guide/tools.html?highlight=configuring%20plot%20tools"
   ]
  },
  {
   "cell_type": "markdown",
   "metadata": {},
   "source": [
    " "
   ]
  },
  {
   "cell_type": "markdown",
   "metadata": {},
   "source": [
    "### E. Bonus: Création d'une application de visualisation"
   ]
  },
  {
   "cell_type": "markdown",
   "metadata": {},
   "source": [
    "Bokeh offre la possibilité de créer des applications de visualisation de données qui peuvent être hebergées sur notre propre serveur à travers le Bokeh server. \n",
    "\n",
    "Le Bokeh server agit comme un pont connectant Python et le navigateur où seront hebergées les applications. En utilisant Bokeh Server, on peut déployer des applications avec une interactivité locale et les partager. \n",
    "\n",
    "Une application Bokeh est une entité qui crée et remplit des documents avec des mises à jour sur le backend avec toutes les configurations nécessaires pour transférer correctement les données entre le serveur et le client. Le backend Bokeh sérialise les documents en format JSON. Ces derniers sont envoyés et affichés par le client BokehJS (comme indiqué dans la figure ci-dessous).\n"
   ]
  },
  {
   "cell_type": "markdown",
   "metadata": {},
   "source": [
    "<img src=\"https://static.packt-cdn.com/products/9781789135404/graphics/b6dd15c9-b21d-4786-9185-fc68623e5d53.png\">"
   ]
  },
  {
   "cell_type": "markdown",
   "metadata": {},
   "source": [
    "Pour construire une application Bokeh, il faut suivre 3 étapes:\n",
    "\n",
    " <ol>\n",
    "  <li>Créer les graphes et widgets</li>\n",
    "  <li>Définir la fonction Callback: c'est la fonction qui indique à l'application comment réagir à l'interaction d'un utilisateur (lorsqu'un bouton est clické, un curseur est déplacé ..)</li>\n",
    "  <li>Créer un Layout: personnaliser les layouts pour organiser les graphes</li>\n",
    "</ol> "
   ]
  },
  {
   "cell_type": "markdown",
   "metadata": {},
   "source": [
    "<br> On va créer une application très simple qui va afficher un nuage de points de la popularité des pistes. Cependant, on donnera à l'utilisateur la possibilité de choisir entre afficher le graphe de la popularité par acousticness ou par loudness. Maintes étapes ont été déjà couvertes dans le TP.\n",
    "\n",
    "Pour ce faire, on va créer un fichier bokehApp.py qu'on pourra exécuter ultérieurement dans un terminal en utilisant la commande: __bokeh serve --show bokehApp.py__\n",
    "\n",
    "\n",
    "1. Ouvrir un fichier dans un éditeur de texte et le nommer bokehApp.py. Importer les librairies suivantes:\n",
    "<br>import pandas as pd\n",
    "<br>from bokeh.plotting import figure\n",
    "<br>from bokeh.models import ColumnDataSource, Select\n",
    "<br>from bokeh.io import curdoc\n",
    "<br>from bokeh.layouts import row\n",
    "\n",
    "2. Charger les données des pistes dans une dataframe\n",
    "\n",
    "3. Créer un second dataframe qui filtre les données pour un seul artiste de votre choix\n",
    "\n",
    "4. Créer un objet ColumnDataSource avec un dict contenant les attributs et colonnes ont on aura besoin\n",
    "\n",
    "5. Créer un scatter plot en utilisant les données de popularité et acousticness à partir de la ColumnDataSource \n",
    "\n",
    "6. On aura besoin de créer un \"Select\" widget (c'est un widget qui donnera la main à l'utilisateur de choisirla colonne à visualiser). Le widget prendra les options acousticness et loudness, avec acousticness comme valeur par défaut. Il faut également spécifier un titre qui s'affichera à l'utilisateur.\n",
    "\n",
    "7. Créer une fonction callback qui prendra la nouvelle colonne et changera la source de la donnée au niveau du graphe pour prendre les données de cette colonne.\n",
    "\n",
    "8. Spécifier ce qui devra arriver quand l'utilisateur opére un changement sur le Select widget (utiliser la fonction on_change)\n",
    "\n",
    "9. Créer un row layout pour vos widget et graphe.\n",
    "\n",
    "10. A chaque fois qu'on crée une application, Bokeh crée un \"curdoc\", qui est un document ou canevas vide pour cette application. Il faut ajouter les widgets et graphes (ou les layouts) à ce document en utilisant la méthode add_root.\n",
    "\n",
    "Sauvegarder le fichier bokehApp.py et exécuter la commande susmentionnée dans un terminal."
   ]
  },
  {
   "cell_type": "markdown",
   "metadata": {},
   "source": [
    "<br> Pour plus de détails sur Bokeh, explorer https://github.com/bokeh/bokeh-notebooks/tree/main/tutorial pour plus de détails."
   ]
  }
 ],
 "metadata": {
  "kernelspec": {
   "display_name": "Python 3",
   "language": "python",
   "name": "python3"
  },
  "language_info": {
   "codemirror_mode": {
    "name": "ipython",
    "version": 3
   },
   "file_extension": ".py",
   "mimetype": "text/x-python",
   "name": "python",
   "nbconvert_exporter": "python",
   "pygments_lexer": "ipython3",
   "version": "3.8.5"
  }
 },
 "nbformat": 4,
 "nbformat_minor": 4
}
