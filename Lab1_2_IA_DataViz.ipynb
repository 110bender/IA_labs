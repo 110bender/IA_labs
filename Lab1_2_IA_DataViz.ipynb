{
 "cells": [
  {
   "cell_type": "markdown",
   "metadata": {},
   "source": [
    "# Travaux Pratiques Intelligence Artificielle: Lab1.2\n",
    "\n",
    "Python 4 Data Science: Introduction à la data visualisation avec Bokeh 🤖 🙌.\n",
    "\n",
    "## Objectifs du TP:\n",
    "\n",
    "> **Comprendre les concepts de base de la data visualisation avec Bokeh**\n",
    "\n",
    "> **Se familiariser avec les commandes les plus utilisées pour la visualisation des données en utilisant la libraire Bokeh et Pandas**\n",
    "\n",
    "> **Visualiser graphiquement les données du TP précédent.** \n",
    "\n",
    "> **Créer une application de visualisation de données (en Bonus)** \n",
    "\n",
    "\n",
    "\n",
    "<br> A la fin du TP vous devez **rendre ce notebook dans \"Assignment\" de Teams**. Le TP doit être travaillé en préférence en binôme.\n",
    "\n",
    "_Besoin d'aide? Laisser moi un Commentaire sur Teams_\n",
    "\n",
    "![green-divider](https://user-images.githubusercontent.com/7065401/52071924-c003ad80-2562-11e9-8297-1c6595f8a7ff.png)"
   ]
  },
  {
   "cell_type": "markdown",
   "metadata": {},
   "source": [
    "## A. Concepts de base"
   ]
  },
  {
   "cell_type": "markdown",
   "metadata": {},
   "source": [
    "L'objectif de cette section est de se familiariser avec les principes de base de data visualisation avec Python, Bokeh précisément. Bokeh est une librairie de visualisation destinée aux navigateur web modernes. Elle permet la construction de graphes élégants, concis, variés, et interactifs.\n",
    "\n",
    "Bokeh est basé sur l'idée qu'un graphe est construit une couche à la fois. Pour créer un graphe, on a besoin de créer en premier lieu la figure, puis ajouter les différents éléments (glyphs). Les glyphs sont des composants représentant les figures géométriques comme les lignes, cercles, rectanges etc. qui composent un plot Bokeh.\n",
    "\n",
    "Il y a deux méthodes pour la présentation d'un plot Bokeh:\n",
    "- output_file: où l'output est un fichier html\n",
    "- output_notebook: où l'output se fait au niveau du Jupyter notebook en cours d'utilisation.\n"
   ]
  },
  {
   "cell_type": "markdown",
   "metadata": {},
   "source": [
    "<br> Commençons par un simple exemple où on visualisera un line plot avec les Glyphs."
   ]
  },
  {
   "cell_type": "code",
   "execution_count": 360,
   "metadata": {},
   "outputs": [],
   "source": [
    "from bokeh.plotting import figure\n",
    "from bokeh.io import output_notebook, show"
   ]
  },
  {
   "cell_type": "code",
   "execution_count": 361,
   "metadata": {},
   "outputs": [
    {
     "data": {
      "text/html": [
       "\n",
       "    <div class=\"bk-root\">\n",
       "        <a href=\"https://bokeh.org\" target=\"_blank\" class=\"bk-logo bk-logo-small bk-logo-notebook\"></a>\n",
       "        <span id=\"46381\">Loading BokehJS ...</span>\n",
       "    </div>"
      ]
     },
     "metadata": {},
     "output_type": "display_data"
    },
    {
     "data": {
      "application/javascript": [
       "\n",
       "(function(root) {\n",
       "  function now() {\n",
       "    return new Date();\n",
       "  }\n",
       "\n",
       "  var force = true;\n",
       "\n",
       "  if (typeof root._bokeh_onload_callbacks === \"undefined\" || force === true) {\n",
       "    root._bokeh_onload_callbacks = [];\n",
       "    root._bokeh_is_loading = undefined;\n",
       "  }\n",
       "\n",
       "  var JS_MIME_TYPE = 'application/javascript';\n",
       "  var HTML_MIME_TYPE = 'text/html';\n",
       "  var EXEC_MIME_TYPE = 'application/vnd.bokehjs_exec.v0+json';\n",
       "  var CLASS_NAME = 'output_bokeh rendered_html';\n",
       "\n",
       "  /**\n",
       "   * Render data to the DOM node\n",
       "   */\n",
       "  function render(props, node) {\n",
       "    var script = document.createElement(\"script\");\n",
       "    node.appendChild(script);\n",
       "  }\n",
       "\n",
       "  /**\n",
       "   * Handle when an output is cleared or removed\n",
       "   */\n",
       "  function handleClearOutput(event, handle) {\n",
       "    var cell = handle.cell;\n",
       "\n",
       "    var id = cell.output_area._bokeh_element_id;\n",
       "    var server_id = cell.output_area._bokeh_server_id;\n",
       "    // Clean up Bokeh references\n",
       "    if (id != null && id in Bokeh.index) {\n",
       "      Bokeh.index[id].model.document.clear();\n",
       "      delete Bokeh.index[id];\n",
       "    }\n",
       "\n",
       "    if (server_id !== undefined) {\n",
       "      // Clean up Bokeh references\n",
       "      var cmd = \"from bokeh.io.state import curstate; print(curstate().uuid_to_server['\" + server_id + \"'].get_sessions()[0].document.roots[0]._id)\";\n",
       "      cell.notebook.kernel.execute(cmd, {\n",
       "        iopub: {\n",
       "          output: function(msg) {\n",
       "            var id = msg.content.text.trim();\n",
       "            if (id in Bokeh.index) {\n",
       "              Bokeh.index[id].model.document.clear();\n",
       "              delete Bokeh.index[id];\n",
       "            }\n",
       "          }\n",
       "        }\n",
       "      });\n",
       "      // Destroy server and session\n",
       "      var cmd = \"import bokeh.io.notebook as ion; ion.destroy_server('\" + server_id + \"')\";\n",
       "      cell.notebook.kernel.execute(cmd);\n",
       "    }\n",
       "  }\n",
       "\n",
       "  /**\n",
       "   * Handle when a new output is added\n",
       "   */\n",
       "  function handleAddOutput(event, handle) {\n",
       "    var output_area = handle.output_area;\n",
       "    var output = handle.output;\n",
       "\n",
       "    // limit handleAddOutput to display_data with EXEC_MIME_TYPE content only\n",
       "    if ((output.output_type != \"display_data\") || (!output.data.hasOwnProperty(EXEC_MIME_TYPE))) {\n",
       "      return\n",
       "    }\n",
       "\n",
       "    var toinsert = output_area.element.find(\".\" + CLASS_NAME.split(' ')[0]);\n",
       "\n",
       "    if (output.metadata[EXEC_MIME_TYPE][\"id\"] !== undefined) {\n",
       "      toinsert[toinsert.length - 1].firstChild.textContent = output.data[JS_MIME_TYPE];\n",
       "      // store reference to embed id on output_area\n",
       "      output_area._bokeh_element_id = output.metadata[EXEC_MIME_TYPE][\"id\"];\n",
       "    }\n",
       "    if (output.metadata[EXEC_MIME_TYPE][\"server_id\"] !== undefined) {\n",
       "      var bk_div = document.createElement(\"div\");\n",
       "      bk_div.innerHTML = output.data[HTML_MIME_TYPE];\n",
       "      var script_attrs = bk_div.children[0].attributes;\n",
       "      for (var i = 0; i < script_attrs.length; i++) {\n",
       "        toinsert[toinsert.length - 1].firstChild.setAttribute(script_attrs[i].name, script_attrs[i].value);\n",
       "        toinsert[toinsert.length - 1].firstChild.textContent = bk_div.children[0].textContent\n",
       "      }\n",
       "      // store reference to server id on output_area\n",
       "      output_area._bokeh_server_id = output.metadata[EXEC_MIME_TYPE][\"server_id\"];\n",
       "    }\n",
       "  }\n",
       "\n",
       "  function register_renderer(events, OutputArea) {\n",
       "\n",
       "    function append_mime(data, metadata, element) {\n",
       "      // create a DOM node to render to\n",
       "      var toinsert = this.create_output_subarea(\n",
       "        metadata,\n",
       "        CLASS_NAME,\n",
       "        EXEC_MIME_TYPE\n",
       "      );\n",
       "      this.keyboard_manager.register_events(toinsert);\n",
       "      // Render to node\n",
       "      var props = {data: data, metadata: metadata[EXEC_MIME_TYPE]};\n",
       "      render(props, toinsert[toinsert.length - 1]);\n",
       "      element.append(toinsert);\n",
       "      return toinsert\n",
       "    }\n",
       "\n",
       "    /* Handle when an output is cleared or removed */\n",
       "    events.on('clear_output.CodeCell', handleClearOutput);\n",
       "    events.on('delete.Cell', handleClearOutput);\n",
       "\n",
       "    /* Handle when a new output is added */\n",
       "    events.on('output_added.OutputArea', handleAddOutput);\n",
       "\n",
       "    /**\n",
       "     * Register the mime type and append_mime function with output_area\n",
       "     */\n",
       "    OutputArea.prototype.register_mime_type(EXEC_MIME_TYPE, append_mime, {\n",
       "      /* Is output safe? */\n",
       "      safe: true,\n",
       "      /* Index of renderer in `output_area.display_order` */\n",
       "      index: 0\n",
       "    });\n",
       "  }\n",
       "\n",
       "  // register the mime type if in Jupyter Notebook environment and previously unregistered\n",
       "  if (root.Jupyter !== undefined) {\n",
       "    var events = require('base/js/events');\n",
       "    var OutputArea = require('notebook/js/outputarea').OutputArea;\n",
       "\n",
       "    if (OutputArea.prototype.mime_types().indexOf(EXEC_MIME_TYPE) == -1) {\n",
       "      register_renderer(events, OutputArea);\n",
       "    }\n",
       "  }\n",
       "\n",
       "  \n",
       "  if (typeof (root._bokeh_timeout) === \"undefined\" || force === true) {\n",
       "    root._bokeh_timeout = Date.now() + 5000;\n",
       "    root._bokeh_failed_load = false;\n",
       "  }\n",
       "\n",
       "  var NB_LOAD_WARNING = {'data': {'text/html':\n",
       "     \"<div style='background-color: #fdd'>\\n\"+\n",
       "     \"<p>\\n\"+\n",
       "     \"BokehJS does not appear to have successfully loaded. If loading BokehJS from CDN, this \\n\"+\n",
       "     \"may be due to a slow or bad network connection. Possible fixes:\\n\"+\n",
       "     \"</p>\\n\"+\n",
       "     \"<ul>\\n\"+\n",
       "     \"<li>re-rerun `output_notebook()` to attempt to load from CDN again, or</li>\\n\"+\n",
       "     \"<li>use INLINE resources instead, as so:</li>\\n\"+\n",
       "     \"</ul>\\n\"+\n",
       "     \"<code>\\n\"+\n",
       "     \"from bokeh.resources import INLINE\\n\"+\n",
       "     \"output_notebook(resources=INLINE)\\n\"+\n",
       "     \"</code>\\n\"+\n",
       "     \"</div>\"}};\n",
       "\n",
       "  function display_loaded() {\n",
       "    var el = document.getElementById(\"46381\");\n",
       "    if (el != null) {\n",
       "      el.textContent = \"BokehJS is loading...\";\n",
       "    }\n",
       "    if (root.Bokeh !== undefined) {\n",
       "      if (el != null) {\n",
       "        el.textContent = \"BokehJS \" + root.Bokeh.version + \" successfully loaded.\";\n",
       "      }\n",
       "    } else if (Date.now() < root._bokeh_timeout) {\n",
       "      setTimeout(display_loaded, 100)\n",
       "    }\n",
       "  }\n",
       "\n",
       "\n",
       "  function run_callbacks() {\n",
       "    try {\n",
       "      root._bokeh_onload_callbacks.forEach(function(callback) {\n",
       "        if (callback != null)\n",
       "          callback();\n",
       "      });\n",
       "    } finally {\n",
       "      delete root._bokeh_onload_callbacks\n",
       "    }\n",
       "    console.debug(\"Bokeh: all callbacks have finished\");\n",
       "  }\n",
       "\n",
       "  function load_libs(css_urls, js_urls, callback) {\n",
       "    if (css_urls == null) css_urls = [];\n",
       "    if (js_urls == null) js_urls = [];\n",
       "\n",
       "    root._bokeh_onload_callbacks.push(callback);\n",
       "    if (root._bokeh_is_loading > 0) {\n",
       "      console.debug(\"Bokeh: BokehJS is being loaded, scheduling callback at\", now());\n",
       "      return null;\n",
       "    }\n",
       "    if (js_urls == null || js_urls.length === 0) {\n",
       "      run_callbacks();\n",
       "      return null;\n",
       "    }\n",
       "    console.debug(\"Bokeh: BokehJS not loaded, scheduling load and callback at\", now());\n",
       "    root._bokeh_is_loading = css_urls.length + js_urls.length;\n",
       "\n",
       "    function on_load() {\n",
       "      root._bokeh_is_loading--;\n",
       "      if (root._bokeh_is_loading === 0) {\n",
       "        console.debug(\"Bokeh: all BokehJS libraries/stylesheets loaded\");\n",
       "        run_callbacks()\n",
       "      }\n",
       "    }\n",
       "\n",
       "    function on_error() {\n",
       "      console.error(\"failed to load \" + url);\n",
       "    }\n",
       "\n",
       "    for (var i = 0; i < css_urls.length; i++) {\n",
       "      var url = css_urls[i];\n",
       "      const element = document.createElement(\"link\");\n",
       "      element.onload = on_load;\n",
       "      element.onerror = on_error;\n",
       "      element.rel = \"stylesheet\";\n",
       "      element.type = \"text/css\";\n",
       "      element.href = url;\n",
       "      console.debug(\"Bokeh: injecting link tag for BokehJS stylesheet: \", url);\n",
       "      document.body.appendChild(element);\n",
       "    }\n",
       "\n",
       "    const hashes = {\"https://cdn.bokeh.org/bokeh/release/bokeh-2.2.3.min.js\": \"T2yuo9Oe71Cz/I4X9Ac5+gpEa5a8PpJCDlqKYO0CfAuEszu1JrXLl8YugMqYe3sM\", \"https://cdn.bokeh.org/bokeh/release/bokeh-widgets-2.2.3.min.js\": \"98GDGJ0kOMCUMUePhksaQ/GYgB3+NH9h996V88sh3aOiUNX3N+fLXAtry6xctSZ6\", \"https://cdn.bokeh.org/bokeh/release/bokeh-tables-2.2.3.min.js\": \"89bArO+nlbP3sgakeHjCo1JYxYR5wufVgA3IbUvDY+K7w4zyxJqssu7wVnfeKCq8\"};\n",
       "\n",
       "    for (var i = 0; i < js_urls.length; i++) {\n",
       "      var url = js_urls[i];\n",
       "      var element = document.createElement('script');\n",
       "      element.onload = on_load;\n",
       "      element.onerror = on_error;\n",
       "      element.async = false;\n",
       "      element.src = url;\n",
       "      if (url in hashes) {\n",
       "        element.crossOrigin = \"anonymous\";\n",
       "        element.integrity = \"sha384-\" + hashes[url];\n",
       "      }\n",
       "      console.debug(\"Bokeh: injecting script tag for BokehJS library: \", url);\n",
       "      document.head.appendChild(element);\n",
       "    }\n",
       "  };\n",
       "\n",
       "  function inject_raw_css(css) {\n",
       "    const element = document.createElement(\"style\");\n",
       "    element.appendChild(document.createTextNode(css));\n",
       "    document.body.appendChild(element);\n",
       "  }\n",
       "\n",
       "  \n",
       "  var js_urls = [\"https://cdn.bokeh.org/bokeh/release/bokeh-2.2.3.min.js\", \"https://cdn.bokeh.org/bokeh/release/bokeh-widgets-2.2.3.min.js\", \"https://cdn.bokeh.org/bokeh/release/bokeh-tables-2.2.3.min.js\"];\n",
       "  var css_urls = [];\n",
       "  \n",
       "\n",
       "  var inline_js = [\n",
       "    function(Bokeh) {\n",
       "      Bokeh.set_log_level(\"info\");\n",
       "    },\n",
       "    function(Bokeh) {\n",
       "    \n",
       "    \n",
       "    }\n",
       "  ];\n",
       "\n",
       "  function run_inline_js() {\n",
       "    \n",
       "    if (root.Bokeh !== undefined || force === true) {\n",
       "      \n",
       "    for (var i = 0; i < inline_js.length; i++) {\n",
       "      inline_js[i].call(root, root.Bokeh);\n",
       "    }\n",
       "    if (force === true) {\n",
       "        display_loaded();\n",
       "      }} else if (Date.now() < root._bokeh_timeout) {\n",
       "      setTimeout(run_inline_js, 100);\n",
       "    } else if (!root._bokeh_failed_load) {\n",
       "      console.log(\"Bokeh: BokehJS failed to load within specified timeout.\");\n",
       "      root._bokeh_failed_load = true;\n",
       "    } else if (force !== true) {\n",
       "      var cell = $(document.getElementById(\"46381\")).parents('.cell').data().cell;\n",
       "      cell.output_area.append_execute_result(NB_LOAD_WARNING)\n",
       "    }\n",
       "\n",
       "  }\n",
       "\n",
       "  if (root._bokeh_is_loading === 0) {\n",
       "    console.debug(\"Bokeh: BokehJS loaded, going straight to plotting\");\n",
       "    run_inline_js();\n",
       "  } else {\n",
       "    load_libs(css_urls, js_urls, function() {\n",
       "      console.debug(\"Bokeh: BokehJS plotting callback run at\", now());\n",
       "      run_inline_js();\n",
       "    });\n",
       "  }\n",
       "}(window));"
      ],
      "application/vnd.bokehjs_load.v0+json": "\n(function(root) {\n  function now() {\n    return new Date();\n  }\n\n  var force = true;\n\n  if (typeof root._bokeh_onload_callbacks === \"undefined\" || force === true) {\n    root._bokeh_onload_callbacks = [];\n    root._bokeh_is_loading = undefined;\n  }\n\n  \n\n  \n  if (typeof (root._bokeh_timeout) === \"undefined\" || force === true) {\n    root._bokeh_timeout = Date.now() + 5000;\n    root._bokeh_failed_load = false;\n  }\n\n  var NB_LOAD_WARNING = {'data': {'text/html':\n     \"<div style='background-color: #fdd'>\\n\"+\n     \"<p>\\n\"+\n     \"BokehJS does not appear to have successfully loaded. If loading BokehJS from CDN, this \\n\"+\n     \"may be due to a slow or bad network connection. Possible fixes:\\n\"+\n     \"</p>\\n\"+\n     \"<ul>\\n\"+\n     \"<li>re-rerun `output_notebook()` to attempt to load from CDN again, or</li>\\n\"+\n     \"<li>use INLINE resources instead, as so:</li>\\n\"+\n     \"</ul>\\n\"+\n     \"<code>\\n\"+\n     \"from bokeh.resources import INLINE\\n\"+\n     \"output_notebook(resources=INLINE)\\n\"+\n     \"</code>\\n\"+\n     \"</div>\"}};\n\n  function display_loaded() {\n    var el = document.getElementById(\"46381\");\n    if (el != null) {\n      el.textContent = \"BokehJS is loading...\";\n    }\n    if (root.Bokeh !== undefined) {\n      if (el != null) {\n        el.textContent = \"BokehJS \" + root.Bokeh.version + \" successfully loaded.\";\n      }\n    } else if (Date.now() < root._bokeh_timeout) {\n      setTimeout(display_loaded, 100)\n    }\n  }\n\n\n  function run_callbacks() {\n    try {\n      root._bokeh_onload_callbacks.forEach(function(callback) {\n        if (callback != null)\n          callback();\n      });\n    } finally {\n      delete root._bokeh_onload_callbacks\n    }\n    console.debug(\"Bokeh: all callbacks have finished\");\n  }\n\n  function load_libs(css_urls, js_urls, callback) {\n    if (css_urls == null) css_urls = [];\n    if (js_urls == null) js_urls = [];\n\n    root._bokeh_onload_callbacks.push(callback);\n    if (root._bokeh_is_loading > 0) {\n      console.debug(\"Bokeh: BokehJS is being loaded, scheduling callback at\", now());\n      return null;\n    }\n    if (js_urls == null || js_urls.length === 0) {\n      run_callbacks();\n      return null;\n    }\n    console.debug(\"Bokeh: BokehJS not loaded, scheduling load and callback at\", now());\n    root._bokeh_is_loading = css_urls.length + js_urls.length;\n\n    function on_load() {\n      root._bokeh_is_loading--;\n      if (root._bokeh_is_loading === 0) {\n        console.debug(\"Bokeh: all BokehJS libraries/stylesheets loaded\");\n        run_callbacks()\n      }\n    }\n\n    function on_error() {\n      console.error(\"failed to load \" + url);\n    }\n\n    for (var i = 0; i < css_urls.length; i++) {\n      var url = css_urls[i];\n      const element = document.createElement(\"link\");\n      element.onload = on_load;\n      element.onerror = on_error;\n      element.rel = \"stylesheet\";\n      element.type = \"text/css\";\n      element.href = url;\n      console.debug(\"Bokeh: injecting link tag for BokehJS stylesheet: \", url);\n      document.body.appendChild(element);\n    }\n\n    const hashes = {\"https://cdn.bokeh.org/bokeh/release/bokeh-2.2.3.min.js\": \"T2yuo9Oe71Cz/I4X9Ac5+gpEa5a8PpJCDlqKYO0CfAuEszu1JrXLl8YugMqYe3sM\", \"https://cdn.bokeh.org/bokeh/release/bokeh-widgets-2.2.3.min.js\": \"98GDGJ0kOMCUMUePhksaQ/GYgB3+NH9h996V88sh3aOiUNX3N+fLXAtry6xctSZ6\", \"https://cdn.bokeh.org/bokeh/release/bokeh-tables-2.2.3.min.js\": \"89bArO+nlbP3sgakeHjCo1JYxYR5wufVgA3IbUvDY+K7w4zyxJqssu7wVnfeKCq8\"};\n\n    for (var i = 0; i < js_urls.length; i++) {\n      var url = js_urls[i];\n      var element = document.createElement('script');\n      element.onload = on_load;\n      element.onerror = on_error;\n      element.async = false;\n      element.src = url;\n      if (url in hashes) {\n        element.crossOrigin = \"anonymous\";\n        element.integrity = \"sha384-\" + hashes[url];\n      }\n      console.debug(\"Bokeh: injecting script tag for BokehJS library: \", url);\n      document.head.appendChild(element);\n    }\n  };\n\n  function inject_raw_css(css) {\n    const element = document.createElement(\"style\");\n    element.appendChild(document.createTextNode(css));\n    document.body.appendChild(element);\n  }\n\n  \n  var js_urls = [\"https://cdn.bokeh.org/bokeh/release/bokeh-2.2.3.min.js\", \"https://cdn.bokeh.org/bokeh/release/bokeh-widgets-2.2.3.min.js\", \"https://cdn.bokeh.org/bokeh/release/bokeh-tables-2.2.3.min.js\"];\n  var css_urls = [];\n  \n\n  var inline_js = [\n    function(Bokeh) {\n      Bokeh.set_log_level(\"info\");\n    },\n    function(Bokeh) {\n    \n    \n    }\n  ];\n\n  function run_inline_js() {\n    \n    if (root.Bokeh !== undefined || force === true) {\n      \n    for (var i = 0; i < inline_js.length; i++) {\n      inline_js[i].call(root, root.Bokeh);\n    }\n    if (force === true) {\n        display_loaded();\n      }} else if (Date.now() < root._bokeh_timeout) {\n      setTimeout(run_inline_js, 100);\n    } else if (!root._bokeh_failed_load) {\n      console.log(\"Bokeh: BokehJS failed to load within specified timeout.\");\n      root._bokeh_failed_load = true;\n    } else if (force !== true) {\n      var cell = $(document.getElementById(\"46381\")).parents('.cell').data().cell;\n      cell.output_area.append_execute_result(NB_LOAD_WARNING)\n    }\n\n  }\n\n  if (root._bokeh_is_loading === 0) {\n    console.debug(\"Bokeh: BokehJS loaded, going straight to plotting\");\n    run_inline_js();\n  } else {\n    load_libs(css_urls, js_urls, function() {\n      console.debug(\"Bokeh: BokehJS plotting callback run at\", now());\n      run_inline_js();\n    });\n  }\n}(window));"
     },
     "metadata": {},
     "output_type": "display_data"
    }
   ],
   "source": [
    "output_notebook()"
   ]
  },
  {
   "cell_type": "code",
   "execution_count": 362,
   "metadata": {},
   "outputs": [],
   "source": [
    "# Let's create a data arrays used for plotting the line plot\n",
    "x = [5,6,7,8,9,10]\n",
    "y = [1,2,3,4,5,6]"
   ]
  },
  {
   "cell_type": "markdown",
   "metadata": {},
   "source": [
    "Faire appel à la fonction Figure donne à Bokeh l'instruction de construire un graphe. On peut alors y ajouter les couches de glyphs."
   ]
  },
  {
   "cell_type": "code",
   "execution_count": 363,
   "metadata": {},
   "outputs": [],
   "source": [
    "# Faire appel à figure() pour créer la figure du plot\n",
    "p = figure(plot_width=400, plot_height=400)"
   ]
  },
  {
   "cell_type": "code",
   "execution_count": 364,
   "metadata": {},
   "outputs": [
    {
     "data": {
      "text/html": [
       "<div style=\"display: table;\"><div style=\"display: table-row;\"><div style=\"display: table-cell;\"><b title=\"bokeh.models.renderers.GlyphRenderer\">GlyphRenderer</b>(</div><div style=\"display: table-cell;\">id&nbsp;=&nbsp;'46416', <span id=\"46419\" style=\"cursor: pointer;\">&hellip;)</span></div></div><div class=\"46418\" style=\"display: none;\"><div style=\"display: table-cell;\"></div><div style=\"display: table-cell;\">data_source&nbsp;=&nbsp;ColumnDataSource(id='46413', ...),</div></div><div class=\"46418\" style=\"display: none;\"><div style=\"display: table-cell;\"></div><div style=\"display: table-cell;\">glyph&nbsp;=&nbsp;Line(id='46414', ...),</div></div><div class=\"46418\" style=\"display: none;\"><div style=\"display: table-cell;\"></div><div style=\"display: table-cell;\">hover_glyph&nbsp;=&nbsp;None,</div></div><div class=\"46418\" style=\"display: none;\"><div style=\"display: table-cell;\"></div><div style=\"display: table-cell;\">js_event_callbacks&nbsp;=&nbsp;{},</div></div><div class=\"46418\" style=\"display: none;\"><div style=\"display: table-cell;\"></div><div style=\"display: table-cell;\">js_property_callbacks&nbsp;=&nbsp;{},</div></div><div class=\"46418\" style=\"display: none;\"><div style=\"display: table-cell;\"></div><div style=\"display: table-cell;\">level&nbsp;=&nbsp;'glyph',</div></div><div class=\"46418\" style=\"display: none;\"><div style=\"display: table-cell;\"></div><div style=\"display: table-cell;\">muted&nbsp;=&nbsp;False,</div></div><div class=\"46418\" style=\"display: none;\"><div style=\"display: table-cell;\"></div><div style=\"display: table-cell;\">muted_glyph&nbsp;=&nbsp;None,</div></div><div class=\"46418\" style=\"display: none;\"><div style=\"display: table-cell;\"></div><div style=\"display: table-cell;\">name&nbsp;=&nbsp;None,</div></div><div class=\"46418\" style=\"display: none;\"><div style=\"display: table-cell;\"></div><div style=\"display: table-cell;\">nonselection_glyph&nbsp;=&nbsp;Line(id='46415', ...),</div></div><div class=\"46418\" style=\"display: none;\"><div style=\"display: table-cell;\"></div><div style=\"display: table-cell;\">selection_glyph&nbsp;=&nbsp;None,</div></div><div class=\"46418\" style=\"display: none;\"><div style=\"display: table-cell;\"></div><div style=\"display: table-cell;\">subscribed_events&nbsp;=&nbsp;[],</div></div><div class=\"46418\" style=\"display: none;\"><div style=\"display: table-cell;\"></div><div style=\"display: table-cell;\">tags&nbsp;=&nbsp;[],</div></div><div class=\"46418\" style=\"display: none;\"><div style=\"display: table-cell;\"></div><div style=\"display: table-cell;\">view&nbsp;=&nbsp;CDSView(id='46417', ...),</div></div><div class=\"46418\" style=\"display: none;\"><div style=\"display: table-cell;\"></div><div style=\"display: table-cell;\">visible&nbsp;=&nbsp;True,</div></div><div class=\"46418\" style=\"display: none;\"><div style=\"display: table-cell;\"></div><div style=\"display: table-cell;\">x_range_name&nbsp;=&nbsp;'default',</div></div><div class=\"46418\" style=\"display: none;\"><div style=\"display: table-cell;\"></div><div style=\"display: table-cell;\">y_range_name&nbsp;=&nbsp;'default')</div></div></div>\n",
       "<script>\n",
       "(function() {\n",
       "  var expanded = false;\n",
       "  var ellipsis = document.getElementById(\"46419\");\n",
       "  ellipsis.addEventListener(\"click\", function() {\n",
       "    var rows = document.getElementsByClassName(\"46418\");\n",
       "    for (var i = 0; i < rows.length; i++) {\n",
       "      var el = rows[i];\n",
       "      el.style.display = expanded ? \"none\" : \"table-row\";\n",
       "    }\n",
       "    ellipsis.innerHTML = expanded ? \"&hellip;)\" : \"&lsaquo;&lsaquo;&lsaquo;\";\n",
       "    expanded = !expanded;\n",
       "  });\n",
       "})();\n",
       "</script>\n"
      ],
      "text/plain": [
       "GlyphRenderer(id='46416', ...)"
      ]
     },
     "execution_count": 364,
     "metadata": {},
     "output_type": "execute_result"
    }
   ],
   "source": [
    "# Créer un line plot en utilisant la fonction line()\n",
    "p.line(x, y, line_width=2, color=\"orange\", alpha=0.5)"
   ]
  },
  {
   "cell_type": "code",
   "execution_count": 365,
   "metadata": {},
   "outputs": [
    {
     "data": {
      "text/html": [
       "<div style=\"display: table;\"><div style=\"display: table-row;\"><div style=\"display: table-cell;\"><b title=\"bokeh.models.renderers.GlyphRenderer\">GlyphRenderer</b>(</div><div style=\"display: table-cell;\">id&nbsp;=&nbsp;'46423', <span id=\"46426\" style=\"cursor: pointer;\">&hellip;)</span></div></div><div class=\"46425\" style=\"display: none;\"><div style=\"display: table-cell;\"></div><div style=\"display: table-cell;\">data_source&nbsp;=&nbsp;ColumnDataSource(id='46420', ...),</div></div><div class=\"46425\" style=\"display: none;\"><div style=\"display: table-cell;\"></div><div style=\"display: table-cell;\">glyph&nbsp;=&nbsp;Cross(id='46421', ...),</div></div><div class=\"46425\" style=\"display: none;\"><div style=\"display: table-cell;\"></div><div style=\"display: table-cell;\">hover_glyph&nbsp;=&nbsp;None,</div></div><div class=\"46425\" style=\"display: none;\"><div style=\"display: table-cell;\"></div><div style=\"display: table-cell;\">js_event_callbacks&nbsp;=&nbsp;{},</div></div><div class=\"46425\" style=\"display: none;\"><div style=\"display: table-cell;\"></div><div style=\"display: table-cell;\">js_property_callbacks&nbsp;=&nbsp;{},</div></div><div class=\"46425\" style=\"display: none;\"><div style=\"display: table-cell;\"></div><div style=\"display: table-cell;\">level&nbsp;=&nbsp;'glyph',</div></div><div class=\"46425\" style=\"display: none;\"><div style=\"display: table-cell;\"></div><div style=\"display: table-cell;\">muted&nbsp;=&nbsp;False,</div></div><div class=\"46425\" style=\"display: none;\"><div style=\"display: table-cell;\"></div><div style=\"display: table-cell;\">muted_glyph&nbsp;=&nbsp;None,</div></div><div class=\"46425\" style=\"display: none;\"><div style=\"display: table-cell;\"></div><div style=\"display: table-cell;\">name&nbsp;=&nbsp;None,</div></div><div class=\"46425\" style=\"display: none;\"><div style=\"display: table-cell;\"></div><div style=\"display: table-cell;\">nonselection_glyph&nbsp;=&nbsp;Cross(id='46422', ...),</div></div><div class=\"46425\" style=\"display: none;\"><div style=\"display: table-cell;\"></div><div style=\"display: table-cell;\">selection_glyph&nbsp;=&nbsp;None,</div></div><div class=\"46425\" style=\"display: none;\"><div style=\"display: table-cell;\"></div><div style=\"display: table-cell;\">subscribed_events&nbsp;=&nbsp;[],</div></div><div class=\"46425\" style=\"display: none;\"><div style=\"display: table-cell;\"></div><div style=\"display: table-cell;\">tags&nbsp;=&nbsp;[],</div></div><div class=\"46425\" style=\"display: none;\"><div style=\"display: table-cell;\"></div><div style=\"display: table-cell;\">view&nbsp;=&nbsp;CDSView(id='46424', ...),</div></div><div class=\"46425\" style=\"display: none;\"><div style=\"display: table-cell;\"></div><div style=\"display: table-cell;\">visible&nbsp;=&nbsp;True,</div></div><div class=\"46425\" style=\"display: none;\"><div style=\"display: table-cell;\"></div><div style=\"display: table-cell;\">x_range_name&nbsp;=&nbsp;'default',</div></div><div class=\"46425\" style=\"display: none;\"><div style=\"display: table-cell;\"></div><div style=\"display: table-cell;\">y_range_name&nbsp;=&nbsp;'default')</div></div></div>\n",
       "<script>\n",
       "(function() {\n",
       "  var expanded = false;\n",
       "  var ellipsis = document.getElementById(\"46426\");\n",
       "  ellipsis.addEventListener(\"click\", function() {\n",
       "    var rows = document.getElementsByClassName(\"46425\");\n",
       "    for (var i = 0; i < rows.length; i++) {\n",
       "      var el = rows[i];\n",
       "      el.style.display = expanded ? \"none\" : \"table-row\";\n",
       "    }\n",
       "    ellipsis.innerHTML = expanded ? \"&hellip;)\" : \"&lsaquo;&lsaquo;&lsaquo;\";\n",
       "    expanded = !expanded;\n",
       "  });\n",
       "})();\n",
       "</script>\n"
      ],
      "text/plain": [
       "GlyphRenderer(id='46423', ...)"
      ]
     },
     "execution_count": 365,
     "metadata": {},
     "output_type": "execute_result"
    }
   ],
   "source": [
    "# Créer des markers sur le line plot au niveau de l'intersection entre x et y\n",
    "p.cross(x, y, size=10, fill_color=\"blue\", fill_alpha=0.5)"
   ]
  },
  {
   "cell_type": "code",
   "execution_count": 366,
   "metadata": {},
   "outputs": [
    {
     "data": {
      "text/html": [
       "\n",
       "\n",
       "\n",
       "\n",
       "\n",
       "\n",
       "  <div class=\"bk-root\" id=\"0cdbe781-4136-4e55-abf9-4a29ab4fe6d5\" data-root-id=\"46382\"></div>\n"
      ]
     },
     "metadata": {},
     "output_type": "display_data"
    },
    {
     "data": {
      "application/javascript": [
       "(function(root) {\n",
       "  function embed_document(root) {\n",
       "    \n",
       "  var docs_json = {\"fa9247c6-6077-4543-81c9-f93e7b135c97\":{\"roots\":{\"references\":[{\"attributes\":{\"below\":[{\"id\":\"46391\"}],\"center\":[{\"id\":\"46394\"},{\"id\":\"46398\"}],\"left\":[{\"id\":\"46395\"}],\"plot_height\":400,\"plot_width\":400,\"renderers\":[{\"id\":\"46416\"},{\"id\":\"46423\"}],\"title\":{\"id\":\"47218\"},\"toolbar\":{\"id\":\"46406\"},\"x_range\":{\"id\":\"46383\"},\"x_scale\":{\"id\":\"46387\"},\"y_range\":{\"id\":\"46385\"},\"y_scale\":{\"id\":\"46389\"}},\"id\":\"46382\",\"subtype\":\"Figure\",\"type\":\"Plot\"},{\"attributes\":{\"data_source\":{\"id\":\"46413\"},\"glyph\":{\"id\":\"46414\"},\"hover_glyph\":null,\"muted_glyph\":null,\"nonselection_glyph\":{\"id\":\"46415\"},\"selection_glyph\":null,\"view\":{\"id\":\"46417\"}},\"id\":\"46416\",\"type\":\"GlyphRenderer\"},{\"attributes\":{},\"id\":\"47227\",\"type\":\"UnionRenderers\"},{\"attributes\":{\"data\":{\"x\":[5,6,7,8,9,10],\"y\":[1,2,3,4,5,6]},\"selected\":{\"id\":\"47224\"},\"selection_policy\":{\"id\":\"47225\"}},\"id\":\"46413\",\"type\":\"ColumnDataSource\"},{\"attributes\":{},\"id\":\"46404\",\"type\":\"HelpTool\"},{\"attributes\":{\"line_alpha\":0.5,\"line_color\":\"orange\",\"line_width\":2,\"x\":{\"field\":\"x\"},\"y\":{\"field\":\"y\"}},\"id\":\"46414\",\"type\":\"Line\"},{\"attributes\":{},\"id\":\"46396\",\"type\":\"BasicTicker\"},{\"attributes\":{},\"id\":\"46387\",\"type\":\"LinearScale\"},{\"attributes\":{\"source\":{\"id\":\"46413\"}},\"id\":\"46417\",\"type\":\"CDSView\"},{\"attributes\":{},\"id\":\"46399\",\"type\":\"PanTool\"},{\"attributes\":{\"line_alpha\":0.1,\"line_color\":\"orange\",\"line_width\":2,\"x\":{\"field\":\"x\"},\"y\":{\"field\":\"y\"}},\"id\":\"46415\",\"type\":\"Line\"},{\"attributes\":{\"formatter\":{\"id\":\"47219\"},\"ticker\":{\"id\":\"46396\"}},\"id\":\"46395\",\"type\":\"LinearAxis\"},{\"attributes\":{},\"id\":\"46383\",\"type\":\"DataRange1d\"},{\"attributes\":{},\"id\":\"47219\",\"type\":\"BasicTickFormatter\"},{\"attributes\":{\"formatter\":{\"id\":\"47221\"},\"ticker\":{\"id\":\"46392\"}},\"id\":\"46391\",\"type\":\"LinearAxis\"},{\"attributes\":{},\"id\":\"47221\",\"type\":\"BasicTickFormatter\"},{\"attributes\":{\"bottom_units\":\"screen\",\"fill_alpha\":0.5,\"fill_color\":\"lightgrey\",\"left_units\":\"screen\",\"level\":\"overlay\",\"line_alpha\":1.0,\"line_color\":\"black\",\"line_dash\":[4,4],\"line_width\":2,\"right_units\":\"screen\",\"top_units\":\"screen\"},\"id\":\"46405\",\"type\":\"BoxAnnotation\"},{\"attributes\":{},\"id\":\"46385\",\"type\":\"DataRange1d\"},{\"attributes\":{\"text\":\"\"},\"id\":\"47218\",\"type\":\"Title\"},{\"attributes\":{},\"id\":\"46403\",\"type\":\"ResetTool\"},{\"attributes\":{},\"id\":\"47224\",\"type\":\"Selection\"},{\"attributes\":{},\"id\":\"46400\",\"type\":\"WheelZoomTool\"},{\"attributes\":{},\"id\":\"46392\",\"type\":\"BasicTicker\"},{\"attributes\":{},\"id\":\"46389\",\"type\":\"LinearScale\"},{\"attributes\":{\"axis\":{\"id\":\"46395\"},\"dimension\":1,\"ticker\":null},\"id\":\"46398\",\"type\":\"Grid\"},{\"attributes\":{},\"id\":\"47225\",\"type\":\"UnionRenderers\"},{\"attributes\":{\"fill_alpha\":{\"value\":0.5},\"fill_color\":{\"value\":\"blue\"},\"line_color\":{\"value\":\"#1f77b4\"},\"size\":{\"units\":\"screen\",\"value\":10},\"x\":{\"field\":\"x\"},\"y\":{\"field\":\"y\"}},\"id\":\"46421\",\"type\":\"Cross\"},{\"attributes\":{},\"id\":\"46402\",\"type\":\"SaveTool\"},{\"attributes\":{\"data\":{\"x\":[5,6,7,8,9,10],\"y\":[1,2,3,4,5,6]},\"selected\":{\"id\":\"47226\"},\"selection_policy\":{\"id\":\"47227\"}},\"id\":\"46420\",\"type\":\"ColumnDataSource\"},{\"attributes\":{\"fill_alpha\":{\"value\":0.1},\"fill_color\":{\"value\":\"blue\"},\"line_alpha\":{\"value\":0.1},\"line_color\":{\"value\":\"#1f77b4\"},\"size\":{\"units\":\"screen\",\"value\":10},\"x\":{\"field\":\"x\"},\"y\":{\"field\":\"y\"}},\"id\":\"46422\",\"type\":\"Cross\"},{\"attributes\":{\"source\":{\"id\":\"46420\"}},\"id\":\"46424\",\"type\":\"CDSView\"},{\"attributes\":{\"axis\":{\"id\":\"46391\"},\"ticker\":null},\"id\":\"46394\",\"type\":\"Grid\"},{\"attributes\":{\"overlay\":{\"id\":\"46405\"}},\"id\":\"46401\",\"type\":\"BoxZoomTool\"},{\"attributes\":{\"active_drag\":\"auto\",\"active_inspect\":\"auto\",\"active_multi\":null,\"active_scroll\":\"auto\",\"active_tap\":\"auto\",\"tools\":[{\"id\":\"46399\"},{\"id\":\"46400\"},{\"id\":\"46401\"},{\"id\":\"46402\"},{\"id\":\"46403\"},{\"id\":\"46404\"}]},\"id\":\"46406\",\"type\":\"Toolbar\"},{\"attributes\":{},\"id\":\"47226\",\"type\":\"Selection\"},{\"attributes\":{\"data_source\":{\"id\":\"46420\"},\"glyph\":{\"id\":\"46421\"},\"hover_glyph\":null,\"muted_glyph\":null,\"nonselection_glyph\":{\"id\":\"46422\"},\"selection_glyph\":null,\"view\":{\"id\":\"46424\"}},\"id\":\"46423\",\"type\":\"GlyphRenderer\"}],\"root_ids\":[\"46382\"]},\"title\":\"Bokeh Application\",\"version\":\"2.2.3\"}};\n",
       "  var render_items = [{\"docid\":\"fa9247c6-6077-4543-81c9-f93e7b135c97\",\"root_ids\":[\"46382\"],\"roots\":{\"46382\":\"0cdbe781-4136-4e55-abf9-4a29ab4fe6d5\"}}];\n",
       "  root.Bokeh.embed.embed_items_notebook(docs_json, render_items);\n",
       "\n",
       "  }\n",
       "  if (root.Bokeh !== undefined) {\n",
       "    embed_document(root);\n",
       "  } else {\n",
       "    var attempts = 0;\n",
       "    var timer = setInterval(function(root) {\n",
       "      if (root.Bokeh !== undefined) {\n",
       "        clearInterval(timer);\n",
       "        embed_document(root);\n",
       "      } else {\n",
       "        attempts++;\n",
       "        if (attempts > 100) {\n",
       "          clearInterval(timer);\n",
       "          console.log(\"Bokeh: ERROR: Unable to run BokehJS code because BokehJS library is missing\");\n",
       "        }\n",
       "      }\n",
       "    }, 10, root)\n",
       "  }\n",
       "})(window);"
      ],
      "application/vnd.bokehjs_exec.v0+json": ""
     },
     "metadata": {
      "application/vnd.bokehjs_exec.v0+json": {
       "id": "46382"
      }
     },
     "output_type": "display_data"
    }
   ],
   "source": [
    "# Afficher le graphe au niveau de ce notebook\n",
    "show(p)"
   ]
  },
  {
   "cell_type": "markdown",
   "metadata": {},
   "source": [
    "On peut créer un scatter plot en utilisant x et y"
   ]
  },
  {
   "cell_type": "code",
   "execution_count": 367,
   "metadata": {},
   "outputs": [],
   "source": [
    "# Créer une nouvelle figure\n",
    "p2 = figure(plot_width=400, plot_height=400)"
   ]
  },
  {
   "cell_type": "code",
   "execution_count": 368,
   "metadata": {},
   "outputs": [
    {
     "data": {
      "text/html": [
       "<div style=\"display: table;\"><div style=\"display: table-row;\"><div style=\"display: table-cell;\"><b title=\"bokeh.models.renderers.GlyphRenderer\">GlyphRenderer</b>(</div><div style=\"display: table-cell;\">id&nbsp;=&nbsp;'47317', <span id=\"47320\" style=\"cursor: pointer;\">&hellip;)</span></div></div><div class=\"47319\" style=\"display: none;\"><div style=\"display: table-cell;\"></div><div style=\"display: table-cell;\">data_source&nbsp;=&nbsp;ColumnDataSource(id='47314', ...),</div></div><div class=\"47319\" style=\"display: none;\"><div style=\"display: table-cell;\"></div><div style=\"display: table-cell;\">glyph&nbsp;=&nbsp;CircleCross(id='47315', ...),</div></div><div class=\"47319\" style=\"display: none;\"><div style=\"display: table-cell;\"></div><div style=\"display: table-cell;\">hover_glyph&nbsp;=&nbsp;None,</div></div><div class=\"47319\" style=\"display: none;\"><div style=\"display: table-cell;\"></div><div style=\"display: table-cell;\">js_event_callbacks&nbsp;=&nbsp;{},</div></div><div class=\"47319\" style=\"display: none;\"><div style=\"display: table-cell;\"></div><div style=\"display: table-cell;\">js_property_callbacks&nbsp;=&nbsp;{},</div></div><div class=\"47319\" style=\"display: none;\"><div style=\"display: table-cell;\"></div><div style=\"display: table-cell;\">level&nbsp;=&nbsp;'glyph',</div></div><div class=\"47319\" style=\"display: none;\"><div style=\"display: table-cell;\"></div><div style=\"display: table-cell;\">muted&nbsp;=&nbsp;False,</div></div><div class=\"47319\" style=\"display: none;\"><div style=\"display: table-cell;\"></div><div style=\"display: table-cell;\">muted_glyph&nbsp;=&nbsp;None,</div></div><div class=\"47319\" style=\"display: none;\"><div style=\"display: table-cell;\"></div><div style=\"display: table-cell;\">name&nbsp;=&nbsp;None,</div></div><div class=\"47319\" style=\"display: none;\"><div style=\"display: table-cell;\"></div><div style=\"display: table-cell;\">nonselection_glyph&nbsp;=&nbsp;CircleCross(id='47316', ...),</div></div><div class=\"47319\" style=\"display: none;\"><div style=\"display: table-cell;\"></div><div style=\"display: table-cell;\">selection_glyph&nbsp;=&nbsp;None,</div></div><div class=\"47319\" style=\"display: none;\"><div style=\"display: table-cell;\"></div><div style=\"display: table-cell;\">subscribed_events&nbsp;=&nbsp;[],</div></div><div class=\"47319\" style=\"display: none;\"><div style=\"display: table-cell;\"></div><div style=\"display: table-cell;\">tags&nbsp;=&nbsp;[],</div></div><div class=\"47319\" style=\"display: none;\"><div style=\"display: table-cell;\"></div><div style=\"display: table-cell;\">view&nbsp;=&nbsp;CDSView(id='47318', ...),</div></div><div class=\"47319\" style=\"display: none;\"><div style=\"display: table-cell;\"></div><div style=\"display: table-cell;\">visible&nbsp;=&nbsp;True,</div></div><div class=\"47319\" style=\"display: none;\"><div style=\"display: table-cell;\"></div><div style=\"display: table-cell;\">x_range_name&nbsp;=&nbsp;'default',</div></div><div class=\"47319\" style=\"display: none;\"><div style=\"display: table-cell;\"></div><div style=\"display: table-cell;\">y_range_name&nbsp;=&nbsp;'default')</div></div></div>\n",
       "<script>\n",
       "(function() {\n",
       "  var expanded = false;\n",
       "  var ellipsis = document.getElementById(\"47320\");\n",
       "  ellipsis.addEventListener(\"click\", function() {\n",
       "    var rows = document.getElementsByClassName(\"47319\");\n",
       "    for (var i = 0; i < rows.length; i++) {\n",
       "      var el = rows[i];\n",
       "      el.style.display = expanded ? \"none\" : \"table-row\";\n",
       "    }\n",
       "    ellipsis.innerHTML = expanded ? \"&hellip;)\" : \"&lsaquo;&lsaquo;&lsaquo;\";\n",
       "    expanded = !expanded;\n",
       "  });\n",
       "})();\n",
       "</script>\n"
      ],
      "text/plain": [
       "GlyphRenderer(id='47317', ...)"
      ]
     },
     "execution_count": 368,
     "metadata": {},
     "output_type": "execute_result"
    }
   ],
   "source": [
    "# Afficher les points en utilisant un cirle marker\n",
    "p2.circle_cross(x, y, size=15, color=\"firebrick\", alpha=0.5 )"
   ]
  },
  {
   "cell_type": "code",
   "execution_count": 369,
   "metadata": {},
   "outputs": [
    {
     "data": {
      "text/html": [
       "\n",
       "\n",
       "\n",
       "\n",
       "\n",
       "\n",
       "  <div class=\"bk-root\" id=\"d58efec6-66f0-4729-875d-80011420f57c\" data-root-id=\"47283\"></div>\n"
      ]
     },
     "metadata": {},
     "output_type": "display_data"
    },
    {
     "data": {
      "application/javascript": [
       "(function(root) {\n",
       "  function embed_document(root) {\n",
       "    \n",
       "  var docs_json = {\"c33f22a9-c4e7-4786-b1b7-dafb6ef5acd7\":{\"roots\":{\"references\":[{\"attributes\":{\"below\":[{\"id\":\"47292\"}],\"center\":[{\"id\":\"47295\"},{\"id\":\"47299\"}],\"left\":[{\"id\":\"47296\"}],\"plot_height\":400,\"plot_width\":400,\"renderers\":[{\"id\":\"47317\"}],\"title\":{\"id\":\"48123\"},\"toolbar\":{\"id\":\"47307\"},\"x_range\":{\"id\":\"47284\"},\"x_scale\":{\"id\":\"47288\"},\"y_range\":{\"id\":\"47286\"},\"y_scale\":{\"id\":\"47290\"}},\"id\":\"47283\",\"subtype\":\"Figure\",\"type\":\"Plot\"},{\"attributes\":{},\"id\":\"47305\",\"type\":\"HelpTool\"},{\"attributes\":{},\"id\":\"47293\",\"type\":\"BasicTicker\"},{\"attributes\":{\"formatter\":{\"id\":\"48124\"},\"ticker\":{\"id\":\"47297\"}},\"id\":\"47296\",\"type\":\"LinearAxis\"},{\"attributes\":{\"axis\":{\"id\":\"47296\"},\"dimension\":1,\"ticker\":null},\"id\":\"47299\",\"type\":\"Grid\"},{\"attributes\":{},\"id\":\"47297\",\"type\":\"BasicTicker\"},{\"attributes\":{},\"id\":\"48129\",\"type\":\"Selection\"},{\"attributes\":{},\"id\":\"47301\",\"type\":\"WheelZoomTool\"},{\"attributes\":{\"active_drag\":\"auto\",\"active_inspect\":\"auto\",\"active_multi\":null,\"active_scroll\":\"auto\",\"active_tap\":\"auto\",\"tools\":[{\"id\":\"47300\"},{\"id\":\"47301\"},{\"id\":\"47302\"},{\"id\":\"47303\"},{\"id\":\"47304\"},{\"id\":\"47305\"}]},\"id\":\"47307\",\"type\":\"Toolbar\"},{\"attributes\":{},\"id\":\"47300\",\"type\":\"PanTool\"},{\"attributes\":{},\"id\":\"48130\",\"type\":\"UnionRenderers\"},{\"attributes\":{\"overlay\":{\"id\":\"47306\"}},\"id\":\"47302\",\"type\":\"BoxZoomTool\"},{\"attributes\":{\"formatter\":{\"id\":\"48126\"},\"ticker\":{\"id\":\"47293\"}},\"id\":\"47292\",\"type\":\"LinearAxis\"},{\"attributes\":{},\"id\":\"47303\",\"type\":\"SaveTool\"},{\"attributes\":{},\"id\":\"47304\",\"type\":\"ResetTool\"},{\"attributes\":{\"fill_alpha\":{\"value\":0.1},\"fill_color\":{\"value\":\"firebrick\"},\"line_alpha\":{\"value\":0.1},\"line_color\":{\"value\":\"firebrick\"},\"size\":{\"units\":\"screen\",\"value\":15},\"x\":{\"field\":\"x\"},\"y\":{\"field\":\"y\"}},\"id\":\"47316\",\"type\":\"CircleCross\"},{\"attributes\":{},\"id\":\"48126\",\"type\":\"BasicTickFormatter\"},{\"attributes\":{},\"id\":\"47290\",\"type\":\"LinearScale\"},{\"attributes\":{\"fill_alpha\":{\"value\":0.5},\"fill_color\":{\"value\":\"firebrick\"},\"line_alpha\":{\"value\":0.5},\"line_color\":{\"value\":\"firebrick\"},\"size\":{\"units\":\"screen\",\"value\":15},\"x\":{\"field\":\"x\"},\"y\":{\"field\":\"y\"}},\"id\":\"47315\",\"type\":\"CircleCross\"},{\"attributes\":{},\"id\":\"48124\",\"type\":\"BasicTickFormatter\"},{\"attributes\":{\"data_source\":{\"id\":\"47314\"},\"glyph\":{\"id\":\"47315\"},\"hover_glyph\":null,\"muted_glyph\":null,\"nonselection_glyph\":{\"id\":\"47316\"},\"selection_glyph\":null,\"view\":{\"id\":\"47318\"}},\"id\":\"47317\",\"type\":\"GlyphRenderer\"},{\"attributes\":{\"source\":{\"id\":\"47314\"}},\"id\":\"47318\",\"type\":\"CDSView\"},{\"attributes\":{\"data\":{\"x\":[5,6,7,8,9,10],\"y\":[1,2,3,4,5,6]},\"selected\":{\"id\":\"48129\"},\"selection_policy\":{\"id\":\"48130\"}},\"id\":\"47314\",\"type\":\"ColumnDataSource\"},{\"attributes\":{},\"id\":\"47286\",\"type\":\"DataRange1d\"},{\"attributes\":{},\"id\":\"47288\",\"type\":\"LinearScale\"},{\"attributes\":{\"axis\":{\"id\":\"47292\"},\"ticker\":null},\"id\":\"47295\",\"type\":\"Grid\"},{\"attributes\":{\"bottom_units\":\"screen\",\"fill_alpha\":0.5,\"fill_color\":\"lightgrey\",\"left_units\":\"screen\",\"level\":\"overlay\",\"line_alpha\":1.0,\"line_color\":\"black\",\"line_dash\":[4,4],\"line_width\":2,\"right_units\":\"screen\",\"top_units\":\"screen\"},\"id\":\"47306\",\"type\":\"BoxAnnotation\"},{\"attributes\":{\"text\":\"\"},\"id\":\"48123\",\"type\":\"Title\"},{\"attributes\":{},\"id\":\"47284\",\"type\":\"DataRange1d\"}],\"root_ids\":[\"47283\"]},\"title\":\"Bokeh Application\",\"version\":\"2.2.3\"}};\n",
       "  var render_items = [{\"docid\":\"c33f22a9-c4e7-4786-b1b7-dafb6ef5acd7\",\"root_ids\":[\"47283\"],\"roots\":{\"47283\":\"d58efec6-66f0-4729-875d-80011420f57c\"}}];\n",
       "  root.Bokeh.embed.embed_items_notebook(docs_json, render_items);\n",
       "\n",
       "  }\n",
       "  if (root.Bokeh !== undefined) {\n",
       "    embed_document(root);\n",
       "  } else {\n",
       "    var attempts = 0;\n",
       "    var timer = setInterval(function(root) {\n",
       "      if (root.Bokeh !== undefined) {\n",
       "        clearInterval(timer);\n",
       "        embed_document(root);\n",
       "      } else {\n",
       "        attempts++;\n",
       "        if (attempts > 100) {\n",
       "          clearInterval(timer);\n",
       "          console.log(\"Bokeh: ERROR: Unable to run BokehJS code because BokehJS library is missing\");\n",
       "        }\n",
       "      }\n",
       "    }, 10, root)\n",
       "  }\n",
       "})(window);"
      ],
      "application/vnd.bokehjs_exec.v0+json": ""
     },
     "metadata": {
      "application/vnd.bokehjs_exec.v0+json": {
       "id": "47283"
      }
     },
     "output_type": "display_data"
    }
   ],
   "source": [
    "# Afficher le graphe\n",
    "show(p2)"
   ]
  },
  {
   "cell_type": "markdown",
   "metadata": {},
   "source": [
    "Lors de la création d'un scatter plot, on peut choisir parmi les markers disponible sur Bokeh: \n",
    "- cross()\n",
    "- x()\n",
    "- diamond()\n",
    "- diamond_cross()\n",
    "- circle_x()\n",
    "- circle_cross()\n",
    "- triangle()\n",
    "- inverted_triangle()\n",
    "- square()\n",
    "- square_x()\n",
    "- square_cross()\n",
    "- asterisk()"
   ]
  },
  {
   "cell_type": "code",
   "execution_count": 370,
   "metadata": {},
   "outputs": [
    {
     "data": {
      "text/html": [
       "\n",
       "\n",
       "\n",
       "\n",
       "\n",
       "\n",
       "  <div class=\"bk-root\" id=\"efaafec5-95c0-404f-a8ba-fd807ce9d727\" data-root-id=\"48176\"></div>\n"
      ]
     },
     "metadata": {},
     "output_type": "display_data"
    },
    {
     "data": {
      "application/javascript": [
       "(function(root) {\n",
       "  function embed_document(root) {\n",
       "    \n",
       "  var docs_json = {\"4186cf6b-59ce-4f6f-acb2-212b73d2c213\":{\"roots\":{\"references\":[{\"attributes\":{\"below\":[{\"id\":\"48185\"}],\"center\":[{\"id\":\"48188\"},{\"id\":\"48192\"}],\"left\":[{\"id\":\"48189\"}],\"plot_height\":400,\"plot_width\":400,\"renderers\":[{\"id\":\"48210\"}],\"title\":{\"id\":\"49023\"},\"toolbar\":{\"id\":\"48200\"},\"x_range\":{\"id\":\"48177\"},\"x_scale\":{\"id\":\"48181\"},\"y_range\":{\"id\":\"48179\"},\"y_scale\":{\"id\":\"48183\"}},\"id\":\"48176\",\"subtype\":\"Figure\",\"type\":\"Plot\"},{\"attributes\":{},\"id\":\"48186\",\"type\":\"BasicTicker\"},{\"attributes\":{\"formatter\":{\"id\":\"49024\"},\"ticker\":{\"id\":\"48190\"}},\"id\":\"48189\",\"type\":\"LinearAxis\"},{\"attributes\":{\"axis\":{\"id\":\"48185\"},\"ticker\":null},\"id\":\"48188\",\"type\":\"Grid\"},{\"attributes\":{\"axis\":{\"id\":\"48189\"},\"dimension\":1,\"ticker\":null},\"id\":\"48192\",\"type\":\"Grid\"},{\"attributes\":{},\"id\":\"48198\",\"type\":\"HelpTool\"},{\"attributes\":{},\"id\":\"49026\",\"type\":\"BasicTickFormatter\"},{\"attributes\":{},\"id\":\"48190\",\"type\":\"BasicTicker\"},{\"attributes\":{\"active_drag\":\"auto\",\"active_inspect\":\"auto\",\"active_multi\":null,\"active_scroll\":\"auto\",\"active_tap\":\"auto\",\"tools\":[{\"id\":\"48193\"},{\"id\":\"48194\"},{\"id\":\"48195\"},{\"id\":\"48196\"},{\"id\":\"48197\"},{\"id\":\"48198\"}]},\"id\":\"48200\",\"type\":\"Toolbar\"},{\"attributes\":{},\"id\":\"48194\",\"type\":\"WheelZoomTool\"},{\"attributes\":{},\"id\":\"48193\",\"type\":\"PanTool\"},{\"attributes\":{\"overlay\":{\"id\":\"48199\"}},\"id\":\"48195\",\"type\":\"BoxZoomTool\"},{\"attributes\":{},\"id\":\"49029\",\"type\":\"Selection\"},{\"attributes\":{},\"id\":\"48196\",\"type\":\"SaveTool\"},{\"attributes\":{\"source\":{\"id\":\"48207\"}},\"id\":\"48211\",\"type\":\"CDSView\"},{\"attributes\":{},\"id\":\"48197\",\"type\":\"ResetTool\"},{\"attributes\":{\"data_source\":{\"id\":\"48207\"},\"glyph\":{\"id\":\"48208\"},\"hover_glyph\":null,\"muted_glyph\":null,\"nonselection_glyph\":{\"id\":\"48209\"},\"selection_glyph\":null,\"view\":{\"id\":\"48211\"}},\"id\":\"48210\",\"type\":\"GlyphRenderer\"},{\"attributes\":{\"text\":\"\"},\"id\":\"49023\",\"type\":\"Title\"},{\"attributes\":{},\"id\":\"49030\",\"type\":\"UnionRenderers\"},{\"attributes\":{\"fill_alpha\":{\"value\":0.1},\"fill_color\":{\"value\":\"orange\"},\"line_alpha\":{\"value\":0.1},\"line_color\":{\"value\":\"orange\"},\"size\":{\"units\":\"screen\",\"value\":20},\"x\":{\"field\":\"x\"},\"y\":{\"field\":\"y\"}},\"id\":\"48209\",\"type\":\"Diamond\"},{\"attributes\":{\"bottom_units\":\"screen\",\"fill_alpha\":0.5,\"fill_color\":\"lightgrey\",\"left_units\":\"screen\",\"level\":\"overlay\",\"line_alpha\":1.0,\"line_color\":\"black\",\"line_dash\":[4,4],\"line_width\":2,\"right_units\":\"screen\",\"top_units\":\"screen\"},\"id\":\"48199\",\"type\":\"BoxAnnotation\"},{\"attributes\":{\"fill_alpha\":{\"value\":0.5},\"fill_color\":{\"value\":\"orange\"},\"line_alpha\":{\"value\":0.5},\"line_color\":{\"value\":\"orange\"},\"size\":{\"units\":\"screen\",\"value\":20},\"x\":{\"field\":\"x\"},\"y\":{\"field\":\"y\"}},\"id\":\"48208\",\"type\":\"Diamond\"},{\"attributes\":{},\"id\":\"49024\",\"type\":\"BasicTickFormatter\"},{\"attributes\":{\"formatter\":{\"id\":\"49026\"},\"ticker\":{\"id\":\"48186\"}},\"id\":\"48185\",\"type\":\"LinearAxis\"},{\"attributes\":{},\"id\":\"48181\",\"type\":\"LinearScale\"},{\"attributes\":{},\"id\":\"48183\",\"type\":\"LinearScale\"},{\"attributes\":{},\"id\":\"48179\",\"type\":\"DataRange1d\"},{\"attributes\":{},\"id\":\"48177\",\"type\":\"DataRange1d\"},{\"attributes\":{\"data\":{\"x\":[5,6,7,8,9,10],\"y\":[1,2,3,4,5,6]},\"selected\":{\"id\":\"49029\"},\"selection_policy\":{\"id\":\"49030\"}},\"id\":\"48207\",\"type\":\"ColumnDataSource\"}],\"root_ids\":[\"48176\"]},\"title\":\"Bokeh Application\",\"version\":\"2.2.3\"}};\n",
       "  var render_items = [{\"docid\":\"4186cf6b-59ce-4f6f-acb2-212b73d2c213\",\"root_ids\":[\"48176\"],\"roots\":{\"48176\":\"efaafec5-95c0-404f-a8ba-fd807ce9d727\"}}];\n",
       "  root.Bokeh.embed.embed_items_notebook(docs_json, render_items);\n",
       "\n",
       "  }\n",
       "  if (root.Bokeh !== undefined) {\n",
       "    embed_document(root);\n",
       "  } else {\n",
       "    var attempts = 0;\n",
       "    var timer = setInterval(function(root) {\n",
       "      if (root.Bokeh !== undefined) {\n",
       "        clearInterval(timer);\n",
       "        embed_document(root);\n",
       "      } else {\n",
       "        attempts++;\n",
       "        if (attempts > 100) {\n",
       "          clearInterval(timer);\n",
       "          console.log(\"Bokeh: ERROR: Unable to run BokehJS code because BokehJS library is missing\");\n",
       "        }\n",
       "      }\n",
       "    }, 10, root)\n",
       "  }\n",
       "})(window);"
      ],
      "application/vnd.bokehjs_exec.v0+json": ""
     },
     "metadata": {
      "application/vnd.bokehjs_exec.v0+json": {
       "id": "48176"
      }
     },
     "output_type": "display_data"
    }
   ],
   "source": [
    "# Tester d'autre markers pour votre scatterplot\n",
    "p3 = figure(plot_width=400, plot_height=400)\n",
    "p3.diamond(x, y, size=20, color=\"orange\", alpha=0.5 )\n",
    "show(p3)"
   ]
  },
  {
   "cell_type": "markdown",
   "metadata": {},
   "source": [
    "<br> On peut également ajouter des libélés aux axes x et y en assignant les libélés dans la fonction figure."
   ]
  },
  {
   "cell_type": "code",
   "execution_count": 371,
   "metadata": {},
   "outputs": [
    {
     "data": {
      "text/html": [
       "\n",
       "\n",
       "\n",
       "\n",
       "\n",
       "\n",
       "  <div class=\"bk-root\" id=\"f08e702d-adbb-4d97-af9b-3cb2a25eecc9\" data-root-id=\"46382\"></div>\n"
      ]
     },
     "metadata": {},
     "output_type": "display_data"
    },
    {
     "data": {
      "application/javascript": [
       "(function(root) {\n",
       "  function embed_document(root) {\n",
       "    \n",
       "  var docs_json = {\"f54e26ac-314a-4077-beeb-cf7ccba27c74\":{\"roots\":{\"references\":[{\"attributes\":{\"below\":[{\"id\":\"46391\"}],\"center\":[{\"id\":\"46394\"},{\"id\":\"46398\"}],\"left\":[{\"id\":\"46395\"}],\"plot_height\":400,\"plot_width\":400,\"renderers\":[{\"id\":\"46416\"},{\"id\":\"46423\"}],\"title\":{\"id\":\"47218\"},\"toolbar\":{\"id\":\"46406\"},\"x_range\":{\"id\":\"46383\"},\"x_scale\":{\"id\":\"46387\"},\"y_range\":{\"id\":\"46385\"},\"y_scale\":{\"id\":\"46389\"}},\"id\":\"46382\",\"subtype\":\"Figure\",\"type\":\"Plot\"},{\"attributes\":{\"data_source\":{\"id\":\"46413\"},\"glyph\":{\"id\":\"46414\"},\"hover_glyph\":null,\"muted_glyph\":null,\"nonselection_glyph\":{\"id\":\"46415\"},\"selection_glyph\":null,\"view\":{\"id\":\"46417\"}},\"id\":\"46416\",\"type\":\"GlyphRenderer\"},{\"attributes\":{},\"id\":\"47227\",\"type\":\"UnionRenderers\"},{\"attributes\":{\"data\":{\"x\":[5,6,7,8,9,10],\"y\":[1,2,3,4,5,6]},\"selected\":{\"id\":\"47224\"},\"selection_policy\":{\"id\":\"47225\"}},\"id\":\"46413\",\"type\":\"ColumnDataSource\"},{\"attributes\":{},\"id\":\"46404\",\"type\":\"HelpTool\"},{\"attributes\":{\"line_alpha\":0.5,\"line_color\":\"orange\",\"line_width\":2,\"x\":{\"field\":\"x\"},\"y\":{\"field\":\"y\"}},\"id\":\"46414\",\"type\":\"Line\"},{\"attributes\":{},\"id\":\"46396\",\"type\":\"BasicTicker\"},{\"attributes\":{},\"id\":\"46387\",\"type\":\"LinearScale\"},{\"attributes\":{\"source\":{\"id\":\"46413\"}},\"id\":\"46417\",\"type\":\"CDSView\"},{\"attributes\":{},\"id\":\"46399\",\"type\":\"PanTool\"},{\"attributes\":{\"line_alpha\":0.1,\"line_color\":\"orange\",\"line_width\":2,\"x\":{\"field\":\"x\"},\"y\":{\"field\":\"y\"}},\"id\":\"46415\",\"type\":\"Line\"},{\"attributes\":{\"axis_label\":\"y\",\"formatter\":{\"id\":\"47219\"},\"ticker\":{\"id\":\"46396\"}},\"id\":\"46395\",\"type\":\"LinearAxis\"},{\"attributes\":{},\"id\":\"46383\",\"type\":\"DataRange1d\"},{\"attributes\":{},\"id\":\"47219\",\"type\":\"BasicTickFormatter\"},{\"attributes\":{\"axis_label\":\"x\",\"formatter\":{\"id\":\"47221\"},\"ticker\":{\"id\":\"46392\"}},\"id\":\"46391\",\"type\":\"LinearAxis\"},{\"attributes\":{},\"id\":\"47221\",\"type\":\"BasicTickFormatter\"},{\"attributes\":{\"bottom_units\":\"screen\",\"fill_alpha\":0.5,\"fill_color\":\"lightgrey\",\"left_units\":\"screen\",\"level\":\"overlay\",\"line_alpha\":1.0,\"line_color\":\"black\",\"line_dash\":[4,4],\"line_width\":2,\"right_units\":\"screen\",\"top_units\":\"screen\"},\"id\":\"46405\",\"type\":\"BoxAnnotation\"},{\"attributes\":{},\"id\":\"46385\",\"type\":\"DataRange1d\"},{\"attributes\":{\"text\":\"\"},\"id\":\"47218\",\"type\":\"Title\"},{\"attributes\":{},\"id\":\"46403\",\"type\":\"ResetTool\"},{\"attributes\":{},\"id\":\"47224\",\"type\":\"Selection\"},{\"attributes\":{},\"id\":\"46400\",\"type\":\"WheelZoomTool\"},{\"attributes\":{},\"id\":\"46392\",\"type\":\"BasicTicker\"},{\"attributes\":{},\"id\":\"46389\",\"type\":\"LinearScale\"},{\"attributes\":{\"axis\":{\"id\":\"46395\"},\"dimension\":1,\"ticker\":null},\"id\":\"46398\",\"type\":\"Grid\"},{\"attributes\":{},\"id\":\"47225\",\"type\":\"UnionRenderers\"},{\"attributes\":{\"fill_alpha\":{\"value\":0.5},\"fill_color\":{\"value\":\"blue\"},\"line_color\":{\"value\":\"#1f77b4\"},\"size\":{\"units\":\"screen\",\"value\":10},\"x\":{\"field\":\"x\"},\"y\":{\"field\":\"y\"}},\"id\":\"46421\",\"type\":\"Cross\"},{\"attributes\":{},\"id\":\"46402\",\"type\":\"SaveTool\"},{\"attributes\":{\"data\":{\"x\":[5,6,7,8,9,10],\"y\":[1,2,3,4,5,6]},\"selected\":{\"id\":\"47226\"},\"selection_policy\":{\"id\":\"47227\"}},\"id\":\"46420\",\"type\":\"ColumnDataSource\"},{\"attributes\":{\"fill_alpha\":{\"value\":0.1},\"fill_color\":{\"value\":\"blue\"},\"line_alpha\":{\"value\":0.1},\"line_color\":{\"value\":\"#1f77b4\"},\"size\":{\"units\":\"screen\",\"value\":10},\"x\":{\"field\":\"x\"},\"y\":{\"field\":\"y\"}},\"id\":\"46422\",\"type\":\"Cross\"},{\"attributes\":{\"source\":{\"id\":\"46420\"}},\"id\":\"46424\",\"type\":\"CDSView\"},{\"attributes\":{\"axis\":{\"id\":\"46391\"},\"ticker\":null},\"id\":\"46394\",\"type\":\"Grid\"},{\"attributes\":{\"overlay\":{\"id\":\"46405\"}},\"id\":\"46401\",\"type\":\"BoxZoomTool\"},{\"attributes\":{\"active_drag\":\"auto\",\"active_inspect\":\"auto\",\"active_multi\":null,\"active_scroll\":\"auto\",\"active_tap\":\"auto\",\"tools\":[{\"id\":\"46399\"},{\"id\":\"46400\"},{\"id\":\"46401\"},{\"id\":\"46402\"},{\"id\":\"46403\"},{\"id\":\"46404\"}]},\"id\":\"46406\",\"type\":\"Toolbar\"},{\"attributes\":{},\"id\":\"47226\",\"type\":\"Selection\"},{\"attributes\":{\"data_source\":{\"id\":\"46420\"},\"glyph\":{\"id\":\"46421\"},\"hover_glyph\":null,\"muted_glyph\":null,\"nonselection_glyph\":{\"id\":\"46422\"},\"selection_glyph\":null,\"view\":{\"id\":\"46424\"}},\"id\":\"46423\",\"type\":\"GlyphRenderer\"}],\"root_ids\":[\"46382\"]},\"title\":\"Bokeh Application\",\"version\":\"2.2.3\"}};\n",
       "  var render_items = [{\"docid\":\"f54e26ac-314a-4077-beeb-cf7ccba27c74\",\"root_ids\":[\"46382\"],\"roots\":{\"46382\":\"f08e702d-adbb-4d97-af9b-3cb2a25eecc9\"}}];\n",
       "  root.Bokeh.embed.embed_items_notebook(docs_json, render_items);\n",
       "\n",
       "  }\n",
       "  if (root.Bokeh !== undefined) {\n",
       "    embed_document(root);\n",
       "  } else {\n",
       "    var attempts = 0;\n",
       "    var timer = setInterval(function(root) {\n",
       "      if (root.Bokeh !== undefined) {\n",
       "        clearInterval(timer);\n",
       "        embed_document(root);\n",
       "      } else {\n",
       "        attempts++;\n",
       "        if (attempts > 100) {\n",
       "          clearInterval(timer);\n",
       "          console.log(\"Bokeh: ERROR: Unable to run BokehJS code because BokehJS library is missing\");\n",
       "        }\n",
       "      }\n",
       "    }, 10, root)\n",
       "  }\n",
       "})(window);"
      ],
      "application/vnd.bokehjs_exec.v0+json": ""
     },
     "metadata": {
      "application/vnd.bokehjs_exec.v0+json": {
       "id": "46382"
      }
     },
     "output_type": "display_data"
    }
   ],
   "source": [
    "# Ajouter les libélés aux axes x et y\n",
    "p.xaxis.axis_label = 'x'\n",
    "p.yaxis.axis_label = 'y'\n",
    "show(p)"
   ]
  },
  {
   "cell_type": "markdown",
   "metadata": {},
   "source": [
    "<br>Il est possible de changer la transparence d'une figure en utilisant l'attribut alpha dans la fonction circle. Ceci est utile quand nos points de données sont susceptibles de se croiser. L'argument alpha prend des valuers de 0 (complètement transparent) et 1 (complètement opaque). \n",
    "\n",
    "<br> Sur les visualisations Bokeh, on est fournit par défaut, dans la partie droite du graphe, avec des fonctionnalités de panning, zooming, selection, et sauvegarde. Ces outils sont configurables et très utiles pour l'exploration des données. \n",
    "<br><br> Vous pouvez tester d'autres visualisations à partir de la Bokeh Gallery: https://docs.bokeh.org/en/latest/docs/gallery.html#gallery"
   ]
  },
  {
   "cell_type": "markdown",
   "metadata": {},
   "source": [
    "<br> </br>\n",
    "## B. Visualisations à base des Dataframes Pandas"
   ]
  },
  {
   "cell_type": "markdown",
   "metadata": {},
   "source": [
    "Les dataframe Pandas sont fréquemment utilisées dans les projets data science. Même si Pandas offre quelques possibilités de visualisation des données (e.g. hist qu'on a vu dans TP1, boxplot...), les librairies spécialisées en Data visualisation sont plus adeptes aux challenges de construire des data viz conviviales, complexes et interactives. Bokeh supporte nativement les Pandas dataframe et offre des fonctionnalités qui aident à contruire des graphes interactifs en se basant sur leurs données.\n",
    "<br><br> Au niveau du TP1, on a créé des Heatmaps pour mieux visualiser les corrélations entre les différentes. On va reprendre les données des pistes musicales du TP1 et créer davantage de visualisations. "
   ]
  },
  {
   "cell_type": "code",
   "execution_count": 414,
   "metadata": {},
   "outputs": [],
   "source": [
    "import pandas as pd"
   ]
  },
  {
   "cell_type": "code",
   "execution_count": 415,
   "metadata": {},
   "outputs": [
    {
     "data": {
      "text/html": [
       "<div>\n",
       "<style scoped>\n",
       "    .dataframe tbody tr th:only-of-type {\n",
       "        vertical-align: middle;\n",
       "    }\n",
       "\n",
       "    .dataframe tbody tr th {\n",
       "        vertical-align: top;\n",
       "    }\n",
       "\n",
       "    .dataframe thead th {\n",
       "        text-align: right;\n",
       "    }\n",
       "</style>\n",
       "<table border=\"1\" class=\"dataframe\">\n",
       "  <thead>\n",
       "    <tr style=\"text-align: right;\">\n",
       "      <th></th>\n",
       "      <th>acousticness</th>\n",
       "      <th>artists</th>\n",
       "      <th>danceability</th>\n",
       "      <th>duration_ms</th>\n",
       "      <th>energy</th>\n",
       "      <th>explicit</th>\n",
       "      <th>id</th>\n",
       "      <th>instrumentalness</th>\n",
       "      <th>key</th>\n",
       "      <th>liveness</th>\n",
       "      <th>loudness</th>\n",
       "      <th>mode</th>\n",
       "      <th>name</th>\n",
       "      <th>popularity</th>\n",
       "      <th>release_date</th>\n",
       "      <th>speechiness</th>\n",
       "      <th>tempo</th>\n",
       "      <th>valence</th>\n",
       "      <th>year</th>\n",
       "    </tr>\n",
       "  </thead>\n",
       "  <tbody>\n",
       "    <tr>\n",
       "      <th>0</th>\n",
       "      <td>0.995</td>\n",
       "      <td>['Carl Woitschach']</td>\n",
       "      <td>0.708</td>\n",
       "      <td>158648</td>\n",
       "      <td>0.1950</td>\n",
       "      <td>0</td>\n",
       "      <td>6KbQ3uYMLKb5jDxLF7wYDD</td>\n",
       "      <td>0.563</td>\n",
       "      <td>10</td>\n",
       "      <td>0.1510</td>\n",
       "      <td>-12.428</td>\n",
       "      <td>1</td>\n",
       "      <td>Singende Bataillone 1. Teil</td>\n",
       "      <td>0</td>\n",
       "      <td>1928</td>\n",
       "      <td>0.0506</td>\n",
       "      <td>118.469</td>\n",
       "      <td>0.7790</td>\n",
       "      <td>1928</td>\n",
       "    </tr>\n",
       "    <tr>\n",
       "      <th>1</th>\n",
       "      <td>0.994</td>\n",
       "      <td>['Robert Schumann', 'Vladimir Horowitz']</td>\n",
       "      <td>0.379</td>\n",
       "      <td>282133</td>\n",
       "      <td>0.0135</td>\n",
       "      <td>0</td>\n",
       "      <td>6KuQTIu1KoTTkLXKrwlLPV</td>\n",
       "      <td>0.901</td>\n",
       "      <td>8</td>\n",
       "      <td>0.0763</td>\n",
       "      <td>-28.454</td>\n",
       "      <td>1</td>\n",
       "      <td>Fantasiestücke, Op. 111: Più tosto lento</td>\n",
       "      <td>0</td>\n",
       "      <td>1928</td>\n",
       "      <td>0.0462</td>\n",
       "      <td>83.972</td>\n",
       "      <td>0.0767</td>\n",
       "      <td>1928</td>\n",
       "    </tr>\n",
       "    <tr>\n",
       "      <th>2</th>\n",
       "      <td>0.604</td>\n",
       "      <td>['Seweryn Goszczyński']</td>\n",
       "      <td>0.749</td>\n",
       "      <td>104300</td>\n",
       "      <td>0.2200</td>\n",
       "      <td>0</td>\n",
       "      <td>6L63VW0PibdM1HDSBoqnoM</td>\n",
       "      <td>0.000</td>\n",
       "      <td>5</td>\n",
       "      <td>0.1190</td>\n",
       "      <td>-19.924</td>\n",
       "      <td>0</td>\n",
       "      <td>Chapter 1.18 - Zamek kaniowski</td>\n",
       "      <td>0</td>\n",
       "      <td>1928</td>\n",
       "      <td>0.9290</td>\n",
       "      <td>107.177</td>\n",
       "      <td>0.8800</td>\n",
       "      <td>1928</td>\n",
       "    </tr>\n",
       "    <tr>\n",
       "      <th>3</th>\n",
       "      <td>0.995</td>\n",
       "      <td>['Francisco Canaro']</td>\n",
       "      <td>0.781</td>\n",
       "      <td>180760</td>\n",
       "      <td>0.1300</td>\n",
       "      <td>0</td>\n",
       "      <td>6M94FkXd15sOAOQYRnWPN8</td>\n",
       "      <td>0.887</td>\n",
       "      <td>1</td>\n",
       "      <td>0.1110</td>\n",
       "      <td>-14.734</td>\n",
       "      <td>0</td>\n",
       "      <td>Bebamos Juntos - Instrumental (Remasterizado)</td>\n",
       "      <td>0</td>\n",
       "      <td>1928-09-25</td>\n",
       "      <td>0.0926</td>\n",
       "      <td>108.003</td>\n",
       "      <td>0.7200</td>\n",
       "      <td>1928</td>\n",
       "    </tr>\n",
       "    <tr>\n",
       "      <th>4</th>\n",
       "      <td>0.990</td>\n",
       "      <td>['Frédéric Chopin', 'Vladimir Horowitz']</td>\n",
       "      <td>0.210</td>\n",
       "      <td>687733</td>\n",
       "      <td>0.2040</td>\n",
       "      <td>0</td>\n",
       "      <td>6N6tiFZ9vLTSOIxkj8qKrd</td>\n",
       "      <td>0.908</td>\n",
       "      <td>11</td>\n",
       "      <td>0.0980</td>\n",
       "      <td>-16.829</td>\n",
       "      <td>1</td>\n",
       "      <td>Polonaise-Fantaisie in A-Flat Major, Op. 61</td>\n",
       "      <td>1</td>\n",
       "      <td>1928</td>\n",
       "      <td>0.0424</td>\n",
       "      <td>62.149</td>\n",
       "      <td>0.0693</td>\n",
       "      <td>1928</td>\n",
       "    </tr>\n",
       "  </tbody>\n",
       "</table>\n",
       "</div>"
      ],
      "text/plain": [
       "   acousticness                                   artists  danceability  \\\n",
       "0         0.995                       ['Carl Woitschach']         0.708   \n",
       "1         0.994  ['Robert Schumann', 'Vladimir Horowitz']         0.379   \n",
       "2         0.604                   ['Seweryn Goszczyński']         0.749   \n",
       "3         0.995                      ['Francisco Canaro']         0.781   \n",
       "4         0.990  ['Frédéric Chopin', 'Vladimir Horowitz']         0.210   \n",
       "\n",
       "   duration_ms  energy  explicit                      id  instrumentalness  \\\n",
       "0       158648  0.1950         0  6KbQ3uYMLKb5jDxLF7wYDD             0.563   \n",
       "1       282133  0.0135         0  6KuQTIu1KoTTkLXKrwlLPV             0.901   \n",
       "2       104300  0.2200         0  6L63VW0PibdM1HDSBoqnoM             0.000   \n",
       "3       180760  0.1300         0  6M94FkXd15sOAOQYRnWPN8             0.887   \n",
       "4       687733  0.2040         0  6N6tiFZ9vLTSOIxkj8qKrd             0.908   \n",
       "\n",
       "   key  liveness  loudness  mode  \\\n",
       "0   10    0.1510   -12.428     1   \n",
       "1    8    0.0763   -28.454     1   \n",
       "2    5    0.1190   -19.924     0   \n",
       "3    1    0.1110   -14.734     0   \n",
       "4   11    0.0980   -16.829     1   \n",
       "\n",
       "                                            name  popularity release_date  \\\n",
       "0                    Singende Bataillone 1. Teil           0         1928   \n",
       "1       Fantasiestücke, Op. 111: Più tosto lento           0         1928   \n",
       "2                 Chapter 1.18 - Zamek kaniowski           0         1928   \n",
       "3  Bebamos Juntos - Instrumental (Remasterizado)           0   1928-09-25   \n",
       "4    Polonaise-Fantaisie in A-Flat Major, Op. 61           1         1928   \n",
       "\n",
       "   speechiness    tempo  valence  year  \n",
       "0       0.0506  118.469   0.7790  1928  \n",
       "1       0.0462   83.972   0.0767  1928  \n",
       "2       0.9290  107.177   0.8800  1928  \n",
       "3       0.0926  108.003   0.7200  1928  \n",
       "4       0.0424   62.149   0.0693  1928  "
      ]
     },
     "execution_count": 415,
     "metadata": {},
     "output_type": "execute_result"
    }
   ],
   "source": [
    "# Lire le fichier data dans une dataframe\n",
    "df = pd.read_csv(\"music_dataset/data.csv\")\n",
    "df.head(5)"
   ]
  },
  {
   "cell_type": "markdown",
   "metadata": {},
   "source": [
    "Créer une nouvelle dataframe en filtrant sur un artiste de votre choix (de préférence un artiste avec plusieurs pistes sur plusieurs années)"
   ]
  },
  {
   "cell_type": "code",
   "execution_count": 416,
   "metadata": {},
   "outputs": [
    {
     "data": {
      "text/html": [
       "<div>\n",
       "<style scoped>\n",
       "    .dataframe tbody tr th:only-of-type {\n",
       "        vertical-align: middle;\n",
       "    }\n",
       "\n",
       "    .dataframe tbody tr th {\n",
       "        vertical-align: top;\n",
       "    }\n",
       "\n",
       "    .dataframe thead th {\n",
       "        text-align: right;\n",
       "    }\n",
       "</style>\n",
       "<table border=\"1\" class=\"dataframe\">\n",
       "  <thead>\n",
       "    <tr style=\"text-align: right;\">\n",
       "      <th></th>\n",
       "      <th>acousticness</th>\n",
       "      <th>artists</th>\n",
       "      <th>danceability</th>\n",
       "      <th>duration_ms</th>\n",
       "      <th>energy</th>\n",
       "      <th>explicit</th>\n",
       "      <th>id</th>\n",
       "      <th>instrumentalness</th>\n",
       "      <th>key</th>\n",
       "      <th>liveness</th>\n",
       "      <th>loudness</th>\n",
       "      <th>mode</th>\n",
       "      <th>name</th>\n",
       "      <th>popularity</th>\n",
       "      <th>release_date</th>\n",
       "      <th>speechiness</th>\n",
       "      <th>tempo</th>\n",
       "      <th>valence</th>\n",
       "      <th>year</th>\n",
       "    </tr>\n",
       "  </thead>\n",
       "  <tbody>\n",
       "    <tr>\n",
       "      <th>6178</th>\n",
       "      <td>0.3990</td>\n",
       "      <td>['JAY-Z', 'Eminem']</td>\n",
       "      <td>0.561</td>\n",
       "      <td>337760</td>\n",
       "      <td>0.774</td>\n",
       "      <td>1</td>\n",
       "      <td>1eAZcqDmiUE57YdeElYbMd</td>\n",
       "      <td>0.000002</td>\n",
       "      <td>1</td>\n",
       "      <td>0.1890</td>\n",
       "      <td>-3.144</td>\n",
       "      <td>0</td>\n",
       "      <td>Renegade</td>\n",
       "      <td>41</td>\n",
       "      <td>2001-09-11</td>\n",
       "      <td>0.4470</td>\n",
       "      <td>77.621</td>\n",
       "      <td>0.820</td>\n",
       "      <td>2001</td>\n",
       "    </tr>\n",
       "    <tr>\n",
       "      <th>6281</th>\n",
       "      <td>0.0920</td>\n",
       "      <td>['Obie Trice', '50 Cent', 'Eminem']</td>\n",
       "      <td>0.713</td>\n",
       "      <td>270747</td>\n",
       "      <td>0.517</td>\n",
       "      <td>1</td>\n",
       "      <td>0jRj0owDUMxxbmz2qkgtSC</td>\n",
       "      <td>0.000006</td>\n",
       "      <td>7</td>\n",
       "      <td>0.1340</td>\n",
       "      <td>-5.403</td>\n",
       "      <td>1</td>\n",
       "      <td>Love Me</td>\n",
       "      <td>42</td>\n",
       "      <td>2002-10-29</td>\n",
       "      <td>0.2370</td>\n",
       "      <td>80.986</td>\n",
       "      <td>0.267</td>\n",
       "      <td>2002</td>\n",
       "    </tr>\n",
       "    <tr>\n",
       "      <th>6576</th>\n",
       "      <td>0.0507</td>\n",
       "      <td>['Eminem', 'Nate Dogg']</td>\n",
       "      <td>0.963</td>\n",
       "      <td>274440</td>\n",
       "      <td>0.643</td>\n",
       "      <td>1</td>\n",
       "      <td>64649mwn5MP4gz1eIOAerx</td>\n",
       "      <td>0.000049</td>\n",
       "      <td>1</td>\n",
       "      <td>0.1570</td>\n",
       "      <td>-5.785</td>\n",
       "      <td>0</td>\n",
       "      <td>Shake That</td>\n",
       "      <td>48</td>\n",
       "      <td>2005-12-06</td>\n",
       "      <td>0.1170</td>\n",
       "      <td>107.005</td>\n",
       "      <td>0.534</td>\n",
       "      <td>2005</td>\n",
       "    </tr>\n",
       "    <tr>\n",
       "      <th>6581</th>\n",
       "      <td>0.0337</td>\n",
       "      <td>['Eminem']</td>\n",
       "      <td>0.950</td>\n",
       "      <td>284800</td>\n",
       "      <td>0.651</td>\n",
       "      <td>1</td>\n",
       "      <td>7Bi0aRtNAdchLnVBPjDrcx</td>\n",
       "      <td>0.000000</td>\n",
       "      <td>5</td>\n",
       "      <td>0.0424</td>\n",
       "      <td>-4.226</td>\n",
       "      <td>0</td>\n",
       "      <td>The Real Slim Shady</td>\n",
       "      <td>48</td>\n",
       "      <td>2005-12-06</td>\n",
       "      <td>0.0547</td>\n",
       "      <td>104.495</td>\n",
       "      <td>0.777</td>\n",
       "      <td>2005</td>\n",
       "    </tr>\n",
       "    <tr>\n",
       "      <th>6648</th>\n",
       "      <td>0.0537</td>\n",
       "      <td>['Eminem']</td>\n",
       "      <td>0.619</td>\n",
       "      <td>281133</td>\n",
       "      <td>0.746</td>\n",
       "      <td>1</td>\n",
       "      <td>18TtVZgD09HpU7lUXR0kPI</td>\n",
       "      <td>0.000000</td>\n",
       "      <td>10</td>\n",
       "      <td>0.2950</td>\n",
       "      <td>-5.479</td>\n",
       "      <td>0</td>\n",
       "      <td>When I'm Gone</td>\n",
       "      <td>48</td>\n",
       "      <td>2005-12-06</td>\n",
       "      <td>0.3600</td>\n",
       "      <td>149.944</td>\n",
       "      <td>0.757</td>\n",
       "      <td>2005</td>\n",
       "    </tr>\n",
       "  </tbody>\n",
       "</table>\n",
       "</div>"
      ],
      "text/plain": [
       "      acousticness                              artists  danceability  \\\n",
       "6178        0.3990                  ['JAY-Z', 'Eminem']         0.561   \n",
       "6281        0.0920  ['Obie Trice', '50 Cent', 'Eminem']         0.713   \n",
       "6576        0.0507              ['Eminem', 'Nate Dogg']         0.963   \n",
       "6581        0.0337                           ['Eminem']         0.950   \n",
       "6648        0.0537                           ['Eminem']         0.619   \n",
       "\n",
       "      duration_ms  energy  explicit                      id  instrumentalness  \\\n",
       "6178       337760   0.774         1  1eAZcqDmiUE57YdeElYbMd          0.000002   \n",
       "6281       270747   0.517         1  0jRj0owDUMxxbmz2qkgtSC          0.000006   \n",
       "6576       274440   0.643         1  64649mwn5MP4gz1eIOAerx          0.000049   \n",
       "6581       284800   0.651         1  7Bi0aRtNAdchLnVBPjDrcx          0.000000   \n",
       "6648       281133   0.746         1  18TtVZgD09HpU7lUXR0kPI          0.000000   \n",
       "\n",
       "      key  liveness  loudness  mode                 name  popularity  \\\n",
       "6178    1    0.1890    -3.144     0             Renegade          41   \n",
       "6281    7    0.1340    -5.403     1              Love Me          42   \n",
       "6576    1    0.1570    -5.785     0           Shake That          48   \n",
       "6581    5    0.0424    -4.226     0  The Real Slim Shady          48   \n",
       "6648   10    0.2950    -5.479     0        When I'm Gone          48   \n",
       "\n",
       "     release_date  speechiness    tempo  valence  year  \n",
       "6178   2001-09-11       0.4470   77.621    0.820  2001  \n",
       "6281   2002-10-29       0.2370   80.986    0.267  2002  \n",
       "6576   2005-12-06       0.1170  107.005    0.534  2005  \n",
       "6581   2005-12-06       0.0547  104.495    0.777  2005  \n",
       "6648   2005-12-06       0.3600  149.944    0.757  2005  "
      ]
     },
     "execution_count": 416,
     "metadata": {},
     "output_type": "execute_result"
    }
   ],
   "source": [
    "df_eminem = df[df[\"artists\"].str.contains(\"Eminem\")]\n",
    "df_eminem.head()"
   ]
  },
  {
   "cell_type": "markdown",
   "metadata": {},
   "source": [
    "Il est possible de créer une série chronologique basée sur une Pandas dataframe. Une série chronologique est un ensemble de données dont les valeurs sont mesurées à différents moments. Avec Pandas, on peut facilement organiser, transformer, analyser et visualiser les données de séries chronologiques à n'importe quel niveau de granularité - en examinant les détails pendant des périodes d'intérêt spécifiques et en effectuant un zoom arrière pour explorer les variations à différentes échelles de temps, telles que des agrégations mensuelles ou annuelles, modèles récurrents et tendances à long terme.\n"
   ]
  },
  {
   "cell_type": "code",
   "execution_count": 428,
   "metadata": {},
   "outputs": [
    {
     "name": "stderr",
     "output_type": "stream",
     "text": [
      "<ipython-input-428-b04e85a87e38>:2: SettingWithCopyWarning: \n",
      "A value is trying to be set on a copy of a slice from a DataFrame.\n",
      "Try using .loc[row_indexer,col_indexer] = value instead\n",
      "\n",
      "See the caveats in the documentation: https://pandas.pydata.org/pandas-docs/stable/user_guide/indexing.html#returning-a-view-versus-a-copy\n",
      "  df_eminem[\"release_date\"] = pd.to_datetime(df_eminem[\"release_date\"])\n"
     ]
    },
    {
     "data": {
      "text/plain": [
       "acousticness               float64\n",
       "artists                     object\n",
       "danceability               float64\n",
       "duration_ms                  int64\n",
       "energy                     float64\n",
       "explicit                     int64\n",
       "id                          object\n",
       "instrumentalness           float64\n",
       "key                          int64\n",
       "liveness                   float64\n",
       "loudness                   float64\n",
       "mode                         int64\n",
       "name                        object\n",
       "popularity                   int64\n",
       "release_date        datetime64[ns]\n",
       "speechiness                float64\n",
       "tempo                      float64\n",
       "valence                    float64\n",
       "year                         int64\n",
       "dtype: object"
      ]
     },
     "execution_count": 428,
     "metadata": {},
     "output_type": "execute_result"
    }
   ],
   "source": [
    "# convertir la colonne release_date en une date\n",
    "df_eminem[\"release_date\"] = pd.to_datetime(df_eminem[\"release_date\"])\n",
    "df_eminem.dtypes"
   ]
  },
  {
   "cell_type": "code",
   "execution_count": 429,
   "metadata": {
    "scrolled": true
   },
   "outputs": [
    {
     "data": {
      "text/html": [
       "<div>\n",
       "<style scoped>\n",
       "    .dataframe tbody tr th:only-of-type {\n",
       "        vertical-align: middle;\n",
       "    }\n",
       "\n",
       "    .dataframe tbody tr th {\n",
       "        vertical-align: top;\n",
       "    }\n",
       "\n",
       "    .dataframe thead th {\n",
       "        text-align: right;\n",
       "    }\n",
       "</style>\n",
       "<table border=\"1\" class=\"dataframe\">\n",
       "  <thead>\n",
       "    <tr style=\"text-align: right;\">\n",
       "      <th></th>\n",
       "      <th>acousticness</th>\n",
       "      <th>danceability</th>\n",
       "      <th>duration_ms</th>\n",
       "      <th>energy</th>\n",
       "      <th>explicit</th>\n",
       "      <th>instrumentalness</th>\n",
       "      <th>key</th>\n",
       "      <th>liveness</th>\n",
       "      <th>loudness</th>\n",
       "      <th>mode</th>\n",
       "      <th>popularity</th>\n",
       "      <th>speechiness</th>\n",
       "      <th>tempo</th>\n",
       "      <th>valence</th>\n",
       "      <th>year</th>\n",
       "    </tr>\n",
       "    <tr>\n",
       "      <th>release_date</th>\n",
       "      <th></th>\n",
       "      <th></th>\n",
       "      <th></th>\n",
       "      <th></th>\n",
       "      <th></th>\n",
       "      <th></th>\n",
       "      <th></th>\n",
       "      <th></th>\n",
       "      <th></th>\n",
       "      <th></th>\n",
       "      <th></th>\n",
       "      <th></th>\n",
       "      <th></th>\n",
       "      <th></th>\n",
       "      <th></th>\n",
       "    </tr>\n",
       "  </thead>\n",
       "  <tbody>\n",
       "    <tr>\n",
       "      <th>2020-03-27</th>\n",
       "      <td>0.354000</td>\n",
       "      <td>0.585000</td>\n",
       "      <td>261773.000000</td>\n",
       "      <td>0.594000</td>\n",
       "      <td>1.0</td>\n",
       "      <td>0.000054</td>\n",
       "      <td>9.000000</td>\n",
       "      <td>0.092100</td>\n",
       "      <td>-5.342000</td>\n",
       "      <td>1.000000</td>\n",
       "      <td>72.000000</td>\n",
       "      <td>0.332000</td>\n",
       "      <td>184.013000</td>\n",
       "      <td>0.138000</td>\n",
       "      <td>2020.0</td>\n",
       "    </tr>\n",
       "    <tr>\n",
       "      <th>2020-01-17</th>\n",
       "      <td>0.055621</td>\n",
       "      <td>0.752118</td>\n",
       "      <td>222890.176471</td>\n",
       "      <td>0.729529</td>\n",
       "      <td>1.0</td>\n",
       "      <td>0.000408</td>\n",
       "      <td>4.647059</td>\n",
       "      <td>0.317624</td>\n",
       "      <td>-5.084588</td>\n",
       "      <td>0.470588</td>\n",
       "      <td>71.588235</td>\n",
       "      <td>0.215747</td>\n",
       "      <td>128.641353</td>\n",
       "      <td>0.415012</td>\n",
       "      <td>2020.0</td>\n",
       "    </tr>\n",
       "    <tr>\n",
       "      <th>2019-07-12</th>\n",
       "      <td>0.135000</td>\n",
       "      <td>0.852000</td>\n",
       "      <td>207760.000000</td>\n",
       "      <td>0.666000</td>\n",
       "      <td>1.0</td>\n",
       "      <td>0.000000</td>\n",
       "      <td>11.000000</td>\n",
       "      <td>0.798000</td>\n",
       "      <td>-6.923000</td>\n",
       "      <td>0.000000</td>\n",
       "      <td>73.000000</td>\n",
       "      <td>0.184000</td>\n",
       "      <td>91.046000</td>\n",
       "      <td>0.726000</td>\n",
       "      <td>2019.0</td>\n",
       "    </tr>\n",
       "    <tr>\n",
       "      <th>2019-05-10</th>\n",
       "      <td>0.137000</td>\n",
       "      <td>0.694000</td>\n",
       "      <td>245387.000000</td>\n",
       "      <td>0.759000</td>\n",
       "      <td>1.0</td>\n",
       "      <td>0.000000</td>\n",
       "      <td>10.000000</td>\n",
       "      <td>0.167000</td>\n",
       "      <td>-5.667000</td>\n",
       "      <td>0.000000</td>\n",
       "      <td>75.000000</td>\n",
       "      <td>0.398000</td>\n",
       "      <td>140.055000</td>\n",
       "      <td>0.770000</td>\n",
       "      <td>2019.0</td>\n",
       "    </tr>\n",
       "    <tr>\n",
       "      <th>2019-05-03</th>\n",
       "      <td>0.145000</td>\n",
       "      <td>0.722000</td>\n",
       "      <td>245413.000000</td>\n",
       "      <td>0.764000</td>\n",
       "      <td>1.0</td>\n",
       "      <td>0.000000</td>\n",
       "      <td>10.000000</td>\n",
       "      <td>0.171000</td>\n",
       "      <td>-5.656000</td>\n",
       "      <td>0.000000</td>\n",
       "      <td>71.000000</td>\n",
       "      <td>0.398000</td>\n",
       "      <td>139.831000</td>\n",
       "      <td>0.796000</td>\n",
       "      <td>2019.0</td>\n",
       "    </tr>\n",
       "    <tr>\n",
       "      <th>2018-09-19</th>\n",
       "      <td>0.098900</td>\n",
       "      <td>0.892000</td>\n",
       "      <td>253580.000000</td>\n",
       "      <td>0.651000</td>\n",
       "      <td>1.0</td>\n",
       "      <td>0.000000</td>\n",
       "      <td>0.000000</td>\n",
       "      <td>0.371000</td>\n",
       "      <td>-8.645000</td>\n",
       "      <td>0.000000</td>\n",
       "      <td>74.000000</td>\n",
       "      <td>0.378000</td>\n",
       "      <td>105.814000</td>\n",
       "      <td>0.599000</td>\n",
       "      <td>2018.0</td>\n",
       "    </tr>\n",
       "    <tr>\n",
       "      <th>2018-08-31</th>\n",
       "      <td>0.108645</td>\n",
       "      <td>0.796000</td>\n",
       "      <td>242802.818182</td>\n",
       "      <td>0.688636</td>\n",
       "      <td>1.0</td>\n",
       "      <td>0.000000</td>\n",
       "      <td>5.000000</td>\n",
       "      <td>0.273591</td>\n",
       "      <td>-5.850000</td>\n",
       "      <td>0.818182</td>\n",
       "      <td>69.090909</td>\n",
       "      <td>0.297455</td>\n",
       "      <td>129.114636</td>\n",
       "      <td>0.522455</td>\n",
       "      <td>2018.0</td>\n",
       "    </tr>\n",
       "    <tr>\n",
       "      <th>2017-12-15</th>\n",
       "      <td>0.151000</td>\n",
       "      <td>0.816000</td>\n",
       "      <td>268180.000000</td>\n",
       "      <td>0.620500</td>\n",
       "      <td>1.0</td>\n",
       "      <td>0.000000</td>\n",
       "      <td>4.500000</td>\n",
       "      <td>0.215150</td>\n",
       "      <td>-5.629500</td>\n",
       "      <td>0.000000</td>\n",
       "      <td>69.000000</td>\n",
       "      <td>0.314000</td>\n",
       "      <td>110.081000</td>\n",
       "      <td>0.384500</td>\n",
       "      <td>2017.0</td>\n",
       "    </tr>\n",
       "    <tr>\n",
       "      <th>2017-02-03</th>\n",
       "      <td>0.629000</td>\n",
       "      <td>0.482000</td>\n",
       "      <td>325840.000000</td>\n",
       "      <td>0.781000</td>\n",
       "      <td>1.0</td>\n",
       "      <td>0.000003</td>\n",
       "      <td>11.000000</td>\n",
       "      <td>0.413000</td>\n",
       "      <td>-5.334000</td>\n",
       "      <td>1.000000</td>\n",
       "      <td>60.000000</td>\n",
       "      <td>0.411000</td>\n",
       "      <td>57.967000</td>\n",
       "      <td>0.336000</td>\n",
       "      <td>2017.0</td>\n",
       "    </tr>\n",
       "    <tr>\n",
       "      <th>2015-10-11</th>\n",
       "      <td>0.067300</td>\n",
       "      <td>0.460000</td>\n",
       "      <td>263693.000000</td>\n",
       "      <td>0.628000</td>\n",
       "      <td>1.0</td>\n",
       "      <td>0.000000</td>\n",
       "      <td>0.000000</td>\n",
       "      <td>0.093400</td>\n",
       "      <td>-6.665000</td>\n",
       "      <td>0.000000</td>\n",
       "      <td>59.000000</td>\n",
       "      <td>0.225000</td>\n",
       "      <td>111.156000</td>\n",
       "      <td>0.354000</td>\n",
       "      <td>2015.0</td>\n",
       "    </tr>\n",
       "  </tbody>\n",
       "</table>\n",
       "</div>"
      ],
      "text/plain": [
       "              acousticness  danceability    duration_ms    energy  explicit  \\\n",
       "release_date                                                                  \n",
       "2020-03-27        0.354000      0.585000  261773.000000  0.594000       1.0   \n",
       "2020-01-17        0.055621      0.752118  222890.176471  0.729529       1.0   \n",
       "2019-07-12        0.135000      0.852000  207760.000000  0.666000       1.0   \n",
       "2019-05-10        0.137000      0.694000  245387.000000  0.759000       1.0   \n",
       "2019-05-03        0.145000      0.722000  245413.000000  0.764000       1.0   \n",
       "2018-09-19        0.098900      0.892000  253580.000000  0.651000       1.0   \n",
       "2018-08-31        0.108645      0.796000  242802.818182  0.688636       1.0   \n",
       "2017-12-15        0.151000      0.816000  268180.000000  0.620500       1.0   \n",
       "2017-02-03        0.629000      0.482000  325840.000000  0.781000       1.0   \n",
       "2015-10-11        0.067300      0.460000  263693.000000  0.628000       1.0   \n",
       "\n",
       "              instrumentalness        key  liveness  loudness      mode  \\\n",
       "release_date                                                              \n",
       "2020-03-27            0.000054   9.000000  0.092100 -5.342000  1.000000   \n",
       "2020-01-17            0.000408   4.647059  0.317624 -5.084588  0.470588   \n",
       "2019-07-12            0.000000  11.000000  0.798000 -6.923000  0.000000   \n",
       "2019-05-10            0.000000  10.000000  0.167000 -5.667000  0.000000   \n",
       "2019-05-03            0.000000  10.000000  0.171000 -5.656000  0.000000   \n",
       "2018-09-19            0.000000   0.000000  0.371000 -8.645000  0.000000   \n",
       "2018-08-31            0.000000   5.000000  0.273591 -5.850000  0.818182   \n",
       "2017-12-15            0.000000   4.500000  0.215150 -5.629500  0.000000   \n",
       "2017-02-03            0.000003  11.000000  0.413000 -5.334000  1.000000   \n",
       "2015-10-11            0.000000   0.000000  0.093400 -6.665000  0.000000   \n",
       "\n",
       "              popularity  speechiness       tempo   valence    year  \n",
       "release_date                                                         \n",
       "2020-03-27     72.000000     0.332000  184.013000  0.138000  2020.0  \n",
       "2020-01-17     71.588235     0.215747  128.641353  0.415012  2020.0  \n",
       "2019-07-12     73.000000     0.184000   91.046000  0.726000  2019.0  \n",
       "2019-05-10     75.000000     0.398000  140.055000  0.770000  2019.0  \n",
       "2019-05-03     71.000000     0.398000  139.831000  0.796000  2019.0  \n",
       "2018-09-19     74.000000     0.378000  105.814000  0.599000  2018.0  \n",
       "2018-08-31     69.090909     0.297455  129.114636  0.522455  2018.0  \n",
       "2017-12-15     69.000000     0.314000  110.081000  0.384500  2017.0  \n",
       "2017-02-03     60.000000     0.411000   57.967000  0.336000  2017.0  \n",
       "2015-10-11     59.000000     0.225000  111.156000  0.354000  2015.0  "
      ]
     },
     "execution_count": 429,
     "metadata": {},
     "output_type": "execute_result"
    }
   ],
   "source": [
    "# Créer une nouvelle dataframe calculant la moyenne des variables de l'artiste selon release_date et ordonner les par dates\n",
    "df_agg_eminem = df_eminem.groupby([\"release_date\"]).mean().sort_values(by='release_date', ascending=False)\n",
    "df_agg_eminem.head(10)"
   ]
  },
  {
   "cell_type": "code",
   "execution_count": 430,
   "metadata": {},
   "outputs": [],
   "source": [
    "# Créer votre graphe en précisant que le type de l'axe x est une date  \n",
    "p = figure(x_axis_type=\"datetime\", title=\"la moyenne de popularité d'Eminem selon release_date\", plot_height=800, plot_width=800)\n",
    "p.xgrid.grid_line_color=None\n",
    "p.ygrid.grid_line_alpha=0.5\n",
    "p.xaxis.axis_label = 'release_date'\n",
    "p.yaxis.axis_label = 'popularity'"
   ]
  },
  {
   "cell_type": "code",
   "execution_count": 431,
   "metadata": {},
   "outputs": [
    {
     "data": {
      "text/html": [
       "<div style=\"display: table;\"><div style=\"display: table-row;\"><div style=\"display: table-cell;\"><b title=\"bokeh.models.renderers.GlyphRenderer\">GlyphRenderer</b>(</div><div style=\"display: table-cell;\">id&nbsp;=&nbsp;'53200', <span id=\"53203\" style=\"cursor: pointer;\">&hellip;)</span></div></div><div class=\"53202\" style=\"display: none;\"><div style=\"display: table-cell;\"></div><div style=\"display: table-cell;\">data_source&nbsp;=&nbsp;ColumnDataSource(id='53197', ...),</div></div><div class=\"53202\" style=\"display: none;\"><div style=\"display: table-cell;\"></div><div style=\"display: table-cell;\">glyph&nbsp;=&nbsp;Line(id='53198', ...),</div></div><div class=\"53202\" style=\"display: none;\"><div style=\"display: table-cell;\"></div><div style=\"display: table-cell;\">hover_glyph&nbsp;=&nbsp;None,</div></div><div class=\"53202\" style=\"display: none;\"><div style=\"display: table-cell;\"></div><div style=\"display: table-cell;\">js_event_callbacks&nbsp;=&nbsp;{},</div></div><div class=\"53202\" style=\"display: none;\"><div style=\"display: table-cell;\"></div><div style=\"display: table-cell;\">js_property_callbacks&nbsp;=&nbsp;{},</div></div><div class=\"53202\" style=\"display: none;\"><div style=\"display: table-cell;\"></div><div style=\"display: table-cell;\">level&nbsp;=&nbsp;'glyph',</div></div><div class=\"53202\" style=\"display: none;\"><div style=\"display: table-cell;\"></div><div style=\"display: table-cell;\">muted&nbsp;=&nbsp;False,</div></div><div class=\"53202\" style=\"display: none;\"><div style=\"display: table-cell;\"></div><div style=\"display: table-cell;\">muted_glyph&nbsp;=&nbsp;None,</div></div><div class=\"53202\" style=\"display: none;\"><div style=\"display: table-cell;\"></div><div style=\"display: table-cell;\">name&nbsp;=&nbsp;None,</div></div><div class=\"53202\" style=\"display: none;\"><div style=\"display: table-cell;\"></div><div style=\"display: table-cell;\">nonselection_glyph&nbsp;=&nbsp;Line(id='53199', ...),</div></div><div class=\"53202\" style=\"display: none;\"><div style=\"display: table-cell;\"></div><div style=\"display: table-cell;\">selection_glyph&nbsp;=&nbsp;None,</div></div><div class=\"53202\" style=\"display: none;\"><div style=\"display: table-cell;\"></div><div style=\"display: table-cell;\">subscribed_events&nbsp;=&nbsp;[],</div></div><div class=\"53202\" style=\"display: none;\"><div style=\"display: table-cell;\"></div><div style=\"display: table-cell;\">tags&nbsp;=&nbsp;[],</div></div><div class=\"53202\" style=\"display: none;\"><div style=\"display: table-cell;\"></div><div style=\"display: table-cell;\">view&nbsp;=&nbsp;CDSView(id='53201', ...),</div></div><div class=\"53202\" style=\"display: none;\"><div style=\"display: table-cell;\"></div><div style=\"display: table-cell;\">visible&nbsp;=&nbsp;True,</div></div><div class=\"53202\" style=\"display: none;\"><div style=\"display: table-cell;\"></div><div style=\"display: table-cell;\">x_range_name&nbsp;=&nbsp;'default',</div></div><div class=\"53202\" style=\"display: none;\"><div style=\"display: table-cell;\"></div><div style=\"display: table-cell;\">y_range_name&nbsp;=&nbsp;'default')</div></div></div>\n",
       "<script>\n",
       "(function() {\n",
       "  var expanded = false;\n",
       "  var ellipsis = document.getElementById(\"53203\");\n",
       "  ellipsis.addEventListener(\"click\", function() {\n",
       "    var rows = document.getElementsByClassName(\"53202\");\n",
       "    for (var i = 0; i < rows.length; i++) {\n",
       "      var el = rows[i];\n",
       "      el.style.display = expanded ? \"none\" : \"table-row\";\n",
       "    }\n",
       "    ellipsis.innerHTML = expanded ? \"&hellip;)\" : \"&lsaquo;&lsaquo;&lsaquo;\";\n",
       "    expanded = !expanded;\n",
       "  });\n",
       "})();\n",
       "</script>\n"
      ],
      "text/plain": [
       "GlyphRenderer(id='53200', ...)"
      ]
     },
     "execution_count": 431,
     "metadata": {},
     "output_type": "execute_result"
    }
   ],
   "source": [
    "# Créer un graphe Line avec les données ordonnées de popularité par release_date\n",
    "p.line(df_agg_eminem.index, df_agg_eminem.popularity )"
   ]
  },
  {
   "cell_type": "code",
   "execution_count": 432,
   "metadata": {},
   "outputs": [
    {
     "data": {
      "text/html": [
       "<div style=\"display: table;\"><div style=\"display: table-row;\"><div style=\"display: table-cell;\"><b title=\"bokeh.models.renderers.GlyphRenderer\">GlyphRenderer</b>(</div><div style=\"display: table-cell;\">id&nbsp;=&nbsp;'53207', <span id=\"53210\" style=\"cursor: pointer;\">&hellip;)</span></div></div><div class=\"53209\" style=\"display: none;\"><div style=\"display: table-cell;\"></div><div style=\"display: table-cell;\">data_source&nbsp;=&nbsp;ColumnDataSource(id='53204', ...),</div></div><div class=\"53209\" style=\"display: none;\"><div style=\"display: table-cell;\"></div><div style=\"display: table-cell;\">glyph&nbsp;=&nbsp;Circle(id='53205', ...),</div></div><div class=\"53209\" style=\"display: none;\"><div style=\"display: table-cell;\"></div><div style=\"display: table-cell;\">hover_glyph&nbsp;=&nbsp;None,</div></div><div class=\"53209\" style=\"display: none;\"><div style=\"display: table-cell;\"></div><div style=\"display: table-cell;\">js_event_callbacks&nbsp;=&nbsp;{},</div></div><div class=\"53209\" style=\"display: none;\"><div style=\"display: table-cell;\"></div><div style=\"display: table-cell;\">js_property_callbacks&nbsp;=&nbsp;{},</div></div><div class=\"53209\" style=\"display: none;\"><div style=\"display: table-cell;\"></div><div style=\"display: table-cell;\">level&nbsp;=&nbsp;'glyph',</div></div><div class=\"53209\" style=\"display: none;\"><div style=\"display: table-cell;\"></div><div style=\"display: table-cell;\">muted&nbsp;=&nbsp;False,</div></div><div class=\"53209\" style=\"display: none;\"><div style=\"display: table-cell;\"></div><div style=\"display: table-cell;\">muted_glyph&nbsp;=&nbsp;None,</div></div><div class=\"53209\" style=\"display: none;\"><div style=\"display: table-cell;\"></div><div style=\"display: table-cell;\">name&nbsp;=&nbsp;None,</div></div><div class=\"53209\" style=\"display: none;\"><div style=\"display: table-cell;\"></div><div style=\"display: table-cell;\">nonselection_glyph&nbsp;=&nbsp;Circle(id='53206', ...),</div></div><div class=\"53209\" style=\"display: none;\"><div style=\"display: table-cell;\"></div><div style=\"display: table-cell;\">selection_glyph&nbsp;=&nbsp;None,</div></div><div class=\"53209\" style=\"display: none;\"><div style=\"display: table-cell;\"></div><div style=\"display: table-cell;\">subscribed_events&nbsp;=&nbsp;[],</div></div><div class=\"53209\" style=\"display: none;\"><div style=\"display: table-cell;\"></div><div style=\"display: table-cell;\">tags&nbsp;=&nbsp;[],</div></div><div class=\"53209\" style=\"display: none;\"><div style=\"display: table-cell;\"></div><div style=\"display: table-cell;\">view&nbsp;=&nbsp;CDSView(id='53208', ...),</div></div><div class=\"53209\" style=\"display: none;\"><div style=\"display: table-cell;\"></div><div style=\"display: table-cell;\">visible&nbsp;=&nbsp;True,</div></div><div class=\"53209\" style=\"display: none;\"><div style=\"display: table-cell;\"></div><div style=\"display: table-cell;\">x_range_name&nbsp;=&nbsp;'default',</div></div><div class=\"53209\" style=\"display: none;\"><div style=\"display: table-cell;\"></div><div style=\"display: table-cell;\">y_range_name&nbsp;=&nbsp;'default')</div></div></div>\n",
       "<script>\n",
       "(function() {\n",
       "  var expanded = false;\n",
       "  var ellipsis = document.getElementById(\"53210\");\n",
       "  ellipsis.addEventListener(\"click\", function() {\n",
       "    var rows = document.getElementsByClassName(\"53209\");\n",
       "    for (var i = 0; i < rows.length; i++) {\n",
       "      var el = rows[i];\n",
       "      el.style.display = expanded ? \"none\" : \"table-row\";\n",
       "    }\n",
       "    ellipsis.innerHTML = expanded ? \"&hellip;)\" : \"&lsaquo;&lsaquo;&lsaquo;\";\n",
       "    expanded = !expanded;\n",
       "  });\n",
       "})();\n",
       "</script>\n"
      ],
      "text/plain": [
       "GlyphRenderer(id='53207', ...)"
      ]
     },
     "execution_count": 432,
     "metadata": {},
     "output_type": "execute_result"
    }
   ],
   "source": [
    "# Ajouter un glyph circle permettant de mieux visualiser les datapoints sur le graphe Line\n",
    "p.circle(df_agg_eminem.index, df_agg_eminem.popularity, size=10, fill_color=\"orange\", fill_alpha=0.5)"
   ]
  },
  {
   "cell_type": "code",
   "execution_count": 433,
   "metadata": {},
   "outputs": [
    {
     "data": {
      "text/html": [
       "\n",
       "\n",
       "\n",
       "\n",
       "\n",
       "\n",
       "  <div class=\"bk-root\" id=\"86e9e21c-473f-4ad3-b091-29b5429bbeaa\" data-root-id=\"53164\"></div>\n"
      ]
     },
     "metadata": {},
     "output_type": "display_data"
    },
    {
     "data": {
      "application/javascript": [
       "(function(root) {\n",
       "  function embed_document(root) {\n",
       "    \n",
       "  var docs_json = {\"492e753a-09fb-49ac-87cb-225ff2119d47\":{\"roots\":{\"references\":[{\"attributes\":{\"below\":[{\"id\":\"53175\"}],\"center\":[{\"id\":\"53178\"},{\"id\":\"53182\"}],\"left\":[{\"id\":\"53179\"}],\"plot_height\":800,\"plot_width\":800,\"renderers\":[{\"id\":\"53200\"},{\"id\":\"53207\"}],\"title\":{\"id\":\"53165\"},\"toolbar\":{\"id\":\"53190\"},\"x_range\":{\"id\":\"53167\"},\"x_scale\":{\"id\":\"53171\"},\"y_range\":{\"id\":\"53169\"},\"y_scale\":{\"id\":\"53173\"}},\"id\":\"53164\",\"subtype\":\"Figure\",\"type\":\"Plot\"},{\"attributes\":{\"source\":{\"id\":\"53197\"}},\"id\":\"53201\",\"type\":\"CDSView\"},{\"attributes\":{},\"id\":\"53167\",\"type\":\"DataRange1d\"},{\"attributes\":{},\"id\":\"53169\",\"type\":\"DataRange1d\"},{\"attributes\":{},\"id\":\"53171\",\"type\":\"LinearScale\"},{\"attributes\":{\"data_source\":{\"id\":\"53204\"},\"glyph\":{\"id\":\"53205\"},\"hover_glyph\":null,\"muted_glyph\":null,\"nonselection_glyph\":{\"id\":\"53206\"},\"selection_glyph\":null,\"view\":{\"id\":\"53208\"}},\"id\":\"53207\",\"type\":\"GlyphRenderer\"},{\"attributes\":{\"axis_label\":\"release_date\",\"formatter\":{\"id\":\"54101\"},\"ticker\":{\"id\":\"53176\"}},\"id\":\"53175\",\"type\":\"DatetimeAxis\"},{\"attributes\":{\"line_color\":\"#1f77b4\",\"x\":{\"field\":\"x\"},\"y\":{\"field\":\"y\"}},\"id\":\"53198\",\"type\":\"Line\"},{\"attributes\":{},\"id\":\"53173\",\"type\":\"LinearScale\"},{\"attributes\":{\"data\":{\"x\":{\"__ndarray__\":\"AAAAnZQRd0IAAIDKDPt2QgAAwKs3vnZCAACAofCpdkIAAEDZr6d2QgAAwAXyXnZCAACAeNRYdkIAAECHdwV2QgAAAFQUoHVCAABAJkMFdUIAAADA1et0QgAAQI7D0XRCAACAY5TNdEIAAICQ8Z10QgAAQGWngHRCAACA8FgidEIAAICFNr9zQgAAAA1pSXNCAACATOjdckIAAED67dNyQgAAwKSPy3JCAABAFA7HckIAAMCxH8VyQgAAgK2FlHJCAACAAsmDckIAAIDncl5yQgAAQBcZFHJCAADA1PfocUIAAACt0zFxQgAAwFP2EXFCAACAKKz0cEIAAMA2NIhwQgAAQOHVf3BCAAAAU4JHcEIAAMBiWyZwQgAAACS5EnBCAACARKECcEIAAABX1zlvQgAAgM8NZm5CAACAMeFObkIAAIBRriVuQgAAgA+oE25CAACAT0LBbUIAAAAM62NtQgAAAATSG21CAAAAomfpa0IAAIAXk8hrQgAAgGS9b2tCAACA8YHEakIAAADQY6JqQgAAgKptt2lCAAAAxkesaEI=\",\"dtype\":\"float64\",\"order\":\"little\",\"shape\":[52]},\"y\":{\"__ndarray__\":\"AAAAAAAAUkCmpaWlpeVRQAAAAAAAQFJAAAAAAADAUkAAAAAAAMBRQAAAAAAAgFJARhdddNFFUUAAAAAAAEBRQAAAAAAAAE5AAAAAAACATUAAAAAAAABPQAAAAAAAgE1AAAAAAACAT0AAAAAAAABMQAAAAAAAgEpAHMdxHMexTUAAAAAAAMBQQAAAAAAAAEtAAAAAAADAUUAAAAAAAIBGQAAAAAAAAFFAAAAAAAAARkAAAAAAAIBNQPHw8PDwcE9AAAAAAACATkAAAAAAAABKQI2w3NMIy0pAAAAAAADgSkAAAAAAAIBGQAAAAAAAgEhAVVVVVVXVSUAAAAAAAIBNQOsGU+Sz7klAAAAAAACAT0AAAAAAAABJQAAAAAAAgElAAAAAAACASkAAAAAAAEBIQAAAAAAAQElAAAAAAACAS0AAAAAAAEBHQAAAAAAAgElAMzMzMzOTTkAAAAAAAABHQAAAAAAAgEhAx3Ecx3EcTUAAAAAAAABJQAAAAAAAgE5AuYKYXEHMSEAAAAAAAABJQAAAAAAAgEBAAAAAAAAATEA=\",\"dtype\":\"float64\",\"order\":\"little\",\"shape\":[52]}},\"selected\":{\"id\":\"54106\"},\"selection_policy\":{\"id\":\"54107\"}},\"id\":\"53204\",\"type\":\"ColumnDataSource\"},{\"attributes\":{\"mantissas\":[1,2,5],\"max_interval\":500.0,\"num_minor_ticks\":0},\"id\":\"54108\",\"type\":\"AdaptiveTicker\"},{\"attributes\":{\"base\":60,\"mantissas\":[1,2,5,10,15,20,30],\"max_interval\":1800000.0,\"min_interval\":1000.0,\"num_minor_ticks\":0},\"id\":\"54109\",\"type\":\"AdaptiveTicker\"},{\"attributes\":{\"num_minor_ticks\":5,\"tickers\":[{\"id\":\"54108\"},{\"id\":\"54109\"},{\"id\":\"54110\"},{\"id\":\"54111\"},{\"id\":\"54112\"},{\"id\":\"54113\"},{\"id\":\"54114\"},{\"id\":\"54115\"},{\"id\":\"54116\"},{\"id\":\"54117\"},{\"id\":\"54118\"},{\"id\":\"54119\"}]},\"id\":\"53176\",\"type\":\"DatetimeTicker\"},{\"attributes\":{\"days\":[1,2,3,4,5,6,7,8,9,10,11,12,13,14,15,16,17,18,19,20,21,22,23,24,25,26,27,28,29,30,31]},\"id\":\"54111\",\"type\":\"DaysTicker\"},{\"attributes\":{\"axis\":{\"id\":\"53175\"},\"grid_line_color\":null,\"ticker\":null},\"id\":\"53178\",\"type\":\"Grid\"},{\"attributes\":{\"base\":24,\"mantissas\":[1,2,4,6,8,12],\"max_interval\":43200000.0,\"min_interval\":3600000.0,\"num_minor_ticks\":0},\"id\":\"54110\",\"type\":\"AdaptiveTicker\"},{\"attributes\":{\"data_source\":{\"id\":\"53197\"},\"glyph\":{\"id\":\"53198\"},\"hover_glyph\":null,\"muted_glyph\":null,\"nonselection_glyph\":{\"id\":\"53199\"},\"selection_glyph\":null,\"view\":{\"id\":\"53201\"}},\"id\":\"53200\",\"type\":\"GlyphRenderer\"},{\"attributes\":{},\"id\":\"53188\",\"type\":\"HelpTool\"},{\"attributes\":{\"months\":[0,1,2,3,4,5,6,7,8,9,10,11]},\"id\":\"54115\",\"type\":\"MonthsTicker\"},{\"attributes\":{\"axis_label\":\"popularity\",\"formatter\":{\"id\":\"54099\"},\"ticker\":{\"id\":\"53180\"}},\"id\":\"53179\",\"type\":\"LinearAxis\"},{\"attributes\":{\"text\":\"la moyenne de popularit\\u00e9 d'Eminem selon release_date\"},\"id\":\"53165\",\"type\":\"Title\"},{\"attributes\":{\"months\":[0,2,4,6,8,10]},\"id\":\"54116\",\"type\":\"MonthsTicker\"},{\"attributes\":{\"axis\":{\"id\":\"53179\"},\"dimension\":1,\"grid_line_alpha\":0.5,\"ticker\":null},\"id\":\"53182\",\"type\":\"Grid\"},{\"attributes\":{\"days\":[1,4,7,10,13,16,19,22,25,28]},\"id\":\"54112\",\"type\":\"DaysTicker\"},{\"attributes\":{},\"id\":\"53180\",\"type\":\"BasicTicker\"},{\"attributes\":{},\"id\":\"54105\",\"type\":\"UnionRenderers\"},{\"attributes\":{\"days\":[1,15]},\"id\":\"54114\",\"type\":\"DaysTicker\"},{\"attributes\":{\"months\":[0,6]},\"id\":\"54118\",\"type\":\"MonthsTicker\"},{\"attributes\":{\"days\":[1,8,15,22]},\"id\":\"54113\",\"type\":\"DaysTicker\"},{\"attributes\":{},\"id\":\"54099\",\"type\":\"BasicTickFormatter\"},{\"attributes\":{},\"id\":\"53184\",\"type\":\"WheelZoomTool\"},{\"attributes\":{\"active_drag\":\"auto\",\"active_inspect\":\"auto\",\"active_multi\":null,\"active_scroll\":\"auto\",\"active_tap\":\"auto\",\"tools\":[{\"id\":\"53183\"},{\"id\":\"53184\"},{\"id\":\"53185\"},{\"id\":\"53186\"},{\"id\":\"53187\"},{\"id\":\"53188\"}]},\"id\":\"53190\",\"type\":\"Toolbar\"},{\"attributes\":{},\"id\":\"54119\",\"type\":\"YearsTicker\"},{\"attributes\":{},\"id\":\"53183\",\"type\":\"PanTool\"},{\"attributes\":{\"line_alpha\":0.1,\"line_color\":\"#1f77b4\",\"x\":{\"field\":\"x\"},\"y\":{\"field\":\"y\"}},\"id\":\"53199\",\"type\":\"Line\"},{\"attributes\":{\"overlay\":{\"id\":\"53189\"}},\"id\":\"53185\",\"type\":\"BoxZoomTool\"},{\"attributes\":{\"months\":[0,4,8]},\"id\":\"54117\",\"type\":\"MonthsTicker\"},{\"attributes\":{},\"id\":\"53186\",\"type\":\"SaveTool\"},{\"attributes\":{},\"id\":\"53187\",\"type\":\"ResetTool\"},{\"attributes\":{},\"id\":\"54106\",\"type\":\"Selection\"},{\"attributes\":{},\"id\":\"54101\",\"type\":\"DatetimeTickFormatter\"},{\"attributes\":{\"fill_alpha\":{\"value\":0.5},\"fill_color\":{\"value\":\"orange\"},\"line_color\":{\"value\":\"#1f77b4\"},\"size\":{\"units\":\"screen\",\"value\":10},\"x\":{\"field\":\"x\"},\"y\":{\"field\":\"y\"}},\"id\":\"53205\",\"type\":\"Circle\"},{\"attributes\":{\"fill_alpha\":{\"value\":0.1},\"fill_color\":{\"value\":\"orange\"},\"line_alpha\":{\"value\":0.1},\"line_color\":{\"value\":\"#1f77b4\"},\"size\":{\"units\":\"screen\",\"value\":10},\"x\":{\"field\":\"x\"},\"y\":{\"field\":\"y\"}},\"id\":\"53206\",\"type\":\"Circle\"},{\"attributes\":{\"source\":{\"id\":\"53204\"}},\"id\":\"53208\",\"type\":\"CDSView\"},{\"attributes\":{},\"id\":\"54104\",\"type\":\"Selection\"},{\"attributes\":{\"data\":{\"x\":{\"__ndarray__\":\"AAAAnZQRd0IAAIDKDPt2QgAAwKs3vnZCAACAofCpdkIAAEDZr6d2QgAAwAXyXnZCAACAeNRYdkIAAECHdwV2QgAAAFQUoHVCAABAJkMFdUIAAADA1et0QgAAQI7D0XRCAACAY5TNdEIAAICQ8Z10QgAAQGWngHRCAACA8FgidEIAAICFNr9zQgAAAA1pSXNCAACATOjdckIAAED67dNyQgAAwKSPy3JCAABAFA7HckIAAMCxH8VyQgAAgK2FlHJCAACAAsmDckIAAIDncl5yQgAAQBcZFHJCAADA1PfocUIAAACt0zFxQgAAwFP2EXFCAACAKKz0cEIAAMA2NIhwQgAAQOHVf3BCAAAAU4JHcEIAAMBiWyZwQgAAACS5EnBCAACARKECcEIAAABX1zlvQgAAgM8NZm5CAACAMeFObkIAAIBRriVuQgAAgA+oE25CAACAT0LBbUIAAAAM62NtQgAAAATSG21CAAAAomfpa0IAAIAXk8hrQgAAgGS9b2tCAACA8YHEakIAAADQY6JqQgAAgKptt2lCAAAAxkesaEI=\",\"dtype\":\"float64\",\"order\":\"little\",\"shape\":[52]},\"y\":{\"__ndarray__\":\"AAAAAAAAUkCmpaWlpeVRQAAAAAAAQFJAAAAAAADAUkAAAAAAAMBRQAAAAAAAgFJARhdddNFFUUAAAAAAAEBRQAAAAAAAAE5AAAAAAACATUAAAAAAAABPQAAAAAAAgE1AAAAAAACAT0AAAAAAAABMQAAAAAAAgEpAHMdxHMexTUAAAAAAAMBQQAAAAAAAAEtAAAAAAADAUUAAAAAAAIBGQAAAAAAAAFFAAAAAAAAARkAAAAAAAIBNQPHw8PDwcE9AAAAAAACATkAAAAAAAABKQI2w3NMIy0pAAAAAAADgSkAAAAAAAIBGQAAAAAAAgEhAVVVVVVXVSUAAAAAAAIBNQOsGU+Sz7klAAAAAAACAT0AAAAAAAABJQAAAAAAAgElAAAAAAACASkAAAAAAAEBIQAAAAAAAQElAAAAAAACAS0AAAAAAAEBHQAAAAAAAgElAMzMzMzOTTkAAAAAAAABHQAAAAAAAgEhAx3Ecx3EcTUAAAAAAAABJQAAAAAAAgE5AuYKYXEHMSEAAAAAAAABJQAAAAAAAgEBAAAAAAAAATEA=\",\"dtype\":\"float64\",\"order\":\"little\",\"shape\":[52]}},\"selected\":{\"id\":\"54104\"},\"selection_policy\":{\"id\":\"54105\"}},\"id\":\"53197\",\"type\":\"ColumnDataSource\"},{\"attributes\":{},\"id\":\"54107\",\"type\":\"UnionRenderers\"},{\"attributes\":{\"bottom_units\":\"screen\",\"fill_alpha\":0.5,\"fill_color\":\"lightgrey\",\"left_units\":\"screen\",\"level\":\"overlay\",\"line_alpha\":1.0,\"line_color\":\"black\",\"line_dash\":[4,4],\"line_width\":2,\"right_units\":\"screen\",\"top_units\":\"screen\"},\"id\":\"53189\",\"type\":\"BoxAnnotation\"}],\"root_ids\":[\"53164\"]},\"title\":\"Bokeh Application\",\"version\":\"2.2.3\"}};\n",
       "  var render_items = [{\"docid\":\"492e753a-09fb-49ac-87cb-225ff2119d47\",\"root_ids\":[\"53164\"],\"roots\":{\"53164\":\"86e9e21c-473f-4ad3-b091-29b5429bbeaa\"}}];\n",
       "  root.Bokeh.embed.embed_items_notebook(docs_json, render_items);\n",
       "\n",
       "  }\n",
       "  if (root.Bokeh !== undefined) {\n",
       "    embed_document(root);\n",
       "  } else {\n",
       "    var attempts = 0;\n",
       "    var timer = setInterval(function(root) {\n",
       "      if (root.Bokeh !== undefined) {\n",
       "        clearInterval(timer);\n",
       "        embed_document(root);\n",
       "      } else {\n",
       "        attempts++;\n",
       "        if (attempts > 100) {\n",
       "          clearInterval(timer);\n",
       "          console.log(\"Bokeh: ERROR: Unable to run BokehJS code because BokehJS library is missing\");\n",
       "        }\n",
       "      }\n",
       "    }, 10, root)\n",
       "  }\n",
       "})(window);"
      ],
      "application/vnd.bokehjs_exec.v0+json": ""
     },
     "metadata": {
      "application/vnd.bokehjs_exec.v0+json": {
       "id": "53164"
      }
     },
     "output_type": "display_data"
    }
   ],
   "source": [
    "# Afficher le graphe\n",
    "show(p)"
   ]
  },
  {
   "cell_type": "markdown",
   "metadata": {},
   "source": [
    "<br> Pour des graphes plus complexes, transmettre les données d'un Dataframe aux glyphs devient compliqué. Bokeh procure un objet \"ColumnDataSource\" pour lier la dataframe au glyph et mapper les noms des colonnes aux données, facilitant ainsi la référence des éléments de données lors de la construction de la visualisation. Une fois créée, une ColumnDataSource peut être transmise aux méthodes glyph via le paramètre \"source\".\n",
    "\n",
    "Revenons à notre graph Line. On voudrait afficher la popularité d'un autre artiste sur le même graphe. On utilisera la fonction add_glyph de Bokeh, ainsi qu'une ColumnDataSource.  \n"
   ]
  },
  {
   "cell_type": "code",
   "execution_count": 434,
   "metadata": {},
   "outputs": [],
   "source": [
    "from bokeh.models import ColumnDataSource"
   ]
  },
  {
   "cell_type": "code",
   "execution_count": 435,
   "metadata": {},
   "outputs": [
    {
     "name": "stderr",
     "output_type": "stream",
     "text": [
      "<ipython-input-435-41e823802e0d>:3: SettingWithCopyWarning: \n",
      "A value is trying to be set on a copy of a slice from a DataFrame.\n",
      "Try using .loc[row_indexer,col_indexer] = value instead\n",
      "\n",
      "See the caveats in the documentation: https://pandas.pydata.org/pandas-docs/stable/user_guide/indexing.html#returning-a-view-versus-a-copy\n",
      "  df_rihanna[\"release_date\"] = pd.to_datetime(df_rihanna[\"release_date\"])\n"
     ]
    }
   ],
   "source": [
    "# Créer une ColumnDataSource qui filtre votre dataset sur un artiste comparable à celui déjà choisi (release_date des pistes dans des périodes similaires)\n",
    "df_rihanna = df[df[\"artists\"].str.contains(\"Rihanna\")]\n",
    "df_rihanna[\"release_date\"] = pd.to_datetime(df_rihanna[\"release_date\"])\n",
    "df_agg_rihanna = df_rihanna.groupby([\"release_date\"]).mean().sort_values(by='release_date', ascending=False)\n",
    "cds = ColumnDataSource(df_agg_rihanna)"
   ]
  },
  {
   "cell_type": "code",
   "execution_count": 436,
   "metadata": {},
   "outputs": [],
   "source": [
    "from bokeh.models.glyphs import Line"
   ]
  },
  {
   "cell_type": "code",
   "execution_count": 437,
   "metadata": {},
   "outputs": [],
   "source": [
    "# Créer un graphe Line qui prend release_date dans x_axis et popularité dans y_axis. Choisir une couleur pour la ligne.\n",
    "line = Line(x='release_date',y='popularity', line_color='green')"
   ]
  },
  {
   "cell_type": "code",
   "execution_count": 438,
   "metadata": {},
   "outputs": [
    {
     "data": {
      "text/html": [
       "<div style=\"display: table;\"><div style=\"display: table-row;\"><div style=\"display: table-cell;\"><b title=\"bokeh.models.renderers.GlyphRenderer\">GlyphRenderer</b>(</div><div style=\"display: table-cell;\">id&nbsp;=&nbsp;'54232', <span id=\"55146\" style=\"cursor: pointer;\">&hellip;)</span></div></div><div class=\"55145\" style=\"display: none;\"><div style=\"display: table-cell;\"></div><div style=\"display: table-cell;\">data_source&nbsp;=&nbsp;ColumnDataSource(id='54230', ...),</div></div><div class=\"55145\" style=\"display: none;\"><div style=\"display: table-cell;\"></div><div style=\"display: table-cell;\">glyph&nbsp;=&nbsp;Line(id='54231', ...),</div></div><div class=\"55145\" style=\"display: none;\"><div style=\"display: table-cell;\"></div><div style=\"display: table-cell;\">hover_glyph&nbsp;=&nbsp;None,</div></div><div class=\"55145\" style=\"display: none;\"><div style=\"display: table-cell;\"></div><div style=\"display: table-cell;\">js_event_callbacks&nbsp;=&nbsp;{},</div></div><div class=\"55145\" style=\"display: none;\"><div style=\"display: table-cell;\"></div><div style=\"display: table-cell;\">js_property_callbacks&nbsp;=&nbsp;{},</div></div><div class=\"55145\" style=\"display: none;\"><div style=\"display: table-cell;\"></div><div style=\"display: table-cell;\">level&nbsp;=&nbsp;'glyph',</div></div><div class=\"55145\" style=\"display: none;\"><div style=\"display: table-cell;\"></div><div style=\"display: table-cell;\">muted&nbsp;=&nbsp;False,</div></div><div class=\"55145\" style=\"display: none;\"><div style=\"display: table-cell;\"></div><div style=\"display: table-cell;\">muted_glyph&nbsp;=&nbsp;None,</div></div><div class=\"55145\" style=\"display: none;\"><div style=\"display: table-cell;\"></div><div style=\"display: table-cell;\">name&nbsp;=&nbsp;None,</div></div><div class=\"55145\" style=\"display: none;\"><div style=\"display: table-cell;\"></div><div style=\"display: table-cell;\">nonselection_glyph&nbsp;=&nbsp;'auto',</div></div><div class=\"55145\" style=\"display: none;\"><div style=\"display: table-cell;\"></div><div style=\"display: table-cell;\">selection_glyph&nbsp;=&nbsp;'auto',</div></div><div class=\"55145\" style=\"display: none;\"><div style=\"display: table-cell;\"></div><div style=\"display: table-cell;\">subscribed_events&nbsp;=&nbsp;[],</div></div><div class=\"55145\" style=\"display: none;\"><div style=\"display: table-cell;\"></div><div style=\"display: table-cell;\">tags&nbsp;=&nbsp;[],</div></div><div class=\"55145\" style=\"display: none;\"><div style=\"display: table-cell;\"></div><div style=\"display: table-cell;\">view&nbsp;=&nbsp;CDSView(id='54233', ...),</div></div><div class=\"55145\" style=\"display: none;\"><div style=\"display: table-cell;\"></div><div style=\"display: table-cell;\">visible&nbsp;=&nbsp;True,</div></div><div class=\"55145\" style=\"display: none;\"><div style=\"display: table-cell;\"></div><div style=\"display: table-cell;\">x_range_name&nbsp;=&nbsp;'default',</div></div><div class=\"55145\" style=\"display: none;\"><div style=\"display: table-cell;\"></div><div style=\"display: table-cell;\">y_range_name&nbsp;=&nbsp;'default')</div></div></div>\n",
       "<script>\n",
       "(function() {\n",
       "  var expanded = false;\n",
       "  var ellipsis = document.getElementById(\"55146\");\n",
       "  ellipsis.addEventListener(\"click\", function() {\n",
       "    var rows = document.getElementsByClassName(\"55145\");\n",
       "    for (var i = 0; i < rows.length; i++) {\n",
       "      var el = rows[i];\n",
       "      el.style.display = expanded ? \"none\" : \"table-row\";\n",
       "    }\n",
       "    ellipsis.innerHTML = expanded ? \"&hellip;)\" : \"&lsaquo;&lsaquo;&lsaquo;\";\n",
       "    expanded = !expanded;\n",
       "  });\n",
       "})();\n",
       "</script>\n"
      ],
      "text/plain": [
       "GlyphRenderer(id='54232', ...)"
      ]
     },
     "execution_count": 438,
     "metadata": {},
     "output_type": "execute_result"
    }
   ],
   "source": [
    "# En utilisant add_glyph, ajouter une nouvelle ligne au plot précédent en spécifiant l'objet ColumnDataSource créé comme source et le Line glyph comme argument.\n",
    "p.add_glyph(cds, line)"
   ]
  },
  {
   "cell_type": "code",
   "execution_count": 441,
   "metadata": {},
   "outputs": [
    {
     "data": {
      "text/html": [
       "\n",
       "\n",
       "\n",
       "\n",
       "\n",
       "\n",
       "  <div class=\"bk-root\" id=\"eec27d84-364b-454b-915a-5c2c9c238afa\" data-root-id=\"53164\"></div>\n"
      ]
     },
     "metadata": {},
     "output_type": "display_data"
    },
    {
     "data": {
      "application/javascript": [
       "(function(root) {\n",
       "  function embed_document(root) {\n",
       "    \n",
       "  var docs_json = {\"920f9d4e-4a28-449c-aee5-64b61ea02dbc\":{\"roots\":{\"references\":[{\"attributes\":{\"below\":[{\"id\":\"53175\"}],\"center\":[{\"id\":\"53178\"},{\"id\":\"53182\"}],\"left\":[{\"id\":\"53179\"}],\"plot_height\":800,\"plot_width\":800,\"renderers\":[{\"id\":\"53200\"},{\"id\":\"53207\"},{\"id\":\"54232\"}],\"title\":{\"id\":\"53165\"},\"toolbar\":{\"id\":\"53190\"},\"x_range\":{\"id\":\"53167\"},\"x_scale\":{\"id\":\"53171\"},\"y_range\":{\"id\":\"53169\"},\"y_scale\":{\"id\":\"53173\"}},\"id\":\"53164\",\"subtype\":\"Figure\",\"type\":\"Plot\"},{\"attributes\":{\"source\":{\"id\":\"53197\"}},\"id\":\"53201\",\"type\":\"CDSView\"},{\"attributes\":{},\"id\":\"53167\",\"type\":\"DataRange1d\"},{\"attributes\":{},\"id\":\"53169\",\"type\":\"DataRange1d\"},{\"attributes\":{},\"id\":\"53171\",\"type\":\"LinearScale\"},{\"attributes\":{\"data_source\":{\"id\":\"53204\"},\"glyph\":{\"id\":\"53205\"},\"hover_glyph\":null,\"muted_glyph\":null,\"nonselection_glyph\":{\"id\":\"53206\"},\"selection_glyph\":null,\"view\":{\"id\":\"53208\"}},\"id\":\"53207\",\"type\":\"GlyphRenderer\"},{\"attributes\":{\"axis_label\":\"release_date\",\"formatter\":{\"id\":\"54101\"},\"ticker\":{\"id\":\"53176\"}},\"id\":\"53175\",\"type\":\"DatetimeAxis\"},{\"attributes\":{\"line_color\":\"#1f77b4\",\"x\":{\"field\":\"x\"},\"y\":{\"field\":\"y\"}},\"id\":\"53198\",\"type\":\"Line\"},{\"attributes\":{},\"id\":\"53173\",\"type\":\"LinearScale\"},{\"attributes\":{\"data\":{\"x\":{\"__ndarray__\":\"AAAAnZQRd0IAAIDKDPt2QgAAwKs3vnZCAACAofCpdkIAAEDZr6d2QgAAwAXyXnZCAACAeNRYdkIAAECHdwV2QgAAAFQUoHVCAABAJkMFdUIAAADA1et0QgAAQI7D0XRCAACAY5TNdEIAAICQ8Z10QgAAQGWngHRCAACA8FgidEIAAICFNr9zQgAAAA1pSXNCAACATOjdckIAAED67dNyQgAAwKSPy3JCAABAFA7HckIAAMCxH8VyQgAAgK2FlHJCAACAAsmDckIAAIDncl5yQgAAQBcZFHJCAADA1PfocUIAAACt0zFxQgAAwFP2EXFCAACAKKz0cEIAAMA2NIhwQgAAQOHVf3BCAAAAU4JHcEIAAMBiWyZwQgAAACS5EnBCAACARKECcEIAAABX1zlvQgAAgM8NZm5CAACAMeFObkIAAIBRriVuQgAAgA+oE25CAACAT0LBbUIAAAAM62NtQgAAAATSG21CAAAAomfpa0IAAIAXk8hrQgAAgGS9b2tCAACA8YHEakIAAADQY6JqQgAAgKptt2lCAAAAxkesaEI=\",\"dtype\":\"float64\",\"order\":\"little\",\"shape\":[52]},\"y\":{\"__ndarray__\":\"AAAAAAAAUkCmpaWlpeVRQAAAAAAAQFJAAAAAAADAUkAAAAAAAMBRQAAAAAAAgFJARhdddNFFUUAAAAAAAEBRQAAAAAAAAE5AAAAAAACATUAAAAAAAABPQAAAAAAAgE1AAAAAAACAT0AAAAAAAABMQAAAAAAAgEpAHMdxHMexTUAAAAAAAMBQQAAAAAAAAEtAAAAAAADAUUAAAAAAAIBGQAAAAAAAAFFAAAAAAAAARkAAAAAAAIBNQPHw8PDwcE9AAAAAAACATkAAAAAAAABKQI2w3NMIy0pAAAAAAADgSkAAAAAAAIBGQAAAAAAAgEhAVVVVVVXVSUAAAAAAAIBNQOsGU+Sz7klAAAAAAACAT0AAAAAAAABJQAAAAAAAgElAAAAAAACASkAAAAAAAEBIQAAAAAAAQElAAAAAAACAS0AAAAAAAEBHQAAAAAAAgElAMzMzMzOTTkAAAAAAAABHQAAAAAAAgEhAx3Ecx3EcTUAAAAAAAABJQAAAAAAAgE5AuYKYXEHMSEAAAAAAAABJQAAAAAAAgEBAAAAAAAAATEA=\",\"dtype\":\"float64\",\"order\":\"little\",\"shape\":[52]}},\"selected\":{\"id\":\"54106\"},\"selection_policy\":{\"id\":\"54107\"}},\"id\":\"53204\",\"type\":\"ColumnDataSource\"},{\"attributes\":{\"mantissas\":[1,2,5],\"max_interval\":500.0,\"num_minor_ticks\":0},\"id\":\"54108\",\"type\":\"AdaptiveTicker\"},{\"attributes\":{\"base\":60,\"mantissas\":[1,2,5,10,15,20,30],\"max_interval\":1800000.0,\"min_interval\":1000.0,\"num_minor_ticks\":0},\"id\":\"54109\",\"type\":\"AdaptiveTicker\"},{\"attributes\":{\"num_minor_ticks\":5,\"tickers\":[{\"id\":\"54108\"},{\"id\":\"54109\"},{\"id\":\"54110\"},{\"id\":\"54111\"},{\"id\":\"54112\"},{\"id\":\"54113\"},{\"id\":\"54114\"},{\"id\":\"54115\"},{\"id\":\"54116\"},{\"id\":\"54117\"},{\"id\":\"54118\"},{\"id\":\"54119\"}]},\"id\":\"53176\",\"type\":\"DatetimeTicker\"},{\"attributes\":{\"days\":[1,2,3,4,5,6,7,8,9,10,11,12,13,14,15,16,17,18,19,20,21,22,23,24,25,26,27,28,29,30,31]},\"id\":\"54111\",\"type\":\"DaysTicker\"},{\"attributes\":{\"axis\":{\"id\":\"53175\"},\"grid_line_color\":null,\"ticker\":null},\"id\":\"53178\",\"type\":\"Grid\"},{\"attributes\":{\"base\":24,\"mantissas\":[1,2,4,6,8,12],\"max_interval\":43200000.0,\"min_interval\":3600000.0,\"num_minor_ticks\":0},\"id\":\"54110\",\"type\":\"AdaptiveTicker\"},{\"attributes\":{\"data_source\":{\"id\":\"53197\"},\"glyph\":{\"id\":\"53198\"},\"hover_glyph\":null,\"muted_glyph\":null,\"nonselection_glyph\":{\"id\":\"53199\"},\"selection_glyph\":null,\"view\":{\"id\":\"53201\"}},\"id\":\"53200\",\"type\":\"GlyphRenderer\"},{\"attributes\":{},\"id\":\"53188\",\"type\":\"HelpTool\"},{\"attributes\":{\"months\":[0,1,2,3,4,5,6,7,8,9,10,11]},\"id\":\"54115\",\"type\":\"MonthsTicker\"},{\"attributes\":{\"axis_label\":\"popularity\",\"formatter\":{\"id\":\"54099\"},\"ticker\":{\"id\":\"53180\"}},\"id\":\"53179\",\"type\":\"LinearAxis\"},{\"attributes\":{\"text\":\"la moyenne de popularit\\u00e9 d'Eminem selon release_date\"},\"id\":\"53165\",\"type\":\"Title\"},{\"attributes\":{\"months\":[0,2,4,6,8,10]},\"id\":\"54116\",\"type\":\"MonthsTicker\"},{\"attributes\":{\"axis\":{\"id\":\"53179\"},\"dimension\":1,\"grid_line_alpha\":0.5,\"ticker\":null},\"id\":\"53182\",\"type\":\"Grid\"},{\"attributes\":{},\"id\":\"55131\",\"type\":\"Selection\"},{\"attributes\":{},\"id\":\"55132\",\"type\":\"UnionRenderers\"},{\"attributes\":{},\"id\":\"53180\",\"type\":\"BasicTicker\"},{\"attributes\":{},\"id\":\"54105\",\"type\":\"UnionRenderers\"},{\"attributes\":{\"days\":[1,4,7,10,13,16,19,22,25,28]},\"id\":\"54112\",\"type\":\"DaysTicker\"},{\"attributes\":{\"days\":[1,15]},\"id\":\"54114\",\"type\":\"DaysTicker\"},{\"attributes\":{\"months\":[0,6]},\"id\":\"54118\",\"type\":\"MonthsTicker\"},{\"attributes\":{\"days\":[1,8,15,22]},\"id\":\"54113\",\"type\":\"DaysTicker\"},{\"attributes\":{},\"id\":\"54099\",\"type\":\"BasicTickFormatter\"},{\"attributes\":{},\"id\":\"53184\",\"type\":\"WheelZoomTool\"},{\"attributes\":{\"active_drag\":\"auto\",\"active_inspect\":\"auto\",\"active_multi\":null,\"active_scroll\":\"auto\",\"active_tap\":\"auto\",\"tools\":[{\"id\":\"53183\"},{\"id\":\"53184\"},{\"id\":\"53185\"},{\"id\":\"53186\"},{\"id\":\"53187\"},{\"id\":\"53188\"}]},\"id\":\"53190\",\"type\":\"Toolbar\"},{\"attributes\":{\"line_color\":\"green\",\"x\":{\"field\":\"release_date\"},\"y\":{\"field\":\"popularity\"}},\"id\":\"54231\",\"type\":\"Line\"},{\"attributes\":{},\"id\":\"53183\",\"type\":\"PanTool\"},{\"attributes\":{\"line_alpha\":0.1,\"line_color\":\"#1f77b4\",\"x\":{\"field\":\"x\"},\"y\":{\"field\":\"y\"}},\"id\":\"53199\",\"type\":\"Line\"},{\"attributes\":{},\"id\":\"54119\",\"type\":\"YearsTicker\"},{\"attributes\":{\"overlay\":{\"id\":\"53189\"}},\"id\":\"53185\",\"type\":\"BoxZoomTool\"},{\"attributes\":{\"months\":[0,4,8]},\"id\":\"54117\",\"type\":\"MonthsTicker\"},{\"attributes\":{},\"id\":\"53186\",\"type\":\"SaveTool\"},{\"attributes\":{},\"id\":\"53187\",\"type\":\"ResetTool\"},{\"attributes\":{},\"id\":\"54106\",\"type\":\"Selection\"},{\"attributes\":{\"source\":{\"id\":\"54230\"}},\"id\":\"54233\",\"type\":\"CDSView\"},{\"attributes\":{},\"id\":\"54101\",\"type\":\"DatetimeTickFormatter\"},{\"attributes\":{\"fill_alpha\":{\"value\":0.5},\"fill_color\":{\"value\":\"orange\"},\"line_color\":{\"value\":\"#1f77b4\"},\"size\":{\"units\":\"screen\",\"value\":10},\"x\":{\"field\":\"x\"},\"y\":{\"field\":\"y\"}},\"id\":\"53205\",\"type\":\"Circle\"},{\"attributes\":{\"fill_alpha\":{\"value\":0.1},\"fill_color\":{\"value\":\"orange\"},\"line_alpha\":{\"value\":0.1},\"line_color\":{\"value\":\"#1f77b4\"},\"size\":{\"units\":\"screen\",\"value\":10},\"x\":{\"field\":\"x\"},\"y\":{\"field\":\"y\"}},\"id\":\"53206\",\"type\":\"Circle\"},{\"attributes\":{\"data\":{\"acousticness\":{\"__ndarray__\":\"LGUZ4lgXtz9oO6buyi5IP7kZbsDnh2E/QwsJGF3eTD+Cc0aU9gafP0+vlGWIY50/iUFg5dAimz+u2F92Tx6GP4C3QILix6g/gLdAguLHqD9FtvP91HjJPzY8vVKWIdQ/Ne84RUdyqT/ImLuWkA+qP/mgZ7Pqc70/AAAAAAAA7D8IrBxaZDu/P+F6FK5H4ao/2c73U+Ol0z89CtejcD3uP9NqSNxj6cc/R+F6FK5H3j8hvc5zMfPCPzLO34RCBFw/JRYLVq811D+3bfJuP/PCP0frqGqCqIs/EHo2qz5Xmz/SAN4CCYpvPymzQSYZOZs/eOkmMQis1D8HGuTMOpS/P2gAb4EExcE/DQIrhxbZzj9Kk1LQ7SW9P1nyiyW/WMI/lkOLbOf70T+TGARWDi2yP6Ydo+E5ALM/yp9vC5bqsj9yGw3gLZDLP3cv98lRgKA/\",\"dtype\":\"float64\",\"order\":\"little\",\"shape\":[42]},\"danceability\":{\"__ndarray__\":\"hetRuB6F2z93vp8aL93oPxxaZDvfT+0/w/UoXI/C6T+PwvUoXI/aPwRWDi2yneM/dJMYBFYO5T+F61G4HoXnP8ZLN4lBYOk/xks3iUFg6T8pXI/C9SjkP+58PzVeuuE/oBov3SQG2T/KoUW28/3oP0w3iUFg5eA/OrTIdr6f4j9pke18PzXmP8qhRbbz/eg/bef7qfHS6T+sHFpkO9/jP2wJ+aBns+Q/9ihcj8L14j+7SQwCK4fmP+58PzVeutk/80T9G6GM4j+IiIiIiIjmP3Roke18P+c/VOOlm8Qg5D8zMzMzMzPbP166SQwCK+c/tvP91Hjp4j8V1Cwfq9DjPy2yne+nxuU/LIcW2c735z9nRGlv8IXlP4ekKRVnH94/001iEFg55D8AAAAAAADYP65p3nGKjuY/EjY8vVKW5T+mm8QgsHLkP4XrUbgehec/\",\"dtype\":\"float64\",\"order\":\"little\",\"shape\":[42]},\"duration_ms\":{\"__ndarray__\":\"AAAAAJhdBkEAAAAA2JkLQQAAAADY0QpBAAAAANjuAUEAAAAA+LAOQQAAAADA+whBAAAAAADBC0EAAAAAANgEQQAAAAA0ExBBAAAAADQTEEEAAAAAgB4LQUmSJElOpAhBAAAAAISKE0EAAAAAUMUKQQAAAAA0Sw5BAAAAAHD6BkEAAAAAmEAJQQAAAABoig5BAAAAAFgnDUEAAAAAGGINQZqZmZl1jQpBAAAAAPhuDEFVVVVV2dwGQQAAAAA4jwpBq6qqqnoeDEFVVVVV2dwGQQAAAADM8gtBAAAAACzuEEEAAAAAgDMNQQAAAABgpQhBAAAAALRbEEE5juM4dtYPQQAAAABEVA5BAAAAADQTEEGamZmZaXYNQQAAAACA5gtBAAAAAABUEEEAAAAAlK4UQQAAAADgrAxBMzMzM6v7DkEAAAAA1PMLQQAAAABAvAxB\",\"dtype\":\"float64\",\"order\":\"little\",\"shape\":[42]},\"energy\":{\"__ndarray__\":\"ZmZmZmZm5j+gGi/dJAblP90kBoGVQ+c/uB6F61G45j8EVg4tsp3XP5duEoPAyuU/H4XrUbge4T8EVg4tsp3fP0w3iUFg5eQ/TDeJQWDl5D8YBFYOLbLtP39edzh9/N8/16NwPQrX5z+yne+nxkvnP6AaL90kBuc/nMQgsHJo0T/sUbgehevpP7Kd76fGS+s/EVg5tMh25j/Xo3A9CtfTP6W9wRcmU+M/UrgehetR4D+7SQwCK4foP2ZmZmZmZuY/a7x0kxgE4j/sCpB7zYXoPwIrhxbZzuk/exSuR+F64D8UrkfhehTmP57vp8ZLN+k/Rbbz/dR47T9swRZswRboP3WTGARWDuY/mpmZmZmZ7T+u+lxtxf7mP5huEoPAyuU/xSCwcmiR7T8v3SQGgZXrP8Dsnjws1OY/k6mCUUmd6D8nMQisHFrkP79Y8oslv+Q/\",\"dtype\":\"float64\",\"order\":\"little\",\"shape\":[42]},\"explicit\":{\"__ndarray__\":\"AAAAAAAA8D8AAAAAAADwPwAAAAAAAPA/AAAAAAAA8D8AAAAAAADwPwAAAAAAAPA/AAAAAAAA8D8AAAAAAADwPwAAAAAAAPA/AAAAAAAA8D8AAAAAAAAAALdt27Zt2+Y/AAAAAAAAAAAAAAAAAADwPwAAAAAAAAAAAAAAAAAAAAAAAAAAAAAAAAAAAAAAAPA/AAAAAAAA8D8AAAAAAAAAAGZmZmZmZuY/AAAAAAAAAAAAAAAAAADgPwAAAAAAAAAAAAAAAAAAAAAAAAAAAADgPwAAAAAAAAAAAAAAAAAA8D8AAAAAAAAAAAAAAAAAAOA/AAAAAAAA8D9VVVVVVVXVPwAAAAAAAAAAAAAAAAAA8D+amZmZmZnJP6uqqqqqquo/AAAAAAAA8D8AAAAAAADwPwAAAAAAAAAAAAAAAAAAAAAAAAAAAAAAAAAAAAAAAAAA\",\"dtype\":\"float64\",\"order\":\"little\",\"shape\":[42]},\"instrumentalness\":{\"__ndarray__\":\"AAAAAAAAAAD0VhtrmATMPhoXDoRkASM/w5SSL7Ku+z6fOMKasQXgPgAAAAAAAAAAAAAAAAAAAAAH04s1t52xPhjyYycXvgk/GPJjJxe+CT9YObTIdr6/P/OgjgdnSkA/AAAAAAAAAABEymhHHkbAPgAAAAAAAAAAAAAAAAAAAAAAAAAAAAAAAAAAAAAAAAAAAAAAAAAAAADCxHr+DwsQP56YLw6yVUc/wsR6/g8LAD9Z2RrtlOpuP+C04EVfQXo/rVtOUxVk9T7fqzIvY+ZuP1rY0w5/TYY/Edd7O9OV6T7SAN4CCYqPPwAAAAAAAAAAAAAAAAAAAAACW6anEBD0PqpB4mjYOQc/AAAAAAAAAAAW6AOXAUYLP9iITVEbwv4+AAAAAAAAAAAAAAAAAAAAAMXlMTAWeYo/u90/1IVxmj+S1zm81pTqPpPLf0i/fU0/\",\"dtype\":\"float64\",\"order\":\"little\",\"shape\":[42]},\"key\":{\"__ndarray__\":\"AAAAAAAAGEAAAAAAAADwPwAAAAAAAPA/AAAAAAAA8D8AAAAAAAAgQAAAAAAAACBAAAAAAAAAIkAAAAAAAAAgQAAAAAAAABxAAAAAAAAAHEAAAAAAAAAiQNu2bdu2bRdAAAAAAAAAAEAAAAAAAADwPwAAAAAAAARAAAAAAAAAAEAAAAAAAAAmQAAAAAAAAPA/AAAAAAAAGEAAAAAAAAAiQM3MzMzMzBRAAAAAAAAAJEBVVVVVVVUJQAAAAAAAACJAq6qqqqqqJEBVVVVVVVUJQAAAAAAAAOA/AAAAAAAAAAAAAAAAAAAAAAAAAAAAAAxAAAAAAAAA8D/kOI7jOI4XQAAAAAAAABVAAAAAAAAAJEDNzMzMzMwYQAAAAAAAABRAAAAAAAAA8D8AAAAAAAAmQDMzMzMzMxVAZmZmZmZmBkAAAAAAAAAWQKuqqqqqqhpA\",\"dtype\":\"float64\",\"order\":\"little\",\"shape\":[42]},\"liveness\":{\"__ndarray__\":\"2873U+Olyz8kufyH9Nu3P2mR7Xw/Nb4/tvP91Hjp1j9PjZduEoPYP1TjpZvEIMA/mpmZmZmZyT/azvdT46W7P5qZmZmZmbk/mpmZmZmZuT+MbOf7qfHCP3/Ebh3fncI/dJMYBFYO1T+mm8QgsHLQPw4tsp3vp74/pHA9CtejwD8/NV66SQzCP7gehetRuL4/0SLb+X5qvD/AyqFFtvO9P8gHPZtVn8M/ILByaJHtvD+4rNUxwYPJP6abxCCwcsg/Q9KUirMPvz+3rNUxwYPJP3WTGARWDsU/QYLix5i7tj+R7Xw/NV7SP+f7qfHSTcY/hxbZzvdT0z/c/iBDZYfBP7bz/dR46bY/pHA9Ctej4D+qZWt9kdC2P/0boYzeltE/okW28/3U0D82XrpJDALLP7kUV5V9V8A/otEdxM4Uwj9ns+pztRXQP0CC4seYu7Y/\",\"dtype\":\"float64\",\"order\":\"little\",\"shape\":[42]},\"loudness\":{\"__ndarray__\":\"ZmZmZmZmFcAj2/l+arwZwNNNYhBYORrAxSCwcmiRGsBKDAIrhxYkwIPAyqFFtgjAnO+nxkv3IcAhsHJokW0ewEBg5dAiWx/AQGDl0CJbH8Cyne+nxksGwJrcqiifIBrAyXa+nxovGcAGgZVDi+wTwK0cWmQ7nxPA2s73U+OlFsCmm8QgsHIMwHE9CtejcA3Axks3iUFgGsCHFtnO91MkwIqO5PIf0hrAXrpJDAIrHsDYo3A9CpcWwHbpJjEIrBfAq6qqqqoqHMCLsw+fYZcWwGZmZmZmphXAne+nxku3JMD8qfHSTeIYwDEIrBxa5BDAZDvfT42X/L+bC0lTKs4RwPLSTWIQOBDAiUFg5dAiFMAooImw4ekQwBVnHz7D7hLAoUW28/3U/L+BlUOLbOcKwMwQx7q4DRXAg+LHmLsWFcDRItv5fkoYwEOLbOf7KR3A\",\"dtype\":\"float64\",\"order\":\"little\",\"shape\":[42]},\"mode\":{\"__ndarray__\":\"AAAAAAAA8D8AAAAAAADwPwAAAAAAAPA/AAAAAAAA8D8AAAAAAADwPwAAAAAAAPA/AAAAAAAAAAAAAAAAAAAAAAAAAAAAAPA/AAAAAAAA8D8AAAAAAAAAAJIkSZIkSeI/AAAAAAAA8D8AAAAAAADwPwAAAAAAAOA/AAAAAAAA8D8AAAAAAAAAAAAAAAAAAAAAAAAAAAAAAAAAAAAAAAAAADMzMzMzM9M/AAAAAAAAAABVVVVVVVXlPwAAAAAAAAAAAAAAAAAAAABVVVVVVVXlPwAAAAAAAOA/AAAAAAAAAAAAAAAAAADwPwAAAAAAAOA/AAAAAAAA8D9VVVVVVVXlPwAAAAAAAOg/AAAAAAAA8D+amZmZmZnpPwAAAAAAAOA/AAAAAAAA8D8AAAAAAAAAAAAAAAAAAOA/MzMzMzMz4z8AAAAAAADQP1VVVVVVVeU/\",\"dtype\":\"float64\",\"order\":\"little\",\"shape\":[42]},\"popularity\":{\"__ndarray__\":\"AAAAAACAVUAAAAAAAABQQAAAAAAAQFBAAAAAAAAATUAAAAAAAABQQAAAAAAAgFBAAAAAAABAUkAAAAAAAABPQAAAAAAAAE1AAAAAAABAUkAAAAAAAMBTQLdt27Ztm1BAAAAAAAAATkAAAAAAAMBSQAAAAAAAwEtAAAAAAADAU0AAAAAAAABQQAAAAAAAgFBAAAAAAAAAT0AAAAAAAABIQM3MzMzMTEtAAAAAAABATkBVVVVVVdVKQAAAAAAAAE1Aq6qqqqqqT0AAAAAAAMBOQAAAAAAAoFFAAAAAAAAAUkAAAAAAAEBQQAAAAAAAwElAAAAAAAAASkBVVVVVVdVKQAAAAAAAAE9AAAAAAABAVEBmZmZmZuZNQAAAAAAAQE1AAAAAAACAUUAAAAAAAMBSQGZmZmZmZlBAzczMzMzMTEAAAAAAAEBPQKuqqqqqKk5A\",\"dtype\":\"float64\",\"order\":\"little\",\"shape\":[42]},\"release_date\":{\"__ndarray__\":\"AAAAnZQRd0IAAAB+ZiN2QgAAQId3BXZCAACA85ECdkIAAIB8Fdh1QgAAQJPRzHVCAACAJpy2dUIAAMDN2a91QgAAgJp2SnVCAABA0jVIdUIAAAAK9UV1QgAAAHlYKHVCAABAm1PLdEIAAAAONsV0QgAAwNw+xHRCAABAz5OxdEIAAEA23kt0QgAAgPBYInRCAADAE4r3c0IAAICFNr9zQgAAwCx0uHNCAAAAxyG4c0IAAEAldolzQgAAAHdVenNCAAAADWlJc0IAAMD1kTtzQgAAAJA/O3NCAADAXkg6c0IAAECgMzNzQgAAQPrt03JCAABAFA7HckIAAMCxH8VyQgAAAEzNxHJCAACArYWUckIAAIDncl5yQgAAADbuUHJCAABAMm85ckIAAIAf9MNxQgAAACxppHFCAACASa/9cEIAAACQEahwQgAAAIj4X3BC\",\"dtype\":\"float64\",\"order\":\"little\",\"shape\":[42]},\"speechiness\":{\"__ndarray__\":\"TDeJQWDl0D+8dJMYBFbOP3uDL0ymCrY/LbKd76fG0z+cM6K0N/iyPwn5oGez6rM/LSEf9GxWrT9xPQrXo3C9P5LtfD81Xro/ku18PzVeuj9txf6ye/KgP7BnDLS9GrE//mX35GGhtj96xyk6ksuvPzjWxW00gKc/uycPC7WmqT9d/kP67euwP+f7qfHSTbI/EqW9wRcmsz9CPujZrPqcP1z+Q/rt67A/zojS3uALoz/Q/a9NPeWrP11txf6ye6I/K4cW2c73oz+RXP5D+u2rPxwN4C2QoLA/9ihcj8L10D8N4C2QoPihP+C+DpwzosA/1XjpJjEI1D+6JOFV6QG2P/kP6bevA6c/dJMYBFYOzT8CK4cW2c6nP33Qs1n1ubo/j8L1KFyP0j9SuB6F61HQPyMf9GxWfa4/2xZlNsgksz8nMQisHFrCP0PSlIqzD78/\",\"dtype\":\"float64\",\"order\":\"little\",\"shape\":[42]},\"tempo\":{\"__ndarray__\":\"Di2yne/LY0A6tMh2vr9nQCyHFtnOv1dAxSCwcmjBZ0A6tMh2vu9XQDq0yHa+Z1hAsp3vp8arW0AMAiuHFuVgQGQ730+Nf11AZDvfT41/XUASg8DKof1eQLew7EVzvl1AhetRuB6NU0CPwvUoXL9ZQClcj8L10mFAT42XbhK7aUDl0CLb+T5hQEFg5dAig1tA30+Nl26CXED91HjpJvlbQANWDi2yoV9ASOF6FK57WUBlrY4JHgBcQJqZmZmZQVVAUf9GKKOnWEDotIFOGwBcQO58PzVe/l9ArkfhehR2XkCPwvUoXD9VQMUgsHJoX2FAv8qhRbazVUAklNHbsm5fQJLtfD81XmBAnO+nxku/VUCQMXctIRdgQOm0gU4b2GNAvHSTGAS2VUD0/dR46fpjQFJJnYAmalxArbZif9ktXkDgT42XbtxeQBXZzvdTM1dA\",\"dtype\":\"float64\",\"order\":\"little\",\"shape\":[42]},\"valence\":{\"__ndarray__\":\"MQisHFpk5z9cj8L1KFzPP+58PzVeusk/N4lBYOXQwj/l8h/Sb1+3PwIrhxbZzuM/N4lBYOXQ2j/o+6nx0k3CP/P91HjpJtk/8/3UeOkm2T/D9Shcj8LdPzGOzjplcts/tvP91Hjp3j9I4XoUrkfZP2ZmZmZmZuA/Di2yne+n1j+S7Xw/NV7qPyuHFtnO9+M/z/dT46Wb3D8AAAAAAADAP8oyxLEubtc/+n5qvHST0D9o2BUg95rfP39qvHSTGNQ/S8XZh8+w0z/ZzvdT46XfP05iEFg5tOA/iUFg5dAi0z9t5/up8dLNPycxCKwcWuI/MQisHFpk2z9MyntgeMPhPyLb+X5qvOI/T42XbhKD5D+vlGWIY13gP22g0wY6beA/001iEFg53D9kO99PjZfeP1qoNc07TuU/eHqlLEMc4z/FILByaJHjPwAAAAAAAOQ/\",\"dtype\":\"float64\",\"order\":\"little\",\"shape\":[42]},\"year\":{\"__ndarray__\":\"AAAAAACQn0AAAAAAAIifQAAAAAAAhJ9AAAAAAACEn0AAAAAAAISfQAAAAAAAhJ9AAAAAAACEn0AAAAAAAISfQAAAAAAAgJ9AAAAAAACAn0AAAAAAAICfQAAAAAAAgJ9AAAAAAAB8n0AAAAAAAHyfQAAAAAAAfJ9AAAAAAAB8n0AAAAAAAHifQAAAAAAAdJ9AAAAAAAB0n0AAAAAAAHSfQAAAAAAAcJ9AAAAAAABwn0AAAAAAAHCfQAAAAAAAcJ9AAAAAAABwn0AAAAAAAGyfQAAAAAAAbJ9AAAAAAABsn0AAAAAAAGyfQAAAAAAAbJ9AAAAAAABon0AAAAAAAGifQAAAAAAAaJ9AAAAAAABon0AAAAAAAGifQAAAAAAAZJ9AAAAAAABkn0AAAAAAAGCfQAAAAAAAYJ9AAAAAAABcn0AAAAAAAFifQAAAAAAAVJ9A\",\"dtype\":\"float64\",\"order\":\"little\",\"shape\":[42]}},\"selected\":{\"id\":\"55131\"},\"selection_policy\":{\"id\":\"55132\"}},\"id\":\"54230\",\"type\":\"ColumnDataSource\"},{\"attributes\":{\"source\":{\"id\":\"53204\"}},\"id\":\"53208\",\"type\":\"CDSView\"},{\"attributes\":{},\"id\":\"54104\",\"type\":\"Selection\"},{\"attributes\":{\"data\":{\"x\":{\"__ndarray__\":\"AAAAnZQRd0IAAIDKDPt2QgAAwKs3vnZCAACAofCpdkIAAEDZr6d2QgAAwAXyXnZCAACAeNRYdkIAAECHdwV2QgAAAFQUoHVCAABAJkMFdUIAAADA1et0QgAAQI7D0XRCAACAY5TNdEIAAICQ8Z10QgAAQGWngHRCAACA8FgidEIAAICFNr9zQgAAAA1pSXNCAACATOjdckIAAED67dNyQgAAwKSPy3JCAABAFA7HckIAAMCxH8VyQgAAgK2FlHJCAACAAsmDckIAAIDncl5yQgAAQBcZFHJCAADA1PfocUIAAACt0zFxQgAAwFP2EXFCAACAKKz0cEIAAMA2NIhwQgAAQOHVf3BCAAAAU4JHcEIAAMBiWyZwQgAAACS5EnBCAACARKECcEIAAABX1zlvQgAAgM8NZm5CAACAMeFObkIAAIBRriVuQgAAgA+oE25CAACAT0LBbUIAAAAM62NtQgAAAATSG21CAAAAomfpa0IAAIAXk8hrQgAAgGS9b2tCAACA8YHEakIAAADQY6JqQgAAgKptt2lCAAAAxkesaEI=\",\"dtype\":\"float64\",\"order\":\"little\",\"shape\":[52]},\"y\":{\"__ndarray__\":\"AAAAAAAAUkCmpaWlpeVRQAAAAAAAQFJAAAAAAADAUkAAAAAAAMBRQAAAAAAAgFJARhdddNFFUUAAAAAAAEBRQAAAAAAAAE5AAAAAAACATUAAAAAAAABPQAAAAAAAgE1AAAAAAACAT0AAAAAAAABMQAAAAAAAgEpAHMdxHMexTUAAAAAAAMBQQAAAAAAAAEtAAAAAAADAUUAAAAAAAIBGQAAAAAAAAFFAAAAAAAAARkAAAAAAAIBNQPHw8PDwcE9AAAAAAACATkAAAAAAAABKQI2w3NMIy0pAAAAAAADgSkAAAAAAAIBGQAAAAAAAgEhAVVVVVVXVSUAAAAAAAIBNQOsGU+Sz7klAAAAAAACAT0AAAAAAAABJQAAAAAAAgElAAAAAAACASkAAAAAAAEBIQAAAAAAAQElAAAAAAACAS0AAAAAAAEBHQAAAAAAAgElAMzMzMzOTTkAAAAAAAABHQAAAAAAAgEhAx3Ecx3EcTUAAAAAAAABJQAAAAAAAgE5AuYKYXEHMSEAAAAAAAABJQAAAAAAAgEBAAAAAAAAATEA=\",\"dtype\":\"float64\",\"order\":\"little\",\"shape\":[52]}},\"selected\":{\"id\":\"54104\"},\"selection_policy\":{\"id\":\"54105\"}},\"id\":\"53197\",\"type\":\"ColumnDataSource\"},{\"attributes\":{\"data_source\":{\"id\":\"54230\"},\"glyph\":{\"id\":\"54231\"},\"hover_glyph\":null,\"muted_glyph\":null,\"view\":{\"id\":\"54233\"}},\"id\":\"54232\",\"type\":\"GlyphRenderer\"},{\"attributes\":{},\"id\":\"54107\",\"type\":\"UnionRenderers\"},{\"attributes\":{\"bottom_units\":\"screen\",\"fill_alpha\":0.5,\"fill_color\":\"lightgrey\",\"left_units\":\"screen\",\"level\":\"overlay\",\"line_alpha\":1.0,\"line_color\":\"black\",\"line_dash\":[4,4],\"line_width\":2,\"right_units\":\"screen\",\"top_units\":\"screen\"},\"id\":\"53189\",\"type\":\"BoxAnnotation\"}],\"root_ids\":[\"53164\"]},\"title\":\"Bokeh Application\",\"version\":\"2.2.3\"}};\n",
       "  var render_items = [{\"docid\":\"920f9d4e-4a28-449c-aee5-64b61ea02dbc\",\"root_ids\":[\"53164\"],\"roots\":{\"53164\":\"eec27d84-364b-454b-915a-5c2c9c238afa\"}}];\n",
       "  root.Bokeh.embed.embed_items_notebook(docs_json, render_items);\n",
       "\n",
       "  }\n",
       "  if (root.Bokeh !== undefined) {\n",
       "    embed_document(root);\n",
       "  } else {\n",
       "    var attempts = 0;\n",
       "    var timer = setInterval(function(root) {\n",
       "      if (root.Bokeh !== undefined) {\n",
       "        clearInterval(timer);\n",
       "        embed_document(root);\n",
       "      } else {\n",
       "        attempts++;\n",
       "        if (attempts > 100) {\n",
       "          clearInterval(timer);\n",
       "          console.log(\"Bokeh: ERROR: Unable to run BokehJS code because BokehJS library is missing\");\n",
       "        }\n",
       "      }\n",
       "    }, 10, root)\n",
       "  }\n",
       "})(window);"
      ],
      "application/vnd.bokehjs_exec.v0+json": ""
     },
     "metadata": {
      "application/vnd.bokehjs_exec.v0+json": {
       "id": "53164"
      }
     },
     "output_type": "display_data"
    }
   ],
   "source": [
    "# Afficher le graphe\n",
    "show(p)\n"
   ]
  },
  {
   "cell_type": "markdown",
   "metadata": {},
   "source": [
    "<br> En explorant la propriété renderers de votre plot, vous pouvez voir les propriétés et les glyphs le composant. Ceci est utile pour garder trace des composants du graphe, ainsi qur pour lier les composants avec de nouveaux objets comme les items légende par exemple. \n"
   ]
  },
  {
   "cell_type": "code",
   "execution_count": 444,
   "metadata": {},
   "outputs": [
    {
     "ename": "AttributeError",
     "evalue": "'Figure' object has no attribute 'render'",
     "output_type": "error",
     "traceback": [
      "\u001b[0;31m---------------------------------------------------------------------------\u001b[0m",
      "\u001b[0;31mAttributeError\u001b[0m                            Traceback (most recent call last)",
      "\u001b[0;32m<ipython-input-444-e9b413643b1a>\u001b[0m in \u001b[0;36m<module>\u001b[0;34m\u001b[0m\n\u001b[1;32m      1\u001b[0m \u001b[0;31m# Afficher la liste des renderers de votre graphe, quelles sont les propriétés sauvegardées?\u001b[0m\u001b[0;34m\u001b[0m\u001b[0;34m\u001b[0m\u001b[0;34m\u001b[0m\u001b[0m\n\u001b[0;32m----> 2\u001b[0;31m \u001b[0mp\u001b[0m\u001b[0;34m.\u001b[0m\u001b[0mrender\u001b[0m\u001b[0;34m(\u001b[0m\u001b[0;34m)\u001b[0m\u001b[0;34m\u001b[0m\u001b[0;34m\u001b[0m\u001b[0m\n\u001b[0m",
      "\u001b[0;31mAttributeError\u001b[0m: 'Figure' object has no attribute 'render'"
     ]
    }
   ],
   "source": [
    "# Afficher la liste des renderers de votre graphe, quelles sont les propriétés sauvegardées?\n",
    "p.render()"
   ]
  },
  {
   "cell_type": "markdown",
   "metadata": {},
   "source": [
    "<br> Comme le graphe a deux ligne, on voudrait ajouter une légende pour les différencier. On créera alors Legend items, puis ajoutera la légende à notre graphe."
   ]
  },
  {
   "cell_type": "code",
   "execution_count": 442,
   "metadata": {},
   "outputs": [],
   "source": [
    "from bokeh.models import Legend, LegendItem"
   ]
  },
  {
   "cell_type": "code",
   "execution_count": 389,
   "metadata": {},
   "outputs": [],
   "source": [
    "# Créer deux legend items et leur donner des labels significatifs. Utiliser les renderers pour les pointer sur le bon glyph\n",
    "\n"
   ]
  },
  {
   "cell_type": "code",
   "execution_count": 390,
   "metadata": {},
   "outputs": [],
   "source": [
    "# Créer l'objet Legend qui inclue les deux legend items. Il est possible de spécifier l'emplacement de la légende\n",
    "\n"
   ]
  },
  {
   "cell_type": "code",
   "execution_count": 391,
   "metadata": {},
   "outputs": [],
   "source": [
    "# Ajouter Legend au graphe en utilisant la fonction add_layout\n",
    "\n"
   ]
  },
  {
   "cell_type": "code",
   "execution_count": 392,
   "metadata": {},
   "outputs": [],
   "source": [
    "# Afficher votre graphe à nouveau\n",
    "\n"
   ]
  },
  {
   "cell_type": "code",
   "execution_count": 393,
   "metadata": {},
   "outputs": [],
   "source": [
    "# Afficher la liste des renderers. Arrivez-vous à voir les nouveaux composants?\n",
    "\n"
   ]
  },
  {
   "cell_type": "markdown",
   "metadata": {},
   "source": [
    "<br></br> \n",
    "\n",
    "### Graphes supplémentaires (données catégoriques, whiskers, propriétés visuelles...):\n",
    "\n",
    "Pour visualiser les données catégoriques, on a tendance à utiliser des graphes à barres. En se basant sur votre fichier (TP1) contenant le nombre des pistes duos par artiste (collaborateur) et la moyenne des variables du même artiste, créer Un graphe à bar + Ligne. Voir https://docs.bokeh.org/en/latest/docs/user_guide/categorical.html. \n",
    "\n",
    "Vous pouvez également explorer le nombre de pistes selon les clés et leur popularité respective en utilisant les whiskers par exemple https://docs.bokeh.org/en/latest/docs/user_guide/annotations.html#whiskers.\n",
    "\n",
    "Penser à donner des titres, des labels... à vos graphes, axes etc. Pour plus de détails sur les propriétés visuelles, voir: https://docs.bokeh.org/en/latest/docs/user_guide/styling.html"
   ]
  },
  {
   "cell_type": "markdown",
   "metadata": {},
   "source": [
    "##### Exemple de gestion des données catégoriques dans un graphe Bokeh: "
   ]
  },
  {
   "cell_type": "code",
   "execution_count": 394,
   "metadata": {},
   "outputs": [],
   "source": [
    "# Lire le fichiers des duos sauvegardé du TP1 dans une dataframe \n",
    "\n"
   ]
  },
  {
   "cell_type": "code",
   "execution_count": 395,
   "metadata": {},
   "outputs": [],
   "source": [
    "# Créer une nouvelle dataframe qui calcule les moyennes des variables d'une paire d'artistes et les ordonnes par leur popularité ascendante \n",
    "# pour n'en prendre que les 10 premiers\n",
    "\n"
   ]
  },
  {
   "cell_type": "code",
   "execution_count": 396,
   "metadata": {},
   "outputs": [],
   "source": [
    "from bokeh.palettes import Magma10\n",
    "from bokeh.transform import factor_cmap"
   ]
  },
  {
   "cell_type": "code",
   "execution_count": 397,
   "metadata": {},
   "outputs": [],
   "source": [
    "# Créer une ColumnDataSource avec la nouvelle dataframe\n",
    "\n"
   ]
  },
  {
   "cell_type": "code",
   "execution_count": 398,
   "metadata": {},
   "outputs": [],
   "source": [
    "# Créer une liste contenant la liste des premiers artistes des duos\n",
    "\n"
   ]
  },
  {
   "cell_type": "code",
   "execution_count": 399,
   "metadata": {},
   "outputs": [],
   "source": [
    "# Créer une figure en indiquant que l'axe x aura une liste de valeur qui est la liste des artistes créée, penser à utiliser l'argument x_range\n",
    "\n"
   ]
  },
  {
   "cell_type": "code",
   "execution_count": 400,
   "metadata": {},
   "outputs": [],
   "source": [
    "# Créer un graphe à barres verticales avec les premiers artistes dans l'axe x et popularity comme valeur, \n",
    "# changer les couleurs des barres en fonction des valeurs catégoriques en utilisant l'argument fill_color et la fonction factor_map\n",
    "\n"
   ]
  },
  {
   "cell_type": "code",
   "execution_count": 401,
   "metadata": {},
   "outputs": [],
   "source": [
    "# Afficher votre graphe\n",
    "\n"
   ]
  },
  {
   "cell_type": "markdown",
   "metadata": {},
   "source": [
    "<br> Vous pouvez faire de même pour les données catégoriques clé (Key) pour voir la popularité des pistes selon ces clé."
   ]
  },
  {
   "cell_type": "code",
   "execution_count": null,
   "metadata": {},
   "outputs": [],
   "source": []
  },
  {
   "cell_type": "code",
   "execution_count": null,
   "metadata": {},
   "outputs": [],
   "source": []
  },
  {
   "cell_type": "code",
   "execution_count": null,
   "metadata": {},
   "outputs": [],
   "source": []
  },
  {
   "cell_type": "code",
   "execution_count": null,
   "metadata": {},
   "outputs": [],
   "source": []
  },
  {
   "cell_type": "code",
   "execution_count": null,
   "metadata": {},
   "outputs": [],
   "source": []
  },
  {
   "cell_type": "markdown",
   "metadata": {},
   "source": [
    "<br></br>\n",
    "## C. Création de multiples visualisations"
   ]
  },
  {
   "cell_type": "markdown",
   "metadata": {},
   "source": [
    "Lors de la création des data visualisations, nous avons tendance à afficher de multiple graphes sur le même ecran. Ceci peut être fait en organisant les graphes avec les layouts. L'utilisateion des layouts, tabs, et les grids peut nous permettre de lier entre multiple graphes en utilisant les mêmes axes. Ce qui rend a comparaison entre les différents graphes plus facile et précis."
   ]
  },
  {
   "cell_type": "markdown",
   "metadata": {},
   "source": [
    "#### 1. Création de multiple graphes selon la même ligne "
   ]
  },
  {
   "cell_type": "markdown",
   "metadata": {},
   "source": [
    "Afin d'organiser nos graphes selon la même ligne, on crée en premier lieu 3 graphes pour trois artistes de votre choix."
   ]
  },
  {
   "cell_type": "code",
   "execution_count": 402,
   "metadata": {},
   "outputs": [],
   "source": [
    "# Créer trois graphes Line affichant respectivement loudness de trois artistes \n"
   ]
  },
  {
   "cell_type": "code",
   "execution_count": 403,
   "metadata": {},
   "outputs": [],
   "source": [
    "from bokeh.layouts import row"
   ]
  },
  {
   "cell_type": "code",
   "execution_count": 404,
   "metadata": {},
   "outputs": [],
   "source": [
    "# Créer un objet row object avec les trois graphes\n",
    "\n"
   ]
  },
  {
   "cell_type": "code",
   "execution_count": 405,
   "metadata": {},
   "outputs": [],
   "source": [
    "# Visualiser les trois graphes selon le layout\n",
    "\n"
   ]
  },
  {
   "cell_type": "markdown",
   "metadata": {},
   "source": [
    "#### 2. Creation de multiple graphes selon des lignes et colonnes "
   ]
  },
  {
   "cell_type": "markdown",
   "metadata": {},
   "source": [
    "On pourrait prévoir de voir par exemple des graphes relatifs à un artiste sur une ligne, ceux d'un autre artiste sur une autre. Pour ce faire, on devra créer un nested Layout, qui est un layout permettant de simplfier l'organisation des graphes selon les lignes et les colonnes."
   ]
  },
  {
   "cell_type": "code",
   "execution_count": 406,
   "metadata": {},
   "outputs": [],
   "source": [
    "from bokeh.layouts import column"
   ]
  },
  {
   "cell_type": "code",
   "execution_count": 407,
   "metadata": {},
   "outputs": [],
   "source": [
    "# créer 3 graphes des mêmes artistes, dépictant cette fois la popularité\n",
    "\n"
   ]
  },
  {
   "cell_type": "code",
   "execution_count": 408,
   "metadata": {},
   "outputs": [],
   "source": [
    "# Créer un object nested_layout qui organisera vos graphes où chaque ligne sera consacré à un artiste, chaque colonne à visualiser une mesure\n",
    "\n"
   ]
  },
  {
   "cell_type": "code",
   "execution_count": 409,
   "metadata": {},
   "outputs": [],
   "source": [
    "# Afficher les graphes selon le nouveau layout\n",
    "\n"
   ]
  },
  {
   "cell_type": "markdown",
   "metadata": {},
   "source": [
    "Ceci revient à créer un grid layout avec 3 lignes et 2 colonnes. Bokeh procure une fonction \"gridplot\" qui permet la création de layouts robustes grâce à la  diversité des combinaisons possibles dans l'empilage des graphes au niveau du même ecran."
   ]
  },
  {
   "cell_type": "code",
   "execution_count": 410,
   "metadata": {},
   "outputs": [],
   "source": [
    "from bokeh.layouts import gridplot"
   ]
  },
  {
   "cell_type": "code",
   "execution_count": 411,
   "metadata": {},
   "outputs": [],
   "source": [
    "# Créer un objet grid_layout qui organise les graphes de la même manière que le nested layout\n"
   ]
  },
  {
   "cell_type": "code",
   "execution_count": 412,
   "metadata": {},
   "outputs": [],
   "source": [
    "# Afficher le grid_layout\n"
   ]
  },
  {
   "cell_type": "markdown",
   "metadata": {},
   "source": [
    "<br></br>\n",
    "#### 3. Creation des onglets"
   ]
  },
  {
   "cell_type": "markdown",
   "metadata": {},
   "source": [
    "Il est très utile de pouvoir créer des layouts multiples dans différents onglets. Bokeh procure les objets tabbed Layout, auxquels les graphes peuvent être ajoutés. On va créer deux onglets, l'un pour artiste 1, l'autre pour le deuxième artiste. "
   ]
  },
  {
   "cell_type": "code",
   "execution_count": 413,
   "metadata": {},
   "outputs": [
    {
     "ename": "ModuleNotFoundError",
     "evalue": "No module named 'bokeh.models.widgest'",
     "output_type": "error",
     "traceback": [
      "\u001b[0;31m---------------------------------------------------------------------------\u001b[0m",
      "\u001b[0;31mModuleNotFoundError\u001b[0m                       Traceback (most recent call last)",
      "\u001b[0;32m<ipython-input-413-e8edc4fd4357>\u001b[0m in \u001b[0;36m<module>\u001b[0;34m\u001b[0m\n\u001b[0;32m----> 1\u001b[0;31m \u001b[0;32mfrom\u001b[0m \u001b[0mbokeh\u001b[0m\u001b[0;34m.\u001b[0m\u001b[0mmodels\u001b[0m\u001b[0;34m.\u001b[0m\u001b[0mwidgest\u001b[0m \u001b[0;32mimport\u001b[0m \u001b[0mTabs\u001b[0m\u001b[0;34m,\u001b[0m \u001b[0mPanel\u001b[0m\u001b[0;34m\u001b[0m\u001b[0;34m\u001b[0m\u001b[0m\n\u001b[0m",
      "\u001b[0;31mModuleNotFoundError\u001b[0m: No module named 'bokeh.models.widgest'"
     ]
    }
   ],
   "source": [
    "from bokeh.models.widgest import Tabs, Panel"
   ]
  },
  {
   "cell_type": "markdown",
   "metadata": {},
   "source": [
    "Pour créer un tabbed layout, on aura besoin de créer en premier lieu deux panels en utilisant la fonction Panel. Chaque Panel se composera de ses propres graphes spécifiés à l'aide de l'argument \"child\" dans la fonction Panel. "
   ]
  },
  {
   "cell_type": "code",
   "execution_count": null,
   "metadata": {},
   "outputs": [],
   "source": [
    "# Créer deux objets Panel pour chacun des artistes. \n",
    "# Vous pouvez attribuer un titre aux Panels (qui seront affichés en haut de l'onglet).\n",
    "\n"
   ]
  },
  {
   "cell_type": "code",
   "execution_count": null,
   "metadata": {},
   "outputs": [],
   "source": [
    "# Donner les Panels aux objets Tabs\n",
    "\n",
    "\n"
   ]
  },
  {
   "cell_type": "code",
   "execution_count": null,
   "metadata": {},
   "outputs": [],
   "source": [
    "# Afficher les objets tabs\n",
    "\n"
   ]
  },
  {
   "cell_type": "markdown",
   "metadata": {},
   "source": [
    "<br></br>\n",
    "#### 4. Liaison entre deux graphes"
   ]
  },
  {
   "cell_type": "markdown",
   "metadata": {},
   "source": [
    "Comparer deux graphes sur le même ecran devient plus facile quand ces derniers sont liés. Dans cette partie, on créera multiple graphes sur le même axe x. Pour ce faire, on va créer deux scatter plots basé sur les données du premier artiste mais on leur donnera le même axe x. "
   ]
  },
  {
   "cell_type": "code",
   "execution_count": null,
   "metadata": {},
   "outputs": [],
   "source": [
    "#  Créer une ColumnDataSource avec les colonnes 'release_date', 'danceability', 'acousticness', 'energy', 'loudness'\n",
    "\n"
   ]
  },
  {
   "cell_type": "code",
   "execution_count": null,
   "metadata": {},
   "outputs": [],
   "source": [
    "# Créer deux scatterplots: Le premier pour voir la relation entre 'danceability' et 'acousticness', le deuxième 'energy' et 'loudness'\n",
    "\n"
   ]
  },
  {
   "cell_type": "code",
   "execution_count": null,
   "metadata": {},
   "outputs": [],
   "source": [
    "# x_range fait référence à l'axe x des deux graphes. S'assurer que les deux graphes ont le même axe x.\n",
    "\n"
   ]
  },
  {
   "cell_type": "code",
   "execution_count": null,
   "metadata": {},
   "outputs": [],
   "source": [
    "# Organiser les deux graphes dans un layout (vous pouvez utiliser la fonction row)\n",
    "\n"
   ]
  },
  {
   "cell_type": "code",
   "execution_count": null,
   "metadata": {},
   "outputs": [],
   "source": [
    "# Afficher le Layout\n",
    "\n"
   ]
  },
  {
   "cell_type": "markdown",
   "metadata": {},
   "source": [
    "Remarquez que les deux graphes ont le même axe x. Si vous zoomer sur le premier, le deuxième suivra."
   ]
  },
  {
   "cell_type": "markdown",
   "metadata": {},
   "source": [
    "<br></br>\n",
    "### D. Ajout de l'Interactivité aux visualisations"
   ]
  },
  {
   "cell_type": "markdown",
   "metadata": {},
   "source": [
    "Bokeh permet la création de visualisations interactives en procurant des attributs visuels comme Hover, Slider ou Selection etc.\n",
    "\n",
    "Les Hover par exemple sont très utiles pour ajouter une dimension supplémentaire au graphe. Ils permettent de visualiser un point de données quand l'utilisareur le survole avec la souris. Pour créer un graphe avec un Hover tool, on va créer un graphe qui combine les données de deux artistes, et utiliser le Hover tool pour différencier entre les deux."
   ]
  },
  {
   "cell_type": "code",
   "execution_count": null,
   "metadata": {},
   "outputs": [],
   "source": [
    "from bokeh.models import HoverTool"
   ]
  },
  {
   "cell_type": "code",
   "execution_count": null,
   "metadata": {},
   "outputs": [],
   "source": [
    "# Créer une ColumnDataSource basé sur un dataframe ou l'artiste est soit 1 ou 2\n",
    "\n"
   ]
  },
  {
   "cell_type": "code",
   "execution_count": null,
   "metadata": {},
   "outputs": [],
   "source": [
    "# Créer un hover tool en utilisant la fonction HoverTool où les tooltips pointent sur le tuples d'information à afficher qu'on l'utilisateur survole la donnée,\n",
    "# à savoir nom de l'artiste, nom de la piste popularité, loudness, name.\n",
    "# Ainsi, chaque tuple du tooltip devra contenir un label et une référence au champs contenant l'information\n",
    "\n"
   ]
  },
  {
   "cell_type": "code",
   "execution_count": null,
   "metadata": {},
   "outputs": [],
   "source": [
    "# Donner l'objet hover tool comme argument à votre figure \n",
    "\n"
   ]
  },
  {
   "cell_type": "code",
   "execution_count": null,
   "metadata": {},
   "outputs": [],
   "source": [
    "# Créer un scaterplot avec par exemple les variables acousticness et energy de la ColumnDataSource \n",
    "\n"
   ]
  },
  {
   "cell_type": "code",
   "execution_count": null,
   "metadata": {},
   "outputs": [],
   "source": [
    "# Afficher le graphe. Survoler avec la souris quelques datapoint pour s'assurer du bon affichage des informations.\n",
    "\n"
   ]
  },
  {
   "cell_type": "markdown",
   "metadata": {},
   "source": [
    "<br> L'outil de sélection permet de mettre en exergue un sous-ensemble de données sur le graphe. Pour ajouter un selection tool à votre graphe, il faut ajouter 'box_select' à la liste des outils de la figure. Il est possible de définir une selection_color, nonselection_fill_color, et un nonselection_fill_alpha en leur assignant des valeurs dans les arguments de la fonction de création du graphe."
   ]
  },
  {
   "cell_type": "code",
   "execution_count": null,
   "metadata": {},
   "outputs": [],
   "source": [
    "# Passer l'objet hover tool et un 'box_select' comme arguments de tools\n",
    "\n"
   ]
  },
  {
   "cell_type": "code",
   "execution_count": null,
   "metadata": {},
   "outputs": [],
   "source": [
    "# Recréer le scatter plot en spécifiant les arguments de selection\n",
    "\n"
   ]
  },
  {
   "cell_type": "code",
   "execution_count": null,
   "metadata": {},
   "outputs": [],
   "source": [
    "# Afficher le graphe\n",
    "\n"
   ]
  },
  {
   "cell_type": "markdown",
   "metadata": {},
   "source": [
    " "
   ]
  },
  {
   "cell_type": "markdown",
   "metadata": {},
   "source": [
    "Pour explorer d'autres outils dans le tool box : https://docs.bokeh.org/en/latest/docs/user_guide/tools.html?highlight=configuring%20plot%20tools"
   ]
  },
  {
   "cell_type": "markdown",
   "metadata": {},
   "source": [
    " "
   ]
  },
  {
   "cell_type": "markdown",
   "metadata": {},
   "source": [
    "### E. Bonus: Création d'une application de visualisation"
   ]
  },
  {
   "cell_type": "markdown",
   "metadata": {},
   "source": [
    "Bokeh offre la possibilité de créer des applications de visualisation de données qui peuvent être hebergées sur notre propre serveur à travers le Bokeh server. \n",
    "\n",
    "Le Bokeh server agit comme un pont connectant Python et le navigateur où seront hebergées les applications. En utilisant Bokeh Server, on peut déployer des applications avec une interactivité locale et les partager. \n",
    "\n",
    "Une application Bokeh est une entité qui crée et remplit des documents avec des mises à jour sur le backend avec toutes les configurations nécessaires pour transférer correctement les données entre le serveur et le client. Le backend Bokeh sérialise les documents en format JSON. Ces derniers sont envoyés et affichés par le client BokehJS (comme indiqué dans la figure ci-dessous).\n"
   ]
  },
  {
   "cell_type": "markdown",
   "metadata": {},
   "source": [
    "<img src=\"https://static.packt-cdn.com/products/9781789135404/graphics/b6dd15c9-b21d-4786-9185-fc68623e5d53.png\">"
   ]
  },
  {
   "cell_type": "markdown",
   "metadata": {},
   "source": [
    "Pour construire une application Bokeh, il faut suivre 3 étapes:\n",
    "\n",
    " <ol>\n",
    "  <li>Créer les graphes et widgets</li>\n",
    "  <li>Définir la fonction Callback: c'est la fonction qui indique à l'application comment réagir à l'interaction d'un utilisateur (lorsqu'un bouton est clické, un curseur est déplacé ..)</li>\n",
    "  <li>Créer un Layout: personnaliser les layouts pour organiser les graphes</li>\n",
    "</ol> "
   ]
  },
  {
   "cell_type": "markdown",
   "metadata": {},
   "source": [
    "<br> On va créer une application très simple qui va afficher un nuage de points de la popularité des pistes. Cependant, on donnera à l'utilisateur la possibilité de choisir entre afficher le graphe de la popularité par acousticness ou par loudness. Maintes étapes ont été déjà couvertes dans le TP.\n",
    "\n",
    "Pour ce faire, on va créer un fichier bokehApp.py qu'on pourra exécuter ultérieurement dans un terminal en utilisant la commande: __bokeh serve --show bokehApp.py__\n",
    "\n",
    "\n",
    "1. Ouvrir un fichier dans un éditeur de texte et le nommer bokehApp.py. Importer les librairies suivantes:\n",
    "<br>import pandas as pd\n",
    "<br>from bokeh.plotting import figure\n",
    "<br>from bokeh.models import ColumnDataSource, Select\n",
    "<br>from bokeh.io import curdoc\n",
    "<br>from bokeh.layouts import row\n",
    "\n",
    "2. Charger les données des pistes dans une dataframe\n",
    "\n",
    "3. Créer un second dataframe qui filtre les données pour un seul artiste de votre choix\n",
    "\n",
    "4. Créer un objet ColumnDataSource avec un dict contenant les attributs et colonnes ont on aura besoin\n",
    "\n",
    "5. Créer un scatter plot en utilisant les données de popularité et acousticness à partir de la ColumnDataSource \n",
    "\n",
    "6. On aura besoin de créer un \"Select\" widget (c'est un widget qui donnera la main à l'utilisateur de choisirla colonne à visualiser). Le widget prendra les options acousticness et loudness, avec acousticness comme valeur par défaut. Il faut également spécifier un titre qui s'affichera à l'utilisateur.\n",
    "\n",
    "7. Créer une fonction callback qui prendra la nouvelle colonne et changera la source de la donnée au niveau du graphe pour prendre les données de cette colonne.\n",
    "\n",
    "8. Spécifier ce qui devra arriver quand l'utilisateur opére un changement sur le Select widget (utiliser la fonction on_change)\n",
    "\n",
    "9. Créer un row layout pour vos widget et graphe.\n",
    "\n",
    "10. A chaque fois qu'on crée une application, Bokeh crée un \"curdoc\", qui est un document ou canevas vide pour cette application. Il faut ajouter les widgets et graphes (ou les layouts) à ce document en utilisant la méthode add_root.\n",
    "\n",
    "Sauvegarder le fichier bokehApp.py et exécuter la commande susmentionnée dans un terminal."
   ]
  },
  {
   "cell_type": "markdown",
   "metadata": {},
   "source": [
    "<br> Pour plus de détails sur Bokeh, explorer https://github.com/bokeh/bokeh-notebooks/tree/main/tutorial pour plus de détails."
   ]
  }
 ],
 "metadata": {
  "kernelspec": {
   "display_name": "Python 3",
   "language": "python",
   "name": "python3"
  },
  "language_info": {
   "codemirror_mode": {
    "name": "ipython",
    "version": 3
   },
   "file_extension": ".py",
   "mimetype": "text/x-python",
   "name": "python",
   "nbconvert_exporter": "python",
   "pygments_lexer": "ipython3",
   "version": "3.8.5"
  }
 },
 "nbformat": 4,
 "nbformat_minor": 4
}
