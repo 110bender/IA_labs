{
 "cells": [
  {
   "cell_type": "markdown",
   "metadata": {},
   "source": [
    "# Travaux Pratiques Intelligence Artificielle: Lab1.2\n",
    "\n",
    "Python 4 Data Science: Introduction à la data visualisation avec Bokeh 🤖 🙌.\n",
    "\n",
    "## Objectifs du TP:\n",
    "\n",
    "> **Comprendre les concepts de base de la data visualisation avec Bokeh**\n",
    "\n",
    "> **Se familiariser avec les commandes les plus utilisées pour la visualisation des données en utilisant la libraire Bokeh et Pandas**\n",
    "\n",
    "> **Visualiser graphiquement les données du TP précédent.** \n",
    "\n",
    "> **Créer une application de visualisation de données (en Bonus)** \n",
    "\n",
    "\n",
    "\n",
    "<br> A la fin du TP vous devez **rendre ce notebook dans \"Assignment\" de Teams**. Le TP doit être travaillé en préférence en binôme.\n",
    "\n",
    "_Besoin d'aide? Laisser moi un Commentaire sur Teams_\n",
    "\n",
    "![green-divider](https://user-images.githubusercontent.com/7065401/52071924-c003ad80-2562-11e9-8297-1c6595f8a7ff.png)"
   ]
  },
  {
   "cell_type": "markdown",
   "metadata": {},
   "source": [
    "## A. Concepts de base"
   ]
  },
  {
   "cell_type": "markdown",
   "metadata": {},
   "source": [
    "L'objectif de cette section est de se familiariser avec les principes de base de data visualisation avec Python, Bokeh précisément. Bokeh est une librairie de visualisation destinée aux navigateur web modernes. Elle permet la construction de graphes élégants, concis, variés, et interactifs.\n",
    "\n",
    "Bokeh est basé sur l'idée qu'un graphe est construit une couche à la fois. Pour créer un graphe, on a besoin de créer en premier lieu la figure, puis ajouter les différents éléments (glyphs). Les glyphs sont des composants représentant les figures géométriques comme les lignes, cercles, rectanges etc. qui composent un plot Bokeh.\n",
    "\n",
    "Il y a deux méthodes pour la présentation d'un plot Bokeh:\n",
    "- output_file: où l'output est un fichier html\n",
    "- output_notebook: où l'output se fait au niveau du Jupyter notebook en cours d'utilisation.\n"
   ]
  },
  {
   "cell_type": "markdown",
   "metadata": {},
   "source": [
    "<br> Commençons par un simple exemple où on visualisera un line plot avec les Glyphs."
   ]
  },
  {
   "cell_type": "code",
   "execution_count": 193,
   "metadata": {},
   "outputs": [],
   "source": [
    "from bokeh.plotting import figure\n",
    "from bokeh.io import output_notebook, show"
   ]
  },
  {
   "cell_type": "code",
   "execution_count": 194,
   "metadata": {},
   "outputs": [
    {
     "data": {
      "text/html": [
       "\n",
       "    <div class=\"bk-root\">\n",
       "        <a href=\"https://bokeh.org\" target=\"_blank\" class=\"bk-logo bk-logo-small bk-logo-notebook\"></a>\n",
       "        <span id=\"5786\">Loading BokehJS ...</span>\n",
       "    </div>"
      ]
     },
     "metadata": {},
     "output_type": "display_data"
    },
    {
     "data": {
      "application/javascript": [
       "\n",
       "(function(root) {\n",
       "  function now() {\n",
       "    return new Date();\n",
       "  }\n",
       "\n",
       "  var force = true;\n",
       "\n",
       "  if (typeof root._bokeh_onload_callbacks === \"undefined\" || force === true) {\n",
       "    root._bokeh_onload_callbacks = [];\n",
       "    root._bokeh_is_loading = undefined;\n",
       "  }\n",
       "\n",
       "  var JS_MIME_TYPE = 'application/javascript';\n",
       "  var HTML_MIME_TYPE = 'text/html';\n",
       "  var EXEC_MIME_TYPE = 'application/vnd.bokehjs_exec.v0+json';\n",
       "  var CLASS_NAME = 'output_bokeh rendered_html';\n",
       "\n",
       "  /**\n",
       "   * Render data to the DOM node\n",
       "   */\n",
       "  function render(props, node) {\n",
       "    var script = document.createElement(\"script\");\n",
       "    node.appendChild(script);\n",
       "  }\n",
       "\n",
       "  /**\n",
       "   * Handle when an output is cleared or removed\n",
       "   */\n",
       "  function handleClearOutput(event, handle) {\n",
       "    var cell = handle.cell;\n",
       "\n",
       "    var id = cell.output_area._bokeh_element_id;\n",
       "    var server_id = cell.output_area._bokeh_server_id;\n",
       "    // Clean up Bokeh references\n",
       "    if (id != null && id in Bokeh.index) {\n",
       "      Bokeh.index[id].model.document.clear();\n",
       "      delete Bokeh.index[id];\n",
       "    }\n",
       "\n",
       "    if (server_id !== undefined) {\n",
       "      // Clean up Bokeh references\n",
       "      var cmd = \"from bokeh.io.state import curstate; print(curstate().uuid_to_server['\" + server_id + \"'].get_sessions()[0].document.roots[0]._id)\";\n",
       "      cell.notebook.kernel.execute(cmd, {\n",
       "        iopub: {\n",
       "          output: function(msg) {\n",
       "            var id = msg.content.text.trim();\n",
       "            if (id in Bokeh.index) {\n",
       "              Bokeh.index[id].model.document.clear();\n",
       "              delete Bokeh.index[id];\n",
       "            }\n",
       "          }\n",
       "        }\n",
       "      });\n",
       "      // Destroy server and session\n",
       "      var cmd = \"import bokeh.io.notebook as ion; ion.destroy_server('\" + server_id + \"')\";\n",
       "      cell.notebook.kernel.execute(cmd);\n",
       "    }\n",
       "  }\n",
       "\n",
       "  /**\n",
       "   * Handle when a new output is added\n",
       "   */\n",
       "  function handleAddOutput(event, handle) {\n",
       "    var output_area = handle.output_area;\n",
       "    var output = handle.output;\n",
       "\n",
       "    // limit handleAddOutput to display_data with EXEC_MIME_TYPE content only\n",
       "    if ((output.output_type != \"display_data\") || (!output.data.hasOwnProperty(EXEC_MIME_TYPE))) {\n",
       "      return\n",
       "    }\n",
       "\n",
       "    var toinsert = output_area.element.find(\".\" + CLASS_NAME.split(' ')[0]);\n",
       "\n",
       "    if (output.metadata[EXEC_MIME_TYPE][\"id\"] !== undefined) {\n",
       "      toinsert[toinsert.length - 1].firstChild.textContent = output.data[JS_MIME_TYPE];\n",
       "      // store reference to embed id on output_area\n",
       "      output_area._bokeh_element_id = output.metadata[EXEC_MIME_TYPE][\"id\"];\n",
       "    }\n",
       "    if (output.metadata[EXEC_MIME_TYPE][\"server_id\"] !== undefined) {\n",
       "      var bk_div = document.createElement(\"div\");\n",
       "      bk_div.innerHTML = output.data[HTML_MIME_TYPE];\n",
       "      var script_attrs = bk_div.children[0].attributes;\n",
       "      for (var i = 0; i < script_attrs.length; i++) {\n",
       "        toinsert[toinsert.length - 1].firstChild.setAttribute(script_attrs[i].name, script_attrs[i].value);\n",
       "        toinsert[toinsert.length - 1].firstChild.textContent = bk_div.children[0].textContent\n",
       "      }\n",
       "      // store reference to server id on output_area\n",
       "      output_area._bokeh_server_id = output.metadata[EXEC_MIME_TYPE][\"server_id\"];\n",
       "    }\n",
       "  }\n",
       "\n",
       "  function register_renderer(events, OutputArea) {\n",
       "\n",
       "    function append_mime(data, metadata, element) {\n",
       "      // create a DOM node to render to\n",
       "      var toinsert = this.create_output_subarea(\n",
       "        metadata,\n",
       "        CLASS_NAME,\n",
       "        EXEC_MIME_TYPE\n",
       "      );\n",
       "      this.keyboard_manager.register_events(toinsert);\n",
       "      // Render to node\n",
       "      var props = {data: data, metadata: metadata[EXEC_MIME_TYPE]};\n",
       "      render(props, toinsert[toinsert.length - 1]);\n",
       "      element.append(toinsert);\n",
       "      return toinsert\n",
       "    }\n",
       "\n",
       "    /* Handle when an output is cleared or removed */\n",
       "    events.on('clear_output.CodeCell', handleClearOutput);\n",
       "    events.on('delete.Cell', handleClearOutput);\n",
       "\n",
       "    /* Handle when a new output is added */\n",
       "    events.on('output_added.OutputArea', handleAddOutput);\n",
       "\n",
       "    /**\n",
       "     * Register the mime type and append_mime function with output_area\n",
       "     */\n",
       "    OutputArea.prototype.register_mime_type(EXEC_MIME_TYPE, append_mime, {\n",
       "      /* Is output safe? */\n",
       "      safe: true,\n",
       "      /* Index of renderer in `output_area.display_order` */\n",
       "      index: 0\n",
       "    });\n",
       "  }\n",
       "\n",
       "  // register the mime type if in Jupyter Notebook environment and previously unregistered\n",
       "  if (root.Jupyter !== undefined) {\n",
       "    var events = require('base/js/events');\n",
       "    var OutputArea = require('notebook/js/outputarea').OutputArea;\n",
       "\n",
       "    if (OutputArea.prototype.mime_types().indexOf(EXEC_MIME_TYPE) == -1) {\n",
       "      register_renderer(events, OutputArea);\n",
       "    }\n",
       "  }\n",
       "\n",
       "  \n",
       "  if (typeof (root._bokeh_timeout) === \"undefined\" || force === true) {\n",
       "    root._bokeh_timeout = Date.now() + 5000;\n",
       "    root._bokeh_failed_load = false;\n",
       "  }\n",
       "\n",
       "  var NB_LOAD_WARNING = {'data': {'text/html':\n",
       "     \"<div style='background-color: #fdd'>\\n\"+\n",
       "     \"<p>\\n\"+\n",
       "     \"BokehJS does not appear to have successfully loaded. If loading BokehJS from CDN, this \\n\"+\n",
       "     \"may be due to a slow or bad network connection. Possible fixes:\\n\"+\n",
       "     \"</p>\\n\"+\n",
       "     \"<ul>\\n\"+\n",
       "     \"<li>re-rerun `output_notebook()` to attempt to load from CDN again, or</li>\\n\"+\n",
       "     \"<li>use INLINE resources instead, as so:</li>\\n\"+\n",
       "     \"</ul>\\n\"+\n",
       "     \"<code>\\n\"+\n",
       "     \"from bokeh.resources import INLINE\\n\"+\n",
       "     \"output_notebook(resources=INLINE)\\n\"+\n",
       "     \"</code>\\n\"+\n",
       "     \"</div>\"}};\n",
       "\n",
       "  function display_loaded() {\n",
       "    var el = document.getElementById(\"5786\");\n",
       "    if (el != null) {\n",
       "      el.textContent = \"BokehJS is loading...\";\n",
       "    }\n",
       "    if (root.Bokeh !== undefined) {\n",
       "      if (el != null) {\n",
       "        el.textContent = \"BokehJS \" + root.Bokeh.version + \" successfully loaded.\";\n",
       "      }\n",
       "    } else if (Date.now() < root._bokeh_timeout) {\n",
       "      setTimeout(display_loaded, 100)\n",
       "    }\n",
       "  }\n",
       "\n",
       "\n",
       "  function run_callbacks() {\n",
       "    try {\n",
       "      root._bokeh_onload_callbacks.forEach(function(callback) {\n",
       "        if (callback != null)\n",
       "          callback();\n",
       "      });\n",
       "    } finally {\n",
       "      delete root._bokeh_onload_callbacks\n",
       "    }\n",
       "    console.debug(\"Bokeh: all callbacks have finished\");\n",
       "  }\n",
       "\n",
       "  function load_libs(css_urls, js_urls, callback) {\n",
       "    if (css_urls == null) css_urls = [];\n",
       "    if (js_urls == null) js_urls = [];\n",
       "\n",
       "    root._bokeh_onload_callbacks.push(callback);\n",
       "    if (root._bokeh_is_loading > 0) {\n",
       "      console.debug(\"Bokeh: BokehJS is being loaded, scheduling callback at\", now());\n",
       "      return null;\n",
       "    }\n",
       "    if (js_urls == null || js_urls.length === 0) {\n",
       "      run_callbacks();\n",
       "      return null;\n",
       "    }\n",
       "    console.debug(\"Bokeh: BokehJS not loaded, scheduling load and callback at\", now());\n",
       "    root._bokeh_is_loading = css_urls.length + js_urls.length;\n",
       "\n",
       "    function on_load() {\n",
       "      root._bokeh_is_loading--;\n",
       "      if (root._bokeh_is_loading === 0) {\n",
       "        console.debug(\"Bokeh: all BokehJS libraries/stylesheets loaded\");\n",
       "        run_callbacks()\n",
       "      }\n",
       "    }\n",
       "\n",
       "    function on_error() {\n",
       "      console.error(\"failed to load \" + url);\n",
       "    }\n",
       "\n",
       "    for (var i = 0; i < css_urls.length; i++) {\n",
       "      var url = css_urls[i];\n",
       "      const element = document.createElement(\"link\");\n",
       "      element.onload = on_load;\n",
       "      element.onerror = on_error;\n",
       "      element.rel = \"stylesheet\";\n",
       "      element.type = \"text/css\";\n",
       "      element.href = url;\n",
       "      console.debug(\"Bokeh: injecting link tag for BokehJS stylesheet: \", url);\n",
       "      document.body.appendChild(element);\n",
       "    }\n",
       "\n",
       "    const hashes = {\"https://cdn.bokeh.org/bokeh/release/bokeh-2.2.3.min.js\": \"T2yuo9Oe71Cz/I4X9Ac5+gpEa5a8PpJCDlqKYO0CfAuEszu1JrXLl8YugMqYe3sM\", \"https://cdn.bokeh.org/bokeh/release/bokeh-widgets-2.2.3.min.js\": \"98GDGJ0kOMCUMUePhksaQ/GYgB3+NH9h996V88sh3aOiUNX3N+fLXAtry6xctSZ6\", \"https://cdn.bokeh.org/bokeh/release/bokeh-tables-2.2.3.min.js\": \"89bArO+nlbP3sgakeHjCo1JYxYR5wufVgA3IbUvDY+K7w4zyxJqssu7wVnfeKCq8\"};\n",
       "\n",
       "    for (var i = 0; i < js_urls.length; i++) {\n",
       "      var url = js_urls[i];\n",
       "      var element = document.createElement('script');\n",
       "      element.onload = on_load;\n",
       "      element.onerror = on_error;\n",
       "      element.async = false;\n",
       "      element.src = url;\n",
       "      if (url in hashes) {\n",
       "        element.crossOrigin = \"anonymous\";\n",
       "        element.integrity = \"sha384-\" + hashes[url];\n",
       "      }\n",
       "      console.debug(\"Bokeh: injecting script tag for BokehJS library: \", url);\n",
       "      document.head.appendChild(element);\n",
       "    }\n",
       "  };\n",
       "\n",
       "  function inject_raw_css(css) {\n",
       "    const element = document.createElement(\"style\");\n",
       "    element.appendChild(document.createTextNode(css));\n",
       "    document.body.appendChild(element);\n",
       "  }\n",
       "\n",
       "  \n",
       "  var js_urls = [\"https://cdn.bokeh.org/bokeh/release/bokeh-2.2.3.min.js\", \"https://cdn.bokeh.org/bokeh/release/bokeh-widgets-2.2.3.min.js\", \"https://cdn.bokeh.org/bokeh/release/bokeh-tables-2.2.3.min.js\"];\n",
       "  var css_urls = [];\n",
       "  \n",
       "\n",
       "  var inline_js = [\n",
       "    function(Bokeh) {\n",
       "      Bokeh.set_log_level(\"info\");\n",
       "    },\n",
       "    function(Bokeh) {\n",
       "    \n",
       "    \n",
       "    }\n",
       "  ];\n",
       "\n",
       "  function run_inline_js() {\n",
       "    \n",
       "    if (root.Bokeh !== undefined || force === true) {\n",
       "      \n",
       "    for (var i = 0; i < inline_js.length; i++) {\n",
       "      inline_js[i].call(root, root.Bokeh);\n",
       "    }\n",
       "    if (force === true) {\n",
       "        display_loaded();\n",
       "      }} else if (Date.now() < root._bokeh_timeout) {\n",
       "      setTimeout(run_inline_js, 100);\n",
       "    } else if (!root._bokeh_failed_load) {\n",
       "      console.log(\"Bokeh: BokehJS failed to load within specified timeout.\");\n",
       "      root._bokeh_failed_load = true;\n",
       "    } else if (force !== true) {\n",
       "      var cell = $(document.getElementById(\"5786\")).parents('.cell').data().cell;\n",
       "      cell.output_area.append_execute_result(NB_LOAD_WARNING)\n",
       "    }\n",
       "\n",
       "  }\n",
       "\n",
       "  if (root._bokeh_is_loading === 0) {\n",
       "    console.debug(\"Bokeh: BokehJS loaded, going straight to plotting\");\n",
       "    run_inline_js();\n",
       "  } else {\n",
       "    load_libs(css_urls, js_urls, function() {\n",
       "      console.debug(\"Bokeh: BokehJS plotting callback run at\", now());\n",
       "      run_inline_js();\n",
       "    });\n",
       "  }\n",
       "}(window));"
      ],
      "application/vnd.bokehjs_load.v0+json": "\n(function(root) {\n  function now() {\n    return new Date();\n  }\n\n  var force = true;\n\n  if (typeof root._bokeh_onload_callbacks === \"undefined\" || force === true) {\n    root._bokeh_onload_callbacks = [];\n    root._bokeh_is_loading = undefined;\n  }\n\n  \n\n  \n  if (typeof (root._bokeh_timeout) === \"undefined\" || force === true) {\n    root._bokeh_timeout = Date.now() + 5000;\n    root._bokeh_failed_load = false;\n  }\n\n  var NB_LOAD_WARNING = {'data': {'text/html':\n     \"<div style='background-color: #fdd'>\\n\"+\n     \"<p>\\n\"+\n     \"BokehJS does not appear to have successfully loaded. If loading BokehJS from CDN, this \\n\"+\n     \"may be due to a slow or bad network connection. Possible fixes:\\n\"+\n     \"</p>\\n\"+\n     \"<ul>\\n\"+\n     \"<li>re-rerun `output_notebook()` to attempt to load from CDN again, or</li>\\n\"+\n     \"<li>use INLINE resources instead, as so:</li>\\n\"+\n     \"</ul>\\n\"+\n     \"<code>\\n\"+\n     \"from bokeh.resources import INLINE\\n\"+\n     \"output_notebook(resources=INLINE)\\n\"+\n     \"</code>\\n\"+\n     \"</div>\"}};\n\n  function display_loaded() {\n    var el = document.getElementById(\"5786\");\n    if (el != null) {\n      el.textContent = \"BokehJS is loading...\";\n    }\n    if (root.Bokeh !== undefined) {\n      if (el != null) {\n        el.textContent = \"BokehJS \" + root.Bokeh.version + \" successfully loaded.\";\n      }\n    } else if (Date.now() < root._bokeh_timeout) {\n      setTimeout(display_loaded, 100)\n    }\n  }\n\n\n  function run_callbacks() {\n    try {\n      root._bokeh_onload_callbacks.forEach(function(callback) {\n        if (callback != null)\n          callback();\n      });\n    } finally {\n      delete root._bokeh_onload_callbacks\n    }\n    console.debug(\"Bokeh: all callbacks have finished\");\n  }\n\n  function load_libs(css_urls, js_urls, callback) {\n    if (css_urls == null) css_urls = [];\n    if (js_urls == null) js_urls = [];\n\n    root._bokeh_onload_callbacks.push(callback);\n    if (root._bokeh_is_loading > 0) {\n      console.debug(\"Bokeh: BokehJS is being loaded, scheduling callback at\", now());\n      return null;\n    }\n    if (js_urls == null || js_urls.length === 0) {\n      run_callbacks();\n      return null;\n    }\n    console.debug(\"Bokeh: BokehJS not loaded, scheduling load and callback at\", now());\n    root._bokeh_is_loading = css_urls.length + js_urls.length;\n\n    function on_load() {\n      root._bokeh_is_loading--;\n      if (root._bokeh_is_loading === 0) {\n        console.debug(\"Bokeh: all BokehJS libraries/stylesheets loaded\");\n        run_callbacks()\n      }\n    }\n\n    function on_error() {\n      console.error(\"failed to load \" + url);\n    }\n\n    for (var i = 0; i < css_urls.length; i++) {\n      var url = css_urls[i];\n      const element = document.createElement(\"link\");\n      element.onload = on_load;\n      element.onerror = on_error;\n      element.rel = \"stylesheet\";\n      element.type = \"text/css\";\n      element.href = url;\n      console.debug(\"Bokeh: injecting link tag for BokehJS stylesheet: \", url);\n      document.body.appendChild(element);\n    }\n\n    const hashes = {\"https://cdn.bokeh.org/bokeh/release/bokeh-2.2.3.min.js\": \"T2yuo9Oe71Cz/I4X9Ac5+gpEa5a8PpJCDlqKYO0CfAuEszu1JrXLl8YugMqYe3sM\", \"https://cdn.bokeh.org/bokeh/release/bokeh-widgets-2.2.3.min.js\": \"98GDGJ0kOMCUMUePhksaQ/GYgB3+NH9h996V88sh3aOiUNX3N+fLXAtry6xctSZ6\", \"https://cdn.bokeh.org/bokeh/release/bokeh-tables-2.2.3.min.js\": \"89bArO+nlbP3sgakeHjCo1JYxYR5wufVgA3IbUvDY+K7w4zyxJqssu7wVnfeKCq8\"};\n\n    for (var i = 0; i < js_urls.length; i++) {\n      var url = js_urls[i];\n      var element = document.createElement('script');\n      element.onload = on_load;\n      element.onerror = on_error;\n      element.async = false;\n      element.src = url;\n      if (url in hashes) {\n        element.crossOrigin = \"anonymous\";\n        element.integrity = \"sha384-\" + hashes[url];\n      }\n      console.debug(\"Bokeh: injecting script tag for BokehJS library: \", url);\n      document.head.appendChild(element);\n    }\n  };\n\n  function inject_raw_css(css) {\n    const element = document.createElement(\"style\");\n    element.appendChild(document.createTextNode(css));\n    document.body.appendChild(element);\n  }\n\n  \n  var js_urls = [\"https://cdn.bokeh.org/bokeh/release/bokeh-2.2.3.min.js\", \"https://cdn.bokeh.org/bokeh/release/bokeh-widgets-2.2.3.min.js\", \"https://cdn.bokeh.org/bokeh/release/bokeh-tables-2.2.3.min.js\"];\n  var css_urls = [];\n  \n\n  var inline_js = [\n    function(Bokeh) {\n      Bokeh.set_log_level(\"info\");\n    },\n    function(Bokeh) {\n    \n    \n    }\n  ];\n\n  function run_inline_js() {\n    \n    if (root.Bokeh !== undefined || force === true) {\n      \n    for (var i = 0; i < inline_js.length; i++) {\n      inline_js[i].call(root, root.Bokeh);\n    }\n    if (force === true) {\n        display_loaded();\n      }} else if (Date.now() < root._bokeh_timeout) {\n      setTimeout(run_inline_js, 100);\n    } else if (!root._bokeh_failed_load) {\n      console.log(\"Bokeh: BokehJS failed to load within specified timeout.\");\n      root._bokeh_failed_load = true;\n    } else if (force !== true) {\n      var cell = $(document.getElementById(\"5786\")).parents('.cell').data().cell;\n      cell.output_area.append_execute_result(NB_LOAD_WARNING)\n    }\n\n  }\n\n  if (root._bokeh_is_loading === 0) {\n    console.debug(\"Bokeh: BokehJS loaded, going straight to plotting\");\n    run_inline_js();\n  } else {\n    load_libs(css_urls, js_urls, function() {\n      console.debug(\"Bokeh: BokehJS plotting callback run at\", now());\n      run_inline_js();\n    });\n  }\n}(window));"
     },
     "metadata": {},
     "output_type": "display_data"
    }
   ],
   "source": [
    "output_notebook()"
   ]
  },
  {
   "cell_type": "code",
   "execution_count": 195,
   "metadata": {},
   "outputs": [],
   "source": [
    "# Let's create a data arrays used for plotting the line plot\n",
    "x = [5,6,7,8,9,10]\n",
    "y = [1,2,3,4,5,6]"
   ]
  },
  {
   "cell_type": "markdown",
   "metadata": {},
   "source": [
    "Faire appel à la fonction Figure donne à Bokeh l'instruction de construire un graphe. On peut alors y ajouter les couches de glyphs."
   ]
  },
  {
   "cell_type": "code",
   "execution_count": 196,
   "metadata": {},
   "outputs": [],
   "source": [
    "# Faire appel à figure() pour créer la figure du plot\n",
    "p = figure(plot_width=400, plot_height=400)"
   ]
  },
  {
   "cell_type": "code",
   "execution_count": 197,
   "metadata": {},
   "outputs": [
    {
     "data": {
      "text/html": [
       "<div style=\"display: table;\"><div style=\"display: table-row;\"><div style=\"display: table-cell;\"><b title=\"bokeh.models.renderers.GlyphRenderer\">GlyphRenderer</b>(</div><div style=\"display: table-cell;\">id&nbsp;=&nbsp;'5821', <span id=\"5824\" style=\"cursor: pointer;\">&hellip;)</span></div></div><div class=\"5823\" style=\"display: none;\"><div style=\"display: table-cell;\"></div><div style=\"display: table-cell;\">data_source&nbsp;=&nbsp;ColumnDataSource(id='5818', ...),</div></div><div class=\"5823\" style=\"display: none;\"><div style=\"display: table-cell;\"></div><div style=\"display: table-cell;\">glyph&nbsp;=&nbsp;Line(id='5819', ...),</div></div><div class=\"5823\" style=\"display: none;\"><div style=\"display: table-cell;\"></div><div style=\"display: table-cell;\">hover_glyph&nbsp;=&nbsp;None,</div></div><div class=\"5823\" style=\"display: none;\"><div style=\"display: table-cell;\"></div><div style=\"display: table-cell;\">js_event_callbacks&nbsp;=&nbsp;{},</div></div><div class=\"5823\" style=\"display: none;\"><div style=\"display: table-cell;\"></div><div style=\"display: table-cell;\">js_property_callbacks&nbsp;=&nbsp;{},</div></div><div class=\"5823\" style=\"display: none;\"><div style=\"display: table-cell;\"></div><div style=\"display: table-cell;\">level&nbsp;=&nbsp;'glyph',</div></div><div class=\"5823\" style=\"display: none;\"><div style=\"display: table-cell;\"></div><div style=\"display: table-cell;\">muted&nbsp;=&nbsp;False,</div></div><div class=\"5823\" style=\"display: none;\"><div style=\"display: table-cell;\"></div><div style=\"display: table-cell;\">muted_glyph&nbsp;=&nbsp;None,</div></div><div class=\"5823\" style=\"display: none;\"><div style=\"display: table-cell;\"></div><div style=\"display: table-cell;\">name&nbsp;=&nbsp;None,</div></div><div class=\"5823\" style=\"display: none;\"><div style=\"display: table-cell;\"></div><div style=\"display: table-cell;\">nonselection_glyph&nbsp;=&nbsp;Line(id='5820', ...),</div></div><div class=\"5823\" style=\"display: none;\"><div style=\"display: table-cell;\"></div><div style=\"display: table-cell;\">selection_glyph&nbsp;=&nbsp;None,</div></div><div class=\"5823\" style=\"display: none;\"><div style=\"display: table-cell;\"></div><div style=\"display: table-cell;\">subscribed_events&nbsp;=&nbsp;[],</div></div><div class=\"5823\" style=\"display: none;\"><div style=\"display: table-cell;\"></div><div style=\"display: table-cell;\">tags&nbsp;=&nbsp;[],</div></div><div class=\"5823\" style=\"display: none;\"><div style=\"display: table-cell;\"></div><div style=\"display: table-cell;\">view&nbsp;=&nbsp;CDSView(id='5822', ...),</div></div><div class=\"5823\" style=\"display: none;\"><div style=\"display: table-cell;\"></div><div style=\"display: table-cell;\">visible&nbsp;=&nbsp;True,</div></div><div class=\"5823\" style=\"display: none;\"><div style=\"display: table-cell;\"></div><div style=\"display: table-cell;\">x_range_name&nbsp;=&nbsp;'default',</div></div><div class=\"5823\" style=\"display: none;\"><div style=\"display: table-cell;\"></div><div style=\"display: table-cell;\">y_range_name&nbsp;=&nbsp;'default')</div></div></div>\n",
       "<script>\n",
       "(function() {\n",
       "  var expanded = false;\n",
       "  var ellipsis = document.getElementById(\"5824\");\n",
       "  ellipsis.addEventListener(\"click\", function() {\n",
       "    var rows = document.getElementsByClassName(\"5823\");\n",
       "    for (var i = 0; i < rows.length; i++) {\n",
       "      var el = rows[i];\n",
       "      el.style.display = expanded ? \"none\" : \"table-row\";\n",
       "    }\n",
       "    ellipsis.innerHTML = expanded ? \"&hellip;)\" : \"&lsaquo;&lsaquo;&lsaquo;\";\n",
       "    expanded = !expanded;\n",
       "  });\n",
       "})();\n",
       "</script>\n"
      ],
      "text/plain": [
       "GlyphRenderer(id='5821', ...)"
      ]
     },
     "execution_count": 197,
     "metadata": {},
     "output_type": "execute_result"
    }
   ],
   "source": [
    "# Créer un line plot en utilisant la fonction line()\n",
    "p.line(x, y, line_width=2, color=\"orange\", alpha=0.5)"
   ]
  },
  {
   "cell_type": "code",
   "execution_count": 198,
   "metadata": {},
   "outputs": [
    {
     "data": {
      "text/html": [
       "<div style=\"display: table;\"><div style=\"display: table-row;\"><div style=\"display: table-cell;\"><b title=\"bokeh.models.renderers.GlyphRenderer\">GlyphRenderer</b>(</div><div style=\"display: table-cell;\">id&nbsp;=&nbsp;'5828', <span id=\"5831\" style=\"cursor: pointer;\">&hellip;)</span></div></div><div class=\"5830\" style=\"display: none;\"><div style=\"display: table-cell;\"></div><div style=\"display: table-cell;\">data_source&nbsp;=&nbsp;ColumnDataSource(id='5825', ...),</div></div><div class=\"5830\" style=\"display: none;\"><div style=\"display: table-cell;\"></div><div style=\"display: table-cell;\">glyph&nbsp;=&nbsp;Cross(id='5826', ...),</div></div><div class=\"5830\" style=\"display: none;\"><div style=\"display: table-cell;\"></div><div style=\"display: table-cell;\">hover_glyph&nbsp;=&nbsp;None,</div></div><div class=\"5830\" style=\"display: none;\"><div style=\"display: table-cell;\"></div><div style=\"display: table-cell;\">js_event_callbacks&nbsp;=&nbsp;{},</div></div><div class=\"5830\" style=\"display: none;\"><div style=\"display: table-cell;\"></div><div style=\"display: table-cell;\">js_property_callbacks&nbsp;=&nbsp;{},</div></div><div class=\"5830\" style=\"display: none;\"><div style=\"display: table-cell;\"></div><div style=\"display: table-cell;\">level&nbsp;=&nbsp;'glyph',</div></div><div class=\"5830\" style=\"display: none;\"><div style=\"display: table-cell;\"></div><div style=\"display: table-cell;\">muted&nbsp;=&nbsp;False,</div></div><div class=\"5830\" style=\"display: none;\"><div style=\"display: table-cell;\"></div><div style=\"display: table-cell;\">muted_glyph&nbsp;=&nbsp;None,</div></div><div class=\"5830\" style=\"display: none;\"><div style=\"display: table-cell;\"></div><div style=\"display: table-cell;\">name&nbsp;=&nbsp;None,</div></div><div class=\"5830\" style=\"display: none;\"><div style=\"display: table-cell;\"></div><div style=\"display: table-cell;\">nonselection_glyph&nbsp;=&nbsp;Cross(id='5827', ...),</div></div><div class=\"5830\" style=\"display: none;\"><div style=\"display: table-cell;\"></div><div style=\"display: table-cell;\">selection_glyph&nbsp;=&nbsp;None,</div></div><div class=\"5830\" style=\"display: none;\"><div style=\"display: table-cell;\"></div><div style=\"display: table-cell;\">subscribed_events&nbsp;=&nbsp;[],</div></div><div class=\"5830\" style=\"display: none;\"><div style=\"display: table-cell;\"></div><div style=\"display: table-cell;\">tags&nbsp;=&nbsp;[],</div></div><div class=\"5830\" style=\"display: none;\"><div style=\"display: table-cell;\"></div><div style=\"display: table-cell;\">view&nbsp;=&nbsp;CDSView(id='5829', ...),</div></div><div class=\"5830\" style=\"display: none;\"><div style=\"display: table-cell;\"></div><div style=\"display: table-cell;\">visible&nbsp;=&nbsp;True,</div></div><div class=\"5830\" style=\"display: none;\"><div style=\"display: table-cell;\"></div><div style=\"display: table-cell;\">x_range_name&nbsp;=&nbsp;'default',</div></div><div class=\"5830\" style=\"display: none;\"><div style=\"display: table-cell;\"></div><div style=\"display: table-cell;\">y_range_name&nbsp;=&nbsp;'default')</div></div></div>\n",
       "<script>\n",
       "(function() {\n",
       "  var expanded = false;\n",
       "  var ellipsis = document.getElementById(\"5831\");\n",
       "  ellipsis.addEventListener(\"click\", function() {\n",
       "    var rows = document.getElementsByClassName(\"5830\");\n",
       "    for (var i = 0; i < rows.length; i++) {\n",
       "      var el = rows[i];\n",
       "      el.style.display = expanded ? \"none\" : \"table-row\";\n",
       "    }\n",
       "    ellipsis.innerHTML = expanded ? \"&hellip;)\" : \"&lsaquo;&lsaquo;&lsaquo;\";\n",
       "    expanded = !expanded;\n",
       "  });\n",
       "})();\n",
       "</script>\n"
      ],
      "text/plain": [
       "GlyphRenderer(id='5828', ...)"
      ]
     },
     "execution_count": 198,
     "metadata": {},
     "output_type": "execute_result"
    }
   ],
   "source": [
    "# Créer des markers sur le line plot au niveau de l'intersection entre x et y\n",
    "p.cross(x, y, size=10, fill_color=\"blue\", fill_alpha=0.5)"
   ]
  },
  {
   "cell_type": "code",
   "execution_count": 199,
   "metadata": {},
   "outputs": [
    {
     "data": {
      "text/html": [
       "\n",
       "\n",
       "\n",
       "\n",
       "\n",
       "\n",
       "  <div class=\"bk-root\" id=\"03148117-e9d8-4b7f-91ad-28fa5c5019d7\" data-root-id=\"5787\"></div>\n"
      ]
     },
     "metadata": {},
     "output_type": "display_data"
    },
    {
     "data": {
      "application/javascript": [
       "(function(root) {\n",
       "  function embed_document(root) {\n",
       "    \n",
       "  var docs_json = {\"f6a3b4c5-7b7c-45d6-b187-bda30671ec91\":{\"roots\":{\"references\":[{\"attributes\":{\"below\":[{\"id\":\"5796\"}],\"center\":[{\"id\":\"5799\"},{\"id\":\"5803\"}],\"left\":[{\"id\":\"5800\"}],\"plot_height\":400,\"plot_width\":400,\"renderers\":[{\"id\":\"5821\"},{\"id\":\"5828\"}],\"title\":{\"id\":\"5995\"},\"toolbar\":{\"id\":\"5811\"},\"x_range\":{\"id\":\"5788\"},\"x_scale\":{\"id\":\"5792\"},\"y_range\":{\"id\":\"5790\"},\"y_scale\":{\"id\":\"5794\"}},\"id\":\"5787\",\"subtype\":\"Figure\",\"type\":\"Plot\"},{\"attributes\":{\"fill_alpha\":{\"value\":0.5},\"fill_color\":{\"value\":\"blue\"},\"line_color\":{\"value\":\"#1f77b4\"},\"size\":{\"units\":\"screen\",\"value\":10},\"x\":{\"field\":\"x\"},\"y\":{\"field\":\"y\"}},\"id\":\"5826\",\"type\":\"Cross\"},{\"attributes\":{\"data_source\":{\"id\":\"5825\"},\"glyph\":{\"id\":\"5826\"},\"hover_glyph\":null,\"muted_glyph\":null,\"nonselection_glyph\":{\"id\":\"5827\"},\"selection_glyph\":null,\"view\":{\"id\":\"5829\"}},\"id\":\"5828\",\"type\":\"GlyphRenderer\"},{\"attributes\":{\"source\":{\"id\":\"5825\"}},\"id\":\"5829\",\"type\":\"CDSView\"},{\"attributes\":{\"axis\":{\"id\":\"5800\"},\"dimension\":1,\"ticker\":null},\"id\":\"5803\",\"type\":\"Grid\"},{\"attributes\":{},\"id\":\"5999\",\"type\":\"BasicTickFormatter\"},{\"attributes\":{},\"id\":\"5797\",\"type\":\"BasicTicker\"},{\"attributes\":{},\"id\":\"6004\",\"type\":\"Selection\"},{\"attributes\":{},\"id\":\"5788\",\"type\":\"DataRange1d\"},{\"attributes\":{},\"id\":\"5997\",\"type\":\"BasicTickFormatter\"},{\"attributes\":{\"formatter\":{\"id\":\"5999\"},\"ticker\":{\"id\":\"5797\"}},\"id\":\"5796\",\"type\":\"LinearAxis\"},{\"attributes\":{},\"id\":\"6003\",\"type\":\"UnionRenderers\"},{\"attributes\":{},\"id\":\"5805\",\"type\":\"WheelZoomTool\"},{\"attributes\":{},\"id\":\"6002\",\"type\":\"Selection\"},{\"attributes\":{\"active_drag\":\"auto\",\"active_inspect\":\"auto\",\"active_multi\":null,\"active_scroll\":\"auto\",\"active_tap\":\"auto\",\"tools\":[{\"id\":\"5804\"},{\"id\":\"5805\"},{\"id\":\"5806\"},{\"id\":\"5807\"},{\"id\":\"5808\"},{\"id\":\"5809\"}]},\"id\":\"5811\",\"type\":\"Toolbar\"},{\"attributes\":{\"formatter\":{\"id\":\"5997\"},\"ticker\":{\"id\":\"5801\"}},\"id\":\"5800\",\"type\":\"LinearAxis\"},{\"attributes\":{\"data_source\":{\"id\":\"5818\"},\"glyph\":{\"id\":\"5819\"},\"hover_glyph\":null,\"muted_glyph\":null,\"nonselection_glyph\":{\"id\":\"5820\"},\"selection_glyph\":null,\"view\":{\"id\":\"5822\"}},\"id\":\"5821\",\"type\":\"GlyphRenderer\"},{\"attributes\":{},\"id\":\"5792\",\"type\":\"LinearScale\"},{\"attributes\":{\"line_alpha\":0.5,\"line_color\":\"orange\",\"line_width\":2,\"x\":{\"field\":\"x\"},\"y\":{\"field\":\"y\"}},\"id\":\"5819\",\"type\":\"Line\"},{\"attributes\":{},\"id\":\"5790\",\"type\":\"DataRange1d\"},{\"attributes\":{\"text\":\"\"},\"id\":\"5995\",\"type\":\"Title\"},{\"attributes\":{},\"id\":\"6001\",\"type\":\"UnionRenderers\"},{\"attributes\":{\"source\":{\"id\":\"5818\"}},\"id\":\"5822\",\"type\":\"CDSView\"},{\"attributes\":{},\"id\":\"5807\",\"type\":\"SaveTool\"},{\"attributes\":{},\"id\":\"5804\",\"type\":\"PanTool\"},{\"attributes\":{},\"id\":\"5794\",\"type\":\"LinearScale\"},{\"attributes\":{\"bottom_units\":\"screen\",\"fill_alpha\":0.5,\"fill_color\":\"lightgrey\",\"left_units\":\"screen\",\"level\":\"overlay\",\"line_alpha\":1.0,\"line_color\":\"black\",\"line_dash\":[4,4],\"line_width\":2,\"right_units\":\"screen\",\"top_units\":\"screen\"},\"id\":\"5810\",\"type\":\"BoxAnnotation\"},{\"attributes\":{\"line_alpha\":0.1,\"line_color\":\"orange\",\"line_width\":2,\"x\":{\"field\":\"x\"},\"y\":{\"field\":\"y\"}},\"id\":\"5820\",\"type\":\"Line\"},{\"attributes\":{},\"id\":\"5801\",\"type\":\"BasicTicker\"},{\"attributes\":{},\"id\":\"5808\",\"type\":\"ResetTool\"},{\"attributes\":{\"overlay\":{\"id\":\"5810\"}},\"id\":\"5806\",\"type\":\"BoxZoomTool\"},{\"attributes\":{\"axis\":{\"id\":\"5796\"},\"ticker\":null},\"id\":\"5799\",\"type\":\"Grid\"},{\"attributes\":{\"fill_alpha\":{\"value\":0.1},\"fill_color\":{\"value\":\"blue\"},\"line_alpha\":{\"value\":0.1},\"line_color\":{\"value\":\"#1f77b4\"},\"size\":{\"units\":\"screen\",\"value\":10},\"x\":{\"field\":\"x\"},\"y\":{\"field\":\"y\"}},\"id\":\"5827\",\"type\":\"Cross\"},{\"attributes\":{},\"id\":\"5809\",\"type\":\"HelpTool\"},{\"attributes\":{\"data\":{\"x\":[5,6,7,8,9,10],\"y\":[1,2,3,4,5,6]},\"selected\":{\"id\":\"6004\"},\"selection_policy\":{\"id\":\"6003\"}},\"id\":\"5825\",\"type\":\"ColumnDataSource\"},{\"attributes\":{\"data\":{\"x\":[5,6,7,8,9,10],\"y\":[1,2,3,4,5,6]},\"selected\":{\"id\":\"6002\"},\"selection_policy\":{\"id\":\"6001\"}},\"id\":\"5818\",\"type\":\"ColumnDataSource\"}],\"root_ids\":[\"5787\"]},\"title\":\"Bokeh Application\",\"version\":\"2.2.3\"}};\n",
       "  var render_items = [{\"docid\":\"f6a3b4c5-7b7c-45d6-b187-bda30671ec91\",\"root_ids\":[\"5787\"],\"roots\":{\"5787\":\"03148117-e9d8-4b7f-91ad-28fa5c5019d7\"}}];\n",
       "  root.Bokeh.embed.embed_items_notebook(docs_json, render_items);\n",
       "\n",
       "  }\n",
       "  if (root.Bokeh !== undefined) {\n",
       "    embed_document(root);\n",
       "  } else {\n",
       "    var attempts = 0;\n",
       "    var timer = setInterval(function(root) {\n",
       "      if (root.Bokeh !== undefined) {\n",
       "        clearInterval(timer);\n",
       "        embed_document(root);\n",
       "      } else {\n",
       "        attempts++;\n",
       "        if (attempts > 100) {\n",
       "          clearInterval(timer);\n",
       "          console.log(\"Bokeh: ERROR: Unable to run BokehJS code because BokehJS library is missing\");\n",
       "        }\n",
       "      }\n",
       "    }, 10, root)\n",
       "  }\n",
       "})(window);"
      ],
      "application/vnd.bokehjs_exec.v0+json": ""
     },
     "metadata": {
      "application/vnd.bokehjs_exec.v0+json": {
       "id": "5787"
      }
     },
     "output_type": "display_data"
    }
   ],
   "source": [
    "# Afficher le graphe au niveau de ce notebook\n",
    "show(p)"
   ]
  },
  {
   "cell_type": "markdown",
   "metadata": {},
   "source": [
    "On peut créer un scatter plot en utilisant x et y"
   ]
  },
  {
   "cell_type": "code",
   "execution_count": 200,
   "metadata": {},
   "outputs": [],
   "source": [
    "# Créer une nouvelle figure\n",
    "p2 = figure(plot_width=400, plot_height=400)"
   ]
  },
  {
   "cell_type": "code",
   "execution_count": 201,
   "metadata": {},
   "outputs": [
    {
     "data": {
      "text/html": [
       "<div style=\"display: table;\"><div style=\"display: table-row;\"><div style=\"display: table-cell;\"><b title=\"bokeh.models.renderers.GlyphRenderer\">GlyphRenderer</b>(</div><div style=\"display: table-cell;\">id&nbsp;=&nbsp;'6095', <span id=\"6098\" style=\"cursor: pointer;\">&hellip;)</span></div></div><div class=\"6097\" style=\"display: none;\"><div style=\"display: table-cell;\"></div><div style=\"display: table-cell;\">data_source&nbsp;=&nbsp;ColumnDataSource(id='6092', ...),</div></div><div class=\"6097\" style=\"display: none;\"><div style=\"display: table-cell;\"></div><div style=\"display: table-cell;\">glyph&nbsp;=&nbsp;CircleCross(id='6093', ...),</div></div><div class=\"6097\" style=\"display: none;\"><div style=\"display: table-cell;\"></div><div style=\"display: table-cell;\">hover_glyph&nbsp;=&nbsp;None,</div></div><div class=\"6097\" style=\"display: none;\"><div style=\"display: table-cell;\"></div><div style=\"display: table-cell;\">js_event_callbacks&nbsp;=&nbsp;{},</div></div><div class=\"6097\" style=\"display: none;\"><div style=\"display: table-cell;\"></div><div style=\"display: table-cell;\">js_property_callbacks&nbsp;=&nbsp;{},</div></div><div class=\"6097\" style=\"display: none;\"><div style=\"display: table-cell;\"></div><div style=\"display: table-cell;\">level&nbsp;=&nbsp;'glyph',</div></div><div class=\"6097\" style=\"display: none;\"><div style=\"display: table-cell;\"></div><div style=\"display: table-cell;\">muted&nbsp;=&nbsp;False,</div></div><div class=\"6097\" style=\"display: none;\"><div style=\"display: table-cell;\"></div><div style=\"display: table-cell;\">muted_glyph&nbsp;=&nbsp;None,</div></div><div class=\"6097\" style=\"display: none;\"><div style=\"display: table-cell;\"></div><div style=\"display: table-cell;\">name&nbsp;=&nbsp;None,</div></div><div class=\"6097\" style=\"display: none;\"><div style=\"display: table-cell;\"></div><div style=\"display: table-cell;\">nonselection_glyph&nbsp;=&nbsp;CircleCross(id='6094', ...),</div></div><div class=\"6097\" style=\"display: none;\"><div style=\"display: table-cell;\"></div><div style=\"display: table-cell;\">selection_glyph&nbsp;=&nbsp;None,</div></div><div class=\"6097\" style=\"display: none;\"><div style=\"display: table-cell;\"></div><div style=\"display: table-cell;\">subscribed_events&nbsp;=&nbsp;[],</div></div><div class=\"6097\" style=\"display: none;\"><div style=\"display: table-cell;\"></div><div style=\"display: table-cell;\">tags&nbsp;=&nbsp;[],</div></div><div class=\"6097\" style=\"display: none;\"><div style=\"display: table-cell;\"></div><div style=\"display: table-cell;\">view&nbsp;=&nbsp;CDSView(id='6096', ...),</div></div><div class=\"6097\" style=\"display: none;\"><div style=\"display: table-cell;\"></div><div style=\"display: table-cell;\">visible&nbsp;=&nbsp;True,</div></div><div class=\"6097\" style=\"display: none;\"><div style=\"display: table-cell;\"></div><div style=\"display: table-cell;\">x_range_name&nbsp;=&nbsp;'default',</div></div><div class=\"6097\" style=\"display: none;\"><div style=\"display: table-cell;\"></div><div style=\"display: table-cell;\">y_range_name&nbsp;=&nbsp;'default')</div></div></div>\n",
       "<script>\n",
       "(function() {\n",
       "  var expanded = false;\n",
       "  var ellipsis = document.getElementById(\"6098\");\n",
       "  ellipsis.addEventListener(\"click\", function() {\n",
       "    var rows = document.getElementsByClassName(\"6097\");\n",
       "    for (var i = 0; i < rows.length; i++) {\n",
       "      var el = rows[i];\n",
       "      el.style.display = expanded ? \"none\" : \"table-row\";\n",
       "    }\n",
       "    ellipsis.innerHTML = expanded ? \"&hellip;)\" : \"&lsaquo;&lsaquo;&lsaquo;\";\n",
       "    expanded = !expanded;\n",
       "  });\n",
       "})();\n",
       "</script>\n"
      ],
      "text/plain": [
       "GlyphRenderer(id='6095', ...)"
      ]
     },
     "execution_count": 201,
     "metadata": {},
     "output_type": "execute_result"
    }
   ],
   "source": [
    "# Afficher les points en utilisant un cirle marker\n",
    "p2.circle_cross(x, y, size=15, color=\"firebrick\", alpha=0.5 )"
   ]
  },
  {
   "cell_type": "code",
   "execution_count": 202,
   "metadata": {},
   "outputs": [
    {
     "data": {
      "text/html": [
       "\n",
       "\n",
       "\n",
       "\n",
       "\n",
       "\n",
       "  <div class=\"bk-root\" id=\"5ba9ff5c-7427-449a-b58d-0840d869f3b3\" data-root-id=\"6061\"></div>\n"
      ]
     },
     "metadata": {},
     "output_type": "display_data"
    },
    {
     "data": {
      "application/javascript": [
       "(function(root) {\n",
       "  function embed_document(root) {\n",
       "    \n",
       "  var docs_json = {\"5d33ab81-2c06-4405-9c6c-af7a46e19fcb\":{\"roots\":{\"references\":[{\"attributes\":{\"below\":[{\"id\":\"6070\"}],\"center\":[{\"id\":\"6073\"},{\"id\":\"6077\"}],\"left\":[{\"id\":\"6074\"}],\"plot_height\":400,\"plot_width\":400,\"renderers\":[{\"id\":\"6095\"}],\"title\":{\"id\":\"6273\"},\"toolbar\":{\"id\":\"6085\"},\"x_range\":{\"id\":\"6062\"},\"x_scale\":{\"id\":\"6066\"},\"y_range\":{\"id\":\"6064\"},\"y_scale\":{\"id\":\"6068\"}},\"id\":\"6061\",\"subtype\":\"Figure\",\"type\":\"Plot\"},{\"attributes\":{},\"id\":\"6064\",\"type\":\"DataRange1d\"},{\"attributes\":{\"active_drag\":\"auto\",\"active_inspect\":\"auto\",\"active_multi\":null,\"active_scroll\":\"auto\",\"active_tap\":\"auto\",\"tools\":[{\"id\":\"6078\"},{\"id\":\"6079\"},{\"id\":\"6080\"},{\"id\":\"6081\"},{\"id\":\"6082\"},{\"id\":\"6083\"}]},\"id\":\"6085\",\"type\":\"Toolbar\"},{\"attributes\":{},\"id\":\"6075\",\"type\":\"BasicTicker\"},{\"attributes\":{\"data\":{\"x\":[5,6,7,8,9,10],\"y\":[1,2,3,4,5,6]},\"selected\":{\"id\":\"6280\"},\"selection_policy\":{\"id\":\"6279\"}},\"id\":\"6092\",\"type\":\"ColumnDataSource\"},{\"attributes\":{\"axis\":{\"id\":\"6070\"},\"ticker\":null},\"id\":\"6073\",\"type\":\"Grid\"},{\"attributes\":{\"bottom_units\":\"screen\",\"fill_alpha\":0.5,\"fill_color\":\"lightgrey\",\"left_units\":\"screen\",\"level\":\"overlay\",\"line_alpha\":1.0,\"line_color\":\"black\",\"line_dash\":[4,4],\"line_width\":2,\"right_units\":\"screen\",\"top_units\":\"screen\"},\"id\":\"6084\",\"type\":\"BoxAnnotation\"},{\"attributes\":{\"text\":\"\"},\"id\":\"6273\",\"type\":\"Title\"},{\"attributes\":{\"source\":{\"id\":\"6092\"}},\"id\":\"6096\",\"type\":\"CDSView\"},{\"attributes\":{},\"id\":\"6068\",\"type\":\"LinearScale\"},{\"attributes\":{},\"id\":\"6078\",\"type\":\"PanTool\"},{\"attributes\":{\"data_source\":{\"id\":\"6092\"},\"glyph\":{\"id\":\"6093\"},\"hover_glyph\":null,\"muted_glyph\":null,\"nonselection_glyph\":{\"id\":\"6094\"},\"selection_glyph\":null,\"view\":{\"id\":\"6096\"}},\"id\":\"6095\",\"type\":\"GlyphRenderer\"},{\"attributes\":{\"fill_alpha\":{\"value\":0.1},\"fill_color\":{\"value\":\"firebrick\"},\"line_alpha\":{\"value\":0.1},\"line_color\":{\"value\":\"firebrick\"},\"size\":{\"units\":\"screen\",\"value\":15},\"x\":{\"field\":\"x\"},\"y\":{\"field\":\"y\"}},\"id\":\"6094\",\"type\":\"CircleCross\"},{\"attributes\":{\"formatter\":{\"id\":\"6275\"},\"ticker\":{\"id\":\"6075\"}},\"id\":\"6074\",\"type\":\"LinearAxis\"},{\"attributes\":{},\"id\":\"6082\",\"type\":\"ResetTool\"},{\"attributes\":{\"fill_alpha\":{\"value\":0.5},\"fill_color\":{\"value\":\"firebrick\"},\"line_alpha\":{\"value\":0.5},\"line_color\":{\"value\":\"firebrick\"},\"size\":{\"units\":\"screen\",\"value\":15},\"x\":{\"field\":\"x\"},\"y\":{\"field\":\"y\"}},\"id\":\"6093\",\"type\":\"CircleCross\"},{\"attributes\":{\"overlay\":{\"id\":\"6084\"}},\"id\":\"6080\",\"type\":\"BoxZoomTool\"},{\"attributes\":{\"axis\":{\"id\":\"6074\"},\"dimension\":1,\"ticker\":null},\"id\":\"6077\",\"type\":\"Grid\"},{\"attributes\":{},\"id\":\"6081\",\"type\":\"SaveTool\"},{\"attributes\":{},\"id\":\"6071\",\"type\":\"BasicTicker\"},{\"attributes\":{},\"id\":\"6275\",\"type\":\"BasicTickFormatter\"},{\"attributes\":{},\"id\":\"6079\",\"type\":\"WheelZoomTool\"},{\"attributes\":{\"formatter\":{\"id\":\"6277\"},\"ticker\":{\"id\":\"6071\"}},\"id\":\"6070\",\"type\":\"LinearAxis\"},{\"attributes\":{},\"id\":\"6279\",\"type\":\"UnionRenderers\"},{\"attributes\":{},\"id\":\"6277\",\"type\":\"BasicTickFormatter\"},{\"attributes\":{},\"id\":\"6083\",\"type\":\"HelpTool\"},{\"attributes\":{},\"id\":\"6066\",\"type\":\"LinearScale\"},{\"attributes\":{},\"id\":\"6062\",\"type\":\"DataRange1d\"},{\"attributes\":{},\"id\":\"6280\",\"type\":\"Selection\"}],\"root_ids\":[\"6061\"]},\"title\":\"Bokeh Application\",\"version\":\"2.2.3\"}};\n",
       "  var render_items = [{\"docid\":\"5d33ab81-2c06-4405-9c6c-af7a46e19fcb\",\"root_ids\":[\"6061\"],\"roots\":{\"6061\":\"5ba9ff5c-7427-449a-b58d-0840d869f3b3\"}}];\n",
       "  root.Bokeh.embed.embed_items_notebook(docs_json, render_items);\n",
       "\n",
       "  }\n",
       "  if (root.Bokeh !== undefined) {\n",
       "    embed_document(root);\n",
       "  } else {\n",
       "    var attempts = 0;\n",
       "    var timer = setInterval(function(root) {\n",
       "      if (root.Bokeh !== undefined) {\n",
       "        clearInterval(timer);\n",
       "        embed_document(root);\n",
       "      } else {\n",
       "        attempts++;\n",
       "        if (attempts > 100) {\n",
       "          clearInterval(timer);\n",
       "          console.log(\"Bokeh: ERROR: Unable to run BokehJS code because BokehJS library is missing\");\n",
       "        }\n",
       "      }\n",
       "    }, 10, root)\n",
       "  }\n",
       "})(window);"
      ],
      "application/vnd.bokehjs_exec.v0+json": ""
     },
     "metadata": {
      "application/vnd.bokehjs_exec.v0+json": {
       "id": "6061"
      }
     },
     "output_type": "display_data"
    }
   ],
   "source": [
    "# Afficher le graphe\n",
    "show(p2)"
   ]
  },
  {
   "cell_type": "markdown",
   "metadata": {},
   "source": [
    "Lors de la création d'un scatter plot, on peut choisir parmi les markers disponible sur Bokeh: \n",
    "- cross()\n",
    "- x()\n",
    "- diamond()\n",
    "- diamond_cross()\n",
    "- circle_x()\n",
    "- circle_cross()\n",
    "- triangle()\n",
    "- inverted_triangle()\n",
    "- square()\n",
    "- square_x()\n",
    "- square_cross()\n",
    "- asterisk()"
   ]
  },
  {
   "cell_type": "code",
   "execution_count": 203,
   "metadata": {},
   "outputs": [
    {
     "data": {
      "text/html": [
       "\n",
       "\n",
       "\n",
       "\n",
       "\n",
       "\n",
       "  <div class=\"bk-root\" id=\"075a05bc-7cc4-41ed-b521-af5011758975\" data-root-id=\"6327\"></div>\n"
      ]
     },
     "metadata": {},
     "output_type": "display_data"
    },
    {
     "data": {
      "application/javascript": [
       "(function(root) {\n",
       "  function embed_document(root) {\n",
       "    \n",
       "  var docs_json = {\"89d18a28-7a6d-4888-9c75-378d2dc8c969\":{\"roots\":{\"references\":[{\"attributes\":{\"below\":[{\"id\":\"6336\"}],\"center\":[{\"id\":\"6339\"},{\"id\":\"6343\"}],\"left\":[{\"id\":\"6340\"}],\"plot_height\":400,\"plot_width\":400,\"renderers\":[{\"id\":\"6361\"}],\"title\":{\"id\":\"6546\"},\"toolbar\":{\"id\":\"6351\"},\"x_range\":{\"id\":\"6328\"},\"x_scale\":{\"id\":\"6332\"},\"y_range\":{\"id\":\"6330\"},\"y_scale\":{\"id\":\"6334\"}},\"id\":\"6327\",\"subtype\":\"Figure\",\"type\":\"Plot\"},{\"attributes\":{},\"id\":\"6334\",\"type\":\"LinearScale\"},{\"attributes\":{},\"id\":\"6330\",\"type\":\"DataRange1d\"},{\"attributes\":{\"bottom_units\":\"screen\",\"fill_alpha\":0.5,\"fill_color\":\"lightgrey\",\"left_units\":\"screen\",\"level\":\"overlay\",\"line_alpha\":1.0,\"line_color\":\"black\",\"line_dash\":[4,4],\"line_width\":2,\"right_units\":\"screen\",\"top_units\":\"screen\"},\"id\":\"6350\",\"type\":\"BoxAnnotation\"},{\"attributes\":{},\"id\":\"6349\",\"type\":\"HelpTool\"},{\"attributes\":{},\"id\":\"6344\",\"type\":\"PanTool\"},{\"attributes\":{},\"id\":\"6328\",\"type\":\"DataRange1d\"},{\"attributes\":{\"source\":{\"id\":\"6358\"}},\"id\":\"6362\",\"type\":\"CDSView\"},{\"attributes\":{},\"id\":\"6348\",\"type\":\"ResetTool\"},{\"attributes\":{\"text\":\"\"},\"id\":\"6546\",\"type\":\"Title\"},{\"attributes\":{\"axis\":{\"id\":\"6340\"},\"dimension\":1,\"ticker\":null},\"id\":\"6343\",\"type\":\"Grid\"},{\"attributes\":{\"fill_alpha\":{\"value\":0.5},\"fill_color\":{\"value\":\"orange\"},\"line_alpha\":{\"value\":0.5},\"line_color\":{\"value\":\"orange\"},\"size\":{\"units\":\"screen\",\"value\":20},\"x\":{\"field\":\"x\"},\"y\":{\"field\":\"y\"}},\"id\":\"6359\",\"type\":\"Diamond\"},{\"attributes\":{\"data\":{\"x\":[5,6,7,8,9,10],\"y\":[1,2,3,4,5,6]},\"selected\":{\"id\":\"6553\"},\"selection_policy\":{\"id\":\"6552\"}},\"id\":\"6358\",\"type\":\"ColumnDataSource\"},{\"attributes\":{},\"id\":\"6548\",\"type\":\"BasicTickFormatter\"},{\"attributes\":{},\"id\":\"6550\",\"type\":\"BasicTickFormatter\"},{\"attributes\":{},\"id\":\"6552\",\"type\":\"UnionRenderers\"},{\"attributes\":{\"formatter\":{\"id\":\"6548\"},\"ticker\":{\"id\":\"6341\"}},\"id\":\"6340\",\"type\":\"LinearAxis\"},{\"attributes\":{},\"id\":\"6553\",\"type\":\"Selection\"},{\"attributes\":{\"axis\":{\"id\":\"6336\"},\"ticker\":null},\"id\":\"6339\",\"type\":\"Grid\"},{\"attributes\":{\"active_drag\":\"auto\",\"active_inspect\":\"auto\",\"active_multi\":null,\"active_scroll\":\"auto\",\"active_tap\":\"auto\",\"tools\":[{\"id\":\"6344\"},{\"id\":\"6345\"},{\"id\":\"6346\"},{\"id\":\"6347\"},{\"id\":\"6348\"},{\"id\":\"6349\"}]},\"id\":\"6351\",\"type\":\"Toolbar\"},{\"attributes\":{},\"id\":\"6337\",\"type\":\"BasicTicker\"},{\"attributes\":{\"data_source\":{\"id\":\"6358\"},\"glyph\":{\"id\":\"6359\"},\"hover_glyph\":null,\"muted_glyph\":null,\"nonselection_glyph\":{\"id\":\"6360\"},\"selection_glyph\":null,\"view\":{\"id\":\"6362\"}},\"id\":\"6361\",\"type\":\"GlyphRenderer\"},{\"attributes\":{\"fill_alpha\":{\"value\":0.1},\"fill_color\":{\"value\":\"orange\"},\"line_alpha\":{\"value\":0.1},\"line_color\":{\"value\":\"orange\"},\"size\":{\"units\":\"screen\",\"value\":20},\"x\":{\"field\":\"x\"},\"y\":{\"field\":\"y\"}},\"id\":\"6360\",\"type\":\"Diamond\"},{\"attributes\":{},\"id\":\"6332\",\"type\":\"LinearScale\"},{\"attributes\":{\"formatter\":{\"id\":\"6550\"},\"ticker\":{\"id\":\"6337\"}},\"id\":\"6336\",\"type\":\"LinearAxis\"},{\"attributes\":{},\"id\":\"6347\",\"type\":\"SaveTool\"},{\"attributes\":{},\"id\":\"6345\",\"type\":\"WheelZoomTool\"},{\"attributes\":{},\"id\":\"6341\",\"type\":\"BasicTicker\"},{\"attributes\":{\"overlay\":{\"id\":\"6350\"}},\"id\":\"6346\",\"type\":\"BoxZoomTool\"}],\"root_ids\":[\"6327\"]},\"title\":\"Bokeh Application\",\"version\":\"2.2.3\"}};\n",
       "  var render_items = [{\"docid\":\"89d18a28-7a6d-4888-9c75-378d2dc8c969\",\"root_ids\":[\"6327\"],\"roots\":{\"6327\":\"075a05bc-7cc4-41ed-b521-af5011758975\"}}];\n",
       "  root.Bokeh.embed.embed_items_notebook(docs_json, render_items);\n",
       "\n",
       "  }\n",
       "  if (root.Bokeh !== undefined) {\n",
       "    embed_document(root);\n",
       "  } else {\n",
       "    var attempts = 0;\n",
       "    var timer = setInterval(function(root) {\n",
       "      if (root.Bokeh !== undefined) {\n",
       "        clearInterval(timer);\n",
       "        embed_document(root);\n",
       "      } else {\n",
       "        attempts++;\n",
       "        if (attempts > 100) {\n",
       "          clearInterval(timer);\n",
       "          console.log(\"Bokeh: ERROR: Unable to run BokehJS code because BokehJS library is missing\");\n",
       "        }\n",
       "      }\n",
       "    }, 10, root)\n",
       "  }\n",
       "})(window);"
      ],
      "application/vnd.bokehjs_exec.v0+json": ""
     },
     "metadata": {
      "application/vnd.bokehjs_exec.v0+json": {
       "id": "6327"
      }
     },
     "output_type": "display_data"
    }
   ],
   "source": [
    "# Tester d'autre markers pour votre scatterplot\n",
    "p3 = figure(plot_width=400, plot_height=400)\n",
    "p3.diamond(x, y, size=20, color=\"orange\", alpha=0.5 )\n",
    "show(p3)"
   ]
  },
  {
   "cell_type": "markdown",
   "metadata": {},
   "source": [
    "<br> On peut également ajouter des libélés aux axes x et y en assignant les libélés dans la fonction figure."
   ]
  },
  {
   "cell_type": "code",
   "execution_count": 204,
   "metadata": {},
   "outputs": [
    {
     "data": {
      "text/html": [
       "\n",
       "\n",
       "\n",
       "\n",
       "\n",
       "\n",
       "  <div class=\"bk-root\" id=\"adcd34fa-cce0-4d09-8d8b-de7de4415d93\" data-root-id=\"5787\"></div>\n"
      ]
     },
     "metadata": {},
     "output_type": "display_data"
    },
    {
     "data": {
      "application/javascript": [
       "(function(root) {\n",
       "  function embed_document(root) {\n",
       "    \n",
       "  var docs_json = {\"dbc6e735-09b4-4780-bb0c-39b2008f4986\":{\"roots\":{\"references\":[{\"attributes\":{\"below\":[{\"id\":\"5796\"}],\"center\":[{\"id\":\"5799\"},{\"id\":\"5803\"}],\"left\":[{\"id\":\"5800\"}],\"plot_height\":400,\"plot_width\":400,\"renderers\":[{\"id\":\"5821\"},{\"id\":\"5828\"}],\"title\":{\"id\":\"5995\"},\"toolbar\":{\"id\":\"5811\"},\"x_range\":{\"id\":\"5788\"},\"x_scale\":{\"id\":\"5792\"},\"y_range\":{\"id\":\"5790\"},\"y_scale\":{\"id\":\"5794\"}},\"id\":\"5787\",\"subtype\":\"Figure\",\"type\":\"Plot\"},{\"attributes\":{\"fill_alpha\":{\"value\":0.5},\"fill_color\":{\"value\":\"blue\"},\"line_color\":{\"value\":\"#1f77b4\"},\"size\":{\"units\":\"screen\",\"value\":10},\"x\":{\"field\":\"x\"},\"y\":{\"field\":\"y\"}},\"id\":\"5826\",\"type\":\"Cross\"},{\"attributes\":{\"data_source\":{\"id\":\"5825\"},\"glyph\":{\"id\":\"5826\"},\"hover_glyph\":null,\"muted_glyph\":null,\"nonselection_glyph\":{\"id\":\"5827\"},\"selection_glyph\":null,\"view\":{\"id\":\"5829\"}},\"id\":\"5828\",\"type\":\"GlyphRenderer\"},{\"attributes\":{\"source\":{\"id\":\"5825\"}},\"id\":\"5829\",\"type\":\"CDSView\"},{\"attributes\":{\"axis\":{\"id\":\"5800\"},\"dimension\":1,\"ticker\":null},\"id\":\"5803\",\"type\":\"Grid\"},{\"attributes\":{},\"id\":\"5999\",\"type\":\"BasicTickFormatter\"},{\"attributes\":{},\"id\":\"5797\",\"type\":\"BasicTicker\"},{\"attributes\":{},\"id\":\"6004\",\"type\":\"Selection\"},{\"attributes\":{},\"id\":\"5788\",\"type\":\"DataRange1d\"},{\"attributes\":{},\"id\":\"5997\",\"type\":\"BasicTickFormatter\"},{\"attributes\":{\"axis_label\":\"x\",\"formatter\":{\"id\":\"5999\"},\"ticker\":{\"id\":\"5797\"}},\"id\":\"5796\",\"type\":\"LinearAxis\"},{\"attributes\":{},\"id\":\"6003\",\"type\":\"UnionRenderers\"},{\"attributes\":{},\"id\":\"5805\",\"type\":\"WheelZoomTool\"},{\"attributes\":{},\"id\":\"6002\",\"type\":\"Selection\"},{\"attributes\":{\"active_drag\":\"auto\",\"active_inspect\":\"auto\",\"active_multi\":null,\"active_scroll\":\"auto\",\"active_tap\":\"auto\",\"tools\":[{\"id\":\"5804\"},{\"id\":\"5805\"},{\"id\":\"5806\"},{\"id\":\"5807\"},{\"id\":\"5808\"},{\"id\":\"5809\"}]},\"id\":\"5811\",\"type\":\"Toolbar\"},{\"attributes\":{\"axis_label\":\"y\",\"formatter\":{\"id\":\"5997\"},\"ticker\":{\"id\":\"5801\"}},\"id\":\"5800\",\"type\":\"LinearAxis\"},{\"attributes\":{\"data_source\":{\"id\":\"5818\"},\"glyph\":{\"id\":\"5819\"},\"hover_glyph\":null,\"muted_glyph\":null,\"nonselection_glyph\":{\"id\":\"5820\"},\"selection_glyph\":null,\"view\":{\"id\":\"5822\"}},\"id\":\"5821\",\"type\":\"GlyphRenderer\"},{\"attributes\":{},\"id\":\"5792\",\"type\":\"LinearScale\"},{\"attributes\":{\"line_alpha\":0.5,\"line_color\":\"orange\",\"line_width\":2,\"x\":{\"field\":\"x\"},\"y\":{\"field\":\"y\"}},\"id\":\"5819\",\"type\":\"Line\"},{\"attributes\":{},\"id\":\"5790\",\"type\":\"DataRange1d\"},{\"attributes\":{\"text\":\"\"},\"id\":\"5995\",\"type\":\"Title\"},{\"attributes\":{},\"id\":\"6001\",\"type\":\"UnionRenderers\"},{\"attributes\":{\"source\":{\"id\":\"5818\"}},\"id\":\"5822\",\"type\":\"CDSView\"},{\"attributes\":{},\"id\":\"5807\",\"type\":\"SaveTool\"},{\"attributes\":{},\"id\":\"5804\",\"type\":\"PanTool\"},{\"attributes\":{},\"id\":\"5794\",\"type\":\"LinearScale\"},{\"attributes\":{\"bottom_units\":\"screen\",\"fill_alpha\":0.5,\"fill_color\":\"lightgrey\",\"left_units\":\"screen\",\"level\":\"overlay\",\"line_alpha\":1.0,\"line_color\":\"black\",\"line_dash\":[4,4],\"line_width\":2,\"right_units\":\"screen\",\"top_units\":\"screen\"},\"id\":\"5810\",\"type\":\"BoxAnnotation\"},{\"attributes\":{\"line_alpha\":0.1,\"line_color\":\"orange\",\"line_width\":2,\"x\":{\"field\":\"x\"},\"y\":{\"field\":\"y\"}},\"id\":\"5820\",\"type\":\"Line\"},{\"attributes\":{},\"id\":\"5801\",\"type\":\"BasicTicker\"},{\"attributes\":{},\"id\":\"5808\",\"type\":\"ResetTool\"},{\"attributes\":{\"overlay\":{\"id\":\"5810\"}},\"id\":\"5806\",\"type\":\"BoxZoomTool\"},{\"attributes\":{\"axis\":{\"id\":\"5796\"},\"ticker\":null},\"id\":\"5799\",\"type\":\"Grid\"},{\"attributes\":{\"fill_alpha\":{\"value\":0.1},\"fill_color\":{\"value\":\"blue\"},\"line_alpha\":{\"value\":0.1},\"line_color\":{\"value\":\"#1f77b4\"},\"size\":{\"units\":\"screen\",\"value\":10},\"x\":{\"field\":\"x\"},\"y\":{\"field\":\"y\"}},\"id\":\"5827\",\"type\":\"Cross\"},{\"attributes\":{},\"id\":\"5809\",\"type\":\"HelpTool\"},{\"attributes\":{\"data\":{\"x\":[5,6,7,8,9,10],\"y\":[1,2,3,4,5,6]},\"selected\":{\"id\":\"6004\"},\"selection_policy\":{\"id\":\"6003\"}},\"id\":\"5825\",\"type\":\"ColumnDataSource\"},{\"attributes\":{\"data\":{\"x\":[5,6,7,8,9,10],\"y\":[1,2,3,4,5,6]},\"selected\":{\"id\":\"6002\"},\"selection_policy\":{\"id\":\"6001\"}},\"id\":\"5818\",\"type\":\"ColumnDataSource\"}],\"root_ids\":[\"5787\"]},\"title\":\"Bokeh Application\",\"version\":\"2.2.3\"}};\n",
       "  var render_items = [{\"docid\":\"dbc6e735-09b4-4780-bb0c-39b2008f4986\",\"root_ids\":[\"5787\"],\"roots\":{\"5787\":\"adcd34fa-cce0-4d09-8d8b-de7de4415d93\"}}];\n",
       "  root.Bokeh.embed.embed_items_notebook(docs_json, render_items);\n",
       "\n",
       "  }\n",
       "  if (root.Bokeh !== undefined) {\n",
       "    embed_document(root);\n",
       "  } else {\n",
       "    var attempts = 0;\n",
       "    var timer = setInterval(function(root) {\n",
       "      if (root.Bokeh !== undefined) {\n",
       "        clearInterval(timer);\n",
       "        embed_document(root);\n",
       "      } else {\n",
       "        attempts++;\n",
       "        if (attempts > 100) {\n",
       "          clearInterval(timer);\n",
       "          console.log(\"Bokeh: ERROR: Unable to run BokehJS code because BokehJS library is missing\");\n",
       "        }\n",
       "      }\n",
       "    }, 10, root)\n",
       "  }\n",
       "})(window);"
      ],
      "application/vnd.bokehjs_exec.v0+json": ""
     },
     "metadata": {
      "application/vnd.bokehjs_exec.v0+json": {
       "id": "5787"
      }
     },
     "output_type": "display_data"
    }
   ],
   "source": [
    "# Ajouter les libélés aux axes x et y\n",
    "p.xaxis.axis_label = 'x'\n",
    "p.yaxis.axis_label = 'y'\n",
    "show(p)"
   ]
  },
  {
   "cell_type": "markdown",
   "metadata": {},
   "source": [
    "<br>Il est possible de changer la transparence d'une figure en utilisant l'attribut alpha dans la fonction circle. Ceci est utile quand nos points de données sont susceptibles de se croiser. L'argument alpha prend des valuers de 0 (complètement transparent) et 1 (complètement opaque). \n",
    "\n",
    "<br> Sur les visualisations Bokeh, on est fournit par défaut, dans la partie droite du graphe, avec des fonctionnalités de panning, zooming, selection, et sauvegarde. Ces outils sont configurables et très utiles pour l'exploration des données. \n",
    "<br><br> Vous pouvez tester d'autres visualisations à partir de la Bokeh Gallery: https://docs.bokeh.org/en/latest/docs/gallery.html#gallery"
   ]
  },
  {
   "cell_type": "markdown",
   "metadata": {},
   "source": [
    "<br> </br>\n",
    "## B. Visualisations à base des Dataframes Pandas"
   ]
  },
  {
   "cell_type": "markdown",
   "metadata": {},
   "source": [
    "Les dataframe Pandas sont fréquemment utilisées dans les projets data science. Même si Pandas offre quelques possibilités de visualisation des données (e.g. hist qu'on a vu dans TP1, boxplot...), les librairies spécialisées en Data visualisation sont plus adeptes aux challenges de construire des data viz conviviales, complexes et interactives. Bokeh supporte nativement les Pandas dataframe et offre des fonctionnalités qui aident à contruire des graphes interactifs en se basant sur leurs données.\n",
    "<br><br> Au niveau du TP1, on a créé des Heatmaps pour mieux visualiser les corrélations entre les différentes. On va reprendre les données des pistes musicales du TP1 et créer davantage de visualisations. "
   ]
  },
  {
   "cell_type": "code",
   "execution_count": 205,
   "metadata": {},
   "outputs": [],
   "source": [
    "import pandas as pd"
   ]
  },
  {
   "cell_type": "code",
   "execution_count": 206,
   "metadata": {},
   "outputs": [
    {
     "data": {
      "text/html": [
       "<div>\n",
       "<style scoped>\n",
       "    .dataframe tbody tr th:only-of-type {\n",
       "        vertical-align: middle;\n",
       "    }\n",
       "\n",
       "    .dataframe tbody tr th {\n",
       "        vertical-align: top;\n",
       "    }\n",
       "\n",
       "    .dataframe thead th {\n",
       "        text-align: right;\n",
       "    }\n",
       "</style>\n",
       "<table border=\"1\" class=\"dataframe\">\n",
       "  <thead>\n",
       "    <tr style=\"text-align: right;\">\n",
       "      <th></th>\n",
       "      <th>acousticness</th>\n",
       "      <th>artists</th>\n",
       "      <th>danceability</th>\n",
       "      <th>duration_ms</th>\n",
       "      <th>energy</th>\n",
       "      <th>explicit</th>\n",
       "      <th>id</th>\n",
       "      <th>instrumentalness</th>\n",
       "      <th>key</th>\n",
       "      <th>liveness</th>\n",
       "      <th>loudness</th>\n",
       "      <th>mode</th>\n",
       "      <th>name</th>\n",
       "      <th>popularity</th>\n",
       "      <th>release_date</th>\n",
       "      <th>speechiness</th>\n",
       "      <th>tempo</th>\n",
       "      <th>valence</th>\n",
       "      <th>year</th>\n",
       "    </tr>\n",
       "  </thead>\n",
       "  <tbody>\n",
       "    <tr>\n",
       "      <th>0</th>\n",
       "      <td>0.995</td>\n",
       "      <td>['Carl Woitschach']</td>\n",
       "      <td>0.708</td>\n",
       "      <td>158648</td>\n",
       "      <td>0.1950</td>\n",
       "      <td>0</td>\n",
       "      <td>6KbQ3uYMLKb5jDxLF7wYDD</td>\n",
       "      <td>0.563</td>\n",
       "      <td>10</td>\n",
       "      <td>0.1510</td>\n",
       "      <td>-12.428</td>\n",
       "      <td>1</td>\n",
       "      <td>Singende Bataillone 1. Teil</td>\n",
       "      <td>0</td>\n",
       "      <td>1928</td>\n",
       "      <td>0.0506</td>\n",
       "      <td>118.469</td>\n",
       "      <td>0.7790</td>\n",
       "      <td>1928</td>\n",
       "    </tr>\n",
       "    <tr>\n",
       "      <th>1</th>\n",
       "      <td>0.994</td>\n",
       "      <td>['Robert Schumann', 'Vladimir Horowitz']</td>\n",
       "      <td>0.379</td>\n",
       "      <td>282133</td>\n",
       "      <td>0.0135</td>\n",
       "      <td>0</td>\n",
       "      <td>6KuQTIu1KoTTkLXKrwlLPV</td>\n",
       "      <td>0.901</td>\n",
       "      <td>8</td>\n",
       "      <td>0.0763</td>\n",
       "      <td>-28.454</td>\n",
       "      <td>1</td>\n",
       "      <td>Fantasiestücke, Op. 111: Più tosto lento</td>\n",
       "      <td>0</td>\n",
       "      <td>1928</td>\n",
       "      <td>0.0462</td>\n",
       "      <td>83.972</td>\n",
       "      <td>0.0767</td>\n",
       "      <td>1928</td>\n",
       "    </tr>\n",
       "    <tr>\n",
       "      <th>2</th>\n",
       "      <td>0.604</td>\n",
       "      <td>['Seweryn Goszczyński']</td>\n",
       "      <td>0.749</td>\n",
       "      <td>104300</td>\n",
       "      <td>0.2200</td>\n",
       "      <td>0</td>\n",
       "      <td>6L63VW0PibdM1HDSBoqnoM</td>\n",
       "      <td>0.000</td>\n",
       "      <td>5</td>\n",
       "      <td>0.1190</td>\n",
       "      <td>-19.924</td>\n",
       "      <td>0</td>\n",
       "      <td>Chapter 1.18 - Zamek kaniowski</td>\n",
       "      <td>0</td>\n",
       "      <td>1928</td>\n",
       "      <td>0.9290</td>\n",
       "      <td>107.177</td>\n",
       "      <td>0.8800</td>\n",
       "      <td>1928</td>\n",
       "    </tr>\n",
       "    <tr>\n",
       "      <th>3</th>\n",
       "      <td>0.995</td>\n",
       "      <td>['Francisco Canaro']</td>\n",
       "      <td>0.781</td>\n",
       "      <td>180760</td>\n",
       "      <td>0.1300</td>\n",
       "      <td>0</td>\n",
       "      <td>6M94FkXd15sOAOQYRnWPN8</td>\n",
       "      <td>0.887</td>\n",
       "      <td>1</td>\n",
       "      <td>0.1110</td>\n",
       "      <td>-14.734</td>\n",
       "      <td>0</td>\n",
       "      <td>Bebamos Juntos - Instrumental (Remasterizado)</td>\n",
       "      <td>0</td>\n",
       "      <td>1928-09-25</td>\n",
       "      <td>0.0926</td>\n",
       "      <td>108.003</td>\n",
       "      <td>0.7200</td>\n",
       "      <td>1928</td>\n",
       "    </tr>\n",
       "    <tr>\n",
       "      <th>4</th>\n",
       "      <td>0.990</td>\n",
       "      <td>['Frédéric Chopin', 'Vladimir Horowitz']</td>\n",
       "      <td>0.210</td>\n",
       "      <td>687733</td>\n",
       "      <td>0.2040</td>\n",
       "      <td>0</td>\n",
       "      <td>6N6tiFZ9vLTSOIxkj8qKrd</td>\n",
       "      <td>0.908</td>\n",
       "      <td>11</td>\n",
       "      <td>0.0980</td>\n",
       "      <td>-16.829</td>\n",
       "      <td>1</td>\n",
       "      <td>Polonaise-Fantaisie in A-Flat Major, Op. 61</td>\n",
       "      <td>1</td>\n",
       "      <td>1928</td>\n",
       "      <td>0.0424</td>\n",
       "      <td>62.149</td>\n",
       "      <td>0.0693</td>\n",
       "      <td>1928</td>\n",
       "    </tr>\n",
       "  </tbody>\n",
       "</table>\n",
       "</div>"
      ],
      "text/plain": [
       "   acousticness                                   artists  danceability  \\\n",
       "0         0.995                       ['Carl Woitschach']         0.708   \n",
       "1         0.994  ['Robert Schumann', 'Vladimir Horowitz']         0.379   \n",
       "2         0.604                   ['Seweryn Goszczyński']         0.749   \n",
       "3         0.995                      ['Francisco Canaro']         0.781   \n",
       "4         0.990  ['Frédéric Chopin', 'Vladimir Horowitz']         0.210   \n",
       "\n",
       "   duration_ms  energy  explicit                      id  instrumentalness  \\\n",
       "0       158648  0.1950         0  6KbQ3uYMLKb5jDxLF7wYDD             0.563   \n",
       "1       282133  0.0135         0  6KuQTIu1KoTTkLXKrwlLPV             0.901   \n",
       "2       104300  0.2200         0  6L63VW0PibdM1HDSBoqnoM             0.000   \n",
       "3       180760  0.1300         0  6M94FkXd15sOAOQYRnWPN8             0.887   \n",
       "4       687733  0.2040         0  6N6tiFZ9vLTSOIxkj8qKrd             0.908   \n",
       "\n",
       "   key  liveness  loudness  mode  \\\n",
       "0   10    0.1510   -12.428     1   \n",
       "1    8    0.0763   -28.454     1   \n",
       "2    5    0.1190   -19.924     0   \n",
       "3    1    0.1110   -14.734     0   \n",
       "4   11    0.0980   -16.829     1   \n",
       "\n",
       "                                            name  popularity release_date  \\\n",
       "0                    Singende Bataillone 1. Teil           0         1928   \n",
       "1       Fantasiestücke, Op. 111: Più tosto lento           0         1928   \n",
       "2                 Chapter 1.18 - Zamek kaniowski           0         1928   \n",
       "3  Bebamos Juntos - Instrumental (Remasterizado)           0   1928-09-25   \n",
       "4    Polonaise-Fantaisie in A-Flat Major, Op. 61           1         1928   \n",
       "\n",
       "   speechiness    tempo  valence  year  \n",
       "0       0.0506  118.469   0.7790  1928  \n",
       "1       0.0462   83.972   0.0767  1928  \n",
       "2       0.9290  107.177   0.8800  1928  \n",
       "3       0.0926  108.003   0.7200  1928  \n",
       "4       0.0424   62.149   0.0693  1928  "
      ]
     },
     "execution_count": 206,
     "metadata": {},
     "output_type": "execute_result"
    }
   ],
   "source": [
    "# Lire le fichier data dans une dataframe\n",
    "df = pd.read_csv(\"music_dataset/data.csv\")\n",
    "df.head(5)"
   ]
  },
  {
   "cell_type": "markdown",
   "metadata": {},
   "source": [
    "Créer une nouvelle dataframe en filtrant sur un artiste de votre choix (de préférence un artiste avec plusieurs pistes sur plusieurs années)"
   ]
  },
  {
   "cell_type": "code",
   "execution_count": 207,
   "metadata": {},
   "outputs": [
    {
     "data": {
      "text/html": [
       "<div>\n",
       "<style scoped>\n",
       "    .dataframe tbody tr th:only-of-type {\n",
       "        vertical-align: middle;\n",
       "    }\n",
       "\n",
       "    .dataframe tbody tr th {\n",
       "        vertical-align: top;\n",
       "    }\n",
       "\n",
       "    .dataframe thead th {\n",
       "        text-align: right;\n",
       "    }\n",
       "</style>\n",
       "<table border=\"1\" class=\"dataframe\">\n",
       "  <thead>\n",
       "    <tr style=\"text-align: right;\">\n",
       "      <th></th>\n",
       "      <th>acousticness</th>\n",
       "      <th>artists</th>\n",
       "      <th>danceability</th>\n",
       "      <th>duration_ms</th>\n",
       "      <th>energy</th>\n",
       "      <th>explicit</th>\n",
       "      <th>id</th>\n",
       "      <th>instrumentalness</th>\n",
       "      <th>key</th>\n",
       "      <th>liveness</th>\n",
       "      <th>loudness</th>\n",
       "      <th>mode</th>\n",
       "      <th>name</th>\n",
       "      <th>popularity</th>\n",
       "      <th>release_date</th>\n",
       "      <th>speechiness</th>\n",
       "      <th>tempo</th>\n",
       "      <th>valence</th>\n",
       "      <th>year</th>\n",
       "    </tr>\n",
       "  </thead>\n",
       "  <tbody>\n",
       "    <tr>\n",
       "      <th>6178</th>\n",
       "      <td>0.3990</td>\n",
       "      <td>['JAY-Z', 'Eminem']</td>\n",
       "      <td>0.561</td>\n",
       "      <td>337760</td>\n",
       "      <td>0.774</td>\n",
       "      <td>1</td>\n",
       "      <td>1eAZcqDmiUE57YdeElYbMd</td>\n",
       "      <td>0.000002</td>\n",
       "      <td>1</td>\n",
       "      <td>0.1890</td>\n",
       "      <td>-3.144</td>\n",
       "      <td>0</td>\n",
       "      <td>Renegade</td>\n",
       "      <td>41</td>\n",
       "      <td>2001-09-11</td>\n",
       "      <td>0.4470</td>\n",
       "      <td>77.621</td>\n",
       "      <td>0.820</td>\n",
       "      <td>2001</td>\n",
       "    </tr>\n",
       "    <tr>\n",
       "      <th>6281</th>\n",
       "      <td>0.0920</td>\n",
       "      <td>['Obie Trice', '50 Cent', 'Eminem']</td>\n",
       "      <td>0.713</td>\n",
       "      <td>270747</td>\n",
       "      <td>0.517</td>\n",
       "      <td>1</td>\n",
       "      <td>0jRj0owDUMxxbmz2qkgtSC</td>\n",
       "      <td>0.000006</td>\n",
       "      <td>7</td>\n",
       "      <td>0.1340</td>\n",
       "      <td>-5.403</td>\n",
       "      <td>1</td>\n",
       "      <td>Love Me</td>\n",
       "      <td>42</td>\n",
       "      <td>2002-10-29</td>\n",
       "      <td>0.2370</td>\n",
       "      <td>80.986</td>\n",
       "      <td>0.267</td>\n",
       "      <td>2002</td>\n",
       "    </tr>\n",
       "    <tr>\n",
       "      <th>6576</th>\n",
       "      <td>0.0507</td>\n",
       "      <td>['Eminem', 'Nate Dogg']</td>\n",
       "      <td>0.963</td>\n",
       "      <td>274440</td>\n",
       "      <td>0.643</td>\n",
       "      <td>1</td>\n",
       "      <td>64649mwn5MP4gz1eIOAerx</td>\n",
       "      <td>0.000049</td>\n",
       "      <td>1</td>\n",
       "      <td>0.1570</td>\n",
       "      <td>-5.785</td>\n",
       "      <td>0</td>\n",
       "      <td>Shake That</td>\n",
       "      <td>48</td>\n",
       "      <td>2005-12-06</td>\n",
       "      <td>0.1170</td>\n",
       "      <td>107.005</td>\n",
       "      <td>0.534</td>\n",
       "      <td>2005</td>\n",
       "    </tr>\n",
       "    <tr>\n",
       "      <th>6581</th>\n",
       "      <td>0.0337</td>\n",
       "      <td>['Eminem']</td>\n",
       "      <td>0.950</td>\n",
       "      <td>284800</td>\n",
       "      <td>0.651</td>\n",
       "      <td>1</td>\n",
       "      <td>7Bi0aRtNAdchLnVBPjDrcx</td>\n",
       "      <td>0.000000</td>\n",
       "      <td>5</td>\n",
       "      <td>0.0424</td>\n",
       "      <td>-4.226</td>\n",
       "      <td>0</td>\n",
       "      <td>The Real Slim Shady</td>\n",
       "      <td>48</td>\n",
       "      <td>2005-12-06</td>\n",
       "      <td>0.0547</td>\n",
       "      <td>104.495</td>\n",
       "      <td>0.777</td>\n",
       "      <td>2005</td>\n",
       "    </tr>\n",
       "    <tr>\n",
       "      <th>6648</th>\n",
       "      <td>0.0537</td>\n",
       "      <td>['Eminem']</td>\n",
       "      <td>0.619</td>\n",
       "      <td>281133</td>\n",
       "      <td>0.746</td>\n",
       "      <td>1</td>\n",
       "      <td>18TtVZgD09HpU7lUXR0kPI</td>\n",
       "      <td>0.000000</td>\n",
       "      <td>10</td>\n",
       "      <td>0.2950</td>\n",
       "      <td>-5.479</td>\n",
       "      <td>0</td>\n",
       "      <td>When I'm Gone</td>\n",
       "      <td>48</td>\n",
       "      <td>2005-12-06</td>\n",
       "      <td>0.3600</td>\n",
       "      <td>149.944</td>\n",
       "      <td>0.757</td>\n",
       "      <td>2005</td>\n",
       "    </tr>\n",
       "  </tbody>\n",
       "</table>\n",
       "</div>"
      ],
      "text/plain": [
       "      acousticness                              artists  danceability  \\\n",
       "6178        0.3990                  ['JAY-Z', 'Eminem']         0.561   \n",
       "6281        0.0920  ['Obie Trice', '50 Cent', 'Eminem']         0.713   \n",
       "6576        0.0507              ['Eminem', 'Nate Dogg']         0.963   \n",
       "6581        0.0337                           ['Eminem']         0.950   \n",
       "6648        0.0537                           ['Eminem']         0.619   \n",
       "\n",
       "      duration_ms  energy  explicit                      id  instrumentalness  \\\n",
       "6178       337760   0.774         1  1eAZcqDmiUE57YdeElYbMd          0.000002   \n",
       "6281       270747   0.517         1  0jRj0owDUMxxbmz2qkgtSC          0.000006   \n",
       "6576       274440   0.643         1  64649mwn5MP4gz1eIOAerx          0.000049   \n",
       "6581       284800   0.651         1  7Bi0aRtNAdchLnVBPjDrcx          0.000000   \n",
       "6648       281133   0.746         1  18TtVZgD09HpU7lUXR0kPI          0.000000   \n",
       "\n",
       "      key  liveness  loudness  mode                 name  popularity  \\\n",
       "6178    1    0.1890    -3.144     0             Renegade          41   \n",
       "6281    7    0.1340    -5.403     1              Love Me          42   \n",
       "6576    1    0.1570    -5.785     0           Shake That          48   \n",
       "6581    5    0.0424    -4.226     0  The Real Slim Shady          48   \n",
       "6648   10    0.2950    -5.479     0        When I'm Gone          48   \n",
       "\n",
       "     release_date  speechiness    tempo  valence  year  \n",
       "6178   2001-09-11       0.4470   77.621    0.820  2001  \n",
       "6281   2002-10-29       0.2370   80.986    0.267  2002  \n",
       "6576   2005-12-06       0.1170  107.005    0.534  2005  \n",
       "6581   2005-12-06       0.0547  104.495    0.777  2005  \n",
       "6648   2005-12-06       0.3600  149.944    0.757  2005  "
      ]
     },
     "execution_count": 207,
     "metadata": {},
     "output_type": "execute_result"
    }
   ],
   "source": [
    "df_eminem = df[df[\"artists\"].str.contains(\"Eminem\")]\n",
    "df_eminem.head()"
   ]
  },
  {
   "cell_type": "markdown",
   "metadata": {},
   "source": [
    "Il est possible de créer une série chronologique basée sur une Pandas dataframe. Une série chronologique est un ensemble de données dont les valeurs sont mesurées à différents moments. Avec Pandas, on peut facilement organiser, transformer, analyser et visualiser les données de séries chronologiques à n'importe quel niveau de granularité - en examinant les détails pendant des périodes d'intérêt spécifiques et en effectuant un zoom arrière pour explorer les variations à différentes échelles de temps, telles que des agrégations mensuelles ou annuelles, modèles récurrents et tendances à long terme.\n"
   ]
  },
  {
   "cell_type": "code",
   "execution_count": 208,
   "metadata": {},
   "outputs": [
    {
     "name": "stderr",
     "output_type": "stream",
     "text": [
      "/home/anass/.local/lib/python3.6/site-packages/ipykernel_launcher.py:2: SettingWithCopyWarning: \n",
      "A value is trying to be set on a copy of a slice from a DataFrame.\n",
      "Try using .loc[row_indexer,col_indexer] = value instead\n",
      "\n",
      "See the caveats in the documentation: https://pandas.pydata.org/pandas-docs/stable/user_guide/indexing.html#returning-a-view-versus-a-copy\n",
      "  \n"
     ]
    },
    {
     "data": {
      "text/plain": [
       "acousticness               float64\n",
       "artists                     object\n",
       "danceability               float64\n",
       "duration_ms                  int64\n",
       "energy                     float64\n",
       "explicit                     int64\n",
       "id                          object\n",
       "instrumentalness           float64\n",
       "key                          int64\n",
       "liveness                   float64\n",
       "loudness                   float64\n",
       "mode                         int64\n",
       "name                        object\n",
       "popularity                   int64\n",
       "release_date        datetime64[ns]\n",
       "speechiness                float64\n",
       "tempo                      float64\n",
       "valence                    float64\n",
       "year                         int64\n",
       "dtype: object"
      ]
     },
     "execution_count": 208,
     "metadata": {},
     "output_type": "execute_result"
    }
   ],
   "source": [
    "# convertir la colonne release_date en une date\n",
    "df_eminem[\"release_date\"] = pd.to_datetime(df_eminem[\"release_date\"])\n",
    "df_eminem.dtypes"
   ]
  },
  {
   "cell_type": "code",
   "execution_count": 209,
   "metadata": {
    "scrolled": true
   },
   "outputs": [
    {
     "data": {
      "text/html": [
       "<div>\n",
       "<style scoped>\n",
       "    .dataframe tbody tr th:only-of-type {\n",
       "        vertical-align: middle;\n",
       "    }\n",
       "\n",
       "    .dataframe tbody tr th {\n",
       "        vertical-align: top;\n",
       "    }\n",
       "\n",
       "    .dataframe thead th {\n",
       "        text-align: right;\n",
       "    }\n",
       "</style>\n",
       "<table border=\"1\" class=\"dataframe\">\n",
       "  <thead>\n",
       "    <tr style=\"text-align: right;\">\n",
       "      <th></th>\n",
       "      <th>acousticness</th>\n",
       "      <th>danceability</th>\n",
       "      <th>duration_ms</th>\n",
       "      <th>energy</th>\n",
       "      <th>explicit</th>\n",
       "      <th>instrumentalness</th>\n",
       "      <th>key</th>\n",
       "      <th>liveness</th>\n",
       "      <th>loudness</th>\n",
       "      <th>mode</th>\n",
       "      <th>popularity</th>\n",
       "      <th>speechiness</th>\n",
       "      <th>tempo</th>\n",
       "      <th>valence</th>\n",
       "      <th>year</th>\n",
       "    </tr>\n",
       "    <tr>\n",
       "      <th>release_date</th>\n",
       "      <th></th>\n",
       "      <th></th>\n",
       "      <th></th>\n",
       "      <th></th>\n",
       "      <th></th>\n",
       "      <th></th>\n",
       "      <th></th>\n",
       "      <th></th>\n",
       "      <th></th>\n",
       "      <th></th>\n",
       "      <th></th>\n",
       "      <th></th>\n",
       "      <th></th>\n",
       "      <th></th>\n",
       "      <th></th>\n",
       "    </tr>\n",
       "  </thead>\n",
       "  <tbody>\n",
       "    <tr>\n",
       "      <th>2020-03-27</th>\n",
       "      <td>0.354000</td>\n",
       "      <td>0.585000</td>\n",
       "      <td>261773.000000</td>\n",
       "      <td>0.594000</td>\n",
       "      <td>1.0</td>\n",
       "      <td>0.000054</td>\n",
       "      <td>9.000000</td>\n",
       "      <td>0.092100</td>\n",
       "      <td>-5.342000</td>\n",
       "      <td>1.000000</td>\n",
       "      <td>72.000000</td>\n",
       "      <td>0.332000</td>\n",
       "      <td>184.013000</td>\n",
       "      <td>0.138000</td>\n",
       "      <td>2020.0</td>\n",
       "    </tr>\n",
       "    <tr>\n",
       "      <th>2020-01-17</th>\n",
       "      <td>0.055621</td>\n",
       "      <td>0.752118</td>\n",
       "      <td>222890.176471</td>\n",
       "      <td>0.729529</td>\n",
       "      <td>1.0</td>\n",
       "      <td>0.000408</td>\n",
       "      <td>4.647059</td>\n",
       "      <td>0.317624</td>\n",
       "      <td>-5.084588</td>\n",
       "      <td>0.470588</td>\n",
       "      <td>71.588235</td>\n",
       "      <td>0.215747</td>\n",
       "      <td>128.641353</td>\n",
       "      <td>0.415012</td>\n",
       "      <td>2020.0</td>\n",
       "    </tr>\n",
       "    <tr>\n",
       "      <th>2019-07-12</th>\n",
       "      <td>0.135000</td>\n",
       "      <td>0.852000</td>\n",
       "      <td>207760.000000</td>\n",
       "      <td>0.666000</td>\n",
       "      <td>1.0</td>\n",
       "      <td>0.000000</td>\n",
       "      <td>11.000000</td>\n",
       "      <td>0.798000</td>\n",
       "      <td>-6.923000</td>\n",
       "      <td>0.000000</td>\n",
       "      <td>73.000000</td>\n",
       "      <td>0.184000</td>\n",
       "      <td>91.046000</td>\n",
       "      <td>0.726000</td>\n",
       "      <td>2019.0</td>\n",
       "    </tr>\n",
       "    <tr>\n",
       "      <th>2019-05-10</th>\n",
       "      <td>0.137000</td>\n",
       "      <td>0.694000</td>\n",
       "      <td>245387.000000</td>\n",
       "      <td>0.759000</td>\n",
       "      <td>1.0</td>\n",
       "      <td>0.000000</td>\n",
       "      <td>10.000000</td>\n",
       "      <td>0.167000</td>\n",
       "      <td>-5.667000</td>\n",
       "      <td>0.000000</td>\n",
       "      <td>75.000000</td>\n",
       "      <td>0.398000</td>\n",
       "      <td>140.055000</td>\n",
       "      <td>0.770000</td>\n",
       "      <td>2019.0</td>\n",
       "    </tr>\n",
       "    <tr>\n",
       "      <th>2019-05-03</th>\n",
       "      <td>0.145000</td>\n",
       "      <td>0.722000</td>\n",
       "      <td>245413.000000</td>\n",
       "      <td>0.764000</td>\n",
       "      <td>1.0</td>\n",
       "      <td>0.000000</td>\n",
       "      <td>10.000000</td>\n",
       "      <td>0.171000</td>\n",
       "      <td>-5.656000</td>\n",
       "      <td>0.000000</td>\n",
       "      <td>71.000000</td>\n",
       "      <td>0.398000</td>\n",
       "      <td>139.831000</td>\n",
       "      <td>0.796000</td>\n",
       "      <td>2019.0</td>\n",
       "    </tr>\n",
       "    <tr>\n",
       "      <th>2018-09-19</th>\n",
       "      <td>0.098900</td>\n",
       "      <td>0.892000</td>\n",
       "      <td>253580.000000</td>\n",
       "      <td>0.651000</td>\n",
       "      <td>1.0</td>\n",
       "      <td>0.000000</td>\n",
       "      <td>0.000000</td>\n",
       "      <td>0.371000</td>\n",
       "      <td>-8.645000</td>\n",
       "      <td>0.000000</td>\n",
       "      <td>74.000000</td>\n",
       "      <td>0.378000</td>\n",
       "      <td>105.814000</td>\n",
       "      <td>0.599000</td>\n",
       "      <td>2018.0</td>\n",
       "    </tr>\n",
       "    <tr>\n",
       "      <th>2018-08-31</th>\n",
       "      <td>0.108645</td>\n",
       "      <td>0.796000</td>\n",
       "      <td>242802.818182</td>\n",
       "      <td>0.688636</td>\n",
       "      <td>1.0</td>\n",
       "      <td>0.000000</td>\n",
       "      <td>5.000000</td>\n",
       "      <td>0.273591</td>\n",
       "      <td>-5.850000</td>\n",
       "      <td>0.818182</td>\n",
       "      <td>69.090909</td>\n",
       "      <td>0.297455</td>\n",
       "      <td>129.114636</td>\n",
       "      <td>0.522455</td>\n",
       "      <td>2018.0</td>\n",
       "    </tr>\n",
       "    <tr>\n",
       "      <th>2017-12-15</th>\n",
       "      <td>0.151000</td>\n",
       "      <td>0.816000</td>\n",
       "      <td>268180.000000</td>\n",
       "      <td>0.620500</td>\n",
       "      <td>1.0</td>\n",
       "      <td>0.000000</td>\n",
       "      <td>4.500000</td>\n",
       "      <td>0.215150</td>\n",
       "      <td>-5.629500</td>\n",
       "      <td>0.000000</td>\n",
       "      <td>69.000000</td>\n",
       "      <td>0.314000</td>\n",
       "      <td>110.081000</td>\n",
       "      <td>0.384500</td>\n",
       "      <td>2017.0</td>\n",
       "    </tr>\n",
       "    <tr>\n",
       "      <th>2017-02-03</th>\n",
       "      <td>0.629000</td>\n",
       "      <td>0.482000</td>\n",
       "      <td>325840.000000</td>\n",
       "      <td>0.781000</td>\n",
       "      <td>1.0</td>\n",
       "      <td>0.000003</td>\n",
       "      <td>11.000000</td>\n",
       "      <td>0.413000</td>\n",
       "      <td>-5.334000</td>\n",
       "      <td>1.000000</td>\n",
       "      <td>60.000000</td>\n",
       "      <td>0.411000</td>\n",
       "      <td>57.967000</td>\n",
       "      <td>0.336000</td>\n",
       "      <td>2017.0</td>\n",
       "    </tr>\n",
       "    <tr>\n",
       "      <th>2015-10-11</th>\n",
       "      <td>0.067300</td>\n",
       "      <td>0.460000</td>\n",
       "      <td>263693.000000</td>\n",
       "      <td>0.628000</td>\n",
       "      <td>1.0</td>\n",
       "      <td>0.000000</td>\n",
       "      <td>0.000000</td>\n",
       "      <td>0.093400</td>\n",
       "      <td>-6.665000</td>\n",
       "      <td>0.000000</td>\n",
       "      <td>59.000000</td>\n",
       "      <td>0.225000</td>\n",
       "      <td>111.156000</td>\n",
       "      <td>0.354000</td>\n",
       "      <td>2015.0</td>\n",
       "    </tr>\n",
       "  </tbody>\n",
       "</table>\n",
       "</div>"
      ],
      "text/plain": [
       "              acousticness  danceability    duration_ms    energy  explicit  \\\n",
       "release_date                                                                  \n",
       "2020-03-27        0.354000      0.585000  261773.000000  0.594000       1.0   \n",
       "2020-01-17        0.055621      0.752118  222890.176471  0.729529       1.0   \n",
       "2019-07-12        0.135000      0.852000  207760.000000  0.666000       1.0   \n",
       "2019-05-10        0.137000      0.694000  245387.000000  0.759000       1.0   \n",
       "2019-05-03        0.145000      0.722000  245413.000000  0.764000       1.0   \n",
       "2018-09-19        0.098900      0.892000  253580.000000  0.651000       1.0   \n",
       "2018-08-31        0.108645      0.796000  242802.818182  0.688636       1.0   \n",
       "2017-12-15        0.151000      0.816000  268180.000000  0.620500       1.0   \n",
       "2017-02-03        0.629000      0.482000  325840.000000  0.781000       1.0   \n",
       "2015-10-11        0.067300      0.460000  263693.000000  0.628000       1.0   \n",
       "\n",
       "              instrumentalness        key  liveness  loudness      mode  \\\n",
       "release_date                                                              \n",
       "2020-03-27            0.000054   9.000000  0.092100 -5.342000  1.000000   \n",
       "2020-01-17            0.000408   4.647059  0.317624 -5.084588  0.470588   \n",
       "2019-07-12            0.000000  11.000000  0.798000 -6.923000  0.000000   \n",
       "2019-05-10            0.000000  10.000000  0.167000 -5.667000  0.000000   \n",
       "2019-05-03            0.000000  10.000000  0.171000 -5.656000  0.000000   \n",
       "2018-09-19            0.000000   0.000000  0.371000 -8.645000  0.000000   \n",
       "2018-08-31            0.000000   5.000000  0.273591 -5.850000  0.818182   \n",
       "2017-12-15            0.000000   4.500000  0.215150 -5.629500  0.000000   \n",
       "2017-02-03            0.000003  11.000000  0.413000 -5.334000  1.000000   \n",
       "2015-10-11            0.000000   0.000000  0.093400 -6.665000  0.000000   \n",
       "\n",
       "              popularity  speechiness       tempo   valence    year  \n",
       "release_date                                                         \n",
       "2020-03-27     72.000000     0.332000  184.013000  0.138000  2020.0  \n",
       "2020-01-17     71.588235     0.215747  128.641353  0.415012  2020.0  \n",
       "2019-07-12     73.000000     0.184000   91.046000  0.726000  2019.0  \n",
       "2019-05-10     75.000000     0.398000  140.055000  0.770000  2019.0  \n",
       "2019-05-03     71.000000     0.398000  139.831000  0.796000  2019.0  \n",
       "2018-09-19     74.000000     0.378000  105.814000  0.599000  2018.0  \n",
       "2018-08-31     69.090909     0.297455  129.114636  0.522455  2018.0  \n",
       "2017-12-15     69.000000     0.314000  110.081000  0.384500  2017.0  \n",
       "2017-02-03     60.000000     0.411000   57.967000  0.336000  2017.0  \n",
       "2015-10-11     59.000000     0.225000  111.156000  0.354000  2015.0  "
      ]
     },
     "execution_count": 209,
     "metadata": {},
     "output_type": "execute_result"
    }
   ],
   "source": [
    "# Créer une nouvelle dataframe calculant la moyenne des variables de l'artiste selon release_date et ordonner les par dates\n",
    "df_agg_eminem = df_eminem.groupby([\"release_date\"]).mean().sort_values(by='release_date', ascending=False)\n",
    "df_agg_eminem.head(10)"
   ]
  },
  {
   "cell_type": "code",
   "execution_count": 210,
   "metadata": {},
   "outputs": [],
   "source": [
    "# Créer votre graphe en précisant que le type de l'axe x est une date  \n",
    "p = figure(x_axis_type=\"datetime\", title=\"la moyenne de popularité des artistes selon release_date\", plot_height=800, plot_width=800)\n",
    "p.xgrid.grid_line_color=None\n",
    "p.ygrid.grid_line_alpha=0.5\n",
    "p.xaxis.axis_label = 'release_date'\n",
    "p.yaxis.axis_label = 'popularity'"
   ]
  },
  {
   "cell_type": "code",
   "execution_count": 211,
   "metadata": {},
   "outputs": [
    {
     "data": {
      "text/html": [
       "<div style=\"display: table;\"><div style=\"display: table-row;\"><div style=\"display: table-cell;\"><b title=\"bokeh.models.renderers.GlyphRenderer\">GlyphRenderer</b>(</div><div style=\"display: table-cell;\">id&nbsp;=&nbsp;'6691', <span id=\"6694\" style=\"cursor: pointer;\">&hellip;)</span></div></div><div class=\"6693\" style=\"display: none;\"><div style=\"display: table-cell;\"></div><div style=\"display: table-cell;\">data_source&nbsp;=&nbsp;ColumnDataSource(id='6688', ...),</div></div><div class=\"6693\" style=\"display: none;\"><div style=\"display: table-cell;\"></div><div style=\"display: table-cell;\">glyph&nbsp;=&nbsp;Line(id='6689', ...),</div></div><div class=\"6693\" style=\"display: none;\"><div style=\"display: table-cell;\"></div><div style=\"display: table-cell;\">hover_glyph&nbsp;=&nbsp;None,</div></div><div class=\"6693\" style=\"display: none;\"><div style=\"display: table-cell;\"></div><div style=\"display: table-cell;\">js_event_callbacks&nbsp;=&nbsp;{},</div></div><div class=\"6693\" style=\"display: none;\"><div style=\"display: table-cell;\"></div><div style=\"display: table-cell;\">js_property_callbacks&nbsp;=&nbsp;{},</div></div><div class=\"6693\" style=\"display: none;\"><div style=\"display: table-cell;\"></div><div style=\"display: table-cell;\">level&nbsp;=&nbsp;'glyph',</div></div><div class=\"6693\" style=\"display: none;\"><div style=\"display: table-cell;\"></div><div style=\"display: table-cell;\">muted&nbsp;=&nbsp;False,</div></div><div class=\"6693\" style=\"display: none;\"><div style=\"display: table-cell;\"></div><div style=\"display: table-cell;\">muted_glyph&nbsp;=&nbsp;None,</div></div><div class=\"6693\" style=\"display: none;\"><div style=\"display: table-cell;\"></div><div style=\"display: table-cell;\">name&nbsp;=&nbsp;None,</div></div><div class=\"6693\" style=\"display: none;\"><div style=\"display: table-cell;\"></div><div style=\"display: table-cell;\">nonselection_glyph&nbsp;=&nbsp;Line(id='6690', ...),</div></div><div class=\"6693\" style=\"display: none;\"><div style=\"display: table-cell;\"></div><div style=\"display: table-cell;\">selection_glyph&nbsp;=&nbsp;None,</div></div><div class=\"6693\" style=\"display: none;\"><div style=\"display: table-cell;\"></div><div style=\"display: table-cell;\">subscribed_events&nbsp;=&nbsp;[],</div></div><div class=\"6693\" style=\"display: none;\"><div style=\"display: table-cell;\"></div><div style=\"display: table-cell;\">tags&nbsp;=&nbsp;[],</div></div><div class=\"6693\" style=\"display: none;\"><div style=\"display: table-cell;\"></div><div style=\"display: table-cell;\">view&nbsp;=&nbsp;CDSView(id='6692', ...),</div></div><div class=\"6693\" style=\"display: none;\"><div style=\"display: table-cell;\"></div><div style=\"display: table-cell;\">visible&nbsp;=&nbsp;True,</div></div><div class=\"6693\" style=\"display: none;\"><div style=\"display: table-cell;\"></div><div style=\"display: table-cell;\">x_range_name&nbsp;=&nbsp;'default',</div></div><div class=\"6693\" style=\"display: none;\"><div style=\"display: table-cell;\"></div><div style=\"display: table-cell;\">y_range_name&nbsp;=&nbsp;'default')</div></div></div>\n",
       "<script>\n",
       "(function() {\n",
       "  var expanded = false;\n",
       "  var ellipsis = document.getElementById(\"6694\");\n",
       "  ellipsis.addEventListener(\"click\", function() {\n",
       "    var rows = document.getElementsByClassName(\"6693\");\n",
       "    for (var i = 0; i < rows.length; i++) {\n",
       "      var el = rows[i];\n",
       "      el.style.display = expanded ? \"none\" : \"table-row\";\n",
       "    }\n",
       "    ellipsis.innerHTML = expanded ? \"&hellip;)\" : \"&lsaquo;&lsaquo;&lsaquo;\";\n",
       "    expanded = !expanded;\n",
       "  });\n",
       "})();\n",
       "</script>\n"
      ],
      "text/plain": [
       "GlyphRenderer(id='6691', ...)"
      ]
     },
     "execution_count": 211,
     "metadata": {},
     "output_type": "execute_result"
    }
   ],
   "source": [
    "# Créer un graphe Line avec les données ordonnées de popularité par release_date\n",
    "p.line(df_agg_eminem.index, df_agg_eminem.popularity )"
   ]
  },
  {
   "cell_type": "code",
   "execution_count": 212,
   "metadata": {},
   "outputs": [
    {
     "data": {
      "text/html": [
       "<div style=\"display: table;\"><div style=\"display: table-row;\"><div style=\"display: table-cell;\"><b title=\"bokeh.models.renderers.GlyphRenderer\">GlyphRenderer</b>(</div><div style=\"display: table-cell;\">id&nbsp;=&nbsp;'6698', <span id=\"6701\" style=\"cursor: pointer;\">&hellip;)</span></div></div><div class=\"6700\" style=\"display: none;\"><div style=\"display: table-cell;\"></div><div style=\"display: table-cell;\">data_source&nbsp;=&nbsp;ColumnDataSource(id='6695', ...),</div></div><div class=\"6700\" style=\"display: none;\"><div style=\"display: table-cell;\"></div><div style=\"display: table-cell;\">glyph&nbsp;=&nbsp;Circle(id='6696', ...),</div></div><div class=\"6700\" style=\"display: none;\"><div style=\"display: table-cell;\"></div><div style=\"display: table-cell;\">hover_glyph&nbsp;=&nbsp;None,</div></div><div class=\"6700\" style=\"display: none;\"><div style=\"display: table-cell;\"></div><div style=\"display: table-cell;\">js_event_callbacks&nbsp;=&nbsp;{},</div></div><div class=\"6700\" style=\"display: none;\"><div style=\"display: table-cell;\"></div><div style=\"display: table-cell;\">js_property_callbacks&nbsp;=&nbsp;{},</div></div><div class=\"6700\" style=\"display: none;\"><div style=\"display: table-cell;\"></div><div style=\"display: table-cell;\">level&nbsp;=&nbsp;'glyph',</div></div><div class=\"6700\" style=\"display: none;\"><div style=\"display: table-cell;\"></div><div style=\"display: table-cell;\">muted&nbsp;=&nbsp;False,</div></div><div class=\"6700\" style=\"display: none;\"><div style=\"display: table-cell;\"></div><div style=\"display: table-cell;\">muted_glyph&nbsp;=&nbsp;None,</div></div><div class=\"6700\" style=\"display: none;\"><div style=\"display: table-cell;\"></div><div style=\"display: table-cell;\">name&nbsp;=&nbsp;None,</div></div><div class=\"6700\" style=\"display: none;\"><div style=\"display: table-cell;\"></div><div style=\"display: table-cell;\">nonselection_glyph&nbsp;=&nbsp;Circle(id='6697', ...),</div></div><div class=\"6700\" style=\"display: none;\"><div style=\"display: table-cell;\"></div><div style=\"display: table-cell;\">selection_glyph&nbsp;=&nbsp;None,</div></div><div class=\"6700\" style=\"display: none;\"><div style=\"display: table-cell;\"></div><div style=\"display: table-cell;\">subscribed_events&nbsp;=&nbsp;[],</div></div><div class=\"6700\" style=\"display: none;\"><div style=\"display: table-cell;\"></div><div style=\"display: table-cell;\">tags&nbsp;=&nbsp;[],</div></div><div class=\"6700\" style=\"display: none;\"><div style=\"display: table-cell;\"></div><div style=\"display: table-cell;\">view&nbsp;=&nbsp;CDSView(id='6699', ...),</div></div><div class=\"6700\" style=\"display: none;\"><div style=\"display: table-cell;\"></div><div style=\"display: table-cell;\">visible&nbsp;=&nbsp;True,</div></div><div class=\"6700\" style=\"display: none;\"><div style=\"display: table-cell;\"></div><div style=\"display: table-cell;\">x_range_name&nbsp;=&nbsp;'default',</div></div><div class=\"6700\" style=\"display: none;\"><div style=\"display: table-cell;\"></div><div style=\"display: table-cell;\">y_range_name&nbsp;=&nbsp;'default')</div></div></div>\n",
       "<script>\n",
       "(function() {\n",
       "  var expanded = false;\n",
       "  var ellipsis = document.getElementById(\"6701\");\n",
       "  ellipsis.addEventListener(\"click\", function() {\n",
       "    var rows = document.getElementsByClassName(\"6700\");\n",
       "    for (var i = 0; i < rows.length; i++) {\n",
       "      var el = rows[i];\n",
       "      el.style.display = expanded ? \"none\" : \"table-row\";\n",
       "    }\n",
       "    ellipsis.innerHTML = expanded ? \"&hellip;)\" : \"&lsaquo;&lsaquo;&lsaquo;\";\n",
       "    expanded = !expanded;\n",
       "  });\n",
       "})();\n",
       "</script>\n"
      ],
      "text/plain": [
       "GlyphRenderer(id='6698', ...)"
      ]
     },
     "execution_count": 212,
     "metadata": {},
     "output_type": "execute_result"
    }
   ],
   "source": [
    "# Ajouter un glyph circle permettant de mieux visualiser les datapoints sur le graphe Line\n",
    "p.circle(df_agg_eminem.index, df_agg_eminem.popularity, size=10, fill_color=\"orange\", fill_alpha=0.5)"
   ]
  },
  {
   "cell_type": "code",
   "execution_count": 213,
   "metadata": {},
   "outputs": [
    {
     "data": {
      "text/html": [
       "\n",
       "\n",
       "\n",
       "\n",
       "\n",
       "\n",
       "  <div class=\"bk-root\" id=\"446e6584-f903-4cc0-a146-47c47bc8ae53\" data-root-id=\"6655\"></div>\n"
      ]
     },
     "metadata": {},
     "output_type": "display_data"
    },
    {
     "data": {
      "application/javascript": [
       "(function(root) {\n",
       "  function embed_document(root) {\n",
       "    \n",
       "  var docs_json = {\"577ea2ef-c3d4-443a-9950-b61fdfc937b2\":{\"roots\":{\"references\":[{\"attributes\":{\"below\":[{\"id\":\"6666\"}],\"center\":[{\"id\":\"6669\"},{\"id\":\"6673\"}],\"left\":[{\"id\":\"6670\"}],\"plot_height\":800,\"plot_width\":800,\"renderers\":[{\"id\":\"6691\"},{\"id\":\"6698\"}],\"title\":{\"id\":\"6656\"},\"toolbar\":{\"id\":\"6681\"},\"x_range\":{\"id\":\"6658\"},\"x_scale\":{\"id\":\"6662\"},\"y_range\":{\"id\":\"6660\"},\"y_scale\":{\"id\":\"6664\"}},\"id\":\"6655\",\"subtype\":\"Figure\",\"type\":\"Plot\"},{\"attributes\":{\"source\":{\"id\":\"6688\"}},\"id\":\"6692\",\"type\":\"CDSView\"},{\"attributes\":{\"base\":60,\"mantissas\":[1,2,5,10,15,20,30],\"max_interval\":1800000.0,\"min_interval\":1000.0,\"num_minor_ticks\":0},\"id\":\"6905\",\"type\":\"AdaptiveTicker\"},{\"attributes\":{\"mantissas\":[1,2,5],\"max_interval\":500.0,\"num_minor_ticks\":0},\"id\":\"6904\",\"type\":\"AdaptiveTicker\"},{\"attributes\":{\"fill_alpha\":{\"value\":0.5},\"fill_color\":{\"value\":\"orange\"},\"line_color\":{\"value\":\"#1f77b4\"},\"size\":{\"units\":\"screen\",\"value\":10},\"x\":{\"field\":\"x\"},\"y\":{\"field\":\"y\"}},\"id\":\"6696\",\"type\":\"Circle\"},{\"attributes\":{\"fill_alpha\":{\"value\":0.1},\"fill_color\":{\"value\":\"orange\"},\"line_alpha\":{\"value\":0.1},\"line_color\":{\"value\":\"#1f77b4\"},\"size\":{\"units\":\"screen\",\"value\":10},\"x\":{\"field\":\"x\"},\"y\":{\"field\":\"y\"}},\"id\":\"6697\",\"type\":\"Circle\"},{\"attributes\":{\"days\":[1,2,3,4,5,6,7,8,9,10,11,12,13,14,15,16,17,18,19,20,21,22,23,24,25,26,27,28,29,30,31]},\"id\":\"6907\",\"type\":\"DaysTicker\"},{\"attributes\":{\"base\":24,\"mantissas\":[1,2,4,6,8,12],\"max_interval\":43200000.0,\"min_interval\":3600000.0,\"num_minor_ticks\":0},\"id\":\"6906\",\"type\":\"AdaptiveTicker\"},{\"attributes\":{\"num_minor_ticks\":5,\"tickers\":[{\"id\":\"6904\"},{\"id\":\"6905\"},{\"id\":\"6906\"},{\"id\":\"6907\"},{\"id\":\"6908\"},{\"id\":\"6909\"},{\"id\":\"6910\"},{\"id\":\"6911\"},{\"id\":\"6912\"},{\"id\":\"6913\"},{\"id\":\"6914\"},{\"id\":\"6915\"}]},\"id\":\"6667\",\"type\":\"DatetimeTicker\"},{\"attributes\":{\"data\":{\"x\":{\"__ndarray__\":\"AAAAnZQRd0IAAIDKDPt2QgAAwKs3vnZCAACAofCpdkIAAEDZr6d2QgAAwAXyXnZCAACAeNRYdkIAAECHdwV2QgAAAFQUoHVCAABAJkMFdUIAAADA1et0QgAAQI7D0XRCAACAY5TNdEIAAICQ8Z10QgAAQGWngHRCAACA8FgidEIAAICFNr9zQgAAAA1pSXNCAACATOjdckIAAED67dNyQgAAwKSPy3JCAABAFA7HckIAAMCxH8VyQgAAgK2FlHJCAACAAsmDckIAAIDncl5yQgAAQBcZFHJCAADA1PfocUIAAACt0zFxQgAAwFP2EXFCAACAKKz0cEIAAMA2NIhwQgAAQOHVf3BCAAAAU4JHcEIAAMBiWyZwQgAAACS5EnBCAACARKECcEIAAABX1zlvQgAAgM8NZm5CAACAMeFObkIAAIBRriVuQgAAgA+oE25CAACAT0LBbUIAAAAM62NtQgAAAATSG21CAAAAomfpa0IAAIAXk8hrQgAAgGS9b2tCAACA8YHEakIAAADQY6JqQgAAgKptt2lCAAAAxkesaEI=\",\"dtype\":\"float64\",\"order\":\"little\",\"shape\":[52]},\"y\":{\"__ndarray__\":\"AAAAAAAAUkCmpaWlpeVRQAAAAAAAQFJAAAAAAADAUkAAAAAAAMBRQAAAAAAAgFJARhdddNFFUUAAAAAAAEBRQAAAAAAAAE5AAAAAAACATUAAAAAAAABPQAAAAAAAgE1AAAAAAACAT0AAAAAAAABMQAAAAAAAgEpAHMdxHMexTUAAAAAAAMBQQAAAAAAAAEtAAAAAAADAUUAAAAAAAIBGQAAAAAAAAFFAAAAAAAAARkAAAAAAAIBNQPHw8PDwcE9AAAAAAACATkAAAAAAAABKQI2w3NMIy0pAAAAAAADgSkAAAAAAAIBGQAAAAAAAgEhAVVVVVVXVSUAAAAAAAIBNQOsGU+Sz7klAAAAAAACAT0AAAAAAAABJQAAAAAAAgElAAAAAAACASkAAAAAAAEBIQAAAAAAAQElAAAAAAACAS0AAAAAAAEBHQAAAAAAAgElAMzMzMzOTTkAAAAAAAABHQAAAAAAAgEhAx3Ecx3EcTUAAAAAAAABJQAAAAAAAgE5AuYKYXEHMSEAAAAAAAABJQAAAAAAAgEBAAAAAAAAATEA=\",\"dtype\":\"float64\",\"order\":\"little\",\"shape\":[52]}},\"selected\":{\"id\":\"6902\"},\"selection_policy\":{\"id\":\"6901\"}},\"id\":\"6695\",\"type\":\"ColumnDataSource\"},{\"attributes\":{\"axis_label\":\"popularity\",\"formatter\":{\"id\":\"6895\"},\"ticker\":{\"id\":\"6671\"}},\"id\":\"6670\",\"type\":\"LinearAxis\"},{\"attributes\":{\"axis_label\":\"release_date\",\"formatter\":{\"id\":\"6897\"},\"ticker\":{\"id\":\"6667\"}},\"id\":\"6666\",\"type\":\"DatetimeAxis\"},{\"attributes\":{\"line_alpha\":0.1,\"line_color\":\"#1f77b4\",\"x\":{\"field\":\"x\"},\"y\":{\"field\":\"y\"}},\"id\":\"6690\",\"type\":\"Line\"},{\"attributes\":{},\"id\":\"6671\",\"type\":\"BasicTicker\"},{\"attributes\":{},\"id\":\"6900\",\"type\":\"Selection\"},{\"attributes\":{},\"id\":\"6901\",\"type\":\"UnionRenderers\"},{\"attributes\":{\"axis\":{\"id\":\"6670\"},\"dimension\":1,\"grid_line_alpha\":0.5,\"ticker\":null},\"id\":\"6673\",\"type\":\"Grid\"},{\"attributes\":{\"days\":[1,8,15,22]},\"id\":\"6909\",\"type\":\"DaysTicker\"},{\"attributes\":{\"data\":{\"x\":{\"__ndarray__\":\"AAAAnZQRd0IAAIDKDPt2QgAAwKs3vnZCAACAofCpdkIAAEDZr6d2QgAAwAXyXnZCAACAeNRYdkIAAECHdwV2QgAAAFQUoHVCAABAJkMFdUIAAADA1et0QgAAQI7D0XRCAACAY5TNdEIAAICQ8Z10QgAAQGWngHRCAACA8FgidEIAAICFNr9zQgAAAA1pSXNCAACATOjdckIAAED67dNyQgAAwKSPy3JCAABAFA7HckIAAMCxH8VyQgAAgK2FlHJCAACAAsmDckIAAIDncl5yQgAAQBcZFHJCAADA1PfocUIAAACt0zFxQgAAwFP2EXFCAACAKKz0cEIAAMA2NIhwQgAAQOHVf3BCAAAAU4JHcEIAAMBiWyZwQgAAACS5EnBCAACARKECcEIAAABX1zlvQgAAgM8NZm5CAACAMeFObkIAAIBRriVuQgAAgA+oE25CAACAT0LBbUIAAAAM62NtQgAAAATSG21CAAAAomfpa0IAAIAXk8hrQgAAgGS9b2tCAACA8YHEakIAAADQY6JqQgAAgKptt2lCAAAAxkesaEI=\",\"dtype\":\"float64\",\"order\":\"little\",\"shape\":[52]},\"y\":{\"__ndarray__\":\"AAAAAAAAUkCmpaWlpeVRQAAAAAAAQFJAAAAAAADAUkAAAAAAAMBRQAAAAAAAgFJARhdddNFFUUAAAAAAAEBRQAAAAAAAAE5AAAAAAACATUAAAAAAAABPQAAAAAAAgE1AAAAAAACAT0AAAAAAAABMQAAAAAAAgEpAHMdxHMexTUAAAAAAAMBQQAAAAAAAAEtAAAAAAADAUUAAAAAAAIBGQAAAAAAAAFFAAAAAAAAARkAAAAAAAIBNQPHw8PDwcE9AAAAAAACATkAAAAAAAABKQI2w3NMIy0pAAAAAAADgSkAAAAAAAIBGQAAAAAAAgEhAVVVVVVXVSUAAAAAAAIBNQOsGU+Sz7klAAAAAAACAT0AAAAAAAABJQAAAAAAAgElAAAAAAACASkAAAAAAAEBIQAAAAAAAQElAAAAAAACAS0AAAAAAAEBHQAAAAAAAgElAMzMzMzOTTkAAAAAAAABHQAAAAAAAgEhAx3Ecx3EcTUAAAAAAAABJQAAAAAAAgE5AuYKYXEHMSEAAAAAAAABJQAAAAAAAgEBAAAAAAAAATEA=\",\"dtype\":\"float64\",\"order\":\"little\",\"shape\":[52]}},\"selected\":{\"id\":\"6900\"},\"selection_policy\":{\"id\":\"6899\"}},\"id\":\"6688\",\"type\":\"ColumnDataSource\"},{\"attributes\":{\"months\":[0,6]},\"id\":\"6914\",\"type\":\"MonthsTicker\"},{\"attributes\":{\"months\":[0,4,8]},\"id\":\"6913\",\"type\":\"MonthsTicker\"},{\"attributes\":{\"bottom_units\":\"screen\",\"fill_alpha\":0.5,\"fill_color\":\"lightgrey\",\"left_units\":\"screen\",\"level\":\"overlay\",\"line_alpha\":1.0,\"line_color\":\"black\",\"line_dash\":[4,4],\"line_width\":2,\"right_units\":\"screen\",\"top_units\":\"screen\"},\"id\":\"6680\",\"type\":\"BoxAnnotation\"},{\"attributes\":{\"months\":[0,2,4,6,8,10]},\"id\":\"6912\",\"type\":\"MonthsTicker\"},{\"attributes\":{\"months\":[0,1,2,3,4,5,6,7,8,9,10,11]},\"id\":\"6911\",\"type\":\"MonthsTicker\"},{\"attributes\":{},\"id\":\"6674\",\"type\":\"PanTool\"},{\"attributes\":{\"axis\":{\"id\":\"6666\"},\"grid_line_color\":null,\"ticker\":null},\"id\":\"6669\",\"type\":\"Grid\"},{\"attributes\":{},\"id\":\"6675\",\"type\":\"WheelZoomTool\"},{\"attributes\":{\"days\":[1,4,7,10,13,16,19,22,25,28]},\"id\":\"6908\",\"type\":\"DaysTicker\"},{\"attributes\":{},\"id\":\"6902\",\"type\":\"Selection\"},{\"attributes\":{\"overlay\":{\"id\":\"6680\"}},\"id\":\"6676\",\"type\":\"BoxZoomTool\"},{\"attributes\":{\"data_source\":{\"id\":\"6688\"},\"glyph\":{\"id\":\"6689\"},\"hover_glyph\":null,\"muted_glyph\":null,\"nonselection_glyph\":{\"id\":\"6690\"},\"selection_glyph\":null,\"view\":{\"id\":\"6692\"}},\"id\":\"6691\",\"type\":\"GlyphRenderer\"},{\"attributes\":{},\"id\":\"6677\",\"type\":\"SaveTool\"},{\"attributes\":{\"data_source\":{\"id\":\"6695\"},\"glyph\":{\"id\":\"6696\"},\"hover_glyph\":null,\"muted_glyph\":null,\"nonselection_glyph\":{\"id\":\"6697\"},\"selection_glyph\":null,\"view\":{\"id\":\"6699\"}},\"id\":\"6698\",\"type\":\"GlyphRenderer\"},{\"attributes\":{},\"id\":\"6658\",\"type\":\"DataRange1d\"},{\"attributes\":{},\"id\":\"6678\",\"type\":\"ResetTool\"},{\"attributes\":{},\"id\":\"6660\",\"type\":\"DataRange1d\"},{\"attributes\":{},\"id\":\"6679\",\"type\":\"HelpTool\"},{\"attributes\":{},\"id\":\"6662\",\"type\":\"LinearScale\"},{\"attributes\":{},\"id\":\"6664\",\"type\":\"LinearScale\"},{\"attributes\":{},\"id\":\"6897\",\"type\":\"DatetimeTickFormatter\"},{\"attributes\":{},\"id\":\"6915\",\"type\":\"YearsTicker\"},{\"attributes\":{\"source\":{\"id\":\"6695\"}},\"id\":\"6699\",\"type\":\"CDSView\"},{\"attributes\":{\"days\":[1,15]},\"id\":\"6910\",\"type\":\"DaysTicker\"},{\"attributes\":{\"active_drag\":\"auto\",\"active_inspect\":\"auto\",\"active_multi\":null,\"active_scroll\":\"auto\",\"active_tap\":\"auto\",\"tools\":[{\"id\":\"6674\"},{\"id\":\"6675\"},{\"id\":\"6676\"},{\"id\":\"6677\"},{\"id\":\"6678\"},{\"id\":\"6679\"}]},\"id\":\"6681\",\"type\":\"Toolbar\"},{\"attributes\":{\"text\":\"la moyenne de popularit\\u00e9 des artistes selon release_date\"},\"id\":\"6656\",\"type\":\"Title\"},{\"attributes\":{},\"id\":\"6899\",\"type\":\"UnionRenderers\"},{\"attributes\":{\"line_color\":\"#1f77b4\",\"x\":{\"field\":\"x\"},\"y\":{\"field\":\"y\"}},\"id\":\"6689\",\"type\":\"Line\"},{\"attributes\":{},\"id\":\"6895\",\"type\":\"BasicTickFormatter\"}],\"root_ids\":[\"6655\"]},\"title\":\"Bokeh Application\",\"version\":\"2.2.3\"}};\n",
       "  var render_items = [{\"docid\":\"577ea2ef-c3d4-443a-9950-b61fdfc937b2\",\"root_ids\":[\"6655\"],\"roots\":{\"6655\":\"446e6584-f903-4cc0-a146-47c47bc8ae53\"}}];\n",
       "  root.Bokeh.embed.embed_items_notebook(docs_json, render_items);\n",
       "\n",
       "  }\n",
       "  if (root.Bokeh !== undefined) {\n",
       "    embed_document(root);\n",
       "  } else {\n",
       "    var attempts = 0;\n",
       "    var timer = setInterval(function(root) {\n",
       "      if (root.Bokeh !== undefined) {\n",
       "        clearInterval(timer);\n",
       "        embed_document(root);\n",
       "      } else {\n",
       "        attempts++;\n",
       "        if (attempts > 100) {\n",
       "          clearInterval(timer);\n",
       "          console.log(\"Bokeh: ERROR: Unable to run BokehJS code because BokehJS library is missing\");\n",
       "        }\n",
       "      }\n",
       "    }, 10, root)\n",
       "  }\n",
       "})(window);"
      ],
      "application/vnd.bokehjs_exec.v0+json": ""
     },
     "metadata": {
      "application/vnd.bokehjs_exec.v0+json": {
       "id": "6655"
      }
     },
     "output_type": "display_data"
    }
   ],
   "source": [
    "# Afficher le graphe\n",
    "show(p)"
   ]
  },
  {
   "cell_type": "markdown",
   "metadata": {},
   "source": [
    "<br> Pour des graphes plus complexes, transmettre les données d'un Dataframe aux glyphs devient compliqué. Bokeh procure un objet \"ColumnDataSource\" pour lier la dataframe au glyph et mapper les noms des colonnes aux données, facilitant ainsi la référence des éléments de données lors de la construction de la visualisation. Une fois créée, une ColumnDataSource peut être transmise aux méthodes glyph via le paramètre \"source\".\n",
    "\n",
    "Revenons à notre graph Line. On voudrait afficher la popularité d'un autre artiste sur le même graphe. On utilisera la fonction add_glyph de Bokeh, ainsi qu'une ColumnDataSource.  \n"
   ]
  },
  {
   "cell_type": "code",
   "execution_count": 214,
   "metadata": {},
   "outputs": [],
   "source": [
    "from bokeh.models import ColumnDataSource"
   ]
  },
  {
   "cell_type": "code",
   "execution_count": 215,
   "metadata": {},
   "outputs": [
    {
     "name": "stderr",
     "output_type": "stream",
     "text": [
      "/home/anass/.local/lib/python3.6/site-packages/ipykernel_launcher.py:3: SettingWithCopyWarning: \n",
      "A value is trying to be set on a copy of a slice from a DataFrame.\n",
      "Try using .loc[row_indexer,col_indexer] = value instead\n",
      "\n",
      "See the caveats in the documentation: https://pandas.pydata.org/pandas-docs/stable/user_guide/indexing.html#returning-a-view-versus-a-copy\n",
      "  This is separate from the ipykernel package so we can avoid doing imports until\n"
     ]
    }
   ],
   "source": [
    "# Créer une ColumnDataSource qui filtre votre dataset sur un artiste comparable à celui déjà choisi (release_date des pistes dans des périodes similaires)\n",
    "df_rihanna = df[df[\"artists\"].str.contains(\"Rihanna\")]\n",
    "df_rihanna[\"release_date\"] = pd.to_datetime(df_rihanna[\"release_date\"])\n",
    "df_agg_rihanna = df_rihanna.groupby([\"release_date\"]).mean().sort_values(by='release_date', ascending=False)\n",
    "cds = ColumnDataSource(df_agg_rihanna)"
   ]
  },
  {
   "cell_type": "code",
   "execution_count": 216,
   "metadata": {},
   "outputs": [],
   "source": [
    "from bokeh.models.glyphs import Line"
   ]
  },
  {
   "cell_type": "code",
   "execution_count": 217,
   "metadata": {},
   "outputs": [],
   "source": [
    "# Créer un graphe Line qui prend release_date dans x_axis et popularité dans y_axis. Choisir une couleur pour la ligne.\n",
    "line = Line(x='release_date',y='popularity', line_color='green')"
   ]
  },
  {
   "cell_type": "code",
   "execution_count": 218,
   "metadata": {},
   "outputs": [
    {
     "data": {
      "text/html": [
       "<div style=\"display: table;\"><div style=\"display: table-row;\"><div style=\"display: table-cell;\"><b title=\"bokeh.models.renderers.GlyphRenderer\">GlyphRenderer</b>(</div><div style=\"display: table-cell;\">id&nbsp;=&nbsp;'7028', <span id=\"7247\" style=\"cursor: pointer;\">&hellip;)</span></div></div><div class=\"7246\" style=\"display: none;\"><div style=\"display: table-cell;\"></div><div style=\"display: table-cell;\">data_source&nbsp;=&nbsp;ColumnDataSource(id='7026', ...),</div></div><div class=\"7246\" style=\"display: none;\"><div style=\"display: table-cell;\"></div><div style=\"display: table-cell;\">glyph&nbsp;=&nbsp;Line(id='7027', ...),</div></div><div class=\"7246\" style=\"display: none;\"><div style=\"display: table-cell;\"></div><div style=\"display: table-cell;\">hover_glyph&nbsp;=&nbsp;None,</div></div><div class=\"7246\" style=\"display: none;\"><div style=\"display: table-cell;\"></div><div style=\"display: table-cell;\">js_event_callbacks&nbsp;=&nbsp;{},</div></div><div class=\"7246\" style=\"display: none;\"><div style=\"display: table-cell;\"></div><div style=\"display: table-cell;\">js_property_callbacks&nbsp;=&nbsp;{},</div></div><div class=\"7246\" style=\"display: none;\"><div style=\"display: table-cell;\"></div><div style=\"display: table-cell;\">level&nbsp;=&nbsp;'glyph',</div></div><div class=\"7246\" style=\"display: none;\"><div style=\"display: table-cell;\"></div><div style=\"display: table-cell;\">muted&nbsp;=&nbsp;False,</div></div><div class=\"7246\" style=\"display: none;\"><div style=\"display: table-cell;\"></div><div style=\"display: table-cell;\">muted_glyph&nbsp;=&nbsp;None,</div></div><div class=\"7246\" style=\"display: none;\"><div style=\"display: table-cell;\"></div><div style=\"display: table-cell;\">name&nbsp;=&nbsp;None,</div></div><div class=\"7246\" style=\"display: none;\"><div style=\"display: table-cell;\"></div><div style=\"display: table-cell;\">nonselection_glyph&nbsp;=&nbsp;'auto',</div></div><div class=\"7246\" style=\"display: none;\"><div style=\"display: table-cell;\"></div><div style=\"display: table-cell;\">selection_glyph&nbsp;=&nbsp;'auto',</div></div><div class=\"7246\" style=\"display: none;\"><div style=\"display: table-cell;\"></div><div style=\"display: table-cell;\">subscribed_events&nbsp;=&nbsp;[],</div></div><div class=\"7246\" style=\"display: none;\"><div style=\"display: table-cell;\"></div><div style=\"display: table-cell;\">tags&nbsp;=&nbsp;[],</div></div><div class=\"7246\" style=\"display: none;\"><div style=\"display: table-cell;\"></div><div style=\"display: table-cell;\">view&nbsp;=&nbsp;CDSView(id='7029', ...),</div></div><div class=\"7246\" style=\"display: none;\"><div style=\"display: table-cell;\"></div><div style=\"display: table-cell;\">visible&nbsp;=&nbsp;True,</div></div><div class=\"7246\" style=\"display: none;\"><div style=\"display: table-cell;\"></div><div style=\"display: table-cell;\">x_range_name&nbsp;=&nbsp;'default',</div></div><div class=\"7246\" style=\"display: none;\"><div style=\"display: table-cell;\"></div><div style=\"display: table-cell;\">y_range_name&nbsp;=&nbsp;'default')</div></div></div>\n",
       "<script>\n",
       "(function() {\n",
       "  var expanded = false;\n",
       "  var ellipsis = document.getElementById(\"7247\");\n",
       "  ellipsis.addEventListener(\"click\", function() {\n",
       "    var rows = document.getElementsByClassName(\"7246\");\n",
       "    for (var i = 0; i < rows.length; i++) {\n",
       "      var el = rows[i];\n",
       "      el.style.display = expanded ? \"none\" : \"table-row\";\n",
       "    }\n",
       "    ellipsis.innerHTML = expanded ? \"&hellip;)\" : \"&lsaquo;&lsaquo;&lsaquo;\";\n",
       "    expanded = !expanded;\n",
       "  });\n",
       "})();\n",
       "</script>\n"
      ],
      "text/plain": [
       "GlyphRenderer(id='7028', ...)"
      ]
     },
     "execution_count": 218,
     "metadata": {},
     "output_type": "execute_result"
    }
   ],
   "source": [
    "# En utilisant add_glyph, ajouter une nouvelle ligne au plot précédent en spécifiant l'objet ColumnDataSource créé comme source et le Line glyph comme argument.\n",
    "p.add_glyph(cds, line)"
   ]
  },
  {
   "cell_type": "code",
   "execution_count": 219,
   "metadata": {},
   "outputs": [
    {
     "data": {
      "text/html": [
       "\n",
       "\n",
       "\n",
       "\n",
       "\n",
       "\n",
       "  <div class=\"bk-root\" id=\"f53c7079-e61d-40a4-8358-474bb445d864\" data-root-id=\"6655\"></div>\n"
      ]
     },
     "metadata": {},
     "output_type": "display_data"
    },
    {
     "data": {
      "application/javascript": [
       "(function(root) {\n",
       "  function embed_document(root) {\n",
       "    \n",
       "  var docs_json = {\"f38a58d4-b1e3-44c8-9d9a-5f5e8553ee68\":{\"roots\":{\"references\":[{\"attributes\":{\"below\":[{\"id\":\"6666\"}],\"center\":[{\"id\":\"6669\"},{\"id\":\"6673\"}],\"left\":[{\"id\":\"6670\"}],\"plot_height\":800,\"plot_width\":800,\"renderers\":[{\"id\":\"6691\"},{\"id\":\"6698\"},{\"id\":\"7028\"}],\"title\":{\"id\":\"6656\"},\"toolbar\":{\"id\":\"6681\"},\"x_range\":{\"id\":\"6658\"},\"x_scale\":{\"id\":\"6662\"},\"y_range\":{\"id\":\"6660\"},\"y_scale\":{\"id\":\"6664\"}},\"id\":\"6655\",\"subtype\":\"Figure\",\"type\":\"Plot\"},{\"attributes\":{\"source\":{\"id\":\"6688\"}},\"id\":\"6692\",\"type\":\"CDSView\"},{\"attributes\":{\"base\":60,\"mantissas\":[1,2,5,10,15,20,30],\"max_interval\":1800000.0,\"min_interval\":1000.0,\"num_minor_ticks\":0},\"id\":\"6905\",\"type\":\"AdaptiveTicker\"},{\"attributes\":{\"mantissas\":[1,2,5],\"max_interval\":500.0,\"num_minor_ticks\":0},\"id\":\"6904\",\"type\":\"AdaptiveTicker\"},{\"attributes\":{\"fill_alpha\":{\"value\":0.5},\"fill_color\":{\"value\":\"orange\"},\"line_color\":{\"value\":\"#1f77b4\"},\"size\":{\"units\":\"screen\",\"value\":10},\"x\":{\"field\":\"x\"},\"y\":{\"field\":\"y\"}},\"id\":\"6696\",\"type\":\"Circle\"},{\"attributes\":{\"fill_alpha\":{\"value\":0.1},\"fill_color\":{\"value\":\"orange\"},\"line_alpha\":{\"value\":0.1},\"line_color\":{\"value\":\"#1f77b4\"},\"size\":{\"units\":\"screen\",\"value\":10},\"x\":{\"field\":\"x\"},\"y\":{\"field\":\"y\"}},\"id\":\"6697\",\"type\":\"Circle\"},{\"attributes\":{\"days\":[1,2,3,4,5,6,7,8,9,10,11,12,13,14,15,16,17,18,19,20,21,22,23,24,25,26,27,28,29,30,31]},\"id\":\"6907\",\"type\":\"DaysTicker\"},{\"attributes\":{\"base\":24,\"mantissas\":[1,2,4,6,8,12],\"max_interval\":43200000.0,\"min_interval\":3600000.0,\"num_minor_ticks\":0},\"id\":\"6906\",\"type\":\"AdaptiveTicker\"},{\"attributes\":{\"num_minor_ticks\":5,\"tickers\":[{\"id\":\"6904\"},{\"id\":\"6905\"},{\"id\":\"6906\"},{\"id\":\"6907\"},{\"id\":\"6908\"},{\"id\":\"6909\"},{\"id\":\"6910\"},{\"id\":\"6911\"},{\"id\":\"6912\"},{\"id\":\"6913\"},{\"id\":\"6914\"},{\"id\":\"6915\"}]},\"id\":\"6667\",\"type\":\"DatetimeTicker\"},{\"attributes\":{\"data\":{\"x\":{\"__ndarray__\":\"AAAAnZQRd0IAAIDKDPt2QgAAwKs3vnZCAACAofCpdkIAAEDZr6d2QgAAwAXyXnZCAACAeNRYdkIAAECHdwV2QgAAAFQUoHVCAABAJkMFdUIAAADA1et0QgAAQI7D0XRCAACAY5TNdEIAAICQ8Z10QgAAQGWngHRCAACA8FgidEIAAICFNr9zQgAAAA1pSXNCAACATOjdckIAAED67dNyQgAAwKSPy3JCAABAFA7HckIAAMCxH8VyQgAAgK2FlHJCAACAAsmDckIAAIDncl5yQgAAQBcZFHJCAADA1PfocUIAAACt0zFxQgAAwFP2EXFCAACAKKz0cEIAAMA2NIhwQgAAQOHVf3BCAAAAU4JHcEIAAMBiWyZwQgAAACS5EnBCAACARKECcEIAAABX1zlvQgAAgM8NZm5CAACAMeFObkIAAIBRriVuQgAAgA+oE25CAACAT0LBbUIAAAAM62NtQgAAAATSG21CAAAAomfpa0IAAIAXk8hrQgAAgGS9b2tCAACA8YHEakIAAADQY6JqQgAAgKptt2lCAAAAxkesaEI=\",\"dtype\":\"float64\",\"order\":\"little\",\"shape\":[52]},\"y\":{\"__ndarray__\":\"AAAAAAAAUkCmpaWlpeVRQAAAAAAAQFJAAAAAAADAUkAAAAAAAMBRQAAAAAAAgFJARhdddNFFUUAAAAAAAEBRQAAAAAAAAE5AAAAAAACATUAAAAAAAABPQAAAAAAAgE1AAAAAAACAT0AAAAAAAABMQAAAAAAAgEpAHMdxHMexTUAAAAAAAMBQQAAAAAAAAEtAAAAAAADAUUAAAAAAAIBGQAAAAAAAAFFAAAAAAAAARkAAAAAAAIBNQPHw8PDwcE9AAAAAAACATkAAAAAAAABKQI2w3NMIy0pAAAAAAADgSkAAAAAAAIBGQAAAAAAAgEhAVVVVVVXVSUAAAAAAAIBNQOsGU+Sz7klAAAAAAACAT0AAAAAAAABJQAAAAAAAgElAAAAAAACASkAAAAAAAEBIQAAAAAAAQElAAAAAAACAS0AAAAAAAEBHQAAAAAAAgElAMzMzMzOTTkAAAAAAAABHQAAAAAAAgEhAx3Ecx3EcTUAAAAAAAABJQAAAAAAAgE5AuYKYXEHMSEAAAAAAAABJQAAAAAAAgEBAAAAAAAAATEA=\",\"dtype\":\"float64\",\"order\":\"little\",\"shape\":[52]}},\"selected\":{\"id\":\"6902\"},\"selection_policy\":{\"id\":\"6901\"}},\"id\":\"6695\",\"type\":\"ColumnDataSource\"},{\"attributes\":{\"axis_label\":\"popularity\",\"formatter\":{\"id\":\"6895\"},\"ticker\":{\"id\":\"6671\"}},\"id\":\"6670\",\"type\":\"LinearAxis\"},{\"attributes\":{\"axis_label\":\"release_date\",\"formatter\":{\"id\":\"6897\"},\"ticker\":{\"id\":\"6667\"}},\"id\":\"6666\",\"type\":\"DatetimeAxis\"},{\"attributes\":{\"line_alpha\":0.1,\"line_color\":\"#1f77b4\",\"x\":{\"field\":\"x\"},\"y\":{\"field\":\"y\"}},\"id\":\"6690\",\"type\":\"Line\"},{\"attributes\":{},\"id\":\"6671\",\"type\":\"BasicTicker\"},{\"attributes\":{},\"id\":\"6900\",\"type\":\"Selection\"},{\"attributes\":{},\"id\":\"6901\",\"type\":\"UnionRenderers\"},{\"attributes\":{\"axis\":{\"id\":\"6670\"},\"dimension\":1,\"grid_line_alpha\":0.5,\"ticker\":null},\"id\":\"6673\",\"type\":\"Grid\"},{\"attributes\":{\"data_source\":{\"id\":\"7026\"},\"glyph\":{\"id\":\"7027\"},\"hover_glyph\":null,\"muted_glyph\":null,\"view\":{\"id\":\"7029\"}},\"id\":\"7028\",\"type\":\"GlyphRenderer\"},{\"attributes\":{},\"id\":\"7231\",\"type\":\"UnionRenderers\"},{\"attributes\":{\"source\":{\"id\":\"7026\"}},\"id\":\"7029\",\"type\":\"CDSView\"},{\"attributes\":{\"data\":{\"x\":{\"__ndarray__\":\"AAAAnZQRd0IAAIDKDPt2QgAAwKs3vnZCAACAofCpdkIAAEDZr6d2QgAAwAXyXnZCAACAeNRYdkIAAECHdwV2QgAAAFQUoHVCAABAJkMFdUIAAADA1et0QgAAQI7D0XRCAACAY5TNdEIAAICQ8Z10QgAAQGWngHRCAACA8FgidEIAAICFNr9zQgAAAA1pSXNCAACATOjdckIAAED67dNyQgAAwKSPy3JCAABAFA7HckIAAMCxH8VyQgAAgK2FlHJCAACAAsmDckIAAIDncl5yQgAAQBcZFHJCAADA1PfocUIAAACt0zFxQgAAwFP2EXFCAACAKKz0cEIAAMA2NIhwQgAAQOHVf3BCAAAAU4JHcEIAAMBiWyZwQgAAACS5EnBCAACARKECcEIAAABX1zlvQgAAgM8NZm5CAACAMeFObkIAAIBRriVuQgAAgA+oE25CAACAT0LBbUIAAAAM62NtQgAAAATSG21CAAAAomfpa0IAAIAXk8hrQgAAgGS9b2tCAACA8YHEakIAAADQY6JqQgAAgKptt2lCAAAAxkesaEI=\",\"dtype\":\"float64\",\"order\":\"little\",\"shape\":[52]},\"y\":{\"__ndarray__\":\"AAAAAAAAUkCmpaWlpeVRQAAAAAAAQFJAAAAAAADAUkAAAAAAAMBRQAAAAAAAgFJARhdddNFFUUAAAAAAAEBRQAAAAAAAAE5AAAAAAACATUAAAAAAAABPQAAAAAAAgE1AAAAAAACAT0AAAAAAAABMQAAAAAAAgEpAHMdxHMexTUAAAAAAAMBQQAAAAAAAAEtAAAAAAADAUUAAAAAAAIBGQAAAAAAAAFFAAAAAAAAARkAAAAAAAIBNQPHw8PDwcE9AAAAAAACATkAAAAAAAABKQI2w3NMIy0pAAAAAAADgSkAAAAAAAIBGQAAAAAAAgEhAVVVVVVXVSUAAAAAAAIBNQOsGU+Sz7klAAAAAAACAT0AAAAAAAABJQAAAAAAAgElAAAAAAACASkAAAAAAAEBIQAAAAAAAQElAAAAAAACAS0AAAAAAAEBHQAAAAAAAgElAMzMzMzOTTkAAAAAAAABHQAAAAAAAgEhAx3Ecx3EcTUAAAAAAAABJQAAAAAAAgE5AuYKYXEHMSEAAAAAAAABJQAAAAAAAgEBAAAAAAAAATEA=\",\"dtype\":\"float64\",\"order\":\"little\",\"shape\":[52]}},\"selected\":{\"id\":\"6900\"},\"selection_policy\":{\"id\":\"6899\"}},\"id\":\"6688\",\"type\":\"ColumnDataSource\"},{\"attributes\":{\"days\":[1,8,15,22]},\"id\":\"6909\",\"type\":\"DaysTicker\"},{\"attributes\":{\"months\":[0,6]},\"id\":\"6914\",\"type\":\"MonthsTicker\"},{\"attributes\":{\"line_color\":\"green\",\"x\":{\"field\":\"release_date\"},\"y\":{\"field\":\"popularity\"}},\"id\":\"7027\",\"type\":\"Line\"},{\"attributes\":{\"months\":[0,4,8]},\"id\":\"6913\",\"type\":\"MonthsTicker\"},{\"attributes\":{\"bottom_units\":\"screen\",\"fill_alpha\":0.5,\"fill_color\":\"lightgrey\",\"left_units\":\"screen\",\"level\":\"overlay\",\"line_alpha\":1.0,\"line_color\":\"black\",\"line_dash\":[4,4],\"line_width\":2,\"right_units\":\"screen\",\"top_units\":\"screen\"},\"id\":\"6680\",\"type\":\"BoxAnnotation\"},{\"attributes\":{\"months\":[0,2,4,6,8,10]},\"id\":\"6912\",\"type\":\"MonthsTicker\"},{\"attributes\":{\"months\":[0,1,2,3,4,5,6,7,8,9,10,11]},\"id\":\"6911\",\"type\":\"MonthsTicker\"},{\"attributes\":{},\"id\":\"6674\",\"type\":\"PanTool\"},{\"attributes\":{},\"id\":\"7232\",\"type\":\"Selection\"},{\"attributes\":{\"axis\":{\"id\":\"6666\"},\"grid_line_color\":null,\"ticker\":null},\"id\":\"6669\",\"type\":\"Grid\"},{\"attributes\":{},\"id\":\"6675\",\"type\":\"WheelZoomTool\"},{\"attributes\":{\"days\":[1,4,7,10,13,16,19,22,25,28]},\"id\":\"6908\",\"type\":\"DaysTicker\"},{\"attributes\":{},\"id\":\"6902\",\"type\":\"Selection\"},{\"attributes\":{\"overlay\":{\"id\":\"6680\"}},\"id\":\"6676\",\"type\":\"BoxZoomTool\"},{\"attributes\":{\"data_source\":{\"id\":\"6688\"},\"glyph\":{\"id\":\"6689\"},\"hover_glyph\":null,\"muted_glyph\":null,\"nonselection_glyph\":{\"id\":\"6690\"},\"selection_glyph\":null,\"view\":{\"id\":\"6692\"}},\"id\":\"6691\",\"type\":\"GlyphRenderer\"},{\"attributes\":{},\"id\":\"6677\",\"type\":\"SaveTool\"},{\"attributes\":{\"data_source\":{\"id\":\"6695\"},\"glyph\":{\"id\":\"6696\"},\"hover_glyph\":null,\"muted_glyph\":null,\"nonselection_glyph\":{\"id\":\"6697\"},\"selection_glyph\":null,\"view\":{\"id\":\"6699\"}},\"id\":\"6698\",\"type\":\"GlyphRenderer\"},{\"attributes\":{},\"id\":\"6658\",\"type\":\"DataRange1d\"},{\"attributes\":{},\"id\":\"6678\",\"type\":\"ResetTool\"},{\"attributes\":{},\"id\":\"6660\",\"type\":\"DataRange1d\"},{\"attributes\":{\"data\":{\"acousticness\":{\"__ndarray__\":\"LGUZ4lgXtz9oO6buyi5IP7kZbsDnh2E/QwsJGF3eTD+Cc0aU9gafP0+vlGWIY50/iUFg5dAimz+u2F92Tx6GP4C3QILix6g/gLdAguLHqD9FtvP91HjJPzY8vVKWIdQ/Ne84RUdyqT/ImLuWkA+qP/mgZ7Pqc70/AAAAAAAA7D8IrBxaZDu/P+F6FK5H4ao/2c73U+Ol0z89CtejcD3uP9NqSNxj6cc/R+F6FK5H3j8hvc5zMfPCPzLO34RCBFw/JRYLVq811D+3bfJuP/PCP0frqGqCqIs/EHo2qz5Xmz/SAN4CCYpvPymzQSYZOZs/eOkmMQis1D8HGuTMOpS/P2gAb4EExcE/DQIrhxbZzj9Kk1LQ7SW9P1nyiyW/WMI/lkOLbOf70T+TGARWDi2yP6Ydo+E5ALM/yp9vC5bqsj9yGw3gLZDLP3cv98lRgKA/\",\"dtype\":\"float64\",\"order\":\"little\",\"shape\":[42]},\"danceability\":{\"__ndarray__\":\"hetRuB6F2z93vp8aL93oPxxaZDvfT+0/w/UoXI/C6T+PwvUoXI/aPwRWDi2yneM/dJMYBFYO5T+F61G4HoXnP8ZLN4lBYOk/xks3iUFg6T8pXI/C9SjkP+58PzVeuuE/oBov3SQG2T/KoUW28/3oP0w3iUFg5eA/OrTIdr6f4j9pke18PzXmP8qhRbbz/eg/bef7qfHS6T+sHFpkO9/jP2wJ+aBns+Q/9ihcj8L14j+7SQwCK4fmP+58PzVeutk/80T9G6GM4j+IiIiIiIjmP3Roke18P+c/VOOlm8Qg5D8zMzMzMzPbP166SQwCK+c/tvP91Hjp4j8V1Cwfq9DjPy2yne+nxuU/LIcW2c735z9nRGlv8IXlP4ekKRVnH94/001iEFg55D8AAAAAAADYP65p3nGKjuY/EjY8vVKW5T+mm8QgsHLkP4XrUbgehec/\",\"dtype\":\"float64\",\"order\":\"little\",\"shape\":[42]},\"duration_ms\":{\"__ndarray__\":\"AAAAAJhdBkEAAAAA2JkLQQAAAADY0QpBAAAAANjuAUEAAAAA+LAOQQAAAADA+whBAAAAAADBC0EAAAAAANgEQQAAAAA0ExBBAAAAADQTEEEAAAAAgB4LQUmSJElOpAhBAAAAAISKE0EAAAAAUMUKQQAAAAA0Sw5BAAAAAHD6BkEAAAAAmEAJQQAAAABoig5BAAAAAFgnDUEAAAAAGGINQZqZmZl1jQpBAAAAAPhuDEFVVVVV2dwGQQAAAAA4jwpBq6qqqnoeDEFVVVVV2dwGQQAAAADM8gtBAAAAACzuEEEAAAAAgDMNQQAAAABgpQhBAAAAALRbEEE5juM4dtYPQQAAAABEVA5BAAAAADQTEEGamZmZaXYNQQAAAACA5gtBAAAAAABUEEEAAAAAlK4UQQAAAADgrAxBMzMzM6v7DkEAAAAA1PMLQQAAAABAvAxB\",\"dtype\":\"float64\",\"order\":\"little\",\"shape\":[42]},\"energy\":{\"__ndarray__\":\"ZmZmZmZm5j+gGi/dJAblP90kBoGVQ+c/uB6F61G45j8EVg4tsp3XP5duEoPAyuU/H4XrUbge4T8EVg4tsp3fP0w3iUFg5eQ/TDeJQWDl5D8YBFYOLbLtP39edzh9/N8/16NwPQrX5z+yne+nxkvnP6AaL90kBuc/nMQgsHJo0T/sUbgehevpP7Kd76fGS+s/EVg5tMh25j/Xo3A9CtfTP6W9wRcmU+M/UrgehetR4D+7SQwCK4foP2ZmZmZmZuY/a7x0kxgE4j/sCpB7zYXoPwIrhxbZzuk/exSuR+F64D8UrkfhehTmP57vp8ZLN+k/Rbbz/dR47T9swRZswRboP3WTGARWDuY/mpmZmZmZ7T+u+lxtxf7mP5huEoPAyuU/xSCwcmiR7T8v3SQGgZXrP8Dsnjws1OY/k6mCUUmd6D8nMQisHFrkP79Y8oslv+Q/\",\"dtype\":\"float64\",\"order\":\"little\",\"shape\":[42]},\"explicit\":{\"__ndarray__\":\"AAAAAAAA8D8AAAAAAADwPwAAAAAAAPA/AAAAAAAA8D8AAAAAAADwPwAAAAAAAPA/AAAAAAAA8D8AAAAAAADwPwAAAAAAAPA/AAAAAAAA8D8AAAAAAAAAALdt27Zt2+Y/AAAAAAAAAAAAAAAAAADwPwAAAAAAAAAAAAAAAAAAAAAAAAAAAAAAAAAAAAAAAPA/AAAAAAAA8D8AAAAAAAAAAGZmZmZmZuY/AAAAAAAAAAAAAAAAAADgPwAAAAAAAAAAAAAAAAAAAAAAAAAAAADgPwAAAAAAAAAAAAAAAAAA8D8AAAAAAAAAAAAAAAAAAOA/AAAAAAAA8D9VVVVVVVXVPwAAAAAAAAAAAAAAAAAA8D+amZmZmZnJP6uqqqqqquo/AAAAAAAA8D8AAAAAAADwPwAAAAAAAAAAAAAAAAAAAAAAAAAAAAAAAAAAAAAAAAAA\",\"dtype\":\"float64\",\"order\":\"little\",\"shape\":[42]},\"instrumentalness\":{\"__ndarray__\":\"AAAAAAAAAAD0VhtrmATMPhoXDoRkASM/w5SSL7Ku+z6fOMKasQXgPgAAAAAAAAAAAAAAAAAAAAAH04s1t52xPhjyYycXvgk/GPJjJxe+CT9YObTIdr6/P/OgjgdnSkA/AAAAAAAAAABEymhHHkbAPgAAAAAAAAAAAAAAAAAAAAAAAAAAAAAAAAAAAAAAAAAAAAAAAAAAAADCxHr+DwsQP56YLw6yVUc/wsR6/g8LAD9Z2RrtlOpuP+C04EVfQXo/rVtOUxVk9T7fqzIvY+ZuP1rY0w5/TYY/Edd7O9OV6T7SAN4CCYqPPwAAAAAAAAAAAAAAAAAAAAACW6anEBD0PqpB4mjYOQc/AAAAAAAAAAAW6AOXAUYLP9iITVEbwv4+AAAAAAAAAAAAAAAAAAAAAMXlMTAWeYo/u90/1IVxmj+S1zm81pTqPpPLf0i/fU0/\",\"dtype\":\"float64\",\"order\":\"little\",\"shape\":[42]},\"key\":{\"__ndarray__\":\"AAAAAAAAGEAAAAAAAADwPwAAAAAAAPA/AAAAAAAA8D8AAAAAAAAgQAAAAAAAACBAAAAAAAAAIkAAAAAAAAAgQAAAAAAAABxAAAAAAAAAHEAAAAAAAAAiQNu2bdu2bRdAAAAAAAAAAEAAAAAAAADwPwAAAAAAAARAAAAAAAAAAEAAAAAAAAAmQAAAAAAAAPA/AAAAAAAAGEAAAAAAAAAiQM3MzMzMzBRAAAAAAAAAJEBVVVVVVVUJQAAAAAAAACJAq6qqqqqqJEBVVVVVVVUJQAAAAAAAAOA/AAAAAAAAAAAAAAAAAAAAAAAAAAAAAAxAAAAAAAAA8D/kOI7jOI4XQAAAAAAAABVAAAAAAAAAJEDNzMzMzMwYQAAAAAAAABRAAAAAAAAA8D8AAAAAAAAmQDMzMzMzMxVAZmZmZmZmBkAAAAAAAAAWQKuqqqqqqhpA\",\"dtype\":\"float64\",\"order\":\"little\",\"shape\":[42]},\"liveness\":{\"__ndarray__\":\"2873U+Olyz8kufyH9Nu3P2mR7Xw/Nb4/tvP91Hjp1j9PjZduEoPYP1TjpZvEIMA/mpmZmZmZyT/azvdT46W7P5qZmZmZmbk/mpmZmZmZuT+MbOf7qfHCP3/Ebh3fncI/dJMYBFYO1T+mm8QgsHLQPw4tsp3vp74/pHA9CtejwD8/NV66SQzCP7gehetRuL4/0SLb+X5qvD/AyqFFtvO9P8gHPZtVn8M/ILByaJHtvD+4rNUxwYPJP6abxCCwcsg/Q9KUirMPvz+3rNUxwYPJP3WTGARWDsU/QYLix5i7tj+R7Xw/NV7SP+f7qfHSTcY/hxbZzvdT0z/c/iBDZYfBP7bz/dR46bY/pHA9Ctej4D+qZWt9kdC2P/0boYzeltE/okW28/3U0D82XrpJDALLP7kUV5V9V8A/otEdxM4Uwj9ns+pztRXQP0CC4seYu7Y/\",\"dtype\":\"float64\",\"order\":\"little\",\"shape\":[42]},\"loudness\":{\"__ndarray__\":\"ZmZmZmZmFcAj2/l+arwZwNNNYhBYORrAxSCwcmiRGsBKDAIrhxYkwIPAyqFFtgjAnO+nxkv3IcAhsHJokW0ewEBg5dAiWx/AQGDl0CJbH8Cyne+nxksGwJrcqiifIBrAyXa+nxovGcAGgZVDi+wTwK0cWmQ7nxPA2s73U+OlFsCmm8QgsHIMwHE9CtejcA3Axks3iUFgGsCHFtnO91MkwIqO5PIf0hrAXrpJDAIrHsDYo3A9CpcWwHbpJjEIrBfAq6qqqqoqHMCLsw+fYZcWwGZmZmZmphXAne+nxku3JMD8qfHSTeIYwDEIrBxa5BDAZDvfT42X/L+bC0lTKs4RwPLSTWIQOBDAiUFg5dAiFMAooImw4ekQwBVnHz7D7hLAoUW28/3U/L+BlUOLbOcKwMwQx7q4DRXAg+LHmLsWFcDRItv5fkoYwEOLbOf7KR3A\",\"dtype\":\"float64\",\"order\":\"little\",\"shape\":[42]},\"mode\":{\"__ndarray__\":\"AAAAAAAA8D8AAAAAAADwPwAAAAAAAPA/AAAAAAAA8D8AAAAAAADwPwAAAAAAAPA/AAAAAAAAAAAAAAAAAAAAAAAAAAAAAPA/AAAAAAAA8D8AAAAAAAAAAJIkSZIkSeI/AAAAAAAA8D8AAAAAAADwPwAAAAAAAOA/AAAAAAAA8D8AAAAAAAAAAAAAAAAAAAAAAAAAAAAAAAAAAAAAAAAAADMzMzMzM9M/AAAAAAAAAABVVVVVVVXlPwAAAAAAAAAAAAAAAAAAAABVVVVVVVXlPwAAAAAAAOA/AAAAAAAAAAAAAAAAAADwPwAAAAAAAOA/AAAAAAAA8D9VVVVVVVXlPwAAAAAAAOg/AAAAAAAA8D+amZmZmZnpPwAAAAAAAOA/AAAAAAAA8D8AAAAAAAAAAAAAAAAAAOA/MzMzMzMz4z8AAAAAAADQP1VVVVVVVeU/\",\"dtype\":\"float64\",\"order\":\"little\",\"shape\":[42]},\"popularity\":{\"__ndarray__\":\"AAAAAACAVUAAAAAAAABQQAAAAAAAQFBAAAAAAAAATUAAAAAAAABQQAAAAAAAgFBAAAAAAABAUkAAAAAAAABPQAAAAAAAAE1AAAAAAABAUkAAAAAAAMBTQLdt27Ztm1BAAAAAAAAATkAAAAAAAMBSQAAAAAAAwEtAAAAAAADAU0AAAAAAAABQQAAAAAAAgFBAAAAAAAAAT0AAAAAAAABIQM3MzMzMTEtAAAAAAABATkBVVVVVVdVKQAAAAAAAAE1Aq6qqqqqqT0AAAAAAAMBOQAAAAAAAoFFAAAAAAAAAUkAAAAAAAEBQQAAAAAAAwElAAAAAAAAASkBVVVVVVdVKQAAAAAAAAE9AAAAAAABAVEBmZmZmZuZNQAAAAAAAQE1AAAAAAACAUUAAAAAAAMBSQGZmZmZmZlBAzczMzMzMTEAAAAAAAEBPQKuqqqqqKk5A\",\"dtype\":\"float64\",\"order\":\"little\",\"shape\":[42]},\"release_date\":{\"__ndarray__\":\"AAAAnZQRd0IAAAB+ZiN2QgAAQId3BXZCAACA85ECdkIAAIB8Fdh1QgAAQJPRzHVCAACAJpy2dUIAAMDN2a91QgAAgJp2SnVCAABA0jVIdUIAAAAK9UV1QgAAAHlYKHVCAABAm1PLdEIAAAAONsV0QgAAwNw+xHRCAABAz5OxdEIAAEA23kt0QgAAgPBYInRCAADAE4r3c0IAAICFNr9zQgAAwCx0uHNCAAAAxyG4c0IAAEAldolzQgAAAHdVenNCAAAADWlJc0IAAMD1kTtzQgAAAJA/O3NCAADAXkg6c0IAAECgMzNzQgAAQPrt03JCAABAFA7HckIAAMCxH8VyQgAAAEzNxHJCAACArYWUckIAAIDncl5yQgAAADbuUHJCAABAMm85ckIAAIAf9MNxQgAAACxppHFCAACASa/9cEIAAACQEahwQgAAAIj4X3BC\",\"dtype\":\"float64\",\"order\":\"little\",\"shape\":[42]},\"speechiness\":{\"__ndarray__\":\"TDeJQWDl0D+8dJMYBFbOP3uDL0ymCrY/LbKd76fG0z+cM6K0N/iyPwn5oGez6rM/LSEf9GxWrT9xPQrXo3C9P5LtfD81Xro/ku18PzVeuj9txf6ye/KgP7BnDLS9GrE//mX35GGhtj96xyk6ksuvPzjWxW00gKc/uycPC7WmqT9d/kP67euwP+f7qfHSTbI/EqW9wRcmsz9CPujZrPqcP1z+Q/rt67A/zojS3uALoz/Q/a9NPeWrP11txf6ye6I/K4cW2c73oz+RXP5D+u2rPxwN4C2QoLA/9ihcj8L10D8N4C2QoPihP+C+DpwzosA/1XjpJjEI1D+6JOFV6QG2P/kP6bevA6c/dJMYBFYOzT8CK4cW2c6nP33Qs1n1ubo/j8L1KFyP0j9SuB6F61HQPyMf9GxWfa4/2xZlNsgksz8nMQisHFrCP0PSlIqzD78/\",\"dtype\":\"float64\",\"order\":\"little\",\"shape\":[42]},\"tempo\":{\"__ndarray__\":\"Di2yne/LY0A6tMh2vr9nQCyHFtnOv1dAxSCwcmjBZ0A6tMh2vu9XQDq0yHa+Z1hAsp3vp8arW0AMAiuHFuVgQGQ730+Nf11AZDvfT41/XUASg8DKof1eQLew7EVzvl1AhetRuB6NU0CPwvUoXL9ZQClcj8L10mFAT42XbhK7aUDl0CLb+T5hQEFg5dAig1tA30+Nl26CXED91HjpJvlbQANWDi2yoV9ASOF6FK57WUBlrY4JHgBcQJqZmZmZQVVAUf9GKKOnWEDotIFOGwBcQO58PzVe/l9ArkfhehR2XkCPwvUoXD9VQMUgsHJoX2FAv8qhRbazVUAklNHbsm5fQJLtfD81XmBAnO+nxku/VUCQMXctIRdgQOm0gU4b2GNAvHSTGAS2VUD0/dR46fpjQFJJnYAmalxArbZif9ktXkDgT42XbtxeQBXZzvdTM1dA\",\"dtype\":\"float64\",\"order\":\"little\",\"shape\":[42]},\"valence\":{\"__ndarray__\":\"MQisHFpk5z9cj8L1KFzPP+58PzVeusk/N4lBYOXQwj/l8h/Sb1+3PwIrhxbZzuM/N4lBYOXQ2j/o+6nx0k3CP/P91HjpJtk/8/3UeOkm2T/D9Shcj8LdPzGOzjplcts/tvP91Hjp3j9I4XoUrkfZP2ZmZmZmZuA/Di2yne+n1j+S7Xw/NV7qPyuHFtnO9+M/z/dT46Wb3D8AAAAAAADAP8oyxLEubtc/+n5qvHST0D9o2BUg95rfP39qvHSTGNQ/S8XZh8+w0z/ZzvdT46XfP05iEFg5tOA/iUFg5dAi0z9t5/up8dLNPycxCKwcWuI/MQisHFpk2z9MyntgeMPhPyLb+X5qvOI/T42XbhKD5D+vlGWIY13gP22g0wY6beA/001iEFg53D9kO99PjZfeP1qoNc07TuU/eHqlLEMc4z/FILByaJHjPwAAAAAAAOQ/\",\"dtype\":\"float64\",\"order\":\"little\",\"shape\":[42]},\"year\":{\"__ndarray__\":\"AAAAAACQn0AAAAAAAIifQAAAAAAAhJ9AAAAAAACEn0AAAAAAAISfQAAAAAAAhJ9AAAAAAACEn0AAAAAAAISfQAAAAAAAgJ9AAAAAAACAn0AAAAAAAICfQAAAAAAAgJ9AAAAAAAB8n0AAAAAAAHyfQAAAAAAAfJ9AAAAAAAB8n0AAAAAAAHifQAAAAAAAdJ9AAAAAAAB0n0AAAAAAAHSfQAAAAAAAcJ9AAAAAAABwn0AAAAAAAHCfQAAAAAAAcJ9AAAAAAABwn0AAAAAAAGyfQAAAAAAAbJ9AAAAAAABsn0AAAAAAAGyfQAAAAAAAbJ9AAAAAAABon0AAAAAAAGifQAAAAAAAaJ9AAAAAAABon0AAAAAAAGifQAAAAAAAZJ9AAAAAAABkn0AAAAAAAGCfQAAAAAAAYJ9AAAAAAABcn0AAAAAAAFifQAAAAAAAVJ9A\",\"dtype\":\"float64\",\"order\":\"little\",\"shape\":[42]}},\"selected\":{\"id\":\"7232\"},\"selection_policy\":{\"id\":\"7231\"}},\"id\":\"7026\",\"type\":\"ColumnDataSource\"},{\"attributes\":{},\"id\":\"6679\",\"type\":\"HelpTool\"},{\"attributes\":{},\"id\":\"6662\",\"type\":\"LinearScale\"},{\"attributes\":{},\"id\":\"6664\",\"type\":\"LinearScale\"},{\"attributes\":{},\"id\":\"6897\",\"type\":\"DatetimeTickFormatter\"},{\"attributes\":{},\"id\":\"6915\",\"type\":\"YearsTicker\"},{\"attributes\":{\"source\":{\"id\":\"6695\"}},\"id\":\"6699\",\"type\":\"CDSView\"},{\"attributes\":{\"days\":[1,15]},\"id\":\"6910\",\"type\":\"DaysTicker\"},{\"attributes\":{\"active_drag\":\"auto\",\"active_inspect\":\"auto\",\"active_multi\":null,\"active_scroll\":\"auto\",\"active_tap\":\"auto\",\"tools\":[{\"id\":\"6674\"},{\"id\":\"6675\"},{\"id\":\"6676\"},{\"id\":\"6677\"},{\"id\":\"6678\"},{\"id\":\"6679\"}]},\"id\":\"6681\",\"type\":\"Toolbar\"},{\"attributes\":{\"text\":\"la moyenne de popularit\\u00e9 des artistes selon release_date\"},\"id\":\"6656\",\"type\":\"Title\"},{\"attributes\":{},\"id\":\"6899\",\"type\":\"UnionRenderers\"},{\"attributes\":{\"line_color\":\"#1f77b4\",\"x\":{\"field\":\"x\"},\"y\":{\"field\":\"y\"}},\"id\":\"6689\",\"type\":\"Line\"},{\"attributes\":{},\"id\":\"6895\",\"type\":\"BasicTickFormatter\"}],\"root_ids\":[\"6655\"]},\"title\":\"Bokeh Application\",\"version\":\"2.2.3\"}};\n",
       "  var render_items = [{\"docid\":\"f38a58d4-b1e3-44c8-9d9a-5f5e8553ee68\",\"root_ids\":[\"6655\"],\"roots\":{\"6655\":\"f53c7079-e61d-40a4-8358-474bb445d864\"}}];\n",
       "  root.Bokeh.embed.embed_items_notebook(docs_json, render_items);\n",
       "\n",
       "  }\n",
       "  if (root.Bokeh !== undefined) {\n",
       "    embed_document(root);\n",
       "  } else {\n",
       "    var attempts = 0;\n",
       "    var timer = setInterval(function(root) {\n",
       "      if (root.Bokeh !== undefined) {\n",
       "        clearInterval(timer);\n",
       "        embed_document(root);\n",
       "      } else {\n",
       "        attempts++;\n",
       "        if (attempts > 100) {\n",
       "          clearInterval(timer);\n",
       "          console.log(\"Bokeh: ERROR: Unable to run BokehJS code because BokehJS library is missing\");\n",
       "        }\n",
       "      }\n",
       "    }, 10, root)\n",
       "  }\n",
       "})(window);"
      ],
      "application/vnd.bokehjs_exec.v0+json": ""
     },
     "metadata": {
      "application/vnd.bokehjs_exec.v0+json": {
       "id": "6655"
      }
     },
     "output_type": "display_data"
    }
   ],
   "source": [
    "# Afficher le graphe\n",
    "show(p)\n"
   ]
  },
  {
   "cell_type": "markdown",
   "metadata": {},
   "source": [
    "<br> En explorant la propriété renderers de votre plot, vous pouvez voir les propriétés et les glyphs le composant. Ceci est utile pour garder trace des composants du graphe, ainsi qur pour lier les composants avec de nouveaux objets comme les items légende par exemple. \n"
   ]
  },
  {
   "cell_type": "code",
   "execution_count": 220,
   "metadata": {},
   "outputs": [
    {
     "data": {
      "text/plain": [
       "[GlyphRenderer(id='6691', ...),\n",
       " GlyphRenderer(id='6698', ...),\n",
       " GlyphRenderer(id='7028', ...)]"
      ]
     },
     "execution_count": 220,
     "metadata": {},
     "output_type": "execute_result"
    }
   ],
   "source": [
    "# Afficher la liste des renderers de votre graphe, quelles sont les propriétés sauvegardées?\n",
    "p.renderers"
   ]
  },
  {
   "cell_type": "markdown",
   "metadata": {},
   "source": [
    "<br> Comme le graphe a deux ligne, on voudrait ajouter une légende pour les différencier. On créera alors Legend items, puis ajoutera la légende à notre graphe."
   ]
  },
  {
   "cell_type": "code",
   "execution_count": 221,
   "metadata": {},
   "outputs": [],
   "source": [
    "from bokeh.models import Legend, LegendItem"
   ]
  },
  {
   "cell_type": "code",
   "execution_count": 222,
   "metadata": {},
   "outputs": [],
   "source": [
    "# Créer deux legend items et leur donner des labels significatifs. Utiliser les renderers pour les pointer sur le bon glyph\n",
    "li1 = LegendItem(label='Eminem', renderers=[p.renderers[0]])\n",
    "li2 = LegendItem(label='Rihanna', renderers=[p.renderers[2]])"
   ]
  },
  {
   "cell_type": "code",
   "execution_count": 223,
   "metadata": {},
   "outputs": [],
   "source": [
    "# Créer l'objet Legend qui inclue les deux legend items. Il est possible de spécifier l'emplacement de la légende\n",
    "legend = Legend(items=[li1, li2], location='top_left')"
   ]
  },
  {
   "cell_type": "code",
   "execution_count": 224,
   "metadata": {},
   "outputs": [],
   "source": [
    "# Ajouter Legend au graphe en utilisant la fonction add_layout\n",
    "p.add_layout(legend)"
   ]
  },
  {
   "cell_type": "code",
   "execution_count": 225,
   "metadata": {},
   "outputs": [
    {
     "data": {
      "text/html": [
       "\n",
       "\n",
       "\n",
       "\n",
       "\n",
       "\n",
       "  <div class=\"bk-root\" id=\"032ea257-e821-4305-aeb4-1f3805190bff\" data-root-id=\"6655\"></div>\n"
      ]
     },
     "metadata": {},
     "output_type": "display_data"
    },
    {
     "data": {
      "application/javascript": [
       "(function(root) {\n",
       "  function embed_document(root) {\n",
       "    \n",
       "  var docs_json = {\"28664184-fd89-4a86-adb7-7c83b7875089\":{\"roots\":{\"references\":[{\"attributes\":{\"below\":[{\"id\":\"6666\"}],\"center\":[{\"id\":\"6669\"},{\"id\":\"6673\"},{\"id\":\"7370\"}],\"left\":[{\"id\":\"6670\"}],\"plot_height\":800,\"plot_width\":800,\"renderers\":[{\"id\":\"6691\"},{\"id\":\"6698\"},{\"id\":\"7028\"}],\"title\":{\"id\":\"6656\"},\"toolbar\":{\"id\":\"6681\"},\"x_range\":{\"id\":\"6658\"},\"x_scale\":{\"id\":\"6662\"},\"y_range\":{\"id\":\"6660\"},\"y_scale\":{\"id\":\"6664\"}},\"id\":\"6655\",\"subtype\":\"Figure\",\"type\":\"Plot\"},{\"attributes\":{\"source\":{\"id\":\"6688\"}},\"id\":\"6692\",\"type\":\"CDSView\"},{\"attributes\":{\"label\":{\"value\":\"Eminem\"},\"renderers\":[{\"id\":\"6691\"}]},\"id\":\"7368\",\"type\":\"LegendItem\"},{\"attributes\":{\"mantissas\":[1,2,5],\"max_interval\":500.0,\"num_minor_ticks\":0},\"id\":\"6904\",\"type\":\"AdaptiveTicker\"},{\"attributes\":{\"base\":60,\"mantissas\":[1,2,5,10,15,20,30],\"max_interval\":1800000.0,\"min_interval\":1000.0,\"num_minor_ticks\":0},\"id\":\"6905\",\"type\":\"AdaptiveTicker\"},{\"attributes\":{\"fill_alpha\":{\"value\":0.5},\"fill_color\":{\"value\":\"orange\"},\"line_color\":{\"value\":\"#1f77b4\"},\"size\":{\"units\":\"screen\",\"value\":10},\"x\":{\"field\":\"x\"},\"y\":{\"field\":\"y\"}},\"id\":\"6696\",\"type\":\"Circle\"},{\"attributes\":{\"fill_alpha\":{\"value\":0.1},\"fill_color\":{\"value\":\"orange\"},\"line_alpha\":{\"value\":0.1},\"line_color\":{\"value\":\"#1f77b4\"},\"size\":{\"units\":\"screen\",\"value\":10},\"x\":{\"field\":\"x\"},\"y\":{\"field\":\"y\"}},\"id\":\"6697\",\"type\":\"Circle\"},{\"attributes\":{\"days\":[1,2,3,4,5,6,7,8,9,10,11,12,13,14,15,16,17,18,19,20,21,22,23,24,25,26,27,28,29,30,31]},\"id\":\"6907\",\"type\":\"DaysTicker\"},{\"attributes\":{\"items\":[{\"id\":\"7368\"},{\"id\":\"7369\"}],\"location\":\"top_left\"},\"id\":\"7370\",\"type\":\"Legend\"},{\"attributes\":{\"base\":24,\"mantissas\":[1,2,4,6,8,12],\"max_interval\":43200000.0,\"min_interval\":3600000.0,\"num_minor_ticks\":0},\"id\":\"6906\",\"type\":\"AdaptiveTicker\"},{\"attributes\":{\"num_minor_ticks\":5,\"tickers\":[{\"id\":\"6904\"},{\"id\":\"6905\"},{\"id\":\"6906\"},{\"id\":\"6907\"},{\"id\":\"6908\"},{\"id\":\"6909\"},{\"id\":\"6910\"},{\"id\":\"6911\"},{\"id\":\"6912\"},{\"id\":\"6913\"},{\"id\":\"6914\"},{\"id\":\"6915\"}]},\"id\":\"6667\",\"type\":\"DatetimeTicker\"},{\"attributes\":{\"axis_label\":\"popularity\",\"formatter\":{\"id\":\"6895\"},\"ticker\":{\"id\":\"6671\"}},\"id\":\"6670\",\"type\":\"LinearAxis\"},{\"attributes\":{\"data\":{\"x\":{\"__ndarray__\":\"AAAAnZQRd0IAAIDKDPt2QgAAwKs3vnZCAACAofCpdkIAAEDZr6d2QgAAwAXyXnZCAACAeNRYdkIAAECHdwV2QgAAAFQUoHVCAABAJkMFdUIAAADA1et0QgAAQI7D0XRCAACAY5TNdEIAAICQ8Z10QgAAQGWngHRCAACA8FgidEIAAICFNr9zQgAAAA1pSXNCAACATOjdckIAAED67dNyQgAAwKSPy3JCAABAFA7HckIAAMCxH8VyQgAAgK2FlHJCAACAAsmDckIAAIDncl5yQgAAQBcZFHJCAADA1PfocUIAAACt0zFxQgAAwFP2EXFCAACAKKz0cEIAAMA2NIhwQgAAQOHVf3BCAAAAU4JHcEIAAMBiWyZwQgAAACS5EnBCAACARKECcEIAAABX1zlvQgAAgM8NZm5CAACAMeFObkIAAIBRriVuQgAAgA+oE25CAACAT0LBbUIAAAAM62NtQgAAAATSG21CAAAAomfpa0IAAIAXk8hrQgAAgGS9b2tCAACA8YHEakIAAADQY6JqQgAAgKptt2lCAAAAxkesaEI=\",\"dtype\":\"float64\",\"order\":\"little\",\"shape\":[52]},\"y\":{\"__ndarray__\":\"AAAAAAAAUkCmpaWlpeVRQAAAAAAAQFJAAAAAAADAUkAAAAAAAMBRQAAAAAAAgFJARhdddNFFUUAAAAAAAEBRQAAAAAAAAE5AAAAAAACATUAAAAAAAABPQAAAAAAAgE1AAAAAAACAT0AAAAAAAABMQAAAAAAAgEpAHMdxHMexTUAAAAAAAMBQQAAAAAAAAEtAAAAAAADAUUAAAAAAAIBGQAAAAAAAAFFAAAAAAAAARkAAAAAAAIBNQPHw8PDwcE9AAAAAAACATkAAAAAAAABKQI2w3NMIy0pAAAAAAADgSkAAAAAAAIBGQAAAAAAAgEhAVVVVVVXVSUAAAAAAAIBNQOsGU+Sz7klAAAAAAACAT0AAAAAAAABJQAAAAAAAgElAAAAAAACASkAAAAAAAEBIQAAAAAAAQElAAAAAAACAS0AAAAAAAEBHQAAAAAAAgElAMzMzMzOTTkAAAAAAAABHQAAAAAAAgEhAx3Ecx3EcTUAAAAAAAABJQAAAAAAAgE5AuYKYXEHMSEAAAAAAAABJQAAAAAAAgEBAAAAAAAAATEA=\",\"dtype\":\"float64\",\"order\":\"little\",\"shape\":[52]}},\"selected\":{\"id\":\"6902\"},\"selection_policy\":{\"id\":\"6901\"}},\"id\":\"6695\",\"type\":\"ColumnDataSource\"},{\"attributes\":{\"axis_label\":\"release_date\",\"formatter\":{\"id\":\"6897\"},\"ticker\":{\"id\":\"6667\"}},\"id\":\"6666\",\"type\":\"DatetimeAxis\"},{\"attributes\":{\"line_alpha\":0.1,\"line_color\":\"#1f77b4\",\"x\":{\"field\":\"x\"},\"y\":{\"field\":\"y\"}},\"id\":\"6690\",\"type\":\"Line\"},{\"attributes\":{},\"id\":\"6671\",\"type\":\"BasicTicker\"},{\"attributes\":{},\"id\":\"6900\",\"type\":\"Selection\"},{\"attributes\":{},\"id\":\"6901\",\"type\":\"UnionRenderers\"},{\"attributes\":{\"axis\":{\"id\":\"6670\"},\"dimension\":1,\"grid_line_alpha\":0.5,\"ticker\":null},\"id\":\"6673\",\"type\":\"Grid\"},{\"attributes\":{\"data_source\":{\"id\":\"7026\"},\"glyph\":{\"id\":\"7027\"},\"hover_glyph\":null,\"muted_glyph\":null,\"view\":{\"id\":\"7029\"}},\"id\":\"7028\",\"type\":\"GlyphRenderer\"},{\"attributes\":{},\"id\":\"7231\",\"type\":\"UnionRenderers\"},{\"attributes\":{\"source\":{\"id\":\"7026\"}},\"id\":\"7029\",\"type\":\"CDSView\"},{\"attributes\":{\"data\":{\"x\":{\"__ndarray__\":\"AAAAnZQRd0IAAIDKDPt2QgAAwKs3vnZCAACAofCpdkIAAEDZr6d2QgAAwAXyXnZCAACAeNRYdkIAAECHdwV2QgAAAFQUoHVCAABAJkMFdUIAAADA1et0QgAAQI7D0XRCAACAY5TNdEIAAICQ8Z10QgAAQGWngHRCAACA8FgidEIAAICFNr9zQgAAAA1pSXNCAACATOjdckIAAED67dNyQgAAwKSPy3JCAABAFA7HckIAAMCxH8VyQgAAgK2FlHJCAACAAsmDckIAAIDncl5yQgAAQBcZFHJCAADA1PfocUIAAACt0zFxQgAAwFP2EXFCAACAKKz0cEIAAMA2NIhwQgAAQOHVf3BCAAAAU4JHcEIAAMBiWyZwQgAAACS5EnBCAACARKECcEIAAABX1zlvQgAAgM8NZm5CAACAMeFObkIAAIBRriVuQgAAgA+oE25CAACAT0LBbUIAAAAM62NtQgAAAATSG21CAAAAomfpa0IAAIAXk8hrQgAAgGS9b2tCAACA8YHEakIAAADQY6JqQgAAgKptt2lCAAAAxkesaEI=\",\"dtype\":\"float64\",\"order\":\"little\",\"shape\":[52]},\"y\":{\"__ndarray__\":\"AAAAAAAAUkCmpaWlpeVRQAAAAAAAQFJAAAAAAADAUkAAAAAAAMBRQAAAAAAAgFJARhdddNFFUUAAAAAAAEBRQAAAAAAAAE5AAAAAAACATUAAAAAAAABPQAAAAAAAgE1AAAAAAACAT0AAAAAAAABMQAAAAAAAgEpAHMdxHMexTUAAAAAAAMBQQAAAAAAAAEtAAAAAAADAUUAAAAAAAIBGQAAAAAAAAFFAAAAAAAAARkAAAAAAAIBNQPHw8PDwcE9AAAAAAACATkAAAAAAAABKQI2w3NMIy0pAAAAAAADgSkAAAAAAAIBGQAAAAAAAgEhAVVVVVVXVSUAAAAAAAIBNQOsGU+Sz7klAAAAAAACAT0AAAAAAAABJQAAAAAAAgElAAAAAAACASkAAAAAAAEBIQAAAAAAAQElAAAAAAACAS0AAAAAAAEBHQAAAAAAAgElAMzMzMzOTTkAAAAAAAABHQAAAAAAAgEhAx3Ecx3EcTUAAAAAAAABJQAAAAAAAgE5AuYKYXEHMSEAAAAAAAABJQAAAAAAAgEBAAAAAAAAATEA=\",\"dtype\":\"float64\",\"order\":\"little\",\"shape\":[52]}},\"selected\":{\"id\":\"6900\"},\"selection_policy\":{\"id\":\"6899\"}},\"id\":\"6688\",\"type\":\"ColumnDataSource\"},{\"attributes\":{\"days\":[1,8,15,22]},\"id\":\"6909\",\"type\":\"DaysTicker\"},{\"attributes\":{\"months\":[0,6]},\"id\":\"6914\",\"type\":\"MonthsTicker\"},{\"attributes\":{\"line_color\":\"green\",\"x\":{\"field\":\"release_date\"},\"y\":{\"field\":\"popularity\"}},\"id\":\"7027\",\"type\":\"Line\"},{\"attributes\":{\"months\":[0,4,8]},\"id\":\"6913\",\"type\":\"MonthsTicker\"},{\"attributes\":{\"bottom_units\":\"screen\",\"fill_alpha\":0.5,\"fill_color\":\"lightgrey\",\"left_units\":\"screen\",\"level\":\"overlay\",\"line_alpha\":1.0,\"line_color\":\"black\",\"line_dash\":[4,4],\"line_width\":2,\"right_units\":\"screen\",\"top_units\":\"screen\"},\"id\":\"6680\",\"type\":\"BoxAnnotation\"},{\"attributes\":{\"months\":[0,2,4,6,8,10]},\"id\":\"6912\",\"type\":\"MonthsTicker\"},{\"attributes\":{\"months\":[0,1,2,3,4,5,6,7,8,9,10,11]},\"id\":\"6911\",\"type\":\"MonthsTicker\"},{\"attributes\":{},\"id\":\"6674\",\"type\":\"PanTool\"},{\"attributes\":{},\"id\":\"7232\",\"type\":\"Selection\"},{\"attributes\":{\"axis\":{\"id\":\"6666\"},\"grid_line_color\":null,\"ticker\":null},\"id\":\"6669\",\"type\":\"Grid\"},{\"attributes\":{},\"id\":\"6675\",\"type\":\"WheelZoomTool\"},{\"attributes\":{\"days\":[1,4,7,10,13,16,19,22,25,28]},\"id\":\"6908\",\"type\":\"DaysTicker\"},{\"attributes\":{},\"id\":\"6902\",\"type\":\"Selection\"},{\"attributes\":{\"overlay\":{\"id\":\"6680\"}},\"id\":\"6676\",\"type\":\"BoxZoomTool\"},{\"attributes\":{\"data_source\":{\"id\":\"6688\"},\"glyph\":{\"id\":\"6689\"},\"hover_glyph\":null,\"muted_glyph\":null,\"nonselection_glyph\":{\"id\":\"6690\"},\"selection_glyph\":null,\"view\":{\"id\":\"6692\"}},\"id\":\"6691\",\"type\":\"GlyphRenderer\"},{\"attributes\":{},\"id\":\"6677\",\"type\":\"SaveTool\"},{\"attributes\":{\"data_source\":{\"id\":\"6695\"},\"glyph\":{\"id\":\"6696\"},\"hover_glyph\":null,\"muted_glyph\":null,\"nonselection_glyph\":{\"id\":\"6697\"},\"selection_glyph\":null,\"view\":{\"id\":\"6699\"}},\"id\":\"6698\",\"type\":\"GlyphRenderer\"},{\"attributes\":{},\"id\":\"6658\",\"type\":\"DataRange1d\"},{\"attributes\":{},\"id\":\"6678\",\"type\":\"ResetTool\"},{\"attributes\":{},\"id\":\"6660\",\"type\":\"DataRange1d\"},{\"attributes\":{\"data\":{\"acousticness\":{\"__ndarray__\":\"LGUZ4lgXtz9oO6buyi5IP7kZbsDnh2E/QwsJGF3eTD+Cc0aU9gafP0+vlGWIY50/iUFg5dAimz+u2F92Tx6GP4C3QILix6g/gLdAguLHqD9FtvP91HjJPzY8vVKWIdQ/Ne84RUdyqT/ImLuWkA+qP/mgZ7Pqc70/AAAAAAAA7D8IrBxaZDu/P+F6FK5H4ao/2c73U+Ol0z89CtejcD3uP9NqSNxj6cc/R+F6FK5H3j8hvc5zMfPCPzLO34RCBFw/JRYLVq811D+3bfJuP/PCP0frqGqCqIs/EHo2qz5Xmz/SAN4CCYpvPymzQSYZOZs/eOkmMQis1D8HGuTMOpS/P2gAb4EExcE/DQIrhxbZzj9Kk1LQ7SW9P1nyiyW/WMI/lkOLbOf70T+TGARWDi2yP6Ydo+E5ALM/yp9vC5bqsj9yGw3gLZDLP3cv98lRgKA/\",\"dtype\":\"float64\",\"order\":\"little\",\"shape\":[42]},\"danceability\":{\"__ndarray__\":\"hetRuB6F2z93vp8aL93oPxxaZDvfT+0/w/UoXI/C6T+PwvUoXI/aPwRWDi2yneM/dJMYBFYO5T+F61G4HoXnP8ZLN4lBYOk/xks3iUFg6T8pXI/C9SjkP+58PzVeuuE/oBov3SQG2T/KoUW28/3oP0w3iUFg5eA/OrTIdr6f4j9pke18PzXmP8qhRbbz/eg/bef7qfHS6T+sHFpkO9/jP2wJ+aBns+Q/9ihcj8L14j+7SQwCK4fmP+58PzVeutk/80T9G6GM4j+IiIiIiIjmP3Roke18P+c/VOOlm8Qg5D8zMzMzMzPbP166SQwCK+c/tvP91Hjp4j8V1Cwfq9DjPy2yne+nxuU/LIcW2c735z9nRGlv8IXlP4ekKRVnH94/001iEFg55D8AAAAAAADYP65p3nGKjuY/EjY8vVKW5T+mm8QgsHLkP4XrUbgehec/\",\"dtype\":\"float64\",\"order\":\"little\",\"shape\":[42]},\"duration_ms\":{\"__ndarray__\":\"AAAAAJhdBkEAAAAA2JkLQQAAAADY0QpBAAAAANjuAUEAAAAA+LAOQQAAAADA+whBAAAAAADBC0EAAAAAANgEQQAAAAA0ExBBAAAAADQTEEEAAAAAgB4LQUmSJElOpAhBAAAAAISKE0EAAAAAUMUKQQAAAAA0Sw5BAAAAAHD6BkEAAAAAmEAJQQAAAABoig5BAAAAAFgnDUEAAAAAGGINQZqZmZl1jQpBAAAAAPhuDEFVVVVV2dwGQQAAAAA4jwpBq6qqqnoeDEFVVVVV2dwGQQAAAADM8gtBAAAAACzuEEEAAAAAgDMNQQAAAABgpQhBAAAAALRbEEE5juM4dtYPQQAAAABEVA5BAAAAADQTEEGamZmZaXYNQQAAAACA5gtBAAAAAABUEEEAAAAAlK4UQQAAAADgrAxBMzMzM6v7DkEAAAAA1PMLQQAAAABAvAxB\",\"dtype\":\"float64\",\"order\":\"little\",\"shape\":[42]},\"energy\":{\"__ndarray__\":\"ZmZmZmZm5j+gGi/dJAblP90kBoGVQ+c/uB6F61G45j8EVg4tsp3XP5duEoPAyuU/H4XrUbge4T8EVg4tsp3fP0w3iUFg5eQ/TDeJQWDl5D8YBFYOLbLtP39edzh9/N8/16NwPQrX5z+yne+nxkvnP6AaL90kBuc/nMQgsHJo0T/sUbgehevpP7Kd76fGS+s/EVg5tMh25j/Xo3A9CtfTP6W9wRcmU+M/UrgehetR4D+7SQwCK4foP2ZmZmZmZuY/a7x0kxgE4j/sCpB7zYXoPwIrhxbZzuk/exSuR+F64D8UrkfhehTmP57vp8ZLN+k/Rbbz/dR47T9swRZswRboP3WTGARWDuY/mpmZmZmZ7T+u+lxtxf7mP5huEoPAyuU/xSCwcmiR7T8v3SQGgZXrP8Dsnjws1OY/k6mCUUmd6D8nMQisHFrkP79Y8oslv+Q/\",\"dtype\":\"float64\",\"order\":\"little\",\"shape\":[42]},\"explicit\":{\"__ndarray__\":\"AAAAAAAA8D8AAAAAAADwPwAAAAAAAPA/AAAAAAAA8D8AAAAAAADwPwAAAAAAAPA/AAAAAAAA8D8AAAAAAADwPwAAAAAAAPA/AAAAAAAA8D8AAAAAAAAAALdt27Zt2+Y/AAAAAAAAAAAAAAAAAADwPwAAAAAAAAAAAAAAAAAAAAAAAAAAAAAAAAAAAAAAAPA/AAAAAAAA8D8AAAAAAAAAAGZmZmZmZuY/AAAAAAAAAAAAAAAAAADgPwAAAAAAAAAAAAAAAAAAAAAAAAAAAADgPwAAAAAAAAAAAAAAAAAA8D8AAAAAAAAAAAAAAAAAAOA/AAAAAAAA8D9VVVVVVVXVPwAAAAAAAAAAAAAAAAAA8D+amZmZmZnJP6uqqqqqquo/AAAAAAAA8D8AAAAAAADwPwAAAAAAAAAAAAAAAAAAAAAAAAAAAAAAAAAAAAAAAAAA\",\"dtype\":\"float64\",\"order\":\"little\",\"shape\":[42]},\"instrumentalness\":{\"__ndarray__\":\"AAAAAAAAAAD0VhtrmATMPhoXDoRkASM/w5SSL7Ku+z6fOMKasQXgPgAAAAAAAAAAAAAAAAAAAAAH04s1t52xPhjyYycXvgk/GPJjJxe+CT9YObTIdr6/P/OgjgdnSkA/AAAAAAAAAABEymhHHkbAPgAAAAAAAAAAAAAAAAAAAAAAAAAAAAAAAAAAAAAAAAAAAAAAAAAAAADCxHr+DwsQP56YLw6yVUc/wsR6/g8LAD9Z2RrtlOpuP+C04EVfQXo/rVtOUxVk9T7fqzIvY+ZuP1rY0w5/TYY/Edd7O9OV6T7SAN4CCYqPPwAAAAAAAAAAAAAAAAAAAAACW6anEBD0PqpB4mjYOQc/AAAAAAAAAAAW6AOXAUYLP9iITVEbwv4+AAAAAAAAAAAAAAAAAAAAAMXlMTAWeYo/u90/1IVxmj+S1zm81pTqPpPLf0i/fU0/\",\"dtype\":\"float64\",\"order\":\"little\",\"shape\":[42]},\"key\":{\"__ndarray__\":\"AAAAAAAAGEAAAAAAAADwPwAAAAAAAPA/AAAAAAAA8D8AAAAAAAAgQAAAAAAAACBAAAAAAAAAIkAAAAAAAAAgQAAAAAAAABxAAAAAAAAAHEAAAAAAAAAiQNu2bdu2bRdAAAAAAAAAAEAAAAAAAADwPwAAAAAAAARAAAAAAAAAAEAAAAAAAAAmQAAAAAAAAPA/AAAAAAAAGEAAAAAAAAAiQM3MzMzMzBRAAAAAAAAAJEBVVVVVVVUJQAAAAAAAACJAq6qqqqqqJEBVVVVVVVUJQAAAAAAAAOA/AAAAAAAAAAAAAAAAAAAAAAAAAAAAAAxAAAAAAAAA8D/kOI7jOI4XQAAAAAAAABVAAAAAAAAAJEDNzMzMzMwYQAAAAAAAABRAAAAAAAAA8D8AAAAAAAAmQDMzMzMzMxVAZmZmZmZmBkAAAAAAAAAWQKuqqqqqqhpA\",\"dtype\":\"float64\",\"order\":\"little\",\"shape\":[42]},\"liveness\":{\"__ndarray__\":\"2873U+Olyz8kufyH9Nu3P2mR7Xw/Nb4/tvP91Hjp1j9PjZduEoPYP1TjpZvEIMA/mpmZmZmZyT/azvdT46W7P5qZmZmZmbk/mpmZmZmZuT+MbOf7qfHCP3/Ebh3fncI/dJMYBFYO1T+mm8QgsHLQPw4tsp3vp74/pHA9CtejwD8/NV66SQzCP7gehetRuL4/0SLb+X5qvD/AyqFFtvO9P8gHPZtVn8M/ILByaJHtvD+4rNUxwYPJP6abxCCwcsg/Q9KUirMPvz+3rNUxwYPJP3WTGARWDsU/QYLix5i7tj+R7Xw/NV7SP+f7qfHSTcY/hxbZzvdT0z/c/iBDZYfBP7bz/dR46bY/pHA9Ctej4D+qZWt9kdC2P/0boYzeltE/okW28/3U0D82XrpJDALLP7kUV5V9V8A/otEdxM4Uwj9ns+pztRXQP0CC4seYu7Y/\",\"dtype\":\"float64\",\"order\":\"little\",\"shape\":[42]},\"loudness\":{\"__ndarray__\":\"ZmZmZmZmFcAj2/l+arwZwNNNYhBYORrAxSCwcmiRGsBKDAIrhxYkwIPAyqFFtgjAnO+nxkv3IcAhsHJokW0ewEBg5dAiWx/AQGDl0CJbH8Cyne+nxksGwJrcqiifIBrAyXa+nxovGcAGgZVDi+wTwK0cWmQ7nxPA2s73U+OlFsCmm8QgsHIMwHE9CtejcA3Axks3iUFgGsCHFtnO91MkwIqO5PIf0hrAXrpJDAIrHsDYo3A9CpcWwHbpJjEIrBfAq6qqqqoqHMCLsw+fYZcWwGZmZmZmphXAne+nxku3JMD8qfHSTeIYwDEIrBxa5BDAZDvfT42X/L+bC0lTKs4RwPLSTWIQOBDAiUFg5dAiFMAooImw4ekQwBVnHz7D7hLAoUW28/3U/L+BlUOLbOcKwMwQx7q4DRXAg+LHmLsWFcDRItv5fkoYwEOLbOf7KR3A\",\"dtype\":\"float64\",\"order\":\"little\",\"shape\":[42]},\"mode\":{\"__ndarray__\":\"AAAAAAAA8D8AAAAAAADwPwAAAAAAAPA/AAAAAAAA8D8AAAAAAADwPwAAAAAAAPA/AAAAAAAAAAAAAAAAAAAAAAAAAAAAAPA/AAAAAAAA8D8AAAAAAAAAAJIkSZIkSeI/AAAAAAAA8D8AAAAAAADwPwAAAAAAAOA/AAAAAAAA8D8AAAAAAAAAAAAAAAAAAAAAAAAAAAAAAAAAAAAAAAAAADMzMzMzM9M/AAAAAAAAAABVVVVVVVXlPwAAAAAAAAAAAAAAAAAAAABVVVVVVVXlPwAAAAAAAOA/AAAAAAAAAAAAAAAAAADwPwAAAAAAAOA/AAAAAAAA8D9VVVVVVVXlPwAAAAAAAOg/AAAAAAAA8D+amZmZmZnpPwAAAAAAAOA/AAAAAAAA8D8AAAAAAAAAAAAAAAAAAOA/MzMzMzMz4z8AAAAAAADQP1VVVVVVVeU/\",\"dtype\":\"float64\",\"order\":\"little\",\"shape\":[42]},\"popularity\":{\"__ndarray__\":\"AAAAAACAVUAAAAAAAABQQAAAAAAAQFBAAAAAAAAATUAAAAAAAABQQAAAAAAAgFBAAAAAAABAUkAAAAAAAABPQAAAAAAAAE1AAAAAAABAUkAAAAAAAMBTQLdt27Ztm1BAAAAAAAAATkAAAAAAAMBSQAAAAAAAwEtAAAAAAADAU0AAAAAAAABQQAAAAAAAgFBAAAAAAAAAT0AAAAAAAABIQM3MzMzMTEtAAAAAAABATkBVVVVVVdVKQAAAAAAAAE1Aq6qqqqqqT0AAAAAAAMBOQAAAAAAAoFFAAAAAAAAAUkAAAAAAAEBQQAAAAAAAwElAAAAAAAAASkBVVVVVVdVKQAAAAAAAAE9AAAAAAABAVEBmZmZmZuZNQAAAAAAAQE1AAAAAAACAUUAAAAAAAMBSQGZmZmZmZlBAzczMzMzMTEAAAAAAAEBPQKuqqqqqKk5A\",\"dtype\":\"float64\",\"order\":\"little\",\"shape\":[42]},\"release_date\":{\"__ndarray__\":\"AAAAnZQRd0IAAAB+ZiN2QgAAQId3BXZCAACA85ECdkIAAIB8Fdh1QgAAQJPRzHVCAACAJpy2dUIAAMDN2a91QgAAgJp2SnVCAABA0jVIdUIAAAAK9UV1QgAAAHlYKHVCAABAm1PLdEIAAAAONsV0QgAAwNw+xHRCAABAz5OxdEIAAEA23kt0QgAAgPBYInRCAADAE4r3c0IAAICFNr9zQgAAwCx0uHNCAAAAxyG4c0IAAEAldolzQgAAAHdVenNCAAAADWlJc0IAAMD1kTtzQgAAAJA/O3NCAADAXkg6c0IAAECgMzNzQgAAQPrt03JCAABAFA7HckIAAMCxH8VyQgAAAEzNxHJCAACArYWUckIAAIDncl5yQgAAADbuUHJCAABAMm85ckIAAIAf9MNxQgAAACxppHFCAACASa/9cEIAAACQEahwQgAAAIj4X3BC\",\"dtype\":\"float64\",\"order\":\"little\",\"shape\":[42]},\"speechiness\":{\"__ndarray__\":\"TDeJQWDl0D+8dJMYBFbOP3uDL0ymCrY/LbKd76fG0z+cM6K0N/iyPwn5oGez6rM/LSEf9GxWrT9xPQrXo3C9P5LtfD81Xro/ku18PzVeuj9txf6ye/KgP7BnDLS9GrE//mX35GGhtj96xyk6ksuvPzjWxW00gKc/uycPC7WmqT9d/kP67euwP+f7qfHSTbI/EqW9wRcmsz9CPujZrPqcP1z+Q/rt67A/zojS3uALoz/Q/a9NPeWrP11txf6ye6I/K4cW2c73oz+RXP5D+u2rPxwN4C2QoLA/9ihcj8L10D8N4C2QoPihP+C+DpwzosA/1XjpJjEI1D+6JOFV6QG2P/kP6bevA6c/dJMYBFYOzT8CK4cW2c6nP33Qs1n1ubo/j8L1KFyP0j9SuB6F61HQPyMf9GxWfa4/2xZlNsgksz8nMQisHFrCP0PSlIqzD78/\",\"dtype\":\"float64\",\"order\":\"little\",\"shape\":[42]},\"tempo\":{\"__ndarray__\":\"Di2yne/LY0A6tMh2vr9nQCyHFtnOv1dAxSCwcmjBZ0A6tMh2vu9XQDq0yHa+Z1hAsp3vp8arW0AMAiuHFuVgQGQ730+Nf11AZDvfT41/XUASg8DKof1eQLew7EVzvl1AhetRuB6NU0CPwvUoXL9ZQClcj8L10mFAT42XbhK7aUDl0CLb+T5hQEFg5dAig1tA30+Nl26CXED91HjpJvlbQANWDi2yoV9ASOF6FK57WUBlrY4JHgBcQJqZmZmZQVVAUf9GKKOnWEDotIFOGwBcQO58PzVe/l9ArkfhehR2XkCPwvUoXD9VQMUgsHJoX2FAv8qhRbazVUAklNHbsm5fQJLtfD81XmBAnO+nxku/VUCQMXctIRdgQOm0gU4b2GNAvHSTGAS2VUD0/dR46fpjQFJJnYAmalxArbZif9ktXkDgT42XbtxeQBXZzvdTM1dA\",\"dtype\":\"float64\",\"order\":\"little\",\"shape\":[42]},\"valence\":{\"__ndarray__\":\"MQisHFpk5z9cj8L1KFzPP+58PzVeusk/N4lBYOXQwj/l8h/Sb1+3PwIrhxbZzuM/N4lBYOXQ2j/o+6nx0k3CP/P91HjpJtk/8/3UeOkm2T/D9Shcj8LdPzGOzjplcts/tvP91Hjp3j9I4XoUrkfZP2ZmZmZmZuA/Di2yne+n1j+S7Xw/NV7qPyuHFtnO9+M/z/dT46Wb3D8AAAAAAADAP8oyxLEubtc/+n5qvHST0D9o2BUg95rfP39qvHSTGNQ/S8XZh8+w0z/ZzvdT46XfP05iEFg5tOA/iUFg5dAi0z9t5/up8dLNPycxCKwcWuI/MQisHFpk2z9MyntgeMPhPyLb+X5qvOI/T42XbhKD5D+vlGWIY13gP22g0wY6beA/001iEFg53D9kO99PjZfeP1qoNc07TuU/eHqlLEMc4z/FILByaJHjPwAAAAAAAOQ/\",\"dtype\":\"float64\",\"order\":\"little\",\"shape\":[42]},\"year\":{\"__ndarray__\":\"AAAAAACQn0AAAAAAAIifQAAAAAAAhJ9AAAAAAACEn0AAAAAAAISfQAAAAAAAhJ9AAAAAAACEn0AAAAAAAISfQAAAAAAAgJ9AAAAAAACAn0AAAAAAAICfQAAAAAAAgJ9AAAAAAAB8n0AAAAAAAHyfQAAAAAAAfJ9AAAAAAAB8n0AAAAAAAHifQAAAAAAAdJ9AAAAAAAB0n0AAAAAAAHSfQAAAAAAAcJ9AAAAAAABwn0AAAAAAAHCfQAAAAAAAcJ9AAAAAAABwn0AAAAAAAGyfQAAAAAAAbJ9AAAAAAABsn0AAAAAAAGyfQAAAAAAAbJ9AAAAAAABon0AAAAAAAGifQAAAAAAAaJ9AAAAAAABon0AAAAAAAGifQAAAAAAAZJ9AAAAAAABkn0AAAAAAAGCfQAAAAAAAYJ9AAAAAAABcn0AAAAAAAFifQAAAAAAAVJ9A\",\"dtype\":\"float64\",\"order\":\"little\",\"shape\":[42]}},\"selected\":{\"id\":\"7232\"},\"selection_policy\":{\"id\":\"7231\"}},\"id\":\"7026\",\"type\":\"ColumnDataSource\"},{\"attributes\":{},\"id\":\"6679\",\"type\":\"HelpTool\"},{\"attributes\":{},\"id\":\"6662\",\"type\":\"LinearScale\"},{\"attributes\":{},\"id\":\"6664\",\"type\":\"LinearScale\"},{\"attributes\":{},\"id\":\"6897\",\"type\":\"DatetimeTickFormatter\"},{\"attributes\":{},\"id\":\"6915\",\"type\":\"YearsTicker\"},{\"attributes\":{\"source\":{\"id\":\"6695\"}},\"id\":\"6699\",\"type\":\"CDSView\"},{\"attributes\":{\"label\":{\"value\":\"Rihanna\"},\"renderers\":[{\"id\":\"7028\"}]},\"id\":\"7369\",\"type\":\"LegendItem\"},{\"attributes\":{\"active_drag\":\"auto\",\"active_inspect\":\"auto\",\"active_multi\":null,\"active_scroll\":\"auto\",\"active_tap\":\"auto\",\"tools\":[{\"id\":\"6674\"},{\"id\":\"6675\"},{\"id\":\"6676\"},{\"id\":\"6677\"},{\"id\":\"6678\"},{\"id\":\"6679\"}]},\"id\":\"6681\",\"type\":\"Toolbar\"},{\"attributes\":{\"days\":[1,15]},\"id\":\"6910\",\"type\":\"DaysTicker\"},{\"attributes\":{\"text\":\"la moyenne de popularit\\u00e9 des artistes selon release_date\"},\"id\":\"6656\",\"type\":\"Title\"},{\"attributes\":{},\"id\":\"6899\",\"type\":\"UnionRenderers\"},{\"attributes\":{\"line_color\":\"#1f77b4\",\"x\":{\"field\":\"x\"},\"y\":{\"field\":\"y\"}},\"id\":\"6689\",\"type\":\"Line\"},{\"attributes\":{},\"id\":\"6895\",\"type\":\"BasicTickFormatter\"}],\"root_ids\":[\"6655\"]},\"title\":\"Bokeh Application\",\"version\":\"2.2.3\"}};\n",
       "  var render_items = [{\"docid\":\"28664184-fd89-4a86-adb7-7c83b7875089\",\"root_ids\":[\"6655\"],\"roots\":{\"6655\":\"032ea257-e821-4305-aeb4-1f3805190bff\"}}];\n",
       "  root.Bokeh.embed.embed_items_notebook(docs_json, render_items);\n",
       "\n",
       "  }\n",
       "  if (root.Bokeh !== undefined) {\n",
       "    embed_document(root);\n",
       "  } else {\n",
       "    var attempts = 0;\n",
       "    var timer = setInterval(function(root) {\n",
       "      if (root.Bokeh !== undefined) {\n",
       "        clearInterval(timer);\n",
       "        embed_document(root);\n",
       "      } else {\n",
       "        attempts++;\n",
       "        if (attempts > 100) {\n",
       "          clearInterval(timer);\n",
       "          console.log(\"Bokeh: ERROR: Unable to run BokehJS code because BokehJS library is missing\");\n",
       "        }\n",
       "      }\n",
       "    }, 10, root)\n",
       "  }\n",
       "})(window);"
      ],
      "application/vnd.bokehjs_exec.v0+json": ""
     },
     "metadata": {
      "application/vnd.bokehjs_exec.v0+json": {
       "id": "6655"
      }
     },
     "output_type": "display_data"
    }
   ],
   "source": [
    "# Afficher votre graphe à nouveau\n",
    "\n",
    "show(p)"
   ]
  },
  {
   "cell_type": "code",
   "execution_count": 226,
   "metadata": {},
   "outputs": [
    {
     "data": {
      "text/plain": [
       "[GlyphRenderer(id='6691', ...),\n",
       " GlyphRenderer(id='6698', ...),\n",
       " GlyphRenderer(id='7028', ...)]"
      ]
     },
     "execution_count": 226,
     "metadata": {},
     "output_type": "execute_result"
    }
   ],
   "source": [
    "# Afficher la liste des renderers. Arrivez-vous à voir les nouveaux composants?\n",
    "p.renderers #non, why?"
   ]
  },
  {
   "cell_type": "markdown",
   "metadata": {},
   "source": [
    "<br></br> \n",
    "\n",
    "### Graphes supplémentaires (données catégoriques, whiskers, propriétés visuelles...):\n",
    "\n",
    "Pour visualiser les données catégoriques, on a tendance à utiliser des graphes à barres. En se basant sur votre fichier (TP1) contenant le nombre des pistes duos par artiste (collaborateur) et la moyenne des variables du même artiste, créer Un graphe à bar + Ligne. Voir https://docs.bokeh.org/en/latest/docs/user_guide/categorical.html. \n",
    "\n",
    "Vous pouvez également explorer le nombre de pistes selon les clés et leur popularité respective en utilisant les whiskers par exemple https://docs.bokeh.org/en/latest/docs/user_guide/annotations.html#whiskers.\n",
    "\n",
    "Penser à donner des titres, des labels... à vos graphes, axes etc. Pour plus de détails sur les propriétés visuelles, voir: https://docs.bokeh.org/en/latest/docs/user_guide/styling.html"
   ]
  },
  {
   "cell_type": "markdown",
   "metadata": {},
   "source": [
    "##### Exemple de gestion des données catégoriques dans un graphe Bokeh: "
   ]
  },
  {
   "cell_type": "code",
   "execution_count": 281,
   "metadata": {},
   "outputs": [
    {
     "data": {
      "text/plain": [
       "Index(['artists', 'number of artists', 'danceability', 'duration_ms', 'energy',\n",
       "       'explicit', 'id', 'instrumentalness', 'key', 'liveness', 'loudness',\n",
       "       'mode', 'name', 'popularity', 'release_date', 'speechiness', 'tempo',\n",
       "       'valence', 'year', 'first_artist', 'second_artist'],\n",
       "      dtype='object')"
      ]
     },
     "execution_count": 281,
     "metadata": {},
     "output_type": "execute_result"
    }
   ],
   "source": [
    "# Lire le fichiers des duos sauvegardé du TP1 dans une dataframe \n",
    "df = pd.read_csv(\"./music_dataset/data_duo.csv\", index_col = 0)\n",
    "df.columns"
   ]
  },
  {
   "cell_type": "code",
   "execution_count": 282,
   "metadata": {},
   "outputs": [
    {
     "data": {
      "text/html": [
       "<div>\n",
       "<style scoped>\n",
       "    .dataframe tbody tr th:only-of-type {\n",
       "        vertical-align: middle;\n",
       "    }\n",
       "\n",
       "    .dataframe tbody tr th {\n",
       "        vertical-align: top;\n",
       "    }\n",
       "\n",
       "    .dataframe thead th {\n",
       "        text-align: right;\n",
       "    }\n",
       "</style>\n",
       "<table border=\"1\" class=\"dataframe\">\n",
       "  <thead>\n",
       "    <tr style=\"text-align: right;\">\n",
       "      <th></th>\n",
       "      <th></th>\n",
       "      <th>number of artists</th>\n",
       "      <th>danceability</th>\n",
       "      <th>duration_ms</th>\n",
       "      <th>energy</th>\n",
       "      <th>explicit</th>\n",
       "      <th>instrumentalness</th>\n",
       "      <th>key</th>\n",
       "      <th>liveness</th>\n",
       "      <th>loudness</th>\n",
       "      <th>mode</th>\n",
       "      <th>popularity</th>\n",
       "      <th>speechiness</th>\n",
       "      <th>tempo</th>\n",
       "      <th>valence</th>\n",
       "      <th>year</th>\n",
       "    </tr>\n",
       "    <tr>\n",
       "      <th>first_artist</th>\n",
       "      <th>second_artist</th>\n",
       "      <th></th>\n",
       "      <th></th>\n",
       "      <th></th>\n",
       "      <th></th>\n",
       "      <th></th>\n",
       "      <th></th>\n",
       "      <th></th>\n",
       "      <th></th>\n",
       "      <th></th>\n",
       "      <th></th>\n",
       "      <th></th>\n",
       "      <th></th>\n",
       "      <th></th>\n",
       "      <th></th>\n",
       "      <th></th>\n",
       "    </tr>\n",
       "  </thead>\n",
       "  <tbody>\n",
       "    <tr>\n",
       "      <th>Powfu</th>\n",
       "      <th>beabadoobee</th>\n",
       "      <td>2.0</td>\n",
       "      <td>0.7260</td>\n",
       "      <td>173333.0</td>\n",
       "      <td>0.4310</td>\n",
       "      <td>0.0</td>\n",
       "      <td>0.000000</td>\n",
       "      <td>8.0</td>\n",
       "      <td>0.6960</td>\n",
       "      <td>-8.7650</td>\n",
       "      <td>0.0</td>\n",
       "      <td>97.0</td>\n",
       "      <td>0.13500</td>\n",
       "      <td>144.026</td>\n",
       "      <td>0.348</td>\n",
       "      <td>2020.0</td>\n",
       "    </tr>\n",
       "    <tr>\n",
       "      <th>Surf Mesa</th>\n",
       "      <th>Emilee</th>\n",
       "      <td>2.0</td>\n",
       "      <td>0.6740</td>\n",
       "      <td>176547.0</td>\n",
       "      <td>0.7740</td>\n",
       "      <td>0.0</td>\n",
       "      <td>0.001880</td>\n",
       "      <td>11.0</td>\n",
       "      <td>0.3930</td>\n",
       "      <td>-7.5670</td>\n",
       "      <td>0.0</td>\n",
       "      <td>95.0</td>\n",
       "      <td>0.08920</td>\n",
       "      <td>112.050</td>\n",
       "      <td>0.330</td>\n",
       "      <td>2019.0</td>\n",
       "    </tr>\n",
       "    <tr>\n",
       "      <th>BENEE</th>\n",
       "      <th>Gus Dapperton</th>\n",
       "      <td>2.0</td>\n",
       "      <td>0.8630</td>\n",
       "      <td>223480.0</td>\n",
       "      <td>0.6310</td>\n",
       "      <td>1.0</td>\n",
       "      <td>0.000030</td>\n",
       "      <td>7.0</td>\n",
       "      <td>0.1230</td>\n",
       "      <td>-4.6890</td>\n",
       "      <td>1.0</td>\n",
       "      <td>95.0</td>\n",
       "      <td>0.05340</td>\n",
       "      <td>128.977</td>\n",
       "      <td>0.817</td>\n",
       "      <td>2019.0</td>\n",
       "    </tr>\n",
       "    <tr>\n",
       "      <th>Ariana Grande</th>\n",
       "      <th>Justin Bieber</th>\n",
       "      <td>2.0</td>\n",
       "      <td>0.5970</td>\n",
       "      <td>228482.0</td>\n",
       "      <td>0.4500</td>\n",
       "      <td>0.0</td>\n",
       "      <td>0.000000</td>\n",
       "      <td>8.0</td>\n",
       "      <td>0.3820</td>\n",
       "      <td>-6.6580</td>\n",
       "      <td>1.0</td>\n",
       "      <td>94.0</td>\n",
       "      <td>0.04180</td>\n",
       "      <td>178.765</td>\n",
       "      <td>0.537</td>\n",
       "      <td>2020.0</td>\n",
       "    </tr>\n",
       "    <tr>\n",
       "      <th>KAROL G</th>\n",
       "      <th>Nicki Minaj</th>\n",
       "      <td>2.0</td>\n",
       "      <td>0.8030</td>\n",
       "      <td>200960.0</td>\n",
       "      <td>0.7150</td>\n",
       "      <td>0.0</td>\n",
       "      <td>0.000134</td>\n",
       "      <td>2.0</td>\n",
       "      <td>0.0574</td>\n",
       "      <td>-3.2800</td>\n",
       "      <td>1.0</td>\n",
       "      <td>92.0</td>\n",
       "      <td>0.29800</td>\n",
       "      <td>101.085</td>\n",
       "      <td>0.574</td>\n",
       "      <td>2019.0</td>\n",
       "    </tr>\n",
       "    <tr>\n",
       "      <th>Topic</th>\n",
       "      <th>A7S</th>\n",
       "      <td>2.0</td>\n",
       "      <td>0.7890</td>\n",
       "      <td>166794.0</td>\n",
       "      <td>0.7200</td>\n",
       "      <td>0.0</td>\n",
       "      <td>0.000000</td>\n",
       "      <td>8.0</td>\n",
       "      <td>0.1290</td>\n",
       "      <td>-5.6520</td>\n",
       "      <td>0.0</td>\n",
       "      <td>92.0</td>\n",
       "      <td>0.21800</td>\n",
       "      <td>122.031</td>\n",
       "      <td>0.664</td>\n",
       "      <td>2019.0</td>\n",
       "    </tr>\n",
       "    <tr>\n",
       "      <th>Marshmello</th>\n",
       "      <th>Halsey</th>\n",
       "      <td>2.0</td>\n",
       "      <td>0.6300</td>\n",
       "      <td>172762.0</td>\n",
       "      <td>0.6330</td>\n",
       "      <td>0.0</td>\n",
       "      <td>0.000000</td>\n",
       "      <td>4.0</td>\n",
       "      <td>0.0541</td>\n",
       "      <td>-7.0880</td>\n",
       "      <td>1.0</td>\n",
       "      <td>91.0</td>\n",
       "      <td>0.04570</td>\n",
       "      <td>93.995</td>\n",
       "      <td>0.452</td>\n",
       "      <td>2020.0</td>\n",
       "    </tr>\n",
       "    <tr>\n",
       "      <th>Lady Gaga</th>\n",
       "      <th>Ariana Grande</th>\n",
       "      <td>2.0</td>\n",
       "      <td>0.6720</td>\n",
       "      <td>182200.0</td>\n",
       "      <td>0.8550</td>\n",
       "      <td>0.0</td>\n",
       "      <td>0.000000</td>\n",
       "      <td>9.0</td>\n",
       "      <td>0.3230</td>\n",
       "      <td>-3.7640</td>\n",
       "      <td>1.0</td>\n",
       "      <td>90.5</td>\n",
       "      <td>0.03970</td>\n",
       "      <td>123.056</td>\n",
       "      <td>0.646</td>\n",
       "      <td>2020.0</td>\n",
       "    </tr>\n",
       "    <tr>\n",
       "      <th>ROSALÍA</th>\n",
       "      <th>Travis Scott</th>\n",
       "      <td>2.0</td>\n",
       "      <td>0.7760</td>\n",
       "      <td>129371.0</td>\n",
       "      <td>0.5090</td>\n",
       "      <td>0.0</td>\n",
       "      <td>0.000001</td>\n",
       "      <td>0.0</td>\n",
       "      <td>0.1150</td>\n",
       "      <td>-6.2660</td>\n",
       "      <td>0.0</td>\n",
       "      <td>90.0</td>\n",
       "      <td>0.46700</td>\n",
       "      <td>94.634</td>\n",
       "      <td>0.485</td>\n",
       "      <td>2020.0</td>\n",
       "    </tr>\n",
       "    <tr>\n",
       "      <th>Justin Bieber</th>\n",
       "      <th>Quavo</th>\n",
       "      <td>2.0</td>\n",
       "      <td>0.8085</td>\n",
       "      <td>212868.0</td>\n",
       "      <td>0.5495</td>\n",
       "      <td>0.0</td>\n",
       "      <td>0.000000</td>\n",
       "      <td>9.0</td>\n",
       "      <td>0.1035</td>\n",
       "      <td>-6.6405</td>\n",
       "      <td>1.0</td>\n",
       "      <td>89.0</td>\n",
       "      <td>0.05635</td>\n",
       "      <td>148.000</td>\n",
       "      <td>0.867</td>\n",
       "      <td>2020.0</td>\n",
       "    </tr>\n",
       "  </tbody>\n",
       "</table>\n",
       "</div>"
      ],
      "text/plain": [
       "                                  number of artists  danceability  \\\n",
       "first_artist    second_artist                                       \n",
       " Powfu            beabadoobee                   2.0        0.7260   \n",
       " Surf Mesa        Emilee                        2.0        0.6740   \n",
       " BENEE            Gus Dapperton                 2.0        0.8630   \n",
       " Ariana Grande    Justin Bieber                 2.0        0.5970   \n",
       " KAROL G          Nicki Minaj                   2.0        0.8030   \n",
       " Topic            A7S                           2.0        0.7890   \n",
       " Marshmello       Halsey                        2.0        0.6300   \n",
       " Lady Gaga        Ariana Grande                 2.0        0.6720   \n",
       " ROSALÍA          Travis Scott                  2.0        0.7760   \n",
       " Justin Bieber    Quavo                         2.0        0.8085   \n",
       "\n",
       "                                  duration_ms  energy  explicit  \\\n",
       "first_artist    second_artist                                     \n",
       " Powfu            beabadoobee        173333.0  0.4310       0.0   \n",
       " Surf Mesa        Emilee             176547.0  0.7740       0.0   \n",
       " BENEE            Gus Dapperton      223480.0  0.6310       1.0   \n",
       " Ariana Grande    Justin Bieber      228482.0  0.4500       0.0   \n",
       " KAROL G          Nicki Minaj        200960.0  0.7150       0.0   \n",
       " Topic            A7S                166794.0  0.7200       0.0   \n",
       " Marshmello       Halsey             172762.0  0.6330       0.0   \n",
       " Lady Gaga        Ariana Grande      182200.0  0.8550       0.0   \n",
       " ROSALÍA          Travis Scott       129371.0  0.5090       0.0   \n",
       " Justin Bieber    Quavo              212868.0  0.5495       0.0   \n",
       "\n",
       "                                  instrumentalness   key  liveness  loudness  \\\n",
       "first_artist    second_artist                                                  \n",
       " Powfu            beabadoobee             0.000000   8.0    0.6960   -8.7650   \n",
       " Surf Mesa        Emilee                  0.001880  11.0    0.3930   -7.5670   \n",
       " BENEE            Gus Dapperton           0.000030   7.0    0.1230   -4.6890   \n",
       " Ariana Grande    Justin Bieber           0.000000   8.0    0.3820   -6.6580   \n",
       " KAROL G          Nicki Minaj             0.000134   2.0    0.0574   -3.2800   \n",
       " Topic            A7S                     0.000000   8.0    0.1290   -5.6520   \n",
       " Marshmello       Halsey                  0.000000   4.0    0.0541   -7.0880   \n",
       " Lady Gaga        Ariana Grande           0.000000   9.0    0.3230   -3.7640   \n",
       " ROSALÍA          Travis Scott            0.000001   0.0    0.1150   -6.2660   \n",
       " Justin Bieber    Quavo                   0.000000   9.0    0.1035   -6.6405   \n",
       "\n",
       "                                  mode  popularity  speechiness    tempo  \\\n",
       "first_artist    second_artist                                              \n",
       " Powfu            beabadoobee      0.0        97.0      0.13500  144.026   \n",
       " Surf Mesa        Emilee           0.0        95.0      0.08920  112.050   \n",
       " BENEE            Gus Dapperton    1.0        95.0      0.05340  128.977   \n",
       " Ariana Grande    Justin Bieber    1.0        94.0      0.04180  178.765   \n",
       " KAROL G          Nicki Minaj      1.0        92.0      0.29800  101.085   \n",
       " Topic            A7S              0.0        92.0      0.21800  122.031   \n",
       " Marshmello       Halsey           1.0        91.0      0.04570   93.995   \n",
       " Lady Gaga        Ariana Grande    1.0        90.5      0.03970  123.056   \n",
       " ROSALÍA          Travis Scott     0.0        90.0      0.46700   94.634   \n",
       " Justin Bieber    Quavo            1.0        89.0      0.05635  148.000   \n",
       "\n",
       "                                  valence    year  \n",
       "first_artist    second_artist                      \n",
       " Powfu            beabadoobee       0.348  2020.0  \n",
       " Surf Mesa        Emilee            0.330  2019.0  \n",
       " BENEE            Gus Dapperton     0.817  2019.0  \n",
       " Ariana Grande    Justin Bieber     0.537  2020.0  \n",
       " KAROL G          Nicki Minaj       0.574  2019.0  \n",
       " Topic            A7S               0.664  2019.0  \n",
       " Marshmello       Halsey            0.452  2020.0  \n",
       " Lady Gaga        Ariana Grande     0.646  2020.0  \n",
       " ROSALÍA          Travis Scott      0.485  2020.0  \n",
       " Justin Bieber    Quavo             0.867  2020.0  "
      ]
     },
     "execution_count": 282,
     "metadata": {},
     "output_type": "execute_result"
    }
   ],
   "source": [
    "# Créer une nouvelle dataframe qui calcule les moyennes des variables d'une paire d'artistes et les ordonnes par leur popularité ascendante \n",
    "# pour n'en prendre que les 10 premiers\n",
    "df_agg = df.groupby(['first_artist', 'second_artist']).mean()\n",
    "df_agg.sort_values(by='popularity', ascending=False).head(10)"
   ]
  },
  {
   "cell_type": "code",
   "execution_count": 283,
   "metadata": {},
   "outputs": [],
   "source": [
    "from bokeh.palettes import Magma10\n",
    "from bokeh.transform import factor_cmap\n",
    "import numpy as np\n",
    "\n",
    "# pylint: disable=no-name-in-module\n",
    "from bokeh.palettes import viridis"
   ]
  },
  {
   "cell_type": "code",
   "execution_count": 284,
   "metadata": {},
   "outputs": [],
   "source": [
    "# Créer une ColumnDataSource avec la nouvelle dataframe\n",
    "cds = ColumnDataSource(df)"
   ]
  },
  {
   "cell_type": "code",
   "execution_count": 343,
   "metadata": {},
   "outputs": [],
   "source": [
    "# Créer une liste contenant la liste des premiers artistes des duos\n",
    "new_df = df.sort_values('first_artist', ascending=False).drop_duplicates(subset=['first_artist', 'popularity'])\n",
    "forPlot = new_df[[\"first_artist\", \"popularity\"]].values\n",
    "first_artist = []\n",
    "popularity = []\n",
    "for i in forPlot:\n",
    "    first_artist.append(i[0])\n",
    "    popularity.append(i[1])\n",
    "first_artist = first_artist[0:256]\n",
    "popularity = popularity[0:256]\n"
   ]
  },
  {
   "cell_type": "code",
   "execution_count": 344,
   "metadata": {},
   "outputs": [],
   "source": [
    "# Créer une figure en indiquant que l'axe x aura une liste de valeur qui est la liste des artistes créée, penser à utiliser l'argument x_range\n",
    "p = figure(plot_width=400, plot_height=400, x_range=first_artist)"
   ]
  },
  {
   "cell_type": "code",
   "execution_count": 345,
   "metadata": {},
   "outputs": [
    {
     "data": {
      "text/html": [
       "<div style=\"display: table;\"><div style=\"display: table-row;\"><div style=\"display: table-cell;\"><b title=\"bokeh.models.renderers.GlyphRenderer\">GlyphRenderer</b>(</div><div style=\"display: table-cell;\">id&nbsp;=&nbsp;'12050', <span id=\"12053\" style=\"cursor: pointer;\">&hellip;)</span></div></div><div class=\"12052\" style=\"display: none;\"><div style=\"display: table-cell;\"></div><div style=\"display: table-cell;\">data_source&nbsp;=&nbsp;ColumnDataSource(id='12047', ...),</div></div><div class=\"12052\" style=\"display: none;\"><div style=\"display: table-cell;\"></div><div style=\"display: table-cell;\">glyph&nbsp;=&nbsp;VBar(id='12048', ...),</div></div><div class=\"12052\" style=\"display: none;\"><div style=\"display: table-cell;\"></div><div style=\"display: table-cell;\">hover_glyph&nbsp;=&nbsp;None,</div></div><div class=\"12052\" style=\"display: none;\"><div style=\"display: table-cell;\"></div><div style=\"display: table-cell;\">js_event_callbacks&nbsp;=&nbsp;{},</div></div><div class=\"12052\" style=\"display: none;\"><div style=\"display: table-cell;\"></div><div style=\"display: table-cell;\">js_property_callbacks&nbsp;=&nbsp;{},</div></div><div class=\"12052\" style=\"display: none;\"><div style=\"display: table-cell;\"></div><div style=\"display: table-cell;\">level&nbsp;=&nbsp;'glyph',</div></div><div class=\"12052\" style=\"display: none;\"><div style=\"display: table-cell;\"></div><div style=\"display: table-cell;\">muted&nbsp;=&nbsp;False,</div></div><div class=\"12052\" style=\"display: none;\"><div style=\"display: table-cell;\"></div><div style=\"display: table-cell;\">muted_glyph&nbsp;=&nbsp;None,</div></div><div class=\"12052\" style=\"display: none;\"><div style=\"display: table-cell;\"></div><div style=\"display: table-cell;\">name&nbsp;=&nbsp;None,</div></div><div class=\"12052\" style=\"display: none;\"><div style=\"display: table-cell;\"></div><div style=\"display: table-cell;\">nonselection_glyph&nbsp;=&nbsp;VBar(id='12049', ...),</div></div><div class=\"12052\" style=\"display: none;\"><div style=\"display: table-cell;\"></div><div style=\"display: table-cell;\">selection_glyph&nbsp;=&nbsp;None,</div></div><div class=\"12052\" style=\"display: none;\"><div style=\"display: table-cell;\"></div><div style=\"display: table-cell;\">subscribed_events&nbsp;=&nbsp;[],</div></div><div class=\"12052\" style=\"display: none;\"><div style=\"display: table-cell;\"></div><div style=\"display: table-cell;\">tags&nbsp;=&nbsp;[],</div></div><div class=\"12052\" style=\"display: none;\"><div style=\"display: table-cell;\"></div><div style=\"display: table-cell;\">view&nbsp;=&nbsp;CDSView(id='12051', ...),</div></div><div class=\"12052\" style=\"display: none;\"><div style=\"display: table-cell;\"></div><div style=\"display: table-cell;\">visible&nbsp;=&nbsp;True,</div></div><div class=\"12052\" style=\"display: none;\"><div style=\"display: table-cell;\"></div><div style=\"display: table-cell;\">x_range_name&nbsp;=&nbsp;'default',</div></div><div class=\"12052\" style=\"display: none;\"><div style=\"display: table-cell;\"></div><div style=\"display: table-cell;\">y_range_name&nbsp;=&nbsp;'default')</div></div></div>\n",
       "<script>\n",
       "(function() {\n",
       "  var expanded = false;\n",
       "  var ellipsis = document.getElementById(\"12053\");\n",
       "  ellipsis.addEventListener(\"click\", function() {\n",
       "    var rows = document.getElementsByClassName(\"12052\");\n",
       "    for (var i = 0; i < rows.length; i++) {\n",
       "      var el = rows[i];\n",
       "      el.style.display = expanded ? \"none\" : \"table-row\";\n",
       "    }\n",
       "    ellipsis.innerHTML = expanded ? \"&hellip;)\" : \"&lsaquo;&lsaquo;&lsaquo;\";\n",
       "    expanded = !expanded;\n",
       "  });\n",
       "})();\n",
       "</script>\n"
      ],
      "text/plain": [
       "GlyphRenderer(id='12050', ...)"
      ]
     },
     "execution_count": 345,
     "metadata": {},
     "output_type": "execute_result"
    }
   ],
   "source": [
    "# Créer un graphe à barres verticales avec les premiers artistes dans l'axe x et popularity comme valeur, \n",
    "# changer les couleurs des barres en fonction des valeurs catégoriques en utilisant l'argument fill_color et la fonction factor_map\n",
    "p.vbar(first_artist, popularity, width=30)\n",
    "# Le nombre maximum des couleurs est 256 donc on va continuer sur 256 champs\n",
    "# fill_map = factor_cmap(\"first_artist\", palette=viridis(max(3, len(first_artist))), factors=first_artist)"
   ]
  },
  {
   "cell_type": "code",
   "execution_count": 346,
   "metadata": {},
   "outputs": [
    {
     "name": "stderr",
     "output_type": "stream",
     "text": [
      "ERROR:bokeh.core.validation.check:E-1019 (DUPLICATE_FACTORS): FactorRange must specify a unique list of categorical factors for an axis: duplicate factors found: ' 張琪 ', ' オメガトライブ ', ' Οrquesta Maestro Torroba ', ' Ñejo ', ' Émile Waldteufel ', ' will i am ', ' prxz ', ' nothing', ' moow ', ' ilyTOMMY ', ' iann dior ', ' gnash ', ' fun  ', ' deadmau5 ', ' blackbear ', ' bbno$ ', ' ayokay ', ' Zydecajun ', ' Zsa Zsa Padilla ', ' Zohrabai Ambalawali ', ' Zion I ', ' Zion   Lennox ', ' Zion ', ' Zero 7 ', ' Zedd ', ' Zara Larsson ', ' Zac Efron ', ' Zac Brown Band ', ' ZAYN ', ' Yvonne Elliman ', ' Yung Joc ', ' Yung Gravy ', ' Youngbloodz ', ' YoungBoy Never Broke Again ', ' Young Thug ', ' Young T   Bugsey ', ' Young Money '\n"
     ]
    },
    {
     "data": {
      "text/html": [
       "\n",
       "\n",
       "\n",
       "\n",
       "\n",
       "\n",
       "  <div class=\"bk-root\" id=\"d5846f68-c992-48d0-9482-fa43ae3e0cd8\" data-root-id=\"12017\"></div>\n"
      ]
     },
     "metadata": {},
     "output_type": "display_data"
    },
    {
     "data": {
      "application/javascript": [
       "(function(root) {\n",
       "  function embed_document(root) {\n",
       "    \n",
       "  var docs_json = {\"2ecb0697-0a93-4977-977f-3c8390814325\":{\"roots\":{\"references\":[{\"attributes\":{\"below\":[{\"id\":\"12026\"}],\"center\":[{\"id\":\"12028\"},{\"id\":\"12032\"}],\"left\":[{\"id\":\"12029\"}],\"plot_height\":400,\"plot_width\":400,\"renderers\":[{\"id\":\"12050\"}],\"title\":{\"id\":\"12357\"},\"toolbar\":{\"id\":\"12040\"},\"x_range\":{\"id\":\"12018\"},\"x_scale\":{\"id\":\"12022\"},\"y_range\":{\"id\":\"12020\"},\"y_scale\":{\"id\":\"12024\"}},\"id\":\"12017\",\"subtype\":\"Figure\",\"type\":\"Plot\"},{\"attributes\":{},\"id\":\"12024\",\"type\":\"LinearScale\"},{\"attributes\":{},\"id\":\"12020\",\"type\":\"DataRange1d\"},{\"attributes\":{},\"id\":\"12022\",\"type\":\"CategoricalScale\"},{\"attributes\":{},\"id\":\"12036\",\"type\":\"SaveTool\"},{\"attributes\":{},\"id\":\"12027\",\"type\":\"CategoricalTicker\"},{\"attributes\":{\"formatter\":{\"id\":\"12359\"},\"ticker\":{\"id\":\"12030\"}},\"id\":\"12029\",\"type\":\"LinearAxis\"},{\"attributes\":{},\"id\":\"12038\",\"type\":\"HelpTool\"},{\"attributes\":{\"formatter\":{\"id\":\"12361\"},\"ticker\":{\"id\":\"12027\"}},\"id\":\"12026\",\"type\":\"CategoricalAxis\"},{\"attributes\":{\"text\":\"\"},\"id\":\"12357\",\"type\":\"Title\"},{\"attributes\":{},\"id\":\"12033\",\"type\":\"PanTool\"},{\"attributes\":{\"axis\":{\"id\":\"12026\"},\"ticker\":null},\"id\":\"12028\",\"type\":\"Grid\"},{\"attributes\":{\"active_drag\":\"auto\",\"active_inspect\":\"auto\",\"active_multi\":null,\"active_scroll\":\"auto\",\"active_tap\":\"auto\",\"tools\":[{\"id\":\"12033\"},{\"id\":\"12034\"},{\"id\":\"12035\"},{\"id\":\"12036\"},{\"id\":\"12037\"},{\"id\":\"12038\"}]},\"id\":\"12040\",\"type\":\"Toolbar\"},{\"attributes\":{\"fill_color\":{\"value\":\"#1f77b4\"},\"line_color\":{\"value\":\"#1f77b4\"},\"width\":{\"field\":\"width\"},\"x\":{\"field\":\"x\"}},\"id\":\"12048\",\"type\":\"VBar\"},{\"attributes\":{\"overlay\":{\"id\":\"12039\"}},\"id\":\"12035\",\"type\":\"BoxZoomTool\"},{\"attributes\":{\"axis\":{\"id\":\"12029\"},\"dimension\":1,\"ticker\":null},\"id\":\"12032\",\"type\":\"Grid\"},{\"attributes\":{\"factors\":[\" \\u9ec3\\u570b\\u9686 \",\" \\u7b20\\u4e95 \\u7d00\\u7f8e\\u5b50 \",\" \\u6e6f\\u5bf6\\u5982 \",\" \\u5f6d\\u5bb6\\u9e97 \",\" \\u5f35\\u742a \",\" \\u5f35\\u742a \",\" \\u5305\\u5a1c\\u5a1c \",\" \\u30aa\\u30e1\\u30ac\\u30c8\\u30e9\\u30a4\\u30d6 \",\" \\u30aa\\u30e1\\u30ac\\u30c8\\u30e9\\u30a4\\u30d6 \",\" \\u30aa\\u30e1\\u30ac\\u30c8\\u30e9\\u30a4\\u30d6 \",\" \\u30aa\\u30e1\\u30ac\\u30c8\\u30e9\\u30a4\\u30d6 \",\" \\u30aa\\u30e1\\u30ac\\u30c8\\u30e9\\u30a4\\u30d6 \",\" \\u30aa\\u30e1\\u30ac\\u30c8\\u30e9\\u30a4\\u30d6 \",\" \\u30aa\\u30e1\\u30ac\\u30c8\\u30e9\\u30a4\\u30d6 \",\" \\u30aa\\u30e1\\u30ac\\u30c8\\u30e9\\u30a4\\u30d6 \",\" \\u30aa\\u30e1\\u30ac\\u30c8\\u30e9\\u30a4\\u30d6 \",\" \\u30aa\\u30e1\\u30ac\\u30c8\\u30e9\\u30a4\\u30d6 \",\" \\u041e\\u0422\\u0412\\u0410\\u041b \\u0411\\u0410WKN \",\" \\u0411\\u043e\\u043b\\u044c\\u0448\\u043e\\u0439 \\u0434\\u0435\\u0442\\u0441\\u043a\\u0438\\u0439 \\u0445\\u043e\\u0440 \\u0426\\u0435\\u043d\\u0442\\u0440\\u0430\\u043b\\u044c\\u043d\\u043e\\u0433\\u043e \\u0442\\u0435\\u043b\\u0435\\u0432\\u0438\\u0434\\u0435\\u043d\\u0438\\u044f \\u0438 \\u0412\\u0441\\u0435\\u0441\\u043e\\u044e\\u0437\\u043d\\u043e\\u0433\\u043e \\u0440\\u0430\\u0434\\u0438\\u043e \",\" \\u03a7\\u03ac\\u03c1\\u03b7\\u03c2 \\u039a\\u03bf\\u03c5\\u03c6\\u03b9\\u03b4\\u03ac\\u03ba\\u03b7\\u03c2 \",\" \\u03a4\\u03b6\\u03c9\\u03bd \\u0393\\u03b9\\u03ac\\u03bd\\u03bd\\u03b1\\u03c1\\u03bf\\u03c2 \",\" \\u03a3\\u03c4\\u03b1\\u03cd\\u03c1\\u03bf\\u03c2 \\u03a0\\u03bb\\u03ad\\u03c3\\u03c3\\u03b1\\u03c2 \",\" \\u03a3\\u03c4\\u03ad\\u03bb\\u03bb\\u03b1 \\u03a7\\u03b1\\u03c3\\u03ba\\u03ae\\u03bb \",\" \\u03a3\\u03c4\\u03ad\\u03bb\\u03b9\\u03bf\\u03c2 \\u039a\\u03b5\\u03c1\\u03bf\\u03bc\\u03cd\\u03c4\\u03b7\\u03c2 \",\" \\u03a3\\u03c0\\u03cd\\u03c1\\u03bf\\u03c2 \\u03a3\\u03c4\\u03ac\\u03bc\\u03bf\\u03c2 \",\" \\u03a1\\u03ad\\u03bd\\u03bf\\u03c2 \\u03a4\\u03ac\\u03bb\\u03bc\\u03b1\\u03c2 \",\" \\u03a0\\u03ad\\u03c4\\u03c1\\u03bf\\u03c2 \\u039a\\u03c5\\u03c1\\u03b9\\u03b1\\u03ba\\u03cc\\u03c2 \",\" \\u03a0\\u03ac\\u03bd\\u03bf\\u03c2 \\u03a3\\u03ac\\u03bc\\u03b7\\u03c2 \",\" \\u039frquesta Maestro Torroba \",\" \\u039frquesta Maestro Torroba \",\" \\u039frquesta Maestro Torroba \",\" \\u039d\\u03c4\\u03bf\\u03cd\\u03bf \\u03a3\\u03c4\\u03b1\\u03bc\\u03c0\\u03bf\\u03cd\\u03bb \",\" \\u039d\\u03b9\\u03ba\\u03bf\\u03bb\\u03ad\\u03c4\\u03b1 \\u039a\\u03b1\\u03c0\\u03c1\\u03ae \",\" \\u039d\\u03b1\\u03bd\\u03ac \\u0393\\u03ba\\u03c1\\u03ad\\u03ba\\u03b1 \",\" \\u039d\\u03af\\u03ba\\u03bf\\u03c2 \\u03a7\\u03b1\\u03bc\\u03c0\\u03ac\\u03c2 \\u03bc\\u03b5 \\u03c4\\u03b7 \\u03bc\\u03b1\\u03bd\\u03c4\\u03bf\\u03bb\\u03b9\\u03bd\\u03ac\\u03c4\\u03b1 \\u0399\\u03b5\\u03c1\\u03cc\\u03b8\\u03b5\\u03bf\\u03c5 \\u03a3\\u03c7\\u03af\\u03b6\\u03b1 \",\" \\u039d\\u03af\\u03ba\\u03bf\\u03c2 \\u03a4\\u03b6\\u03bf\\u03c5\\u03b3\\u03ac\\u03bd\\u03bf\\u03c2 \",\" \\u039d \\u03a6\\u03c1\\u03b1\\u03b3\\u03b3\\u03b9\\u03ac \",\" \\u039d \\u03a4\\u03c3\\u03ac\\u03bc\\u03b7\\u03c2 \",\" \\u039c\\u03c0\\u03ad\\u03bc\\u03c0\\u03b1 \\u03a6\\u03c1\\u03b5\\u03b9\\u03b4\\u03b5\\u03c1\\u03af\\u03ba\\u03b1 \",\" \\u039c\\u03b1\\u03c1\\u03af\\u03b1 \\u0391\\u03bd\\u03b4\\u03c1\\u03bf\\u03bd\\u03af\\u03ba\\u03bf\\u03c5 \",\" \\u039c\\u03ac\\u03ba\\u03b7\\u03c2 \\u039a\\u03b1\\u03c1\\u03bd\\u03ad\\u03c1\\u03b7\\u03c2 \",\" \\u039c  \\u03a6\\u03b9\\u03bb\\u03b9\\u03c0\\u03c0\\u03af\\u03b4\\u03b7\\u03c2 \",\" \\u039a\\u03ce\\u03c3\\u03c4\\u03b1\\u03c2 \\u03a0\\u03bf\\u03bb\\u03af\\u03c4\\u03b7\\u03c2 \",\" \\u039a\\u03ce\\u03c3\\u03c4\\u03b1\\u03c2 \\u039a\\u03b1\\u03c0\\u03bb\\u03ac\\u03bd\\u03b7\\u03c2 \",\" \\u0399 \\u03a1\\u03ac\\u03c0\\u03c4\\u03b7\\u03c2 \",\" \\u0399 \\u039a\\u03c9\\u03bd\\u03c3\\u03c4\\u03b1\\u03bd\\u03c4\\u03b9\\u03bd\\u03af\\u03b4\\u03b7\\u03c2 \",\" \\u0398\\u03af\\u03b1\\u03c3\\u03bf\\u03c2 \\u0392\\u03c1\\u03c5\\u03c3\\u03b7\\u03af\\u03b4\\u03b1\\u03c2 \\u03a0\\u03b1\\u03bd\\u03c4\\u03bf\\u03c0\\u03bf\\u03cd\\u03bb\\u03bf\\u03c5 \",\" \\u0396\\u03b1\\u03c7\\u03b1\\u03c1\\u03af\\u03b1\\u03c2 \\u039a\\u03b1\\u03c3\\u03b9\\u03bc\\u03ac\\u03c4\\u03b7\\u03c2 \",\" \\u0395\\u03c5\\u03b1\\u03b3\\u03b3\\u03b5\\u03bb\\u03af\\u03b1 \\u039c\\u03b1\\u03c1\\u03ba\\u03bf\\u03c0\\u03bf\\u03cd\\u03bb\\u03bf\\u03c5 \",\" \\u0394\\u03b7\\u03bc\\u03ae\\u03c4\\u03c1\\u03b7\\u03c2 \\u03a1\\u03bf\\u03c5\\u03bc\\u03b5\\u03bb\\u03b9\\u03ce\\u03c4\\u03b7\\u03c2 \",\" \\u0394\\u03b7\\u03bc\\u03ae\\u03c4\\u03c1\\u03b7\\u03c2 \\u03a0\\u03b5\\u03c1\\u03b4\\u03b9\\u03ba\\u03cc\\u03c0\\u03bf\\u03c5\\u03bb\\u03bf\\u03c2 \",\" \\u0394\\u03b7\\u03bc\\u03ae\\u03c4\\u03c1\\u03b7\\u03c2 \\u039c\\u03c0\\u03b5\\u03bd\\u03ad\\u03c4\\u03bf\\u03c2 \",\" \\u0394\\u03b7\\u03bc\\u03ae\\u03c4\\u03c1\\u03b7\\u03c2 \\u039c\\u03c0\\u03b1\\u03b3\\u03b9\\u03b1\\u03bd\\u03c4\\u03ad\\u03c1\\u03b1\\u03c2 \",\" \\u0394 \\u039b\\u03af\\u03bd\\u03c4\\u03b1 \",\" \\u0393\\u03b9\\u03ce\\u03c1\\u03b3\\u03bf\\u03c2 \\u03a7\\u03b1\\u03c4\\u03b6\\u03b5\\u03bb\\u03ad\\u03c2 \",\" \\u0393\\u03b9\\u03ce\\u03c1\\u03b3\\u03bf\\u03c2 \\u039b\\u03b1\\u03cd\\u03ba\\u03b1\\u03c2 \",\" \\u0393\\u03b9\\u03ce\\u03c1\\u03b3\\u03bf\\u03c2 \\u039a\\u03b1\\u03bc\\u03b2\\u03cd\\u03c3\\u03b7\\u03c2 \",\" \\u0393\\u03b9\\u03b1\\u03bd\\u03bd\\u03ac\\u03ba\\u03b7\\u03c2 \\u0399\\u03c9\\u03b1\\u03bd\\u03bd\\u03af\\u03b4\\u03b7\\u03c2 \",\" \\u0393\\u03b9\\u03ac\\u03bd\\u03bd\\u03b7\\u03c2 \\u039c\\u03c0\\u03bf\\u03c5\\u03bb\\u03cc\\u03c4\\u03b1\\u03c2 \",\" \\u0393\\u03b9\\u03ac\\u03bd\\u03bd\\u03b7\\u03c2 \\u039a\\u03b1\\u03bc\\u03b2\\u03cd\\u03c3\\u03b7\\u03c2 \",\" \\u0393\\u03b9\\u03ac\\u03bd\\u03bd\\u03b7\\u03c2 \\u0399\\u03c9\\u03b1\\u03bd\\u03bd\\u03af\\u03b4\\u03b7\\u03c2 \",\" \\u0393\\u03b5\\u03c9\\u03c1\\u03b3\\u03af\\u03b1 \\u039c\\u03c0\\u03bb\\u03ac\\u03bd\\u03b1 \",\" \\u0393\\u03b5\\u03c1\\u03ac\\u03c3\\u03b9\\u03bc\\u03bf\\u03c2 \\u03a3\\u03ac\\u03b3\\u03b9\\u03b1\\u03c2 \",\" \\u0392\\u03b1\\u03c3\\u03af\\u03bb\\u03b7\\u03c2 \\u039c\\u03b5\\u03c3\\u03bf\\u03bb\\u03bf\\u03b3\\u03b3\\u03af\\u03c4\\u03b7\\u03c2 \",\" \\u0391\\u03c0\\u03cc\\u03c3\\u03c4\\u03bf\\u03bb\\u03bf\\u03c2 \\u03a7\\u03b1\\u03c4\\u03b6\\u03b7\\u03c7\\u03c1\\u03ae\\u03c3\\u03c4\\u03bf\\u03c2 \",\" \\u0391\\u03bd\\u03c4\\u03ce\\u03bd\\u03b7\\u03c2 \\u039d\\u03c4\\u03b1\\u03bb\\u03b3\\u03ba\\u03ac\\u03c2 \",\" \\u0391\\u03bd\\u03b4\\u03c1\\u03b9\\u03ba\\u03ae \\u03a7\\u03bf\\u03c1\\u03c9\\u03b4\\u03af\\u03b1 \\u03c4\\u03bf\\u03c5 \\u0398\\u03b9\\u03ac\\u03c3\\u03bf\\u03c5 \\u03a0\\u03b1\\u03bd\\u03c4\\u03bf\\u03c0\\u03bf\\u03cd\\u03bb\\u03bf\\u03c5 \",\" \\u0391\\u03bd\\u03b4\\u03c1\\u03ad\\u03b1\\u03c2 \\u0394\\u03bf\\u03c5\\u03ba\\u03bb\\u03b9\\u03ac\\u03c2 \",\" \\u0391\\u03bb\\u03ad\\u03ba\\u03bf\\u03c2 \\u039a\\u03b1\\u03c1\\u03b1\\u03b2\\u03af\\u03c4\\u03b7\\u03c2 \",\" \\u0391\\u03b8\\u03b7\\u03bd\\u03b1\\u03ca\\u03ba\\u03ae \\u03b5\\u03c3\\u03c4\\u03bf\\u03c5\\u03b4\\u03b9\\u03b1\\u03bd\\u03c4\\u03af\\u03bd\\u03b1 \",\" \\u00d3lafur Arnalds \",\" \\u00d1ico Estrada y Su Sonora \",\" \\u00d1ejo   Dalmata \",\" \\u00d1ejo \",\" \\u00d1ejo \",\" \\u00c9tienne Lorin \",\" \\u00c9ric Serra \",\" \\u00c9mile Waldteufel \",\" \\u00c9mile Waldteufel \",\" \\u00c9douard Lalo \",\" will i am \",\" will i am \",\" will i am \",\" rum gold \",\" quickly\",\" pxzvc \",\" prxz \",\" prxz \",\" pewdiepie \",\" o k h o \",\" nothing\",\" nothing\",\" nothing\",\" mysticphonk \",\" moow \",\" moow \",\" mike  \",\" mansionz \",\" love sadKID \",\" lil ricefield \",\" j hope \",\" itssvd \",\" ilyTOMMY \",\" ilyTOMMY \",\" iann dior \",\" iann dior \",\" iann dior \",\" iann dior \",\" iann dior \",\" iann dior \",\" guardin \",\" gnash \",\" gnash \",\" fun  \",\" fun  \",\" for KING   COUNTRY \",\" dvsn \",\" deadmau5 \",\" deadmau5 \",\" deadmau5 \",\" deadmau5 \",\" deadmau5 \",\" deadmau5 \",\" deadmau5 \",\" cucu \",\" clammbon \",\" blink 182 \",\" blackbear \",\" blackbear \",\" blackbear \",\" blackbear \",\" blackbear \",\" blackbear \",\" benny blanco \",\" beabadoobee \",\" bbno$ \",\" bbno$ \",\" bbno$ \",\" ayokay \",\" ayokay \",\" ayokay \",\" ayokay \",\" atlas \",\" a ha \",\" Zydecajun \",\" Zydecajun \",\" Zutty Singleton \",\" Zucchero \",\" Zsa Zsa Padilla \",\" Zsa Zsa Padilla \",\" Zoot Sims \",\" Zolt\\u00e1n Kod\\u00e1ly \",\" Zohrabai Ambalewali \",\" Zohrabai Ambalawali \",\" Zohrabai Ambalawali \",\" Zoel \",\" Zion I \",\" Zion I \",\" Zion   Lennox \",\" Zion   Lennox \",\" Zion \",\" Zion \",\" Zion \",\" Zion \",\" Zero Mostel\",\" Zero 7 \",\" Zero 7 \",\" Zero 7 \",\" Zero 7 \",\" Zero 7 \",\" Zero 7 \",\" Zeenat Begum \",\" Zeds Dead \",\" Zedd \",\" Zedd \",\" Zedd \",\" Zedd \",\" Zedd \",\" Zedd \",\" Zedd \",\" Zedd \",\" Zedd \",\" Zedd \",\" Zebra Katz \",\" Zay Hilfigerrr \",\" Zara Larsson \",\" Zara Larsson \",\" Zanin \",\" Zack Fox \",\" Zach Williams \",\" Zach Callison \",\" Zac Efron \",\" Zac Efron \",\" Zac Efron \",\" Zac Brown Band \",\" Zac Brown Band \",\" Zac Brown Band \",\" Zac Brown Band \",\" ZHU \",\" ZAYN \",\" ZAYN \",\" ZAYN \",\" ZAYN \",\" ZAYN \",\" ZAYN \",\" Z Ro \",\" Z \",\" Yvonne Fair \",\" Yvonne Elliman \",\" Yvonne Elliman \",\" Yvonne Elliman \",\" Yuridia \",\" Yung Pinch \",\" Yung Joc \",\" Yung Joc \",\" Yung Joc \",\" Yung Joc \",\" Yung Joc \",\" Yung Gravy \",\" Yung Gravy \",\" Yung Gravy \",\" Yung Gravy \",\" Yung Gravy \",\" Yung Bleu \",\" Yung Berg \",\" Yung Bans \",\" Yung Bae \",\" Yuna \",\" Youssou N Dour \",\" Younha \",\" Youngbloodz \",\" Youngbloodz \",\" Youngbloodz \",\" YoungBoy Never Broke Again \",\" YoungBoy Never Broke Again \",\" YoungBoy Never Broke Again \",\" YoungBoy Never Broke Again \",\" Young Thug \",\" Young Thug \",\" Young Thug \",\" Young Thug \",\" Young Thug \",\" Young Thug \",\" Young Thug \",\" Young Thug \",\" Young Thug \",\" Young Thug \",\" Young Thug \",\" Young Thug \",\" Young T   Bugsey \",\" Young T   Bugsey \",\" Young Nudy \",\" Young Money \",\" Young Money \",\" Young Money \",\" Young Money \"]},\"id\":\"12018\",\"type\":\"FactorRange\"},{\"attributes\":{},\"id\":\"12359\",\"type\":\"BasicTickFormatter\"},{\"attributes\":{\"data_source\":{\"id\":\"12047\"},\"glyph\":{\"id\":\"12048\"},\"hover_glyph\":null,\"muted_glyph\":null,\"nonselection_glyph\":{\"id\":\"12049\"},\"selection_glyph\":null,\"view\":{\"id\":\"12051\"}},\"id\":\"12050\",\"type\":\"GlyphRenderer\"},{\"attributes\":{},\"id\":\"12364\",\"type\":\"Selection\"},{\"attributes\":{},\"id\":\"12037\",\"type\":\"ResetTool\"},{\"attributes\":{\"bottom_units\":\"screen\",\"fill_alpha\":0.5,\"fill_color\":\"lightgrey\",\"left_units\":\"screen\",\"level\":\"overlay\",\"line_alpha\":1.0,\"line_color\":\"black\",\"line_dash\":[4,4],\"line_width\":2,\"right_units\":\"screen\",\"top_units\":\"screen\"},\"id\":\"12039\",\"type\":\"BoxAnnotation\"},{\"attributes\":{\"fill_alpha\":{\"value\":0.1},\"fill_color\":{\"value\":\"#1f77b4\"},\"line_alpha\":{\"value\":0.1},\"line_color\":{\"value\":\"#1f77b4\"},\"width\":{\"field\":\"width\"},\"x\":{\"field\":\"x\"}},\"id\":\"12049\",\"type\":\"VBar\"},{\"attributes\":{\"data\":{\"width\":[20,38,40,46,21,20,25,41,27,38,36,37,49,33,29,43,31,0,24,0,0,0,1,0,0,0,0,0,1,0,2,0,0,0,0,0,0,0,0,0,0,0,0,0,0,0,0,0,0,0,0,0,0,0,0,0,0,0,0,0,0,0,0,0,0,0,0,0,0,0,60,22,54,58,60,0,45,3,0,0,68,43,74,64,67,64,66,70,69,58,58,66,60,68,61,62,60,68,58,63,72,69,67,72,69,60,70,78,74,62,60,69,80,46,73,51,65,51,61,68,46,54,44,48,60,47,49,58,68,70,59,63,67,80,65,75,69,67,59,64,63,66,60,62,29,23,43,42,25,19,10,0,0,0,2,37,53,40,42,73,56,45,47,49,13,62,49,48,52,58,54,0,53,70,77,66,50,56,72,62,61,74,78,50,62,62,75,0,63,61,60,61,76,74,72,54,62,42,54,82,78,63,75,64,70,36,59,37,43,32,38,53,67,43,65,41,52,39,72,69,75,62,65,57,39,58,53,61,60,70,53,37,46,64,70,63,58,68,59,61,72,66,78,63,76,74,64,79,62,82,67,56,53,71,46,52],\"x\":[\" \\u9ec3\\u570b\\u9686 \",\" \\u7b20\\u4e95 \\u7d00\\u7f8e\\u5b50 \",\" \\u6e6f\\u5bf6\\u5982 \",\" \\u5f6d\\u5bb6\\u9e97 \",\" \\u5f35\\u742a \",\" \\u5f35\\u742a \",\" \\u5305\\u5a1c\\u5a1c \",\" \\u30aa\\u30e1\\u30ac\\u30c8\\u30e9\\u30a4\\u30d6 \",\" \\u30aa\\u30e1\\u30ac\\u30c8\\u30e9\\u30a4\\u30d6 \",\" \\u30aa\\u30e1\\u30ac\\u30c8\\u30e9\\u30a4\\u30d6 \",\" \\u30aa\\u30e1\\u30ac\\u30c8\\u30e9\\u30a4\\u30d6 \",\" \\u30aa\\u30e1\\u30ac\\u30c8\\u30e9\\u30a4\\u30d6 \",\" \\u30aa\\u30e1\\u30ac\\u30c8\\u30e9\\u30a4\\u30d6 \",\" \\u30aa\\u30e1\\u30ac\\u30c8\\u30e9\\u30a4\\u30d6 \",\" \\u30aa\\u30e1\\u30ac\\u30c8\\u30e9\\u30a4\\u30d6 \",\" \\u30aa\\u30e1\\u30ac\\u30c8\\u30e9\\u30a4\\u30d6 \",\" \\u30aa\\u30e1\\u30ac\\u30c8\\u30e9\\u30a4\\u30d6 \",\" \\u041e\\u0422\\u0412\\u0410\\u041b \\u0411\\u0410WKN \",\" \\u0411\\u043e\\u043b\\u044c\\u0448\\u043e\\u0439 \\u0434\\u0435\\u0442\\u0441\\u043a\\u0438\\u0439 \\u0445\\u043e\\u0440 \\u0426\\u0435\\u043d\\u0442\\u0440\\u0430\\u043b\\u044c\\u043d\\u043e\\u0433\\u043e \\u0442\\u0435\\u043b\\u0435\\u0432\\u0438\\u0434\\u0435\\u043d\\u0438\\u044f \\u0438 \\u0412\\u0441\\u0435\\u0441\\u043e\\u044e\\u0437\\u043d\\u043e\\u0433\\u043e \\u0440\\u0430\\u0434\\u0438\\u043e \",\" \\u03a7\\u03ac\\u03c1\\u03b7\\u03c2 \\u039a\\u03bf\\u03c5\\u03c6\\u03b9\\u03b4\\u03ac\\u03ba\\u03b7\\u03c2 \",\" \\u03a4\\u03b6\\u03c9\\u03bd \\u0393\\u03b9\\u03ac\\u03bd\\u03bd\\u03b1\\u03c1\\u03bf\\u03c2 \",\" \\u03a3\\u03c4\\u03b1\\u03cd\\u03c1\\u03bf\\u03c2 \\u03a0\\u03bb\\u03ad\\u03c3\\u03c3\\u03b1\\u03c2 \",\" \\u03a3\\u03c4\\u03ad\\u03bb\\u03bb\\u03b1 \\u03a7\\u03b1\\u03c3\\u03ba\\u03ae\\u03bb \",\" \\u03a3\\u03c4\\u03ad\\u03bb\\u03b9\\u03bf\\u03c2 \\u039a\\u03b5\\u03c1\\u03bf\\u03bc\\u03cd\\u03c4\\u03b7\\u03c2 \",\" \\u03a3\\u03c0\\u03cd\\u03c1\\u03bf\\u03c2 \\u03a3\\u03c4\\u03ac\\u03bc\\u03bf\\u03c2 \",\" \\u03a1\\u03ad\\u03bd\\u03bf\\u03c2 \\u03a4\\u03ac\\u03bb\\u03bc\\u03b1\\u03c2 \",\" \\u03a0\\u03ad\\u03c4\\u03c1\\u03bf\\u03c2 \\u039a\\u03c5\\u03c1\\u03b9\\u03b1\\u03ba\\u03cc\\u03c2 \",\" \\u03a0\\u03ac\\u03bd\\u03bf\\u03c2 \\u03a3\\u03ac\\u03bc\\u03b7\\u03c2 \",\" \\u039frquesta Maestro Torroba \",\" \\u039frquesta Maestro Torroba \",\" \\u039frquesta Maestro Torroba \",\" \\u039d\\u03c4\\u03bf\\u03cd\\u03bf \\u03a3\\u03c4\\u03b1\\u03bc\\u03c0\\u03bf\\u03cd\\u03bb \",\" \\u039d\\u03b9\\u03ba\\u03bf\\u03bb\\u03ad\\u03c4\\u03b1 \\u039a\\u03b1\\u03c0\\u03c1\\u03ae \",\" \\u039d\\u03b1\\u03bd\\u03ac \\u0393\\u03ba\\u03c1\\u03ad\\u03ba\\u03b1 \",\" \\u039d\\u03af\\u03ba\\u03bf\\u03c2 \\u03a7\\u03b1\\u03bc\\u03c0\\u03ac\\u03c2 \\u03bc\\u03b5 \\u03c4\\u03b7 \\u03bc\\u03b1\\u03bd\\u03c4\\u03bf\\u03bb\\u03b9\\u03bd\\u03ac\\u03c4\\u03b1 \\u0399\\u03b5\\u03c1\\u03cc\\u03b8\\u03b5\\u03bf\\u03c5 \\u03a3\\u03c7\\u03af\\u03b6\\u03b1 \",\" \\u039d\\u03af\\u03ba\\u03bf\\u03c2 \\u03a4\\u03b6\\u03bf\\u03c5\\u03b3\\u03ac\\u03bd\\u03bf\\u03c2 \",\" \\u039d \\u03a6\\u03c1\\u03b1\\u03b3\\u03b3\\u03b9\\u03ac \",\" \\u039d \\u03a4\\u03c3\\u03ac\\u03bc\\u03b7\\u03c2 \",\" \\u039c\\u03c0\\u03ad\\u03bc\\u03c0\\u03b1 \\u03a6\\u03c1\\u03b5\\u03b9\\u03b4\\u03b5\\u03c1\\u03af\\u03ba\\u03b1 \",\" \\u039c\\u03b1\\u03c1\\u03af\\u03b1 \\u0391\\u03bd\\u03b4\\u03c1\\u03bf\\u03bd\\u03af\\u03ba\\u03bf\\u03c5 \",\" \\u039c\\u03ac\\u03ba\\u03b7\\u03c2 \\u039a\\u03b1\\u03c1\\u03bd\\u03ad\\u03c1\\u03b7\\u03c2 \",\" \\u039c  \\u03a6\\u03b9\\u03bb\\u03b9\\u03c0\\u03c0\\u03af\\u03b4\\u03b7\\u03c2 \",\" \\u039a\\u03ce\\u03c3\\u03c4\\u03b1\\u03c2 \\u03a0\\u03bf\\u03bb\\u03af\\u03c4\\u03b7\\u03c2 \",\" \\u039a\\u03ce\\u03c3\\u03c4\\u03b1\\u03c2 \\u039a\\u03b1\\u03c0\\u03bb\\u03ac\\u03bd\\u03b7\\u03c2 \",\" \\u0399 \\u03a1\\u03ac\\u03c0\\u03c4\\u03b7\\u03c2 \",\" \\u0399 \\u039a\\u03c9\\u03bd\\u03c3\\u03c4\\u03b1\\u03bd\\u03c4\\u03b9\\u03bd\\u03af\\u03b4\\u03b7\\u03c2 \",\" \\u0398\\u03af\\u03b1\\u03c3\\u03bf\\u03c2 \\u0392\\u03c1\\u03c5\\u03c3\\u03b7\\u03af\\u03b4\\u03b1\\u03c2 \\u03a0\\u03b1\\u03bd\\u03c4\\u03bf\\u03c0\\u03bf\\u03cd\\u03bb\\u03bf\\u03c5 \",\" \\u0396\\u03b1\\u03c7\\u03b1\\u03c1\\u03af\\u03b1\\u03c2 \\u039a\\u03b1\\u03c3\\u03b9\\u03bc\\u03ac\\u03c4\\u03b7\\u03c2 \",\" \\u0395\\u03c5\\u03b1\\u03b3\\u03b3\\u03b5\\u03bb\\u03af\\u03b1 \\u039c\\u03b1\\u03c1\\u03ba\\u03bf\\u03c0\\u03bf\\u03cd\\u03bb\\u03bf\\u03c5 \",\" \\u0394\\u03b7\\u03bc\\u03ae\\u03c4\\u03c1\\u03b7\\u03c2 \\u03a1\\u03bf\\u03c5\\u03bc\\u03b5\\u03bb\\u03b9\\u03ce\\u03c4\\u03b7\\u03c2 \",\" \\u0394\\u03b7\\u03bc\\u03ae\\u03c4\\u03c1\\u03b7\\u03c2 \\u03a0\\u03b5\\u03c1\\u03b4\\u03b9\\u03ba\\u03cc\\u03c0\\u03bf\\u03c5\\u03bb\\u03bf\\u03c2 \",\" \\u0394\\u03b7\\u03bc\\u03ae\\u03c4\\u03c1\\u03b7\\u03c2 \\u039c\\u03c0\\u03b5\\u03bd\\u03ad\\u03c4\\u03bf\\u03c2 \",\" \\u0394\\u03b7\\u03bc\\u03ae\\u03c4\\u03c1\\u03b7\\u03c2 \\u039c\\u03c0\\u03b1\\u03b3\\u03b9\\u03b1\\u03bd\\u03c4\\u03ad\\u03c1\\u03b1\\u03c2 \",\" \\u0394 \\u039b\\u03af\\u03bd\\u03c4\\u03b1 \",\" \\u0393\\u03b9\\u03ce\\u03c1\\u03b3\\u03bf\\u03c2 \\u03a7\\u03b1\\u03c4\\u03b6\\u03b5\\u03bb\\u03ad\\u03c2 \",\" \\u0393\\u03b9\\u03ce\\u03c1\\u03b3\\u03bf\\u03c2 \\u039b\\u03b1\\u03cd\\u03ba\\u03b1\\u03c2 \",\" \\u0393\\u03b9\\u03ce\\u03c1\\u03b3\\u03bf\\u03c2 \\u039a\\u03b1\\u03bc\\u03b2\\u03cd\\u03c3\\u03b7\\u03c2 \",\" \\u0393\\u03b9\\u03b1\\u03bd\\u03bd\\u03ac\\u03ba\\u03b7\\u03c2 \\u0399\\u03c9\\u03b1\\u03bd\\u03bd\\u03af\\u03b4\\u03b7\\u03c2 \",\" \\u0393\\u03b9\\u03ac\\u03bd\\u03bd\\u03b7\\u03c2 \\u039c\\u03c0\\u03bf\\u03c5\\u03bb\\u03cc\\u03c4\\u03b1\\u03c2 \",\" \\u0393\\u03b9\\u03ac\\u03bd\\u03bd\\u03b7\\u03c2 \\u039a\\u03b1\\u03bc\\u03b2\\u03cd\\u03c3\\u03b7\\u03c2 \",\" \\u0393\\u03b9\\u03ac\\u03bd\\u03bd\\u03b7\\u03c2 \\u0399\\u03c9\\u03b1\\u03bd\\u03bd\\u03af\\u03b4\\u03b7\\u03c2 \",\" \\u0393\\u03b5\\u03c9\\u03c1\\u03b3\\u03af\\u03b1 \\u039c\\u03c0\\u03bb\\u03ac\\u03bd\\u03b1 \",\" \\u0393\\u03b5\\u03c1\\u03ac\\u03c3\\u03b9\\u03bc\\u03bf\\u03c2 \\u03a3\\u03ac\\u03b3\\u03b9\\u03b1\\u03c2 \",\" \\u0392\\u03b1\\u03c3\\u03af\\u03bb\\u03b7\\u03c2 \\u039c\\u03b5\\u03c3\\u03bf\\u03bb\\u03bf\\u03b3\\u03b3\\u03af\\u03c4\\u03b7\\u03c2 \",\" \\u0391\\u03c0\\u03cc\\u03c3\\u03c4\\u03bf\\u03bb\\u03bf\\u03c2 \\u03a7\\u03b1\\u03c4\\u03b6\\u03b7\\u03c7\\u03c1\\u03ae\\u03c3\\u03c4\\u03bf\\u03c2 \",\" \\u0391\\u03bd\\u03c4\\u03ce\\u03bd\\u03b7\\u03c2 \\u039d\\u03c4\\u03b1\\u03bb\\u03b3\\u03ba\\u03ac\\u03c2 \",\" \\u0391\\u03bd\\u03b4\\u03c1\\u03b9\\u03ba\\u03ae \\u03a7\\u03bf\\u03c1\\u03c9\\u03b4\\u03af\\u03b1 \\u03c4\\u03bf\\u03c5 \\u0398\\u03b9\\u03ac\\u03c3\\u03bf\\u03c5 \\u03a0\\u03b1\\u03bd\\u03c4\\u03bf\\u03c0\\u03bf\\u03cd\\u03bb\\u03bf\\u03c5 \",\" \\u0391\\u03bd\\u03b4\\u03c1\\u03ad\\u03b1\\u03c2 \\u0394\\u03bf\\u03c5\\u03ba\\u03bb\\u03b9\\u03ac\\u03c2 \",\" \\u0391\\u03bb\\u03ad\\u03ba\\u03bf\\u03c2 \\u039a\\u03b1\\u03c1\\u03b1\\u03b2\\u03af\\u03c4\\u03b7\\u03c2 \",\" \\u0391\\u03b8\\u03b7\\u03bd\\u03b1\\u03ca\\u03ba\\u03ae \\u03b5\\u03c3\\u03c4\\u03bf\\u03c5\\u03b4\\u03b9\\u03b1\\u03bd\\u03c4\\u03af\\u03bd\\u03b1 \",\" \\u00d3lafur Arnalds \",\" \\u00d1ico Estrada y Su Sonora \",\" \\u00d1ejo   Dalmata \",\" \\u00d1ejo \",\" \\u00d1ejo \",\" \\u00c9tienne Lorin \",\" \\u00c9ric Serra \",\" \\u00c9mile Waldteufel \",\" \\u00c9mile Waldteufel \",\" \\u00c9douard Lalo \",\" will i am \",\" will i am \",\" will i am \",\" rum gold \",\" quickly\",\" pxzvc \",\" prxz \",\" prxz \",\" pewdiepie \",\" o k h o \",\" nothing\",\" nothing\",\" nothing\",\" mysticphonk \",\" moow \",\" moow \",\" mike  \",\" mansionz \",\" love sadKID \",\" lil ricefield \",\" j hope \",\" itssvd \",\" ilyTOMMY \",\" ilyTOMMY \",\" iann dior \",\" iann dior \",\" iann dior \",\" iann dior \",\" iann dior \",\" iann dior \",\" guardin \",\" gnash \",\" gnash \",\" fun  \",\" fun  \",\" for KING   COUNTRY \",\" dvsn \",\" deadmau5 \",\" deadmau5 \",\" deadmau5 \",\" deadmau5 \",\" deadmau5 \",\" deadmau5 \",\" deadmau5 \",\" cucu \",\" clammbon \",\" blink 182 \",\" blackbear \",\" blackbear \",\" blackbear \",\" blackbear \",\" blackbear \",\" blackbear \",\" benny blanco \",\" beabadoobee \",\" bbno$ \",\" bbno$ \",\" bbno$ \",\" ayokay \",\" ayokay \",\" ayokay \",\" ayokay \",\" atlas \",\" a ha \",\" Zydecajun \",\" Zydecajun \",\" Zutty Singleton \",\" Zucchero \",\" Zsa Zsa Padilla \",\" Zsa Zsa Padilla \",\" Zoot Sims \",\" Zolt\\u00e1n Kod\\u00e1ly \",\" Zohrabai Ambalewali \",\" Zohrabai Ambalawali \",\" Zohrabai Ambalawali \",\" Zoel \",\" Zion I \",\" Zion I \",\" Zion   Lennox \",\" Zion   Lennox \",\" Zion \",\" Zion \",\" Zion \",\" Zion \",\" Zero Mostel\",\" Zero 7 \",\" Zero 7 \",\" Zero 7 \",\" Zero 7 \",\" Zero 7 \",\" Zero 7 \",\" Zeenat Begum \",\" Zeds Dead \",\" Zedd \",\" Zedd \",\" Zedd \",\" Zedd \",\" Zedd \",\" Zedd \",\" Zedd \",\" Zedd \",\" Zedd \",\" Zedd \",\" Zebra Katz \",\" Zay Hilfigerrr \",\" Zara Larsson \",\" Zara Larsson \",\" Zanin \",\" Zack Fox \",\" Zach Williams \",\" Zach Callison \",\" Zac Efron \",\" Zac Efron \",\" Zac Efron \",\" Zac Brown Band \",\" Zac Brown Band \",\" Zac Brown Band \",\" Zac Brown Band \",\" ZHU \",\" ZAYN \",\" ZAYN \",\" ZAYN \",\" ZAYN \",\" ZAYN \",\" ZAYN \",\" Z Ro \",\" Z \",\" Yvonne Fair \",\" Yvonne Elliman \",\" Yvonne Elliman \",\" Yvonne Elliman \",\" Yuridia \",\" Yung Pinch \",\" Yung Joc \",\" Yung Joc \",\" Yung Joc \",\" Yung Joc \",\" Yung Joc \",\" Yung Gravy \",\" Yung Gravy \",\" Yung Gravy \",\" Yung Gravy \",\" Yung Gravy \",\" Yung Bleu \",\" Yung Berg \",\" Yung Bans \",\" Yung Bae \",\" Yuna \",\" Youssou N Dour \",\" Younha \",\" Youngbloodz \",\" Youngbloodz \",\" Youngbloodz \",\" YoungBoy Never Broke Again \",\" YoungBoy Never Broke Again \",\" YoungBoy Never Broke Again \",\" YoungBoy Never Broke Again \",\" Young Thug \",\" Young Thug \",\" Young Thug \",\" Young Thug \",\" Young Thug \",\" Young Thug \",\" Young Thug \",\" Young Thug \",\" Young Thug \",\" Young Thug \",\" Young Thug \",\" Young Thug \",\" Young T   Bugsey \",\" Young T   Bugsey \",\" Young Nudy \",\" Young Money \",\" Young Money \",\" Young Money \",\" Young Money \"]},\"selected\":{\"id\":\"12364\"},\"selection_policy\":{\"id\":\"12363\"}},\"id\":\"12047\",\"type\":\"ColumnDataSource\"},{\"attributes\":{},\"id\":\"12034\",\"type\":\"WheelZoomTool\"},{\"attributes\":{},\"id\":\"12030\",\"type\":\"BasicTicker\"},{\"attributes\":{},\"id\":\"12361\",\"type\":\"CategoricalTickFormatter\"},{\"attributes\":{\"source\":{\"id\":\"12047\"}},\"id\":\"12051\",\"type\":\"CDSView\"},{\"attributes\":{},\"id\":\"12363\",\"type\":\"UnionRenderers\"}],\"root_ids\":[\"12017\"]},\"title\":\"Bokeh Application\",\"version\":\"2.2.3\"}};\n",
       "  var render_items = [{\"docid\":\"2ecb0697-0a93-4977-977f-3c8390814325\",\"root_ids\":[\"12017\"],\"roots\":{\"12017\":\"d5846f68-c992-48d0-9482-fa43ae3e0cd8\"}}];\n",
       "  root.Bokeh.embed.embed_items_notebook(docs_json, render_items);\n",
       "\n",
       "  }\n",
       "  if (root.Bokeh !== undefined) {\n",
       "    embed_document(root);\n",
       "  } else {\n",
       "    var attempts = 0;\n",
       "    var timer = setInterval(function(root) {\n",
       "      if (root.Bokeh !== undefined) {\n",
       "        clearInterval(timer);\n",
       "        embed_document(root);\n",
       "      } else {\n",
       "        attempts++;\n",
       "        if (attempts > 100) {\n",
       "          clearInterval(timer);\n",
       "          console.log(\"Bokeh: ERROR: Unable to run BokehJS code because BokehJS library is missing\");\n",
       "        }\n",
       "      }\n",
       "    }, 10, root)\n",
       "  }\n",
       "})(window);"
      ],
      "application/vnd.bokehjs_exec.v0+json": ""
     },
     "metadata": {
      "application/vnd.bokehjs_exec.v0+json": {
       "id": "12017"
      }
     },
     "output_type": "display_data"
    }
   ],
   "source": [
    "show(p)"
   ]
  },
  {
   "cell_type": "markdown",
   "metadata": {},
   "source": [
    "<br> Vous pouvez faire de même pour les données catégoriques clé (Key) pour voir la popularité des pistes selon ces clé."
   ]
  },
  {
   "cell_type": "code",
   "execution_count": null,
   "metadata": {},
   "outputs": [],
   "source": []
  },
  {
   "cell_type": "code",
   "execution_count": null,
   "metadata": {},
   "outputs": [],
   "source": []
  },
  {
   "cell_type": "code",
   "execution_count": null,
   "metadata": {},
   "outputs": [],
   "source": []
  },
  {
   "cell_type": "code",
   "execution_count": null,
   "metadata": {},
   "outputs": [],
   "source": []
  },
  {
   "cell_type": "code",
   "execution_count": null,
   "metadata": {},
   "outputs": [],
   "source": []
  },
  {
   "cell_type": "markdown",
   "metadata": {},
   "source": [
    "<br></br>\n",
    "## C. Création de multiples visualisations"
   ]
  },
  {
   "cell_type": "markdown",
   "metadata": {},
   "source": [
    "Lors de la création des data visualisations, nous avons tendance à afficher de multiple graphes sur le même ecran. Ceci peut être fait en organisant les graphes avec les layouts. L'utilisateion des layouts, tabs, et les grids peut nous permettre de lier entre multiple graphes en utilisant les mêmes axes. Ce qui rend a comparaison entre les différents graphes plus facile et précis."
   ]
  },
  {
   "cell_type": "markdown",
   "metadata": {},
   "source": [
    "#### 1. Création de multiple graphes selon la même ligne "
   ]
  },
  {
   "cell_type": "markdown",
   "metadata": {},
   "source": [
    "Afin d'organiser nos graphes selon la même ligne, on crée en premier lieu 3 graphes pour trois artistes de votre choix."
   ]
  },
  {
   "cell_type": "code",
   "execution_count": 235,
   "metadata": {},
   "outputs": [],
   "source": [
    "# Créer trois graphes Line affichant respectivement loudness de trois artistes \n"
   ]
  },
  {
   "cell_type": "code",
   "execution_count": 236,
   "metadata": {},
   "outputs": [],
   "source": [
    "from bokeh.layouts import row"
   ]
  },
  {
   "cell_type": "code",
   "execution_count": 237,
   "metadata": {},
   "outputs": [],
   "source": [
    "# Créer un objet row object avec les trois graphes\n",
    "\n"
   ]
  },
  {
   "cell_type": "code",
   "execution_count": 238,
   "metadata": {},
   "outputs": [],
   "source": [
    "# Visualiser les trois graphes selon le layout\n",
    "\n"
   ]
  },
  {
   "cell_type": "markdown",
   "metadata": {},
   "source": [
    "#### 2. Creation de multiple graphes selon des lignes et colonnes "
   ]
  },
  {
   "cell_type": "markdown",
   "metadata": {},
   "source": [
    "On pourrait prévoir de voir par exemple des graphes relatifs à un artiste sur une ligne, ceux d'un autre artiste sur une autre. Pour ce faire, on devra créer un nested Layout, qui est un layout permettant de simplfier l'organisation des graphes selon les lignes et les colonnes."
   ]
  },
  {
   "cell_type": "code",
   "execution_count": 239,
   "metadata": {},
   "outputs": [],
   "source": [
    "from bokeh.layouts import column"
   ]
  },
  {
   "cell_type": "code",
   "execution_count": 240,
   "metadata": {},
   "outputs": [],
   "source": [
    "# créer 3 graphes des mêmes artistes, dépictant cette fois la popularité\n",
    "\n"
   ]
  },
  {
   "cell_type": "code",
   "execution_count": 241,
   "metadata": {},
   "outputs": [],
   "source": [
    "# Créer un object nested_layout qui organisera vos graphes où chaque ligne sera consacré à un artiste, chaque colonne à visualiser une mesure\n",
    "\n"
   ]
  },
  {
   "cell_type": "code",
   "execution_count": 242,
   "metadata": {},
   "outputs": [],
   "source": [
    "# Afficher les graphes selon le nouveau layout\n",
    "\n"
   ]
  },
  {
   "cell_type": "markdown",
   "metadata": {},
   "source": [
    "Ceci revient à créer un grid layout avec 3 lignes et 2 colonnes. Bokeh procure une fonction \"gridplot\" qui permet la création de layouts robustes grâce à la  diversité des combinaisons possibles dans l'empilage des graphes au niveau du même ecran."
   ]
  },
  {
   "cell_type": "code",
   "execution_count": 243,
   "metadata": {},
   "outputs": [],
   "source": [
    "from bokeh.layouts import gridplot"
   ]
  },
  {
   "cell_type": "code",
   "execution_count": 244,
   "metadata": {},
   "outputs": [],
   "source": [
    "# Créer un objet grid_layout qui organise les graphes de la même manière que le nested layout\n"
   ]
  },
  {
   "cell_type": "code",
   "execution_count": 245,
   "metadata": {},
   "outputs": [],
   "source": [
    "# Afficher le grid_layout\n"
   ]
  },
  {
   "cell_type": "markdown",
   "metadata": {},
   "source": [
    "<br></br>\n",
    "#### 3. Creation des onglets"
   ]
  },
  {
   "cell_type": "markdown",
   "metadata": {},
   "source": [
    "Il est très utile de pouvoir créer des layouts multiples dans différents onglets. Bokeh procure les objets tabbed Layout, auxquels les graphes peuvent être ajoutés. On va créer deux onglets, l'un pour artiste 1, l'autre pour le deuxième artiste. "
   ]
  },
  {
   "cell_type": "code",
   "execution_count": 246,
   "metadata": {},
   "outputs": [
    {
     "ename": "ModuleNotFoundError",
     "evalue": "No module named 'bokeh.models.widgest'",
     "output_type": "error",
     "traceback": [
      "\u001b[0;31m---------------------------------------------------------------------------\u001b[0m",
      "\u001b[0;31mModuleNotFoundError\u001b[0m                       Traceback (most recent call last)",
      "\u001b[0;32m<ipython-input-246-e8edc4fd4357>\u001b[0m in \u001b[0;36m<module>\u001b[0;34m\u001b[0m\n\u001b[0;32m----> 1\u001b[0;31m \u001b[0;32mfrom\u001b[0m \u001b[0mbokeh\u001b[0m\u001b[0;34m.\u001b[0m\u001b[0mmodels\u001b[0m\u001b[0;34m.\u001b[0m\u001b[0mwidgest\u001b[0m \u001b[0;32mimport\u001b[0m \u001b[0mTabs\u001b[0m\u001b[0;34m,\u001b[0m \u001b[0mPanel\u001b[0m\u001b[0;34m\u001b[0m\u001b[0;34m\u001b[0m\u001b[0m\n\u001b[0m",
      "\u001b[0;31mModuleNotFoundError\u001b[0m: No module named 'bokeh.models.widgest'"
     ]
    }
   ],
   "source": [
    "from bokeh.models.widgest import Tabs, Panel"
   ]
  },
  {
   "cell_type": "markdown",
   "metadata": {},
   "source": [
    "Pour créer un tabbed layout, on aura besoin de créer en premier lieu deux panels en utilisant la fonction Panel. Chaque Panel se composera de ses propres graphes spécifiés à l'aide de l'argument \"child\" dans la fonction Panel. "
   ]
  },
  {
   "cell_type": "code",
   "execution_count": null,
   "metadata": {},
   "outputs": [],
   "source": [
    "# Créer deux objets Panel pour chacun des artistes. \n",
    "# Vous pouvez attribuer un titre aux Panels (qui seront affichés en haut de l'onglet).\n",
    "\n"
   ]
  },
  {
   "cell_type": "code",
   "execution_count": null,
   "metadata": {},
   "outputs": [],
   "source": [
    "# Donner les Panels aux objets Tabs\n",
    "\n",
    "\n"
   ]
  },
  {
   "cell_type": "code",
   "execution_count": null,
   "metadata": {},
   "outputs": [],
   "source": [
    "# Afficher les objets tabs\n",
    "\n"
   ]
  },
  {
   "cell_type": "markdown",
   "metadata": {},
   "source": [
    "<br></br>\n",
    "#### 4. Liaison entre deux graphes"
   ]
  },
  {
   "cell_type": "markdown",
   "metadata": {},
   "source": [
    "Comparer deux graphes sur le même ecran devient plus facile quand ces derniers sont liés. Dans cette partie, on créera multiple graphes sur le même axe x. Pour ce faire, on va créer deux scatter plots basé sur les données du premier artiste mais on leur donnera le même axe x. "
   ]
  },
  {
   "cell_type": "code",
   "execution_count": null,
   "metadata": {},
   "outputs": [],
   "source": [
    "#  Créer une ColumnDataSource avec les colonnes 'release_date', 'danceability', 'acousticness', 'energy', 'loudness'\n",
    "\n"
   ]
  },
  {
   "cell_type": "code",
   "execution_count": null,
   "metadata": {},
   "outputs": [],
   "source": [
    "# Créer deux scatterplots: Le premier pour voir la relation entre 'danceability' et 'acousticness', le deuxième 'energy' et 'loudness'\n",
    "\n"
   ]
  },
  {
   "cell_type": "code",
   "execution_count": null,
   "metadata": {},
   "outputs": [],
   "source": [
    "# x_range fait référence à l'axe x des deux graphes. S'assurer que les deux graphes ont le même axe x.\n",
    "\n"
   ]
  },
  {
   "cell_type": "code",
   "execution_count": null,
   "metadata": {},
   "outputs": [],
   "source": [
    "# Organiser les deux graphes dans un layout (vous pouvez utiliser la fonction row)\n",
    "\n"
   ]
  },
  {
   "cell_type": "code",
   "execution_count": null,
   "metadata": {},
   "outputs": [],
   "source": [
    "# Afficher le Layout\n",
    "\n"
   ]
  },
  {
   "cell_type": "markdown",
   "metadata": {},
   "source": [
    "Remarquez que les deux graphes ont le même axe x. Si vous zoomer sur le premier, le deuxième suivra."
   ]
  },
  {
   "cell_type": "markdown",
   "metadata": {},
   "source": [
    "<br></br>\n",
    "### D. Ajout de l'Interactivité aux visualisations"
   ]
  },
  {
   "cell_type": "markdown",
   "metadata": {},
   "source": [
    "Bokeh permet la création de visualisations interactives en procurant des attributs visuels comme Hover, Slider ou Selection etc.\n",
    "\n",
    "Les Hover par exemple sont très utiles pour ajouter une dimension supplémentaire au graphe. Ils permettent de visualiser un point de données quand l'utilisareur le survole avec la souris. Pour créer un graphe avec un Hover tool, on va créer un graphe qui combine les données de deux artistes, et utiliser le Hover tool pour différencier entre les deux."
   ]
  },
  {
   "cell_type": "code",
   "execution_count": null,
   "metadata": {},
   "outputs": [],
   "source": [
    "from bokeh.models import HoverTool"
   ]
  },
  {
   "cell_type": "code",
   "execution_count": null,
   "metadata": {},
   "outputs": [],
   "source": [
    "# Créer une ColumnDataSource basé sur un dataframe ou l'artiste est soit 1 ou 2\n",
    "\n"
   ]
  },
  {
   "cell_type": "code",
   "execution_count": null,
   "metadata": {},
   "outputs": [],
   "source": [
    "# Créer un hover tool en utilisant la fonction HoverTool où les tooltips pointent sur le tuples d'information à afficher qu'on l'utilisateur survole la donnée,\n",
    "# à savoir nom de l'artiste, nom de la piste popularité, loudness, name.\n",
    "# Ainsi, chaque tuple du tooltip devra contenir un label et une référence au champs contenant l'information\n",
    "\n"
   ]
  },
  {
   "cell_type": "code",
   "execution_count": null,
   "metadata": {},
   "outputs": [],
   "source": [
    "# Donner l'objet hover tool comme argument à votre figure \n",
    "\n"
   ]
  },
  {
   "cell_type": "code",
   "execution_count": null,
   "metadata": {},
   "outputs": [],
   "source": [
    "# Créer un scaterplot avec par exemple les variables acousticness et energy de la ColumnDataSource \n",
    "\n"
   ]
  },
  {
   "cell_type": "code",
   "execution_count": null,
   "metadata": {},
   "outputs": [],
   "source": [
    "# Afficher le graphe. Survoler avec la souris quelques datapoint pour s'assurer du bon affichage des informations.\n",
    "\n"
   ]
  },
  {
   "cell_type": "markdown",
   "metadata": {},
   "source": [
    "<br> L'outil de sélection permet de mettre en exergue un sous-ensemble de données sur le graphe. Pour ajouter un selection tool à votre graphe, il faut ajouter 'box_select' à la liste des outils de la figure. Il est possible de définir une selection_color, nonselection_fill_color, et un nonselection_fill_alpha en leur assignant des valeurs dans les arguments de la fonction de création du graphe."
   ]
  },
  {
   "cell_type": "code",
   "execution_count": null,
   "metadata": {},
   "outputs": [],
   "source": [
    "# Passer l'objet hover tool et un 'box_select' comme arguments de tools\n",
    "\n"
   ]
  },
  {
   "cell_type": "code",
   "execution_count": null,
   "metadata": {},
   "outputs": [],
   "source": [
    "# Recréer le scatter plot en spécifiant les arguments de selection\n",
    "\n"
   ]
  },
  {
   "cell_type": "code",
   "execution_count": null,
   "metadata": {},
   "outputs": [],
   "source": [
    "# Afficher le graphe\n",
    "\n"
   ]
  },
  {
   "cell_type": "markdown",
   "metadata": {},
   "source": [
    " "
   ]
  },
  {
   "cell_type": "markdown",
   "metadata": {},
   "source": [
    "Pour explorer d'autres outils dans le tool box : https://docs.bokeh.org/en/latest/docs/user_guide/tools.html?highlight=configuring%20plot%20tools"
   ]
  },
  {
   "cell_type": "markdown",
   "metadata": {},
   "source": [
    " "
   ]
  },
  {
   "cell_type": "markdown",
   "metadata": {},
   "source": [
    "### E. Bonus: Création d'une application de visualisation"
   ]
  },
  {
   "cell_type": "markdown",
   "metadata": {},
   "source": [
    "Bokeh offre la possibilité de créer des applications de visualisation de données qui peuvent être hebergées sur notre propre serveur à travers le Bokeh server. \n",
    "\n",
    "Le Bokeh server agit comme un pont connectant Python et le navigateur où seront hebergées les applications. En utilisant Bokeh Server, on peut déployer des applications avec une interactivité locale et les partager. \n",
    "\n",
    "Une application Bokeh est une entité qui crée et remplit des documents avec des mises à jour sur le backend avec toutes les configurations nécessaires pour transférer correctement les données entre le serveur et le client. Le backend Bokeh sérialise les documents en format JSON. Ces derniers sont envoyés et affichés par le client BokehJS (comme indiqué dans la figure ci-dessous).\n"
   ]
  },
  {
   "cell_type": "markdown",
   "metadata": {},
   "source": [
    "<img src=\"https://static.packt-cdn.com/products/9781789135404/graphics/b6dd15c9-b21d-4786-9185-fc68623e5d53.png\">"
   ]
  },
  {
   "cell_type": "markdown",
   "metadata": {},
   "source": [
    "Pour construire une application Bokeh, il faut suivre 3 étapes:\n",
    "\n",
    " <ol>\n",
    "  <li>Créer les graphes et widgets</li>\n",
    "  <li>Définir la fonction Callback: c'est la fonction qui indique à l'application comment réagir à l'interaction d'un utilisateur (lorsqu'un bouton est clické, un curseur est déplacé ..)</li>\n",
    "  <li>Créer un Layout: personnaliser les layouts pour organiser les graphes</li>\n",
    "</ol> "
   ]
  },
  {
   "cell_type": "markdown",
   "metadata": {},
   "source": [
    "<br> On va créer une application très simple qui va afficher un nuage de points de la popularité des pistes. Cependant, on donnera à l'utilisateur la possibilité de choisir entre afficher le graphe de la popularité par acousticness ou par loudness. Maintes étapes ont été déjà couvertes dans le TP.\n",
    "\n",
    "Pour ce faire, on va créer un fichier bokehApp.py qu'on pourra exécuter ultérieurement dans un terminal en utilisant la commande: __bokeh serve --show bokehApp.py__\n",
    "\n",
    "\n",
    "1. Ouvrir un fichier dans un éditeur de texte et le nommer bokehApp.py. Importer les librairies suivantes:\n",
    "<br>import pandas as pd\n",
    "<br>from bokeh.plotting import figure\n",
    "<br>from bokeh.models import ColumnDataSource, Select\n",
    "<br>from bokeh.io import curdoc\n",
    "<br>from bokeh.layouts import row\n",
    "\n",
    "2. Charger les données des pistes dans une dataframe\n",
    "\n",
    "3. Créer un second dataframe qui filtre les données pour un seul artiste de votre choix\n",
    "\n",
    "4. Créer un objet ColumnDataSource avec un dict contenant les attributs et colonnes ont on aura besoin\n",
    "\n",
    "5. Créer un scatter plot en utilisant les données de popularité et acousticness à partir de la ColumnDataSource \n",
    "\n",
    "6. On aura besoin de créer un \"Select\" widget (c'est un widget qui donnera la main à l'utilisateur de choisirla colonne à visualiser). Le widget prendra les options acousticness et loudness, avec acousticness comme valeur par défaut. Il faut également spécifier un titre qui s'affichera à l'utilisateur.\n",
    "\n",
    "7. Créer une fonction callback qui prendra la nouvelle colonne et changera la source de la donnée au niveau du graphe pour prendre les données de cette colonne.\n",
    "\n",
    "8. Spécifier ce qui devra arriver quand l'utilisateur opére un changement sur le Select widget (utiliser la fonction on_change)\n",
    "\n",
    "9. Créer un row layout pour vos widget et graphe.\n",
    "\n",
    "10. A chaque fois qu'on crée une application, Bokeh crée un \"curdoc\", qui est un document ou canevas vide pour cette application. Il faut ajouter les widgets et graphes (ou les layouts) à ce document en utilisant la méthode add_root.\n",
    "\n",
    "Sauvegarder le fichier bokehApp.py et exécuter la commande susmentionnée dans un terminal."
   ]
  },
  {
   "cell_type": "markdown",
   "metadata": {},
   "source": [
    "<br> Pour plus de détails sur Bokeh, explorer https://github.com/bokeh/bokeh-notebooks/tree/main/tutorial pour plus de détails."
   ]
  }
 ],
 "metadata": {
  "kernelspec": {
   "display_name": "Python 3",
   "language": "python",
   "name": "python3"
  },
  "language_info": {
   "codemirror_mode": {
    "name": "ipython",
    "version": 3
   },
   "file_extension": ".py",
   "mimetype": "text/x-python",
   "name": "python",
   "nbconvert_exporter": "python",
   "pygments_lexer": "ipython3",
   "version": "3.6.9"
  }
 },
 "nbformat": 4,
 "nbformat_minor": 4
}
