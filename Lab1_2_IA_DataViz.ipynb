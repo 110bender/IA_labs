{
 "cells": [
  {
   "cell_type": "markdown",
   "metadata": {},
   "source": [
    "# Travaux Pratiques Intelligence Artificielle: Lab1.2\n",
    "\n",
    "Python 4 Data Science: Introduction à la data visualisation avec Bokeh 🤖 🙌.\n",
    "\n",
    "## Objectifs du TP:\n",
    "\n",
    "> **Comprendre les concepts de base de la data visualisation avec Bokeh**\n",
    "\n",
    "> **Se familiariser avec les commandes les plus utilisées pour la visualisation des données en utilisant la libraire Bokeh et Pandas**\n",
    "\n",
    "> **Visualiser graphiquement les données du TP précédent.** \n",
    "\n",
    "> **Créer une application de visualisation de données (en Bonus)** \n",
    "\n",
    "\n",
    "\n",
    "<br> A la fin du TP vous devez **rendre ce notebook dans \"Assignment\" de Teams**. Le TP doit être travaillé en préférence en binôme.\n",
    "\n",
    "_Besoin d'aide? Laisser moi un Commentaire sur Teams_\n",
    "\n",
    "![green-divider](https://user-images.githubusercontent.com/7065401/52071924-c003ad80-2562-11e9-8297-1c6595f8a7ff.png)"
   ]
  },
  {
   "cell_type": "markdown",
   "metadata": {},
   "source": [
    "## A. Concepts de base"
   ]
  },
  {
   "cell_type": "markdown",
   "metadata": {},
   "source": [
    "L'objectif de cette section est de se familiariser avec les principes de base de data visualisation avec Python, Bokeh précisément. Bokeh est une librairie de visualisation destinée aux navigateur web modernes. Elle permet la construction de graphes élégants, concis, variés, et interactifs.\n",
    "\n",
    "Bokeh est basé sur l'idée qu'un graphe est construit une couche à la fois. Pour créer un graphe, on a besoin de créer en premier lieu la figure, puis ajouter les différents éléments (glyphs). Les glyphs sont des composants représentant les figures géométriques comme les lignes, cercles, rectanges etc. qui composent un plot Bokeh.\n",
    "\n",
    "Il y a deux méthodes pour la présentation d'un plot Bokeh:\n",
    "- output_file: où l'output est un fichier html\n",
    "- output_notebook: où l'output se fait au niveau du Jupyter notebook en cours d'utilisation.\n"
   ]
  },
  {
   "cell_type": "markdown",
   "metadata": {},
   "source": [
    "<br> Commençons par un simple exemple où on visualisera un line plot avec les Glyphs."
   ]
  },
  {
   "cell_type": "code",
   "execution_count": 1,
   "metadata": {},
   "outputs": [],
   "source": [
    "from bokeh.plotting import figure\n",
    "from bokeh.io import output_notebook, show"
   ]
  },
  {
   "cell_type": "code",
   "execution_count": 2,
   "metadata": {},
   "outputs": [
    {
     "data": {
      "text/html": [
       "\n",
       "    <div class=\"bk-root\">\n",
       "        <a href=\"https://bokeh.org\" target=\"_blank\" class=\"bk-logo bk-logo-small bk-logo-notebook\"></a>\n",
       "        <span id=\"1001\">Loading BokehJS ...</span>\n",
       "    </div>"
      ]
     },
     "metadata": {},
     "output_type": "display_data"
    },
    {
     "data": {
      "application/javascript": [
       "\n",
       "(function(root) {\n",
       "  function now() {\n",
       "    return new Date();\n",
       "  }\n",
       "\n",
       "  var force = true;\n",
       "\n",
       "  if (typeof root._bokeh_onload_callbacks === \"undefined\" || force === true) {\n",
       "    root._bokeh_onload_callbacks = [];\n",
       "    root._bokeh_is_loading = undefined;\n",
       "  }\n",
       "\n",
       "  var JS_MIME_TYPE = 'application/javascript';\n",
       "  var HTML_MIME_TYPE = 'text/html';\n",
       "  var EXEC_MIME_TYPE = 'application/vnd.bokehjs_exec.v0+json';\n",
       "  var CLASS_NAME = 'output_bokeh rendered_html';\n",
       "\n",
       "  /**\n",
       "   * Render data to the DOM node\n",
       "   */\n",
       "  function render(props, node) {\n",
       "    var script = document.createElement(\"script\");\n",
       "    node.appendChild(script);\n",
       "  }\n",
       "\n",
       "  /**\n",
       "   * Handle when an output is cleared or removed\n",
       "   */\n",
       "  function handleClearOutput(event, handle) {\n",
       "    var cell = handle.cell;\n",
       "\n",
       "    var id = cell.output_area._bokeh_element_id;\n",
       "    var server_id = cell.output_area._bokeh_server_id;\n",
       "    // Clean up Bokeh references\n",
       "    if (id != null && id in Bokeh.index) {\n",
       "      Bokeh.index[id].model.document.clear();\n",
       "      delete Bokeh.index[id];\n",
       "    }\n",
       "\n",
       "    if (server_id !== undefined) {\n",
       "      // Clean up Bokeh references\n",
       "      var cmd = \"from bokeh.io.state import curstate; print(curstate().uuid_to_server['\" + server_id + \"'].get_sessions()[0].document.roots[0]._id)\";\n",
       "      cell.notebook.kernel.execute(cmd, {\n",
       "        iopub: {\n",
       "          output: function(msg) {\n",
       "            var id = msg.content.text.trim();\n",
       "            if (id in Bokeh.index) {\n",
       "              Bokeh.index[id].model.document.clear();\n",
       "              delete Bokeh.index[id];\n",
       "            }\n",
       "          }\n",
       "        }\n",
       "      });\n",
       "      // Destroy server and session\n",
       "      var cmd = \"import bokeh.io.notebook as ion; ion.destroy_server('\" + server_id + \"')\";\n",
       "      cell.notebook.kernel.execute(cmd);\n",
       "    }\n",
       "  }\n",
       "\n",
       "  /**\n",
       "   * Handle when a new output is added\n",
       "   */\n",
       "  function handleAddOutput(event, handle) {\n",
       "    var output_area = handle.output_area;\n",
       "    var output = handle.output;\n",
       "\n",
       "    // limit handleAddOutput to display_data with EXEC_MIME_TYPE content only\n",
       "    if ((output.output_type != \"display_data\") || (!output.data.hasOwnProperty(EXEC_MIME_TYPE))) {\n",
       "      return\n",
       "    }\n",
       "\n",
       "    var toinsert = output_area.element.find(\".\" + CLASS_NAME.split(' ')[0]);\n",
       "\n",
       "    if (output.metadata[EXEC_MIME_TYPE][\"id\"] !== undefined) {\n",
       "      toinsert[toinsert.length - 1].firstChild.textContent = output.data[JS_MIME_TYPE];\n",
       "      // store reference to embed id on output_area\n",
       "      output_area._bokeh_element_id = output.metadata[EXEC_MIME_TYPE][\"id\"];\n",
       "    }\n",
       "    if (output.metadata[EXEC_MIME_TYPE][\"server_id\"] !== undefined) {\n",
       "      var bk_div = document.createElement(\"div\");\n",
       "      bk_div.innerHTML = output.data[HTML_MIME_TYPE];\n",
       "      var script_attrs = bk_div.children[0].attributes;\n",
       "      for (var i = 0; i < script_attrs.length; i++) {\n",
       "        toinsert[toinsert.length - 1].firstChild.setAttribute(script_attrs[i].name, script_attrs[i].value);\n",
       "        toinsert[toinsert.length - 1].firstChild.textContent = bk_div.children[0].textContent\n",
       "      }\n",
       "      // store reference to server id on output_area\n",
       "      output_area._bokeh_server_id = output.metadata[EXEC_MIME_TYPE][\"server_id\"];\n",
       "    }\n",
       "  }\n",
       "\n",
       "  function register_renderer(events, OutputArea) {\n",
       "\n",
       "    function append_mime(data, metadata, element) {\n",
       "      // create a DOM node to render to\n",
       "      var toinsert = this.create_output_subarea(\n",
       "        metadata,\n",
       "        CLASS_NAME,\n",
       "        EXEC_MIME_TYPE\n",
       "      );\n",
       "      this.keyboard_manager.register_events(toinsert);\n",
       "      // Render to node\n",
       "      var props = {data: data, metadata: metadata[EXEC_MIME_TYPE]};\n",
       "      render(props, toinsert[toinsert.length - 1]);\n",
       "      element.append(toinsert);\n",
       "      return toinsert\n",
       "    }\n",
       "\n",
       "    /* Handle when an output is cleared or removed */\n",
       "    events.on('clear_output.CodeCell', handleClearOutput);\n",
       "    events.on('delete.Cell', handleClearOutput);\n",
       "\n",
       "    /* Handle when a new output is added */\n",
       "    events.on('output_added.OutputArea', handleAddOutput);\n",
       "\n",
       "    /**\n",
       "     * Register the mime type and append_mime function with output_area\n",
       "     */\n",
       "    OutputArea.prototype.register_mime_type(EXEC_MIME_TYPE, append_mime, {\n",
       "      /* Is output safe? */\n",
       "      safe: true,\n",
       "      /* Index of renderer in `output_area.display_order` */\n",
       "      index: 0\n",
       "    });\n",
       "  }\n",
       "\n",
       "  // register the mime type if in Jupyter Notebook environment and previously unregistered\n",
       "  if (root.Jupyter !== undefined) {\n",
       "    var events = require('base/js/events');\n",
       "    var OutputArea = require('notebook/js/outputarea').OutputArea;\n",
       "\n",
       "    if (OutputArea.prototype.mime_types().indexOf(EXEC_MIME_TYPE) == -1) {\n",
       "      register_renderer(events, OutputArea);\n",
       "    }\n",
       "  }\n",
       "\n",
       "  \n",
       "  if (typeof (root._bokeh_timeout) === \"undefined\" || force === true) {\n",
       "    root._bokeh_timeout = Date.now() + 5000;\n",
       "    root._bokeh_failed_load = false;\n",
       "  }\n",
       "\n",
       "  var NB_LOAD_WARNING = {'data': {'text/html':\n",
       "     \"<div style='background-color: #fdd'>\\n\"+\n",
       "     \"<p>\\n\"+\n",
       "     \"BokehJS does not appear to have successfully loaded. If loading BokehJS from CDN, this \\n\"+\n",
       "     \"may be due to a slow or bad network connection. Possible fixes:\\n\"+\n",
       "     \"</p>\\n\"+\n",
       "     \"<ul>\\n\"+\n",
       "     \"<li>re-rerun `output_notebook()` to attempt to load from CDN again, or</li>\\n\"+\n",
       "     \"<li>use INLINE resources instead, as so:</li>\\n\"+\n",
       "     \"</ul>\\n\"+\n",
       "     \"<code>\\n\"+\n",
       "     \"from bokeh.resources import INLINE\\n\"+\n",
       "     \"output_notebook(resources=INLINE)\\n\"+\n",
       "     \"</code>\\n\"+\n",
       "     \"</div>\"}};\n",
       "\n",
       "  function display_loaded() {\n",
       "    var el = document.getElementById(\"1001\");\n",
       "    if (el != null) {\n",
       "      el.textContent = \"BokehJS is loading...\";\n",
       "    }\n",
       "    if (root.Bokeh !== undefined) {\n",
       "      if (el != null) {\n",
       "        el.textContent = \"BokehJS \" + root.Bokeh.version + \" successfully loaded.\";\n",
       "      }\n",
       "    } else if (Date.now() < root._bokeh_timeout) {\n",
       "      setTimeout(display_loaded, 100)\n",
       "    }\n",
       "  }\n",
       "\n",
       "\n",
       "  function run_callbacks() {\n",
       "    try {\n",
       "      root._bokeh_onload_callbacks.forEach(function(callback) {\n",
       "        if (callback != null)\n",
       "          callback();\n",
       "      });\n",
       "    } finally {\n",
       "      delete root._bokeh_onload_callbacks\n",
       "    }\n",
       "    console.debug(\"Bokeh: all callbacks have finished\");\n",
       "  }\n",
       "\n",
       "  function load_libs(css_urls, js_urls, callback) {\n",
       "    if (css_urls == null) css_urls = [];\n",
       "    if (js_urls == null) js_urls = [];\n",
       "\n",
       "    root._bokeh_onload_callbacks.push(callback);\n",
       "    if (root._bokeh_is_loading > 0) {\n",
       "      console.debug(\"Bokeh: BokehJS is being loaded, scheduling callback at\", now());\n",
       "      return null;\n",
       "    }\n",
       "    if (js_urls == null || js_urls.length === 0) {\n",
       "      run_callbacks();\n",
       "      return null;\n",
       "    }\n",
       "    console.debug(\"Bokeh: BokehJS not loaded, scheduling load and callback at\", now());\n",
       "    root._bokeh_is_loading = css_urls.length + js_urls.length;\n",
       "\n",
       "    function on_load() {\n",
       "      root._bokeh_is_loading--;\n",
       "      if (root._bokeh_is_loading === 0) {\n",
       "        console.debug(\"Bokeh: all BokehJS libraries/stylesheets loaded\");\n",
       "        run_callbacks()\n",
       "      }\n",
       "    }\n",
       "\n",
       "    function on_error() {\n",
       "      console.error(\"failed to load \" + url);\n",
       "    }\n",
       "\n",
       "    for (var i = 0; i < css_urls.length; i++) {\n",
       "      var url = css_urls[i];\n",
       "      const element = document.createElement(\"link\");\n",
       "      element.onload = on_load;\n",
       "      element.onerror = on_error;\n",
       "      element.rel = \"stylesheet\";\n",
       "      element.type = \"text/css\";\n",
       "      element.href = url;\n",
       "      console.debug(\"Bokeh: injecting link tag for BokehJS stylesheet: \", url);\n",
       "      document.body.appendChild(element);\n",
       "    }\n",
       "\n",
       "    const hashes = {\"https://cdn.bokeh.org/bokeh/release/bokeh-2.2.3.min.js\": \"T2yuo9Oe71Cz/I4X9Ac5+gpEa5a8PpJCDlqKYO0CfAuEszu1JrXLl8YugMqYe3sM\", \"https://cdn.bokeh.org/bokeh/release/bokeh-widgets-2.2.3.min.js\": \"98GDGJ0kOMCUMUePhksaQ/GYgB3+NH9h996V88sh3aOiUNX3N+fLXAtry6xctSZ6\", \"https://cdn.bokeh.org/bokeh/release/bokeh-tables-2.2.3.min.js\": \"89bArO+nlbP3sgakeHjCo1JYxYR5wufVgA3IbUvDY+K7w4zyxJqssu7wVnfeKCq8\"};\n",
       "\n",
       "    for (var i = 0; i < js_urls.length; i++) {\n",
       "      var url = js_urls[i];\n",
       "      var element = document.createElement('script');\n",
       "      element.onload = on_load;\n",
       "      element.onerror = on_error;\n",
       "      element.async = false;\n",
       "      element.src = url;\n",
       "      if (url in hashes) {\n",
       "        element.crossOrigin = \"anonymous\";\n",
       "        element.integrity = \"sha384-\" + hashes[url];\n",
       "      }\n",
       "      console.debug(\"Bokeh: injecting script tag for BokehJS library: \", url);\n",
       "      document.head.appendChild(element);\n",
       "    }\n",
       "  };\n",
       "\n",
       "  function inject_raw_css(css) {\n",
       "    const element = document.createElement(\"style\");\n",
       "    element.appendChild(document.createTextNode(css));\n",
       "    document.body.appendChild(element);\n",
       "  }\n",
       "\n",
       "  \n",
       "  var js_urls = [\"https://cdn.bokeh.org/bokeh/release/bokeh-2.2.3.min.js\", \"https://cdn.bokeh.org/bokeh/release/bokeh-widgets-2.2.3.min.js\", \"https://cdn.bokeh.org/bokeh/release/bokeh-tables-2.2.3.min.js\"];\n",
       "  var css_urls = [];\n",
       "  \n",
       "\n",
       "  var inline_js = [\n",
       "    function(Bokeh) {\n",
       "      Bokeh.set_log_level(\"info\");\n",
       "    },\n",
       "    function(Bokeh) {\n",
       "    \n",
       "    \n",
       "    }\n",
       "  ];\n",
       "\n",
       "  function run_inline_js() {\n",
       "    \n",
       "    if (root.Bokeh !== undefined || force === true) {\n",
       "      \n",
       "    for (var i = 0; i < inline_js.length; i++) {\n",
       "      inline_js[i].call(root, root.Bokeh);\n",
       "    }\n",
       "    if (force === true) {\n",
       "        display_loaded();\n",
       "      }} else if (Date.now() < root._bokeh_timeout) {\n",
       "      setTimeout(run_inline_js, 100);\n",
       "    } else if (!root._bokeh_failed_load) {\n",
       "      console.log(\"Bokeh: BokehJS failed to load within specified timeout.\");\n",
       "      root._bokeh_failed_load = true;\n",
       "    } else if (force !== true) {\n",
       "      var cell = $(document.getElementById(\"1001\")).parents('.cell').data().cell;\n",
       "      cell.output_area.append_execute_result(NB_LOAD_WARNING)\n",
       "    }\n",
       "\n",
       "  }\n",
       "\n",
       "  if (root._bokeh_is_loading === 0) {\n",
       "    console.debug(\"Bokeh: BokehJS loaded, going straight to plotting\");\n",
       "    run_inline_js();\n",
       "  } else {\n",
       "    load_libs(css_urls, js_urls, function() {\n",
       "      console.debug(\"Bokeh: BokehJS plotting callback run at\", now());\n",
       "      run_inline_js();\n",
       "    });\n",
       "  }\n",
       "}(window));"
      ],
      "application/vnd.bokehjs_load.v0+json": "\n(function(root) {\n  function now() {\n    return new Date();\n  }\n\n  var force = true;\n\n  if (typeof root._bokeh_onload_callbacks === \"undefined\" || force === true) {\n    root._bokeh_onload_callbacks = [];\n    root._bokeh_is_loading = undefined;\n  }\n\n  \n\n  \n  if (typeof (root._bokeh_timeout) === \"undefined\" || force === true) {\n    root._bokeh_timeout = Date.now() + 5000;\n    root._bokeh_failed_load = false;\n  }\n\n  var NB_LOAD_WARNING = {'data': {'text/html':\n     \"<div style='background-color: #fdd'>\\n\"+\n     \"<p>\\n\"+\n     \"BokehJS does not appear to have successfully loaded. If loading BokehJS from CDN, this \\n\"+\n     \"may be due to a slow or bad network connection. Possible fixes:\\n\"+\n     \"</p>\\n\"+\n     \"<ul>\\n\"+\n     \"<li>re-rerun `output_notebook()` to attempt to load from CDN again, or</li>\\n\"+\n     \"<li>use INLINE resources instead, as so:</li>\\n\"+\n     \"</ul>\\n\"+\n     \"<code>\\n\"+\n     \"from bokeh.resources import INLINE\\n\"+\n     \"output_notebook(resources=INLINE)\\n\"+\n     \"</code>\\n\"+\n     \"</div>\"}};\n\n  function display_loaded() {\n    var el = document.getElementById(\"1001\");\n    if (el != null) {\n      el.textContent = \"BokehJS is loading...\";\n    }\n    if (root.Bokeh !== undefined) {\n      if (el != null) {\n        el.textContent = \"BokehJS \" + root.Bokeh.version + \" successfully loaded.\";\n      }\n    } else if (Date.now() < root._bokeh_timeout) {\n      setTimeout(display_loaded, 100)\n    }\n  }\n\n\n  function run_callbacks() {\n    try {\n      root._bokeh_onload_callbacks.forEach(function(callback) {\n        if (callback != null)\n          callback();\n      });\n    } finally {\n      delete root._bokeh_onload_callbacks\n    }\n    console.debug(\"Bokeh: all callbacks have finished\");\n  }\n\n  function load_libs(css_urls, js_urls, callback) {\n    if (css_urls == null) css_urls = [];\n    if (js_urls == null) js_urls = [];\n\n    root._bokeh_onload_callbacks.push(callback);\n    if (root._bokeh_is_loading > 0) {\n      console.debug(\"Bokeh: BokehJS is being loaded, scheduling callback at\", now());\n      return null;\n    }\n    if (js_urls == null || js_urls.length === 0) {\n      run_callbacks();\n      return null;\n    }\n    console.debug(\"Bokeh: BokehJS not loaded, scheduling load and callback at\", now());\n    root._bokeh_is_loading = css_urls.length + js_urls.length;\n\n    function on_load() {\n      root._bokeh_is_loading--;\n      if (root._bokeh_is_loading === 0) {\n        console.debug(\"Bokeh: all BokehJS libraries/stylesheets loaded\");\n        run_callbacks()\n      }\n    }\n\n    function on_error() {\n      console.error(\"failed to load \" + url);\n    }\n\n    for (var i = 0; i < css_urls.length; i++) {\n      var url = css_urls[i];\n      const element = document.createElement(\"link\");\n      element.onload = on_load;\n      element.onerror = on_error;\n      element.rel = \"stylesheet\";\n      element.type = \"text/css\";\n      element.href = url;\n      console.debug(\"Bokeh: injecting link tag for BokehJS stylesheet: \", url);\n      document.body.appendChild(element);\n    }\n\n    const hashes = {\"https://cdn.bokeh.org/bokeh/release/bokeh-2.2.3.min.js\": \"T2yuo9Oe71Cz/I4X9Ac5+gpEa5a8PpJCDlqKYO0CfAuEszu1JrXLl8YugMqYe3sM\", \"https://cdn.bokeh.org/bokeh/release/bokeh-widgets-2.2.3.min.js\": \"98GDGJ0kOMCUMUePhksaQ/GYgB3+NH9h996V88sh3aOiUNX3N+fLXAtry6xctSZ6\", \"https://cdn.bokeh.org/bokeh/release/bokeh-tables-2.2.3.min.js\": \"89bArO+nlbP3sgakeHjCo1JYxYR5wufVgA3IbUvDY+K7w4zyxJqssu7wVnfeKCq8\"};\n\n    for (var i = 0; i < js_urls.length; i++) {\n      var url = js_urls[i];\n      var element = document.createElement('script');\n      element.onload = on_load;\n      element.onerror = on_error;\n      element.async = false;\n      element.src = url;\n      if (url in hashes) {\n        element.crossOrigin = \"anonymous\";\n        element.integrity = \"sha384-\" + hashes[url];\n      }\n      console.debug(\"Bokeh: injecting script tag for BokehJS library: \", url);\n      document.head.appendChild(element);\n    }\n  };\n\n  function inject_raw_css(css) {\n    const element = document.createElement(\"style\");\n    element.appendChild(document.createTextNode(css));\n    document.body.appendChild(element);\n  }\n\n  \n  var js_urls = [\"https://cdn.bokeh.org/bokeh/release/bokeh-2.2.3.min.js\", \"https://cdn.bokeh.org/bokeh/release/bokeh-widgets-2.2.3.min.js\", \"https://cdn.bokeh.org/bokeh/release/bokeh-tables-2.2.3.min.js\"];\n  var css_urls = [];\n  \n\n  var inline_js = [\n    function(Bokeh) {\n      Bokeh.set_log_level(\"info\");\n    },\n    function(Bokeh) {\n    \n    \n    }\n  ];\n\n  function run_inline_js() {\n    \n    if (root.Bokeh !== undefined || force === true) {\n      \n    for (var i = 0; i < inline_js.length; i++) {\n      inline_js[i].call(root, root.Bokeh);\n    }\n    if (force === true) {\n        display_loaded();\n      }} else if (Date.now() < root._bokeh_timeout) {\n      setTimeout(run_inline_js, 100);\n    } else if (!root._bokeh_failed_load) {\n      console.log(\"Bokeh: BokehJS failed to load within specified timeout.\");\n      root._bokeh_failed_load = true;\n    } else if (force !== true) {\n      var cell = $(document.getElementById(\"1001\")).parents('.cell').data().cell;\n      cell.output_area.append_execute_result(NB_LOAD_WARNING)\n    }\n\n  }\n\n  if (root._bokeh_is_loading === 0) {\n    console.debug(\"Bokeh: BokehJS loaded, going straight to plotting\");\n    run_inline_js();\n  } else {\n    load_libs(css_urls, js_urls, function() {\n      console.debug(\"Bokeh: BokehJS plotting callback run at\", now());\n      run_inline_js();\n    });\n  }\n}(window));"
     },
     "metadata": {},
     "output_type": "display_data"
    }
   ],
   "source": [
    "output_notebook()"
   ]
  },
  {
   "cell_type": "code",
   "execution_count": 3,
   "metadata": {},
   "outputs": [],
   "source": [
    "# Let's create a data arrays used for plotting the line plot\n",
    "x = [5,6,7,8,9,10]\n",
    "y = [1,2,3,4,5,6]"
   ]
  },
  {
   "cell_type": "markdown",
   "metadata": {},
   "source": [
    "Faire appel à la fonction Figure donne à Bokeh l'instruction de construire un graphe. On peut alors y ajouter les couches de glyphs."
   ]
  },
  {
   "cell_type": "code",
   "execution_count": 4,
   "metadata": {},
   "outputs": [],
   "source": [
    "# Faire appel à figure() pour créer la figure du plot\n",
    "p = figure(plot_width=400, plot_height=400)"
   ]
  },
  {
   "cell_type": "code",
   "execution_count": 5,
   "metadata": {},
   "outputs": [
    {
     "data": {
      "text/html": [
       "<div style=\"display: table;\"><div style=\"display: table-row;\"><div style=\"display: table-cell;\"><b title=\"bokeh.models.renderers.GlyphRenderer\">GlyphRenderer</b>(</div><div style=\"display: table-cell;\">id&nbsp;=&nbsp;'1036', <span id=\"1039\" style=\"cursor: pointer;\">&hellip;)</span></div></div><div class=\"1038\" style=\"display: none;\"><div style=\"display: table-cell;\"></div><div style=\"display: table-cell;\">data_source&nbsp;=&nbsp;ColumnDataSource(id='1033', ...),</div></div><div class=\"1038\" style=\"display: none;\"><div style=\"display: table-cell;\"></div><div style=\"display: table-cell;\">glyph&nbsp;=&nbsp;Line(id='1034', ...),</div></div><div class=\"1038\" style=\"display: none;\"><div style=\"display: table-cell;\"></div><div style=\"display: table-cell;\">hover_glyph&nbsp;=&nbsp;None,</div></div><div class=\"1038\" style=\"display: none;\"><div style=\"display: table-cell;\"></div><div style=\"display: table-cell;\">js_event_callbacks&nbsp;=&nbsp;{},</div></div><div class=\"1038\" style=\"display: none;\"><div style=\"display: table-cell;\"></div><div style=\"display: table-cell;\">js_property_callbacks&nbsp;=&nbsp;{},</div></div><div class=\"1038\" style=\"display: none;\"><div style=\"display: table-cell;\"></div><div style=\"display: table-cell;\">level&nbsp;=&nbsp;'glyph',</div></div><div class=\"1038\" style=\"display: none;\"><div style=\"display: table-cell;\"></div><div style=\"display: table-cell;\">muted&nbsp;=&nbsp;False,</div></div><div class=\"1038\" style=\"display: none;\"><div style=\"display: table-cell;\"></div><div style=\"display: table-cell;\">muted_glyph&nbsp;=&nbsp;None,</div></div><div class=\"1038\" style=\"display: none;\"><div style=\"display: table-cell;\"></div><div style=\"display: table-cell;\">name&nbsp;=&nbsp;None,</div></div><div class=\"1038\" style=\"display: none;\"><div style=\"display: table-cell;\"></div><div style=\"display: table-cell;\">nonselection_glyph&nbsp;=&nbsp;Line(id='1035', ...),</div></div><div class=\"1038\" style=\"display: none;\"><div style=\"display: table-cell;\"></div><div style=\"display: table-cell;\">selection_glyph&nbsp;=&nbsp;None,</div></div><div class=\"1038\" style=\"display: none;\"><div style=\"display: table-cell;\"></div><div style=\"display: table-cell;\">subscribed_events&nbsp;=&nbsp;[],</div></div><div class=\"1038\" style=\"display: none;\"><div style=\"display: table-cell;\"></div><div style=\"display: table-cell;\">tags&nbsp;=&nbsp;[],</div></div><div class=\"1038\" style=\"display: none;\"><div style=\"display: table-cell;\"></div><div style=\"display: table-cell;\">view&nbsp;=&nbsp;CDSView(id='1037', ...),</div></div><div class=\"1038\" style=\"display: none;\"><div style=\"display: table-cell;\"></div><div style=\"display: table-cell;\">visible&nbsp;=&nbsp;True,</div></div><div class=\"1038\" style=\"display: none;\"><div style=\"display: table-cell;\"></div><div style=\"display: table-cell;\">x_range_name&nbsp;=&nbsp;'default',</div></div><div class=\"1038\" style=\"display: none;\"><div style=\"display: table-cell;\"></div><div style=\"display: table-cell;\">y_range_name&nbsp;=&nbsp;'default')</div></div></div>\n",
       "<script>\n",
       "(function() {\n",
       "  var expanded = false;\n",
       "  var ellipsis = document.getElementById(\"1039\");\n",
       "  ellipsis.addEventListener(\"click\", function() {\n",
       "    var rows = document.getElementsByClassName(\"1038\");\n",
       "    for (var i = 0; i < rows.length; i++) {\n",
       "      var el = rows[i];\n",
       "      el.style.display = expanded ? \"none\" : \"table-row\";\n",
       "    }\n",
       "    ellipsis.innerHTML = expanded ? \"&hellip;)\" : \"&lsaquo;&lsaquo;&lsaquo;\";\n",
       "    expanded = !expanded;\n",
       "  });\n",
       "})();\n",
       "</script>\n"
      ],
      "text/plain": [
       "GlyphRenderer(id='1036', ...)"
      ]
     },
     "execution_count": 5,
     "metadata": {},
     "output_type": "execute_result"
    }
   ],
   "source": [
    "# Créer un line plot en utilisant la fonction line()\n",
    "p.line(x, y, line_width=2, color=\"orange\", alpha=0.5)"
   ]
  },
  {
   "cell_type": "code",
   "execution_count": 6,
   "metadata": {},
   "outputs": [
    {
     "data": {
      "text/html": [
       "<div style=\"display: table;\"><div style=\"display: table-row;\"><div style=\"display: table-cell;\"><b title=\"bokeh.models.renderers.GlyphRenderer\">GlyphRenderer</b>(</div><div style=\"display: table-cell;\">id&nbsp;=&nbsp;'1043', <span id=\"1046\" style=\"cursor: pointer;\">&hellip;)</span></div></div><div class=\"1045\" style=\"display: none;\"><div style=\"display: table-cell;\"></div><div style=\"display: table-cell;\">data_source&nbsp;=&nbsp;ColumnDataSource(id='1040', ...),</div></div><div class=\"1045\" style=\"display: none;\"><div style=\"display: table-cell;\"></div><div style=\"display: table-cell;\">glyph&nbsp;=&nbsp;Cross(id='1041', ...),</div></div><div class=\"1045\" style=\"display: none;\"><div style=\"display: table-cell;\"></div><div style=\"display: table-cell;\">hover_glyph&nbsp;=&nbsp;None,</div></div><div class=\"1045\" style=\"display: none;\"><div style=\"display: table-cell;\"></div><div style=\"display: table-cell;\">js_event_callbacks&nbsp;=&nbsp;{},</div></div><div class=\"1045\" style=\"display: none;\"><div style=\"display: table-cell;\"></div><div style=\"display: table-cell;\">js_property_callbacks&nbsp;=&nbsp;{},</div></div><div class=\"1045\" style=\"display: none;\"><div style=\"display: table-cell;\"></div><div style=\"display: table-cell;\">level&nbsp;=&nbsp;'glyph',</div></div><div class=\"1045\" style=\"display: none;\"><div style=\"display: table-cell;\"></div><div style=\"display: table-cell;\">muted&nbsp;=&nbsp;False,</div></div><div class=\"1045\" style=\"display: none;\"><div style=\"display: table-cell;\"></div><div style=\"display: table-cell;\">muted_glyph&nbsp;=&nbsp;None,</div></div><div class=\"1045\" style=\"display: none;\"><div style=\"display: table-cell;\"></div><div style=\"display: table-cell;\">name&nbsp;=&nbsp;None,</div></div><div class=\"1045\" style=\"display: none;\"><div style=\"display: table-cell;\"></div><div style=\"display: table-cell;\">nonselection_glyph&nbsp;=&nbsp;Cross(id='1042', ...),</div></div><div class=\"1045\" style=\"display: none;\"><div style=\"display: table-cell;\"></div><div style=\"display: table-cell;\">selection_glyph&nbsp;=&nbsp;None,</div></div><div class=\"1045\" style=\"display: none;\"><div style=\"display: table-cell;\"></div><div style=\"display: table-cell;\">subscribed_events&nbsp;=&nbsp;[],</div></div><div class=\"1045\" style=\"display: none;\"><div style=\"display: table-cell;\"></div><div style=\"display: table-cell;\">tags&nbsp;=&nbsp;[],</div></div><div class=\"1045\" style=\"display: none;\"><div style=\"display: table-cell;\"></div><div style=\"display: table-cell;\">view&nbsp;=&nbsp;CDSView(id='1044', ...),</div></div><div class=\"1045\" style=\"display: none;\"><div style=\"display: table-cell;\"></div><div style=\"display: table-cell;\">visible&nbsp;=&nbsp;True,</div></div><div class=\"1045\" style=\"display: none;\"><div style=\"display: table-cell;\"></div><div style=\"display: table-cell;\">x_range_name&nbsp;=&nbsp;'default',</div></div><div class=\"1045\" style=\"display: none;\"><div style=\"display: table-cell;\"></div><div style=\"display: table-cell;\">y_range_name&nbsp;=&nbsp;'default')</div></div></div>\n",
       "<script>\n",
       "(function() {\n",
       "  var expanded = false;\n",
       "  var ellipsis = document.getElementById(\"1046\");\n",
       "  ellipsis.addEventListener(\"click\", function() {\n",
       "    var rows = document.getElementsByClassName(\"1045\");\n",
       "    for (var i = 0; i < rows.length; i++) {\n",
       "      var el = rows[i];\n",
       "      el.style.display = expanded ? \"none\" : \"table-row\";\n",
       "    }\n",
       "    ellipsis.innerHTML = expanded ? \"&hellip;)\" : \"&lsaquo;&lsaquo;&lsaquo;\";\n",
       "    expanded = !expanded;\n",
       "  });\n",
       "})();\n",
       "</script>\n"
      ],
      "text/plain": [
       "GlyphRenderer(id='1043', ...)"
      ]
     },
     "execution_count": 6,
     "metadata": {},
     "output_type": "execute_result"
    }
   ],
   "source": [
    "# Créer des markers sur le line plot au niveau de l'intersection entre x et y\n",
    "p.cross(x, y, size=10, fill_color=\"blue\", fill_alpha=0.5)"
   ]
  },
  {
   "cell_type": "code",
   "execution_count": 7,
   "metadata": {},
   "outputs": [
    {
     "data": {
      "text/html": [
       "\n",
       "\n",
       "\n",
       "\n",
       "\n",
       "\n",
       "  <div class=\"bk-root\" id=\"c32bb053-10fa-42fd-ad0e-673ae535f6e9\" data-root-id=\"1002\"></div>\n"
      ]
     },
     "metadata": {},
     "output_type": "display_data"
    },
    {
     "data": {
      "application/javascript": [
       "(function(root) {\n",
       "  function embed_document(root) {\n",
       "    \n",
       "  var docs_json = {\"dea36a97-1390-4971-96d8-4b73860bbf96\":{\"roots\":{\"references\":[{\"attributes\":{\"below\":[{\"id\":\"1011\"}],\"center\":[{\"id\":\"1014\"},{\"id\":\"1018\"}],\"left\":[{\"id\":\"1015\"}],\"plot_height\":400,\"plot_width\":400,\"renderers\":[{\"id\":\"1036\"},{\"id\":\"1043\"}],\"title\":{\"id\":\"1047\"},\"toolbar\":{\"id\":\"1026\"},\"x_range\":{\"id\":\"1003\"},\"x_scale\":{\"id\":\"1007\"},\"y_range\":{\"id\":\"1005\"},\"y_scale\":{\"id\":\"1009\"}},\"id\":\"1002\",\"subtype\":\"Figure\",\"type\":\"Plot\"},{\"attributes\":{\"active_drag\":\"auto\",\"active_inspect\":\"auto\",\"active_multi\":null,\"active_scroll\":\"auto\",\"active_tap\":\"auto\",\"tools\":[{\"id\":\"1019\"},{\"id\":\"1020\"},{\"id\":\"1021\"},{\"id\":\"1022\"},{\"id\":\"1023\"},{\"id\":\"1024\"}]},\"id\":\"1026\",\"type\":\"Toolbar\"},{\"attributes\":{\"source\":{\"id\":\"1040\"}},\"id\":\"1044\",\"type\":\"CDSView\"},{\"attributes\":{},\"id\":\"1020\",\"type\":\"WheelZoomTool\"},{\"attributes\":{\"overlay\":{\"id\":\"1025\"}},\"id\":\"1021\",\"type\":\"BoxZoomTool\"},{\"attributes\":{},\"id\":\"1022\",\"type\":\"SaveTool\"},{\"attributes\":{},\"id\":\"1050\",\"type\":\"BasicTickFormatter\"},{\"attributes\":{},\"id\":\"1023\",\"type\":\"ResetTool\"},{\"attributes\":{\"line_alpha\":0.5,\"line_color\":\"orange\",\"line_width\":2,\"x\":{\"field\":\"x\"},\"y\":{\"field\":\"y\"}},\"id\":\"1034\",\"type\":\"Line\"},{\"attributes\":{\"data_source\":{\"id\":\"1040\"},\"glyph\":{\"id\":\"1041\"},\"hover_glyph\":null,\"muted_glyph\":null,\"nonselection_glyph\":{\"id\":\"1042\"},\"selection_glyph\":null,\"view\":{\"id\":\"1044\"}},\"id\":\"1043\",\"type\":\"GlyphRenderer\"},{\"attributes\":{\"line_alpha\":0.1,\"line_color\":\"orange\",\"line_width\":2,\"x\":{\"field\":\"x\"},\"y\":{\"field\":\"y\"}},\"id\":\"1035\",\"type\":\"Line\"},{\"attributes\":{},\"id\":\"1052\",\"type\":\"BasicTickFormatter\"},{\"attributes\":{\"source\":{\"id\":\"1033\"}},\"id\":\"1037\",\"type\":\"CDSView\"},{\"attributes\":{\"data\":{\"x\":[5,6,7,8,9,10],\"y\":[1,2,3,4,5,6]},\"selected\":{\"id\":\"1053\"},\"selection_policy\":{\"id\":\"1054\"}},\"id\":\"1033\",\"type\":\"ColumnDataSource\"},{\"attributes\":{},\"id\":\"1053\",\"type\":\"Selection\"},{\"attributes\":{},\"id\":\"1054\",\"type\":\"UnionRenderers\"},{\"attributes\":{\"bottom_units\":\"screen\",\"fill_alpha\":0.5,\"fill_color\":\"lightgrey\",\"left_units\":\"screen\",\"level\":\"overlay\",\"line_alpha\":1.0,\"line_color\":\"black\",\"line_dash\":[4,4],\"line_width\":2,\"right_units\":\"screen\",\"top_units\":\"screen\"},\"id\":\"1025\",\"type\":\"BoxAnnotation\"},{\"attributes\":{\"formatter\":{\"id\":\"1050\"},\"ticker\":{\"id\":\"1012\"}},\"id\":\"1011\",\"type\":\"LinearAxis\"},{\"attributes\":{},\"id\":\"1003\",\"type\":\"DataRange1d\"},{\"attributes\":{},\"id\":\"1055\",\"type\":\"Selection\"},{\"attributes\":{},\"id\":\"1019\",\"type\":\"PanTool\"},{\"attributes\":{},\"id\":\"1056\",\"type\":\"UnionRenderers\"},{\"attributes\":{},\"id\":\"1007\",\"type\":\"LinearScale\"},{\"attributes\":{\"formatter\":{\"id\":\"1052\"},\"ticker\":{\"id\":\"1016\"}},\"id\":\"1015\",\"type\":\"LinearAxis\"},{\"attributes\":{},\"id\":\"1005\",\"type\":\"DataRange1d\"},{\"attributes\":{},\"id\":\"1009\",\"type\":\"LinearScale\"},{\"attributes\":{\"text\":\"\"},\"id\":\"1047\",\"type\":\"Title\"},{\"attributes\":{\"fill_alpha\":{\"value\":0.5},\"fill_color\":{\"value\":\"blue\"},\"line_color\":{\"value\":\"#1f77b4\"},\"size\":{\"units\":\"screen\",\"value\":10},\"x\":{\"field\":\"x\"},\"y\":{\"field\":\"y\"}},\"id\":\"1041\",\"type\":\"Cross\"},{\"attributes\":{\"data\":{\"x\":[5,6,7,8,9,10],\"y\":[1,2,3,4,5,6]},\"selected\":{\"id\":\"1055\"},\"selection_policy\":{\"id\":\"1056\"}},\"id\":\"1040\",\"type\":\"ColumnDataSource\"},{\"attributes\":{},\"id\":\"1024\",\"type\":\"HelpTool\"},{\"attributes\":{\"fill_alpha\":{\"value\":0.1},\"fill_color\":{\"value\":\"blue\"},\"line_alpha\":{\"value\":0.1},\"line_color\":{\"value\":\"#1f77b4\"},\"size\":{\"units\":\"screen\",\"value\":10},\"x\":{\"field\":\"x\"},\"y\":{\"field\":\"y\"}},\"id\":\"1042\",\"type\":\"Cross\"},{\"attributes\":{},\"id\":\"1012\",\"type\":\"BasicTicker\"},{\"attributes\":{\"axis\":{\"id\":\"1011\"},\"ticker\":null},\"id\":\"1014\",\"type\":\"Grid\"},{\"attributes\":{\"data_source\":{\"id\":\"1033\"},\"glyph\":{\"id\":\"1034\"},\"hover_glyph\":null,\"muted_glyph\":null,\"nonselection_glyph\":{\"id\":\"1035\"},\"selection_glyph\":null,\"view\":{\"id\":\"1037\"}},\"id\":\"1036\",\"type\":\"GlyphRenderer\"},{\"attributes\":{\"axis\":{\"id\":\"1015\"},\"dimension\":1,\"ticker\":null},\"id\":\"1018\",\"type\":\"Grid\"},{\"attributes\":{},\"id\":\"1016\",\"type\":\"BasicTicker\"}],\"root_ids\":[\"1002\"]},\"title\":\"Bokeh Application\",\"version\":\"2.2.3\"}};\n",
       "  var render_items = [{\"docid\":\"dea36a97-1390-4971-96d8-4b73860bbf96\",\"root_ids\":[\"1002\"],\"roots\":{\"1002\":\"c32bb053-10fa-42fd-ad0e-673ae535f6e9\"}}];\n",
       "  root.Bokeh.embed.embed_items_notebook(docs_json, render_items);\n",
       "\n",
       "  }\n",
       "  if (root.Bokeh !== undefined) {\n",
       "    embed_document(root);\n",
       "  } else {\n",
       "    var attempts = 0;\n",
       "    var timer = setInterval(function(root) {\n",
       "      if (root.Bokeh !== undefined) {\n",
       "        clearInterval(timer);\n",
       "        embed_document(root);\n",
       "      } else {\n",
       "        attempts++;\n",
       "        if (attempts > 100) {\n",
       "          clearInterval(timer);\n",
       "          console.log(\"Bokeh: ERROR: Unable to run BokehJS code because BokehJS library is missing\");\n",
       "        }\n",
       "      }\n",
       "    }, 10, root)\n",
       "  }\n",
       "})(window);"
      ],
      "application/vnd.bokehjs_exec.v0+json": ""
     },
     "metadata": {
      "application/vnd.bokehjs_exec.v0+json": {
       "id": "1002"
      }
     },
     "output_type": "display_data"
    }
   ],
   "source": [
    "# Afficher le graphe au niveau de ce notebook\n",
    "show(p)"
   ]
  },
  {
   "cell_type": "markdown",
   "metadata": {},
   "source": [
    "On peut créer un scatter plot en utilisant x et y"
   ]
  },
  {
   "cell_type": "code",
   "execution_count": 8,
   "metadata": {},
   "outputs": [],
   "source": [
    "# Créer une nouvelle figure\n",
    "p2 = figure(plot_width=400, plot_height=400)"
   ]
  },
  {
   "cell_type": "code",
   "execution_count": 9,
   "metadata": {},
   "outputs": [
    {
     "data": {
      "text/html": [
       "<div style=\"display: table;\"><div style=\"display: table-row;\"><div style=\"display: table-cell;\"><b title=\"bokeh.models.renderers.GlyphRenderer\">GlyphRenderer</b>(</div><div style=\"display: table-cell;\">id&nbsp;=&nbsp;'1147', <span id=\"1150\" style=\"cursor: pointer;\">&hellip;)</span></div></div><div class=\"1149\" style=\"display: none;\"><div style=\"display: table-cell;\"></div><div style=\"display: table-cell;\">data_source&nbsp;=&nbsp;ColumnDataSource(id='1144', ...),</div></div><div class=\"1149\" style=\"display: none;\"><div style=\"display: table-cell;\"></div><div style=\"display: table-cell;\">glyph&nbsp;=&nbsp;CircleCross(id='1145', ...),</div></div><div class=\"1149\" style=\"display: none;\"><div style=\"display: table-cell;\"></div><div style=\"display: table-cell;\">hover_glyph&nbsp;=&nbsp;None,</div></div><div class=\"1149\" style=\"display: none;\"><div style=\"display: table-cell;\"></div><div style=\"display: table-cell;\">js_event_callbacks&nbsp;=&nbsp;{},</div></div><div class=\"1149\" style=\"display: none;\"><div style=\"display: table-cell;\"></div><div style=\"display: table-cell;\">js_property_callbacks&nbsp;=&nbsp;{},</div></div><div class=\"1149\" style=\"display: none;\"><div style=\"display: table-cell;\"></div><div style=\"display: table-cell;\">level&nbsp;=&nbsp;'glyph',</div></div><div class=\"1149\" style=\"display: none;\"><div style=\"display: table-cell;\"></div><div style=\"display: table-cell;\">muted&nbsp;=&nbsp;False,</div></div><div class=\"1149\" style=\"display: none;\"><div style=\"display: table-cell;\"></div><div style=\"display: table-cell;\">muted_glyph&nbsp;=&nbsp;None,</div></div><div class=\"1149\" style=\"display: none;\"><div style=\"display: table-cell;\"></div><div style=\"display: table-cell;\">name&nbsp;=&nbsp;None,</div></div><div class=\"1149\" style=\"display: none;\"><div style=\"display: table-cell;\"></div><div style=\"display: table-cell;\">nonselection_glyph&nbsp;=&nbsp;CircleCross(id='1146', ...),</div></div><div class=\"1149\" style=\"display: none;\"><div style=\"display: table-cell;\"></div><div style=\"display: table-cell;\">selection_glyph&nbsp;=&nbsp;None,</div></div><div class=\"1149\" style=\"display: none;\"><div style=\"display: table-cell;\"></div><div style=\"display: table-cell;\">subscribed_events&nbsp;=&nbsp;[],</div></div><div class=\"1149\" style=\"display: none;\"><div style=\"display: table-cell;\"></div><div style=\"display: table-cell;\">tags&nbsp;=&nbsp;[],</div></div><div class=\"1149\" style=\"display: none;\"><div style=\"display: table-cell;\"></div><div style=\"display: table-cell;\">view&nbsp;=&nbsp;CDSView(id='1148', ...),</div></div><div class=\"1149\" style=\"display: none;\"><div style=\"display: table-cell;\"></div><div style=\"display: table-cell;\">visible&nbsp;=&nbsp;True,</div></div><div class=\"1149\" style=\"display: none;\"><div style=\"display: table-cell;\"></div><div style=\"display: table-cell;\">x_range_name&nbsp;=&nbsp;'default',</div></div><div class=\"1149\" style=\"display: none;\"><div style=\"display: table-cell;\"></div><div style=\"display: table-cell;\">y_range_name&nbsp;=&nbsp;'default')</div></div></div>\n",
       "<script>\n",
       "(function() {\n",
       "  var expanded = false;\n",
       "  var ellipsis = document.getElementById(\"1150\");\n",
       "  ellipsis.addEventListener(\"click\", function() {\n",
       "    var rows = document.getElementsByClassName(\"1149\");\n",
       "    for (var i = 0; i < rows.length; i++) {\n",
       "      var el = rows[i];\n",
       "      el.style.display = expanded ? \"none\" : \"table-row\";\n",
       "    }\n",
       "    ellipsis.innerHTML = expanded ? \"&hellip;)\" : \"&lsaquo;&lsaquo;&lsaquo;\";\n",
       "    expanded = !expanded;\n",
       "  });\n",
       "})();\n",
       "</script>\n"
      ],
      "text/plain": [
       "GlyphRenderer(id='1147', ...)"
      ]
     },
     "execution_count": 9,
     "metadata": {},
     "output_type": "execute_result"
    }
   ],
   "source": [
    "# Afficher les points en utilisant un cirle marker\n",
    "p2.circle_cross(x, y, size=15, color=\"firebrick\", alpha=0.5 )"
   ]
  },
  {
   "cell_type": "code",
   "execution_count": 10,
   "metadata": {},
   "outputs": [
    {
     "data": {
      "text/html": [
       "\n",
       "\n",
       "\n",
       "\n",
       "\n",
       "\n",
       "  <div class=\"bk-root\" id=\"0fdb7406-060c-4050-9494-a05abbdaa262\" data-root-id=\"1113\"></div>\n"
      ]
     },
     "metadata": {},
     "output_type": "display_data"
    },
    {
     "data": {
      "application/javascript": [
       "(function(root) {\n",
       "  function embed_document(root) {\n",
       "    \n",
       "  var docs_json = {\"07d3c0e2-4fb2-4cce-840c-11ed17e7e857\":{\"roots\":{\"references\":[{\"attributes\":{\"below\":[{\"id\":\"1122\"}],\"center\":[{\"id\":\"1125\"},{\"id\":\"1129\"}],\"left\":[{\"id\":\"1126\"}],\"plot_height\":400,\"plot_width\":400,\"renderers\":[{\"id\":\"1147\"}],\"title\":{\"id\":\"1162\"},\"toolbar\":{\"id\":\"1137\"},\"x_range\":{\"id\":\"1114\"},\"x_scale\":{\"id\":\"1118\"},\"y_range\":{\"id\":\"1116\"},\"y_scale\":{\"id\":\"1120\"}},\"id\":\"1113\",\"subtype\":\"Figure\",\"type\":\"Plot\"},{\"attributes\":{\"formatter\":{\"id\":\"1165\"},\"ticker\":{\"id\":\"1123\"}},\"id\":\"1122\",\"type\":\"LinearAxis\"},{\"attributes\":{\"data\":{\"x\":[5,6,7,8,9,10],\"y\":[1,2,3,4,5,6]},\"selected\":{\"id\":\"1168\"},\"selection_policy\":{\"id\":\"1169\"}},\"id\":\"1144\",\"type\":\"ColumnDataSource\"},{\"attributes\":{},\"id\":\"1165\",\"type\":\"BasicTickFormatter\"},{\"attributes\":{\"fill_alpha\":{\"value\":0.1},\"fill_color\":{\"value\":\"firebrick\"},\"line_alpha\":{\"value\":0.1},\"line_color\":{\"value\":\"firebrick\"},\"size\":{\"units\":\"screen\",\"value\":15},\"x\":{\"field\":\"x\"},\"y\":{\"field\":\"y\"}},\"id\":\"1146\",\"type\":\"CircleCross\"},{\"attributes\":{\"data_source\":{\"id\":\"1144\"},\"glyph\":{\"id\":\"1145\"},\"hover_glyph\":null,\"muted_glyph\":null,\"nonselection_glyph\":{\"id\":\"1146\"},\"selection_glyph\":null,\"view\":{\"id\":\"1148\"}},\"id\":\"1147\",\"type\":\"GlyphRenderer\"},{\"attributes\":{\"active_drag\":\"auto\",\"active_inspect\":\"auto\",\"active_multi\":null,\"active_scroll\":\"auto\",\"active_tap\":\"auto\",\"tools\":[{\"id\":\"1130\"},{\"id\":\"1131\"},{\"id\":\"1132\"},{\"id\":\"1133\"},{\"id\":\"1134\"},{\"id\":\"1135\"}]},\"id\":\"1137\",\"type\":\"Toolbar\"},{\"attributes\":{\"source\":{\"id\":\"1144\"}},\"id\":\"1148\",\"type\":\"CDSView\"},{\"attributes\":{},\"id\":\"1130\",\"type\":\"PanTool\"},{\"attributes\":{},\"id\":\"1118\",\"type\":\"LinearScale\"},{\"attributes\":{},\"id\":\"1135\",\"type\":\"HelpTool\"},{\"attributes\":{},\"id\":\"1123\",\"type\":\"BasicTicker\"},{\"attributes\":{\"bottom_units\":\"screen\",\"fill_alpha\":0.5,\"fill_color\":\"lightgrey\",\"left_units\":\"screen\",\"level\":\"overlay\",\"line_alpha\":1.0,\"line_color\":\"black\",\"line_dash\":[4,4],\"line_width\":2,\"right_units\":\"screen\",\"top_units\":\"screen\"},\"id\":\"1136\",\"type\":\"BoxAnnotation\"},{\"attributes\":{\"overlay\":{\"id\":\"1136\"}},\"id\":\"1132\",\"type\":\"BoxZoomTool\"},{\"attributes\":{},\"id\":\"1114\",\"type\":\"DataRange1d\"},{\"attributes\":{\"text\":\"\"},\"id\":\"1162\",\"type\":\"Title\"},{\"attributes\":{},\"id\":\"1134\",\"type\":\"ResetTool\"},{\"attributes\":{},\"id\":\"1131\",\"type\":\"WheelZoomTool\"},{\"attributes\":{},\"id\":\"1133\",\"type\":\"SaveTool\"},{\"attributes\":{},\"id\":\"1168\",\"type\":\"Selection\"},{\"attributes\":{\"axis\":{\"id\":\"1126\"},\"dimension\":1,\"ticker\":null},\"id\":\"1129\",\"type\":\"Grid\"},{\"attributes\":{},\"id\":\"1167\",\"type\":\"BasicTickFormatter\"},{\"attributes\":{\"formatter\":{\"id\":\"1167\"},\"ticker\":{\"id\":\"1127\"}},\"id\":\"1126\",\"type\":\"LinearAxis\"},{\"attributes\":{},\"id\":\"1116\",\"type\":\"DataRange1d\"},{\"attributes\":{},\"id\":\"1120\",\"type\":\"LinearScale\"},{\"attributes\":{\"axis\":{\"id\":\"1122\"},\"ticker\":null},\"id\":\"1125\",\"type\":\"Grid\"},{\"attributes\":{},\"id\":\"1127\",\"type\":\"BasicTicker\"},{\"attributes\":{},\"id\":\"1169\",\"type\":\"UnionRenderers\"},{\"attributes\":{\"fill_alpha\":{\"value\":0.5},\"fill_color\":{\"value\":\"firebrick\"},\"line_alpha\":{\"value\":0.5},\"line_color\":{\"value\":\"firebrick\"},\"size\":{\"units\":\"screen\",\"value\":15},\"x\":{\"field\":\"x\"},\"y\":{\"field\":\"y\"}},\"id\":\"1145\",\"type\":\"CircleCross\"}],\"root_ids\":[\"1113\"]},\"title\":\"Bokeh Application\",\"version\":\"2.2.3\"}};\n",
       "  var render_items = [{\"docid\":\"07d3c0e2-4fb2-4cce-840c-11ed17e7e857\",\"root_ids\":[\"1113\"],\"roots\":{\"1113\":\"0fdb7406-060c-4050-9494-a05abbdaa262\"}}];\n",
       "  root.Bokeh.embed.embed_items_notebook(docs_json, render_items);\n",
       "\n",
       "  }\n",
       "  if (root.Bokeh !== undefined) {\n",
       "    embed_document(root);\n",
       "  } else {\n",
       "    var attempts = 0;\n",
       "    var timer = setInterval(function(root) {\n",
       "      if (root.Bokeh !== undefined) {\n",
       "        clearInterval(timer);\n",
       "        embed_document(root);\n",
       "      } else {\n",
       "        attempts++;\n",
       "        if (attempts > 100) {\n",
       "          clearInterval(timer);\n",
       "          console.log(\"Bokeh: ERROR: Unable to run BokehJS code because BokehJS library is missing\");\n",
       "        }\n",
       "      }\n",
       "    }, 10, root)\n",
       "  }\n",
       "})(window);"
      ],
      "application/vnd.bokehjs_exec.v0+json": ""
     },
     "metadata": {
      "application/vnd.bokehjs_exec.v0+json": {
       "id": "1113"
      }
     },
     "output_type": "display_data"
    }
   ],
   "source": [
    "# Afficher le graphe\n",
    "show(p2)"
   ]
  },
  {
   "cell_type": "markdown",
   "metadata": {},
   "source": [
    "Lors de la création d'un scatter plot, on peut choisir parmi les markers disponible sur Bokeh: \n",
    "- cross()\n",
    "- x()\n",
    "- diamond()\n",
    "- diamond_cross()\n",
    "- circle_x()\n",
    "- circle_cross()\n",
    "- triangle()\n",
    "- inverted_triangle()\n",
    "- square()\n",
    "- square_x()\n",
    "- square_cross()\n",
    "- asterisk()"
   ]
  },
  {
   "cell_type": "code",
   "execution_count": 11,
   "metadata": {},
   "outputs": [
    {
     "data": {
      "text/html": [
       "\n",
       "\n",
       "\n",
       "\n",
       "\n",
       "\n",
       "  <div class=\"bk-root\" id=\"146a14f8-0793-414d-b420-188f10e5ea92\" data-root-id=\"1216\"></div>\n"
      ]
     },
     "metadata": {},
     "output_type": "display_data"
    },
    {
     "data": {
      "application/javascript": [
       "(function(root) {\n",
       "  function embed_document(root) {\n",
       "    \n",
       "  var docs_json = {\"855f427a-fda6-4443-a380-11b5184f7f6e\":{\"roots\":{\"references\":[{\"attributes\":{\"below\":[{\"id\":\"1225\"}],\"center\":[{\"id\":\"1228\"},{\"id\":\"1232\"}],\"left\":[{\"id\":\"1229\"}],\"plot_height\":400,\"plot_width\":400,\"renderers\":[{\"id\":\"1250\"}],\"title\":{\"id\":\"1272\"},\"toolbar\":{\"id\":\"1240\"},\"x_range\":{\"id\":\"1217\"},\"x_scale\":{\"id\":\"1221\"},\"y_range\":{\"id\":\"1219\"},\"y_scale\":{\"id\":\"1223\"}},\"id\":\"1216\",\"subtype\":\"Figure\",\"type\":\"Plot\"},{\"attributes\":{},\"id\":\"1277\",\"type\":\"BasicTickFormatter\"},{\"attributes\":{\"bottom_units\":\"screen\",\"fill_alpha\":0.5,\"fill_color\":\"lightgrey\",\"left_units\":\"screen\",\"level\":\"overlay\",\"line_alpha\":1.0,\"line_color\":\"black\",\"line_dash\":[4,4],\"line_width\":2,\"right_units\":\"screen\",\"top_units\":\"screen\"},\"id\":\"1239\",\"type\":\"BoxAnnotation\"},{\"attributes\":{},\"id\":\"1237\",\"type\":\"ResetTool\"},{\"attributes\":{\"axis\":{\"id\":\"1225\"},\"ticker\":null},\"id\":\"1228\",\"type\":\"Grid\"},{\"attributes\":{\"text\":\"\"},\"id\":\"1272\",\"type\":\"Title\"},{\"attributes\":{\"fill_alpha\":{\"value\":0.5},\"fill_color\":{\"value\":\"orange\"},\"line_alpha\":{\"value\":0.5},\"line_color\":{\"value\":\"orange\"},\"size\":{\"units\":\"screen\",\"value\":20},\"x\":{\"field\":\"x\"},\"y\":{\"field\":\"y\"}},\"id\":\"1248\",\"type\":\"Diamond\"},{\"attributes\":{\"data\":{\"x\":[5,6,7,8,9,10],\"y\":[1,2,3,4,5,6]},\"selected\":{\"id\":\"1278\"},\"selection_policy\":{\"id\":\"1279\"}},\"id\":\"1247\",\"type\":\"ColumnDataSource\"},{\"attributes\":{},\"id\":\"1217\",\"type\":\"DataRange1d\"},{\"attributes\":{},\"id\":\"1279\",\"type\":\"UnionRenderers\"},{\"attributes\":{\"formatter\":{\"id\":\"1275\"},\"ticker\":{\"id\":\"1226\"}},\"id\":\"1225\",\"type\":\"LinearAxis\"},{\"attributes\":{},\"id\":\"1221\",\"type\":\"LinearScale\"},{\"attributes\":{\"formatter\":{\"id\":\"1277\"},\"ticker\":{\"id\":\"1230\"}},\"id\":\"1229\",\"type\":\"LinearAxis\"},{\"attributes\":{},\"id\":\"1219\",\"type\":\"DataRange1d\"},{\"attributes\":{},\"id\":\"1278\",\"type\":\"Selection\"},{\"attributes\":{},\"id\":\"1223\",\"type\":\"LinearScale\"},{\"attributes\":{},\"id\":\"1238\",\"type\":\"HelpTool\"},{\"attributes\":{},\"id\":\"1275\",\"type\":\"BasicTickFormatter\"},{\"attributes\":{},\"id\":\"1226\",\"type\":\"BasicTicker\"},{\"attributes\":{\"source\":{\"id\":\"1247\"}},\"id\":\"1251\",\"type\":\"CDSView\"},{\"attributes\":{\"data_source\":{\"id\":\"1247\"},\"glyph\":{\"id\":\"1248\"},\"hover_glyph\":null,\"muted_glyph\":null,\"nonselection_glyph\":{\"id\":\"1249\"},\"selection_glyph\":null,\"view\":{\"id\":\"1251\"}},\"id\":\"1250\",\"type\":\"GlyphRenderer\"},{\"attributes\":{\"fill_alpha\":{\"value\":0.1},\"fill_color\":{\"value\":\"orange\"},\"line_alpha\":{\"value\":0.1},\"line_color\":{\"value\":\"orange\"},\"size\":{\"units\":\"screen\",\"value\":20},\"x\":{\"field\":\"x\"},\"y\":{\"field\":\"y\"}},\"id\":\"1249\",\"type\":\"Diamond\"},{\"attributes\":{\"axis\":{\"id\":\"1229\"},\"dimension\":1,\"ticker\":null},\"id\":\"1232\",\"type\":\"Grid\"},{\"attributes\":{},\"id\":\"1230\",\"type\":\"BasicTicker\"},{\"attributes\":{},\"id\":\"1236\",\"type\":\"SaveTool\"},{\"attributes\":{\"active_drag\":\"auto\",\"active_inspect\":\"auto\",\"active_multi\":null,\"active_scroll\":\"auto\",\"active_tap\":\"auto\",\"tools\":[{\"id\":\"1233\"},{\"id\":\"1234\"},{\"id\":\"1235\"},{\"id\":\"1236\"},{\"id\":\"1237\"},{\"id\":\"1238\"}]},\"id\":\"1240\",\"type\":\"Toolbar\"},{\"attributes\":{},\"id\":\"1234\",\"type\":\"WheelZoomTool\"},{\"attributes\":{},\"id\":\"1233\",\"type\":\"PanTool\"},{\"attributes\":{\"overlay\":{\"id\":\"1239\"}},\"id\":\"1235\",\"type\":\"BoxZoomTool\"}],\"root_ids\":[\"1216\"]},\"title\":\"Bokeh Application\",\"version\":\"2.2.3\"}};\n",
       "  var render_items = [{\"docid\":\"855f427a-fda6-4443-a380-11b5184f7f6e\",\"root_ids\":[\"1216\"],\"roots\":{\"1216\":\"146a14f8-0793-414d-b420-188f10e5ea92\"}}];\n",
       "  root.Bokeh.embed.embed_items_notebook(docs_json, render_items);\n",
       "\n",
       "  }\n",
       "  if (root.Bokeh !== undefined) {\n",
       "    embed_document(root);\n",
       "  } else {\n",
       "    var attempts = 0;\n",
       "    var timer = setInterval(function(root) {\n",
       "      if (root.Bokeh !== undefined) {\n",
       "        clearInterval(timer);\n",
       "        embed_document(root);\n",
       "      } else {\n",
       "        attempts++;\n",
       "        if (attempts > 100) {\n",
       "          clearInterval(timer);\n",
       "          console.log(\"Bokeh: ERROR: Unable to run BokehJS code because BokehJS library is missing\");\n",
       "        }\n",
       "      }\n",
       "    }, 10, root)\n",
       "  }\n",
       "})(window);"
      ],
      "application/vnd.bokehjs_exec.v0+json": ""
     },
     "metadata": {
      "application/vnd.bokehjs_exec.v0+json": {
       "id": "1216"
      }
     },
     "output_type": "display_data"
    }
   ],
   "source": [
    "# Tester d'autre markers pour votre scatterplot\n",
    "p3 = figure(plot_width=400, plot_height=400)\n",
    "p3.diamond(x, y, size=20, color=\"orange\", alpha=0.5 )\n",
    "show(p3)"
   ]
  },
  {
   "cell_type": "markdown",
   "metadata": {},
   "source": [
    "<br> On peut également ajouter des libélés aux axes x et y en assignant les libélés dans la fonction figure."
   ]
  },
  {
   "cell_type": "code",
   "execution_count": 12,
   "metadata": {},
   "outputs": [
    {
     "data": {
      "text/html": [
       "\n",
       "\n",
       "\n",
       "\n",
       "\n",
       "\n",
       "  <div class=\"bk-root\" id=\"4c7a0243-712e-4aca-92f8-5ed4e1a55691\" data-root-id=\"1002\"></div>\n"
      ]
     },
     "metadata": {},
     "output_type": "display_data"
    },
    {
     "data": {
      "application/javascript": [
       "(function(root) {\n",
       "  function embed_document(root) {\n",
       "    \n",
       "  var docs_json = {\"31c8e13b-d994-421f-80dd-0cbf6ceb2dc7\":{\"roots\":{\"references\":[{\"attributes\":{\"below\":[{\"id\":\"1011\"}],\"center\":[{\"id\":\"1014\"},{\"id\":\"1018\"}],\"left\":[{\"id\":\"1015\"}],\"plot_height\":400,\"plot_width\":400,\"renderers\":[{\"id\":\"1036\"},{\"id\":\"1043\"}],\"title\":{\"id\":\"1047\"},\"toolbar\":{\"id\":\"1026\"},\"x_range\":{\"id\":\"1003\"},\"x_scale\":{\"id\":\"1007\"},\"y_range\":{\"id\":\"1005\"},\"y_scale\":{\"id\":\"1009\"}},\"id\":\"1002\",\"subtype\":\"Figure\",\"type\":\"Plot\"},{\"attributes\":{\"active_drag\":\"auto\",\"active_inspect\":\"auto\",\"active_multi\":null,\"active_scroll\":\"auto\",\"active_tap\":\"auto\",\"tools\":[{\"id\":\"1019\"},{\"id\":\"1020\"},{\"id\":\"1021\"},{\"id\":\"1022\"},{\"id\":\"1023\"},{\"id\":\"1024\"}]},\"id\":\"1026\",\"type\":\"Toolbar\"},{\"attributes\":{\"source\":{\"id\":\"1040\"}},\"id\":\"1044\",\"type\":\"CDSView\"},{\"attributes\":{},\"id\":\"1020\",\"type\":\"WheelZoomTool\"},{\"attributes\":{\"overlay\":{\"id\":\"1025\"}},\"id\":\"1021\",\"type\":\"BoxZoomTool\"},{\"attributes\":{},\"id\":\"1022\",\"type\":\"SaveTool\"},{\"attributes\":{},\"id\":\"1050\",\"type\":\"BasicTickFormatter\"},{\"attributes\":{},\"id\":\"1023\",\"type\":\"ResetTool\"},{\"attributes\":{\"line_alpha\":0.5,\"line_color\":\"orange\",\"line_width\":2,\"x\":{\"field\":\"x\"},\"y\":{\"field\":\"y\"}},\"id\":\"1034\",\"type\":\"Line\"},{\"attributes\":{\"data_source\":{\"id\":\"1040\"},\"glyph\":{\"id\":\"1041\"},\"hover_glyph\":null,\"muted_glyph\":null,\"nonselection_glyph\":{\"id\":\"1042\"},\"selection_glyph\":null,\"view\":{\"id\":\"1044\"}},\"id\":\"1043\",\"type\":\"GlyphRenderer\"},{\"attributes\":{\"line_alpha\":0.1,\"line_color\":\"orange\",\"line_width\":2,\"x\":{\"field\":\"x\"},\"y\":{\"field\":\"y\"}},\"id\":\"1035\",\"type\":\"Line\"},{\"attributes\":{},\"id\":\"1052\",\"type\":\"BasicTickFormatter\"},{\"attributes\":{\"source\":{\"id\":\"1033\"}},\"id\":\"1037\",\"type\":\"CDSView\"},{\"attributes\":{\"data\":{\"x\":[5,6,7,8,9,10],\"y\":[1,2,3,4,5,6]},\"selected\":{\"id\":\"1053\"},\"selection_policy\":{\"id\":\"1054\"}},\"id\":\"1033\",\"type\":\"ColumnDataSource\"},{\"attributes\":{},\"id\":\"1053\",\"type\":\"Selection\"},{\"attributes\":{},\"id\":\"1054\",\"type\":\"UnionRenderers\"},{\"attributes\":{\"bottom_units\":\"screen\",\"fill_alpha\":0.5,\"fill_color\":\"lightgrey\",\"left_units\":\"screen\",\"level\":\"overlay\",\"line_alpha\":1.0,\"line_color\":\"black\",\"line_dash\":[4,4],\"line_width\":2,\"right_units\":\"screen\",\"top_units\":\"screen\"},\"id\":\"1025\",\"type\":\"BoxAnnotation\"},{\"attributes\":{\"axis_label\":\"x\",\"formatter\":{\"id\":\"1050\"},\"ticker\":{\"id\":\"1012\"}},\"id\":\"1011\",\"type\":\"LinearAxis\"},{\"attributes\":{},\"id\":\"1003\",\"type\":\"DataRange1d\"},{\"attributes\":{},\"id\":\"1055\",\"type\":\"Selection\"},{\"attributes\":{},\"id\":\"1019\",\"type\":\"PanTool\"},{\"attributes\":{},\"id\":\"1056\",\"type\":\"UnionRenderers\"},{\"attributes\":{},\"id\":\"1007\",\"type\":\"LinearScale\"},{\"attributes\":{\"axis_label\":\"y\",\"formatter\":{\"id\":\"1052\"},\"ticker\":{\"id\":\"1016\"}},\"id\":\"1015\",\"type\":\"LinearAxis\"},{\"attributes\":{},\"id\":\"1005\",\"type\":\"DataRange1d\"},{\"attributes\":{},\"id\":\"1009\",\"type\":\"LinearScale\"},{\"attributes\":{\"text\":\"\"},\"id\":\"1047\",\"type\":\"Title\"},{\"attributes\":{\"fill_alpha\":{\"value\":0.5},\"fill_color\":{\"value\":\"blue\"},\"line_color\":{\"value\":\"#1f77b4\"},\"size\":{\"units\":\"screen\",\"value\":10},\"x\":{\"field\":\"x\"},\"y\":{\"field\":\"y\"}},\"id\":\"1041\",\"type\":\"Cross\"},{\"attributes\":{\"data\":{\"x\":[5,6,7,8,9,10],\"y\":[1,2,3,4,5,6]},\"selected\":{\"id\":\"1055\"},\"selection_policy\":{\"id\":\"1056\"}},\"id\":\"1040\",\"type\":\"ColumnDataSource\"},{\"attributes\":{},\"id\":\"1024\",\"type\":\"HelpTool\"},{\"attributes\":{\"fill_alpha\":{\"value\":0.1},\"fill_color\":{\"value\":\"blue\"},\"line_alpha\":{\"value\":0.1},\"line_color\":{\"value\":\"#1f77b4\"},\"size\":{\"units\":\"screen\",\"value\":10},\"x\":{\"field\":\"x\"},\"y\":{\"field\":\"y\"}},\"id\":\"1042\",\"type\":\"Cross\"},{\"attributes\":{},\"id\":\"1012\",\"type\":\"BasicTicker\"},{\"attributes\":{\"axis\":{\"id\":\"1011\"},\"ticker\":null},\"id\":\"1014\",\"type\":\"Grid\"},{\"attributes\":{\"data_source\":{\"id\":\"1033\"},\"glyph\":{\"id\":\"1034\"},\"hover_glyph\":null,\"muted_glyph\":null,\"nonselection_glyph\":{\"id\":\"1035\"},\"selection_glyph\":null,\"view\":{\"id\":\"1037\"}},\"id\":\"1036\",\"type\":\"GlyphRenderer\"},{\"attributes\":{\"axis\":{\"id\":\"1015\"},\"dimension\":1,\"ticker\":null},\"id\":\"1018\",\"type\":\"Grid\"},{\"attributes\":{},\"id\":\"1016\",\"type\":\"BasicTicker\"}],\"root_ids\":[\"1002\"]},\"title\":\"Bokeh Application\",\"version\":\"2.2.3\"}};\n",
       "  var render_items = [{\"docid\":\"31c8e13b-d994-421f-80dd-0cbf6ceb2dc7\",\"root_ids\":[\"1002\"],\"roots\":{\"1002\":\"4c7a0243-712e-4aca-92f8-5ed4e1a55691\"}}];\n",
       "  root.Bokeh.embed.embed_items_notebook(docs_json, render_items);\n",
       "\n",
       "  }\n",
       "  if (root.Bokeh !== undefined) {\n",
       "    embed_document(root);\n",
       "  } else {\n",
       "    var attempts = 0;\n",
       "    var timer = setInterval(function(root) {\n",
       "      if (root.Bokeh !== undefined) {\n",
       "        clearInterval(timer);\n",
       "        embed_document(root);\n",
       "      } else {\n",
       "        attempts++;\n",
       "        if (attempts > 100) {\n",
       "          clearInterval(timer);\n",
       "          console.log(\"Bokeh: ERROR: Unable to run BokehJS code because BokehJS library is missing\");\n",
       "        }\n",
       "      }\n",
       "    }, 10, root)\n",
       "  }\n",
       "})(window);"
      ],
      "application/vnd.bokehjs_exec.v0+json": ""
     },
     "metadata": {
      "application/vnd.bokehjs_exec.v0+json": {
       "id": "1002"
      }
     },
     "output_type": "display_data"
    }
   ],
   "source": [
    "# Ajouter les libélés aux axes x et y\n",
    "p.xaxis.axis_label = 'x'\n",
    "p.yaxis.axis_label = 'y'\n",
    "show(p)"
   ]
  },
  {
   "cell_type": "markdown",
   "metadata": {},
   "source": [
    "<br>Il est possible de changer la transparence d'une figure en utilisant l'attribut alpha dans la fonction circle. Ceci est utile quand nos points de données sont susceptibles de se croiser. L'argument alpha prend des valuers de 0 (complètement transparent) et 1 (complètement opaque). \n",
    "\n",
    "<br> Sur les visualisations Bokeh, on est fournit par défaut, dans la partie droite du graphe, avec des fonctionnalités de panning, zooming, selection, et sauvegarde. Ces outils sont configurables et très utiles pour l'exploration des données. \n",
    "<br><br> Vous pouvez tester d'autres visualisations à partir de la Bokeh Gallery: https://docs.bokeh.org/en/latest/docs/gallery.html#gallery"
   ]
  },
  {
   "cell_type": "markdown",
   "metadata": {},
   "source": [
    "<br> </br>\n",
    "## B. Visualisations à base des Dataframes Pandas"
   ]
  },
  {
   "cell_type": "markdown",
   "metadata": {},
   "source": [
    "Les dataframe Pandas sont fréquemment utilisées dans les projets data science. Même si Pandas offre quelques possibilités de visualisation des données (e.g. hist qu'on a vu dans TP1, boxplot...), les librairies spécialisées en Data visualisation sont plus adeptes aux challenges de construire des data viz conviviales, complexes et interactives. Bokeh supporte nativement les Pandas dataframe et offre des fonctionnalités qui aident à contruire des graphes interactifs en se basant sur leurs données.\n",
    "<br><br> Au niveau du TP1, on a créé des Heatmaps pour mieux visualiser les corrélations entre les différentes. On va reprendre les données des pistes musicales du TP1 et créer davantage de visualisations. "
   ]
  },
  {
   "cell_type": "code",
   "execution_count": 13,
   "metadata": {},
   "outputs": [],
   "source": [
    "import pandas as pd"
   ]
  },
  {
   "cell_type": "code",
   "execution_count": 14,
   "metadata": {},
   "outputs": [
    {
     "data": {
      "text/html": [
       "<div>\n",
       "<style scoped>\n",
       "    .dataframe tbody tr th:only-of-type {\n",
       "        vertical-align: middle;\n",
       "    }\n",
       "\n",
       "    .dataframe tbody tr th {\n",
       "        vertical-align: top;\n",
       "    }\n",
       "\n",
       "    .dataframe thead th {\n",
       "        text-align: right;\n",
       "    }\n",
       "</style>\n",
       "<table border=\"1\" class=\"dataframe\">\n",
       "  <thead>\n",
       "    <tr style=\"text-align: right;\">\n",
       "      <th></th>\n",
       "      <th>acousticness</th>\n",
       "      <th>artists</th>\n",
       "      <th>danceability</th>\n",
       "      <th>duration_ms</th>\n",
       "      <th>energy</th>\n",
       "      <th>explicit</th>\n",
       "      <th>id</th>\n",
       "      <th>instrumentalness</th>\n",
       "      <th>key</th>\n",
       "      <th>liveness</th>\n",
       "      <th>loudness</th>\n",
       "      <th>mode</th>\n",
       "      <th>name</th>\n",
       "      <th>popularity</th>\n",
       "      <th>release_date</th>\n",
       "      <th>speechiness</th>\n",
       "      <th>tempo</th>\n",
       "      <th>valence</th>\n",
       "      <th>year</th>\n",
       "    </tr>\n",
       "  </thead>\n",
       "  <tbody>\n",
       "    <tr>\n",
       "      <th>0</th>\n",
       "      <td>0.995</td>\n",
       "      <td>['Carl Woitschach']</td>\n",
       "      <td>0.708</td>\n",
       "      <td>158648</td>\n",
       "      <td>0.1950</td>\n",
       "      <td>0</td>\n",
       "      <td>6KbQ3uYMLKb5jDxLF7wYDD</td>\n",
       "      <td>0.563</td>\n",
       "      <td>10</td>\n",
       "      <td>0.1510</td>\n",
       "      <td>-12.428</td>\n",
       "      <td>1</td>\n",
       "      <td>Singende Bataillone 1. Teil</td>\n",
       "      <td>0</td>\n",
       "      <td>1928</td>\n",
       "      <td>0.0506</td>\n",
       "      <td>118.469</td>\n",
       "      <td>0.7790</td>\n",
       "      <td>1928</td>\n",
       "    </tr>\n",
       "    <tr>\n",
       "      <th>1</th>\n",
       "      <td>0.994</td>\n",
       "      <td>['Robert Schumann', 'Vladimir Horowitz']</td>\n",
       "      <td>0.379</td>\n",
       "      <td>282133</td>\n",
       "      <td>0.0135</td>\n",
       "      <td>0</td>\n",
       "      <td>6KuQTIu1KoTTkLXKrwlLPV</td>\n",
       "      <td>0.901</td>\n",
       "      <td>8</td>\n",
       "      <td>0.0763</td>\n",
       "      <td>-28.454</td>\n",
       "      <td>1</td>\n",
       "      <td>Fantasiestücke, Op. 111: Più tosto lento</td>\n",
       "      <td>0</td>\n",
       "      <td>1928</td>\n",
       "      <td>0.0462</td>\n",
       "      <td>83.972</td>\n",
       "      <td>0.0767</td>\n",
       "      <td>1928</td>\n",
       "    </tr>\n",
       "    <tr>\n",
       "      <th>2</th>\n",
       "      <td>0.604</td>\n",
       "      <td>['Seweryn Goszczyński']</td>\n",
       "      <td>0.749</td>\n",
       "      <td>104300</td>\n",
       "      <td>0.2200</td>\n",
       "      <td>0</td>\n",
       "      <td>6L63VW0PibdM1HDSBoqnoM</td>\n",
       "      <td>0.000</td>\n",
       "      <td>5</td>\n",
       "      <td>0.1190</td>\n",
       "      <td>-19.924</td>\n",
       "      <td>0</td>\n",
       "      <td>Chapter 1.18 - Zamek kaniowski</td>\n",
       "      <td>0</td>\n",
       "      <td>1928</td>\n",
       "      <td>0.9290</td>\n",
       "      <td>107.177</td>\n",
       "      <td>0.8800</td>\n",
       "      <td>1928</td>\n",
       "    </tr>\n",
       "    <tr>\n",
       "      <th>3</th>\n",
       "      <td>0.995</td>\n",
       "      <td>['Francisco Canaro']</td>\n",
       "      <td>0.781</td>\n",
       "      <td>180760</td>\n",
       "      <td>0.1300</td>\n",
       "      <td>0</td>\n",
       "      <td>6M94FkXd15sOAOQYRnWPN8</td>\n",
       "      <td>0.887</td>\n",
       "      <td>1</td>\n",
       "      <td>0.1110</td>\n",
       "      <td>-14.734</td>\n",
       "      <td>0</td>\n",
       "      <td>Bebamos Juntos - Instrumental (Remasterizado)</td>\n",
       "      <td>0</td>\n",
       "      <td>1928-09-25</td>\n",
       "      <td>0.0926</td>\n",
       "      <td>108.003</td>\n",
       "      <td>0.7200</td>\n",
       "      <td>1928</td>\n",
       "    </tr>\n",
       "    <tr>\n",
       "      <th>4</th>\n",
       "      <td>0.990</td>\n",
       "      <td>['Frédéric Chopin', 'Vladimir Horowitz']</td>\n",
       "      <td>0.210</td>\n",
       "      <td>687733</td>\n",
       "      <td>0.2040</td>\n",
       "      <td>0</td>\n",
       "      <td>6N6tiFZ9vLTSOIxkj8qKrd</td>\n",
       "      <td>0.908</td>\n",
       "      <td>11</td>\n",
       "      <td>0.0980</td>\n",
       "      <td>-16.829</td>\n",
       "      <td>1</td>\n",
       "      <td>Polonaise-Fantaisie in A-Flat Major, Op. 61</td>\n",
       "      <td>1</td>\n",
       "      <td>1928</td>\n",
       "      <td>0.0424</td>\n",
       "      <td>62.149</td>\n",
       "      <td>0.0693</td>\n",
       "      <td>1928</td>\n",
       "    </tr>\n",
       "  </tbody>\n",
       "</table>\n",
       "</div>"
      ],
      "text/plain": [
       "   acousticness                                   artists  danceability  \\\n",
       "0         0.995                       ['Carl Woitschach']         0.708   \n",
       "1         0.994  ['Robert Schumann', 'Vladimir Horowitz']         0.379   \n",
       "2         0.604                   ['Seweryn Goszczyński']         0.749   \n",
       "3         0.995                      ['Francisco Canaro']         0.781   \n",
       "4         0.990  ['Frédéric Chopin', 'Vladimir Horowitz']         0.210   \n",
       "\n",
       "   duration_ms  energy  explicit                      id  instrumentalness  \\\n",
       "0       158648  0.1950         0  6KbQ3uYMLKb5jDxLF7wYDD             0.563   \n",
       "1       282133  0.0135         0  6KuQTIu1KoTTkLXKrwlLPV             0.901   \n",
       "2       104300  0.2200         0  6L63VW0PibdM1HDSBoqnoM             0.000   \n",
       "3       180760  0.1300         0  6M94FkXd15sOAOQYRnWPN8             0.887   \n",
       "4       687733  0.2040         0  6N6tiFZ9vLTSOIxkj8qKrd             0.908   \n",
       "\n",
       "   key  liveness  loudness  mode  \\\n",
       "0   10    0.1510   -12.428     1   \n",
       "1    8    0.0763   -28.454     1   \n",
       "2    5    0.1190   -19.924     0   \n",
       "3    1    0.1110   -14.734     0   \n",
       "4   11    0.0980   -16.829     1   \n",
       "\n",
       "                                            name  popularity release_date  \\\n",
       "0                    Singende Bataillone 1. Teil           0         1928   \n",
       "1       Fantasiestücke, Op. 111: Più tosto lento           0         1928   \n",
       "2                 Chapter 1.18 - Zamek kaniowski           0         1928   \n",
       "3  Bebamos Juntos - Instrumental (Remasterizado)           0   1928-09-25   \n",
       "4    Polonaise-Fantaisie in A-Flat Major, Op. 61           1         1928   \n",
       "\n",
       "   speechiness    tempo  valence  year  \n",
       "0       0.0506  118.469   0.7790  1928  \n",
       "1       0.0462   83.972   0.0767  1928  \n",
       "2       0.9290  107.177   0.8800  1928  \n",
       "3       0.0926  108.003   0.7200  1928  \n",
       "4       0.0424   62.149   0.0693  1928  "
      ]
     },
     "execution_count": 14,
     "metadata": {},
     "output_type": "execute_result"
    }
   ],
   "source": [
    "# Lire le fichier data dans une dataframe\n",
    "df = pd.read_csv(\"music_dataset/data.csv\")\n",
    "df.head(5)"
   ]
  },
  {
   "cell_type": "markdown",
   "metadata": {},
   "source": [
    "Créer une nouvelle dataframe en filtrant sur un artiste de votre choix (de préférence un artiste avec plusieurs pistes sur plusieurs années)"
   ]
  },
  {
   "cell_type": "code",
   "execution_count": 15,
   "metadata": {},
   "outputs": [
    {
     "data": {
      "text/html": [
       "<div>\n",
       "<style scoped>\n",
       "    .dataframe tbody tr th:only-of-type {\n",
       "        vertical-align: middle;\n",
       "    }\n",
       "\n",
       "    .dataframe tbody tr th {\n",
       "        vertical-align: top;\n",
       "    }\n",
       "\n",
       "    .dataframe thead th {\n",
       "        text-align: right;\n",
       "    }\n",
       "</style>\n",
       "<table border=\"1\" class=\"dataframe\">\n",
       "  <thead>\n",
       "    <tr style=\"text-align: right;\">\n",
       "      <th></th>\n",
       "      <th>acousticness</th>\n",
       "      <th>artists</th>\n",
       "      <th>danceability</th>\n",
       "      <th>duration_ms</th>\n",
       "      <th>energy</th>\n",
       "      <th>explicit</th>\n",
       "      <th>id</th>\n",
       "      <th>instrumentalness</th>\n",
       "      <th>key</th>\n",
       "      <th>liveness</th>\n",
       "      <th>loudness</th>\n",
       "      <th>mode</th>\n",
       "      <th>name</th>\n",
       "      <th>popularity</th>\n",
       "      <th>release_date</th>\n",
       "      <th>speechiness</th>\n",
       "      <th>tempo</th>\n",
       "      <th>valence</th>\n",
       "      <th>year</th>\n",
       "    </tr>\n",
       "  </thead>\n",
       "  <tbody>\n",
       "    <tr>\n",
       "      <th>6178</th>\n",
       "      <td>0.3990</td>\n",
       "      <td>['JAY-Z', 'Eminem']</td>\n",
       "      <td>0.561</td>\n",
       "      <td>337760</td>\n",
       "      <td>0.774</td>\n",
       "      <td>1</td>\n",
       "      <td>1eAZcqDmiUE57YdeElYbMd</td>\n",
       "      <td>0.000002</td>\n",
       "      <td>1</td>\n",
       "      <td>0.1890</td>\n",
       "      <td>-3.144</td>\n",
       "      <td>0</td>\n",
       "      <td>Renegade</td>\n",
       "      <td>41</td>\n",
       "      <td>2001-09-11</td>\n",
       "      <td>0.4470</td>\n",
       "      <td>77.621</td>\n",
       "      <td>0.820</td>\n",
       "      <td>2001</td>\n",
       "    </tr>\n",
       "    <tr>\n",
       "      <th>6281</th>\n",
       "      <td>0.0920</td>\n",
       "      <td>['Obie Trice', '50 Cent', 'Eminem']</td>\n",
       "      <td>0.713</td>\n",
       "      <td>270747</td>\n",
       "      <td>0.517</td>\n",
       "      <td>1</td>\n",
       "      <td>0jRj0owDUMxxbmz2qkgtSC</td>\n",
       "      <td>0.000006</td>\n",
       "      <td>7</td>\n",
       "      <td>0.1340</td>\n",
       "      <td>-5.403</td>\n",
       "      <td>1</td>\n",
       "      <td>Love Me</td>\n",
       "      <td>42</td>\n",
       "      <td>2002-10-29</td>\n",
       "      <td>0.2370</td>\n",
       "      <td>80.986</td>\n",
       "      <td>0.267</td>\n",
       "      <td>2002</td>\n",
       "    </tr>\n",
       "    <tr>\n",
       "      <th>6576</th>\n",
       "      <td>0.0507</td>\n",
       "      <td>['Eminem', 'Nate Dogg']</td>\n",
       "      <td>0.963</td>\n",
       "      <td>274440</td>\n",
       "      <td>0.643</td>\n",
       "      <td>1</td>\n",
       "      <td>64649mwn5MP4gz1eIOAerx</td>\n",
       "      <td>0.000049</td>\n",
       "      <td>1</td>\n",
       "      <td>0.1570</td>\n",
       "      <td>-5.785</td>\n",
       "      <td>0</td>\n",
       "      <td>Shake That</td>\n",
       "      <td>48</td>\n",
       "      <td>2005-12-06</td>\n",
       "      <td>0.1170</td>\n",
       "      <td>107.005</td>\n",
       "      <td>0.534</td>\n",
       "      <td>2005</td>\n",
       "    </tr>\n",
       "    <tr>\n",
       "      <th>6581</th>\n",
       "      <td>0.0337</td>\n",
       "      <td>['Eminem']</td>\n",
       "      <td>0.950</td>\n",
       "      <td>284800</td>\n",
       "      <td>0.651</td>\n",
       "      <td>1</td>\n",
       "      <td>7Bi0aRtNAdchLnVBPjDrcx</td>\n",
       "      <td>0.000000</td>\n",
       "      <td>5</td>\n",
       "      <td>0.0424</td>\n",
       "      <td>-4.226</td>\n",
       "      <td>0</td>\n",
       "      <td>The Real Slim Shady</td>\n",
       "      <td>48</td>\n",
       "      <td>2005-12-06</td>\n",
       "      <td>0.0547</td>\n",
       "      <td>104.495</td>\n",
       "      <td>0.777</td>\n",
       "      <td>2005</td>\n",
       "    </tr>\n",
       "    <tr>\n",
       "      <th>6648</th>\n",
       "      <td>0.0537</td>\n",
       "      <td>['Eminem']</td>\n",
       "      <td>0.619</td>\n",
       "      <td>281133</td>\n",
       "      <td>0.746</td>\n",
       "      <td>1</td>\n",
       "      <td>18TtVZgD09HpU7lUXR0kPI</td>\n",
       "      <td>0.000000</td>\n",
       "      <td>10</td>\n",
       "      <td>0.2950</td>\n",
       "      <td>-5.479</td>\n",
       "      <td>0</td>\n",
       "      <td>When I'm Gone</td>\n",
       "      <td>48</td>\n",
       "      <td>2005-12-06</td>\n",
       "      <td>0.3600</td>\n",
       "      <td>149.944</td>\n",
       "      <td>0.757</td>\n",
       "      <td>2005</td>\n",
       "    </tr>\n",
       "  </tbody>\n",
       "</table>\n",
       "</div>"
      ],
      "text/plain": [
       "      acousticness                              artists  danceability  \\\n",
       "6178        0.3990                  ['JAY-Z', 'Eminem']         0.561   \n",
       "6281        0.0920  ['Obie Trice', '50 Cent', 'Eminem']         0.713   \n",
       "6576        0.0507              ['Eminem', 'Nate Dogg']         0.963   \n",
       "6581        0.0337                           ['Eminem']         0.950   \n",
       "6648        0.0537                           ['Eminem']         0.619   \n",
       "\n",
       "      duration_ms  energy  explicit                      id  instrumentalness  \\\n",
       "6178       337760   0.774         1  1eAZcqDmiUE57YdeElYbMd          0.000002   \n",
       "6281       270747   0.517         1  0jRj0owDUMxxbmz2qkgtSC          0.000006   \n",
       "6576       274440   0.643         1  64649mwn5MP4gz1eIOAerx          0.000049   \n",
       "6581       284800   0.651         1  7Bi0aRtNAdchLnVBPjDrcx          0.000000   \n",
       "6648       281133   0.746         1  18TtVZgD09HpU7lUXR0kPI          0.000000   \n",
       "\n",
       "      key  liveness  loudness  mode                 name  popularity  \\\n",
       "6178    1    0.1890    -3.144     0             Renegade          41   \n",
       "6281    7    0.1340    -5.403     1              Love Me          42   \n",
       "6576    1    0.1570    -5.785     0           Shake That          48   \n",
       "6581    5    0.0424    -4.226     0  The Real Slim Shady          48   \n",
       "6648   10    0.2950    -5.479     0        When I'm Gone          48   \n",
       "\n",
       "     release_date  speechiness    tempo  valence  year  \n",
       "6178   2001-09-11       0.4470   77.621    0.820  2001  \n",
       "6281   2002-10-29       0.2370   80.986    0.267  2002  \n",
       "6576   2005-12-06       0.1170  107.005    0.534  2005  \n",
       "6581   2005-12-06       0.0547  104.495    0.777  2005  \n",
       "6648   2005-12-06       0.3600  149.944    0.757  2005  "
      ]
     },
     "execution_count": 15,
     "metadata": {},
     "output_type": "execute_result"
    }
   ],
   "source": [
    "df_eminem = df[df[\"artists\"].str.contains(\"Eminem\")]\n",
    "df_eminem.head()"
   ]
  },
  {
   "cell_type": "markdown",
   "metadata": {},
   "source": [
    "Il est possible de créer une série chronologique basée sur une Pandas dataframe. Une série chronologique est un ensemble de données dont les valeurs sont mesurées à différents moments. Avec Pandas, on peut facilement organiser, transformer, analyser et visualiser les données de séries chronologiques à n'importe quel niveau de granularité - en examinant les détails pendant des périodes d'intérêt spécifiques et en effectuant un zoom arrière pour explorer les variations à différentes échelles de temps, telles que des agrégations mensuelles ou annuelles, modèles récurrents et tendances à long terme.\n"
   ]
  },
  {
   "cell_type": "code",
   "execution_count": 16,
   "metadata": {},
   "outputs": [
    {
     "name": "stderr",
     "output_type": "stream",
     "text": [
      "<ipython-input-16-b04e85a87e38>:2: SettingWithCopyWarning: \n",
      "A value is trying to be set on a copy of a slice from a DataFrame.\n",
      "Try using .loc[row_indexer,col_indexer] = value instead\n",
      "\n",
      "See the caveats in the documentation: https://pandas.pydata.org/pandas-docs/stable/user_guide/indexing.html#returning-a-view-versus-a-copy\n",
      "  df_eminem[\"release_date\"] = pd.to_datetime(df_eminem[\"release_date\"])\n"
     ]
    },
    {
     "data": {
      "text/plain": [
       "acousticness               float64\n",
       "artists                     object\n",
       "danceability               float64\n",
       "duration_ms                  int64\n",
       "energy                     float64\n",
       "explicit                     int64\n",
       "id                          object\n",
       "instrumentalness           float64\n",
       "key                          int64\n",
       "liveness                   float64\n",
       "loudness                   float64\n",
       "mode                         int64\n",
       "name                        object\n",
       "popularity                   int64\n",
       "release_date        datetime64[ns]\n",
       "speechiness                float64\n",
       "tempo                      float64\n",
       "valence                    float64\n",
       "year                         int64\n",
       "dtype: object"
      ]
     },
     "execution_count": 16,
     "metadata": {},
     "output_type": "execute_result"
    }
   ],
   "source": [
    "# convertir la colonne release_date en une date\n",
    "df_eminem[\"release_date\"] = pd.to_datetime(df_eminem[\"release_date\"])\n",
    "df_eminem.dtypes"
   ]
  },
  {
   "cell_type": "code",
   "execution_count": 17,
   "metadata": {
    "scrolled": true
   },
   "outputs": [
    {
     "data": {
      "text/html": [
       "<div>\n",
       "<style scoped>\n",
       "    .dataframe tbody tr th:only-of-type {\n",
       "        vertical-align: middle;\n",
       "    }\n",
       "\n",
       "    .dataframe tbody tr th {\n",
       "        vertical-align: top;\n",
       "    }\n",
       "\n",
       "    .dataframe thead th {\n",
       "        text-align: right;\n",
       "    }\n",
       "</style>\n",
       "<table border=\"1\" class=\"dataframe\">\n",
       "  <thead>\n",
       "    <tr style=\"text-align: right;\">\n",
       "      <th></th>\n",
       "      <th>acousticness</th>\n",
       "      <th>danceability</th>\n",
       "      <th>duration_ms</th>\n",
       "      <th>energy</th>\n",
       "      <th>explicit</th>\n",
       "      <th>instrumentalness</th>\n",
       "      <th>key</th>\n",
       "      <th>liveness</th>\n",
       "      <th>loudness</th>\n",
       "      <th>mode</th>\n",
       "      <th>popularity</th>\n",
       "      <th>speechiness</th>\n",
       "      <th>tempo</th>\n",
       "      <th>valence</th>\n",
       "      <th>year</th>\n",
       "    </tr>\n",
       "    <tr>\n",
       "      <th>release_date</th>\n",
       "      <th></th>\n",
       "      <th></th>\n",
       "      <th></th>\n",
       "      <th></th>\n",
       "      <th></th>\n",
       "      <th></th>\n",
       "      <th></th>\n",
       "      <th></th>\n",
       "      <th></th>\n",
       "      <th></th>\n",
       "      <th></th>\n",
       "      <th></th>\n",
       "      <th></th>\n",
       "      <th></th>\n",
       "      <th></th>\n",
       "    </tr>\n",
       "  </thead>\n",
       "  <tbody>\n",
       "    <tr>\n",
       "      <th>2020-03-27</th>\n",
       "      <td>0.354000</td>\n",
       "      <td>0.585000</td>\n",
       "      <td>261773.000000</td>\n",
       "      <td>0.594000</td>\n",
       "      <td>1.0</td>\n",
       "      <td>0.000054</td>\n",
       "      <td>9.000000</td>\n",
       "      <td>0.092100</td>\n",
       "      <td>-5.342000</td>\n",
       "      <td>1.000000</td>\n",
       "      <td>72.000000</td>\n",
       "      <td>0.332000</td>\n",
       "      <td>184.013000</td>\n",
       "      <td>0.138000</td>\n",
       "      <td>2020.0</td>\n",
       "    </tr>\n",
       "    <tr>\n",
       "      <th>2020-01-17</th>\n",
       "      <td>0.055621</td>\n",
       "      <td>0.752118</td>\n",
       "      <td>222890.176471</td>\n",
       "      <td>0.729529</td>\n",
       "      <td>1.0</td>\n",
       "      <td>0.000408</td>\n",
       "      <td>4.647059</td>\n",
       "      <td>0.317624</td>\n",
       "      <td>-5.084588</td>\n",
       "      <td>0.470588</td>\n",
       "      <td>71.588235</td>\n",
       "      <td>0.215747</td>\n",
       "      <td>128.641353</td>\n",
       "      <td>0.415012</td>\n",
       "      <td>2020.0</td>\n",
       "    </tr>\n",
       "    <tr>\n",
       "      <th>2019-07-12</th>\n",
       "      <td>0.135000</td>\n",
       "      <td>0.852000</td>\n",
       "      <td>207760.000000</td>\n",
       "      <td>0.666000</td>\n",
       "      <td>1.0</td>\n",
       "      <td>0.000000</td>\n",
       "      <td>11.000000</td>\n",
       "      <td>0.798000</td>\n",
       "      <td>-6.923000</td>\n",
       "      <td>0.000000</td>\n",
       "      <td>73.000000</td>\n",
       "      <td>0.184000</td>\n",
       "      <td>91.046000</td>\n",
       "      <td>0.726000</td>\n",
       "      <td>2019.0</td>\n",
       "    </tr>\n",
       "    <tr>\n",
       "      <th>2019-05-10</th>\n",
       "      <td>0.137000</td>\n",
       "      <td>0.694000</td>\n",
       "      <td>245387.000000</td>\n",
       "      <td>0.759000</td>\n",
       "      <td>1.0</td>\n",
       "      <td>0.000000</td>\n",
       "      <td>10.000000</td>\n",
       "      <td>0.167000</td>\n",
       "      <td>-5.667000</td>\n",
       "      <td>0.000000</td>\n",
       "      <td>75.000000</td>\n",
       "      <td>0.398000</td>\n",
       "      <td>140.055000</td>\n",
       "      <td>0.770000</td>\n",
       "      <td>2019.0</td>\n",
       "    </tr>\n",
       "    <tr>\n",
       "      <th>2019-05-03</th>\n",
       "      <td>0.145000</td>\n",
       "      <td>0.722000</td>\n",
       "      <td>245413.000000</td>\n",
       "      <td>0.764000</td>\n",
       "      <td>1.0</td>\n",
       "      <td>0.000000</td>\n",
       "      <td>10.000000</td>\n",
       "      <td>0.171000</td>\n",
       "      <td>-5.656000</td>\n",
       "      <td>0.000000</td>\n",
       "      <td>71.000000</td>\n",
       "      <td>0.398000</td>\n",
       "      <td>139.831000</td>\n",
       "      <td>0.796000</td>\n",
       "      <td>2019.0</td>\n",
       "    </tr>\n",
       "    <tr>\n",
       "      <th>2018-09-19</th>\n",
       "      <td>0.098900</td>\n",
       "      <td>0.892000</td>\n",
       "      <td>253580.000000</td>\n",
       "      <td>0.651000</td>\n",
       "      <td>1.0</td>\n",
       "      <td>0.000000</td>\n",
       "      <td>0.000000</td>\n",
       "      <td>0.371000</td>\n",
       "      <td>-8.645000</td>\n",
       "      <td>0.000000</td>\n",
       "      <td>74.000000</td>\n",
       "      <td>0.378000</td>\n",
       "      <td>105.814000</td>\n",
       "      <td>0.599000</td>\n",
       "      <td>2018.0</td>\n",
       "    </tr>\n",
       "    <tr>\n",
       "      <th>2018-08-31</th>\n",
       "      <td>0.108645</td>\n",
       "      <td>0.796000</td>\n",
       "      <td>242802.818182</td>\n",
       "      <td>0.688636</td>\n",
       "      <td>1.0</td>\n",
       "      <td>0.000000</td>\n",
       "      <td>5.000000</td>\n",
       "      <td>0.273591</td>\n",
       "      <td>-5.850000</td>\n",
       "      <td>0.818182</td>\n",
       "      <td>69.090909</td>\n",
       "      <td>0.297455</td>\n",
       "      <td>129.114636</td>\n",
       "      <td>0.522455</td>\n",
       "      <td>2018.0</td>\n",
       "    </tr>\n",
       "    <tr>\n",
       "      <th>2017-12-15</th>\n",
       "      <td>0.151000</td>\n",
       "      <td>0.816000</td>\n",
       "      <td>268180.000000</td>\n",
       "      <td>0.620500</td>\n",
       "      <td>1.0</td>\n",
       "      <td>0.000000</td>\n",
       "      <td>4.500000</td>\n",
       "      <td>0.215150</td>\n",
       "      <td>-5.629500</td>\n",
       "      <td>0.000000</td>\n",
       "      <td>69.000000</td>\n",
       "      <td>0.314000</td>\n",
       "      <td>110.081000</td>\n",
       "      <td>0.384500</td>\n",
       "      <td>2017.0</td>\n",
       "    </tr>\n",
       "    <tr>\n",
       "      <th>2017-02-03</th>\n",
       "      <td>0.629000</td>\n",
       "      <td>0.482000</td>\n",
       "      <td>325840.000000</td>\n",
       "      <td>0.781000</td>\n",
       "      <td>1.0</td>\n",
       "      <td>0.000003</td>\n",
       "      <td>11.000000</td>\n",
       "      <td>0.413000</td>\n",
       "      <td>-5.334000</td>\n",
       "      <td>1.000000</td>\n",
       "      <td>60.000000</td>\n",
       "      <td>0.411000</td>\n",
       "      <td>57.967000</td>\n",
       "      <td>0.336000</td>\n",
       "      <td>2017.0</td>\n",
       "    </tr>\n",
       "    <tr>\n",
       "      <th>2015-10-11</th>\n",
       "      <td>0.067300</td>\n",
       "      <td>0.460000</td>\n",
       "      <td>263693.000000</td>\n",
       "      <td>0.628000</td>\n",
       "      <td>1.0</td>\n",
       "      <td>0.000000</td>\n",
       "      <td>0.000000</td>\n",
       "      <td>0.093400</td>\n",
       "      <td>-6.665000</td>\n",
       "      <td>0.000000</td>\n",
       "      <td>59.000000</td>\n",
       "      <td>0.225000</td>\n",
       "      <td>111.156000</td>\n",
       "      <td>0.354000</td>\n",
       "      <td>2015.0</td>\n",
       "    </tr>\n",
       "  </tbody>\n",
       "</table>\n",
       "</div>"
      ],
      "text/plain": [
       "              acousticness  danceability    duration_ms    energy  explicit  \\\n",
       "release_date                                                                  \n",
       "2020-03-27        0.354000      0.585000  261773.000000  0.594000       1.0   \n",
       "2020-01-17        0.055621      0.752118  222890.176471  0.729529       1.0   \n",
       "2019-07-12        0.135000      0.852000  207760.000000  0.666000       1.0   \n",
       "2019-05-10        0.137000      0.694000  245387.000000  0.759000       1.0   \n",
       "2019-05-03        0.145000      0.722000  245413.000000  0.764000       1.0   \n",
       "2018-09-19        0.098900      0.892000  253580.000000  0.651000       1.0   \n",
       "2018-08-31        0.108645      0.796000  242802.818182  0.688636       1.0   \n",
       "2017-12-15        0.151000      0.816000  268180.000000  0.620500       1.0   \n",
       "2017-02-03        0.629000      0.482000  325840.000000  0.781000       1.0   \n",
       "2015-10-11        0.067300      0.460000  263693.000000  0.628000       1.0   \n",
       "\n",
       "              instrumentalness        key  liveness  loudness      mode  \\\n",
       "release_date                                                              \n",
       "2020-03-27            0.000054   9.000000  0.092100 -5.342000  1.000000   \n",
       "2020-01-17            0.000408   4.647059  0.317624 -5.084588  0.470588   \n",
       "2019-07-12            0.000000  11.000000  0.798000 -6.923000  0.000000   \n",
       "2019-05-10            0.000000  10.000000  0.167000 -5.667000  0.000000   \n",
       "2019-05-03            0.000000  10.000000  0.171000 -5.656000  0.000000   \n",
       "2018-09-19            0.000000   0.000000  0.371000 -8.645000  0.000000   \n",
       "2018-08-31            0.000000   5.000000  0.273591 -5.850000  0.818182   \n",
       "2017-12-15            0.000000   4.500000  0.215150 -5.629500  0.000000   \n",
       "2017-02-03            0.000003  11.000000  0.413000 -5.334000  1.000000   \n",
       "2015-10-11            0.000000   0.000000  0.093400 -6.665000  0.000000   \n",
       "\n",
       "              popularity  speechiness       tempo   valence    year  \n",
       "release_date                                                         \n",
       "2020-03-27     72.000000     0.332000  184.013000  0.138000  2020.0  \n",
       "2020-01-17     71.588235     0.215747  128.641353  0.415012  2020.0  \n",
       "2019-07-12     73.000000     0.184000   91.046000  0.726000  2019.0  \n",
       "2019-05-10     75.000000     0.398000  140.055000  0.770000  2019.0  \n",
       "2019-05-03     71.000000     0.398000  139.831000  0.796000  2019.0  \n",
       "2018-09-19     74.000000     0.378000  105.814000  0.599000  2018.0  \n",
       "2018-08-31     69.090909     0.297455  129.114636  0.522455  2018.0  \n",
       "2017-12-15     69.000000     0.314000  110.081000  0.384500  2017.0  \n",
       "2017-02-03     60.000000     0.411000   57.967000  0.336000  2017.0  \n",
       "2015-10-11     59.000000     0.225000  111.156000  0.354000  2015.0  "
      ]
     },
     "execution_count": 17,
     "metadata": {},
     "output_type": "execute_result"
    }
   ],
   "source": [
    "# Créer une nouvelle dataframe calculant la moyenne des variables de l'artiste selon release_date et ordonner les par dates\n",
    "df_agg_eminem = df_eminem.groupby([\"release_date\"]).mean().sort_values(by='release_date', ascending=False)\n",
    "df_agg_eminem.head(10)"
   ]
  },
  {
   "cell_type": "code",
   "execution_count": 18,
   "metadata": {},
   "outputs": [],
   "source": [
    "# Créer votre graphe en précisant que le type de l'axe x est une date  \n",
    "p = figure(x_axis_type=\"datetime\", title=\"la moyenne de popularité des artistes selon release_date\", plot_height=800, plot_width=800)\n",
    "p.xgrid.grid_line_color=None\n",
    "p.ygrid.grid_line_alpha=0.5\n",
    "p.xaxis.axis_label = 'release_date'\n",
    "p.yaxis.axis_label = 'popularity'"
   ]
  },
  {
   "cell_type": "code",
   "execution_count": 19,
   "metadata": {},
   "outputs": [
    {
     "data": {
      "text/html": [
       "<div style=\"display: table;\"><div style=\"display: table-row;\"><div style=\"display: table-cell;\"><b title=\"bokeh.models.renderers.GlyphRenderer\">GlyphRenderer</b>(</div><div style=\"display: table-cell;\">id&nbsp;=&nbsp;'1417', <span id=\"1420\" style=\"cursor: pointer;\">&hellip;)</span></div></div><div class=\"1419\" style=\"display: none;\"><div style=\"display: table-cell;\"></div><div style=\"display: table-cell;\">data_source&nbsp;=&nbsp;ColumnDataSource(id='1414', ...),</div></div><div class=\"1419\" style=\"display: none;\"><div style=\"display: table-cell;\"></div><div style=\"display: table-cell;\">glyph&nbsp;=&nbsp;Line(id='1415', ...),</div></div><div class=\"1419\" style=\"display: none;\"><div style=\"display: table-cell;\"></div><div style=\"display: table-cell;\">hover_glyph&nbsp;=&nbsp;None,</div></div><div class=\"1419\" style=\"display: none;\"><div style=\"display: table-cell;\"></div><div style=\"display: table-cell;\">js_event_callbacks&nbsp;=&nbsp;{},</div></div><div class=\"1419\" style=\"display: none;\"><div style=\"display: table-cell;\"></div><div style=\"display: table-cell;\">js_property_callbacks&nbsp;=&nbsp;{},</div></div><div class=\"1419\" style=\"display: none;\"><div style=\"display: table-cell;\"></div><div style=\"display: table-cell;\">level&nbsp;=&nbsp;'glyph',</div></div><div class=\"1419\" style=\"display: none;\"><div style=\"display: table-cell;\"></div><div style=\"display: table-cell;\">muted&nbsp;=&nbsp;False,</div></div><div class=\"1419\" style=\"display: none;\"><div style=\"display: table-cell;\"></div><div style=\"display: table-cell;\">muted_glyph&nbsp;=&nbsp;None,</div></div><div class=\"1419\" style=\"display: none;\"><div style=\"display: table-cell;\"></div><div style=\"display: table-cell;\">name&nbsp;=&nbsp;None,</div></div><div class=\"1419\" style=\"display: none;\"><div style=\"display: table-cell;\"></div><div style=\"display: table-cell;\">nonselection_glyph&nbsp;=&nbsp;Line(id='1416', ...),</div></div><div class=\"1419\" style=\"display: none;\"><div style=\"display: table-cell;\"></div><div style=\"display: table-cell;\">selection_glyph&nbsp;=&nbsp;None,</div></div><div class=\"1419\" style=\"display: none;\"><div style=\"display: table-cell;\"></div><div style=\"display: table-cell;\">subscribed_events&nbsp;=&nbsp;[],</div></div><div class=\"1419\" style=\"display: none;\"><div style=\"display: table-cell;\"></div><div style=\"display: table-cell;\">tags&nbsp;=&nbsp;[],</div></div><div class=\"1419\" style=\"display: none;\"><div style=\"display: table-cell;\"></div><div style=\"display: table-cell;\">view&nbsp;=&nbsp;CDSView(id='1418', ...),</div></div><div class=\"1419\" style=\"display: none;\"><div style=\"display: table-cell;\"></div><div style=\"display: table-cell;\">visible&nbsp;=&nbsp;True,</div></div><div class=\"1419\" style=\"display: none;\"><div style=\"display: table-cell;\"></div><div style=\"display: table-cell;\">x_range_name&nbsp;=&nbsp;'default',</div></div><div class=\"1419\" style=\"display: none;\"><div style=\"display: table-cell;\"></div><div style=\"display: table-cell;\">y_range_name&nbsp;=&nbsp;'default')</div></div></div>\n",
       "<script>\n",
       "(function() {\n",
       "  var expanded = false;\n",
       "  var ellipsis = document.getElementById(\"1420\");\n",
       "  ellipsis.addEventListener(\"click\", function() {\n",
       "    var rows = document.getElementsByClassName(\"1419\");\n",
       "    for (var i = 0; i < rows.length; i++) {\n",
       "      var el = rows[i];\n",
       "      el.style.display = expanded ? \"none\" : \"table-row\";\n",
       "    }\n",
       "    ellipsis.innerHTML = expanded ? \"&hellip;)\" : \"&lsaquo;&lsaquo;&lsaquo;\";\n",
       "    expanded = !expanded;\n",
       "  });\n",
       "})();\n",
       "</script>\n"
      ],
      "text/plain": [
       "GlyphRenderer(id='1417', ...)"
      ]
     },
     "execution_count": 19,
     "metadata": {},
     "output_type": "execute_result"
    }
   ],
   "source": [
    "# Créer un graphe Line avec les données ordonnées de popularité par release_date\n",
    "p.line(df_agg_eminem.index, df_agg_eminem.popularity )"
   ]
  },
  {
   "cell_type": "code",
   "execution_count": 20,
   "metadata": {},
   "outputs": [
    {
     "data": {
      "text/html": [
       "<div style=\"display: table;\"><div style=\"display: table-row;\"><div style=\"display: table-cell;\"><b title=\"bokeh.models.renderers.GlyphRenderer\">GlyphRenderer</b>(</div><div style=\"display: table-cell;\">id&nbsp;=&nbsp;'1424', <span id=\"1427\" style=\"cursor: pointer;\">&hellip;)</span></div></div><div class=\"1426\" style=\"display: none;\"><div style=\"display: table-cell;\"></div><div style=\"display: table-cell;\">data_source&nbsp;=&nbsp;ColumnDataSource(id='1421', ...),</div></div><div class=\"1426\" style=\"display: none;\"><div style=\"display: table-cell;\"></div><div style=\"display: table-cell;\">glyph&nbsp;=&nbsp;Circle(id='1422', ...),</div></div><div class=\"1426\" style=\"display: none;\"><div style=\"display: table-cell;\"></div><div style=\"display: table-cell;\">hover_glyph&nbsp;=&nbsp;None,</div></div><div class=\"1426\" style=\"display: none;\"><div style=\"display: table-cell;\"></div><div style=\"display: table-cell;\">js_event_callbacks&nbsp;=&nbsp;{},</div></div><div class=\"1426\" style=\"display: none;\"><div style=\"display: table-cell;\"></div><div style=\"display: table-cell;\">js_property_callbacks&nbsp;=&nbsp;{},</div></div><div class=\"1426\" style=\"display: none;\"><div style=\"display: table-cell;\"></div><div style=\"display: table-cell;\">level&nbsp;=&nbsp;'glyph',</div></div><div class=\"1426\" style=\"display: none;\"><div style=\"display: table-cell;\"></div><div style=\"display: table-cell;\">muted&nbsp;=&nbsp;False,</div></div><div class=\"1426\" style=\"display: none;\"><div style=\"display: table-cell;\"></div><div style=\"display: table-cell;\">muted_glyph&nbsp;=&nbsp;None,</div></div><div class=\"1426\" style=\"display: none;\"><div style=\"display: table-cell;\"></div><div style=\"display: table-cell;\">name&nbsp;=&nbsp;None,</div></div><div class=\"1426\" style=\"display: none;\"><div style=\"display: table-cell;\"></div><div style=\"display: table-cell;\">nonselection_glyph&nbsp;=&nbsp;Circle(id='1423', ...),</div></div><div class=\"1426\" style=\"display: none;\"><div style=\"display: table-cell;\"></div><div style=\"display: table-cell;\">selection_glyph&nbsp;=&nbsp;None,</div></div><div class=\"1426\" style=\"display: none;\"><div style=\"display: table-cell;\"></div><div style=\"display: table-cell;\">subscribed_events&nbsp;=&nbsp;[],</div></div><div class=\"1426\" style=\"display: none;\"><div style=\"display: table-cell;\"></div><div style=\"display: table-cell;\">tags&nbsp;=&nbsp;[],</div></div><div class=\"1426\" style=\"display: none;\"><div style=\"display: table-cell;\"></div><div style=\"display: table-cell;\">view&nbsp;=&nbsp;CDSView(id='1425', ...),</div></div><div class=\"1426\" style=\"display: none;\"><div style=\"display: table-cell;\"></div><div style=\"display: table-cell;\">visible&nbsp;=&nbsp;True,</div></div><div class=\"1426\" style=\"display: none;\"><div style=\"display: table-cell;\"></div><div style=\"display: table-cell;\">x_range_name&nbsp;=&nbsp;'default',</div></div><div class=\"1426\" style=\"display: none;\"><div style=\"display: table-cell;\"></div><div style=\"display: table-cell;\">y_range_name&nbsp;=&nbsp;'default')</div></div></div>\n",
       "<script>\n",
       "(function() {\n",
       "  var expanded = false;\n",
       "  var ellipsis = document.getElementById(\"1427\");\n",
       "  ellipsis.addEventListener(\"click\", function() {\n",
       "    var rows = document.getElementsByClassName(\"1426\");\n",
       "    for (var i = 0; i < rows.length; i++) {\n",
       "      var el = rows[i];\n",
       "      el.style.display = expanded ? \"none\" : \"table-row\";\n",
       "    }\n",
       "    ellipsis.innerHTML = expanded ? \"&hellip;)\" : \"&lsaquo;&lsaquo;&lsaquo;\";\n",
       "    expanded = !expanded;\n",
       "  });\n",
       "})();\n",
       "</script>\n"
      ],
      "text/plain": [
       "GlyphRenderer(id='1424', ...)"
      ]
     },
     "execution_count": 20,
     "metadata": {},
     "output_type": "execute_result"
    }
   ],
   "source": [
    "# Ajouter un glyph circle permettant de mieux visualiser les datapoints sur le graphe Line\n",
    "p.circle(df_agg_eminem.index, df_agg_eminem.popularity, size=10, fill_color=\"orange\", fill_alpha=0.5)"
   ]
  },
  {
   "cell_type": "code",
   "execution_count": 21,
   "metadata": {},
   "outputs": [
    {
     "data": {
      "text/html": [
       "\n",
       "\n",
       "\n",
       "\n",
       "\n",
       "\n",
       "  <div class=\"bk-root\" id=\"68baebea-3142-45aa-b16e-837e5a013274\" data-root-id=\"1381\"></div>\n"
      ]
     },
     "metadata": {},
     "output_type": "display_data"
    },
    {
     "data": {
      "application/javascript": [
       "(function(root) {\n",
       "  function embed_document(root) {\n",
       "    \n",
       "  var docs_json = {\"b564706e-9c2e-47f0-b874-380bc30d9d4a\":{\"roots\":{\"references\":[{\"attributes\":{\"below\":[{\"id\":\"1392\"}],\"center\":[{\"id\":\"1395\"},{\"id\":\"1399\"}],\"left\":[{\"id\":\"1396\"}],\"plot_height\":800,\"plot_width\":800,\"renderers\":[{\"id\":\"1417\"},{\"id\":\"1424\"}],\"title\":{\"id\":\"1382\"},\"toolbar\":{\"id\":\"1407\"},\"x_range\":{\"id\":\"1384\"},\"x_scale\":{\"id\":\"1388\"},\"y_range\":{\"id\":\"1386\"},\"y_scale\":{\"id\":\"1390\"}},\"id\":\"1381\",\"subtype\":\"Figure\",\"type\":\"Plot\"},{\"attributes\":{\"fill_alpha\":{\"value\":0.1},\"fill_color\":{\"value\":\"orange\"},\"line_alpha\":{\"value\":0.1},\"line_color\":{\"value\":\"#1f77b4\"},\"size\":{\"units\":\"screen\",\"value\":10},\"x\":{\"field\":\"x\"},\"y\":{\"field\":\"y\"}},\"id\":\"1423\",\"type\":\"Circle\"},{\"attributes\":{},\"id\":\"1405\",\"type\":\"HelpTool\"},{\"attributes\":{},\"id\":\"1465\",\"type\":\"UnionRenderers\"},{\"attributes\":{},\"id\":\"1401\",\"type\":\"WheelZoomTool\"},{\"attributes\":{},\"id\":\"1400\",\"type\":\"PanTool\"},{\"attributes\":{\"data\":{\"x\":{\"__ndarray__\":\"AAAAnZQRd0IAAIDKDPt2QgAAwKs3vnZCAACAofCpdkIAAEDZr6d2QgAAwAXyXnZCAACAeNRYdkIAAECHdwV2QgAAAFQUoHVCAABAJkMFdUIAAADA1et0QgAAQI7D0XRCAACAY5TNdEIAAICQ8Z10QgAAQGWngHRCAACA8FgidEIAAICFNr9zQgAAAA1pSXNCAACATOjdckIAAED67dNyQgAAwKSPy3JCAABAFA7HckIAAMCxH8VyQgAAgK2FlHJCAACAAsmDckIAAIDncl5yQgAAQBcZFHJCAADA1PfocUIAAACt0zFxQgAAwFP2EXFCAACAKKz0cEIAAMA2NIhwQgAAQOHVf3BCAAAAU4JHcEIAAMBiWyZwQgAAACS5EnBCAACARKECcEIAAABX1zlvQgAAgM8NZm5CAACAMeFObkIAAIBRriVuQgAAgA+oE25CAACAT0LBbUIAAAAM62NtQgAAAATSG21CAAAAomfpa0IAAIAXk8hrQgAAgGS9b2tCAACA8YHEakIAAADQY6JqQgAAgKptt2lCAAAAxkesaEI=\",\"dtype\":\"float64\",\"order\":\"little\",\"shape\":[52]},\"y\":{\"__ndarray__\":\"AAAAAAAAUkCmpaWlpeVRQAAAAAAAQFJAAAAAAADAUkAAAAAAAMBRQAAAAAAAgFJARhdddNFFUUAAAAAAAEBRQAAAAAAAAE5AAAAAAACATUAAAAAAAABPQAAAAAAAgE1AAAAAAACAT0AAAAAAAABMQAAAAAAAgEpAHMdxHMexTUAAAAAAAMBQQAAAAAAAAEtAAAAAAADAUUAAAAAAAIBGQAAAAAAAAFFAAAAAAAAARkAAAAAAAIBNQPHw8PDwcE9AAAAAAACATkAAAAAAAABKQI2w3NMIy0pAAAAAAADgSkAAAAAAAIBGQAAAAAAAgEhAVVVVVVXVSUAAAAAAAIBNQOsGU+Sz7klAAAAAAACAT0AAAAAAAABJQAAAAAAAgElAAAAAAACASkAAAAAAAEBIQAAAAAAAQElAAAAAAACAS0AAAAAAAEBHQAAAAAAAgElAMzMzMzOTTkAAAAAAAABHQAAAAAAAgEhAx3Ecx3EcTUAAAAAAAABJQAAAAAAAgE5AuYKYXEHMSEAAAAAAAABJQAAAAAAAgEBAAAAAAAAATEA=\",\"dtype\":\"float64\",\"order\":\"little\",\"shape\":[52]}},\"selected\":{\"id\":\"1464\"},\"selection_policy\":{\"id\":\"1465\"}},\"id\":\"1421\",\"type\":\"ColumnDataSource\"},{\"attributes\":{},\"id\":\"1386\",\"type\":\"DataRange1d\"},{\"attributes\":{\"overlay\":{\"id\":\"1406\"}},\"id\":\"1402\",\"type\":\"BoxZoomTool\"},{\"attributes\":{},\"id\":\"1403\",\"type\":\"SaveTool\"},{\"attributes\":{\"axis_label\":\"release_date\",\"formatter\":{\"id\":\"1459\"},\"ticker\":{\"id\":\"1393\"}},\"id\":\"1392\",\"type\":\"DatetimeAxis\"},{\"attributes\":{},\"id\":\"1404\",\"type\":\"ResetTool\"},{\"attributes\":{\"active_drag\":\"auto\",\"active_inspect\":\"auto\",\"active_multi\":null,\"active_scroll\":\"auto\",\"active_tap\":\"auto\",\"tools\":[{\"id\":\"1400\"},{\"id\":\"1401\"},{\"id\":\"1402\"},{\"id\":\"1403\"},{\"id\":\"1404\"},{\"id\":\"1405\"}]},\"id\":\"1407\",\"type\":\"Toolbar\"},{\"attributes\":{},\"id\":\"1477\",\"type\":\"YearsTicker\"},{\"attributes\":{\"mantissas\":[1,2,5],\"max_interval\":500.0,\"num_minor_ticks\":0},\"id\":\"1466\",\"type\":\"AdaptiveTicker\"},{\"attributes\":{\"base\":60,\"mantissas\":[1,2,5,10,15,20,30],\"max_interval\":1800000.0,\"min_interval\":1000.0,\"num_minor_ticks\":0},\"id\":\"1467\",\"type\":\"AdaptiveTicker\"},{\"attributes\":{\"source\":{\"id\":\"1414\"}},\"id\":\"1418\",\"type\":\"CDSView\"},{\"attributes\":{\"days\":[1,2,3,4,5,6,7,8,9,10,11,12,13,14,15,16,17,18,19,20,21,22,23,24,25,26,27,28,29,30,31]},\"id\":\"1469\",\"type\":\"DaysTicker\"},{\"attributes\":{\"base\":24,\"mantissas\":[1,2,4,6,8,12],\"max_interval\":43200000.0,\"min_interval\":3600000.0,\"num_minor_ticks\":0},\"id\":\"1468\",\"type\":\"AdaptiveTicker\"},{\"attributes\":{\"num_minor_ticks\":5,\"tickers\":[{\"id\":\"1466\"},{\"id\":\"1467\"},{\"id\":\"1468\"},{\"id\":\"1469\"},{\"id\":\"1470\"},{\"id\":\"1471\"},{\"id\":\"1472\"},{\"id\":\"1473\"},{\"id\":\"1474\"},{\"id\":\"1475\"},{\"id\":\"1476\"},{\"id\":\"1477\"}]},\"id\":\"1393\",\"type\":\"DatetimeTicker\"},{\"attributes\":{\"months\":[0,1,2,3,4,5,6,7,8,9,10,11]},\"id\":\"1473\",\"type\":\"MonthsTicker\"},{\"attributes\":{\"axis\":{\"id\":\"1396\"},\"dimension\":1,\"grid_line_alpha\":0.5,\"ticker\":null},\"id\":\"1399\",\"type\":\"Grid\"},{\"attributes\":{},\"id\":\"1459\",\"type\":\"DatetimeTickFormatter\"},{\"attributes\":{\"months\":[0,2,4,6,8,10]},\"id\":\"1474\",\"type\":\"MonthsTicker\"},{\"attributes\":{\"days\":[1,4,7,10,13,16,19,22,25,28]},\"id\":\"1470\",\"type\":\"DaysTicker\"},{\"attributes\":{\"days\":[1,15]},\"id\":\"1472\",\"type\":\"DaysTicker\"},{\"attributes\":{\"months\":[0,6]},\"id\":\"1476\",\"type\":\"MonthsTicker\"},{\"attributes\":{\"days\":[1,8,15,22]},\"id\":\"1471\",\"type\":\"DaysTicker\"},{\"attributes\":{\"months\":[0,4,8]},\"id\":\"1475\",\"type\":\"MonthsTicker\"},{\"attributes\":{\"axis\":{\"id\":\"1392\"},\"grid_line_color\":null,\"ticker\":null},\"id\":\"1395\",\"type\":\"Grid\"},{\"attributes\":{\"bottom_units\":\"screen\",\"fill_alpha\":0.5,\"fill_color\":\"lightgrey\",\"left_units\":\"screen\",\"level\":\"overlay\",\"line_alpha\":1.0,\"line_color\":\"black\",\"line_dash\":[4,4],\"line_width\":2,\"right_units\":\"screen\",\"top_units\":\"screen\"},\"id\":\"1406\",\"type\":\"BoxAnnotation\"},{\"attributes\":{\"data_source\":{\"id\":\"1414\"},\"glyph\":{\"id\":\"1415\"},\"hover_glyph\":null,\"muted_glyph\":null,\"nonselection_glyph\":{\"id\":\"1416\"},\"selection_glyph\":null,\"view\":{\"id\":\"1418\"}},\"id\":\"1417\",\"type\":\"GlyphRenderer\"},{\"attributes\":{},\"id\":\"1461\",\"type\":\"BasicTickFormatter\"},{\"attributes\":{},\"id\":\"1397\",\"type\":\"BasicTicker\"},{\"attributes\":{\"line_alpha\":0.1,\"line_color\":\"#1f77b4\",\"x\":{\"field\":\"x\"},\"y\":{\"field\":\"y\"}},\"id\":\"1416\",\"type\":\"Line\"},{\"attributes\":{\"line_color\":\"#1f77b4\",\"x\":{\"field\":\"x\"},\"y\":{\"field\":\"y\"}},\"id\":\"1415\",\"type\":\"Line\"},{\"attributes\":{\"data_source\":{\"id\":\"1421\"},\"glyph\":{\"id\":\"1422\"},\"hover_glyph\":null,\"muted_glyph\":null,\"nonselection_glyph\":{\"id\":\"1423\"},\"selection_glyph\":null,\"view\":{\"id\":\"1425\"}},\"id\":\"1424\",\"type\":\"GlyphRenderer\"},{\"attributes\":{\"text\":\"la moyenne de popularit\\u00e9 des artistes selon release_date\"},\"id\":\"1382\",\"type\":\"Title\"},{\"attributes\":{},\"id\":\"1390\",\"type\":\"LinearScale\"},{\"attributes\":{},\"id\":\"1462\",\"type\":\"Selection\"},{\"attributes\":{\"axis_label\":\"popularity\",\"formatter\":{\"id\":\"1461\"},\"ticker\":{\"id\":\"1397\"}},\"id\":\"1396\",\"type\":\"LinearAxis\"},{\"attributes\":{},\"id\":\"1463\",\"type\":\"UnionRenderers\"},{\"attributes\":{\"fill_alpha\":{\"value\":0.5},\"fill_color\":{\"value\":\"orange\"},\"line_color\":{\"value\":\"#1f77b4\"},\"size\":{\"units\":\"screen\",\"value\":10},\"x\":{\"field\":\"x\"},\"y\":{\"field\":\"y\"}},\"id\":\"1422\",\"type\":\"Circle\"},{\"attributes\":{\"data\":{\"x\":{\"__ndarray__\":\"AAAAnZQRd0IAAIDKDPt2QgAAwKs3vnZCAACAofCpdkIAAEDZr6d2QgAAwAXyXnZCAACAeNRYdkIAAECHdwV2QgAAAFQUoHVCAABAJkMFdUIAAADA1et0QgAAQI7D0XRCAACAY5TNdEIAAICQ8Z10QgAAQGWngHRCAACA8FgidEIAAICFNr9zQgAAAA1pSXNCAACATOjdckIAAED67dNyQgAAwKSPy3JCAABAFA7HckIAAMCxH8VyQgAAgK2FlHJCAACAAsmDckIAAIDncl5yQgAAQBcZFHJCAADA1PfocUIAAACt0zFxQgAAwFP2EXFCAACAKKz0cEIAAMA2NIhwQgAAQOHVf3BCAAAAU4JHcEIAAMBiWyZwQgAAACS5EnBCAACARKECcEIAAABX1zlvQgAAgM8NZm5CAACAMeFObkIAAIBRriVuQgAAgA+oE25CAACAT0LBbUIAAAAM62NtQgAAAATSG21CAAAAomfpa0IAAIAXk8hrQgAAgGS9b2tCAACA8YHEakIAAADQY6JqQgAAgKptt2lCAAAAxkesaEI=\",\"dtype\":\"float64\",\"order\":\"little\",\"shape\":[52]},\"y\":{\"__ndarray__\":\"AAAAAAAAUkCmpaWlpeVRQAAAAAAAQFJAAAAAAADAUkAAAAAAAMBRQAAAAAAAgFJARhdddNFFUUAAAAAAAEBRQAAAAAAAAE5AAAAAAACATUAAAAAAAABPQAAAAAAAgE1AAAAAAACAT0AAAAAAAABMQAAAAAAAgEpAHMdxHMexTUAAAAAAAMBQQAAAAAAAAEtAAAAAAADAUUAAAAAAAIBGQAAAAAAAAFFAAAAAAAAARkAAAAAAAIBNQPHw8PDwcE9AAAAAAACATkAAAAAAAABKQI2w3NMIy0pAAAAAAADgSkAAAAAAAIBGQAAAAAAAgEhAVVVVVVXVSUAAAAAAAIBNQOsGU+Sz7klAAAAAAACAT0AAAAAAAABJQAAAAAAAgElAAAAAAACASkAAAAAAAEBIQAAAAAAAQElAAAAAAACAS0AAAAAAAEBHQAAAAAAAgElAMzMzMzOTTkAAAAAAAABHQAAAAAAAgEhAx3Ecx3EcTUAAAAAAAABJQAAAAAAAgE5AuYKYXEHMSEAAAAAAAABJQAAAAAAAgEBAAAAAAAAATEA=\",\"dtype\":\"float64\",\"order\":\"little\",\"shape\":[52]}},\"selected\":{\"id\":\"1462\"},\"selection_policy\":{\"id\":\"1463\"}},\"id\":\"1414\",\"type\":\"ColumnDataSource\"},{\"attributes\":{\"source\":{\"id\":\"1421\"}},\"id\":\"1425\",\"type\":\"CDSView\"},{\"attributes\":{},\"id\":\"1388\",\"type\":\"LinearScale\"},{\"attributes\":{},\"id\":\"1384\",\"type\":\"DataRange1d\"},{\"attributes\":{},\"id\":\"1464\",\"type\":\"Selection\"}],\"root_ids\":[\"1381\"]},\"title\":\"Bokeh Application\",\"version\":\"2.2.3\"}};\n",
       "  var render_items = [{\"docid\":\"b564706e-9c2e-47f0-b874-380bc30d9d4a\",\"root_ids\":[\"1381\"],\"roots\":{\"1381\":\"68baebea-3142-45aa-b16e-837e5a013274\"}}];\n",
       "  root.Bokeh.embed.embed_items_notebook(docs_json, render_items);\n",
       "\n",
       "  }\n",
       "  if (root.Bokeh !== undefined) {\n",
       "    embed_document(root);\n",
       "  } else {\n",
       "    var attempts = 0;\n",
       "    var timer = setInterval(function(root) {\n",
       "      if (root.Bokeh !== undefined) {\n",
       "        clearInterval(timer);\n",
       "        embed_document(root);\n",
       "      } else {\n",
       "        attempts++;\n",
       "        if (attempts > 100) {\n",
       "          clearInterval(timer);\n",
       "          console.log(\"Bokeh: ERROR: Unable to run BokehJS code because BokehJS library is missing\");\n",
       "        }\n",
       "      }\n",
       "    }, 10, root)\n",
       "  }\n",
       "})(window);"
      ],
      "application/vnd.bokehjs_exec.v0+json": ""
     },
     "metadata": {
      "application/vnd.bokehjs_exec.v0+json": {
       "id": "1381"
      }
     },
     "output_type": "display_data"
    }
   ],
   "source": [
    "# Afficher le graphe\n",
    "show(p)"
   ]
  },
  {
   "cell_type": "markdown",
   "metadata": {},
   "source": [
    "<br> Pour des graphes plus complexes, transmettre les données d'un Dataframe aux glyphs devient compliqué. Bokeh procure un objet \"ColumnDataSource\" pour lier la dataframe au glyph et mapper les noms des colonnes aux données, facilitant ainsi la référence des éléments de données lors de la construction de la visualisation. Une fois créée, une ColumnDataSource peut être transmise aux méthodes glyph via le paramètre \"source\".\n",
    "\n",
    "Revenons à notre graph Line. On voudrait afficher la popularité d'un autre artiste sur le même graphe. On utilisera la fonction add_glyph de Bokeh, ainsi qu'une ColumnDataSource.  \n"
   ]
  },
  {
   "cell_type": "code",
   "execution_count": 22,
   "metadata": {},
   "outputs": [],
   "source": [
    "from bokeh.models import ColumnDataSource"
   ]
  },
  {
   "cell_type": "code",
   "execution_count": 23,
   "metadata": {},
   "outputs": [
    {
     "name": "stderr",
     "output_type": "stream",
     "text": [
      "<ipython-input-23-41e823802e0d>:3: SettingWithCopyWarning: \n",
      "A value is trying to be set on a copy of a slice from a DataFrame.\n",
      "Try using .loc[row_indexer,col_indexer] = value instead\n",
      "\n",
      "See the caveats in the documentation: https://pandas.pydata.org/pandas-docs/stable/user_guide/indexing.html#returning-a-view-versus-a-copy\n",
      "  df_rihanna[\"release_date\"] = pd.to_datetime(df_rihanna[\"release_date\"])\n"
     ]
    }
   ],
   "source": [
    "# Créer une ColumnDataSource qui filtre votre dataset sur un artiste comparable à celui déjà choisi (release_date des pistes dans des périodes similaires)\n",
    "df_rihanna = df[df[\"artists\"].str.contains(\"Rihanna\")]\n",
    "df_rihanna[\"release_date\"] = pd.to_datetime(df_rihanna[\"release_date\"])\n",
    "df_agg_rihanna = df_rihanna.groupby([\"release_date\"]).mean().sort_values(by='release_date', ascending=False)\n",
    "cds = ColumnDataSource(df_agg_rihanna)"
   ]
  },
  {
   "cell_type": "code",
   "execution_count": 24,
   "metadata": {},
   "outputs": [],
   "source": [
    "from bokeh.models.glyphs import Line"
   ]
  },
  {
   "cell_type": "code",
   "execution_count": 25,
   "metadata": {},
   "outputs": [],
   "source": [
    "# Créer un graphe Line qui prend release_date dans x_axis et popularité dans y_axis. Choisir une couleur pour la ligne.\n",
    "line = Line(x='release_date',y='popularity', line_color='green')"
   ]
  },
  {
   "cell_type": "code",
   "execution_count": 26,
   "metadata": {},
   "outputs": [
    {
     "data": {
      "text/html": [
       "<div style=\"display: table;\"><div style=\"display: table-row;\"><div style=\"display: table-cell;\"><b title=\"bokeh.models.renderers.GlyphRenderer\">GlyphRenderer</b>(</div><div style=\"display: table-cell;\">id&nbsp;=&nbsp;'1591', <span id=\"1647\" style=\"cursor: pointer;\">&hellip;)</span></div></div><div class=\"1646\" style=\"display: none;\"><div style=\"display: table-cell;\"></div><div style=\"display: table-cell;\">data_source&nbsp;=&nbsp;ColumnDataSource(id='1589', ...),</div></div><div class=\"1646\" style=\"display: none;\"><div style=\"display: table-cell;\"></div><div style=\"display: table-cell;\">glyph&nbsp;=&nbsp;Line(id='1590', ...),</div></div><div class=\"1646\" style=\"display: none;\"><div style=\"display: table-cell;\"></div><div style=\"display: table-cell;\">hover_glyph&nbsp;=&nbsp;None,</div></div><div class=\"1646\" style=\"display: none;\"><div style=\"display: table-cell;\"></div><div style=\"display: table-cell;\">js_event_callbacks&nbsp;=&nbsp;{},</div></div><div class=\"1646\" style=\"display: none;\"><div style=\"display: table-cell;\"></div><div style=\"display: table-cell;\">js_property_callbacks&nbsp;=&nbsp;{},</div></div><div class=\"1646\" style=\"display: none;\"><div style=\"display: table-cell;\"></div><div style=\"display: table-cell;\">level&nbsp;=&nbsp;'glyph',</div></div><div class=\"1646\" style=\"display: none;\"><div style=\"display: table-cell;\"></div><div style=\"display: table-cell;\">muted&nbsp;=&nbsp;False,</div></div><div class=\"1646\" style=\"display: none;\"><div style=\"display: table-cell;\"></div><div style=\"display: table-cell;\">muted_glyph&nbsp;=&nbsp;None,</div></div><div class=\"1646\" style=\"display: none;\"><div style=\"display: table-cell;\"></div><div style=\"display: table-cell;\">name&nbsp;=&nbsp;None,</div></div><div class=\"1646\" style=\"display: none;\"><div style=\"display: table-cell;\"></div><div style=\"display: table-cell;\">nonselection_glyph&nbsp;=&nbsp;'auto',</div></div><div class=\"1646\" style=\"display: none;\"><div style=\"display: table-cell;\"></div><div style=\"display: table-cell;\">selection_glyph&nbsp;=&nbsp;'auto',</div></div><div class=\"1646\" style=\"display: none;\"><div style=\"display: table-cell;\"></div><div style=\"display: table-cell;\">subscribed_events&nbsp;=&nbsp;[],</div></div><div class=\"1646\" style=\"display: none;\"><div style=\"display: table-cell;\"></div><div style=\"display: table-cell;\">tags&nbsp;=&nbsp;[],</div></div><div class=\"1646\" style=\"display: none;\"><div style=\"display: table-cell;\"></div><div style=\"display: table-cell;\">view&nbsp;=&nbsp;CDSView(id='1592', ...),</div></div><div class=\"1646\" style=\"display: none;\"><div style=\"display: table-cell;\"></div><div style=\"display: table-cell;\">visible&nbsp;=&nbsp;True,</div></div><div class=\"1646\" style=\"display: none;\"><div style=\"display: table-cell;\"></div><div style=\"display: table-cell;\">x_range_name&nbsp;=&nbsp;'default',</div></div><div class=\"1646\" style=\"display: none;\"><div style=\"display: table-cell;\"></div><div style=\"display: table-cell;\">y_range_name&nbsp;=&nbsp;'default')</div></div></div>\n",
       "<script>\n",
       "(function() {\n",
       "  var expanded = false;\n",
       "  var ellipsis = document.getElementById(\"1647\");\n",
       "  ellipsis.addEventListener(\"click\", function() {\n",
       "    var rows = document.getElementsByClassName(\"1646\");\n",
       "    for (var i = 0; i < rows.length; i++) {\n",
       "      var el = rows[i];\n",
       "      el.style.display = expanded ? \"none\" : \"table-row\";\n",
       "    }\n",
       "    ellipsis.innerHTML = expanded ? \"&hellip;)\" : \"&lsaquo;&lsaquo;&lsaquo;\";\n",
       "    expanded = !expanded;\n",
       "  });\n",
       "})();\n",
       "</script>\n"
      ],
      "text/plain": [
       "GlyphRenderer(id='1591', ...)"
      ]
     },
     "execution_count": 26,
     "metadata": {},
     "output_type": "execute_result"
    }
   ],
   "source": [
    "# En utilisant add_glyph, ajouter une nouvelle ligne au plot précédent en spécifiant l'objet ColumnDataSource créé comme source et le Line glyph comme argument.\n",
    "p.add_glyph(cds, line)"
   ]
  },
  {
   "cell_type": "code",
   "execution_count": 27,
   "metadata": {},
   "outputs": [
    {
     "data": {
      "text/html": [
       "\n",
       "\n",
       "\n",
       "\n",
       "\n",
       "\n",
       "  <div class=\"bk-root\" id=\"0eef7a95-689b-4ec0-83a3-d042325c86ff\" data-root-id=\"1381\"></div>\n"
      ]
     },
     "metadata": {},
     "output_type": "display_data"
    },
    {
     "data": {
      "application/javascript": [
       "(function(root) {\n",
       "  function embed_document(root) {\n",
       "    \n",
       "  var docs_json = {\"137c0c43-ca6c-4d1c-84a8-776405edfc10\":{\"roots\":{\"references\":[{\"attributes\":{\"below\":[{\"id\":\"1392\"}],\"center\":[{\"id\":\"1395\"},{\"id\":\"1399\"}],\"left\":[{\"id\":\"1396\"}],\"plot_height\":800,\"plot_width\":800,\"renderers\":[{\"id\":\"1417\"},{\"id\":\"1424\"},{\"id\":\"1591\"}],\"title\":{\"id\":\"1382\"},\"toolbar\":{\"id\":\"1407\"},\"x_range\":{\"id\":\"1384\"},\"x_scale\":{\"id\":\"1388\"},\"y_range\":{\"id\":\"1386\"},\"y_scale\":{\"id\":\"1390\"}},\"id\":\"1381\",\"subtype\":\"Figure\",\"type\":\"Plot\"},{\"attributes\":{\"data\":{\"acousticness\":{\"__ndarray__\":\"LGUZ4lgXtz9oO6buyi5IP7kZbsDnh2E/QwsJGF3eTD+Cc0aU9gafP0+vlGWIY50/iUFg5dAimz+u2F92Tx6GP4C3QILix6g/gLdAguLHqD9FtvP91HjJPzY8vVKWIdQ/Ne84RUdyqT/ImLuWkA+qP/mgZ7Pqc70/AAAAAAAA7D8IrBxaZDu/P+F6FK5H4ao/2c73U+Ol0z89CtejcD3uP9NqSNxj6cc/R+F6FK5H3j8hvc5zMfPCPzLO34RCBFw/JRYLVq811D+3bfJuP/PCP0frqGqCqIs/EHo2qz5Xmz/SAN4CCYpvPymzQSYZOZs/eOkmMQis1D8HGuTMOpS/P2gAb4EExcE/DQIrhxbZzj9Kk1LQ7SW9P1nyiyW/WMI/lkOLbOf70T+TGARWDi2yP6Ydo+E5ALM/yp9vC5bqsj9yGw3gLZDLP3cv98lRgKA/\",\"dtype\":\"float64\",\"order\":\"little\",\"shape\":[42]},\"danceability\":{\"__ndarray__\":\"hetRuB6F2z93vp8aL93oPxxaZDvfT+0/w/UoXI/C6T+PwvUoXI/aPwRWDi2yneM/dJMYBFYO5T+F61G4HoXnP8ZLN4lBYOk/xks3iUFg6T8pXI/C9SjkP+58PzVeuuE/oBov3SQG2T/KoUW28/3oP0w3iUFg5eA/OrTIdr6f4j9pke18PzXmP8qhRbbz/eg/bef7qfHS6T+sHFpkO9/jP2wJ+aBns+Q/9ihcj8L14j+7SQwCK4fmP+58PzVeutk/80T9G6GM4j+IiIiIiIjmP3Roke18P+c/VOOlm8Qg5D8zMzMzMzPbP166SQwCK+c/tvP91Hjp4j8V1Cwfq9DjPy2yne+nxuU/LIcW2c735z9nRGlv8IXlP4ekKRVnH94/001iEFg55D8AAAAAAADYP65p3nGKjuY/EjY8vVKW5T+mm8QgsHLkP4XrUbgehec/\",\"dtype\":\"float64\",\"order\":\"little\",\"shape\":[42]},\"duration_ms\":{\"__ndarray__\":\"AAAAAJhdBkEAAAAA2JkLQQAAAADY0QpBAAAAANjuAUEAAAAA+LAOQQAAAADA+whBAAAAAADBC0EAAAAAANgEQQAAAAA0ExBBAAAAADQTEEEAAAAAgB4LQUmSJElOpAhBAAAAAISKE0EAAAAAUMUKQQAAAAA0Sw5BAAAAAHD6BkEAAAAAmEAJQQAAAABoig5BAAAAAFgnDUEAAAAAGGINQZqZmZl1jQpBAAAAAPhuDEFVVVVV2dwGQQAAAAA4jwpBq6qqqnoeDEFVVVVV2dwGQQAAAADM8gtBAAAAACzuEEEAAAAAgDMNQQAAAABgpQhBAAAAALRbEEE5juM4dtYPQQAAAABEVA5BAAAAADQTEEGamZmZaXYNQQAAAACA5gtBAAAAAABUEEEAAAAAlK4UQQAAAADgrAxBMzMzM6v7DkEAAAAA1PMLQQAAAABAvAxB\",\"dtype\":\"float64\",\"order\":\"little\",\"shape\":[42]},\"energy\":{\"__ndarray__\":\"ZmZmZmZm5j+gGi/dJAblP90kBoGVQ+c/uB6F61G45j8EVg4tsp3XP5duEoPAyuU/H4XrUbge4T8EVg4tsp3fP0w3iUFg5eQ/TDeJQWDl5D8YBFYOLbLtP39edzh9/N8/16NwPQrX5z+yne+nxkvnP6AaL90kBuc/nMQgsHJo0T/sUbgehevpP7Kd76fGS+s/EVg5tMh25j/Xo3A9CtfTP6W9wRcmU+M/UrgehetR4D+7SQwCK4foP2ZmZmZmZuY/a7x0kxgE4j/sCpB7zYXoPwIrhxbZzuk/exSuR+F64D8UrkfhehTmP57vp8ZLN+k/Rbbz/dR47T9swRZswRboP3WTGARWDuY/mpmZmZmZ7T+u+lxtxf7mP5huEoPAyuU/xSCwcmiR7T8v3SQGgZXrP8Dsnjws1OY/k6mCUUmd6D8nMQisHFrkP79Y8oslv+Q/\",\"dtype\":\"float64\",\"order\":\"little\",\"shape\":[42]},\"explicit\":{\"__ndarray__\":\"AAAAAAAA8D8AAAAAAADwPwAAAAAAAPA/AAAAAAAA8D8AAAAAAADwPwAAAAAAAPA/AAAAAAAA8D8AAAAAAADwPwAAAAAAAPA/AAAAAAAA8D8AAAAAAAAAALdt27Zt2+Y/AAAAAAAAAAAAAAAAAADwPwAAAAAAAAAAAAAAAAAAAAAAAAAAAAAAAAAAAAAAAPA/AAAAAAAA8D8AAAAAAAAAAGZmZmZmZuY/AAAAAAAAAAAAAAAAAADgPwAAAAAAAAAAAAAAAAAAAAAAAAAAAADgPwAAAAAAAAAAAAAAAAAA8D8AAAAAAAAAAAAAAAAAAOA/AAAAAAAA8D9VVVVVVVXVPwAAAAAAAAAAAAAAAAAA8D+amZmZmZnJP6uqqqqqquo/AAAAAAAA8D8AAAAAAADwPwAAAAAAAAAAAAAAAAAAAAAAAAAAAAAAAAAAAAAAAAAA\",\"dtype\":\"float64\",\"order\":\"little\",\"shape\":[42]},\"instrumentalness\":{\"__ndarray__\":\"AAAAAAAAAAD0VhtrmATMPhoXDoRkASM/w5SSL7Ku+z6fOMKasQXgPgAAAAAAAAAAAAAAAAAAAAAH04s1t52xPhjyYycXvgk/GPJjJxe+CT9YObTIdr6/P/OgjgdnSkA/AAAAAAAAAABEymhHHkbAPgAAAAAAAAAAAAAAAAAAAAAAAAAAAAAAAAAAAAAAAAAAAAAAAAAAAADCxHr+DwsQP56YLw6yVUc/wsR6/g8LAD9Z2RrtlOpuP+C04EVfQXo/rVtOUxVk9T7fqzIvY+ZuP1rY0w5/TYY/Edd7O9OV6T7SAN4CCYqPPwAAAAAAAAAAAAAAAAAAAAACW6anEBD0PqpB4mjYOQc/AAAAAAAAAAAW6AOXAUYLP9iITVEbwv4+AAAAAAAAAAAAAAAAAAAAAMXlMTAWeYo/u90/1IVxmj+S1zm81pTqPpPLf0i/fU0/\",\"dtype\":\"float64\",\"order\":\"little\",\"shape\":[42]},\"key\":{\"__ndarray__\":\"AAAAAAAAGEAAAAAAAADwPwAAAAAAAPA/AAAAAAAA8D8AAAAAAAAgQAAAAAAAACBAAAAAAAAAIkAAAAAAAAAgQAAAAAAAABxAAAAAAAAAHEAAAAAAAAAiQNu2bdu2bRdAAAAAAAAAAEAAAAAAAADwPwAAAAAAAARAAAAAAAAAAEAAAAAAAAAmQAAAAAAAAPA/AAAAAAAAGEAAAAAAAAAiQM3MzMzMzBRAAAAAAAAAJEBVVVVVVVUJQAAAAAAAACJAq6qqqqqqJEBVVVVVVVUJQAAAAAAAAOA/AAAAAAAAAAAAAAAAAAAAAAAAAAAAAAxAAAAAAAAA8D/kOI7jOI4XQAAAAAAAABVAAAAAAAAAJEDNzMzMzMwYQAAAAAAAABRAAAAAAAAA8D8AAAAAAAAmQDMzMzMzMxVAZmZmZmZmBkAAAAAAAAAWQKuqqqqqqhpA\",\"dtype\":\"float64\",\"order\":\"little\",\"shape\":[42]},\"liveness\":{\"__ndarray__\":\"2873U+Olyz8kufyH9Nu3P2mR7Xw/Nb4/tvP91Hjp1j9PjZduEoPYP1TjpZvEIMA/mpmZmZmZyT/azvdT46W7P5qZmZmZmbk/mpmZmZmZuT+MbOf7qfHCP3/Ebh3fncI/dJMYBFYO1T+mm8QgsHLQPw4tsp3vp74/pHA9CtejwD8/NV66SQzCP7gehetRuL4/0SLb+X5qvD/AyqFFtvO9P8gHPZtVn8M/ILByaJHtvD+4rNUxwYPJP6abxCCwcsg/Q9KUirMPvz+3rNUxwYPJP3WTGARWDsU/QYLix5i7tj+R7Xw/NV7SP+f7qfHSTcY/hxbZzvdT0z/c/iBDZYfBP7bz/dR46bY/pHA9Ctej4D+qZWt9kdC2P/0boYzeltE/okW28/3U0D82XrpJDALLP7kUV5V9V8A/otEdxM4Uwj9ns+pztRXQP0CC4seYu7Y/\",\"dtype\":\"float64\",\"order\":\"little\",\"shape\":[42]},\"loudness\":{\"__ndarray__\":\"ZmZmZmZmFcAj2/l+arwZwNNNYhBYORrAxSCwcmiRGsBKDAIrhxYkwIPAyqFFtgjAnO+nxkv3IcAhsHJokW0ewEBg5dAiWx/AQGDl0CJbH8Cyne+nxksGwJrcqiifIBrAyXa+nxovGcAGgZVDi+wTwK0cWmQ7nxPA2s73U+OlFsCmm8QgsHIMwHE9CtejcA3Axks3iUFgGsCHFtnO91MkwIqO5PIf0hrAXrpJDAIrHsDYo3A9CpcWwHbpJjEIrBfAq6qqqqoqHMCLsw+fYZcWwGZmZmZmphXAne+nxku3JMD8qfHSTeIYwDEIrBxa5BDAZDvfT42X/L+bC0lTKs4RwPLSTWIQOBDAiUFg5dAiFMAooImw4ekQwBVnHz7D7hLAoUW28/3U/L+BlUOLbOcKwMwQx7q4DRXAg+LHmLsWFcDRItv5fkoYwEOLbOf7KR3A\",\"dtype\":\"float64\",\"order\":\"little\",\"shape\":[42]},\"mode\":{\"__ndarray__\":\"AAAAAAAA8D8AAAAAAADwPwAAAAAAAPA/AAAAAAAA8D8AAAAAAADwPwAAAAAAAPA/AAAAAAAAAAAAAAAAAAAAAAAAAAAAAPA/AAAAAAAA8D8AAAAAAAAAAJIkSZIkSeI/AAAAAAAA8D8AAAAAAADwPwAAAAAAAOA/AAAAAAAA8D8AAAAAAAAAAAAAAAAAAAAAAAAAAAAAAAAAAAAAAAAAADMzMzMzM9M/AAAAAAAAAABVVVVVVVXlPwAAAAAAAAAAAAAAAAAAAABVVVVVVVXlPwAAAAAAAOA/AAAAAAAAAAAAAAAAAADwPwAAAAAAAOA/AAAAAAAA8D9VVVVVVVXlPwAAAAAAAOg/AAAAAAAA8D+amZmZmZnpPwAAAAAAAOA/AAAAAAAA8D8AAAAAAAAAAAAAAAAAAOA/MzMzMzMz4z8AAAAAAADQP1VVVVVVVeU/\",\"dtype\":\"float64\",\"order\":\"little\",\"shape\":[42]},\"popularity\":{\"__ndarray__\":\"AAAAAACAVUAAAAAAAABQQAAAAAAAQFBAAAAAAAAATUAAAAAAAABQQAAAAAAAgFBAAAAAAABAUkAAAAAAAABPQAAAAAAAAE1AAAAAAABAUkAAAAAAAMBTQLdt27Ztm1BAAAAAAAAATkAAAAAAAMBSQAAAAAAAwEtAAAAAAADAU0AAAAAAAABQQAAAAAAAgFBAAAAAAAAAT0AAAAAAAABIQM3MzMzMTEtAAAAAAABATkBVVVVVVdVKQAAAAAAAAE1Aq6qqqqqqT0AAAAAAAMBOQAAAAAAAoFFAAAAAAAAAUkAAAAAAAEBQQAAAAAAAwElAAAAAAAAASkBVVVVVVdVKQAAAAAAAAE9AAAAAAABAVEBmZmZmZuZNQAAAAAAAQE1AAAAAAACAUUAAAAAAAMBSQGZmZmZmZlBAzczMzMzMTEAAAAAAAEBPQKuqqqqqKk5A\",\"dtype\":\"float64\",\"order\":\"little\",\"shape\":[42]},\"release_date\":{\"__ndarray__\":\"AAAAnZQRd0IAAAB+ZiN2QgAAQId3BXZCAACA85ECdkIAAIB8Fdh1QgAAQJPRzHVCAACAJpy2dUIAAMDN2a91QgAAgJp2SnVCAABA0jVIdUIAAAAK9UV1QgAAAHlYKHVCAABAm1PLdEIAAAAONsV0QgAAwNw+xHRCAABAz5OxdEIAAEA23kt0QgAAgPBYInRCAADAE4r3c0IAAICFNr9zQgAAwCx0uHNCAAAAxyG4c0IAAEAldolzQgAAAHdVenNCAAAADWlJc0IAAMD1kTtzQgAAAJA/O3NCAADAXkg6c0IAAECgMzNzQgAAQPrt03JCAABAFA7HckIAAMCxH8VyQgAAAEzNxHJCAACArYWUckIAAIDncl5yQgAAADbuUHJCAABAMm85ckIAAIAf9MNxQgAAACxppHFCAACASa/9cEIAAACQEahwQgAAAIj4X3BC\",\"dtype\":\"float64\",\"order\":\"little\",\"shape\":[42]},\"speechiness\":{\"__ndarray__\":\"TDeJQWDl0D+8dJMYBFbOP3uDL0ymCrY/LbKd76fG0z+cM6K0N/iyPwn5oGez6rM/LSEf9GxWrT9xPQrXo3C9P5LtfD81Xro/ku18PzVeuj9txf6ye/KgP7BnDLS9GrE//mX35GGhtj96xyk6ksuvPzjWxW00gKc/uycPC7WmqT9d/kP67euwP+f7qfHSTbI/EqW9wRcmsz9CPujZrPqcP1z+Q/rt67A/zojS3uALoz/Q/a9NPeWrP11txf6ye6I/K4cW2c73oz+RXP5D+u2rPxwN4C2QoLA/9ihcj8L10D8N4C2QoPihP+C+DpwzosA/1XjpJjEI1D+6JOFV6QG2P/kP6bevA6c/dJMYBFYOzT8CK4cW2c6nP33Qs1n1ubo/j8L1KFyP0j9SuB6F61HQPyMf9GxWfa4/2xZlNsgksz8nMQisHFrCP0PSlIqzD78/\",\"dtype\":\"float64\",\"order\":\"little\",\"shape\":[42]},\"tempo\":{\"__ndarray__\":\"Di2yne/LY0A6tMh2vr9nQCyHFtnOv1dAxSCwcmjBZ0A6tMh2vu9XQDq0yHa+Z1hAsp3vp8arW0AMAiuHFuVgQGQ730+Nf11AZDvfT41/XUASg8DKof1eQLew7EVzvl1AhetRuB6NU0CPwvUoXL9ZQClcj8L10mFAT42XbhK7aUDl0CLb+T5hQEFg5dAig1tA30+Nl26CXED91HjpJvlbQANWDi2yoV9ASOF6FK57WUBlrY4JHgBcQJqZmZmZQVVAUf9GKKOnWEDotIFOGwBcQO58PzVe/l9ArkfhehR2XkCPwvUoXD9VQMUgsHJoX2FAv8qhRbazVUAklNHbsm5fQJLtfD81XmBAnO+nxku/VUCQMXctIRdgQOm0gU4b2GNAvHSTGAS2VUD0/dR46fpjQFJJnYAmalxArbZif9ktXkDgT42XbtxeQBXZzvdTM1dA\",\"dtype\":\"float64\",\"order\":\"little\",\"shape\":[42]},\"valence\":{\"__ndarray__\":\"MQisHFpk5z9cj8L1KFzPP+58PzVeusk/N4lBYOXQwj/l8h/Sb1+3PwIrhxbZzuM/N4lBYOXQ2j/o+6nx0k3CP/P91HjpJtk/8/3UeOkm2T/D9Shcj8LdPzGOzjplcts/tvP91Hjp3j9I4XoUrkfZP2ZmZmZmZuA/Di2yne+n1j+S7Xw/NV7qPyuHFtnO9+M/z/dT46Wb3D8AAAAAAADAP8oyxLEubtc/+n5qvHST0D9o2BUg95rfP39qvHSTGNQ/S8XZh8+w0z/ZzvdT46XfP05iEFg5tOA/iUFg5dAi0z9t5/up8dLNPycxCKwcWuI/MQisHFpk2z9MyntgeMPhPyLb+X5qvOI/T42XbhKD5D+vlGWIY13gP22g0wY6beA/001iEFg53D9kO99PjZfeP1qoNc07TuU/eHqlLEMc4z/FILByaJHjPwAAAAAAAOQ/\",\"dtype\":\"float64\",\"order\":\"little\",\"shape\":[42]},\"year\":{\"__ndarray__\":\"AAAAAACQn0AAAAAAAIifQAAAAAAAhJ9AAAAAAACEn0AAAAAAAISfQAAAAAAAhJ9AAAAAAACEn0AAAAAAAISfQAAAAAAAgJ9AAAAAAACAn0AAAAAAAICfQAAAAAAAgJ9AAAAAAAB8n0AAAAAAAHyfQAAAAAAAfJ9AAAAAAAB8n0AAAAAAAHifQAAAAAAAdJ9AAAAAAAB0n0AAAAAAAHSfQAAAAAAAcJ9AAAAAAABwn0AAAAAAAHCfQAAAAAAAcJ9AAAAAAABwn0AAAAAAAGyfQAAAAAAAbJ9AAAAAAABsn0AAAAAAAGyfQAAAAAAAbJ9AAAAAAABon0AAAAAAAGifQAAAAAAAaJ9AAAAAAABon0AAAAAAAGifQAAAAAAAZJ9AAAAAAABkn0AAAAAAAGCfQAAAAAAAYJ9AAAAAAABcn0AAAAAAAFifQAAAAAAAVJ9A\",\"dtype\":\"float64\",\"order\":\"little\",\"shape\":[42]}},\"selected\":{\"id\":\"1631\"},\"selection_policy\":{\"id\":\"1632\"}},\"id\":\"1589\",\"type\":\"ColumnDataSource\"},{\"attributes\":{\"fill_alpha\":{\"value\":0.1},\"fill_color\":{\"value\":\"orange\"},\"line_alpha\":{\"value\":0.1},\"line_color\":{\"value\":\"#1f77b4\"},\"size\":{\"units\":\"screen\",\"value\":10},\"x\":{\"field\":\"x\"},\"y\":{\"field\":\"y\"}},\"id\":\"1423\",\"type\":\"Circle\"},{\"attributes\":{\"line_color\":\"green\",\"x\":{\"field\":\"release_date\"},\"y\":{\"field\":\"popularity\"}},\"id\":\"1590\",\"type\":\"Line\"},{\"attributes\":{},\"id\":\"1405\",\"type\":\"HelpTool\"},{\"attributes\":{},\"id\":\"1401\",\"type\":\"WheelZoomTool\"},{\"attributes\":{},\"id\":\"1465\",\"type\":\"UnionRenderers\"},{\"attributes\":{},\"id\":\"1400\",\"type\":\"PanTool\"},{\"attributes\":{\"data\":{\"x\":{\"__ndarray__\":\"AAAAnZQRd0IAAIDKDPt2QgAAwKs3vnZCAACAofCpdkIAAEDZr6d2QgAAwAXyXnZCAACAeNRYdkIAAECHdwV2QgAAAFQUoHVCAABAJkMFdUIAAADA1et0QgAAQI7D0XRCAACAY5TNdEIAAICQ8Z10QgAAQGWngHRCAACA8FgidEIAAICFNr9zQgAAAA1pSXNCAACATOjdckIAAED67dNyQgAAwKSPy3JCAABAFA7HckIAAMCxH8VyQgAAgK2FlHJCAACAAsmDckIAAIDncl5yQgAAQBcZFHJCAADA1PfocUIAAACt0zFxQgAAwFP2EXFCAACAKKz0cEIAAMA2NIhwQgAAQOHVf3BCAAAAU4JHcEIAAMBiWyZwQgAAACS5EnBCAACARKECcEIAAABX1zlvQgAAgM8NZm5CAACAMeFObkIAAIBRriVuQgAAgA+oE25CAACAT0LBbUIAAAAM62NtQgAAAATSG21CAAAAomfpa0IAAIAXk8hrQgAAgGS9b2tCAACA8YHEakIAAADQY6JqQgAAgKptt2lCAAAAxkesaEI=\",\"dtype\":\"float64\",\"order\":\"little\",\"shape\":[52]},\"y\":{\"__ndarray__\":\"AAAAAAAAUkCmpaWlpeVRQAAAAAAAQFJAAAAAAADAUkAAAAAAAMBRQAAAAAAAgFJARhdddNFFUUAAAAAAAEBRQAAAAAAAAE5AAAAAAACATUAAAAAAAABPQAAAAAAAgE1AAAAAAACAT0AAAAAAAABMQAAAAAAAgEpAHMdxHMexTUAAAAAAAMBQQAAAAAAAAEtAAAAAAADAUUAAAAAAAIBGQAAAAAAAAFFAAAAAAAAARkAAAAAAAIBNQPHw8PDwcE9AAAAAAACATkAAAAAAAABKQI2w3NMIy0pAAAAAAADgSkAAAAAAAIBGQAAAAAAAgEhAVVVVVVXVSUAAAAAAAIBNQOsGU+Sz7klAAAAAAACAT0AAAAAAAABJQAAAAAAAgElAAAAAAACASkAAAAAAAEBIQAAAAAAAQElAAAAAAACAS0AAAAAAAEBHQAAAAAAAgElAMzMzMzOTTkAAAAAAAABHQAAAAAAAgEhAx3Ecx3EcTUAAAAAAAABJQAAAAAAAgE5AuYKYXEHMSEAAAAAAAABJQAAAAAAAgEBAAAAAAAAATEA=\",\"dtype\":\"float64\",\"order\":\"little\",\"shape\":[52]}},\"selected\":{\"id\":\"1464\"},\"selection_policy\":{\"id\":\"1465\"}},\"id\":\"1421\",\"type\":\"ColumnDataSource\"},{\"attributes\":{},\"id\":\"1386\",\"type\":\"DataRange1d\"},{\"attributes\":{\"overlay\":{\"id\":\"1406\"}},\"id\":\"1402\",\"type\":\"BoxZoomTool\"},{\"attributes\":{},\"id\":\"1403\",\"type\":\"SaveTool\"},{\"attributes\":{\"axis_label\":\"release_date\",\"formatter\":{\"id\":\"1459\"},\"ticker\":{\"id\":\"1393\"}},\"id\":\"1392\",\"type\":\"DatetimeAxis\"},{\"attributes\":{},\"id\":\"1404\",\"type\":\"ResetTool\"},{\"attributes\":{\"active_drag\":\"auto\",\"active_inspect\":\"auto\",\"active_multi\":null,\"active_scroll\":\"auto\",\"active_tap\":\"auto\",\"tools\":[{\"id\":\"1400\"},{\"id\":\"1401\"},{\"id\":\"1402\"},{\"id\":\"1403\"},{\"id\":\"1404\"},{\"id\":\"1405\"}]},\"id\":\"1407\",\"type\":\"Toolbar\"},{\"attributes\":{},\"id\":\"1477\",\"type\":\"YearsTicker\"},{\"attributes\":{\"mantissas\":[1,2,5],\"max_interval\":500.0,\"num_minor_ticks\":0},\"id\":\"1466\",\"type\":\"AdaptiveTicker\"},{\"attributes\":{\"base\":60,\"mantissas\":[1,2,5,10,15,20,30],\"max_interval\":1800000.0,\"min_interval\":1000.0,\"num_minor_ticks\":0},\"id\":\"1467\",\"type\":\"AdaptiveTicker\"},{\"attributes\":{\"source\":{\"id\":\"1414\"}},\"id\":\"1418\",\"type\":\"CDSView\"},{\"attributes\":{\"days\":[1,2,3,4,5,6,7,8,9,10,11,12,13,14,15,16,17,18,19,20,21,22,23,24,25,26,27,28,29,30,31]},\"id\":\"1469\",\"type\":\"DaysTicker\"},{\"attributes\":{\"base\":24,\"mantissas\":[1,2,4,6,8,12],\"max_interval\":43200000.0,\"min_interval\":3600000.0,\"num_minor_ticks\":0},\"id\":\"1468\",\"type\":\"AdaptiveTicker\"},{\"attributes\":{\"num_minor_ticks\":5,\"tickers\":[{\"id\":\"1466\"},{\"id\":\"1467\"},{\"id\":\"1468\"},{\"id\":\"1469\"},{\"id\":\"1470\"},{\"id\":\"1471\"},{\"id\":\"1472\"},{\"id\":\"1473\"},{\"id\":\"1474\"},{\"id\":\"1475\"},{\"id\":\"1476\"},{\"id\":\"1477\"}]},\"id\":\"1393\",\"type\":\"DatetimeTicker\"},{\"attributes\":{},\"id\":\"1632\",\"type\":\"UnionRenderers\"},{\"attributes\":{\"axis\":{\"id\":\"1396\"},\"dimension\":1,\"grid_line_alpha\":0.5,\"ticker\":null},\"id\":\"1399\",\"type\":\"Grid\"},{\"attributes\":{},\"id\":\"1459\",\"type\":\"DatetimeTickFormatter\"},{\"attributes\":{\"months\":[0,1,2,3,4,5,6,7,8,9,10,11]},\"id\":\"1473\",\"type\":\"MonthsTicker\"},{\"attributes\":{\"months\":[0,2,4,6,8,10]},\"id\":\"1474\",\"type\":\"MonthsTicker\"},{\"attributes\":{\"source\":{\"id\":\"1589\"}},\"id\":\"1592\",\"type\":\"CDSView\"},{\"attributes\":{\"days\":[1,4,7,10,13,16,19,22,25,28]},\"id\":\"1470\",\"type\":\"DaysTicker\"},{\"attributes\":{\"days\":[1,15]},\"id\":\"1472\",\"type\":\"DaysTicker\"},{\"attributes\":{\"data_source\":{\"id\":\"1589\"},\"glyph\":{\"id\":\"1590\"},\"hover_glyph\":null,\"muted_glyph\":null,\"view\":{\"id\":\"1592\"}},\"id\":\"1591\",\"type\":\"GlyphRenderer\"},{\"attributes\":{\"months\":[0,6]},\"id\":\"1476\",\"type\":\"MonthsTicker\"},{\"attributes\":{\"days\":[1,8,15,22]},\"id\":\"1471\",\"type\":\"DaysTicker\"},{\"attributes\":{\"months\":[0,4,8]},\"id\":\"1475\",\"type\":\"MonthsTicker\"},{\"attributes\":{\"axis\":{\"id\":\"1392\"},\"grid_line_color\":null,\"ticker\":null},\"id\":\"1395\",\"type\":\"Grid\"},{\"attributes\":{\"bottom_units\":\"screen\",\"fill_alpha\":0.5,\"fill_color\":\"lightgrey\",\"left_units\":\"screen\",\"level\":\"overlay\",\"line_alpha\":1.0,\"line_color\":\"black\",\"line_dash\":[4,4],\"line_width\":2,\"right_units\":\"screen\",\"top_units\":\"screen\"},\"id\":\"1406\",\"type\":\"BoxAnnotation\"},{\"attributes\":{\"data_source\":{\"id\":\"1414\"},\"glyph\":{\"id\":\"1415\"},\"hover_glyph\":null,\"muted_glyph\":null,\"nonselection_glyph\":{\"id\":\"1416\"},\"selection_glyph\":null,\"view\":{\"id\":\"1418\"}},\"id\":\"1417\",\"type\":\"GlyphRenderer\"},{\"attributes\":{},\"id\":\"1461\",\"type\":\"BasicTickFormatter\"},{\"attributes\":{},\"id\":\"1397\",\"type\":\"BasicTicker\"},{\"attributes\":{\"line_alpha\":0.1,\"line_color\":\"#1f77b4\",\"x\":{\"field\":\"x\"},\"y\":{\"field\":\"y\"}},\"id\":\"1416\",\"type\":\"Line\"},{\"attributes\":{\"line_color\":\"#1f77b4\",\"x\":{\"field\":\"x\"},\"y\":{\"field\":\"y\"}},\"id\":\"1415\",\"type\":\"Line\"},{\"attributes\":{\"data_source\":{\"id\":\"1421\"},\"glyph\":{\"id\":\"1422\"},\"hover_glyph\":null,\"muted_glyph\":null,\"nonselection_glyph\":{\"id\":\"1423\"},\"selection_glyph\":null,\"view\":{\"id\":\"1425\"}},\"id\":\"1424\",\"type\":\"GlyphRenderer\"},{\"attributes\":{\"text\":\"la moyenne de popularit\\u00e9 des artistes selon release_date\"},\"id\":\"1382\",\"type\":\"Title\"},{\"attributes\":{},\"id\":\"1390\",\"type\":\"LinearScale\"},{\"attributes\":{},\"id\":\"1462\",\"type\":\"Selection\"},{\"attributes\":{\"axis_label\":\"popularity\",\"formatter\":{\"id\":\"1461\"},\"ticker\":{\"id\":\"1397\"}},\"id\":\"1396\",\"type\":\"LinearAxis\"},{\"attributes\":{},\"id\":\"1463\",\"type\":\"UnionRenderers\"},{\"attributes\":{\"fill_alpha\":{\"value\":0.5},\"fill_color\":{\"value\":\"orange\"},\"line_color\":{\"value\":\"#1f77b4\"},\"size\":{\"units\":\"screen\",\"value\":10},\"x\":{\"field\":\"x\"},\"y\":{\"field\":\"y\"}},\"id\":\"1422\",\"type\":\"Circle\"},{\"attributes\":{},\"id\":\"1631\",\"type\":\"Selection\"},{\"attributes\":{\"data\":{\"x\":{\"__ndarray__\":\"AAAAnZQRd0IAAIDKDPt2QgAAwKs3vnZCAACAofCpdkIAAEDZr6d2QgAAwAXyXnZCAACAeNRYdkIAAECHdwV2QgAAAFQUoHVCAABAJkMFdUIAAADA1et0QgAAQI7D0XRCAACAY5TNdEIAAICQ8Z10QgAAQGWngHRCAACA8FgidEIAAICFNr9zQgAAAA1pSXNCAACATOjdckIAAED67dNyQgAAwKSPy3JCAABAFA7HckIAAMCxH8VyQgAAgK2FlHJCAACAAsmDckIAAIDncl5yQgAAQBcZFHJCAADA1PfocUIAAACt0zFxQgAAwFP2EXFCAACAKKz0cEIAAMA2NIhwQgAAQOHVf3BCAAAAU4JHcEIAAMBiWyZwQgAAACS5EnBCAACARKECcEIAAABX1zlvQgAAgM8NZm5CAACAMeFObkIAAIBRriVuQgAAgA+oE25CAACAT0LBbUIAAAAM62NtQgAAAATSG21CAAAAomfpa0IAAIAXk8hrQgAAgGS9b2tCAACA8YHEakIAAADQY6JqQgAAgKptt2lCAAAAxkesaEI=\",\"dtype\":\"float64\",\"order\":\"little\",\"shape\":[52]},\"y\":{\"__ndarray__\":\"AAAAAAAAUkCmpaWlpeVRQAAAAAAAQFJAAAAAAADAUkAAAAAAAMBRQAAAAAAAgFJARhdddNFFUUAAAAAAAEBRQAAAAAAAAE5AAAAAAACATUAAAAAAAABPQAAAAAAAgE1AAAAAAACAT0AAAAAAAABMQAAAAAAAgEpAHMdxHMexTUAAAAAAAMBQQAAAAAAAAEtAAAAAAADAUUAAAAAAAIBGQAAAAAAAAFFAAAAAAAAARkAAAAAAAIBNQPHw8PDwcE9AAAAAAACATkAAAAAAAABKQI2w3NMIy0pAAAAAAADgSkAAAAAAAIBGQAAAAAAAgEhAVVVVVVXVSUAAAAAAAIBNQOsGU+Sz7klAAAAAAACAT0AAAAAAAABJQAAAAAAAgElAAAAAAACASkAAAAAAAEBIQAAAAAAAQElAAAAAAACAS0AAAAAAAEBHQAAAAAAAgElAMzMzMzOTTkAAAAAAAABHQAAAAAAAgEhAx3Ecx3EcTUAAAAAAAABJQAAAAAAAgE5AuYKYXEHMSEAAAAAAAABJQAAAAAAAgEBAAAAAAAAATEA=\",\"dtype\":\"float64\",\"order\":\"little\",\"shape\":[52]}},\"selected\":{\"id\":\"1462\"},\"selection_policy\":{\"id\":\"1463\"}},\"id\":\"1414\",\"type\":\"ColumnDataSource\"},{\"attributes\":{\"source\":{\"id\":\"1421\"}},\"id\":\"1425\",\"type\":\"CDSView\"},{\"attributes\":{},\"id\":\"1388\",\"type\":\"LinearScale\"},{\"attributes\":{},\"id\":\"1384\",\"type\":\"DataRange1d\"},{\"attributes\":{},\"id\":\"1464\",\"type\":\"Selection\"}],\"root_ids\":[\"1381\"]},\"title\":\"Bokeh Application\",\"version\":\"2.2.3\"}};\n",
       "  var render_items = [{\"docid\":\"137c0c43-ca6c-4d1c-84a8-776405edfc10\",\"root_ids\":[\"1381\"],\"roots\":{\"1381\":\"0eef7a95-689b-4ec0-83a3-d042325c86ff\"}}];\n",
       "  root.Bokeh.embed.embed_items_notebook(docs_json, render_items);\n",
       "\n",
       "  }\n",
       "  if (root.Bokeh !== undefined) {\n",
       "    embed_document(root);\n",
       "  } else {\n",
       "    var attempts = 0;\n",
       "    var timer = setInterval(function(root) {\n",
       "      if (root.Bokeh !== undefined) {\n",
       "        clearInterval(timer);\n",
       "        embed_document(root);\n",
       "      } else {\n",
       "        attempts++;\n",
       "        if (attempts > 100) {\n",
       "          clearInterval(timer);\n",
       "          console.log(\"Bokeh: ERROR: Unable to run BokehJS code because BokehJS library is missing\");\n",
       "        }\n",
       "      }\n",
       "    }, 10, root)\n",
       "  }\n",
       "})(window);"
      ],
      "application/vnd.bokehjs_exec.v0+json": ""
     },
     "metadata": {
      "application/vnd.bokehjs_exec.v0+json": {
       "id": "1381"
      }
     },
     "output_type": "display_data"
    }
   ],
   "source": [
    "# Afficher le graphe\n",
    "show(p)\n"
   ]
  },
  {
   "cell_type": "markdown",
   "metadata": {},
   "source": [
    "<br> En explorant la propriété renderers de votre plot, vous pouvez voir les propriétés et les glyphs le composant. Ceci est utile pour garder trace des composants du graphe, ainsi qur pour lier les composants avec de nouveaux objets comme les items légende par exemple. \n"
   ]
  },
  {
   "cell_type": "code",
   "execution_count": 28,
   "metadata": {},
   "outputs": [
    {
     "data": {
      "text/plain": [
       "[GlyphRenderer(id='1417', ...),\n",
       " GlyphRenderer(id='1424', ...),\n",
       " GlyphRenderer(id='1591', ...)]"
      ]
     },
     "execution_count": 28,
     "metadata": {},
     "output_type": "execute_result"
    }
   ],
   "source": [
    "# Afficher la liste des renderers de votre graphe, quelles sont les propriétés sauvegardées?\n",
    "p.renderers"
   ]
  },
  {
   "cell_type": "markdown",
   "metadata": {},
   "source": [
    "<br> Comme le graphe a deux ligne, on voudrait ajouter une légende pour les différencier. On créera alors Legend items, puis ajoutera la légende à notre graphe."
   ]
  },
  {
   "cell_type": "code",
   "execution_count": 29,
   "metadata": {},
   "outputs": [],
   "source": [
    "from bokeh.models import Legend, LegendItem"
   ]
  },
  {
   "cell_type": "code",
   "execution_count": 30,
   "metadata": {},
   "outputs": [],
   "source": [
    "# Créer deux legend items et leur donner des labels significatifs. Utiliser les renderers pour les pointer sur le bon glyph\n",
    "li1 = LegendItem(label='Eminem', renderers=[p.renderers[0]])\n",
    "li2 = LegendItem(label='Rihanna', renderers=[p.renderers[2]])"
   ]
  },
  {
   "cell_type": "code",
   "execution_count": 31,
   "metadata": {},
   "outputs": [],
   "source": [
    "# Créer l'objet Legend qui inclue les deux legend items. Il est possible de spécifier l'emplacement de la légende\n",
    "legend = Legend(items=[li1, li2], location='top_left')"
   ]
  },
  {
   "cell_type": "code",
   "execution_count": 32,
   "metadata": {},
   "outputs": [],
   "source": [
    "# Ajouter Legend au graphe en utilisant la fonction add_layout\n",
    "p.add_layout(legend)"
   ]
  },
  {
   "cell_type": "code",
   "execution_count": 33,
   "metadata": {},
   "outputs": [
    {
     "data": {
      "text/html": [
       "\n",
       "\n",
       "\n",
       "\n",
       "\n",
       "\n",
       "  <div class=\"bk-root\" id=\"e19a3e9e-b33d-4270-8aba-9a35128260dd\" data-root-id=\"1381\"></div>\n"
      ]
     },
     "metadata": {},
     "output_type": "display_data"
    },
    {
     "data": {
      "application/javascript": [
       "(function(root) {\n",
       "  function embed_document(root) {\n",
       "    \n",
       "  var docs_json = {\"e6d65c9a-c6aa-4656-9ca9-11d8c8842123\":{\"roots\":{\"references\":[{\"attributes\":{\"below\":[{\"id\":\"1392\"}],\"center\":[{\"id\":\"1395\"},{\"id\":\"1399\"},{\"id\":\"1770\"}],\"left\":[{\"id\":\"1396\"}],\"plot_height\":800,\"plot_width\":800,\"renderers\":[{\"id\":\"1417\"},{\"id\":\"1424\"},{\"id\":\"1591\"}],\"title\":{\"id\":\"1382\"},\"toolbar\":{\"id\":\"1407\"},\"x_range\":{\"id\":\"1384\"},\"x_scale\":{\"id\":\"1388\"},\"y_range\":{\"id\":\"1386\"},\"y_scale\":{\"id\":\"1390\"}},\"id\":\"1381\",\"subtype\":\"Figure\",\"type\":\"Plot\"},{\"attributes\":{\"data\":{\"acousticness\":{\"__ndarray__\":\"LGUZ4lgXtz9oO6buyi5IP7kZbsDnh2E/QwsJGF3eTD+Cc0aU9gafP0+vlGWIY50/iUFg5dAimz+u2F92Tx6GP4C3QILix6g/gLdAguLHqD9FtvP91HjJPzY8vVKWIdQ/Ne84RUdyqT/ImLuWkA+qP/mgZ7Pqc70/AAAAAAAA7D8IrBxaZDu/P+F6FK5H4ao/2c73U+Ol0z89CtejcD3uP9NqSNxj6cc/R+F6FK5H3j8hvc5zMfPCPzLO34RCBFw/JRYLVq811D+3bfJuP/PCP0frqGqCqIs/EHo2qz5Xmz/SAN4CCYpvPymzQSYZOZs/eOkmMQis1D8HGuTMOpS/P2gAb4EExcE/DQIrhxbZzj9Kk1LQ7SW9P1nyiyW/WMI/lkOLbOf70T+TGARWDi2yP6Ydo+E5ALM/yp9vC5bqsj9yGw3gLZDLP3cv98lRgKA/\",\"dtype\":\"float64\",\"order\":\"little\",\"shape\":[42]},\"danceability\":{\"__ndarray__\":\"hetRuB6F2z93vp8aL93oPxxaZDvfT+0/w/UoXI/C6T+PwvUoXI/aPwRWDi2yneM/dJMYBFYO5T+F61G4HoXnP8ZLN4lBYOk/xks3iUFg6T8pXI/C9SjkP+58PzVeuuE/oBov3SQG2T/KoUW28/3oP0w3iUFg5eA/OrTIdr6f4j9pke18PzXmP8qhRbbz/eg/bef7qfHS6T+sHFpkO9/jP2wJ+aBns+Q/9ihcj8L14j+7SQwCK4fmP+58PzVeutk/80T9G6GM4j+IiIiIiIjmP3Roke18P+c/VOOlm8Qg5D8zMzMzMzPbP166SQwCK+c/tvP91Hjp4j8V1Cwfq9DjPy2yne+nxuU/LIcW2c735z9nRGlv8IXlP4ekKRVnH94/001iEFg55D8AAAAAAADYP65p3nGKjuY/EjY8vVKW5T+mm8QgsHLkP4XrUbgehec/\",\"dtype\":\"float64\",\"order\":\"little\",\"shape\":[42]},\"duration_ms\":{\"__ndarray__\":\"AAAAAJhdBkEAAAAA2JkLQQAAAADY0QpBAAAAANjuAUEAAAAA+LAOQQAAAADA+whBAAAAAADBC0EAAAAAANgEQQAAAAA0ExBBAAAAADQTEEEAAAAAgB4LQUmSJElOpAhBAAAAAISKE0EAAAAAUMUKQQAAAAA0Sw5BAAAAAHD6BkEAAAAAmEAJQQAAAABoig5BAAAAAFgnDUEAAAAAGGINQZqZmZl1jQpBAAAAAPhuDEFVVVVV2dwGQQAAAAA4jwpBq6qqqnoeDEFVVVVV2dwGQQAAAADM8gtBAAAAACzuEEEAAAAAgDMNQQAAAABgpQhBAAAAALRbEEE5juM4dtYPQQAAAABEVA5BAAAAADQTEEGamZmZaXYNQQAAAACA5gtBAAAAAABUEEEAAAAAlK4UQQAAAADgrAxBMzMzM6v7DkEAAAAA1PMLQQAAAABAvAxB\",\"dtype\":\"float64\",\"order\":\"little\",\"shape\":[42]},\"energy\":{\"__ndarray__\":\"ZmZmZmZm5j+gGi/dJAblP90kBoGVQ+c/uB6F61G45j8EVg4tsp3XP5duEoPAyuU/H4XrUbge4T8EVg4tsp3fP0w3iUFg5eQ/TDeJQWDl5D8YBFYOLbLtP39edzh9/N8/16NwPQrX5z+yne+nxkvnP6AaL90kBuc/nMQgsHJo0T/sUbgehevpP7Kd76fGS+s/EVg5tMh25j/Xo3A9CtfTP6W9wRcmU+M/UrgehetR4D+7SQwCK4foP2ZmZmZmZuY/a7x0kxgE4j/sCpB7zYXoPwIrhxbZzuk/exSuR+F64D8UrkfhehTmP57vp8ZLN+k/Rbbz/dR47T9swRZswRboP3WTGARWDuY/mpmZmZmZ7T+u+lxtxf7mP5huEoPAyuU/xSCwcmiR7T8v3SQGgZXrP8Dsnjws1OY/k6mCUUmd6D8nMQisHFrkP79Y8oslv+Q/\",\"dtype\":\"float64\",\"order\":\"little\",\"shape\":[42]},\"explicit\":{\"__ndarray__\":\"AAAAAAAA8D8AAAAAAADwPwAAAAAAAPA/AAAAAAAA8D8AAAAAAADwPwAAAAAAAPA/AAAAAAAA8D8AAAAAAADwPwAAAAAAAPA/AAAAAAAA8D8AAAAAAAAAALdt27Zt2+Y/AAAAAAAAAAAAAAAAAADwPwAAAAAAAAAAAAAAAAAAAAAAAAAAAAAAAAAAAAAAAPA/AAAAAAAA8D8AAAAAAAAAAGZmZmZmZuY/AAAAAAAAAAAAAAAAAADgPwAAAAAAAAAAAAAAAAAAAAAAAAAAAADgPwAAAAAAAAAAAAAAAAAA8D8AAAAAAAAAAAAAAAAAAOA/AAAAAAAA8D9VVVVVVVXVPwAAAAAAAAAAAAAAAAAA8D+amZmZmZnJP6uqqqqqquo/AAAAAAAA8D8AAAAAAADwPwAAAAAAAAAAAAAAAAAAAAAAAAAAAAAAAAAAAAAAAAAA\",\"dtype\":\"float64\",\"order\":\"little\",\"shape\":[42]},\"instrumentalness\":{\"__ndarray__\":\"AAAAAAAAAAD0VhtrmATMPhoXDoRkASM/w5SSL7Ku+z6fOMKasQXgPgAAAAAAAAAAAAAAAAAAAAAH04s1t52xPhjyYycXvgk/GPJjJxe+CT9YObTIdr6/P/OgjgdnSkA/AAAAAAAAAABEymhHHkbAPgAAAAAAAAAAAAAAAAAAAAAAAAAAAAAAAAAAAAAAAAAAAAAAAAAAAADCxHr+DwsQP56YLw6yVUc/wsR6/g8LAD9Z2RrtlOpuP+C04EVfQXo/rVtOUxVk9T7fqzIvY+ZuP1rY0w5/TYY/Edd7O9OV6T7SAN4CCYqPPwAAAAAAAAAAAAAAAAAAAAACW6anEBD0PqpB4mjYOQc/AAAAAAAAAAAW6AOXAUYLP9iITVEbwv4+AAAAAAAAAAAAAAAAAAAAAMXlMTAWeYo/u90/1IVxmj+S1zm81pTqPpPLf0i/fU0/\",\"dtype\":\"float64\",\"order\":\"little\",\"shape\":[42]},\"key\":{\"__ndarray__\":\"AAAAAAAAGEAAAAAAAADwPwAAAAAAAPA/AAAAAAAA8D8AAAAAAAAgQAAAAAAAACBAAAAAAAAAIkAAAAAAAAAgQAAAAAAAABxAAAAAAAAAHEAAAAAAAAAiQNu2bdu2bRdAAAAAAAAAAEAAAAAAAADwPwAAAAAAAARAAAAAAAAAAEAAAAAAAAAmQAAAAAAAAPA/AAAAAAAAGEAAAAAAAAAiQM3MzMzMzBRAAAAAAAAAJEBVVVVVVVUJQAAAAAAAACJAq6qqqqqqJEBVVVVVVVUJQAAAAAAAAOA/AAAAAAAAAAAAAAAAAAAAAAAAAAAAAAxAAAAAAAAA8D/kOI7jOI4XQAAAAAAAABVAAAAAAAAAJEDNzMzMzMwYQAAAAAAAABRAAAAAAAAA8D8AAAAAAAAmQDMzMzMzMxVAZmZmZmZmBkAAAAAAAAAWQKuqqqqqqhpA\",\"dtype\":\"float64\",\"order\":\"little\",\"shape\":[42]},\"liveness\":{\"__ndarray__\":\"2873U+Olyz8kufyH9Nu3P2mR7Xw/Nb4/tvP91Hjp1j9PjZduEoPYP1TjpZvEIMA/mpmZmZmZyT/azvdT46W7P5qZmZmZmbk/mpmZmZmZuT+MbOf7qfHCP3/Ebh3fncI/dJMYBFYO1T+mm8QgsHLQPw4tsp3vp74/pHA9CtejwD8/NV66SQzCP7gehetRuL4/0SLb+X5qvD/AyqFFtvO9P8gHPZtVn8M/ILByaJHtvD+4rNUxwYPJP6abxCCwcsg/Q9KUirMPvz+3rNUxwYPJP3WTGARWDsU/QYLix5i7tj+R7Xw/NV7SP+f7qfHSTcY/hxbZzvdT0z/c/iBDZYfBP7bz/dR46bY/pHA9Ctej4D+qZWt9kdC2P/0boYzeltE/okW28/3U0D82XrpJDALLP7kUV5V9V8A/otEdxM4Uwj9ns+pztRXQP0CC4seYu7Y/\",\"dtype\":\"float64\",\"order\":\"little\",\"shape\":[42]},\"loudness\":{\"__ndarray__\":\"ZmZmZmZmFcAj2/l+arwZwNNNYhBYORrAxSCwcmiRGsBKDAIrhxYkwIPAyqFFtgjAnO+nxkv3IcAhsHJokW0ewEBg5dAiWx/AQGDl0CJbH8Cyne+nxksGwJrcqiifIBrAyXa+nxovGcAGgZVDi+wTwK0cWmQ7nxPA2s73U+OlFsCmm8QgsHIMwHE9CtejcA3Axks3iUFgGsCHFtnO91MkwIqO5PIf0hrAXrpJDAIrHsDYo3A9CpcWwHbpJjEIrBfAq6qqqqoqHMCLsw+fYZcWwGZmZmZmphXAne+nxku3JMD8qfHSTeIYwDEIrBxa5BDAZDvfT42X/L+bC0lTKs4RwPLSTWIQOBDAiUFg5dAiFMAooImw4ekQwBVnHz7D7hLAoUW28/3U/L+BlUOLbOcKwMwQx7q4DRXAg+LHmLsWFcDRItv5fkoYwEOLbOf7KR3A\",\"dtype\":\"float64\",\"order\":\"little\",\"shape\":[42]},\"mode\":{\"__ndarray__\":\"AAAAAAAA8D8AAAAAAADwPwAAAAAAAPA/AAAAAAAA8D8AAAAAAADwPwAAAAAAAPA/AAAAAAAAAAAAAAAAAAAAAAAAAAAAAPA/AAAAAAAA8D8AAAAAAAAAAJIkSZIkSeI/AAAAAAAA8D8AAAAAAADwPwAAAAAAAOA/AAAAAAAA8D8AAAAAAAAAAAAAAAAAAAAAAAAAAAAAAAAAAAAAAAAAADMzMzMzM9M/AAAAAAAAAABVVVVVVVXlPwAAAAAAAAAAAAAAAAAAAABVVVVVVVXlPwAAAAAAAOA/AAAAAAAAAAAAAAAAAADwPwAAAAAAAOA/AAAAAAAA8D9VVVVVVVXlPwAAAAAAAOg/AAAAAAAA8D+amZmZmZnpPwAAAAAAAOA/AAAAAAAA8D8AAAAAAAAAAAAAAAAAAOA/MzMzMzMz4z8AAAAAAADQP1VVVVVVVeU/\",\"dtype\":\"float64\",\"order\":\"little\",\"shape\":[42]},\"popularity\":{\"__ndarray__\":\"AAAAAACAVUAAAAAAAABQQAAAAAAAQFBAAAAAAAAATUAAAAAAAABQQAAAAAAAgFBAAAAAAABAUkAAAAAAAABPQAAAAAAAAE1AAAAAAABAUkAAAAAAAMBTQLdt27Ztm1BAAAAAAAAATkAAAAAAAMBSQAAAAAAAwEtAAAAAAADAU0AAAAAAAABQQAAAAAAAgFBAAAAAAAAAT0AAAAAAAABIQM3MzMzMTEtAAAAAAABATkBVVVVVVdVKQAAAAAAAAE1Aq6qqqqqqT0AAAAAAAMBOQAAAAAAAoFFAAAAAAAAAUkAAAAAAAEBQQAAAAAAAwElAAAAAAAAASkBVVVVVVdVKQAAAAAAAAE9AAAAAAABAVEBmZmZmZuZNQAAAAAAAQE1AAAAAAACAUUAAAAAAAMBSQGZmZmZmZlBAzczMzMzMTEAAAAAAAEBPQKuqqqqqKk5A\",\"dtype\":\"float64\",\"order\":\"little\",\"shape\":[42]},\"release_date\":{\"__ndarray__\":\"AAAAnZQRd0IAAAB+ZiN2QgAAQId3BXZCAACA85ECdkIAAIB8Fdh1QgAAQJPRzHVCAACAJpy2dUIAAMDN2a91QgAAgJp2SnVCAABA0jVIdUIAAAAK9UV1QgAAAHlYKHVCAABAm1PLdEIAAAAONsV0QgAAwNw+xHRCAABAz5OxdEIAAEA23kt0QgAAgPBYInRCAADAE4r3c0IAAICFNr9zQgAAwCx0uHNCAAAAxyG4c0IAAEAldolzQgAAAHdVenNCAAAADWlJc0IAAMD1kTtzQgAAAJA/O3NCAADAXkg6c0IAAECgMzNzQgAAQPrt03JCAABAFA7HckIAAMCxH8VyQgAAAEzNxHJCAACArYWUckIAAIDncl5yQgAAADbuUHJCAABAMm85ckIAAIAf9MNxQgAAACxppHFCAACASa/9cEIAAACQEahwQgAAAIj4X3BC\",\"dtype\":\"float64\",\"order\":\"little\",\"shape\":[42]},\"speechiness\":{\"__ndarray__\":\"TDeJQWDl0D+8dJMYBFbOP3uDL0ymCrY/LbKd76fG0z+cM6K0N/iyPwn5oGez6rM/LSEf9GxWrT9xPQrXo3C9P5LtfD81Xro/ku18PzVeuj9txf6ye/KgP7BnDLS9GrE//mX35GGhtj96xyk6ksuvPzjWxW00gKc/uycPC7WmqT9d/kP67euwP+f7qfHSTbI/EqW9wRcmsz9CPujZrPqcP1z+Q/rt67A/zojS3uALoz/Q/a9NPeWrP11txf6ye6I/K4cW2c73oz+RXP5D+u2rPxwN4C2QoLA/9ihcj8L10D8N4C2QoPihP+C+DpwzosA/1XjpJjEI1D+6JOFV6QG2P/kP6bevA6c/dJMYBFYOzT8CK4cW2c6nP33Qs1n1ubo/j8L1KFyP0j9SuB6F61HQPyMf9GxWfa4/2xZlNsgksz8nMQisHFrCP0PSlIqzD78/\",\"dtype\":\"float64\",\"order\":\"little\",\"shape\":[42]},\"tempo\":{\"__ndarray__\":\"Di2yne/LY0A6tMh2vr9nQCyHFtnOv1dAxSCwcmjBZ0A6tMh2vu9XQDq0yHa+Z1hAsp3vp8arW0AMAiuHFuVgQGQ730+Nf11AZDvfT41/XUASg8DKof1eQLew7EVzvl1AhetRuB6NU0CPwvUoXL9ZQClcj8L10mFAT42XbhK7aUDl0CLb+T5hQEFg5dAig1tA30+Nl26CXED91HjpJvlbQANWDi2yoV9ASOF6FK57WUBlrY4JHgBcQJqZmZmZQVVAUf9GKKOnWEDotIFOGwBcQO58PzVe/l9ArkfhehR2XkCPwvUoXD9VQMUgsHJoX2FAv8qhRbazVUAklNHbsm5fQJLtfD81XmBAnO+nxku/VUCQMXctIRdgQOm0gU4b2GNAvHSTGAS2VUD0/dR46fpjQFJJnYAmalxArbZif9ktXkDgT42XbtxeQBXZzvdTM1dA\",\"dtype\":\"float64\",\"order\":\"little\",\"shape\":[42]},\"valence\":{\"__ndarray__\":\"MQisHFpk5z9cj8L1KFzPP+58PzVeusk/N4lBYOXQwj/l8h/Sb1+3PwIrhxbZzuM/N4lBYOXQ2j/o+6nx0k3CP/P91HjpJtk/8/3UeOkm2T/D9Shcj8LdPzGOzjplcts/tvP91Hjp3j9I4XoUrkfZP2ZmZmZmZuA/Di2yne+n1j+S7Xw/NV7qPyuHFtnO9+M/z/dT46Wb3D8AAAAAAADAP8oyxLEubtc/+n5qvHST0D9o2BUg95rfP39qvHSTGNQ/S8XZh8+w0z/ZzvdT46XfP05iEFg5tOA/iUFg5dAi0z9t5/up8dLNPycxCKwcWuI/MQisHFpk2z9MyntgeMPhPyLb+X5qvOI/T42XbhKD5D+vlGWIY13gP22g0wY6beA/001iEFg53D9kO99PjZfeP1qoNc07TuU/eHqlLEMc4z/FILByaJHjPwAAAAAAAOQ/\",\"dtype\":\"float64\",\"order\":\"little\",\"shape\":[42]},\"year\":{\"__ndarray__\":\"AAAAAACQn0AAAAAAAIifQAAAAAAAhJ9AAAAAAACEn0AAAAAAAISfQAAAAAAAhJ9AAAAAAACEn0AAAAAAAISfQAAAAAAAgJ9AAAAAAACAn0AAAAAAAICfQAAAAAAAgJ9AAAAAAAB8n0AAAAAAAHyfQAAAAAAAfJ9AAAAAAAB8n0AAAAAAAHifQAAAAAAAdJ9AAAAAAAB0n0AAAAAAAHSfQAAAAAAAcJ9AAAAAAABwn0AAAAAAAHCfQAAAAAAAcJ9AAAAAAABwn0AAAAAAAGyfQAAAAAAAbJ9AAAAAAABsn0AAAAAAAGyfQAAAAAAAbJ9AAAAAAABon0AAAAAAAGifQAAAAAAAaJ9AAAAAAABon0AAAAAAAGifQAAAAAAAZJ9AAAAAAABkn0AAAAAAAGCfQAAAAAAAYJ9AAAAAAABcn0AAAAAAAFifQAAAAAAAVJ9A\",\"dtype\":\"float64\",\"order\":\"little\",\"shape\":[42]}},\"selected\":{\"id\":\"1631\"},\"selection_policy\":{\"id\":\"1632\"}},\"id\":\"1589\",\"type\":\"ColumnDataSource\"},{\"attributes\":{\"fill_alpha\":{\"value\":0.1},\"fill_color\":{\"value\":\"orange\"},\"line_alpha\":{\"value\":0.1},\"line_color\":{\"value\":\"#1f77b4\"},\"size\":{\"units\":\"screen\",\"value\":10},\"x\":{\"field\":\"x\"},\"y\":{\"field\":\"y\"}},\"id\":\"1423\",\"type\":\"Circle\"},{\"attributes\":{\"line_color\":\"green\",\"x\":{\"field\":\"release_date\"},\"y\":{\"field\":\"popularity\"}},\"id\":\"1590\",\"type\":\"Line\"},{\"attributes\":{},\"id\":\"1405\",\"type\":\"HelpTool\"},{\"attributes\":{},\"id\":\"1401\",\"type\":\"WheelZoomTool\"},{\"attributes\":{},\"id\":\"1465\",\"type\":\"UnionRenderers\"},{\"attributes\":{},\"id\":\"1400\",\"type\":\"PanTool\"},{\"attributes\":{\"data\":{\"x\":{\"__ndarray__\":\"AAAAnZQRd0IAAIDKDPt2QgAAwKs3vnZCAACAofCpdkIAAEDZr6d2QgAAwAXyXnZCAACAeNRYdkIAAECHdwV2QgAAAFQUoHVCAABAJkMFdUIAAADA1et0QgAAQI7D0XRCAACAY5TNdEIAAICQ8Z10QgAAQGWngHRCAACA8FgidEIAAICFNr9zQgAAAA1pSXNCAACATOjdckIAAED67dNyQgAAwKSPy3JCAABAFA7HckIAAMCxH8VyQgAAgK2FlHJCAACAAsmDckIAAIDncl5yQgAAQBcZFHJCAADA1PfocUIAAACt0zFxQgAAwFP2EXFCAACAKKz0cEIAAMA2NIhwQgAAQOHVf3BCAAAAU4JHcEIAAMBiWyZwQgAAACS5EnBCAACARKECcEIAAABX1zlvQgAAgM8NZm5CAACAMeFObkIAAIBRriVuQgAAgA+oE25CAACAT0LBbUIAAAAM62NtQgAAAATSG21CAAAAomfpa0IAAIAXk8hrQgAAgGS9b2tCAACA8YHEakIAAADQY6JqQgAAgKptt2lCAAAAxkesaEI=\",\"dtype\":\"float64\",\"order\":\"little\",\"shape\":[52]},\"y\":{\"__ndarray__\":\"AAAAAAAAUkCmpaWlpeVRQAAAAAAAQFJAAAAAAADAUkAAAAAAAMBRQAAAAAAAgFJARhdddNFFUUAAAAAAAEBRQAAAAAAAAE5AAAAAAACATUAAAAAAAABPQAAAAAAAgE1AAAAAAACAT0AAAAAAAABMQAAAAAAAgEpAHMdxHMexTUAAAAAAAMBQQAAAAAAAAEtAAAAAAADAUUAAAAAAAIBGQAAAAAAAAFFAAAAAAAAARkAAAAAAAIBNQPHw8PDwcE9AAAAAAACATkAAAAAAAABKQI2w3NMIy0pAAAAAAADgSkAAAAAAAIBGQAAAAAAAgEhAVVVVVVXVSUAAAAAAAIBNQOsGU+Sz7klAAAAAAACAT0AAAAAAAABJQAAAAAAAgElAAAAAAACASkAAAAAAAEBIQAAAAAAAQElAAAAAAACAS0AAAAAAAEBHQAAAAAAAgElAMzMzMzOTTkAAAAAAAABHQAAAAAAAgEhAx3Ecx3EcTUAAAAAAAABJQAAAAAAAgE5AuYKYXEHMSEAAAAAAAABJQAAAAAAAgEBAAAAAAAAATEA=\",\"dtype\":\"float64\",\"order\":\"little\",\"shape\":[52]}},\"selected\":{\"id\":\"1464\"},\"selection_policy\":{\"id\":\"1465\"}},\"id\":\"1421\",\"type\":\"ColumnDataSource\"},{\"attributes\":{},\"id\":\"1386\",\"type\":\"DataRange1d\"},{\"attributes\":{\"overlay\":{\"id\":\"1406\"}},\"id\":\"1402\",\"type\":\"BoxZoomTool\"},{\"attributes\":{},\"id\":\"1403\",\"type\":\"SaveTool\"},{\"attributes\":{\"axis_label\":\"release_date\",\"formatter\":{\"id\":\"1459\"},\"ticker\":{\"id\":\"1393\"}},\"id\":\"1392\",\"type\":\"DatetimeAxis\"},{\"attributes\":{},\"id\":\"1404\",\"type\":\"ResetTool\"},{\"attributes\":{\"active_drag\":\"auto\",\"active_inspect\":\"auto\",\"active_multi\":null,\"active_scroll\":\"auto\",\"active_tap\":\"auto\",\"tools\":[{\"id\":\"1400\"},{\"id\":\"1401\"},{\"id\":\"1402\"},{\"id\":\"1403\"},{\"id\":\"1404\"},{\"id\":\"1405\"}]},\"id\":\"1407\",\"type\":\"Toolbar\"},{\"attributes\":{},\"id\":\"1477\",\"type\":\"YearsTicker\"},{\"attributes\":{\"mantissas\":[1,2,5],\"max_interval\":500.0,\"num_minor_ticks\":0},\"id\":\"1466\",\"type\":\"AdaptiveTicker\"},{\"attributes\":{\"base\":60,\"mantissas\":[1,2,5,10,15,20,30],\"max_interval\":1800000.0,\"min_interval\":1000.0,\"num_minor_ticks\":0},\"id\":\"1467\",\"type\":\"AdaptiveTicker\"},{\"attributes\":{\"label\":{\"value\":\"Rihanna\"},\"renderers\":[{\"id\":\"1591\"}]},\"id\":\"1769\",\"type\":\"LegendItem\"},{\"attributes\":{\"source\":{\"id\":\"1414\"}},\"id\":\"1418\",\"type\":\"CDSView\"},{\"attributes\":{\"days\":[1,2,3,4,5,6,7,8,9,10,11,12,13,14,15,16,17,18,19,20,21,22,23,24,25,26,27,28,29,30,31]},\"id\":\"1469\",\"type\":\"DaysTicker\"},{\"attributes\":{\"label\":{\"value\":\"Eminem\"},\"renderers\":[{\"id\":\"1417\"}]},\"id\":\"1768\",\"type\":\"LegendItem\"},{\"attributes\":{\"base\":24,\"mantissas\":[1,2,4,6,8,12],\"max_interval\":43200000.0,\"min_interval\":3600000.0,\"num_minor_ticks\":0},\"id\":\"1468\",\"type\":\"AdaptiveTicker\"},{\"attributes\":{\"num_minor_ticks\":5,\"tickers\":[{\"id\":\"1466\"},{\"id\":\"1467\"},{\"id\":\"1468\"},{\"id\":\"1469\"},{\"id\":\"1470\"},{\"id\":\"1471\"},{\"id\":\"1472\"},{\"id\":\"1473\"},{\"id\":\"1474\"},{\"id\":\"1475\"},{\"id\":\"1476\"},{\"id\":\"1477\"}]},\"id\":\"1393\",\"type\":\"DatetimeTicker\"},{\"attributes\":{},\"id\":\"1632\",\"type\":\"UnionRenderers\"},{\"attributes\":{\"axis\":{\"id\":\"1396\"},\"dimension\":1,\"grid_line_alpha\":0.5,\"ticker\":null},\"id\":\"1399\",\"type\":\"Grid\"},{\"attributes\":{},\"id\":\"1459\",\"type\":\"DatetimeTickFormatter\"},{\"attributes\":{\"months\":[0,1,2,3,4,5,6,7,8,9,10,11]},\"id\":\"1473\",\"type\":\"MonthsTicker\"},{\"attributes\":{\"months\":[0,2,4,6,8,10]},\"id\":\"1474\",\"type\":\"MonthsTicker\"},{\"attributes\":{\"source\":{\"id\":\"1589\"}},\"id\":\"1592\",\"type\":\"CDSView\"},{\"attributes\":{\"days\":[1,4,7,10,13,16,19,22,25,28]},\"id\":\"1470\",\"type\":\"DaysTicker\"},{\"attributes\":{\"days\":[1,15]},\"id\":\"1472\",\"type\":\"DaysTicker\"},{\"attributes\":{\"data_source\":{\"id\":\"1589\"},\"glyph\":{\"id\":\"1590\"},\"hover_glyph\":null,\"muted_glyph\":null,\"view\":{\"id\":\"1592\"}},\"id\":\"1591\",\"type\":\"GlyphRenderer\"},{\"attributes\":{\"months\":[0,6]},\"id\":\"1476\",\"type\":\"MonthsTicker\"},{\"attributes\":{\"days\":[1,8,15,22]},\"id\":\"1471\",\"type\":\"DaysTicker\"},{\"attributes\":{\"months\":[0,4,8]},\"id\":\"1475\",\"type\":\"MonthsTicker\"},{\"attributes\":{\"axis\":{\"id\":\"1392\"},\"grid_line_color\":null,\"ticker\":null},\"id\":\"1395\",\"type\":\"Grid\"},{\"attributes\":{\"bottom_units\":\"screen\",\"fill_alpha\":0.5,\"fill_color\":\"lightgrey\",\"left_units\":\"screen\",\"level\":\"overlay\",\"line_alpha\":1.0,\"line_color\":\"black\",\"line_dash\":[4,4],\"line_width\":2,\"right_units\":\"screen\",\"top_units\":\"screen\"},\"id\":\"1406\",\"type\":\"BoxAnnotation\"},{\"attributes\":{\"data_source\":{\"id\":\"1414\"},\"glyph\":{\"id\":\"1415\"},\"hover_glyph\":null,\"muted_glyph\":null,\"nonselection_glyph\":{\"id\":\"1416\"},\"selection_glyph\":null,\"view\":{\"id\":\"1418\"}},\"id\":\"1417\",\"type\":\"GlyphRenderer\"},{\"attributes\":{},\"id\":\"1461\",\"type\":\"BasicTickFormatter\"},{\"attributes\":{},\"id\":\"1397\",\"type\":\"BasicTicker\"},{\"attributes\":{\"line_alpha\":0.1,\"line_color\":\"#1f77b4\",\"x\":{\"field\":\"x\"},\"y\":{\"field\":\"y\"}},\"id\":\"1416\",\"type\":\"Line\"},{\"attributes\":{\"line_color\":\"#1f77b4\",\"x\":{\"field\":\"x\"},\"y\":{\"field\":\"y\"}},\"id\":\"1415\",\"type\":\"Line\"},{\"attributes\":{\"data_source\":{\"id\":\"1421\"},\"glyph\":{\"id\":\"1422\"},\"hover_glyph\":null,\"muted_glyph\":null,\"nonselection_glyph\":{\"id\":\"1423\"},\"selection_glyph\":null,\"view\":{\"id\":\"1425\"}},\"id\":\"1424\",\"type\":\"GlyphRenderer\"},{\"attributes\":{\"items\":[{\"id\":\"1768\"},{\"id\":\"1769\"}],\"location\":\"top_left\"},\"id\":\"1770\",\"type\":\"Legend\"},{\"attributes\":{\"text\":\"la moyenne de popularit\\u00e9 des artistes selon release_date\"},\"id\":\"1382\",\"type\":\"Title\"},{\"attributes\":{},\"id\":\"1390\",\"type\":\"LinearScale\"},{\"attributes\":{},\"id\":\"1462\",\"type\":\"Selection\"},{\"attributes\":{\"axis_label\":\"popularity\",\"formatter\":{\"id\":\"1461\"},\"ticker\":{\"id\":\"1397\"}},\"id\":\"1396\",\"type\":\"LinearAxis\"},{\"attributes\":{},\"id\":\"1463\",\"type\":\"UnionRenderers\"},{\"attributes\":{\"fill_alpha\":{\"value\":0.5},\"fill_color\":{\"value\":\"orange\"},\"line_color\":{\"value\":\"#1f77b4\"},\"size\":{\"units\":\"screen\",\"value\":10},\"x\":{\"field\":\"x\"},\"y\":{\"field\":\"y\"}},\"id\":\"1422\",\"type\":\"Circle\"},{\"attributes\":{},\"id\":\"1631\",\"type\":\"Selection\"},{\"attributes\":{\"data\":{\"x\":{\"__ndarray__\":\"AAAAnZQRd0IAAIDKDPt2QgAAwKs3vnZCAACAofCpdkIAAEDZr6d2QgAAwAXyXnZCAACAeNRYdkIAAECHdwV2QgAAAFQUoHVCAABAJkMFdUIAAADA1et0QgAAQI7D0XRCAACAY5TNdEIAAICQ8Z10QgAAQGWngHRCAACA8FgidEIAAICFNr9zQgAAAA1pSXNCAACATOjdckIAAED67dNyQgAAwKSPy3JCAABAFA7HckIAAMCxH8VyQgAAgK2FlHJCAACAAsmDckIAAIDncl5yQgAAQBcZFHJCAADA1PfocUIAAACt0zFxQgAAwFP2EXFCAACAKKz0cEIAAMA2NIhwQgAAQOHVf3BCAAAAU4JHcEIAAMBiWyZwQgAAACS5EnBCAACARKECcEIAAABX1zlvQgAAgM8NZm5CAACAMeFObkIAAIBRriVuQgAAgA+oE25CAACAT0LBbUIAAAAM62NtQgAAAATSG21CAAAAomfpa0IAAIAXk8hrQgAAgGS9b2tCAACA8YHEakIAAADQY6JqQgAAgKptt2lCAAAAxkesaEI=\",\"dtype\":\"float64\",\"order\":\"little\",\"shape\":[52]},\"y\":{\"__ndarray__\":\"AAAAAAAAUkCmpaWlpeVRQAAAAAAAQFJAAAAAAADAUkAAAAAAAMBRQAAAAAAAgFJARhdddNFFUUAAAAAAAEBRQAAAAAAAAE5AAAAAAACATUAAAAAAAABPQAAAAAAAgE1AAAAAAACAT0AAAAAAAABMQAAAAAAAgEpAHMdxHMexTUAAAAAAAMBQQAAAAAAAAEtAAAAAAADAUUAAAAAAAIBGQAAAAAAAAFFAAAAAAAAARkAAAAAAAIBNQPHw8PDwcE9AAAAAAACATkAAAAAAAABKQI2w3NMIy0pAAAAAAADgSkAAAAAAAIBGQAAAAAAAgEhAVVVVVVXVSUAAAAAAAIBNQOsGU+Sz7klAAAAAAACAT0AAAAAAAABJQAAAAAAAgElAAAAAAACASkAAAAAAAEBIQAAAAAAAQElAAAAAAACAS0AAAAAAAEBHQAAAAAAAgElAMzMzMzOTTkAAAAAAAABHQAAAAAAAgEhAx3Ecx3EcTUAAAAAAAABJQAAAAAAAgE5AuYKYXEHMSEAAAAAAAABJQAAAAAAAgEBAAAAAAAAATEA=\",\"dtype\":\"float64\",\"order\":\"little\",\"shape\":[52]}},\"selected\":{\"id\":\"1462\"},\"selection_policy\":{\"id\":\"1463\"}},\"id\":\"1414\",\"type\":\"ColumnDataSource\"},{\"attributes\":{\"source\":{\"id\":\"1421\"}},\"id\":\"1425\",\"type\":\"CDSView\"},{\"attributes\":{},\"id\":\"1388\",\"type\":\"LinearScale\"},{\"attributes\":{},\"id\":\"1384\",\"type\":\"DataRange1d\"},{\"attributes\":{},\"id\":\"1464\",\"type\":\"Selection\"}],\"root_ids\":[\"1381\"]},\"title\":\"Bokeh Application\",\"version\":\"2.2.3\"}};\n",
       "  var render_items = [{\"docid\":\"e6d65c9a-c6aa-4656-9ca9-11d8c8842123\",\"root_ids\":[\"1381\"],\"roots\":{\"1381\":\"e19a3e9e-b33d-4270-8aba-9a35128260dd\"}}];\n",
       "  root.Bokeh.embed.embed_items_notebook(docs_json, render_items);\n",
       "\n",
       "  }\n",
       "  if (root.Bokeh !== undefined) {\n",
       "    embed_document(root);\n",
       "  } else {\n",
       "    var attempts = 0;\n",
       "    var timer = setInterval(function(root) {\n",
       "      if (root.Bokeh !== undefined) {\n",
       "        clearInterval(timer);\n",
       "        embed_document(root);\n",
       "      } else {\n",
       "        attempts++;\n",
       "        if (attempts > 100) {\n",
       "          clearInterval(timer);\n",
       "          console.log(\"Bokeh: ERROR: Unable to run BokehJS code because BokehJS library is missing\");\n",
       "        }\n",
       "      }\n",
       "    }, 10, root)\n",
       "  }\n",
       "})(window);"
      ],
      "application/vnd.bokehjs_exec.v0+json": ""
     },
     "metadata": {
      "application/vnd.bokehjs_exec.v0+json": {
       "id": "1381"
      }
     },
     "output_type": "display_data"
    }
   ],
   "source": [
    "# Afficher votre graphe à nouveau\n",
    "show(p)"
   ]
  },
  {
   "cell_type": "code",
   "execution_count": 34,
   "metadata": {},
   "outputs": [
    {
     "data": {
      "text/plain": [
       "[GlyphRenderer(id='1417', ...),\n",
       " GlyphRenderer(id='1424', ...),\n",
       " GlyphRenderer(id='1591', ...)]"
      ]
     },
     "execution_count": 34,
     "metadata": {},
     "output_type": "execute_result"
    }
   ],
   "source": [
    "# Afficher la liste des renderers. Arrivez-vous à voir les nouveaux composants?\n",
    "p.renderers #non, why?"
   ]
  },
  {
   "cell_type": "markdown",
   "metadata": {},
   "source": [
    "<br></br> \n",
    "\n",
    "### Graphes supplémentaires (données catégoriques, whiskers, propriétés visuelles...):\n",
    "\n",
    "Pour visualiser les données catégoriques, on a tendance à utiliser des graphes à barres. En se basant sur votre fichier (TP1) contenant le nombre des pistes duos par artiste (collaborateur) et la moyenne des variables du même artiste, créer Un graphe à bar + Ligne. Voir https://docs.bokeh.org/en/latest/docs/user_guide/categorical.html. \n",
    "\n",
    "Vous pouvez également explorer le nombre de pistes selon les clés et leur popularité respective en utilisant les whiskers par exemple https://docs.bokeh.org/en/latest/docs/user_guide/annotations.html#whiskers.\n",
    "\n",
    "Penser à donner des titres, des labels... à vos graphes, axes etc. Pour plus de détails sur les propriétés visuelles, voir: https://docs.bokeh.org/en/latest/docs/user_guide/styling.html"
   ]
  },
  {
   "cell_type": "markdown",
   "metadata": {},
   "source": [
    "##### Exemple de gestion des données catégoriques dans un graphe Bokeh: "
   ]
  },
  {
   "cell_type": "code",
   "execution_count": 35,
   "metadata": {},
   "outputs": [
    {
     "data": {
      "text/plain": [
       "Index(['acousticness', 'artists', 'number of artists', 'danceability',\n",
       "       'duration_ms', 'energy', 'explicit', 'id', 'instrumentalness', 'key',\n",
       "       'liveness', 'loudness', 'mode', 'name', 'popularity', 'release_date',\n",
       "       'speechiness', 'tempo', 'valence', 'year', 'first_artist',\n",
       "       'second_artist'],\n",
       "      dtype='object')"
      ]
     },
     "execution_count": 35,
     "metadata": {},
     "output_type": "execute_result"
    }
   ],
   "source": [
    "# Lire le fichiers des duos sauvegardé du TP1 dans une dataframe \n",
    "df = pd.read_csv(\"./music_dataset/data_duo.csv\")\n",
    "df.columns"
   ]
  },
  {
   "cell_type": "code",
   "execution_count": 36,
   "metadata": {},
   "outputs": [
    {
     "data": {
      "text/html": [
       "<div>\n",
       "<style scoped>\n",
       "    .dataframe tbody tr th:only-of-type {\n",
       "        vertical-align: middle;\n",
       "    }\n",
       "\n",
       "    .dataframe tbody tr th {\n",
       "        vertical-align: top;\n",
       "    }\n",
       "\n",
       "    .dataframe thead th {\n",
       "        text-align: right;\n",
       "    }\n",
       "</style>\n",
       "<table border=\"1\" class=\"dataframe\">\n",
       "  <thead>\n",
       "    <tr style=\"text-align: right;\">\n",
       "      <th></th>\n",
       "      <th>first_artist</th>\n",
       "      <th>second_artist</th>\n",
       "      <th>acousticness</th>\n",
       "      <th>number of artists</th>\n",
       "      <th>danceability</th>\n",
       "      <th>duration_ms</th>\n",
       "      <th>energy</th>\n",
       "      <th>explicit</th>\n",
       "      <th>instrumentalness</th>\n",
       "      <th>key</th>\n",
       "      <th>liveness</th>\n",
       "      <th>loudness</th>\n",
       "      <th>mode</th>\n",
       "      <th>popularity</th>\n",
       "      <th>speechiness</th>\n",
       "      <th>tempo</th>\n",
       "      <th>valence</th>\n",
       "      <th>year</th>\n",
       "    </tr>\n",
       "  </thead>\n",
       "  <tbody>\n",
       "    <tr>\n",
       "      <th>7178</th>\n",
       "      <td>Powfu</td>\n",
       "      <td>beabadoobee</td>\n",
       "      <td>0.73100</td>\n",
       "      <td>2.0</td>\n",
       "      <td>0.726</td>\n",
       "      <td>173333.0</td>\n",
       "      <td>0.431</td>\n",
       "      <td>0.0</td>\n",
       "      <td>0.000000</td>\n",
       "      <td>8.0</td>\n",
       "      <td>0.6960</td>\n",
       "      <td>-8.765</td>\n",
       "      <td>0.0</td>\n",
       "      <td>97.0</td>\n",
       "      <td>0.1350</td>\n",
       "      <td>144.026</td>\n",
       "      <td>0.348</td>\n",
       "      <td>2020.0</td>\n",
       "    </tr>\n",
       "    <tr>\n",
       "      <th>758</th>\n",
       "      <td>BENEE</td>\n",
       "      <td>Gus Dapperton</td>\n",
       "      <td>0.30500</td>\n",
       "      <td>2.0</td>\n",
       "      <td>0.863</td>\n",
       "      <td>223480.0</td>\n",
       "      <td>0.631</td>\n",
       "      <td>1.0</td>\n",
       "      <td>0.000030</td>\n",
       "      <td>7.0</td>\n",
       "      <td>0.1230</td>\n",
       "      <td>-4.689</td>\n",
       "      <td>1.0</td>\n",
       "      <td>95.0</td>\n",
       "      <td>0.0534</td>\n",
       "      <td>128.977</td>\n",
       "      <td>0.817</td>\n",
       "      <td>2019.0</td>\n",
       "    </tr>\n",
       "    <tr>\n",
       "      <th>8331</th>\n",
       "      <td>Surf Mesa</td>\n",
       "      <td>Emilee</td>\n",
       "      <td>0.06860</td>\n",
       "      <td>2.0</td>\n",
       "      <td>0.674</td>\n",
       "      <td>176547.0</td>\n",
       "      <td>0.774</td>\n",
       "      <td>0.0</td>\n",
       "      <td>0.001880</td>\n",
       "      <td>11.0</td>\n",
       "      <td>0.3930</td>\n",
       "      <td>-7.567</td>\n",
       "      <td>0.0</td>\n",
       "      <td>95.0</td>\n",
       "      <td>0.0892</td>\n",
       "      <td>112.050</td>\n",
       "      <td>0.330</td>\n",
       "      <td>2019.0</td>\n",
       "    </tr>\n",
       "    <tr>\n",
       "      <th>611</th>\n",
       "      <td>Ariana Grande</td>\n",
       "      <td>Justin Bieber</td>\n",
       "      <td>0.22300</td>\n",
       "      <td>2.0</td>\n",
       "      <td>0.597</td>\n",
       "      <td>228482.0</td>\n",
       "      <td>0.450</td>\n",
       "      <td>0.0</td>\n",
       "      <td>0.000000</td>\n",
       "      <td>8.0</td>\n",
       "      <td>0.3820</td>\n",
       "      <td>-6.658</td>\n",
       "      <td>1.0</td>\n",
       "      <td>94.0</td>\n",
       "      <td>0.0418</td>\n",
       "      <td>178.765</td>\n",
       "      <td>0.537</td>\n",
       "      <td>2020.0</td>\n",
       "    </tr>\n",
       "    <tr>\n",
       "      <th>4748</th>\n",
       "      <td>KAROL G</td>\n",
       "      <td>Nicki Minaj</td>\n",
       "      <td>0.29500</td>\n",
       "      <td>2.0</td>\n",
       "      <td>0.803</td>\n",
       "      <td>200960.0</td>\n",
       "      <td>0.715</td>\n",
       "      <td>0.0</td>\n",
       "      <td>0.000134</td>\n",
       "      <td>2.0</td>\n",
       "      <td>0.0574</td>\n",
       "      <td>-3.280</td>\n",
       "      <td>1.0</td>\n",
       "      <td>92.0</td>\n",
       "      <td>0.2980</td>\n",
       "      <td>101.085</td>\n",
       "      <td>0.574</td>\n",
       "      <td>2019.0</td>\n",
       "    </tr>\n",
       "    <tr>\n",
       "      <th>8861</th>\n",
       "      <td>Topic</td>\n",
       "      <td>A7S</td>\n",
       "      <td>0.22300</td>\n",
       "      <td>2.0</td>\n",
       "      <td>0.789</td>\n",
       "      <td>166794.0</td>\n",
       "      <td>0.720</td>\n",
       "      <td>0.0</td>\n",
       "      <td>0.000000</td>\n",
       "      <td>8.0</td>\n",
       "      <td>0.1290</td>\n",
       "      <td>-5.652</td>\n",
       "      <td>0.0</td>\n",
       "      <td>92.0</td>\n",
       "      <td>0.2180</td>\n",
       "      <td>122.031</td>\n",
       "      <td>0.664</td>\n",
       "      <td>2019.0</td>\n",
       "    </tr>\n",
       "    <tr>\n",
       "      <th>6022</th>\n",
       "      <td>Marshmello</td>\n",
       "      <td>Halsey</td>\n",
       "      <td>0.00776</td>\n",
       "      <td>2.0</td>\n",
       "      <td>0.630</td>\n",
       "      <td>172762.0</td>\n",
       "      <td>0.633</td>\n",
       "      <td>0.0</td>\n",
       "      <td>0.000000</td>\n",
       "      <td>4.0</td>\n",
       "      <td>0.0541</td>\n",
       "      <td>-7.088</td>\n",
       "      <td>1.0</td>\n",
       "      <td>91.0</td>\n",
       "      <td>0.0457</td>\n",
       "      <td>93.995</td>\n",
       "      <td>0.452</td>\n",
       "      <td>2020.0</td>\n",
       "    </tr>\n",
       "    <tr>\n",
       "      <th>5170</th>\n",
       "      <td>Lady Gaga</td>\n",
       "      <td>Ariana Grande</td>\n",
       "      <td>0.02100</td>\n",
       "      <td>2.0</td>\n",
       "      <td>0.672</td>\n",
       "      <td>182200.0</td>\n",
       "      <td>0.855</td>\n",
       "      <td>0.0</td>\n",
       "      <td>0.000000</td>\n",
       "      <td>9.0</td>\n",
       "      <td>0.3230</td>\n",
       "      <td>-3.764</td>\n",
       "      <td>1.0</td>\n",
       "      <td>90.5</td>\n",
       "      <td>0.0397</td>\n",
       "      <td>123.056</td>\n",
       "      <td>0.646</td>\n",
       "      <td>2020.0</td>\n",
       "    </tr>\n",
       "    <tr>\n",
       "      <th>7273</th>\n",
       "      <td>ROSALÍA</td>\n",
       "      <td>Travis Scott</td>\n",
       "      <td>0.19200</td>\n",
       "      <td>2.0</td>\n",
       "      <td>0.776</td>\n",
       "      <td>129371.0</td>\n",
       "      <td>0.509</td>\n",
       "      <td>0.0</td>\n",
       "      <td>0.000001</td>\n",
       "      <td>0.0</td>\n",
       "      <td>0.1150</td>\n",
       "      <td>-6.266</td>\n",
       "      <td>0.0</td>\n",
       "      <td>90.0</td>\n",
       "      <td>0.4670</td>\n",
       "      <td>94.634</td>\n",
       "      <td>0.485</td>\n",
       "      <td>2020.0</td>\n",
       "    </tr>\n",
       "    <tr>\n",
       "      <th>1029</th>\n",
       "      <td>Billie Eilish</td>\n",
       "      <td>Khalid</td>\n",
       "      <td>0.93400</td>\n",
       "      <td>2.0</td>\n",
       "      <td>0.351</td>\n",
       "      <td>200186.0</td>\n",
       "      <td>0.296</td>\n",
       "      <td>0.0</td>\n",
       "      <td>0.000000</td>\n",
       "      <td>4.0</td>\n",
       "      <td>0.0950</td>\n",
       "      <td>-10.109</td>\n",
       "      <td>0.0</td>\n",
       "      <td>89.0</td>\n",
       "      <td>0.0333</td>\n",
       "      <td>115.284</td>\n",
       "      <td>0.120</td>\n",
       "      <td>2018.0</td>\n",
       "    </tr>\n",
       "  </tbody>\n",
       "</table>\n",
       "</div>"
      ],
      "text/plain": [
       "       first_artist   second_artist  acousticness  number of artists  \\\n",
       "7178          Powfu     beabadoobee       0.73100                2.0   \n",
       "758           BENEE   Gus Dapperton       0.30500                2.0   \n",
       "8331      Surf Mesa          Emilee       0.06860                2.0   \n",
       "611   Ariana Grande   Justin Bieber       0.22300                2.0   \n",
       "4748        KAROL G     Nicki Minaj       0.29500                2.0   \n",
       "8861          Topic             A7S       0.22300                2.0   \n",
       "6022     Marshmello          Halsey       0.00776                2.0   \n",
       "5170      Lady Gaga   Ariana Grande       0.02100                2.0   \n",
       "7273        ROSALÍA    Travis Scott       0.19200                2.0   \n",
       "1029  Billie Eilish          Khalid       0.93400                2.0   \n",
       "\n",
       "      danceability  duration_ms  energy  explicit  instrumentalness   key  \\\n",
       "7178         0.726     173333.0   0.431       0.0          0.000000   8.0   \n",
       "758          0.863     223480.0   0.631       1.0          0.000030   7.0   \n",
       "8331         0.674     176547.0   0.774       0.0          0.001880  11.0   \n",
       "611          0.597     228482.0   0.450       0.0          0.000000   8.0   \n",
       "4748         0.803     200960.0   0.715       0.0          0.000134   2.0   \n",
       "8861         0.789     166794.0   0.720       0.0          0.000000   8.0   \n",
       "6022         0.630     172762.0   0.633       0.0          0.000000   4.0   \n",
       "5170         0.672     182200.0   0.855       0.0          0.000000   9.0   \n",
       "7273         0.776     129371.0   0.509       0.0          0.000001   0.0   \n",
       "1029         0.351     200186.0   0.296       0.0          0.000000   4.0   \n",
       "\n",
       "      liveness  loudness  mode  popularity  speechiness    tempo  valence  \\\n",
       "7178    0.6960    -8.765   0.0        97.0       0.1350  144.026    0.348   \n",
       "758     0.1230    -4.689   1.0        95.0       0.0534  128.977    0.817   \n",
       "8331    0.3930    -7.567   0.0        95.0       0.0892  112.050    0.330   \n",
       "611     0.3820    -6.658   1.0        94.0       0.0418  178.765    0.537   \n",
       "4748    0.0574    -3.280   1.0        92.0       0.2980  101.085    0.574   \n",
       "8861    0.1290    -5.652   0.0        92.0       0.2180  122.031    0.664   \n",
       "6022    0.0541    -7.088   1.0        91.0       0.0457   93.995    0.452   \n",
       "5170    0.3230    -3.764   1.0        90.5       0.0397  123.056    0.646   \n",
       "7273    0.1150    -6.266   0.0        90.0       0.4670   94.634    0.485   \n",
       "1029    0.0950   -10.109   0.0        89.0       0.0333  115.284    0.120   \n",
       "\n",
       "        year  \n",
       "7178  2020.0  \n",
       "758   2019.0  \n",
       "8331  2019.0  \n",
       "611   2020.0  \n",
       "4748  2019.0  \n",
       "8861  2019.0  \n",
       "6022  2020.0  \n",
       "5170  2020.0  \n",
       "7273  2020.0  \n",
       "1029  2018.0  "
      ]
     },
     "execution_count": 36,
     "metadata": {},
     "output_type": "execute_result"
    }
   ],
   "source": [
    "# Créer une nouvelle dataframe qui calcule les moyennes des variables d'une paire d'artistes et les ordonnes par leur popularité ascendante \n",
    "# pour n'en prendre que les 10 premiers\n",
    "df_agg = df.groupby(['first_artist', 'second_artist']).mean().reset_index()\n",
    "df10 = df_agg.sort_values(by='popularity', ascending=False).head(10)\n",
    "df10"
   ]
  },
  {
   "cell_type": "code",
   "execution_count": 37,
   "metadata": {},
   "outputs": [],
   "source": [
    "from bokeh.palettes import Magma10\n",
    "from bokeh.transform import factor_cmap"
   ]
  },
  {
   "cell_type": "code",
   "execution_count": 38,
   "metadata": {},
   "outputs": [],
   "source": [
    "# Créer une ColumnDataSource avec la nouvelle dataframe\n",
    "cds = ColumnDataSource(df10)"
   ]
  },
  {
   "cell_type": "code",
   "execution_count": 39,
   "metadata": {},
   "outputs": [
    {
     "data": {
      "text/plain": [
       "[97.0, 95.0, 95.0, 94.0, 92.0, 92.0, 91.0, 90.5, 90.0, 89.0]"
      ]
     },
     "execution_count": 39,
     "metadata": {},
     "output_type": "execute_result"
    }
   ],
   "source": [
    "# Créer une liste contenant la liste des premiers artistes des duos\n",
    "list1 = df10[\"first_artist\"].unique().tolist()\n",
    "list2 = df10[\"popularity\"].tolist()\n",
    "list2"
   ]
  },
  {
   "cell_type": "code",
   "execution_count": 40,
   "metadata": {},
   "outputs": [],
   "source": [
    "# Créer une figure en indiquant que l'axe x aura une liste de valeur qui est la liste des artistes créée, penser à utiliser l'argument x_range\n",
    "p = figure(x_range=list1,plot_width=1000, plot_height=1000, toolbar_location=None, title=\"Artists & popularity\")"
   ]
  },
  {
   "cell_type": "code",
   "execution_count": 41,
   "metadata": {},
   "outputs": [
    {
     "data": {
      "text/html": [
       "<div style=\"display: table;\"><div style=\"display: table-row;\"><div style=\"display: table-cell;\"><b title=\"bokeh.models.renderers.GlyphRenderer\">GlyphRenderer</b>(</div><div style=\"display: table-cell;\">id&nbsp;=&nbsp;'1982', <span id=\"1995\" style=\"cursor: pointer;\">&hellip;)</span></div></div><div class=\"1994\" style=\"display: none;\"><div style=\"display: table-cell;\"></div><div style=\"display: table-cell;\">data_source&nbsp;=&nbsp;ColumnDataSource(id='1977', ...),</div></div><div class=\"1994\" style=\"display: none;\"><div style=\"display: table-cell;\"></div><div style=\"display: table-cell;\">glyph&nbsp;=&nbsp;VBar(id='1980', ...),</div></div><div class=\"1994\" style=\"display: none;\"><div style=\"display: table-cell;\"></div><div style=\"display: table-cell;\">hover_glyph&nbsp;=&nbsp;None,</div></div><div class=\"1994\" style=\"display: none;\"><div style=\"display: table-cell;\"></div><div style=\"display: table-cell;\">js_event_callbacks&nbsp;=&nbsp;{},</div></div><div class=\"1994\" style=\"display: none;\"><div style=\"display: table-cell;\"></div><div style=\"display: table-cell;\">js_property_callbacks&nbsp;=&nbsp;{},</div></div><div class=\"1994\" style=\"display: none;\"><div style=\"display: table-cell;\"></div><div style=\"display: table-cell;\">level&nbsp;=&nbsp;'glyph',</div></div><div class=\"1994\" style=\"display: none;\"><div style=\"display: table-cell;\"></div><div style=\"display: table-cell;\">muted&nbsp;=&nbsp;False,</div></div><div class=\"1994\" style=\"display: none;\"><div style=\"display: table-cell;\"></div><div style=\"display: table-cell;\">muted_glyph&nbsp;=&nbsp;None,</div></div><div class=\"1994\" style=\"display: none;\"><div style=\"display: table-cell;\"></div><div style=\"display: table-cell;\">name&nbsp;=&nbsp;None,</div></div><div class=\"1994\" style=\"display: none;\"><div style=\"display: table-cell;\"></div><div style=\"display: table-cell;\">nonselection_glyph&nbsp;=&nbsp;VBar(id='1981', ...),</div></div><div class=\"1994\" style=\"display: none;\"><div style=\"display: table-cell;\"></div><div style=\"display: table-cell;\">selection_glyph&nbsp;=&nbsp;None,</div></div><div class=\"1994\" style=\"display: none;\"><div style=\"display: table-cell;\"></div><div style=\"display: table-cell;\">subscribed_events&nbsp;=&nbsp;[],</div></div><div class=\"1994\" style=\"display: none;\"><div style=\"display: table-cell;\"></div><div style=\"display: table-cell;\">tags&nbsp;=&nbsp;[],</div></div><div class=\"1994\" style=\"display: none;\"><div style=\"display: table-cell;\"></div><div style=\"display: table-cell;\">view&nbsp;=&nbsp;CDSView(id='1983', ...),</div></div><div class=\"1994\" style=\"display: none;\"><div style=\"display: table-cell;\"></div><div style=\"display: table-cell;\">visible&nbsp;=&nbsp;True,</div></div><div class=\"1994\" style=\"display: none;\"><div style=\"display: table-cell;\"></div><div style=\"display: table-cell;\">x_range_name&nbsp;=&nbsp;'default',</div></div><div class=\"1994\" style=\"display: none;\"><div style=\"display: table-cell;\"></div><div style=\"display: table-cell;\">y_range_name&nbsp;=&nbsp;'default')</div></div></div>\n",
       "<script>\n",
       "(function() {\n",
       "  var expanded = false;\n",
       "  var ellipsis = document.getElementById(\"1995\");\n",
       "  ellipsis.addEventListener(\"click\", function() {\n",
       "    var rows = document.getElementsByClassName(\"1994\");\n",
       "    for (var i = 0; i < rows.length; i++) {\n",
       "      var el = rows[i];\n",
       "      el.style.display = expanded ? \"none\" : \"table-row\";\n",
       "    }\n",
       "    ellipsis.innerHTML = expanded ? \"&hellip;)\" : \"&lsaquo;&lsaquo;&lsaquo;\";\n",
       "    expanded = !expanded;\n",
       "  });\n",
       "})();\n",
       "</script>\n"
      ],
      "text/plain": [
       "GlyphRenderer(id='1982', ...)"
      ]
     },
     "execution_count": 41,
     "metadata": {},
     "output_type": "execute_result"
    }
   ],
   "source": [
    "# Créer un graphe à barres verticales avec les premiers artistes dans l'axe x et popularity comme valeur, \n",
    "# changer les couleurs des barres en fonction des valeurs catégoriques en utilisant l'argument fill_color et la fonction factor_map\n",
    "source = ColumnDataSource(data=dict(list1=list1, list2=list2))\n",
    "p.vbar(x='list1', top='list2', width=0.9, source=source, legend_field=\"list1\",\n",
    "       line_color='white', fill_color=factor_cmap('list1', palette=Magma10, factors=list1))"
   ]
  },
  {
   "cell_type": "code",
   "execution_count": 42,
   "metadata": {},
   "outputs": [
    {
     "data": {
      "text/html": [
       "\n",
       "\n",
       "\n",
       "\n",
       "\n",
       "\n",
       "  <div class=\"bk-root\" id=\"d733b9f9-748f-4e0b-8be2-8c2f2a6c28cc\" data-root-id=\"1945\"></div>\n"
      ]
     },
     "metadata": {},
     "output_type": "display_data"
    },
    {
     "data": {
      "application/javascript": [
       "(function(root) {\n",
       "  function embed_document(root) {\n",
       "    \n",
       "  var docs_json = {\"c2613282-3d06-41e4-9d8e-1e6485d18172\":{\"roots\":{\"references\":[{\"attributes\":{\"below\":[{\"id\":\"1956\"}],\"center\":[{\"id\":\"1958\"},{\"id\":\"1962\"},{\"id\":\"1992\"}],\"left\":[{\"id\":\"1959\"}],\"plot_height\":1000,\"plot_width\":1000,\"renderers\":[{\"id\":\"1982\"}],\"title\":{\"id\":\"1946\"},\"toolbar\":{\"id\":\"1970\"},\"toolbar_location\":null,\"x_range\":{\"id\":\"1948\"},\"x_scale\":{\"id\":\"1952\"},\"y_range\":{\"id\":\"1950\"},\"y_scale\":{\"id\":\"1954\"}},\"id\":\"1945\",\"subtype\":\"Figure\",\"type\":\"Plot\"},{\"attributes\":{},\"id\":\"1954\",\"type\":\"LinearScale\"},{\"attributes\":{\"fill_color\":{\"field\":\"list1\",\"transform\":{\"id\":\"1978\"}},\"line_color\":{\"value\":\"white\"},\"top\":{\"field\":\"list2\"},\"width\":{\"value\":0.9},\"x\":{\"field\":\"list1\"}},\"id\":\"1980\",\"type\":\"VBar\"},{\"attributes\":{},\"id\":\"1950\",\"type\":\"DataRange1d\"},{\"attributes\":{\"factors\":[\"Powfu\",\"BENEE\",\"Surf Mesa\",\"Ariana Grande\",\"KAROL G\",\"Topic\",\"Marshmello\",\"Lady Gaga\",\"ROSAL\\u00cdA\",\"Billie Eilish\"],\"palette\":[\"#000003\",\"#170F3C\",\"#430F75\",\"#711F81\",\"#9E2E7E\",\"#CB3E71\",\"#F0605D\",\"#FC9366\",\"#FEC78B\",\"#FBFCBF\"]},\"id\":\"1978\",\"type\":\"CategoricalColorMapper\"},{\"attributes\":{\"data\":{\"list1\":[\"Powfu\",\"BENEE\",\"Surf Mesa\",\"Ariana Grande\",\"KAROL G\",\"Topic\",\"Marshmello\",\"Lady Gaga\",\"ROSAL\\u00cdA\",\"Billie Eilish\"],\"list2\":[97.0,95.0,95.0,94.0,92.0,92.0,91.0,90.5,90.0,89.0]},\"selected\":{\"id\":\"1989\"},\"selection_policy\":{\"id\":\"1990\"}},\"id\":\"1977\",\"type\":\"ColumnDataSource\"},{\"attributes\":{},\"id\":\"1968\",\"type\":\"HelpTool\"},{\"attributes\":{},\"id\":\"1990\",\"type\":\"UnionRenderers\"},{\"attributes\":{\"text\":\"Artists & popularity\"},\"id\":\"1946\",\"type\":\"Title\"},{\"attributes\":{\"formatter\":{\"id\":\"1988\"},\"ticker\":{\"id\":\"1960\"}},\"id\":\"1959\",\"type\":\"LinearAxis\"},{\"attributes\":{\"factors\":[\"Powfu\",\"BENEE\",\"Surf Mesa\",\"Ariana Grande\",\"KAROL G\",\"Topic\",\"Marshmello\",\"Lady Gaga\",\"ROSAL\\u00cdA\",\"Billie Eilish\"]},\"id\":\"1948\",\"type\":\"FactorRange\"},{\"attributes\":{\"source\":{\"id\":\"1977\"}},\"id\":\"1983\",\"type\":\"CDSView\"},{\"attributes\":{\"label\":{\"field\":\"list1\"},\"renderers\":[{\"id\":\"1982\"}]},\"id\":\"1993\",\"type\":\"LegendItem\"},{\"attributes\":{\"data_source\":{\"id\":\"1977\"},\"glyph\":{\"id\":\"1980\"},\"hover_glyph\":null,\"muted_glyph\":null,\"nonselection_glyph\":{\"id\":\"1981\"},\"selection_glyph\":null,\"view\":{\"id\":\"1983\"}},\"id\":\"1982\",\"type\":\"GlyphRenderer\"},{\"attributes\":{\"items\":[{\"id\":\"1993\"}]},\"id\":\"1992\",\"type\":\"Legend\"},{\"attributes\":{},\"id\":\"1989\",\"type\":\"Selection\"},{\"attributes\":{},\"id\":\"1967\",\"type\":\"ResetTool\"},{\"attributes\":{},\"id\":\"1964\",\"type\":\"WheelZoomTool\"},{\"attributes\":{},\"id\":\"1960\",\"type\":\"BasicTicker\"},{\"attributes\":{\"bottom_units\":\"screen\",\"fill_alpha\":0.5,\"fill_color\":\"lightgrey\",\"left_units\":\"screen\",\"level\":\"overlay\",\"line_alpha\":1.0,\"line_color\":\"black\",\"line_dash\":[4,4],\"line_width\":2,\"right_units\":\"screen\",\"top_units\":\"screen\"},\"id\":\"1969\",\"type\":\"BoxAnnotation\"},{\"attributes\":{},\"id\":\"1963\",\"type\":\"PanTool\"},{\"attributes\":{\"overlay\":{\"id\":\"1969\"}},\"id\":\"1965\",\"type\":\"BoxZoomTool\"},{\"attributes\":{\"axis\":{\"id\":\"1956\"},\"ticker\":null},\"id\":\"1958\",\"type\":\"Grid\"},{\"attributes\":{\"active_drag\":\"auto\",\"active_inspect\":\"auto\",\"active_multi\":null,\"active_scroll\":\"auto\",\"active_tap\":\"auto\",\"tools\":[{\"id\":\"1963\"},{\"id\":\"1964\"},{\"id\":\"1965\"},{\"id\":\"1966\"},{\"id\":\"1967\"},{\"id\":\"1968\"}]},\"id\":\"1970\",\"type\":\"Toolbar\"},{\"attributes\":{\"fill_alpha\":{\"value\":0.1},\"fill_color\":{\"field\":\"list1\",\"transform\":{\"id\":\"1978\"}},\"line_alpha\":{\"value\":0.1},\"line_color\":{\"value\":\"white\"},\"top\":{\"field\":\"list2\"},\"width\":{\"value\":0.9},\"x\":{\"field\":\"list1\"}},\"id\":\"1981\",\"type\":\"VBar\"},{\"attributes\":{},\"id\":\"1986\",\"type\":\"CategoricalTickFormatter\"},{\"attributes\":{\"formatter\":{\"id\":\"1986\"},\"ticker\":{\"id\":\"1957\"}},\"id\":\"1956\",\"type\":\"CategoricalAxis\"},{\"attributes\":{},\"id\":\"1988\",\"type\":\"BasicTickFormatter\"},{\"attributes\":{\"axis\":{\"id\":\"1959\"},\"dimension\":1,\"ticker\":null},\"id\":\"1962\",\"type\":\"Grid\"},{\"attributes\":{},\"id\":\"1966\",\"type\":\"SaveTool\"},{\"attributes\":{},\"id\":\"1957\",\"type\":\"CategoricalTicker\"},{\"attributes\":{},\"id\":\"1952\",\"type\":\"CategoricalScale\"}],\"root_ids\":[\"1945\"]},\"title\":\"Bokeh Application\",\"version\":\"2.2.3\"}};\n",
       "  var render_items = [{\"docid\":\"c2613282-3d06-41e4-9d8e-1e6485d18172\",\"root_ids\":[\"1945\"],\"roots\":{\"1945\":\"d733b9f9-748f-4e0b-8be2-8c2f2a6c28cc\"}}];\n",
       "  root.Bokeh.embed.embed_items_notebook(docs_json, render_items);\n",
       "\n",
       "  }\n",
       "  if (root.Bokeh !== undefined) {\n",
       "    embed_document(root);\n",
       "  } else {\n",
       "    var attempts = 0;\n",
       "    var timer = setInterval(function(root) {\n",
       "      if (root.Bokeh !== undefined) {\n",
       "        clearInterval(timer);\n",
       "        embed_document(root);\n",
       "      } else {\n",
       "        attempts++;\n",
       "        if (attempts > 100) {\n",
       "          clearInterval(timer);\n",
       "          console.log(\"Bokeh: ERROR: Unable to run BokehJS code because BokehJS library is missing\");\n",
       "        }\n",
       "      }\n",
       "    }, 10, root)\n",
       "  }\n",
       "})(window);"
      ],
      "application/vnd.bokehjs_exec.v0+json": ""
     },
     "metadata": {
      "application/vnd.bokehjs_exec.v0+json": {
       "id": "1945"
      }
     },
     "output_type": "display_data"
    }
   ],
   "source": [
    "show(p)"
   ]
  },
  {
   "cell_type": "markdown",
   "metadata": {},
   "source": [
    "<br></br>\n",
    "## C. Création de multiples visualisations"
   ]
  },
  {
   "cell_type": "markdown",
   "metadata": {},
   "source": [
    "Lors de la création des data visualisations, nous avons tendance à afficher de multiple graphes sur le même ecran. Ceci peut être fait en organisant les graphes avec les layouts. L'utilisateion des layouts, tabs, et les grids peut nous permettre de lier entre multiple graphes en utilisant les mêmes axes. Ce qui rend a comparaison entre les différents graphes plus facile et précis."
   ]
  },
  {
   "cell_type": "markdown",
   "metadata": {},
   "source": [
    "#### 1. Création de multiple graphes selon la même ligne "
   ]
  },
  {
   "cell_type": "markdown",
   "metadata": {},
   "source": [
    "Afin d'organiser nos graphes selon la même ligne, on crée en premier lieu 3 graphes pour trois artistes de votre choix."
   ]
  },
  {
   "cell_type": "code",
   "execution_count": 70,
   "metadata": {},
   "outputs": [
    {
     "data": {
      "text/html": [
       "\n",
       "\n",
       "\n",
       "\n",
       "\n",
       "\n",
       "  <div class=\"bk-root\" id=\"79345d6d-981d-4e2b-bcae-fa6f42c36d78\" data-root-id=\"5607\"></div>\n"
      ]
     },
     "metadata": {},
     "output_type": "display_data"
    },
    {
     "data": {
      "application/javascript": [
       "(function(root) {\n",
       "  function embed_document(root) {\n",
       "    \n",
       "  var docs_json = {\"f5b7b702-3953-4a95-bb63-1f2e8c72c00c\":{\"roots\":{\"references\":[{\"attributes\":{\"below\":[{\"id\":\"5618\"}],\"center\":[{\"id\":\"5621\"},{\"id\":\"5625\"}],\"left\":[{\"id\":\"5622\"}],\"plot_height\":300,\"plot_width\":300,\"renderers\":[{\"id\":\"5643\"}],\"title\":{\"id\":\"5608\"},\"toolbar\":{\"id\":\"5633\"},\"x_range\":{\"id\":\"5610\"},\"x_scale\":{\"id\":\"5614\"},\"y_range\":{\"id\":\"5612\"},\"y_scale\":{\"id\":\"5616\"}},\"id\":\"5607\",\"subtype\":\"Figure\",\"type\":\"Plot\"},{\"attributes\":{},\"id\":\"5879\",\"type\":\"Selection\"},{\"attributes\":{\"line_color\":\"#1f77b4\",\"x\":{\"field\":\"x\"},\"y\":{\"field\":\"y\"}},\"id\":\"5641\",\"type\":\"Line\"},{\"attributes\":{},\"id\":\"5880\",\"type\":\"UnionRenderers\"},{\"attributes\":{\"line_alpha\":0.1,\"line_color\":\"#1f77b4\",\"x\":{\"field\":\"x\"},\"y\":{\"field\":\"y\"}},\"id\":\"5642\",\"type\":\"Line\"},{\"attributes\":{\"source\":{\"id\":\"5640\"}},\"id\":\"5644\",\"type\":\"CDSView\"},{\"attributes\":{\"axis\":{\"id\":\"5622\"},\"dimension\":1,\"ticker\":null},\"id\":\"5625\",\"type\":\"Grid\"},{\"attributes\":{\"formatter\":{\"id\":\"5876\"},\"ticker\":{\"id\":\"5619\"}},\"id\":\"5618\",\"type\":\"LinearAxis\"},{\"attributes\":{\"bottom_units\":\"screen\",\"fill_alpha\":0.5,\"fill_color\":\"lightgrey\",\"left_units\":\"screen\",\"level\":\"overlay\",\"line_alpha\":1.0,\"line_color\":\"black\",\"line_dash\":[4,4],\"line_width\":2,\"right_units\":\"screen\",\"top_units\":\"screen\"},\"id\":\"5632\",\"type\":\"BoxAnnotation\"},{\"attributes\":{},\"id\":\"5612\",\"type\":\"DataRange1d\"},{\"attributes\":{\"overlay\":{\"id\":\"5632\"}},\"id\":\"5628\",\"type\":\"BoxZoomTool\"},{\"attributes\":{\"data_source\":{\"id\":\"5640\"},\"glyph\":{\"id\":\"5641\"},\"hover_glyph\":null,\"muted_glyph\":null,\"nonselection_glyph\":{\"id\":\"5642\"},\"selection_glyph\":null,\"view\":{\"id\":\"5644\"}},\"id\":\"5643\",\"type\":\"GlyphRenderer\"},{\"attributes\":{},\"id\":\"5614\",\"type\":\"LinearScale\"},{\"attributes\":{\"data\":{\"x\":[0,1,2,3,4,5,6,7,8,9,10,11,12,13,14,15,16,17,18,19,20,21,22,23,24,25,26,27,28,29,30,31,32,33,34,35,36,37,38,39,40,41,42,43,44,45,46,47,48,49,50,51,52,53,54,55,56,57,58,59,60,61,62,63,64,65,66,67,68,69,70,71,72,73,74,75,76,77,78,79,80,81,82,83,84,85,86,87,88,89,90,91,92,93,94,95,96,97,98,99,100,101,102,103,104,105,106,107,108,109,110,111,112,113,114,115,116,117,118,119,120,121,122,123,124,125,126,127,128,129,130,131,132,133,134,135,136,137,138,139,140,141,142,143,144,145,146,147,148,149,150,151,152,153,154,155,156,157,158,159,160,161,162,163,164,165,166,167,168,169,170,171,172,173,174,175,176,177,178,179,180,181,182,183,184,185,186,187,188,189,190,191,192,193,194,195,196,197,198,199,200,201,202,203,204,205,206,207,208,209,210,211,212,213,214,215,216,217,218,219,220,221,222,223,224,225,226,227,228,229,230,231,232,233,234,235,236,237,238,239,240,241,242,243,244,245,246,247,248,249,250,251,252,253,254,255,256,257,258,259,260,261,262,263,264,265,266,267,268,269,270,271,272,273,274,275,276,277,278,279,280,281,282,283,284,285,286,287,288,289,290,291,292,293,294,295,296,297,298,299,300,301,302],\"y\":{\"__ndarray__\":\"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\",\"dtype\":\"float64\",\"order\":\"little\",\"shape\":[303]}},\"selected\":{\"id\":\"5879\"},\"selection_policy\":{\"id\":\"5880\"}},\"id\":\"5640\",\"type\":\"ColumnDataSource\"},{\"attributes\":{},\"id\":\"5616\",\"type\":\"LinearScale\"},{\"attributes\":{\"formatter\":{\"id\":\"5878\"},\"ticker\":{\"id\":\"5623\"}},\"id\":\"5622\",\"type\":\"LinearAxis\"},{\"attributes\":{},\"id\":\"5629\",\"type\":\"SaveTool\"},{\"attributes\":{},\"id\":\"5627\",\"type\":\"WheelZoomTool\"},{\"attributes\":{},\"id\":\"5876\",\"type\":\"BasicTickFormatter\"},{\"attributes\":{\"axis\":{\"id\":\"5618\"},\"ticker\":null},\"id\":\"5621\",\"type\":\"Grid\"},{\"attributes\":{},\"id\":\"5610\",\"type\":\"DataRange1d\"},{\"attributes\":{\"text\":\"Eminem\"},\"id\":\"5608\",\"type\":\"Title\"},{\"attributes\":{},\"id\":\"5630\",\"type\":\"ResetTool\"},{\"attributes\":{},\"id\":\"5631\",\"type\":\"HelpTool\"},{\"attributes\":{},\"id\":\"5623\",\"type\":\"BasicTicker\"},{\"attributes\":{},\"id\":\"5878\",\"type\":\"BasicTickFormatter\"},{\"attributes\":{\"active_drag\":\"auto\",\"active_inspect\":\"auto\",\"active_multi\":null,\"active_scroll\":\"auto\",\"active_tap\":\"auto\",\"tools\":[{\"id\":\"5626\"},{\"id\":\"5627\"},{\"id\":\"5628\"},{\"id\":\"5629\"},{\"id\":\"5630\"},{\"id\":\"5631\"}]},\"id\":\"5633\",\"type\":\"Toolbar\"},{\"attributes\":{},\"id\":\"5619\",\"type\":\"BasicTicker\"},{\"attributes\":{},\"id\":\"5626\",\"type\":\"PanTool\"}],\"root_ids\":[\"5607\"]},\"title\":\"Bokeh Application\",\"version\":\"2.2.3\"}};\n",
       "  var render_items = [{\"docid\":\"f5b7b702-3953-4a95-bb63-1f2e8c72c00c\",\"root_ids\":[\"5607\"],\"roots\":{\"5607\":\"79345d6d-981d-4e2b-bcae-fa6f42c36d78\"}}];\n",
       "  root.Bokeh.embed.embed_items_notebook(docs_json, render_items);\n",
       "\n",
       "  }\n",
       "  if (root.Bokeh !== undefined) {\n",
       "    embed_document(root);\n",
       "  } else {\n",
       "    var attempts = 0;\n",
       "    var timer = setInterval(function(root) {\n",
       "      if (root.Bokeh !== undefined) {\n",
       "        clearInterval(timer);\n",
       "        embed_document(root);\n",
       "      } else {\n",
       "        attempts++;\n",
       "        if (attempts > 100) {\n",
       "          clearInterval(timer);\n",
       "          console.log(\"Bokeh: ERROR: Unable to run BokehJS code because BokehJS library is missing\");\n",
       "        }\n",
       "      }\n",
       "    }, 10, root)\n",
       "  }\n",
       "})(window);"
      ],
      "application/vnd.bokehjs_exec.v0+json": ""
     },
     "metadata": {
      "application/vnd.bokehjs_exec.v0+json": {
       "id": "5607"
      }
     },
     "output_type": "display_data"
    },
    {
     "data": {
      "text/html": [
       "\n",
       "\n",
       "\n",
       "\n",
       "\n",
       "\n",
       "  <div class=\"bk-root\" id=\"ba08f291-6c58-4303-a7bd-9205fb021c9d\" data-root-id=\"5922\"></div>\n"
      ]
     },
     "metadata": {},
     "output_type": "display_data"
    },
    {
     "data": {
      "application/javascript": [
       "(function(root) {\n",
       "  function embed_document(root) {\n",
       "    \n",
       "  var docs_json = {\"13584ca5-499b-4d26-adf6-684dee646089\":{\"roots\":{\"references\":[{\"attributes\":{\"below\":[{\"id\":\"5933\"}],\"center\":[{\"id\":\"5936\"},{\"id\":\"5940\"}],\"left\":[{\"id\":\"5937\"}],\"plot_height\":300,\"plot_width\":300,\"renderers\":[{\"id\":\"5958\"}],\"title\":{\"id\":\"5923\"},\"toolbar\":{\"id\":\"5948\"},\"x_range\":{\"id\":\"5925\"},\"x_scale\":{\"id\":\"5929\"},\"y_range\":{\"id\":\"5927\"},\"y_scale\":{\"id\":\"5931\"}},\"id\":\"5922\",\"subtype\":\"Figure\",\"type\":\"Plot\"},{\"attributes\":{\"axis\":{\"id\":\"5937\"},\"dimension\":1,\"ticker\":null},\"id\":\"5940\",\"type\":\"Grid\"},{\"attributes\":{},\"id\":\"5938\",\"type\":\"BasicTicker\"},{\"attributes\":{\"active_drag\":\"auto\",\"active_inspect\":\"auto\",\"active_multi\":null,\"active_scroll\":\"auto\",\"active_tap\":\"auto\",\"tools\":[{\"id\":\"5941\"},{\"id\":\"5942\"},{\"id\":\"5943\"},{\"id\":\"5944\"},{\"id\":\"5945\"},{\"id\":\"5946\"}]},\"id\":\"5948\",\"type\":\"Toolbar\"},{\"attributes\":{},\"id\":\"5942\",\"type\":\"WheelZoomTool\"},{\"attributes\":{},\"id\":\"5941\",\"type\":\"PanTool\"},{\"attributes\":{\"overlay\":{\"id\":\"5947\"}},\"id\":\"5943\",\"type\":\"BoxZoomTool\"},{\"attributes\":{},\"id\":\"5944\",\"type\":\"SaveTool\"},{\"attributes\":{},\"id\":\"5945\",\"type\":\"ResetTool\"},{\"attributes\":{},\"id\":\"6199\",\"type\":\"BasicTickFormatter\"},{\"attributes\":{\"source\":{\"id\":\"5955\"}},\"id\":\"5959\",\"type\":\"CDSView\"},{\"attributes\":{},\"id\":\"6201\",\"type\":\"BasicTickFormatter\"},{\"attributes\":{\"line_color\":\"#1f77b4\",\"x\":{\"field\":\"x\"},\"y\":{\"field\":\"y\"}},\"id\":\"5956\",\"type\":\"Line\"},{\"attributes\":{},\"id\":\"6202\",\"type\":\"Selection\"},{\"attributes\":{\"line_alpha\":0.1,\"line_color\":\"#1f77b4\",\"x\":{\"field\":\"x\"},\"y\":{\"field\":\"y\"}},\"id\":\"5957\",\"type\":\"Line\"},{\"attributes\":{},\"id\":\"6203\",\"type\":\"UnionRenderers\"},{\"attributes\":{},\"id\":\"5927\",\"type\":\"DataRange1d\"},{\"attributes\":{\"bottom_units\":\"screen\",\"fill_alpha\":0.5,\"fill_color\":\"lightgrey\",\"left_units\":\"screen\",\"level\":\"overlay\",\"line_alpha\":1.0,\"line_color\":\"black\",\"line_dash\":[4,4],\"line_width\":2,\"right_units\":\"screen\",\"top_units\":\"screen\"},\"id\":\"5947\",\"type\":\"BoxAnnotation\"},{\"attributes\":{\"text\":\"Rihanna\"},\"id\":\"5923\",\"type\":\"Title\"},{\"attributes\":{\"formatter\":{\"id\":\"6201\"},\"ticker\":{\"id\":\"5938\"}},\"id\":\"5937\",\"type\":\"LinearAxis\"},{\"attributes\":{\"data\":{\"x\":[0,1,2,3,4,5,6,7,8,9,10,11,12,13,14,15,16,17,18,19,20,21,22,23,24,25,26,27,28,29,30,31,32,33,34,35,36,37,38,39,40,41,42,43,44,45,46,47,48,49,50,51,52,53,54,55,56,57,58,59,60,61,62,63,64,65,66,67,68,69,70,71,72,73,74,75,76,77,78,79,80,81,82,83,84,85,86,87,88,89,90,91,92,93,94,95,96,97,98,99,100,101,102,103,104,105,106,107,108,109,110,111,112,113,114,115,116,117,118],\"y\":{\"__ndarray__\":\"ihbZzvfTGMAj2/l+arwmwCPb+X5qvBnAWDm0yHa+DcDl0CLb+X4SwKFFtvP91A/AF9nO91NjHMD8qfHSTeIRwFyPwvUoXBnA/dR46SYxFcCoxks3icEXwHe+nxovXRPAGy/dJAaBC8BANV66SUwnwNNNYhBYuRjAdukmMQisF8CHFtnO91MkwMl2vp8aLxnAyKFFtvP9GcBhukkMAisXwCGwcmiRbR7ALbKd76dGGcAnMQisHFoQwK5H4XoUrhPAuB6F61F4IcCuR+F6FK4TwEw3iUFgZRzA/tR46SYxIsDFILByaJEawNV46SYxCBTAFK5H4XrUIMAfhetRuJ4TwBFYObTINiHAtvP91HhpEsCKFtnO91MWwLbz/dR4aRLAv58aL90kHsCBlUOLbOcKwI/C9ShcDxLAihbZzvdTFsChRbbz/dT8v5ZDi2zn+xHAiUFg5dAiFMAUrkfhehQUwHE9Ctej8BHAne+nxku3JMCHFtnO91MkwK5H4XoUrhPAhxbZzvdTJMBxPQrXo3ANwNrO91PjpRbABoGVQ4vsE8A830+Nly4gwFK4HoXrURPAsp3vp8ZLBsBmZmZmZmYVwIXrUbgehRXAUI2XbhIDEcAj2/l+arwHwFyPwvUoXBnAuB6F61F4IcAxCKwcWmQewMDKoUW28xjAQGDl0CJbH8Cc76fGS/chwM/3U+OlmxPAhetRuB6FFcDP91PjpZsTwAAAAAAAABLAPN9PjZfuEMD6fmq8dBMUwB+F61G4HhDAOF66SQyCFcDGSzeJQWAawHbpJjEIrBbA/Knx0k3iFMCDwMqhRbYIwFyPwvUo3BXA+n5qvHSTF8BOYhBYObQTwHjpJjEIrAfAFK5H4XoUFMAtsp3vp8YHwMihRbbz/RnAMzMzMzMzE8BqvHSTGAQXwPYoXI/C9RDAlkOLbOf7DMChRbbz/dQPwPyp8dJN4hjArkfhehSuE8AYBFYOLTITwKabxCCwcgzAN4lBYOXQAMCXbhKDwMoMwHsUrkfhehvAcT0K16PwEcCgRbbz/dQUwPp+arx0kxfAVg4tsp3vD8Bcj8L1KFwZwCcxCKwcWhDA0SLb+X7qHcDdJAaBlcMQwKjGSzeJQRXAZDvfT42X/L9xPQrXo3ANwClcj8L1qBXAQGDl0CJbH8DTTWIQWDkawESLbOf7KRjAcT0K16PwEcA4XrpJDIIVwKFFtvP91AzA+n5qvHQTHsA9CtejcL0QwFK4HoXr0RXAhxbZzvdTJMBKDAIrhxYkwA==\",\"dtype\":\"float64\",\"order\":\"little\",\"shape\":[119]}},\"selected\":{\"id\":\"6202\"},\"selection_policy\":{\"id\":\"6203\"}},\"id\":\"5955\",\"type\":\"ColumnDataSource\"},{\"attributes\":{},\"id\":\"5946\",\"type\":\"HelpTool\"},{\"attributes\":{},\"id\":\"5925\",\"type\":\"DataRange1d\"},{\"attributes\":{},\"id\":\"5931\",\"type\":\"LinearScale\"},{\"attributes\":{},\"id\":\"5934\",\"type\":\"BasicTicker\"},{\"attributes\":{\"data_source\":{\"id\":\"5955\"},\"glyph\":{\"id\":\"5956\"},\"hover_glyph\":null,\"muted_glyph\":null,\"nonselection_glyph\":{\"id\":\"5957\"},\"selection_glyph\":null,\"view\":{\"id\":\"5959\"}},\"id\":\"5958\",\"type\":\"GlyphRenderer\"},{\"attributes\":{},\"id\":\"5929\",\"type\":\"LinearScale\"},{\"attributes\":{\"axis\":{\"id\":\"5933\"},\"ticker\":null},\"id\":\"5936\",\"type\":\"Grid\"},{\"attributes\":{\"formatter\":{\"id\":\"6199\"},\"ticker\":{\"id\":\"5934\"}},\"id\":\"5933\",\"type\":\"LinearAxis\"}],\"root_ids\":[\"5922\"]},\"title\":\"Bokeh Application\",\"version\":\"2.2.3\"}};\n",
       "  var render_items = [{\"docid\":\"13584ca5-499b-4d26-adf6-684dee646089\",\"root_ids\":[\"5922\"],\"roots\":{\"5922\":\"ba08f291-6c58-4303-a7bd-9205fb021c9d\"}}];\n",
       "  root.Bokeh.embed.embed_items_notebook(docs_json, render_items);\n",
       "\n",
       "  }\n",
       "  if (root.Bokeh !== undefined) {\n",
       "    embed_document(root);\n",
       "  } else {\n",
       "    var attempts = 0;\n",
       "    var timer = setInterval(function(root) {\n",
       "      if (root.Bokeh !== undefined) {\n",
       "        clearInterval(timer);\n",
       "        embed_document(root);\n",
       "      } else {\n",
       "        attempts++;\n",
       "        if (attempts > 100) {\n",
       "          clearInterval(timer);\n",
       "          console.log(\"Bokeh: ERROR: Unable to run BokehJS code because BokehJS library is missing\");\n",
       "        }\n",
       "      }\n",
       "    }, 10, root)\n",
       "  }\n",
       "})(window);"
      ],
      "application/vnd.bokehjs_exec.v0+json": ""
     },
     "metadata": {
      "application/vnd.bokehjs_exec.v0+json": {
       "id": "5922"
      }
     },
     "output_type": "display_data"
    },
    {
     "data": {
      "text/html": [
       "\n",
       "\n",
       "\n",
       "\n",
       "\n",
       "\n",
       "  <div class=\"bk-root\" id=\"8c54b2a5-5dd5-4911-8bdc-db5b96cb3af9\" data-root-id=\"6245\"></div>\n"
      ]
     },
     "metadata": {},
     "output_type": "display_data"
    },
    {
     "data": {
      "application/javascript": [
       "(function(root) {\n",
       "  function embed_document(root) {\n",
       "    \n",
       "  var docs_json = {\"4b7159f0-f5d9-49d7-b60c-d7f1be17e7f9\":{\"roots\":{\"references\":[{\"attributes\":{\"below\":[{\"id\":\"6256\"}],\"center\":[{\"id\":\"6259\"},{\"id\":\"6263\"}],\"left\":[{\"id\":\"6260\"}],\"plot_height\":300,\"plot_width\":300,\"renderers\":[{\"id\":\"6281\"}],\"title\":{\"id\":\"6246\"},\"toolbar\":{\"id\":\"6271\"},\"x_range\":{\"id\":\"6248\"},\"x_scale\":{\"id\":\"6252\"},\"y_range\":{\"id\":\"6250\"},\"y_scale\":{\"id\":\"6254\"}},\"id\":\"6245\",\"subtype\":\"Figure\",\"type\":\"Plot\"},{\"attributes\":{\"data\":{\"x\":[0,1,2,3,4,5,6,7,8,9,10,11,12,13,14,15,16,17,18,19,20,21,22,23,24,25,26,27,28,29,30,31,32,33,34,35,36,37,38,39,40,41,42,43,44,45,46,47,48,49,50,51,52,53,54,55,56,57,58,59,60,61,62,63,64,65,66,67,68,69,70,71,72,73,74,75,76,77,78,79,80,81,82,83,84,85,86,87,88,89,90,91,92,93,94,95,96,97,98,99,100,101,102,103,104,105,106,107,108,109,110,111,112,113,114,115,116,117,118,119,120,121,122,123,124,125,126,127,128,129,130,131,132,133,134,135,136,137,138,139,140,141,142,143,144,145,146,147,148,149,150,151,152,153,154,155,156,157,158,159,160,161,162,163,164,165,166,167,168,169,170,171,172,173,174,175,176,177,178,179,180,181,182,183,184,185,186,187,188,189,190,191,192,193,194,195,196,197,198,199,200,201,202,203,204,205,206,207,208,209,210,211,212,213,214,215,216,217,218,219,220,221,222,223,224,225,226,227,228,229,230,231,232,233,234,235,236,237,238,239,240,241,242,243,244,245,246,247,248,249,250,251,252,253,254,255,256,257,258,259,260,261,262,263,264,265,266,267,268,269,270,271,272,273,274,275,276,277,278,279,280,281,282,283,284,285,286,287,288,289,290,291,292,293,294,295,296,297,298,299,300,301,302,303,304,305,306,307,308,309,310,311,312,313,314,315,316,317,318,319,320,321,322,323,324,325,326,327,328,329,330,331,332,333,334,335,336,337,338,339,340,341,342,343,344,345,346,347,348,349,350,351,352,353,354,355,356,357,358,359,360,361,362,363,364,365,366,367,368,369,370,371,372,373,374,375,376,377,378,379,380,381,382,383,384,385,386,387,388,389,390,391,392,393,394,395,396,397,398,399,400,401,402,403,404],\"y\":{\"__ndarray__\":\"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\",\"dtype\":\"float64\",\"order\":\"little\",\"shape\":[405]}},\"selected\":{\"id\":\"6533\"},\"selection_policy\":{\"id\":\"6534\"}},\"id\":\"6278\",\"type\":\"ColumnDataSource\"},{\"attributes\":{},\"id\":\"6252\",\"type\":\"LinearScale\"},{\"attributes\":{\"bottom_units\":\"screen\",\"fill_alpha\":0.5,\"fill_color\":\"lightgrey\",\"left_units\":\"screen\",\"level\":\"overlay\",\"line_alpha\":1.0,\"line_color\":\"black\",\"line_dash\":[4,4],\"line_width\":2,\"right_units\":\"screen\",\"top_units\":\"screen\"},\"id\":\"6270\",\"type\":\"BoxAnnotation\"},{\"attributes\":{},\"id\":\"6257\",\"type\":\"BasicTicker\"},{\"attributes\":{},\"id\":\"6250\",\"type\":\"DataRange1d\"},{\"attributes\":{\"formatter\":{\"id\":\"6530\"},\"ticker\":{\"id\":\"6257\"}},\"id\":\"6256\",\"type\":\"LinearAxis\"},{\"attributes\":{},\"id\":\"6269\",\"type\":\"HelpTool\"},{\"attributes\":{},\"id\":\"6248\",\"type\":\"DataRange1d\"},{\"attributes\":{\"text\":\"Drake\"},\"id\":\"6246\",\"type\":\"Title\"},{\"attributes\":{},\"id\":\"6254\",\"type\":\"LinearScale\"},{\"attributes\":{},\"id\":\"6530\",\"type\":\"BasicTickFormatter\"},{\"attributes\":{\"formatter\":{\"id\":\"6532\"},\"ticker\":{\"id\":\"6261\"}},\"id\":\"6260\",\"type\":\"LinearAxis\"},{\"attributes\":{\"axis\":{\"id\":\"6256\"},\"ticker\":null},\"id\":\"6259\",\"type\":\"Grid\"},{\"attributes\":{\"axis\":{\"id\":\"6260\"},\"dimension\":1,\"ticker\":null},\"id\":\"6263\",\"type\":\"Grid\"},{\"attributes\":{},\"id\":\"6261\",\"type\":\"BasicTicker\"},{\"attributes\":{\"active_drag\":\"auto\",\"active_inspect\":\"auto\",\"active_multi\":null,\"active_scroll\":\"auto\",\"active_tap\":\"auto\",\"tools\":[{\"id\":\"6264\"},{\"id\":\"6265\"},{\"id\":\"6266\"},{\"id\":\"6267\"},{\"id\":\"6268\"},{\"id\":\"6269\"}]},\"id\":\"6271\",\"type\":\"Toolbar\"},{\"attributes\":{},\"id\":\"6532\",\"type\":\"BasicTickFormatter\"},{\"attributes\":{},\"id\":\"6265\",\"type\":\"WheelZoomTool\"},{\"attributes\":{},\"id\":\"6264\",\"type\":\"PanTool\"},{\"attributes\":{\"overlay\":{\"id\":\"6270\"}},\"id\":\"6266\",\"type\":\"BoxZoomTool\"},{\"attributes\":{},\"id\":\"6267\",\"type\":\"SaveTool\"},{\"attributes\":{},\"id\":\"6268\",\"type\":\"ResetTool\"},{\"attributes\":{},\"id\":\"6533\",\"type\":\"Selection\"},{\"attributes\":{\"line_color\":\"#1f77b4\",\"x\":{\"field\":\"x\"},\"y\":{\"field\":\"y\"}},\"id\":\"6279\",\"type\":\"Line\"},{\"attributes\":{\"line_alpha\":0.1,\"line_color\":\"#1f77b4\",\"x\":{\"field\":\"x\"},\"y\":{\"field\":\"y\"}},\"id\":\"6280\",\"type\":\"Line\"},{\"attributes\":{},\"id\":\"6534\",\"type\":\"UnionRenderers\"},{\"attributes\":{\"source\":{\"id\":\"6278\"}},\"id\":\"6282\",\"type\":\"CDSView\"},{\"attributes\":{\"data_source\":{\"id\":\"6278\"},\"glyph\":{\"id\":\"6279\"},\"hover_glyph\":null,\"muted_glyph\":null,\"nonselection_glyph\":{\"id\":\"6280\"},\"selection_glyph\":null,\"view\":{\"id\":\"6282\"}},\"id\":\"6281\",\"type\":\"GlyphRenderer\"}],\"root_ids\":[\"6245\"]},\"title\":\"Bokeh Application\",\"version\":\"2.2.3\"}};\n",
       "  var render_items = [{\"docid\":\"4b7159f0-f5d9-49d7-b60c-d7f1be17e7f9\",\"root_ids\":[\"6245\"],\"roots\":{\"6245\":\"8c54b2a5-5dd5-4911-8bdc-db5b96cb3af9\"}}];\n",
       "  root.Bokeh.embed.embed_items_notebook(docs_json, render_items);\n",
       "\n",
       "  }\n",
       "  if (root.Bokeh !== undefined) {\n",
       "    embed_document(root);\n",
       "  } else {\n",
       "    var attempts = 0;\n",
       "    var timer = setInterval(function(root) {\n",
       "      if (root.Bokeh !== undefined) {\n",
       "        clearInterval(timer);\n",
       "        embed_document(root);\n",
       "      } else {\n",
       "        attempts++;\n",
       "        if (attempts > 100) {\n",
       "          clearInterval(timer);\n",
       "          console.log(\"Bokeh: ERROR: Unable to run BokehJS code because BokehJS library is missing\");\n",
       "        }\n",
       "      }\n",
       "    }, 10, root)\n",
       "  }\n",
       "})(window);"
      ],
      "application/vnd.bokehjs_exec.v0+json": ""
     },
     "metadata": {
      "application/vnd.bokehjs_exec.v0+json": {
       "id": "6245"
      }
     },
     "output_type": "display_data"
    }
   ],
   "source": [
    "# Créer trois graphes Line affichant respectivement loudness de trois artistes \n",
    "df = pd.read_csv(\"music_dataset/data.csv\")\n",
    "df_l = df[[\"artists\", \"loudness\"]]\n",
    "\n",
    "df_e = df_l[df_l[\"artists\"].str.contains(\"Eminem\")]\n",
    "n_e = list(range(0, len(df_e[\"loudness\"])))\n",
    "p_e = figure(plot_width=300, plot_height=300, title=\"Eminem\")\n",
    "p_e.line(n_e, df_e[\"loudness\"] )\n",
    "show(p_e)\n",
    "\n",
    "df_r = df_l[df_l[\"artists\"].str.contains(\"Rihanna\")]\n",
    "n_r = list(range(0, len(df_r[\"loudness\"])))\n",
    "p_r = figure(plot_width=300, plot_height=300, title=\"Rihanna\")\n",
    "p_r.line(n_r, df_r[\"loudness\"] )\n",
    "show(p_r)\n",
    "\n",
    "df_d = df_l[df_l[\"artists\"].str.contains(\"Drake\")]\n",
    "n_d = list(range(0, len(df_d[\"loudness\"])))\n",
    "p_d = figure(plot_width=300, plot_height=300, title=\"Drake\")\n",
    "p_d.line(n_d, df_d[\"loudness\"] )\n",
    "show(p_d)\n"
   ]
  },
  {
   "cell_type": "code",
   "execution_count": 71,
   "metadata": {},
   "outputs": [],
   "source": [
    "from bokeh.layouts import row"
   ]
  },
  {
   "cell_type": "code",
   "execution_count": 72,
   "metadata": {},
   "outputs": [],
   "source": [
    "# Créer un objet row object avec les trois graphes\n",
    "p = row(p_e, p_r, p_d)\n"
   ]
  },
  {
   "cell_type": "code",
   "execution_count": 73,
   "metadata": {},
   "outputs": [
    {
     "data": {
      "text/html": [
       "\n",
       "\n",
       "\n",
       "\n",
       "\n",
       "\n",
       "  <div class=\"bk-root\" id=\"4fa93c33-2b23-45c1-af7d-ae277f600ea5\" data-root-id=\"6576\"></div>\n"
      ]
     },
     "metadata": {},
     "output_type": "display_data"
    },
    {
     "data": {
      "application/javascript": [
       "(function(root) {\n",
       "  function embed_document(root) {\n",
       "    \n",
       "  var docs_json = {\"a3e8b479-8ed3-47ac-b262-18153ec25fc6\":{\"roots\":{\"references\":[{\"attributes\":{\"children\":[{\"id\":\"5607\"},{\"id\":\"5922\"},{\"id\":\"6245\"}]},\"id\":\"6576\",\"type\":\"Row\"},{\"attributes\":{\"bottom_units\":\"screen\",\"fill_alpha\":0.5,\"fill_color\":\"lightgrey\",\"left_units\":\"screen\",\"level\":\"overlay\",\"line_alpha\":1.0,\"line_color\":\"black\",\"line_dash\":[4,4],\"line_width\":2,\"right_units\":\"screen\",\"top_units\":\"screen\"},\"id\":\"6270\",\"type\":\"BoxAnnotation\"},{\"attributes\":{\"axis\":{\"id\":\"5622\"},\"dimension\":1,\"ticker\":null},\"id\":\"5625\",\"type\":\"Grid\"},{\"attributes\":{},\"id\":\"6199\",\"type\":\"BasicTickFormatter\"},{\"attributes\":{},\"id\":\"6201\",\"type\":\"BasicTickFormatter\"},{\"attributes\":{\"bottom_units\":\"screen\",\"fill_alpha\":0.5,\"fill_color\":\"lightgrey\",\"left_units\":\"screen\",\"level\":\"overlay\",\"line_alpha\":1.0,\"line_color\":\"black\",\"line_dash\":[4,4],\"line_width\":2,\"right_units\":\"screen\",\"top_units\":\"screen\"},\"id\":\"5632\",\"type\":\"BoxAnnotation\"},{\"attributes\":{\"data_source\":{\"id\":\"5640\"},\"glyph\":{\"id\":\"5641\"},\"hover_glyph\":null,\"muted_glyph\":null,\"nonselection_glyph\":{\"id\":\"5642\"},\"selection_glyph\":null,\"view\":{\"id\":\"5644\"}},\"id\":\"5643\",\"type\":\"GlyphRenderer\"},{\"attributes\":{},\"id\":\"6202\",\"type\":\"Selection\"},{\"attributes\":{},\"id\":\"6203\",\"type\":\"UnionRenderers\"},{\"attributes\":{\"line_color\":\"#1f77b4\",\"x\":{\"field\":\"x\"},\"y\":{\"field\":\"y\"}},\"id\":\"6279\",\"type\":\"Line\"},{\"attributes\":{\"line_alpha\":0.1,\"line_color\":\"#1f77b4\",\"x\":{\"field\":\"x\"},\"y\":{\"field\":\"y\"}},\"id\":\"6280\",\"type\":\"Line\"},{\"attributes\":{\"source\":{\"id\":\"6278\"}},\"id\":\"6282\",\"type\":\"CDSView\"},{\"attributes\":{\"active_drag\":\"auto\",\"active_inspect\":\"auto\",\"active_multi\":null,\"active_scroll\":\"auto\",\"active_tap\":\"auto\",\"tools\":[{\"id\":\"5626\"},{\"id\":\"5627\"},{\"id\":\"5628\"},{\"id\":\"5629\"},{\"id\":\"5630\"},{\"id\":\"5631\"}]},\"id\":\"5633\",\"type\":\"Toolbar\"},{\"attributes\":{\"below\":[{\"id\":\"6256\"}],\"center\":[{\"id\":\"6259\"},{\"id\":\"6263\"}],\"left\":[{\"id\":\"6260\"}],\"plot_height\":300,\"plot_width\":300,\"renderers\":[{\"id\":\"6281\"}],\"title\":{\"id\":\"6246\"},\"toolbar\":{\"id\":\"6271\"},\"x_range\":{\"id\":\"6248\"},\"x_scale\":{\"id\":\"6252\"},\"y_range\":{\"id\":\"6250\"},\"y_scale\":{\"id\":\"6254\"}},\"id\":\"6245\",\"subtype\":\"Figure\",\"type\":\"Plot\"},{\"attributes\":{\"data\":{\"x\":[0,1,2,3,4,5,6,7,8,9,10,11,12,13,14,15,16,17,18,19,20,21,22,23,24,25,26,27,28,29,30,31,32,33,34,35,36,37,38,39,40,41,42,43,44,45,46,47,48,49,50,51,52,53,54,55,56,57,58,59,60,61,62,63,64,65,66,67,68,69,70,71,72,73,74,75,76,77,78,79,80,81,82,83,84,85,86,87,88,89,90,91,92,93,94,95,96,97,98,99,100,101,102,103,104,105,106,107,108,109,110,111,112,113,114,115,116,117,118,119,120,121,122,123,124,125,126,127,128,129,130,131,132,133,134,135,136,137,138,139,140,141,142,143,144,145,146,147,148,149,150,151,152,153,154,155,156,157,158,159,160,161,162,163,164,165,166,167,168,169,170,171,172,173,174,175,176,177,178,179,180,181,182,183,184,185,186,187,188,189,190,191,192,193,194,195,196,197,198,199,200,201,202,203,204,205,206,207,208,209,210,211,212,213,214,215,216,217,218,219,220,221,222,223,224,225,226,227,228,229,230,231,232,233,234,235,236,237,238,239,240,241,242,243,244,245,246,247,248,249,250,251,252,253,254,255,256,257,258,259,260,261,262,263,264,265,266,267,268,269,270,271,272,273,274,275,276,277,278,279,280,281,282,283,284,285,286,287,288,289,290,291,292,293,294,295,296,297,298,299,300,301,302,303,304,305,306,307,308,309,310,311,312,313,314,315,316,317,318,319,320,321,322,323,324,325,326,327,328,329,330,331,332,333,334,335,336,337,338,339,340,341,342,343,344,345,346,347,348,349,350,351,352,353,354,355,356,357,358,359,360,361,362,363,364,365,366,367,368,369,370,371,372,373,374,375,376,377,378,379,380,381,382,383,384,385,386,387,388,389,390,391,392,393,394,395,396,397,398,399,400,401,402,403,404],\"y\":{\"__ndarray__\":\"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\",\"dtype\":\"float64\",\"order\":\"little\",\"shape\":[405]}},\"selected\":{\"id\":\"6533\"},\"selection_policy\":{\"id\":\"6534\"}},\"id\":\"6278\",\"type\":\"ColumnDataSource\"},{\"attributes\":{},\"id\":\"6252\",\"type\":\"LinearScale\"},{\"attributes\":{\"line_color\":\"#1f77b4\",\"x\":{\"field\":\"x\"},\"y\":{\"field\":\"y\"}},\"id\":\"5641\",\"type\":\"Line\"},{\"attributes\":{\"line_alpha\":0.1,\"line_color\":\"#1f77b4\",\"x\":{\"field\":\"x\"},\"y\":{\"field\":\"y\"}},\"id\":\"5642\",\"type\":\"Line\"},{\"attributes\":{},\"id\":\"6257\",\"type\":\"BasicTicker\"},{\"attributes\":{},\"id\":\"6250\",\"type\":\"DataRange1d\"},{\"attributes\":{\"below\":[{\"id\":\"5618\"}],\"center\":[{\"id\":\"5621\"},{\"id\":\"5625\"}],\"left\":[{\"id\":\"5622\"}],\"plot_height\":300,\"plot_width\":300,\"renderers\":[{\"id\":\"5643\"}],\"title\":{\"id\":\"5608\"},\"toolbar\":{\"id\":\"5633\"},\"x_range\":{\"id\":\"5610\"},\"x_scale\":{\"id\":\"5614\"},\"y_range\":{\"id\":\"5612\"},\"y_scale\":{\"id\":\"5616\"}},\"id\":\"5607\",\"subtype\":\"Figure\",\"type\":\"Plot\"},{\"attributes\":{\"formatter\":{\"id\":\"6530\"},\"ticker\":{\"id\":\"6257\"}},\"id\":\"6256\",\"type\":\"LinearAxis\"},{\"attributes\":{\"source\":{\"id\":\"5640\"}},\"id\":\"5644\",\"type\":\"CDSView\"},{\"attributes\":{},\"id\":\"6269\",\"type\":\"HelpTool\"},{\"attributes\":{},\"id\":\"6248\",\"type\":\"DataRange1d\"},{\"attributes\":{},\"id\":\"6254\",\"type\":\"LinearScale\"},{\"attributes\":{},\"id\":\"6530\",\"type\":\"BasicTickFormatter\"},{\"attributes\":{\"formatter\":{\"id\":\"5876\"},\"ticker\":{\"id\":\"5619\"}},\"id\":\"5618\",\"type\":\"LinearAxis\"},{\"attributes\":{\"formatter\":{\"id\":\"6532\"},\"ticker\":{\"id\":\"6261\"}},\"id\":\"6260\",\"type\":\"LinearAxis\"},{\"attributes\":{},\"id\":\"5612\",\"type\":\"DataRange1d\"},{\"attributes\":{\"axis\":{\"id\":\"6256\"},\"ticker\":null},\"id\":\"6259\",\"type\":\"Grid\"},{\"attributes\":{\"axis\":{\"id\":\"6260\"},\"dimension\":1,\"ticker\":null},\"id\":\"6263\",\"type\":\"Grid\"},{\"attributes\":{},\"id\":\"6261\",\"type\":\"BasicTicker\"},{\"attributes\":{\"overlay\":{\"id\":\"5632\"}},\"id\":\"5628\",\"type\":\"BoxZoomTool\"},{\"attributes\":{},\"id\":\"5614\",\"type\":\"LinearScale\"},{\"attributes\":{\"active_drag\":\"auto\",\"active_inspect\":\"auto\",\"active_multi\":null,\"active_scroll\":\"auto\",\"active_tap\":\"auto\",\"tools\":[{\"id\":\"6264\"},{\"id\":\"6265\"},{\"id\":\"6266\"},{\"id\":\"6267\"},{\"id\":\"6268\"},{\"id\":\"6269\"}]},\"id\":\"6271\",\"type\":\"Toolbar\"},{\"attributes\":{},\"id\":\"6532\",\"type\":\"BasicTickFormatter\"},{\"attributes\":{\"data\":{\"x\":[0,1,2,3,4,5,6,7,8,9,10,11,12,13,14,15,16,17,18,19,20,21,22,23,24,25,26,27,28,29,30,31,32,33,34,35,36,37,38,39,40,41,42,43,44,45,46,47,48,49,50,51,52,53,54,55,56,57,58,59,60,61,62,63,64,65,66,67,68,69,70,71,72,73,74,75,76,77,78,79,80,81,82,83,84,85,86,87,88,89,90,91,92,93,94,95,96,97,98,99,100,101,102,103,104,105,106,107,108,109,110,111,112,113,114,115,116,117,118,119,120,121,122,123,124,125,126,127,128,129,130,131,132,133,134,135,136,137,138,139,140,141,142,143,144,145,146,147,148,149,150,151,152,153,154,155,156,157,158,159,160,161,162,163,164,165,166,167,168,169,170,171,172,173,174,175,176,177,178,179,180,181,182,183,184,185,186,187,188,189,190,191,192,193,194,195,196,197,198,199,200,201,202,203,204,205,206,207,208,209,210,211,212,213,214,215,216,217,218,219,220,221,222,223,224,225,226,227,228,229,230,231,232,233,234,235,236,237,238,239,240,241,242,243,244,245,246,247,248,249,250,251,252,253,254,255,256,257,258,259,260,261,262,263,264,265,266,267,268,269,270,271,272,273,274,275,276,277,278,279,280,281,282,283,284,285,286,287,288,289,290,291,292,293,294,295,296,297,298,299,300,301,302],\"y\":{\"__ndarray__\":\"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\",\"dtype\":\"float64\",\"order\":\"little\",\"shape\":[303]}},\"selected\":{\"id\":\"5879\"},\"selection_policy\":{\"id\":\"5880\"}},\"id\":\"5640\",\"type\":\"ColumnDataSource\"},{\"attributes\":{},\"id\":\"6265\",\"type\":\"WheelZoomTool\"},{\"attributes\":{},\"id\":\"5616\",\"type\":\"LinearScale\"},{\"attributes\":{},\"id\":\"6264\",\"type\":\"PanTool\"},{\"attributes\":{\"formatter\":{\"id\":\"5878\"},\"ticker\":{\"id\":\"5623\"}},\"id\":\"5622\",\"type\":\"LinearAxis\"},{\"attributes\":{\"overlay\":{\"id\":\"6270\"}},\"id\":\"6266\",\"type\":\"BoxZoomTool\"},{\"attributes\":{},\"id\":\"6267\",\"type\":\"SaveTool\"},{\"attributes\":{},\"id\":\"5629\",\"type\":\"SaveTool\"},{\"attributes\":{},\"id\":\"6268\",\"type\":\"ResetTool\"},{\"attributes\":{\"axis\":{\"id\":\"5618\"},\"ticker\":null},\"id\":\"5621\",\"type\":\"Grid\"},{\"attributes\":{},\"id\":\"5876\",\"type\":\"BasicTickFormatter\"},{\"attributes\":{},\"id\":\"6533\",\"type\":\"Selection\"},{\"attributes\":{},\"id\":\"5610\",\"type\":\"DataRange1d\"},{\"attributes\":{},\"id\":\"6534\",\"type\":\"UnionRenderers\"},{\"attributes\":{\"text\":\"Eminem\"},\"id\":\"5608\",\"type\":\"Title\"},{\"attributes\":{},\"id\":\"5630\",\"type\":\"ResetTool\"},{\"attributes\":{},\"id\":\"5631\",\"type\":\"HelpTool\"},{\"attributes\":{},\"id\":\"5623\",\"type\":\"BasicTicker\"},{\"attributes\":{},\"id\":\"5878\",\"type\":\"BasicTickFormatter\"},{\"attributes\":{},\"id\":\"5627\",\"type\":\"WheelZoomTool\"},{\"attributes\":{},\"id\":\"5619\",\"type\":\"BasicTicker\"},{\"attributes\":{},\"id\":\"5626\",\"type\":\"PanTool\"},{\"attributes\":{\"below\":[{\"id\":\"5933\"}],\"center\":[{\"id\":\"5936\"},{\"id\":\"5940\"}],\"left\":[{\"id\":\"5937\"}],\"plot_height\":300,\"plot_width\":300,\"renderers\":[{\"id\":\"5958\"}],\"title\":{\"id\":\"5923\"},\"toolbar\":{\"id\":\"5948\"},\"x_range\":{\"id\":\"5925\"},\"x_scale\":{\"id\":\"5929\"},\"y_range\":{\"id\":\"5927\"},\"y_scale\":{\"id\":\"5931\"}},\"id\":\"5922\",\"subtype\":\"Figure\",\"type\":\"Plot\"},{\"attributes\":{},\"id\":\"5879\",\"type\":\"Selection\"},{\"attributes\":{},\"id\":\"5880\",\"type\":\"UnionRenderers\"},{\"attributes\":{},\"id\":\"5927\",\"type\":\"DataRange1d\"},{\"attributes\":{\"text\":\"Rihanna\"},\"id\":\"5923\",\"type\":\"Title\"},{\"attributes\":{\"formatter\":{\"id\":\"6201\"},\"ticker\":{\"id\":\"5938\"}},\"id\":\"5937\",\"type\":\"LinearAxis\"},{\"attributes\":{\"data\":{\"x\":[0,1,2,3,4,5,6,7,8,9,10,11,12,13,14,15,16,17,18,19,20,21,22,23,24,25,26,27,28,29,30,31,32,33,34,35,36,37,38,39,40,41,42,43,44,45,46,47,48,49,50,51,52,53,54,55,56,57,58,59,60,61,62,63,64,65,66,67,68,69,70,71,72,73,74,75,76,77,78,79,80,81,82,83,84,85,86,87,88,89,90,91,92,93,94,95,96,97,98,99,100,101,102,103,104,105,106,107,108,109,110,111,112,113,114,115,116,117,118],\"y\":{\"__ndarray__\":\"ihbZzvfTGMAj2/l+arwmwCPb+X5qvBnAWDm0yHa+DcDl0CLb+X4SwKFFtvP91A/AF9nO91NjHMD8qfHSTeIRwFyPwvUoXBnA/dR46SYxFcCoxks3icEXwHe+nxovXRPAGy/dJAaBC8BANV66SUwnwNNNYhBYuRjAdukmMQisF8CHFtnO91MkwMl2vp8aLxnAyKFFtvP9GcBhukkMAisXwCGwcmiRbR7ALbKd76dGGcAnMQisHFoQwK5H4XoUrhPAuB6F61F4IcCuR+F6FK4TwEw3iUFgZRzA/tR46SYxIsDFILByaJEawNV46SYxCBTAFK5H4XrUIMAfhetRuJ4TwBFYObTINiHAtvP91HhpEsCKFtnO91MWwLbz/dR4aRLAv58aL90kHsCBlUOLbOcKwI/C9ShcDxLAihbZzvdTFsChRbbz/dT8v5ZDi2zn+xHAiUFg5dAiFMAUrkfhehQUwHE9Ctej8BHAne+nxku3JMCHFtnO91MkwK5H4XoUrhPAhxbZzvdTJMBxPQrXo3ANwNrO91PjpRbABoGVQ4vsE8A830+Nly4gwFK4HoXrURPAsp3vp8ZLBsBmZmZmZmYVwIXrUbgehRXAUI2XbhIDEcAj2/l+arwHwFyPwvUoXBnAuB6F61F4IcAxCKwcWmQewMDKoUW28xjAQGDl0CJbH8Cc76fGS/chwM/3U+OlmxPAhetRuB6FFcDP91PjpZsTwAAAAAAAABLAPN9PjZfuEMD6fmq8dBMUwB+F61G4HhDAOF66SQyCFcDGSzeJQWAawHbpJjEIrBbA/Knx0k3iFMCDwMqhRbYIwFyPwvUo3BXA+n5qvHSTF8BOYhBYObQTwHjpJjEIrAfAFK5H4XoUFMAtsp3vp8YHwMihRbbz/RnAMzMzMzMzE8BqvHSTGAQXwPYoXI/C9RDAlkOLbOf7DMChRbbz/dQPwPyp8dJN4hjArkfhehSuE8AYBFYOLTITwKabxCCwcgzAN4lBYOXQAMCXbhKDwMoMwHsUrkfhehvAcT0K16PwEcCgRbbz/dQUwPp+arx0kxfAVg4tsp3vD8Bcj8L1KFwZwCcxCKwcWhDA0SLb+X7qHcDdJAaBlcMQwKjGSzeJQRXAZDvfT42X/L9xPQrXo3ANwClcj8L1qBXAQGDl0CJbH8DTTWIQWDkawESLbOf7KRjAcT0K16PwEcA4XrpJDIIVwKFFtvP91AzA+n5qvHQTHsA9CtejcL0QwFK4HoXr0RXAhxbZzvdTJMBKDAIrhxYkwA==\",\"dtype\":\"float64\",\"order\":\"little\",\"shape\":[119]}},\"selected\":{\"id\":\"6202\"},\"selection_policy\":{\"id\":\"6203\"}},\"id\":\"5955\",\"type\":\"ColumnDataSource\"},{\"attributes\":{},\"id\":\"5946\",\"type\":\"HelpTool\"},{\"attributes\":{},\"id\":\"5925\",\"type\":\"DataRange1d\"},{\"attributes\":{},\"id\":\"5931\",\"type\":\"LinearScale\"},{\"attributes\":{},\"id\":\"5934\",\"type\":\"BasicTicker\"},{\"attributes\":{\"data_source\":{\"id\":\"5955\"},\"glyph\":{\"id\":\"5956\"},\"hover_glyph\":null,\"muted_glyph\":null,\"nonselection_glyph\":{\"id\":\"5957\"},\"selection_glyph\":null,\"view\":{\"id\":\"5959\"}},\"id\":\"5958\",\"type\":\"GlyphRenderer\"},{\"attributes\":{},\"id\":\"5929\",\"type\":\"LinearScale\"},{\"attributes\":{\"axis\":{\"id\":\"5933\"},\"ticker\":null},\"id\":\"5936\",\"type\":\"Grid\"},{\"attributes\":{\"formatter\":{\"id\":\"6199\"},\"ticker\":{\"id\":\"5934\"}},\"id\":\"5933\",\"type\":\"LinearAxis\"},{\"attributes\":{\"axis\":{\"id\":\"5937\"},\"dimension\":1,\"ticker\":null},\"id\":\"5940\",\"type\":\"Grid\"},{\"attributes\":{},\"id\":\"5938\",\"type\":\"BasicTicker\"},{\"attributes\":{\"active_drag\":\"auto\",\"active_inspect\":\"auto\",\"active_multi\":null,\"active_scroll\":\"auto\",\"active_tap\":\"auto\",\"tools\":[{\"id\":\"5941\"},{\"id\":\"5942\"},{\"id\":\"5943\"},{\"id\":\"5944\"},{\"id\":\"5945\"},{\"id\":\"5946\"}]},\"id\":\"5948\",\"type\":\"Toolbar\"},{\"attributes\":{},\"id\":\"5942\",\"type\":\"WheelZoomTool\"},{\"attributes\":{},\"id\":\"5941\",\"type\":\"PanTool\"},{\"attributes\":{\"overlay\":{\"id\":\"5947\"}},\"id\":\"5943\",\"type\":\"BoxZoomTool\"},{\"attributes\":{},\"id\":\"5944\",\"type\":\"SaveTool\"},{\"attributes\":{},\"id\":\"5945\",\"type\":\"ResetTool\"},{\"attributes\":{\"text\":\"Drake\"},\"id\":\"6246\",\"type\":\"Title\"},{\"attributes\":{\"source\":{\"id\":\"5955\"}},\"id\":\"5959\",\"type\":\"CDSView\"},{\"attributes\":{\"line_color\":\"#1f77b4\",\"x\":{\"field\":\"x\"},\"y\":{\"field\":\"y\"}},\"id\":\"5956\",\"type\":\"Line\"},{\"attributes\":{\"line_alpha\":0.1,\"line_color\":\"#1f77b4\",\"x\":{\"field\":\"x\"},\"y\":{\"field\":\"y\"}},\"id\":\"5957\",\"type\":\"Line\"},{\"attributes\":{\"bottom_units\":\"screen\",\"fill_alpha\":0.5,\"fill_color\":\"lightgrey\",\"left_units\":\"screen\",\"level\":\"overlay\",\"line_alpha\":1.0,\"line_color\":\"black\",\"line_dash\":[4,4],\"line_width\":2,\"right_units\":\"screen\",\"top_units\":\"screen\"},\"id\":\"5947\",\"type\":\"BoxAnnotation\"},{\"attributes\":{\"data_source\":{\"id\":\"6278\"},\"glyph\":{\"id\":\"6279\"},\"hover_glyph\":null,\"muted_glyph\":null,\"nonselection_glyph\":{\"id\":\"6280\"},\"selection_glyph\":null,\"view\":{\"id\":\"6282\"}},\"id\":\"6281\",\"type\":\"GlyphRenderer\"}],\"root_ids\":[\"6576\"]},\"title\":\"Bokeh Application\",\"version\":\"2.2.3\"}};\n",
       "  var render_items = [{\"docid\":\"a3e8b479-8ed3-47ac-b262-18153ec25fc6\",\"root_ids\":[\"6576\"],\"roots\":{\"6576\":\"4fa93c33-2b23-45c1-af7d-ae277f600ea5\"}}];\n",
       "  root.Bokeh.embed.embed_items_notebook(docs_json, render_items);\n",
       "\n",
       "  }\n",
       "  if (root.Bokeh !== undefined) {\n",
       "    embed_document(root);\n",
       "  } else {\n",
       "    var attempts = 0;\n",
       "    var timer = setInterval(function(root) {\n",
       "      if (root.Bokeh !== undefined) {\n",
       "        clearInterval(timer);\n",
       "        embed_document(root);\n",
       "      } else {\n",
       "        attempts++;\n",
       "        if (attempts > 100) {\n",
       "          clearInterval(timer);\n",
       "          console.log(\"Bokeh: ERROR: Unable to run BokehJS code because BokehJS library is missing\");\n",
       "        }\n",
       "      }\n",
       "    }, 10, root)\n",
       "  }\n",
       "})(window);"
      ],
      "application/vnd.bokehjs_exec.v0+json": ""
     },
     "metadata": {
      "application/vnd.bokehjs_exec.v0+json": {
       "id": "6576"
      }
     },
     "output_type": "display_data"
    }
   ],
   "source": [
    "# Visualiser les trois graphes selon le layout\n",
    "show(p)"
   ]
  },
  {
   "cell_type": "markdown",
   "metadata": {},
   "source": [
    "#### 2. Creation de multiple graphes selon des lignes et colonnes "
   ]
  },
  {
   "cell_type": "markdown",
   "metadata": {},
   "source": [
    "On pourrait prévoir de voir par exemple des graphes relatifs à un artiste sur une ligne, ceux d'un autre artiste sur une autre. Pour ce faire, on devra créer un nested Layout, qui est un layout permettant de simplfier l'organisation des graphes selon les lignes et les colonnes."
   ]
  },
  {
   "cell_type": "code",
   "execution_count": 47,
   "metadata": {},
   "outputs": [],
   "source": [
    "from bokeh.layouts import column"
   ]
  },
  {
   "cell_type": "code",
   "execution_count": 95,
   "metadata": {},
   "outputs": [
    {
     "data": {
      "text/html": [
       "\n",
       "\n",
       "\n",
       "\n",
       "\n",
       "\n",
       "  <div class=\"bk-root\" id=\"227ab815-b167-491d-8e74-bfa1795aa0c5\" data-root-id=\"16423\"></div>\n"
      ]
     },
     "metadata": {},
     "output_type": "display_data"
    },
    {
     "data": {
      "application/javascript": [
       "(function(root) {\n",
       "  function embed_document(root) {\n",
       "    \n",
       "  var docs_json = {\"ddf048ca-44c8-4bb4-8ebd-24f7f8f447af\":{\"roots\":{\"references\":[{\"attributes\":{\"below\":[{\"id\":\"16434\"}],\"center\":[{\"id\":\"16437\"},{\"id\":\"16441\"}],\"left\":[{\"id\":\"16438\"}],\"plot_height\":300,\"plot_width\":300,\"renderers\":[{\"id\":\"16459\"}],\"title\":{\"id\":\"16424\"},\"toolbar\":{\"id\":\"16449\"},\"x_range\":{\"id\":\"16426\"},\"x_scale\":{\"id\":\"16430\"},\"y_range\":{\"id\":\"16428\"},\"y_scale\":{\"id\":\"16432\"}},\"id\":\"16423\",\"subtype\":\"Figure\",\"type\":\"Plot\"},{\"attributes\":{\"text\":\"Eminem\"},\"id\":\"16424\",\"type\":\"Title\"},{\"attributes\":{},\"id\":\"16447\",\"type\":\"HelpTool\"},{\"attributes\":{\"active_drag\":\"auto\",\"active_inspect\":\"auto\",\"active_multi\":null,\"active_scroll\":\"auto\",\"active_tap\":\"auto\",\"tools\":[{\"id\":\"16442\"},{\"id\":\"16443\"},{\"id\":\"16444\"},{\"id\":\"16445\"},{\"id\":\"16446\"},{\"id\":\"16447\"}]},\"id\":\"16449\",\"type\":\"Toolbar\"},{\"attributes\":{\"axis\":{\"id\":\"16438\"},\"dimension\":1,\"ticker\":null},\"id\":\"16441\",\"type\":\"Grid\"},{\"attributes\":{},\"id\":\"16910\",\"type\":\"BasicTickFormatter\"},{\"attributes\":{},\"id\":\"16439\",\"type\":\"BasicTicker\"},{\"attributes\":{\"data\":{\"x\":[0,1,2,3,4,5,6,7,8,9,10,11,12,13,14,15,16,17,18,19,20,21,22,23,24,25,26,27,28,29,30,31,32,33,34,35,36,37,38,39,40,41,42,43,44,45,46,47,48,49,50,51,52,53,54,55,56,57,58,59,60,61,62,63,64,65,66,67,68,69,70,71,72,73,74,75,76,77,78,79,80,81,82,83,84,85,86,87,88,89,90,91,92,93,94,95,96,97,98,99,100,101,102,103,104,105,106,107,108,109,110,111,112,113,114,115,116,117,118,119,120,121,122,123,124,125,126,127,128,129,130,131,132,133,134,135,136,137,138,139,140,141,142,143,144,145,146,147,148,149,150,151,152,153,154,155,156,157,158,159,160,161,162,163,164,165,166,167,168,169,170,171,172,173,174,175,176,177,178,179,180,181,182,183,184,185,186,187,188,189,190,191,192,193,194,195,196,197,198,199,200,201,202,203,204,205,206,207,208,209,210,211,212,213,214,215,216,217,218,219,220,221,222,223,224,225,226,227,228,229,230,231,232,233,234,235,236,237,238,239,240,241,242,243,244,245,246,247,248,249,250,251,252,253,254,255,256,257,258,259,260,261,262,263,264,265,266,267,268,269,270,271,272,273,274,275,276,277,278,279,280,281,282,283,284,285,286,287,288,289,290,291,292,293,294,295,296,297,298,299,300,301,302],\"y\":[41,42,48,48,48,50,50,47,49,55,73,70,70,44,43,42,46,46,46,50,52,51,51,49,54,60,68,69,45,46,43,45,47,50,49,69,68,44,38,44,46,52,47,47,47,49,45,54,49,59,66,69,68,44,42,45,49,49,49,54,53,60,38,41,45,45,45,49,46,54,53,64,44,53,65,42,41,42,53,62,41,41,44,44,44,47,40,63,33,41,36,42,44,44,48,44,50,74,71,70,64,80,75,71,68,68,83,82,72,70,71,66,61,74,67,77,72,70,66,69,62,68,81,78,69,69,71,77,74,89,62,60,60,58,59,60,59,58,63,64,62,61,62,65,65,64,61,62,63,61,68,68,69,78,56,56,56,55,57,59,56,57,60,60,51,58,61,63,64,59,61,67,67,63,76,74,58,53,52,52,54,54,57,50,50,59,56,53,59,60,61,66,63,75,52,54,51,57,49,48,54,56,56,59,59,59,62,63,74,72,52,49,52,53,52,49,50,50,46,53,53,52,55,54,56,55,49,52,61,63,60,75,74,51,50,50,50,52,52,52,53,52,54,48,57,56,56,59,70,70,71,73,49,48,48,46,44,51,51,55,54,54,56,58,69,69,73,48,45,47,51,50,44,51,53,50,47,47,53,54,53,54,51,55,64,71,72,47,47,40,48,47,49,48,51,53,53,54,52,53,71,70,70]},\"selected\":{\"id\":\"16911\"},\"selection_policy\":{\"id\":\"16912\"}},\"id\":\"16456\",\"type\":\"ColumnDataSource\"},{\"attributes\":{},\"id\":\"16442\",\"type\":\"PanTool\"},{\"attributes\":{\"line_alpha\":0.1,\"line_color\":\"#1f77b4\",\"x\":{\"field\":\"x\"},\"y\":{\"field\":\"y\"}},\"id\":\"16458\",\"type\":\"Line\"},{\"attributes\":{},\"id\":\"16443\",\"type\":\"WheelZoomTool\"},{\"attributes\":{\"line_color\":\"#1f77b4\",\"x\":{\"field\":\"x\"},\"y\":{\"field\":\"y\"}},\"id\":\"16457\",\"type\":\"Line\"},{\"attributes\":{\"overlay\":{\"id\":\"16448\"}},\"id\":\"16444\",\"type\":\"BoxZoomTool\"},{\"attributes\":{},\"id\":\"16446\",\"type\":\"ResetTool\"},{\"attributes\":{},\"id\":\"16911\",\"type\":\"Selection\"},{\"attributes\":{},\"id\":\"16445\",\"type\":\"SaveTool\"},{\"attributes\":{},\"id\":\"16912\",\"type\":\"UnionRenderers\"},{\"attributes\":{\"source\":{\"id\":\"16456\"}},\"id\":\"16460\",\"type\":\"CDSView\"},{\"attributes\":{\"data_source\":{\"id\":\"16456\"},\"glyph\":{\"id\":\"16457\"},\"hover_glyph\":null,\"muted_glyph\":null,\"nonselection_glyph\":{\"id\":\"16458\"},\"selection_glyph\":null,\"view\":{\"id\":\"16460\"}},\"id\":\"16459\",\"type\":\"GlyphRenderer\"},{\"attributes\":{},\"id\":\"16428\",\"type\":\"DataRange1d\"},{\"attributes\":{},\"id\":\"16430\",\"type\":\"LinearScale\"},{\"attributes\":{\"bottom_units\":\"screen\",\"fill_alpha\":0.5,\"fill_color\":\"lightgrey\",\"left_units\":\"screen\",\"level\":\"overlay\",\"line_alpha\":1.0,\"line_color\":\"black\",\"line_dash\":[4,4],\"line_width\":2,\"right_units\":\"screen\",\"top_units\":\"screen\"},\"id\":\"16448\",\"type\":\"BoxAnnotation\"},{\"attributes\":{},\"id\":\"16432\",\"type\":\"LinearScale\"},{\"attributes\":{\"formatter\":{\"id\":\"16910\"},\"ticker\":{\"id\":\"16439\"}},\"id\":\"16438\",\"type\":\"LinearAxis\"},{\"attributes\":{\"axis\":{\"id\":\"16434\"},\"ticker\":null},\"id\":\"16437\",\"type\":\"Grid\"},{\"attributes\":{},\"id\":\"16426\",\"type\":\"DataRange1d\"},{\"attributes\":{},\"id\":\"16435\",\"type\":\"BasicTicker\"},{\"attributes\":{\"formatter\":{\"id\":\"16908\"},\"ticker\":{\"id\":\"16435\"}},\"id\":\"16434\",\"type\":\"LinearAxis\"},{\"attributes\":{},\"id\":\"16908\",\"type\":\"BasicTickFormatter\"}],\"root_ids\":[\"16423\"]},\"title\":\"Bokeh Application\",\"version\":\"2.2.3\"}};\n",
       "  var render_items = [{\"docid\":\"ddf048ca-44c8-4bb4-8ebd-24f7f8f447af\",\"root_ids\":[\"16423\"],\"roots\":{\"16423\":\"227ab815-b167-491d-8e74-bfa1795aa0c5\"}}];\n",
       "  root.Bokeh.embed.embed_items_notebook(docs_json, render_items);\n",
       "\n",
       "  }\n",
       "  if (root.Bokeh !== undefined) {\n",
       "    embed_document(root);\n",
       "  } else {\n",
       "    var attempts = 0;\n",
       "    var timer = setInterval(function(root) {\n",
       "      if (root.Bokeh !== undefined) {\n",
       "        clearInterval(timer);\n",
       "        embed_document(root);\n",
       "      } else {\n",
       "        attempts++;\n",
       "        if (attempts > 100) {\n",
       "          clearInterval(timer);\n",
       "          console.log(\"Bokeh: ERROR: Unable to run BokehJS code because BokehJS library is missing\");\n",
       "        }\n",
       "      }\n",
       "    }, 10, root)\n",
       "  }\n",
       "})(window);"
      ],
      "application/vnd.bokehjs_exec.v0+json": ""
     },
     "metadata": {
      "application/vnd.bokehjs_exec.v0+json": {
       "id": "16423"
      }
     },
     "output_type": "display_data"
    },
    {
     "data": {
      "text/html": [
       "\n",
       "\n",
       "\n",
       "\n",
       "\n",
       "\n",
       "  <div class=\"bk-root\" id=\"abfd395d-2274-422b-9f26-9aa39b7fd1a5\" data-root-id=\"16954\"></div>\n"
      ]
     },
     "metadata": {},
     "output_type": "display_data"
    },
    {
     "data": {
      "application/javascript": [
       "(function(root) {\n",
       "  function embed_document(root) {\n",
       "    \n",
       "  var docs_json = {\"48b1af5a-918b-474c-89a3-8736dc3cf007\":{\"roots\":{\"references\":[{\"attributes\":{\"below\":[{\"id\":\"16965\"}],\"center\":[{\"id\":\"16968\"},{\"id\":\"16972\"}],\"left\":[{\"id\":\"16969\"}],\"plot_height\":300,\"plot_width\":300,\"renderers\":[{\"id\":\"16990\"}],\"title\":{\"id\":\"16955\"},\"toolbar\":{\"id\":\"16980\"},\"x_range\":{\"id\":\"16957\"},\"x_scale\":{\"id\":\"16961\"},\"y_range\":{\"id\":\"16959\"},\"y_scale\":{\"id\":\"16963\"}},\"id\":\"16954\",\"subtype\":\"Figure\",\"type\":\"Plot\"},{\"attributes\":{\"text\":\"Rihanna\"},\"id\":\"16955\",\"type\":\"Title\"},{\"attributes\":{\"formatter\":{\"id\":\"17449\"},\"ticker\":{\"id\":\"16970\"}},\"id\":\"16969\",\"type\":\"LinearAxis\"},{\"attributes\":{\"data_source\":{\"id\":\"16987\"},\"glyph\":{\"id\":\"16988\"},\"hover_glyph\":null,\"muted_glyph\":null,\"nonselection_glyph\":{\"id\":\"16989\"},\"selection_glyph\":null,\"view\":{\"id\":\"16991\"}},\"id\":\"16990\",\"type\":\"GlyphRenderer\"},{\"attributes\":{\"axis\":{\"id\":\"16965\"},\"ticker\":null},\"id\":\"16968\",\"type\":\"Grid\"},{\"attributes\":{},\"id\":\"16957\",\"type\":\"DataRange1d\"},{\"attributes\":{\"axis\":{\"id\":\"16969\"},\"dimension\":1,\"ticker\":null},\"id\":\"16972\",\"type\":\"Grid\"},{\"attributes\":{},\"id\":\"16970\",\"type\":\"BasicTicker\"},{\"attributes\":{\"data\":{\"x\":[0,1,2,3,4,5,6,7,8,9,10,11,12,13,14,15,16,17,18,19,20,21,22,23,24,25,26,27,28,29,30,31,32,33,34,35,36,37,38,39,40,41,42,43,44,45,46,47,48,49,50,51,52,53,54,55,56,57,58,59,60,61,62,63,64,65,66,67,68,69,70,71,72,73,74,75,76,77,78,79,80,81,82,83,84,85,86,87,88,89,90,91,92,93,94,95,96,97,98,99,100,101,102,103,104,105,106,107,108,109,110,111,112,113,114,115,116,117,118],\"y\":[55,62,64,50,50,47,50,48,56,59,52,45,54,58,46,58,48,60,49,45,62,50,51,55,43,60,48,57,58,49,75,69,70,65,63,80,76,75,72,77,70,73,81,66,74,72,67,66,66,74,79,75,78,80,79,86,70,65,62,67,62,61,76,73,73,55,54,65,59,64,63,59,66,62,69,68,66,62,51,56,57,56,59,59,69,64,55,53,55,65,59,55,64,66,55,52,72,53,64,57,66,58,64,62,49,52,58,62,58,65,58,60,56,56,54,52,61,61,64]},\"selected\":{\"id\":\"17450\"},\"selection_policy\":{\"id\":\"17451\"}},\"id\":\"16987\",\"type\":\"ColumnDataSource\"},{\"attributes\":{\"active_drag\":\"auto\",\"active_inspect\":\"auto\",\"active_multi\":null,\"active_scroll\":\"auto\",\"active_tap\":\"auto\",\"tools\":[{\"id\":\"16973\"},{\"id\":\"16974\"},{\"id\":\"16975\"},{\"id\":\"16976\"},{\"id\":\"16977\"},{\"id\":\"16978\"}]},\"id\":\"16980\",\"type\":\"Toolbar\"},{\"attributes\":{},\"id\":\"16974\",\"type\":\"WheelZoomTool\"},{\"attributes\":{},\"id\":\"16973\",\"type\":\"PanTool\"},{\"attributes\":{\"overlay\":{\"id\":\"16979\"}},\"id\":\"16975\",\"type\":\"BoxZoomTool\"},{\"attributes\":{},\"id\":\"17447\",\"type\":\"BasicTickFormatter\"},{\"attributes\":{},\"id\":\"16976\",\"type\":\"SaveTool\"},{\"attributes\":{\"line_alpha\":0.1,\"line_color\":\"#1f77b4\",\"x\":{\"field\":\"x\"},\"y\":{\"field\":\"y\"}},\"id\":\"16989\",\"type\":\"Line\"},{\"attributes\":{},\"id\":\"16977\",\"type\":\"ResetTool\"},{\"attributes\":{\"line_color\":\"#1f77b4\",\"x\":{\"field\":\"x\"},\"y\":{\"field\":\"y\"}},\"id\":\"16988\",\"type\":\"Line\"},{\"attributes\":{},\"id\":\"17449\",\"type\":\"BasicTickFormatter\"},{\"attributes\":{\"source\":{\"id\":\"16987\"}},\"id\":\"16991\",\"type\":\"CDSView\"},{\"attributes\":{},\"id\":\"17450\",\"type\":\"Selection\"},{\"attributes\":{},\"id\":\"17451\",\"type\":\"UnionRenderers\"},{\"attributes\":{\"bottom_units\":\"screen\",\"fill_alpha\":0.5,\"fill_color\":\"lightgrey\",\"left_units\":\"screen\",\"level\":\"overlay\",\"line_alpha\":1.0,\"line_color\":\"black\",\"line_dash\":[4,4],\"line_width\":2,\"right_units\":\"screen\",\"top_units\":\"screen\"},\"id\":\"16979\",\"type\":\"BoxAnnotation\"},{\"attributes\":{\"formatter\":{\"id\":\"17447\"},\"ticker\":{\"id\":\"16966\"}},\"id\":\"16965\",\"type\":\"LinearAxis\"},{\"attributes\":{},\"id\":\"16959\",\"type\":\"DataRange1d\"},{\"attributes\":{},\"id\":\"16961\",\"type\":\"LinearScale\"},{\"attributes\":{},\"id\":\"16966\",\"type\":\"BasicTicker\"},{\"attributes\":{},\"id\":\"16963\",\"type\":\"LinearScale\"},{\"attributes\":{},\"id\":\"16978\",\"type\":\"HelpTool\"}],\"root_ids\":[\"16954\"]},\"title\":\"Bokeh Application\",\"version\":\"2.2.3\"}};\n",
       "  var render_items = [{\"docid\":\"48b1af5a-918b-474c-89a3-8736dc3cf007\",\"root_ids\":[\"16954\"],\"roots\":{\"16954\":\"abfd395d-2274-422b-9f26-9aa39b7fd1a5\"}}];\n",
       "  root.Bokeh.embed.embed_items_notebook(docs_json, render_items);\n",
       "\n",
       "  }\n",
       "  if (root.Bokeh !== undefined) {\n",
       "    embed_document(root);\n",
       "  } else {\n",
       "    var attempts = 0;\n",
       "    var timer = setInterval(function(root) {\n",
       "      if (root.Bokeh !== undefined) {\n",
       "        clearInterval(timer);\n",
       "        embed_document(root);\n",
       "      } else {\n",
       "        attempts++;\n",
       "        if (attempts > 100) {\n",
       "          clearInterval(timer);\n",
       "          console.log(\"Bokeh: ERROR: Unable to run BokehJS code because BokehJS library is missing\");\n",
       "        }\n",
       "      }\n",
       "    }, 10, root)\n",
       "  }\n",
       "})(window);"
      ],
      "application/vnd.bokehjs_exec.v0+json": ""
     },
     "metadata": {
      "application/vnd.bokehjs_exec.v0+json": {
       "id": "16954"
      }
     },
     "output_type": "display_data"
    },
    {
     "data": {
      "text/html": [
       "\n",
       "\n",
       "\n",
       "\n",
       "\n",
       "\n",
       "  <div class=\"bk-root\" id=\"cfca8f9a-f403-4e9d-9e10-a21c7cd1ef94\" data-root-id=\"17493\"></div>\n"
      ]
     },
     "metadata": {},
     "output_type": "display_data"
    },
    {
     "data": {
      "application/javascript": [
       "(function(root) {\n",
       "  function embed_document(root) {\n",
       "    \n",
       "  var docs_json = {\"76ea83cf-d024-4be5-ba31-e405ae228b02\":{\"roots\":{\"references\":[{\"attributes\":{\"below\":[{\"id\":\"17504\"}],\"center\":[{\"id\":\"17507\"},{\"id\":\"17511\"}],\"left\":[{\"id\":\"17508\"}],\"plot_height\":300,\"plot_width\":300,\"renderers\":[{\"id\":\"17529\"}],\"title\":{\"id\":\"17494\"},\"toolbar\":{\"id\":\"17519\"},\"x_range\":{\"id\":\"17496\"},\"x_scale\":{\"id\":\"17500\"},\"y_range\":{\"id\":\"17498\"},\"y_scale\":{\"id\":\"17502\"}},\"id\":\"17493\",\"subtype\":\"Figure\",\"type\":\"Plot\"},{\"attributes\":{},\"id\":\"17998\",\"type\":\"UnionRenderers\"},{\"attributes\":{\"source\":{\"id\":\"17526\"}},\"id\":\"17530\",\"type\":\"CDSView\"},{\"attributes\":{},\"id\":\"17500\",\"type\":\"LinearScale\"},{\"attributes\":{},\"id\":\"17502\",\"type\":\"LinearScale\"},{\"attributes\":{\"formatter\":{\"id\":\"17996\"},\"ticker\":{\"id\":\"17509\"}},\"id\":\"17508\",\"type\":\"LinearAxis\"},{\"attributes\":{\"bottom_units\":\"screen\",\"fill_alpha\":0.5,\"fill_color\":\"lightgrey\",\"left_units\":\"screen\",\"level\":\"overlay\",\"line_alpha\":1.0,\"line_color\":\"black\",\"line_dash\":[4,4],\"line_width\":2,\"right_units\":\"screen\",\"top_units\":\"screen\"},\"id\":\"17518\",\"type\":\"BoxAnnotation\"},{\"attributes\":{},\"id\":\"17997\",\"type\":\"Selection\"},{\"attributes\":{},\"id\":\"17505\",\"type\":\"BasicTicker\"},{\"attributes\":{},\"id\":\"17498\",\"type\":\"DataRange1d\"},{\"attributes\":{\"formatter\":{\"id\":\"17994\"},\"ticker\":{\"id\":\"17505\"}},\"id\":\"17504\",\"type\":\"LinearAxis\"},{\"attributes\":{},\"id\":\"17496\",\"type\":\"DataRange1d\"},{\"attributes\":{},\"id\":\"17517\",\"type\":\"HelpTool\"},{\"attributes\":{\"axis\":{\"id\":\"17504\"},\"ticker\":null},\"id\":\"17507\",\"type\":\"Grid\"},{\"attributes\":{\"data_source\":{\"id\":\"17526\"},\"glyph\":{\"id\":\"17527\"},\"hover_glyph\":null,\"muted_glyph\":null,\"nonselection_glyph\":{\"id\":\"17528\"},\"selection_glyph\":null,\"view\":{\"id\":\"17530\"}},\"id\":\"17529\",\"type\":\"GlyphRenderer\"},{\"attributes\":{\"text\":\"Drake\"},\"id\":\"17494\",\"type\":\"Title\"},{\"attributes\":{},\"id\":\"17994\",\"type\":\"BasicTickFormatter\"},{\"attributes\":{\"axis\":{\"id\":\"17508\"},\"dimension\":1,\"ticker\":null},\"id\":\"17511\",\"type\":\"Grid\"},{\"attributes\":{},\"id\":\"17509\",\"type\":\"BasicTicker\"},{\"attributes\":{\"data\":{\"x\":[0,1,2,3,4,5,6,7,8,9,10,11,12,13,14,15,16,17,18,19,20,21,22,23,24,25,26,27,28,29,30,31,32,33,34,35,36,37,38,39,40,41,42,43,44,45,46,47,48,49,50,51,52,53,54,55,56,57,58,59,60,61,62,63,64,65,66,67,68,69,70,71,72,73,74,75,76,77,78,79,80,81,82,83,84,85,86,87,88,89,90,91,92,93,94,95,96,97,98,99,100,101,102,103,104,105,106,107,108,109,110,111,112,113,114,115,116,117,118,119,120,121,122,123,124,125,126,127,128,129,130,131,132,133,134,135,136,137,138,139,140,141,142,143,144,145,146,147,148,149,150,151,152,153,154,155,156,157,158,159,160,161,162,163,164,165,166,167,168,169,170,171,172,173,174,175,176,177,178,179,180,181,182,183,184,185,186,187,188,189,190,191,192,193,194,195,196,197,198,199,200,201,202,203,204,205,206,207,208,209,210,211,212,213,214,215,216,217,218,219,220,221,222,223,224,225,226,227,228,229,230,231,232,233,234,235,236,237,238,239,240,241,242,243,244,245,246,247,248,249,250,251,252,253,254,255,256,257,258,259,260,261,262,263,264,265,266,267,268,269,270,271,272,273,274,275,276,277,278,279,280,281,282,283,284,285,286,287,288,289,290,291,292,293,294,295,296,297,298,299,300,301,302,303,304,305,306,307,308,309,310,311,312,313,314,315,316,317,318,319,320,321,322,323,324,325,326,327,328,329,330,331,332,333,334,335,336,337,338,339,340,341,342,343,344,345,346,347,348,349,350,351,352,353,354,355,356,357,358,359,360,361,362,363,364,365,366,367,368,369,370,371,372,373,374,375,376,377,378,379,380,381,382,383,384,385,386,387,388,389,390,391,392,393,394,395,396,397,398,399,400,401,402,403,404],\"y\":[14,13,48,48,46,50,47,49,49,52,56,57,56,59,56,54,57,64,62,64,64,65,69,63,12,46,56,55,49,48,56,58,65,71,0,12,11,57,52,58,61,59,64,0,11,48,55,58,58,55,54,62,64,0,10,11,43,44,50,45,56,45,54,55,57,63,62,68,64,47,46,45,56,0,46,43,46,52,61,62,0,47,45,43,49,43,45,52,52,55,56,62,62,64,0,47,40,47,42,42,59,59,61,63,0,45,60,54,61,61,20,18,10,8,4,4,2,3,3,15,60,61,62,69,70,66,68,68,67,68,74,72,72,72,69,68,69,67,66,69,76,71,68,66,70,66,66,68,71,76,74,70,70,82,73,77,80,83,80,84,81,80,80,81,85,83,95,90,88,84,83,87,9,57,51,58,52,52,61,59,61,61,61,63,63,61,60,62,63,64,65,64,60,62,70,66,65,71,68,67,67,68,76,69,70,72,73,69,74,75,74,77,80,77,79,79,79,78,76,3,2,7,7,8,6,6,6,5,6,5,29,47,48,53,50,48,48,55,59,56,58,57,56,61,60,59,58,58,61,59,59,64,66,63,66,71,72,73,5,5,5,6,46,44,46,46,45,44,58,57,57,55,57,59,56,58,57,57,58,58,57,60,64,65,65,61,69,72,73,74,73,44,44,57,52,55,60,57,56,54,63,62,62,62,64,64,73,71,77,2,40,40,41,41,40,53,54,54,51,55,54,54,60,55,54,61,61,60,61,60,60,69,70,73,40,39,38,52,51,51,51,51,51,52,56,57,59,60,60,60,59,60,62,67,72,70,69,17,50,49,53,51,51,51,61,58,63,58,67,66,67,69,0,50,50,49,49,58,63,48,51,51,56,60,60,59,56,67,72,15,14,47,48,49,50,50,50,58,57,57,56,60,64,65,68]},\"selected\":{\"id\":\"17997\"},\"selection_policy\":{\"id\":\"17998\"}},\"id\":\"17526\",\"type\":\"ColumnDataSource\"},{\"attributes\":{\"active_drag\":\"auto\",\"active_inspect\":\"auto\",\"active_multi\":null,\"active_scroll\":\"auto\",\"active_tap\":\"auto\",\"tools\":[{\"id\":\"17512\"},{\"id\":\"17513\"},{\"id\":\"17514\"},{\"id\":\"17515\"},{\"id\":\"17516\"},{\"id\":\"17517\"}]},\"id\":\"17519\",\"type\":\"Toolbar\"},{\"attributes\":{},\"id\":\"17513\",\"type\":\"WheelZoomTool\"},{\"attributes\":{},\"id\":\"17512\",\"type\":\"PanTool\"},{\"attributes\":{},\"id\":\"17996\",\"type\":\"BasicTickFormatter\"},{\"attributes\":{\"overlay\":{\"id\":\"17518\"}},\"id\":\"17514\",\"type\":\"BoxZoomTool\"},{\"attributes\":{},\"id\":\"17515\",\"type\":\"SaveTool\"},{\"attributes\":{},\"id\":\"17516\",\"type\":\"ResetTool\"},{\"attributes\":{\"line_alpha\":0.1,\"line_color\":\"#1f77b4\",\"x\":{\"field\":\"x\"},\"y\":{\"field\":\"y\"}},\"id\":\"17528\",\"type\":\"Line\"},{\"attributes\":{\"line_color\":\"#1f77b4\",\"x\":{\"field\":\"x\"},\"y\":{\"field\":\"y\"}},\"id\":\"17527\",\"type\":\"Line\"}],\"root_ids\":[\"17493\"]},\"title\":\"Bokeh Application\",\"version\":\"2.2.3\"}};\n",
       "  var render_items = [{\"docid\":\"76ea83cf-d024-4be5-ba31-e405ae228b02\",\"root_ids\":[\"17493\"],\"roots\":{\"17493\":\"cfca8f9a-f403-4e9d-9e10-a21c7cd1ef94\"}}];\n",
       "  root.Bokeh.embed.embed_items_notebook(docs_json, render_items);\n",
       "\n",
       "  }\n",
       "  if (root.Bokeh !== undefined) {\n",
       "    embed_document(root);\n",
       "  } else {\n",
       "    var attempts = 0;\n",
       "    var timer = setInterval(function(root) {\n",
       "      if (root.Bokeh !== undefined) {\n",
       "        clearInterval(timer);\n",
       "        embed_document(root);\n",
       "      } else {\n",
       "        attempts++;\n",
       "        if (attempts > 100) {\n",
       "          clearInterval(timer);\n",
       "          console.log(\"Bokeh: ERROR: Unable to run BokehJS code because BokehJS library is missing\");\n",
       "        }\n",
       "      }\n",
       "    }, 10, root)\n",
       "  }\n",
       "})(window);"
      ],
      "application/vnd.bokehjs_exec.v0+json": ""
     },
     "metadata": {
      "application/vnd.bokehjs_exec.v0+json": {
       "id": "17493"
      }
     },
     "output_type": "display_data"
    }
   ],
   "source": [
    "# créer 3 graphes des mêmes artistes, dépictant cette fois la popularité\n",
    "df_p = df[[\"artists\", \"popularity\"]]\n",
    "options = dict(plot_width=300, plot_height=300)\n",
    "\n",
    "df_e = df_p[df_p[\"artists\"].str.contains(\"Eminem\")]\n",
    "p_e_p = figure(title=\"Eminem\", **options)\n",
    "p_e_p.line(list(range(0, len(df_e[\"popularity\"]))), df_e[\"popularity\"] )\n",
    "show(p_e_p)\n",
    "\n",
    "df_r = df_p[df_p[\"artists\"].str.contains(\"Rihanna\")]\n",
    "p_r_p = figure(title=\"Rihanna\", **options)\n",
    "p_r_p.line(list(range(0, len(df_r[\"popularity\"]))), df_r[\"popularity\"] )\n",
    "show(p_r_p)\n",
    "\n",
    "df_d = df_p[df_p[\"artists\"].str.contains(\"Drake\")]\n",
    "p_d_p = figure(title=\"Drake\", **options)\n",
    "p_d_p.line(list(range(0, len(df_d[\"popularity\"]))), df_d[\"popularity\"] )\n",
    "show(p_d_p)\n"
   ]
  },
  {
   "cell_type": "code",
   "execution_count": 103,
   "metadata": {},
   "outputs": [],
   "source": [
    "# Créer un object nested_layout qui organisera vos graphes où chaque ligne sera consacré à un artiste, chaque colonne à visualiser une mesure\n",
    "nested_layout = column(row(p_e,p_e_p), row(p_r,p_r_p), row(p_d,p_d_p))"
   ]
  },
  {
   "cell_type": "code",
   "execution_count": 104,
   "metadata": {},
   "outputs": [
    {
     "data": {
      "text/html": [
       "\n",
       "\n",
       "\n",
       "\n",
       "\n",
       "\n",
       "  <div class=\"bk-root\" id=\"6418a026-3e84-47c2-babc-046cef520a9b\" data-root-id=\"19721\"></div>\n"
      ]
     },
     "metadata": {},
     "output_type": "display_data"
    },
    {
     "data": {
      "application/javascript": [
       "(function(root) {\n",
       "  function embed_document(root) {\n",
       "    \n",
       "  var docs_json = {\"1cf76425-3ddf-4d1f-a711-45806b2af1aa\":{\"roots\":{\"references\":[{\"attributes\":{\"children\":[{\"id\":\"19718\"},{\"id\":\"19719\"},{\"id\":\"19720\"}]},\"id\":\"19721\",\"type\":\"Column\"},{\"attributes\":{},\"id\":\"17998\",\"type\":\"UnionRenderers\"},{\"attributes\":{\"bottom_units\":\"screen\",\"fill_alpha\":0.5,\"fill_color\":\"lightgrey\",\"left_units\":\"screen\",\"level\":\"overlay\",\"line_alpha\":1.0,\"line_color\":\"black\",\"line_dash\":[4,4],\"line_width\":2,\"right_units\":\"screen\",\"top_units\":\"screen\"},\"id\":\"6270\",\"type\":\"BoxAnnotation\"},{\"attributes\":{\"axis\":{\"id\":\"5622\"},\"dimension\":1,\"ticker\":null},\"id\":\"5625\",\"type\":\"Grid\"},{\"attributes\":{\"below\":[{\"id\":\"16434\"}],\"center\":[{\"id\":\"16437\"},{\"id\":\"16441\"}],\"left\":[{\"id\":\"16438\"}],\"plot_height\":250,\"plot_width\":250,\"renderers\":[{\"id\":\"16459\"}],\"title\":{\"id\":\"16424\"},\"toolbar\":{\"id\":\"16449\"},\"toolbar_location\":null,\"x_range\":{\"id\":\"16426\"},\"x_scale\":{\"id\":\"16430\"},\"y_range\":{\"id\":\"16428\"},\"y_scale\":{\"id\":\"16432\"}},\"id\":\"16423\",\"subtype\":\"Figure\",\"type\":\"Plot\"},{\"attributes\":{},\"id\":\"6199\",\"type\":\"BasicTickFormatter\"},{\"attributes\":{\"line_alpha\":0.1,\"line_color\":\"#1f77b4\",\"x\":{\"field\":\"x\"},\"y\":{\"field\":\"y\"}},\"id\":\"16989\",\"type\":\"Line\"},{\"attributes\":{},\"id\":\"6201\",\"type\":\"BasicTickFormatter\"},{\"attributes\":{\"line_color\":\"#1f77b4\",\"x\":{\"field\":\"x\"},\"y\":{\"field\":\"y\"}},\"id\":\"16988\",\"type\":\"Line\"},{\"attributes\":{\"data_source\":{\"id\":\"16456\"},\"glyph\":{\"id\":\"16457\"},\"hover_glyph\":null,\"muted_glyph\":null,\"nonselection_glyph\":{\"id\":\"16458\"},\"selection_glyph\":null,\"view\":{\"id\":\"16460\"}},\"id\":\"16459\",\"type\":\"GlyphRenderer\"},{\"attributes\":{\"bottom_units\":\"screen\",\"fill_alpha\":0.5,\"fill_color\":\"lightgrey\",\"left_units\":\"screen\",\"level\":\"overlay\",\"line_alpha\":1.0,\"line_color\":\"black\",\"line_dash\":[4,4],\"line_width\":2,\"right_units\":\"screen\",\"top_units\":\"screen\"},\"id\":\"5632\",\"type\":\"BoxAnnotation\"},{\"attributes\":{\"data_source\":{\"id\":\"5640\"},\"glyph\":{\"id\":\"5641\"},\"hover_glyph\":null,\"muted_glyph\":null,\"nonselection_glyph\":{\"id\":\"5642\"},\"selection_glyph\":null,\"view\":{\"id\":\"5644\"}},\"id\":\"5643\",\"type\":\"GlyphRenderer\"},{\"attributes\":{},\"id\":\"6202\",\"type\":\"Selection\"},{\"attributes\":{},\"id\":\"17449\",\"type\":\"BasicTickFormatter\"},{\"attributes\":{},\"id\":\"6203\",\"type\":\"UnionRenderers\"},{\"attributes\":{\"children\":[{\"id\":\"6245\"},{\"id\":\"17493\"}]},\"id\":\"19720\",\"type\":\"Row\"},{\"attributes\":{\"line_color\":\"#1f77b4\",\"x\":{\"field\":\"x\"},\"y\":{\"field\":\"y\"}},\"id\":\"6279\",\"type\":\"Line\"},{\"attributes\":{},\"id\":\"17450\",\"type\":\"Selection\"},{\"attributes\":{\"line_alpha\":0.1,\"line_color\":\"#1f77b4\",\"x\":{\"field\":\"x\"},\"y\":{\"field\":\"y\"}},\"id\":\"6280\",\"type\":\"Line\"},{\"attributes\":{},\"id\":\"17451\",\"type\":\"UnionRenderers\"},{\"attributes\":{\"source\":{\"id\":\"6278\"}},\"id\":\"6282\",\"type\":\"CDSView\"},{\"attributes\":{\"children\":[{\"id\":\"5607\"},{\"id\":\"16423\"}]},\"id\":\"19718\",\"type\":\"Row\"},{\"attributes\":{\"active_drag\":\"auto\",\"active_inspect\":\"auto\",\"active_multi\":null,\"active_scroll\":\"auto\",\"active_tap\":\"auto\",\"tools\":[{\"id\":\"5626\"},{\"id\":\"5627\"},{\"id\":\"5628\"},{\"id\":\"5629\"},{\"id\":\"5630\"},{\"id\":\"5631\"}]},\"id\":\"5633\",\"type\":\"Toolbar\"},{\"attributes\":{\"below\":[{\"id\":\"6256\"}],\"center\":[{\"id\":\"6259\"},{\"id\":\"6263\"}],\"left\":[{\"id\":\"6260\"}],\"plot_height\":250,\"plot_width\":250,\"renderers\":[{\"id\":\"6281\"}],\"title\":{\"id\":\"6246\"},\"toolbar\":{\"id\":\"6271\"},\"toolbar_location\":null,\"x_range\":{\"id\":\"6248\"},\"x_scale\":{\"id\":\"6252\"},\"y_range\":{\"id\":\"6250\"},\"y_scale\":{\"id\":\"6254\"}},\"id\":\"6245\",\"subtype\":\"Figure\",\"type\":\"Plot\"},{\"attributes\":{\"data\":{\"x\":[0,1,2,3,4,5,6,7,8,9,10,11,12,13,14,15,16,17,18,19,20,21,22,23,24,25,26,27,28,29,30,31,32,33,34,35,36,37,38,39,40,41,42,43,44,45,46,47,48,49,50,51,52,53,54,55,56,57,58,59,60,61,62,63,64,65,66,67,68,69,70,71,72,73,74,75,76,77,78,79,80,81,82,83,84,85,86,87,88,89,90,91,92,93,94,95,96,97,98,99,100,101,102,103,104,105,106,107,108,109,110,111,112,113,114,115,116,117,118,119,120,121,122,123,124,125,126,127,128,129,130,131,132,133,134,135,136,137,138,139,140,141,142,143,144,145,146,147,148,149,150,151,152,153,154,155,156,157,158,159,160,161,162,163,164,165,166,167,168,169,170,171,172,173,174,175,176,177,178,179,180,181,182,183,184,185,186,187,188,189,190,191,192,193,194,195,196,197,198,199,200,201,202,203,204,205,206,207,208,209,210,211,212,213,214,215,216,217,218,219,220,221,222,223,224,225,226,227,228,229,230,231,232,233,234,235,236,237,238,239,240,241,242,243,244,245,246,247,248,249,250,251,252,253,254,255,256,257,258,259,260,261,262,263,264,265,266,267,268,269,270,271,272,273,274,275,276,277,278,279,280,281,282,283,284,285,286,287,288,289,290,291,292,293,294,295,296,297,298,299,300,301,302,303,304,305,306,307,308,309,310,311,312,313,314,315,316,317,318,319,320,321,322,323,324,325,326,327,328,329,330,331,332,333,334,335,336,337,338,339,340,341,342,343,344,345,346,347,348,349,350,351,352,353,354,355,356,357,358,359,360,361,362,363,364,365,366,367,368,369,370,371,372,373,374,375,376,377,378,379,380,381,382,383,384,385,386,387,388,389,390,391,392,393,394,395,396,397,398,399,400,401,402,403,404],\"y\":{\"__ndarray__\":\"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\",\"dtype\":\"float64\",\"order\":\"little\",\"shape\":[405]}},\"selected\":{\"id\":\"6533\"},\"selection_policy\":{\"id\":\"6534\"}},\"id\":\"6278\",\"type\":\"ColumnDataSource\"},{\"attributes\":{},\"id\":\"6252\",\"type\":\"LinearScale\"},{\"attributes\":{\"line_color\":\"#1f77b4\",\"x\":{\"field\":\"x\"},\"y\":{\"field\":\"y\"}},\"id\":\"5641\",\"type\":\"Line\"},{\"attributes\":{\"line_alpha\":0.1,\"line_color\":\"#1f77b4\",\"x\":{\"field\":\"x\"},\"y\":{\"field\":\"y\"}},\"id\":\"5642\",\"type\":\"Line\"},{\"attributes\":{},\"id\":\"6257\",\"type\":\"BasicTicker\"},{\"attributes\":{},\"id\":\"6250\",\"type\":\"DataRange1d\"},{\"attributes\":{\"children\":[{\"id\":\"5922\"},{\"id\":\"16954\"}]},\"id\":\"19719\",\"type\":\"Row\"},{\"attributes\":{\"below\":[{\"id\":\"5618\"}],\"center\":[{\"id\":\"5621\"},{\"id\":\"5625\"}],\"left\":[{\"id\":\"5622\"}],\"plot_height\":250,\"plot_width\":250,\"renderers\":[{\"id\":\"5643\"}],\"title\":{\"id\":\"5608\"},\"toolbar\":{\"id\":\"5633\"},\"toolbar_location\":null,\"x_range\":{\"id\":\"5610\"},\"x_scale\":{\"id\":\"5614\"},\"y_range\":{\"id\":\"5612\"},\"y_scale\":{\"id\":\"5616\"}},\"id\":\"5607\",\"subtype\":\"Figure\",\"type\":\"Plot\"},{\"attributes\":{\"formatter\":{\"id\":\"6530\"},\"ticker\":{\"id\":\"6257\"}},\"id\":\"6256\",\"type\":\"LinearAxis\"},{\"attributes\":{\"source\":{\"id\":\"5640\"}},\"id\":\"5644\",\"type\":\"CDSView\"},{\"attributes\":{},\"id\":\"6269\",\"type\":\"HelpTool\"},{\"attributes\":{},\"id\":\"6248\",\"type\":\"DataRange1d\"},{\"attributes\":{},\"id\":\"17500\",\"type\":\"LinearScale\"},{\"attributes\":{},\"id\":\"6254\",\"type\":\"LinearScale\"},{\"attributes\":{},\"id\":\"17502\",\"type\":\"LinearScale\"},{\"attributes\":{\"formatter\":{\"id\":\"17996\"},\"ticker\":{\"id\":\"17509\"}},\"id\":\"17508\",\"type\":\"LinearAxis\"},{\"attributes\":{},\"id\":\"6530\",\"type\":\"BasicTickFormatter\"},{\"attributes\":{},\"id\":\"17505\",\"type\":\"BasicTicker\"},{\"attributes\":{},\"id\":\"17498\",\"type\":\"DataRange1d\"},{\"attributes\":{\"formatter\":{\"id\":\"5876\"},\"ticker\":{\"id\":\"5619\"}},\"id\":\"5618\",\"type\":\"LinearAxis\"},{\"attributes\":{\"formatter\":{\"id\":\"6532\"},\"ticker\":{\"id\":\"6261\"}},\"id\":\"6260\",\"type\":\"LinearAxis\"},{\"attributes\":{\"formatter\":{\"id\":\"17994\"},\"ticker\":{\"id\":\"17505\"}},\"id\":\"17504\",\"type\":\"LinearAxis\"},{\"attributes\":{},\"id\":\"5612\",\"type\":\"DataRange1d\"},{\"attributes\":{},\"id\":\"16428\",\"type\":\"DataRange1d\"},{\"attributes\":{\"axis\":{\"id\":\"6256\"},\"ticker\":null},\"id\":\"6259\",\"type\":\"Grid\"},{\"attributes\":{\"axis\":{\"id\":\"6260\"},\"dimension\":1,\"ticker\":null},\"id\":\"6263\",\"type\":\"Grid\"},{\"attributes\":{},\"id\":\"17496\",\"type\":\"DataRange1d\"},{\"attributes\":{},\"id\":\"16430\",\"type\":\"LinearScale\"},{\"attributes\":{},\"id\":\"6261\",\"type\":\"BasicTicker\"},{\"attributes\":{},\"id\":\"17517\",\"type\":\"HelpTool\"},{\"attributes\":{\"overlay\":{\"id\":\"5632\"}},\"id\":\"5628\",\"type\":\"BoxZoomTool\"},{\"attributes\":{},\"id\":\"5614\",\"type\":\"LinearScale\"},{\"attributes\":{\"active_drag\":\"auto\",\"active_inspect\":\"auto\",\"active_multi\":null,\"active_scroll\":\"auto\",\"active_tap\":\"auto\",\"tools\":[{\"id\":\"6264\"},{\"id\":\"6265\"},{\"id\":\"6266\"},{\"id\":\"6267\"},{\"id\":\"6268\"},{\"id\":\"6269\"}]},\"id\":\"6271\",\"type\":\"Toolbar\"},{\"attributes\":{\"axis\":{\"id\":\"17504\"},\"ticker\":null},\"id\":\"17507\",\"type\":\"Grid\"},{\"attributes\":{\"data_source\":{\"id\":\"17526\"},\"glyph\":{\"id\":\"17527\"},\"hover_glyph\":null,\"muted_glyph\":null,\"nonselection_glyph\":{\"id\":\"17528\"},\"selection_glyph\":null,\"view\":{\"id\":\"17530\"}},\"id\":\"17529\",\"type\":\"GlyphRenderer\"},{\"attributes\":{\"data\":{\"x\":[0,1,2,3,4,5,6,7,8,9,10,11,12,13,14,15,16,17,18,19,20,21,22,23,24,25,26,27,28,29,30,31,32,33,34,35,36,37,38,39,40,41,42,43,44,45,46,47,48,49,50,51,52,53,54,55,56,57,58,59,60,61,62,63,64,65,66,67,68,69,70,71,72,73,74,75,76,77,78,79,80,81,82,83,84,85,86,87,88,89,90,91,92,93,94,95,96,97,98,99,100,101,102,103,104,105,106,107,108,109,110,111,112,113,114,115,116,117,118,119,120,121,122,123,124,125,126,127,128,129,130,131,132,133,134,135,136,137,138,139,140,141,142,143,144,145,146,147,148,149,150,151,152,153,154,155,156,157,158,159,160,161,162,163,164,165,166,167,168,169,170,171,172,173,174,175,176,177,178,179,180,181,182,183,184,185,186,187,188,189,190,191,192,193,194,195,196,197,198,199,200,201,202,203,204,205,206,207,208,209,210,211,212,213,214,215,216,217,218,219,220,221,222,223,224,225,226,227,228,229,230,231,232,233,234,235,236,237,238,239,240,241,242,243,244,245,246,247,248,249,250,251,252,253,254,255,256,257,258,259,260,261,262,263,264,265,266,267,268,269,270,271,272,273,274,275,276,277,278,279,280,281,282,283,284,285,286,287,288,289,290,291,292,293,294,295,296,297,298,299,300,301,302],\"y\":{\"__ndarray__\":\"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\",\"dtype\":\"float64\",\"order\":\"little\",\"shape\":[303]}},\"selected\":{\"id\":\"5879\"},\"selection_policy\":{\"id\":\"5880\"}},\"id\":\"5640\",\"type\":\"ColumnDataSource\"},{\"attributes\":{},\"id\":\"6532\",\"type\":\"BasicTickFormatter\"},{\"attributes\":{},\"id\":\"5616\",\"type\":\"LinearScale\"},{\"attributes\":{\"text\":\"Drake\"},\"id\":\"17494\",\"type\":\"Title\"},{\"attributes\":{},\"id\":\"6264\",\"type\":\"PanTool\"},{\"attributes\":{\"formatter\":{\"id\":\"5878\"},\"ticker\":{\"id\":\"5623\"}},\"id\":\"5622\",\"type\":\"LinearAxis\"},{\"attributes\":{},\"id\":\"16432\",\"type\":\"LinearScale\"},{\"attributes\":{},\"id\":\"6265\",\"type\":\"WheelZoomTool\"},{\"attributes\":{\"overlay\":{\"id\":\"6270\"}},\"id\":\"6266\",\"type\":\"BoxZoomTool\"},{\"attributes\":{},\"id\":\"6267\",\"type\":\"SaveTool\"},{\"attributes\":{},\"id\":\"5629\",\"type\":\"SaveTool\"},{\"attributes\":{},\"id\":\"6268\",\"type\":\"ResetTool\"},{\"attributes\":{\"formatter\":{\"id\":\"16910\"},\"ticker\":{\"id\":\"16439\"}},\"id\":\"16438\",\"type\":\"LinearAxis\"},{\"attributes\":{\"axis\":{\"id\":\"5618\"},\"ticker\":null},\"id\":\"5621\",\"type\":\"Grid\"},{\"attributes\":{\"axis\":{\"id\":\"17508\"},\"dimension\":1,\"ticker\":null},\"id\":\"17511\",\"type\":\"Grid\"},{\"attributes\":{},\"id\":\"5876\",\"type\":\"BasicTickFormatter\"},{\"attributes\":{},\"id\":\"5610\",\"type\":\"DataRange1d\"},{\"attributes\":{\"axis\":{\"id\":\"16434\"},\"ticker\":null},\"id\":\"16437\",\"type\":\"Grid\"},{\"attributes\":{},\"id\":\"17509\",\"type\":\"BasicTicker\"},{\"attributes\":{\"data\":{\"x\":[0,1,2,3,4,5,6,7,8,9,10,11,12,13,14,15,16,17,18,19,20,21,22,23,24,25,26,27,28,29,30,31,32,33,34,35,36,37,38,39,40,41,42,43,44,45,46,47,48,49,50,51,52,53,54,55,56,57,58,59,60,61,62,63,64,65,66,67,68,69,70,71,72,73,74,75,76,77,78,79,80,81,82,83,84,85,86,87,88,89,90,91,92,93,94,95,96,97,98,99,100,101,102,103,104,105,106,107,108,109,110,111,112,113,114,115,116,117,118,119,120,121,122,123,124,125,126,127,128,129,130,131,132,133,134,135,136,137,138,139,140,141,142,143,144,145,146,147,148,149,150,151,152,153,154,155,156,157,158,159,160,161,162,163,164,165,166,167,168,169,170,171,172,173,174,175,176,177,178,179,180,181,182,183,184,185,186,187,188,189,190,191,192,193,194,195,196,197,198,199,200,201,202,203,204,205,206,207,208,209,210,211,212,213,214,215,216,217,218,219,220,221,222,223,224,225,226,227,228,229,230,231,232,233,234,235,236,237,238,239,240,241,242,243,244,245,246,247,248,249,250,251,252,253,254,255,256,257,258,259,260,261,262,263,264,265,266,267,268,269,270,271,272,273,274,275,276,277,278,279,280,281,282,283,284,285,286,287,288,289,290,291,292,293,294,295,296,297,298,299,300,301,302,303,304,305,306,307,308,309,310,311,312,313,314,315,316,317,318,319,320,321,322,323,324,325,326,327,328,329,330,331,332,333,334,335,336,337,338,339,340,341,342,343,344,345,346,347,348,349,350,351,352,353,354,355,356,357,358,359,360,361,362,363,364,365,366,367,368,369,370,371,372,373,374,375,376,377,378,379,380,381,382,383,384,385,386,387,388,389,390,391,392,393,394,395,396,397,398,399,400,401,402,403,404],\"y\":[14,13,48,48,46,50,47,49,49,52,56,57,56,59,56,54,57,64,62,64,64,65,69,63,12,46,56,55,49,48,56,58,65,71,0,12,11,57,52,58,61,59,64,0,11,48,55,58,58,55,54,62,64,0,10,11,43,44,50,45,56,45,54,55,57,63,62,68,64,47,46,45,56,0,46,43,46,52,61,62,0,47,45,43,49,43,45,52,52,55,56,62,62,64,0,47,40,47,42,42,59,59,61,63,0,45,60,54,61,61,20,18,10,8,4,4,2,3,3,15,60,61,62,69,70,66,68,68,67,68,74,72,72,72,69,68,69,67,66,69,76,71,68,66,70,66,66,68,71,76,74,70,70,82,73,77,80,83,80,84,81,80,80,81,85,83,95,90,88,84,83,87,9,57,51,58,52,52,61,59,61,61,61,63,63,61,60,62,63,64,65,64,60,62,70,66,65,71,68,67,67,68,76,69,70,72,73,69,74,75,74,77,80,77,79,79,79,78,76,3,2,7,7,8,6,6,6,5,6,5,29,47,48,53,50,48,48,55,59,56,58,57,56,61,60,59,58,58,61,59,59,64,66,63,66,71,72,73,5,5,5,6,46,44,46,46,45,44,58,57,57,55,57,59,56,58,57,57,58,58,57,60,64,65,65,61,69,72,73,74,73,44,44,57,52,55,60,57,56,54,63,62,62,62,64,64,73,71,77,2,40,40,41,41,40,53,54,54,51,55,54,54,60,55,54,61,61,60,61,60,60,69,70,73,40,39,38,52,51,51,51,51,51,52,56,57,59,60,60,60,59,60,62,67,72,70,69,17,50,49,53,51,51,51,61,58,63,58,67,66,67,69,0,50,50,49,49,58,63,48,51,51,56,60,60,59,56,67,72,15,14,47,48,49,50,50,50,58,57,57,56,60,64,65,68]},\"selected\":{\"id\":\"17997\"},\"selection_policy\":{\"id\":\"17998\"}},\"id\":\"17526\",\"type\":\"ColumnDataSource\"},{\"attributes\":{},\"id\":\"6533\",\"type\":\"Selection\"},{\"attributes\":{},\"id\":\"6534\",\"type\":\"UnionRenderers\"},{\"attributes\":{\"active_drag\":\"auto\",\"active_inspect\":\"auto\",\"active_multi\":null,\"active_scroll\":\"auto\",\"active_tap\":\"auto\",\"tools\":[{\"id\":\"17512\"},{\"id\":\"17513\"},{\"id\":\"17514\"},{\"id\":\"17515\"},{\"id\":\"17516\"},{\"id\":\"17517\"}]},\"id\":\"17519\",\"type\":\"Toolbar\"},{\"attributes\":{\"text\":\"Eminem\"},\"id\":\"5608\",\"type\":\"Title\"},{\"attributes\":{},\"id\":\"16426\",\"type\":\"DataRange1d\"},{\"attributes\":{},\"id\":\"17513\",\"type\":\"WheelZoomTool\"},{\"attributes\":{},\"id\":\"16435\",\"type\":\"BasicTicker\"},{\"attributes\":{},\"id\":\"17512\",\"type\":\"PanTool\"},{\"attributes\":{},\"id\":\"5630\",\"type\":\"ResetTool\"},{\"attributes\":{\"overlay\":{\"id\":\"17518\"}},\"id\":\"17514\",\"type\":\"BoxZoomTool\"},{\"attributes\":{\"formatter\":{\"id\":\"16908\"},\"ticker\":{\"id\":\"16435\"}},\"id\":\"16434\",\"type\":\"LinearAxis\"},{\"attributes\":{},\"id\":\"5631\",\"type\":\"HelpTool\"},{\"attributes\":{},\"id\":\"17515\",\"type\":\"SaveTool\"},{\"attributes\":{},\"id\":\"5623\",\"type\":\"BasicTicker\"},{\"attributes\":{},\"id\":\"17516\",\"type\":\"ResetTool\"},{\"attributes\":{},\"id\":\"5878\",\"type\":\"BasicTickFormatter\"},{\"attributes\":{},\"id\":\"5627\",\"type\":\"WheelZoomTool\"},{\"attributes\":{},\"id\":\"5619\",\"type\":\"BasicTicker\"},{\"attributes\":{\"below\":[{\"id\":\"5933\"}],\"center\":[{\"id\":\"5936\"},{\"id\":\"5940\"}],\"left\":[{\"id\":\"5937\"}],\"plot_height\":250,\"plot_width\":250,\"renderers\":[{\"id\":\"5958\"}],\"title\":{\"id\":\"5923\"},\"toolbar\":{\"id\":\"5948\"},\"toolbar_location\":null,\"x_range\":{\"id\":\"5925\"},\"x_scale\":{\"id\":\"5929\"},\"y_range\":{\"id\":\"5927\"},\"y_scale\":{\"id\":\"5931\"}},\"id\":\"5922\",\"subtype\":\"Figure\",\"type\":\"Plot\"},{\"attributes\":{},\"id\":\"5626\",\"type\":\"PanTool\"},{\"attributes\":{},\"id\":\"16447\",\"type\":\"HelpTool\"},{\"attributes\":{\"axis\":{\"id\":\"16438\"},\"dimension\":1,\"ticker\":null},\"id\":\"16441\",\"type\":\"Grid\"},{\"attributes\":{\"data_source\":{\"id\":\"16987\"},\"glyph\":{\"id\":\"16988\"},\"hover_glyph\":null,\"muted_glyph\":null,\"nonselection_glyph\":{\"id\":\"16989\"},\"selection_glyph\":null,\"view\":{\"id\":\"16991\"}},\"id\":\"16990\",\"type\":\"GlyphRenderer\"},{\"attributes\":{},\"id\":\"16910\",\"type\":\"BasicTickFormatter\"},{\"attributes\":{},\"id\":\"16439\",\"type\":\"BasicTicker\"},{\"attributes\":{},\"id\":\"5879\",\"type\":\"Selection\"},{\"attributes\":{\"data\":{\"x\":[0,1,2,3,4,5,6,7,8,9,10,11,12,13,14,15,16,17,18,19,20,21,22,23,24,25,26,27,28,29,30,31,32,33,34,35,36,37,38,39,40,41,42,43,44,45,46,47,48,49,50,51,52,53,54,55,56,57,58,59,60,61,62,63,64,65,66,67,68,69,70,71,72,73,74,75,76,77,78,79,80,81,82,83,84,85,86,87,88,89,90,91,92,93,94,95,96,97,98,99,100,101,102,103,104,105,106,107,108,109,110,111,112,113,114,115,116,117,118,119,120,121,122,123,124,125,126,127,128,129,130,131,132,133,134,135,136,137,138,139,140,141,142,143,144,145,146,147,148,149,150,151,152,153,154,155,156,157,158,159,160,161,162,163,164,165,166,167,168,169,170,171,172,173,174,175,176,177,178,179,180,181,182,183,184,185,186,187,188,189,190,191,192,193,194,195,196,197,198,199,200,201,202,203,204,205,206,207,208,209,210,211,212,213,214,215,216,217,218,219,220,221,222,223,224,225,226,227,228,229,230,231,232,233,234,235,236,237,238,239,240,241,242,243,244,245,246,247,248,249,250,251,252,253,254,255,256,257,258,259,260,261,262,263,264,265,266,267,268,269,270,271,272,273,274,275,276,277,278,279,280,281,282,283,284,285,286,287,288,289,290,291,292,293,294,295,296,297,298,299,300,301,302],\"y\":[41,42,48,48,48,50,50,47,49,55,73,70,70,44,43,42,46,46,46,50,52,51,51,49,54,60,68,69,45,46,43,45,47,50,49,69,68,44,38,44,46,52,47,47,47,49,45,54,49,59,66,69,68,44,42,45,49,49,49,54,53,60,38,41,45,45,45,49,46,54,53,64,44,53,65,42,41,42,53,62,41,41,44,44,44,47,40,63,33,41,36,42,44,44,48,44,50,74,71,70,64,80,75,71,68,68,83,82,72,70,71,66,61,74,67,77,72,70,66,69,62,68,81,78,69,69,71,77,74,89,62,60,60,58,59,60,59,58,63,64,62,61,62,65,65,64,61,62,63,61,68,68,69,78,56,56,56,55,57,59,56,57,60,60,51,58,61,63,64,59,61,67,67,63,76,74,58,53,52,52,54,54,57,50,50,59,56,53,59,60,61,66,63,75,52,54,51,57,49,48,54,56,56,59,59,59,62,63,74,72,52,49,52,53,52,49,50,50,46,53,53,52,55,54,56,55,49,52,61,63,60,75,74,51,50,50,50,52,52,52,53,52,54,48,57,56,56,59,70,70,71,73,49,48,48,46,44,51,51,55,54,54,56,58,69,69,73,48,45,47,51,50,44,51,53,50,47,47,53,54,53,54,51,55,64,71,72,47,47,40,48,47,49,48,51,53,53,54,52,53,71,70,70]},\"selected\":{\"id\":\"16911\"},\"selection_policy\":{\"id\":\"16912\"}},\"id\":\"16456\",\"type\":\"ColumnDataSource\"},{\"attributes\":{},\"id\":\"5880\",\"type\":\"UnionRenderers\"},{\"attributes\":{},\"id\":\"16442\",\"type\":\"PanTool\"},{\"attributes\":{},\"id\":\"16443\",\"type\":\"WheelZoomTool\"},{\"attributes\":{\"overlay\":{\"id\":\"16448\"}},\"id\":\"16444\",\"type\":\"BoxZoomTool\"},{\"attributes\":{},\"id\":\"16446\",\"type\":\"ResetTool\"},{\"attributes\":{},\"id\":\"16911\",\"type\":\"Selection\"},{\"attributes\":{},\"id\":\"16445\",\"type\":\"SaveTool\"},{\"attributes\":{},\"id\":\"16912\",\"type\":\"UnionRenderers\"},{\"attributes\":{},\"id\":\"17447\",\"type\":\"BasicTickFormatter\"},{\"attributes\":{\"bottom_units\":\"screen\",\"fill_alpha\":0.5,\"fill_color\":\"lightgrey\",\"left_units\":\"screen\",\"level\":\"overlay\",\"line_alpha\":1.0,\"line_color\":\"black\",\"line_dash\":[4,4],\"line_width\":2,\"right_units\":\"screen\",\"top_units\":\"screen\"},\"id\":\"17518\",\"type\":\"BoxAnnotation\"},{\"attributes\":{},\"id\":\"17997\",\"type\":\"Selection\"},{\"attributes\":{\"below\":[{\"id\":\"16965\"}],\"center\":[{\"id\":\"16968\"},{\"id\":\"16972\"}],\"left\":[{\"id\":\"16969\"}],\"plot_height\":250,\"plot_width\":250,\"renderers\":[{\"id\":\"16990\"}],\"title\":{\"id\":\"16955\"},\"toolbar\":{\"id\":\"16980\"},\"toolbar_location\":null,\"x_range\":{\"id\":\"16957\"},\"x_scale\":{\"id\":\"16961\"},\"y_range\":{\"id\":\"16959\"},\"y_scale\":{\"id\":\"16963\"}},\"id\":\"16954\",\"subtype\":\"Figure\",\"type\":\"Plot\"},{\"attributes\":{\"bottom_units\":\"screen\",\"fill_alpha\":0.5,\"fill_color\":\"lightgrey\",\"left_units\":\"screen\",\"level\":\"overlay\",\"line_alpha\":1.0,\"line_color\":\"black\",\"line_dash\":[4,4],\"line_width\":2,\"right_units\":\"screen\",\"top_units\":\"screen\"},\"id\":\"16448\",\"type\":\"BoxAnnotation\"},{\"attributes\":{},\"id\":\"5927\",\"type\":\"DataRange1d\"},{\"attributes\":{\"text\":\"Rihanna\"},\"id\":\"5923\",\"type\":\"Title\"},{\"attributes\":{\"formatter\":{\"id\":\"6201\"},\"ticker\":{\"id\":\"5938\"}},\"id\":\"5937\",\"type\":\"LinearAxis\"},{\"attributes\":{\"data\":{\"x\":[0,1,2,3,4,5,6,7,8,9,10,11,12,13,14,15,16,17,18,19,20,21,22,23,24,25,26,27,28,29,30,31,32,33,34,35,36,37,38,39,40,41,42,43,44,45,46,47,48,49,50,51,52,53,54,55,56,57,58,59,60,61,62,63,64,65,66,67,68,69,70,71,72,73,74,75,76,77,78,79,80,81,82,83,84,85,86,87,88,89,90,91,92,93,94,95,96,97,98,99,100,101,102,103,104,105,106,107,108,109,110,111,112,113,114,115,116,117,118],\"y\":{\"__ndarray__\":\"ihbZzvfTGMAj2/l+arwmwCPb+X5qvBnAWDm0yHa+DcDl0CLb+X4SwKFFtvP91A/AF9nO91NjHMD8qfHSTeIRwFyPwvUoXBnA/dR46SYxFcCoxks3icEXwHe+nxovXRPAGy/dJAaBC8BANV66SUwnwNNNYhBYuRjAdukmMQisF8CHFtnO91MkwMl2vp8aLxnAyKFFtvP9GcBhukkMAisXwCGwcmiRbR7ALbKd76dGGcAnMQisHFoQwK5H4XoUrhPAuB6F61F4IcCuR+F6FK4TwEw3iUFgZRzA/tR46SYxIsDFILByaJEawNV46SYxCBTAFK5H4XrUIMAfhetRuJ4TwBFYObTINiHAtvP91HhpEsCKFtnO91MWwLbz/dR4aRLAv58aL90kHsCBlUOLbOcKwI/C9ShcDxLAihbZzvdTFsChRbbz/dT8v5ZDi2zn+xHAiUFg5dAiFMAUrkfhehQUwHE9Ctej8BHAne+nxku3JMCHFtnO91MkwK5H4XoUrhPAhxbZzvdTJMBxPQrXo3ANwNrO91PjpRbABoGVQ4vsE8A830+Nly4gwFK4HoXrURPAsp3vp8ZLBsBmZmZmZmYVwIXrUbgehRXAUI2XbhIDEcAj2/l+arwHwFyPwvUoXBnAuB6F61F4IcAxCKwcWmQewMDKoUW28xjAQGDl0CJbH8Cc76fGS/chwM/3U+OlmxPAhetRuB6FFcDP91PjpZsTwAAAAAAAABLAPN9PjZfuEMD6fmq8dBMUwB+F61G4HhDAOF66SQyCFcDGSzeJQWAawHbpJjEIrBbA/Knx0k3iFMCDwMqhRbYIwFyPwvUo3BXA+n5qvHSTF8BOYhBYObQTwHjpJjEIrAfAFK5H4XoUFMAtsp3vp8YHwMihRbbz/RnAMzMzMzMzE8BqvHSTGAQXwPYoXI/C9RDAlkOLbOf7DMChRbbz/dQPwPyp8dJN4hjArkfhehSuE8AYBFYOLTITwKabxCCwcgzAN4lBYOXQAMCXbhKDwMoMwHsUrkfhehvAcT0K16PwEcCgRbbz/dQUwPp+arx0kxfAVg4tsp3vD8Bcj8L1KFwZwCcxCKwcWhDA0SLb+X7qHcDdJAaBlcMQwKjGSzeJQRXAZDvfT42X/L9xPQrXo3ANwClcj8L1qBXAQGDl0CJbH8DTTWIQWDkawESLbOf7KRjAcT0K16PwEcA4XrpJDIIVwKFFtvP91AzA+n5qvHQTHsA9CtejcL0QwFK4HoXr0RXAhxbZzvdTJMBKDAIrhxYkwA==\",\"dtype\":\"float64\",\"order\":\"little\",\"shape\":[119]}},\"selected\":{\"id\":\"6202\"},\"selection_policy\":{\"id\":\"6203\"}},\"id\":\"5955\",\"type\":\"ColumnDataSource\"},{\"attributes\":{\"source\":{\"id\":\"16987\"}},\"id\":\"16991\",\"type\":\"CDSView\"},{\"attributes\":{},\"id\":\"5946\",\"type\":\"HelpTool\"},{\"attributes\":{},\"id\":\"5925\",\"type\":\"DataRange1d\"},{\"attributes\":{},\"id\":\"5931\",\"type\":\"LinearScale\"},{\"attributes\":{\"formatter\":{\"id\":\"17447\"},\"ticker\":{\"id\":\"16966\"}},\"id\":\"16965\",\"type\":\"LinearAxis\"},{\"attributes\":{},\"id\":\"5934\",\"type\":\"BasicTicker\"},{\"attributes\":{},\"id\":\"16959\",\"type\":\"DataRange1d\"},{\"attributes\":{\"data_source\":{\"id\":\"5955\"},\"glyph\":{\"id\":\"5956\"},\"hover_glyph\":null,\"muted_glyph\":null,\"nonselection_glyph\":{\"id\":\"5957\"},\"selection_glyph\":null,\"view\":{\"id\":\"5959\"}},\"id\":\"5958\",\"type\":\"GlyphRenderer\"},{\"attributes\":{},\"id\":\"16961\",\"type\":\"LinearScale\"},{\"attributes\":{},\"id\":\"5929\",\"type\":\"LinearScale\"},{\"attributes\":{},\"id\":\"16966\",\"type\":\"BasicTicker\"},{\"attributes\":{\"axis\":{\"id\":\"5933\"},\"ticker\":null},\"id\":\"5936\",\"type\":\"Grid\"},{\"attributes\":{},\"id\":\"16963\",\"type\":\"LinearScale\"},{\"attributes\":{\"line_alpha\":0.1,\"line_color\":\"#1f77b4\",\"x\":{\"field\":\"x\"},\"y\":{\"field\":\"y\"}},\"id\":\"17528\",\"type\":\"Line\"},{\"attributes\":{\"formatter\":{\"id\":\"6199\"},\"ticker\":{\"id\":\"5934\"}},\"id\":\"5933\",\"type\":\"LinearAxis\"},{\"attributes\":{},\"id\":\"16978\",\"type\":\"HelpTool\"},{\"attributes\":{\"line_color\":\"#1f77b4\",\"x\":{\"field\":\"x\"},\"y\":{\"field\":\"y\"}},\"id\":\"17527\",\"type\":\"Line\"},{\"attributes\":{\"text\":\"Rihanna\"},\"id\":\"16955\",\"type\":\"Title\"},{\"attributes\":{\"text\":\"Eminem\"},\"id\":\"16424\",\"type\":\"Title\"},{\"attributes\":{\"axis\":{\"id\":\"5937\"},\"dimension\":1,\"ticker\":null},\"id\":\"5940\",\"type\":\"Grid\"},{\"attributes\":{\"formatter\":{\"id\":\"17449\"},\"ticker\":{\"id\":\"16970\"}},\"id\":\"16969\",\"type\":\"LinearAxis\"},{\"attributes\":{\"active_drag\":\"auto\",\"active_inspect\":\"auto\",\"active_multi\":null,\"active_scroll\":\"auto\",\"active_tap\":\"auto\",\"tools\":[{\"id\":\"16442\"},{\"id\":\"16443\"},{\"id\":\"16444\"},{\"id\":\"16445\"},{\"id\":\"16446\"},{\"id\":\"16447\"}]},\"id\":\"16449\",\"type\":\"Toolbar\"},{\"attributes\":{},\"id\":\"5938\",\"type\":\"BasicTicker\"},{\"attributes\":{\"axis\":{\"id\":\"16965\"},\"ticker\":null},\"id\":\"16968\",\"type\":\"Grid\"},{\"attributes\":{\"active_drag\":\"auto\",\"active_inspect\":\"auto\",\"active_multi\":null,\"active_scroll\":\"auto\",\"active_tap\":\"auto\",\"tools\":[{\"id\":\"5941\"},{\"id\":\"5942\"},{\"id\":\"5943\"},{\"id\":\"5944\"},{\"id\":\"5945\"},{\"id\":\"5946\"}]},\"id\":\"5948\",\"type\":\"Toolbar\"},{\"attributes\":{\"source\":{\"id\":\"17526\"}},\"id\":\"17530\",\"type\":\"CDSView\"},{\"attributes\":{},\"id\":\"16957\",\"type\":\"DataRange1d\"},{\"attributes\":{},\"id\":\"5942\",\"type\":\"WheelZoomTool\"},{\"attributes\":{},\"id\":\"5941\",\"type\":\"PanTool\"},{\"attributes\":{\"axis\":{\"id\":\"16969\"},\"dimension\":1,\"ticker\":null},\"id\":\"16972\",\"type\":\"Grid\"},{\"attributes\":{\"line_alpha\":0.1,\"line_color\":\"#1f77b4\",\"x\":{\"field\":\"x\"},\"y\":{\"field\":\"y\"}},\"id\":\"16458\",\"type\":\"Line\"},{\"attributes\":{\"overlay\":{\"id\":\"5947\"}},\"id\":\"5943\",\"type\":\"BoxZoomTool\"},{\"attributes\":{},\"id\":\"5944\",\"type\":\"SaveTool\"},{\"attributes\":{},\"id\":\"16970\",\"type\":\"BasicTicker\"},{\"attributes\":{\"line_color\":\"#1f77b4\",\"x\":{\"field\":\"x\"},\"y\":{\"field\":\"y\"}},\"id\":\"16457\",\"type\":\"Line\"},{\"attributes\":{},\"id\":\"5945\",\"type\":\"ResetTool\"},{\"attributes\":{\"data\":{\"x\":[0,1,2,3,4,5,6,7,8,9,10,11,12,13,14,15,16,17,18,19,20,21,22,23,24,25,26,27,28,29,30,31,32,33,34,35,36,37,38,39,40,41,42,43,44,45,46,47,48,49,50,51,52,53,54,55,56,57,58,59,60,61,62,63,64,65,66,67,68,69,70,71,72,73,74,75,76,77,78,79,80,81,82,83,84,85,86,87,88,89,90,91,92,93,94,95,96,97,98,99,100,101,102,103,104,105,106,107,108,109,110,111,112,113,114,115,116,117,118],\"y\":[55,62,64,50,50,47,50,48,56,59,52,45,54,58,46,58,48,60,49,45,62,50,51,55,43,60,48,57,58,49,75,69,70,65,63,80,76,75,72,77,70,73,81,66,74,72,67,66,66,74,79,75,78,80,79,86,70,65,62,67,62,61,76,73,73,55,54,65,59,64,63,59,66,62,69,68,66,62,51,56,57,56,59,59,69,64,55,53,55,65,59,55,64,66,55,52,72,53,64,57,66,58,64,62,49,52,58,62,58,65,58,60,56,56,54,52,61,61,64]},\"selected\":{\"id\":\"17450\"},\"selection_policy\":{\"id\":\"17451\"}},\"id\":\"16987\",\"type\":\"ColumnDataSource\"},{\"attributes\":{\"active_drag\":\"auto\",\"active_inspect\":\"auto\",\"active_multi\":null,\"active_scroll\":\"auto\",\"active_tap\":\"auto\",\"tools\":[{\"id\":\"16973\"},{\"id\":\"16974\"},{\"id\":\"16975\"},{\"id\":\"16976\"},{\"id\":\"16977\"},{\"id\":\"16978\"}]},\"id\":\"16980\",\"type\":\"Toolbar\"},{\"attributes\":{\"text\":\"Drake\"},\"id\":\"6246\",\"type\":\"Title\"},{\"attributes\":{},\"id\":\"16974\",\"type\":\"WheelZoomTool\"},{\"attributes\":{},\"id\":\"16973\",\"type\":\"PanTool\"},{\"attributes\":{\"overlay\":{\"id\":\"16979\"}},\"id\":\"16975\",\"type\":\"BoxZoomTool\"},{\"attributes\":{},\"id\":\"16976\",\"type\":\"SaveTool\"},{\"attributes\":{\"source\":{\"id\":\"16456\"}},\"id\":\"16460\",\"type\":\"CDSView\"},{\"attributes\":{\"source\":{\"id\":\"5955\"}},\"id\":\"5959\",\"type\":\"CDSView\"},{\"attributes\":{},\"id\":\"16977\",\"type\":\"ResetTool\"},{\"attributes\":{\"below\":[{\"id\":\"17504\"}],\"center\":[{\"id\":\"17507\"},{\"id\":\"17511\"}],\"left\":[{\"id\":\"17508\"}],\"plot_height\":250,\"plot_width\":250,\"renderers\":[{\"id\":\"17529\"}],\"title\":{\"id\":\"17494\"},\"toolbar\":{\"id\":\"17519\"},\"toolbar_location\":null,\"x_range\":{\"id\":\"17496\"},\"x_scale\":{\"id\":\"17500\"},\"y_range\":{\"id\":\"17498\"},\"y_scale\":{\"id\":\"17502\"}},\"id\":\"17493\",\"subtype\":\"Figure\",\"type\":\"Plot\"},{\"attributes\":{\"line_color\":\"#1f77b4\",\"x\":{\"field\":\"x\"},\"y\":{\"field\":\"y\"}},\"id\":\"5956\",\"type\":\"Line\"},{\"attributes\":{\"line_alpha\":0.1,\"line_color\":\"#1f77b4\",\"x\":{\"field\":\"x\"},\"y\":{\"field\":\"y\"}},\"id\":\"5957\",\"type\":\"Line\"},{\"attributes\":{},\"id\":\"17994\",\"type\":\"BasicTickFormatter\"},{\"attributes\":{\"bottom_units\":\"screen\",\"fill_alpha\":0.5,\"fill_color\":\"lightgrey\",\"left_units\":\"screen\",\"level\":\"overlay\",\"line_alpha\":1.0,\"line_color\":\"black\",\"line_dash\":[4,4],\"line_width\":2,\"right_units\":\"screen\",\"top_units\":\"screen\"},\"id\":\"5947\",\"type\":\"BoxAnnotation\"},{\"attributes\":{\"bottom_units\":\"screen\",\"fill_alpha\":0.5,\"fill_color\":\"lightgrey\",\"left_units\":\"screen\",\"level\":\"overlay\",\"line_alpha\":1.0,\"line_color\":\"black\",\"line_dash\":[4,4],\"line_width\":2,\"right_units\":\"screen\",\"top_units\":\"screen\"},\"id\":\"16979\",\"type\":\"BoxAnnotation\"},{\"attributes\":{},\"id\":\"17996\",\"type\":\"BasicTickFormatter\"},{\"attributes\":{},\"id\":\"16908\",\"type\":\"BasicTickFormatter\"},{\"attributes\":{\"data_source\":{\"id\":\"6278\"},\"glyph\":{\"id\":\"6279\"},\"hover_glyph\":null,\"muted_glyph\":null,\"nonselection_glyph\":{\"id\":\"6280\"},\"selection_glyph\":null,\"view\":{\"id\":\"6282\"}},\"id\":\"6281\",\"type\":\"GlyphRenderer\"}],\"root_ids\":[\"19721\"]},\"title\":\"Bokeh Application\",\"version\":\"2.2.3\"}};\n",
       "  var render_items = [{\"docid\":\"1cf76425-3ddf-4d1f-a711-45806b2af1aa\",\"root_ids\":[\"19721\"],\"roots\":{\"19721\":\"6418a026-3e84-47c2-babc-046cef520a9b\"}}];\n",
       "  root.Bokeh.embed.embed_items_notebook(docs_json, render_items);\n",
       "\n",
       "  }\n",
       "  if (root.Bokeh !== undefined) {\n",
       "    embed_document(root);\n",
       "  } else {\n",
       "    var attempts = 0;\n",
       "    var timer = setInterval(function(root) {\n",
       "      if (root.Bokeh !== undefined) {\n",
       "        clearInterval(timer);\n",
       "        embed_document(root);\n",
       "      } else {\n",
       "        attempts++;\n",
       "        if (attempts > 100) {\n",
       "          clearInterval(timer);\n",
       "          console.log(\"Bokeh: ERROR: Unable to run BokehJS code because BokehJS library is missing\");\n",
       "        }\n",
       "      }\n",
       "    }, 10, root)\n",
       "  }\n",
       "})(window);"
      ],
      "application/vnd.bokehjs_exec.v0+json": ""
     },
     "metadata": {
      "application/vnd.bokehjs_exec.v0+json": {
       "id": "19721"
      }
     },
     "output_type": "display_data"
    }
   ],
   "source": [
    "# Afficher les graphes selon le nouveau layout\n",
    "show(nested_layout)"
   ]
  },
  {
   "cell_type": "markdown",
   "metadata": {},
   "source": [
    "Ceci revient à créer un grid layout avec 3 lignes et 2 colonnes. Bokeh procure une fonction \"gridplot\" qui permet la création de layouts robustes grâce à la  diversité des combinaisons possibles dans l'empilage des graphes au niveau du même ecran."
   ]
  },
  {
   "cell_type": "code",
   "execution_count": 105,
   "metadata": {},
   "outputs": [],
   "source": [
    "from bokeh.layouts import gridplot"
   ]
  },
  {
   "cell_type": "code",
   "execution_count": 106,
   "metadata": {},
   "outputs": [],
   "source": [
    "# Créer un objet grid_layout qui organise les graphes de la même manière que le nested layout\n",
    "grid = gridplot([[p_e,p_e_p], [p_r, p_r_p], [p_d, p_d_p]], plot_width=250, plot_height=250)\n"
   ]
  },
  {
   "cell_type": "code",
   "execution_count": 107,
   "metadata": {},
   "outputs": [
    {
     "data": {
      "text/html": [
       "\n",
       "\n",
       "\n",
       "\n",
       "\n",
       "\n",
       "  <div class=\"bk-root\" id=\"9e1a3399-13f0-4913-a95f-4af9b82b2cf1\" data-root-id=\"20632\"></div>\n"
      ]
     },
     "metadata": {},
     "output_type": "display_data"
    },
    {
     "data": {
      "application/javascript": [
       "(function(root) {\n",
       "  function embed_document(root) {\n",
       "    \n",
       "  var docs_json = {\"86115fd4-9ce1-4665-94bb-5e852ed47c7a\":{\"roots\":{\"references\":[{\"attributes\":{\"children\":[{\"id\":\"20631\"},{\"id\":\"20629\"}]},\"id\":\"20632\",\"type\":\"Column\"},{\"attributes\":{},\"id\":\"17998\",\"type\":\"UnionRenderers\"},{\"attributes\":{\"bottom_units\":\"screen\",\"fill_alpha\":0.5,\"fill_color\":\"lightgrey\",\"left_units\":\"screen\",\"level\":\"overlay\",\"line_alpha\":1.0,\"line_color\":\"black\",\"line_dash\":[4,4],\"line_width\":2,\"right_units\":\"screen\",\"top_units\":\"screen\"},\"id\":\"6270\",\"type\":\"BoxAnnotation\"},{\"attributes\":{\"below\":[{\"id\":\"16434\"}],\"center\":[{\"id\":\"16437\"},{\"id\":\"16441\"}],\"left\":[{\"id\":\"16438\"}],\"plot_height\":250,\"plot_width\":250,\"renderers\":[{\"id\":\"16459\"}],\"title\":{\"id\":\"16424\"},\"toolbar\":{\"id\":\"16449\"},\"toolbar_location\":null,\"x_range\":{\"id\":\"16426\"},\"x_scale\":{\"id\":\"16430\"},\"y_range\":{\"id\":\"16428\"},\"y_scale\":{\"id\":\"16432\"}},\"id\":\"16423\",\"subtype\":\"Figure\",\"type\":\"Plot\"},{\"attributes\":{\"axis\":{\"id\":\"5622\"},\"dimension\":1,\"ticker\":null},\"id\":\"5625\",\"type\":\"Grid\"},{\"attributes\":{},\"id\":\"6199\",\"type\":\"BasicTickFormatter\"},{\"attributes\":{\"line_alpha\":0.1,\"line_color\":\"#1f77b4\",\"x\":{\"field\":\"x\"},\"y\":{\"field\":\"y\"}},\"id\":\"16989\",\"type\":\"Line\"},{\"attributes\":{},\"id\":\"6201\",\"type\":\"BasicTickFormatter\"},{\"attributes\":{\"line_color\":\"#1f77b4\",\"x\":{\"field\":\"x\"},\"y\":{\"field\":\"y\"}},\"id\":\"16988\",\"type\":\"Line\"},{\"attributes\":{\"data_source\":{\"id\":\"16456\"},\"glyph\":{\"id\":\"16457\"},\"hover_glyph\":null,\"muted_glyph\":null,\"nonselection_glyph\":{\"id\":\"16458\"},\"selection_glyph\":null,\"view\":{\"id\":\"16460\"}},\"id\":\"16459\",\"type\":\"GlyphRenderer\"},{\"attributes\":{\"bottom_units\":\"screen\",\"fill_alpha\":0.5,\"fill_color\":\"lightgrey\",\"left_units\":\"screen\",\"level\":\"overlay\",\"line_alpha\":1.0,\"line_color\":\"black\",\"line_dash\":[4,4],\"line_width\":2,\"right_units\":\"screen\",\"top_units\":\"screen\"},\"id\":\"5632\",\"type\":\"BoxAnnotation\"},{\"attributes\":{\"data_source\":{\"id\":\"5640\"},\"glyph\":{\"id\":\"5641\"},\"hover_glyph\":null,\"muted_glyph\":null,\"nonselection_glyph\":{\"id\":\"5642\"},\"selection_glyph\":null,\"view\":{\"id\":\"5644\"}},\"id\":\"5643\",\"type\":\"GlyphRenderer\"},{\"attributes\":{},\"id\":\"6202\",\"type\":\"Selection\"},{\"attributes\":{},\"id\":\"17449\",\"type\":\"BasicTickFormatter\"},{\"attributes\":{},\"id\":\"6203\",\"type\":\"UnionRenderers\"},{\"attributes\":{\"line_color\":\"#1f77b4\",\"x\":{\"field\":\"x\"},\"y\":{\"field\":\"y\"}},\"id\":\"6279\",\"type\":\"Line\"},{\"attributes\":{},\"id\":\"17450\",\"type\":\"Selection\"},{\"attributes\":{\"line_alpha\":0.1,\"line_color\":\"#1f77b4\",\"x\":{\"field\":\"x\"},\"y\":{\"field\":\"y\"}},\"id\":\"6280\",\"type\":\"Line\"},{\"attributes\":{},\"id\":\"17451\",\"type\":\"UnionRenderers\"},{\"attributes\":{\"source\":{\"id\":\"6278\"}},\"id\":\"6282\",\"type\":\"CDSView\"},{\"attributes\":{\"active_drag\":\"auto\",\"active_inspect\":\"auto\",\"active_multi\":null,\"active_scroll\":\"auto\",\"active_tap\":\"auto\",\"tools\":[{\"id\":\"5626\"},{\"id\":\"5627\"},{\"id\":\"5628\"},{\"id\":\"5629\"},{\"id\":\"5630\"},{\"id\":\"5631\"}]},\"id\":\"5633\",\"type\":\"Toolbar\"},{\"attributes\":{\"below\":[{\"id\":\"6256\"}],\"center\":[{\"id\":\"6259\"},{\"id\":\"6263\"}],\"left\":[{\"id\":\"6260\"}],\"plot_height\":250,\"plot_width\":250,\"renderers\":[{\"id\":\"6281\"}],\"title\":{\"id\":\"6246\"},\"toolbar\":{\"id\":\"6271\"},\"toolbar_location\":null,\"x_range\":{\"id\":\"6248\"},\"x_scale\":{\"id\":\"6252\"},\"y_range\":{\"id\":\"6250\"},\"y_scale\":{\"id\":\"6254\"}},\"id\":\"6245\",\"subtype\":\"Figure\",\"type\":\"Plot\"},{\"attributes\":{\"data\":{\"x\":[0,1,2,3,4,5,6,7,8,9,10,11,12,13,14,15,16,17,18,19,20,21,22,23,24,25,26,27,28,29,30,31,32,33,34,35,36,37,38,39,40,41,42,43,44,45,46,47,48,49,50,51,52,53,54,55,56,57,58,59,60,61,62,63,64,65,66,67,68,69,70,71,72,73,74,75,76,77,78,79,80,81,82,83,84,85,86,87,88,89,90,91,92,93,94,95,96,97,98,99,100,101,102,103,104,105,106,107,108,109,110,111,112,113,114,115,116,117,118,119,120,121,122,123,124,125,126,127,128,129,130,131,132,133,134,135,136,137,138,139,140,141,142,143,144,145,146,147,148,149,150,151,152,153,154,155,156,157,158,159,160,161,162,163,164,165,166,167,168,169,170,171,172,173,174,175,176,177,178,179,180,181,182,183,184,185,186,187,188,189,190,191,192,193,194,195,196,197,198,199,200,201,202,203,204,205,206,207,208,209,210,211,212,213,214,215,216,217,218,219,220,221,222,223,224,225,226,227,228,229,230,231,232,233,234,235,236,237,238,239,240,241,242,243,244,245,246,247,248,249,250,251,252,253,254,255,256,257,258,259,260,261,262,263,264,265,266,267,268,269,270,271,272,273,274,275,276,277,278,279,280,281,282,283,284,285,286,287,288,289,290,291,292,293,294,295,296,297,298,299,300,301,302,303,304,305,306,307,308,309,310,311,312,313,314,315,316,317,318,319,320,321,322,323,324,325,326,327,328,329,330,331,332,333,334,335,336,337,338,339,340,341,342,343,344,345,346,347,348,349,350,351,352,353,354,355,356,357,358,359,360,361,362,363,364,365,366,367,368,369,370,371,372,373,374,375,376,377,378,379,380,381,382,383,384,385,386,387,388,389,390,391,392,393,394,395,396,397,398,399,400,401,402,403,404],\"y\":{\"__ndarray__\":\"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\",\"dtype\":\"float64\",\"order\":\"little\",\"shape\":[405]}},\"selected\":{\"id\":\"6533\"},\"selection_policy\":{\"id\":\"6534\"}},\"id\":\"6278\",\"type\":\"ColumnDataSource\"},{\"attributes\":{\"children\":[[{\"id\":\"5607\"},0,0],[{\"id\":\"16423\"},0,1],[{\"id\":\"5922\"},1,0],[{\"id\":\"16954\"},1,1],[{\"id\":\"6245\"},2,0],[{\"id\":\"17493\"},2,1]]},\"id\":\"20629\",\"type\":\"GridBox\"},{\"attributes\":{},\"id\":\"6252\",\"type\":\"LinearScale\"},{\"attributes\":{\"line_color\":\"#1f77b4\",\"x\":{\"field\":\"x\"},\"y\":{\"field\":\"y\"}},\"id\":\"5641\",\"type\":\"Line\"},{\"attributes\":{\"toolbars\":[{\"id\":\"5633\"},{\"id\":\"16449\"},{\"id\":\"5948\"},{\"id\":\"16980\"},{\"id\":\"6271\"},{\"id\":\"17519\"}],\"tools\":[{\"id\":\"5626\"},{\"id\":\"5627\"},{\"id\":\"5628\"},{\"id\":\"5629\"},{\"id\":\"5630\"},{\"id\":\"5631\"},{\"id\":\"16442\"},{\"id\":\"16443\"},{\"id\":\"16444\"},{\"id\":\"16445\"},{\"id\":\"16446\"},{\"id\":\"16447\"},{\"id\":\"5941\"},{\"id\":\"5942\"},{\"id\":\"5943\"},{\"id\":\"5944\"},{\"id\":\"5945\"},{\"id\":\"5946\"},{\"id\":\"16973\"},{\"id\":\"16974\"},{\"id\":\"16975\"},{\"id\":\"16976\"},{\"id\":\"16977\"},{\"id\":\"16978\"},{\"id\":\"6264\"},{\"id\":\"6265\"},{\"id\":\"6266\"},{\"id\":\"6267\"},{\"id\":\"6268\"},{\"id\":\"6269\"},{\"id\":\"17512\"},{\"id\":\"17513\"},{\"id\":\"17514\"},{\"id\":\"17515\"},{\"id\":\"17516\"},{\"id\":\"17517\"}]},\"id\":\"20630\",\"type\":\"ProxyToolbar\"},{\"attributes\":{\"line_alpha\":0.1,\"line_color\":\"#1f77b4\",\"x\":{\"field\":\"x\"},\"y\":{\"field\":\"y\"}},\"id\":\"5642\",\"type\":\"Line\"},{\"attributes\":{},\"id\":\"6257\",\"type\":\"BasicTicker\"},{\"attributes\":{},\"id\":\"6250\",\"type\":\"DataRange1d\"},{\"attributes\":{\"below\":[{\"id\":\"5618\"}],\"center\":[{\"id\":\"5621\"},{\"id\":\"5625\"}],\"left\":[{\"id\":\"5622\"}],\"plot_height\":250,\"plot_width\":250,\"renderers\":[{\"id\":\"5643\"}],\"title\":{\"id\":\"5608\"},\"toolbar\":{\"id\":\"5633\"},\"toolbar_location\":null,\"x_range\":{\"id\":\"5610\"},\"x_scale\":{\"id\":\"5614\"},\"y_range\":{\"id\":\"5612\"},\"y_scale\":{\"id\":\"5616\"}},\"id\":\"5607\",\"subtype\":\"Figure\",\"type\":\"Plot\"},{\"attributes\":{\"formatter\":{\"id\":\"6530\"},\"ticker\":{\"id\":\"6257\"}},\"id\":\"6256\",\"type\":\"LinearAxis\"},{\"attributes\":{\"source\":{\"id\":\"5640\"}},\"id\":\"5644\",\"type\":\"CDSView\"},{\"attributes\":{\"toolbar\":{\"id\":\"20630\"},\"toolbar_location\":\"above\"},\"id\":\"20631\",\"type\":\"ToolbarBox\"},{\"attributes\":{},\"id\":\"6269\",\"type\":\"HelpTool\"},{\"attributes\":{},\"id\":\"6248\",\"type\":\"DataRange1d\"},{\"attributes\":{},\"id\":\"17500\",\"type\":\"LinearScale\"},{\"attributes\":{},\"id\":\"6254\",\"type\":\"LinearScale\"},{\"attributes\":{},\"id\":\"17502\",\"type\":\"LinearScale\"},{\"attributes\":{\"formatter\":{\"id\":\"17996\"},\"ticker\":{\"id\":\"17509\"}},\"id\":\"17508\",\"type\":\"LinearAxis\"},{\"attributes\":{},\"id\":\"6530\",\"type\":\"BasicTickFormatter\"},{\"attributes\":{},\"id\":\"17505\",\"type\":\"BasicTicker\"},{\"attributes\":{},\"id\":\"17498\",\"type\":\"DataRange1d\"},{\"attributes\":{\"formatter\":{\"id\":\"5876\"},\"ticker\":{\"id\":\"5619\"}},\"id\":\"5618\",\"type\":\"LinearAxis\"},{\"attributes\":{\"formatter\":{\"id\":\"6532\"},\"ticker\":{\"id\":\"6261\"}},\"id\":\"6260\",\"type\":\"LinearAxis\"},{\"attributes\":{\"formatter\":{\"id\":\"17994\"},\"ticker\":{\"id\":\"17505\"}},\"id\":\"17504\",\"type\":\"LinearAxis\"},{\"attributes\":{},\"id\":\"5612\",\"type\":\"DataRange1d\"},{\"attributes\":{},\"id\":\"16428\",\"type\":\"DataRange1d\"},{\"attributes\":{\"axis\":{\"id\":\"6256\"},\"ticker\":null},\"id\":\"6259\",\"type\":\"Grid\"},{\"attributes\":{\"axis\":{\"id\":\"6260\"},\"dimension\":1,\"ticker\":null},\"id\":\"6263\",\"type\":\"Grid\"},{\"attributes\":{},\"id\":\"17496\",\"type\":\"DataRange1d\"},{\"attributes\":{},\"id\":\"17517\",\"type\":\"HelpTool\"},{\"attributes\":{},\"id\":\"16430\",\"type\":\"LinearScale\"},{\"attributes\":{},\"id\":\"6261\",\"type\":\"BasicTicker\"},{\"attributes\":{\"overlay\":{\"id\":\"5632\"}},\"id\":\"5628\",\"type\":\"BoxZoomTool\"},{\"attributes\":{\"active_drag\":\"auto\",\"active_inspect\":\"auto\",\"active_multi\":null,\"active_scroll\":\"auto\",\"active_tap\":\"auto\",\"tools\":[{\"id\":\"6264\"},{\"id\":\"6265\"},{\"id\":\"6266\"},{\"id\":\"6267\"},{\"id\":\"6268\"},{\"id\":\"6269\"}]},\"id\":\"6271\",\"type\":\"Toolbar\"},{\"attributes\":{},\"id\":\"5614\",\"type\":\"LinearScale\"},{\"attributes\":{\"axis\":{\"id\":\"17504\"},\"ticker\":null},\"id\":\"17507\",\"type\":\"Grid\"},{\"attributes\":{},\"id\":\"6265\",\"type\":\"WheelZoomTool\"},{\"attributes\":{\"data_source\":{\"id\":\"17526\"},\"glyph\":{\"id\":\"17527\"},\"hover_glyph\":null,\"muted_glyph\":null,\"nonselection_glyph\":{\"id\":\"17528\"},\"selection_glyph\":null,\"view\":{\"id\":\"17530\"}},\"id\":\"17529\",\"type\":\"GlyphRenderer\"},{\"attributes\":{\"data\":{\"x\":[0,1,2,3,4,5,6,7,8,9,10,11,12,13,14,15,16,17,18,19,20,21,22,23,24,25,26,27,28,29,30,31,32,33,34,35,36,37,38,39,40,41,42,43,44,45,46,47,48,49,50,51,52,53,54,55,56,57,58,59,60,61,62,63,64,65,66,67,68,69,70,71,72,73,74,75,76,77,78,79,80,81,82,83,84,85,86,87,88,89,90,91,92,93,94,95,96,97,98,99,100,101,102,103,104,105,106,107,108,109,110,111,112,113,114,115,116,117,118,119,120,121,122,123,124,125,126,127,128,129,130,131,132,133,134,135,136,137,138,139,140,141,142,143,144,145,146,147,148,149,150,151,152,153,154,155,156,157,158,159,160,161,162,163,164,165,166,167,168,169,170,171,172,173,174,175,176,177,178,179,180,181,182,183,184,185,186,187,188,189,190,191,192,193,194,195,196,197,198,199,200,201,202,203,204,205,206,207,208,209,210,211,212,213,214,215,216,217,218,219,220,221,222,223,224,225,226,227,228,229,230,231,232,233,234,235,236,237,238,239,240,241,242,243,244,245,246,247,248,249,250,251,252,253,254,255,256,257,258,259,260,261,262,263,264,265,266,267,268,269,270,271,272,273,274,275,276,277,278,279,280,281,282,283,284,285,286,287,288,289,290,291,292,293,294,295,296,297,298,299,300,301,302],\"y\":{\"__ndarray__\":\"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\",\"dtype\":\"float64\",\"order\":\"little\",\"shape\":[303]}},\"selected\":{\"id\":\"5879\"},\"selection_policy\":{\"id\":\"5880\"}},\"id\":\"5640\",\"type\":\"ColumnDataSource\"},{\"attributes\":{},\"id\":\"6264\",\"type\":\"PanTool\"},{\"attributes\":{},\"id\":\"5616\",\"type\":\"LinearScale\"},{\"attributes\":{\"text\":\"Drake\"},\"id\":\"17494\",\"type\":\"Title\"},{\"attributes\":{\"overlay\":{\"id\":\"6270\"}},\"id\":\"6266\",\"type\":\"BoxZoomTool\"},{\"attributes\":{\"formatter\":{\"id\":\"5878\"},\"ticker\":{\"id\":\"5623\"}},\"id\":\"5622\",\"type\":\"LinearAxis\"},{\"attributes\":{},\"id\":\"16432\",\"type\":\"LinearScale\"},{\"attributes\":{},\"id\":\"6267\",\"type\":\"SaveTool\"},{\"attributes\":{},\"id\":\"5629\",\"type\":\"SaveTool\"},{\"attributes\":{},\"id\":\"6268\",\"type\":\"ResetTool\"},{\"attributes\":{\"formatter\":{\"id\":\"16910\"},\"ticker\":{\"id\":\"16439\"}},\"id\":\"16438\",\"type\":\"LinearAxis\"},{\"attributes\":{\"axis\":{\"id\":\"5618\"},\"ticker\":null},\"id\":\"5621\",\"type\":\"Grid\"},{\"attributes\":{\"axis\":{\"id\":\"17508\"},\"dimension\":1,\"ticker\":null},\"id\":\"17511\",\"type\":\"Grid\"},{\"attributes\":{},\"id\":\"5876\",\"type\":\"BasicTickFormatter\"},{\"attributes\":{},\"id\":\"5610\",\"type\":\"DataRange1d\"},{\"attributes\":{\"axis\":{\"id\":\"16434\"},\"ticker\":null},\"id\":\"16437\",\"type\":\"Grid\"},{\"attributes\":{},\"id\":\"17509\",\"type\":\"BasicTicker\"},{\"attributes\":{\"data\":{\"x\":[0,1,2,3,4,5,6,7,8,9,10,11,12,13,14,15,16,17,18,19,20,21,22,23,24,25,26,27,28,29,30,31,32,33,34,35,36,37,38,39,40,41,42,43,44,45,46,47,48,49,50,51,52,53,54,55,56,57,58,59,60,61,62,63,64,65,66,67,68,69,70,71,72,73,74,75,76,77,78,79,80,81,82,83,84,85,86,87,88,89,90,91,92,93,94,95,96,97,98,99,100,101,102,103,104,105,106,107,108,109,110,111,112,113,114,115,116,117,118,119,120,121,122,123,124,125,126,127,128,129,130,131,132,133,134,135,136,137,138,139,140,141,142,143,144,145,146,147,148,149,150,151,152,153,154,155,156,157,158,159,160,161,162,163,164,165,166,167,168,169,170,171,172,173,174,175,176,177,178,179,180,181,182,183,184,185,186,187,188,189,190,191,192,193,194,195,196,197,198,199,200,201,202,203,204,205,206,207,208,209,210,211,212,213,214,215,216,217,218,219,220,221,222,223,224,225,226,227,228,229,230,231,232,233,234,235,236,237,238,239,240,241,242,243,244,245,246,247,248,249,250,251,252,253,254,255,256,257,258,259,260,261,262,263,264,265,266,267,268,269,270,271,272,273,274,275,276,277,278,279,280,281,282,283,284,285,286,287,288,289,290,291,292,293,294,295,296,297,298,299,300,301,302,303,304,305,306,307,308,309,310,311,312,313,314,315,316,317,318,319,320,321,322,323,324,325,326,327,328,329,330,331,332,333,334,335,336,337,338,339,340,341,342,343,344,345,346,347,348,349,350,351,352,353,354,355,356,357,358,359,360,361,362,363,364,365,366,367,368,369,370,371,372,373,374,375,376,377,378,379,380,381,382,383,384,385,386,387,388,389,390,391,392,393,394,395,396,397,398,399,400,401,402,403,404],\"y\":[14,13,48,48,46,50,47,49,49,52,56,57,56,59,56,54,57,64,62,64,64,65,69,63,12,46,56,55,49,48,56,58,65,71,0,12,11,57,52,58,61,59,64,0,11,48,55,58,58,55,54,62,64,0,10,11,43,44,50,45,56,45,54,55,57,63,62,68,64,47,46,45,56,0,46,43,46,52,61,62,0,47,45,43,49,43,45,52,52,55,56,62,62,64,0,47,40,47,42,42,59,59,61,63,0,45,60,54,61,61,20,18,10,8,4,4,2,3,3,15,60,61,62,69,70,66,68,68,67,68,74,72,72,72,69,68,69,67,66,69,76,71,68,66,70,66,66,68,71,76,74,70,70,82,73,77,80,83,80,84,81,80,80,81,85,83,95,90,88,84,83,87,9,57,51,58,52,52,61,59,61,61,61,63,63,61,60,62,63,64,65,64,60,62,70,66,65,71,68,67,67,68,76,69,70,72,73,69,74,75,74,77,80,77,79,79,79,78,76,3,2,7,7,8,6,6,6,5,6,5,29,47,48,53,50,48,48,55,59,56,58,57,56,61,60,59,58,58,61,59,59,64,66,63,66,71,72,73,5,5,5,6,46,44,46,46,45,44,58,57,57,55,57,59,56,58,57,57,58,58,57,60,64,65,65,61,69,72,73,74,73,44,44,57,52,55,60,57,56,54,63,62,62,62,64,64,73,71,77,2,40,40,41,41,40,53,54,54,51,55,54,54,60,55,54,61,61,60,61,60,60,69,70,73,40,39,38,52,51,51,51,51,51,52,56,57,59,60,60,60,59,60,62,67,72,70,69,17,50,49,53,51,51,51,61,58,63,58,67,66,67,69,0,50,50,49,49,58,63,48,51,51,56,60,60,59,56,67,72,15,14,47,48,49,50,50,50,58,57,57,56,60,64,65,68]},\"selected\":{\"id\":\"17997\"},\"selection_policy\":{\"id\":\"17998\"}},\"id\":\"17526\",\"type\":\"ColumnDataSource\"},{\"attributes\":{},\"id\":\"6533\",\"type\":\"Selection\"},{\"attributes\":{},\"id\":\"6534\",\"type\":\"UnionRenderers\"},{\"attributes\":{\"active_drag\":\"auto\",\"active_inspect\":\"auto\",\"active_multi\":null,\"active_scroll\":\"auto\",\"active_tap\":\"auto\",\"tools\":[{\"id\":\"17512\"},{\"id\":\"17513\"},{\"id\":\"17514\"},{\"id\":\"17515\"},{\"id\":\"17516\"},{\"id\":\"17517\"}]},\"id\":\"17519\",\"type\":\"Toolbar\"},{\"attributes\":{},\"id\":\"17513\",\"type\":\"WheelZoomTool\"},{\"attributes\":{\"text\":\"Eminem\"},\"id\":\"5608\",\"type\":\"Title\"},{\"attributes\":{},\"id\":\"16426\",\"type\":\"DataRange1d\"},{\"attributes\":{},\"id\":\"17512\",\"type\":\"PanTool\"},{\"attributes\":{},\"id\":\"16435\",\"type\":\"BasicTicker\"},{\"attributes\":{},\"id\":\"5630\",\"type\":\"ResetTool\"},{\"attributes\":{\"overlay\":{\"id\":\"17518\"}},\"id\":\"17514\",\"type\":\"BoxZoomTool\"},{\"attributes\":{},\"id\":\"5631\",\"type\":\"HelpTool\"},{\"attributes\":{},\"id\":\"17515\",\"type\":\"SaveTool\"},{\"attributes\":{\"formatter\":{\"id\":\"16908\"},\"ticker\":{\"id\":\"16435\"}},\"id\":\"16434\",\"type\":\"LinearAxis\"},{\"attributes\":{},\"id\":\"17516\",\"type\":\"ResetTool\"},{\"attributes\":{},\"id\":\"5623\",\"type\":\"BasicTicker\"},{\"attributes\":{},\"id\":\"5627\",\"type\":\"WheelZoomTool\"},{\"attributes\":{},\"id\":\"5878\",\"type\":\"BasicTickFormatter\"},{\"attributes\":{},\"id\":\"5619\",\"type\":\"BasicTicker\"},{\"attributes\":{\"below\":[{\"id\":\"5933\"}],\"center\":[{\"id\":\"5936\"},{\"id\":\"5940\"}],\"left\":[{\"id\":\"5937\"}],\"plot_height\":250,\"plot_width\":250,\"renderers\":[{\"id\":\"5958\"}],\"title\":{\"id\":\"5923\"},\"toolbar\":{\"id\":\"5948\"},\"toolbar_location\":null,\"x_range\":{\"id\":\"5925\"},\"x_scale\":{\"id\":\"5929\"},\"y_range\":{\"id\":\"5927\"},\"y_scale\":{\"id\":\"5931\"}},\"id\":\"5922\",\"subtype\":\"Figure\",\"type\":\"Plot\"},{\"attributes\":{},\"id\":\"5626\",\"type\":\"PanTool\"},{\"attributes\":{},\"id\":\"16447\",\"type\":\"HelpTool\"},{\"attributes\":{\"axis\":{\"id\":\"16438\"},\"dimension\":1,\"ticker\":null},\"id\":\"16441\",\"type\":\"Grid\"},{\"attributes\":{\"data_source\":{\"id\":\"16987\"},\"glyph\":{\"id\":\"16988\"},\"hover_glyph\":null,\"muted_glyph\":null,\"nonselection_glyph\":{\"id\":\"16989\"},\"selection_glyph\":null,\"view\":{\"id\":\"16991\"}},\"id\":\"16990\",\"type\":\"GlyphRenderer\"},{\"attributes\":{},\"id\":\"16910\",\"type\":\"BasicTickFormatter\"},{\"attributes\":{},\"id\":\"16439\",\"type\":\"BasicTicker\"},{\"attributes\":{},\"id\":\"5879\",\"type\":\"Selection\"},{\"attributes\":{\"data\":{\"x\":[0,1,2,3,4,5,6,7,8,9,10,11,12,13,14,15,16,17,18,19,20,21,22,23,24,25,26,27,28,29,30,31,32,33,34,35,36,37,38,39,40,41,42,43,44,45,46,47,48,49,50,51,52,53,54,55,56,57,58,59,60,61,62,63,64,65,66,67,68,69,70,71,72,73,74,75,76,77,78,79,80,81,82,83,84,85,86,87,88,89,90,91,92,93,94,95,96,97,98,99,100,101,102,103,104,105,106,107,108,109,110,111,112,113,114,115,116,117,118,119,120,121,122,123,124,125,126,127,128,129,130,131,132,133,134,135,136,137,138,139,140,141,142,143,144,145,146,147,148,149,150,151,152,153,154,155,156,157,158,159,160,161,162,163,164,165,166,167,168,169,170,171,172,173,174,175,176,177,178,179,180,181,182,183,184,185,186,187,188,189,190,191,192,193,194,195,196,197,198,199,200,201,202,203,204,205,206,207,208,209,210,211,212,213,214,215,216,217,218,219,220,221,222,223,224,225,226,227,228,229,230,231,232,233,234,235,236,237,238,239,240,241,242,243,244,245,246,247,248,249,250,251,252,253,254,255,256,257,258,259,260,261,262,263,264,265,266,267,268,269,270,271,272,273,274,275,276,277,278,279,280,281,282,283,284,285,286,287,288,289,290,291,292,293,294,295,296,297,298,299,300,301,302],\"y\":[41,42,48,48,48,50,50,47,49,55,73,70,70,44,43,42,46,46,46,50,52,51,51,49,54,60,68,69,45,46,43,45,47,50,49,69,68,44,38,44,46,52,47,47,47,49,45,54,49,59,66,69,68,44,42,45,49,49,49,54,53,60,38,41,45,45,45,49,46,54,53,64,44,53,65,42,41,42,53,62,41,41,44,44,44,47,40,63,33,41,36,42,44,44,48,44,50,74,71,70,64,80,75,71,68,68,83,82,72,70,71,66,61,74,67,77,72,70,66,69,62,68,81,78,69,69,71,77,74,89,62,60,60,58,59,60,59,58,63,64,62,61,62,65,65,64,61,62,63,61,68,68,69,78,56,56,56,55,57,59,56,57,60,60,51,58,61,63,64,59,61,67,67,63,76,74,58,53,52,52,54,54,57,50,50,59,56,53,59,60,61,66,63,75,52,54,51,57,49,48,54,56,56,59,59,59,62,63,74,72,52,49,52,53,52,49,50,50,46,53,53,52,55,54,56,55,49,52,61,63,60,75,74,51,50,50,50,52,52,52,53,52,54,48,57,56,56,59,70,70,71,73,49,48,48,46,44,51,51,55,54,54,56,58,69,69,73,48,45,47,51,50,44,51,53,50,47,47,53,54,53,54,51,55,64,71,72,47,47,40,48,47,49,48,51,53,53,54,52,53,71,70,70]},\"selected\":{\"id\":\"16911\"},\"selection_policy\":{\"id\":\"16912\"}},\"id\":\"16456\",\"type\":\"ColumnDataSource\"},{\"attributes\":{},\"id\":\"5880\",\"type\":\"UnionRenderers\"},{\"attributes\":{},\"id\":\"16442\",\"type\":\"PanTool\"},{\"attributes\":{},\"id\":\"16443\",\"type\":\"WheelZoomTool\"},{\"attributes\":{\"overlay\":{\"id\":\"16448\"}},\"id\":\"16444\",\"type\":\"BoxZoomTool\"},{\"attributes\":{},\"id\":\"16446\",\"type\":\"ResetTool\"},{\"attributes\":{},\"id\":\"16911\",\"type\":\"Selection\"},{\"attributes\":{},\"id\":\"16445\",\"type\":\"SaveTool\"},{\"attributes\":{},\"id\":\"16912\",\"type\":\"UnionRenderers\"},{\"attributes\":{},\"id\":\"17447\",\"type\":\"BasicTickFormatter\"},{\"attributes\":{\"bottom_units\":\"screen\",\"fill_alpha\":0.5,\"fill_color\":\"lightgrey\",\"left_units\":\"screen\",\"level\":\"overlay\",\"line_alpha\":1.0,\"line_color\":\"black\",\"line_dash\":[4,4],\"line_width\":2,\"right_units\":\"screen\",\"top_units\":\"screen\"},\"id\":\"17518\",\"type\":\"BoxAnnotation\"},{\"attributes\":{},\"id\":\"17997\",\"type\":\"Selection\"},{\"attributes\":{\"below\":[{\"id\":\"16965\"}],\"center\":[{\"id\":\"16968\"},{\"id\":\"16972\"}],\"left\":[{\"id\":\"16969\"}],\"plot_height\":250,\"plot_width\":250,\"renderers\":[{\"id\":\"16990\"}],\"title\":{\"id\":\"16955\"},\"toolbar\":{\"id\":\"16980\"},\"toolbar_location\":null,\"x_range\":{\"id\":\"16957\"},\"x_scale\":{\"id\":\"16961\"},\"y_range\":{\"id\":\"16959\"},\"y_scale\":{\"id\":\"16963\"}},\"id\":\"16954\",\"subtype\":\"Figure\",\"type\":\"Plot\"},{\"attributes\":{\"bottom_units\":\"screen\",\"fill_alpha\":0.5,\"fill_color\":\"lightgrey\",\"left_units\":\"screen\",\"level\":\"overlay\",\"line_alpha\":1.0,\"line_color\":\"black\",\"line_dash\":[4,4],\"line_width\":2,\"right_units\":\"screen\",\"top_units\":\"screen\"},\"id\":\"16448\",\"type\":\"BoxAnnotation\"},{\"attributes\":{},\"id\":\"5927\",\"type\":\"DataRange1d\"},{\"attributes\":{\"text\":\"Rihanna\"},\"id\":\"5923\",\"type\":\"Title\"},{\"attributes\":{\"formatter\":{\"id\":\"6201\"},\"ticker\":{\"id\":\"5938\"}},\"id\":\"5937\",\"type\":\"LinearAxis\"},{\"attributes\":{\"data\":{\"x\":[0,1,2,3,4,5,6,7,8,9,10,11,12,13,14,15,16,17,18,19,20,21,22,23,24,25,26,27,28,29,30,31,32,33,34,35,36,37,38,39,40,41,42,43,44,45,46,47,48,49,50,51,52,53,54,55,56,57,58,59,60,61,62,63,64,65,66,67,68,69,70,71,72,73,74,75,76,77,78,79,80,81,82,83,84,85,86,87,88,89,90,91,92,93,94,95,96,97,98,99,100,101,102,103,104,105,106,107,108,109,110,111,112,113,114,115,116,117,118],\"y\":{\"__ndarray__\":\"ihbZzvfTGMAj2/l+arwmwCPb+X5qvBnAWDm0yHa+DcDl0CLb+X4SwKFFtvP91A/AF9nO91NjHMD8qfHSTeIRwFyPwvUoXBnA/dR46SYxFcCoxks3icEXwHe+nxovXRPAGy/dJAaBC8BANV66SUwnwNNNYhBYuRjAdukmMQisF8CHFtnO91MkwMl2vp8aLxnAyKFFtvP9GcBhukkMAisXwCGwcmiRbR7ALbKd76dGGcAnMQisHFoQwK5H4XoUrhPAuB6F61F4IcCuR+F6FK4TwEw3iUFgZRzA/tR46SYxIsDFILByaJEawNV46SYxCBTAFK5H4XrUIMAfhetRuJ4TwBFYObTINiHAtvP91HhpEsCKFtnO91MWwLbz/dR4aRLAv58aL90kHsCBlUOLbOcKwI/C9ShcDxLAihbZzvdTFsChRbbz/dT8v5ZDi2zn+xHAiUFg5dAiFMAUrkfhehQUwHE9Ctej8BHAne+nxku3JMCHFtnO91MkwK5H4XoUrhPAhxbZzvdTJMBxPQrXo3ANwNrO91PjpRbABoGVQ4vsE8A830+Nly4gwFK4HoXrURPAsp3vp8ZLBsBmZmZmZmYVwIXrUbgehRXAUI2XbhIDEcAj2/l+arwHwFyPwvUoXBnAuB6F61F4IcAxCKwcWmQewMDKoUW28xjAQGDl0CJbH8Cc76fGS/chwM/3U+OlmxPAhetRuB6FFcDP91PjpZsTwAAAAAAAABLAPN9PjZfuEMD6fmq8dBMUwB+F61G4HhDAOF66SQyCFcDGSzeJQWAawHbpJjEIrBbA/Knx0k3iFMCDwMqhRbYIwFyPwvUo3BXA+n5qvHSTF8BOYhBYObQTwHjpJjEIrAfAFK5H4XoUFMAtsp3vp8YHwMihRbbz/RnAMzMzMzMzE8BqvHSTGAQXwPYoXI/C9RDAlkOLbOf7DMChRbbz/dQPwPyp8dJN4hjArkfhehSuE8AYBFYOLTITwKabxCCwcgzAN4lBYOXQAMCXbhKDwMoMwHsUrkfhehvAcT0K16PwEcCgRbbz/dQUwPp+arx0kxfAVg4tsp3vD8Bcj8L1KFwZwCcxCKwcWhDA0SLb+X7qHcDdJAaBlcMQwKjGSzeJQRXAZDvfT42X/L9xPQrXo3ANwClcj8L1qBXAQGDl0CJbH8DTTWIQWDkawESLbOf7KRjAcT0K16PwEcA4XrpJDIIVwKFFtvP91AzA+n5qvHQTHsA9CtejcL0QwFK4HoXr0RXAhxbZzvdTJMBKDAIrhxYkwA==\",\"dtype\":\"float64\",\"order\":\"little\",\"shape\":[119]}},\"selected\":{\"id\":\"6202\"},\"selection_policy\":{\"id\":\"6203\"}},\"id\":\"5955\",\"type\":\"ColumnDataSource\"},{\"attributes\":{\"source\":{\"id\":\"16987\"}},\"id\":\"16991\",\"type\":\"CDSView\"},{\"attributes\":{},\"id\":\"5946\",\"type\":\"HelpTool\"},{\"attributes\":{},\"id\":\"5925\",\"type\":\"DataRange1d\"},{\"attributes\":{},\"id\":\"5931\",\"type\":\"LinearScale\"},{\"attributes\":{\"formatter\":{\"id\":\"17447\"},\"ticker\":{\"id\":\"16966\"}},\"id\":\"16965\",\"type\":\"LinearAxis\"},{\"attributes\":{},\"id\":\"5934\",\"type\":\"BasicTicker\"},{\"attributes\":{},\"id\":\"16959\",\"type\":\"DataRange1d\"},{\"attributes\":{\"data_source\":{\"id\":\"5955\"},\"glyph\":{\"id\":\"5956\"},\"hover_glyph\":null,\"muted_glyph\":null,\"nonselection_glyph\":{\"id\":\"5957\"},\"selection_glyph\":null,\"view\":{\"id\":\"5959\"}},\"id\":\"5958\",\"type\":\"GlyphRenderer\"},{\"attributes\":{},\"id\":\"16961\",\"type\":\"LinearScale\"},{\"attributes\":{},\"id\":\"5929\",\"type\":\"LinearScale\"},{\"attributes\":{},\"id\":\"16966\",\"type\":\"BasicTicker\"},{\"attributes\":{\"axis\":{\"id\":\"5933\"},\"ticker\":null},\"id\":\"5936\",\"type\":\"Grid\"},{\"attributes\":{},\"id\":\"16963\",\"type\":\"LinearScale\"},{\"attributes\":{\"line_alpha\":0.1,\"line_color\":\"#1f77b4\",\"x\":{\"field\":\"x\"},\"y\":{\"field\":\"y\"}},\"id\":\"17528\",\"type\":\"Line\"},{\"attributes\":{\"formatter\":{\"id\":\"6199\"},\"ticker\":{\"id\":\"5934\"}},\"id\":\"5933\",\"type\":\"LinearAxis\"},{\"attributes\":{},\"id\":\"16978\",\"type\":\"HelpTool\"},{\"attributes\":{\"line_color\":\"#1f77b4\",\"x\":{\"field\":\"x\"},\"y\":{\"field\":\"y\"}},\"id\":\"17527\",\"type\":\"Line\"},{\"attributes\":{\"text\":\"Rihanna\"},\"id\":\"16955\",\"type\":\"Title\"},{\"attributes\":{\"text\":\"Eminem\"},\"id\":\"16424\",\"type\":\"Title\"},{\"attributes\":{\"axis\":{\"id\":\"5937\"},\"dimension\":1,\"ticker\":null},\"id\":\"5940\",\"type\":\"Grid\"},{\"attributes\":{\"formatter\":{\"id\":\"17449\"},\"ticker\":{\"id\":\"16970\"}},\"id\":\"16969\",\"type\":\"LinearAxis\"},{\"attributes\":{\"active_drag\":\"auto\",\"active_inspect\":\"auto\",\"active_multi\":null,\"active_scroll\":\"auto\",\"active_tap\":\"auto\",\"tools\":[{\"id\":\"16442\"},{\"id\":\"16443\"},{\"id\":\"16444\"},{\"id\":\"16445\"},{\"id\":\"16446\"},{\"id\":\"16447\"}]},\"id\":\"16449\",\"type\":\"Toolbar\"},{\"attributes\":{},\"id\":\"5938\",\"type\":\"BasicTicker\"},{\"attributes\":{\"axis\":{\"id\":\"16965\"},\"ticker\":null},\"id\":\"16968\",\"type\":\"Grid\"},{\"attributes\":{\"active_drag\":\"auto\",\"active_inspect\":\"auto\",\"active_multi\":null,\"active_scroll\":\"auto\",\"active_tap\":\"auto\",\"tools\":[{\"id\":\"5941\"},{\"id\":\"5942\"},{\"id\":\"5943\"},{\"id\":\"5944\"},{\"id\":\"5945\"},{\"id\":\"5946\"}]},\"id\":\"5948\",\"type\":\"Toolbar\"},{\"attributes\":{\"source\":{\"id\":\"17526\"}},\"id\":\"17530\",\"type\":\"CDSView\"},{\"attributes\":{},\"id\":\"5942\",\"type\":\"WheelZoomTool\"},{\"attributes\":{},\"id\":\"16957\",\"type\":\"DataRange1d\"},{\"attributes\":{},\"id\":\"5941\",\"type\":\"PanTool\"},{\"attributes\":{\"overlay\":{\"id\":\"5947\"}},\"id\":\"5943\",\"type\":\"BoxZoomTool\"},{\"attributes\":{\"axis\":{\"id\":\"16969\"},\"dimension\":1,\"ticker\":null},\"id\":\"16972\",\"type\":\"Grid\"},{\"attributes\":{\"line_alpha\":0.1,\"line_color\":\"#1f77b4\",\"x\":{\"field\":\"x\"},\"y\":{\"field\":\"y\"}},\"id\":\"16458\",\"type\":\"Line\"},{\"attributes\":{},\"id\":\"5944\",\"type\":\"SaveTool\"},{\"attributes\":{},\"id\":\"16970\",\"type\":\"BasicTicker\"},{\"attributes\":{},\"id\":\"5945\",\"type\":\"ResetTool\"},{\"attributes\":{\"line_color\":\"#1f77b4\",\"x\":{\"field\":\"x\"},\"y\":{\"field\":\"y\"}},\"id\":\"16457\",\"type\":\"Line\"},{\"attributes\":{\"data\":{\"x\":[0,1,2,3,4,5,6,7,8,9,10,11,12,13,14,15,16,17,18,19,20,21,22,23,24,25,26,27,28,29,30,31,32,33,34,35,36,37,38,39,40,41,42,43,44,45,46,47,48,49,50,51,52,53,54,55,56,57,58,59,60,61,62,63,64,65,66,67,68,69,70,71,72,73,74,75,76,77,78,79,80,81,82,83,84,85,86,87,88,89,90,91,92,93,94,95,96,97,98,99,100,101,102,103,104,105,106,107,108,109,110,111,112,113,114,115,116,117,118],\"y\":[55,62,64,50,50,47,50,48,56,59,52,45,54,58,46,58,48,60,49,45,62,50,51,55,43,60,48,57,58,49,75,69,70,65,63,80,76,75,72,77,70,73,81,66,74,72,67,66,66,74,79,75,78,80,79,86,70,65,62,67,62,61,76,73,73,55,54,65,59,64,63,59,66,62,69,68,66,62,51,56,57,56,59,59,69,64,55,53,55,65,59,55,64,66,55,52,72,53,64,57,66,58,64,62,49,52,58,62,58,65,58,60,56,56,54,52,61,61,64]},\"selected\":{\"id\":\"17450\"},\"selection_policy\":{\"id\":\"17451\"}},\"id\":\"16987\",\"type\":\"ColumnDataSource\"},{\"attributes\":{\"active_drag\":\"auto\",\"active_inspect\":\"auto\",\"active_multi\":null,\"active_scroll\":\"auto\",\"active_tap\":\"auto\",\"tools\":[{\"id\":\"16973\"},{\"id\":\"16974\"},{\"id\":\"16975\"},{\"id\":\"16976\"},{\"id\":\"16977\"},{\"id\":\"16978\"}]},\"id\":\"16980\",\"type\":\"Toolbar\"},{\"attributes\":{},\"id\":\"16974\",\"type\":\"WheelZoomTool\"},{\"attributes\":{\"text\":\"Drake\"},\"id\":\"6246\",\"type\":\"Title\"},{\"attributes\":{},\"id\":\"16973\",\"type\":\"PanTool\"},{\"attributes\":{\"overlay\":{\"id\":\"16979\"}},\"id\":\"16975\",\"type\":\"BoxZoomTool\"},{\"attributes\":{},\"id\":\"16976\",\"type\":\"SaveTool\"},{\"attributes\":{},\"id\":\"16977\",\"type\":\"ResetTool\"},{\"attributes\":{\"source\":{\"id\":\"16456\"}},\"id\":\"16460\",\"type\":\"CDSView\"},{\"attributes\":{\"source\":{\"id\":\"5955\"}},\"id\":\"5959\",\"type\":\"CDSView\"},{\"attributes\":{\"below\":[{\"id\":\"17504\"}],\"center\":[{\"id\":\"17507\"},{\"id\":\"17511\"}],\"left\":[{\"id\":\"17508\"}],\"plot_height\":250,\"plot_width\":250,\"renderers\":[{\"id\":\"17529\"}],\"title\":{\"id\":\"17494\"},\"toolbar\":{\"id\":\"17519\"},\"toolbar_location\":null,\"x_range\":{\"id\":\"17496\"},\"x_scale\":{\"id\":\"17500\"},\"y_range\":{\"id\":\"17498\"},\"y_scale\":{\"id\":\"17502\"}},\"id\":\"17493\",\"subtype\":\"Figure\",\"type\":\"Plot\"},{\"attributes\":{\"line_color\":\"#1f77b4\",\"x\":{\"field\":\"x\"},\"y\":{\"field\":\"y\"}},\"id\":\"5956\",\"type\":\"Line\"},{\"attributes\":{\"line_alpha\":0.1,\"line_color\":\"#1f77b4\",\"x\":{\"field\":\"x\"},\"y\":{\"field\":\"y\"}},\"id\":\"5957\",\"type\":\"Line\"},{\"attributes\":{\"bottom_units\":\"screen\",\"fill_alpha\":0.5,\"fill_color\":\"lightgrey\",\"left_units\":\"screen\",\"level\":\"overlay\",\"line_alpha\":1.0,\"line_color\":\"black\",\"line_dash\":[4,4],\"line_width\":2,\"right_units\":\"screen\",\"top_units\":\"screen\"},\"id\":\"5947\",\"type\":\"BoxAnnotation\"},{\"attributes\":{},\"id\":\"17994\",\"type\":\"BasicTickFormatter\"},{\"attributes\":{\"bottom_units\":\"screen\",\"fill_alpha\":0.5,\"fill_color\":\"lightgrey\",\"left_units\":\"screen\",\"level\":\"overlay\",\"line_alpha\":1.0,\"line_color\":\"black\",\"line_dash\":[4,4],\"line_width\":2,\"right_units\":\"screen\",\"top_units\":\"screen\"},\"id\":\"16979\",\"type\":\"BoxAnnotation\"},{\"attributes\":{},\"id\":\"17996\",\"type\":\"BasicTickFormatter\"},{\"attributes\":{},\"id\":\"16908\",\"type\":\"BasicTickFormatter\"},{\"attributes\":{\"data_source\":{\"id\":\"6278\"},\"glyph\":{\"id\":\"6279\"},\"hover_glyph\":null,\"muted_glyph\":null,\"nonselection_glyph\":{\"id\":\"6280\"},\"selection_glyph\":null,\"view\":{\"id\":\"6282\"}},\"id\":\"6281\",\"type\":\"GlyphRenderer\"},{\"attributes\":{},\"id\":\"6532\",\"type\":\"BasicTickFormatter\"}],\"root_ids\":[\"20632\"]},\"title\":\"Bokeh Application\",\"version\":\"2.2.3\"}};\n",
       "  var render_items = [{\"docid\":\"86115fd4-9ce1-4665-94bb-5e852ed47c7a\",\"root_ids\":[\"20632\"],\"roots\":{\"20632\":\"9e1a3399-13f0-4913-a95f-4af9b82b2cf1\"}}];\n",
       "  root.Bokeh.embed.embed_items_notebook(docs_json, render_items);\n",
       "\n",
       "  }\n",
       "  if (root.Bokeh !== undefined) {\n",
       "    embed_document(root);\n",
       "  } else {\n",
       "    var attempts = 0;\n",
       "    var timer = setInterval(function(root) {\n",
       "      if (root.Bokeh !== undefined) {\n",
       "        clearInterval(timer);\n",
       "        embed_document(root);\n",
       "      } else {\n",
       "        attempts++;\n",
       "        if (attempts > 100) {\n",
       "          clearInterval(timer);\n",
       "          console.log(\"Bokeh: ERROR: Unable to run BokehJS code because BokehJS library is missing\");\n",
       "        }\n",
       "      }\n",
       "    }, 10, root)\n",
       "  }\n",
       "})(window);"
      ],
      "application/vnd.bokehjs_exec.v0+json": ""
     },
     "metadata": {
      "application/vnd.bokehjs_exec.v0+json": {
       "id": "20632"
      }
     },
     "output_type": "display_data"
    }
   ],
   "source": [
    "# Afficher le grid_layout\n",
    "show(grid)"
   ]
  },
  {
   "cell_type": "markdown",
   "metadata": {},
   "source": [
    "<br></br>\n",
    "#### 3. Creation des onglets"
   ]
  },
  {
   "cell_type": "markdown",
   "metadata": {},
   "source": [
    "Il est très utile de pouvoir créer des layouts multiples dans différents onglets. Bokeh procure les objets tabbed Layout, auxquels les graphes peuvent être ajoutés. On va créer deux onglets, l'un pour artiste 1, l'autre pour le deuxième artiste. "
   ]
  },
  {
   "cell_type": "code",
   "execution_count": 110,
   "metadata": {},
   "outputs": [],
   "source": [
    "from bokeh.models import Tabs, Panel"
   ]
  },
  {
   "cell_type": "markdown",
   "metadata": {},
   "source": [
    "Pour créer un tabbed layout, on aura besoin de créer en premier lieu deux panels en utilisant la fonction Panel. Chaque Panel se composera de ses propres graphes spécifiés à l'aide de l'argument \"child\" dans la fonction Panel. "
   ]
  },
  {
   "cell_type": "code",
   "execution_count": null,
   "metadata": {},
   "outputs": [],
   "source": [
    "# Créer deux objets Panel pour chacun des artistes. \n",
    "# Vous pouvez attribuer un titre aux Panels (qui seront affichés en haut de l'onglet).\n"
   ]
  },
  {
   "cell_type": "code",
   "execution_count": null,
   "metadata": {},
   "outputs": [],
   "source": [
    "# Donner les Panels aux objets Tabs\n",
    "\n",
    "\n"
   ]
  },
  {
   "cell_type": "code",
   "execution_count": null,
   "metadata": {},
   "outputs": [],
   "source": [
    "# Afficher les objets tabs\n",
    "\n"
   ]
  },
  {
   "cell_type": "markdown",
   "metadata": {},
   "source": [
    "<br></br>\n",
    "#### 4. Liaison entre deux graphes"
   ]
  },
  {
   "cell_type": "markdown",
   "metadata": {},
   "source": [
    "Comparer deux graphes sur le même ecran devient plus facile quand ces derniers sont liés. Dans cette partie, on créera multiple graphes sur le même axe x. Pour ce faire, on va créer deux scatter plots basé sur les données du premier artiste mais on leur donnera le même axe x. "
   ]
  },
  {
   "cell_type": "code",
   "execution_count": null,
   "metadata": {},
   "outputs": [],
   "source": [
    "#  Créer une ColumnDataSource avec les colonnes 'release_date', 'danceability', 'acousticness', 'energy', 'loudness'\n",
    "\n"
   ]
  },
  {
   "cell_type": "code",
   "execution_count": null,
   "metadata": {},
   "outputs": [],
   "source": [
    "# Créer deux scatterplots: Le premier pour voir la relation entre 'danceability' et 'acousticness', le deuxième 'energy' et 'loudness'\n",
    "\n"
   ]
  },
  {
   "cell_type": "code",
   "execution_count": null,
   "metadata": {},
   "outputs": [],
   "source": [
    "# x_range fait référence à l'axe x des deux graphes. S'assurer que les deux graphes ont le même axe x.\n",
    "\n"
   ]
  },
  {
   "cell_type": "code",
   "execution_count": null,
   "metadata": {},
   "outputs": [],
   "source": [
    "# Organiser les deux graphes dans un layout (vous pouvez utiliser la fonction row)\n",
    "\n"
   ]
  },
  {
   "cell_type": "code",
   "execution_count": null,
   "metadata": {},
   "outputs": [],
   "source": [
    "# Afficher le Layout\n",
    "\n"
   ]
  },
  {
   "cell_type": "markdown",
   "metadata": {},
   "source": [
    "Remarquez que les deux graphes ont le même axe x. Si vous zoomer sur le premier, le deuxième suivra."
   ]
  },
  {
   "cell_type": "markdown",
   "metadata": {},
   "source": [
    "<br></br>\n",
    "### D. Ajout de l'Interactivité aux visualisations"
   ]
  },
  {
   "cell_type": "markdown",
   "metadata": {},
   "source": [
    "Bokeh permet la création de visualisations interactives en procurant des attributs visuels comme Hover, Slider ou Selection etc.\n",
    "\n",
    "Les Hover par exemple sont très utiles pour ajouter une dimension supplémentaire au graphe. Ils permettent de visualiser un point de données quand l'utilisareur le survole avec la souris. Pour créer un graphe avec un Hover tool, on va créer un graphe qui combine les données de deux artistes, et utiliser le Hover tool pour différencier entre les deux."
   ]
  },
  {
   "cell_type": "code",
   "execution_count": null,
   "metadata": {},
   "outputs": [],
   "source": [
    "from bokeh.models import HoverTool"
   ]
  },
  {
   "cell_type": "code",
   "execution_count": null,
   "metadata": {},
   "outputs": [],
   "source": [
    "# Créer une ColumnDataSource basé sur un dataframe ou l'artiste est soit 1 ou 2\n",
    "\n"
   ]
  },
  {
   "cell_type": "code",
   "execution_count": null,
   "metadata": {},
   "outputs": [],
   "source": [
    "# Créer un hover tool en utilisant la fonction HoverTool où les tooltips pointent sur le tuples d'information à afficher qu'on l'utilisateur survole la donnée,\n",
    "# à savoir nom de l'artiste, nom de la piste popularité, loudness, name.\n",
    "# Ainsi, chaque tuple du tooltip devra contenir un label et une référence au champs contenant l'information\n",
    "\n"
   ]
  },
  {
   "cell_type": "code",
   "execution_count": null,
   "metadata": {},
   "outputs": [],
   "source": [
    "# Donner l'objet hover tool comme argument à votre figure \n",
    "\n"
   ]
  },
  {
   "cell_type": "code",
   "execution_count": null,
   "metadata": {},
   "outputs": [],
   "source": [
    "# Créer un scaterplot avec par exemple les variables acousticness et energy de la ColumnDataSource \n",
    "\n"
   ]
  },
  {
   "cell_type": "code",
   "execution_count": null,
   "metadata": {},
   "outputs": [],
   "source": [
    "# Afficher le graphe. Survoler avec la souris quelques datapoint pour s'assurer du bon affichage des informations.\n",
    "\n"
   ]
  },
  {
   "cell_type": "markdown",
   "metadata": {},
   "source": [
    "<br> L'outil de sélection permet de mettre en exergue un sous-ensemble de données sur le graphe. Pour ajouter un selection tool à votre graphe, il faut ajouter 'box_select' à la liste des outils de la figure. Il est possible de définir une selection_color, nonselection_fill_color, et un nonselection_fill_alpha en leur assignant des valeurs dans les arguments de la fonction de création du graphe."
   ]
  },
  {
   "cell_type": "code",
   "execution_count": null,
   "metadata": {},
   "outputs": [],
   "source": [
    "# Passer l'objet hover tool et un 'box_select' comme arguments de tools\n",
    "\n"
   ]
  },
  {
   "cell_type": "code",
   "execution_count": null,
   "metadata": {},
   "outputs": [],
   "source": [
    "# Recréer le scatter plot en spécifiant les arguments de selection\n",
    "\n"
   ]
  },
  {
   "cell_type": "code",
   "execution_count": null,
   "metadata": {},
   "outputs": [],
   "source": [
    "# Afficher le graphe\n",
    "\n"
   ]
  },
  {
   "cell_type": "markdown",
   "metadata": {},
   "source": [
    " "
   ]
  },
  {
   "cell_type": "markdown",
   "metadata": {},
   "source": [
    "Pour explorer d'autres outils dans le tool box : https://docs.bokeh.org/en/latest/docs/user_guide/tools.html?highlight=configuring%20plot%20tools"
   ]
  },
  {
   "cell_type": "markdown",
   "metadata": {},
   "source": [
    " "
   ]
  },
  {
   "cell_type": "markdown",
   "metadata": {},
   "source": [
    "### E. Bonus: Création d'une application de visualisation"
   ]
  },
  {
   "cell_type": "markdown",
   "metadata": {},
   "source": [
    "Bokeh offre la possibilité de créer des applications de visualisation de données qui peuvent être hebergées sur notre propre serveur à travers le Bokeh server. \n",
    "\n",
    "Le Bokeh server agit comme un pont connectant Python et le navigateur où seront hebergées les applications. En utilisant Bokeh Server, on peut déployer des applications avec une interactivité locale et les partager. \n",
    "\n",
    "Une application Bokeh est une entité qui crée et remplit des documents avec des mises à jour sur le backend avec toutes les configurations nécessaires pour transférer correctement les données entre le serveur et le client. Le backend Bokeh sérialise les documents en format JSON. Ces derniers sont envoyés et affichés par le client BokehJS (comme indiqué dans la figure ci-dessous).\n"
   ]
  },
  {
   "cell_type": "markdown",
   "metadata": {},
   "source": [
    "<img src=\"https://static.packt-cdn.com/products/9781789135404/graphics/b6dd15c9-b21d-4786-9185-fc68623e5d53.png\">"
   ]
  },
  {
   "cell_type": "markdown",
   "metadata": {},
   "source": [
    "Pour construire une application Bokeh, il faut suivre 3 étapes:\n",
    "\n",
    " <ol>\n",
    "  <li>Créer les graphes et widgets</li>\n",
    "  <li>Définir la fonction Callback: c'est la fonction qui indique à l'application comment réagir à l'interaction d'un utilisateur (lorsqu'un bouton est clické, un curseur est déplacé ..)</li>\n",
    "  <li>Créer un Layout: personnaliser les layouts pour organiser les graphes</li>\n",
    "</ol> "
   ]
  },
  {
   "cell_type": "markdown",
   "metadata": {},
   "source": [
    "<br> On va créer une application très simple qui va afficher un nuage de points de la popularité des pistes. Cependant, on donnera à l'utilisateur la possibilité de choisir entre afficher le graphe de la popularité par acousticness ou par loudness. Maintes étapes ont été déjà couvertes dans le TP.\n",
    "\n",
    "Pour ce faire, on va créer un fichier bokehApp.py qu'on pourra exécuter ultérieurement dans un terminal en utilisant la commande: __bokeh serve --show bokehApp.py__\n",
    "\n",
    "\n",
    "1. Ouvrir un fichier dans un éditeur de texte et le nommer bokehApp.py. Importer les librairies suivantes:\n",
    "<br>import pandas as pd\n",
    "<br>from bokeh.plotting import figure\n",
    "<br>from bokeh.models import ColumnDataSource, Select\n",
    "<br>from bokeh.io import curdoc\n",
    "<br>from bokeh.layouts import row\n",
    "\n",
    "2. Charger les données des pistes dans une dataframe\n",
    "\n",
    "3. Créer un second dataframe qui filtre les données pour un seul artiste de votre choix\n",
    "\n",
    "4. Créer un objet ColumnDataSource avec un dict contenant les attributs et colonnes ont on aura besoin\n",
    "\n",
    "5. Créer un scatter plot en utilisant les données de popularité et acousticness à partir de la ColumnDataSource \n",
    "\n",
    "6. On aura besoin de créer un \"Select\" widget (c'est un widget qui donnera la main à l'utilisateur de choisirla colonne à visualiser). Le widget prendra les options acousticness et loudness, avec acousticness comme valeur par défaut. Il faut également spécifier un titre qui s'affichera à l'utilisateur.\n",
    "\n",
    "7. Créer une fonction callback qui prendra la nouvelle colonne et changera la source de la donnée au niveau du graphe pour prendre les données de cette colonne.\n",
    "\n",
    "8. Spécifier ce qui devra arriver quand l'utilisateur opére un changement sur le Select widget (utiliser la fonction on_change)\n",
    "\n",
    "9. Créer un row layout pour vos widget et graphe.\n",
    "\n",
    "10. A chaque fois qu'on crée une application, Bokeh crée un \"curdoc\", qui est un document ou canevas vide pour cette application. Il faut ajouter les widgets et graphes (ou les layouts) à ce document en utilisant la méthode add_root.\n",
    "\n",
    "Sauvegarder le fichier bokehApp.py et exécuter la commande susmentionnée dans un terminal."
   ]
  },
  {
   "cell_type": "markdown",
   "metadata": {},
   "source": [
    "<br> Pour plus de détails sur Bokeh, explorer https://github.com/bokeh/bokeh-notebooks/tree/main/tutorial pour plus de détails."
   ]
  }
 ],
 "metadata": {
  "kernelspec": {
   "display_name": "Python 3",
   "language": "python",
   "name": "python3"
  },
  "language_info": {
   "codemirror_mode": {
    "name": "ipython",
    "version": 3
   },
   "file_extension": ".py",
   "mimetype": "text/x-python",
   "name": "python",
   "nbconvert_exporter": "python",
   "pygments_lexer": "ipython3",
   "version": "3.8.5"
  }
 },
 "nbformat": 4,
 "nbformat_minor": 4
}
