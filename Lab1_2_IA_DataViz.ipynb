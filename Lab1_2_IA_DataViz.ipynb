{
 "cells": [
  {
   "cell_type": "markdown",
   "metadata": {},
   "source": [
    "# Travaux Pratiques Intelligence Artificielle: Lab1.2\n",
    "\n",
    "Python 4 Data Science: Introduction à la data visualisation avec Bokeh 🤖 🙌.\n",
    "\n",
    "## Objectifs du TP:\n",
    "\n",
    "> **Comprendre les concepts de base de la data visualisation avec Bokeh**\n",
    "\n",
    "> **Se familiariser avec les commandes les plus utilisées pour la visualisation des données en utilisant la libraire Bokeh et Pandas**\n",
    "\n",
    "> **Visualiser graphiquement les données du TP précédent.** \n",
    "\n",
    "> **Créer une application de visualisation de données (en Bonus)** \n",
    "\n",
    "\n",
    "\n",
    "<br> A la fin du TP vous devez **rendre ce notebook dans \"Assignment\" de Teams**. Le TP doit être travaillé en préférence en binôme.\n",
    "\n",
    "_Besoin d'aide? Laisser moi un Commentaire sur Teams_\n",
    "\n",
    "![green-divider](https://user-images.githubusercontent.com/7065401/52071924-c003ad80-2562-11e9-8297-1c6595f8a7ff.png)"
   ]
  },
  {
   "cell_type": "markdown",
   "metadata": {},
   "source": [
    "## A. Concepts de base"
   ]
  },
  {
   "cell_type": "markdown",
   "metadata": {},
   "source": [
    "L'objectif de cette section est de se familiariser avec les principes de base de data visualisation avec Python, Bokeh précisément. Bokeh est une librairie de visualisation destinée aux navigateur web modernes. Elle permet la construction de graphes élégants, concis, variés, et interactifs.\n",
    "\n",
    "Bokeh est basé sur l'idée qu'un graphe est construit une couche à la fois. Pour créer un graphe, on a besoin de créer en premier lieu la figure, puis ajouter les différents éléments (glyphs). Les glyphs sont des composants représentant les figures géométriques comme les lignes, cercles, rectanges etc. qui composent un plot Bokeh.\n",
    "\n",
    "Il y a deux méthodes pour la présentation d'un plot Bokeh:\n",
    "- output_file: où l'output est un fichier html\n",
    "- output_notebook: où l'output se fait au niveau du Jupyter notebook en cours d'utilisation.\n"
   ]
  },
  {
   "cell_type": "markdown",
   "metadata": {},
   "source": [
    "<br> Commençons par un simple exemple où on visualisera un line plot avec les Glyphs."
   ]
  },
  {
   "cell_type": "code",
   "execution_count": 13,
   "metadata": {},
   "outputs": [],
   "source": [
    "from bokeh.plotting import figure\n",
    "from bokeh.io import output_notebook, show"
   ]
  },
  {
   "cell_type": "code",
   "execution_count": 14,
   "metadata": {},
   "outputs": [
    {
     "data": {
      "text/html": [
       "\n",
       "    <div class=\"bk-root\">\n",
       "        <a href=\"https://bokeh.org\" target=\"_blank\" class=\"bk-logo bk-logo-small bk-logo-notebook\"></a>\n",
       "        <span id=\"1001\">Loading BokehJS ...</span>\n",
       "    </div>"
      ]
     },
     "metadata": {},
     "output_type": "display_data"
    },
    {
     "data": {
      "application/javascript": [
       "\n",
       "(function(root) {\n",
       "  function now() {\n",
       "    return new Date();\n",
       "  }\n",
       "\n",
       "  var force = true;\n",
       "\n",
       "  if (typeof root._bokeh_onload_callbacks === \"undefined\" || force === true) {\n",
       "    root._bokeh_onload_callbacks = [];\n",
       "    root._bokeh_is_loading = undefined;\n",
       "  }\n",
       "\n",
       "  var JS_MIME_TYPE = 'application/javascript';\n",
       "  var HTML_MIME_TYPE = 'text/html';\n",
       "  var EXEC_MIME_TYPE = 'application/vnd.bokehjs_exec.v0+json';\n",
       "  var CLASS_NAME = 'output_bokeh rendered_html';\n",
       "\n",
       "  /**\n",
       "   * Render data to the DOM node\n",
       "   */\n",
       "  function render(props, node) {\n",
       "    var script = document.createElement(\"script\");\n",
       "    node.appendChild(script);\n",
       "  }\n",
       "\n",
       "  /**\n",
       "   * Handle when an output is cleared or removed\n",
       "   */\n",
       "  function handleClearOutput(event, handle) {\n",
       "    var cell = handle.cell;\n",
       "\n",
       "    var id = cell.output_area._bokeh_element_id;\n",
       "    var server_id = cell.output_area._bokeh_server_id;\n",
       "    // Clean up Bokeh references\n",
       "    if (id != null && id in Bokeh.index) {\n",
       "      Bokeh.index[id].model.document.clear();\n",
       "      delete Bokeh.index[id];\n",
       "    }\n",
       "\n",
       "    if (server_id !== undefined) {\n",
       "      // Clean up Bokeh references\n",
       "      var cmd = \"from bokeh.io.state import curstate; print(curstate().uuid_to_server['\" + server_id + \"'].get_sessions()[0].document.roots[0]._id)\";\n",
       "      cell.notebook.kernel.execute(cmd, {\n",
       "        iopub: {\n",
       "          output: function(msg) {\n",
       "            var id = msg.content.text.trim();\n",
       "            if (id in Bokeh.index) {\n",
       "              Bokeh.index[id].model.document.clear();\n",
       "              delete Bokeh.index[id];\n",
       "            }\n",
       "          }\n",
       "        }\n",
       "      });\n",
       "      // Destroy server and session\n",
       "      var cmd = \"import bokeh.io.notebook as ion; ion.destroy_server('\" + server_id + \"')\";\n",
       "      cell.notebook.kernel.execute(cmd);\n",
       "    }\n",
       "  }\n",
       "\n",
       "  /**\n",
       "   * Handle when a new output is added\n",
       "   */\n",
       "  function handleAddOutput(event, handle) {\n",
       "    var output_area = handle.output_area;\n",
       "    var output = handle.output;\n",
       "\n",
       "    // limit handleAddOutput to display_data with EXEC_MIME_TYPE content only\n",
       "    if ((output.output_type != \"display_data\") || (!output.data.hasOwnProperty(EXEC_MIME_TYPE))) {\n",
       "      return\n",
       "    }\n",
       "\n",
       "    var toinsert = output_area.element.find(\".\" + CLASS_NAME.split(' ')[0]);\n",
       "\n",
       "    if (output.metadata[EXEC_MIME_TYPE][\"id\"] !== undefined) {\n",
       "      toinsert[toinsert.length - 1].firstChild.textContent = output.data[JS_MIME_TYPE];\n",
       "      // store reference to embed id on output_area\n",
       "      output_area._bokeh_element_id = output.metadata[EXEC_MIME_TYPE][\"id\"];\n",
       "    }\n",
       "    if (output.metadata[EXEC_MIME_TYPE][\"server_id\"] !== undefined) {\n",
       "      var bk_div = document.createElement(\"div\");\n",
       "      bk_div.innerHTML = output.data[HTML_MIME_TYPE];\n",
       "      var script_attrs = bk_div.children[0].attributes;\n",
       "      for (var i = 0; i < script_attrs.length; i++) {\n",
       "        toinsert[toinsert.length - 1].firstChild.setAttribute(script_attrs[i].name, script_attrs[i].value);\n",
       "        toinsert[toinsert.length - 1].firstChild.textContent = bk_div.children[0].textContent\n",
       "      }\n",
       "      // store reference to server id on output_area\n",
       "      output_area._bokeh_server_id = output.metadata[EXEC_MIME_TYPE][\"server_id\"];\n",
       "    }\n",
       "  }\n",
       "\n",
       "  function register_renderer(events, OutputArea) {\n",
       "\n",
       "    function append_mime(data, metadata, element) {\n",
       "      // create a DOM node to render to\n",
       "      var toinsert = this.create_output_subarea(\n",
       "        metadata,\n",
       "        CLASS_NAME,\n",
       "        EXEC_MIME_TYPE\n",
       "      );\n",
       "      this.keyboard_manager.register_events(toinsert);\n",
       "      // Render to node\n",
       "      var props = {data: data, metadata: metadata[EXEC_MIME_TYPE]};\n",
       "      render(props, toinsert[toinsert.length - 1]);\n",
       "      element.append(toinsert);\n",
       "      return toinsert\n",
       "    }\n",
       "\n",
       "    /* Handle when an output is cleared or removed */\n",
       "    events.on('clear_output.CodeCell', handleClearOutput);\n",
       "    events.on('delete.Cell', handleClearOutput);\n",
       "\n",
       "    /* Handle when a new output is added */\n",
       "    events.on('output_added.OutputArea', handleAddOutput);\n",
       "\n",
       "    /**\n",
       "     * Register the mime type and append_mime function with output_area\n",
       "     */\n",
       "    OutputArea.prototype.register_mime_type(EXEC_MIME_TYPE, append_mime, {\n",
       "      /* Is output safe? */\n",
       "      safe: true,\n",
       "      /* Index of renderer in `output_area.display_order` */\n",
       "      index: 0\n",
       "    });\n",
       "  }\n",
       "\n",
       "  // register the mime type if in Jupyter Notebook environment and previously unregistered\n",
       "  if (root.Jupyter !== undefined) {\n",
       "    var events = require('base/js/events');\n",
       "    var OutputArea = require('notebook/js/outputarea').OutputArea;\n",
       "\n",
       "    if (OutputArea.prototype.mime_types().indexOf(EXEC_MIME_TYPE) == -1) {\n",
       "      register_renderer(events, OutputArea);\n",
       "    }\n",
       "  }\n",
       "\n",
       "  \n",
       "  if (typeof (root._bokeh_timeout) === \"undefined\" || force === true) {\n",
       "    root._bokeh_timeout = Date.now() + 5000;\n",
       "    root._bokeh_failed_load = false;\n",
       "  }\n",
       "\n",
       "  var NB_LOAD_WARNING = {'data': {'text/html':\n",
       "     \"<div style='background-color: #fdd'>\\n\"+\n",
       "     \"<p>\\n\"+\n",
       "     \"BokehJS does not appear to have successfully loaded. If loading BokehJS from CDN, this \\n\"+\n",
       "     \"may be due to a slow or bad network connection. Possible fixes:\\n\"+\n",
       "     \"</p>\\n\"+\n",
       "     \"<ul>\\n\"+\n",
       "     \"<li>re-rerun `output_notebook()` to attempt to load from CDN again, or</li>\\n\"+\n",
       "     \"<li>use INLINE resources instead, as so:</li>\\n\"+\n",
       "     \"</ul>\\n\"+\n",
       "     \"<code>\\n\"+\n",
       "     \"from bokeh.resources import INLINE\\n\"+\n",
       "     \"output_notebook(resources=INLINE)\\n\"+\n",
       "     \"</code>\\n\"+\n",
       "     \"</div>\"}};\n",
       "\n",
       "  function display_loaded() {\n",
       "    var el = document.getElementById(\"1001\");\n",
       "    if (el != null) {\n",
       "      el.textContent = \"BokehJS is loading...\";\n",
       "    }\n",
       "    if (root.Bokeh !== undefined) {\n",
       "      if (el != null) {\n",
       "        el.textContent = \"BokehJS \" + root.Bokeh.version + \" successfully loaded.\";\n",
       "      }\n",
       "    } else if (Date.now() < root._bokeh_timeout) {\n",
       "      setTimeout(display_loaded, 100)\n",
       "    }\n",
       "  }\n",
       "\n",
       "\n",
       "  function run_callbacks() {\n",
       "    try {\n",
       "      root._bokeh_onload_callbacks.forEach(function(callback) {\n",
       "        if (callback != null)\n",
       "          callback();\n",
       "      });\n",
       "    } finally {\n",
       "      delete root._bokeh_onload_callbacks\n",
       "    }\n",
       "    console.debug(\"Bokeh: all callbacks have finished\");\n",
       "  }\n",
       "\n",
       "  function load_libs(css_urls, js_urls, callback) {\n",
       "    if (css_urls == null) css_urls = [];\n",
       "    if (js_urls == null) js_urls = [];\n",
       "\n",
       "    root._bokeh_onload_callbacks.push(callback);\n",
       "    if (root._bokeh_is_loading > 0) {\n",
       "      console.debug(\"Bokeh: BokehJS is being loaded, scheduling callback at\", now());\n",
       "      return null;\n",
       "    }\n",
       "    if (js_urls == null || js_urls.length === 0) {\n",
       "      run_callbacks();\n",
       "      return null;\n",
       "    }\n",
       "    console.debug(\"Bokeh: BokehJS not loaded, scheduling load and callback at\", now());\n",
       "    root._bokeh_is_loading = css_urls.length + js_urls.length;\n",
       "\n",
       "    function on_load() {\n",
       "      root._bokeh_is_loading--;\n",
       "      if (root._bokeh_is_loading === 0) {\n",
       "        console.debug(\"Bokeh: all BokehJS libraries/stylesheets loaded\");\n",
       "        run_callbacks()\n",
       "      }\n",
       "    }\n",
       "\n",
       "    function on_error() {\n",
       "      console.error(\"failed to load \" + url);\n",
       "    }\n",
       "\n",
       "    for (var i = 0; i < css_urls.length; i++) {\n",
       "      var url = css_urls[i];\n",
       "      const element = document.createElement(\"link\");\n",
       "      element.onload = on_load;\n",
       "      element.onerror = on_error;\n",
       "      element.rel = \"stylesheet\";\n",
       "      element.type = \"text/css\";\n",
       "      element.href = url;\n",
       "      console.debug(\"Bokeh: injecting link tag for BokehJS stylesheet: \", url);\n",
       "      document.body.appendChild(element);\n",
       "    }\n",
       "\n",
       "    const hashes = {\"https://cdn.bokeh.org/bokeh/release/bokeh-2.2.3.min.js\": \"T2yuo9Oe71Cz/I4X9Ac5+gpEa5a8PpJCDlqKYO0CfAuEszu1JrXLl8YugMqYe3sM\", \"https://cdn.bokeh.org/bokeh/release/bokeh-widgets-2.2.3.min.js\": \"98GDGJ0kOMCUMUePhksaQ/GYgB3+NH9h996V88sh3aOiUNX3N+fLXAtry6xctSZ6\", \"https://cdn.bokeh.org/bokeh/release/bokeh-tables-2.2.3.min.js\": \"89bArO+nlbP3sgakeHjCo1JYxYR5wufVgA3IbUvDY+K7w4zyxJqssu7wVnfeKCq8\"};\n",
       "\n",
       "    for (var i = 0; i < js_urls.length; i++) {\n",
       "      var url = js_urls[i];\n",
       "      var element = document.createElement('script');\n",
       "      element.onload = on_load;\n",
       "      element.onerror = on_error;\n",
       "      element.async = false;\n",
       "      element.src = url;\n",
       "      if (url in hashes) {\n",
       "        element.crossOrigin = \"anonymous\";\n",
       "        element.integrity = \"sha384-\" + hashes[url];\n",
       "      }\n",
       "      console.debug(\"Bokeh: injecting script tag for BokehJS library: \", url);\n",
       "      document.head.appendChild(element);\n",
       "    }\n",
       "  };\n",
       "\n",
       "  function inject_raw_css(css) {\n",
       "    const element = document.createElement(\"style\");\n",
       "    element.appendChild(document.createTextNode(css));\n",
       "    document.body.appendChild(element);\n",
       "  }\n",
       "\n",
       "  \n",
       "  var js_urls = [\"https://cdn.bokeh.org/bokeh/release/bokeh-2.2.3.min.js\", \"https://cdn.bokeh.org/bokeh/release/bokeh-widgets-2.2.3.min.js\", \"https://cdn.bokeh.org/bokeh/release/bokeh-tables-2.2.3.min.js\"];\n",
       "  var css_urls = [];\n",
       "  \n",
       "\n",
       "  var inline_js = [\n",
       "    function(Bokeh) {\n",
       "      Bokeh.set_log_level(\"info\");\n",
       "    },\n",
       "    function(Bokeh) {\n",
       "    \n",
       "    \n",
       "    }\n",
       "  ];\n",
       "\n",
       "  function run_inline_js() {\n",
       "    \n",
       "    if (root.Bokeh !== undefined || force === true) {\n",
       "      \n",
       "    for (var i = 0; i < inline_js.length; i++) {\n",
       "      inline_js[i].call(root, root.Bokeh);\n",
       "    }\n",
       "    if (force === true) {\n",
       "        display_loaded();\n",
       "      }} else if (Date.now() < root._bokeh_timeout) {\n",
       "      setTimeout(run_inline_js, 100);\n",
       "    } else if (!root._bokeh_failed_load) {\n",
       "      console.log(\"Bokeh: BokehJS failed to load within specified timeout.\");\n",
       "      root._bokeh_failed_load = true;\n",
       "    } else if (force !== true) {\n",
       "      var cell = $(document.getElementById(\"1001\")).parents('.cell').data().cell;\n",
       "      cell.output_area.append_execute_result(NB_LOAD_WARNING)\n",
       "    }\n",
       "\n",
       "  }\n",
       "\n",
       "  if (root._bokeh_is_loading === 0) {\n",
       "    console.debug(\"Bokeh: BokehJS loaded, going straight to plotting\");\n",
       "    run_inline_js();\n",
       "  } else {\n",
       "    load_libs(css_urls, js_urls, function() {\n",
       "      console.debug(\"Bokeh: BokehJS plotting callback run at\", now());\n",
       "      run_inline_js();\n",
       "    });\n",
       "  }\n",
       "}(window));"
      ],
      "application/vnd.bokehjs_load.v0+json": "\n(function(root) {\n  function now() {\n    return new Date();\n  }\n\n  var force = true;\n\n  if (typeof root._bokeh_onload_callbacks === \"undefined\" || force === true) {\n    root._bokeh_onload_callbacks = [];\n    root._bokeh_is_loading = undefined;\n  }\n\n  \n\n  \n  if (typeof (root._bokeh_timeout) === \"undefined\" || force === true) {\n    root._bokeh_timeout = Date.now() + 5000;\n    root._bokeh_failed_load = false;\n  }\n\n  var NB_LOAD_WARNING = {'data': {'text/html':\n     \"<div style='background-color: #fdd'>\\n\"+\n     \"<p>\\n\"+\n     \"BokehJS does not appear to have successfully loaded. If loading BokehJS from CDN, this \\n\"+\n     \"may be due to a slow or bad network connection. Possible fixes:\\n\"+\n     \"</p>\\n\"+\n     \"<ul>\\n\"+\n     \"<li>re-rerun `output_notebook()` to attempt to load from CDN again, or</li>\\n\"+\n     \"<li>use INLINE resources instead, as so:</li>\\n\"+\n     \"</ul>\\n\"+\n     \"<code>\\n\"+\n     \"from bokeh.resources import INLINE\\n\"+\n     \"output_notebook(resources=INLINE)\\n\"+\n     \"</code>\\n\"+\n     \"</div>\"}};\n\n  function display_loaded() {\n    var el = document.getElementById(\"1001\");\n    if (el != null) {\n      el.textContent = \"BokehJS is loading...\";\n    }\n    if (root.Bokeh !== undefined) {\n      if (el != null) {\n        el.textContent = \"BokehJS \" + root.Bokeh.version + \" successfully loaded.\";\n      }\n    } else if (Date.now() < root._bokeh_timeout) {\n      setTimeout(display_loaded, 100)\n    }\n  }\n\n\n  function run_callbacks() {\n    try {\n      root._bokeh_onload_callbacks.forEach(function(callback) {\n        if (callback != null)\n          callback();\n      });\n    } finally {\n      delete root._bokeh_onload_callbacks\n    }\n    console.debug(\"Bokeh: all callbacks have finished\");\n  }\n\n  function load_libs(css_urls, js_urls, callback) {\n    if (css_urls == null) css_urls = [];\n    if (js_urls == null) js_urls = [];\n\n    root._bokeh_onload_callbacks.push(callback);\n    if (root._bokeh_is_loading > 0) {\n      console.debug(\"Bokeh: BokehJS is being loaded, scheduling callback at\", now());\n      return null;\n    }\n    if (js_urls == null || js_urls.length === 0) {\n      run_callbacks();\n      return null;\n    }\n    console.debug(\"Bokeh: BokehJS not loaded, scheduling load and callback at\", now());\n    root._bokeh_is_loading = css_urls.length + js_urls.length;\n\n    function on_load() {\n      root._bokeh_is_loading--;\n      if (root._bokeh_is_loading === 0) {\n        console.debug(\"Bokeh: all BokehJS libraries/stylesheets loaded\");\n        run_callbacks()\n      }\n    }\n\n    function on_error() {\n      console.error(\"failed to load \" + url);\n    }\n\n    for (var i = 0; i < css_urls.length; i++) {\n      var url = css_urls[i];\n      const element = document.createElement(\"link\");\n      element.onload = on_load;\n      element.onerror = on_error;\n      element.rel = \"stylesheet\";\n      element.type = \"text/css\";\n      element.href = url;\n      console.debug(\"Bokeh: injecting link tag for BokehJS stylesheet: \", url);\n      document.body.appendChild(element);\n    }\n\n    const hashes = {\"https://cdn.bokeh.org/bokeh/release/bokeh-2.2.3.min.js\": \"T2yuo9Oe71Cz/I4X9Ac5+gpEa5a8PpJCDlqKYO0CfAuEszu1JrXLl8YugMqYe3sM\", \"https://cdn.bokeh.org/bokeh/release/bokeh-widgets-2.2.3.min.js\": \"98GDGJ0kOMCUMUePhksaQ/GYgB3+NH9h996V88sh3aOiUNX3N+fLXAtry6xctSZ6\", \"https://cdn.bokeh.org/bokeh/release/bokeh-tables-2.2.3.min.js\": \"89bArO+nlbP3sgakeHjCo1JYxYR5wufVgA3IbUvDY+K7w4zyxJqssu7wVnfeKCq8\"};\n\n    for (var i = 0; i < js_urls.length; i++) {\n      var url = js_urls[i];\n      var element = document.createElement('script');\n      element.onload = on_load;\n      element.onerror = on_error;\n      element.async = false;\n      element.src = url;\n      if (url in hashes) {\n        element.crossOrigin = \"anonymous\";\n        element.integrity = \"sha384-\" + hashes[url];\n      }\n      console.debug(\"Bokeh: injecting script tag for BokehJS library: \", url);\n      document.head.appendChild(element);\n    }\n  };\n\n  function inject_raw_css(css) {\n    const element = document.createElement(\"style\");\n    element.appendChild(document.createTextNode(css));\n    document.body.appendChild(element);\n  }\n\n  \n  var js_urls = [\"https://cdn.bokeh.org/bokeh/release/bokeh-2.2.3.min.js\", \"https://cdn.bokeh.org/bokeh/release/bokeh-widgets-2.2.3.min.js\", \"https://cdn.bokeh.org/bokeh/release/bokeh-tables-2.2.3.min.js\"];\n  var css_urls = [];\n  \n\n  var inline_js = [\n    function(Bokeh) {\n      Bokeh.set_log_level(\"info\");\n    },\n    function(Bokeh) {\n    \n    \n    }\n  ];\n\n  function run_inline_js() {\n    \n    if (root.Bokeh !== undefined || force === true) {\n      \n    for (var i = 0; i < inline_js.length; i++) {\n      inline_js[i].call(root, root.Bokeh);\n    }\n    if (force === true) {\n        display_loaded();\n      }} else if (Date.now() < root._bokeh_timeout) {\n      setTimeout(run_inline_js, 100);\n    } else if (!root._bokeh_failed_load) {\n      console.log(\"Bokeh: BokehJS failed to load within specified timeout.\");\n      root._bokeh_failed_load = true;\n    } else if (force !== true) {\n      var cell = $(document.getElementById(\"1001\")).parents('.cell').data().cell;\n      cell.output_area.append_execute_result(NB_LOAD_WARNING)\n    }\n\n  }\n\n  if (root._bokeh_is_loading === 0) {\n    console.debug(\"Bokeh: BokehJS loaded, going straight to plotting\");\n    run_inline_js();\n  } else {\n    load_libs(css_urls, js_urls, function() {\n      console.debug(\"Bokeh: BokehJS plotting callback run at\", now());\n      run_inline_js();\n    });\n  }\n}(window));"
     },
     "metadata": {},
     "output_type": "display_data"
    }
   ],
   "source": [
    "output_notebook()"
   ]
  },
  {
   "cell_type": "code",
   "execution_count": 2,
   "metadata": {},
   "outputs": [],
   "source": [
    "# Let's create a data arrays used for plotting the line plot\n",
    "x = [5,6,7,8,9,10]\n",
    "y = [1,2,3,4,5,6]"
   ]
  },
  {
   "cell_type": "markdown",
   "metadata": {},
   "source": [
    "Faire appel à la fonction Figure donne à Bokeh l'instruction de construire un graphe. On peut alors y ajouter les couches de glyphs."
   ]
  },
  {
   "cell_type": "code",
   "execution_count": null,
   "metadata": {},
   "outputs": [],
   "source": [
    "# Faire appel à figure() pour créer la figure du plot\n"
   ]
  },
  {
   "cell_type": "code",
   "execution_count": null,
   "metadata": {},
   "outputs": [],
   "source": [
    "# Créer un line plot en utilisant la fonction line()\n"
   ]
  },
  {
   "cell_type": "code",
   "execution_count": null,
   "metadata": {},
   "outputs": [],
   "source": [
    "# Créer des markers sur le line plot au niveau de l'intersection entre x et y\n"
   ]
  },
  {
   "cell_type": "code",
   "execution_count": null,
   "metadata": {},
   "outputs": [],
   "source": [
    "# Afficher le graphe au niveau de ce notebook\n"
   ]
  },
  {
   "cell_type": "markdown",
   "metadata": {},
   "source": [
    "On peut créer un scatter plot en utilisant x et y"
   ]
  },
  {
   "cell_type": "code",
   "execution_count": 3,
   "metadata": {},
   "outputs": [],
   "source": [
    "# Créer une nouvelle figure\n"
   ]
  },
  {
   "cell_type": "code",
   "execution_count": null,
   "metadata": {},
   "outputs": [],
   "source": [
    "# Afficher les points en utilisant un cirle marker\n"
   ]
  },
  {
   "cell_type": "code",
   "execution_count": null,
   "metadata": {},
   "outputs": [],
   "source": [
    "# Afficher le graphe\n"
   ]
  },
  {
   "cell_type": "markdown",
   "metadata": {},
   "source": [
    "Lors de la création d'un scatter plot, on peut choisir parmi les markers disponible sur Bokeh: \n",
    "- cross()\n",
    "- x()\n",
    "- diamond()\n",
    "- diamond_cross()\n",
    "- circle_x()\n",
    "- circle_cross()\n",
    "- triangle()\n",
    "- inverted_triangle()\n",
    "- square()\n",
    "- square_x()\n",
    "- square_cross()\n",
    "- asterisk()"
   ]
  },
  {
   "cell_type": "code",
   "execution_count": null,
   "metadata": {},
   "outputs": [],
   "source": [
    "# Tester d'autre markers pour votre scatterplot\n"
   ]
  },
  {
   "cell_type": "markdown",
   "metadata": {},
   "source": [
    "<br> On peut également ajouter des libélés aux axes x et y en assignant les libélés dans la fonction figure."
   ]
  },
  {
   "cell_type": "code",
   "execution_count": null,
   "metadata": {},
   "outputs": [],
   "source": [
    "# Ajouter les libélés aux axes x et y\n"
   ]
  },
  {
   "cell_type": "markdown",
   "metadata": {},
   "source": [
    "<br>Il est possible de changer la transparence d'une figure en utilisant l'attribut alpha dans la fonction circle. Ceci est utile quand nos points de données sont susceptibles de se croiser. L'argument alpha prend des valuers de 0 (complètement transparent) et 1 (complètement opaque). \n",
    "\n",
    "<br> Sur les visualisations Bokeh, on est fournit par défaut, dans la partie droite du graphe, avec des fonctionnalités de panning, zooming, selection, et sauvegarde. Ces outils sont configurables et très utiles pour l'exploration des données. \n",
    "<br><br> Vous pouvez tester d'autres visualisations à partir de la Bokeh Gallery: https://docs.bokeh.org/en/latest/docs/gallery.html#gallery"
   ]
  },
  {
   "cell_type": "markdown",
   "metadata": {},
   "source": [
    "<br> </br>\n",
    "## B. Visualisations à base des Dataframes Pandas"
   ]
  },
  {
   "cell_type": "markdown",
   "metadata": {},
   "source": [
    "Les dataframe Pandas sont fréquemment utilisées dans les projets data science. Même si Pandas offre quelques possibilités de visualisation des données (e.g. hist qu'on a vu dans TP1, boxplot...), les librairies spécialisées en Data visualisation sont plus adeptes aux challenges de construire des data viz conviviales, complexes et interactives. Bokeh supporte nativement les Pandas dataframe et offre des fonctionnalités qui aident à contruire des graphes interactifs en se basant sur leurs données.\n",
    "<br><br> Au niveau du TP1, on a créé des Heatmaps pour mieux visualiser les corrélations entre les différentes. On va reprendre les données des pistes musicales du TP1 et créer davantage de visualisations. "
   ]
  },
  {
   "cell_type": "code",
   "execution_count": 1,
   "metadata": {},
   "outputs": [],
   "source": [
    "import pandas as pd"
   ]
  },
  {
   "cell_type": "code",
   "execution_count": 1,
   "metadata": {},
   "outputs": [],
   "source": [
    "# Lire le fichier data dans une dataframe\n",
    "\n"
   ]
  },
  {
   "cell_type": "markdown",
   "metadata": {},
   "source": [
    "Créer une nouvelle dataframe en filtrant sur un artiste de votre choix (de préférence un artiste avec plusieurs pistes sur plusieurs années)"
   ]
  },
  {
   "cell_type": "code",
   "execution_count": 5,
   "metadata": {},
   "outputs": [],
   "source": []
  },
  {
   "cell_type": "markdown",
   "metadata": {},
   "source": [
    "Il est possible de créer une série chronologique basée sur une Pandas dataframe. Une série chronologique est un ensemble de données dont les valeurs sont mesurées à différents moments. Avec Pandas, on peut facilement organiser, transformer, analyser et visualiser les données de séries chronologiques à n'importe quel niveau de granularité - en examinant les détails pendant des périodes d'intérêt spécifiques et en effectuant un zoom arrière pour explorer les variations à différentes échelles de temps, telles que des agrégations mensuelles ou annuelles, modèles récurrents et tendances à long terme.\n"
   ]
  },
  {
   "cell_type": "code",
   "execution_count": 2,
   "metadata": {},
   "outputs": [],
   "source": [
    "# convertir la colonne release_date en une date\n",
    "\n"
   ]
  },
  {
   "cell_type": "code",
   "execution_count": 35,
   "metadata": {},
   "outputs": [],
   "source": [
    "# Créer une nouvelle dataframe calculant la moyenne des variables de l'artiste selon release_date et ordonner les par dates\n",
    "\n"
   ]
  },
  {
   "cell_type": "code",
   "execution_count": 3,
   "metadata": {},
   "outputs": [],
   "source": [
    "# Créer votre graphe en précisant que le type de l'axe x est une date  \n",
    "\n"
   ]
  },
  {
   "cell_type": "code",
   "execution_count": 5,
   "metadata": {},
   "outputs": [],
   "source": [
    "# Créer un graphe Line avec les données ordonnées de popularité par release_date\n",
    "\n"
   ]
  },
  {
   "cell_type": "code",
   "execution_count": 4,
   "metadata": {},
   "outputs": [],
   "source": [
    "# Ajouter un glyph circle permettant de mieux visualiser les datapoints sur le graphe Line\n",
    "\n"
   ]
  },
  {
   "cell_type": "code",
   "execution_count": 6,
   "metadata": {},
   "outputs": [],
   "source": [
    "# Afficher le graphe\n",
    "\n"
   ]
  },
  {
   "cell_type": "markdown",
   "metadata": {},
   "source": [
    "<br> Pour des graphes plus complexes, transmettre les données d'un Dataframe aux glyphs devient compliqué. Bokeh procure un objet \"ColumnDataSource\" pour lier la dataframe au glyph et mapper les noms des colonnes aux données, facilitant ainsi la référence des éléments de données lors de la construction de la visualisation. Une fois créée, une ColumnDataSource peut être transmise aux méthodes glyph via le paramètre \"source\".\n",
    "\n",
    "Revenons à notre graph Line. On voudrait afficher la popularité d'un autre artiste sur le même graphe. On utilisera la fonction add_glyph de Bokeh, ainsi qu'une ColumnDataSource.  \n"
   ]
  },
  {
   "cell_type": "code",
   "execution_count": 117,
   "metadata": {},
   "outputs": [],
   "source": [
    "from bokeh.models import ColumnDataSource"
   ]
  },
  {
   "cell_type": "code",
   "execution_count": 7,
   "metadata": {},
   "outputs": [],
   "source": [
    "# Créer une ColumnDataSource qui filtre votre dataset sur un artiste comparable à celui déjà choisi (release_date des pistes dans des périodes similaires)\n",
    "\n"
   ]
  },
  {
   "cell_type": "code",
   "execution_count": 139,
   "metadata": {},
   "outputs": [],
   "source": [
    "from bokeh.models.glyphs import Line"
   ]
  },
  {
   "cell_type": "code",
   "execution_count": 140,
   "metadata": {},
   "outputs": [],
   "source": [
    "# Créer un graphe Line qui prend release_date dans x_axis et popularité dans y_axis. Choisir une couleur pour la ligne.\n"
   ]
  },
  {
   "cell_type": "code",
   "execution_count": 8,
   "metadata": {},
   "outputs": [],
   "source": [
    "# En utilisant add_glyph, ajouter une nouvelle ligne au plot précédent en spécifiant l'objet ColumnDataSource créé comme source et le Line glyph comme argument.\n",
    "\n"
   ]
  },
  {
   "cell_type": "code",
   "execution_count": 9,
   "metadata": {},
   "outputs": [],
   "source": [
    "# Afficher le graphe\n",
    "\n"
   ]
  },
  {
   "cell_type": "markdown",
   "metadata": {},
   "source": [
    "<br> En explorant la propriété renderers de votre plot, vous pouvez voir les propriétés et les glyphs le composant. Ceci est utile pour garder trace des composants du graphe, ainsi qur pour lier les composants avec de nouveaux objets comme les items légende par exemple. \n"
   ]
  },
  {
   "cell_type": "code",
   "execution_count": null,
   "metadata": {},
   "outputs": [],
   "source": [
    "# Afficher la liste des renderers de votre graphe, quelles sont les propriétés sauvegardées?\n",
    "\n"
   ]
  },
  {
   "cell_type": "markdown",
   "metadata": {},
   "source": [
    "<br> Comme le graphe a deux ligne, on voudrait ajouter une légende pour les différencier. On créera alors Legend items, puis ajoutera la légende à notre graphe."
   ]
  },
  {
   "cell_type": "code",
   "execution_count": 356,
   "metadata": {},
   "outputs": [],
   "source": [
    "from bokeh.models import Legend, LegendItem"
   ]
  },
  {
   "cell_type": "code",
   "execution_count": 371,
   "metadata": {},
   "outputs": [],
   "source": [
    "# Créer deux legend items et leur donner des labels significatifs. Utiliser les renderers pour les pointer sur le bon glyph\n",
    "\n"
   ]
  },
  {
   "cell_type": "code",
   "execution_count": 372,
   "metadata": {},
   "outputs": [],
   "source": [
    "# Créer l'objet Legend qui inclue les deux legend items. Il est possible de spécifier l'emplacement de la légende\n",
    "\n"
   ]
  },
  {
   "cell_type": "code",
   "execution_count": 373,
   "metadata": {},
   "outputs": [],
   "source": [
    "# Ajouter Legend au graphe en utilisant la fonction add_layout\n",
    "\n"
   ]
  },
  {
   "cell_type": "code",
   "execution_count": 374,
   "metadata": {},
   "outputs": [
    {
     "data": {
      "text/html": [
       "\n",
       "\n",
       "\n",
       "\n",
       "\n",
       "\n",
       "  <div class=\"bk-root\" id=\"2529a675-7586-4d21-9c1e-917920872ac7\" data-root-id=\"13667\"></div>\n"
      ]
     },
     "metadata": {},
     "output_type": "display_data"
    },
    {
     "data": {
      "application/javascript": [
       "(function(root) {\n",
       "  function embed_document(root) {\n",
       "    \n",
       "  var docs_json = {\"2428d78d-03cc-4e2d-8479-648003ca9408\":{\"roots\":{\"references\":[{\"attributes\":{\"below\":[{\"id\":\"13676\"}],\"center\":[{\"id\":\"13679\"},{\"id\":\"13683\"},{\"id\":\"30726\"},{\"id\":\"31501\"}],\"left\":[{\"id\":\"13680\"}],\"plot_height\":300,\"plot_width\":1000,\"renderers\":[{\"id\":\"13701\"},{\"id\":\"13708\"},{\"id\":\"13715\"},{\"id\":\"13722\"},{\"id\":\"14333\"}],\"title\":{\"id\":\"14171\"},\"toolbar\":{\"id\":\"13691\"},\"x_range\":{\"id\":\"13668\"},\"x_scale\":{\"id\":\"13672\"},\"y_range\":{\"id\":\"13670\"},\"y_scale\":{\"id\":\"13674\"}},\"id\":\"13667\",\"subtype\":\"Figure\",\"type\":\"Plot\"},{\"attributes\":{\"axis\":{\"id\":\"13680\"},\"dimension\":1,\"ticker\":null},\"id\":\"13683\",\"type\":\"Grid\"},{\"attributes\":{\"label\":{\"value\":\"Kodaline\"},\"renderers\":[{\"id\":\"14333\"}]},\"id\":\"30725\",\"type\":\"LegendItem\"},{\"attributes\":{\"line_alpha\":0.1,\"line_color\":\"magenta\",\"x\":{\"field\":\"x\"},\"y\":{\"field\":\"y\"}},\"id\":\"13714\",\"type\":\"Line\"},{\"attributes\":{\"items\":[{\"id\":\"30724\"},{\"id\":\"30725\"}]},\"id\":\"30726\",\"type\":\"Legend\"},{\"attributes\":{\"base\":60,\"mantissas\":[1,2,5,10,15,20,30],\"max_interval\":1800000.0,\"min_interval\":1000.0,\"num_minor_ticks\":0},\"id\":\"14177\",\"type\":\"AdaptiveTicker\"},{\"attributes\":{},\"id\":\"14172\",\"type\":\"BasicTickFormatter\"},{\"attributes\":{\"fill_alpha\":{\"value\":0.1},\"fill_color\":{\"value\":\"#1f77b4\"},\"line_alpha\":{\"value\":0.1},\"line_color\":{\"value\":\"magenta\"},\"x\":{\"field\":\"x\"},\"y\":{\"field\":\"y\"}},\"id\":\"13721\",\"type\":\"Diamond\"},{\"attributes\":{\"months\":[0,6]},\"id\":\"14186\",\"type\":\"MonthsTicker\"},{\"attributes\":{},\"id\":\"14807\",\"type\":\"UnionRenderers\"},{\"attributes\":{\"data\":{\"danceability\":{\"__ndarray__\":\"2/l+arx00z/ZzvdT46XTPy2yne+nxtM/6SYxCKwc4D9Wn6ut2F/WP8/3U+Olm9w/bOf7qfHS3T9U46WbxCDgP4/C9Shcj9o/\",\"dtype\":\"float64\",\"order\":\"little\",\"shape\":[9]},\"index\":[0,1,2,3,4,5,6,7,8],\"release_date\":{\"__ndarray__\":\"AACA/702c0IAAMA4zn9zQgAAwDymSHRCAACAQCVgdEIAAEBRNHF0QgAAgCmnA3VCAADAKMqCdUIAAABG5b12QgAAwC9E4nZC\",\"dtype\":\"float64\",\"order\":\"little\",\"shape\":[9]}},\"selected\":{\"id\":\"14806\"},\"selection_policy\":{\"id\":\"14807\"}},\"id\":\"13666\",\"type\":\"ColumnDataSource\"},{\"attributes\":{\"label\":{\"value\":\"Sleeping At Last\"},\"renderers\":[{\"id\":\"13715\"}]},\"id\":\"30724\",\"type\":\"LegendItem\"},{\"attributes\":{},\"id\":\"13688\",\"type\":\"ResetTool\"},{\"attributes\":{\"fill_color\":{\"value\":\"#1f77b4\"},\"line_color\":{\"value\":\"magenta\"},\"x\":{\"field\":\"x\"},\"y\":{\"field\":\"y\"}},\"id\":\"13720\",\"type\":\"Diamond\"},{\"attributes\":{\"line_color\":\"navy\",\"x\":{\"field\":\"release_date\"},\"y\":{\"field\":\"danceability\"}},\"id\":\"14332\",\"type\":\"Line\"},{\"attributes\":{\"months\":[0,1,2,3,4,5,6,7,8,9,10,11]},\"id\":\"14183\",\"type\":\"MonthsTicker\"},{\"attributes\":{\"data_source\":{\"id\":\"13712\"},\"glyph\":{\"id\":\"13713\"},\"hover_glyph\":null,\"muted_glyph\":null,\"nonselection_glyph\":{\"id\":\"13714\"},\"selection_glyph\":null,\"view\":{\"id\":\"13716\"}},\"id\":\"13715\",\"type\":\"GlyphRenderer\"},{\"attributes\":{\"fill_color\":{\"value\":\"#1f77b4\"},\"line_color\":{\"value\":\"firebrick\"},\"x\":{\"field\":\"x\"},\"y\":{\"field\":\"y\"}},\"id\":\"13706\",\"type\":\"Circle\"},{\"attributes\":{\"source\":{\"id\":\"13719\"}},\"id\":\"13723\",\"type\":\"CDSView\"},{\"attributes\":{\"mantissas\":[1,2,5],\"max_interval\":500.0,\"num_minor_ticks\":0},\"id\":\"14176\",\"type\":\"AdaptiveTicker\"},{\"attributes\":{\"data\":{\"x\":{\"__ndarray__\":\"AACA/702c0IAAMA4zn9zQgAAwDymSHRCAACAQCVgdEIAAEBRNHF0QgAAgCmnA3VCAADAKMqCdUIAAABG5b12QgAAwC9E4nZC\",\"dtype\":\"float64\",\"order\":\"little\",\"shape\":[9]},\"y\":{\"__ndarray__\":\"AAAAAACASUAAAAAAAABRQAAAAAAAAExAAAAAAACATEAAAAAAAIBMQAAAAAAAgE9Aq6qqqqoqUEAAAAAAAEBQQAAAAAAAAFJA\",\"dtype\":\"float64\",\"order\":\"little\",\"shape\":[9]}},\"selected\":{\"id\":\"14191\"},\"selection_policy\":{\"id\":\"14192\"}},\"id\":\"13705\",\"type\":\"ColumnDataSource\"},{\"attributes\":{\"line_color\":\"magenta\",\"x\":{\"field\":\"x\"},\"y\":{\"field\":\"y\"}},\"id\":\"13713\",\"type\":\"Line\"},{\"attributes\":{},\"id\":\"14191\",\"type\":\"Selection\"},{\"attributes\":{},\"id\":\"13685\",\"type\":\"WheelZoomTool\"},{\"attributes\":{\"base\":24,\"mantissas\":[1,2,4,6,8,12],\"max_interval\":43200000.0,\"min_interval\":3600000.0,\"num_minor_ticks\":0},\"id\":\"14178\",\"type\":\"AdaptiveTicker\"},{\"attributes\":{\"items\":[{\"id\":\"31499\"},{\"id\":\"31500\"}]},\"id\":\"31501\",\"type\":\"Legend\"},{\"attributes\":{\"line_color\":\"firebrick\",\"x\":{\"field\":\"x\"},\"y\":{\"field\":\"y\"}},\"id\":\"13699\",\"type\":\"Line\"},{\"attributes\":{\"source\":{\"id\":\"13712\"}},\"id\":\"13716\",\"type\":\"CDSView\"},{\"attributes\":{},\"id\":\"13668\",\"type\":\"DataRange1d\"},{\"attributes\":{\"data\":{\"x\":{\"__ndarray__\":\"AACA/702c0IAAMA4zn9zQgAAwDymSHRCAACAQCVgdEIAAEBRNHF0QgAAgCmnA3VCAADAKMqCdUIAAABG5b12QgAAwC9E4nZC\",\"dtype\":\"float64\",\"order\":\"little\",\"shape\":[9]},\"y\":{\"__ndarray__\":\"AAAAAACASUAAAAAAAABRQAAAAAAAAExAAAAAAACATEAAAAAAAIBMQAAAAAAAgE9Aq6qqqqoqUEAAAAAAAEBQQAAAAAAAAFJA\",\"dtype\":\"float64\",\"order\":\"little\",\"shape\":[9]}},\"selected\":{\"id\":\"14189\"},\"selection_policy\":{\"id\":\"14190\"}},\"id\":\"13698\",\"type\":\"ColumnDataSource\"},{\"attributes\":{\"days\":[1,2,3,4,5,6,7,8,9,10,11,12,13,14,15,16,17,18,19,20,21,22,23,24,25,26,27,28,29,30,31]},\"id\":\"14179\",\"type\":\"DaysTicker\"},{\"attributes\":{\"axis\":{\"id\":\"13676\"},\"ticker\":null},\"id\":\"13679\",\"type\":\"Grid\"},{\"attributes\":{},\"id\":\"14174\",\"type\":\"DatetimeTickFormatter\"},{\"attributes\":{},\"id\":\"13670\",\"type\":\"DataRange1d\"},{\"attributes\":{},\"id\":\"13684\",\"type\":\"PanTool\"},{\"attributes\":{},\"id\":\"14194\",\"type\":\"UnionRenderers\"},{\"attributes\":{},\"id\":\"14806\",\"type\":\"Selection\"},{\"attributes\":{\"data_source\":{\"id\":\"13705\"},\"glyph\":{\"id\":\"13706\"},\"hover_glyph\":null,\"muted_glyph\":null,\"nonselection_glyph\":{\"id\":\"13707\"},\"selection_glyph\":null,\"view\":{\"id\":\"13709\"}},\"id\":\"13708\",\"type\":\"GlyphRenderer\"},{\"attributes\":{\"data\":{\"x\":{\"__ndarray__\":\"AADA5fb0c0IAAEArurZ0QgAAAOnxPHVCAACAmddhdkIAAEACzPh2Qg==\",\"dtype\":\"float64\",\"order\":\"little\",\"shape\":[5]},\"y\":{\"__ndarray__\":\"q6qqqqpqUUAAAAAAAMBQQAAAAAAAAFBAAAAAAABAUUAAAAAAAABSQA==\",\"dtype\":\"float64\",\"order\":\"little\",\"shape\":[5]}},\"selected\":{\"id\":\"14195\"},\"selection_policy\":{\"id\":\"14196\"}},\"id\":\"13719\",\"type\":\"ColumnDataSource\"},{\"attributes\":{\"days\":[1,15]},\"id\":\"14182\",\"type\":\"DaysTicker\"},{\"attributes\":{\"source\":{\"id\":\"13705\"}},\"id\":\"13709\",\"type\":\"CDSView\"},{\"attributes\":{},\"id\":\"14187\",\"type\":\"YearsTicker\"},{\"attributes\":{\"bottom_units\":\"screen\",\"fill_alpha\":0.5,\"fill_color\":\"lightgrey\",\"left_units\":\"screen\",\"level\":\"overlay\",\"line_alpha\":1.0,\"line_color\":\"black\",\"line_dash\":[4,4],\"line_width\":2,\"right_units\":\"screen\",\"top_units\":\"screen\"},\"id\":\"13690\",\"type\":\"BoxAnnotation\"},{\"attributes\":{},\"id\":\"14192\",\"type\":\"UnionRenderers\"},{\"attributes\":{},\"id\":\"13689\",\"type\":\"HelpTool\"},{\"attributes\":{\"days\":[1,4,7,10,13,16,19,22,25,28]},\"id\":\"14180\",\"type\":\"DaysTicker\"},{\"attributes\":{},\"id\":\"14189\",\"type\":\"Selection\"},{\"attributes\":{},\"id\":\"14195\",\"type\":\"Selection\"},{\"attributes\":{\"source\":{\"id\":\"13698\"}},\"id\":\"13702\",\"type\":\"CDSView\"},{\"attributes\":{\"source\":{\"id\":\"13666\"}},\"id\":\"14334\",\"type\":\"CDSView\"},{\"attributes\":{\"days\":[1,8,15,22]},\"id\":\"14181\",\"type\":\"DaysTicker\"},{\"attributes\":{\"active_drag\":\"auto\",\"active_inspect\":\"auto\",\"active_multi\":null,\"active_scroll\":\"auto\",\"active_tap\":\"auto\",\"tools\":[{\"id\":\"13684\"},{\"id\":\"13685\"},{\"id\":\"13686\"},{\"id\":\"13687\"},{\"id\":\"13688\"},{\"id\":\"13689\"}]},\"id\":\"13691\",\"type\":\"Toolbar\"},{\"attributes\":{\"axis_label\":\"release_date\",\"formatter\":{\"id\":\"14174\"},\"ticker\":{\"id\":\"13677\"}},\"id\":\"13676\",\"type\":\"DatetimeAxis\"},{\"attributes\":{},\"id\":\"14193\",\"type\":\"Selection\"},{\"attributes\":{},\"id\":\"13674\",\"type\":\"LinearScale\"},{\"attributes\":{\"overlay\":{\"id\":\"13690\"}},\"id\":\"13686\",\"type\":\"BoxZoomTool\"},{\"attributes\":{\"label\":{\"value\":\"Sleeping At Last\"},\"renderers\":[{\"id\":\"13701\"}]},\"id\":\"31499\",\"type\":\"LegendItem\"},{\"attributes\":{\"fill_alpha\":{\"value\":0.1},\"fill_color\":{\"value\":\"#1f77b4\"},\"line_alpha\":{\"value\":0.1},\"line_color\":{\"value\":\"firebrick\"},\"x\":{\"field\":\"x\"},\"y\":{\"field\":\"y\"}},\"id\":\"13707\",\"type\":\"Circle\"},{\"attributes\":{\"text\":\"\"},\"id\":\"14171\",\"type\":\"Title\"},{\"attributes\":{\"line_alpha\":0.1,\"line_color\":\"firebrick\",\"x\":{\"field\":\"x\"},\"y\":{\"field\":\"y\"}},\"id\":\"13700\",\"type\":\"Line\"},{\"attributes\":{\"months\":[0,4,8]},\"id\":\"14185\",\"type\":\"MonthsTicker\"},{\"attributes\":{},\"id\":\"14190\",\"type\":\"UnionRenderers\"},{\"attributes\":{\"formatter\":{\"id\":\"14172\"},\"ticker\":{\"id\":\"13681\"}},\"id\":\"13680\",\"type\":\"LinearAxis\"},{\"attributes\":{\"data_source\":{\"id\":\"13698\"},\"glyph\":{\"id\":\"13699\"},\"hover_glyph\":null,\"muted_glyph\":null,\"nonselection_glyph\":{\"id\":\"13700\"},\"selection_glyph\":null,\"view\":{\"id\":\"13702\"}},\"id\":\"13701\",\"type\":\"GlyphRenderer\"},{\"attributes\":{\"label\":{\"value\":\"Kodaline\"},\"renderers\":[{\"id\":\"13715\"}]},\"id\":\"31500\",\"type\":\"LegendItem\"},{\"attributes\":{},\"id\":\"14196\",\"type\":\"UnionRenderers\"},{\"attributes\":{},\"id\":\"13672\",\"type\":\"LinearScale\"},{\"attributes\":{},\"id\":\"13681\",\"type\":\"BasicTicker\"},{\"attributes\":{},\"id\":\"13687\",\"type\":\"SaveTool\"},{\"attributes\":{\"data_source\":{\"id\":\"13666\"},\"glyph\":{\"id\":\"14332\"},\"hover_glyph\":null,\"muted_glyph\":null,\"view\":{\"id\":\"14334\"}},\"id\":\"14333\",\"type\":\"GlyphRenderer\"},{\"attributes\":{\"num_minor_ticks\":5,\"tickers\":[{\"id\":\"14176\"},{\"id\":\"14177\"},{\"id\":\"14178\"},{\"id\":\"14179\"},{\"id\":\"14180\"},{\"id\":\"14181\"},{\"id\":\"14182\"},{\"id\":\"14183\"},{\"id\":\"14184\"},{\"id\":\"14185\"},{\"id\":\"14186\"},{\"id\":\"14187\"}]},\"id\":\"13677\",\"type\":\"DatetimeTicker\"},{\"attributes\":{\"data\":{\"x\":{\"__ndarray__\":\"AADA5fb0c0IAAEArurZ0QgAAAOnxPHVCAACAmddhdkIAAEACzPh2Qg==\",\"dtype\":\"float64\",\"order\":\"little\",\"shape\":[5]},\"y\":{\"__ndarray__\":\"q6qqqqpqUUAAAAAAAMBQQAAAAAAAAFBAAAAAAABAUUAAAAAAAABSQA==\",\"dtype\":\"float64\",\"order\":\"little\",\"shape\":[5]}},\"selected\":{\"id\":\"14193\"},\"selection_policy\":{\"id\":\"14194\"}},\"id\":\"13712\",\"type\":\"ColumnDataSource\"},{\"attributes\":{\"months\":[0,2,4,6,8,10]},\"id\":\"14184\",\"type\":\"MonthsTicker\"},{\"attributes\":{\"data_source\":{\"id\":\"13719\"},\"glyph\":{\"id\":\"13720\"},\"hover_glyph\":null,\"muted_glyph\":null,\"nonselection_glyph\":{\"id\":\"13721\"},\"selection_glyph\":null,\"view\":{\"id\":\"13723\"}},\"id\":\"13722\",\"type\":\"GlyphRenderer\"}],\"root_ids\":[\"13667\"]},\"title\":\"Bokeh Application\",\"version\":\"2.2.3\"}};\n",
       "  var render_items = [{\"docid\":\"2428d78d-03cc-4e2d-8479-648003ca9408\",\"root_ids\":[\"13667\"],\"roots\":{\"13667\":\"2529a675-7586-4d21-9c1e-917920872ac7\"}}];\n",
       "  root.Bokeh.embed.embed_items_notebook(docs_json, render_items);\n",
       "\n",
       "  }\n",
       "  if (root.Bokeh !== undefined) {\n",
       "    embed_document(root);\n",
       "  } else {\n",
       "    var attempts = 0;\n",
       "    var timer = setInterval(function(root) {\n",
       "      if (root.Bokeh !== undefined) {\n",
       "        clearInterval(timer);\n",
       "        embed_document(root);\n",
       "      } else {\n",
       "        attempts++;\n",
       "        if (attempts > 100) {\n",
       "          clearInterval(timer);\n",
       "          console.log(\"Bokeh: ERROR: Unable to run BokehJS code because BokehJS library is missing\");\n",
       "        }\n",
       "      }\n",
       "    }, 10, root)\n",
       "  }\n",
       "})(window);"
      ],
      "application/vnd.bokehjs_exec.v0+json": ""
     },
     "metadata": {
      "application/vnd.bokehjs_exec.v0+json": {
       "id": "13667"
      }
     },
     "output_type": "display_data"
    }
   ],
   "source": [
    "# Afficher votre graphe à nouveau\n",
    "\n"
   ]
  },
  {
   "cell_type": "code",
   "execution_count": 10,
   "metadata": {},
   "outputs": [],
   "source": [
    "# Afficher la liste des renderers. Arrivez-vous à voir les nouveaux composants?\n",
    "\n"
   ]
  },
  {
   "cell_type": "markdown",
   "metadata": {},
   "source": [
    "<br></br> \n",
    "\n",
    "### Graphes supplémentaires (données catégoriques, whiskers, propriétés visuelles...):\n",
    "\n",
    "Pour visualiser les données catégoriques, on a tendance à utiliser des graphes à barres. En se basant sur votre fichier (TP1) contenant le nombre des pistes duos par artiste (collaborateur) et la moyenne des variables du même artiste, créer Un graphe à bar + Ligne. Voir https://docs.bokeh.org/en/latest/docs/user_guide/categorical.html. \n",
    "\n",
    "Vous pouvez également explorer le nombre de pistes selon les clés et leur popularité respective en utilisant les whiskers par exemple https://docs.bokeh.org/en/latest/docs/user_guide/annotations.html#whiskers.\n",
    "\n",
    "Penser à donner des titres, des labels... à vos graphes, axes etc. Pour plus de détails sur les propriétés visuelles, voir: https://docs.bokeh.org/en/latest/docs/user_guide/styling.html"
   ]
  },
  {
   "cell_type": "markdown",
   "metadata": {},
   "source": [
    "##### Exemple de gestion des données catégoriques dans un graphe Bokeh: "
   ]
  },
  {
   "cell_type": "code",
   "execution_count": 225,
   "metadata": {},
   "outputs": [],
   "source": [
    "# Lire le fichiers des duos sauvegardé du TP1 dans une dataframe \n",
    "\n"
   ]
  },
  {
   "cell_type": "code",
   "execution_count": 11,
   "metadata": {},
   "outputs": [],
   "source": [
    "# Créer une nouvelle dataframe qui calcule les moyennes des variables d'une paire d'artistes et les ordonnes par leur popularité ascendante \n",
    "# pour n'en prendre que les 10 premiers\n",
    "\n"
   ]
  },
  {
   "cell_type": "code",
   "execution_count": 272,
   "metadata": {},
   "outputs": [],
   "source": [
    "from bokeh.palettes import Magma10\n",
    "from bokeh.transform import factor_cmap"
   ]
  },
  {
   "cell_type": "code",
   "execution_count": 233,
   "metadata": {},
   "outputs": [],
   "source": [
    "# Créer une ColumnDataSource avec la nouvelle dataframe\n",
    "\n"
   ]
  },
  {
   "cell_type": "code",
   "execution_count": 241,
   "metadata": {},
   "outputs": [],
   "source": [
    "# Créer une liste contenant la liste des premiers artistes des duos\n",
    "\n"
   ]
  },
  {
   "cell_type": "code",
   "execution_count": 269,
   "metadata": {},
   "outputs": [],
   "source": [
    "# Créer une figure en indiquant que l'axe x aura une liste de valeur qui est la liste des artistes créée, penser à utiliser l'argument x_range\n",
    "\n"
   ]
  },
  {
   "cell_type": "code",
   "execution_count": 12,
   "metadata": {},
   "outputs": [],
   "source": [
    "# Créer un graphe à barres verticales avec les premiers artistes dans l'axe x et popularity comme valeur, \n",
    "# changer les couleurs des barres en fonction des valeurs catégoriques en utilisant l'argument fill_color et la fonction factor_map\n",
    "\n"
   ]
  },
  {
   "cell_type": "code",
   "execution_count": 13,
   "metadata": {},
   "outputs": [],
   "source": [
    "# Afficher votre graphe\n",
    "\n"
   ]
  },
  {
   "cell_type": "markdown",
   "metadata": {},
   "source": [
    "<br> Vous pouvez faire de même pour les données catégoriques clé (Key) pour voir la popularité des pistes selon ces clé."
   ]
  },
  {
   "cell_type": "code",
   "execution_count": null,
   "metadata": {},
   "outputs": [],
   "source": []
  },
  {
   "cell_type": "code",
   "execution_count": null,
   "metadata": {},
   "outputs": [],
   "source": []
  },
  {
   "cell_type": "code",
   "execution_count": null,
   "metadata": {},
   "outputs": [],
   "source": []
  },
  {
   "cell_type": "code",
   "execution_count": null,
   "metadata": {},
   "outputs": [],
   "source": []
  },
  {
   "cell_type": "code",
   "execution_count": null,
   "metadata": {},
   "outputs": [],
   "source": []
  },
  {
   "cell_type": "markdown",
   "metadata": {},
   "source": [
    "<br></br>\n",
    "## C. Création de multiples visualisations"
   ]
  },
  {
   "cell_type": "markdown",
   "metadata": {},
   "source": [
    "Lors de la création des data visualisations, nous avons tendance à afficher de multiple graphes sur le même ecran. Ceci peut être fait en organisant les graphes avec les layouts. L'utilisateion des layouts, tabs, et les grids peut nous permettre de lier entre multiple graphes en utilisant les mêmes axes. Ce qui rend a comparaison entre les différents graphes plus facile et précis."
   ]
  },
  {
   "cell_type": "markdown",
   "metadata": {},
   "source": [
    "#### 1. Création de multiple graphes selon la même ligne "
   ]
  },
  {
   "cell_type": "markdown",
   "metadata": {},
   "source": [
    "Afin d'organiser nos graphes selon la même ligne, on crée en premier lieu 3 graphes pour trois artistes de votre choix."
   ]
  },
  {
   "cell_type": "code",
   "execution_count": null,
   "metadata": {},
   "outputs": [],
   "source": [
    "# Créer trois graphes Line affichant respectivement loudness de trois artistes \n"
   ]
  },
  {
   "cell_type": "code",
   "execution_count": 409,
   "metadata": {},
   "outputs": [],
   "source": [
    "from bokeh.layouts import row"
   ]
  },
  {
   "cell_type": "code",
   "execution_count": 410,
   "metadata": {},
   "outputs": [],
   "source": [
    "# Créer un objet row object avec les trois graphes\n",
    "\n"
   ]
  },
  {
   "cell_type": "code",
   "execution_count": 411,
   "metadata": {},
   "outputs": [
    {
     "data": {
      "text/html": [
       "\n",
       "\n",
       "\n",
       "\n",
       "\n",
       "\n",
       "  <div class=\"bk-root\" id=\"74b48e4e-3ff6-41a3-a524-da4b20c8119a\" data-root-id=\"33768\"></div>\n"
      ]
     },
     "metadata": {},
     "output_type": "display_data"
    },
    {
     "data": {
      "application/javascript": [
       "(function(root) {\n",
       "  function embed_document(root) {\n",
       "    \n",
       "  var docs_json = {\"28328769-6e85-4032-baea-150795595ea1\":{\"roots\":{\"references\":[{\"attributes\":{\"children\":[{\"id\":\"33042\"},{\"id\":\"25190\"},{\"id\":\"13667\"}]},\"id\":\"33768\",\"type\":\"Row\"},{\"attributes\":{\"bottom_units\":\"screen\",\"fill_alpha\":0.5,\"fill_color\":\"lightgrey\",\"left_units\":\"screen\",\"level\":\"overlay\",\"line_alpha\":1.0,\"line_color\":\"black\",\"line_dash\":[4,4],\"line_width\":2,\"right_units\":\"screen\",\"top_units\":\"screen\"},\"id\":\"25212\",\"type\":\"BoxAnnotation\"},{\"attributes\":{\"items\":[{\"id\":\"30724\"},{\"id\":\"30725\"}]},\"id\":\"30726\",\"type\":\"Legend\"},{\"attributes\":{\"data_source\":{\"id\":\"20730\"},\"glyph\":{\"id\":\"25867\"},\"hover_glyph\":null,\"muted_glyph\":null,\"nonselection_glyph\":{\"id\":\"25868\"},\"selection_glyph\":null,\"view\":{\"id\":\"25870\"}},\"id\":\"25869\",\"type\":\"GlyphRenderer\"},{\"attributes\":{\"fill_alpha\":{\"value\":0.1},\"fill_color\":{\"field\":\"artist_A\",\"transform\":{\"id\":\"25220\"}},\"line_alpha\":{\"value\":0.1},\"line_color\":{\"value\":\"#1f77b4\"},\"top\":{\"field\":\"popularity\"},\"width\":{\"value\":0.9},\"x\":{\"field\":\"artist_A\"}},\"id\":\"25223\",\"type\":\"VBar\"},{\"attributes\":{\"below\":[{\"id\":\"25199\"}],\"center\":[{\"id\":\"25201\"},{\"id\":\"25205\"}],\"left\":[{\"id\":\"25202\"}],\"plot_height\":400,\"plot_width\":1200,\"renderers\":[{\"id\":\"25224\"},{\"id\":\"25869\"}],\"title\":{\"id\":\"25812\"},\"toolbar\":{\"id\":\"25213\"},\"x_range\":{\"id\":\"25191\"},\"x_scale\":{\"id\":\"25195\"},\"y_range\":{\"id\":\"25193\"},\"y_scale\":{\"id\":\"25197\"}},\"id\":\"25190\",\"subtype\":\"Figure\",\"type\":\"Plot\"},{\"attributes\":{\"fill_alpha\":{\"value\":0.1},\"fill_color\":{\"field\":\"key\",\"transform\":{\"id\":\"33072\"}},\"line_alpha\":{\"value\":0.1},\"line_color\":{\"value\":\"#1f77b4\"},\"top\":{\"field\":\"freq\"},\"width\":{\"value\":0.9},\"x\":{\"field\":\"key\"}},\"id\":\"33075\",\"type\":\"VBar\"},{\"attributes\":{\"label\":{\"value\":\"Sleeping At Last\"},\"renderers\":[{\"id\":\"13715\"}]},\"id\":\"30724\",\"type\":\"LegendItem\"},{\"attributes\":{\"factors\":[\"Powfu\",\"BENEE\",\"Surf Mesa\",\"Ariana Grande\",\"Topic\",\"KAROL G\",\"Marshmello\",\"Lady Gaga\",\"ROSAL\\u00cdA\",\"JP Saxe\"]},\"id\":\"25191\",\"type\":\"FactorRange\"},{\"attributes\":{\"data_source\":{\"id\":\"13712\"},\"glyph\":{\"id\":\"13713\"},\"hover_glyph\":null,\"muted_glyph\":null,\"nonselection_glyph\":{\"id\":\"13714\"},\"selection_glyph\":null,\"view\":{\"id\":\"13716\"}},\"id\":\"13715\",\"type\":\"GlyphRenderer\"},{\"attributes\":{\"source\":{\"id\":\"13719\"}},\"id\":\"13723\",\"type\":\"CDSView\"},{\"attributes\":{},\"id\":\"33722\",\"type\":\"UnionRenderers\"},{\"attributes\":{\"source\":{\"id\":\"20730\"}},\"id\":\"25870\",\"type\":\"CDSView\"},{\"attributes\":{\"factors\":[\"0\",\"7\",\"2\",\"5\",\"1\",\"9\",\"10\",\"8\",\"4\",\"11\"],\"palette\":[\"#000003\",\"#170F3C\",\"#430F75\",\"#711F81\",\"#9E2E7E\",\"#CB3E71\",\"#F0605D\",\"#FC9366\",\"#FEC78B\",\"#FBFCBF\"]},\"id\":\"33072\",\"type\":\"CategoricalColorMapper\"},{\"attributes\":{},\"id\":\"14191\",\"type\":\"Selection\"},{\"attributes\":{\"base\":24,\"mantissas\":[1,2,4,6,8,12],\"max_interval\":43200000.0,\"min_interval\":3600000.0,\"num_minor_ticks\":0},\"id\":\"14178\",\"type\":\"AdaptiveTicker\"},{\"attributes\":{},\"id\":\"25195\",\"type\":\"CategoricalScale\"},{\"attributes\":{},\"id\":\"13668\",\"type\":\"DataRange1d\"},{\"attributes\":{\"days\":[1,2,3,4,5,6,7,8,9,10,11,12,13,14,15,16,17,18,19,20,21,22,23,24,25,26,27,28,29,30,31]},\"id\":\"14179\",\"type\":\"DaysTicker\"},{\"attributes\":{},\"id\":\"25197\",\"type\":\"LinearScale\"},{\"attributes\":{\"data\":{\"Unnamed: 0\":{\"__ndarray__\":\"AAAAANB49UAAAAAAQHL1QAAAAADAcvVAAAAAABB59UAAAAAAIHX1QAAAAABQdvVAAAAAAFB59UAAAAAAmHv1QAAAAABQe/VAAAAAADBz9UA=\",\"dtype\":\"float64\",\"order\":\"little\",\"shape\":[10]},\"acousticness\":{\"__ndarray__\":\"MQisHFpk5z+F61G4HoXTPwBvgQTFj7E/JQaBlUOLzD8lBoGVQ4vMP+F6FK5H4dI/C6t4I/PIfz8bL90kBoGVP/p+arx0k8g/g8DKoUW26z8=\",\"dtype\":\"float64\",\"order\":\"little\",\"shape\":[10]},\"artist_A\":[\"Powfu\",\"BENEE\",\"Surf Mesa\",\"Ariana Grande\",\"Topic\",\"KAROL G\",\"Marshmello\",\"Lady Gaga\",\"ROSAL\\u00cdA\",\"JP Saxe\"],\"artist_B\":[\"beabadoobee\",\"Gus Dapperton\",\"Emilee\",\"Justin Bieber\",\"A7S\",\"Nicki Minaj\",\"Halsey\",\"Ariana Grande\",\"Travis Scott\",\"Julia Michaels\"],\"danceability\":{\"__ndarray__\":\"CKwcWmQ75z8EVg4tsp3rP8UgsHJokeU/tMh2vp8a4z9zaJHtfD/pPxgEVg4tsuk/KVyPwvUo5D8bL90kBoHlP6FFtvP91Og/GQRWDi2y3T8=\",\"dtype\":\"float64\",\"order\":\"little\",\"shape\":[10]},\"duration_ms\":{\"__ndarray__\":\"AAAAAKgoBUEAAAAAwEcLQQAAAAAYjQVBAAAAABDkC0EAAAAAUFwEQQAAAAAAiAhBAAAAANAWBUEAAAAAwD0GQQAAAACwlf9AAAAAAHh5CUE=\",\"dtype\":\"float64\",\"order\":\"little\",\"shape\":[10]},\"energy\":{\"__ndarray__\":\"L90kBoGV2z/+1HjpJjHkP/hT46WbxOg/zczMzMzM3D8K16NwPQrnP+F6FK5H4eY/qMZLN4lB5D9cj8L1KFzrP30/NV66SeA/EoPAyqFF3j8=\",\"dtype\":\"float64\",\"order\":\"little\",\"shape\":[10]},\"explicit\":{\"__ndarray__\":\"AAAAAAAAAAAAAAAAAADwPwAAAAAAAAAAAAAAAAAAAAAAAAAAAAAAAAAAAAAAAAAAAAAAAAAAAAAAAAAAAAAAAAAAAAAAAAAAAAAAAAAAAAA=\",\"dtype\":\"float64\",\"order\":\"little\",\"shape\":[10]},\"index\":[7167,715,8322,567,8856,4719,6005,5143,7262,3912],\"instrumentalness\":{\"__ndarray__\":\"AAAAAAAAAAAmEMAXcOD/PiECDqFKzV4/AAAAAAAAAAAAAAAAAAAAALB0PjxLkCE/AAAAAAAAAAAAAAAAAAAAADuDTFOA/7g+AAAAAAAAAAA=\",\"dtype\":\"float64\",\"order\":\"little\",\"shape\":[10]},\"key\":{\"__ndarray__\":\"AAAAAAAAIEAAAAAAAAAcQAAAAAAAACZAAAAAAAAAIEAAAAAAAAAgQAAAAAAAAABAAAAAAAAAEEAAAAAAAAAiQAAAAAAAAAAAAAAAAAAA8D8=\",\"dtype\":\"float64\",\"order\":\"little\",\"shape\":[10]},\"liveness\":{\"__ndarray__\":\"EoPAyqFF5j+wcmiR7Xy/P/T91HjpJtk/ppvEILBy2D9QjZduEoPAP0+vlGWIY60/+1xtxf6yqz946SYxCKzUP3E9CtejcL0/gZVDi2znuz8=\",\"dtype\":\"float64\",\"order\":\"little\",\"shape\":[10]},\"loudness\":{\"__ndarray__\":\"SOF6FK6HIcCoxks3icESwPhT46WbRB7AbxKDwMqhGsDP91PjpZsWwD0K16NwPQrAJjEIrBxaHMDpJjEIrBwOwKrx0k1iEBnAeekmMQgsJMA=\",\"dtype\":\"float64\",\"order\":\"little\",\"shape\":[10]},\"mode\":{\"__ndarray__\":\"AAAAAAAAAAAAAAAAAADwPwAAAAAAAAAAAAAAAAAA8D8AAAAAAAAAAAAAAAAAAPA/AAAAAAAA8D8AAAAAAADwPwAAAAAAAAAAAAAAAAAA8D8=\",\"dtype\":\"float64\",\"order\":\"little\",\"shape\":[10]},\"popularity\":{\"__ndarray__\":\"AAAAAABAWEAAAAAAAMBXQAAAAAAAwFdAAAAAAACAV0AAAAAAAABXQAAAAAAAAFdAAAAAAADAVkAAAAAAAKBWQAAAAAAAgFZAAAAAAABAVkA=\",\"dtype\":\"float64\",\"order\":\"little\",\"shape\":[10]},\"speechiness\":{\"__ndarray__\":\"SOF6FK5HwT8QejarPlerP4SezarP1bY/1xLyQc9mpT+BlUOLbOfLP99PjZduEtM/9bnaiv1lpz8Wak3zjlOkPxfZzvdT490/UI2XbhKDwD8=\",\"dtype\":\"float64\",\"order\":\"little\",\"shape\":[10]},\"tempo\":{\"__ndarray__\":\"Rrbz/dQAYkAlBoGVQx9gQDMzMzMzA1xAFK5H4XpYZkBEi2zn+4FeQD0K16NwRVlASOF6FK5/V0DdJAaBlcNeQH9qvHSTqFdAJQaBlUPzUkA=\",\"dtype\":\"float64\",\"order\":\"little\",\"shape\":[10]},\"valence\":{\"__ndarray__\":\"EoPAyqFF1j+/nxov3STqPx+F61G4HtU/yXa+nxov4T9zaJHtfD/lP5HtfD81XuI/IbByaJHt3D946SYxCKzkPwrXo3A9Ct8/hxbZzvdT4z8=\",\"dtype\":\"float64\",\"order\":\"little\",\"shape\":[10]},\"year\":{\"__ndarray__\":\"AAAAAACQn0AAAAAAAIyfQAAAAAAAjJ9AAAAAAACQn0AAAAAAAIyfQAAAAAAAjJ9AAAAAAACQn0AAAAAAAJCfQAAAAAAAkJ9AAAAAAACMn0A=\",\"dtype\":\"float64\",\"order\":\"little\",\"shape\":[10]}},\"selected\":{\"id\":\"21305\"},\"selection_policy\":{\"id\":\"21306\"}},\"id\":\"20730\",\"type\":\"ColumnDataSource\"},{\"attributes\":{\"days\":[1,15]},\"id\":\"14182\",\"type\":\"DaysTicker\"},{\"attributes\":{},\"id\":\"14187\",\"type\":\"YearsTicker\"},{\"attributes\":{\"formatter\":{\"id\":\"25815\"},\"ticker\":{\"id\":\"25200\"}},\"id\":\"25199\",\"type\":\"CategoricalAxis\"},{\"attributes\":{\"source\":{\"id\":\"33041\"}},\"id\":\"33077\",\"type\":\"CDSView\"},{\"attributes\":{\"fill_color\":{\"field\":\"artist_A\",\"transform\":{\"id\":\"25865\"}},\"line_color\":{\"value\":\"#1f77b4\"},\"top\":{\"field\":\"popularity\"},\"width\":{\"value\":0.9},\"x\":{\"field\":\"artist_A\"}},\"id\":\"25867\",\"type\":\"VBar\"},{\"attributes\":{},\"id\":\"25203\",\"type\":\"BasicTicker\"},{\"attributes\":{\"days\":[1,4,7,10,13,16,19,22,25,28]},\"id\":\"14180\",\"type\":\"DaysTicker\"},{\"attributes\":{},\"id\":\"25200\",\"type\":\"CategoricalTicker\"},{\"attributes\":{\"active_drag\":\"auto\",\"active_inspect\":\"auto\",\"active_multi\":null,\"active_scroll\":\"auto\",\"active_tap\":\"auto\",\"tools\":[{\"id\":\"33058\"},{\"id\":\"33059\"},{\"id\":\"33060\"},{\"id\":\"33061\"},{\"id\":\"33062\"},{\"id\":\"33063\"}]},\"id\":\"33065\",\"type\":\"Toolbar\"},{\"attributes\":{\"axis\":{\"id\":\"25199\"},\"ticker\":null},\"id\":\"25201\",\"type\":\"Grid\"},{\"attributes\":{\"data_source\":{\"id\":\"20730\"},\"glyph\":{\"id\":\"25222\"},\"hover_glyph\":null,\"muted_glyph\":null,\"nonselection_glyph\":{\"id\":\"25223\"},\"selection_glyph\":null,\"view\":{\"id\":\"25225\"}},\"id\":\"25224\",\"type\":\"GlyphRenderer\"},{\"attributes\":{\"axis\":{\"id\":\"25202\"},\"dimension\":1,\"ticker\":null},\"id\":\"25205\",\"type\":\"Grid\"},{\"attributes\":{\"formatter\":{\"id\":\"25813\"},\"ticker\":{\"id\":\"25203\"}},\"id\":\"25202\",\"type\":\"LinearAxis\"},{\"attributes\":{},\"id\":\"14190\",\"type\":\"UnionRenderers\"},{\"attributes\":{},\"id\":\"21305\",\"type\":\"Selection\"},{\"attributes\":{\"months\":[0,2,4,6,8,10]},\"id\":\"14184\",\"type\":\"MonthsTicker\"},{\"attributes\":{\"source\":{\"id\":\"20730\"}},\"id\":\"25225\",\"type\":\"CDSView\"},{\"attributes\":{},\"id\":\"33045\",\"type\":\"DataRange1d\"},{\"attributes\":{\"data_source\":{\"id\":\"33041\"},\"glyph\":{\"id\":\"33074\"},\"hover_glyph\":null,\"muted_glyph\":null,\"nonselection_glyph\":{\"id\":\"33075\"},\"selection_glyph\":null,\"view\":{\"id\":\"33077\"}},\"id\":\"33076\",\"type\":\"GlyphRenderer\"},{\"attributes\":{\"base\":60,\"mantissas\":[1,2,5,10,15,20,30],\"max_interval\":1800000.0,\"min_interval\":1000.0,\"num_minor_ticks\":0},\"id\":\"14177\",\"type\":\"AdaptiveTicker\"},{\"attributes\":{},\"id\":\"25206\",\"type\":\"PanTool\"},{\"attributes\":{},\"id\":\"14172\",\"type\":\"BasicTickFormatter\"},{\"attributes\":{\"fill_alpha\":{\"value\":0.1},\"fill_color\":{\"value\":\"#1f77b4\"},\"line_alpha\":{\"value\":0.1},\"line_color\":{\"value\":\"magenta\"},\"x\":{\"field\":\"x\"},\"y\":{\"field\":\"y\"}},\"id\":\"13721\",\"type\":\"Diamond\"},{\"attributes\":{},\"id\":\"25207\",\"type\":\"WheelZoomTool\"},{\"attributes\":{\"months\":[0,6]},\"id\":\"14186\",\"type\":\"MonthsTicker\"},{\"attributes\":{\"data\":{\"freq\":[2732,2709,2395,2253,2101,1970,1777,1723,1520,1371],\"index\":[0,7,2,5,1,9,10,8,4,11],\"key\":[\"0\",\"7\",\"2\",\"5\",\"1\",\"9\",\"10\",\"8\",\"4\",\"11\"]},\"selected\":{\"id\":\"33721\"},\"selection_policy\":{\"id\":\"33722\"}},\"id\":\"33041\",\"type\":\"ColumnDataSource\"},{\"attributes\":{\"fill_color\":{\"field\":\"key\",\"transform\":{\"id\":\"33072\"}},\"line_color\":{\"value\":\"#1f77b4\"},\"top\":{\"field\":\"freq\"},\"width\":{\"value\":0.9},\"x\":{\"field\":\"key\"}},\"id\":\"33074\",\"type\":\"VBar\"},{\"attributes\":{\"overlay\":{\"id\":\"25212\"}},\"id\":\"25208\",\"type\":\"BoxZoomTool\"},{\"attributes\":{\"fill_color\":{\"value\":\"#1f77b4\"},\"line_color\":{\"value\":\"magenta\"},\"x\":{\"field\":\"x\"},\"y\":{\"field\":\"y\"}},\"id\":\"13720\",\"type\":\"Diamond\"},{\"attributes\":{\"months\":[0,1,2,3,4,5,6,7,8,9,10,11]},\"id\":\"14183\",\"type\":\"MonthsTicker\"},{\"attributes\":{},\"id\":\"25209\",\"type\":\"SaveTool\"},{\"attributes\":{},\"id\":\"25210\",\"type\":\"ResetTool\"},{\"attributes\":{},\"id\":\"25211\",\"type\":\"HelpTool\"},{\"attributes\":{\"factors\":[\"Powfu\",\"BENEE\",\"Surf Mesa\",\"Ariana Grande\",\"Topic\",\"KAROL G\",\"Marshmello\",\"Lady Gaga\",\"ROSAL\\u00cdA\",\"JP Saxe\"],\"palette\":[\"#2b83ba\",\"#abdda4\",\"#ffffbf\",\"#fdae61\",\"#d7191c\"]},\"id\":\"25220\",\"type\":\"CategoricalColorMapper\"},{\"attributes\":{\"fill_color\":{\"field\":\"artist_A\",\"transform\":{\"id\":\"25220\"}},\"line_color\":{\"value\":\"#1f77b4\"},\"top\":{\"field\":\"popularity\"},\"width\":{\"value\":0.9},\"x\":{\"field\":\"artist_A\"}},\"id\":\"25222\",\"type\":\"VBar\"},{\"attributes\":{\"active_drag\":\"auto\",\"active_inspect\":\"auto\",\"active_multi\":null,\"active_scroll\":\"auto\",\"active_tap\":\"auto\",\"tools\":[{\"id\":\"25206\"},{\"id\":\"25207\"},{\"id\":\"25208\"},{\"id\":\"25209\"},{\"id\":\"25210\"},{\"id\":\"25211\"}]},\"id\":\"25213\",\"type\":\"Toolbar\"},{\"attributes\":{\"data\":{\"x\":{\"__ndarray__\":\"AADA5fb0c0IAAEArurZ0QgAAAOnxPHVCAACAmddhdkIAAEACzPh2Qg==\",\"dtype\":\"float64\",\"order\":\"little\",\"shape\":[5]},\"y\":{\"__ndarray__\":\"q6qqqqpqUUAAAAAAAMBQQAAAAAAAAFBAAAAAAABAUUAAAAAAAABSQA==\",\"dtype\":\"float64\",\"order\":\"little\",\"shape\":[5]}},\"selected\":{\"id\":\"14195\"},\"selection_policy\":{\"id\":\"14196\"}},\"id\":\"13719\",\"type\":\"ColumnDataSource\"},{\"attributes\":{\"bottom_units\":\"screen\",\"fill_alpha\":0.5,\"fill_color\":\"lightgrey\",\"left_units\":\"screen\",\"level\":\"overlay\",\"line_alpha\":1.0,\"line_color\":\"black\",\"line_dash\":[4,4],\"line_width\":2,\"right_units\":\"screen\",\"top_units\":\"screen\"},\"id\":\"13690\",\"type\":\"BoxAnnotation\"},{\"attributes\":{},\"id\":\"14189\",\"type\":\"Selection\"},{\"attributes\":{\"below\":[{\"id\":\"33051\"}],\"center\":[{\"id\":\"33053\"},{\"id\":\"33057\"}],\"left\":[{\"id\":\"33054\"}],\"plot_height\":400,\"plot_width\":1200,\"renderers\":[{\"id\":\"33076\"}],\"title\":{\"id\":\"33715\"},\"toolbar\":{\"id\":\"33065\"},\"x_range\":{\"id\":\"33043\"},\"x_scale\":{\"id\":\"33047\"},\"y_range\":{\"id\":\"33045\"},\"y_scale\":{\"id\":\"33049\"}},\"id\":\"33042\",\"subtype\":\"Figure\",\"type\":\"Plot\"},{\"attributes\":{\"days\":[1,8,15,22]},\"id\":\"14181\",\"type\":\"DaysTicker\"},{\"attributes\":{\"fill_alpha\":{\"value\":0.1},\"fill_color\":{\"field\":\"artist_A\",\"transform\":{\"id\":\"25865\"}},\"line_alpha\":{\"value\":0.1},\"line_color\":{\"value\":\"#1f77b4\"},\"top\":{\"field\":\"popularity\"},\"width\":{\"value\":0.9},\"x\":{\"field\":\"artist_A\"}},\"id\":\"25868\",\"type\":\"VBar\"},{\"attributes\":{\"months\":[0,4,8]},\"id\":\"14185\",\"type\":\"MonthsTicker\"},{\"attributes\":{\"data_source\":{\"id\":\"13719\"},\"glyph\":{\"id\":\"13720\"},\"hover_glyph\":null,\"muted_glyph\":null,\"nonselection_glyph\":{\"id\":\"13721\"},\"selection_glyph\":null,\"view\":{\"id\":\"13723\"}},\"id\":\"13722\",\"type\":\"GlyphRenderer\"},{\"attributes\":{},\"id\":\"25813\",\"type\":\"BasicTickFormatter\"},{\"attributes\":{\"label\":{\"value\":\"Kodaline\"},\"renderers\":[{\"id\":\"14333\"}]},\"id\":\"30725\",\"type\":\"LegendItem\"},{\"attributes\":{},\"id\":\"21306\",\"type\":\"UnionRenderers\"},{\"attributes\":{},\"id\":\"14807\",\"type\":\"UnionRenderers\"},{\"attributes\":{\"data\":{\"danceability\":{\"__ndarray__\":\"2/l+arx00z/ZzvdT46XTPy2yne+nxtM/6SYxCKwc4D9Wn6ut2F/WP8/3U+Olm9w/bOf7qfHS3T9U46WbxCDgP4/C9Shcj9o/\",\"dtype\":\"float64\",\"order\":\"little\",\"shape\":[9]},\"index\":[0,1,2,3,4,5,6,7,8],\"release_date\":{\"__ndarray__\":\"AACA/702c0IAAMA4zn9zQgAAwDymSHRCAACAQCVgdEIAAEBRNHF0QgAAgCmnA3VCAADAKMqCdUIAAABG5b12QgAAwC9E4nZC\",\"dtype\":\"float64\",\"order\":\"little\",\"shape\":[9]}},\"selected\":{\"id\":\"14806\"},\"selection_policy\":{\"id\":\"14807\"}},\"id\":\"13666\",\"type\":\"ColumnDataSource\"},{\"attributes\":{\"line_color\":\"navy\",\"x\":{\"field\":\"release_date\"},\"y\":{\"field\":\"danceability\"}},\"id\":\"14332\",\"type\":\"Line\"},{\"attributes\":{\"formatter\":{\"id\":\"33716\"},\"ticker\":{\"id\":\"33055\"}},\"id\":\"33054\",\"type\":\"LinearAxis\"},{\"attributes\":{\"mantissas\":[1,2,5],\"max_interval\":500.0,\"num_minor_ticks\":0},\"id\":\"14176\",\"type\":\"AdaptiveTicker\"},{\"attributes\":{\"items\":[{\"id\":\"31499\"},{\"id\":\"31500\"}]},\"id\":\"31501\",\"type\":\"Legend\"},{\"attributes\":{},\"id\":\"33059\",\"type\":\"WheelZoomTool\"},{\"attributes\":{\"line_color\":\"firebrick\",\"x\":{\"field\":\"x\"},\"y\":{\"field\":\"y\"}},\"id\":\"13699\",\"type\":\"Line\"},{\"attributes\":{\"source\":{\"id\":\"13712\"}},\"id\":\"13716\",\"type\":\"CDSView\"},{\"attributes\":{},\"id\":\"33052\",\"type\":\"CategoricalTicker\"},{\"attributes\":{\"data\":{\"x\":{\"__ndarray__\":\"AACA/702c0IAAMA4zn9zQgAAwDymSHRCAACAQCVgdEIAAEBRNHF0QgAAgCmnA3VCAADAKMqCdUIAAABG5b12QgAAwC9E4nZC\",\"dtype\":\"float64\",\"order\":\"little\",\"shape\":[9]},\"y\":{\"__ndarray__\":\"AAAAAACASUAAAAAAAABRQAAAAAAAAExAAAAAAACATEAAAAAAAIBMQAAAAAAAgE9Aq6qqqqoqUEAAAAAAAEBQQAAAAAAAAFJA\",\"dtype\":\"float64\",\"order\":\"little\",\"shape\":[9]}},\"selected\":{\"id\":\"14189\"},\"selection_policy\":{\"id\":\"14190\"}},\"id\":\"13698\",\"type\":\"ColumnDataSource\"},{\"attributes\":{\"axis\":{\"id\":\"13676\"},\"ticker\":null},\"id\":\"13679\",\"type\":\"Grid\"},{\"attributes\":{},\"id\":\"14174\",\"type\":\"DatetimeTickFormatter\"},{\"attributes\":{},\"id\":\"14806\",\"type\":\"Selection\"},{\"attributes\":{},\"id\":\"13689\",\"type\":\"HelpTool\"},{\"attributes\":{\"formatter\":{\"id\":\"33718\"},\"ticker\":{\"id\":\"33052\"}},\"id\":\"33051\",\"type\":\"CategoricalAxis\"},{\"attributes\":{\"source\":{\"id\":\"13698\"}},\"id\":\"13702\",\"type\":\"CDSView\"},{\"attributes\":{\"active_drag\":\"auto\",\"active_inspect\":\"auto\",\"active_multi\":null,\"active_scroll\":\"auto\",\"active_tap\":\"auto\",\"tools\":[{\"id\":\"13684\"},{\"id\":\"13685\"},{\"id\":\"13686\"},{\"id\":\"13687\"},{\"id\":\"13688\"},{\"id\":\"13689\"}]},\"id\":\"13691\",\"type\":\"Toolbar\"},{\"attributes\":{},\"id\":\"33061\",\"type\":\"SaveTool\"},{\"attributes\":{\"overlay\":{\"id\":\"13690\"}},\"id\":\"13686\",\"type\":\"BoxZoomTool\"},{\"attributes\":{},\"id\":\"33049\",\"type\":\"LinearScale\"},{\"attributes\":{\"text\":\"\"},\"id\":\"14171\",\"type\":\"Title\"},{\"attributes\":{\"line_alpha\":0.1,\"line_color\":\"firebrick\",\"x\":{\"field\":\"x\"},\"y\":{\"field\":\"y\"}},\"id\":\"13700\",\"type\":\"Line\"},{\"attributes\":{},\"id\":\"14196\",\"type\":\"UnionRenderers\"},{\"attributes\":{\"data_source\":{\"id\":\"13698\"},\"glyph\":{\"id\":\"13699\"},\"hover_glyph\":null,\"muted_glyph\":null,\"nonselection_glyph\":{\"id\":\"13700\"},\"selection_glyph\":null,\"view\":{\"id\":\"13702\"}},\"id\":\"13701\",\"type\":\"GlyphRenderer\"},{\"attributes\":{\"label\":{\"value\":\"Kodaline\"},\"renderers\":[{\"id\":\"13715\"}]},\"id\":\"31500\",\"type\":\"LegendItem\"},{\"attributes\":{},\"id\":\"33055\",\"type\":\"BasicTicker\"},{\"attributes\":{},\"id\":\"13687\",\"type\":\"SaveTool\"},{\"attributes\":{},\"id\":\"33062\",\"type\":\"ResetTool\"},{\"attributes\":{\"axis\":{\"id\":\"33051\"},\"ticker\":null},\"id\":\"33053\",\"type\":\"Grid\"},{\"attributes\":{\"bottom_units\":\"screen\",\"fill_alpha\":0.5,\"fill_color\":\"lightgrey\",\"left_units\":\"screen\",\"level\":\"overlay\",\"line_alpha\":1.0,\"line_color\":\"black\",\"line_dash\":[4,4],\"line_width\":2,\"right_units\":\"screen\",\"top_units\":\"screen\"},\"id\":\"33064\",\"type\":\"BoxAnnotation\"},{\"attributes\":{\"axis\":{\"id\":\"13680\"},\"dimension\":1,\"ticker\":null},\"id\":\"13683\",\"type\":\"Grid\"},{\"attributes\":{\"line_alpha\":0.1,\"line_color\":\"magenta\",\"x\":{\"field\":\"x\"},\"y\":{\"field\":\"y\"}},\"id\":\"13714\",\"type\":\"Line\"},{\"attributes\":{},\"id\":\"33047\",\"type\":\"CategoricalScale\"},{\"attributes\":{\"text\":\"\"},\"id\":\"33715\",\"type\":\"Title\"},{\"attributes\":{\"factors\":[\"Powfu\",\"BENEE\",\"Surf Mesa\",\"Ariana Grande\",\"Topic\",\"KAROL G\",\"Marshmello\",\"Lady Gaga\",\"ROSAL\\u00cdA\",\"JP Saxe\"],\"palette\":[\"#000003\",\"#170F3C\",\"#430F75\",\"#711F81\",\"#9E2E7E\",\"#CB3E71\",\"#F0605D\",\"#FC9366\",\"#FEC78B\",\"#FBFCBF\"]},\"id\":\"25865\",\"type\":\"CategoricalColorMapper\"},{\"attributes\":{},\"id\":\"33718\",\"type\":\"CategoricalTickFormatter\"},{\"attributes\":{\"factors\":[\"0\",\"7\",\"2\",\"5\",\"1\",\"9\",\"10\",\"8\",\"4\",\"11\"]},\"id\":\"33043\",\"type\":\"FactorRange\"},{\"attributes\":{},\"id\":\"25193\",\"type\":\"DataRange1d\"},{\"attributes\":{},\"id\":\"13688\",\"type\":\"ResetTool\"},{\"attributes\":{\"fill_color\":{\"value\":\"#1f77b4\"},\"line_color\":{\"value\":\"firebrick\"},\"x\":{\"field\":\"x\"},\"y\":{\"field\":\"y\"}},\"id\":\"13706\",\"type\":\"Circle\"},{\"attributes\":{\"data\":{\"x\":{\"__ndarray__\":\"AACA/702c0IAAMA4zn9zQgAAwDymSHRCAACAQCVgdEIAAEBRNHF0QgAAgCmnA3VCAADAKMqCdUIAAABG5b12QgAAwC9E4nZC\",\"dtype\":\"float64\",\"order\":\"little\",\"shape\":[9]},\"y\":{\"__ndarray__\":\"AAAAAACASUAAAAAAAABRQAAAAAAAAExAAAAAAACATEAAAAAAAIBMQAAAAAAAgE9Aq6qqqqoqUEAAAAAAAEBQQAAAAAAAAFJA\",\"dtype\":\"float64\",\"order\":\"little\",\"shape\":[9]}},\"selected\":{\"id\":\"14191\"},\"selection_policy\":{\"id\":\"14192\"}},\"id\":\"13705\",\"type\":\"ColumnDataSource\"},{\"attributes\":{\"line_color\":\"magenta\",\"x\":{\"field\":\"x\"},\"y\":{\"field\":\"y\"}},\"id\":\"13713\",\"type\":\"Line\"},{\"attributes\":{},\"id\":\"33721\",\"type\":\"Selection\"},{\"attributes\":{},\"id\":\"13685\",\"type\":\"WheelZoomTool\"},{\"attributes\":{},\"id\":\"33063\",\"type\":\"HelpTool\"},{\"attributes\":{\"axis\":{\"id\":\"33054\"},\"dimension\":1,\"ticker\":null},\"id\":\"33057\",\"type\":\"Grid\"},{\"attributes\":{},\"id\":\"13670\",\"type\":\"DataRange1d\"},{\"attributes\":{},\"id\":\"33716\",\"type\":\"BasicTickFormatter\"},{\"attributes\":{},\"id\":\"13684\",\"type\":\"PanTool\"},{\"attributes\":{\"below\":[{\"id\":\"13676\"}],\"center\":[{\"id\":\"13679\"},{\"id\":\"13683\"},{\"id\":\"30726\"},{\"id\":\"31501\"}],\"left\":[{\"id\":\"13680\"}],\"plot_height\":300,\"plot_width\":1000,\"renderers\":[{\"id\":\"13701\"},{\"id\":\"13708\"},{\"id\":\"13715\"},{\"id\":\"13722\"},{\"id\":\"14333\"}],\"title\":{\"id\":\"14171\"},\"toolbar\":{\"id\":\"13691\"},\"x_range\":{\"id\":\"13668\"},\"x_scale\":{\"id\":\"13672\"},\"y_range\":{\"id\":\"13670\"},\"y_scale\":{\"id\":\"13674\"}},\"id\":\"13667\",\"subtype\":\"Figure\",\"type\":\"Plot\"},{\"attributes\":{\"data_source\":{\"id\":\"13705\"},\"glyph\":{\"id\":\"13706\"},\"hover_glyph\":null,\"muted_glyph\":null,\"nonselection_glyph\":{\"id\":\"13707\"},\"selection_glyph\":null,\"view\":{\"id\":\"13709\"}},\"id\":\"13708\",\"type\":\"GlyphRenderer\"},{\"attributes\":{},\"id\":\"25815\",\"type\":\"CategoricalTickFormatter\"},{\"attributes\":{},\"id\":\"14192\",\"type\":\"UnionRenderers\"},{\"attributes\":{\"source\":{\"id\":\"13705\"}},\"id\":\"13709\",\"type\":\"CDSView\"},{\"attributes\":{},\"id\":\"14194\",\"type\":\"UnionRenderers\"},{\"attributes\":{},\"id\":\"14195\",\"type\":\"Selection\"},{\"attributes\":{\"overlay\":{\"id\":\"33064\"}},\"id\":\"33060\",\"type\":\"BoxZoomTool\"},{\"attributes\":{\"source\":{\"id\":\"13666\"}},\"id\":\"14334\",\"type\":\"CDSView\"},{\"attributes\":{\"axis_label\":\"release_date\",\"formatter\":{\"id\":\"14174\"},\"ticker\":{\"id\":\"13677\"}},\"id\":\"13676\",\"type\":\"DatetimeAxis\"},{\"attributes\":{},\"id\":\"14193\",\"type\":\"Selection\"},{\"attributes\":{\"text\":\"\"},\"id\":\"25812\",\"type\":\"Title\"},{\"attributes\":{},\"id\":\"13674\",\"type\":\"LinearScale\"},{\"attributes\":{\"label\":{\"value\":\"Sleeping At Last\"},\"renderers\":[{\"id\":\"13701\"}]},\"id\":\"31499\",\"type\":\"LegendItem\"},{\"attributes\":{\"fill_alpha\":{\"value\":0.1},\"fill_color\":{\"value\":\"#1f77b4\"},\"line_alpha\":{\"value\":0.1},\"line_color\":{\"value\":\"firebrick\"},\"x\":{\"field\":\"x\"},\"y\":{\"field\":\"y\"}},\"id\":\"13707\",\"type\":\"Circle\"},{\"attributes\":{},\"id\":\"33058\",\"type\":\"PanTool\"},{\"attributes\":{\"formatter\":{\"id\":\"14172\"},\"ticker\":{\"id\":\"13681\"}},\"id\":\"13680\",\"type\":\"LinearAxis\"},{\"attributes\":{},\"id\":\"13672\",\"type\":\"LinearScale\"},{\"attributes\":{},\"id\":\"13681\",\"type\":\"BasicTicker\"},{\"attributes\":{\"data_source\":{\"id\":\"13666\"},\"glyph\":{\"id\":\"14332\"},\"hover_glyph\":null,\"muted_glyph\":null,\"view\":{\"id\":\"14334\"}},\"id\":\"14333\",\"type\":\"GlyphRenderer\"},{\"attributes\":{\"num_minor_ticks\":5,\"tickers\":[{\"id\":\"14176\"},{\"id\":\"14177\"},{\"id\":\"14178\"},{\"id\":\"14179\"},{\"id\":\"14180\"},{\"id\":\"14181\"},{\"id\":\"14182\"},{\"id\":\"14183\"},{\"id\":\"14184\"},{\"id\":\"14185\"},{\"id\":\"14186\"},{\"id\":\"14187\"}]},\"id\":\"13677\",\"type\":\"DatetimeTicker\"},{\"attributes\":{\"data\":{\"x\":{\"__ndarray__\":\"AADA5fb0c0IAAEArurZ0QgAAAOnxPHVCAACAmddhdkIAAEACzPh2Qg==\",\"dtype\":\"float64\",\"order\":\"little\",\"shape\":[5]},\"y\":{\"__ndarray__\":\"q6qqqqpqUUAAAAAAAMBQQAAAAAAAAFBAAAAAAABAUUAAAAAAAABSQA==\",\"dtype\":\"float64\",\"order\":\"little\",\"shape\":[5]}},\"selected\":{\"id\":\"14193\"},\"selection_policy\":{\"id\":\"14194\"}},\"id\":\"13712\",\"type\":\"ColumnDataSource\"}],\"root_ids\":[\"33768\"]},\"title\":\"Bokeh Application\",\"version\":\"2.2.3\"}};\n",
       "  var render_items = [{\"docid\":\"28328769-6e85-4032-baea-150795595ea1\",\"root_ids\":[\"33768\"],\"roots\":{\"33768\":\"74b48e4e-3ff6-41a3-a524-da4b20c8119a\"}}];\n",
       "  root.Bokeh.embed.embed_items_notebook(docs_json, render_items);\n",
       "\n",
       "  }\n",
       "  if (root.Bokeh !== undefined) {\n",
       "    embed_document(root);\n",
       "  } else {\n",
       "    var attempts = 0;\n",
       "    var timer = setInterval(function(root) {\n",
       "      if (root.Bokeh !== undefined) {\n",
       "        clearInterval(timer);\n",
       "        embed_document(root);\n",
       "      } else {\n",
       "        attempts++;\n",
       "        if (attempts > 100) {\n",
       "          clearInterval(timer);\n",
       "          console.log(\"Bokeh: ERROR: Unable to run BokehJS code because BokehJS library is missing\");\n",
       "        }\n",
       "      }\n",
       "    }, 10, root)\n",
       "  }\n",
       "})(window);"
      ],
      "application/vnd.bokehjs_exec.v0+json": ""
     },
     "metadata": {
      "application/vnd.bokehjs_exec.v0+json": {
       "id": "33768"
      }
     },
     "output_type": "display_data"
    }
   ],
   "source": [
    "# Visualiser les trois graphes selon le layout\n",
    "\n"
   ]
  },
  {
   "cell_type": "markdown",
   "metadata": {},
   "source": [
    "#### 2. Creation de multiple graphes selon des lignes et colonnes "
   ]
  },
  {
   "cell_type": "markdown",
   "metadata": {},
   "source": [
    "On pourrait prévoir de voir par exemple des graphes relatifs à un artiste sur une ligne, ceux d'un autre artiste sur une autre. Pour ce faire, on devra créer un nested Layout, qui est un layout permettant de simplfier l'organisation des graphes selon les lignes et les colonnes."
   ]
  },
  {
   "cell_type": "code",
   "execution_count": 412,
   "metadata": {},
   "outputs": [],
   "source": [
    "from bokeh.layouts import column"
   ]
  },
  {
   "cell_type": "code",
   "execution_count": null,
   "metadata": {},
   "outputs": [],
   "source": [
    "# créer 3 graphes des mêmes artistes, dépictant cette fois la popularité\n",
    "\n"
   ]
  },
  {
   "cell_type": "code",
   "execution_count": 419,
   "metadata": {},
   "outputs": [],
   "source": [
    "# Créer un object nested_layout qui organisera vos graphes où chaque ligne sera consacré à un artiste, chaque colonne à visualiser une mesure\n",
    "\n"
   ]
  },
  {
   "cell_type": "code",
   "execution_count": 420,
   "metadata": {},
   "outputs": [
    {
     "data": {
      "text/html": [
       "\n",
       "\n",
       "\n",
       "\n",
       "\n",
       "\n",
       "  <div class=\"bk-root\" id=\"80d4cb1c-88f9-46b2-bc6f-e2a00041d8f9\" data-root-id=\"37825\"></div>\n"
      ]
     },
     "metadata": {},
     "output_type": "display_data"
    },
    {
     "data": {
      "application/javascript": [
       "(function(root) {\n",
       "  function embed_document(root) {\n",
       "    \n",
       "  var docs_json = {\"d536636d-f446-41fc-b10b-2d02ae2a3c01\":{\"roots\":{\"references\":[{\"attributes\":{\"children\":[{\"id\":\"37823\"},{\"id\":\"37824\"}]},\"id\":\"37825\",\"type\":\"Column\"},{\"attributes\":{\"bottom_units\":\"screen\",\"fill_alpha\":0.5,\"fill_color\":\"lightgrey\",\"left_units\":\"screen\",\"level\":\"overlay\",\"line_alpha\":1.0,\"line_color\":\"black\",\"line_dash\":[4,4],\"line_width\":2,\"right_units\":\"screen\",\"top_units\":\"screen\"},\"id\":\"25212\",\"type\":\"BoxAnnotation\"},{\"attributes\":{\"items\":[{\"id\":\"30724\"},{\"id\":\"30725\"}]},\"id\":\"30726\",\"type\":\"Legend\"},{\"attributes\":{\"data_source\":{\"id\":\"20730\"},\"glyph\":{\"id\":\"25867\"},\"hover_glyph\":null,\"muted_glyph\":null,\"nonselection_glyph\":{\"id\":\"25868\"},\"selection_glyph\":null,\"view\":{\"id\":\"25870\"}},\"id\":\"25869\",\"type\":\"GlyphRenderer\"},{\"attributes\":{\"fill_alpha\":{\"value\":0.1},\"fill_color\":{\"field\":\"artist_A\",\"transform\":{\"id\":\"25220\"}},\"line_alpha\":{\"value\":0.1},\"line_color\":{\"value\":\"#1f77b4\"},\"top\":{\"field\":\"popularity\"},\"width\":{\"value\":0.9},\"x\":{\"field\":\"artist_A\"}},\"id\":\"25223\",\"type\":\"VBar\"},{\"attributes\":{\"below\":[{\"id\":\"25199\"}],\"center\":[{\"id\":\"25201\"},{\"id\":\"25205\"}],\"left\":[{\"id\":\"25202\"}],\"plot_height\":400,\"plot_width\":1200,\"renderers\":[{\"id\":\"25224\"},{\"id\":\"25869\"}],\"title\":{\"id\":\"25812\"},\"toolbar\":{\"id\":\"25213\"},\"x_range\":{\"id\":\"25191\"},\"x_scale\":{\"id\":\"25195\"},\"y_range\":{\"id\":\"25193\"},\"y_scale\":{\"id\":\"25197\"}},\"id\":\"25190\",\"subtype\":\"Figure\",\"type\":\"Plot\"},{\"attributes\":{\"fill_alpha\":{\"value\":0.1},\"fill_color\":{\"field\":\"key\",\"transform\":{\"id\":\"33072\"}},\"line_alpha\":{\"value\":0.1},\"line_color\":{\"value\":\"#1f77b4\"},\"top\":{\"field\":\"freq\"},\"width\":{\"value\":0.9},\"x\":{\"field\":\"key\"}},\"id\":\"33075\",\"type\":\"VBar\"},{\"attributes\":{\"children\":[{\"id\":\"33042\"},{\"id\":\"29317\"}]},\"id\":\"37823\",\"type\":\"Row\"},{\"attributes\":{},\"id\":\"29320\",\"type\":\"DataRange1d\"},{\"attributes\":{\"label\":{\"value\":\"Sleeping At Last\"},\"renderers\":[{\"id\":\"13715\"}]},\"id\":\"30724\",\"type\":\"LegendItem\"},{\"attributes\":{\"factors\":[\"Powfu\",\"BENEE\",\"Surf Mesa\",\"Ariana Grande\",\"Topic\",\"KAROL G\",\"Marshmello\",\"Lady Gaga\",\"ROSAL\\u00cdA\",\"JP Saxe\"]},\"id\":\"25191\",\"type\":\"FactorRange\"},{\"attributes\":{\"data_source\":{\"id\":\"13712\"},\"glyph\":{\"id\":\"13713\"},\"hover_glyph\":null,\"muted_glyph\":null,\"nonselection_glyph\":{\"id\":\"13714\"},\"selection_glyph\":null,\"view\":{\"id\":\"13716\"}},\"id\":\"13715\",\"type\":\"GlyphRenderer\"},{\"attributes\":{\"factors\":[\"['\\u042d\\u0440\\u043d\\u0435\\u0441\\u0442 \\u0425\\u0435\\u043c\\u0438\\u043d\\u0433\\u0443\\u044d\\u0439']\",\"['Francisco Canaro']\",\"['\\u042d\\u0440\\u0438\\u0445 \\u041c\\u0430\\u0440\\u0438\\u044f \\u0420\\u0435\\u043c\\u0430\\u0440\\u043a']\",\"['Ignacio Corsini']\",\"['Frank Sinatra']\",\"['Bob Dylan']\",\"['The Rolling Stones']\",\"['Johnny Cash']\",\"['The Beach Boys']\",\"['Elvis Presley']\"],\"palette\":[\"#000003\",\"#170F3C\",\"#430F75\",\"#711F81\",\"#9E2E7E\",\"#CB3E71\",\"#F0605D\",\"#FC9366\",\"#FEC78B\",\"#FBFCBF\"]},\"id\":\"29347\",\"type\":\"CategoricalColorMapper\"},{\"attributes\":{\"source\":{\"id\":\"13719\"}},\"id\":\"13723\",\"type\":\"CDSView\"},{\"attributes\":{},\"id\":\"33722\",\"type\":\"UnionRenderers\"},{\"attributes\":{\"axis\":{\"id\":\"29326\"},\"ticker\":null},\"id\":\"29328\",\"type\":\"Grid\"},{\"attributes\":{\"fill_color\":{\"field\":\"artists\",\"transform\":{\"id\":\"29347\"}},\"line_color\":{\"value\":\"#1f77b4\"},\"top\":{\"field\":\"count\"},\"width\":{\"value\":0.9},\"x\":{\"field\":\"artists\"}},\"id\":\"29349\",\"type\":\"VBar\"},{\"attributes\":{\"source\":{\"id\":\"20730\"}},\"id\":\"25870\",\"type\":\"CDSView\"},{\"attributes\":{\"factors\":[\"0\",\"7\",\"2\",\"5\",\"1\",\"9\",\"10\",\"8\",\"4\",\"11\"],\"palette\":[\"#000003\",\"#170F3C\",\"#430F75\",\"#711F81\",\"#9E2E7E\",\"#CB3E71\",\"#F0605D\",\"#FC9366\",\"#FEC78B\",\"#FBFCBF\"]},\"id\":\"33072\",\"type\":\"CategoricalColorMapper\"},{\"attributes\":{\"fill_alpha\":{\"value\":0.1},\"fill_color\":{\"field\":\"artists\",\"transform\":{\"id\":\"29347\"}},\"line_alpha\":{\"value\":0.1},\"line_color\":{\"value\":\"#1f77b4\"},\"top\":{\"field\":\"count\"},\"width\":{\"value\":0.9},\"x\":{\"field\":\"artists\"}},\"id\":\"29350\",\"type\":\"VBar\"},{\"attributes\":{\"base\":24,\"mantissas\":[1,2,4,6,8,12],\"max_interval\":43200000.0,\"min_interval\":3600000.0,\"num_minor_ticks\":0},\"id\":\"14178\",\"type\":\"AdaptiveTicker\"},{\"attributes\":{},\"id\":\"14191\",\"type\":\"Selection\"},{\"attributes\":{},\"id\":\"25195\",\"type\":\"CategoricalScale\"},{\"attributes\":{},\"id\":\"13668\",\"type\":\"DataRange1d\"},{\"attributes\":{\"days\":[1,2,3,4,5,6,7,8,9,10,11,12,13,14,15,16,17,18,19,20,21,22,23,24,25,26,27,28,29,30,31]},\"id\":\"14179\",\"type\":\"DaysTicker\"},{\"attributes\":{},\"id\":\"25197\",\"type\":\"LinearScale\"},{\"attributes\":{\"line_color\":\"#1f77b4\",\"x\":{\"field\":\"artists\"},\"y\":{\"field\":\"popularity\"}},\"id\":\"30025\",\"type\":\"Line\"},{\"attributes\":{\"data\":{\"Unnamed: 0\":{\"__ndarray__\":\"AAAAANB49UAAAAAAQHL1QAAAAADAcvVAAAAAABB59UAAAAAAIHX1QAAAAABQdvVAAAAAAFB59UAAAAAAmHv1QAAAAABQe/VAAAAAADBz9UA=\",\"dtype\":\"float64\",\"order\":\"little\",\"shape\":[10]},\"acousticness\":{\"__ndarray__\":\"MQisHFpk5z+F61G4HoXTPwBvgQTFj7E/JQaBlUOLzD8lBoGVQ4vMP+F6FK5H4dI/C6t4I/PIfz8bL90kBoGVP/p+arx0k8g/g8DKoUW26z8=\",\"dtype\":\"float64\",\"order\":\"little\",\"shape\":[10]},\"artist_A\":[\"Powfu\",\"BENEE\",\"Surf Mesa\",\"Ariana Grande\",\"Topic\",\"KAROL G\",\"Marshmello\",\"Lady Gaga\",\"ROSAL\\u00cdA\",\"JP Saxe\"],\"artist_B\":[\"beabadoobee\",\"Gus Dapperton\",\"Emilee\",\"Justin Bieber\",\"A7S\",\"Nicki Minaj\",\"Halsey\",\"Ariana Grande\",\"Travis Scott\",\"Julia Michaels\"],\"danceability\":{\"__ndarray__\":\"CKwcWmQ75z8EVg4tsp3rP8UgsHJokeU/tMh2vp8a4z9zaJHtfD/pPxgEVg4tsuk/KVyPwvUo5D8bL90kBoHlP6FFtvP91Og/GQRWDi2y3T8=\",\"dtype\":\"float64\",\"order\":\"little\",\"shape\":[10]},\"duration_ms\":{\"__ndarray__\":\"AAAAAKgoBUEAAAAAwEcLQQAAAAAYjQVBAAAAABDkC0EAAAAAUFwEQQAAAAAAiAhBAAAAANAWBUEAAAAAwD0GQQAAAACwlf9AAAAAAHh5CUE=\",\"dtype\":\"float64\",\"order\":\"little\",\"shape\":[10]},\"energy\":{\"__ndarray__\":\"L90kBoGV2z/+1HjpJjHkP/hT46WbxOg/zczMzMzM3D8K16NwPQrnP+F6FK5H4eY/qMZLN4lB5D9cj8L1KFzrP30/NV66SeA/EoPAyqFF3j8=\",\"dtype\":\"float64\",\"order\":\"little\",\"shape\":[10]},\"explicit\":{\"__ndarray__\":\"AAAAAAAAAAAAAAAAAADwPwAAAAAAAAAAAAAAAAAAAAAAAAAAAAAAAAAAAAAAAAAAAAAAAAAAAAAAAAAAAAAAAAAAAAAAAAAAAAAAAAAAAAA=\",\"dtype\":\"float64\",\"order\":\"little\",\"shape\":[10]},\"index\":[7167,715,8322,567,8856,4719,6005,5143,7262,3912],\"instrumentalness\":{\"__ndarray__\":\"AAAAAAAAAAAmEMAXcOD/PiECDqFKzV4/AAAAAAAAAAAAAAAAAAAAALB0PjxLkCE/AAAAAAAAAAAAAAAAAAAAADuDTFOA/7g+AAAAAAAAAAA=\",\"dtype\":\"float64\",\"order\":\"little\",\"shape\":[10]},\"key\":{\"__ndarray__\":\"AAAAAAAAIEAAAAAAAAAcQAAAAAAAACZAAAAAAAAAIEAAAAAAAAAgQAAAAAAAAABAAAAAAAAAEEAAAAAAAAAiQAAAAAAAAAAAAAAAAAAA8D8=\",\"dtype\":\"float64\",\"order\":\"little\",\"shape\":[10]},\"liveness\":{\"__ndarray__\":\"EoPAyqFF5j+wcmiR7Xy/P/T91HjpJtk/ppvEILBy2D9QjZduEoPAP0+vlGWIY60/+1xtxf6yqz946SYxCKzUP3E9CtejcL0/gZVDi2znuz8=\",\"dtype\":\"float64\",\"order\":\"little\",\"shape\":[10]},\"loudness\":{\"__ndarray__\":\"SOF6FK6HIcCoxks3icESwPhT46WbRB7AbxKDwMqhGsDP91PjpZsWwD0K16NwPQrAJjEIrBxaHMDpJjEIrBwOwKrx0k1iEBnAeekmMQgsJMA=\",\"dtype\":\"float64\",\"order\":\"little\",\"shape\":[10]},\"mode\":{\"__ndarray__\":\"AAAAAAAAAAAAAAAAAADwPwAAAAAAAAAAAAAAAAAA8D8AAAAAAAAAAAAAAAAAAPA/AAAAAAAA8D8AAAAAAADwPwAAAAAAAAAAAAAAAAAA8D8=\",\"dtype\":\"float64\",\"order\":\"little\",\"shape\":[10]},\"popularity\":{\"__ndarray__\":\"AAAAAABAWEAAAAAAAMBXQAAAAAAAwFdAAAAAAACAV0AAAAAAAABXQAAAAAAAAFdAAAAAAADAVkAAAAAAAKBWQAAAAAAAgFZAAAAAAABAVkA=\",\"dtype\":\"float64\",\"order\":\"little\",\"shape\":[10]},\"speechiness\":{\"__ndarray__\":\"SOF6FK5HwT8QejarPlerP4SezarP1bY/1xLyQc9mpT+BlUOLbOfLP99PjZduEtM/9bnaiv1lpz8Wak3zjlOkPxfZzvdT490/UI2XbhKDwD8=\",\"dtype\":\"float64\",\"order\":\"little\",\"shape\":[10]},\"tempo\":{\"__ndarray__\":\"Rrbz/dQAYkAlBoGVQx9gQDMzMzMzA1xAFK5H4XpYZkBEi2zn+4FeQD0K16NwRVlASOF6FK5/V0DdJAaBlcNeQH9qvHSTqFdAJQaBlUPzUkA=\",\"dtype\":\"float64\",\"order\":\"little\",\"shape\":[10]},\"valence\":{\"__ndarray__\":\"EoPAyqFF1j+/nxov3STqPx+F61G4HtU/yXa+nxov4T9zaJHtfD/lP5HtfD81XuI/IbByaJHt3D946SYxCKzkPwrXo3A9Ct8/hxbZzvdT4z8=\",\"dtype\":\"float64\",\"order\":\"little\",\"shape\":[10]},\"year\":{\"__ndarray__\":\"AAAAAACQn0AAAAAAAIyfQAAAAAAAjJ9AAAAAAACQn0AAAAAAAIyfQAAAAAAAjJ9AAAAAAACQn0AAAAAAAJCfQAAAAAAAkJ9AAAAAAACMn0A=\",\"dtype\":\"float64\",\"order\":\"little\",\"shape\":[10]}},\"selected\":{\"id\":\"21305\"},\"selection_policy\":{\"id\":\"21306\"}},\"id\":\"20730\",\"type\":\"ColumnDataSource\"},{\"attributes\":{\"days\":[1,15]},\"id\":\"14182\",\"type\":\"DaysTicker\"},{\"attributes\":{},\"id\":\"14187\",\"type\":\"YearsTicker\"},{\"attributes\":{\"formatter\":{\"id\":\"25815\"},\"ticker\":{\"id\":\"25200\"}},\"id\":\"25199\",\"type\":\"CategoricalAxis\"},{\"attributes\":{\"source\":{\"id\":\"33041\"}},\"id\":\"33077\",\"type\":\"CDSView\"},{\"attributes\":{\"source\":{\"id\":\"29316\"}},\"id\":\"29352\",\"type\":\"CDSView\"},{\"attributes\":{\"fill_color\":{\"field\":\"artist_A\",\"transform\":{\"id\":\"25865\"}},\"line_color\":{\"value\":\"#1f77b4\"},\"top\":{\"field\":\"popularity\"},\"width\":{\"value\":0.9},\"x\":{\"field\":\"artist_A\"}},\"id\":\"25867\",\"type\":\"VBar\"},{\"attributes\":{},\"id\":\"25203\",\"type\":\"BasicTicker\"},{\"attributes\":{\"days\":[1,4,7,10,13,16,19,22,25,28]},\"id\":\"14180\",\"type\":\"DaysTicker\"},{\"attributes\":{},\"id\":\"25200\",\"type\":\"CategoricalTicker\"},{\"attributes\":{\"data_source\":{\"id\":\"29316\"},\"glyph\":{\"id\":\"29349\"},\"hover_glyph\":null,\"muted_glyph\":null,\"nonselection_glyph\":{\"id\":\"29350\"},\"selection_glyph\":null,\"view\":{\"id\":\"29352\"}},\"id\":\"29351\",\"type\":\"GlyphRenderer\"},{\"attributes\":{\"data_source\":{\"id\":\"30023\"},\"glyph\":{\"id\":\"30025\"},\"hover_glyph\":null,\"muted_glyph\":null,\"nonselection_glyph\":{\"id\":\"30026\"},\"selection_glyph\":null,\"view\":{\"id\":\"30028\"}},\"id\":\"30027\",\"type\":\"GlyphRenderer\"},{\"attributes\":{\"active_drag\":\"auto\",\"active_inspect\":\"auto\",\"active_multi\":null,\"active_scroll\":\"auto\",\"active_tap\":\"auto\",\"tools\":[{\"id\":\"33058\"},{\"id\":\"33059\"},{\"id\":\"33060\"},{\"id\":\"33061\"},{\"id\":\"33062\"},{\"id\":\"33063\"}]},\"id\":\"33065\",\"type\":\"Toolbar\"},{\"attributes\":{\"axis\":{\"id\":\"25199\"},\"ticker\":null},\"id\":\"25201\",\"type\":\"Grid\"},{\"attributes\":{\"data_source\":{\"id\":\"20730\"},\"glyph\":{\"id\":\"25222\"},\"hover_glyph\":null,\"muted_glyph\":null,\"nonselection_glyph\":{\"id\":\"25223\"},\"selection_glyph\":null,\"view\":{\"id\":\"25225\"}},\"id\":\"25224\",\"type\":\"GlyphRenderer\"},{\"attributes\":{},\"id\":\"29327\",\"type\":\"CategoricalTicker\"},{\"attributes\":{\"axis\":{\"id\":\"25202\"},\"dimension\":1,\"ticker\":null},\"id\":\"25205\",\"type\":\"Grid\"},{\"attributes\":{\"formatter\":{\"id\":\"25813\"},\"ticker\":{\"id\":\"25203\"}},\"id\":\"25202\",\"type\":\"LinearAxis\"},{\"attributes\":{\"line_alpha\":0.1,\"line_color\":\"#1f77b4\",\"x\":{\"field\":\"artists\"},\"y\":{\"field\":\"popularity\"}},\"id\":\"30026\",\"type\":\"Line\"},{\"attributes\":{},\"id\":\"14190\",\"type\":\"UnionRenderers\"},{\"attributes\":{},\"id\":\"21305\",\"type\":\"Selection\"},{\"attributes\":{\"months\":[0,2,4,6,8,10]},\"id\":\"14184\",\"type\":\"MonthsTicker\"},{\"attributes\":{\"source\":{\"id\":\"20730\"}},\"id\":\"25225\",\"type\":\"CDSView\"},{\"attributes\":{},\"id\":\"33045\",\"type\":\"DataRange1d\"},{\"attributes\":{\"data_source\":{\"id\":\"33041\"},\"glyph\":{\"id\":\"33074\"},\"hover_glyph\":null,\"muted_glyph\":null,\"nonselection_glyph\":{\"id\":\"33075\"},\"selection_glyph\":null,\"view\":{\"id\":\"33077\"}},\"id\":\"33076\",\"type\":\"GlyphRenderer\"},{\"attributes\":{\"base\":60,\"mantissas\":[1,2,5,10,15,20,30],\"max_interval\":1800000.0,\"min_interval\":1000.0,\"num_minor_ticks\":0},\"id\":\"14177\",\"type\":\"AdaptiveTicker\"},{\"attributes\":{\"data\":{\"artists\":[\"['\\u042d\\u0440\\u043d\\u0435\\u0441\\u0442 \\u0425\\u0435\\u043c\\u0438\\u043d\\u0433\\u0443\\u044d\\u0439']\",\"['Francisco Canaro']\",\"['\\u042d\\u0440\\u0438\\u0445 \\u041c\\u0430\\u0440\\u0438\\u044f \\u0420\\u0435\\u043c\\u0430\\u0440\\u043a']\",\"['Ignacio Corsini']\",\"['Frank Sinatra']\",\"['Bob Dylan']\",\"['The Rolling Stones']\",\"['Johnny Cash']\",\"['The Beach Boys']\",\"['Elvis Presley']\"],\"count\":[1215,938,781,620,592,539,512,502,491,488],\"index\":[33296,9738,33295,13079,9821,3923,29641,15278,28548,8629]},\"selected\":{\"id\":\"29976\"},\"selection_policy\":{\"id\":\"29977\"}},\"id\":\"29316\",\"type\":\"ColumnDataSource\"},{\"attributes\":{},\"id\":\"25206\",\"type\":\"PanTool\"},{\"attributes\":{},\"id\":\"14172\",\"type\":\"BasicTickFormatter\"},{\"attributes\":{\"fill_alpha\":{\"value\":0.1},\"fill_color\":{\"value\":\"#1f77b4\"},\"line_alpha\":{\"value\":0.1},\"line_color\":{\"value\":\"magenta\"},\"x\":{\"field\":\"x\"},\"y\":{\"field\":\"y\"}},\"id\":\"13721\",\"type\":\"Diamond\"},{\"attributes\":{},\"id\":\"29324\",\"type\":\"LinearScale\"},{\"attributes\":{},\"id\":\"25207\",\"type\":\"WheelZoomTool\"},{\"attributes\":{\"months\":[0,6]},\"id\":\"14186\",\"type\":\"MonthsTicker\"},{\"attributes\":{\"data\":{\"freq\":[2732,2709,2395,2253,2101,1970,1777,1723,1520,1371],\"index\":[0,7,2,5,1,9,10,8,4,11],\"key\":[\"0\",\"7\",\"2\",\"5\",\"1\",\"9\",\"10\",\"8\",\"4\",\"11\"]},\"selected\":{\"id\":\"33721\"},\"selection_policy\":{\"id\":\"33722\"}},\"id\":\"33041\",\"type\":\"ColumnDataSource\"},{\"attributes\":{\"fill_color\":{\"field\":\"key\",\"transform\":{\"id\":\"33072\"}},\"line_color\":{\"value\":\"#1f77b4\"},\"top\":{\"field\":\"freq\"},\"width\":{\"value\":0.9},\"x\":{\"field\":\"key\"}},\"id\":\"33074\",\"type\":\"VBar\"},{\"attributes\":{\"overlay\":{\"id\":\"25212\"}},\"id\":\"25208\",\"type\":\"BoxZoomTool\"},{\"attributes\":{\"fill_color\":{\"value\":\"#1f77b4\"},\"line_color\":{\"value\":\"magenta\"},\"x\":{\"field\":\"x\"},\"y\":{\"field\":\"y\"}},\"id\":\"13720\",\"type\":\"Diamond\"},{\"attributes\":{\"months\":[0,1,2,3,4,5,6,7,8,9,10,11]},\"id\":\"14183\",\"type\":\"MonthsTicker\"},{\"attributes\":{},\"id\":\"25209\",\"type\":\"SaveTool\"},{\"attributes\":{},\"id\":\"29322\",\"type\":\"CategoricalScale\"},{\"attributes\":{},\"id\":\"25210\",\"type\":\"ResetTool\"},{\"attributes\":{\"formatter\":{\"id\":\"29973\"},\"ticker\":{\"id\":\"29327\"}},\"id\":\"29326\",\"type\":\"CategoricalAxis\"},{\"attributes\":{\"factors\":[\"['\\u042d\\u0440\\u043d\\u0435\\u0441\\u0442 \\u0425\\u0435\\u043c\\u0438\\u043d\\u0433\\u0443\\u044d\\u0439']\",\"['Francisco Canaro']\",\"['\\u042d\\u0440\\u0438\\u0445 \\u041c\\u0430\\u0440\\u0438\\u044f \\u0420\\u0435\\u043c\\u0430\\u0440\\u043a']\",\"['Ignacio Corsini']\",\"['Frank Sinatra']\",\"['Bob Dylan']\",\"['The Rolling Stones']\",\"['Johnny Cash']\",\"['The Beach Boys']\",\"['Elvis Presley']\"]},\"id\":\"29318\",\"type\":\"FactorRange\"},{\"attributes\":{\"below\":[{\"id\":\"29326\"}],\"center\":[{\"id\":\"29328\"},{\"id\":\"29332\"}],\"left\":[{\"id\":\"29329\"}],\"plot_height\":400,\"plot_width\":1200,\"renderers\":[{\"id\":\"29351\"},{\"id\":\"30027\"}],\"title\":{\"id\":\"29970\"},\"toolbar\":{\"id\":\"29340\"},\"x_range\":{\"id\":\"29318\"},\"x_scale\":{\"id\":\"29322\"},\"y_range\":{\"id\":\"29320\"},\"y_scale\":{\"id\":\"29324\"}},\"id\":\"29317\",\"subtype\":\"Figure\",\"type\":\"Plot\"},{\"attributes\":{},\"id\":\"25211\",\"type\":\"HelpTool\"},{\"attributes\":{\"factors\":[\"Powfu\",\"BENEE\",\"Surf Mesa\",\"Ariana Grande\",\"Topic\",\"KAROL G\",\"Marshmello\",\"Lady Gaga\",\"ROSAL\\u00cdA\",\"JP Saxe\"],\"palette\":[\"#2b83ba\",\"#abdda4\",\"#ffffbf\",\"#fdae61\",\"#d7191c\"]},\"id\":\"25220\",\"type\":\"CategoricalColorMapper\"},{\"attributes\":{\"active_drag\":\"auto\",\"active_inspect\":\"auto\",\"active_multi\":null,\"active_scroll\":\"auto\",\"active_tap\":\"auto\",\"tools\":[{\"id\":\"25206\"},{\"id\":\"25207\"},{\"id\":\"25208\"},{\"id\":\"25209\"},{\"id\":\"25210\"},{\"id\":\"25211\"}]},\"id\":\"25213\",\"type\":\"Toolbar\"},{\"attributes\":{\"fill_color\":{\"field\":\"artist_A\",\"transform\":{\"id\":\"25220\"}},\"line_color\":{\"value\":\"#1f77b4\"},\"top\":{\"field\":\"popularity\"},\"width\":{\"value\":0.9},\"x\":{\"field\":\"artist_A\"}},\"id\":\"25222\",\"type\":\"VBar\"},{\"attributes\":{\"data\":{\"x\":{\"__ndarray__\":\"AADA5fb0c0IAAEArurZ0QgAAAOnxPHVCAACAmddhdkIAAEACzPh2Qg==\",\"dtype\":\"float64\",\"order\":\"little\",\"shape\":[5]},\"y\":{\"__ndarray__\":\"q6qqqqpqUUAAAAAAAMBQQAAAAAAAAFBAAAAAAABAUUAAAAAAAABSQA==\",\"dtype\":\"float64\",\"order\":\"little\",\"shape\":[5]}},\"selected\":{\"id\":\"14195\"},\"selection_policy\":{\"id\":\"14196\"}},\"id\":\"13719\",\"type\":\"ColumnDataSource\"},{\"attributes\":{\"bottom_units\":\"screen\",\"fill_alpha\":0.5,\"fill_color\":\"lightgrey\",\"left_units\":\"screen\",\"level\":\"overlay\",\"line_alpha\":1.0,\"line_color\":\"black\",\"line_dash\":[4,4],\"line_width\":2,\"right_units\":\"screen\",\"top_units\":\"screen\"},\"id\":\"13690\",\"type\":\"BoxAnnotation\"},{\"attributes\":{\"children\":[{\"id\":\"25190\"},{\"id\":\"13667\"}]},\"id\":\"37824\",\"type\":\"Row\"},{\"attributes\":{},\"id\":\"14189\",\"type\":\"Selection\"},{\"attributes\":{\"below\":[{\"id\":\"33051\"}],\"center\":[{\"id\":\"33053\"},{\"id\":\"33057\"}],\"left\":[{\"id\":\"33054\"}],\"plot_height\":400,\"plot_width\":1200,\"renderers\":[{\"id\":\"33076\"}],\"title\":{\"id\":\"33715\"},\"toolbar\":{\"id\":\"33065\"},\"x_range\":{\"id\":\"33043\"},\"x_scale\":{\"id\":\"33047\"},\"y_range\":{\"id\":\"33045\"},\"y_scale\":{\"id\":\"33049\"}},\"id\":\"33042\",\"subtype\":\"Figure\",\"type\":\"Plot\"},{\"attributes\":{\"days\":[1,8,15,22]},\"id\":\"14181\",\"type\":\"DaysTicker\"},{\"attributes\":{\"fill_alpha\":{\"value\":0.1},\"fill_color\":{\"field\":\"artist_A\",\"transform\":{\"id\":\"25865\"}},\"line_alpha\":{\"value\":0.1},\"line_color\":{\"value\":\"#1f77b4\"},\"top\":{\"field\":\"popularity\"},\"width\":{\"value\":0.9},\"x\":{\"field\":\"artist_A\"}},\"id\":\"25868\",\"type\":\"VBar\"},{\"attributes\":{\"months\":[0,4,8]},\"id\":\"14185\",\"type\":\"MonthsTicker\"},{\"attributes\":{\"text\":\"\"},\"id\":\"29970\",\"type\":\"Title\"},{\"attributes\":{\"data_source\":{\"id\":\"13719\"},\"glyph\":{\"id\":\"13720\"},\"hover_glyph\":null,\"muted_glyph\":null,\"nonselection_glyph\":{\"id\":\"13721\"},\"selection_glyph\":null,\"view\":{\"id\":\"13723\"}},\"id\":\"13722\",\"type\":\"GlyphRenderer\"},{\"attributes\":{},\"id\":\"29971\",\"type\":\"BasicTickFormatter\"},{\"attributes\":{},\"id\":\"25813\",\"type\":\"BasicTickFormatter\"},{\"attributes\":{\"label\":{\"value\":\"Kodaline\"},\"renderers\":[{\"id\":\"14333\"}]},\"id\":\"30725\",\"type\":\"LegendItem\"},{\"attributes\":{},\"id\":\"29977\",\"type\":\"UnionRenderers\"},{\"attributes\":{},\"id\":\"21306\",\"type\":\"UnionRenderers\"},{\"attributes\":{},\"id\":\"14807\",\"type\":\"UnionRenderers\"},{\"attributes\":{\"data\":{\"danceability\":{\"__ndarray__\":\"2/l+arx00z/ZzvdT46XTPy2yne+nxtM/6SYxCKwc4D9Wn6ut2F/WP8/3U+Olm9w/bOf7qfHS3T9U46WbxCDgP4/C9Shcj9o/\",\"dtype\":\"float64\",\"order\":\"little\",\"shape\":[9]},\"index\":[0,1,2,3,4,5,6,7,8],\"release_date\":{\"__ndarray__\":\"AACA/702c0IAAMA4zn9zQgAAwDymSHRCAACAQCVgdEIAAEBRNHF0QgAAgCmnA3VCAADAKMqCdUIAAABG5b12QgAAwC9E4nZC\",\"dtype\":\"float64\",\"order\":\"little\",\"shape\":[9]}},\"selected\":{\"id\":\"14806\"},\"selection_policy\":{\"id\":\"14807\"}},\"id\":\"13666\",\"type\":\"ColumnDataSource\"},{\"attributes\":{},\"id\":\"30652\",\"type\":\"Selection\"},{\"attributes\":{},\"id\":\"29333\",\"type\":\"PanTool\"},{\"attributes\":{\"line_color\":\"navy\",\"x\":{\"field\":\"release_date\"},\"y\":{\"field\":\"danceability\"}},\"id\":\"14332\",\"type\":\"Line\"},{\"attributes\":{\"formatter\":{\"id\":\"33716\"},\"ticker\":{\"id\":\"33055\"}},\"id\":\"33054\",\"type\":\"LinearAxis\"},{\"attributes\":{\"mantissas\":[1,2,5],\"max_interval\":500.0,\"num_minor_ticks\":0},\"id\":\"14176\",\"type\":\"AdaptiveTicker\"},{\"attributes\":{\"items\":[{\"id\":\"31499\"},{\"id\":\"31500\"}]},\"id\":\"31501\",\"type\":\"Legend\"},{\"attributes\":{},\"id\":\"33059\",\"type\":\"WheelZoomTool\"},{\"attributes\":{\"source\":{\"id\":\"30023\"}},\"id\":\"30028\",\"type\":\"CDSView\"},{\"attributes\":{\"line_color\":\"firebrick\",\"x\":{\"field\":\"x\"},\"y\":{\"field\":\"y\"}},\"id\":\"13699\",\"type\":\"Line\"},{\"attributes\":{},\"id\":\"33052\",\"type\":\"CategoricalTicker\"},{\"attributes\":{\"data\":{\"x\":{\"__ndarray__\":\"AACA/702c0IAAMA4zn9zQgAAwDymSHRCAACAQCVgdEIAAEBRNHF0QgAAgCmnA3VCAADAKMqCdUIAAABG5b12QgAAwC9E4nZC\",\"dtype\":\"float64\",\"order\":\"little\",\"shape\":[9]},\"y\":{\"__ndarray__\":\"AAAAAACASUAAAAAAAABRQAAAAAAAAExAAAAAAACATEAAAAAAAIBMQAAAAAAAgE9Aq6qqqqoqUEAAAAAAAEBQQAAAAAAAAFJA\",\"dtype\":\"float64\",\"order\":\"little\",\"shape\":[9]}},\"selected\":{\"id\":\"14189\"},\"selection_policy\":{\"id\":\"14190\"}},\"id\":\"13698\",\"type\":\"ColumnDataSource\"},{\"attributes\":{\"source\":{\"id\":\"13712\"}},\"id\":\"13716\",\"type\":\"CDSView\"},{\"attributes\":{\"axis\":{\"id\":\"13676\"},\"ticker\":null},\"id\":\"13679\",\"type\":\"Grid\"},{\"attributes\":{},\"id\":\"14174\",\"type\":\"DatetimeTickFormatter\"},{\"attributes\":{},\"id\":\"29336\",\"type\":\"SaveTool\"},{\"attributes\":{},\"id\":\"30653\",\"type\":\"UnionRenderers\"},{\"attributes\":{},\"id\":\"14806\",\"type\":\"Selection\"},{\"attributes\":{\"active_drag\":\"auto\",\"active_inspect\":\"auto\",\"active_multi\":null,\"active_scroll\":\"auto\",\"active_tap\":\"auto\",\"tools\":[{\"id\":\"29333\"},{\"id\":\"29334\"},{\"id\":\"29335\"},{\"id\":\"29336\"},{\"id\":\"29337\"},{\"id\":\"29338\"}]},\"id\":\"29340\",\"type\":\"Toolbar\"},{\"attributes\":{},\"id\":\"13689\",\"type\":\"HelpTool\"},{\"attributes\":{\"formatter\":{\"id\":\"33718\"},\"ticker\":{\"id\":\"33052\"}},\"id\":\"33051\",\"type\":\"CategoricalAxis\"},{\"attributes\":{\"source\":{\"id\":\"13698\"}},\"id\":\"13702\",\"type\":\"CDSView\"},{\"attributes\":{\"active_drag\":\"auto\",\"active_inspect\":\"auto\",\"active_multi\":null,\"active_scroll\":\"auto\",\"active_tap\":\"auto\",\"tools\":[{\"id\":\"13684\"},{\"id\":\"13685\"},{\"id\":\"13686\"},{\"id\":\"13687\"},{\"id\":\"13688\"},{\"id\":\"13689\"}]},\"id\":\"13691\",\"type\":\"Toolbar\"},{\"attributes\":{},\"id\":\"33061\",\"type\":\"SaveTool\"},{\"attributes\":{\"overlay\":{\"id\":\"13690\"}},\"id\":\"13686\",\"type\":\"BoxZoomTool\"},{\"attributes\":{},\"id\":\"33049\",\"type\":\"LinearScale\"},{\"attributes\":{\"text\":\"\"},\"id\":\"14171\",\"type\":\"Title\"},{\"attributes\":{\"line_alpha\":0.1,\"line_color\":\"firebrick\",\"x\":{\"field\":\"x\"},\"y\":{\"field\":\"y\"}},\"id\":\"13700\",\"type\":\"Line\"},{\"attributes\":{},\"id\":\"14196\",\"type\":\"UnionRenderers\"},{\"attributes\":{\"data_source\":{\"id\":\"13698\"},\"glyph\":{\"id\":\"13699\"},\"hover_glyph\":null,\"muted_glyph\":null,\"nonselection_glyph\":{\"id\":\"13700\"},\"selection_glyph\":null,\"view\":{\"id\":\"13702\"}},\"id\":\"13701\",\"type\":\"GlyphRenderer\"},{\"attributes\":{\"label\":{\"value\":\"Kodaline\"},\"renderers\":[{\"id\":\"13715\"}]},\"id\":\"31500\",\"type\":\"LegendItem\"},{\"attributes\":{},\"id\":\"33055\",\"type\":\"BasicTicker\"},{\"attributes\":{},\"id\":\"13687\",\"type\":\"SaveTool\"},{\"attributes\":{},\"id\":\"29976\",\"type\":\"Selection\"},{\"attributes\":{},\"id\":\"33062\",\"type\":\"ResetTool\"},{\"attributes\":{\"axis\":{\"id\":\"33051\"},\"ticker\":null},\"id\":\"33053\",\"type\":\"Grid\"},{\"attributes\":{},\"id\":\"29330\",\"type\":\"BasicTicker\"},{\"attributes\":{},\"id\":\"29973\",\"type\":\"CategoricalTickFormatter\"},{\"attributes\":{\"bottom_units\":\"screen\",\"fill_alpha\":0.5,\"fill_color\":\"lightgrey\",\"left_units\":\"screen\",\"level\":\"overlay\",\"line_alpha\":1.0,\"line_color\":\"black\",\"line_dash\":[4,4],\"line_width\":2,\"right_units\":\"screen\",\"top_units\":\"screen\"},\"id\":\"33064\",\"type\":\"BoxAnnotation\"},{\"attributes\":{\"axis\":{\"id\":\"13680\"},\"dimension\":1,\"ticker\":null},\"id\":\"13683\",\"type\":\"Grid\"},{\"attributes\":{\"line_alpha\":0.1,\"line_color\":\"magenta\",\"x\":{\"field\":\"x\"},\"y\":{\"field\":\"y\"}},\"id\":\"13714\",\"type\":\"Line\"},{\"attributes\":{},\"id\":\"33047\",\"type\":\"CategoricalScale\"},{\"attributes\":{\"text\":\"\"},\"id\":\"33715\",\"type\":\"Title\"},{\"attributes\":{},\"id\":\"29337\",\"type\":\"ResetTool\"},{\"attributes\":{\"factors\":[\"Powfu\",\"BENEE\",\"Surf Mesa\",\"Ariana Grande\",\"Topic\",\"KAROL G\",\"Marshmello\",\"Lady Gaga\",\"ROSAL\\u00cdA\",\"JP Saxe\"],\"palette\":[\"#000003\",\"#170F3C\",\"#430F75\",\"#711F81\",\"#9E2E7E\",\"#CB3E71\",\"#F0605D\",\"#FC9366\",\"#FEC78B\",\"#FBFCBF\"]},\"id\":\"25865\",\"type\":\"CategoricalColorMapper\"},{\"attributes\":{\"overlay\":{\"id\":\"29339\"}},\"id\":\"29335\",\"type\":\"BoxZoomTool\"},{\"attributes\":{},\"id\":\"33718\",\"type\":\"CategoricalTickFormatter\"},{\"attributes\":{\"factors\":[\"0\",\"7\",\"2\",\"5\",\"1\",\"9\",\"10\",\"8\",\"4\",\"11\"]},\"id\":\"33043\",\"type\":\"FactorRange\"},{\"attributes\":{\"axis\":{\"id\":\"29329\"},\"dimension\":1,\"ticker\":null},\"id\":\"29332\",\"type\":\"Grid\"},{\"attributes\":{},\"id\":\"25193\",\"type\":\"DataRange1d\"},{\"attributes\":{},\"id\":\"13688\",\"type\":\"ResetTool\"},{\"attributes\":{},\"id\":\"29334\",\"type\":\"WheelZoomTool\"},{\"attributes\":{\"fill_color\":{\"value\":\"#1f77b4\"},\"line_color\":{\"value\":\"firebrick\"},\"x\":{\"field\":\"x\"},\"y\":{\"field\":\"y\"}},\"id\":\"13706\",\"type\":\"Circle\"},{\"attributes\":{\"data\":{\"x\":{\"__ndarray__\":\"AACA/702c0IAAMA4zn9zQgAAwDymSHRCAACAQCVgdEIAAEBRNHF0QgAAgCmnA3VCAADAKMqCdUIAAABG5b12QgAAwC9E4nZC\",\"dtype\":\"float64\",\"order\":\"little\",\"shape\":[9]},\"y\":{\"__ndarray__\":\"AAAAAACASUAAAAAAAABRQAAAAAAAAExAAAAAAACATEAAAAAAAIBMQAAAAAAAgE9Aq6qqqqoqUEAAAAAAAEBQQAAAAAAAAFJA\",\"dtype\":\"float64\",\"order\":\"little\",\"shape\":[9]}},\"selected\":{\"id\":\"14191\"},\"selection_policy\":{\"id\":\"14192\"}},\"id\":\"13705\",\"type\":\"ColumnDataSource\"},{\"attributes\":{\"line_color\":\"magenta\",\"x\":{\"field\":\"x\"},\"y\":{\"field\":\"y\"}},\"id\":\"13713\",\"type\":\"Line\"},{\"attributes\":{},\"id\":\"33721\",\"type\":\"Selection\"},{\"attributes\":{},\"id\":\"13685\",\"type\":\"WheelZoomTool\"},{\"attributes\":{\"bottom_units\":\"screen\",\"fill_alpha\":0.5,\"fill_color\":\"lightgrey\",\"left_units\":\"screen\",\"level\":\"overlay\",\"line_alpha\":1.0,\"line_color\":\"black\",\"line_dash\":[4,4],\"line_width\":2,\"right_units\":\"screen\",\"top_units\":\"screen\"},\"id\":\"29339\",\"type\":\"BoxAnnotation\"},{\"attributes\":{},\"id\":\"33063\",\"type\":\"HelpTool\"},{\"attributes\":{\"axis\":{\"id\":\"33054\"},\"dimension\":1,\"ticker\":null},\"id\":\"33057\",\"type\":\"Grid\"},{\"attributes\":{},\"id\":\"13670\",\"type\":\"DataRange1d\"},{\"attributes\":{},\"id\":\"33716\",\"type\":\"BasicTickFormatter\"},{\"attributes\":{},\"id\":\"13684\",\"type\":\"PanTool\"},{\"attributes\":{\"below\":[{\"id\":\"13676\"}],\"center\":[{\"id\":\"13679\"},{\"id\":\"13683\"},{\"id\":\"30726\"},{\"id\":\"31501\"}],\"left\":[{\"id\":\"13680\"}],\"plot_height\":300,\"plot_width\":1000,\"renderers\":[{\"id\":\"13701\"},{\"id\":\"13708\"},{\"id\":\"13715\"},{\"id\":\"13722\"},{\"id\":\"14333\"}],\"title\":{\"id\":\"14171\"},\"toolbar\":{\"id\":\"13691\"},\"x_range\":{\"id\":\"13668\"},\"x_scale\":{\"id\":\"13672\"},\"y_range\":{\"id\":\"13670\"},\"y_scale\":{\"id\":\"13674\"}},\"id\":\"13667\",\"subtype\":\"Figure\",\"type\":\"Plot\"},{\"attributes\":{\"data_source\":{\"id\":\"13705\"},\"glyph\":{\"id\":\"13706\"},\"hover_glyph\":null,\"muted_glyph\":null,\"nonselection_glyph\":{\"id\":\"13707\"},\"selection_glyph\":null,\"view\":{\"id\":\"13709\"}},\"id\":\"13708\",\"type\":\"GlyphRenderer\"},{\"attributes\":{},\"id\":\"25815\",\"type\":\"CategoricalTickFormatter\"},{\"attributes\":{},\"id\":\"14192\",\"type\":\"UnionRenderers\"},{\"attributes\":{\"source\":{\"id\":\"13705\"}},\"id\":\"13709\",\"type\":\"CDSView\"},{\"attributes\":{},\"id\":\"14194\",\"type\":\"UnionRenderers\"},{\"attributes\":{},\"id\":\"14195\",\"type\":\"Selection\"},{\"attributes\":{\"overlay\":{\"id\":\"33064\"}},\"id\":\"33060\",\"type\":\"BoxZoomTool\"},{\"attributes\":{\"source\":{\"id\":\"13666\"}},\"id\":\"14334\",\"type\":\"CDSView\"},{\"attributes\":{\"axis_label\":\"release_date\",\"formatter\":{\"id\":\"14174\"},\"ticker\":{\"id\":\"13677\"}},\"id\":\"13676\",\"type\":\"DatetimeAxis\"},{\"attributes\":{\"formatter\":{\"id\":\"29971\"},\"ticker\":{\"id\":\"29330\"}},\"id\":\"29329\",\"type\":\"LinearAxis\"},{\"attributes\":{},\"id\":\"14193\",\"type\":\"Selection\"},{\"attributes\":{\"text\":\"\"},\"id\":\"25812\",\"type\":\"Title\"},{\"attributes\":{},\"id\":\"13674\",\"type\":\"LinearScale\"},{\"attributes\":{\"label\":{\"value\":\"Sleeping At Last\"},\"renderers\":[{\"id\":\"13701\"}]},\"id\":\"31499\",\"type\":\"LegendItem\"},{\"attributes\":{\"fill_alpha\":{\"value\":0.1},\"fill_color\":{\"value\":\"#1f77b4\"},\"line_alpha\":{\"value\":0.1},\"line_color\":{\"value\":\"firebrick\"},\"x\":{\"field\":\"x\"},\"y\":{\"field\":\"y\"}},\"id\":\"13707\",\"type\":\"Circle\"},{\"attributes\":{},\"id\":\"33058\",\"type\":\"PanTool\"},{\"attributes\":{\"formatter\":{\"id\":\"14172\"},\"ticker\":{\"id\":\"13681\"}},\"id\":\"13680\",\"type\":\"LinearAxis\"},{\"attributes\":{},\"id\":\"13672\",\"type\":\"LinearScale\"},{\"attributes\":{},\"id\":\"13681\",\"type\":\"BasicTicker\"},{\"attributes\":{\"data_source\":{\"id\":\"13666\"},\"glyph\":{\"id\":\"14332\"},\"hover_glyph\":null,\"muted_glyph\":null,\"view\":{\"id\":\"14334\"}},\"id\":\"14333\",\"type\":\"GlyphRenderer\"},{\"attributes\":{},\"id\":\"29338\",\"type\":\"HelpTool\"},{\"attributes\":{\"data\":{\"acousticness\":{\"__ndarray__\":\"F+j8PkAU1z9/hJZbEpTvP1cdKEduZMA/83E7o6KF7z/Oc/uVK3rnP2//UheLD+I/KFyHUS3e0j+GD99qymjmP8ijHQH2X9k/zX9+7VPB5z8=\",\"dtype\":\"float64\",\"order\":\"little\",\"shape\":[10]},\"artists\":[\"['\\u042d\\u0440\\u043d\\u0435\\u0441\\u0442 \\u0425\\u0435\\u043c\\u0438\\u043d\\u0433\\u0443\\u044d\\u0439']\",\"['Francisco Canaro']\",\"['\\u042d\\u0440\\u0438\\u0445 \\u041c\\u0430\\u0440\\u0438\\u044f \\u0420\\u0435\\u043c\\u0430\\u0440\\u043a']\",\"['Ignacio Corsini']\",\"['Frank Sinatra']\",\"['Bob Dylan']\",\"['The Rolling Stones']\",\"['Johnny Cash']\",\"['The Beach Boys']\",\"['Elvis Presley']\"],\"count\":[1215,938,781,620,592,539,512,502,491,488],\"danceability\":{\"__ndarray__\":\"LrjP4KxK5j/b89WctG/lP8nYwYXAJuY/kCRukMOB4T+TL1uHSVbYP/o5SchoaeA//Knx0k3G4D+WQ2k1suHjP+wfZqR2HOA/LuOJzWa63z8=\",\"dtype\":\"float64\",\"order\":\"little\",\"shape\":[10]},\"duration_ms\":{\"__ndarray__\":\"kzqWia1U/EB8KeTmfV4FQS1Y/4k3JPxA63aobtXbAkHrBlPksuQGQXMKXk55Rg9BAAAAQA4IDEEV0SnVvYwDQV+bAjEmLwJBO9q8TxcOA0E=\",\"dtype\":\"float64\",\"order\":\"little\",\"shape\":[10]},\"energy\":{\"__ndarray__\":\"fNK4kAosyD/GQ1/IwsLRP1mWmICFnsk/S7u2aTQSyD8KrjXTlRrOP8SsP9PahN4/o3A9CtcJ5z+20FAH19jcP39vq019GeE/T9bua05F2z8=\",\"dtype\":\"float64\",\"order\":\"little\",\"shape\":[10]},\"explicit\":{\"__ndarray__\":\"AAAAAAAA8D8AAAAAAAAAAAAAAAAAAPA/AAAAAAAAAAAAAAAAAAAAAAAAAAAAAAAAAAAAAAAAgD8AAAAAAAAAAAAAAAAAAAAAAAAAAAAAAAA=\",\"dtype\":\"float64\",\"order\":\"little\",\"shape\":[10]},\"index\":[0,1,2,3,4,5,6,7,8,9],\"instrumentalness\":{\"__ndarray__\":\"uTTTJo84/D5MfI9hF8rkPx1T3JHh8jQ/4V+C3HgG2z8hQjx3otp/P5Go5lKOu6E/cYCAUsCzxj/ryqpWEQKVPzhEAUnI5L0/ScjcVVyRqz8=\",\"dtype\":\"float64\",\"order\":\"little\",\"shape\":[10]},\"key\":{\"__ndarray__\":\"Wy7c1TfJF0A1JtIDlbMVQIe5cqrYVwxAyIV9XNjHFEA3mCKfdQMVQOUnxFn5CRVAAAAAAAAYE0AdbOLGJzsYQCM01PsX9hhAJkOwjjZvEUA=\",\"dtype\":\"float64\",\"order\":\"little\",\"shape\":[10]},\"liveness\":{\"__ndarray__\":\"qTvKrqHB1z8iOMobJLPIPwA7xDDTv8g/Ozp15bM8xz8Q5ofcc6bOP2yQcpFRZdM/hCbChqc50T/0Kc0P59XOP2jsbx7Olcg/jPQRBliXzz8=\",\"dtype\":\"float64\",\"order\":\"little\",\"shape\":[10]},\"loudness\":{\"__ndarray__\":\"fVAVyWs9MsDs/xDLWW0pwJwPwFY2HjTAXGP+pSPSNMCWl33zwZAswGot4U/vVybAItnO99NaH8BsnEau3/YmwL5CPZ/hzCPAW557rpvLKcA=\",\"dtype\":\"float64\",\"order\":\"little\",\"shape\":[10]},\"mode\":{\"__ndarray__\":\"g+5sxWl24j86PlbasMzlP43fLvVk/OY/A9o0oE0D4j9T5LNuMEXoPzvMFnB8juw/AAAAAAAw7D+f7MjBJm7sP23N4qe6Tus/FZcMwTra7D8=\",\"dtype\":\"float64\",\"order\":\"little\",\"shape\":[10]},\"popularity\":{\"__ndarray__\":\"AAAAAAAAAABx7ZlOsEmlPwAAAAAAAAAAxhhjjDHGmD8q8lk3mOI5QEKvnVyH2T5AAAAAAIBBQUBufLIjBxs6QB9MynRgFTxAP8UlQ7C+QEA=\",\"dtype\":\"float64\",\"order\":\"little\",\"shape\":[10]},\"speechiness\":{\"__ndarray__\":\"yiGwj5+c7T/r5SKVZNO7PzgWPK6UDe0/tkJv22Yfvz8MMgFE/RqqP/gwOc+tc7A/L0Mc6+JWqj/F37Goc8+5P1H4IPqZjaY/7nREQShJrT8=\",\"dtype\":\"float64\",\"order\":\"little\",\"shape\":[10]},\"tempo\":{\"__ndarray__\":\"AfXEm6ziW0DyB+Y6UDNeQAhoS4y7f1tAZhSIy2yQWkAnNUD4y4ZbQKGLm5n7iV9AF65H4TruXkAMnZ8KdsdcQO9aZwsuh19AbYzhsrDjW0A=\",\"dtype\":\"float64\",\"order\":\"little\",\"shape\":[10]},\"valence\":{\"__ndarray__\":\"xFcOgaTC4j8etfiFKMDnP7VpVWSau+I/Eds1LHJx5D8YMfnK3YnXP4zzbJ9DsuE/KQ8Ltab95D80hqpwDfzlP7kyJxzET+Q/qbE7nl/g4z8=\",\"dtype\":\"float64\",\"order\":\"little\",\"shape\":[10]},\"year\":{\"__ndarray__\":\"esLbUw5AnkDewq/GRCSeQMNcOVXsT55AKaWUUkognkCtG0yRT6WeQC+n4OUUyJ5AAAAAADzKnkAGzsLzY8CeQB1YRbEEvZ5A1tHmfYq7nkA=\",\"dtype\":\"float64\",\"order\":\"little\",\"shape\":[10]}},\"selected\":{\"id\":\"30652\"},\"selection_policy\":{\"id\":\"30653\"}},\"id\":\"30023\",\"type\":\"ColumnDataSource\"},{\"attributes\":{\"num_minor_ticks\":5,\"tickers\":[{\"id\":\"14176\"},{\"id\":\"14177\"},{\"id\":\"14178\"},{\"id\":\"14179\"},{\"id\":\"14180\"},{\"id\":\"14181\"},{\"id\":\"14182\"},{\"id\":\"14183\"},{\"id\":\"14184\"},{\"id\":\"14185\"},{\"id\":\"14186\"},{\"id\":\"14187\"}]},\"id\":\"13677\",\"type\":\"DatetimeTicker\"},{\"attributes\":{\"data\":{\"x\":{\"__ndarray__\":\"AADA5fb0c0IAAEArurZ0QgAAAOnxPHVCAACAmddhdkIAAEACzPh2Qg==\",\"dtype\":\"float64\",\"order\":\"little\",\"shape\":[5]},\"y\":{\"__ndarray__\":\"q6qqqqpqUUAAAAAAAMBQQAAAAAAAAFBAAAAAAABAUUAAAAAAAABSQA==\",\"dtype\":\"float64\",\"order\":\"little\",\"shape\":[5]}},\"selected\":{\"id\":\"14193\"},\"selection_policy\":{\"id\":\"14194\"}},\"id\":\"13712\",\"type\":\"ColumnDataSource\"}],\"root_ids\":[\"37825\"]},\"title\":\"Bokeh Application\",\"version\":\"2.2.3\"}};\n",
       "  var render_items = [{\"docid\":\"d536636d-f446-41fc-b10b-2d02ae2a3c01\",\"root_ids\":[\"37825\"],\"roots\":{\"37825\":\"80d4cb1c-88f9-46b2-bc6f-e2a00041d8f9\"}}];\n",
       "  root.Bokeh.embed.embed_items_notebook(docs_json, render_items);\n",
       "\n",
       "  }\n",
       "  if (root.Bokeh !== undefined) {\n",
       "    embed_document(root);\n",
       "  } else {\n",
       "    var attempts = 0;\n",
       "    var timer = setInterval(function(root) {\n",
       "      if (root.Bokeh !== undefined) {\n",
       "        clearInterval(timer);\n",
       "        embed_document(root);\n",
       "      } else {\n",
       "        attempts++;\n",
       "        if (attempts > 100) {\n",
       "          clearInterval(timer);\n",
       "          console.log(\"Bokeh: ERROR: Unable to run BokehJS code because BokehJS library is missing\");\n",
       "        }\n",
       "      }\n",
       "    }, 10, root)\n",
       "  }\n",
       "})(window);"
      ],
      "application/vnd.bokehjs_exec.v0+json": ""
     },
     "metadata": {
      "application/vnd.bokehjs_exec.v0+json": {
       "id": "37825"
      }
     },
     "output_type": "display_data"
    }
   ],
   "source": [
    "# Afficher les graphes selon le nouveau layout\n",
    "\n"
   ]
  },
  {
   "cell_type": "markdown",
   "metadata": {},
   "source": [
    "Ceci revient à créer un grid layout avec 3 lignes et 2 colonnes. Bokeh procure une fonction \"gridplot\" qui permet la création de layouts robustes grâce à la  diversité des combinaisons possibles dans l'empilage des graphes au niveau du même ecran."
   ]
  },
  {
   "cell_type": "code",
   "execution_count": null,
   "metadata": {},
   "outputs": [],
   "source": [
    "from bokeh.layouts import gridplot"
   ]
  },
  {
   "cell_type": "code",
   "execution_count": null,
   "metadata": {},
   "outputs": [],
   "source": [
    "# Créer un objet grid_layout qui organise les graphes de la même manière que le nested layout\n"
   ]
  },
  {
   "cell_type": "code",
   "execution_count": null,
   "metadata": {},
   "outputs": [],
   "source": [
    "# Afficher le grid_layout\n"
   ]
  },
  {
   "cell_type": "markdown",
   "metadata": {},
   "source": [
    "<br></br>\n",
    "#### 3. Creation des onglets"
   ]
  },
  {
   "cell_type": "markdown",
   "metadata": {},
   "source": [
    "Il est très utile de pouvoir créer des layouts multiples dans différents onglets. Bokeh procure les objets tabbed Layout, auxquels les graphes peuvent être ajoutés. On va créer deux onglets, l'un pour artiste 1, l'autre pour le deuxième artiste. "
   ]
  },
  {
   "cell_type": "code",
   "execution_count": null,
   "metadata": {},
   "outputs": [],
   "source": [
    "from bokeh.models.widgest import Tabs, Panel"
   ]
  },
  {
   "cell_type": "markdown",
   "metadata": {},
   "source": [
    "Pour créer un tabbed layout, on aura besoin de créer en premier lieu deux panels en utilisant la fonction Panel. Chaque Panel se composera de ses propres graphes spécifiés à l'aide de l'argument \"child\" dans la fonction Panel. "
   ]
  },
  {
   "cell_type": "code",
   "execution_count": null,
   "metadata": {},
   "outputs": [],
   "source": [
    "# Créer deux objets Panel pour chacun des artistes. \n",
    "# Vous pouvez attribuer un titre aux Panels (qui seront affichés en haut de l'onglet).\n",
    "\n"
   ]
  },
  {
   "cell_type": "code",
   "execution_count": null,
   "metadata": {},
   "outputs": [],
   "source": [
    "# Donner les Panels aux objets Tabs\n",
    "\n",
    "\n"
   ]
  },
  {
   "cell_type": "code",
   "execution_count": null,
   "metadata": {},
   "outputs": [],
   "source": [
    "# Afficher les objets tabs\n",
    "\n"
   ]
  },
  {
   "cell_type": "markdown",
   "metadata": {},
   "source": [
    "<br></br>\n",
    "#### 4. Liaison entre deux graphes"
   ]
  },
  {
   "cell_type": "markdown",
   "metadata": {},
   "source": [
    "Comparer deux graphes sur le même ecran devient plus facile quand ces derniers sont liés. Dans cette partie, on créera multiple graphes sur le même axe x. Pour ce faire, on va créer deux scatter plots basé sur les données du premier artiste mais on leur donnera le même axe x. "
   ]
  },
  {
   "cell_type": "code",
   "execution_count": 422,
   "metadata": {},
   "outputs": [],
   "source": [
    "#  Créer une ColumnDataSource avec les colonnes 'release_date', 'danceability', 'acousticness', 'energy', 'loudness'\n",
    "\n"
   ]
  },
  {
   "cell_type": "code",
   "execution_count": 14,
   "metadata": {},
   "outputs": [],
   "source": [
    "# Créer deux scatterplots: Le premier pour voir la relation entre 'danceability' et 'acousticness', le deuxième 'energy' et 'loudness'\n",
    "\n"
   ]
  },
  {
   "cell_type": "code",
   "execution_count": 424,
   "metadata": {},
   "outputs": [],
   "source": [
    "# x_range fait référence à l'axe x des deux graphes. S'assurer que les deux graphes ont le même axe x.\n",
    "\n"
   ]
  },
  {
   "cell_type": "code",
   "execution_count": 425,
   "metadata": {},
   "outputs": [],
   "source": [
    "# Organiser les deux graphes dans un layout (vous pouvez utiliser la fonction row)\n",
    "\n"
   ]
  },
  {
   "cell_type": "code",
   "execution_count": 426,
   "metadata": {},
   "outputs": [
    {
     "data": {
      "text/html": [
       "\n",
       "\n",
       "\n",
       "\n",
       "\n",
       "\n",
       "  <div class=\"bk-root\" id=\"a468aab6-fd70-406f-b894-84a3eb37730a\" data-root-id=\"39095\"></div>\n"
      ]
     },
     "metadata": {},
     "output_type": "display_data"
    },
    {
     "data": {
      "application/javascript": [
       "(function(root) {\n",
       "  function embed_document(root) {\n",
       "    \n",
       "  var docs_json = {\"086b10cf-3b09-4a17-84bc-568fff221c2a\":{\"roots\":{\"references\":[{\"attributes\":{\"children\":[{\"id\":\"39017\"},{\"id\":\"39055\"}]},\"id\":\"39095\",\"type\":\"Row\"},{\"attributes\":{},\"id\":\"39062\",\"type\":\"LinearScale\"},{\"attributes\":{},\"id\":\"39036\",\"type\":\"PanTool\"},{\"attributes\":{},\"id\":\"40008\",\"type\":\"UnionRenderers\"},{\"attributes\":{\"active_drag\":\"auto\",\"active_inspect\":\"auto\",\"active_multi\":null,\"active_scroll\":\"auto\",\"active_tap\":\"auto\",\"tools\":[{\"id\":\"39074\"},{\"id\":\"39075\"},{\"id\":\"39076\"},{\"id\":\"39077\"},{\"id\":\"39078\"},{\"id\":\"39079\"}]},\"id\":\"39081\",\"type\":\"Toolbar\"},{\"attributes\":{},\"id\":\"39079\",\"type\":\"HelpTool\"},{\"attributes\":{\"active_drag\":\"auto\",\"active_inspect\":\"auto\",\"active_multi\":null,\"active_scroll\":\"auto\",\"active_tap\":\"auto\",\"tools\":[{\"id\":\"39036\"},{\"id\":\"39037\"},{\"id\":\"39038\"},{\"id\":\"39039\"},{\"id\":\"39040\"},{\"id\":\"39041\"}]},\"id\":\"39043\",\"type\":\"Toolbar\"},{\"attributes\":{},\"id\":\"39024\",\"type\":\"LinearScale\"},{\"attributes\":{\"axis\":{\"id\":\"39028\"},\"ticker\":null},\"id\":\"39031\",\"type\":\"Grid\"},{\"attributes\":{},\"id\":\"39064\",\"type\":\"LinearScale\"},{\"attributes\":{},\"id\":\"40004\",\"type\":\"BasicTickFormatter\"},{\"attributes\":{\"formatter\":{\"id\":\"40004\"},\"ticker\":{\"id\":\"39067\"}},\"id\":\"39066\",\"type\":\"LinearAxis\"},{\"attributes\":{},\"id\":\"40007\",\"type\":\"Selection\"},{\"attributes\":{},\"id\":\"39071\",\"type\":\"BasicTicker\"},{\"attributes\":{},\"id\":\"39067\",\"type\":\"BasicTicker\"},{\"attributes\":{\"axis\":{\"id\":\"39066\"},\"ticker\":null},\"id\":\"39069\",\"type\":\"Grid\"},{\"attributes\":{\"source\":{\"id\":\"39016\"}},\"id\":\"39092\",\"type\":\"CDSView\"},{\"attributes\":{},\"id\":\"39029\",\"type\":\"BasicTicker\"},{\"attributes\":{},\"id\":\"39078\",\"type\":\"ResetTool\"},{\"attributes\":{\"axis\":{\"id\":\"39070\"},\"dimension\":1,\"ticker\":null},\"id\":\"39073\",\"type\":\"Grid\"},{\"attributes\":{},\"id\":\"40000\",\"type\":\"BasicTickFormatter\"},{\"attributes\":{\"formatter\":{\"id\":\"40002\"},\"ticker\":{\"id\":\"39071\"}},\"id\":\"39070\",\"type\":\"LinearAxis\"},{\"attributes\":{},\"id\":\"39060\",\"type\":\"DataRange1d\"},{\"attributes\":{},\"id\":\"39037\",\"type\":\"WheelZoomTool\"},{\"attributes\":{\"data_source\":{\"id\":\"39016\"},\"glyph\":{\"id\":\"39089\"},\"hover_glyph\":null,\"muted_glyph\":null,\"nonselection_glyph\":{\"id\":\"39090\"},\"selection_glyph\":null,\"view\":{\"id\":\"39092\"}},\"id\":\"39091\",\"type\":\"GlyphRenderer\"},{\"attributes\":{},\"id\":\"39033\",\"type\":\"BasicTicker\"},{\"attributes\":{},\"id\":\"40002\",\"type\":\"BasicTickFormatter\"},{\"attributes\":{\"text\":\"Danceability vs. acousticness\"},\"id\":\"39018\",\"type\":\"Title\"},{\"attributes\":{\"fill_alpha\":{\"value\":0.1},\"fill_color\":{\"value\":\"green\"},\"line_alpha\":{\"value\":0.1},\"line_color\":{\"value\":\"green\"},\"size\":{\"units\":\"screen\",\"value\":10},\"x\":{\"field\":\"energy\"},\"y\":{\"field\":\"loudness\"}},\"id\":\"39090\",\"type\":\"Cross\"},{\"attributes\":{\"fill_alpha\":{\"value\":0.8},\"fill_color\":{\"value\":\"red\"},\"line_alpha\":{\"value\":0.8},\"line_color\":{\"value\":\"red\"},\"size\":{\"units\":\"screen\",\"value\":10},\"x\":{\"field\":\"danceability\"},\"y\":{\"field\":\"acousticness\"}},\"id\":\"39051\",\"type\":\"Cross\"},{\"attributes\":{\"bottom_units\":\"screen\",\"fill_alpha\":0.5,\"fill_color\":\"lightgrey\",\"left_units\":\"screen\",\"level\":\"overlay\",\"line_alpha\":1.0,\"line_color\":\"black\",\"line_dash\":[4,4],\"line_width\":2,\"right_units\":\"screen\",\"top_units\":\"screen\"},\"id\":\"39042\",\"type\":\"BoxAnnotation\"},{\"attributes\":{\"formatter\":{\"id\":\"39998\"},\"ticker\":{\"id\":\"39033\"}},\"id\":\"39032\",\"type\":\"LinearAxis\"},{\"attributes\":{\"text\":\"energy vs. loudness\"},\"id\":\"39056\",\"type\":\"Title\"},{\"attributes\":{},\"id\":\"39998\",\"type\":\"BasicTickFormatter\"},{\"attributes\":{},\"id\":\"39041\",\"type\":\"HelpTool\"},{\"attributes\":{},\"id\":\"39020\",\"type\":\"DataRange1d\"},{\"attributes\":{},\"id\":\"39022\",\"type\":\"DataRange1d\"},{\"attributes\":{},\"id\":\"39039\",\"type\":\"SaveTool\"},{\"attributes\":{},\"id\":\"39074\",\"type\":\"PanTool\"},{\"attributes\":{\"axis\":{\"id\":\"39032\"},\"dimension\":1,\"ticker\":null},\"id\":\"39035\",\"type\":\"Grid\"},{\"attributes\":{\"overlay\":{\"id\":\"39042\"}},\"id\":\"39038\",\"type\":\"BoxZoomTool\"},{\"attributes\":{\"bottom_units\":\"screen\",\"fill_alpha\":0.5,\"fill_color\":\"lightgrey\",\"left_units\":\"screen\",\"level\":\"overlay\",\"line_alpha\":1.0,\"line_color\":\"black\",\"line_dash\":[4,4],\"line_width\":2,\"right_units\":\"screen\",\"top_units\":\"screen\"},\"id\":\"39080\",\"type\":\"BoxAnnotation\"},{\"attributes\":{},\"id\":\"39075\",\"type\":\"WheelZoomTool\"},{\"attributes\":{\"below\":[{\"id\":\"39028\"}],\"center\":[{\"id\":\"39031\"},{\"id\":\"39035\"}],\"left\":[{\"id\":\"39032\"}],\"renderers\":[{\"id\":\"39053\"}],\"title\":{\"id\":\"39018\"},\"toolbar\":{\"id\":\"39043\"},\"x_range\":{\"id\":\"39020\"},\"x_scale\":{\"id\":\"39024\"},\"y_range\":{\"id\":\"39022\"},\"y_scale\":{\"id\":\"39026\"}},\"id\":\"39017\",\"subtype\":\"Figure\",\"type\":\"Plot\"},{\"attributes\":{},\"id\":\"39026\",\"type\":\"LinearScale\"},{\"attributes\":{\"formatter\":{\"id\":\"40000\"},\"ticker\":{\"id\":\"39029\"}},\"id\":\"39028\",\"type\":\"LinearAxis\"},{\"attributes\":{},\"id\":\"39040\",\"type\":\"ResetTool\"},{\"attributes\":{\"fill_alpha\":{\"value\":0.1},\"fill_color\":{\"value\":\"red\"},\"line_alpha\":{\"value\":0.1},\"line_color\":{\"value\":\"red\"},\"size\":{\"units\":\"screen\",\"value\":10},\"x\":{\"field\":\"danceability\"},\"y\":{\"field\":\"acousticness\"}},\"id\":\"39052\",\"type\":\"Cross\"},{\"attributes\":{\"overlay\":{\"id\":\"39080\"}},\"id\":\"39076\",\"type\":\"BoxZoomTool\"},{\"attributes\":{\"data\":{\"acousticness\":{\"__ndarray__\":\"ZDvfT42X7j+28/3UeOnuP1+6SQwCK+8/MzMzMzMz7z9xPQrXo3DNP5LtfD81Xu4/tvP91Hjp7j93vp8aL93sP4PAyqFFtus/bhKDwMqh3T+7SQwCK4fuP++nxks3ie0/0SLb+X5q5D/Jdr6fGi/tP4/C9Shcj+4/oBov3SQG4T8=\",\"dtype\":\"float64\",\"order\":\"little\",\"shape\":[16]},\"artists\":[\"['Sleeping At Last']\",\"['Sleeping At Last']\",\"['Sleeping At Last']\",\"['Sleeping At Last']\",\"['Sleeping At Last']\",\"['Sleeping At Last']\",\"['Sleeping At Last']\",\"['Sleeping At Last']\",\"['Sleeping At Last']\",\"['Sleeping At Last']\",\"['Sleeping At Last']\",\"['Sleeping At Last']\",\"['Sleeping At Last']\",\"['Sleeping At Last']\",\"['Sleeping At Last']\",\"['Sleeping At Last']\"],\"danceability\":{\"__ndarray__\":\"z/dT46Wb3D+d76fGSzfZPxfZzvdT490/BFYOLbKd4z/dJAaBlUPjPy2yne+nxtM/0SLb+X5q4D9U46WbxCDgP7JyaJHtfNc/46WbxCCw0j+Nl24Sg8DaP9nO91PjpdM/okW28/3U0D/b+X5qvHTTP4/C9Shcj9o/eOkmMQiszD8=\",\"dtype\":\"float64\",\"order\":\"little\",\"shape\":[16]},\"duration_ms\":[240791,211788,242564,196806,280371,197804,192571,258609,259376,268111,243007,255893,289792,255373,256300,262533],\"energy\":{\"__ndarray__\":\"ku18PzVeyj/Jdr6fGi/NP39qvHSTGMQ/f2q8dJMY1D9YObTIdr7XP+kmMQisHMo/BoGVQ4tsxz8hsHJoke3UP5huEoPAysE/Vg4tsp3v1z9YObTIdr7PP1g5tMh2vtc/vHSTGARWzj+oxks3iUHYPzq0yHa+n7o/+FPjpZvE2D8=\",\"dtype\":\"float64\",\"order\":\"little\",\"shape\":[16]},\"explicit\":[0,0,0,0,0,0,0,0,0,0,0,0,0,0,0,0],\"id\":[\"7fkXzzIVo98CgjOkpd9H0V\",\"0dHF8t7OIhgPele5WRUfWG\",\"2d7LPtieXdIYzf7yHPooWd\",\"3cBtANnJGopPaRMXCl3mV7\",\"1RgiH5ucgoEWDKmGyA5drQ\",\"4m8QRApdIvxMERrlgigXj4\",\"0dDdc2ugBXcZkO00xvR6wZ\",\"62CprXvSWsKBvYu3Yba55A\",\"7HQCXYyaBmhugyRDvy4V7m\",\"16D9AzevsZAh4GfQEYIo7I\",\"5zCunX8URvLoBHlg1Fnjv6\",\"2kfGoV9a5dbSKCNmUWH2ZF\",\"3tJjZMHLqhD8DaGgdBICnc\",\"42BAwiGC1egjbiJ6y512Tz\",\"4g2WiijzSKzH8PApKDbadN\",\"5uq3x8Pg8HAj8qNwPFOzfl\"],\"index\":[7613,15567,15806,23633,31545,47466,47671,47930,55014,77396,97390,106455,106735,134600,135428,169289],\"instrumentalness\":{\"__ndarray__\":\"5DxzQUMg0z5vaCUIsvkDP/Jf//mmfrg+K19EmRWj4T4AAAAAAAAAAAAAAAAAAAAAAAAAAAAAAAB8rAk3UwDgPgAAAAAAAAAA9YJPc/IiMz9O6/z8c6jRPmPuWkI+6Jk/hetRuB6F0z+amZmZmZmZP5rf3Yj2ys8+UWaDTDJydj8=\",\"dtype\":\"float64\",\"order\":\"little\",\"shape\":[16]},\"key\":[3,4,11,1,9,3,2,4,7,10,3,3,3,3,0,0],\"liveness\":{\"__ndarray__\":\"MQisHFpkuz8hsHJoke28P4iFWtO847Q/D5wzorQ3uD8wuycPC7W2P6jGSzeJQcA/IbByaJHt1D97FK5H4XrcP9Ei2/l+arw/DQIrhxbZ1j/azvdT46W7Pylcj8L1KLw/gZVDi2znuz946SYxCKy8Pzq0yHa+n7o/M8SxLm6jsT8=\",\"dtype\":\"float64\",\"order\":\"little\",\"shape\":[16]},\"loudness\":{\"__ndarray__\":\"AAAAAACAJ8BfukkMAispwD81XrpJTCPAZmZmZmYmI8BmZmZmZiYnwJZDi2znuyXAc2iR7Xx/JMB7FK5H4foiwHSTGARWzinAPQrXo3D9JMBYObTIdv4jwOXQItv5/iDAYOXQItt5K8ArhxbZzvcgwClcj8L1qCfAJQaBlUMLIsA=\",\"dtype\":\"float64\",\"order\":\"little\",\"shape\":[16]},\"mode\":[1,1,1,1,0,1,1,1,1,0,1,1,1,1,1,1],\"name\":[\"Already Gone\",\"I'm Gonna Be (500 Miles)\",\"Chasing Cars\",\"Every Little Thing She Does Is Magic\",\"Neptune\",\"All Through the Night\",\"Rainbow Connection\",\"Two\",\"North\",\"Earth\",\"Already Gone\",\"Turning Page\",\"Saturn\",\"Turning Page\",\"Touch\",\"Light\"],\"popularity\":[63,57,64,57,55,56,57,65,53,51,73,68,68,51,72,58],\"release_date\":{\"__ndarray__\":\"AACAKacDdUIAAIBAJWB0QgAAwCjKgnVCAACAQCVgdEIAAEBRNHF0QgAAwDymSHRCAADAKMqCdUIAAABG5b12QgAAQFE0cXRCAABAUTRxdEIAAMAoyoJ1QgAAwDjOf3NCAABAUTRxdEIAAID/vTZzQgAAwC9E4nZCAABAUTRxdEI=\",\"dtype\":\"float64\",\"order\":\"little\",\"shape\":[16]},\"speechiness\":{\"__ndarray__\":\"GCZTBaOSqj+MSuoENBGmPxWMSuoENKE/WDm0yHa+nz8/xty1hHygPxZqTfOOU6Q/ZvfkYaHWpD8nwoanV8qiPwIrhxbZzqc/j1N0JJf/oD8sZRniWBenP5LLf0i/fZ0/Iv32deCcoT8YBFYOLbKdP+SDns2qz6U/T6+UZYhjnT8=\",\"dtype\":\"float64\",\"order\":\"little\",\"shape\":[16]},\"tempo\":{\"__ndarray__\":\"5dAi2/muUEAAAAAAAChaQLgehetRCFtARrbz/dSYYEBxPQrXowBeQNrO91PjKWdA7FG4HoXLWkAEVg4tsplgQBSuR+F6bFVAGARWDi3yXUDRItv5fl5gQIGVQ4tsz1xAqMZLN4lBUkChRbbz/UxfQKrx0k1igFRATmIQWDkkWkA=\",\"dtype\":\"float64\",\"order\":\"little\",\"shape\":[16]},\"valence\":{\"__ndarray__\":\"IbByaJHt1D9QjZduEoPQP+18PzVeutE/jGzn+6nx2j82XrpJDALLP+XQItv5ftI/oBov3SQG0T+JQWDl0CLTP3jpJjEIrNQ/BFYOLbKdzz/fT42XbhLTP/3UeOkmMcg/fPKwUGuapz/91HjpJjHIPwrXo3A9Csc/001iEFg5pD8=\",\"dtype\":\"float64\",\"order\":\"little\",\"shape\":[16]},\"year\":[2015,2014,2016,2014,2014,2014,2016,2019,2014,2014,2016,2012,2014,2011,2019,2014]},\"selected\":{\"id\":\"40007\"},\"selection_policy\":{\"id\":\"40008\"}},\"id\":\"39016\",\"type\":\"ColumnDataSource\"},{\"attributes\":{\"fill_alpha\":{\"value\":0.3},\"fill_color\":{\"value\":\"green\"},\"line_alpha\":{\"value\":0.3},\"line_color\":{\"value\":\"green\"},\"size\":{\"units\":\"screen\",\"value\":10},\"x\":{\"field\":\"energy\"},\"y\":{\"field\":\"loudness\"}},\"id\":\"39089\",\"type\":\"Cross\"},{\"attributes\":{\"below\":[{\"id\":\"39066\"}],\"center\":[{\"id\":\"39069\"},{\"id\":\"39073\"}],\"left\":[{\"id\":\"39070\"}],\"renderers\":[{\"id\":\"39091\"}],\"title\":{\"id\":\"39056\"},\"toolbar\":{\"id\":\"39081\"},\"x_range\":{\"id\":\"39020\"},\"x_scale\":{\"id\":\"39062\"},\"y_range\":{\"id\":\"39060\"},\"y_scale\":{\"id\":\"39064\"}},\"id\":\"39055\",\"subtype\":\"Figure\",\"type\":\"Plot\"},{\"attributes\":{},\"id\":\"39077\",\"type\":\"SaveTool\"},{\"attributes\":{\"source\":{\"id\":\"39016\"}},\"id\":\"39054\",\"type\":\"CDSView\"},{\"attributes\":{\"data_source\":{\"id\":\"39016\"},\"glyph\":{\"id\":\"39051\"},\"hover_glyph\":null,\"muted_glyph\":null,\"nonselection_glyph\":{\"id\":\"39052\"},\"selection_glyph\":null,\"view\":{\"id\":\"39054\"}},\"id\":\"39053\",\"type\":\"GlyphRenderer\"}],\"root_ids\":[\"39095\"]},\"title\":\"Bokeh Application\",\"version\":\"2.2.3\"}};\n",
       "  var render_items = [{\"docid\":\"086b10cf-3b09-4a17-84bc-568fff221c2a\",\"root_ids\":[\"39095\"],\"roots\":{\"39095\":\"a468aab6-fd70-406f-b894-84a3eb37730a\"}}];\n",
       "  root.Bokeh.embed.embed_items_notebook(docs_json, render_items);\n",
       "\n",
       "  }\n",
       "  if (root.Bokeh !== undefined) {\n",
       "    embed_document(root);\n",
       "  } else {\n",
       "    var attempts = 0;\n",
       "    var timer = setInterval(function(root) {\n",
       "      if (root.Bokeh !== undefined) {\n",
       "        clearInterval(timer);\n",
       "        embed_document(root);\n",
       "      } else {\n",
       "        attempts++;\n",
       "        if (attempts > 100) {\n",
       "          clearInterval(timer);\n",
       "          console.log(\"Bokeh: ERROR: Unable to run BokehJS code because BokehJS library is missing\");\n",
       "        }\n",
       "      }\n",
       "    }, 10, root)\n",
       "  }\n",
       "})(window);"
      ],
      "application/vnd.bokehjs_exec.v0+json": ""
     },
     "metadata": {
      "application/vnd.bokehjs_exec.v0+json": {
       "id": "39095"
      }
     },
     "output_type": "display_data"
    }
   ],
   "source": [
    "# Afficher le Layout\n",
    "\n"
   ]
  },
  {
   "cell_type": "markdown",
   "metadata": {},
   "source": [
    "Remarquez que les deux graphes ont le même axe x. Si vous zoomer sur le premier, le deuxième suivra."
   ]
  },
  {
   "cell_type": "markdown",
   "metadata": {},
   "source": [
    "<br></br>\n",
    "### D. Ajout de l'Interactivité aux visualisations"
   ]
  },
  {
   "cell_type": "markdown",
   "metadata": {},
   "source": [
    "Bokeh permet la création de visualisations interactives en procurant des attributs visuels comme Hover, Slider ou Selection etc.\n",
    "\n",
    "Les Hover par exemple sont très utiles pour ajouter une dimension supplémentaire au graphe. Ils permettent de visualiser un point de données quand l'utilisareur le survole avec la souris. Pour créer un graphe avec un Hover tool, on va créer un graphe qui combine les données de deux artistes, et utiliser le Hover tool pour différencier entre les deux."
   ]
  },
  {
   "cell_type": "code",
   "execution_count": 432,
   "metadata": {},
   "outputs": [],
   "source": [
    "from bokeh.models import HoverTool"
   ]
  },
  {
   "cell_type": "code",
   "execution_count": 430,
   "metadata": {},
   "outputs": [],
   "source": [
    "# Créer une ColumnDataSource basé sur un dataframe ou l'artiste est soit 1 ou 2\n",
    "\n"
   ]
  },
  {
   "cell_type": "code",
   "execution_count": 439,
   "metadata": {},
   "outputs": [],
   "source": [
    "# Créer un hover tool en utilisant la fonction HoverTool où les tooltips pointent sur le tuples d'information à afficher qu'on l'utilisateur survole la donnée,\n",
    "# à savoir nom de l'artiste, nom de la piste popularité, loudness, name.\n",
    "# Ainsi, chaque tuple du tooltip devra contenir un label et une référence au champs contenant l'information\n",
    "\n"
   ]
  },
  {
   "cell_type": "code",
   "execution_count": 447,
   "metadata": {},
   "outputs": [],
   "source": [
    "# Donner l'objet hover tool comme argument à votre figure \n",
    "\n"
   ]
  },
  {
   "cell_type": "code",
   "execution_count": 15,
   "metadata": {},
   "outputs": [],
   "source": [
    "# Créer un scaterplot avec par exemple les variables acousticness et energy de la ColumnDataSource \n",
    "\n"
   ]
  },
  {
   "cell_type": "code",
   "execution_count": 16,
   "metadata": {},
   "outputs": [],
   "source": [
    "# Afficher le graphe. Survoler avec la souris quelques datapoint pour s'assurer du bon affichage des informations.\n",
    "\n"
   ]
  },
  {
   "cell_type": "markdown",
   "metadata": {},
   "source": [
    "<br> L'outil de sélection permet de mettre en exergue un sous-ensemble de données sur le graphe. Pour ajouter un selection tool à votre graphe, il faut ajouter 'box_select' à la liste des outils de la figure. Il est possible de définir une selection_color, nonselection_fill_color, et un nonselection_fill_alpha en leur assignant des valeurs dans les arguments de la fonction de création du graphe."
   ]
  },
  {
   "cell_type": "code",
   "execution_count": 461,
   "metadata": {},
   "outputs": [],
   "source": [
    "# Passer l'objet hover tool et un 'box_select' comme arguments de tools\n",
    "\n"
   ]
  },
  {
   "cell_type": "code",
   "execution_count": 17,
   "metadata": {},
   "outputs": [],
   "source": [
    "# Recréer le scatter plot en spécifiant les arguments de selection\n",
    "\n"
   ]
  },
  {
   "cell_type": "code",
   "execution_count": 18,
   "metadata": {},
   "outputs": [],
   "source": [
    "# Afficher le graphe\n",
    "\n"
   ]
  },
  {
   "cell_type": "markdown",
   "metadata": {},
   "source": [
    " "
   ]
  },
  {
   "cell_type": "markdown",
   "metadata": {},
   "source": [
    "Pour explorer d'autres outils dans le tool box : https://docs.bokeh.org/en/latest/docs/user_guide/tools.html?highlight=configuring%20plot%20tools"
   ]
  },
  {
   "cell_type": "markdown",
   "metadata": {},
   "source": [
    " "
   ]
  },
  {
   "cell_type": "markdown",
   "metadata": {},
   "source": [
    "### E. Bonus: Création d'une application de visualisation"
   ]
  },
  {
   "cell_type": "markdown",
   "metadata": {},
   "source": [
    "Bokeh offre la possibilité de créer des applications de visualisation de données qui peuvent être hebergées sur notre propre serveur à travers le Bokeh server. \n",
    "\n",
    "Le Bokeh server agit comme un pont connectant Python et le navigateur où seront hebergées les applications. En utilisant Bokeh Server, on peut déployer des applications avec une interactivité locale et les partager. \n",
    "\n",
    "Une application Bokeh est une entité qui crée et remplit des documents avec des mises à jour sur le backend avec toutes les configurations nécessaires pour transférer correctement les données entre le serveur et le client. Le backend Bokeh sérialise les documents en format JSON. Ces derniers sont envoyés et affichés par le client BokehJS (comme indiqué dans la figure ci-dessous).\n"
   ]
  },
  {
   "cell_type": "markdown",
   "metadata": {},
   "source": [
    "<img src=\"https://static.packt-cdn.com/products/9781789135404/graphics/b6dd15c9-b21d-4786-9185-fc68623e5d53.png\">"
   ]
  },
  {
   "cell_type": "markdown",
   "metadata": {},
   "source": [
    "Pour construire une application Bokeh, il faut suivre 3 étapes:\n",
    "\n",
    " <ol>\n",
    "  <li>Créer les graphes et widgets</li>\n",
    "  <li>Définir la fonction Callback: c'est la fonction qui indique à l'application comment réagir à l'interaction d'un utilisateur (lorsqu'un bouton est clické, un curseur est déplacé ..)</li>\n",
    "  <li>Créer un Layout: personnaliser les layouts pour organiser les graphes</li>\n",
    "</ol> "
   ]
  },
  {
   "cell_type": "markdown",
   "metadata": {},
   "source": [
    "<br> On va créer une application très simple qui va afficher un nuage de points de la popularité des pistes. Cependant, on donnera à l'utilisateur la possibilité de choisir entre afficher le graphe de la popularité par acousticness ou par loudness. Maintes étapes ont été déjà couvertes dans le TP.\n",
    "\n",
    "Pour ce faire, on va créer un fichier bokehApp.py qu'on pourra exécuter ultérieurement dans un terminal en utilisant la commande: __bokeh serve --show bokehApp.py__\n",
    "\n",
    "\n",
    "1. Ouvrir un fichier dans un éditeur de texte et le nommer bokehApp.py. Importer les librairies suivantes:\n",
    "<br>import pandas as pd\n",
    "<br>from bokeh.plotting import figure\n",
    "<br>from bokeh.models import ColumnDataSource, Select\n",
    "<br>from bokeh.io import curdoc\n",
    "<br>from bokeh.layouts import row\n",
    "\n",
    "2. Charger les données des pistes dans une dataframe\n",
    "\n",
    "3. Créer un second dataframe qui filtre les données pour un seul artiste de votre choix\n",
    "\n",
    "4. Créer un objet ColumnDataSource avec un dict contenant les attributs et colonnes ont on aura besoin\n",
    "\n",
    "5. Créer un scatter plot en utilisant les données de popularité et acousticness à partir de la ColumnDataSource \n",
    "\n",
    "6. On aura besoin de créer un \"Select\" widget (c'est un widget qui donnera la main à l'utilisateur de choisirla colonne à visualiser). Le widget prendra les options acousticness et loudness, avec acousticness comme valeur par défaut. Il faut également spécifier un titre qui s'affichera à l'utilisateur.\n",
    "\n",
    "7. Créer une fonction callback qui prendra la nouvelle colonne et changera la source de la donnée au niveau du graphe pour prendre les données de cette colonne.\n",
    "\n",
    "8. Spécifier ce qui devra arriver quand l'utilisateur opére un changement sur le Select widget (utiliser la fonction on_change)\n",
    "\n",
    "9. Créer un row layout pour vos widget et graphe.\n",
    "\n",
    "10. A chaque fois qu'on crée une application, Bokeh crée un \"curdoc\", qui est un document ou canevas vide pour cette application. Il faut ajouter les widgets et graphes (ou les layouts) à ce document en utilisant la méthode add_root.\n",
    "\n",
    "Sauvegarder le fichier bokehApp.py et exécuter la commande susmentionnée dans un terminal."
   ]
  },
  {
   "cell_type": "markdown",
   "metadata": {},
   "source": [
    "<br> Pour plus de détails sur Bokeh, explorer https://github.com/bokeh/bokeh-notebooks/tree/main/tutorial pour plus de détails."
   ]
  }
 ],
 "metadata": {
  "kernelspec": {
   "display_name": "Python 3",
   "language": "python",
   "name": "python3"
  },
  "language_info": {
   "codemirror_mode": {
    "name": "ipython",
    "version": 3
   },
   "file_extension": ".py",
   "mimetype": "text/x-python",
   "name": "python",
   "nbconvert_exporter": "python",
   "pygments_lexer": "ipython3",
   "version": "3.7.8"
  }
 },
 "nbformat": 4,
 "nbformat_minor": 4
}
