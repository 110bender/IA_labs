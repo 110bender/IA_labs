{
 "cells": [
  {
   "cell_type": "markdown",
   "metadata": {},
   "source": [
    "# Travaux Pratiques Intelligence Artificielle: Lab2\n",
    "\n",
    "Neural Networks avec Pytorch 🤖 🙌.\n",
    "\n",
    "## Objectifs du TP:\n",
    "\n",
    "> **Se Familiariser avec Pytorch** \n",
    "\n",
    "> **Comprendre le processus d'apprentissage d'un réseau de neurones**\n",
    "\n",
    "> **Créer un réseau de neurones (feed-forward multilayers NN) avec Pytorch**\n",
    "\n",
    "\n",
    "\n",
    "<br></br>\n",
    "_Besoin d'aide? Laisser moi un Commentaire sur Teams_\n",
    "\n",
    "![green-divider](https://user-images.githubusercontent.com/7065401/52071924-c003ad80-2562-11e9-8297-1c6595f8a7ff.png)"
   ]
  },
  {
   "cell_type": "markdown",
   "metadata": {},
   "source": [
    "## A. Introduction à Pytorch"
   ]
  },
  {
   "cell_type": "markdown",
   "metadata": {},
   "source": [
    "<br> Pytorch est une librairie open source Python, developpée par AI Research lab (FAIR) de Facebook et publiée en ligne en Sept. 2016. Elle permet d'effectuer les calculs tensoriels nécessaires notamment pour l'apprentissage profond (deep learning).   \n",
    "\n",
    "Pytorch permet une implémentation et un apprentissage facile des réseaux de neurones (NN). Elle est très proche de la syntaxe de Python, d'ailleurs il est même possible d'intégrer des blocs if else dans un code NN. Elle a une riche communauté et une documentation actualisée (comparée à tensorflow). D'autant plus qu'elle est très utilisée par les chercheurs, ce qui garantie l'implémentation des nouveaux modèles sur Pytorch.\n",
    "\n",
    "Vous pouvez installer Pytorch à partir d'un terminal ou au niveau de ce jupyter en exécutant la cellule ci-dessous. \n",
    "\n",
    "**N.B.** Si vous avez des inconsistences au niveau de l'installation, pensez à créer un environnement spécifique pour ce TP.\n",
    "\n",
    "<br>"
   ]
  },
  {
   "cell_type": "markdown",
   "metadata": {},
   "source": [
    "<br> \n",
    "\n",
    "Afin de mener à bien les implémentations des NN, Pytorch fournit l'objet **Tensor**. Un tensor sur Pytorch a les mêmes fonctions et syntaxe qu'un numpy array mais est optimisé pour GPU. D'autant plus que son backend C++ permet à Pytorch d'être beaucoup plus performante et rapide que numpy. \n",
    "<br>"
   ]
  },
  {
   "cell_type": "code",
   "execution_count": 541,
   "metadata": {},
   "outputs": [
    {
     "name": "stdout",
     "output_type": "stream",
     "text": [
      "1.7.0\n"
     ]
    }
   ],
   "source": [
    "# Importer torch\n",
    "import torch\n",
    "print(torch.__version__)"
   ]
  },
  {
   "cell_type": "code",
   "execution_count": 542,
   "metadata": {},
   "outputs": [
    {
     "name": "stdout",
     "output_type": "stream",
     "text": [
      "tensor([[1., 0., 0., 0.],\n",
      "        [0., 1., 0., 0.],\n",
      "        [0., 0., 1., 0.],\n",
      "        [0., 0., 0., 1.]])\n"
     ]
    }
   ],
   "source": [
    "# créer une matrice identité de taille 4x4\n",
    "eye4 = torch.eye(4)\n",
    "print(eye4)"
   ]
  },
  {
   "cell_type": "code",
   "execution_count": 543,
   "metadata": {},
   "outputs": [
    {
     "name": "stdout",
     "output_type": "stream",
     "text": [
      "tensor([[0.6426, 0.5716, 0.3965],\n",
      "        [0.9133, 0.8844, 0.7925],\n",
      "        [0.6661, 0.8868, 0.0243],\n",
      "        [0.2956, 0.6687, 0.5823]])\n"
     ]
    }
   ],
   "source": [
    "# Créer un tensor avec des valeurs aléatoires d'une taille de votre choix\n",
    "x = torch.rand(4,3)\n",
    "print(x)"
   ]
  },
  {
   "cell_type": "code",
   "execution_count": 544,
   "metadata": {},
   "outputs": [
    {
     "data": {
      "text/plain": [
       "tensor([[0.6426, 0.5716, 0.3965, 0.9133],\n",
       "        [0.8844, 0.7925, 0.6661, 0.8868],\n",
       "        [0.0243, 0.2956, 0.6687, 0.5823]])"
      ]
     },
     "execution_count": 544,
     "metadata": {},
     "output_type": "execute_result"
    }
   ],
   "source": [
    "# Changer la forme de votre tensor \n",
    "x.view(3,4)"
   ]
  },
  {
   "cell_type": "code",
   "execution_count": 545,
   "metadata": {},
   "outputs": [
    {
     "data": {
      "text/plain": [
       "torch.Size([4, 3])"
      ]
     },
     "execution_count": 545,
     "metadata": {},
     "output_type": "execute_result"
    }
   ],
   "source": [
    "# Afficher la taille, la forme,\n",
    "x.size()"
   ]
  },
  {
   "cell_type": "code",
   "execution_count": 546,
   "metadata": {},
   "outputs": [
    {
     "data": {
      "text/plain": [
       "'torch.FloatTensor'"
      ]
     },
     "execution_count": 546,
     "metadata": {},
     "output_type": "execute_result"
    }
   ],
   "source": [
    "# et le type des éléments de votre tensor\n",
    "x.type()"
   ]
  },
  {
   "cell_type": "code",
   "execution_count": 547,
   "metadata": {},
   "outputs": [],
   "source": [
    "xt = x.transpose(0, 1)"
   ]
  },
  {
   "cell_type": "code",
   "execution_count": 548,
   "metadata": {},
   "outputs": [
    {
     "data": {
      "text/plain": [
       "tensor([[20.6426, 20.5716, 20.3965],\n",
       "        [20.9133, 20.8844, 20.7925],\n",
       "        [20.6661, 20.8868, 20.0243],\n",
       "        [20.2956, 20.6687, 20.5823]])"
      ]
     },
     "execution_count": 548,
     "metadata": {},
     "output_type": "execute_result"
    }
   ],
   "source": [
    "# Ajouter une constante fixe à l'ensemble des éléments du tensor\n",
    "torch.add(x, 20)"
   ]
  },
  {
   "cell_type": "code",
   "execution_count": 549,
   "metadata": {},
   "outputs": [
    {
     "data": {
      "text/plain": [
       "tensor([[0.8969, 1.4066, 0.9446, 0.8031],\n",
       "        [1.4066, 2.2444, 1.4119, 1.3229],\n",
       "        [0.9446, 1.4119, 1.2307, 0.8041],\n",
       "        [0.8031, 1.3229, 0.8041, 0.8736]])"
      ]
     },
     "execution_count": 549,
     "metadata": {},
     "output_type": "execute_result"
    }
   ],
   "source": [
    "# Multiplier votre tensor par sa transposé (multiplication matricielle, pas element-wise)\n",
    "torch.mm(x,xt)"
   ]
  },
  {
   "cell_type": "code",
   "execution_count": 550,
   "metadata": {},
   "outputs": [
    {
     "name": "stdout",
     "output_type": "stream",
     "text": [
      "tensor(0.8844) tensor(0.5823)\n"
     ]
    }
   ],
   "source": [
    "# Avec quelques exemples, montrer que la selection d'éléments des tensors se fait de la même manière que sur NumPy \n",
    "print(x[1][1], x[3][2])"
   ]
  },
  {
   "cell_type": "markdown",
   "metadata": {},
   "source": [
    "<br> \n",
    "\n",
    "Une fonctionnalité très utile de Pytorch, est la possibilité d'échanger les tensors facilement avec NumPy.  \n",
    "\n"
   ]
  },
  {
   "cell_type": "code",
   "execution_count": 551,
   "metadata": {},
   "outputs": [],
   "source": [
    "# Importer numpy\n",
    "import numpy as np"
   ]
  },
  {
   "cell_type": "code",
   "execution_count": 552,
   "metadata": {},
   "outputs": [
    {
     "data": {
      "text/plain": [
       "array([[0.22566503, 0.0077546 ],\n",
       "       [0.47035519, 0.43104928],\n",
       "       [0.7979381 , 0.4146357 ]])"
      ]
     },
     "execution_count": 552,
     "metadata": {},
     "output_type": "execute_result"
    }
   ],
   "source": [
    "# Créer une matrice numpy avec des valeurs aléatoires\n",
    "a = np.random.rand(3,2)\n",
    "a"
   ]
  },
  {
   "cell_type": "code",
   "execution_count": 553,
   "metadata": {},
   "outputs": [
    {
     "data": {
      "text/plain": [
       "tensor([[0.2257, 0.0078],\n",
       "        [0.4704, 0.4310],\n",
       "        [0.7979, 0.4146]], dtype=torch.float64)"
      ]
     },
     "execution_count": 553,
     "metadata": {},
     "output_type": "execute_result"
    }
   ],
   "source": [
    "# Créer un tensor Pytorch à base de cette matrice np\n",
    "b = torch.from_numpy(a)\n",
    "b"
   ]
  },
  {
   "cell_type": "code",
   "execution_count": 554,
   "metadata": {},
   "outputs": [
    {
     "data": {
      "text/plain": [
       "array([[0.22566503, 0.0077546 ],\n",
       "       [0.47035519, 0.43104928],\n",
       "       [0.7979381 , 0.4146357 ]])"
      ]
     },
     "execution_count": 554,
     "metadata": {},
     "output_type": "execute_result"
    }
   ],
   "source": [
    "# Convertir à nouveau ce tensor en un numpy array\n",
    "c = b.numpy()\n",
    "c"
   ]
  },
  {
   "cell_type": "markdown",
   "metadata": {},
   "source": [
    "<br> Pytorch, comme numpy, offre une fonctionnalité qu'on appelle **broadcasting**. Elle permet d'exécuter des opérations entre des tensors (resp. arrays) qui n'ont pas la même forme, comme l'illustre la figure suivante:"
   ]
  },
  {
   "cell_type": "markdown",
   "metadata": {},
   "source": [
    "<img src=\"resources/broadcasting.png\" >"
   ]
  },
  {
   "cell_type": "markdown",
   "metadata": {},
   "source": [
    "Pytorch assouplie la contrainte de forme mais ne la supprime pas totalement. Il est primordiale d'obéir les règles pour effectuer des oprérations entre deux tensors Pytorch:\n",
    "1. Deux tensors de même rang sont compatibles (broadcastable) si, pour chaque axe, soit les tailles sont égales, soit l’une d’elles est exactement égale à 1. P.ex. (5, 3) et (1, 3) sont des formats broadcastable, (5, 3) et (5, 1) également, mais (5, 3) et (3, 1) ne le sont pas.\n",
    "2. Si un tensor a un axe de taille 1, le tensor sera dupliqué à la volée autant de fois que nécessaire selon cet axe pour atteindre la taille de l’autre tensor le long de cet axe. P.ex. un tensor (2, 1, 3) pourra être transformé en tensor (2, 5, 3) en le dupliquant 5 fois le long du 2e axe (axis=1).\n",
    "3. La taille selon chaque axe après broadcast est égale au maximum de toutes les tailles d’entrée le long de cet axe. P.ex. (5, 3, 1) × (1, 3, 4) → (5, 3, 4).\n",
    "4. Si un des tensors a un rang (ndim) inférieur à l’autre, alors sa forme (shape) est précédée d’autant de 1 que nécessaire pour atteindre le même rang. P.ex. (5, 3, 1) × (4,) = (5, 3, 1) × (1, 1, 4) → (5, 3, 4).\n",
    "\n",
    "Pour plus d'informations sur le broadcasting, vous pouvez aller sur le lien: http://scipy.github.io/old-wiki/pages/EricsBroadcastingDoc"
   ]
  },
  {
   "cell_type": "code",
   "execution_count": 555,
   "metadata": {},
   "outputs": [
    {
     "name": "stdout",
     "output_type": "stream",
     "text": [
      "tensor([[0.8108, 0.7675, 0.0966],\n",
      "        [0.2814, 0.9338, 0.5881],\n",
      "        [0.7884, 0.1962, 0.0430],\n",
      "        [0.1867, 0.1275, 0.3935]])\n",
      "tensor([[0.6495],\n",
      "        [0.1556],\n",
      "        [0.4109],\n",
      "        [0.3547]])\n",
      "tensor([[1.4603, 1.4170, 0.7461],\n",
      "        [0.4370, 1.0894, 0.7437],\n",
      "        [1.1992, 0.6070, 0.4538],\n",
      "        [0.5413, 0.4821, 0.7482]])\n"
     ]
    }
   ],
   "source": [
    "# Illustrer le broadcasting par un exemple\n",
    "x = torch.rand(4,3)\n",
    "y = torch.rand(4,1)\n",
    "z = x + y\n",
    "print(x)\n",
    "print(y)\n",
    "print(z)"
   ]
  },
  {
   "cell_type": "markdown",
   "metadata": {},
   "source": [
    "<br> L'unes des fonctionnalités les plus prisée de Pytorch est qu'il permet de calculer d'une manière très facile les gradients des tensors, ce qui est très utile pour appliquer les algorithmes d'optimisation par descente de gradient. Pour cela, PyTorch utilise la bibliothèque autograd qui permet de garder une trace de l'orgine des tensors (leurs tensors parents, les opérations effectuées) et fournir automatiquement la chaîne des dérivées de ces opérations en fonction de leur input. Pytorch fournit donc le gradient d'une expression en fonction de ses paramètres en input automatiquement. "
   ]
  },
  {
   "cell_type": "code",
   "execution_count": 556,
   "metadata": {},
   "outputs": [
    {
     "data": {
      "text/plain": [
       "tensor([[ 1., -1.,  1.,  1.],\n",
       "        [ 1., -1.,  1.,  1.]], requires_grad=True)"
      ]
     },
     "execution_count": 556,
     "metadata": {},
     "output_type": "execute_result"
    }
   ],
   "source": [
    "# Créer un tensor x dont la fonctionalité de gradient est activée\n",
    "x = torch.tensor([[1., -1., 1., 1.],[1., -1., 1., 1.]] )\n",
    "x.requires_grad_(True)"
   ]
  },
  {
   "cell_type": "code",
   "execution_count": 557,
   "metadata": {},
   "outputs": [
    {
     "name": "stdout",
     "output_type": "stream",
     "text": [
      "tensor([[ 0.5000, -0.5000,  0.5000,  0.5000],\n",
      "        [ 0.5000, -0.5000,  0.5000,  0.5000]], grad_fn=<MulBackward0>)\n",
      "<MulBackward0 object at 0x7f891a260ca0>\n"
     ]
    }
   ],
   "source": [
    "# Créer un nouveau tensor y, résultat d'une opération linéaire sur le tensor x. L'attribut grad_fn trace l'opération effectuée \n",
    "y = x * 0.5\n",
    "print(y)\n",
    "print(y.grad_fn)"
   ]
  },
  {
   "cell_type": "code",
   "execution_count": 558,
   "metadata": {},
   "outputs": [
    {
     "name": "stdout",
     "output_type": "stream",
     "text": [
      "tensor(0.2500, grad_fn=<MeanBackward0>)\n"
     ]
    }
   ],
   "source": [
    "# Créer un tensor w qui est la moyenne de y. Vous devrez voir la différence dans grad_fn\n",
    "w = y.mean()\n",
    "print(w)"
   ]
  },
  {
   "cell_type": "code",
   "execution_count": 559,
   "metadata": {},
   "outputs": [],
   "source": [
    "# faire un backpropagation sur votre tensor w -> ce qui revient à automatiquement calculer dw/dx\n",
    "w.backward()"
   ]
  },
  {
   "cell_type": "code",
   "execution_count": 560,
   "metadata": {},
   "outputs": [
    {
     "name": "stdout",
     "output_type": "stream",
     "text": [
      "tensor([[0.0625, 0.0625, 0.0625, 0.0625],\n",
      "        [0.0625, 0.0625, 0.0625, 0.0625]])\n"
     ]
    }
   ],
   "source": [
    "# Afficher le gradient de x\n",
    "print(x.grad)"
   ]
  },
  {
   "cell_type": "code",
   "execution_count": 561,
   "metadata": {},
   "outputs": [
    {
     "name": "stdout",
     "output_type": "stream",
     "text": [
      "tensor([[ 2., -2.,  2.,  2.],\n",
      "        [ 2., -2.,  2.,  2.]])\n",
      "None\n"
     ]
    }
   ],
   "source": [
    "# Effectuer une opération sur x qui n'est pas tracé dans le gradient  \n",
    "with torch.no_grad():\n",
    "    z = x * 2\n",
    "    print(z)\n",
    "    print(z.grad_fn)"
   ]
  },
  {
   "cell_type": "code",
   "execution_count": 562,
   "metadata": {},
   "outputs": [
    {
     "name": "stdout",
     "output_type": "stream",
     "text": [
      "tensor([[0.0625, 0.0625, 0.0625, 0.0625],\n",
      "        [0.0625, 0.0625, 0.0625, 0.0625]])\n"
     ]
    }
   ],
   "source": [
    "# Afficher le gradient de x (devrait rester le même)\n",
    "print (x.grad)"
   ]
  },
  {
   "cell_type": "markdown",
   "metadata": {},
   "source": [
    "<br> Pytorch offre également la possibilité d'effectuer les opérations des tensors sur CPU ou GPU. "
   ]
  },
  {
   "cell_type": "code",
   "execution_count": 563,
   "metadata": {},
   "outputs": [
    {
     "data": {
      "text/plain": [
       "device(type='cpu')"
      ]
     },
     "execution_count": 563,
     "metadata": {},
     "output_type": "execute_result"
    }
   ],
   "source": [
    "# Vérifier que vous avez la capacité d'exécuter sur GPU sur votre machine\n",
    "dev = torch.device(\"gpu\" if torch.cuda.is_available() else \"cpu\")\n",
    "dev"
   ]
  },
  {
   "cell_type": "code",
   "execution_count": 564,
   "metadata": {},
   "outputs": [],
   "source": [
    "# Si vous avez GPU, vous pouvez déplacer les calculs qu'on vient de faire sur GPU\n",
    "#dommage j'ai pas du GPU"
   ]
  },
  {
   "cell_type": "markdown",
   "metadata": {},
   "source": [
    "<br> Vous pouvez explorer d'autres opérations torch peuvent être explorées ici: https://pytorch.org/docs/stable/torch.html"
   ]
  },
  {
   "cell_type": "markdown",
   "metadata": {},
   "source": [
    "## B. Notre premier NN\n",
    "\n",
    "![image](resources/learning.png)\n",
    "\n",
    "Source: Deep Learning with Pytorch"
   ]
  },
  {
   "cell_type": "markdown",
   "metadata": {},
   "source": [
    "<br> Dans notre TP, nous allons implémenter un feed forward NN qui identifie les chiffres écrits à la main (Hello World! des NN). La difficulté revient à identifier le même chiffre même s'il est écrit d'une manière très différente. \n",
    "\n",
    "Notre NN devra prendre en input une image (28 x 28 pixels) et identifier le chiffre en output. Le Dataset utilisé, __MNIST__, englobe 60.000 échantillions de chiffres écrits à la main par 250 personnes pour l'apprentissage, et 10.000 pour le test écrits par un autre groupe de 250 personnes. Les échantillons ont été rassemblés et mergés par NIST (United States' National Institute of Standards and Technology), d'où le nom du dataset. \n",
    "\n",
    "Pour ce faire, nous allons créer un réseau de neurones qui permet de **classfier** une image selon un **output label**. \n",
    "\n",
    "- Combien de Labels faudrait-il prévoir en output?"
   ]
  },
  {
   "cell_type": "markdown",
   "metadata": {},
   "source": [
    "10 (output)\n",
    "28*28 (input)"
   ]
  },
  {
   "cell_type": "markdown",
   "metadata": {},
   "source": [
    "Les étapes pour la création de notre NN sont les suivants:\n",
    "\n",
    "1. Lire et préparer les données \n",
    "\n",
    "2. Créer le réseau de neuronne\n",
    "\n",
    "3. Entraîner le réseau de neuronne\n",
    "\n",
    "4. Tester notre modèle"
   ]
  },
  {
   "cell_type": "markdown",
   "metadata": {},
   "source": [
    "### 1. Lire et préparer les données"
   ]
  },
  {
   "cell_type": "markdown",
   "metadata": {
    "colab_type": "text",
    "id": "PO-N2fynM53t"
   },
   "source": [
    "Avant d'implémenter tout modèle, il faut commencer par **Examiner et comprendre les données** puis les **formatter** convenablement pour alimenter le NN. L'objectif de cette partie est d'abord d'explorer le dataset MNIST, puis de préparer les datasets input du NN.\n",
    "\n",
    "\n",
    "1.   Importer le MNIST dataset\n",
    "2.   Afficher les images avec leurs labels\n",
    "3.   Préparer les données: split train, test, validation et normalisation des données\n",
    "4.   Créer un Pytorch Dataset\n",
    "\n",
    "<br>"
   ]
  },
  {
   "cell_type": "markdown",
   "metadata": {},
   "source": [
    "#### 1.1.   Importer le MNIST dataset"
   ]
  },
  {
   "cell_type": "code",
   "execution_count": 565,
   "metadata": {},
   "outputs": [],
   "source": [
    "# importer la librairie torch et le module datasets de torchvision\n",
    "from torchvision import datasets"
   ]
  },
  {
   "cell_type": "markdown",
   "metadata": {},
   "source": [
    "<br> Le projet torchvision contient les meilleures architectures NN pour computer vision, ainsi que des datasets standards et utilitaires pour implémenter les projest computer vision. La liste des datasets du projet peut être explorée ici: https://pytorch.org/docs/stable/torchvision/datasets.html\n",
    "\n",
    "Le dataset MNIST contient un sous dataset pour le training et un pour le test. Récupérer ces deux sous-dataset en deux objets dataset https://pytorch.org/docs/stable/torchvision/datasets.html#mnist\n",
    "\n",
    "N.B. Ne pas oublier de donner des noms significatifs à vos variables.\n",
    "<br>"
   ]
  },
  {
   "cell_type": "code",
   "execution_count": 566,
   "metadata": {},
   "outputs": [],
   "source": [
    "# Récupérer les données d'apprentissage\n",
    "downloaded_train = datasets.MNIST(root='./resources', train=True, download=True)"
   ]
  },
  {
   "cell_type": "code",
   "execution_count": 567,
   "metadata": {},
   "outputs": [],
   "source": [
    "# Récupérer les données de test\n",
    "downloaded_test = datasets.MNIST(root='./resources', train=False, download=True)"
   ]
  },
  {
   "cell_type": "markdown",
   "metadata": {},
   "source": [
    "<br> Essayons d'explorer les données dans nos datasets. MNIST devrait contenir des images de chiffres écrits à la main. Une image est représenté comme un Tensor Pytorch."
   ]
  },
  {
   "cell_type": "code",
   "execution_count": 568,
   "metadata": {},
   "outputs": [
    {
     "name": "stdout",
     "output_type": "stream",
     "text": [
      "Dataset MNIST\n",
      "    Number of datapoints: 60000\n",
      "    Root location: ./resources\n",
      "    Split: Train\n",
      "Dataset MNIST\n",
      "    Number of datapoints: 10000\n",
      "    Root location: ./resources\n",
      "    Split: Test\n",
      "torch.Size([28, 28])\n"
     ]
    }
   ],
   "source": [
    "# Afficher un datapoint de votre dataset d'apprentissage, sa forme, le type des données, les valeurs min et max. \n",
    "# Que représente les valeurs du Tensor à votre avis?\n",
    "print(downloaded_train)\n",
    "print(downloaded_test)\n",
    "print(downloaded_train.data[10].shape)"
   ]
  },
  {
   "cell_type": "code",
   "execution_count": 569,
   "metadata": {},
   "outputs": [
    {
     "data": {
      "text/plain": [
       "tensor(0, dtype=torch.uint8)"
      ]
     },
     "execution_count": 569,
     "metadata": {},
     "output_type": "execute_result"
    }
   ],
   "source": [
    "torch.min(downloaded_train.data)"
   ]
  },
  {
   "cell_type": "code",
   "execution_count": 570,
   "metadata": {},
   "outputs": [
    {
     "data": {
      "text/plain": [
       "tensor(255, dtype=torch.uint8)"
      ]
     },
     "execution_count": 570,
     "metadata": {},
     "output_type": "execute_result"
    }
   ],
   "source": [
    "torch.max(data_train.data)"
   ]
  },
  {
   "cell_type": "code",
   "execution_count": 571,
   "metadata": {
    "scrolled": true
   },
   "outputs": [
    {
     "data": {
      "text/plain": [
       "['CenterCrop',\n",
       " 'ColorJitter',\n",
       " 'Compose',\n",
       " 'ConvertImageDtype',\n",
       " 'FiveCrop',\n",
       " 'GaussianBlur',\n",
       " 'Grayscale',\n",
       " 'Lambda',\n",
       " 'LinearTransformation',\n",
       " 'Normalize',\n",
       " 'PILToTensor',\n",
       " 'Pad',\n",
       " 'RandomAffine',\n",
       " 'RandomApply',\n",
       " 'RandomChoice',\n",
       " 'RandomCrop',\n",
       " 'RandomErasing',\n",
       " 'RandomGrayscale',\n",
       " 'RandomHorizontalFlip',\n",
       " 'RandomOrder',\n",
       " 'RandomPerspective',\n",
       " 'RandomResizedCrop',\n",
       " 'RandomRotation',\n",
       " 'RandomSizedCrop',\n",
       " 'RandomVerticalFlip',\n",
       " 'Resize',\n",
       " 'Scale',\n",
       " 'TenCrop',\n",
       " 'ToPILImage',\n",
       " 'ToTensor',\n",
       " '__builtins__',\n",
       " '__cached__',\n",
       " '__doc__',\n",
       " '__file__',\n",
       " '__loader__',\n",
       " '__name__',\n",
       " '__package__',\n",
       " '__path__',\n",
       " '__spec__',\n",
       " 'functional',\n",
       " 'functional_pil',\n",
       " 'functional_tensor',\n",
       " 'transforms']"
      ]
     },
     "execution_count": 571,
     "metadata": {},
     "output_type": "execute_result"
    }
   ],
   "source": [
    "from torchvision import transforms\n",
    "dir(transforms)"
   ]
  },
  {
   "cell_type": "markdown",
   "metadata": {},
   "source": [
    "<br></br>\n",
    "#### 1.2.  Afficher les images avec leurs labels"
   ]
  },
  {
   "cell_type": "markdown",
   "metadata": {},
   "source": [
    "Nous utiliserons imshow de matplotlib pour afficher un échantillon des données. Pensez à également afficher le label correspondant à chaque image en utilisant l'attribut targets votre objet MNIST dataset. "
   ]
  },
  {
   "cell_type": "code",
   "execution_count": 572,
   "metadata": {},
   "outputs": [],
   "source": [
    "import matplotlib.pyplot as plt"
   ]
  },
  {
   "cell_type": "code",
   "execution_count": 573,
   "metadata": {},
   "outputs": [
    {
     "data": {
      "text/plain": [
       "Text(0.5, 1.0, '9')"
      ]
     },
     "execution_count": 573,
     "metadata": {},
     "output_type": "execute_result"
    },
    {
     "data": {
      "image/png": "[encoded data removed]",
      "text/plain": [
       "<Figure size 432x288 with 1 Axes>"
      ]
     },
     "metadata": {
      "needs_background": "light"
     },
     "output_type": "display_data"
    }
   ],
   "source": [
    "# Afficher un échantillon des images du dataset d'apprentissage avec leurs labels respectifs \n",
    "\n",
    "plt.imshow(downloaded_train.data[4], cmap=\"gray\")\n",
    "plt.title(downloaded_train.targets[4].item())"
   ]
  },
  {
   "cell_type": "markdown",
   "metadata": {},
   "source": [
    "<br></br>\n",
    "#### 1.3.  Préparer les données"
   ]
  },
  {
   "cell_type": "markdown",
   "metadata": {},
   "source": [
    "\n",
    "**Créer un dataset de validation**\n",
    "\n",
    "Notre dataset contient les données d'apprentissage et de test, nous aurons également besoin d'un dataset de validation. Pour ce faire, nous allons diviser notre dataset d'apprentissage de manière à dédier **10.000** data point à la validation. \n",
    "\n",
    "Nous utiliserons la librairie scikit learn qui contient une fonction permettant de diviser les données d'une manière très efficace. Pour plus de détails, voir: https://scikit-learn.org/stable/modules/generated/sklearn.model_selection.train_test_split.html"
   ]
  },
  {
   "cell_type": "code",
   "execution_count": 574,
   "metadata": {},
   "outputs": [],
   "source": [
    "# Importer la fonction de splitting des données de scikit learn\n",
    "from sklearn.model_selection import train_test_split"
   ]
  },
  {
   "cell_type": "code",
   "execution_count": 575,
   "metadata": {},
   "outputs": [],
   "source": [
    "# Créer 4 tensors en résultat du splitting: données d'apprentissage, données de validation, labels d'apprentissage, et labels de validation  \n",
    "train_data, validation_data, train_targets, validation_targets = train_test_split(downloaded_train.data, downloaded_train.targets, test_size=10000)"
   ]
  },
  {
   "cell_type": "code",
   "execution_count": 576,
   "metadata": {},
   "outputs": [],
   "source": [
    "# Récupérer les labels de test à partir de votre sous-dataset de test\n",
    "test_data = downloaded_test.data\n",
    "test_targets = downloaded_test.targets"
   ]
  },
  {
   "cell_type": "markdown",
   "metadata": {},
   "source": [
    "<br> Vous devez maintenant avoir 6 tensors, un pour les données et l'autre pour les labels et ce pour l'apprentissage, le test, et la validation. "
   ]
  },
  {
   "cell_type": "code",
   "execution_count": 577,
   "metadata": {},
   "outputs": [
    {
     "name": "stdout",
     "output_type": "stream",
     "text": [
      "torch.Size([50000, 28, 28]) torch.Size([50000])\n",
      "torch.Size([10000, 28, 28]) torch.Size([10000])\n",
      "torch.Size([10000])\n"
     ]
    }
   ],
   "source": [
    "# Afficher la taille de chaque tensor\n",
    "print(train_data.shape, train_targets.shape)\n",
    "print(validation_data.shape, validation_targets.shape)\n",
    "print(test_targets.shape)\n"
   ]
  },
  {
   "cell_type": "markdown",
   "metadata": {},
   "source": [
    "<br></br>\n",
    "**Normaliser les données**\n",
    "\n",
    "Il est souvent recommandé de normaliser les données avant d'alimenter le NN pour améliorer sa performance. On peut facilement redimensionner à l'intervalle [0,1] les valeurs de nos données en utilisant la moyenne et la déviation standard suivant cette formule: $$(Data - Mean) / standard Deviation$$\n",
    "\n",
    "Comme \"thumb rule\", on normalise les données de test et de validation en utilisant la moyenne et la déviation des données d'apprentissage. Le raisonnement étant que les données test et validation sont indisponibles au moment de la création du NN.   \n",
    "\n",
    "Après normalisation, le mean devrait être 0 et standard deviation à 1 (ou très proche resp. de 0 et 1).\n",
    "\n",
    "N.B. Il faudra convertir les valeurs de vos tensors en float. "
   ]
  },
  {
   "cell_type": "code",
   "execution_count": 578,
   "metadata": {},
   "outputs": [],
   "source": [
    "# Convertir les valeurs des tensors en float\n",
    "train_data = train_data.float()\n",
    "test_data = test_data.float()\n",
    "validation_data = validation_data.float()\n"
   ]
  },
  {
   "cell_type": "code",
   "execution_count": 579,
   "metadata": {},
   "outputs": [],
   "source": [
    "# Stocker dans des variables la moyenne et la déviation standard des données d'apprentissage \n",
    "mean_train = torch.mean(train_data)\n",
    "std_train = torch.std(train_data)"
   ]
  },
  {
   "cell_type": "code",
   "execution_count": 580,
   "metadata": {},
   "outputs": [],
   "source": [
    "# Normaliser les données d'apprentissage, de test, et de validation par ces valeurs\n",
    "train_data = (train_data - mean_train)/std_train\n",
    "test_data = (test_data - mean_train)/std_train\n",
    "validation_data = (validation_data - mean_train)/std_train\n",
    "\n"
   ]
  },
  {
   "cell_type": "code",
   "execution_count": 581,
   "metadata": {},
   "outputs": [
    {
     "name": "stdout",
     "output_type": "stream",
     "text": [
      "tensor(-4.2693e-09) tensor(1.0000)\n",
      "tensor(0.0065) tensor(1.0083)\n",
      "tensor(0.0029) tensor(1.0033)\n"
     ]
    }
   ],
   "source": [
    "# Afficher la moyenne et la déviation standard de chaque dataset\n",
    "print(train_data.mean(), train_data.std())\n",
    "print(test_data.mean(),test_data.std())\n",
    "print(validation_data.mean(), validation_data.std())\n",
    "\n",
    "\n"
   ]
  },
  {
   "cell_type": "markdown",
   "metadata": {},
   "source": [
    "<br></br>\n",
    "#### 1.4. Création de Pytorch Dataset\n",
    "\n",
    "Notre Pipeline devrait commencer par le chargement des données dans le NN. Pytorch fournit un ensemble d'outils facilitant et optimisant cette tâche. La classe **Dataset** permet de créer, sur la base de nos données, un dataset personalisé qui pourra être utilisé par la suite par la fonction built-in **DataLoader** afin d'alimenter les données lors de l'entraînement du NN. Dataset fournit un accès uniforme à nos données. DataLoader joue le rôle d'un data feeder en créant les batches de données qui fournissent au réseau de neuronne un échantillon de donnée à chaque itération.\n",
    "\n",
    "Documentation classe Dataset: https://pytorch.org/docs/stable/data.html#torch.utils.data.Dataset\n",
    "\n",
    "Afin de créer notre Pytorch Dataset personalisé, nous allons hériter de la classe Dataset et redéfinir les fonctions suivantes:\n",
    "*   \\_\\_init__(self, data, targets): constructeur qui assignera les valeurs des attributs data et targets à l'objet une fois instancié\n",
    "*   \\_\\_getitem__(self, idx) : permet de récupérer l'item à l'index idx. Utile pour éviter de charger la totalité du Dataset en mémoire (s'il est volumineux, on précise le chemin dans  \\_\\_init__), \n",
    "*   \\_\\_len__(self) : retroune la longeur de notre vecteur target"
   ]
  },
  {
   "cell_type": "code",
   "execution_count": 582,
   "metadata": {},
   "outputs": [],
   "source": [
    "# Importer Dataset de torch.utils.data\n",
    "from torch.utils.data import Dataset"
   ]
  },
  {
   "cell_type": "code",
   "execution_count": 583,
   "metadata": {},
   "outputs": [],
   "source": [
    "# Créer une classe qui hérite de Dataset et redéfinit les méthodes comme susmentionné\n",
    "class MyDataset(Dataset):\n",
    "    def __init__(self, data, targets):\n",
    "        super(MyDataset, self)\n",
    "        self.data = data\n",
    "        self.targets = targets\n",
    "    def __getitem__(self, idx):\n",
    "        return self.data[idx], self.targets[idx]\n",
    "    def __len__(self):\n",
    "        return len(self.targets)\n",
    "    \n",
    "        \n"
   ]
  },
  {
   "cell_type": "markdown",
   "metadata": {},
   "source": [
    "<br> Nous allons instancier 3 objets (à partir de votre classe personnalisée) pour les données et targets de l'apprentissage, test et validation."
   ]
  },
  {
   "cell_type": "code",
   "execution_count": 584,
   "metadata": {},
   "outputs": [],
   "source": [
    "# Créer les 3 objets en instantiant votre classe\n",
    "train_dataset = MyDataset(train_data, train_targets)\n",
    "test_dataset = MyDataset(test_data, test_targets)\n",
    "validation_dataset = MyDataset(validation_data, validation_targets)\n",
    "\n"
   ]
  },
  {
   "cell_type": "code",
   "execution_count": 585,
   "metadata": {},
   "outputs": [],
   "source": [
    "# Importer DataLoader de torch.utils.data\n",
    "from torch.utils.data import DataLoader"
   ]
  },
  {
   "cell_type": "markdown",
   "metadata": {},
   "source": [
    "<br> DataLoader aide pour l'échantillonage et l'organisation de nos données en mini-batches. A chaque itération d'apprentissage (epoch), le DataLoader fait un shuffling des données avant de les passer au NN. DataLoader prend le dataset et la taille du batch comme argument. On mettra pour l'instant une taille de 64.   "
   ]
  },
  {
   "cell_type": "code",
   "execution_count": 586,
   "metadata": {},
   "outputs": [],
   "source": [
    "# Créer une variable pour la taille du batch\n",
    "batch_size = 64"
   ]
  },
  {
   "cell_type": "code",
   "execution_count": 587,
   "metadata": {},
   "outputs": [],
   "source": [
    "# Créer les objets DataLoader pour vos datasets d'apprentissage, test et validation en lui donner la taille du batch convenue\n",
    "\n",
    "train_DL = DataLoader(train_dataset, batch_size=batch_size, shuffle=True)\n",
    "test_DL = DataLoader(test_dataset, batch_size=batch_size, shuffle=False)\n",
    "validation_DL = DataLoader(validation_dataset, batch_size=batch_size, shuffle=False)\n"
   ]
  },
  {
   "cell_type": "code",
   "execution_count": 588,
   "metadata": {},
   "outputs": [
    {
     "data": {
      "text/plain": [
       "782"
      ]
     },
     "execution_count": 588,
     "metadata": {},
     "output_type": "execute_result"
    }
   ],
   "source": [
    "# Quelle est la taille de vos objets dataLoader? Comment expliquer ces résultats?\n",
    "len(train_DL) #50000/64 nbres des batches"
   ]
  },
  {
   "cell_type": "markdown",
   "metadata": {},
   "source": [
    "<br></br>\n",
    "### 2. Créer le réseau de neurones"
   ]
  },
  {
   "cell_type": "markdown",
   "metadata": {},
   "source": [
    "Pytorch fournit le module nn qui comprend les classes représentant les briques de base pour construire un réseau de neurones. Il y a maintes manières de créer un NN sur Pytorch, nous allons explorer quelques unes."
   ]
  },
  {
   "cell_type": "code",
   "execution_count": 589,
   "metadata": {},
   "outputs": [],
   "source": [
    "# Importer le module nn\n",
    "import torch.nn as nn"
   ]
  },
  {
   "cell_type": "markdown",
   "metadata": {},
   "source": [
    "<br> Pytorch permet de concaténer des classes de notre choix pour la création de notre NN, et ce grâce à nn.Sequential(). Cette méthode prend les données en input, et se charge de faire passer les outputs intermédiaires aux modules suivants, puis produit l'output du dernier module.\n",
    "\n",
    "Pour notre NN, nous allons créer une architecture composée de:\n",
    "\n",
    "1. Input Layer: Nos images ont une taille 28 x 28. On va essayer de réduire la taille en 64\n",
    "2. Fonction d'activation: ReLu\n",
    "3. Hidden Layer: applique une transformation linéaire sur les données en input, et réduit leur dimension en 32\n",
    "4. Fonction d'activation: ReLu\n",
    "5. Output Layer: applique une transformation linéaire sur les données en input, et réduit leur dimension en 10 (Nombre de classes)\n",
    "\n",
    "Le choix que nous venons de faire des nombres des neurones dans hidden Layer est aléatoire. "
   ]
  },
  {
   "cell_type": "code",
   "execution_count": 590,
   "metadata": {},
   "outputs": [],
   "source": [
    "# En utilisant Sequential(), créer un modèle avec l'architecture susmentionnée\n",
    "layers = []\n",
    "layers.append(nn.Linear(784, 64))\n",
    "layers.append(nn.ReLU())\n",
    "layers.append(nn.Linear(64, 32))\n",
    "layers.append(nn.ReLU())\n",
    "layers.append(nn.Linear(32, 10))\n",
    "\n",
    "net = nn.Sequential(*layers)\n"
   ]
  },
  {
   "cell_type": "code",
   "execution_count": 591,
   "metadata": {},
   "outputs": [
    {
     "data": {
      "text/plain": [
       "52650"
      ]
     },
     "execution_count": 591,
     "metadata": {},
     "output_type": "execute_result"
    }
   ],
   "source": [
    "# Afficher le nombre de paramètres qui seront entraînés par le NN créé. Pourquoi ce chiffre?\n",
    "pytorch_total_params = sum(p.numel() for p in net.parameters() if p.requires_grad)\n",
    "pytorch_total_params"
   ]
  },
  {
   "cell_type": "markdown",
   "metadata": {},
   "source": [
    "<br> Sequential est une fonction standard de Pytorch. Elle n'offre pas assez de marge de personalisation. C'est pour autant qu'on a tendance à créer nos propres classe de réseaux de neurones, en héritant de la classe nn.Module et en redéfinissant ses méthodes.\n",
    "\n",
    "La création de notre Classe réseau de neurones se fera en héritant de nn.Module et en redéfinissant:\n",
    "1. La méthode \\_\\_init__ où on initialise les couches à utiliser (on suivra la même architecture que le premier NN)\n",
    "2. La méthode forward où on spécifie les connexions entre les couches. Cela permet de préciser les opérations qu'on appliquera sur les données à chaque passe (et leur passage de l'input, hidden, à l'output layer).\n",
    "\n",
    "\n",
    "Dans la fonction forward, on utilisera le module **torch.nn.Functional** qui contient un ensemble de fonctions utiles comme les fonctions d'activation... Vous pouvez voir un exemple de définition d'un NN personalisé sur la documentation de pytorch: https://pytorch.org/tutorials/beginner/examples_nn/two_layer_net_module.html"
   ]
  },
  {
   "cell_type": "code",
   "execution_count": 592,
   "metadata": {},
   "outputs": [],
   "source": [
    "# Importer torch.nn.functional\n",
    "import torch.nn.functional as F"
   ]
  },
  {
   "cell_type": "code",
   "execution_count": 593,
   "metadata": {
    "colab": {},
    "colab_type": "code",
    "id": "MsXCHwP7RP0b"
   },
   "outputs": [],
   "source": [
    "# Créer une classe qui hérite de nn.Module et redéfinir le constructeur ainsi que la méthode forward\n",
    "class Net (nn.Module):\n",
    "    def __init__ (self):\n",
    "        super().__init__()\n",
    "        self.fc1 = nn.Linear(28*28, 64)\n",
    "        self.fc2 = nn.Linear(64, 32)\n",
    "        self.fc3 = nn.Linear(32, 10)\n",
    "    def forward(self, x):\n",
    "        x = F.relu(self.fc1(x))\n",
    "        x = F.relu(self.fc2(x))\n",
    "        x = self.fc3(x)\n",
    "        return F.log_softmax(x, dim=1)     \n"
   ]
  },
  {
   "cell_type": "code",
   "execution_count": 594,
   "metadata": {},
   "outputs": [],
   "source": [
    "# Instancier votre NN\n",
    "net = Net()"
   ]
  },
  {
   "cell_type": "code",
   "execution_count": 595,
   "metadata": {},
   "outputs": [
    {
     "data": {
      "text/plain": [
       "52650"
      ]
     },
     "execution_count": 595,
     "metadata": {},
     "output_type": "execute_result"
    }
   ],
   "source": [
    "# Vérifier que vous avez le même nombre de paramètres que le premier NN\n",
    "pytorch_total_params = sum(p.numel() for p in net.parameters() if p.requires_grad)\n",
    "pytorch_total_params\n"
   ]
  },
  {
   "cell_type": "markdown",
   "metadata": {},
   "source": [
    "<br></br>\n",
    "### 3. Entraîner le réseau de neuronne\n",
    "\n",
    "Maintenant que nous avons notre réseau de neurones, on devra commencer à l'entraîner. La boucle d'apprentissage est le processus qui permettra à notre réseau de neurones d'apprendre à partir des données input et d'ajuster les poids du NN selon les résultats de la fonction Loss. Pour implémenter notre boucle d'apprentissage sur Pytorch, nous avons besoin de:\n",
    "\n",
    "1. Préciser un nombre d'itération pour l'apprentissage (epochs)\n",
    "2. Définir notre fonction coût\n",
    "3. Choisir l'optimiseur qui permettra d'optimiser le coût\n",
    "\n",
    "    \n",
    "Notre boucle d'apprentissage se fera selon le nombre des epochs défini, et devra comporter: \n",
    "1. Une boucle sur les données d'entraînement via DataLoader (minibatch): Alimenter les données dans le NN, Calculer le coût, et faire la backpropagation. \n",
    "2. Une boucle sur les données de validation via DataLoader:  Alimenter les données dans le NN, Calculer le coût, calculer un score de précision du modèle (on va définir un score simple qui indique le nombre de prévisions correctes).\n",
    "\n",
    "Une bonne pratique est d'afficher les valeurs de coût et de précision pour chaque epoch."
   ]
  },
  {
   "cell_type": "code",
   "execution_count": 596,
   "metadata": {},
   "outputs": [],
   "source": [
    "# Définir la fonction du coût. On peut choisir CrossEntropyLoss\n",
    "loss = nn.CrossEntropyLoss()\n",
    "input = torch.randn(3, 5, requires_grad=True)\n",
    "target = torch.empty(3, dtype=torch.long).random_(5)\n",
    "output = loss(input, target)\n",
    "output.backward()"
   ]
  },
  {
   "cell_type": "code",
   "execution_count": 597,
   "metadata": {},
   "outputs": [],
   "source": [
    "# Définir une fonction d'optimisation des coût: Adam par exemple. On devra définir un learning rate. On choisira 0.001.\n",
    "import torch.optim as optim\n",
    "\n",
    "optimizer = optim.Adam(net.parameters(), lr=0.001)"
   ]
  },
  {
   "cell_type": "code",
   "execution_count": 598,
   "metadata": {},
   "outputs": [],
   "source": [
    "# Définir le nombre d'epochs. Commencer petit. \n",
    "ep = 4"
   ]
  },
  {
   "cell_type": "code",
   "execution_count": 599,
   "metadata": {},
   "outputs": [
    {
     "name": "stdout",
     "output_type": "stream",
     "text": [
      "tensor(0.0176, grad_fn=<NllLossBackward>)\n",
      "Accuracy:  0.961\n"
     ]
    }
   ],
   "source": [
    "# boucle d'apprentissage:\n",
    "for epoch in range(ep):\n",
    "    for data in train_DL:\n",
    "        feature, label = data\n",
    "        net.zero_grad()\n",
    "        output = net(feature.view(-1, 28*28))\n",
    "        loss = F.nll_loss(output, label)\n",
    "        loss.backward()\n",
    "        optimizer.step()\n",
    "print(loss)\n",
    "\n",
    "# boucle de validation:\n",
    "correct = 0\n",
    "total = 0\n",
    "with torch.no_grad():\n",
    "    for data in validation_DL:\n",
    "        feature, label = data\n",
    "        output = net(feature.view(-1, 28*28))\n",
    "        for idx, i in enumerate(output):\n",
    "            if torch.argmax(i) == label[idx]:\n",
    "                correct += 1\n",
    "            total += 1\n",
    "print(\"Accuracy: \", round(correct/total, 3))\n",
    "        \n",
    "        "
   ]
  },
  {
   "cell_type": "markdown",
   "metadata": {},
   "source": [
    "<br></br>\n",
    "### 4. Tester le modèle"
   ]
  },
  {
   "cell_type": "markdown",
   "metadata": {},
   "source": [
    "<br> Tester notre modèle revient à calculer la précision de la même manière que nous avons fait tout à l'heure, mais sur les données test."
   ]
  },
  {
   "cell_type": "code",
   "execution_count": 600,
   "metadata": {},
   "outputs": [
    {
     "name": "stdout",
     "output_type": "stream",
     "text": [
      "Accuracy:  0.961\n"
     ]
    }
   ],
   "source": [
    "# boucle de test:\n",
    "correct = 0\n",
    "total = 0\n",
    "with torch.no_grad():\n",
    "    for data in validation_DL:\n",
    "        feature, label = data\n",
    "        output = net(feature.view(-1, 28*28))\n",
    "        for idx, i in enumerate(output):\n",
    "            if torch.argmax(i) == label[idx]:\n",
    "                correct += 1\n",
    "            total += 1\n",
    "print(\"Accuracy: \", round(correct/total, 3))\n",
    "        \n"
   ]
  },
  {
   "cell_type": "code",
   "execution_count": 601,
   "metadata": {},
   "outputs": [
    {
     "data": {
      "image/png": "[encoded data removed]",
      "text/plain": [
       "<Figure size 432x288 with 1 Axes>"
      ]
     },
     "metadata": {
      "needs_background": "light"
     },
     "output_type": "display_data"
    }
   ],
   "source": [
    "import matplotlib.pyplot as plt\n",
    "plt.imshow(feature[0].view(28,28))\n",
    "plt.title(torch.argmax(net(feature[0].view(-1, 28*28))))\n",
    "plt.show()"
   ]
  },
  {
   "cell_type": "markdown",
   "metadata": {},
   "source": [
    "BY BENDER & BENHIMA"
   ]
  }
 ],
 "metadata": {
  "colab": {
   "collapsed_sections": [
    "oLSMwg84dHjf"
   ],
   "name": "Coding AI - Intro to PyTorch - Skeleton.ipynb",
   "provenance": []
  },
  "kernelspec": {
   "display_name": "Python 3",
   "language": "python",
   "name": "python3"
  },
  "language_info": {
   "codemirror_mode": {
    "name": "ipython",
    "version": 3
   },
   "file_extension": ".py",
   "mimetype": "text/x-python",
   "name": "python",
   "nbconvert_exporter": "python",
   "pygments_lexer": "ipython3",
   "version": "3.8.5"
  }
 },
 "nbformat": 4,
 "nbformat_minor": 4
}
